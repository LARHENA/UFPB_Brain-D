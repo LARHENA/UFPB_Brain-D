{
 "cells": [
  {
   "cell_type": "code",
   "execution_count": 19,
   "id": "40c8c716",
   "metadata": {},
   "outputs": [],
   "source": [
    "%config Completer.use_jedi = False"
   ]
  },
  {
   "cell_type": "code",
   "execution_count": 20,
   "id": "d6869502",
   "metadata": {},
   "outputs": [],
   "source": [
    "import pandas as pd\n",
    "from datetime import datetime\n",
    "import glob"
   ]
  },
  {
   "cell_type": "code",
   "execution_count": 21,
   "id": "f2f7c26b",
   "metadata": {},
   "outputs": [
    {
     "name": "stdout",
     "output_type": "stream",
     "text": [
      "C:/Users/linde/OneDrive/Hidroweb/Consolidated Files/NetCDF/IDW/\n"
     ]
    }
   ],
   "source": [
    "# Caminhos dos diretórios raiz\n",
    "# general_path = 'C:/Users/cnalm/OneDrive/Hidroweb'\n",
    "# general_path = 'D:/Dados_Nuvem/OneDrive/Hidroweb'\n",
    "general_path = 'C:/Users/linde/OneDrive/Hidroweb'\n",
    "idw_path = general_path + '/Consolidated Files/NetCDF/IDW/'\n",
    "print(idw_path)"
   ]
  },
  {
   "cell_type": "code",
   "execution_count": 22,
   "id": "222a77fe",
   "metadata": {},
   "outputs": [
    {
     "data": {
      "text/html": [
       "<div>\n",
       "<style scoped>\n",
       "    .dataframe tbody tr th:only-of-type {\n",
       "        vertical-align: middle;\n",
       "    }\n",
       "\n",
       "    .dataframe tbody tr th {\n",
       "        vertical-align: top;\n",
       "    }\n",
       "\n",
       "    .dataframe thead th {\n",
       "        text-align: right;\n",
       "    }\n",
       "</style>\n",
       "<table border=\"1\" class=\"dataframe\">\n",
       "  <thead>\n",
       "    <tr style=\"text-align: right;\">\n",
       "      <th></th>\n",
       "      <th>Date</th>\n",
       "      <th>Flag</th>\n",
       "    </tr>\n",
       "  </thead>\n",
       "  <tbody>\n",
       "    <tr>\n",
       "      <th>0</th>\n",
       "      <td>1961-01-01</td>\n",
       "      <td>1</td>\n",
       "    </tr>\n",
       "    <tr>\n",
       "      <th>1</th>\n",
       "      <td>1961-01-02</td>\n",
       "      <td>1</td>\n",
       "    </tr>\n",
       "    <tr>\n",
       "      <th>2</th>\n",
       "      <td>1961-01-03</td>\n",
       "      <td>1</td>\n",
       "    </tr>\n",
       "    <tr>\n",
       "      <th>3</th>\n",
       "      <td>1961-01-04</td>\n",
       "      <td>1</td>\n",
       "    </tr>\n",
       "    <tr>\n",
       "      <th>4</th>\n",
       "      <td>1961-01-05</td>\n",
       "      <td>1</td>\n",
       "    </tr>\n",
       "    <tr>\n",
       "      <th>...</th>\n",
       "      <td>...</td>\n",
       "      <td>...</td>\n",
       "    </tr>\n",
       "    <tr>\n",
       "      <th>21910</th>\n",
       "      <td>2020-12-27</td>\n",
       "      <td>1</td>\n",
       "    </tr>\n",
       "    <tr>\n",
       "      <th>21911</th>\n",
       "      <td>2020-12-28</td>\n",
       "      <td>1</td>\n",
       "    </tr>\n",
       "    <tr>\n",
       "      <th>21912</th>\n",
       "      <td>2020-12-29</td>\n",
       "      <td>1</td>\n",
       "    </tr>\n",
       "    <tr>\n",
       "      <th>21913</th>\n",
       "      <td>2020-12-30</td>\n",
       "      <td>1</td>\n",
       "    </tr>\n",
       "    <tr>\n",
       "      <th>21914</th>\n",
       "      <td>2020-12-31</td>\n",
       "      <td>1</td>\n",
       "    </tr>\n",
       "  </tbody>\n",
       "</table>\n",
       "<p>21915 rows × 2 columns</p>\n",
       "</div>"
      ],
      "text/plain": [
       "            Date  Flag\n",
       "0     1961-01-01     1\n",
       "1     1961-01-02     1\n",
       "2     1961-01-03     1\n",
       "3     1961-01-04     1\n",
       "4     1961-01-05     1\n",
       "...          ...   ...\n",
       "21910 2020-12-27     1\n",
       "21911 2020-12-28     1\n",
       "21912 2020-12-29     1\n",
       "21913 2020-12-30     1\n",
       "21914 2020-12-31     1\n",
       "\n",
       "[21915 rows x 2 columns]"
      ]
     },
     "execution_count": 22,
     "metadata": {},
     "output_type": "execute_result"
    }
   ],
   "source": [
    "all_files = glob.glob(idw_path + \"*.nc\")\n",
    "total_length = len(all_files)\n",
    "count = 0\n",
    "date_list_processed = []\n",
    "for filename in all_files:\n",
    "    date_processed = datetime.strptime(filename[-13:-3], \"%Y-%m-%d\").date()\n",
    "    date_list_processed.append(date_processed)\n",
    "df_date_list_processed = pd.DataFrame(date_list_processed, columns=['Date'])\n",
    "df_date_list_processed['Date'] = pd.to_datetime(df_date_list_processed['Date'])\n",
    "df_date_list_processed['Flag'] = 1\n",
    "df_date_list_processed"
   ]
  },
  {
   "cell_type": "code",
   "execution_count": 23,
   "id": "15eac71a",
   "metadata": {},
   "outputs": [
    {
     "data": {
      "text/plain": [
       "Date    datetime64[ns]\n",
       "dtype: object"
      ]
     },
     "execution_count": 23,
     "metadata": {},
     "output_type": "execute_result"
    }
   ],
   "source": [
    "# Generate a date range\n",
    "start_date = \"1961-01-01\"\n",
    "end_date = \"2020-12-31\"\n",
    "date_range = pd.date_range(start=start_date, end=end_date, freq='D')\n",
    "\n",
    "# Create a DataFrame with the date range\n",
    "df_date_range = pd.DataFrame({'Date': date_range})\n",
    "df_date_range['Date'] = pd.to_datetime(df_date_range['Date'])\n",
    "# Display the DataFrame\n",
    "df_date_range.dtypes"
   ]
  },
  {
   "cell_type": "code",
   "execution_count": 24,
   "id": "5a0d56d5",
   "metadata": {},
   "outputs": [
    {
     "data": {
      "text/html": [
       "<div>\n",
       "<style scoped>\n",
       "    .dataframe tbody tr th:only-of-type {\n",
       "        vertical-align: middle;\n",
       "    }\n",
       "\n",
       "    .dataframe tbody tr th {\n",
       "        vertical-align: top;\n",
       "    }\n",
       "\n",
       "    .dataframe thead th {\n",
       "        text-align: right;\n",
       "    }\n",
       "</style>\n",
       "<table border=\"1\" class=\"dataframe\">\n",
       "  <thead>\n",
       "    <tr style=\"text-align: right;\">\n",
       "      <th></th>\n",
       "      <th>Date</th>\n",
       "      <th>Flag</th>\n",
       "    </tr>\n",
       "  </thead>\n",
       "  <tbody>\n",
       "  </tbody>\n",
       "</table>\n",
       "</div>"
      ],
      "text/plain": [
       "Empty DataFrame\n",
       "Columns: [Date, Flag]\n",
       "Index: []"
      ]
     },
     "execution_count": 24,
     "metadata": {},
     "output_type": "execute_result"
    }
   ],
   "source": [
    "df_merge = pd.merge(df_date_range, df_date_list_processed, how='left', on='Date')\n",
    "df_merge = df_merge[df_merge['Flag'] != 1.0]\n",
    "df_merge"
   ]
  }
 ],
 "metadata": {
  "kernelspec": {
   "display_name": "Python 3 (ipykernel)",
   "language": "python",
   "name": "python3"
  },
  "language_info": {
   "codemirror_mode": {
    "name": "ipython",
    "version": 3
   },
   "file_extension": ".py",
   "mimetype": "text/x-python",
   "name": "python",
   "nbconvert_exporter": "python",
   "pygments_lexer": "ipython3",
   "version": "3.11.5"
  }
 },
 "nbformat": 4,
 "nbformat_minor": 5
}
