{
 "cells": [
  {
   "cell_type": "code",
   "execution_count": 1,
   "id": "f0bf2135",
   "metadata": {},
   "outputs": [],
   "source": [
    "%config Completer.use_jedi = False"
   ]
  },
  {
   "cell_type": "code",
   "execution_count": 1,
   "id": "44f9607b",
   "metadata": {},
   "outputs": [],
   "source": [
    "import pandas as pd\n",
    "import glob"
   ]
  },
  {
   "cell_type": "code",
   "execution_count": 2,
   "id": "673bd613",
   "metadata": {},
   "outputs": [],
   "source": [
    "# Caminhos dos diretórios raiz                                                                                                                                                                                                                                                                                                                                                                                                                                                                                                                                                                                                                                                                                                                                                                                                                                                                                                                                                                                        \n",
    "# general_path = 'C:/Users/cnalm/OneDrive/Hidroweb'    # Caminho do projeto (Cristiano)\n",
    "general_path = 'D:/Dados_Nuvem/OneDrive/Hidroweb'   # Colocar aqui o caminho de Filipe\n",
    "#general_path = 'C:/Users/linde/OneDrive/Hidroweb'   # Colocar aqui o caminho de Lindemberg"
   ]
  },
  {
   "cell_type": "markdown",
   "id": "6ee0de0a",
   "metadata": {},
   "source": [
    "### Reading hdf files ###"
   ]
  },
  {
   "cell_type": "code",
   "execution_count": 3,
   "id": "7824f513",
   "metadata": {},
   "outputs": [
    {
     "name": "stdout",
     "output_type": "stream",
     "text": [
      "File 1 | D:/Dados_Nuvem/OneDrive/Hidroweb/Temp\\BRASIL_RAW_SUMMARY_0.h5\n",
      "File 2 | D:/Dados_Nuvem/OneDrive/Hidroweb/Temp\\BRASIL_RAW_SUMMARY_1.h5\n",
      "File 3 | D:/Dados_Nuvem/OneDrive/Hidroweb/Temp\\BRASIL_RAW_SUMMARY_2.h5\n",
      "File 4 | D:/Dados_Nuvem/OneDrive/Hidroweb/Temp\\BRASIL_RAW_SUMMARY_3.h5\n",
      "File 5 | D:/Dados_Nuvem/OneDrive/Hidroweb/Temp\\BRASIL_RAW_SUMMARY_4.h5\n",
      "File 6 | D:/Dados_Nuvem/OneDrive/Hidroweb/Temp\\BRASIL_RAW_SUMMARY_5.h5\n",
      "File 7 | D:/Dados_Nuvem/OneDrive/Hidroweb/Temp\\BRASIL_RAW_SUMMARY_6.h5\n",
      "File 8 | D:/Dados_Nuvem/OneDrive/Hidroweb/Temp\\BRASIL_RAW_SUMMARY_7.h5\n",
      "File 9 | D:/Dados_Nuvem/OneDrive/Hidroweb/Temp\\BRASIL_RAW_SUMMARY_8.h5\n",
      "File 10 | D:/Dados_Nuvem/OneDrive/Hidroweb/Temp\\BRASIL_RAW_SUMMARY_9.h5\n",
      "10 files are loaded\n"
     ]
    }
   ],
   "source": [
    "all_files = glob.glob(general_path + '/Temp/*.h5')\n",
    "count = 0\n",
    "for filename in all_files:\n",
    "    df = pd.read_hdf(filename)\n",
    "    if count == 0:\n",
    "        df_total = df.copy(deep = True)\n",
    "    else:\n",
    "        df_total = pd.concat([df_total, df], ignore_index = True)\n",
    "    count = count + 1\n",
    "    print(\"File\", count, \"|\", filename)\n",
    "print(count, \"files are loaded\")"
   ]
  },
  {
   "cell_type": "code",
   "execution_count": 4,
   "id": "85a7ce7a",
   "metadata": {},
   "outputs": [
    {
     "name": "stdout",
     "output_type": "stream",
     "text": [
      "2010\n",
      "2011\n",
      "2012\n",
      "2013\n",
      "2014\n",
      "2015\n",
      "2016\n",
      "2017\n",
      "2018\n",
      "2019\n",
      "2020\n"
     ]
    }
   ],
   "source": [
    "for year in range(2010, 2021):\n",
    "    df_temp = df_total[df_total['Year'] == year]\n",
    "    df_temp.to_hdf('D:\\\\dados_HDF\\\\RHN\\\\bruto_ano\\\\RHN_'+ str(year)+'.h5', key='data', complevel=9\n",
    "              , complib='zlib')\n",
    "    print(year)"
   ]
  },
  {
   "cell_type": "code",
   "execution_count": 5,
   "id": "ae24b5c2",
   "metadata": {},
   "outputs": [
    {
     "data": {
      "text/html": [
       "<div>\n",
       "<style scoped>\n",
       "    .dataframe tbody tr th:only-of-type {\n",
       "        vertical-align: middle;\n",
       "    }\n",
       "\n",
       "    .dataframe tbody tr th {\n",
       "        vertical-align: top;\n",
       "    }\n",
       "\n",
       "    .dataframe thead th {\n",
       "        text-align: right;\n",
       "    }\n",
       "</style>\n",
       "<table border=\"1\" class=\"dataframe\">\n",
       "  <thead>\n",
       "    <tr style=\"text-align: right;\">\n",
       "      <th></th>\n",
       "      <th>Date</th>\n",
       "      <th>Value</th>\n",
       "      <th>Code</th>\n",
       "      <th>Year</th>\n",
       "      <th>Name</th>\n",
       "      <th>City</th>\n",
       "      <th>State</th>\n",
       "      <th>Responsible</th>\n",
       "      <th>Latitude</th>\n",
       "      <th>Longitude</th>\n",
       "    </tr>\n",
       "  </thead>\n",
       "  <tbody>\n",
       "    <tr>\n",
       "      <th>16556</th>\n",
       "      <td>2020-01-01</td>\n",
       "      <td>4.6</td>\n",
       "      <td>00047002</td>\n",
       "      <td>2020</td>\n",
       "      <td>SALINÓPOLIS</td>\n",
       "      <td>SALINÓPOLIS</td>\n",
       "      <td>PARÁ</td>\n",
       "      <td>ANA</td>\n",
       "      <td>-0.6231</td>\n",
       "      <td>-47.3536</td>\n",
       "    </tr>\n",
       "    <tr>\n",
       "      <th>16557</th>\n",
       "      <td>2020-01-02</td>\n",
       "      <td>8.9</td>\n",
       "      <td>00047002</td>\n",
       "      <td>2020</td>\n",
       "      <td>SALINÓPOLIS</td>\n",
       "      <td>SALINÓPOLIS</td>\n",
       "      <td>PARÁ</td>\n",
       "      <td>ANA</td>\n",
       "      <td>-0.6231</td>\n",
       "      <td>-47.3536</td>\n",
       "    </tr>\n",
       "    <tr>\n",
       "      <th>16558</th>\n",
       "      <td>2020-01-03</td>\n",
       "      <td>0.0</td>\n",
       "      <td>00047002</td>\n",
       "      <td>2020</td>\n",
       "      <td>SALINÓPOLIS</td>\n",
       "      <td>SALINÓPOLIS</td>\n",
       "      <td>PARÁ</td>\n",
       "      <td>ANA</td>\n",
       "      <td>-0.6231</td>\n",
       "      <td>-47.3536</td>\n",
       "    </tr>\n",
       "    <tr>\n",
       "      <th>16559</th>\n",
       "      <td>2020-01-04</td>\n",
       "      <td>0.0</td>\n",
       "      <td>00047002</td>\n",
       "      <td>2020</td>\n",
       "      <td>SALINÓPOLIS</td>\n",
       "      <td>SALINÓPOLIS</td>\n",
       "      <td>PARÁ</td>\n",
       "      <td>ANA</td>\n",
       "      <td>-0.6231</td>\n",
       "      <td>-47.3536</td>\n",
       "    </tr>\n",
       "    <tr>\n",
       "      <th>16560</th>\n",
       "      <td>2020-01-05</td>\n",
       "      <td>57.1</td>\n",
       "      <td>00047002</td>\n",
       "      <td>2020</td>\n",
       "      <td>SALINÓPOLIS</td>\n",
       "      <td>SALINÓPOLIS</td>\n",
       "      <td>PARÁ</td>\n",
       "      <td>ANA</td>\n",
       "      <td>-0.6231</td>\n",
       "      <td>-47.3536</td>\n",
       "    </tr>\n",
       "    <tr>\n",
       "      <th>...</th>\n",
       "      <td>...</td>\n",
       "      <td>...</td>\n",
       "      <td>...</td>\n",
       "      <td>...</td>\n",
       "      <td>...</td>\n",
       "      <td>...</td>\n",
       "      <td>...</td>\n",
       "      <td>...</td>\n",
       "      <td>...</td>\n",
       "      <td>...</td>\n",
       "    </tr>\n",
       "    <tr>\n",
       "      <th>128927319</th>\n",
       "      <td>2020-12-27</td>\n",
       "      <td>0.0</td>\n",
       "      <td>08461000</td>\n",
       "      <td>2020</td>\n",
       "      <td>NOVA ESPERANÇA/MARCO BV-8</td>\n",
       "      <td>PACARAIMA</td>\n",
       "      <td>RORAIMA</td>\n",
       "      <td>ANA</td>\n",
       "      <td>4.4883</td>\n",
       "      <td>-61.1297</td>\n",
       "    </tr>\n",
       "    <tr>\n",
       "      <th>128927320</th>\n",
       "      <td>2020-12-28</td>\n",
       "      <td>0.3</td>\n",
       "      <td>08461000</td>\n",
       "      <td>2020</td>\n",
       "      <td>NOVA ESPERANÇA/MARCO BV-8</td>\n",
       "      <td>PACARAIMA</td>\n",
       "      <td>RORAIMA</td>\n",
       "      <td>ANA</td>\n",
       "      <td>4.4883</td>\n",
       "      <td>-61.1297</td>\n",
       "    </tr>\n",
       "    <tr>\n",
       "      <th>128927321</th>\n",
       "      <td>2020-12-29</td>\n",
       "      <td>0.2</td>\n",
       "      <td>08461000</td>\n",
       "      <td>2020</td>\n",
       "      <td>NOVA ESPERANÇA/MARCO BV-8</td>\n",
       "      <td>PACARAIMA</td>\n",
       "      <td>RORAIMA</td>\n",
       "      <td>ANA</td>\n",
       "      <td>4.4883</td>\n",
       "      <td>-61.1297</td>\n",
       "    </tr>\n",
       "    <tr>\n",
       "      <th>128927322</th>\n",
       "      <td>2020-12-30</td>\n",
       "      <td>0.0</td>\n",
       "      <td>08461000</td>\n",
       "      <td>2020</td>\n",
       "      <td>NOVA ESPERANÇA/MARCO BV-8</td>\n",
       "      <td>PACARAIMA</td>\n",
       "      <td>RORAIMA</td>\n",
       "      <td>ANA</td>\n",
       "      <td>4.4883</td>\n",
       "      <td>-61.1297</td>\n",
       "    </tr>\n",
       "    <tr>\n",
       "      <th>128927323</th>\n",
       "      <td>2020-12-31</td>\n",
       "      <td>8.6</td>\n",
       "      <td>08461000</td>\n",
       "      <td>2020</td>\n",
       "      <td>NOVA ESPERANÇA/MARCO BV-8</td>\n",
       "      <td>PACARAIMA</td>\n",
       "      <td>RORAIMA</td>\n",
       "      <td>ANA</td>\n",
       "      <td>4.4883</td>\n",
       "      <td>-61.1297</td>\n",
       "    </tr>\n",
       "  </tbody>\n",
       "</table>\n",
       "<p>1072466 rows × 10 columns</p>\n",
       "</div>"
      ],
      "text/plain": [
       "                Date  Value      Code  Year                       Name  \\\n",
       "16556     2020-01-01    4.6  00047002  2020                SALINÓPOLIS   \n",
       "16557     2020-01-02    8.9  00047002  2020                SALINÓPOLIS   \n",
       "16558     2020-01-03    0.0  00047002  2020                SALINÓPOLIS   \n",
       "16559     2020-01-04    0.0  00047002  2020                SALINÓPOLIS   \n",
       "16560     2020-01-05   57.1  00047002  2020                SALINÓPOLIS   \n",
       "...              ...    ...       ...   ...                        ...   \n",
       "128927319 2020-12-27    0.0  08461000  2020  NOVA ESPERANÇA/MARCO BV-8   \n",
       "128927320 2020-12-28    0.3  08461000  2020  NOVA ESPERANÇA/MARCO BV-8   \n",
       "128927321 2020-12-29    0.2  08461000  2020  NOVA ESPERANÇA/MARCO BV-8   \n",
       "128927322 2020-12-30    0.0  08461000  2020  NOVA ESPERANÇA/MARCO BV-8   \n",
       "128927323 2020-12-31    8.6  08461000  2020  NOVA ESPERANÇA/MARCO BV-8   \n",
       "\n",
       "                  City    State Responsible  Latitude  Longitude  \n",
       "16556      SALINÓPOLIS     PARÁ         ANA   -0.6231   -47.3536  \n",
       "16557      SALINÓPOLIS     PARÁ         ANA   -0.6231   -47.3536  \n",
       "16558      SALINÓPOLIS     PARÁ         ANA   -0.6231   -47.3536  \n",
       "16559      SALINÓPOLIS     PARÁ         ANA   -0.6231   -47.3536  \n",
       "16560      SALINÓPOLIS     PARÁ         ANA   -0.6231   -47.3536  \n",
       "...                ...      ...         ...       ...        ...  \n",
       "128927319    PACARAIMA  RORAIMA         ANA    4.4883   -61.1297  \n",
       "128927320    PACARAIMA  RORAIMA         ANA    4.4883   -61.1297  \n",
       "128927321    PACARAIMA  RORAIMA         ANA    4.4883   -61.1297  \n",
       "128927322    PACARAIMA  RORAIMA         ANA    4.4883   -61.1297  \n",
       "128927323    PACARAIMA  RORAIMA         ANA    4.4883   -61.1297  \n",
       "\n",
       "[1072466 rows x 10 columns]"
      ]
     },
     "execution_count": 5,
     "metadata": {},
     "output_type": "execute_result"
    }
   ],
   "source": [
    "teste = pd.read_hdf('D:\\\\dados_HDF\\\\RHN\\\\bruto_ano\\\\RHN_'+ str(year)+'.h5')\n",
    "teste"
   ]
  },
  {
   "cell_type": "code",
   "execution_count": 19,
   "id": "1578061a",
   "metadata": {},
   "outputs": [
    {
     "data": {
      "text/plain": [
       "'2020.h5'"
      ]
     },
     "execution_count": 19,
     "metadata": {},
     "output_type": "execute_result"
    }
   ],
   "source": [
    "str(year)+'.h5'"
   ]
  },
  {
   "cell_type": "code",
   "execution_count": null,
   "id": "b3671715",
   "metadata": {},
   "outputs": [],
   "source": [
    "df_save.to_hdf('D:\\\\dados_HDF\\\\RHN\\\\bruto_ano\\\\'+ str(year)+'.h5', key='data', complevel=9\n",
    "              , complib='zlib')"
   ]
  },
  {
   "cell_type": "code",
   "execution_count": 1,
   "id": "d5b100e5",
   "metadata": {},
   "outputs": [
    {
     "ename": "NameError",
     "evalue": "name 'df_total' is not defined",
     "output_type": "error",
     "traceback": [
      "\u001b[1;31m---------------------------------------------------------------------------\u001b[0m",
      "\u001b[1;31mNameError\u001b[0m                                 Traceback (most recent call last)",
      "Cell \u001b[1;32mIn[1], line 1\u001b[0m\n\u001b[1;32m----> 1\u001b[0m \u001b[43mdf_total\u001b[49m\u001b[38;5;241m.\u001b[39mhead(\u001b[38;5;241m5\u001b[39m)\n",
      "\u001b[1;31mNameError\u001b[0m: name 'df_total' is not defined"
     ]
    }
   ],
   "source": [
    "df_total.head(5)"
   ]
  },
  {
   "cell_type": "code",
   "execution_count": 15,
   "id": "80c72bb7",
   "metadata": {},
   "outputs": [],
   "source": [
    "year = 2020"
   ]
  },
  {
   "cell_type": "code",
   "execution_count": 18,
   "id": "aa2da998",
   "metadata": {},
   "outputs": [
    {
     "data": {
      "text/plain": [
       "3357"
      ]
     },
     "execution_count": 18,
     "metadata": {},
     "output_type": "execute_result"
    }
   ],
   "source": [
    "len(df_total.Code.unique())"
   ]
  },
  {
   "cell_type": "code",
   "execution_count": 24,
   "id": "df7b1972",
   "metadata": {},
   "outputs": [
    {
     "data": {
      "text/html": [
       "<div>\n",
       "<style scoped>\n",
       "    .dataframe tbody tr th:only-of-type {\n",
       "        vertical-align: middle;\n",
       "    }\n",
       "\n",
       "    .dataframe tbody tr th {\n",
       "        vertical-align: top;\n",
       "    }\n",
       "\n",
       "    .dataframe thead th {\n",
       "        text-align: right;\n",
       "    }\n",
       "</style>\n",
       "<table border=\"1\" class=\"dataframe\">\n",
       "  <thead>\n",
       "    <tr style=\"text-align: right;\">\n",
       "      <th></th>\n",
       "      <th>Date</th>\n",
       "      <th>Value</th>\n",
       "      <th>Code</th>\n",
       "      <th>Year</th>\n",
       "      <th>Name</th>\n",
       "      <th>City</th>\n",
       "      <th>State</th>\n",
       "      <th>Responsible</th>\n",
       "      <th>Latitude</th>\n",
       "      <th>Longitude</th>\n",
       "    </tr>\n",
       "  </thead>\n",
       "  <tbody>\n",
       "  </tbody>\n",
       "</table>\n",
       "</div>"
      ],
      "text/plain": [
       "Empty DataFrame\n",
       "Columns: [Date, Value, Code, Year, Name, City, State, Responsible, Latitude, Longitude]\n",
       "Index: []"
      ]
     },
     "execution_count": 24,
     "metadata": {},
     "output_type": "execute_result"
    }
   ],
   "source": [
    "df_total"
   ]
  },
  {
   "cell_type": "code",
   "execution_count": 23,
   "id": "864ba8fd",
   "metadata": {},
   "outputs": [
    {
     "data": {
      "text/html": [
       "<div>\n",
       "<style scoped>\n",
       "    .dataframe tbody tr th:only-of-type {\n",
       "        vertical-align: middle;\n",
       "    }\n",
       "\n",
       "    .dataframe tbody tr th {\n",
       "        vertical-align: top;\n",
       "    }\n",
       "\n",
       "    .dataframe thead th {\n",
       "        text-align: right;\n",
       "    }\n",
       "</style>\n",
       "<table border=\"1\" class=\"dataframe\">\n",
       "  <thead>\n",
       "    <tr style=\"text-align: right;\">\n",
       "      <th></th>\n",
       "      <th>Date</th>\n",
       "      <th>Value</th>\n",
       "      <th>Code</th>\n",
       "      <th>Year</th>\n",
       "      <th>Name</th>\n",
       "      <th>City</th>\n",
       "      <th>State</th>\n",
       "      <th>Responsible</th>\n",
       "      <th>Latitude</th>\n",
       "      <th>Longitude</th>\n",
       "    </tr>\n",
       "  </thead>\n",
       "  <tbody>\n",
       "  </tbody>\n",
       "</table>\n",
       "</div>"
      ],
      "text/plain": [
       "Empty DataFrame\n",
       "Columns: [Date, Value, Code, Year, Name, City, State, Responsible, Latitude, Longitude]\n",
       "Index: []"
      ]
     },
     "execution_count": 23,
     "metadata": {},
     "output_type": "execute_result"
    }
   ],
   "source": [
    "df_total = df_total[df_total['Year'] == year]\n",
    "df_total"
   ]
  }
 ],
 "metadata": {
  "kernelspec": {
   "display_name": "Python 3 (ipykernel)",
   "language": "python",
   "name": "python3"
  },
  "language_info": {
   "codemirror_mode": {
    "name": "ipython",
    "version": 3
   },
   "file_extension": ".py",
   "mimetype": "text/x-python",
   "name": "python",
   "nbconvert_exporter": "python",
   "pygments_lexer": "ipython3",
   "version": "3.8.8"
  }
 },
 "nbformat": 4,
 "nbformat_minor": 5
}
