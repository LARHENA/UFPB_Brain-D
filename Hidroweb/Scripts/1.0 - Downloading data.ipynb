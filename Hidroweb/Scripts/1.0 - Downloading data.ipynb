{
 "cells": [
  {
   "cell_type": "markdown",
   "id": "493c7e67",
   "metadata": {},
   "source": [
    "### Código para acesso e pré-processamento dos dados do Hidroweb (ANA)\n",
    "\n",
    "#### Criado por:\n",
    "* Cristiano Almeida\n",
    "* Filipe Lemos\n",
    "* Lindemberg Barbosa\n",
    "\n",
    "#### Em: 11-Out-2022\n",
    "\n",
    "    Script para acesso ao dados do Hidroweb (da ANA - Agência Nacional de Águas) e padronização da estrutura dos dados.\n",
    "    \n",
    "    \n",
    "**Objetivos:** \n",
    "* Baixar todos os dados do Hidroweb\n",
    "* Organizar os dados em modelo padrão\n",
    "* Criar os arquivos hdf com esses dados brutos\n",
    "* Fazer um diagnóstico mínimo e talvez a partir daí um filtro mínimo\n",
    "* Quantidade de estações por estado\n",
    "* Quantidade de estações por agência ou órgão de monitoramento\n",
    "* Quantidade de estações por estado\n",
    "* Quantidade de estações por ano\n",
    "* xx O que mais???\n",
    "\n",
    "\n",
    "#### Dependências:\n",
    "* Hydrobr - Pacote desenvolvido por Wallisson Moreira de Carvalho (em 2021) e publicado no seu github (https://wallissoncarvalho.github.io/HydroBr/)\n",
    "* Pandas\n",
    "* Geopandas\n",
    "----"
   ]
  },
  {
   "cell_type": "markdown",
   "id": "09865e50",
   "metadata": {},
   "source": [
    "### Estrutura dos dados\n",
    "\n",
    "   Os dados baixados do Hidroweb por meio HydroBr vêm na forma de uma lista de **estações pluviométricas** com as seguintes colunas:\n",
    "* Name - Nome da estação de monitoramento\n",
    "* Code - Código da estação de monitoramento\n",
    "* Type - Tipo de estações 1 (Estações fluviométricas) & 2 (Estações pluviométricas)\n",
    "* SubBasin - Código da sub-bacia hidrográfica (xx ver na ANA quais são esses códigos)\n",
    "* City - Cidade onde a estação está localizada\n",
    "* State - Estado da Federação do Brasil, mas devemos observar que outros países estão incluídos aí (Argentina, Peru, Bolívia, Paraguai, Guiana Francesa & Suriname\n",
    "* Responsible - Instituição responsável pela operação da estação (ANA, INMET, etc. etc., xx)\n",
    "* Latitude - Latitude em graus decimais\n",
    "* Longitude - Longitude em graus decimais\n",
    "* StartDate - Data da 1ª medição\n",
    "* EndDate - Data da última medição\n",
    "* NYD - Quantidade de anos com dados, renomeado para Years\n",
    "* MD - Porcentagem de dados faltosos entre a data inicial e final (xx tem que ver se é de dados, dias, meses, etc.) missing data percentage between the start and the last date (MD), renomeado para Percentage_of_missing_data\n",
    "* N_YWOMD - Número de anos sem qualquer falha, renomeado para Years_without_gaps\n",
    "* YWMD - Porcentagem de anos com dados faltosos, renomeado para Percentage_of_missing_years\n",
    "\n",
    "    A série temporal, que é um pandas.DataFrame, tem o seguinte formato:\n",
    "* o index do dataframe é a data\n",
    "* Os dados de precipitação diárias são do tipo decimal\n",
    "* Cada coluna corresponde aos dados diários de precipitação de um posto pluviométrico da lista usada na requisição\n",
    "* A primeira linha do dataframe é o código de cada posto pluviométrico"
   ]
  },
  {
   "cell_type": "code",
   "execution_count": 18,
   "id": "608e0b1d",
   "metadata": {},
   "outputs": [],
   "source": [
    "# pip install hydrobr"
   ]
  },
  {
   "cell_type": "code",
   "execution_count": 19,
   "id": "40c8c716",
   "metadata": {},
   "outputs": [],
   "source": [
    "%config Completer.use_jedi = False"
   ]
  },
  {
   "cell_type": "code",
   "execution_count": 1,
   "id": "d6869502",
   "metadata": {},
   "outputs": [],
   "source": [
    "import hydrobr\n",
    "import numpy as np\n",
    "import geopandas\n",
    "import pandas as pd\n",
    "import matplotlib.pyplot as plt\n",
    "import glob\n",
    "import os\n",
    "from datetime import datetime"
   ]
  },
  {
   "cell_type": "code",
   "execution_count": 2,
   "id": "99835f07",
   "metadata": {},
   "outputs": [],
   "source": [
    "def save_files(df_year_data, df_year_info, filename):\n",
    "    df_year_data.to_hdf(general_path + '/1 - Organized data/'+ filename, 'table_data', append=True,\n",
    "                        complevel=9,encoding=\"cp860\")\n",
    "    df_year_info.to_hdf(general_path + '/1 - Organized data/'+ filename, 'table_info', append=True,\n",
    "                        complevel=9,encoding=\"cp860\")"
   ]
  },
  {
   "cell_type": "markdown",
   "id": "c6983400",
   "metadata": {},
   "source": [
    "#### Variáveis utilizadas"
   ]
  },
  {
   "cell_type": "code",
   "execution_count": 3,
   "id": "3a1f23f5",
   "metadata": {},
   "outputs": [],
   "source": [
    "# Caminhos dos diretórios raiz\n",
    "# general_path = 'C:/Users/cnalm/OneDrive/Hidroweb'    # Caminho do projeto (Cristiano)\n",
    "general_path = 'D:/Dados_Nuvem/OneDrive/Hidroweb'   # Colocar aqui o caminho de Filipe\n",
    "# general_path = 'C:/Users/linde/OneDrive/Hidroweb'   # Colocar aqui o caminho de Lindemberg"
   ]
  },
  {
   "cell_type": "code",
   "execution_count": 6,
   "id": "a6a4e0be",
   "metadata": {},
   "outputs": [],
   "source": [
    "# List of brazilian states\n",
    "states = ['PARÁ', 'AMAPÁ', 'RORAIMA', 'AMAZONAS', 'MARANHÃO', 'CEARÁ', 'PIAUÍ', 'PERNAMBUCO', \n",
    "          'RIO GRANDE DO NORTE', 'TOCANTINS', 'PARAÍBA', 'ACRE', 'ALAGOAS', 'BAHIA', 'MATO GROSSO',\n",
    "          'RONDÔNIA', 'SERGIPE', 'GOIÁS', 'MINAS GERAIS', 'DISTRITO FEDERAL', 'MATO GROSSO DO SUL',\n",
    "          'ESPÍRITO SANTO', 'SÃO PAULO', 'RIO DE JANEIRO', 'PARANÁ', 'SANTA CATARINA', 'RIO GRANDE DO SUL']\n",
    "\n",
    "states = ['SANTA CATARINA', 'RIO GRANDE DO SUL']\n",
    "\n",
    "# Countries from South America with data in the Hidroweb (to be deleted)\n",
    "countries = ['BOLÍVIA', 'PERU', 'PARAGUAI', 'ARGENTINA', 'GUIANA FRANCESA', 'SURINAME']\n",
    "\n",
    "# Agencies responsible for rainfall monitoring (only in Brazil)\n",
    "agencies = ['INMET', 'ANA', 'IDESP', 'ICOMI', 'SUDENE', 'EMBRAPA/IPAGRO', 'DEPV', 'CHM', 'OUTRAS', \n",
    "            'FUNCEME-CE', 'DNOCS', 'SEMARH-PI', 'CELPA', 'SUDAM', 'EMATER', 'DNOS', 'ELETRONORTE', \n",
    "            'EMPARN', 'CPRM', 'COGERH-CE', 'AESA-PB', 'CEMADEN', 'RFFSA', 'IAA', 'APAC-PE', 'SANTO ANTÔNIO',\n",
    "            'TRAPICHE', 'BRENNAND', 'SERRA GRANDE', 'CODEVASF', 'SEDAM-RO', 'SEMARH-AL', 'NOVO MUNDO',\n",
    "            'FASE', 'INEMA-BA', 'SABA', 'EGP', 'CEPLAC', 'FABA', 'EMBASA-BA', 'USIBA', 'CIA', 'CERB', \n",
    "            'ENERPEIXE', 'FURNAS', 'ICB', 'IGUAÇU', 'CHESF', 'CONS.MANSO', 'CEMIG', 'CAESB', 'COSTA BARROS',\n",
    "            'ADASA', 'CEMAT', 'CONS.JAURU', 'DNIT', 'VALE', 'COPASA-MG', 'CONS.CORUMBÁIII', 'FAZ.GIRASSOL',\n",
    "            'CORUMBÁ COM', 'GIOVENARDI', 'DAEE-MG', 'GOIAS SUL', 'CELG', 'STAHELENAYPE', 'KINROSS', 'IEMA-ES',\n",
    "            'SIGMA', 'TRÊS MARIAS', 'CBA', 'ENERGEST', 'SALTO GRANDE', 'LIGHT', 'DAEE-SP', 'INDAIAZINHO', \n",
    "            'INDAIÁ GRANDE', 'STATKRAFT', 'ALUMINAS', 'MORRO VELHO', 'ANGLO GOLD', 'EMAE', 'VOTORCIM II', \n",
    "            'CHIMAY', 'RIO PARANÁ', 'DCES', 'QUANTA', 'ZÉ TUNIN', 'BRAÚNA', 'CBCC', 'L.D.Q.S.P.E.', \n",
    "            'CEMIG CAMARGOS', 'GERAL', 'AES TIETÊ', 'PRADA', 'ARATU', 'CESP', 'INEA-RJ', 'CEDAE', 'CFLCL',\n",
    "            'INFOPER', 'ÁGUAS IMPERADOR', 'COPPE/UFRJ', 'CERV-PET', 'M. SERRAT', 'SF ENERGÉTICA', 'BONFANTE',\n",
    "            'SECRETÁRIO', 'COHIDRO', 'IGAM-MG', 'SPE CRISTINA', 'CPFL-FERROLIGAS', 'MOHINI', 'JAYADITYA', \n",
    "            'FLP', 'SANTA CRUZ', 'PARANAPANEMA', 'AGUASPARANÁ', 'CONS.CANOAS', 'COPEL', 'ITAIPUSABESP', \n",
    "            'PIRAPORA', 'IAPAR', 'CMNP', 'CONS.CECS', 'KLABIN', 'TIBAGI', 'MOURÃO', 'RIO BRANCO', 'MANASA',\n",
    "            'ELEJOR', 'ENGIE', 'FOZ DO CHOPIM', 'EPAGRI-SC', 'CELESC', 'CONS.CESAP', 'SENS', 'CONS.ITÁ', \n",
    "            'ENERCAN', 'PCH AGUTI', 'ELETROSUL', 'CEEE', 'CONS.CAPIVARI', 'DEPRC', 'BAESA', 'HIDROTÉRMICA',\n",
    "            'CERAN', 'CAROLINA', 'ELETROCAR', 'DEMEI', 'COOPERLUZ', 'IRGA', 'SOPRS', 'SEMA-RS', 'JAGUARI', 'CLM']\n",
    "\n",
    "dict_agency = ({'agency':['lixo'],\n",
    "                'amount of gauges':[-99]\n",
    "               })\n",
    "df_gauges_per_agencies = pd.DataFrame(dict_agency)\n",
    "\n",
    "dict_state = ({'state':['lixo'],\n",
    "               'amount of gauges':[-99]\n",
    "               })\n",
    "df_gauges_per_state = pd.DataFrame(dict_state)\n",
    "\n",
    "## Revisar as variáveis daqui para baixo\n",
    "\n",
    "# years=['2014','2015','2016','2017','2018','2019', '2020','2021']\n",
    "years=['2024']\n",
    "# df_year = pd.DataFrame(columns=['COD', 'CIDADE', 'ESTADO', 'BAIRRO', 'LAT', 'LONG','DATA','HORA','PREC'])\n",
    "# df_null = pd.DataFrame({'COD': 'XXXXXXXXX', 'CIDADE':'NULL','ESTADO':'BR','BAIRRO':'NULL','LAT':[-99.99],\n",
    "#                         'LONG':[-99.99],'DATA':'2000/01/01','HORA':'00:00:00','PREC':[-99.99]})\n",
    "\n",
    "df_year = pd.DataFrame(columns=['municipio', 'codEstacao', 'uf', 'nomeEstacao', 'latitude', 'longitude',\n",
    "                                'datahora','valorMedida'])\n",
    "df_null = pd.DataFrame({'municipio':'NULL', 'codEstacao': 'XXXXXXXXX', 'uf':'BR','nomeEstacao':'NULL',\n",
    "                        'latitude':[-99.99], 'longitude':[-99.99],'datahora':'2000/01/01 00:00:00','valorMedida':[-99.99]})\n",
    "\n"
   ]
  },
  {
   "cell_type": "code",
   "execution_count": 7,
   "id": "49f80880",
   "metadata": {},
   "outputs": [
    {
     "data": {
      "text/html": [
       "<div>\n",
       "<style scoped>\n",
       "    .dataframe tbody tr th:only-of-type {\n",
       "        vertical-align: middle;\n",
       "    }\n",
       "\n",
       "    .dataframe tbody tr th {\n",
       "        vertical-align: top;\n",
       "    }\n",
       "\n",
       "    .dataframe thead th {\n",
       "        text-align: right;\n",
       "    }\n",
       "</style>\n",
       "<table border=\"1\" class=\"dataframe\">\n",
       "  <thead>\n",
       "    <tr style=\"text-align: right;\">\n",
       "      <th></th>\n",
       "      <th>Name</th>\n",
       "      <th>Code</th>\n",
       "      <th>Type</th>\n",
       "      <th>SubBasin</th>\n",
       "      <th>City</th>\n",
       "      <th>State</th>\n",
       "      <th>Responsible</th>\n",
       "      <th>Latitude</th>\n",
       "      <th>Longitude</th>\n",
       "      <th>StartDate</th>\n",
       "      <th>EndDate</th>\n",
       "      <th>NYD</th>\n",
       "      <th>MD</th>\n",
       "      <th>N_YWOMD</th>\n",
       "      <th>YWMD</th>\n",
       "    </tr>\n",
       "  </thead>\n",
       "  <tbody>\n",
       "    <tr>\n",
       "      <th>0</th>\n",
       "      <td>SALINÓPOLIS</td>\n",
       "      <td>00047000</td>\n",
       "      <td>2</td>\n",
       "      <td>32</td>\n",
       "      <td>SALINÓPOLIS</td>\n",
       "      <td>PARÁ</td>\n",
       "      <td>INMET</td>\n",
       "      <td>-0.6500</td>\n",
       "      <td>-47.5500</td>\n",
       "      <td>1958/01/01</td>\n",
       "      <td>1964/12/31</td>\n",
       "      <td>7</td>\n",
       "      <td>25.0</td>\n",
       "      <td>0</td>\n",
       "      <td>100.0</td>\n",
       "    </tr>\n",
       "    <tr>\n",
       "      <th>1</th>\n",
       "      <td>SALINÓPOLIS</td>\n",
       "      <td>00047002</td>\n",
       "      <td>2</td>\n",
       "      <td>32</td>\n",
       "      <td>SALINÓPOLIS</td>\n",
       "      <td>PARÁ</td>\n",
       "      <td>ANA</td>\n",
       "      <td>-0.6231</td>\n",
       "      <td>-47.3536</td>\n",
       "      <td>1977/12/09</td>\n",
       "      <td>2019/08/31</td>\n",
       "      <td>43</td>\n",
       "      <td>3.5</td>\n",
       "      <td>35</td>\n",
       "      <td>18.6</td>\n",
       "    </tr>\n",
       "    <tr>\n",
       "      <th>2</th>\n",
       "      <td>CURUÇA</td>\n",
       "      <td>00047003</td>\n",
       "      <td>2</td>\n",
       "      <td>32</td>\n",
       "      <td>CURUÇA</td>\n",
       "      <td>PARÁ</td>\n",
       "      <td>ANA</td>\n",
       "      <td>-0.7375</td>\n",
       "      <td>-47.8536</td>\n",
       "      <td>1981/07/01</td>\n",
       "      <td>2019/07/31</td>\n",
       "      <td>39</td>\n",
       "      <td>2.4</td>\n",
       "      <td>29</td>\n",
       "      <td>25.6</td>\n",
       "    </tr>\n",
       "    <tr>\n",
       "      <th>3</th>\n",
       "      <td>PRIMAVERA</td>\n",
       "      <td>00047004</td>\n",
       "      <td>2</td>\n",
       "      <td>32</td>\n",
       "      <td>PRIMAVERA</td>\n",
       "      <td>PARÁ</td>\n",
       "      <td>ANA</td>\n",
       "      <td>-0.9294</td>\n",
       "      <td>-47.0994</td>\n",
       "      <td>1982/02/18</td>\n",
       "      <td>2019/08/31</td>\n",
       "      <td>38</td>\n",
       "      <td>0.0</td>\n",
       "      <td>35</td>\n",
       "      <td>7.9</td>\n",
       "    </tr>\n",
       "    <tr>\n",
       "      <th>4</th>\n",
       "      <td>MARUDA</td>\n",
       "      <td>00047005</td>\n",
       "      <td>2</td>\n",
       "      <td>32</td>\n",
       "      <td>MARAPANIM</td>\n",
       "      <td>PARÁ</td>\n",
       "      <td>ANA</td>\n",
       "      <td>-0.6336</td>\n",
       "      <td>-47.6583</td>\n",
       "      <td>1989/08/21</td>\n",
       "      <td>2019/07/31</td>\n",
       "      <td>31</td>\n",
       "      <td>5.0</td>\n",
       "      <td>20</td>\n",
       "      <td>35.5</td>\n",
       "    </tr>\n",
       "    <tr>\n",
       "      <th>...</th>\n",
       "      <td>...</td>\n",
       "      <td>...</td>\n",
       "      <td>...</td>\n",
       "      <td>...</td>\n",
       "      <td>...</td>\n",
       "      <td>...</td>\n",
       "      <td>...</td>\n",
       "      <td>...</td>\n",
       "      <td>...</td>\n",
       "      <td>...</td>\n",
       "      <td>...</td>\n",
       "      <td>...</td>\n",
       "      <td>...</td>\n",
       "      <td>...</td>\n",
       "      <td>...</td>\n",
       "    </tr>\n",
       "    <tr>\n",
       "      <th>11971</th>\n",
       "      <td>NOVA ESPERANÇA/MARCO BV-8</td>\n",
       "      <td>08461000</td>\n",
       "      <td>2</td>\n",
       "      <td>14</td>\n",
       "      <td>PACARAIMA</td>\n",
       "      <td>RORAIMA</td>\n",
       "      <td>ANA</td>\n",
       "      <td>4.4883</td>\n",
       "      <td>-61.1297</td>\n",
       "      <td>1984/03/23</td>\n",
       "      <td>2019/06/30</td>\n",
       "      <td>36</td>\n",
       "      <td>12.3</td>\n",
       "      <td>13</td>\n",
       "      <td>63.9</td>\n",
       "    </tr>\n",
       "    <tr>\n",
       "      <th>11972</th>\n",
       "      <td>MISSÃO AUARIS - JUSANTE</td>\n",
       "      <td>08464001</td>\n",
       "      <td>2</td>\n",
       "      <td>14</td>\n",
       "      <td>BOA VISTA</td>\n",
       "      <td>RORAIMA</td>\n",
       "      <td>ANA</td>\n",
       "      <td>4.0031</td>\n",
       "      <td>-64.4431</td>\n",
       "      <td>1995/04/01</td>\n",
       "      <td>2019/06/30</td>\n",
       "      <td>25</td>\n",
       "      <td>4.2</td>\n",
       "      <td>15</td>\n",
       "      <td>40.0</td>\n",
       "    </tr>\n",
       "    <tr>\n",
       "      <th>11973</th>\n",
       "      <td>WILLIAM KRAANPLEIN</td>\n",
       "      <td>08555060</td>\n",
       "      <td>2</td>\n",
       "      <td>90</td>\n",
       "      <td>SURINAME</td>\n",
       "      <td>SURINAME</td>\n",
       "      <td>SURINAME</td>\n",
       "      <td>5.8000</td>\n",
       "      <td>-55.1667</td>\n",
       "      <td>1935/08/01</td>\n",
       "      <td>1948/12/31</td>\n",
       "      <td>14</td>\n",
       "      <td>9.2</td>\n",
       "      <td>7</td>\n",
       "      <td>50.0</td>\n",
       "    </tr>\n",
       "    <tr>\n",
       "      <th>11974</th>\n",
       "      <td>ZANDERIJ</td>\n",
       "      <td>08555096</td>\n",
       "      <td>2</td>\n",
       "      <td>90</td>\n",
       "      <td>SURINAME</td>\n",
       "      <td>SURINAME</td>\n",
       "      <td>SURINAME</td>\n",
       "      <td>5.4700</td>\n",
       "      <td>-55.2000</td>\n",
       "      <td>2009/01/31</td>\n",
       "      <td>2010/01/31</td>\n",
       "      <td>2</td>\n",
       "      <td>96.7</td>\n",
       "      <td>0</td>\n",
       "      <td>100.0</td>\n",
       "    </tr>\n",
       "    <tr>\n",
       "      <th>11975</th>\n",
       "      <td>FAZENDA BANDEIRA BRANCA</td>\n",
       "      <td>08560000</td>\n",
       "      <td>2</td>\n",
       "      <td>14</td>\n",
       "      <td>UIRAMUTA</td>\n",
       "      <td>RORAIMA</td>\n",
       "      <td>ANA</td>\n",
       "      <td>4.6306</td>\n",
       "      <td>-60.4706</td>\n",
       "      <td>1976/01/01</td>\n",
       "      <td>1996/02/29</td>\n",
       "      <td>21</td>\n",
       "      <td>5.6</td>\n",
       "      <td>12</td>\n",
       "      <td>42.9</td>\n",
       "    </tr>\n",
       "  </tbody>\n",
       "</table>\n",
       "<p>11976 rows × 15 columns</p>\n",
       "</div>"
      ],
      "text/plain": [
       "                            Name      Code  Type  SubBasin         City  \\\n",
       "0                    SALINÓPOLIS  00047000     2        32  SALINÓPOLIS   \n",
       "1                    SALINÓPOLIS  00047002     2        32  SALINÓPOLIS   \n",
       "2                         CURUÇA  00047003     2        32       CURUÇA   \n",
       "3                      PRIMAVERA  00047004     2        32    PRIMAVERA   \n",
       "4                         MARUDA  00047005     2        32    MARAPANIM   \n",
       "...                          ...       ...   ...       ...          ...   \n",
       "11971  NOVA ESPERANÇA/MARCO BV-8  08461000     2        14    PACARAIMA   \n",
       "11972    MISSÃO AUARIS - JUSANTE  08464001     2        14    BOA VISTA   \n",
       "11973         WILLIAM KRAANPLEIN  08555060     2        90     SURINAME   \n",
       "11974                   ZANDERIJ  08555096     2        90     SURINAME   \n",
       "11975    FAZENDA BANDEIRA BRANCA  08560000     2        14     UIRAMUTA   \n",
       "\n",
       "          State Responsible  Latitude  Longitude   StartDate     EndDate  NYD  \\\n",
       "0          PARÁ       INMET   -0.6500   -47.5500  1958/01/01  1964/12/31    7   \n",
       "1          PARÁ         ANA   -0.6231   -47.3536  1977/12/09  2019/08/31   43   \n",
       "2          PARÁ         ANA   -0.7375   -47.8536  1981/07/01  2019/07/31   39   \n",
       "3          PARÁ         ANA   -0.9294   -47.0994  1982/02/18  2019/08/31   38   \n",
       "4          PARÁ         ANA   -0.6336   -47.6583  1989/08/21  2019/07/31   31   \n",
       "...         ...         ...       ...        ...         ...         ...  ...   \n",
       "11971   RORAIMA         ANA    4.4883   -61.1297  1984/03/23  2019/06/30   36   \n",
       "11972   RORAIMA         ANA    4.0031   -64.4431  1995/04/01  2019/06/30   25   \n",
       "11973  SURINAME    SURINAME    5.8000   -55.1667  1935/08/01  1948/12/31   14   \n",
       "11974  SURINAME    SURINAME    5.4700   -55.2000  2009/01/31  2010/01/31    2   \n",
       "11975   RORAIMA         ANA    4.6306   -60.4706  1976/01/01  1996/02/29   21   \n",
       "\n",
       "         MD  N_YWOMD   YWMD  \n",
       "0      25.0        0  100.0  \n",
       "1       3.5       35   18.6  \n",
       "2       2.4       29   25.6  \n",
       "3       0.0       35    7.9  \n",
       "4       5.0       20   35.5  \n",
       "...     ...      ...    ...  \n",
       "11971  12.3       13   63.9  \n",
       "11972   4.2       15   40.0  \n",
       "11973   9.2        7   50.0  \n",
       "11974  96.7        0  100.0  \n",
       "11975   5.6       12   42.9  \n",
       "\n",
       "[11976 rows x 15 columns]"
      ]
     },
     "execution_count": 7,
     "metadata": {},
     "output_type": "execute_result"
    }
   ],
   "source": [
    "df_all_gauges = hydrobr.get_data.ANA.list_prec_stations() \n",
    "df_all_gauges"
   ]
  },
  {
   "cell_type": "code",
   "execution_count": 8,
   "id": "2f40bf6c",
   "metadata": {},
   "outputs": [
    {
     "data": {
      "text/html": [
       "<div>\n",
       "<style scoped>\n",
       "    .dataframe tbody tr th:only-of-type {\n",
       "        vertical-align: middle;\n",
       "    }\n",
       "\n",
       "    .dataframe tbody tr th {\n",
       "        vertical-align: top;\n",
       "    }\n",
       "\n",
       "    .dataframe thead th {\n",
       "        text-align: right;\n",
       "    }\n",
       "</style>\n",
       "<table border=\"1\" class=\"dataframe\">\n",
       "  <thead>\n",
       "    <tr style=\"text-align: right;\">\n",
       "      <th></th>\n",
       "      <th>Name</th>\n",
       "      <th>Code</th>\n",
       "      <th>Type</th>\n",
       "      <th>SubBasin</th>\n",
       "      <th>City</th>\n",
       "      <th>State</th>\n",
       "      <th>Responsible</th>\n",
       "      <th>Latitude</th>\n",
       "      <th>Longitude</th>\n",
       "      <th>StartDate</th>\n",
       "      <th>EndDate</th>\n",
       "      <th>NYD</th>\n",
       "      <th>MD</th>\n",
       "      <th>N_YWOMD</th>\n",
       "      <th>YWMD</th>\n",
       "    </tr>\n",
       "  </thead>\n",
       "  <tbody>\n",
       "    <tr>\n",
       "      <th>0</th>\n",
       "      <td>SALINÓPOLIS</td>\n",
       "      <td>00047000</td>\n",
       "      <td>2</td>\n",
       "      <td>32</td>\n",
       "      <td>SALINÓPOLIS</td>\n",
       "      <td>PARÁ</td>\n",
       "      <td>INMET</td>\n",
       "      <td>-0.6500</td>\n",
       "      <td>-47.5500</td>\n",
       "      <td>1958/01/01</td>\n",
       "      <td>1964/12/31</td>\n",
       "      <td>7</td>\n",
       "      <td>25.0</td>\n",
       "      <td>0</td>\n",
       "      <td>100.0</td>\n",
       "    </tr>\n",
       "    <tr>\n",
       "      <th>1</th>\n",
       "      <td>SALINÓPOLIS</td>\n",
       "      <td>00047002</td>\n",
       "      <td>2</td>\n",
       "      <td>32</td>\n",
       "      <td>SALINÓPOLIS</td>\n",
       "      <td>PARÁ</td>\n",
       "      <td>ANA</td>\n",
       "      <td>-0.6231</td>\n",
       "      <td>-47.3536</td>\n",
       "      <td>1977/12/09</td>\n",
       "      <td>2019/08/31</td>\n",
       "      <td>43</td>\n",
       "      <td>3.5</td>\n",
       "      <td>35</td>\n",
       "      <td>18.6</td>\n",
       "    </tr>\n",
       "    <tr>\n",
       "      <th>2</th>\n",
       "      <td>CURUÇA</td>\n",
       "      <td>00047003</td>\n",
       "      <td>2</td>\n",
       "      <td>32</td>\n",
       "      <td>CURUÇA</td>\n",
       "      <td>PARÁ</td>\n",
       "      <td>ANA</td>\n",
       "      <td>-0.7375</td>\n",
       "      <td>-47.8536</td>\n",
       "      <td>1981/07/01</td>\n",
       "      <td>2019/07/31</td>\n",
       "      <td>39</td>\n",
       "      <td>2.4</td>\n",
       "      <td>29</td>\n",
       "      <td>25.6</td>\n",
       "    </tr>\n",
       "    <tr>\n",
       "      <th>3</th>\n",
       "      <td>PRIMAVERA</td>\n",
       "      <td>00047004</td>\n",
       "      <td>2</td>\n",
       "      <td>32</td>\n",
       "      <td>PRIMAVERA</td>\n",
       "      <td>PARÁ</td>\n",
       "      <td>ANA</td>\n",
       "      <td>-0.9294</td>\n",
       "      <td>-47.0994</td>\n",
       "      <td>1982/02/18</td>\n",
       "      <td>2019/08/31</td>\n",
       "      <td>38</td>\n",
       "      <td>0.0</td>\n",
       "      <td>35</td>\n",
       "      <td>7.9</td>\n",
       "    </tr>\n",
       "    <tr>\n",
       "      <th>4</th>\n",
       "      <td>MARUDA</td>\n",
       "      <td>00047005</td>\n",
       "      <td>2</td>\n",
       "      <td>32</td>\n",
       "      <td>MARAPANIM</td>\n",
       "      <td>PARÁ</td>\n",
       "      <td>ANA</td>\n",
       "      <td>-0.6336</td>\n",
       "      <td>-47.6583</td>\n",
       "      <td>1989/08/21</td>\n",
       "      <td>2019/07/31</td>\n",
       "      <td>31</td>\n",
       "      <td>5.0</td>\n",
       "      <td>20</td>\n",
       "      <td>35.5</td>\n",
       "    </tr>\n",
       "    <tr>\n",
       "      <th>...</th>\n",
       "      <td>...</td>\n",
       "      <td>...</td>\n",
       "      <td>...</td>\n",
       "      <td>...</td>\n",
       "      <td>...</td>\n",
       "      <td>...</td>\n",
       "      <td>...</td>\n",
       "      <td>...</td>\n",
       "      <td>...</td>\n",
       "      <td>...</td>\n",
       "      <td>...</td>\n",
       "      <td>...</td>\n",
       "      <td>...</td>\n",
       "      <td>...</td>\n",
       "      <td>...</td>\n",
       "    </tr>\n",
       "    <tr>\n",
       "      <th>11969</th>\n",
       "      <td>ÁGUA FRIA</td>\n",
       "      <td>08460003</td>\n",
       "      <td>2</td>\n",
       "      <td>14</td>\n",
       "      <td>UIRAMUTA</td>\n",
       "      <td>RORAIMA</td>\n",
       "      <td>ANA</td>\n",
       "      <td>4.6428</td>\n",
       "      <td>-60.4964</td>\n",
       "      <td>1996/03/02</td>\n",
       "      <td>2018/04/30</td>\n",
       "      <td>23</td>\n",
       "      <td>1.8</td>\n",
       "      <td>16</td>\n",
       "      <td>30.4</td>\n",
       "    </tr>\n",
       "    <tr>\n",
       "      <th>11970</th>\n",
       "      <td>UIRAMUTA</td>\n",
       "      <td>08460004</td>\n",
       "      <td>2</td>\n",
       "      <td>14</td>\n",
       "      <td>UIRAMUTA</td>\n",
       "      <td>RORAIMA</td>\n",
       "      <td>ANA</td>\n",
       "      <td>4.5986</td>\n",
       "      <td>-60.1664</td>\n",
       "      <td>2002/07/13</td>\n",
       "      <td>2019/07/31</td>\n",
       "      <td>18</td>\n",
       "      <td>2.3</td>\n",
       "      <td>12</td>\n",
       "      <td>33.3</td>\n",
       "    </tr>\n",
       "    <tr>\n",
       "      <th>11971</th>\n",
       "      <td>NOVA ESPERANÇA/MARCO BV-8</td>\n",
       "      <td>08461000</td>\n",
       "      <td>2</td>\n",
       "      <td>14</td>\n",
       "      <td>PACARAIMA</td>\n",
       "      <td>RORAIMA</td>\n",
       "      <td>ANA</td>\n",
       "      <td>4.4883</td>\n",
       "      <td>-61.1297</td>\n",
       "      <td>1984/03/23</td>\n",
       "      <td>2019/06/30</td>\n",
       "      <td>36</td>\n",
       "      <td>12.3</td>\n",
       "      <td>13</td>\n",
       "      <td>63.9</td>\n",
       "    </tr>\n",
       "    <tr>\n",
       "      <th>11972</th>\n",
       "      <td>MISSÃO AUARIS - JUSANTE</td>\n",
       "      <td>08464001</td>\n",
       "      <td>2</td>\n",
       "      <td>14</td>\n",
       "      <td>BOA VISTA</td>\n",
       "      <td>RORAIMA</td>\n",
       "      <td>ANA</td>\n",
       "      <td>4.0031</td>\n",
       "      <td>-64.4431</td>\n",
       "      <td>1995/04/01</td>\n",
       "      <td>2019/06/30</td>\n",
       "      <td>25</td>\n",
       "      <td>4.2</td>\n",
       "      <td>15</td>\n",
       "      <td>40.0</td>\n",
       "    </tr>\n",
       "    <tr>\n",
       "      <th>11975</th>\n",
       "      <td>FAZENDA BANDEIRA BRANCA</td>\n",
       "      <td>08560000</td>\n",
       "      <td>2</td>\n",
       "      <td>14</td>\n",
       "      <td>UIRAMUTA</td>\n",
       "      <td>RORAIMA</td>\n",
       "      <td>ANA</td>\n",
       "      <td>4.6306</td>\n",
       "      <td>-60.4706</td>\n",
       "      <td>1976/01/01</td>\n",
       "      <td>1996/02/29</td>\n",
       "      <td>21</td>\n",
       "      <td>5.6</td>\n",
       "      <td>12</td>\n",
       "      <td>42.9</td>\n",
       "    </tr>\n",
       "  </tbody>\n",
       "</table>\n",
       "<p>11893 rows × 15 columns</p>\n",
       "</div>"
      ],
      "text/plain": [
       "                            Name      Code  Type  SubBasin         City  \\\n",
       "0                    SALINÓPOLIS  00047000     2        32  SALINÓPOLIS   \n",
       "1                    SALINÓPOLIS  00047002     2        32  SALINÓPOLIS   \n",
       "2                         CURUÇA  00047003     2        32       CURUÇA   \n",
       "3                      PRIMAVERA  00047004     2        32    PRIMAVERA   \n",
       "4                         MARUDA  00047005     2        32    MARAPANIM   \n",
       "...                          ...       ...   ...       ...          ...   \n",
       "11969                  ÁGUA FRIA  08460003     2        14     UIRAMUTA   \n",
       "11970                   UIRAMUTA  08460004     2        14     UIRAMUTA   \n",
       "11971  NOVA ESPERANÇA/MARCO BV-8  08461000     2        14    PACARAIMA   \n",
       "11972    MISSÃO AUARIS - JUSANTE  08464001     2        14    BOA VISTA   \n",
       "11975    FAZENDA BANDEIRA BRANCA  08560000     2        14     UIRAMUTA   \n",
       "\n",
       "         State Responsible  Latitude  Longitude   StartDate     EndDate  NYD  \\\n",
       "0         PARÁ       INMET   -0.6500   -47.5500  1958/01/01  1964/12/31    7   \n",
       "1         PARÁ         ANA   -0.6231   -47.3536  1977/12/09  2019/08/31   43   \n",
       "2         PARÁ         ANA   -0.7375   -47.8536  1981/07/01  2019/07/31   39   \n",
       "3         PARÁ         ANA   -0.9294   -47.0994  1982/02/18  2019/08/31   38   \n",
       "4         PARÁ         ANA   -0.6336   -47.6583  1989/08/21  2019/07/31   31   \n",
       "...        ...         ...       ...        ...         ...         ...  ...   \n",
       "11969  RORAIMA         ANA    4.6428   -60.4964  1996/03/02  2018/04/30   23   \n",
       "11970  RORAIMA         ANA    4.5986   -60.1664  2002/07/13  2019/07/31   18   \n",
       "11971  RORAIMA         ANA    4.4883   -61.1297  1984/03/23  2019/06/30   36   \n",
       "11972  RORAIMA         ANA    4.0031   -64.4431  1995/04/01  2019/06/30   25   \n",
       "11975  RORAIMA         ANA    4.6306   -60.4706  1976/01/01  1996/02/29   21   \n",
       "\n",
       "         MD  N_YWOMD   YWMD  \n",
       "0      25.0        0  100.0  \n",
       "1       3.5       35   18.6  \n",
       "2       2.4       29   25.6  \n",
       "3       0.0       35    7.9  \n",
       "4       5.0       20   35.5  \n",
       "...     ...      ...    ...  \n",
       "11969   1.8       16   30.4  \n",
       "11970   2.3       12   33.3  \n",
       "11971  12.3       13   63.9  \n",
       "11972   4.2       15   40.0  \n",
       "11975   5.6       12   42.9  \n",
       "\n",
       "[11893 rows x 15 columns]"
      ]
     },
     "execution_count": 8,
     "metadata": {},
     "output_type": "execute_result"
    }
   ],
   "source": [
    "# Deleting countries from the rain gauge list\n",
    "filt = ~df_all_gauges['State'].isin(countries)\n",
    "df_gauges = df_all_gauges[filt]\n",
    "df_gauges"
   ]
  },
  {
   "cell_type": "code",
   "execution_count": 9,
   "id": "97bc58af",
   "metadata": {},
   "outputs": [
    {
     "data": {
      "text/plain": [
       "pandas.core.frame.DataFrame"
      ]
     },
     "execution_count": 9,
     "metadata": {},
     "output_type": "execute_result"
    }
   ],
   "source": [
    "type(df_gauges)"
   ]
  },
  {
   "cell_type": "code",
   "execution_count": 10,
   "id": "fcf0a8db",
   "metadata": {},
   "outputs": [
    {
     "data": {
      "text/html": [
       "<div>\n",
       "<style scoped>\n",
       "    .dataframe tbody tr th:only-of-type {\n",
       "        vertical-align: middle;\n",
       "    }\n",
       "\n",
       "    .dataframe tbody tr th {\n",
       "        vertical-align: top;\n",
       "    }\n",
       "\n",
       "    .dataframe thead th {\n",
       "        text-align: right;\n",
       "    }\n",
       "</style>\n",
       "<table border=\"1\" class=\"dataframe\">\n",
       "  <thead>\n",
       "    <tr style=\"text-align: right;\">\n",
       "      <th></th>\n",
       "      <th>Name</th>\n",
       "      <th>Code</th>\n",
       "      <th>Type</th>\n",
       "      <th>SubBasin</th>\n",
       "      <th>City</th>\n",
       "      <th>State</th>\n",
       "      <th>Responsible</th>\n",
       "      <th>Latitude</th>\n",
       "      <th>Longitude</th>\n",
       "      <th>StartDate</th>\n",
       "      <th>EndDate</th>\n",
       "      <th>Years</th>\n",
       "      <th>Percentage_of_missing_data</th>\n",
       "      <th>Years_without_gaps</th>\n",
       "      <th>Percentage_of_missing_years</th>\n",
       "    </tr>\n",
       "  </thead>\n",
       "  <tbody>\n",
       "    <tr>\n",
       "      <th>0</th>\n",
       "      <td>SALINÓPOLIS</td>\n",
       "      <td>00047000</td>\n",
       "      <td>2</td>\n",
       "      <td>32</td>\n",
       "      <td>SALINÓPOLIS</td>\n",
       "      <td>PARÁ</td>\n",
       "      <td>INMET</td>\n",
       "      <td>-0.6500</td>\n",
       "      <td>-47.5500</td>\n",
       "      <td>1958/01/01</td>\n",
       "      <td>1964/12/31</td>\n",
       "      <td>7</td>\n",
       "      <td>25.0</td>\n",
       "      <td>0</td>\n",
       "      <td>100.0</td>\n",
       "    </tr>\n",
       "    <tr>\n",
       "      <th>1</th>\n",
       "      <td>SALINÓPOLIS</td>\n",
       "      <td>00047002</td>\n",
       "      <td>2</td>\n",
       "      <td>32</td>\n",
       "      <td>SALINÓPOLIS</td>\n",
       "      <td>PARÁ</td>\n",
       "      <td>ANA</td>\n",
       "      <td>-0.6231</td>\n",
       "      <td>-47.3536</td>\n",
       "      <td>1977/12/09</td>\n",
       "      <td>2019/08/31</td>\n",
       "      <td>43</td>\n",
       "      <td>3.5</td>\n",
       "      <td>35</td>\n",
       "      <td>18.6</td>\n",
       "    </tr>\n",
       "    <tr>\n",
       "      <th>2</th>\n",
       "      <td>CURUÇA</td>\n",
       "      <td>00047003</td>\n",
       "      <td>2</td>\n",
       "      <td>32</td>\n",
       "      <td>CURUÇA</td>\n",
       "      <td>PARÁ</td>\n",
       "      <td>ANA</td>\n",
       "      <td>-0.7375</td>\n",
       "      <td>-47.8536</td>\n",
       "      <td>1981/07/01</td>\n",
       "      <td>2019/07/31</td>\n",
       "      <td>39</td>\n",
       "      <td>2.4</td>\n",
       "      <td>29</td>\n",
       "      <td>25.6</td>\n",
       "    </tr>\n",
       "    <tr>\n",
       "      <th>3</th>\n",
       "      <td>PRIMAVERA</td>\n",
       "      <td>00047004</td>\n",
       "      <td>2</td>\n",
       "      <td>32</td>\n",
       "      <td>PRIMAVERA</td>\n",
       "      <td>PARÁ</td>\n",
       "      <td>ANA</td>\n",
       "      <td>-0.9294</td>\n",
       "      <td>-47.0994</td>\n",
       "      <td>1982/02/18</td>\n",
       "      <td>2019/08/31</td>\n",
       "      <td>38</td>\n",
       "      <td>0.0</td>\n",
       "      <td>35</td>\n",
       "      <td>7.9</td>\n",
       "    </tr>\n",
       "    <tr>\n",
       "      <th>4</th>\n",
       "      <td>MARUDA</td>\n",
       "      <td>00047005</td>\n",
       "      <td>2</td>\n",
       "      <td>32</td>\n",
       "      <td>MARAPANIM</td>\n",
       "      <td>PARÁ</td>\n",
       "      <td>ANA</td>\n",
       "      <td>-0.6336</td>\n",
       "      <td>-47.6583</td>\n",
       "      <td>1989/08/21</td>\n",
       "      <td>2019/07/31</td>\n",
       "      <td>31</td>\n",
       "      <td>5.0</td>\n",
       "      <td>20</td>\n",
       "      <td>35.5</td>\n",
       "    </tr>\n",
       "    <tr>\n",
       "      <th>...</th>\n",
       "      <td>...</td>\n",
       "      <td>...</td>\n",
       "      <td>...</td>\n",
       "      <td>...</td>\n",
       "      <td>...</td>\n",
       "      <td>...</td>\n",
       "      <td>...</td>\n",
       "      <td>...</td>\n",
       "      <td>...</td>\n",
       "      <td>...</td>\n",
       "      <td>...</td>\n",
       "      <td>...</td>\n",
       "      <td>...</td>\n",
       "      <td>...</td>\n",
       "      <td>...</td>\n",
       "    </tr>\n",
       "    <tr>\n",
       "      <th>11969</th>\n",
       "      <td>ÁGUA FRIA</td>\n",
       "      <td>08460003</td>\n",
       "      <td>2</td>\n",
       "      <td>14</td>\n",
       "      <td>UIRAMUTA</td>\n",
       "      <td>RORAIMA</td>\n",
       "      <td>ANA</td>\n",
       "      <td>4.6428</td>\n",
       "      <td>-60.4964</td>\n",
       "      <td>1996/03/02</td>\n",
       "      <td>2018/04/30</td>\n",
       "      <td>23</td>\n",
       "      <td>1.8</td>\n",
       "      <td>16</td>\n",
       "      <td>30.4</td>\n",
       "    </tr>\n",
       "    <tr>\n",
       "      <th>11970</th>\n",
       "      <td>UIRAMUTA</td>\n",
       "      <td>08460004</td>\n",
       "      <td>2</td>\n",
       "      <td>14</td>\n",
       "      <td>UIRAMUTA</td>\n",
       "      <td>RORAIMA</td>\n",
       "      <td>ANA</td>\n",
       "      <td>4.5986</td>\n",
       "      <td>-60.1664</td>\n",
       "      <td>2002/07/13</td>\n",
       "      <td>2019/07/31</td>\n",
       "      <td>18</td>\n",
       "      <td>2.3</td>\n",
       "      <td>12</td>\n",
       "      <td>33.3</td>\n",
       "    </tr>\n",
       "    <tr>\n",
       "      <th>11971</th>\n",
       "      <td>NOVA ESPERANÇA/MARCO BV-8</td>\n",
       "      <td>08461000</td>\n",
       "      <td>2</td>\n",
       "      <td>14</td>\n",
       "      <td>PACARAIMA</td>\n",
       "      <td>RORAIMA</td>\n",
       "      <td>ANA</td>\n",
       "      <td>4.4883</td>\n",
       "      <td>-61.1297</td>\n",
       "      <td>1984/03/23</td>\n",
       "      <td>2019/06/30</td>\n",
       "      <td>36</td>\n",
       "      <td>12.3</td>\n",
       "      <td>13</td>\n",
       "      <td>63.9</td>\n",
       "    </tr>\n",
       "    <tr>\n",
       "      <th>11972</th>\n",
       "      <td>MISSÃO AUARIS - JUSANTE</td>\n",
       "      <td>08464001</td>\n",
       "      <td>2</td>\n",
       "      <td>14</td>\n",
       "      <td>BOA VISTA</td>\n",
       "      <td>RORAIMA</td>\n",
       "      <td>ANA</td>\n",
       "      <td>4.0031</td>\n",
       "      <td>-64.4431</td>\n",
       "      <td>1995/04/01</td>\n",
       "      <td>2019/06/30</td>\n",
       "      <td>25</td>\n",
       "      <td>4.2</td>\n",
       "      <td>15</td>\n",
       "      <td>40.0</td>\n",
       "    </tr>\n",
       "    <tr>\n",
       "      <th>11975</th>\n",
       "      <td>FAZENDA BANDEIRA BRANCA</td>\n",
       "      <td>08560000</td>\n",
       "      <td>2</td>\n",
       "      <td>14</td>\n",
       "      <td>UIRAMUTA</td>\n",
       "      <td>RORAIMA</td>\n",
       "      <td>ANA</td>\n",
       "      <td>4.6306</td>\n",
       "      <td>-60.4706</td>\n",
       "      <td>1976/01/01</td>\n",
       "      <td>1996/02/29</td>\n",
       "      <td>21</td>\n",
       "      <td>5.6</td>\n",
       "      <td>12</td>\n",
       "      <td>42.9</td>\n",
       "    </tr>\n",
       "  </tbody>\n",
       "</table>\n",
       "<p>11893 rows × 15 columns</p>\n",
       "</div>"
      ],
      "text/plain": [
       "                            Name      Code  Type  SubBasin         City  \\\n",
       "0                    SALINÓPOLIS  00047000     2        32  SALINÓPOLIS   \n",
       "1                    SALINÓPOLIS  00047002     2        32  SALINÓPOLIS   \n",
       "2                         CURUÇA  00047003     2        32       CURUÇA   \n",
       "3                      PRIMAVERA  00047004     2        32    PRIMAVERA   \n",
       "4                         MARUDA  00047005     2        32    MARAPANIM   \n",
       "...                          ...       ...   ...       ...          ...   \n",
       "11969                  ÁGUA FRIA  08460003     2        14     UIRAMUTA   \n",
       "11970                   UIRAMUTA  08460004     2        14     UIRAMUTA   \n",
       "11971  NOVA ESPERANÇA/MARCO BV-8  08461000     2        14    PACARAIMA   \n",
       "11972    MISSÃO AUARIS - JUSANTE  08464001     2        14    BOA VISTA   \n",
       "11975    FAZENDA BANDEIRA BRANCA  08560000     2        14     UIRAMUTA   \n",
       "\n",
       "         State Responsible  Latitude  Longitude   StartDate     EndDate  \\\n",
       "0         PARÁ       INMET   -0.6500   -47.5500  1958/01/01  1964/12/31   \n",
       "1         PARÁ         ANA   -0.6231   -47.3536  1977/12/09  2019/08/31   \n",
       "2         PARÁ         ANA   -0.7375   -47.8536  1981/07/01  2019/07/31   \n",
       "3         PARÁ         ANA   -0.9294   -47.0994  1982/02/18  2019/08/31   \n",
       "4         PARÁ         ANA   -0.6336   -47.6583  1989/08/21  2019/07/31   \n",
       "...        ...         ...       ...        ...         ...         ...   \n",
       "11969  RORAIMA         ANA    4.6428   -60.4964  1996/03/02  2018/04/30   \n",
       "11970  RORAIMA         ANA    4.5986   -60.1664  2002/07/13  2019/07/31   \n",
       "11971  RORAIMA         ANA    4.4883   -61.1297  1984/03/23  2019/06/30   \n",
       "11972  RORAIMA         ANA    4.0031   -64.4431  1995/04/01  2019/06/30   \n",
       "11975  RORAIMA         ANA    4.6306   -60.4706  1976/01/01  1996/02/29   \n",
       "\n",
       "       Years  Percentage_of_missing_data  Years_without_gaps  \\\n",
       "0          7                        25.0                   0   \n",
       "1         43                         3.5                  35   \n",
       "2         39                         2.4                  29   \n",
       "3         38                         0.0                  35   \n",
       "4         31                         5.0                  20   \n",
       "...      ...                         ...                 ...   \n",
       "11969     23                         1.8                  16   \n",
       "11970     18                         2.3                  12   \n",
       "11971     36                        12.3                  13   \n",
       "11972     25                         4.2                  15   \n",
       "11975     21                         5.6                  12   \n",
       "\n",
       "       Percentage_of_missing_years  \n",
       "0                            100.0  \n",
       "1                             18.6  \n",
       "2                             25.6  \n",
       "3                              7.9  \n",
       "4                             35.5  \n",
       "...                            ...  \n",
       "11969                         30.4  \n",
       "11970                         33.3  \n",
       "11971                         63.9  \n",
       "11972                         40.0  \n",
       "11975                         42.9  \n",
       "\n",
       "[11893 rows x 15 columns]"
      ]
     },
     "execution_count": 10,
     "metadata": {},
     "output_type": "execute_result"
    }
   ],
   "source": [
    "# Renaming some columns\n",
    "df_gauges.rename(columns = {'NYD':'Years', 'MD':'Percentage_of_missing_data', 'N_YWOMD':'Years_without_gaps', \n",
    "                     'YWMD':'Percentage_of_missing_years'}, inplace = True)\n",
    "df_gauges"
   ]
  },
  {
   "cell_type": "code",
   "execution_count": 11,
   "id": "e4a6d770",
   "metadata": {},
   "outputs": [],
   "source": [
    "# Adjusting collumn types\n",
    "df_gauges['StartDate'] = pd.to_datetime(df_gauges['StartDate'])\n",
    "df_gauges['EndDate'] = pd.to_datetime(df_gauges['EndDate'])"
   ]
  },
  {
   "cell_type": "code",
   "execution_count": 12,
   "id": "dde144e5",
   "metadata": {},
   "outputs": [
    {
     "data": {
      "text/html": [
       "<div>\n",
       "<style scoped>\n",
       "    .dataframe tbody tr th:only-of-type {\n",
       "        vertical-align: middle;\n",
       "    }\n",
       "\n",
       "    .dataframe tbody tr th {\n",
       "        vertical-align: top;\n",
       "    }\n",
       "\n",
       "    .dataframe thead th {\n",
       "        text-align: right;\n",
       "    }\n",
       "</style>\n",
       "<table border=\"1\" class=\"dataframe\">\n",
       "  <thead>\n",
       "    <tr style=\"text-align: right;\">\n",
       "      <th></th>\n",
       "      <th>Name</th>\n",
       "      <th>Code</th>\n",
       "      <th>Type</th>\n",
       "      <th>SubBasin</th>\n",
       "      <th>City</th>\n",
       "      <th>State</th>\n",
       "      <th>Responsible</th>\n",
       "      <th>Latitude</th>\n",
       "      <th>Longitude</th>\n",
       "      <th>StartDate</th>\n",
       "      <th>EndDate</th>\n",
       "      <th>Years</th>\n",
       "      <th>Percentage_of_missing_data</th>\n",
       "      <th>Years_without_gaps</th>\n",
       "      <th>Percentage_of_missing_years</th>\n",
       "    </tr>\n",
       "  </thead>\n",
       "  <tbody>\n",
       "    <tr>\n",
       "      <th>0</th>\n",
       "      <td>SALINÓPOLIS</td>\n",
       "      <td>00047000</td>\n",
       "      <td>2</td>\n",
       "      <td>32</td>\n",
       "      <td>SALINÓPOLIS</td>\n",
       "      <td>PARÁ</td>\n",
       "      <td>INMET</td>\n",
       "      <td>-0.6500</td>\n",
       "      <td>-47.5500</td>\n",
       "      <td>1958-01-01</td>\n",
       "      <td>1964-12-31</td>\n",
       "      <td>7</td>\n",
       "      <td>25.0</td>\n",
       "      <td>0</td>\n",
       "      <td>100.0</td>\n",
       "    </tr>\n",
       "    <tr>\n",
       "      <th>1</th>\n",
       "      <td>SALINÓPOLIS</td>\n",
       "      <td>00047002</td>\n",
       "      <td>2</td>\n",
       "      <td>32</td>\n",
       "      <td>SALINÓPOLIS</td>\n",
       "      <td>PARÁ</td>\n",
       "      <td>ANA</td>\n",
       "      <td>-0.6231</td>\n",
       "      <td>-47.3536</td>\n",
       "      <td>1977-12-09</td>\n",
       "      <td>2019-08-31</td>\n",
       "      <td>43</td>\n",
       "      <td>3.5</td>\n",
       "      <td>35</td>\n",
       "      <td>18.6</td>\n",
       "    </tr>\n",
       "    <tr>\n",
       "      <th>2</th>\n",
       "      <td>CURUÇA</td>\n",
       "      <td>00047003</td>\n",
       "      <td>2</td>\n",
       "      <td>32</td>\n",
       "      <td>CURUÇA</td>\n",
       "      <td>PARÁ</td>\n",
       "      <td>ANA</td>\n",
       "      <td>-0.7375</td>\n",
       "      <td>-47.8536</td>\n",
       "      <td>1981-07-01</td>\n",
       "      <td>2019-07-31</td>\n",
       "      <td>39</td>\n",
       "      <td>2.4</td>\n",
       "      <td>29</td>\n",
       "      <td>25.6</td>\n",
       "    </tr>\n",
       "    <tr>\n",
       "      <th>3</th>\n",
       "      <td>PRIMAVERA</td>\n",
       "      <td>00047004</td>\n",
       "      <td>2</td>\n",
       "      <td>32</td>\n",
       "      <td>PRIMAVERA</td>\n",
       "      <td>PARÁ</td>\n",
       "      <td>ANA</td>\n",
       "      <td>-0.9294</td>\n",
       "      <td>-47.0994</td>\n",
       "      <td>1982-02-18</td>\n",
       "      <td>2019-08-31</td>\n",
       "      <td>38</td>\n",
       "      <td>0.0</td>\n",
       "      <td>35</td>\n",
       "      <td>7.9</td>\n",
       "    </tr>\n",
       "    <tr>\n",
       "      <th>4</th>\n",
       "      <td>MARUDA</td>\n",
       "      <td>00047005</td>\n",
       "      <td>2</td>\n",
       "      <td>32</td>\n",
       "      <td>MARAPANIM</td>\n",
       "      <td>PARÁ</td>\n",
       "      <td>ANA</td>\n",
       "      <td>-0.6336</td>\n",
       "      <td>-47.6583</td>\n",
       "      <td>1989-08-21</td>\n",
       "      <td>2019-07-31</td>\n",
       "      <td>31</td>\n",
       "      <td>5.0</td>\n",
       "      <td>20</td>\n",
       "      <td>35.5</td>\n",
       "    </tr>\n",
       "    <tr>\n",
       "      <th>...</th>\n",
       "      <td>...</td>\n",
       "      <td>...</td>\n",
       "      <td>...</td>\n",
       "      <td>...</td>\n",
       "      <td>...</td>\n",
       "      <td>...</td>\n",
       "      <td>...</td>\n",
       "      <td>...</td>\n",
       "      <td>...</td>\n",
       "      <td>...</td>\n",
       "      <td>...</td>\n",
       "      <td>...</td>\n",
       "      <td>...</td>\n",
       "      <td>...</td>\n",
       "      <td>...</td>\n",
       "    </tr>\n",
       "    <tr>\n",
       "      <th>11969</th>\n",
       "      <td>ÁGUA FRIA</td>\n",
       "      <td>08460003</td>\n",
       "      <td>2</td>\n",
       "      <td>14</td>\n",
       "      <td>UIRAMUTA</td>\n",
       "      <td>RORAIMA</td>\n",
       "      <td>ANA</td>\n",
       "      <td>4.6428</td>\n",
       "      <td>-60.4964</td>\n",
       "      <td>1996-03-02</td>\n",
       "      <td>2018-04-30</td>\n",
       "      <td>23</td>\n",
       "      <td>1.8</td>\n",
       "      <td>16</td>\n",
       "      <td>30.4</td>\n",
       "    </tr>\n",
       "    <tr>\n",
       "      <th>11970</th>\n",
       "      <td>UIRAMUTA</td>\n",
       "      <td>08460004</td>\n",
       "      <td>2</td>\n",
       "      <td>14</td>\n",
       "      <td>UIRAMUTA</td>\n",
       "      <td>RORAIMA</td>\n",
       "      <td>ANA</td>\n",
       "      <td>4.5986</td>\n",
       "      <td>-60.1664</td>\n",
       "      <td>2002-07-13</td>\n",
       "      <td>2019-07-31</td>\n",
       "      <td>18</td>\n",
       "      <td>2.3</td>\n",
       "      <td>12</td>\n",
       "      <td>33.3</td>\n",
       "    </tr>\n",
       "    <tr>\n",
       "      <th>11971</th>\n",
       "      <td>NOVA ESPERANÇA/MARCO BV-8</td>\n",
       "      <td>08461000</td>\n",
       "      <td>2</td>\n",
       "      <td>14</td>\n",
       "      <td>PACARAIMA</td>\n",
       "      <td>RORAIMA</td>\n",
       "      <td>ANA</td>\n",
       "      <td>4.4883</td>\n",
       "      <td>-61.1297</td>\n",
       "      <td>1984-03-23</td>\n",
       "      <td>2019-06-30</td>\n",
       "      <td>36</td>\n",
       "      <td>12.3</td>\n",
       "      <td>13</td>\n",
       "      <td>63.9</td>\n",
       "    </tr>\n",
       "    <tr>\n",
       "      <th>11972</th>\n",
       "      <td>MISSÃO AUARIS - JUSANTE</td>\n",
       "      <td>08464001</td>\n",
       "      <td>2</td>\n",
       "      <td>14</td>\n",
       "      <td>BOA VISTA</td>\n",
       "      <td>RORAIMA</td>\n",
       "      <td>ANA</td>\n",
       "      <td>4.0031</td>\n",
       "      <td>-64.4431</td>\n",
       "      <td>1995-04-01</td>\n",
       "      <td>2019-06-30</td>\n",
       "      <td>25</td>\n",
       "      <td>4.2</td>\n",
       "      <td>15</td>\n",
       "      <td>40.0</td>\n",
       "    </tr>\n",
       "    <tr>\n",
       "      <th>11975</th>\n",
       "      <td>FAZENDA BANDEIRA BRANCA</td>\n",
       "      <td>08560000</td>\n",
       "      <td>2</td>\n",
       "      <td>14</td>\n",
       "      <td>UIRAMUTA</td>\n",
       "      <td>RORAIMA</td>\n",
       "      <td>ANA</td>\n",
       "      <td>4.6306</td>\n",
       "      <td>-60.4706</td>\n",
       "      <td>1976-01-01</td>\n",
       "      <td>1996-02-29</td>\n",
       "      <td>21</td>\n",
       "      <td>5.6</td>\n",
       "      <td>12</td>\n",
       "      <td>42.9</td>\n",
       "    </tr>\n",
       "  </tbody>\n",
       "</table>\n",
       "<p>11893 rows × 15 columns</p>\n",
       "</div>"
      ],
      "text/plain": [
       "                            Name      Code  Type  SubBasin         City  \\\n",
       "0                    SALINÓPOLIS  00047000     2        32  SALINÓPOLIS   \n",
       "1                    SALINÓPOLIS  00047002     2        32  SALINÓPOLIS   \n",
       "2                         CURUÇA  00047003     2        32       CURUÇA   \n",
       "3                      PRIMAVERA  00047004     2        32    PRIMAVERA   \n",
       "4                         MARUDA  00047005     2        32    MARAPANIM   \n",
       "...                          ...       ...   ...       ...          ...   \n",
       "11969                  ÁGUA FRIA  08460003     2        14     UIRAMUTA   \n",
       "11970                   UIRAMUTA  08460004     2        14     UIRAMUTA   \n",
       "11971  NOVA ESPERANÇA/MARCO BV-8  08461000     2        14    PACARAIMA   \n",
       "11972    MISSÃO AUARIS - JUSANTE  08464001     2        14    BOA VISTA   \n",
       "11975    FAZENDA BANDEIRA BRANCA  08560000     2        14     UIRAMUTA   \n",
       "\n",
       "         State Responsible  Latitude  Longitude  StartDate    EndDate  Years  \\\n",
       "0         PARÁ       INMET   -0.6500   -47.5500 1958-01-01 1964-12-31      7   \n",
       "1         PARÁ         ANA   -0.6231   -47.3536 1977-12-09 2019-08-31     43   \n",
       "2         PARÁ         ANA   -0.7375   -47.8536 1981-07-01 2019-07-31     39   \n",
       "3         PARÁ         ANA   -0.9294   -47.0994 1982-02-18 2019-08-31     38   \n",
       "4         PARÁ         ANA   -0.6336   -47.6583 1989-08-21 2019-07-31     31   \n",
       "...        ...         ...       ...        ...        ...        ...    ...   \n",
       "11969  RORAIMA         ANA    4.6428   -60.4964 1996-03-02 2018-04-30     23   \n",
       "11970  RORAIMA         ANA    4.5986   -60.1664 2002-07-13 2019-07-31     18   \n",
       "11971  RORAIMA         ANA    4.4883   -61.1297 1984-03-23 2019-06-30     36   \n",
       "11972  RORAIMA         ANA    4.0031   -64.4431 1995-04-01 2019-06-30     25   \n",
       "11975  RORAIMA         ANA    4.6306   -60.4706 1976-01-01 1996-02-29     21   \n",
       "\n",
       "       Percentage_of_missing_data  Years_without_gaps  \\\n",
       "0                            25.0                   0   \n",
       "1                             3.5                  35   \n",
       "2                             2.4                  29   \n",
       "3                             0.0                  35   \n",
       "4                             5.0                  20   \n",
       "...                           ...                 ...   \n",
       "11969                         1.8                  16   \n",
       "11970                         2.3                  12   \n",
       "11971                        12.3                  13   \n",
       "11972                         4.2                  15   \n",
       "11975                         5.6                  12   \n",
       "\n",
       "       Percentage_of_missing_years  \n",
       "0                            100.0  \n",
       "1                             18.6  \n",
       "2                             25.6  \n",
       "3                              7.9  \n",
       "4                             35.5  \n",
       "...                            ...  \n",
       "11969                         30.4  \n",
       "11970                         33.3  \n",
       "11971                         63.9  \n",
       "11972                         40.0  \n",
       "11975                         42.9  \n",
       "\n",
       "[11893 rows x 15 columns]"
      ]
     },
     "execution_count": 12,
     "metadata": {},
     "output_type": "execute_result"
    }
   ],
   "source": [
    "df_gauges.describe()\n",
    "df_gauges.dtypes\n",
    "df_gauges"
   ]
  },
  {
   "cell_type": "code",
   "execution_count": null,
   "id": "439b5ad3",
   "metadata": {},
   "outputs": [],
   "source": []
  },
  {
   "cell_type": "code",
   "execution_count": 13,
   "id": "94732c51",
   "metadata": {},
   "outputs": [
    {
     "data": {
      "text/html": [
       "<div>\n",
       "<style scoped>\n",
       "    .dataframe tbody tr th:only-of-type {\n",
       "        vertical-align: middle;\n",
       "    }\n",
       "\n",
       "    .dataframe tbody tr th {\n",
       "        vertical-align: top;\n",
       "    }\n",
       "\n",
       "    .dataframe thead th {\n",
       "        text-align: right;\n",
       "    }\n",
       "</style>\n",
       "<table border=\"1\" class=\"dataframe\">\n",
       "  <thead>\n",
       "    <tr style=\"text-align: right;\">\n",
       "      <th></th>\n",
       "      <th>State</th>\n",
       "      <th>Code</th>\n",
       "    </tr>\n",
       "  </thead>\n",
       "  <tbody>\n",
       "    <tr>\n",
       "      <th>0</th>\n",
       "      <td>SÃO PAULO</td>\n",
       "      <td>2271</td>\n",
       "    </tr>\n",
       "    <tr>\n",
       "      <th>1</th>\n",
       "      <td>BAHIA</td>\n",
       "      <td>1226</td>\n",
       "    </tr>\n",
       "    <tr>\n",
       "      <th>2</th>\n",
       "      <td>PARANÁ</td>\n",
       "      <td>1185</td>\n",
       "    </tr>\n",
       "    <tr>\n",
       "      <th>3</th>\n",
       "      <td>MINAS GERAIS</td>\n",
       "      <td>1150</td>\n",
       "    </tr>\n",
       "    <tr>\n",
       "      <th>4</th>\n",
       "      <td>CEARÁ</td>\n",
       "      <td>1149</td>\n",
       "    </tr>\n",
       "    <tr>\n",
       "      <th>5</th>\n",
       "      <td>RIO DE JANEIRO</td>\n",
       "      <td>595</td>\n",
       "    </tr>\n",
       "    <tr>\n",
       "      <th>6</th>\n",
       "      <td>RIO GRANDE DO SUL</td>\n",
       "      <td>540</td>\n",
       "    </tr>\n",
       "    <tr>\n",
       "      <th>7</th>\n",
       "      <td>PERNAMBUCO</td>\n",
       "      <td>374</td>\n",
       "    </tr>\n",
       "    <tr>\n",
       "      <th>8</th>\n",
       "      <td>PARAÍBA</td>\n",
       "      <td>360</td>\n",
       "    </tr>\n",
       "    <tr>\n",
       "      <th>9</th>\n",
       "      <td>PIAUÍ</td>\n",
       "      <td>321</td>\n",
       "    </tr>\n",
       "    <tr>\n",
       "      <th>10</th>\n",
       "      <td>PARÁ</td>\n",
       "      <td>285</td>\n",
       "    </tr>\n",
       "    <tr>\n",
       "      <th>11</th>\n",
       "      <td>SANTA CATARINA</td>\n",
       "      <td>268</td>\n",
       "    </tr>\n",
       "    <tr>\n",
       "      <th>12</th>\n",
       "      <td>AMAZONAS</td>\n",
       "      <td>268</td>\n",
       "    </tr>\n",
       "    <tr>\n",
       "      <th>13</th>\n",
       "      <td>MATO GROSSO</td>\n",
       "      <td>268</td>\n",
       "    </tr>\n",
       "    <tr>\n",
       "      <th>14</th>\n",
       "      <td>MARANHÃO</td>\n",
       "      <td>241</td>\n",
       "    </tr>\n",
       "    <tr>\n",
       "      <th>15</th>\n",
       "      <td>GOIÁS</td>\n",
       "      <td>236</td>\n",
       "    </tr>\n",
       "    <tr>\n",
       "      <th>16</th>\n",
       "      <td>MATO GROSSO DO SUL</td>\n",
       "      <td>187</td>\n",
       "    </tr>\n",
       "    <tr>\n",
       "      <th>17</th>\n",
       "      <td>RIO GRANDE DO NORTE</td>\n",
       "      <td>175</td>\n",
       "    </tr>\n",
       "    <tr>\n",
       "      <th>18</th>\n",
       "      <td>ESPÍRITO SANTO</td>\n",
       "      <td>170</td>\n",
       "    </tr>\n",
       "    <tr>\n",
       "      <th>19</th>\n",
       "      <td>ALAGOAS</td>\n",
       "      <td>117</td>\n",
       "    </tr>\n",
       "    <tr>\n",
       "      <th>20</th>\n",
       "      <td>SERGIPE</td>\n",
       "      <td>102</td>\n",
       "    </tr>\n",
       "    <tr>\n",
       "      <th>21</th>\n",
       "      <td>TOCANTINS</td>\n",
       "      <td>95</td>\n",
       "    </tr>\n",
       "    <tr>\n",
       "      <th>22</th>\n",
       "      <td>RONDÔNIA</td>\n",
       "      <td>84</td>\n",
       "    </tr>\n",
       "    <tr>\n",
       "      <th>23</th>\n",
       "      <td>DISTRITO FEDERAL</td>\n",
       "      <td>83</td>\n",
       "    </tr>\n",
       "    <tr>\n",
       "      <th>24</th>\n",
       "      <td>RORAIMA</td>\n",
       "      <td>55</td>\n",
       "    </tr>\n",
       "    <tr>\n",
       "      <th>25</th>\n",
       "      <td>ACRE</td>\n",
       "      <td>50</td>\n",
       "    </tr>\n",
       "    <tr>\n",
       "      <th>26</th>\n",
       "      <td>AMAPÁ</td>\n",
       "      <td>38</td>\n",
       "    </tr>\n",
       "  </tbody>\n",
       "</table>\n",
       "</div>"
      ],
      "text/plain": [
       "                  State  Code\n",
       "0             SÃO PAULO  2271\n",
       "1                 BAHIA  1226\n",
       "2                PARANÁ  1185\n",
       "3          MINAS GERAIS  1150\n",
       "4                 CEARÁ  1149\n",
       "5        RIO DE JANEIRO   595\n",
       "6     RIO GRANDE DO SUL   540\n",
       "7            PERNAMBUCO   374\n",
       "8               PARAÍBA   360\n",
       "9                 PIAUÍ   321\n",
       "10                 PARÁ   285\n",
       "11       SANTA CATARINA   268\n",
       "12             AMAZONAS   268\n",
       "13          MATO GROSSO   268\n",
       "14             MARANHÃO   241\n",
       "15                GOIÁS   236\n",
       "16   MATO GROSSO DO SUL   187\n",
       "17  RIO GRANDE DO NORTE   175\n",
       "18       ESPÍRITO SANTO   170\n",
       "19              ALAGOAS   117\n",
       "20              SERGIPE   102\n",
       "21            TOCANTINS    95\n",
       "22             RONDÔNIA    84\n",
       "23     DISTRITO FEDERAL    83\n",
       "24              RORAIMA    55\n",
       "25                 ACRE    50\n",
       "26                AMAPÁ    38"
      ]
     },
     "execution_count": 13,
     "metadata": {},
     "output_type": "execute_result"
    }
   ],
   "source": [
    "data_state = pd.pivot_table(df_gauges[['Code', 'State']], values='Code', index=['State'], aggfunc=np.count_nonzero)\n",
    "data_state.sort_values('Code', inplace=True, ascending=False)\n",
    "data_state.reset_index(inplace=True)\n",
    "data_state"
   ]
  },
  {
   "cell_type": "markdown",
   "id": "d2326c08",
   "metadata": {},
   "source": [
    "### Downloading rainfall daily data"
   ]
  },
  {
   "cell_type": "code",
   "execution_count": 14,
   "id": "6a532216",
   "metadata": {},
   "outputs": [
    {
     "data": {
      "text/html": [
       "<div>\n",
       "<style scoped>\n",
       "    .dataframe tbody tr th:only-of-type {\n",
       "        vertical-align: middle;\n",
       "    }\n",
       "\n",
       "    .dataframe tbody tr th {\n",
       "        vertical-align: top;\n",
       "    }\n",
       "\n",
       "    .dataframe thead th {\n",
       "        text-align: right;\n",
       "    }\n",
       "</style>\n",
       "<table border=\"1\" class=\"dataframe\">\n",
       "  <thead>\n",
       "    <tr style=\"text-align: right;\">\n",
       "      <th></th>\n",
       "      <th>Name</th>\n",
       "      <th>Code</th>\n",
       "      <th>Type</th>\n",
       "      <th>SubBasin</th>\n",
       "      <th>City</th>\n",
       "      <th>State</th>\n",
       "      <th>Responsible</th>\n",
       "      <th>Latitude</th>\n",
       "      <th>Longitude</th>\n",
       "      <th>StartDate</th>\n",
       "      <th>EndDate</th>\n",
       "      <th>Years</th>\n",
       "      <th>Percentage_of_missing_data</th>\n",
       "      <th>Years_without_gaps</th>\n",
       "      <th>Percentage_of_missing_years</th>\n",
       "    </tr>\n",
       "  </thead>\n",
       "  <tbody>\n",
       "    <tr>\n",
       "      <th>11259</th>\n",
       "      <td>MARCELINO RAMOS</td>\n",
       "      <td>02751005</td>\n",
       "      <td>2</td>\n",
       "      <td>73</td>\n",
       "      <td>MARCELINO RAMOS</td>\n",
       "      <td>RIO GRANDE DO SUL</td>\n",
       "      <td>ELETROSUL</td>\n",
       "      <td>-27.4611</td>\n",
       "      <td>-51.9136</td>\n",
       "      <td>1935-09-01</td>\n",
       "      <td>1992-10-31</td>\n",
       "      <td>58</td>\n",
       "      <td>37.9</td>\n",
       "      <td>23</td>\n",
       "      <td>60.3</td>\n",
       "    </tr>\n",
       "    <tr>\n",
       "      <th>11260</th>\n",
       "      <td>PAIM FILHO</td>\n",
       "      <td>02751006</td>\n",
       "      <td>2</td>\n",
       "      <td>72</td>\n",
       "      <td>PAIM FILHO</td>\n",
       "      <td>RIO GRANDE DO SUL</td>\n",
       "      <td>ANA</td>\n",
       "      <td>-27.7125</td>\n",
       "      <td>-51.7378</td>\n",
       "      <td>1957-10-17</td>\n",
       "      <td>2019-10-31</td>\n",
       "      <td>63</td>\n",
       "      <td>1.4</td>\n",
       "      <td>57</td>\n",
       "      <td>9.5</td>\n",
       "    </tr>\n",
       "    <tr>\n",
       "      <th>11261</th>\n",
       "      <td>SANANDUVA</td>\n",
       "      <td>02751007</td>\n",
       "      <td>2</td>\n",
       "      <td>72</td>\n",
       "      <td>SANANDUVA</td>\n",
       "      <td>RIO GRANDE DO SUL</td>\n",
       "      <td>ANA</td>\n",
       "      <td>-27.9828</td>\n",
       "      <td>-51.7836</td>\n",
       "      <td>1957-07-03</td>\n",
       "      <td>2019-10-31</td>\n",
       "      <td>63</td>\n",
       "      <td>1.5</td>\n",
       "      <td>55</td>\n",
       "      <td>12.7</td>\n",
       "    </tr>\n",
       "    <tr>\n",
       "      <th>11262</th>\n",
       "      <td>PCH FORQUILHA  BARRAMENTO</td>\n",
       "      <td>02751008</td>\n",
       "      <td>2</td>\n",
       "      <td>72</td>\n",
       "      <td>MAXIMILIANO DE ALME</td>\n",
       "      <td>RIO GRANDE DO SUL</td>\n",
       "      <td>CEEE</td>\n",
       "      <td>-27.6589</td>\n",
       "      <td>-51.7483</td>\n",
       "      <td>1949-06-01</td>\n",
       "      <td>1981-12-31</td>\n",
       "      <td>33</td>\n",
       "      <td>0.0</td>\n",
       "      <td>32</td>\n",
       "      <td>3.0</td>\n",
       "    </tr>\n",
       "    <tr>\n",
       "      <th>11267</th>\n",
       "      <td>BARRACÃO</td>\n",
       "      <td>02751015</td>\n",
       "      <td>2</td>\n",
       "      <td>70</td>\n",
       "      <td>BARRACÃO</td>\n",
       "      <td>RIO GRANDE DO SUL</td>\n",
       "      <td>ANA</td>\n",
       "      <td>-27.6786</td>\n",
       "      <td>-51.4547</td>\n",
       "      <td>1977-12-01</td>\n",
       "      <td>2019-10-31</td>\n",
       "      <td>43</td>\n",
       "      <td>1.8</td>\n",
       "      <td>27</td>\n",
       "      <td>37.2</td>\n",
       "    </tr>\n",
       "    <tr>\n",
       "      <th>...</th>\n",
       "      <td>...</td>\n",
       "      <td>...</td>\n",
       "      <td>...</td>\n",
       "      <td>...</td>\n",
       "      <td>...</td>\n",
       "      <td>...</td>\n",
       "      <td>...</td>\n",
       "      <td>...</td>\n",
       "      <td>...</td>\n",
       "      <td>...</td>\n",
       "      <td>...</td>\n",
       "      <td>...</td>\n",
       "      <td>...</td>\n",
       "      <td>...</td>\n",
       "      <td>...</td>\n",
       "    </tr>\n",
       "    <tr>\n",
       "      <th>11854</th>\n",
       "      <td>CORDÃO</td>\n",
       "      <td>03353002</td>\n",
       "      <td>2</td>\n",
       "      <td>88</td>\n",
       "      <td>SANTA VITÓRIA DO PA</td>\n",
       "      <td>RIO GRANDE DO SUL</td>\n",
       "      <td>ANA</td>\n",
       "      <td>-33.1000</td>\n",
       "      <td>-53.0500</td>\n",
       "      <td>1967-05-01</td>\n",
       "      <td>1975-04-30</td>\n",
       "      <td>9</td>\n",
       "      <td>4.2</td>\n",
       "      <td>3</td>\n",
       "      <td>66.7</td>\n",
       "    </tr>\n",
       "    <tr>\n",
       "      <th>11855</th>\n",
       "      <td>SANTA VITÓRIA - PAU FINCADO</td>\n",
       "      <td>03353004</td>\n",
       "      <td>2</td>\n",
       "      <td>88</td>\n",
       "      <td>SANTA VITÓRIA DO PA</td>\n",
       "      <td>RIO GRANDE DO SUL</td>\n",
       "      <td>CLM</td>\n",
       "      <td>-33.1167</td>\n",
       "      <td>-53.2000</td>\n",
       "      <td>1967-03-01</td>\n",
       "      <td>1976-04-30</td>\n",
       "      <td>10</td>\n",
       "      <td>6.7</td>\n",
       "      <td>5</td>\n",
       "      <td>50.0</td>\n",
       "    </tr>\n",
       "    <tr>\n",
       "      <th>11856</th>\n",
       "      <td>SANTA AMÉLIA</td>\n",
       "      <td>03353006</td>\n",
       "      <td>2</td>\n",
       "      <td>88</td>\n",
       "      <td>SANTA VITÓRIA DO PA</td>\n",
       "      <td>RIO GRANDE DO SUL</td>\n",
       "      <td>CLM</td>\n",
       "      <td>-33.3667</td>\n",
       "      <td>-53.1833</td>\n",
       "      <td>1971-01-01</td>\n",
       "      <td>1981-05-31</td>\n",
       "      <td>11</td>\n",
       "      <td>1.6</td>\n",
       "      <td>6</td>\n",
       "      <td>45.5</td>\n",
       "    </tr>\n",
       "    <tr>\n",
       "      <th>11857</th>\n",
       "      <td>SANTA VITÓRIA DO PALMAR</td>\n",
       "      <td>03353007</td>\n",
       "      <td>2</td>\n",
       "      <td>88</td>\n",
       "      <td>SANTA VITÓRIA DO PA</td>\n",
       "      <td>RIO GRANDE DO SUL</td>\n",
       "      <td>INMET</td>\n",
       "      <td>-33.5325</td>\n",
       "      <td>-53.3494</td>\n",
       "      <td>1934-01-01</td>\n",
       "      <td>1998-12-31</td>\n",
       "      <td>65</td>\n",
       "      <td>16.0</td>\n",
       "      <td>32</td>\n",
       "      <td>50.8</td>\n",
       "    </tr>\n",
       "    <tr>\n",
       "      <th>11858</th>\n",
       "      <td>SANTA VITÓRIA PALMAR</td>\n",
       "      <td>03353009</td>\n",
       "      <td>2</td>\n",
       "      <td>88</td>\n",
       "      <td>SANTA VITÓRIA DO PA</td>\n",
       "      <td>RIO GRANDE DO SUL</td>\n",
       "      <td>CLM</td>\n",
       "      <td>-33.4833</td>\n",
       "      <td>-53.4167</td>\n",
       "      <td>1978-01-01</td>\n",
       "      <td>1978-12-31</td>\n",
       "      <td>1</td>\n",
       "      <td>0.0</td>\n",
       "      <td>1</td>\n",
       "      <td>0.0</td>\n",
       "    </tr>\n",
       "  </tbody>\n",
       "</table>\n",
       "<p>540 rows × 15 columns</p>\n",
       "</div>"
      ],
      "text/plain": [
       "                              Name      Code  Type  SubBasin  \\\n",
       "11259              MARCELINO RAMOS  02751005     2        73   \n",
       "11260                   PAIM FILHO  02751006     2        72   \n",
       "11261                    SANANDUVA  02751007     2        72   \n",
       "11262    PCH FORQUILHA  BARRAMENTO  02751008     2        72   \n",
       "11267                     BARRACÃO  02751015     2        70   \n",
       "...                            ...       ...   ...       ...   \n",
       "11854                       CORDÃO  03353002     2        88   \n",
       "11855  SANTA VITÓRIA - PAU FINCADO  03353004     2        88   \n",
       "11856                 SANTA AMÉLIA  03353006     2        88   \n",
       "11857      SANTA VITÓRIA DO PALMAR  03353007     2        88   \n",
       "11858         SANTA VITÓRIA PALMAR  03353009     2        88   \n",
       "\n",
       "                      City              State Responsible  Latitude  \\\n",
       "11259      MARCELINO RAMOS  RIO GRANDE DO SUL   ELETROSUL  -27.4611   \n",
       "11260           PAIM FILHO  RIO GRANDE DO SUL         ANA  -27.7125   \n",
       "11261            SANANDUVA  RIO GRANDE DO SUL         ANA  -27.9828   \n",
       "11262  MAXIMILIANO DE ALME  RIO GRANDE DO SUL        CEEE  -27.6589   \n",
       "11267             BARRACÃO  RIO GRANDE DO SUL         ANA  -27.6786   \n",
       "...                    ...                ...         ...       ...   \n",
       "11854  SANTA VITÓRIA DO PA  RIO GRANDE DO SUL         ANA  -33.1000   \n",
       "11855  SANTA VITÓRIA DO PA  RIO GRANDE DO SUL         CLM  -33.1167   \n",
       "11856  SANTA VITÓRIA DO PA  RIO GRANDE DO SUL         CLM  -33.3667   \n",
       "11857  SANTA VITÓRIA DO PA  RIO GRANDE DO SUL       INMET  -33.5325   \n",
       "11858  SANTA VITÓRIA DO PA  RIO GRANDE DO SUL         CLM  -33.4833   \n",
       "\n",
       "       Longitude  StartDate    EndDate  Years  Percentage_of_missing_data  \\\n",
       "11259   -51.9136 1935-09-01 1992-10-31     58                        37.9   \n",
       "11260   -51.7378 1957-10-17 2019-10-31     63                         1.4   \n",
       "11261   -51.7836 1957-07-03 2019-10-31     63                         1.5   \n",
       "11262   -51.7483 1949-06-01 1981-12-31     33                         0.0   \n",
       "11267   -51.4547 1977-12-01 2019-10-31     43                         1.8   \n",
       "...          ...        ...        ...    ...                         ...   \n",
       "11854   -53.0500 1967-05-01 1975-04-30      9                         4.2   \n",
       "11855   -53.2000 1967-03-01 1976-04-30     10                         6.7   \n",
       "11856   -53.1833 1971-01-01 1981-05-31     11                         1.6   \n",
       "11857   -53.3494 1934-01-01 1998-12-31     65                        16.0   \n",
       "11858   -53.4167 1978-01-01 1978-12-31      1                         0.0   \n",
       "\n",
       "       Years_without_gaps  Percentage_of_missing_years  \n",
       "11259                  23                         60.3  \n",
       "11260                  57                          9.5  \n",
       "11261                  55                         12.7  \n",
       "11262                  32                          3.0  \n",
       "11267                  27                         37.2  \n",
       "...                   ...                          ...  \n",
       "11854                   3                         66.7  \n",
       "11855                   5                         50.0  \n",
       "11856                   6                         45.5  \n",
       "11857                  32                         50.8  \n",
       "11858                   1                          0.0  \n",
       "\n",
       "[540 rows x 15 columns]"
      ]
     },
     "execution_count": 14,
     "metadata": {},
     "output_type": "execute_result"
    }
   ],
   "source": [
    "# df_temp = df_gauges.copy(deep = True)\n",
    "# df_temp\n",
    "state = 'RIO GRANDE DO SUL'\n",
    "# filt = ((df_gauges['State']==state) & (df_gauges['Responsible']=='CEMADEN'))\n",
    "filt = ((df_gauges['State']==state))\n",
    "df_temp = df_gauges[filt]\n",
    "df_temp\n",
    "\n",
    "# filt = (df_gauges['Responsible']=='DAEE-SP')\n",
    "# gauges_aesa = df_gauges[filt]\n",
    "# gauges_aesa.head()"
   ]
  },
  {
   "cell_type": "code",
   "execution_count": 36,
   "id": "f6b625ec",
   "metadata": {},
   "outputs": [],
   "source": [
    "gauge_codes = df_temp['Code'].values.tolist()"
   ]
  },
  {
   "cell_type": "code",
   "execution_count": 37,
   "id": "12e6be4c",
   "metadata": {},
   "outputs": [
    {
     "name": "stderr",
     "output_type": "stream",
     "text": [
      "100%|████████████████████████████████████████████████████████████████████████████████████████████████████████████████████████| 1/1 [00:02<00:00,  2.07s/it]\n"
     ]
    },
    {
     "name": "stdout",
     "output_type": "stream",
     "text": [
      "00634000\n",
      "1/360\n"
     ]
    },
    {
     "name": "stderr",
     "output_type": "stream",
     "text": [
      "100%|████████████████████████████████████████████████████████████████████████████████████████████████████████████████████████| 1/1 [00:01<00:00,  1.31s/it]\n"
     ]
    },
    {
     "name": "stdout",
     "output_type": "stream",
     "text": [
      "00634001\n",
      "2/360\n"
     ]
    },
    {
     "name": "stderr",
     "output_type": "stream",
     "text": [
      "100%|████████████████████████████████████████████████████████████████████████████████████████████████████████████████████████| 1/1 [00:01<00:00,  1.74s/it]\n"
     ]
    },
    {
     "name": "stdout",
     "output_type": "stream",
     "text": [
      "00634002\n",
      "3/360\n"
     ]
    },
    {
     "name": "stderr",
     "output_type": "stream",
     "text": [
      "100%|████████████████████████████████████████████████████████████████████████████████████████████████████████████████████████| 1/1 [00:03<00:00,  3.60s/it]\n"
     ]
    },
    {
     "name": "stdout",
     "output_type": "stream",
     "text": [
      "00635027\n",
      "4/360\n"
     ]
    },
    {
     "name": "stderr",
     "output_type": "stream",
     "text": [
      "100%|████████████████████████████████████████████████████████████████████████████████████████████████████████████████████████| 1/1 [00:06<00:00,  6.74s/it]\n"
     ]
    },
    {
     "name": "stdout",
     "output_type": "stream",
     "text": [
      "00635028\n",
      "5/360\n"
     ]
    },
    {
     "name": "stderr",
     "output_type": "stream",
     "text": [
      "100%|████████████████████████████████████████████████████████████████████████████████████████████████████████████████████████| 1/1 [00:06<00:00,  6.05s/it]\n"
     ]
    },
    {
     "name": "stdout",
     "output_type": "stream",
     "text": [
      "00635030\n",
      "6/360\n"
     ]
    },
    {
     "name": "stderr",
     "output_type": "stream",
     "text": [
      "100%|████████████████████████████████████████████████████████████████████████████████████████████████████████████████████████| 1/1 [00:00<00:00,  1.16it/s]\n"
     ]
    },
    {
     "name": "stdout",
     "output_type": "stream",
     "text": [
      "00635032\n",
      "7/360\n"
     ]
    },
    {
     "name": "stderr",
     "output_type": "stream",
     "text": [
      "100%|████████████████████████████████████████████████████████████████████████████████████████████████████████████████████████| 1/1 [00:05<00:00,  5.81s/it]\n"
     ]
    },
    {
     "name": "stdout",
     "output_type": "stream",
     "text": [
      "00635033\n",
      "8/360\n"
     ]
    },
    {
     "name": "stderr",
     "output_type": "stream",
     "text": [
      "100%|████████████████████████████████████████████████████████████████████████████████████████████████████████████████████████| 1/1 [00:04<00:00,  4.39s/it]\n"
     ]
    },
    {
     "name": "stdout",
     "output_type": "stream",
     "text": [
      "00635037\n",
      "9/360\n"
     ]
    },
    {
     "name": "stderr",
     "output_type": "stream",
     "text": [
      "100%|████████████████████████████████████████████████████████████████████████████████████████████████████████████████████████| 1/1 [00:04<00:00,  4.05s/it]\n"
     ]
    },
    {
     "name": "stdout",
     "output_type": "stream",
     "text": [
      "00635038\n",
      "10/360\n"
     ]
    },
    {
     "name": "stderr",
     "output_type": "stream",
     "text": [
      "100%|████████████████████████████████████████████████████████████████████████████████████████████████████████████████████████| 1/1 [00:03<00:00,  3.71s/it]\n"
     ]
    },
    {
     "name": "stdout",
     "output_type": "stream",
     "text": [
      "00635040\n",
      "11/360\n"
     ]
    },
    {
     "name": "stderr",
     "output_type": "stream",
     "text": [
      "100%|████████████████████████████████████████████████████████████████████████████████████████████████████████████████████████| 1/1 [00:01<00:00,  1.96s/it]\n"
     ]
    },
    {
     "name": "stdout",
     "output_type": "stream",
     "text": [
      "00635043\n",
      "12/360\n"
     ]
    },
    {
     "name": "stderr",
     "output_type": "stream",
     "text": [
      "100%|████████████████████████████████████████████████████████████████████████████████████████████████████████████████████████| 1/1 [00:04<00:00,  4.97s/it]\n"
     ]
    },
    {
     "name": "stdout",
     "output_type": "stream",
     "text": [
      "00635044\n",
      "13/360\n"
     ]
    },
    {
     "name": "stderr",
     "output_type": "stream",
     "text": [
      "100%|████████████████████████████████████████████████████████████████████████████████████████████████████████████████████████| 1/1 [00:02<00:00,  2.31s/it]\n"
     ]
    },
    {
     "name": "stdout",
     "output_type": "stream",
     "text": [
      "00635045\n",
      "14/360\n"
     ]
    },
    {
     "name": "stderr",
     "output_type": "stream",
     "text": [
      "100%|████████████████████████████████████████████████████████████████████████████████████████████████████████████████████████| 1/1 [00:04<00:00,  4.63s/it]\n"
     ]
    },
    {
     "name": "stdout",
     "output_type": "stream",
     "text": [
      "00635047\n",
      "15/360\n"
     ]
    },
    {
     "name": "stderr",
     "output_type": "stream",
     "text": [
      "100%|████████████████████████████████████████████████████████████████████████████████████████████████████████████████████████| 1/1 [00:04<00:00,  4.29s/it]\n"
     ]
    },
    {
     "name": "stdout",
     "output_type": "stream",
     "text": [
      "00635048\n",
      "16/360\n"
     ]
    },
    {
     "name": "stderr",
     "output_type": "stream",
     "text": [
      "100%|████████████████████████████████████████████████████████████████████████████████████████████████████████████████████████| 1/1 [00:02<00:00,  2.73s/it]\n"
     ]
    },
    {
     "name": "stdout",
     "output_type": "stream",
     "text": [
      "00635050\n",
      "17/360\n"
     ]
    },
    {
     "name": "stderr",
     "output_type": "stream",
     "text": [
      "100%|████████████████████████████████████████████████████████████████████████████████████████████████████████████████████████| 1/1 [00:01<00:00,  1.11s/it]\n"
     ]
    },
    {
     "name": "stdout",
     "output_type": "stream",
     "text": [
      "00635058\n",
      "18/360\n"
     ]
    },
    {
     "name": "stderr",
     "output_type": "stream",
     "text": [
      "100%|████████████████████████████████████████████████████████████████████████████████████████████████████████████████████████| 1/1 [00:00<00:00,  1.15it/s]\n"
     ]
    },
    {
     "name": "stdout",
     "output_type": "stream",
     "text": [
      "00635063\n",
      "19/360\n"
     ]
    },
    {
     "name": "stderr",
     "output_type": "stream",
     "text": [
      "100%|████████████████████████████████████████████████████████████████████████████████████████████████████████████████████████| 1/1 [00:00<00:00,  1.27it/s]\n"
     ]
    },
    {
     "name": "stdout",
     "output_type": "stream",
     "text": [
      "00635064\n",
      "20/360\n"
     ]
    },
    {
     "name": "stderr",
     "output_type": "stream",
     "text": [
      "100%|████████████████████████████████████████████████████████████████████████████████████████████████████████████████████████| 1/1 [00:02<00:00,  2.57s/it]\n"
     ]
    },
    {
     "name": "stdout",
     "output_type": "stream",
     "text": [
      "00635065\n",
      "21/360\n"
     ]
    },
    {
     "name": "stderr",
     "output_type": "stream",
     "text": [
      "100%|████████████████████████████████████████████████████████████████████████████████████████████████████████████████████████| 1/1 [00:02<00:00,  2.42s/it]\n"
     ]
    },
    {
     "name": "stdout",
     "output_type": "stream",
     "text": [
      "00635066\n",
      "22/360\n"
     ]
    },
    {
     "name": "stderr",
     "output_type": "stream",
     "text": [
      "100%|████████████████████████████████████████████████████████████████████████████████████████████████████████████████████████| 1/1 [00:02<00:00,  2.32s/it]\n"
     ]
    },
    {
     "name": "stdout",
     "output_type": "stream",
     "text": [
      "00635067\n",
      "23/360\n"
     ]
    },
    {
     "name": "stderr",
     "output_type": "stream",
     "text": [
      "100%|████████████████████████████████████████████████████████████████████████████████████████████████████████████████████████| 1/1 [00:02<00:00,  2.30s/it]\n"
     ]
    },
    {
     "name": "stdout",
     "output_type": "stream",
     "text": [
      "00635068\n",
      "24/360\n"
     ]
    },
    {
     "name": "stderr",
     "output_type": "stream",
     "text": [
      "100%|████████████████████████████████████████████████████████████████████████████████████████████████████████████████████████| 1/1 [00:02<00:00,  2.77s/it]\n"
     ]
    },
    {
     "name": "stdout",
     "output_type": "stream",
     "text": [
      "00635079\n",
      "25/360\n"
     ]
    },
    {
     "name": "stderr",
     "output_type": "stream",
     "text": [
      "100%|████████████████████████████████████████████████████████████████████████████████████████████████████████████████████████| 1/1 [00:02<00:00,  2.39s/it]\n"
     ]
    },
    {
     "name": "stdout",
     "output_type": "stream",
     "text": [
      "00635107\n",
      "26/360\n"
     ]
    },
    {
     "name": "stderr",
     "output_type": "stream",
     "text": [
      "100%|████████████████████████████████████████████████████████████████████████████████████████████████████████████████████████| 1/1 [00:03<00:00,  3.15s/it]\n"
     ]
    },
    {
     "name": "stdout",
     "output_type": "stream",
     "text": [
      "00635108\n",
      "27/360\n"
     ]
    },
    {
     "name": "stderr",
     "output_type": "stream",
     "text": [
      "100%|████████████████████████████████████████████████████████████████████████████████████████████████████████████████████████| 1/1 [00:01<00:00,  1.82s/it]\n"
     ]
    },
    {
     "name": "stdout",
     "output_type": "stream",
     "text": [
      "00635109\n",
      "28/360\n"
     ]
    },
    {
     "name": "stderr",
     "output_type": "stream",
     "text": [
      "100%|████████████████████████████████████████████████████████████████████████████████████████████████████████████████████████| 1/1 [00:01<00:00,  1.94s/it]\n"
     ]
    },
    {
     "name": "stdout",
     "output_type": "stream",
     "text": [
      "00635110\n",
      "29/360\n"
     ]
    },
    {
     "name": "stderr",
     "output_type": "stream",
     "text": [
      "100%|████████████████████████████████████████████████████████████████████████████████████████████████████████████████████████| 1/1 [00:03<00:00,  3.77s/it]\n"
     ]
    },
    {
     "name": "stdout",
     "output_type": "stream",
     "text": [
      "00635111\n",
      "30/360\n"
     ]
    },
    {
     "name": "stderr",
     "output_type": "stream",
     "text": [
      "100%|████████████████████████████████████████████████████████████████████████████████████████████████████████████████████████| 1/1 [00:01<00:00,  1.51s/it]\n"
     ]
    },
    {
     "name": "stdout",
     "output_type": "stream",
     "text": [
      "00635112\n",
      "31/360\n"
     ]
    },
    {
     "name": "stderr",
     "output_type": "stream",
     "text": [
      "100%|████████████████████████████████████████████████████████████████████████████████████████████████████████████████████████| 1/1 [00:04<00:00,  4.53s/it]\n"
     ]
    },
    {
     "name": "stdout",
     "output_type": "stream",
     "text": [
      "00635113\n",
      "32/360\n"
     ]
    },
    {
     "name": "stderr",
     "output_type": "stream",
     "text": [
      "100%|████████████████████████████████████████████████████████████████████████████████████████████████████████████████████████| 1/1 [00:01<00:00,  1.28s/it]\n"
     ]
    },
    {
     "name": "stdout",
     "output_type": "stream",
     "text": [
      "00635114\n",
      "33/360\n"
     ]
    },
    {
     "name": "stderr",
     "output_type": "stream",
     "text": [
      "100%|████████████████████████████████████████████████████████████████████████████████████████████████████████████████████████| 1/1 [00:02<00:00,  2.16s/it]\n"
     ]
    },
    {
     "name": "stdout",
     "output_type": "stream",
     "text": [
      "00635115\n",
      "34/360\n"
     ]
    },
    {
     "name": "stderr",
     "output_type": "stream",
     "text": [
      "100%|████████████████████████████████████████████████████████████████████████████████████████████████████████████████████████| 1/1 [00:01<00:00,  1.50s/it]\n"
     ]
    },
    {
     "name": "stdout",
     "output_type": "stream",
     "text": [
      "00635116\n",
      "35/360\n"
     ]
    },
    {
     "name": "stderr",
     "output_type": "stream",
     "text": [
      "100%|████████████████████████████████████████████████████████████████████████████████████████████████████████████████████████| 1/1 [00:01<00:00,  1.48s/it]\n"
     ]
    },
    {
     "name": "stdout",
     "output_type": "stream",
     "text": [
      "00635117\n",
      "36/360\n"
     ]
    },
    {
     "name": "stderr",
     "output_type": "stream",
     "text": [
      "100%|████████████████████████████████████████████████████████████████████████████████████████████████████████████████████████| 1/1 [00:01<00:00,  1.99s/it]\n"
     ]
    },
    {
     "name": "stdout",
     "output_type": "stream",
     "text": [
      "00635118\n",
      "37/360\n"
     ]
    },
    {
     "name": "stderr",
     "output_type": "stream",
     "text": [
      "100%|████████████████████████████████████████████████████████████████████████████████████████████████████████████████████████| 1/1 [00:01<00:00,  1.25s/it]\n"
     ]
    },
    {
     "name": "stdout",
     "output_type": "stream",
     "text": [
      "00635119\n",
      "38/360\n"
     ]
    },
    {
     "name": "stderr",
     "output_type": "stream",
     "text": [
      "100%|████████████████████████████████████████████████████████████████████████████████████████████████████████████████████████| 1/1 [00:02<00:00,  2.45s/it]\n"
     ]
    },
    {
     "name": "stdout",
     "output_type": "stream",
     "text": [
      "00635120\n",
      "39/360\n"
     ]
    },
    {
     "name": "stderr",
     "output_type": "stream",
     "text": [
      "100%|████████████████████████████████████████████████████████████████████████████████████████████████████████████████████████| 1/1 [00:02<00:00,  2.48s/it]\n"
     ]
    },
    {
     "name": "stdout",
     "output_type": "stream",
     "text": [
      "00635121\n",
      "40/360\n"
     ]
    },
    {
     "name": "stderr",
     "output_type": "stream",
     "text": [
      "100%|████████████████████████████████████████████████████████████████████████████████████████████████████████████████████████| 1/1 [00:01<00:00,  1.78s/it]\n"
     ]
    },
    {
     "name": "stdout",
     "output_type": "stream",
     "text": [
      "00635122\n",
      "41/360\n"
     ]
    },
    {
     "name": "stderr",
     "output_type": "stream",
     "text": [
      "100%|████████████████████████████████████████████████████████████████████████████████████████████████████████████████████████| 1/1 [00:01<00:00,  1.29s/it]\n"
     ]
    },
    {
     "name": "stdout",
     "output_type": "stream",
     "text": [
      "00635123\n",
      "42/360\n"
     ]
    },
    {
     "name": "stderr",
     "output_type": "stream",
     "text": [
      "100%|████████████████████████████████████████████████████████████████████████████████████████████████████████████████████████| 1/1 [00:01<00:00,  1.91s/it]\n"
     ]
    },
    {
     "name": "stdout",
     "output_type": "stream",
     "text": [
      "00635124\n",
      "43/360\n"
     ]
    },
    {
     "name": "stderr",
     "output_type": "stream",
     "text": [
      "100%|████████████████████████████████████████████████████████████████████████████████████████████████████████████████████████| 1/1 [00:00<00:00,  1.04it/s]\n"
     ]
    },
    {
     "name": "stdout",
     "output_type": "stream",
     "text": [
      "00635125\n",
      "44/360\n"
     ]
    },
    {
     "name": "stderr",
     "output_type": "stream",
     "text": [
      "100%|████████████████████████████████████████████████████████████████████████████████████████████████████████████████████████| 1/1 [00:02<00:00,  2.06s/it]\n"
     ]
    },
    {
     "name": "stdout",
     "output_type": "stream",
     "text": [
      "00635126\n",
      "45/360\n"
     ]
    },
    {
     "name": "stderr",
     "output_type": "stream",
     "text": [
      "100%|████████████████████████████████████████████████████████████████████████████████████████████████████████████████████████| 1/1 [00:02<00:00,  2.23s/it]\n"
     ]
    },
    {
     "name": "stdout",
     "output_type": "stream",
     "text": [
      "00635127\n",
      "46/360\n"
     ]
    },
    {
     "name": "stderr",
     "output_type": "stream",
     "text": [
      "100%|████████████████████████████████████████████████████████████████████████████████████████████████████████████████████████| 1/1 [00:01<00:00,  1.62s/it]\n"
     ]
    },
    {
     "name": "stdout",
     "output_type": "stream",
     "text": [
      "00635128\n",
      "47/360\n"
     ]
    },
    {
     "name": "stderr",
     "output_type": "stream",
     "text": [
      "100%|████████████████████████████████████████████████████████████████████████████████████████████████████████████████████████| 1/1 [00:01<00:00,  1.38s/it]\n"
     ]
    },
    {
     "name": "stdout",
     "output_type": "stream",
     "text": [
      "00635129\n",
      "48/360\n"
     ]
    },
    {
     "name": "stderr",
     "output_type": "stream",
     "text": [
      "100%|████████████████████████████████████████████████████████████████████████████████████████████████████████████████████████| 1/1 [00:00<00:00,  4.59it/s]\n"
     ]
    },
    {
     "name": "stdout",
     "output_type": "stream",
     "text": [
      "gauge error\n",
      "00635134\n",
      "49/360\n"
     ]
    },
    {
     "name": "stderr",
     "output_type": "stream",
     "text": [
      "100%|████████████████████████████████████████████████████████████████████████████████████████████████████████████████████████| 1/1 [00:00<00:00,  2.07it/s]\n"
     ]
    },
    {
     "name": "stdout",
     "output_type": "stream",
     "text": [
      "gauge error\n",
      "00635135\n",
      "50/360\n"
     ]
    },
    {
     "name": "stderr",
     "output_type": "stream",
     "text": [
      "100%|████████████████████████████████████████████████████████████████████████████████████████████████████████████████████████| 1/1 [00:02<00:00,  2.64s/it]\n"
     ]
    },
    {
     "name": "stdout",
     "output_type": "stream",
     "text": [
      "00635136\n",
      "51/360\n"
     ]
    },
    {
     "name": "stderr",
     "output_type": "stream",
     "text": [
      "100%|████████████████████████████████████████████████████████████████████████████████████████████████████████████████████████| 1/1 [00:02<00:00,  2.15s/it]\n"
     ]
    },
    {
     "name": "stdout",
     "output_type": "stream",
     "text": [
      "00635137\n",
      "52/360\n"
     ]
    },
    {
     "name": "stderr",
     "output_type": "stream",
     "text": [
      "100%|████████████████████████████████████████████████████████████████████████████████████████████████████████████████████████| 1/1 [00:02<00:00,  2.23s/it]\n"
     ]
    },
    {
     "name": "stdout",
     "output_type": "stream",
     "text": [
      "00635138\n",
      "53/360\n"
     ]
    },
    {
     "name": "stderr",
     "output_type": "stream",
     "text": [
      "100%|████████████████████████████████████████████████████████████████████████████████████████████████████████████████████████| 1/1 [00:00<00:00,  1.76it/s]\n"
     ]
    },
    {
     "name": "stdout",
     "output_type": "stream",
     "text": [
      "00635139\n",
      "54/360\n"
     ]
    },
    {
     "name": "stderr",
     "output_type": "stream",
     "text": [
      "100%|████████████████████████████████████████████████████████████████████████████████████████████████████████████████████████| 1/1 [00:02<00:00,  2.27s/it]\n"
     ]
    },
    {
     "name": "stdout",
     "output_type": "stream",
     "text": [
      "00635140\n",
      "55/360\n"
     ]
    },
    {
     "name": "stderr",
     "output_type": "stream",
     "text": [
      "100%|████████████████████████████████████████████████████████████████████████████████████████████████████████████████████████| 1/1 [00:02<00:00,  2.23s/it]\n"
     ]
    },
    {
     "name": "stdout",
     "output_type": "stream",
     "text": [
      "00635141\n",
      "56/360\n"
     ]
    },
    {
     "name": "stderr",
     "output_type": "stream",
     "text": [
      "100%|████████████████████████████████████████████████████████████████████████████████████████████████████████████████████████| 1/1 [00:01<00:00,  1.58s/it]\n"
     ]
    },
    {
     "name": "stdout",
     "output_type": "stream",
     "text": [
      "00636031\n",
      "57/360\n"
     ]
    },
    {
     "name": "stderr",
     "output_type": "stream",
     "text": [
      "100%|████████████████████████████████████████████████████████████████████████████████████████████████████████████████████████| 1/1 [00:05<00:00,  5.04s/it]\n"
     ]
    },
    {
     "name": "stdout",
     "output_type": "stream",
     "text": [
      "00636032\n",
      "58/360\n"
     ]
    },
    {
     "name": "stderr",
     "output_type": "stream",
     "text": [
      "100%|████████████████████████████████████████████████████████████████████████████████████████████████████████████████████████| 1/1 [00:01<00:00,  1.88s/it]\n"
     ]
    },
    {
     "name": "stdout",
     "output_type": "stream",
     "text": [
      "00636035\n",
      "59/360\n"
     ]
    },
    {
     "name": "stderr",
     "output_type": "stream",
     "text": [
      "100%|████████████████████████████████████████████████████████████████████████████████████████████████████████████████████████| 1/1 [00:04<00:00,  4.04s/it]\n"
     ]
    },
    {
     "name": "stdout",
     "output_type": "stream",
     "text": [
      "00636036\n",
      "60/360\n"
     ]
    },
    {
     "name": "stderr",
     "output_type": "stream",
     "text": [
      "100%|████████████████████████████████████████████████████████████████████████████████████████████████████████████████████████| 1/1 [00:03<00:00,  3.71s/it]\n"
     ]
    },
    {
     "name": "stdout",
     "output_type": "stream",
     "text": [
      "00636037\n",
      "61/360\n"
     ]
    },
    {
     "name": "stderr",
     "output_type": "stream",
     "text": [
      "100%|████████████████████████████████████████████████████████████████████████████████████████████████████████████████████████| 1/1 [00:06<00:00,  6.09s/it]\n"
     ]
    },
    {
     "name": "stdout",
     "output_type": "stream",
     "text": [
      "00636038\n",
      "62/360\n"
     ]
    },
    {
     "name": "stderr",
     "output_type": "stream",
     "text": [
      "100%|████████████████████████████████████████████████████████████████████████████████████████████████████████████████████████| 1/1 [00:02<00:00,  2.07s/it]\n"
     ]
    },
    {
     "name": "stdout",
     "output_type": "stream",
     "text": [
      "00636040\n",
      "63/360\n"
     ]
    },
    {
     "name": "stderr",
     "output_type": "stream",
     "text": [
      "100%|████████████████████████████████████████████████████████████████████████████████████████████████████████████████████████| 1/1 [00:03<00:00,  3.17s/it]\n"
     ]
    },
    {
     "name": "stdout",
     "output_type": "stream",
     "text": [
      "00636041\n",
      "64/360\n"
     ]
    },
    {
     "name": "stderr",
     "output_type": "stream",
     "text": [
      "100%|████████████████████████████████████████████████████████████████████████████████████████████████████████████████████████| 1/1 [00:05<00:00,  5.35s/it]\n"
     ]
    },
    {
     "name": "stdout",
     "output_type": "stream",
     "text": [
      "00636042\n",
      "65/360\n"
     ]
    },
    {
     "name": "stderr",
     "output_type": "stream",
     "text": [
      "100%|████████████████████████████████████████████████████████████████████████████████████████████████████████████████████████| 1/1 [00:02<00:00,  2.14s/it]\n"
     ]
    },
    {
     "name": "stdout",
     "output_type": "stream",
     "text": [
      "00636046\n",
      "66/360\n"
     ]
    },
    {
     "name": "stderr",
     "output_type": "stream",
     "text": [
      "100%|████████████████████████████████████████████████████████████████████████████████████████████████████████████████████████| 1/1 [00:02<00:00,  2.30s/it]\n"
     ]
    },
    {
     "name": "stdout",
     "output_type": "stream",
     "text": [
      "00636066\n",
      "67/360\n"
     ]
    },
    {
     "name": "stderr",
     "output_type": "stream",
     "text": [
      "100%|████████████████████████████████████████████████████████████████████████████████████████████████████████████████████████| 1/1 [00:02<00:00,  2.28s/it]\n"
     ]
    },
    {
     "name": "stdout",
     "output_type": "stream",
     "text": [
      "00636067\n",
      "68/360\n"
     ]
    },
    {
     "name": "stderr",
     "output_type": "stream",
     "text": [
      "100%|████████████████████████████████████████████████████████████████████████████████████████████████████████████████████████| 1/1 [00:02<00:00,  2.32s/it]\n"
     ]
    },
    {
     "name": "stdout",
     "output_type": "stream",
     "text": [
      "00636068\n",
      "69/360\n"
     ]
    },
    {
     "name": "stderr",
     "output_type": "stream",
     "text": [
      "100%|████████████████████████████████████████████████████████████████████████████████████████████████████████████████████████| 1/1 [00:02<00:00,  2.71s/it]\n"
     ]
    },
    {
     "name": "stdout",
     "output_type": "stream",
     "text": [
      "00636069\n",
      "70/360\n"
     ]
    },
    {
     "name": "stderr",
     "output_type": "stream",
     "text": [
      "100%|████████████████████████████████████████████████████████████████████████████████████████████████████████████████████████| 1/1 [00:01<00:00,  1.94s/it]\n"
     ]
    },
    {
     "name": "stdout",
     "output_type": "stream",
     "text": [
      "00636070\n",
      "71/360\n"
     ]
    },
    {
     "name": "stderr",
     "output_type": "stream",
     "text": [
      "100%|████████████████████████████████████████████████████████████████████████████████████████████████████████████████████████| 1/1 [00:01<00:00,  1.55s/it]\n"
     ]
    },
    {
     "name": "stdout",
     "output_type": "stream",
     "text": [
      "00636071\n",
      "72/360\n"
     ]
    },
    {
     "name": "stderr",
     "output_type": "stream",
     "text": [
      "100%|████████████████████████████████████████████████████████████████████████████████████████████████████████████████████████| 1/1 [00:02<00:00,  2.25s/it]\n"
     ]
    },
    {
     "name": "stdout",
     "output_type": "stream",
     "text": [
      "00636072\n",
      "73/360\n"
     ]
    },
    {
     "name": "stderr",
     "output_type": "stream",
     "text": [
      "100%|████████████████████████████████████████████████████████████████████████████████████████████████████████████████████████| 1/1 [00:02<00:00,  2.83s/it]\n"
     ]
    },
    {
     "name": "stdout",
     "output_type": "stream",
     "text": [
      "00636073\n",
      "74/360\n"
     ]
    },
    {
     "name": "stderr",
     "output_type": "stream",
     "text": [
      "100%|████████████████████████████████████████████████████████████████████████████████████████████████████████████████████████| 1/1 [00:02<00:00,  2.64s/it]\n"
     ]
    },
    {
     "name": "stdout",
     "output_type": "stream",
     "text": [
      "00636074\n",
      "75/360\n"
     ]
    },
    {
     "name": "stderr",
     "output_type": "stream",
     "text": [
      "100%|████████████████████████████████████████████████████████████████████████████████████████████████████████████████████████| 1/1 [00:02<00:00,  2.79s/it]\n"
     ]
    },
    {
     "name": "stdout",
     "output_type": "stream",
     "text": [
      "00636075\n",
      "76/360\n"
     ]
    },
    {
     "name": "stderr",
     "output_type": "stream",
     "text": [
      "100%|████████████████████████████████████████████████████████████████████████████████████████████████████████████████████████| 1/1 [00:02<00:00,  2.53s/it]\n"
     ]
    },
    {
     "name": "stdout",
     "output_type": "stream",
     "text": [
      "00636076\n",
      "77/360\n"
     ]
    },
    {
     "name": "stderr",
     "output_type": "stream",
     "text": [
      "100%|████████████████████████████████████████████████████████████████████████████████████████████████████████████████████████| 1/1 [00:02<00:00,  2.82s/it]\n"
     ]
    },
    {
     "name": "stdout",
     "output_type": "stream",
     "text": [
      "00636077\n",
      "78/360\n"
     ]
    },
    {
     "name": "stderr",
     "output_type": "stream",
     "text": [
      "100%|████████████████████████████████████████████████████████████████████████████████████████████████████████████████████████| 1/1 [00:02<00:00,  2.88s/it]\n"
     ]
    },
    {
     "name": "stdout",
     "output_type": "stream",
     "text": [
      "00636078\n",
      "79/360\n"
     ]
    },
    {
     "name": "stderr",
     "output_type": "stream",
     "text": [
      "100%|████████████████████████████████████████████████████████████████████████████████████████████████████████████████████████| 1/1 [00:02<00:00,  2.52s/it]\n"
     ]
    },
    {
     "name": "stdout",
     "output_type": "stream",
     "text": [
      "00636079\n",
      "80/360\n"
     ]
    },
    {
     "name": "stderr",
     "output_type": "stream",
     "text": [
      "100%|████████████████████████████████████████████████████████████████████████████████████████████████████████████████████████| 1/1 [00:02<00:00,  2.51s/it]\n"
     ]
    },
    {
     "name": "stdout",
     "output_type": "stream",
     "text": [
      "00636080\n",
      "81/360\n"
     ]
    },
    {
     "name": "stderr",
     "output_type": "stream",
     "text": [
      "100%|████████████████████████████████████████████████████████████████████████████████████████████████████████████████████████| 1/1 [00:02<00:00,  2.47s/it]\n"
     ]
    },
    {
     "name": "stdout",
     "output_type": "stream",
     "text": [
      "00636081\n",
      "82/360\n"
     ]
    },
    {
     "name": "stderr",
     "output_type": "stream",
     "text": [
      "100%|████████████████████████████████████████████████████████████████████████████████████████████████████████████████████████| 1/1 [00:02<00:00,  2.33s/it]\n"
     ]
    },
    {
     "name": "stdout",
     "output_type": "stream",
     "text": [
      "00636082\n",
      "83/360\n"
     ]
    },
    {
     "name": "stderr",
     "output_type": "stream",
     "text": [
      "100%|████████████████████████████████████████████████████████████████████████████████████████████████████████████████████████| 1/1 [00:02<00:00,  2.68s/it]\n"
     ]
    },
    {
     "name": "stdout",
     "output_type": "stream",
     "text": [
      "00636083\n",
      "84/360\n"
     ]
    },
    {
     "name": "stderr",
     "output_type": "stream",
     "text": [
      "100%|████████████████████████████████████████████████████████████████████████████████████████████████████████████████████████| 1/1 [00:02<00:00,  2.57s/it]\n"
     ]
    },
    {
     "name": "stdout",
     "output_type": "stream",
     "text": [
      "00636084\n",
      "85/360\n"
     ]
    },
    {
     "name": "stderr",
     "output_type": "stream",
     "text": [
      "100%|████████████████████████████████████████████████████████████████████████████████████████████████████████████████████████| 1/1 [00:05<00:00,  5.19s/it]\n"
     ]
    },
    {
     "name": "stdout",
     "output_type": "stream",
     "text": [
      "00637022\n",
      "86/360\n"
     ]
    },
    {
     "name": "stderr",
     "output_type": "stream",
     "text": [
      "100%|████████████████████████████████████████████████████████████████████████████████████████████████████████████████████████| 1/1 [00:05<00:00,  5.77s/it]\n"
     ]
    },
    {
     "name": "stdout",
     "output_type": "stream",
     "text": [
      "00637023\n",
      "87/360\n"
     ]
    },
    {
     "name": "stderr",
     "output_type": "stream",
     "text": [
      "100%|████████████████████████████████████████████████████████████████████████████████████████████████████████████████████████| 1/1 [00:03<00:00,  3.78s/it]\n"
     ]
    },
    {
     "name": "stdout",
     "output_type": "stream",
     "text": [
      "00637024\n",
      "88/360\n"
     ]
    },
    {
     "name": "stderr",
     "output_type": "stream",
     "text": [
      "100%|████████████████████████████████████████████████████████████████████████████████████████████████████████████████████████| 1/1 [00:03<00:00,  3.62s/it]\n"
     ]
    },
    {
     "name": "stdout",
     "output_type": "stream",
     "text": [
      "00637025\n",
      "89/360\n"
     ]
    },
    {
     "name": "stderr",
     "output_type": "stream",
     "text": [
      "100%|████████████████████████████████████████████████████████████████████████████████████████████████████████████████████████| 1/1 [00:03<00:00,  3.26s/it]\n"
     ]
    },
    {
     "name": "stdout",
     "output_type": "stream",
     "text": [
      "00637028\n",
      "90/360\n"
     ]
    },
    {
     "name": "stderr",
     "output_type": "stream",
     "text": [
      "100%|████████████████████████████████████████████████████████████████████████████████████████████████████████████████████████| 1/1 [00:02<00:00,  2.01s/it]\n"
     ]
    },
    {
     "name": "stdout",
     "output_type": "stream",
     "text": [
      "00637029\n",
      "91/360\n"
     ]
    },
    {
     "name": "stderr",
     "output_type": "stream",
     "text": [
      "100%|████████████████████████████████████████████████████████████████████████████████████████████████████████████████████████| 1/1 [00:01<00:00,  1.93s/it]\n"
     ]
    },
    {
     "name": "stdout",
     "output_type": "stream",
     "text": [
      "00637030\n",
      "92/360\n"
     ]
    },
    {
     "name": "stderr",
     "output_type": "stream",
     "text": [
      "100%|████████████████████████████████████████████████████████████████████████████████████████████████████████████████████████| 1/1 [00:04<00:00,  4.64s/it]\n"
     ]
    },
    {
     "name": "stdout",
     "output_type": "stream",
     "text": [
      "00637031\n",
      "93/360\n"
     ]
    },
    {
     "name": "stderr",
     "output_type": "stream",
     "text": [
      "100%|████████████████████████████████████████████████████████████████████████████████████████████████████████████████████████| 1/1 [00:05<00:00,  5.10s/it]\n"
     ]
    },
    {
     "name": "stdout",
     "output_type": "stream",
     "text": [
      "00637032\n",
      "94/360\n"
     ]
    },
    {
     "name": "stderr",
     "output_type": "stream",
     "text": [
      "100%|████████████████████████████████████████████████████████████████████████████████████████████████████████████████████████| 1/1 [00:01<00:00,  1.79s/it]\n"
     ]
    },
    {
     "name": "stdout",
     "output_type": "stream",
     "text": [
      "00637034\n",
      "95/360\n"
     ]
    },
    {
     "name": "stderr",
     "output_type": "stream",
     "text": [
      "100%|████████████████████████████████████████████████████████████████████████████████████████████████████████████████████████| 1/1 [00:01<00:00,  1.56s/it]\n"
     ]
    },
    {
     "name": "stdout",
     "output_type": "stream",
     "text": [
      "00637035\n",
      "96/360\n"
     ]
    },
    {
     "name": "stderr",
     "output_type": "stream",
     "text": [
      "100%|████████████████████████████████████████████████████████████████████████████████████████████████████████████████████████| 1/1 [00:01<00:00,  1.80s/it]\n"
     ]
    },
    {
     "name": "stdout",
     "output_type": "stream",
     "text": [
      "00637036\n",
      "97/360\n"
     ]
    },
    {
     "name": "stderr",
     "output_type": "stream",
     "text": [
      "100%|████████████████████████████████████████████████████████████████████████████████████████████████████████████████████████| 1/1 [00:03<00:00,  3.48s/it]\n"
     ]
    },
    {
     "name": "stdout",
     "output_type": "stream",
     "text": [
      "00637037\n",
      "98/360\n"
     ]
    },
    {
     "name": "stderr",
     "output_type": "stream",
     "text": [
      "100%|████████████████████████████████████████████████████████████████████████████████████████████████████████████████████████| 1/1 [00:02<00:00,  2.26s/it]\n"
     ]
    },
    {
     "name": "stdout",
     "output_type": "stream",
     "text": [
      "00637040\n",
      "99/360\n"
     ]
    },
    {
     "name": "stderr",
     "output_type": "stream",
     "text": [
      "100%|████████████████████████████████████████████████████████████████████████████████████████████████████████████████████████| 1/1 [00:02<00:00,  2.31s/it]\n"
     ]
    },
    {
     "name": "stdout",
     "output_type": "stream",
     "text": [
      "00637041\n",
      "100/360\n"
     ]
    },
    {
     "name": "stderr",
     "output_type": "stream",
     "text": [
      "100%|████████████████████████████████████████████████████████████████████████████████████████████████████████████████████████| 1/1 [00:02<00:00,  2.26s/it]\n"
     ]
    },
    {
     "name": "stdout",
     "output_type": "stream",
     "text": [
      "00637043\n",
      "101/360\n"
     ]
    },
    {
     "name": "stderr",
     "output_type": "stream",
     "text": [
      "100%|████████████████████████████████████████████████████████████████████████████████████████████████████████████████████████| 1/1 [00:01<00:00,  1.95s/it]\n"
     ]
    },
    {
     "name": "stdout",
     "output_type": "stream",
     "text": [
      "00637044\n",
      "102/360\n"
     ]
    },
    {
     "name": "stderr",
     "output_type": "stream",
     "text": [
      "100%|████████████████████████████████████████████████████████████████████████████████████████████████████████████████████████| 1/1 [00:02<00:00,  2.36s/it]\n"
     ]
    },
    {
     "name": "stdout",
     "output_type": "stream",
     "text": [
      "00637045\n",
      "103/360\n"
     ]
    },
    {
     "name": "stderr",
     "output_type": "stream",
     "text": [
      "100%|████████████████████████████████████████████████████████████████████████████████████████████████████████████████████████| 1/1 [00:01<00:00,  1.92s/it]\n"
     ]
    },
    {
     "name": "stdout",
     "output_type": "stream",
     "text": [
      "00637066\n",
      "104/360\n"
     ]
    },
    {
     "name": "stderr",
     "output_type": "stream",
     "text": [
      "100%|████████████████████████████████████████████████████████████████████████████████████████████████████████████████████████| 1/1 [00:02<00:00,  2.20s/it]\n"
     ]
    },
    {
     "name": "stdout",
     "output_type": "stream",
     "text": [
      "00637068\n",
      "105/360\n"
     ]
    },
    {
     "name": "stderr",
     "output_type": "stream",
     "text": [
      "100%|████████████████████████████████████████████████████████████████████████████████████████████████████████████████████████| 1/1 [00:01<00:00,  1.62s/it]\n"
     ]
    },
    {
     "name": "stdout",
     "output_type": "stream",
     "text": [
      "00637069\n",
      "106/360\n"
     ]
    },
    {
     "name": "stderr",
     "output_type": "stream",
     "text": [
      "100%|████████████████████████████████████████████████████████████████████████████████████████████████████████████████████████| 1/1 [00:01<00:00,  1.68s/it]\n"
     ]
    },
    {
     "name": "stdout",
     "output_type": "stream",
     "text": [
      "00637070\n",
      "107/360\n"
     ]
    },
    {
     "name": "stderr",
     "output_type": "stream",
     "text": [
      "100%|████████████████████████████████████████████████████████████████████████████████████████████████████████████████████████| 1/1 [00:01<00:00,  1.90s/it]\n"
     ]
    },
    {
     "name": "stdout",
     "output_type": "stream",
     "text": [
      "00637071\n",
      "108/360\n"
     ]
    },
    {
     "name": "stderr",
     "output_type": "stream",
     "text": [
      "100%|████████████████████████████████████████████████████████████████████████████████████████████████████████████████████████| 1/1 [00:00<00:00,  4.68it/s]\n"
     ]
    },
    {
     "name": "stdout",
     "output_type": "stream",
     "text": [
      "gauge error\n",
      "00637074\n",
      "109/360\n"
     ]
    },
    {
     "name": "stderr",
     "output_type": "stream",
     "text": [
      "100%|████████████████████████████████████████████████████████████████████████████████████████████████████████████████████████| 1/1 [00:00<00:00,  3.03it/s]\n"
     ]
    },
    {
     "name": "stdout",
     "output_type": "stream",
     "text": [
      "gauge error\n",
      "00637075\n",
      "110/360\n"
     ]
    },
    {
     "name": "stderr",
     "output_type": "stream",
     "text": [
      "100%|████████████████████████████████████████████████████████████████████████████████████████████████████████████████████████| 1/1 [00:02<00:00,  2.27s/it]\n"
     ]
    },
    {
     "name": "stdout",
     "output_type": "stream",
     "text": [
      "00637076\n",
      "111/360\n"
     ]
    },
    {
     "name": "stderr",
     "output_type": "stream",
     "text": [
      "100%|████████████████████████████████████████████████████████████████████████████████████████████████████████████████████████| 1/1 [00:02<00:00,  2.45s/it]\n"
     ]
    },
    {
     "name": "stdout",
     "output_type": "stream",
     "text": [
      "00637077\n",
      "112/360\n"
     ]
    },
    {
     "name": "stderr",
     "output_type": "stream",
     "text": [
      "100%|████████████████████████████████████████████████████████████████████████████████████████████████████████████████████████| 1/1 [00:02<00:00,  2.38s/it]\n"
     ]
    },
    {
     "name": "stdout",
     "output_type": "stream",
     "text": [
      "00637078\n",
      "113/360\n"
     ]
    },
    {
     "name": "stderr",
     "output_type": "stream",
     "text": [
      "100%|████████████████████████████████████████████████████████████████████████████████████████████████████████████████████████| 1/1 [00:02<00:00,  2.24s/it]\n"
     ]
    },
    {
     "name": "stdout",
     "output_type": "stream",
     "text": [
      "00637079\n",
      "114/360\n"
     ]
    },
    {
     "name": "stderr",
     "output_type": "stream",
     "text": [
      "100%|████████████████████████████████████████████████████████████████████████████████████████████████████████████████████████| 1/1 [00:02<00:00,  2.43s/it]\n"
     ]
    },
    {
     "name": "stdout",
     "output_type": "stream",
     "text": [
      "00637080\n",
      "115/360\n"
     ]
    },
    {
     "name": "stderr",
     "output_type": "stream",
     "text": [
      "100%|████████████████████████████████████████████████████████████████████████████████████████████████████████████████████████| 1/1 [00:02<00:00,  2.36s/it]\n"
     ]
    },
    {
     "name": "stdout",
     "output_type": "stream",
     "text": [
      "00637081\n",
      "116/360\n"
     ]
    },
    {
     "name": "stderr",
     "output_type": "stream",
     "text": [
      "100%|████████████████████████████████████████████████████████████████████████████████████████████████████████████████████████| 1/1 [00:07<00:00,  7.65s/it]\n"
     ]
    },
    {
     "name": "stdout",
     "output_type": "stream",
     "text": [
      "00638028\n",
      "117/360\n"
     ]
    },
    {
     "name": "stderr",
     "output_type": "stream",
     "text": [
      "100%|████████████████████████████████████████████████████████████████████████████████████████████████████████████████████████| 1/1 [00:05<00:00,  5.75s/it]\n"
     ]
    },
    {
     "name": "stdout",
     "output_type": "stream",
     "text": [
      "00638029\n",
      "118/360\n"
     ]
    },
    {
     "name": "stderr",
     "output_type": "stream",
     "text": [
      "100%|████████████████████████████████████████████████████████████████████████████████████████████████████████████████████████| 1/1 [00:02<00:00,  2.06s/it]\n"
     ]
    },
    {
     "name": "stdout",
     "output_type": "stream",
     "text": [
      "00638030\n",
      "119/360\n"
     ]
    },
    {
     "name": "stderr",
     "output_type": "stream",
     "text": [
      "100%|████████████████████████████████████████████████████████████████████████████████████████████████████████████████████████| 1/1 [00:03<00:00,  3.35s/it]\n"
     ]
    },
    {
     "name": "stdout",
     "output_type": "stream",
     "text": [
      "00638031\n",
      "120/360\n"
     ]
    },
    {
     "name": "stderr",
     "output_type": "stream",
     "text": [
      "100%|████████████████████████████████████████████████████████████████████████████████████████████████████████████████████████| 1/1 [00:04<00:00,  4.88s/it]\n"
     ]
    },
    {
     "name": "stdout",
     "output_type": "stream",
     "text": [
      "00638032\n",
      "121/360\n"
     ]
    },
    {
     "name": "stderr",
     "output_type": "stream",
     "text": [
      "100%|████████████████████████████████████████████████████████████████████████████████████████████████████████████████████████| 1/1 [00:07<00:00,  7.16s/it]\n"
     ]
    },
    {
     "name": "stdout",
     "output_type": "stream",
     "text": [
      "00638033\n",
      "122/360\n"
     ]
    },
    {
     "name": "stderr",
     "output_type": "stream",
     "text": [
      "100%|████████████████████████████████████████████████████████████████████████████████████████████████████████████████████████| 1/1 [00:03<00:00,  3.58s/it]\n"
     ]
    },
    {
     "name": "stdout",
     "output_type": "stream",
     "text": [
      "00638034\n",
      "123/360\n"
     ]
    },
    {
     "name": "stderr",
     "output_type": "stream",
     "text": [
      "100%|████████████████████████████████████████████████████████████████████████████████████████████████████████████████████████| 1/1 [00:02<00:00,  2.35s/it]\n"
     ]
    },
    {
     "name": "stdout",
     "output_type": "stream",
     "text": [
      "00638035\n",
      "124/360\n"
     ]
    },
    {
     "name": "stderr",
     "output_type": "stream",
     "text": [
      "100%|████████████████████████████████████████████████████████████████████████████████████████████████████████████████████████| 1/1 [00:04<00:00,  4.26s/it]\n"
     ]
    },
    {
     "name": "stdout",
     "output_type": "stream",
     "text": [
      "00638036\n",
      "125/360\n"
     ]
    },
    {
     "name": "stderr",
     "output_type": "stream",
     "text": [
      "100%|████████████████████████████████████████████████████████████████████████████████████████████████████████████████████████| 1/1 [00:03<00:00,  3.13s/it]\n"
     ]
    },
    {
     "name": "stdout",
     "output_type": "stream",
     "text": [
      "00638046\n",
      "126/360\n"
     ]
    },
    {
     "name": "stderr",
     "output_type": "stream",
     "text": [
      "100%|████████████████████████████████████████████████████████████████████████████████████████████████████████████████████████| 1/1 [00:04<00:00,  4.92s/it]\n"
     ]
    },
    {
     "name": "stdout",
     "output_type": "stream",
     "text": [
      "00638047\n",
      "127/360\n"
     ]
    },
    {
     "name": "stderr",
     "output_type": "stream",
     "text": [
      "100%|████████████████████████████████████████████████████████████████████████████████████████████████████████████████████████| 1/1 [00:03<00:00,  3.08s/it]\n"
     ]
    },
    {
     "name": "stdout",
     "output_type": "stream",
     "text": [
      "00638048\n",
      "128/360\n"
     ]
    },
    {
     "name": "stderr",
     "output_type": "stream",
     "text": [
      "100%|████████████████████████████████████████████████████████████████████████████████████████████████████████████████████████| 1/1 [00:03<00:00,  3.88s/it]\n"
     ]
    },
    {
     "name": "stdout",
     "output_type": "stream",
     "text": [
      "00638049\n",
      "129/360\n"
     ]
    },
    {
     "name": "stderr",
     "output_type": "stream",
     "text": [
      "100%|████████████████████████████████████████████████████████████████████████████████████████████████████████████████████████| 1/1 [00:04<00:00,  4.70s/it]\n"
     ]
    },
    {
     "name": "stdout",
     "output_type": "stream",
     "text": [
      "00638050\n",
      "130/360\n"
     ]
    },
    {
     "name": "stderr",
     "output_type": "stream",
     "text": [
      "100%|████████████████████████████████████████████████████████████████████████████████████████████████████████████████████████| 1/1 [00:03<00:00,  3.50s/it]\n"
     ]
    },
    {
     "name": "stdout",
     "output_type": "stream",
     "text": [
      "00638051\n",
      "131/360\n"
     ]
    },
    {
     "name": "stderr",
     "output_type": "stream",
     "text": [
      "100%|████████████████████████████████████████████████████████████████████████████████████████████████████████████████████████| 1/1 [00:01<00:00,  1.50s/it]\n"
     ]
    },
    {
     "name": "stdout",
     "output_type": "stream",
     "text": [
      "00638088\n",
      "132/360\n"
     ]
    },
    {
     "name": "stderr",
     "output_type": "stream",
     "text": [
      "100%|████████████████████████████████████████████████████████████████████████████████████████████████████████████████████████| 1/1 [00:01<00:00,  1.81s/it]\n"
     ]
    },
    {
     "name": "stdout",
     "output_type": "stream",
     "text": [
      "00638090\n",
      "133/360\n"
     ]
    },
    {
     "name": "stderr",
     "output_type": "stream",
     "text": [
      "100%|████████████████████████████████████████████████████████████████████████████████████████████████████████████████████████| 1/1 [00:01<00:00,  1.55s/it]\n"
     ]
    },
    {
     "name": "stdout",
     "output_type": "stream",
     "text": [
      "00638101\n",
      "134/360\n"
     ]
    },
    {
     "name": "stderr",
     "output_type": "stream",
     "text": [
      "100%|████████████████████████████████████████████████████████████████████████████████████████████████████████████████████████| 1/1 [00:02<00:00,  2.04s/it]\n"
     ]
    },
    {
     "name": "stdout",
     "output_type": "stream",
     "text": [
      "00638102\n",
      "135/360\n"
     ]
    },
    {
     "name": "stderr",
     "output_type": "stream",
     "text": [
      "100%|████████████████████████████████████████████████████████████████████████████████████████████████████████████████████████| 1/1 [00:02<00:00,  2.12s/it]\n"
     ]
    },
    {
     "name": "stdout",
     "output_type": "stream",
     "text": [
      "00638104\n",
      "136/360\n"
     ]
    },
    {
     "name": "stderr",
     "output_type": "stream",
     "text": [
      "100%|████████████████████████████████████████████████████████████████████████████████████████████████████████████████████████| 1/1 [00:02<00:00,  2.43s/it]\n"
     ]
    },
    {
     "name": "stdout",
     "output_type": "stream",
     "text": [
      "00638105\n",
      "137/360\n"
     ]
    },
    {
     "name": "stderr",
     "output_type": "stream",
     "text": [
      "100%|████████████████████████████████████████████████████████████████████████████████████████████████████████████████████████| 1/1 [00:02<00:00,  2.28s/it]\n"
     ]
    },
    {
     "name": "stdout",
     "output_type": "stream",
     "text": [
      "00638106\n",
      "138/360\n"
     ]
    },
    {
     "name": "stderr",
     "output_type": "stream",
     "text": [
      "100%|████████████████████████████████████████████████████████████████████████████████████████████████████████████████████████| 1/1 [00:02<00:00,  2.03s/it]\n"
     ]
    },
    {
     "name": "stdout",
     "output_type": "stream",
     "text": [
      "00638107\n",
      "139/360\n"
     ]
    },
    {
     "name": "stderr",
     "output_type": "stream",
     "text": [
      "100%|████████████████████████████████████████████████████████████████████████████████████████████████████████████████████████| 1/1 [00:01<00:00,  1.95s/it]\n"
     ]
    },
    {
     "name": "stdout",
     "output_type": "stream",
     "text": [
      "00638108\n",
      "140/360\n"
     ]
    },
    {
     "name": "stderr",
     "output_type": "stream",
     "text": [
      "100%|████████████████████████████████████████████████████████████████████████████████████████████████████████████████████████| 1/1 [00:02<00:00,  2.15s/it]\n"
     ]
    },
    {
     "name": "stdout",
     "output_type": "stream",
     "text": [
      "00638110\n",
      "141/360\n"
     ]
    },
    {
     "name": "stderr",
     "output_type": "stream",
     "text": [
      "100%|████████████████████████████████████████████████████████████████████████████████████████████████████████████████████████| 1/1 [00:02<00:00,  2.32s/it]\n"
     ]
    },
    {
     "name": "stdout",
     "output_type": "stream",
     "text": [
      "00638111\n",
      "142/360\n"
     ]
    },
    {
     "name": "stderr",
     "output_type": "stream",
     "text": [
      "100%|████████████████████████████████████████████████████████████████████████████████████████████████████████████████████████| 1/1 [00:01<00:00,  1.91s/it]\n"
     ]
    },
    {
     "name": "stdout",
     "output_type": "stream",
     "text": [
      "00638112\n",
      "143/360\n"
     ]
    },
    {
     "name": "stderr",
     "output_type": "stream",
     "text": [
      "100%|████████████████████████████████████████████████████████████████████████████████████████████████████████████████████████| 1/1 [00:02<00:00,  2.12s/it]\n"
     ]
    },
    {
     "name": "stdout",
     "output_type": "stream",
     "text": [
      "00638113\n",
      "144/360\n"
     ]
    },
    {
     "name": "stderr",
     "output_type": "stream",
     "text": [
      "100%|████████████████████████████████████████████████████████████████████████████████████████████████████████████████████████| 1/1 [00:01<00:00,  1.89s/it]\n"
     ]
    },
    {
     "name": "stdout",
     "output_type": "stream",
     "text": [
      "00638115\n",
      "145/360\n"
     ]
    },
    {
     "name": "stderr",
     "output_type": "stream",
     "text": [
      "100%|████████████████████████████████████████████████████████████████████████████████████████████████████████████████████████| 1/1 [00:02<00:00,  2.67s/it]\n"
     ]
    },
    {
     "name": "stdout",
     "output_type": "stream",
     "text": [
      "00638125\n",
      "146/360\n"
     ]
    },
    {
     "name": "stderr",
     "output_type": "stream",
     "text": [
      "100%|████████████████████████████████████████████████████████████████████████████████████████████████████████████████████████| 1/1 [00:01<00:00,  1.55s/it]\n"
     ]
    },
    {
     "name": "stdout",
     "output_type": "stream",
     "text": [
      "00638126\n",
      "147/360\n"
     ]
    },
    {
     "name": "stderr",
     "output_type": "stream",
     "text": [
      "100%|████████████████████████████████████████████████████████████████████████████████████████████████████████████████████████| 1/1 [00:02<00:00,  2.42s/it]\n"
     ]
    },
    {
     "name": "stdout",
     "output_type": "stream",
     "text": [
      "00734000\n",
      "148/360\n"
     ]
    },
    {
     "name": "stderr",
     "output_type": "stream",
     "text": [
      "100%|████████████████████████████████████████████████████████████████████████████████████████████████████████████████████████| 1/1 [00:07<00:00,  7.50s/it]\n"
     ]
    },
    {
     "name": "stdout",
     "output_type": "stream",
     "text": [
      "00734001\n",
      "149/360\n"
     ]
    },
    {
     "name": "stderr",
     "output_type": "stream",
     "text": [
      "100%|████████████████████████████████████████████████████████████████████████████████████████████████████████████████████████| 1/1 [00:03<00:00,  3.56s/it]\n"
     ]
    },
    {
     "name": "stdout",
     "output_type": "stream",
     "text": [
      "00734002\n",
      "150/360\n"
     ]
    },
    {
     "name": "stderr",
     "output_type": "stream",
     "text": [
      "100%|████████████████████████████████████████████████████████████████████████████████████████████████████████████████████████| 1/1 [00:04<00:00,  4.50s/it]\n"
     ]
    },
    {
     "name": "stdout",
     "output_type": "stream",
     "text": [
      "00734003\n",
      "151/360\n"
     ]
    },
    {
     "name": "stderr",
     "output_type": "stream",
     "text": [
      "100%|████████████████████████████████████████████████████████████████████████████████████████████████████████████████████████| 1/1 [00:00<00:00,  1.19it/s]\n"
     ]
    },
    {
     "name": "stdout",
     "output_type": "stream",
     "text": [
      "00734004\n",
      "152/360\n"
     ]
    },
    {
     "name": "stderr",
     "output_type": "stream",
     "text": [
      "100%|████████████████████████████████████████████████████████████████████████████████████████████████████████████████████████| 1/1 [00:04<00:00,  4.25s/it]\n"
     ]
    },
    {
     "name": "stdout",
     "output_type": "stream",
     "text": [
      "00734006\n",
      "153/360\n"
     ]
    },
    {
     "name": "stderr",
     "output_type": "stream",
     "text": [
      "100%|████████████████████████████████████████████████████████████████████████████████████████████████████████████████████████| 1/1 [00:06<00:00,  6.31s/it]\n"
     ]
    },
    {
     "name": "stdout",
     "output_type": "stream",
     "text": [
      "00734008\n",
      "154/360\n"
     ]
    },
    {
     "name": "stderr",
     "output_type": "stream",
     "text": [
      "100%|████████████████████████████████████████████████████████████████████████████████████████████████████████████████████████| 1/1 [00:02<00:00,  2.20s/it]\n"
     ]
    },
    {
     "name": "stdout",
     "output_type": "stream",
     "text": [
      "00734036\n",
      "155/360\n"
     ]
    },
    {
     "name": "stderr",
     "output_type": "stream",
     "text": [
      "100%|████████████████████████████████████████████████████████████████████████████████████████████████████████████████████████| 1/1 [00:01<00:00,  1.79s/it]\n"
     ]
    },
    {
     "name": "stdout",
     "output_type": "stream",
     "text": [
      "00734037\n",
      "156/360\n"
     ]
    },
    {
     "name": "stderr",
     "output_type": "stream",
     "text": [
      "100%|████████████████████████████████████████████████████████████████████████████████████████████████████████████████████████| 1/1 [00:02<00:00,  2.01s/it]\n"
     ]
    },
    {
     "name": "stdout",
     "output_type": "stream",
     "text": [
      "00734038\n",
      "157/360\n"
     ]
    },
    {
     "name": "stderr",
     "output_type": "stream",
     "text": [
      "100%|████████████████████████████████████████████████████████████████████████████████████████████████████████████████████████| 1/1 [00:01<00:00,  1.23s/it]\n"
     ]
    },
    {
     "name": "stdout",
     "output_type": "stream",
     "text": [
      "00734039\n",
      "158/360\n"
     ]
    },
    {
     "name": "stderr",
     "output_type": "stream",
     "text": [
      "100%|████████████████████████████████████████████████████████████████████████████████████████████████████████████████████████| 1/1 [00:01<00:00,  1.94s/it]\n"
     ]
    },
    {
     "name": "stdout",
     "output_type": "stream",
     "text": [
      "00734041\n",
      "159/360\n"
     ]
    },
    {
     "name": "stderr",
     "output_type": "stream",
     "text": [
      "100%|████████████████████████████████████████████████████████████████████████████████████████████████████████████████████████| 1/1 [00:01<00:00,  1.57s/it]\n"
     ]
    },
    {
     "name": "stdout",
     "output_type": "stream",
     "text": [
      "00734042\n",
      "160/360\n"
     ]
    },
    {
     "name": "stderr",
     "output_type": "stream",
     "text": [
      "100%|████████████████████████████████████████████████████████████████████████████████████████████████████████████████████████| 1/1 [00:02<00:00,  2.10s/it]\n"
     ]
    },
    {
     "name": "stdout",
     "output_type": "stream",
     "text": [
      "00734043\n",
      "161/360\n"
     ]
    },
    {
     "name": "stderr",
     "output_type": "stream",
     "text": [
      "100%|████████████████████████████████████████████████████████████████████████████████████████████████████████████████████████| 1/1 [00:00<00:00,  4.75it/s]\n"
     ]
    },
    {
     "name": "stdout",
     "output_type": "stream",
     "text": [
      "gauge error\n",
      "00734044\n",
      "162/360\n"
     ]
    },
    {
     "name": "stderr",
     "output_type": "stream",
     "text": [
      "100%|████████████████████████████████████████████████████████████████████████████████████████████████████████████████████████| 1/1 [00:00<00:00,  4.88it/s]\n"
     ]
    },
    {
     "name": "stdout",
     "output_type": "stream",
     "text": [
      "gauge error\n",
      "00734045\n",
      "163/360\n"
     ]
    },
    {
     "name": "stderr",
     "output_type": "stream",
     "text": [
      "100%|████████████████████████████████████████████████████████████████████████████████████████████████████████████████████████| 1/1 [00:00<00:00,  3.48it/s]\n"
     ]
    },
    {
     "name": "stdout",
     "output_type": "stream",
     "text": [
      "gauge error\n",
      "00734046\n",
      "164/360\n"
     ]
    },
    {
     "name": "stderr",
     "output_type": "stream",
     "text": [
      "100%|████████████████████████████████████████████████████████████████████████████████████████████████████████████████████████| 1/1 [00:01<00:00,  1.24s/it]\n"
     ]
    },
    {
     "name": "stdout",
     "output_type": "stream",
     "text": [
      "00735001\n",
      "165/360\n"
     ]
    },
    {
     "name": "stderr",
     "output_type": "stream",
     "text": [
      "100%|████████████████████████████████████████████████████████████████████████████████████████████████████████████████████████| 1/1 [00:06<00:00,  6.93s/it]\n"
     ]
    },
    {
     "name": "stdout",
     "output_type": "stream",
     "text": [
      "00735002\n",
      "166/360\n"
     ]
    },
    {
     "name": "stderr",
     "output_type": "stream",
     "text": [
      "100%|████████████████████████████████████████████████████████████████████████████████████████████████████████████████████████| 1/1 [00:00<00:00,  2.51it/s]\n"
     ]
    },
    {
     "name": "stdout",
     "output_type": "stream",
     "text": [
      "00735003\n",
      "167/360\n"
     ]
    },
    {
     "name": "stderr",
     "output_type": "stream",
     "text": [
      "100%|████████████████████████████████████████████████████████████████████████████████████████████████████████████████████████| 1/1 [00:06<00:00,  6.22s/it]\n"
     ]
    },
    {
     "name": "stdout",
     "output_type": "stream",
     "text": [
      "00735006\n",
      "168/360\n"
     ]
    },
    {
     "name": "stderr",
     "output_type": "stream",
     "text": [
      "100%|████████████████████████████████████████████████████████████████████████████████████████████████████████████████████████| 1/1 [00:04<00:00,  4.02s/it]\n"
     ]
    },
    {
     "name": "stdout",
     "output_type": "stream",
     "text": [
      "00735007\n",
      "169/360\n"
     ]
    },
    {
     "name": "stderr",
     "output_type": "stream",
     "text": [
      "100%|████████████████████████████████████████████████████████████████████████████████████████████████████████████████████████| 1/1 [00:10<00:00, 10.77s/it]\n"
     ]
    },
    {
     "name": "stdout",
     "output_type": "stream",
     "text": [
      "00735009\n",
      "170/360\n"
     ]
    },
    {
     "name": "stderr",
     "output_type": "stream",
     "text": [
      "100%|████████████████████████████████████████████████████████████████████████████████████████████████████████████████████████| 1/1 [00:01<00:00,  1.41s/it]\n"
     ]
    },
    {
     "name": "stdout",
     "output_type": "stream",
     "text": [
      "00735010\n",
      "171/360\n"
     ]
    },
    {
     "name": "stderr",
     "output_type": "stream",
     "text": [
      "100%|████████████████████████████████████████████████████████████████████████████████████████████████████████████████████████| 1/1 [00:02<00:00,  2.07s/it]\n"
     ]
    },
    {
     "name": "stdout",
     "output_type": "stream",
     "text": [
      "00735011\n",
      "172/360\n"
     ]
    },
    {
     "name": "stderr",
     "output_type": "stream",
     "text": [
      "100%|████████████████████████████████████████████████████████████████████████████████████████████████████████████████████████| 1/1 [00:02<00:00,  2.26s/it]\n"
     ]
    },
    {
     "name": "stdout",
     "output_type": "stream",
     "text": [
      "00735012\n",
      "173/360\n"
     ]
    },
    {
     "name": "stderr",
     "output_type": "stream",
     "text": [
      "100%|████████████████████████████████████████████████████████████████████████████████████████████████████████████████████████| 1/1 [00:06<00:00,  6.37s/it]\n"
     ]
    },
    {
     "name": "stdout",
     "output_type": "stream",
     "text": [
      "00735015\n",
      "174/360\n"
     ]
    },
    {
     "name": "stderr",
     "output_type": "stream",
     "text": [
      "100%|████████████████████████████████████████████████████████████████████████████████████████████████████████████████████████| 1/1 [00:06<00:00,  6.13s/it]\n"
     ]
    },
    {
     "name": "stdout",
     "output_type": "stream",
     "text": [
      "00735017\n",
      "175/360\n"
     ]
    },
    {
     "name": "stderr",
     "output_type": "stream",
     "text": [
      "100%|████████████████████████████████████████████████████████████████████████████████████████████████████████████████████████| 1/1 [00:03<00:00,  3.67s/it]\n"
     ]
    },
    {
     "name": "stdout",
     "output_type": "stream",
     "text": [
      "00735018\n",
      "176/360\n"
     ]
    },
    {
     "name": "stderr",
     "output_type": "stream",
     "text": [
      "100%|████████████████████████████████████████████████████████████████████████████████████████████████████████████████████████| 1/1 [00:05<00:00,  5.08s/it]\n"
     ]
    },
    {
     "name": "stdout",
     "output_type": "stream",
     "text": [
      "00735019\n",
      "177/360\n"
     ]
    },
    {
     "name": "stderr",
     "output_type": "stream",
     "text": [
      "100%|████████████████████████████████████████████████████████████████████████████████████████████████████████████████████████| 1/1 [00:00<00:00,  1.27it/s]\n"
     ]
    },
    {
     "name": "stdout",
     "output_type": "stream",
     "text": [
      "00735024\n",
      "178/360\n"
     ]
    },
    {
     "name": "stderr",
     "output_type": "stream",
     "text": [
      "100%|████████████████████████████████████████████████████████████████████████████████████████████████████████████████████████| 1/1 [00:01<00:00,  1.54s/it]\n"
     ]
    },
    {
     "name": "stdout",
     "output_type": "stream",
     "text": [
      "00735025\n",
      "179/360\n"
     ]
    },
    {
     "name": "stderr",
     "output_type": "stream",
     "text": [
      "100%|████████████████████████████████████████████████████████████████████████████████████████████████████████████████████████| 1/1 [00:05<00:00,  5.76s/it]\n"
     ]
    },
    {
     "name": "stdout",
     "output_type": "stream",
     "text": [
      "00735026\n",
      "180/360\n"
     ]
    },
    {
     "name": "stderr",
     "output_type": "stream",
     "text": [
      "100%|████████████████████████████████████████████████████████████████████████████████████████████████████████████████████████| 1/1 [00:04<00:00,  4.34s/it]\n"
     ]
    },
    {
     "name": "stdout",
     "output_type": "stream",
     "text": [
      "00735028\n",
      "181/360\n"
     ]
    },
    {
     "name": "stderr",
     "output_type": "stream",
     "text": [
      "100%|████████████████████████████████████████████████████████████████████████████████████████████████████████████████████████| 1/1 [00:04<00:00,  4.33s/it]\n"
     ]
    },
    {
     "name": "stdout",
     "output_type": "stream",
     "text": [
      "00735029\n",
      "182/360\n"
     ]
    },
    {
     "name": "stderr",
     "output_type": "stream",
     "text": [
      "100%|████████████████████████████████████████████████████████████████████████████████████████████████████████████████████████| 1/1 [00:06<00:00,  6.83s/it]\n"
     ]
    },
    {
     "name": "stdout",
     "output_type": "stream",
     "text": [
      "00735030\n",
      "183/360\n"
     ]
    },
    {
     "name": "stderr",
     "output_type": "stream",
     "text": [
      "100%|████████████████████████████████████████████████████████████████████████████████████████████████████████████████████████| 1/1 [00:05<00:00,  5.19s/it]\n"
     ]
    },
    {
     "name": "stdout",
     "output_type": "stream",
     "text": [
      "00735033\n",
      "184/360\n"
     ]
    },
    {
     "name": "stderr",
     "output_type": "stream",
     "text": [
      "100%|████████████████████████████████████████████████████████████████████████████████████████████████████████████████████████| 1/1 [00:03<00:00,  3.69s/it]\n"
     ]
    },
    {
     "name": "stdout",
     "output_type": "stream",
     "text": [
      "00735035\n",
      "185/360\n"
     ]
    },
    {
     "name": "stderr",
     "output_type": "stream",
     "text": [
      "100%|████████████████████████████████████████████████████████████████████████████████████████████████████████████████████████| 1/1 [00:07<00:00,  7.00s/it]\n"
     ]
    },
    {
     "name": "stdout",
     "output_type": "stream",
     "text": [
      "00735036\n",
      "186/360\n"
     ]
    },
    {
     "name": "stderr",
     "output_type": "stream",
     "text": [
      "100%|████████████████████████████████████████████████████████████████████████████████████████████████████████████████████████| 1/1 [00:05<00:00,  5.69s/it]\n"
     ]
    },
    {
     "name": "stdout",
     "output_type": "stream",
     "text": [
      "00735124\n",
      "187/360\n"
     ]
    },
    {
     "name": "stderr",
     "output_type": "stream",
     "text": [
      "100%|████████████████████████████████████████████████████████████████████████████████████████████████████████████████████████| 1/1 [00:02<00:00,  2.07s/it]\n"
     ]
    },
    {
     "name": "stdout",
     "output_type": "stream",
     "text": [
      "00735160\n",
      "188/360\n"
     ]
    },
    {
     "name": "stderr",
     "output_type": "stream",
     "text": [
      "100%|████████████████████████████████████████████████████████████████████████████████████████████████████████████████████████| 1/1 [00:01<00:00,  1.71s/it]\n"
     ]
    },
    {
     "name": "stdout",
     "output_type": "stream",
     "text": [
      "00735161\n",
      "189/360\n"
     ]
    },
    {
     "name": "stderr",
     "output_type": "stream",
     "text": [
      "100%|████████████████████████████████████████████████████████████████████████████████████████████████████████████████████████| 1/1 [00:02<00:00,  2.12s/it]\n"
     ]
    },
    {
     "name": "stdout",
     "output_type": "stream",
     "text": [
      "00735162\n",
      "190/360\n"
     ]
    },
    {
     "name": "stderr",
     "output_type": "stream",
     "text": [
      "100%|████████████████████████████████████████████████████████████████████████████████████████████████████████████████████████| 1/1 [00:01<00:00,  1.86s/it]\n"
     ]
    },
    {
     "name": "stdout",
     "output_type": "stream",
     "text": [
      "00735163\n",
      "191/360\n"
     ]
    },
    {
     "name": "stderr",
     "output_type": "stream",
     "text": [
      "100%|████████████████████████████████████████████████████████████████████████████████████████████████████████████████████████| 1/1 [00:02<00:00,  2.08s/it]\n"
     ]
    },
    {
     "name": "stdout",
     "output_type": "stream",
     "text": [
      "00735164\n",
      "192/360\n"
     ]
    },
    {
     "name": "stderr",
     "output_type": "stream",
     "text": [
      "100%|████████████████████████████████████████████████████████████████████████████████████████████████████████████████████████| 1/1 [00:02<00:00,  2.23s/it]\n"
     ]
    },
    {
     "name": "stdout",
     "output_type": "stream",
     "text": [
      "00735165\n",
      "193/360\n"
     ]
    },
    {
     "name": "stderr",
     "output_type": "stream",
     "text": [
      "100%|████████████████████████████████████████████████████████████████████████████████████████████████████████████████████████| 1/1 [00:02<00:00,  2.13s/it]\n"
     ]
    },
    {
     "name": "stdout",
     "output_type": "stream",
     "text": [
      "00735175\n",
      "194/360\n"
     ]
    },
    {
     "name": "stderr",
     "output_type": "stream",
     "text": [
      "100%|████████████████████████████████████████████████████████████████████████████████████████████████████████████████████████| 1/1 [00:01<00:00,  1.80s/it]\n"
     ]
    },
    {
     "name": "stdout",
     "output_type": "stream",
     "text": [
      "00735176\n",
      "195/360\n"
     ]
    },
    {
     "name": "stderr",
     "output_type": "stream",
     "text": [
      "100%|████████████████████████████████████████████████████████████████████████████████████████████████████████████████████████| 1/1 [00:01<00:00,  1.96s/it]\n"
     ]
    },
    {
     "name": "stdout",
     "output_type": "stream",
     "text": [
      "00735177\n",
      "196/360\n"
     ]
    },
    {
     "name": "stderr",
     "output_type": "stream",
     "text": [
      "100%|████████████████████████████████████████████████████████████████████████████████████████████████████████████████████████| 1/1 [00:01<00:00,  1.63s/it]\n"
     ]
    },
    {
     "name": "stdout",
     "output_type": "stream",
     "text": [
      "00735178\n",
      "197/360\n"
     ]
    },
    {
     "name": "stderr",
     "output_type": "stream",
     "text": [
      "100%|████████████████████████████████████████████████████████████████████████████████████████████████████████████████████████| 1/1 [00:01<00:00,  1.89s/it]\n"
     ]
    },
    {
     "name": "stdout",
     "output_type": "stream",
     "text": [
      "00735179\n",
      "198/360\n"
     ]
    },
    {
     "name": "stderr",
     "output_type": "stream",
     "text": [
      "100%|████████████████████████████████████████████████████████████████████████████████████████████████████████████████████████| 1/1 [00:01<00:00,  1.29s/it]\n"
     ]
    },
    {
     "name": "stdout",
     "output_type": "stream",
     "text": [
      "00735180\n",
      "199/360\n"
     ]
    },
    {
     "name": "stderr",
     "output_type": "stream",
     "text": [
      "100%|████████████████████████████████████████████████████████████████████████████████████████████████████████████████████████| 1/1 [00:01<00:00,  1.90s/it]\n"
     ]
    },
    {
     "name": "stdout",
     "output_type": "stream",
     "text": [
      "00735181\n",
      "200/360\n"
     ]
    },
    {
     "name": "stderr",
     "output_type": "stream",
     "text": [
      "100%|████████████████████████████████████████████████████████████████████████████████████████████████████████████████████████| 1/1 [00:01<00:00,  1.80s/it]\n"
     ]
    },
    {
     "name": "stdout",
     "output_type": "stream",
     "text": [
      "00735182\n",
      "201/360\n"
     ]
    },
    {
     "name": "stderr",
     "output_type": "stream",
     "text": [
      "100%|████████████████████████████████████████████████████████████████████████████████████████████████████████████████████████| 1/1 [00:01<00:00,  1.07s/it]\n"
     ]
    },
    {
     "name": "stdout",
     "output_type": "stream",
     "text": [
      "00735184\n",
      "202/360\n"
     ]
    },
    {
     "name": "stderr",
     "output_type": "stream",
     "text": [
      "100%|████████████████████████████████████████████████████████████████████████████████████████████████████████████████████████| 1/1 [00:00<00:00,  4.77it/s]\n"
     ]
    },
    {
     "name": "stdout",
     "output_type": "stream",
     "text": [
      "gauge error\n",
      "00735186\n",
      "203/360\n"
     ]
    },
    {
     "name": "stderr",
     "output_type": "stream",
     "text": [
      "100%|████████████████████████████████████████████████████████████████████████████████████████████████████████████████████████| 1/1 [00:01<00:00,  1.94s/it]\n"
     ]
    },
    {
     "name": "stdout",
     "output_type": "stream",
     "text": [
      "00735188\n",
      "204/360\n"
     ]
    },
    {
     "name": "stderr",
     "output_type": "stream",
     "text": [
      "100%|████████████████████████████████████████████████████████████████████████████████████████████████████████████████████████| 1/1 [00:02<00:00,  2.14s/it]\n"
     ]
    },
    {
     "name": "stdout",
     "output_type": "stream",
     "text": [
      "00735189\n",
      "205/360\n"
     ]
    },
    {
     "name": "stderr",
     "output_type": "stream",
     "text": [
      "100%|████████████████████████████████████████████████████████████████████████████████████████████████████████████████████████| 1/1 [00:02<00:00,  2.99s/it]\n"
     ]
    },
    {
     "name": "stdout",
     "output_type": "stream",
     "text": [
      "00735190\n",
      "206/360\n"
     ]
    },
    {
     "name": "stderr",
     "output_type": "stream",
     "text": [
      "100%|████████████████████████████████████████████████████████████████████████████████████████████████████████████████████████| 1/1 [00:02<00:00,  2.52s/it]\n"
     ]
    },
    {
     "name": "stdout",
     "output_type": "stream",
     "text": [
      "00735191\n",
      "207/360\n"
     ]
    },
    {
     "name": "stderr",
     "output_type": "stream",
     "text": [
      "100%|████████████████████████████████████████████████████████████████████████████████████████████████████████████████████████| 1/1 [00:00<00:00,  1.29it/s]\n"
     ]
    },
    {
     "name": "stdout",
     "output_type": "stream",
     "text": [
      "00735192\n",
      "208/360\n"
     ]
    },
    {
     "name": "stderr",
     "output_type": "stream",
     "text": [
      "100%|████████████████████████████████████████████████████████████████████████████████████████████████████████████████████████| 1/1 [00:00<00:00,  1.34it/s]\n"
     ]
    },
    {
     "name": "stdout",
     "output_type": "stream",
     "text": [
      "00735193\n",
      "209/360\n"
     ]
    },
    {
     "name": "stderr",
     "output_type": "stream",
     "text": [
      "100%|████████████████████████████████████████████████████████████████████████████████████████████████████████████████████████| 1/1 [00:01<00:00,  1.70s/it]\n"
     ]
    },
    {
     "name": "stdout",
     "output_type": "stream",
     "text": [
      "00735195\n",
      "210/360\n"
     ]
    },
    {
     "name": "stderr",
     "output_type": "stream",
     "text": [
      "100%|████████████████████████████████████████████████████████████████████████████████████████████████████████████████████████| 1/1 [00:02<00:00,  2.54s/it]\n"
     ]
    },
    {
     "name": "stdout",
     "output_type": "stream",
     "text": [
      "00735196\n",
      "211/360\n"
     ]
    },
    {
     "name": "stderr",
     "output_type": "stream",
     "text": [
      "100%|████████████████████████████████████████████████████████████████████████████████████████████████████████████████████████| 1/1 [00:00<00:00,  4.97it/s]\n"
     ]
    },
    {
     "name": "stdout",
     "output_type": "stream",
     "text": [
      "gauge error\n",
      "00735197\n",
      "212/360\n"
     ]
    },
    {
     "name": "stderr",
     "output_type": "stream",
     "text": [
      "100%|████████████████████████████████████████████████████████████████████████████████████████████████████████████████████████| 1/1 [00:00<00:00,  4.28it/s]\n"
     ]
    },
    {
     "name": "stdout",
     "output_type": "stream",
     "text": [
      "gauge error\n",
      "00735198\n",
      "213/360\n"
     ]
    },
    {
     "name": "stderr",
     "output_type": "stream",
     "text": [
      "100%|████████████████████████████████████████████████████████████████████████████████████████████████████████████████████████| 1/1 [00:00<00:00,  4.28it/s]\n"
     ]
    },
    {
     "name": "stdout",
     "output_type": "stream",
     "text": [
      "gauge error\n",
      "00735199\n",
      "214/360\n"
     ]
    },
    {
     "name": "stderr",
     "output_type": "stream",
     "text": [
      "100%|████████████████████████████████████████████████████████████████████████████████████████████████████████████████████████| 1/1 [00:00<00:00,  3.25it/s]\n"
     ]
    },
    {
     "name": "stdout",
     "output_type": "stream",
     "text": [
      "gauge error\n",
      "00735200\n",
      "215/360\n"
     ]
    },
    {
     "name": "stderr",
     "output_type": "stream",
     "text": [
      "100%|████████████████████████████████████████████████████████████████████████████████████████████████████████████████████████| 1/1 [00:02<00:00,  2.38s/it]\n"
     ]
    },
    {
     "name": "stdout",
     "output_type": "stream",
     "text": [
      "00735201\n",
      "216/360\n"
     ]
    },
    {
     "name": "stderr",
     "output_type": "stream",
     "text": [
      "100%|████████████████████████████████████████████████████████████████████████████████████████████████████████████████████████| 1/1 [00:02<00:00,  2.33s/it]\n"
     ]
    },
    {
     "name": "stdout",
     "output_type": "stream",
     "text": [
      "00735202\n",
      "217/360\n"
     ]
    },
    {
     "name": "stderr",
     "output_type": "stream",
     "text": [
      "100%|████████████████████████████████████████████████████████████████████████████████████████████████████████████████████████| 1/1 [00:02<00:00,  2.99s/it]\n"
     ]
    },
    {
     "name": "stdout",
     "output_type": "stream",
     "text": [
      "00735203\n",
      "218/360\n"
     ]
    },
    {
     "name": "stderr",
     "output_type": "stream",
     "text": [
      "100%|████████████████████████████████████████████████████████████████████████████████████████████████████████████████████████| 1/1 [00:01<00:00,  1.50s/it]\n"
     ]
    },
    {
     "name": "stdout",
     "output_type": "stream",
     "text": [
      "00735204\n",
      "219/360\n"
     ]
    },
    {
     "name": "stderr",
     "output_type": "stream",
     "text": [
      "100%|████████████████████████████████████████████████████████████████████████████████████████████████████████████████████████| 1/1 [00:02<00:00,  2.46s/it]\n"
     ]
    },
    {
     "name": "stdout",
     "output_type": "stream",
     "text": [
      "00735205\n",
      "220/360\n"
     ]
    },
    {
     "name": "stderr",
     "output_type": "stream",
     "text": [
      "100%|████████████████████████████████████████████████████████████████████████████████████████████████████████████████████████| 1/1 [00:01<00:00,  1.97s/it]\n"
     ]
    },
    {
     "name": "stdout",
     "output_type": "stream",
     "text": [
      "00735206\n",
      "221/360\n"
     ]
    },
    {
     "name": "stderr",
     "output_type": "stream",
     "text": [
      "100%|████████████████████████████████████████████████████████████████████████████████████████████████████████████████████████| 1/1 [00:00<00:00,  3.75it/s]\n"
     ]
    },
    {
     "name": "stdout",
     "output_type": "stream",
     "text": [
      "gauge error\n",
      "00735207\n",
      "222/360\n"
     ]
    },
    {
     "name": "stderr",
     "output_type": "stream",
     "text": [
      "100%|████████████████████████████████████████████████████████████████████████████████████████████████████████████████████████| 1/1 [00:00<00:00,  2.85it/s]\n"
     ]
    },
    {
     "name": "stdout",
     "output_type": "stream",
     "text": [
      "gauge error\n",
      "00735208\n",
      "223/360\n"
     ]
    },
    {
     "name": "stderr",
     "output_type": "stream",
     "text": [
      "100%|████████████████████████████████████████████████████████████████████████████████████████████████████████████████████████| 1/1 [00:00<00:00,  5.05it/s]\n"
     ]
    },
    {
     "name": "stdout",
     "output_type": "stream",
     "text": [
      "gauge error\n",
      "00735209\n",
      "224/360\n"
     ]
    },
    {
     "name": "stderr",
     "output_type": "stream",
     "text": [
      "100%|████████████████████████████████████████████████████████████████████████████████████████████████████████████████████████| 1/1 [00:01<00:00,  1.10s/it]\n"
     ]
    },
    {
     "name": "stdout",
     "output_type": "stream",
     "text": [
      "gauge error\n",
      "00735210\n",
      "225/360\n"
     ]
    },
    {
     "name": "stderr",
     "output_type": "stream",
     "text": [
      "100%|████████████████████████████████████████████████████████████████████████████████████████████████████████████████████████| 1/1 [00:02<00:00,  2.05s/it]\n"
     ]
    },
    {
     "name": "stdout",
     "output_type": "stream",
     "text": [
      "gauge error\n",
      "00735211\n",
      "226/360\n"
     ]
    },
    {
     "name": "stderr",
     "output_type": "stream",
     "text": [
      "100%|████████████████████████████████████████████████████████████████████████████████████████████████████████████████████████| 1/1 [00:00<00:00,  4.39it/s]\n"
     ]
    },
    {
     "name": "stdout",
     "output_type": "stream",
     "text": [
      "gauge error\n",
      "00735212\n",
      "227/360\n"
     ]
    },
    {
     "name": "stderr",
     "output_type": "stream",
     "text": [
      "100%|████████████████████████████████████████████████████████████████████████████████████████████████████████████████████████| 1/1 [00:00<00:00,  2.83it/s]\n"
     ]
    },
    {
     "name": "stdout",
     "output_type": "stream",
     "text": [
      "gauge error\n",
      "00735213\n",
      "228/360\n"
     ]
    },
    {
     "name": "stderr",
     "output_type": "stream",
     "text": [
      "100%|████████████████████████████████████████████████████████████████████████████████████████████████████████████████████████| 1/1 [00:00<00:00,  4.59it/s]\n"
     ]
    },
    {
     "name": "stdout",
     "output_type": "stream",
     "text": [
      "gauge error\n",
      "00735214\n",
      "229/360\n"
     ]
    },
    {
     "name": "stderr",
     "output_type": "stream",
     "text": [
      "100%|████████████████████████████████████████████████████████████████████████████████████████████████████████████████████████| 1/1 [00:00<00:00,  2.70it/s]\n"
     ]
    },
    {
     "name": "stdout",
     "output_type": "stream",
     "text": [
      "gauge error\n",
      "00735215\n",
      "230/360\n"
     ]
    },
    {
     "name": "stderr",
     "output_type": "stream",
     "text": [
      "100%|████████████████████████████████████████████████████████████████████████████████████████████████████████████████████████| 1/1 [00:01<00:00,  1.52s/it]\n"
     ]
    },
    {
     "name": "stdout",
     "output_type": "stream",
     "text": [
      "gauge error\n",
      "00735216\n",
      "231/360\n"
     ]
    },
    {
     "name": "stderr",
     "output_type": "stream",
     "text": [
      "100%|████████████████████████████████████████████████████████████████████████████████████████████████████████████████████████| 1/1 [00:04<00:00,  4.96s/it]\n"
     ]
    },
    {
     "name": "stdout",
     "output_type": "stream",
     "text": [
      "00736000\n",
      "232/360\n"
     ]
    },
    {
     "name": "stderr",
     "output_type": "stream",
     "text": [
      "100%|████████████████████████████████████████████████████████████████████████████████████████████████████████████████████████| 1/1 [00:05<00:00,  5.54s/it]\n"
     ]
    },
    {
     "name": "stdout",
     "output_type": "stream",
     "text": [
      "00736002\n",
      "233/360\n"
     ]
    },
    {
     "name": "stderr",
     "output_type": "stream",
     "text": [
      "100%|████████████████████████████████████████████████████████████████████████████████████████████████████████████████████████| 1/1 [00:03<00:00,  3.40s/it]\n"
     ]
    },
    {
     "name": "stdout",
     "output_type": "stream",
     "text": [
      "00736003\n",
      "234/360\n"
     ]
    },
    {
     "name": "stderr",
     "output_type": "stream",
     "text": [
      "100%|████████████████████████████████████████████████████████████████████████████████████████████████████████████████████████| 1/1 [00:01<00:00,  1.02s/it]\n"
     ]
    },
    {
     "name": "stdout",
     "output_type": "stream",
     "text": [
      "00736004\n",
      "235/360\n"
     ]
    },
    {
     "name": "stderr",
     "output_type": "stream",
     "text": [
      "100%|████████████████████████████████████████████████████████████████████████████████████████████████████████████████████████| 1/1 [00:02<00:00,  2.11s/it]\n"
     ]
    },
    {
     "name": "stdout",
     "output_type": "stream",
     "text": [
      "00736005\n",
      "236/360\n"
     ]
    },
    {
     "name": "stderr",
     "output_type": "stream",
     "text": [
      "100%|████████████████████████████████████████████████████████████████████████████████████████████████████████████████████████| 1/1 [00:02<00:00,  2.77s/it]\n"
     ]
    },
    {
     "name": "stdout",
     "output_type": "stream",
     "text": [
      "00736006\n",
      "237/360\n"
     ]
    },
    {
     "name": "stderr",
     "output_type": "stream",
     "text": [
      "100%|████████████████████████████████████████████████████████████████████████████████████████████████████████████████████████| 1/1 [00:04<00:00,  4.72s/it]\n"
     ]
    },
    {
     "name": "stdout",
     "output_type": "stream",
     "text": [
      "00736008\n",
      "238/360\n"
     ]
    },
    {
     "name": "stderr",
     "output_type": "stream",
     "text": [
      "100%|████████████████████████████████████████████████████████████████████████████████████████████████████████████████████████| 1/1 [00:02<00:00,  2.24s/it]\n"
     ]
    },
    {
     "name": "stdout",
     "output_type": "stream",
     "text": [
      "00736009\n",
      "239/360\n"
     ]
    },
    {
     "name": "stderr",
     "output_type": "stream",
     "text": [
      "100%|████████████████████████████████████████████████████████████████████████████████████████████████████████████████████████| 1/1 [00:03<00:00,  3.77s/it]\n"
     ]
    },
    {
     "name": "stdout",
     "output_type": "stream",
     "text": [
      "00736010\n",
      "240/360\n"
     ]
    },
    {
     "name": "stderr",
     "output_type": "stream",
     "text": [
      "100%|████████████████████████████████████████████████████████████████████████████████████████████████████████████████████████| 1/1 [00:02<00:00,  2.30s/it]\n"
     ]
    },
    {
     "name": "stdout",
     "output_type": "stream",
     "text": [
      "00736011\n",
      "241/360\n"
     ]
    },
    {
     "name": "stderr",
     "output_type": "stream",
     "text": [
      "100%|████████████████████████████████████████████████████████████████████████████████████████████████████████████████████████| 1/1 [00:04<00:00,  4.52s/it]\n"
     ]
    },
    {
     "name": "stdout",
     "output_type": "stream",
     "text": [
      "00736012\n",
      "242/360\n"
     ]
    },
    {
     "name": "stderr",
     "output_type": "stream",
     "text": [
      "100%|████████████████████████████████████████████████████████████████████████████████████████████████████████████████████████| 1/1 [00:04<00:00,  4.15s/it]\n"
     ]
    },
    {
     "name": "stdout",
     "output_type": "stream",
     "text": [
      "00736013\n",
      "243/360\n"
     ]
    },
    {
     "name": "stderr",
     "output_type": "stream",
     "text": [
      "100%|████████████████████████████████████████████████████████████████████████████████████████████████████████████████████████| 1/1 [00:04<00:00,  4.54s/it]\n"
     ]
    },
    {
     "name": "stdout",
     "output_type": "stream",
     "text": [
      "00736014\n",
      "244/360\n"
     ]
    },
    {
     "name": "stderr",
     "output_type": "stream",
     "text": [
      "100%|████████████████████████████████████████████████████████████████████████████████████████████████████████████████████████| 1/1 [00:02<00:00,  2.33s/it]\n"
     ]
    },
    {
     "name": "stdout",
     "output_type": "stream",
     "text": [
      "00736015\n",
      "245/360\n"
     ]
    },
    {
     "name": "stderr",
     "output_type": "stream",
     "text": [
      "100%|████████████████████████████████████████████████████████████████████████████████████████████████████████████████████████| 1/1 [00:02<00:00,  2.79s/it]\n"
     ]
    },
    {
     "name": "stdout",
     "output_type": "stream",
     "text": [
      "00736016\n",
      "246/360\n"
     ]
    },
    {
     "name": "stderr",
     "output_type": "stream",
     "text": [
      "100%|████████████████████████████████████████████████████████████████████████████████████████████████████████████████████████| 1/1 [00:04<00:00,  4.14s/it]\n"
     ]
    },
    {
     "name": "stdout",
     "output_type": "stream",
     "text": [
      "00736017\n",
      "247/360\n"
     ]
    },
    {
     "name": "stderr",
     "output_type": "stream",
     "text": [
      "100%|████████████████████████████████████████████████████████████████████████████████████████████████████████████████████████| 1/1 [00:02<00:00,  2.09s/it]\n"
     ]
    },
    {
     "name": "stdout",
     "output_type": "stream",
     "text": [
      "00736018\n",
      "248/360\n"
     ]
    },
    {
     "name": "stderr",
     "output_type": "stream",
     "text": [
      "100%|████████████████████████████████████████████████████████████████████████████████████████████████████████████████████████| 1/1 [00:01<00:00,  1.63s/it]\n"
     ]
    },
    {
     "name": "stdout",
     "output_type": "stream",
     "text": [
      "00736019\n",
      "249/360\n"
     ]
    },
    {
     "name": "stderr",
     "output_type": "stream",
     "text": [
      "100%|████████████████████████████████████████████████████████████████████████████████████████████████████████████████████████| 1/1 [00:05<00:00,  5.54s/it]\n"
     ]
    },
    {
     "name": "stdout",
     "output_type": "stream",
     "text": [
      "00736020\n",
      "250/360\n"
     ]
    },
    {
     "name": "stderr",
     "output_type": "stream",
     "text": [
      "100%|████████████████████████████████████████████████████████████████████████████████████████████████████████████████████████| 1/1 [00:04<00:00,  4.26s/it]\n"
     ]
    },
    {
     "name": "stdout",
     "output_type": "stream",
     "text": [
      "00736021\n",
      "251/360\n"
     ]
    },
    {
     "name": "stderr",
     "output_type": "stream",
     "text": [
      "100%|████████████████████████████████████████████████████████████████████████████████████████████████████████████████████████| 1/1 [00:06<00:00,  6.98s/it]\n"
     ]
    },
    {
     "name": "stdout",
     "output_type": "stream",
     "text": [
      "00736022\n",
      "252/360\n"
     ]
    },
    {
     "name": "stderr",
     "output_type": "stream",
     "text": [
      "100%|████████████████████████████████████████████████████████████████████████████████████████████████████████████████████████| 1/1 [00:03<00:00,  3.75s/it]\n"
     ]
    },
    {
     "name": "stdout",
     "output_type": "stream",
     "text": [
      "00736023\n",
      "253/360\n"
     ]
    },
    {
     "name": "stderr",
     "output_type": "stream",
     "text": [
      "100%|████████████████████████████████████████████████████████████████████████████████████████████████████████████████████████| 1/1 [00:04<00:00,  4.14s/it]\n"
     ]
    },
    {
     "name": "stdout",
     "output_type": "stream",
     "text": [
      "00736024\n",
      "254/360\n"
     ]
    },
    {
     "name": "stderr",
     "output_type": "stream",
     "text": [
      "100%|████████████████████████████████████████████████████████████████████████████████████████████████████████████████████████| 1/1 [00:04<00:00,  4.95s/it]\n"
     ]
    },
    {
     "name": "stdout",
     "output_type": "stream",
     "text": [
      "00736025\n",
      "255/360\n"
     ]
    },
    {
     "name": "stderr",
     "output_type": "stream",
     "text": [
      "100%|████████████████████████████████████████████████████████████████████████████████████████████████████████████████████████| 1/1 [00:03<00:00,  3.08s/it]\n"
     ]
    },
    {
     "name": "stdout",
     "output_type": "stream",
     "text": [
      "00736026\n",
      "256/360\n"
     ]
    },
    {
     "name": "stderr",
     "output_type": "stream",
     "text": [
      "100%|████████████████████████████████████████████████████████████████████████████████████████████████████████████████████████| 1/1 [00:05<00:00,  5.97s/it]\n"
     ]
    },
    {
     "name": "stdout",
     "output_type": "stream",
     "text": [
      "00736043\n",
      "257/360\n"
     ]
    },
    {
     "name": "stderr",
     "output_type": "stream",
     "text": [
      "100%|████████████████████████████████████████████████████████████████████████████████████████████████████████████████████████| 1/1 [00:03<00:00,  3.79s/it]\n"
     ]
    },
    {
     "name": "stdout",
     "output_type": "stream",
     "text": [
      "00736044\n",
      "258/360\n"
     ]
    },
    {
     "name": "stderr",
     "output_type": "stream",
     "text": [
      "100%|████████████████████████████████████████████████████████████████████████████████████████████████████████████████████████| 1/1 [00:01<00:00,  1.70s/it]\n"
     ]
    },
    {
     "name": "stdout",
     "output_type": "stream",
     "text": [
      "00736050\n",
      "259/360\n"
     ]
    },
    {
     "name": "stderr",
     "output_type": "stream",
     "text": [
      "100%|████████████████████████████████████████████████████████████████████████████████████████████████████████████████████████| 1/1 [00:01<00:00,  1.02s/it]\n"
     ]
    },
    {
     "name": "stdout",
     "output_type": "stream",
     "text": [
      "00736051\n",
      "260/360\n"
     ]
    },
    {
     "name": "stderr",
     "output_type": "stream",
     "text": [
      "100%|████████████████████████████████████████████████████████████████████████████████████████████████████████████████████████| 1/1 [00:02<00:00,  2.43s/it]\n"
     ]
    },
    {
     "name": "stdout",
     "output_type": "stream",
     "text": [
      "00736052\n",
      "261/360\n"
     ]
    },
    {
     "name": "stderr",
     "output_type": "stream",
     "text": [
      "100%|████████████████████████████████████████████████████████████████████████████████████████████████████████████████████████| 1/1 [00:02<00:00,  2.08s/it]\n"
     ]
    },
    {
     "name": "stdout",
     "output_type": "stream",
     "text": [
      "00736053\n",
      "262/360\n"
     ]
    },
    {
     "name": "stderr",
     "output_type": "stream",
     "text": [
      "100%|████████████████████████████████████████████████████████████████████████████████████████████████████████████████████████| 1/1 [00:02<00:00,  2.53s/it]\n"
     ]
    },
    {
     "name": "stdout",
     "output_type": "stream",
     "text": [
      "00736054\n",
      "263/360\n"
     ]
    },
    {
     "name": "stderr",
     "output_type": "stream",
     "text": [
      "100%|████████████████████████████████████████████████████████████████████████████████████████████████████████████████████████| 1/1 [00:02<00:00,  2.55s/it]\n"
     ]
    },
    {
     "name": "stdout",
     "output_type": "stream",
     "text": [
      "00736055\n",
      "264/360\n"
     ]
    },
    {
     "name": "stderr",
     "output_type": "stream",
     "text": [
      "100%|████████████████████████████████████████████████████████████████████████████████████████████████████████████████████████| 1/1 [00:01<00:00,  1.72s/it]\n"
     ]
    },
    {
     "name": "stdout",
     "output_type": "stream",
     "text": [
      "00736057\n",
      "265/360\n"
     ]
    },
    {
     "name": "stderr",
     "output_type": "stream",
     "text": [
      "100%|████████████████████████████████████████████████████████████████████████████████████████████████████████████████████████| 1/1 [00:02<00:00,  2.30s/it]\n"
     ]
    },
    {
     "name": "stdout",
     "output_type": "stream",
     "text": [
      "00736059\n",
      "266/360\n"
     ]
    },
    {
     "name": "stderr",
     "output_type": "stream",
     "text": [
      "100%|████████████████████████████████████████████████████████████████████████████████████████████████████████████████████████| 1/1 [00:02<00:00,  2.24s/it]\n"
     ]
    },
    {
     "name": "stdout",
     "output_type": "stream",
     "text": [
      "00736060\n",
      "267/360\n"
     ]
    },
    {
     "name": "stderr",
     "output_type": "stream",
     "text": [
      "100%|████████████████████████████████████████████████████████████████████████████████████████████████████████████████████████| 1/1 [00:02<00:00,  2.49s/it]\n"
     ]
    },
    {
     "name": "stdout",
     "output_type": "stream",
     "text": [
      "00736061\n",
      "268/360\n"
     ]
    },
    {
     "name": "stderr",
     "output_type": "stream",
     "text": [
      "100%|████████████████████████████████████████████████████████████████████████████████████████████████████████████████████████| 1/1 [00:02<00:00,  2.75s/it]\n"
     ]
    },
    {
     "name": "stdout",
     "output_type": "stream",
     "text": [
      "00736066\n",
      "269/360\n"
     ]
    },
    {
     "name": "stderr",
     "output_type": "stream",
     "text": [
      "100%|████████████████████████████████████████████████████████████████████████████████████████████████████████████████████████| 1/1 [00:02<00:00,  2.73s/it]\n"
     ]
    },
    {
     "name": "stdout",
     "output_type": "stream",
     "text": [
      "00736067\n",
      "270/360\n"
     ]
    },
    {
     "name": "stderr",
     "output_type": "stream",
     "text": [
      "100%|████████████████████████████████████████████████████████████████████████████████████████████████████████████████████████| 1/1 [00:02<00:00,  2.69s/it]\n"
     ]
    },
    {
     "name": "stdout",
     "output_type": "stream",
     "text": [
      "00736068\n",
      "271/360\n"
     ]
    },
    {
     "name": "stderr",
     "output_type": "stream",
     "text": [
      "100%|████████████████████████████████████████████████████████████████████████████████████████████████████████████████████████| 1/1 [00:02<00:00,  2.45s/it]\n"
     ]
    },
    {
     "name": "stdout",
     "output_type": "stream",
     "text": [
      "00736069\n",
      "272/360\n"
     ]
    },
    {
     "name": "stderr",
     "output_type": "stream",
     "text": [
      "100%|████████████████████████████████████████████████████████████████████████████████████████████████████████████████████████| 1/1 [00:02<00:00,  2.39s/it]\n"
     ]
    },
    {
     "name": "stdout",
     "output_type": "stream",
     "text": [
      "00736070\n",
      "273/360\n"
     ]
    },
    {
     "name": "stderr",
     "output_type": "stream",
     "text": [
      "100%|████████████████████████████████████████████████████████████████████████████████████████████████████████████████████████| 1/1 [00:03<00:00,  3.19s/it]\n"
     ]
    },
    {
     "name": "stdout",
     "output_type": "stream",
     "text": [
      "00736071\n",
      "274/360\n"
     ]
    },
    {
     "name": "stderr",
     "output_type": "stream",
     "text": [
      "100%|████████████████████████████████████████████████████████████████████████████████████████████████████████████████████████| 1/1 [00:02<00:00,  2.73s/it]\n"
     ]
    },
    {
     "name": "stdout",
     "output_type": "stream",
     "text": [
      "00736072\n",
      "275/360\n"
     ]
    },
    {
     "name": "stderr",
     "output_type": "stream",
     "text": [
      "100%|████████████████████████████████████████████████████████████████████████████████████████████████████████████████████████| 1/1 [00:02<00:00,  2.47s/it]\n"
     ]
    },
    {
     "name": "stdout",
     "output_type": "stream",
     "text": [
      "00736073\n",
      "276/360\n"
     ]
    },
    {
     "name": "stderr",
     "output_type": "stream",
     "text": [
      "100%|████████████████████████████████████████████████████████████████████████████████████████████████████████████████████████| 1/1 [00:02<00:00,  2.54s/it]\n"
     ]
    },
    {
     "name": "stdout",
     "output_type": "stream",
     "text": [
      "00736074\n",
      "277/360\n"
     ]
    },
    {
     "name": "stderr",
     "output_type": "stream",
     "text": [
      "100%|████████████████████████████████████████████████████████████████████████████████████████████████████████████████████████| 1/1 [00:02<00:00,  2.51s/it]\n"
     ]
    },
    {
     "name": "stdout",
     "output_type": "stream",
     "text": [
      "00736075\n",
      "278/360\n"
     ]
    },
    {
     "name": "stderr",
     "output_type": "stream",
     "text": [
      "100%|████████████████████████████████████████████████████████████████████████████████████████████████████████████████████████| 1/1 [00:02<00:00,  2.15s/it]\n"
     ]
    },
    {
     "name": "stdout",
     "output_type": "stream",
     "text": [
      "00736076\n",
      "279/360\n"
     ]
    },
    {
     "name": "stderr",
     "output_type": "stream",
     "text": [
      "100%|████████████████████████████████████████████████████████████████████████████████████████████████████████████████████████| 1/1 [00:02<00:00,  2.85s/it]\n"
     ]
    },
    {
     "name": "stdout",
     "output_type": "stream",
     "text": [
      "00736077\n",
      "280/360\n"
     ]
    },
    {
     "name": "stderr",
     "output_type": "stream",
     "text": [
      "100%|████████████████████████████████████████████████████████████████████████████████████████████████████████████████████████| 1/1 [00:02<00:00,  2.65s/it]\n"
     ]
    },
    {
     "name": "stdout",
     "output_type": "stream",
     "text": [
      "00736078\n",
      "281/360\n"
     ]
    },
    {
     "name": "stderr",
     "output_type": "stream",
     "text": [
      "100%|████████████████████████████████████████████████████████████████████████████████████████████████████████████████████████| 1/1 [00:06<00:00,  6.12s/it]\n"
     ]
    },
    {
     "name": "stdout",
     "output_type": "stream",
     "text": [
      "00737002\n",
      "282/360\n"
     ]
    },
    {
     "name": "stderr",
     "output_type": "stream",
     "text": [
      "100%|████████████████████████████████████████████████████████████████████████████████████████████████████████████████████████| 1/1 [00:02<00:00,  2.39s/it]\n"
     ]
    },
    {
     "name": "stdout",
     "output_type": "stream",
     "text": [
      "00737003\n",
      "283/360\n"
     ]
    },
    {
     "name": "stderr",
     "output_type": "stream",
     "text": [
      "100%|████████████████████████████████████████████████████████████████████████████████████████████████████████████████████████| 1/1 [00:04<00:00,  4.26s/it]\n"
     ]
    },
    {
     "name": "stdout",
     "output_type": "stream",
     "text": [
      "00737004\n",
      "284/360\n"
     ]
    },
    {
     "name": "stderr",
     "output_type": "stream",
     "text": [
      "100%|████████████████████████████████████████████████████████████████████████████████████████████████████████████████████████| 1/1 [00:03<00:00,  3.11s/it]\n"
     ]
    },
    {
     "name": "stdout",
     "output_type": "stream",
     "text": [
      "00737005\n",
      "285/360\n"
     ]
    },
    {
     "name": "stderr",
     "output_type": "stream",
     "text": [
      "100%|████████████████████████████████████████████████████████████████████████████████████████████████████████████████████████| 1/1 [00:13<00:00, 13.07s/it]\n"
     ]
    },
    {
     "name": "stdout",
     "output_type": "stream",
     "text": [
      "00737006\n",
      "286/360\n"
     ]
    },
    {
     "name": "stderr",
     "output_type": "stream",
     "text": [
      "100%|████████████████████████████████████████████████████████████████████████████████████████████████████████████████████████| 1/1 [00:01<00:00,  1.04s/it]\n"
     ]
    },
    {
     "name": "stdout",
     "output_type": "stream",
     "text": [
      "00737007\n",
      "287/360\n"
     ]
    },
    {
     "name": "stderr",
     "output_type": "stream",
     "text": [
      "100%|████████████████████████████████████████████████████████████████████████████████████████████████████████████████████████| 1/1 [00:04<00:00,  4.14s/it]\n"
     ]
    },
    {
     "name": "stdout",
     "output_type": "stream",
     "text": [
      "00737009\n",
      "288/360\n"
     ]
    },
    {
     "name": "stderr",
     "output_type": "stream",
     "text": [
      "100%|████████████████████████████████████████████████████████████████████████████████████████████████████████████████████████| 1/1 [00:02<00:00,  2.41s/it]\n"
     ]
    },
    {
     "name": "stdout",
     "output_type": "stream",
     "text": [
      "00737010\n",
      "289/360\n"
     ]
    },
    {
     "name": "stderr",
     "output_type": "stream",
     "text": [
      "100%|████████████████████████████████████████████████████████████████████████████████████████████████████████████████████████| 1/1 [00:03<00:00,  3.39s/it]\n"
     ]
    },
    {
     "name": "stdout",
     "output_type": "stream",
     "text": [
      "00737011\n",
      "290/360\n"
     ]
    },
    {
     "name": "stderr",
     "output_type": "stream",
     "text": [
      "100%|████████████████████████████████████████████████████████████████████████████████████████████████████████████████████████| 1/1 [00:01<00:00,  1.37s/it]\n"
     ]
    },
    {
     "name": "stdout",
     "output_type": "stream",
     "text": [
      "00737012\n",
      "291/360\n"
     ]
    },
    {
     "name": "stderr",
     "output_type": "stream",
     "text": [
      "100%|████████████████████████████████████████████████████████████████████████████████████████████████████████████████████████| 1/1 [00:01<00:00,  1.35s/it]\n"
     ]
    },
    {
     "name": "stdout",
     "output_type": "stream",
     "text": [
      "00737013\n",
      "292/360\n"
     ]
    },
    {
     "name": "stderr",
     "output_type": "stream",
     "text": [
      "100%|████████████████████████████████████████████████████████████████████████████████████████████████████████████████████████| 1/1 [00:04<00:00,  4.20s/it]\n"
     ]
    },
    {
     "name": "stdout",
     "output_type": "stream",
     "text": [
      "00737014\n",
      "293/360\n"
     ]
    },
    {
     "name": "stderr",
     "output_type": "stream",
     "text": [
      "100%|████████████████████████████████████████████████████████████████████████████████████████████████████████████████████████| 1/1 [00:03<00:00,  3.28s/it]\n"
     ]
    },
    {
     "name": "stdout",
     "output_type": "stream",
     "text": [
      "00737015\n",
      "294/360\n"
     ]
    },
    {
     "name": "stderr",
     "output_type": "stream",
     "text": [
      "100%|████████████████████████████████████████████████████████████████████████████████████████████████████████████████████████| 1/1 [00:03<00:00,  3.46s/it]\n"
     ]
    },
    {
     "name": "stdout",
     "output_type": "stream",
     "text": [
      "00737016\n",
      "295/360\n"
     ]
    },
    {
     "name": "stderr",
     "output_type": "stream",
     "text": [
      "100%|████████████████████████████████████████████████████████████████████████████████████████████████████████████████████████| 1/1 [00:04<00:00,  4.86s/it]\n"
     ]
    },
    {
     "name": "stdout",
     "output_type": "stream",
     "text": [
      "00737017\n",
      "296/360\n"
     ]
    },
    {
     "name": "stderr",
     "output_type": "stream",
     "text": [
      "100%|████████████████████████████████████████████████████████████████████████████████████████████████████████████████████████| 1/1 [00:04<00:00,  4.12s/it]\n"
     ]
    },
    {
     "name": "stdout",
     "output_type": "stream",
     "text": [
      "00737018\n",
      "297/360\n"
     ]
    },
    {
     "name": "stderr",
     "output_type": "stream",
     "text": [
      "100%|████████████████████████████████████████████████████████████████████████████████████████████████████████████████████████| 1/1 [00:03<00:00,  3.16s/it]\n"
     ]
    },
    {
     "name": "stdout",
     "output_type": "stream",
     "text": [
      "00737019\n",
      "298/360\n"
     ]
    },
    {
     "name": "stderr",
     "output_type": "stream",
     "text": [
      "100%|████████████████████████████████████████████████████████████████████████████████████████████████████████████████████████| 1/1 [00:01<00:00,  1.22s/it]\n"
     ]
    },
    {
     "name": "stdout",
     "output_type": "stream",
     "text": [
      "00737020\n",
      "299/360\n"
     ]
    },
    {
     "name": "stderr",
     "output_type": "stream",
     "text": [
      "100%|████████████████████████████████████████████████████████████████████████████████████████████████████████████████████████| 1/1 [00:03<00:00,  3.60s/it]\n"
     ]
    },
    {
     "name": "stdout",
     "output_type": "stream",
     "text": [
      "00737021\n",
      "300/360\n"
     ]
    },
    {
     "name": "stderr",
     "output_type": "stream",
     "text": [
      "100%|████████████████████████████████████████████████████████████████████████████████████████████████████████████████████████| 1/1 [00:04<00:00,  4.84s/it]\n"
     ]
    },
    {
     "name": "stdout",
     "output_type": "stream",
     "text": [
      "00737022\n",
      "301/360\n"
     ]
    },
    {
     "name": "stderr",
     "output_type": "stream",
     "text": [
      "100%|████████████████████████████████████████████████████████████████████████████████████████████████████████████████████████| 1/1 [00:01<00:00,  1.09s/it]\n"
     ]
    },
    {
     "name": "stdout",
     "output_type": "stream",
     "text": [
      "00737039\n",
      "302/360\n"
     ]
    },
    {
     "name": "stderr",
     "output_type": "stream",
     "text": [
      "100%|████████████████████████████████████████████████████████████████████████████████████████████████████████████████████████| 1/1 [00:01<00:00,  1.80s/it]\n"
     ]
    },
    {
     "name": "stdout",
     "output_type": "stream",
     "text": [
      "00737052\n",
      "303/360\n"
     ]
    },
    {
     "name": "stderr",
     "output_type": "stream",
     "text": [
      "100%|████████████████████████████████████████████████████████████████████████████████████████████████████████████████████████| 1/1 [00:01<00:00,  1.95s/it]\n"
     ]
    },
    {
     "name": "stdout",
     "output_type": "stream",
     "text": [
      "00737053\n",
      "304/360\n"
     ]
    },
    {
     "name": "stderr",
     "output_type": "stream",
     "text": [
      "100%|████████████████████████████████████████████████████████████████████████████████████████████████████████████████████████| 1/1 [00:01<00:00,  2.00s/it]\n"
     ]
    },
    {
     "name": "stdout",
     "output_type": "stream",
     "text": [
      "00737055\n",
      "305/360\n"
     ]
    },
    {
     "name": "stderr",
     "output_type": "stream",
     "text": [
      "100%|████████████████████████████████████████████████████████████████████████████████████████████████████████████████████████| 1/1 [00:01<00:00,  1.53s/it]\n"
     ]
    },
    {
     "name": "stdout",
     "output_type": "stream",
     "text": [
      "00737056\n",
      "306/360\n"
     ]
    },
    {
     "name": "stderr",
     "output_type": "stream",
     "text": [
      "100%|████████████████████████████████████████████████████████████████████████████████████████████████████████████████████████| 1/1 [00:01<00:00,  1.17s/it]\n"
     ]
    },
    {
     "name": "stdout",
     "output_type": "stream",
     "text": [
      "00737057\n",
      "307/360\n"
     ]
    },
    {
     "name": "stderr",
     "output_type": "stream",
     "text": [
      "100%|████████████████████████████████████████████████████████████████████████████████████████████████████████████████████████| 1/1 [00:01<00:00,  1.01s/it]\n"
     ]
    },
    {
     "name": "stdout",
     "output_type": "stream",
     "text": [
      "00737058\n",
      "308/360\n"
     ]
    },
    {
     "name": "stderr",
     "output_type": "stream",
     "text": [
      "100%|████████████████████████████████████████████████████████████████████████████████████████████████████████████████████████| 1/1 [00:01<00:00,  1.62s/it]\n"
     ]
    },
    {
     "name": "stdout",
     "output_type": "stream",
     "text": [
      "00737059\n",
      "309/360\n"
     ]
    },
    {
     "name": "stderr",
     "output_type": "stream",
     "text": [
      "100%|████████████████████████████████████████████████████████████████████████████████████████████████████████████████████████| 1/1 [00:01<00:00,  1.84s/it]\n"
     ]
    },
    {
     "name": "stdout",
     "output_type": "stream",
     "text": [
      "00737060\n",
      "310/360\n"
     ]
    },
    {
     "name": "stderr",
     "output_type": "stream",
     "text": [
      "100%|████████████████████████████████████████████████████████████████████████████████████████████████████████████████████████| 1/1 [00:02<00:00,  2.21s/it]\n"
     ]
    },
    {
     "name": "stdout",
     "output_type": "stream",
     "text": [
      "00737061\n",
      "311/360\n"
     ]
    },
    {
     "name": "stderr",
     "output_type": "stream",
     "text": [
      "100%|████████████████████████████████████████████████████████████████████████████████████████████████████████████████████████| 1/1 [00:01<00:00,  1.91s/it]\n"
     ]
    },
    {
     "name": "stdout",
     "output_type": "stream",
     "text": [
      "00737062\n",
      "312/360\n"
     ]
    },
    {
     "name": "stderr",
     "output_type": "stream",
     "text": [
      "100%|████████████████████████████████████████████████████████████████████████████████████████████████████████████████████████| 1/1 [00:02<00:00,  2.43s/it]\n"
     ]
    },
    {
     "name": "stdout",
     "output_type": "stream",
     "text": [
      "00737063\n",
      "313/360\n"
     ]
    },
    {
     "name": "stderr",
     "output_type": "stream",
     "text": [
      "100%|████████████████████████████████████████████████████████████████████████████████████████████████████████████████████████| 1/1 [00:02<00:00,  2.45s/it]\n"
     ]
    },
    {
     "name": "stdout",
     "output_type": "stream",
     "text": [
      "00737065\n",
      "314/360\n"
     ]
    },
    {
     "name": "stderr",
     "output_type": "stream",
     "text": [
      "100%|████████████████████████████████████████████████████████████████████████████████████████████████████████████████████████| 1/1 [00:02<00:00,  2.34s/it]\n"
     ]
    },
    {
     "name": "stdout",
     "output_type": "stream",
     "text": [
      "00737066\n",
      "315/360\n"
     ]
    },
    {
     "name": "stderr",
     "output_type": "stream",
     "text": [
      "100%|████████████████████████████████████████████████████████████████████████████████████████████████████████████████████████| 1/1 [00:02<00:00,  2.69s/it]\n"
     ]
    },
    {
     "name": "stdout",
     "output_type": "stream",
     "text": [
      "00737067\n",
      "316/360\n"
     ]
    },
    {
     "name": "stderr",
     "output_type": "stream",
     "text": [
      "100%|████████████████████████████████████████████████████████████████████████████████████████████████████████████████████████| 1/1 [00:02<00:00,  2.54s/it]\n"
     ]
    },
    {
     "name": "stdout",
     "output_type": "stream",
     "text": [
      "00737068\n",
      "317/360\n"
     ]
    },
    {
     "name": "stderr",
     "output_type": "stream",
     "text": [
      "100%|████████████████████████████████████████████████████████████████████████████████████████████████████████████████████████| 1/1 [00:02<00:00,  2.64s/it]\n"
     ]
    },
    {
     "name": "stdout",
     "output_type": "stream",
     "text": [
      "00737069\n",
      "318/360\n"
     ]
    },
    {
     "name": "stderr",
     "output_type": "stream",
     "text": [
      "100%|████████████████████████████████████████████████████████████████████████████████████████████████████████████████████████| 1/1 [00:02<00:00,  2.54s/it]\n"
     ]
    },
    {
     "name": "stdout",
     "output_type": "stream",
     "text": [
      "00737070\n",
      "319/360\n"
     ]
    },
    {
     "name": "stderr",
     "output_type": "stream",
     "text": [
      "100%|████████████████████████████████████████████████████████████████████████████████████████████████████████████████████████| 1/1 [00:02<00:00,  2.71s/it]\n"
     ]
    },
    {
     "name": "stdout",
     "output_type": "stream",
     "text": [
      "00737071\n",
      "320/360\n"
     ]
    },
    {
     "name": "stderr",
     "output_type": "stream",
     "text": [
      "100%|████████████████████████████████████████████████████████████████████████████████████████████████████████████████████████| 1/1 [00:02<00:00,  2.65s/it]\n"
     ]
    },
    {
     "name": "stdout",
     "output_type": "stream",
     "text": [
      "00737072\n",
      "321/360\n"
     ]
    },
    {
     "name": "stderr",
     "output_type": "stream",
     "text": [
      "100%|████████████████████████████████████████████████████████████████████████████████████████████████████████████████████████| 1/1 [00:02<00:00,  2.57s/it]\n"
     ]
    },
    {
     "name": "stdout",
     "output_type": "stream",
     "text": [
      "00737073\n",
      "322/360\n"
     ]
    },
    {
     "name": "stderr",
     "output_type": "stream",
     "text": [
      "100%|████████████████████████████████████████████████████████████████████████████████████████████████████████████████████████| 1/1 [00:02<00:00,  2.56s/it]\n"
     ]
    },
    {
     "name": "stdout",
     "output_type": "stream",
     "text": [
      "00737074\n",
      "323/360\n"
     ]
    },
    {
     "name": "stderr",
     "output_type": "stream",
     "text": [
      "100%|████████████████████████████████████████████████████████████████████████████████████████████████████████████████████████| 1/1 [00:02<00:00,  2.47s/it]\n"
     ]
    },
    {
     "name": "stdout",
     "output_type": "stream",
     "text": [
      "00737075\n",
      "324/360\n"
     ]
    },
    {
     "name": "stderr",
     "output_type": "stream",
     "text": [
      "100%|████████████████████████████████████████████████████████████████████████████████████████████████████████████████████████| 1/1 [00:02<00:00,  2.28s/it]\n"
     ]
    },
    {
     "name": "stdout",
     "output_type": "stream",
     "text": [
      "00737076\n",
      "325/360\n"
     ]
    },
    {
     "name": "stderr",
     "output_type": "stream",
     "text": [
      "100%|████████████████████████████████████████████████████████████████████████████████████████████████████████████████████████| 1/1 [00:03<00:00,  3.15s/it]\n"
     ]
    },
    {
     "name": "stdout",
     "output_type": "stream",
     "text": [
      "00738009\n",
      "326/360\n"
     ]
    },
    {
     "name": "stderr",
     "output_type": "stream",
     "text": [
      "100%|████████████████████████████████████████████████████████████████████████████████████████████████████████████████████████| 1/1 [00:04<00:00,  4.21s/it]\n"
     ]
    },
    {
     "name": "stdout",
     "output_type": "stream",
     "text": [
      "00738010\n",
      "327/360\n"
     ]
    },
    {
     "name": "stderr",
     "output_type": "stream",
     "text": [
      "100%|████████████████████████████████████████████████████████████████████████████████████████████████████████████████████████| 1/1 [00:04<00:00,  4.15s/it]\n"
     ]
    },
    {
     "name": "stdout",
     "output_type": "stream",
     "text": [
      "00738011\n",
      "328/360\n"
     ]
    },
    {
     "name": "stderr",
     "output_type": "stream",
     "text": [
      "100%|████████████████████████████████████████████████████████████████████████████████████████████████████████████████████████| 1/1 [00:04<00:00,  4.79s/it]\n"
     ]
    },
    {
     "name": "stdout",
     "output_type": "stream",
     "text": [
      "00738012\n",
      "329/360\n"
     ]
    },
    {
     "name": "stderr",
     "output_type": "stream",
     "text": [
      "100%|████████████████████████████████████████████████████████████████████████████████████████████████████████████████████████| 1/1 [00:05<00:00,  5.73s/it]\n"
     ]
    },
    {
     "name": "stdout",
     "output_type": "stream",
     "text": [
      "00738013\n",
      "330/360\n"
     ]
    },
    {
     "name": "stderr",
     "output_type": "stream",
     "text": [
      "100%|████████████████████████████████████████████████████████████████████████████████████████████████████████████████████████| 1/1 [00:04<00:00,  4.40s/it]\n"
     ]
    },
    {
     "name": "stdout",
     "output_type": "stream",
     "text": [
      "00738014\n",
      "331/360\n"
     ]
    },
    {
     "name": "stderr",
     "output_type": "stream",
     "text": [
      "100%|████████████████████████████████████████████████████████████████████████████████████████████████████████████████████████| 1/1 [00:04<00:00,  4.64s/it]\n"
     ]
    },
    {
     "name": "stdout",
     "output_type": "stream",
     "text": [
      "00738015\n",
      "332/360\n"
     ]
    },
    {
     "name": "stderr",
     "output_type": "stream",
     "text": [
      "100%|████████████████████████████████████████████████████████████████████████████████████████████████████████████████████████| 1/1 [00:05<00:00,  5.39s/it]\n"
     ]
    },
    {
     "name": "stdout",
     "output_type": "stream",
     "text": [
      "00738017\n",
      "333/360\n"
     ]
    },
    {
     "name": "stderr",
     "output_type": "stream",
     "text": [
      "100%|████████████████████████████████████████████████████████████████████████████████████████████████████████████████████████| 1/1 [00:02<00:00,  2.25s/it]\n"
     ]
    },
    {
     "name": "stdout",
     "output_type": "stream",
     "text": [
      "00738018\n",
      "334/360\n"
     ]
    },
    {
     "name": "stderr",
     "output_type": "stream",
     "text": [
      "100%|████████████████████████████████████████████████████████████████████████████████████████████████████████████████████████| 1/1 [00:02<00:00,  2.05s/it]\n"
     ]
    },
    {
     "name": "stdout",
     "output_type": "stream",
     "text": [
      "00738019\n",
      "335/360\n"
     ]
    },
    {
     "name": "stderr",
     "output_type": "stream",
     "text": [
      "100%|████████████████████████████████████████████████████████████████████████████████████████████████████████████████████████| 1/1 [00:07<00:00,  7.49s/it]\n"
     ]
    },
    {
     "name": "stdout",
     "output_type": "stream",
     "text": [
      "00738020\n",
      "336/360\n"
     ]
    },
    {
     "name": "stderr",
     "output_type": "stream",
     "text": [
      "100%|████████████████████████████████████████████████████████████████████████████████████████████████████████████████████████| 1/1 [00:05<00:00,  5.56s/it]\n"
     ]
    },
    {
     "name": "stdout",
     "output_type": "stream",
     "text": [
      "00738022\n",
      "337/360\n"
     ]
    },
    {
     "name": "stderr",
     "output_type": "stream",
     "text": [
      "100%|████████████████████████████████████████████████████████████████████████████████████████████████████████████████████████| 1/1 [00:03<00:00,  3.76s/it]\n"
     ]
    },
    {
     "name": "stdout",
     "output_type": "stream",
     "text": [
      "00738023\n",
      "338/360\n"
     ]
    },
    {
     "name": "stderr",
     "output_type": "stream",
     "text": [
      "100%|████████████████████████████████████████████████████████████████████████████████████████████████████████████████████████| 1/1 [00:04<00:00,  4.60s/it]\n"
     ]
    },
    {
     "name": "stdout",
     "output_type": "stream",
     "text": [
      "00738024\n",
      "339/360\n"
     ]
    },
    {
     "name": "stderr",
     "output_type": "stream",
     "text": [
      "100%|████████████████████████████████████████████████████████████████████████████████████████████████████████████████████████| 1/1 [00:06<00:00,  6.09s/it]\n"
     ]
    },
    {
     "name": "stdout",
     "output_type": "stream",
     "text": [
      "00738025\n",
      "340/360\n"
     ]
    },
    {
     "name": "stderr",
     "output_type": "stream",
     "text": [
      "100%|████████████████████████████████████████████████████████████████████████████████████████████████████████████████████████| 1/1 [00:01<00:00,  1.71s/it]\n"
     ]
    },
    {
     "name": "stdout",
     "output_type": "stream",
     "text": [
      "00738058\n",
      "341/360\n"
     ]
    },
    {
     "name": "stderr",
     "output_type": "stream",
     "text": [
      "100%|████████████████████████████████████████████████████████████████████████████████████████████████████████████████████████| 1/1 [00:00<00:00,  1.51it/s]\n"
     ]
    },
    {
     "name": "stdout",
     "output_type": "stream",
     "text": [
      "00738065\n",
      "342/360\n"
     ]
    },
    {
     "name": "stderr",
     "output_type": "stream",
     "text": [
      "100%|████████████████████████████████████████████████████████████████████████████████████████████████████████████████████████| 1/1 [00:02<00:00,  2.18s/it]\n"
     ]
    },
    {
     "name": "stdout",
     "output_type": "stream",
     "text": [
      "00738068\n",
      "343/360\n"
     ]
    },
    {
     "name": "stderr",
     "output_type": "stream",
     "text": [
      "100%|████████████████████████████████████████████████████████████████████████████████████████████████████████████████████████| 1/1 [00:02<00:00,  2.71s/it]\n"
     ]
    },
    {
     "name": "stdout",
     "output_type": "stream",
     "text": [
      "00738069\n",
      "344/360\n"
     ]
    },
    {
     "name": "stderr",
     "output_type": "stream",
     "text": [
      "100%|████████████████████████████████████████████████████████████████████████████████████████████████████████████████████████| 1/1 [00:02<00:00,  2.33s/it]\n"
     ]
    },
    {
     "name": "stdout",
     "output_type": "stream",
     "text": [
      "00738070\n",
      "345/360\n"
     ]
    },
    {
     "name": "stderr",
     "output_type": "stream",
     "text": [
      "100%|████████████████████████████████████████████████████████████████████████████████████████████████████████████████████████| 1/1 [00:02<00:00,  2.29s/it]\n"
     ]
    },
    {
     "name": "stdout",
     "output_type": "stream",
     "text": [
      "00738071\n",
      "346/360\n"
     ]
    },
    {
     "name": "stderr",
     "output_type": "stream",
     "text": [
      "100%|████████████████████████████████████████████████████████████████████████████████████████████████████████████████████████| 1/1 [00:01<00:00,  1.52s/it]\n"
     ]
    },
    {
     "name": "stdout",
     "output_type": "stream",
     "text": [
      "00738073\n",
      "347/360\n"
     ]
    },
    {
     "name": "stderr",
     "output_type": "stream",
     "text": [
      "100%|████████████████████████████████████████████████████████████████████████████████████████████████████████████████████████| 1/1 [00:02<00:00,  2.24s/it]\n"
     ]
    },
    {
     "name": "stdout",
     "output_type": "stream",
     "text": [
      "00738074\n",
      "348/360\n"
     ]
    },
    {
     "name": "stderr",
     "output_type": "stream",
     "text": [
      "100%|████████████████████████████████████████████████████████████████████████████████████████████████████████████████████████| 1/1 [00:02<00:00,  2.35s/it]\n"
     ]
    },
    {
     "name": "stdout",
     "output_type": "stream",
     "text": [
      "00738075\n",
      "349/360\n"
     ]
    },
    {
     "name": "stderr",
     "output_type": "stream",
     "text": [
      "100%|████████████████████████████████████████████████████████████████████████████████████████████████████████████████████████| 1/1 [00:01<00:00,  1.44s/it]\n"
     ]
    },
    {
     "name": "stdout",
     "output_type": "stream",
     "text": [
      "00738076\n",
      "350/360\n"
     ]
    },
    {
     "name": "stderr",
     "output_type": "stream",
     "text": [
      "100%|████████████████████████████████████████████████████████████████████████████████████████████████████████████████████████| 1/1 [00:02<00:00,  2.45s/it]\n"
     ]
    },
    {
     "name": "stdout",
     "output_type": "stream",
     "text": [
      "00738077\n",
      "351/360\n"
     ]
    },
    {
     "name": "stderr",
     "output_type": "stream",
     "text": [
      "100%|████████████████████████████████████████████████████████████████████████████████████████████████████████████████████████| 1/1 [00:01<00:00,  1.75s/it]\n"
     ]
    },
    {
     "name": "stdout",
     "output_type": "stream",
     "text": [
      "00738078\n",
      "352/360\n"
     ]
    },
    {
     "name": "stderr",
     "output_type": "stream",
     "text": [
      "100%|████████████████████████████████████████████████████████████████████████████████████████████████████████████████████████| 1/1 [00:02<00:00,  2.21s/it]\n"
     ]
    },
    {
     "name": "stdout",
     "output_type": "stream",
     "text": [
      "00738079\n",
      "353/360\n"
     ]
    },
    {
     "name": "stderr",
     "output_type": "stream",
     "text": [
      "100%|████████████████████████████████████████████████████████████████████████████████████████████████████████████████████████| 1/1 [00:01<00:00,  1.57s/it]\n"
     ]
    },
    {
     "name": "stdout",
     "output_type": "stream",
     "text": [
      "00738080\n",
      "354/360\n"
     ]
    },
    {
     "name": "stderr",
     "output_type": "stream",
     "text": [
      "100%|████████████████████████████████████████████████████████████████████████████████████████████████████████████████████████| 1/1 [00:02<00:00,  2.25s/it]\n"
     ]
    },
    {
     "name": "stdout",
     "output_type": "stream",
     "text": [
      "00738088\n",
      "355/360\n"
     ]
    },
    {
     "name": "stderr",
     "output_type": "stream",
     "text": [
      "100%|████████████████████████████████████████████████████████████████████████████████████████████████████████████████████████| 1/1 [00:02<00:00,  2.40s/it]\n"
     ]
    },
    {
     "name": "stdout",
     "output_type": "stream",
     "text": [
      "00738099\n",
      "356/360\n"
     ]
    },
    {
     "name": "stderr",
     "output_type": "stream",
     "text": [
      "100%|████████████████████████████████████████████████████████████████████████████████████████████████████████████████████████| 1/1 [00:05<00:00,  5.68s/it]\n"
     ]
    },
    {
     "name": "stdout",
     "output_type": "stream",
     "text": [
      "00836000\n",
      "357/360\n"
     ]
    },
    {
     "name": "stderr",
     "output_type": "stream",
     "text": [
      "100%|████████████████████████████████████████████████████████████████████████████████████████████████████████████████████████| 1/1 [00:03<00:00,  3.73s/it]\n"
     ]
    },
    {
     "name": "stdout",
     "output_type": "stream",
     "text": [
      "00836001\n",
      "358/360\n"
     ]
    },
    {
     "name": "stderr",
     "output_type": "stream",
     "text": [
      "100%|████████████████████████████████████████████████████████████████████████████████████████████████████████████████████████| 1/1 [00:04<00:00,  4.01s/it]\n"
     ]
    },
    {
     "name": "stdout",
     "output_type": "stream",
     "text": [
      "00837000\n",
      "359/360\n"
     ]
    },
    {
     "name": "stderr",
     "output_type": "stream",
     "text": [
      "100%|████████████████████████████████████████████████████████████████████████████████████████████████████████████████████████| 1/1 [00:01<00:00,  1.52s/it]"
     ]
    },
    {
     "name": "stdout",
     "output_type": "stream",
     "text": [
      "00837001\n",
      "360/360\n",
      "22 download errors\n",
      "stations with download error\n",
      " ['00635134', '00635135', '00637074', '00637075', '00734044', '00734045', '00734046', '00735186', '00735197', '00735198', '00735199', '00735200', '00735207', '00735208', '00735209', '00735210', '00735211', '00735212', '00735213', '00735214', '00735215', '00735216']\n",
      "22\n"
     ]
    },
    {
     "name": "stderr",
     "output_type": "stream",
     "text": [
      "\n"
     ]
    }
   ],
   "source": [
    "gauge_codes_len = str(len(gauge_codes))\n",
    "\n",
    "count = 0\n",
    "error = 0\n",
    "code_list = []\n",
    "\n",
    "for gauge_code in gauge_codes:\n",
    "    try:\n",
    "        rainfall_daily_data = hydrobr.get_data.ANA.prec_data([gauge_code])\n",
    "        # rainfall_daily_data.to_hdf(general_path + '/1 - Organized data/'+ gauge_code + '.h5', 'table_data', append = False, complevel = 9, encoding=\"cp860\")\n",
    "    except:\n",
    "        print('gauge error')\n",
    "        error = error + 1\n",
    "        code_list.append(gauge_code)\n",
    "    print(gauge_code)\n",
    "    count = count + 1\n",
    "    print(str(count)+\"/\"+gauge_codes_len)\n",
    "print(str(error) + \" download errors\")\n",
    "print('stations with download error\\n', code_list)\n",
    "print(len(code_list))"
   ]
  },
  {
   "cell_type": "code",
   "execution_count": 34,
   "id": "b769e804",
   "metadata": {},
   "outputs": [],
   "source": [
    "# if (len(code_list) > 0):\n",
    "#     df_error = pd.DataFrame(code_list)\n",
    "#     df_error.columns = ['Code']\n",
    "#     df_error.to_hdf(general_path + '/Download Error/'+ state + '_download_error.h5', 'table_info', append = False, complevel = 9, encoding=\"cp860\")\n",
    "#     print(df_error)\n",
    "# else:\n",
    "#     print(\"No errors\")"
   ]
  }
 ],
 "metadata": {
  "kernelspec": {
   "display_name": "Python 3 (ipykernel)",
   "language": "python",
   "name": "python3"
  },
  "language_info": {
   "codemirror_mode": {
    "name": "ipython",
    "version": 3
   },
   "file_extension": ".py",
   "mimetype": "text/x-python",
   "name": "python",
   "nbconvert_exporter": "python",
   "pygments_lexer": "ipython3",
   "version": "3.8.8"
  }
 },
 "nbformat": 4,
 "nbformat_minor": 5
}
