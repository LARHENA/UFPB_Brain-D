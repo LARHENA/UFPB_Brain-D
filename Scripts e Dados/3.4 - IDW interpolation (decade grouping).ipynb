{
  "cells": [
    {
      "cell_type": "code",
      "execution_count": 1,
      "id": "H0Wct5s-fGDM",
      "metadata": {
        "colab": {
          "base_uri": "https://localhost:8080/"
        },
        "id": "H0Wct5s-fGDM",
        "outputId": "4863a783-79c9-45d4-d133-c0e9765b59a2"
      },
      "outputs": [
        {
          "name": "stdout",
          "output_type": "stream",
          "text": [
            "Collecting netcdf4\n",
            "  Downloading netCDF4-1.7.2-cp311-cp311-manylinux_2_17_x86_64.manylinux2014_x86_64.whl.metadata (1.8 kB)\n",
            "Collecting h5netcdf\n",
            "  Downloading h5netcdf-1.6.1-py3-none-any.whl.metadata (13 kB)\n",
            "Collecting xarray\n",
            "  Downloading xarray-2025.1.2-py3-none-any.whl.metadata (11 kB)\n",
            "Collecting cftime (from netcdf4)\n",
            "  Downloading cftime-1.6.4.post1-cp311-cp311-manylinux_2_17_x86_64.manylinux2014_x86_64.whl.metadata (8.7 kB)\n",
            "Requirement already satisfied: certifi in /usr/local/lib/python3.11/dist-packages (from netcdf4) (2025.1.31)\n",
            "Requirement already satisfied: numpy in /usr/local/lib/python3.11/dist-packages (from netcdf4) (1.26.4)\n",
            "Requirement already satisfied: h5py in /usr/local/lib/python3.11/dist-packages (from h5netcdf) (3.13.0)\n",
            "Requirement already satisfied: packaging in /usr/local/lib/python3.11/dist-packages (from h5netcdf) (24.2)\n",
            "Requirement already satisfied: pandas>=2.1 in /usr/local/lib/python3.11/dist-packages (from xarray) (2.2.2)\n",
            "Requirement already satisfied: python-dateutil>=2.8.2 in /usr/local/lib/python3.11/dist-packages (from pandas>=2.1->xarray) (2.9.0.post0)\n",
            "Requirement already satisfied: pytz>=2020.1 in /usr/local/lib/python3.11/dist-packages (from pandas>=2.1->xarray) (2025.1)\n",
            "Requirement already satisfied: tzdata>=2022.7 in /usr/local/lib/python3.11/dist-packages (from pandas>=2.1->xarray) (2025.1)\n",
            "Requirement already satisfied: six>=1.5 in /usr/local/lib/python3.11/dist-packages (from python-dateutil>=2.8.2->pandas>=2.1->xarray) (1.17.0)\n",
            "Downloading netCDF4-1.7.2-cp311-cp311-manylinux_2_17_x86_64.manylinux2014_x86_64.whl (9.3 MB)\n",
            "\u001b[2K   \u001b[90m━━━━━━━━━━━━━━━━━━━━━━━━━━━━━━━━━━━━━━━━\u001b[0m \u001b[32m9.3/9.3 MB\u001b[0m \u001b[31m83.0 MB/s\u001b[0m eta \u001b[36m0:00:00\u001b[0m\n",
            "\u001b[?25hDownloading h5netcdf-1.6.1-py3-none-any.whl (49 kB)\n",
            "\u001b[2K   \u001b[90m━━━━━━━━━━━━━━━━━━━━━━━━━━━━━━━━━━━━━━━━\u001b[0m \u001b[32m49.6/49.6 kB\u001b[0m \u001b[31m3.4 MB/s\u001b[0m eta \u001b[36m0:00:00\u001b[0m\n",
            "\u001b[?25hDownloading xarray-2025.1.2-py3-none-any.whl (1.2 MB)\n",
            "\u001b[2K   \u001b[90m━━━━━━━━━━━━━━━━━━━━━━━━━━━━━━━━━━━━━━━━\u001b[0m \u001b[32m1.2/1.2 MB\u001b[0m \u001b[31m63.3 MB/s\u001b[0m eta \u001b[36m0:00:00\u001b[0m\n",
            "\u001b[?25hDownloading cftime-1.6.4.post1-cp311-cp311-manylinux_2_17_x86_64.manylinux2014_x86_64.whl (1.4 MB)\n",
            "\u001b[2K   \u001b[90m━━━━━━━━━━━━━━━━━━━━━━━━━━━━━━━━━━━━━━━━\u001b[0m \u001b[32m1.4/1.4 MB\u001b[0m \u001b[31m60.8 MB/s\u001b[0m eta \u001b[36m0:00:00\u001b[0m\n",
            "\u001b[?25hInstalling collected packages: cftime, netcdf4, h5netcdf, xarray\n",
            "Successfully installed cftime-1.6.4.post1 h5netcdf-1.6.1 netcdf4-1.7.2 xarray-2025.1.2\n"
          ]
        }
      ],
      "source": [
        "!pip install netcdf4 h5netcdf xarray --upgrade"
      ]
    },
    {
      "cell_type": "code",
      "execution_count": 2,
      "id": "d6869502",
      "metadata": {
        "colab": {
          "base_uri": "https://localhost:8080/"
        },
        "id": "d6869502",
        "outputId": "e37b2ffe-ff76-4200-d028-d3885543c153"
      },
      "outputs": [
        {
          "name": "stdout",
          "output_type": "stream",
          "text": [
            "{'netcdf4': <NetCDF4BackendEntrypoint>\n",
            "  Open netCDF (.nc, .nc4 and .cdf) and most HDF5 files using netCDF4 in Xarray\n",
            "  Learn more at https://docs.xarray.dev/en/stable/generated/xarray.backends.NetCDF4BackendEntrypoint.html, 'h5netcdf': <H5netcdfBackendEntrypoint>\n",
            "  Open netCDF (.nc, .nc4 and .cdf) and most HDF5 files using h5netcdf in Xarray\n",
            "  Learn more at https://docs.xarray.dev/en/stable/generated/xarray.backends.H5netcdfBackendEntrypoint.html, 'scipy': <ScipyBackendEntrypoint>\n",
            "  Open netCDF files (.nc, .nc4, .cdf and .gz) using scipy in Xarray\n",
            "  Learn more at https://docs.xarray.dev/en/stable/generated/xarray.backends.ScipyBackendEntrypoint.html, 'store': <StoreBackendEntrypoint>\n",
            "  Open AbstractDataStore instances in Xarray\n",
            "  Learn more at https://docs.xarray.dev/en/stable/generated/xarray.backends.StoreBackendEntrypoint.html}\n"
          ]
        }
      ],
      "source": [
        "import numpy as np\n",
        "import pandas as pd\n",
        "import scipy\n",
        "import glob\n",
        "import h5py\n",
        "import h5netcdf\n",
        "import netCDF4 as nc\n",
        "import xarray as xr\n",
        "import os\n",
        "import re\n",
        "\n",
        "xr.backends.refresh_engines()\n",
        "print(xr.backends.list_engines())"
      ]
    },
    {
      "cell_type": "code",
      "execution_count": null,
      "id": "ZzBBx5z_fTYJ",
      "metadata": {
        "colab": {
          "base_uri": "https://localhost:8080/"
        },
        "id": "ZzBBx5z_fTYJ",
        "outputId": "5a0678ed-fc9f-4d6a-ea8d-94d955a47db7"
      },
      "outputs": [
        {
          "name": "stdout",
          "output_type": "stream",
          "text": [
            "Mounted at /content/drive\n"
          ]
        }
      ],
      "source": [
        "from google.colab import drive\n",
        "drive.mount('/content/drive')"
      ]
    },
    {
      "cell_type": "code",
      "execution_count": null,
      "id": "f2f7c26b",
      "metadata": {
        "id": "f2f7c26b"
      },
      "outputs": [],
      "source": [
        "idw_path_year = './1 - Organized data gauge/BRAZIL/NetCDF/IDW_optimization'\n",
        "idw_consolidadtion_path = './1 - Organized data gauge/BRAZIL/NetCDF/IDW_consolidation'"
      ]
    },
    {
      "cell_type": "code",
      "execution_count": 10,
      "id": "heqtU_W9fctw",
      "metadata": {
        "id": "heqtU_W9fctw"
      },
      "outputs": [],
      "source": [
        "idw_path_year = \"/content/drive/MyDrive/QualiBRain/Scripts e Dados/1 - Organized data gauge/BRAZIL/NetCDF/IDW_consolidation_year\"\n",
        "idw_path_decade = \"/content/drive/MyDrive/QualiBRain/Scripts e Dados/1 - Organized data gauge/BRAZIL/NetCDF/IDW_consolidation_decade\""
      ]
    },
    {
      "cell_type": "code",
      "execution_count": 11,
      "id": "222a77fe",
      "metadata": {
        "colab": {
          "base_uri": "https://localhost:8080/",
          "height": 70
        },
        "id": "222a77fe",
        "outputId": "403de928-3fc1-483a-9c01-f4700ba4a704"
      },
      "outputs": [
        {
          "name": "stdout",
          "output_type": "stream",
          "text": [
            "64\n"
          ]
        },
        {
          "data": {
            "application/vnd.google.colaboratory.intrinsic+json": {
              "type": "string"
            },
            "text/plain": [
              "'/content/drive/MyDrive/QualiBRain/Scripts e Dados/1 - Organized data gauge/BRAZIL/NetCDF/IDW_consolidation_year/precipitation_idw_1988.nc'"
            ]
          },
          "execution_count": 11,
          "metadata": {},
          "output_type": "execute_result"
        }
      ],
      "source": [
        "all_files = glob.glob(idw_path_year + r\"/*.nc\")\n",
        "total_length = len(all_files)\n",
        "print(total_length)\n",
        "all_files[0]"
      ]
    },
    {
      "cell_type": "code",
      "execution_count": 12,
      "id": "7_ea6L_LG_Zi",
      "metadata": {
        "colab": {
          "base_uri": "https://localhost:8080/"
        },
        "id": "7_ea6L_LG_Zi",
        "outputId": "a2fd3c32-81ee-4b42-a6e2-25d72f5e3d4a"
      },
      "outputs": [
        {
          "name": "stdout",
          "output_type": "stream",
          "text": [
            "['/content/drive/MyDrive/QualiBRain/Scripts e Dados/1 - Organized data gauge/BRAZIL/NetCDF/IDW_consolidation_year/precipitation_idw_1967.nc', '/content/drive/MyDrive/QualiBRain/Scripts e Dados/1 - Organized data gauge/BRAZIL/NetCDF/IDW_consolidation_year/precipitation_idw_1969.nc', '/content/drive/MyDrive/QualiBRain/Scripts e Dados/1 - Organized data gauge/BRAZIL/NetCDF/IDW_consolidation_year/precipitation_idw_1970.nc', '/content/drive/MyDrive/QualiBRain/Scripts e Dados/1 - Organized data gauge/BRAZIL/NetCDF/IDW_consolidation_year/precipitation_idw_1966.nc', '/content/drive/MyDrive/QualiBRain/Scripts e Dados/1 - Organized data gauge/BRAZIL/NetCDF/IDW_consolidation_year/precipitation_idw_1968.nc', '/content/drive/MyDrive/QualiBRain/Scripts e Dados/1 - Organized data gauge/BRAZIL/NetCDF/IDW_consolidation_year/precipitation_idw_1963.nc', '/content/drive/MyDrive/QualiBRain/Scripts e Dados/1 - Organized data gauge/BRAZIL/NetCDF/IDW_consolidation_year/precipitation_idw_1964.nc', '/content/drive/MyDrive/QualiBRain/Scripts e Dados/1 - Organized data gauge/BRAZIL/NetCDF/IDW_consolidation_year/precipitation_idw_1965.nc', '/content/drive/MyDrive/QualiBRain/Scripts e Dados/1 - Organized data gauge/BRAZIL/NetCDF/IDW_consolidation_year/precipitation_idw_1961.nc', '/content/drive/MyDrive/QualiBRain/Scripts e Dados/1 - Organized data gauge/BRAZIL/NetCDF/IDW_consolidation_year/precipitation_idw_1962.nc']\n",
            "list_1960: 10 files; ['/content/drive/MyDrive/QualiBRain/Scripts e Dados/1 - Organized data gauge/BRAZIL/NetCDF/IDW_consolidation_year/precipitation_idw_1967.nc', '/content/drive/MyDrive/QualiBRain/Scripts e Dados/1 - Organized data gauge/BRAZIL/NetCDF/IDW_consolidation_year/precipitation_idw_1969.nc', '/content/drive/MyDrive/QualiBRain/Scripts e Dados/1 - Organized data gauge/BRAZIL/NetCDF/IDW_consolidation_year/precipitation_idw_1970.nc', '/content/drive/MyDrive/QualiBRain/Scripts e Dados/1 - Organized data gauge/BRAZIL/NetCDF/IDW_consolidation_year/precipitation_idw_1966.nc', '/content/drive/MyDrive/QualiBRain/Scripts e Dados/1 - Organized data gauge/BRAZIL/NetCDF/IDW_consolidation_year/precipitation_idw_1968.nc', '/content/drive/MyDrive/QualiBRain/Scripts e Dados/1 - Organized data gauge/BRAZIL/NetCDF/IDW_consolidation_year/precipitation_idw_1963.nc', '/content/drive/MyDrive/QualiBRain/Scripts e Dados/1 - Organized data gauge/BRAZIL/NetCDF/IDW_consolidation_year/precipitation_idw_1964.nc', '/content/drive/MyDrive/QualiBRain/Scripts e Dados/1 - Organized data gauge/BRAZIL/NetCDF/IDW_consolidation_year/precipitation_idw_1965.nc', '/content/drive/MyDrive/QualiBRain/Scripts e Dados/1 - Organized data gauge/BRAZIL/NetCDF/IDW_consolidation_year/precipitation_idw_1961.nc', '/content/drive/MyDrive/QualiBRain/Scripts e Dados/1 - Organized data gauge/BRAZIL/NetCDF/IDW_consolidation_year/precipitation_idw_1962.nc']\n",
            "list_1970: 10 files; ['/content/drive/MyDrive/QualiBRain/Scripts e Dados/1 - Organized data gauge/BRAZIL/NetCDF/IDW_consolidation_year/precipitation_idw_1980.nc', '/content/drive/MyDrive/QualiBRain/Scripts e Dados/1 - Organized data gauge/BRAZIL/NetCDF/IDW_consolidation_year/precipitation_idw_1977.nc', '/content/drive/MyDrive/QualiBRain/Scripts e Dados/1 - Organized data gauge/BRAZIL/NetCDF/IDW_consolidation_year/precipitation_idw_1978.nc', '/content/drive/MyDrive/QualiBRain/Scripts e Dados/1 - Organized data gauge/BRAZIL/NetCDF/IDW_consolidation_year/precipitation_idw_1979.nc', '/content/drive/MyDrive/QualiBRain/Scripts e Dados/1 - Organized data gauge/BRAZIL/NetCDF/IDW_consolidation_year/precipitation_idw_1974.nc', '/content/drive/MyDrive/QualiBRain/Scripts e Dados/1 - Organized data gauge/BRAZIL/NetCDF/IDW_consolidation_year/precipitation_idw_1975.nc', '/content/drive/MyDrive/QualiBRain/Scripts e Dados/1 - Organized data gauge/BRAZIL/NetCDF/IDW_consolidation_year/precipitation_idw_1976.nc', '/content/drive/MyDrive/QualiBRain/Scripts e Dados/1 - Organized data gauge/BRAZIL/NetCDF/IDW_consolidation_year/precipitation_idw_1971.nc', '/content/drive/MyDrive/QualiBRain/Scripts e Dados/1 - Organized data gauge/BRAZIL/NetCDF/IDW_consolidation_year/precipitation_idw_1972.nc', '/content/drive/MyDrive/QualiBRain/Scripts e Dados/1 - Organized data gauge/BRAZIL/NetCDF/IDW_consolidation_year/precipitation_idw_1973.nc']\n",
            "list_1980: 10 files; ['/content/drive/MyDrive/QualiBRain/Scripts e Dados/1 - Organized data gauge/BRAZIL/NetCDF/IDW_consolidation_year/precipitation_idw_1988.nc', '/content/drive/MyDrive/QualiBRain/Scripts e Dados/1 - Organized data gauge/BRAZIL/NetCDF/IDW_consolidation_year/precipitation_idw_1989.nc', '/content/drive/MyDrive/QualiBRain/Scripts e Dados/1 - Organized data gauge/BRAZIL/NetCDF/IDW_consolidation_year/precipitation_idw_1990.nc', '/content/drive/MyDrive/QualiBRain/Scripts e Dados/1 - Organized data gauge/BRAZIL/NetCDF/IDW_consolidation_year/precipitation_idw_1985.nc', '/content/drive/MyDrive/QualiBRain/Scripts e Dados/1 - Organized data gauge/BRAZIL/NetCDF/IDW_consolidation_year/precipitation_idw_1986.nc', '/content/drive/MyDrive/QualiBRain/Scripts e Dados/1 - Organized data gauge/BRAZIL/NetCDF/IDW_consolidation_year/precipitation_idw_1987.nc', '/content/drive/MyDrive/QualiBRain/Scripts e Dados/1 - Organized data gauge/BRAZIL/NetCDF/IDW_consolidation_year/precipitation_idw_1982.nc', '/content/drive/MyDrive/QualiBRain/Scripts e Dados/1 - Organized data gauge/BRAZIL/NetCDF/IDW_consolidation_year/precipitation_idw_1983.nc', '/content/drive/MyDrive/QualiBRain/Scripts e Dados/1 - Organized data gauge/BRAZIL/NetCDF/IDW_consolidation_year/precipitation_idw_1984.nc', '/content/drive/MyDrive/QualiBRain/Scripts e Dados/1 - Organized data gauge/BRAZIL/NetCDF/IDW_consolidation_year/precipitation_idw_1981.nc']\n",
            "list_1990: 10 files; ['/content/drive/MyDrive/QualiBRain/Scripts e Dados/1 - Organized data gauge/BRAZIL/NetCDF/IDW_consolidation_year/precipitation_idw_2000.nc', '/content/drive/MyDrive/QualiBRain/Scripts e Dados/1 - Organized data gauge/BRAZIL/NetCDF/IDW_consolidation_year/precipitation_idw_1998.nc', '/content/drive/MyDrive/QualiBRain/Scripts e Dados/1 - Organized data gauge/BRAZIL/NetCDF/IDW_consolidation_year/precipitation_idw_1999.nc', '/content/drive/MyDrive/QualiBRain/Scripts e Dados/1 - Organized data gauge/BRAZIL/NetCDF/IDW_consolidation_year/precipitation_idw_1995.nc', '/content/drive/MyDrive/QualiBRain/Scripts e Dados/1 - Organized data gauge/BRAZIL/NetCDF/IDW_consolidation_year/precipitation_idw_1996.nc', '/content/drive/MyDrive/QualiBRain/Scripts e Dados/1 - Organized data gauge/BRAZIL/NetCDF/IDW_consolidation_year/precipitation_idw_1997.nc', '/content/drive/MyDrive/QualiBRain/Scripts e Dados/1 - Organized data gauge/BRAZIL/NetCDF/IDW_consolidation_year/precipitation_idw_1992.nc', '/content/drive/MyDrive/QualiBRain/Scripts e Dados/1 - Organized data gauge/BRAZIL/NetCDF/IDW_consolidation_year/precipitation_idw_1993.nc', '/content/drive/MyDrive/QualiBRain/Scripts e Dados/1 - Organized data gauge/BRAZIL/NetCDF/IDW_consolidation_year/precipitation_idw_1994.nc', '/content/drive/MyDrive/QualiBRain/Scripts e Dados/1 - Organized data gauge/BRAZIL/NetCDF/IDW_consolidation_year/precipitation_idw_1991.nc']\n",
            "list_2000: 10 files; ['/content/drive/MyDrive/QualiBRain/Scripts e Dados/1 - Organized data gauge/BRAZIL/NetCDF/IDW_consolidation_year/precipitation_idw_2010.nc', '/content/drive/MyDrive/QualiBRain/Scripts e Dados/1 - Organized data gauge/BRAZIL/NetCDF/IDW_consolidation_year/precipitation_idw_2008.nc', '/content/drive/MyDrive/QualiBRain/Scripts e Dados/1 - Organized data gauge/BRAZIL/NetCDF/IDW_consolidation_year/precipitation_idw_2007.nc', '/content/drive/MyDrive/QualiBRain/Scripts e Dados/1 - Organized data gauge/BRAZIL/NetCDF/IDW_consolidation_year/precipitation_idw_2004.nc', '/content/drive/MyDrive/QualiBRain/Scripts e Dados/1 - Organized data gauge/BRAZIL/NetCDF/IDW_consolidation_year/precipitation_idw_2009.nc', '/content/drive/MyDrive/QualiBRain/Scripts e Dados/1 - Organized data gauge/BRAZIL/NetCDF/IDW_consolidation_year/precipitation_idw_2005.nc', '/content/drive/MyDrive/QualiBRain/Scripts e Dados/1 - Organized data gauge/BRAZIL/NetCDF/IDW_consolidation_year/precipitation_idw_2006.nc', '/content/drive/MyDrive/QualiBRain/Scripts e Dados/1 - Organized data gauge/BRAZIL/NetCDF/IDW_consolidation_year/precipitation_idw_2001.nc', '/content/drive/MyDrive/QualiBRain/Scripts e Dados/1 - Organized data gauge/BRAZIL/NetCDF/IDW_consolidation_year/precipitation_idw_2002.nc', '/content/drive/MyDrive/QualiBRain/Scripts e Dados/1 - Organized data gauge/BRAZIL/NetCDF/IDW_consolidation_year/precipitation_idw_2003.nc']\n",
            "list_2010: 10 files; ['/content/drive/MyDrive/QualiBRain/Scripts e Dados/1 - Organized data gauge/BRAZIL/NetCDF/IDW_consolidation_year/precipitation_idw_2018.nc', '/content/drive/MyDrive/QualiBRain/Scripts e Dados/1 - Organized data gauge/BRAZIL/NetCDF/IDW_consolidation_year/precipitation_idw_2019.nc', '/content/drive/MyDrive/QualiBRain/Scripts e Dados/1 - Organized data gauge/BRAZIL/NetCDF/IDW_consolidation_year/precipitation_idw_2020.nc', '/content/drive/MyDrive/QualiBRain/Scripts e Dados/1 - Organized data gauge/BRAZIL/NetCDF/IDW_consolidation_year/precipitation_idw_2015.nc', '/content/drive/MyDrive/QualiBRain/Scripts e Dados/1 - Organized data gauge/BRAZIL/NetCDF/IDW_consolidation_year/precipitation_idw_2012.nc', '/content/drive/MyDrive/QualiBRain/Scripts e Dados/1 - Organized data gauge/BRAZIL/NetCDF/IDW_consolidation_year/precipitation_idw_2016.nc', '/content/drive/MyDrive/QualiBRain/Scripts e Dados/1 - Organized data gauge/BRAZIL/NetCDF/IDW_consolidation_year/precipitation_idw_2017.nc', '/content/drive/MyDrive/QualiBRain/Scripts e Dados/1 - Organized data gauge/BRAZIL/NetCDF/IDW_consolidation_year/precipitation_idw_2014.nc', '/content/drive/MyDrive/QualiBRain/Scripts e Dados/1 - Organized data gauge/BRAZIL/NetCDF/IDW_consolidation_year/precipitation_idw_2011.nc', '/content/drive/MyDrive/QualiBRain/Scripts e Dados/1 - Organized data gauge/BRAZIL/NetCDF/IDW_consolidation_year/precipitation_idw_2013.nc']\n",
            "list_2020: 4 files; ['/content/drive/MyDrive/QualiBRain/Scripts e Dados/1 - Organized data gauge/BRAZIL/NetCDF/IDW_consolidation_year/precipitation_idw_2023.nc', '/content/drive/MyDrive/QualiBRain/Scripts e Dados/1 - Organized data gauge/BRAZIL/NetCDF/IDW_consolidation_year/precipitation_idw_2024.nc', '/content/drive/MyDrive/QualiBRain/Scripts e Dados/1 - Organized data gauge/BRAZIL/NetCDF/IDW_consolidation_year/precipitation_idw_2021.nc', '/content/drive/MyDrive/QualiBRain/Scripts e Dados/1 - Organized data gauge/BRAZIL/NetCDF/IDW_consolidation_year/precipitation_idw_2022.nc']\n"
          ]
        }
      ],
      "source": [
        "decade_dict = {}\n",
        "\n",
        "# Process each file in the list\n",
        "for file in all_files[:]:\n",
        "    # Use regex to extract the decade from the filename; assumes pattern \"yyyy-mm-dd.nc\" at the end.\n",
        "    match = re.search(r'(\\d{4}).nc$', file)\n",
        "    if match:\n",
        "        decade = ( int(match.group(1))-1 ) // 10 * 10\n",
        "        # Initialize list if the key does not exist\n",
        "        if decade not in decade_dict:\n",
        "            decade_dict[decade] = []\n",
        "        # Append the file to the appropriate decade list\n",
        "        decade_dict[decade].append(file)\n",
        "\n",
        "# If you want the result as a list of lists sorted by decade:\n",
        "decade_file_lists = [decade_dict[d] for d in sorted(decade_dict)]\n",
        "print(decade_file_lists[0])\n",
        "\n",
        "# Alternatively, print the dictionary with decade labels:\n",
        "for decade in sorted(decade_dict):\n",
        "    print(f\"list_{decade}: {len(decade_dict[decade])} files; {decade_dict[decade]}\")"
      ]
    },
    {
      "cell_type": "code",
      "execution_count": 14,
      "id": "vNmLtBIP-zj6",
      "metadata": {
        "colab": {
          "base_uri": "https://localhost:8080/"
        },
        "id": "vNmLtBIP-zj6",
        "outputId": "2809dc6f-161e-4dc2-ca72-402f36976054"
      },
      "outputs": [
        {
          "data": {
            "text/plain": [
              "[]"
            ]
          },
          "execution_count": 14,
          "metadata": {},
          "output_type": "execute_result"
        }
      ],
      "source": [
        "decades = []\n",
        "for filename in os.listdir(idw_path_decade + r\"/\"):\n",
        "    if filename.endswith(r\".nc\"):\n",
        "        match = re.search(r'_(\\d{4})\\.nc$', filename)\n",
        "        if match:\n",
        "            decades.append(int(match.group(1)))\n",
        "decades"
      ]
    },
    {
      "cell_type": "code",
      "execution_count": null,
      "id": "zo-BHh_m5y_M",
      "metadata": {
        "id": "zo-BHh_m5y_M"
      },
      "outputs": [],
      "source": [
        "# decades.pop(-3)"
      ]
    },
    {
      "cell_type": "markdown",
      "id": "MYaaxAoNoHXy",
      "metadata": {
        "id": "MYaaxAoNoHXy"
      },
      "source": [
        "# VERIFY LAST FILE"
      ]
    },
    {
      "cell_type": "code",
      "execution_count": 15,
      "id": "NyCjw-KS4R42",
      "metadata": {
        "id": "NyCjw-KS4R42"
      },
      "outputs": [],
      "source": [
        "# prompt: filter year_dict where key are not in years\n",
        "\n",
        "filtered_decade_dict = {key: value for key, value in decade_dict.items() if key not in decades}\n"
      ]
    },
    {
      "cell_type": "code",
      "execution_count": 16,
      "id": "Ii4cwpVWHu_o",
      "metadata": {
        "colab": {
          "base_uri": "https://localhost:8080/"
        },
        "id": "Ii4cwpVWHu_o",
        "outputId": "78e392bd-2d6d-4730-8cd0-340f10c51edc"
      },
      "outputs": [
        {
          "name": "stdout",
          "output_type": "stream",
          "text": [
            "Saved merged dataset for year 1980 to /content/drive/MyDrive/QualiBRain/Scripts e Dados/1 - Organized data gauge/BRAZIL/NetCDF/IDW_consolidation_decade/precipitation_idw_1980.nc\n",
            "Saved merged dataset for year 1960 to /content/drive/MyDrive/QualiBRain/Scripts e Dados/1 - Organized data gauge/BRAZIL/NetCDF/IDW_consolidation_decade/precipitation_idw_1960.nc\n",
            "Saved merged dataset for year 1970 to /content/drive/MyDrive/QualiBRain/Scripts e Dados/1 - Organized data gauge/BRAZIL/NetCDF/IDW_consolidation_decade/precipitation_idw_1970.nc\n",
            "Saved merged dataset for year 1990 to /content/drive/MyDrive/QualiBRain/Scripts e Dados/1 - Organized data gauge/BRAZIL/NetCDF/IDW_consolidation_decade/precipitation_idw_1990.nc\n",
            "Saved merged dataset for year 2020 to /content/drive/MyDrive/QualiBRain/Scripts e Dados/1 - Organized data gauge/BRAZIL/NetCDF/IDW_consolidation_decade/precipitation_idw_2020.nc\n",
            "Saved merged dataset for year 2010 to /content/drive/MyDrive/QualiBRain/Scripts e Dados/1 - Organized data gauge/BRAZIL/NetCDF/IDW_consolidation_decade/precipitation_idw_2010.nc\n",
            "Saved merged dataset for year 2000 to /content/drive/MyDrive/QualiBRain/Scripts e Dados/1 - Organized data gauge/BRAZIL/NetCDF/IDW_consolidation_decade/precipitation_idw_2000.nc\n"
          ]
        }
      ],
      "source": [
        "merged_datasets = {}\n",
        "\n",
        "for decade, file_list in filtered_decade_dict.items():\n",
        "    # Open and merge all files for this year by coordinates\n",
        "    datasets = [xr.open_dataset(filepath) for filepath in file_list]\n",
        "    ds_total = xr.merge(datasets)\n",
        "    # del datasets\n",
        "\n",
        "    # Save the merged dataset to a new NetCDF file (optional)\n",
        "    output_filename = f'/content/drive/MyDrive/QualiBRain/Scripts e Dados/1 - Organized data gauge/BRAZIL/NetCDF/IDW_consolidation_decade/precipitation_idw_{decade}.nc'\n",
        "    ds_total.to_netcdf(output_filename)\n",
        "    # del ds_total\n",
        "    print(f\"Saved merged dataset for year {decade} to {output_filename}\")"
      ]
    },
    {
      "cell_type": "code",
      "execution_count": 17,
      "id": "4yEQdoj0KqLK",
      "metadata": {
        "colab": {
          "base_uri": "https://localhost:8080/",
          "height": 300
        },
        "id": "4yEQdoj0KqLK",
        "outputId": "e0927f49-0115-4af5-c12e-811feb92a264"
      },
      "outputs": [
        {
          "data": {
            "text/html": [
              "<div><svg style=\"position: absolute; width: 0; height: 0; overflow: hidden\">\n",
              "<defs>\n",
              "<symbol id=\"icon-database\" viewBox=\"0 0 32 32\">\n",
              "<path d=\"M16 0c-8.837 0-16 2.239-16 5v4c0 2.761 7.163 5 16 5s16-2.239 16-5v-4c0-2.761-7.163-5-16-5z\"></path>\n",
              "<path d=\"M16 17c-8.837 0-16-2.239-16-5v6c0 2.761 7.163 5 16 5s16-2.239 16-5v-6c0 2.761-7.163 5-16 5z\"></path>\n",
              "<path d=\"M16 26c-8.837 0-16-2.239-16-5v6c0 2.761 7.163 5 16 5s16-2.239 16-5v-6c0 2.761-7.163 5-16 5z\"></path>\n",
              "</symbol>\n",
              "<symbol id=\"icon-file-text2\" viewBox=\"0 0 32 32\">\n",
              "<path d=\"M28.681 7.159c-0.694-0.947-1.662-2.053-2.724-3.116s-2.169-2.030-3.116-2.724c-1.612-1.182-2.393-1.319-2.841-1.319h-15.5c-1.378 0-2.5 1.121-2.5 2.5v27c0 1.378 1.122 2.5 2.5 2.5h23c1.378 0 2.5-1.122 2.5-2.5v-19.5c0-0.448-0.137-1.23-1.319-2.841zM24.543 5.457c0.959 0.959 1.712 1.825 2.268 2.543h-4.811v-4.811c0.718 0.556 1.584 1.309 2.543 2.268zM28 29.5c0 0.271-0.229 0.5-0.5 0.5h-23c-0.271 0-0.5-0.229-0.5-0.5v-27c0-0.271 0.229-0.5 0.5-0.5 0 0 15.499-0 15.5 0v7c0 0.552 0.448 1 1 1h7v19.5z\"></path>\n",
              "<path d=\"M23 26h-14c-0.552 0-1-0.448-1-1s0.448-1 1-1h14c0.552 0 1 0.448 1 1s-0.448 1-1 1z\"></path>\n",
              "<path d=\"M23 22h-14c-0.552 0-1-0.448-1-1s0.448-1 1-1h14c0.552 0 1 0.448 1 1s-0.448 1-1 1z\"></path>\n",
              "<path d=\"M23 18h-14c-0.552 0-1-0.448-1-1s0.448-1 1-1h14c0.552 0 1 0.448 1 1s-0.448 1-1 1z\"></path>\n",
              "</symbol>\n",
              "</defs>\n",
              "</svg>\n",
              "<style>/* CSS stylesheet for displaying xarray objects in jupyterlab.\n",
              " *\n",
              " */\n",
              "\n",
              ":root {\n",
              "  --xr-font-color0: var(--jp-content-font-color0, rgba(0, 0, 0, 1));\n",
              "  --xr-font-color2: var(--jp-content-font-color2, rgba(0, 0, 0, 0.54));\n",
              "  --xr-font-color3: var(--jp-content-font-color3, rgba(0, 0, 0, 0.38));\n",
              "  --xr-border-color: var(--jp-border-color2, #e0e0e0);\n",
              "  --xr-disabled-color: var(--jp-layout-color3, #bdbdbd);\n",
              "  --xr-background-color: var(--jp-layout-color0, white);\n",
              "  --xr-background-color-row-even: var(--jp-layout-color1, white);\n",
              "  --xr-background-color-row-odd: var(--jp-layout-color2, #eeeeee);\n",
              "}\n",
              "\n",
              "html[theme=\"dark\"],\n",
              "html[data-theme=\"dark\"],\n",
              "body[data-theme=\"dark\"],\n",
              "body.vscode-dark {\n",
              "  --xr-font-color0: rgba(255, 255, 255, 1);\n",
              "  --xr-font-color2: rgba(255, 255, 255, 0.54);\n",
              "  --xr-font-color3: rgba(255, 255, 255, 0.38);\n",
              "  --xr-border-color: #1f1f1f;\n",
              "  --xr-disabled-color: #515151;\n",
              "  --xr-background-color: #111111;\n",
              "  --xr-background-color-row-even: #111111;\n",
              "  --xr-background-color-row-odd: #313131;\n",
              "}\n",
              "\n",
              ".xr-wrap {\n",
              "  display: block !important;\n",
              "  min-width: 300px;\n",
              "  max-width: 700px;\n",
              "}\n",
              "\n",
              ".xr-text-repr-fallback {\n",
              "  /* fallback to plain text repr when CSS is not injected (untrusted notebook) */\n",
              "  display: none;\n",
              "}\n",
              "\n",
              ".xr-header {\n",
              "  padding-top: 6px;\n",
              "  padding-bottom: 6px;\n",
              "  margin-bottom: 4px;\n",
              "  border-bottom: solid 1px var(--xr-border-color);\n",
              "}\n",
              "\n",
              ".xr-header > div,\n",
              ".xr-header > ul {\n",
              "  display: inline;\n",
              "  margin-top: 0;\n",
              "  margin-bottom: 0;\n",
              "}\n",
              "\n",
              ".xr-obj-type,\n",
              ".xr-array-name {\n",
              "  margin-left: 2px;\n",
              "  margin-right: 10px;\n",
              "}\n",
              "\n",
              ".xr-obj-type {\n",
              "  color: var(--xr-font-color2);\n",
              "}\n",
              "\n",
              ".xr-sections {\n",
              "  padding-left: 0 !important;\n",
              "  display: grid;\n",
              "  grid-template-columns: 150px auto auto 1fr 0 20px 0 20px;\n",
              "}\n",
              "\n",
              ".xr-section-item {\n",
              "  display: contents;\n",
              "}\n",
              "\n",
              ".xr-section-item input {\n",
              "  display: inline-block;\n",
              "  opacity: 0;\n",
              "  height: 0;\n",
              "}\n",
              "\n",
              ".xr-section-item input + label {\n",
              "  color: var(--xr-disabled-color);\n",
              "}\n",
              "\n",
              ".xr-section-item input:enabled + label {\n",
              "  cursor: pointer;\n",
              "  color: var(--xr-font-color2);\n",
              "}\n",
              "\n",
              ".xr-section-item input:focus + label {\n",
              "  border: 2px solid var(--xr-font-color0);\n",
              "}\n",
              "\n",
              ".xr-section-item input:enabled + label:hover {\n",
              "  color: var(--xr-font-color0);\n",
              "}\n",
              "\n",
              ".xr-section-summary {\n",
              "  grid-column: 1;\n",
              "  color: var(--xr-font-color2);\n",
              "  font-weight: 500;\n",
              "}\n",
              "\n",
              ".xr-section-summary > span {\n",
              "  display: inline-block;\n",
              "  padding-left: 0.5em;\n",
              "}\n",
              "\n",
              ".xr-section-summary-in:disabled + label {\n",
              "  color: var(--xr-font-color2);\n",
              "}\n",
              "\n",
              ".xr-section-summary-in + label:before {\n",
              "  display: inline-block;\n",
              "  content: \"►\";\n",
              "  font-size: 11px;\n",
              "  width: 15px;\n",
              "  text-align: center;\n",
              "}\n",
              "\n",
              ".xr-section-summary-in:disabled + label:before {\n",
              "  color: var(--xr-disabled-color);\n",
              "}\n",
              "\n",
              ".xr-section-summary-in:checked + label:before {\n",
              "  content: \"▼\";\n",
              "}\n",
              "\n",
              ".xr-section-summary-in:checked + label > span {\n",
              "  display: none;\n",
              "}\n",
              "\n",
              ".xr-section-summary,\n",
              ".xr-section-inline-details {\n",
              "  padding-top: 4px;\n",
              "  padding-bottom: 4px;\n",
              "}\n",
              "\n",
              ".xr-section-inline-details {\n",
              "  grid-column: 2 / -1;\n",
              "}\n",
              "\n",
              ".xr-section-details {\n",
              "  display: none;\n",
              "  grid-column: 1 / -1;\n",
              "  margin-bottom: 5px;\n",
              "}\n",
              "\n",
              ".xr-section-summary-in:checked ~ .xr-section-details {\n",
              "  display: contents;\n",
              "}\n",
              "\n",
              ".xr-array-wrap {\n",
              "  grid-column: 1 / -1;\n",
              "  display: grid;\n",
              "  grid-template-columns: 20px auto;\n",
              "}\n",
              "\n",
              ".xr-array-wrap > label {\n",
              "  grid-column: 1;\n",
              "  vertical-align: top;\n",
              "}\n",
              "\n",
              ".xr-preview {\n",
              "  color: var(--xr-font-color3);\n",
              "}\n",
              "\n",
              ".xr-array-preview,\n",
              ".xr-array-data {\n",
              "  padding: 0 5px !important;\n",
              "  grid-column: 2;\n",
              "}\n",
              "\n",
              ".xr-array-data,\n",
              ".xr-array-in:checked ~ .xr-array-preview {\n",
              "  display: none;\n",
              "}\n",
              "\n",
              ".xr-array-in:checked ~ .xr-array-data,\n",
              ".xr-array-preview {\n",
              "  display: inline-block;\n",
              "}\n",
              "\n",
              ".xr-dim-list {\n",
              "  display: inline-block !important;\n",
              "  list-style: none;\n",
              "  padding: 0 !important;\n",
              "  margin: 0;\n",
              "}\n",
              "\n",
              ".xr-dim-list li {\n",
              "  display: inline-block;\n",
              "  padding: 0;\n",
              "  margin: 0;\n",
              "}\n",
              "\n",
              ".xr-dim-list:before {\n",
              "  content: \"(\";\n",
              "}\n",
              "\n",
              ".xr-dim-list:after {\n",
              "  content: \")\";\n",
              "}\n",
              "\n",
              ".xr-dim-list li:not(:last-child):after {\n",
              "  content: \",\";\n",
              "  padding-right: 5px;\n",
              "}\n",
              "\n",
              ".xr-has-index {\n",
              "  font-weight: bold;\n",
              "}\n",
              "\n",
              ".xr-var-list,\n",
              ".xr-var-item {\n",
              "  display: contents;\n",
              "}\n",
              "\n",
              ".xr-var-item > div,\n",
              ".xr-var-item label,\n",
              ".xr-var-item > .xr-var-name span {\n",
              "  background-color: var(--xr-background-color-row-even);\n",
              "  margin-bottom: 0;\n",
              "}\n",
              "\n",
              ".xr-var-item > .xr-var-name:hover span {\n",
              "  padding-right: 5px;\n",
              "}\n",
              "\n",
              ".xr-var-list > li:nth-child(odd) > div,\n",
              ".xr-var-list > li:nth-child(odd) > label,\n",
              ".xr-var-list > li:nth-child(odd) > .xr-var-name span {\n",
              "  background-color: var(--xr-background-color-row-odd);\n",
              "}\n",
              "\n",
              ".xr-var-name {\n",
              "  grid-column: 1;\n",
              "}\n",
              "\n",
              ".xr-var-dims {\n",
              "  grid-column: 2;\n",
              "}\n",
              "\n",
              ".xr-var-dtype {\n",
              "  grid-column: 3;\n",
              "  text-align: right;\n",
              "  color: var(--xr-font-color2);\n",
              "}\n",
              "\n",
              ".xr-var-preview {\n",
              "  grid-column: 4;\n",
              "}\n",
              "\n",
              ".xr-index-preview {\n",
              "  grid-column: 2 / 5;\n",
              "  color: var(--xr-font-color2);\n",
              "}\n",
              "\n",
              ".xr-var-name,\n",
              ".xr-var-dims,\n",
              ".xr-var-dtype,\n",
              ".xr-preview,\n",
              ".xr-attrs dt {\n",
              "  white-space: nowrap;\n",
              "  overflow: hidden;\n",
              "  text-overflow: ellipsis;\n",
              "  padding-right: 10px;\n",
              "}\n",
              "\n",
              ".xr-var-name:hover,\n",
              ".xr-var-dims:hover,\n",
              ".xr-var-dtype:hover,\n",
              ".xr-attrs dt:hover {\n",
              "  overflow: visible;\n",
              "  width: auto;\n",
              "  z-index: 1;\n",
              "}\n",
              "\n",
              ".xr-var-attrs,\n",
              ".xr-var-data,\n",
              ".xr-index-data {\n",
              "  display: none;\n",
              "  background-color: var(--xr-background-color) !important;\n",
              "  padding-bottom: 5px !important;\n",
              "}\n",
              "\n",
              ".xr-var-attrs-in:checked ~ .xr-var-attrs,\n",
              ".xr-var-data-in:checked ~ .xr-var-data,\n",
              ".xr-index-data-in:checked ~ .xr-index-data {\n",
              "  display: block;\n",
              "}\n",
              "\n",
              ".xr-var-data > table {\n",
              "  float: right;\n",
              "}\n",
              "\n",
              ".xr-var-name span,\n",
              ".xr-var-data,\n",
              ".xr-index-name div,\n",
              ".xr-index-data,\n",
              ".xr-attrs {\n",
              "  padding-left: 25px !important;\n",
              "}\n",
              "\n",
              ".xr-attrs,\n",
              ".xr-var-attrs,\n",
              ".xr-var-data,\n",
              ".xr-index-data {\n",
              "  grid-column: 1 / -1;\n",
              "}\n",
              "\n",
              "dl.xr-attrs {\n",
              "  padding: 0;\n",
              "  margin: 0;\n",
              "  display: grid;\n",
              "  grid-template-columns: 125px auto;\n",
              "}\n",
              "\n",
              ".xr-attrs dt,\n",
              ".xr-attrs dd {\n",
              "  padding: 0;\n",
              "  margin: 0;\n",
              "  float: left;\n",
              "  padding-right: 10px;\n",
              "  width: auto;\n",
              "}\n",
              "\n",
              ".xr-attrs dt {\n",
              "  font-weight: normal;\n",
              "  grid-column: 1;\n",
              "}\n",
              "\n",
              ".xr-attrs dt:hover span {\n",
              "  display: inline-block;\n",
              "  background: var(--xr-background-color);\n",
              "  padding-right: 10px;\n",
              "}\n",
              "\n",
              ".xr-attrs dd {\n",
              "  grid-column: 2;\n",
              "  white-space: pre-wrap;\n",
              "  word-break: break-all;\n",
              "}\n",
              "\n",
              ".xr-icon-database,\n",
              ".xr-icon-file-text2,\n",
              ".xr-no-icon {\n",
              "  display: inline-block;\n",
              "  vertical-align: middle;\n",
              "  width: 1em;\n",
              "  height: 1.5em !important;\n",
              "  stroke-width: 0;\n",
              "  stroke: currentColor;\n",
              "  fill: currentColor;\n",
              "}\n",
              "</style><pre class='xr-text-repr-fallback'>&lt;xarray.Dataset&gt; Size: 734MB\n",
              "Dimensions:   (lat: 158, long: 159, datetime: 3652)\n",
              "Coordinates:\n",
              "  * lat       (lat) float64 1kB -33.88 -33.62 -33.38 ... 4.875 5.125 5.375\n",
              "  * long      (long) float64 1kB -74.12 -73.88 -73.62 ... -35.12 -34.88 -34.62\n",
              "  * datetime  (datetime) datetime64[ns] 29kB 2001-01-01 ... 2010-12-31\n",
              "Data variables:\n",
              "    rain_mm   (lat, long, datetime) float64 734MB ...</pre><div class='xr-wrap' style='display:none'><div class='xr-header'><div class='xr-obj-type'>xarray.Dataset</div></div><ul class='xr-sections'><li class='xr-section-item'><input id='section-bc7077d8-d477-4c46-9ba9-18c4f991ba61' class='xr-section-summary-in' type='checkbox' disabled ><label for='section-bc7077d8-d477-4c46-9ba9-18c4f991ba61' class='xr-section-summary'  title='Expand/collapse section'>Dimensions:</label><div class='xr-section-inline-details'><ul class='xr-dim-list'><li><span class='xr-has-index'>lat</span>: 158</li><li><span class='xr-has-index'>long</span>: 159</li><li><span class='xr-has-index'>datetime</span>: 3652</li></ul></div><div class='xr-section-details'></div></li><li class='xr-section-item'><input id='section-5b94e49f-8f97-45df-ba44-00932e0cc42b' class='xr-section-summary-in' type='checkbox'  checked><label for='section-5b94e49f-8f97-45df-ba44-00932e0cc42b' class='xr-section-summary' >Coordinates: <span>(3)</span></label><div class='xr-section-inline-details'></div><div class='xr-section-details'><ul class='xr-var-list'><li class='xr-var-item'><div class='xr-var-name'><span class='xr-has-index'>lat</span></div><div class='xr-var-dims'>(lat)</div><div class='xr-var-dtype'>float64</div><div class='xr-var-preview xr-preview'>-33.88 -33.62 ... 5.125 5.375</div><input id='attrs-f6585567-3008-40d3-afbc-5e6b638a0f38' class='xr-var-attrs-in' type='checkbox' disabled><label for='attrs-f6585567-3008-40d3-afbc-5e6b638a0f38' title='Show/Hide attributes'><svg class='icon xr-icon-file-text2'><use xlink:href='#icon-file-text2'></use></svg></label><input id='data-d75775d6-8e02-4e0b-ae1f-cdc0ae1ed58f' class='xr-var-data-in' type='checkbox'><label for='data-d75775d6-8e02-4e0b-ae1f-cdc0ae1ed58f' title='Show/Hide data repr'><svg class='icon xr-icon-database'><use xlink:href='#icon-database'></use></svg></label><div class='xr-var-attrs'><dl class='xr-attrs'></dl></div><div class='xr-var-data'><pre>array([-33.875, -33.625, -33.375, -33.125, -32.875, -32.625, -32.375, -32.125,\n",
              "       -31.875, -31.625, -31.375, -31.125, -30.875, -30.625, -30.375, -30.125,\n",
              "       -29.875, -29.625, -29.375, -29.125, -28.875, -28.625, -28.375, -28.125,\n",
              "       -27.875, -27.625, -27.375, -27.125, -26.875, -26.625, -26.375, -26.125,\n",
              "       -25.875, -25.625, -25.375, -25.125, -24.875, -24.625, -24.375, -24.125,\n",
              "       -23.875, -23.625, -23.375, -23.125, -22.875, -22.625, -22.375, -22.125,\n",
              "       -21.875, -21.625, -21.375, -21.125, -20.875, -20.625, -20.375, -20.125,\n",
              "       -19.875, -19.625, -19.375, -19.125, -18.875, -18.625, -18.375, -18.125,\n",
              "       -17.875, -17.625, -17.375, -17.125, -16.875, -16.625, -16.375, -16.125,\n",
              "       -15.875, -15.625, -15.375, -15.125, -14.875, -14.625, -14.375, -14.125,\n",
              "       -13.875, -13.625, -13.375, -13.125, -12.875, -12.625, -12.375, -12.125,\n",
              "       -11.875, -11.625, -11.375, -11.125, -10.875, -10.625, -10.375, -10.125,\n",
              "        -9.875,  -9.625,  -9.375,  -9.125,  -8.875,  -8.625,  -8.375,  -8.125,\n",
              "        -7.875,  -7.625,  -7.375,  -7.125,  -6.875,  -6.625,  -6.375,  -6.125,\n",
              "        -5.875,  -5.625,  -5.375,  -5.125,  -4.875,  -4.625,  -4.375,  -4.125,\n",
              "        -3.875,  -3.625,  -3.375,  -3.125,  -2.875,  -2.625,  -2.375,  -2.125,\n",
              "        -1.875,  -1.625,  -1.375,  -1.125,  -0.875,  -0.625,  -0.375,  -0.125,\n",
              "         0.125,   0.375,   0.625,   0.875,   1.125,   1.375,   1.625,   1.875,\n",
              "         2.125,   2.375,   2.625,   2.875,   3.125,   3.375,   3.625,   3.875,\n",
              "         4.125,   4.375,   4.625,   4.875,   5.125,   5.375])</pre></div></li><li class='xr-var-item'><div class='xr-var-name'><span class='xr-has-index'>long</span></div><div class='xr-var-dims'>(long)</div><div class='xr-var-dtype'>float64</div><div class='xr-var-preview xr-preview'>-74.12 -73.88 ... -34.88 -34.62</div><input id='attrs-10954081-7660-4059-8e89-affb1b415775' class='xr-var-attrs-in' type='checkbox' disabled><label for='attrs-10954081-7660-4059-8e89-affb1b415775' title='Show/Hide attributes'><svg class='icon xr-icon-file-text2'><use xlink:href='#icon-file-text2'></use></svg></label><input id='data-3e091219-180e-47eb-8826-15507d59f08c' class='xr-var-data-in' type='checkbox'><label for='data-3e091219-180e-47eb-8826-15507d59f08c' title='Show/Hide data repr'><svg class='icon xr-icon-database'><use xlink:href='#icon-database'></use></svg></label><div class='xr-var-attrs'><dl class='xr-attrs'></dl></div><div class='xr-var-data'><pre>array([-74.125, -73.875, -73.625, -73.375, -73.125, -72.875, -72.625, -72.375,\n",
              "       -72.125, -71.875, -71.625, -71.375, -71.125, -70.875, -70.625, -70.375,\n",
              "       -70.125, -69.875, -69.625, -69.375, -69.125, -68.875, -68.625, -68.375,\n",
              "       -68.125, -67.875, -67.625, -67.375, -67.125, -66.875, -66.625, -66.375,\n",
              "       -66.125, -65.875, -65.625, -65.375, -65.125, -64.875, -64.625, -64.375,\n",
              "       -64.125, -63.875, -63.625, -63.375, -63.125, -62.875, -62.625, -62.375,\n",
              "       -62.125, -61.875, -61.625, -61.375, -61.125, -60.875, -60.625, -60.375,\n",
              "       -60.125, -59.875, -59.625, -59.375, -59.125, -58.875, -58.625, -58.375,\n",
              "       -58.125, -57.875, -57.625, -57.375, -57.125, -56.875, -56.625, -56.375,\n",
              "       -56.125, -55.875, -55.625, -55.375, -55.125, -54.875, -54.625, -54.375,\n",
              "       -54.125, -53.875, -53.625, -53.375, -53.125, -52.875, -52.625, -52.375,\n",
              "       -52.125, -51.875, -51.625, -51.375, -51.125, -50.875, -50.625, -50.375,\n",
              "       -50.125, -49.875, -49.625, -49.375, -49.125, -48.875, -48.625, -48.375,\n",
              "       -48.125, -47.875, -47.625, -47.375, -47.125, -46.875, -46.625, -46.375,\n",
              "       -46.125, -45.875, -45.625, -45.375, -45.125, -44.875, -44.625, -44.375,\n",
              "       -44.125, -43.875, -43.625, -43.375, -43.125, -42.875, -42.625, -42.375,\n",
              "       -42.125, -41.875, -41.625, -41.375, -41.125, -40.875, -40.625, -40.375,\n",
              "       -40.125, -39.875, -39.625, -39.375, -39.125, -38.875, -38.625, -38.375,\n",
              "       -38.125, -37.875, -37.625, -37.375, -37.125, -36.875, -36.625, -36.375,\n",
              "       -36.125, -35.875, -35.625, -35.375, -35.125, -34.875, -34.625])</pre></div></li><li class='xr-var-item'><div class='xr-var-name'><span class='xr-has-index'>datetime</span></div><div class='xr-var-dims'>(datetime)</div><div class='xr-var-dtype'>datetime64[ns]</div><div class='xr-var-preview xr-preview'>2001-01-01 ... 2010-12-31</div><input id='attrs-189789ce-4f1f-4b3c-ac1f-9ddbcceb1165' class='xr-var-attrs-in' type='checkbox' disabled><label for='attrs-189789ce-4f1f-4b3c-ac1f-9ddbcceb1165' title='Show/Hide attributes'><svg class='icon xr-icon-file-text2'><use xlink:href='#icon-file-text2'></use></svg></label><input id='data-bfe50764-02a5-403c-b273-332f3a633a5f' class='xr-var-data-in' type='checkbox'><label for='data-bfe50764-02a5-403c-b273-332f3a633a5f' title='Show/Hide data repr'><svg class='icon xr-icon-database'><use xlink:href='#icon-database'></use></svg></label><div class='xr-var-attrs'><dl class='xr-attrs'></dl></div><div class='xr-var-data'><pre>array([&#x27;2001-01-01T00:00:00.000000000&#x27;, &#x27;2001-01-02T00:00:00.000000000&#x27;,\n",
              "       &#x27;2001-01-03T00:00:00.000000000&#x27;, ..., &#x27;2010-12-29T00:00:00.000000000&#x27;,\n",
              "       &#x27;2010-12-30T00:00:00.000000000&#x27;, &#x27;2010-12-31T00:00:00.000000000&#x27;],\n",
              "      dtype=&#x27;datetime64[ns]&#x27;)</pre></div></li></ul></div></li><li class='xr-section-item'><input id='section-17d0e2e7-6fb3-49a5-a1ad-73419bd2dce1' class='xr-section-summary-in' type='checkbox'  checked><label for='section-17d0e2e7-6fb3-49a5-a1ad-73419bd2dce1' class='xr-section-summary' >Data variables: <span>(1)</span></label><div class='xr-section-inline-details'></div><div class='xr-section-details'><ul class='xr-var-list'><li class='xr-var-item'><div class='xr-var-name'><span>rain_mm</span></div><div class='xr-var-dims'>(lat, long, datetime)</div><div class='xr-var-dtype'>float64</div><div class='xr-var-preview xr-preview'>...</div><input id='attrs-c7ab70c9-9883-44ae-b9bb-7c62a2399b08' class='xr-var-attrs-in' type='checkbox' ><label for='attrs-c7ab70c9-9883-44ae-b9bb-7c62a2399b08' title='Show/Hide attributes'><svg class='icon xr-icon-file-text2'><use xlink:href='#icon-file-text2'></use></svg></label><input id='data-a096afc2-ef3e-49de-9055-fb4f59934d99' class='xr-var-data-in' type='checkbox'><label for='data-a096afc2-ef3e-49de-9055-fb4f59934d99' title='Show/Hide data repr'><svg class='icon xr-icon-database'><use xlink:href='#icon-database'></use></svg></label><div class='xr-var-attrs'><dl class='xr-attrs'><dt><span>units :</span></dt><dd>mm</dd></dl></div><div class='xr-var-data'><pre>[91745544 values with dtype=float64]</pre></div></li></ul></div></li><li class='xr-section-item'><input id='section-86b9f010-8df1-4fbf-9273-1320a068d319' class='xr-section-summary-in' type='checkbox'  ><label for='section-86b9f010-8df1-4fbf-9273-1320a068d319' class='xr-section-summary' >Indexes: <span>(3)</span></label><div class='xr-section-inline-details'></div><div class='xr-section-details'><ul class='xr-var-list'><li class='xr-var-item'><div class='xr-index-name'><div>lat</div></div><div class='xr-index-preview'>PandasIndex</div><input type='checkbox' disabled/><label></label><input id='index-2e473eb5-0316-416e-a20f-6873fea37be5' class='xr-index-data-in' type='checkbox'/><label for='index-2e473eb5-0316-416e-a20f-6873fea37be5' title='Show/Hide index repr'><svg class='icon xr-icon-database'><use xlink:href='#icon-database'></use></svg></label><div class='xr-index-data'><pre>PandasIndex(Index([-33.875, -33.625, -33.375, -33.125, -32.875, -32.625, -32.375, -32.125,\n",
              "       -31.875, -31.625,\n",
              "       ...\n",
              "         3.125,   3.375,   3.625,   3.875,   4.125,   4.375,   4.625,   4.875,\n",
              "         5.125,   5.375],\n",
              "      dtype=&#x27;float64&#x27;, name=&#x27;lat&#x27;, length=158))</pre></div></li><li class='xr-var-item'><div class='xr-index-name'><div>long</div></div><div class='xr-index-preview'>PandasIndex</div><input type='checkbox' disabled/><label></label><input id='index-6f869b21-2f3d-47e4-a57d-8a5a37b534ca' class='xr-index-data-in' type='checkbox'/><label for='index-6f869b21-2f3d-47e4-a57d-8a5a37b534ca' title='Show/Hide index repr'><svg class='icon xr-icon-database'><use xlink:href='#icon-database'></use></svg></label><div class='xr-index-data'><pre>PandasIndex(Index([-74.125, -73.875, -73.625, -73.375, -73.125, -72.875, -72.625, -72.375,\n",
              "       -72.125, -71.875,\n",
              "       ...\n",
              "       -36.875, -36.625, -36.375, -36.125, -35.875, -35.625, -35.375, -35.125,\n",
              "       -34.875, -34.625],\n",
              "      dtype=&#x27;float64&#x27;, name=&#x27;long&#x27;, length=159))</pre></div></li><li class='xr-var-item'><div class='xr-index-name'><div>datetime</div></div><div class='xr-index-preview'>PandasIndex</div><input type='checkbox' disabled/><label></label><input id='index-02a203af-9207-4486-87dc-77a5f4a9ef00' class='xr-index-data-in' type='checkbox'/><label for='index-02a203af-9207-4486-87dc-77a5f4a9ef00' title='Show/Hide index repr'><svg class='icon xr-icon-database'><use xlink:href='#icon-database'></use></svg></label><div class='xr-index-data'><pre>PandasIndex(DatetimeIndex([&#x27;2001-01-01&#x27;, &#x27;2001-01-02&#x27;, &#x27;2001-01-03&#x27;, &#x27;2001-01-04&#x27;,\n",
              "               &#x27;2001-01-05&#x27;, &#x27;2001-01-06&#x27;, &#x27;2001-01-07&#x27;, &#x27;2001-01-08&#x27;,\n",
              "               &#x27;2001-01-09&#x27;, &#x27;2001-01-10&#x27;,\n",
              "               ...\n",
              "               &#x27;2010-12-22&#x27;, &#x27;2010-12-23&#x27;, &#x27;2010-12-24&#x27;, &#x27;2010-12-25&#x27;,\n",
              "               &#x27;2010-12-26&#x27;, &#x27;2010-12-27&#x27;, &#x27;2010-12-28&#x27;, &#x27;2010-12-29&#x27;,\n",
              "               &#x27;2010-12-30&#x27;, &#x27;2010-12-31&#x27;],\n",
              "              dtype=&#x27;datetime64[ns]&#x27;, name=&#x27;datetime&#x27;, length=3652, freq=None))</pre></div></li></ul></div></li><li class='xr-section-item'><input id='section-478ae33e-dff5-42fb-be7f-46ef8cf7e49f' class='xr-section-summary-in' type='checkbox' disabled ><label for='section-478ae33e-dff5-42fb-be7f-46ef8cf7e49f' class='xr-section-summary'  title='Expand/collapse section'>Attributes: <span>(0)</span></label><div class='xr-section-inline-details'></div><div class='xr-section-details'><dl class='xr-attrs'></dl></div></li></ul></div></div>"
            ],
            "text/plain": [
              "<xarray.Dataset> Size: 734MB\n",
              "Dimensions:   (lat: 158, long: 159, datetime: 3652)\n",
              "Coordinates:\n",
              "  * lat       (lat) float64 1kB -33.88 -33.62 -33.38 ... 4.875 5.125 5.375\n",
              "  * long      (long) float64 1kB -74.12 -73.88 -73.62 ... -35.12 -34.88 -34.62\n",
              "  * datetime  (datetime) datetime64[ns] 29kB 2001-01-01 ... 2010-12-31\n",
              "Data variables:\n",
              "    rain_mm   (lat, long, datetime) float64 734MB ..."
            ]
          },
          "execution_count": 17,
          "metadata": {},
          "output_type": "execute_result"
        }
      ],
      "source": [
        "df_teste = xr.open_dataset(output_filename)\n",
        "df_teste"
      ]
    }
  ],
  "metadata": {
    "accelerator": "TPU",
    "colab": {
      "gpuType": "V5E1",
      "machine_shape": "hm",
      "provenance": []
    },
    "kernelspec": {
      "display_name": "Python 3",
      "name": "python3"
    },
    "language_info": {
      "codemirror_mode": {
        "name": "ipython",
        "version": 3
      },
      "file_extension": ".py",
      "mimetype": "text/x-python",
      "name": "python",
      "nbconvert_exporter": "python",
      "pygments_lexer": "ipython3",
      "version": "3.11.10"
    }
  },
  "nbformat": 4,
  "nbformat_minor": 5
}
