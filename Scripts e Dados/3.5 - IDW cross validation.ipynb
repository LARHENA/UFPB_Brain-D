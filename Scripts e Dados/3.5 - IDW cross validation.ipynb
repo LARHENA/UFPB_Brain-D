{
 "cells": [
  {
   "cell_type": "code",
   "execution_count": 5,
   "id": "dc9ee7ac",
   "metadata": {},
   "outputs": [],
   "source": [
    "import pandas as pd\n",
    "import numpy as np\n",
    "from scipy.spatial import KDTree\n",
    "import os\n",
    "from joblib import Parallel, delayed"
   ]
  },
  {
   "cell_type": "code",
   "execution_count": 6,
   "id": "93870a92",
   "metadata": {},
   "outputs": [],
   "source": [
    "def idw_interpolation(latitude, longitude, df_temp_without_gauge, kdtree, p=2):\n",
    "    row = [latitude, longitude]\n",
    "    distances, indices = kdtree.query(row, k=5)\n",
    "    weights = 1 / (distances + 1e-6) ** p\n",
    "    values = df_temp_without_gauge.iloc[indices]['rain_mm'].values\n",
    "    return (np.sum(weights * values) / np.sum(weights))"
   ]
  },
  {
   "cell_type": "code",
   "execution_count": 7,
   "id": "025b2fce",
   "metadata": {},
   "outputs": [],
   "source": [
    "def process_date(ref_date, df_total, crossvalidation_path):\n",
    "    df_temp = df_total[(df_total['datetime'] == ref_date)]\n",
    "    gauges_loop = list(df_temp['gauge_code'].unique())\n",
    "    result_list = []\n",
    "    for gauge_code in gauges_loop[:]:\n",
    "        df_result = pd.DataFrame(columns=['gauge_code','datetime', \"lat\", \"long\",  'interpolated_rain_mm', 'rain_mm'])\n",
    "\n",
    "        index = (df_temp[df_temp['gauge_code']==gauge_code]).index[0]\n",
    "        latitude = df_temp.loc[index, \"lat\"]\n",
    "        longitude = df_temp.loc[index, \"long\"]\n",
    "        ground_value = df_temp.loc[index, \"rain_mm\"]\n",
    "\n",
    "        df_temp_without_gauge = df_temp[df_temp['gauge_code'] != gauge_code]\n",
    "\n",
    "        locations = df_temp_without_gauge[['lat', 'long']].values\n",
    "        kdtree = KDTree(locations)        \n",
    "\n",
    "        interpolated_value = idw_interpolation(latitude, longitude, df_temp_without_gauge, kdtree)\n",
    "        del df_temp_without_gauge, locations, kdtree\n",
    "        \n",
    "        df_result.loc[len(df_result)] = [gauge_code, ref_date, latitude, longitude, interpolated_value, ground_value]\n",
    "        result_list.append(df_result)\n",
    "    del df_temp\n",
    "    \n",
    "    df_final_result = pd.concat(result_list, ignore_index=True).drop_duplicates(ignore_index=True).sort_values('datetime', ignore_index=True)\n",
    "    del result_list\n",
    "    output_path = os.path.join(crossvalidation_path, f\"{ref_date.date().strftime('%Y_%m_%d')}_crossvalidation.h5\")\n",
    "    print(output_path)\n",
    "    df_final_result.to_hdf(output_path\n",
    "                            , key = 'table_crossvalidation'\n",
    "                            , mode = 'w'\n",
    "                            , append = False\n",
    "                            , complevel = 9\n",
    "                            , encoding=\"utf-8\")\n",
    "    del df_final_result"
   ]
  },
  {
   "cell_type": "code",
   "execution_count": 8,
   "id": "32a53ccb",
   "metadata": {},
   "outputs": [
    {
     "name": "stdout",
     "output_type": "stream",
     "text": [
      "data processing start...\n",
      "\n",
      "data processing end...\n"
     ]
    }
   ],
   "source": [
    "def main():\n",
    "    file_path = './1 - Organized data gauge/BRAZIL/DATASETS/BRAZIL_DAILY_1961_2024_QC.h5'\n",
    "    crossvalidation_path = './1 - Organized data gauge/BRAZIL/CROSSVALIDATION'\n",
    "\n",
    "    start_date = '2021-01-01'\n",
    "    end_date = '2024-12-31'\n",
    "    \n",
    "    df_info = pd.read_hdf(file_path, key='table_info')\n",
    "    df_data = pd.read_hdf(file_path, key='table_data')\n",
    "    df_total = pd.merge(df_data, df_info, on='gauge_code', how='left')\n",
    "    del df_data, df_info\n",
    "\n",
    "    df_total = df_total.loc[(df_total['datetime'] >= start_date) & (df_total['datetime'] <= end_date)].sort_values('datetime', ignore_index=True, ascending=True)\n",
    "    date_list = df_total['datetime'].unique().tolist()\n",
    "\n",
    "    print('data processing start...')\n",
    "    Parallel(n_jobs=-2)(delayed(process_date)(ref_date, df_total, crossvalidation_path) for ref_date in date_list)\n",
    "    \n",
    "    del df_total\n",
    "    print('\\ndata processing end...')\n",
    "\n",
    "if __name__ == \"__main__\":\n",
    "    main()"
   ]
  }
 ],
 "metadata": {
  "kernelspec": {
   "display_name": "base",
   "language": "python",
   "name": "python3"
  },
  "language_info": {
   "codemirror_mode": {
    "name": "ipython",
    "version": 3
   },
   "file_extension": ".py",
   "mimetype": "text/x-python",
   "name": "python",
   "nbconvert_exporter": "python",
   "pygments_lexer": "ipython3",
   "version": "3.11.10"
  }
 },
 "nbformat": 4,
 "nbformat_minor": 5
}
