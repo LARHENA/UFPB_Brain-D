{
 "cells": [
  {
   "cell_type": "code",
   "execution_count": 153,
   "id": "1dc5a7bd",
   "metadata": {},
   "outputs": [],
   "source": [
    "import pandas as pd\n",
    "import numpy as np\n",
    "import os\n",
    "import math\n",
    "import glob\n",
    "from datetime import datetime\n",
    "from datetime import timedelta\n",
    "import h5py\n",
    "import matplotlib as mpl\n",
    "import matplotlib.pyplot as plt\n",
    "import seaborn as sns\n",
    "from scipy.spatial import KDTree\n",
    "import time"
   ]
  },
  {
   "cell_type": "code",
   "execution_count": 97,
   "id": "ef066f18",
   "metadata": {},
   "outputs": [],
   "source": [
    "cemaden_path = r'.\\1 - Organized data gauge\\BRAZIL\\QC_VALIDATION\\DATASET\\BRASIL_CEMADEN_TOTAL_DAILY_V2.h5'"
   ]
  },
  {
   "cell_type": "code",
   "execution_count": 98,
   "id": "1c30eacf",
   "metadata": {},
   "outputs": [],
   "source": [
    "def calculate_quality_label(row):\n",
    "    if row['quality_index'] >= 90 and row['p_availability'] >= 99:\n",
    "        return '1 - Excellent Quality'\n",
    "    elif row['quality_index'] >= 85 and row['p_availability'] >= 95:\n",
    "        return '2 - Good Quality'\n",
    "    elif row['quality_index'] >= 80 and row['p_availability'] >= 90:\n",
    "        return '3 - Acceptable Quality'\n",
    "    elif row['quality_index'] >= 50:\n",
    "        return '4 - Low Quality'\n",
    "    else:\n",
    "        return '5 - Very Low Quality'\n",
    "    \n",
    "    # row['q1_gaps'] < 90 or row['q2_week'] < 60 or row['q3_outliers'] < 60:\n",
    "    #  return '5 - Very Low Quality'\n",
    "    # elif"
   ]
  },
  {
   "cell_type": "code",
   "execution_count": 99,
   "id": "e5e231b9",
   "metadata": {},
   "outputs": [],
   "source": [
    "def absolute_quality_label(row):\n",
    "    if row['quality_label'] in ['Excellent Quality', 'Good Quality', 'Acceptable Quality']:\n",
    "        return 'HQ'\n",
    "    elif row['quality_label'] in ['Low Quality', 'Very Low Quality']:\n",
    "        return 'LQ'\n",
    "    else:\n",
    "        return 'Unknown'"
   ]
  },
  {
   "cell_type": "markdown",
   "id": "a5baccb2",
   "metadata": {},
   "source": [
    "# Reading data"
   ]
  },
  {
   "cell_type": "code",
   "execution_count": 100,
   "id": "b34e5af5",
   "metadata": {},
   "outputs": [
    {
     "data": {
      "application/vnd.microsoft.datawrangler.viewer.v0+json": {
       "columns": [
        {
         "name": "index",
         "rawType": "int64",
         "type": "integer"
        },
        {
         "name": "gauge_code",
         "rawType": "object",
         "type": "string"
        },
        {
         "name": "datetime",
         "rawType": "datetime64[ns]",
         "type": "datetime"
        },
        {
         "name": "rain_mm",
         "rawType": "float64",
         "type": "float"
        }
       ],
       "conversionMethod": "pd.DataFrame",
       "ref": "a970ad42-acd3-482d-978b-ac20ef820d23",
       "rows": [
        [
         "0",
         "230370901A",
         "2014-01-01 00:00:00",
         "0.0"
        ],
        [
         "1",
         "230370902A",
         "2014-01-01 00:00:00",
         "0.0"
        ],
        [
         "2",
         "230370903A",
         "2014-01-01 00:00:00",
         "0.0"
        ],
        [
         "3",
         "230370904A",
         "2014-01-01 00:00:00",
         "0.0"
        ],
        [
         "4",
         "230370905A",
         "2014-01-01 00:00:00",
         "0.0"
        ],
        [
         "5",
         "230370906A",
         "2014-01-01 00:00:00",
         "0.0"
        ],
        [
         "6",
         "230420201A",
         "2014-01-01 00:00:00",
         "0.0"
        ],
        [
         "7",
         "230420202A",
         "2014-01-01 00:00:00",
         "7.300968726"
        ],
        [
         "8",
         "230440003A",
         "2014-01-01 00:00:00",
         "0.590873406"
        ],
        [
         "9",
         "230440004A",
         "2014-01-01 00:00:00",
         "0.0"
        ],
        [
         "10",
         "230440005A",
         "2014-01-01 00:00:00",
         "0.0"
        ],
        [
         "11",
         "230440006A",
         "2014-01-01 00:00:00",
         "0.0"
        ],
        [
         "12",
         "230440007A",
         "2014-01-01 00:00:00",
         "0.0"
        ],
        [
         "13",
         "230440008A",
         "2014-01-01 00:00:00",
         "0.0"
        ],
        [
         "14",
         "230440009A",
         "2014-01-01 00:00:00",
         "0.0"
        ],
        [
         "15",
         "230440010A",
         "2014-01-01 00:00:00",
         "0.0"
        ],
        [
         "16",
         "230440011A",
         "2014-01-01 00:00:00",
         "0.0"
        ],
        [
         "17",
         "230440012A",
         "2014-01-01 00:00:00",
         "0.0"
        ],
        [
         "18",
         "230440014A",
         "2014-01-01 00:00:00",
         "0.2"
        ],
        [
         "19",
         "230440015A",
         "2014-01-01 00:00:00",
         "0.2"
        ],
        [
         "20",
         "230440016A",
         "2014-01-01 00:00:00",
         "0.0"
        ],
        [
         "21",
         "230700701A",
         "2014-01-01 00:00:00",
         "0.0"
        ],
        [
         "22",
         "230700703A",
         "2014-01-01 00:00:00",
         "0.0"
        ],
        [
         "23",
         "230700704A",
         "2014-01-01 00:00:00",
         "0.0"
        ],
        [
         "24",
         "230700705A",
         "2014-01-01 00:00:00",
         "0.0"
        ],
        [
         "25",
         "230700706A",
         "2014-01-01 00:00:00",
         "0.0"
        ],
        [
         "26",
         "230730401A",
         "2014-01-01 00:00:00",
         "0.0"
        ],
        [
         "27",
         "230870802A",
         "2014-01-01 00:00:00",
         "0.0"
        ],
        [
         "28",
         "230870803A",
         "2014-01-01 00:00:00",
         "0.0"
        ],
        [
         "29",
         "230870804A",
         "2014-01-01 00:00:00",
         "0.0"
        ],
        [
         "30",
         "230870805A",
         "2014-01-01 00:00:00",
         "0.0"
        ],
        [
         "31",
         "231140501A",
         "2014-01-01 00:00:00",
         "0.0"
        ],
        [
         "32",
         "230370901A",
         "2014-01-02 00:00:00",
         "0.7943869990000001"
        ],
        [
         "33",
         "230370902A",
         "2014-01-02 00:00:00",
         "0.6000000000000001"
        ],
        [
         "34",
         "230370903A",
         "2014-01-02 00:00:00",
         "0.2"
        ],
        [
         "35",
         "230370904A",
         "2014-01-02 00:00:00",
         "0.9877522320000001"
        ],
        [
         "36",
         "230370905A",
         "2014-01-02 00:00:00",
         "2.762563873"
        ],
        [
         "37",
         "230370906A",
         "2014-01-02 00:00:00",
         "3.738776388"
        ],
        [
         "38",
         "230420201A",
         "2014-01-02 00:00:00",
         "0.0"
        ],
        [
         "39",
         "230420202A",
         "2014-01-02 00:00:00",
         "38.97680381"
        ],
        [
         "40",
         "230440003A",
         "2014-01-02 00:00:00",
         "1.38536"
        ],
        [
         "41",
         "230440004A",
         "2014-01-02 00:00:00",
         "2.956128658"
        ],
        [
         "42",
         "230440005A",
         "2014-01-02 00:00:00",
         "0.593818967"
        ],
        [
         "43",
         "230440006A",
         "2014-01-02 00:00:00",
         "3.1560103820000003"
        ],
        [
         "44",
         "230440007A",
         "2014-01-02 00:00:00",
         "0.98902"
        ],
        [
         "45",
         "230440008A",
         "2014-01-02 00:00:00",
         "3.737033184"
        ],
        [
         "46",
         "230440009A",
         "2014-01-02 00:00:00",
         "4.332683332"
        ],
        [
         "47",
         "230440010A",
         "2014-01-02 00:00:00",
         "4.333515095999999"
        ],
        [
         "48",
         "230440011A",
         "2014-01-02 00:00:00",
         "3.545981325"
        ],
        [
         "49",
         "230440012A",
         "2014-01-02 00:00:00",
         "22.639981095"
        ]
       ],
       "shape": {
        "columns": 3,
        "rows": 11236374
       }
      },
      "text/html": [
       "<div>\n",
       "<style scoped>\n",
       "    .dataframe tbody tr th:only-of-type {\n",
       "        vertical-align: middle;\n",
       "    }\n",
       "\n",
       "    .dataframe tbody tr th {\n",
       "        vertical-align: top;\n",
       "    }\n",
       "\n",
       "    .dataframe thead th {\n",
       "        text-align: right;\n",
       "    }\n",
       "</style>\n",
       "<table border=\"1\" class=\"dataframe\">\n",
       "  <thead>\n",
       "    <tr style=\"text-align: right;\">\n",
       "      <th></th>\n",
       "      <th>gauge_code</th>\n",
       "      <th>datetime</th>\n",
       "      <th>rain_mm</th>\n",
       "    </tr>\n",
       "  </thead>\n",
       "  <tbody>\n",
       "    <tr>\n",
       "      <th>0</th>\n",
       "      <td>230370901A</td>\n",
       "      <td>2014-01-01</td>\n",
       "      <td>0.0</td>\n",
       "    </tr>\n",
       "    <tr>\n",
       "      <th>1</th>\n",
       "      <td>230370902A</td>\n",
       "      <td>2014-01-01</td>\n",
       "      <td>0.0</td>\n",
       "    </tr>\n",
       "    <tr>\n",
       "      <th>2</th>\n",
       "      <td>230370903A</td>\n",
       "      <td>2014-01-01</td>\n",
       "      <td>0.0</td>\n",
       "    </tr>\n",
       "    <tr>\n",
       "      <th>3</th>\n",
       "      <td>230370904A</td>\n",
       "      <td>2014-01-01</td>\n",
       "      <td>0.0</td>\n",
       "    </tr>\n",
       "    <tr>\n",
       "      <th>4</th>\n",
       "      <td>230370905A</td>\n",
       "      <td>2014-01-01</td>\n",
       "      <td>0.0</td>\n",
       "    </tr>\n",
       "    <tr>\n",
       "      <th>...</th>\n",
       "      <td>...</td>\n",
       "      <td>...</td>\n",
       "      <td>...</td>\n",
       "    </tr>\n",
       "    <tr>\n",
       "      <th>11236369</th>\n",
       "      <td>530010801A</td>\n",
       "      <td>2024-12-31</td>\n",
       "      <td>0.2</td>\n",
       "    </tr>\n",
       "    <tr>\n",
       "      <th>11236370</th>\n",
       "      <td>530010802A</td>\n",
       "      <td>2024-12-31</td>\n",
       "      <td>0.0</td>\n",
       "    </tr>\n",
       "    <tr>\n",
       "      <th>11236371</th>\n",
       "      <td>530010803A</td>\n",
       "      <td>2024-12-31</td>\n",
       "      <td>2.0</td>\n",
       "    </tr>\n",
       "    <tr>\n",
       "      <th>11236372</th>\n",
       "      <td>530010804A</td>\n",
       "      <td>2024-12-31</td>\n",
       "      <td>0.2</td>\n",
       "    </tr>\n",
       "    <tr>\n",
       "      <th>11236373</th>\n",
       "      <td>530010805A</td>\n",
       "      <td>2024-12-31</td>\n",
       "      <td>1.6</td>\n",
       "    </tr>\n",
       "  </tbody>\n",
       "</table>\n",
       "<p>11236374 rows × 3 columns</p>\n",
       "</div>"
      ],
      "text/plain": [
       "          gauge_code   datetime  rain_mm\n",
       "0         230370901A 2014-01-01      0.0\n",
       "1         230370902A 2014-01-01      0.0\n",
       "2         230370903A 2014-01-01      0.0\n",
       "3         230370904A 2014-01-01      0.0\n",
       "4         230370905A 2014-01-01      0.0\n",
       "...              ...        ...      ...\n",
       "11236369  530010801A 2024-12-31      0.2\n",
       "11236370  530010802A 2024-12-31      0.0\n",
       "11236371  530010803A 2024-12-31      2.0\n",
       "11236372  530010804A 2024-12-31      0.2\n",
       "11236373  530010805A 2024-12-31      1.6\n",
       "\n",
       "[11236374 rows x 3 columns]"
      ]
     },
     "execution_count": 100,
     "metadata": {},
     "output_type": "execute_result"
    }
   ],
   "source": [
    "df_cemaden_data = pd.read_hdf(cemaden_path, key='table_data')\n",
    "# df_cemaden_data.pop('index')\n",
    "df_cemaden_data"
   ]
  },
  {
   "cell_type": "code",
   "execution_count": 101,
   "id": "cc7cbce0",
   "metadata": {},
   "outputs": [
    {
     "data": {
      "application/vnd.microsoft.datawrangler.viewer.v0+json": {
       "columns": [
        {
         "name": "index",
         "rawType": "int64",
         "type": "integer"
        },
        {
         "name": "gauge_code",
         "rawType": "object",
         "type": "string"
        },
        {
         "name": "datetime",
         "rawType": "datetime64[ns]",
         "type": "datetime"
        },
        {
         "name": "rain_mm",
         "rawType": "float64",
         "type": "float"
        },
        {
         "name": "year",
         "rawType": "int32",
         "type": "integer"
        }
       ],
       "conversionMethod": "pd.DataFrame",
       "ref": "39ea1bc6-df7d-4932-a24a-27d9c35f687c",
       "rows": [
        [
         "0",
         "230370901A",
         "2014-01-01 00:00:00",
         "0.0",
         "2014"
        ],
        [
         "1",
         "230370902A",
         "2014-01-01 00:00:00",
         "0.0",
         "2014"
        ],
        [
         "2",
         "230370903A",
         "2014-01-01 00:00:00",
         "0.0",
         "2014"
        ],
        [
         "3",
         "230370904A",
         "2014-01-01 00:00:00",
         "0.0",
         "2014"
        ],
        [
         "4",
         "230370905A",
         "2014-01-01 00:00:00",
         "0.0",
         "2014"
        ],
        [
         "5",
         "230370906A",
         "2014-01-01 00:00:00",
         "0.0",
         "2014"
        ],
        [
         "6",
         "230420201A",
         "2014-01-01 00:00:00",
         "0.0",
         "2014"
        ],
        [
         "7",
         "230420202A",
         "2014-01-01 00:00:00",
         "7.300968726",
         "2014"
        ],
        [
         "8",
         "230440003A",
         "2014-01-01 00:00:00",
         "0.590873406",
         "2014"
        ],
        [
         "9",
         "230440004A",
         "2014-01-01 00:00:00",
         "0.0",
         "2014"
        ],
        [
         "10",
         "230440005A",
         "2014-01-01 00:00:00",
         "0.0",
         "2014"
        ],
        [
         "11",
         "230440006A",
         "2014-01-01 00:00:00",
         "0.0",
         "2014"
        ],
        [
         "12",
         "230440007A",
         "2014-01-01 00:00:00",
         "0.0",
         "2014"
        ],
        [
         "13",
         "230440008A",
         "2014-01-01 00:00:00",
         "0.0",
         "2014"
        ],
        [
         "14",
         "230440009A",
         "2014-01-01 00:00:00",
         "0.0",
         "2014"
        ],
        [
         "15",
         "230440010A",
         "2014-01-01 00:00:00",
         "0.0",
         "2014"
        ],
        [
         "16",
         "230440011A",
         "2014-01-01 00:00:00",
         "0.0",
         "2014"
        ],
        [
         "17",
         "230440012A",
         "2014-01-01 00:00:00",
         "0.0",
         "2014"
        ],
        [
         "18",
         "230440014A",
         "2014-01-01 00:00:00",
         "0.2",
         "2014"
        ],
        [
         "19",
         "230440015A",
         "2014-01-01 00:00:00",
         "0.2",
         "2014"
        ],
        [
         "20",
         "230440016A",
         "2014-01-01 00:00:00",
         "0.0",
         "2014"
        ],
        [
         "21",
         "230700701A",
         "2014-01-01 00:00:00",
         "0.0",
         "2014"
        ],
        [
         "22",
         "230700703A",
         "2014-01-01 00:00:00",
         "0.0",
         "2014"
        ],
        [
         "23",
         "230700704A",
         "2014-01-01 00:00:00",
         "0.0",
         "2014"
        ],
        [
         "24",
         "230700705A",
         "2014-01-01 00:00:00",
         "0.0",
         "2014"
        ],
        [
         "25",
         "230700706A",
         "2014-01-01 00:00:00",
         "0.0",
         "2014"
        ],
        [
         "26",
         "230730401A",
         "2014-01-01 00:00:00",
         "0.0",
         "2014"
        ],
        [
         "27",
         "230870802A",
         "2014-01-01 00:00:00",
         "0.0",
         "2014"
        ],
        [
         "28",
         "230870803A",
         "2014-01-01 00:00:00",
         "0.0",
         "2014"
        ],
        [
         "29",
         "230870804A",
         "2014-01-01 00:00:00",
         "0.0",
         "2014"
        ],
        [
         "30",
         "230870805A",
         "2014-01-01 00:00:00",
         "0.0",
         "2014"
        ],
        [
         "31",
         "231140501A",
         "2014-01-01 00:00:00",
         "0.0",
         "2014"
        ],
        [
         "32",
         "230370901A",
         "2014-01-02 00:00:00",
         "0.7943869990000001",
         "2014"
        ],
        [
         "33",
         "230370902A",
         "2014-01-02 00:00:00",
         "0.6000000000000001",
         "2014"
        ],
        [
         "34",
         "230370903A",
         "2014-01-02 00:00:00",
         "0.2",
         "2014"
        ],
        [
         "35",
         "230370904A",
         "2014-01-02 00:00:00",
         "0.9877522320000001",
         "2014"
        ],
        [
         "36",
         "230370905A",
         "2014-01-02 00:00:00",
         "2.762563873",
         "2014"
        ],
        [
         "37",
         "230370906A",
         "2014-01-02 00:00:00",
         "3.738776388",
         "2014"
        ],
        [
         "38",
         "230420201A",
         "2014-01-02 00:00:00",
         "0.0",
         "2014"
        ],
        [
         "39",
         "230420202A",
         "2014-01-02 00:00:00",
         "38.97680381",
         "2014"
        ],
        [
         "40",
         "230440003A",
         "2014-01-02 00:00:00",
         "1.38536",
         "2014"
        ],
        [
         "41",
         "230440004A",
         "2014-01-02 00:00:00",
         "2.956128658",
         "2014"
        ],
        [
         "42",
         "230440005A",
         "2014-01-02 00:00:00",
         "0.593818967",
         "2014"
        ],
        [
         "43",
         "230440006A",
         "2014-01-02 00:00:00",
         "3.1560103820000003",
         "2014"
        ],
        [
         "44",
         "230440007A",
         "2014-01-02 00:00:00",
         "0.98902",
         "2014"
        ],
        [
         "45",
         "230440008A",
         "2014-01-02 00:00:00",
         "3.737033184",
         "2014"
        ],
        [
         "46",
         "230440009A",
         "2014-01-02 00:00:00",
         "4.332683332",
         "2014"
        ],
        [
         "47",
         "230440010A",
         "2014-01-02 00:00:00",
         "4.333515095999999",
         "2014"
        ],
        [
         "48",
         "230440011A",
         "2014-01-02 00:00:00",
         "3.545981325",
         "2014"
        ],
        [
         "49",
         "230440012A",
         "2014-01-02 00:00:00",
         "22.639981095",
         "2014"
        ]
       ],
       "shape": {
        "columns": 4,
        "rows": 6808968
       }
      },
      "text/html": [
       "<div>\n",
       "<style scoped>\n",
       "    .dataframe tbody tr th:only-of-type {\n",
       "        vertical-align: middle;\n",
       "    }\n",
       "\n",
       "    .dataframe tbody tr th {\n",
       "        vertical-align: top;\n",
       "    }\n",
       "\n",
       "    .dataframe thead th {\n",
       "        text-align: right;\n",
       "    }\n",
       "</style>\n",
       "<table border=\"1\" class=\"dataframe\">\n",
       "  <thead>\n",
       "    <tr style=\"text-align: right;\">\n",
       "      <th></th>\n",
       "      <th>gauge_code</th>\n",
       "      <th>datetime</th>\n",
       "      <th>rain_mm</th>\n",
       "      <th>year</th>\n",
       "    </tr>\n",
       "  </thead>\n",
       "  <tbody>\n",
       "    <tr>\n",
       "      <th>0</th>\n",
       "      <td>230370901A</td>\n",
       "      <td>2014-01-01</td>\n",
       "      <td>0.00</td>\n",
       "      <td>2014</td>\n",
       "    </tr>\n",
       "    <tr>\n",
       "      <th>1</th>\n",
       "      <td>230370902A</td>\n",
       "      <td>2014-01-01</td>\n",
       "      <td>0.00</td>\n",
       "      <td>2014</td>\n",
       "    </tr>\n",
       "    <tr>\n",
       "      <th>2</th>\n",
       "      <td>230370903A</td>\n",
       "      <td>2014-01-01</td>\n",
       "      <td>0.00</td>\n",
       "      <td>2014</td>\n",
       "    </tr>\n",
       "    <tr>\n",
       "      <th>3</th>\n",
       "      <td>230370904A</td>\n",
       "      <td>2014-01-01</td>\n",
       "      <td>0.00</td>\n",
       "      <td>2014</td>\n",
       "    </tr>\n",
       "    <tr>\n",
       "      <th>4</th>\n",
       "      <td>230370905A</td>\n",
       "      <td>2014-01-01</td>\n",
       "      <td>0.00</td>\n",
       "      <td>2014</td>\n",
       "    </tr>\n",
       "    <tr>\n",
       "      <th>...</th>\n",
       "      <td>...</td>\n",
       "      <td>...</td>\n",
       "      <td>...</td>\n",
       "      <td>...</td>\n",
       "    </tr>\n",
       "    <tr>\n",
       "      <th>6808963</th>\n",
       "      <td>530010804A</td>\n",
       "      <td>2020-12-31</td>\n",
       "      <td>25.00</td>\n",
       "      <td>2020</td>\n",
       "    </tr>\n",
       "    <tr>\n",
       "      <th>6808964</th>\n",
       "      <td>530010805A</td>\n",
       "      <td>2020-12-31</td>\n",
       "      <td>0.00</td>\n",
       "      <td>2020</td>\n",
       "    </tr>\n",
       "    <tr>\n",
       "      <th>6808965</th>\n",
       "      <td>CEMADEN_10</td>\n",
       "      <td>2020-12-31</td>\n",
       "      <td>0.79</td>\n",
       "      <td>2020</td>\n",
       "    </tr>\n",
       "    <tr>\n",
       "      <th>6808966</th>\n",
       "      <td>CEMADEN_11</td>\n",
       "      <td>2020-12-31</td>\n",
       "      <td>1.38</td>\n",
       "      <td>2020</td>\n",
       "    </tr>\n",
       "    <tr>\n",
       "      <th>6808967</th>\n",
       "      <td>CEMADEN_12</td>\n",
       "      <td>2020-12-31</td>\n",
       "      <td>0.98</td>\n",
       "      <td>2020</td>\n",
       "    </tr>\n",
       "  </tbody>\n",
       "</table>\n",
       "<p>6808968 rows × 4 columns</p>\n",
       "</div>"
      ],
      "text/plain": [
       "         gauge_code   datetime  rain_mm  year\n",
       "0        230370901A 2014-01-01     0.00  2014\n",
       "1        230370902A 2014-01-01     0.00  2014\n",
       "2        230370903A 2014-01-01     0.00  2014\n",
       "3        230370904A 2014-01-01     0.00  2014\n",
       "4        230370905A 2014-01-01     0.00  2014\n",
       "...             ...        ...      ...   ...\n",
       "6808963  530010804A 2020-12-31    25.00  2020\n",
       "6808964  530010805A 2020-12-31     0.00  2020\n",
       "6808965  CEMADEN_10 2020-12-31     0.79  2020\n",
       "6808966  CEMADEN_11 2020-12-31     1.38  2020\n",
       "6808967  CEMADEN_12 2020-12-31     0.98  2020\n",
       "\n",
       "[6808968 rows x 4 columns]"
      ]
     },
     "execution_count": 101,
     "metadata": {},
     "output_type": "execute_result"
    }
   ],
   "source": [
    "df_cemaden_data['year'] = df_cemaden_data['datetime'].dt.year\n",
    "df_cemaden_data = df_cemaden_data[(df_cemaden_data['year']<= 2020)\n",
    "                                    & (df_cemaden_data['rain_mm']>= 0.0)\n",
    "                                    & (df_cemaden_data['rain_mm']<= 600.0)\n",
    "                                    ].reset_index(drop=True)\n",
    "# df_cemaden_data.pop('index')\n",
    "df_cemaden_data"
   ]
  },
  {
   "cell_type": "code",
   "execution_count": 102,
   "id": "97f13968",
   "metadata": {},
   "outputs": [
    {
     "data": {
      "application/vnd.microsoft.datawrangler.viewer.v0+json": {
       "columns": [
        {
         "name": "index",
         "rawType": "int64",
         "type": "integer"
        },
        {
         "name": "gauge_code",
         "rawType": "object",
         "type": "string"
        },
        {
         "name": "state",
         "rawType": "object",
         "type": "string"
        },
        {
         "name": "city",
         "rawType": "object",
         "type": "string"
        },
        {
         "name": "name_station",
         "rawType": "object",
         "type": "string"
        },
        {
         "name": "long",
         "rawType": "float64",
         "type": "float"
        },
        {
         "name": "lat",
         "rawType": "float64",
         "type": "float"
        }
       ],
       "conversionMethod": "pd.DataFrame",
       "ref": "9cb64409-a8f1-4708-b68d-b78bcc61be09",
       "rows": [
        [
         "0",
         "120010401A",
         "AC",
         "BRASILÉIA",
         "Centro",
         "-68.740939",
         "-11.012469"
        ],
        [
         "1",
         "120032801A",
         "AC",
         "JORDÃO",
         "Centro",
         "-71.950808",
         "-9.190133"
        ],
        [
         "2",
         "120040101A",
         "AC",
         "RIO BRANCO",
         "AC Oca",
         "-67.806662",
         "-9.972969"
        ],
        [
         "3",
         "120040102H",
         "AC",
         "RIO BRANCO",
         "Igarape Sao Francisco",
         "-67.81998",
         "-9.945025"
        ],
        [
         "4",
         "120040101H",
         "AC",
         "RIO BRANCO",
         "Igarape Judia",
         "-67.880229",
         "-9.937753"
        ],
        [
         "5",
         "120040102A",
         "AC",
         "Rio Branco",
         "Centro",
         "-67.816956",
         "-9.969802"
        ],
        [
         "6",
         "120070801A",
         "AC",
         "XAPURI",
         "Cageacre",
         "-68.485844",
         "-10.665833"
        ],
        [
         "7",
         "270030001C",
         "AL",
         "ARAPIRACA",
         "ARAPIRACA",
         "-36.561982",
         "-9.801053999999999"
        ],
        [
         "8",
         "270060701A",
         "AL",
         "BARRA DE SÃO MIGUEL",
         "Alto da Barra",
         "-35.903",
         "-9.829"
        ],
        [
         "9",
         "270090401C",
         "AL",
         "BELO MONTE",
         "BELO MONTE",
         "-37.159687",
         "-9.805183"
        ],
        [
         "10",
         "270110001A",
         "AL",
         "BRANQUINHA",
         "Branquinha01",
         "-36.014",
         "-9.248"
        ],
        [
         "11",
         "270130801A",
         "AL",
         "CAJUEIRO",
         "Fazenda Poço Grande",
         "-36.14565",
         "-9.39315"
        ],
        [
         "12",
         "270135701A",
         "AL",
         "CAMPESTRE",
         "Campestre",
         "-35.56738",
         "-8.85219"
        ],
        [
         "13",
         "270160501C",
         "AL",
         "CANAPI",
         "CANAPI",
         "-37.53562",
         "-9.185139999999999"
        ],
        [
         "14",
         "270170401A",
         "AL",
         "CAPELA",
         "Capela01",
         "-36.077",
         "-9.413"
        ],
        [
         "15",
         "270210801A",
         "AL",
         "COLÔNIA LEOPOLDINA",
         "Centro",
         "-35.716296",
         "-8.909571000000001"
        ],
        [
         "16",
         "270230603A",
         "AL",
         "CORURIPE",
         "Vassouras",
         "-36.171095",
         "-10.130025"
        ],
        [
         "17",
         "270230602A",
         "AL",
         "CORURIPE",
         "Centro",
         "-36.179107",
         "-10.122438"
        ],
        [
         "18",
         "270235501C",
         "AL",
         "CRAÍBAS",
         "CRAÍBAS",
         "-36.759578",
         "-9.643141"
        ],
        [
         "19",
         "270240501C",
         "AL",
         "DELMIRO GOUVEIA",
         "DELMIRO GOUVEIA",
         "-38.01138",
         "-9.42307"
        ],
        [
         "20",
         "270255301C",
         "AL",
         "ESTRELA DE ALAGOAS",
         "ESTRELA DE ALAGOAS",
         "-36.7883",
         "-9.44265"
        ],
        [
         "21",
         "270270201A",
         "AL",
         "FELIZ DESERTO",
         "Centro",
         "-36.309014",
         "-10.292398"
        ],
        [
         "22",
         "270290001C",
         "AL",
         "GIRAU DO PONCIANO",
         "GIRAU DO PONCIANO",
         "-36.777773",
         "-9.900975"
        ],
        [
         "23",
         "270330401C",
         "AL",
         "INHAPI",
         "INHAPI",
         "-37.667574",
         "-9.262886"
        ],
        [
         "24",
         "270380901A",
         "AL",
         "JOAQUIM GOMES",
         "Centro",
         "-35.748141",
         "-9.13584"
        ],
        [
         "25",
         "270420301A",
         "AL",
         "LIMOEIRO DE ANADIA",
         "Centro",
         "-36.504822",
         "-9.741066"
        ],
        [
         "26",
         "270430209A",
         "AL",
         "MACEIÓ",
         "Trapiche da Barra",
         "-35.778",
         "-9.696"
        ],
        [
         "27",
         "270430218A",
         "AL",
         "MACEIÓ",
         "Cambona",
         "-35.743",
         "-9.649"
        ],
        [
         "28",
         "270430203A",
         "AL",
         "MACEIÓ",
         "Farol",
         "-35.735",
         "-9.641"
        ],
        [
         "29",
         "270430212A",
         "AL",
         "MACEIÓ",
         "Cruz das Almas",
         "-35.707",
         "-9.632"
        ],
        [
         "30",
         "270430207A",
         "AL",
         "MACEIÓ",
         "Farol2",
         "-35.737905",
         "-9.628603"
        ],
        [
         "31",
         "270430217A",
         "AL",
         "MACEIÓ",
         "Chã da Jaqueira",
         "-35.748",
         "-9.6214"
        ],
        [
         "32",
         "270430205A",
         "AL",
         "MACEIÓ",
         "Tabuleiro do Martins",
         "-35.76300000000001",
         "-9.587"
        ],
        [
         "33",
         "270430202A",
         "AL",
         "MACEIÓ",
         "Tabuleiro do Martins2",
         "-35.768",
         "-9.581"
        ],
        [
         "34",
         "270430213A",
         "AL",
         "MACEIÓ",
         "Antares",
         "-35.741",
         "-9.573"
        ],
        [
         "35",
         "270430215A",
         "AL",
         "MACEIÓ",
         "USINA DE PROCESSAMENTO DE ASFALTO",
         "-35.79703",
         "-9.56652"
        ],
        [
         "36",
         "270430210A",
         "AL",
         "MACEIÓ",
         "Benedito Bentes I",
         "-35.727",
         "-9.552"
        ],
        [
         "37",
         "270430216A",
         "AL",
         "MACEIÓ",
         "Cidade Universitária",
         "-35.761",
         "-9.55"
        ],
        [
         "38",
         "270430211A",
         "AL",
         "MACEIÓ",
         "Ipioca",
         "-35.608",
         "-9.529"
        ],
        [
         "39",
         "270430214A",
         "AL",
         "MACEIÓ",
         "Ipioca",
         "-35.623",
         "-9.527999999999999"
        ],
        [
         "40",
         "270440101C",
         "AL",
         "MAJOR ISIDORO",
         "MAJOR ISIDORO",
         "-37.10839",
         "-9.58772"
        ],
        [
         "41",
         "270450001A",
         "AL",
         "MARAGOGI",
         "Centro",
         "-35.223",
         "-9.015"
        ],
        [
         "42",
         "270460901C",
         "AL",
         "MARAVILHA",
         "MARAVILHA",
         "-37.32165999999999",
         "-9.2121"
        ],
        [
         "43",
         "270470801A",
         "AL",
         "MARECHAL DEODORO",
         "Centro",
         "-35.894",
         "-9.717"
        ],
        [
         "44",
         "270500201U",
         "AL",
         "MATA GRANDE",
         "MATA GRANDE",
         "-37.65852",
         "-9.10208"
        ],
        [
         "45",
         "270510101H",
         "AL",
         "MATRIZ DE CAMARAGIBE",
         "Matriz de Camaragibe",
         "-35.5391",
         "-9.1596"
        ],
        [
         "46",
         "270510101A",
         "AL",
         "MATRIZ DE CAMARAGIBE",
         "Hospital Municipal",
         "-35.53084",
         "-9.15748"
        ],
        [
         "47",
         "270550702H",
         "AL",
         "MURICI",
         "Murici",
         "-35.9507",
         "-9.314"
        ],
        [
         "48",
         "270550701A",
         "AL",
         "MURICI",
         "Centro",
         "-35.946",
         "-9.311"
        ],
        [
         "49",
         "270570501C",
         "AL",
         "OLHO D'ÁGUA DAS FLORES",
         "OLHO D ÁGUA DAS FLORES",
         "-37.251444",
         "-9.505514999999999"
        ]
       ],
       "shape": {
        "columns": 6,
        "rows": 4301
       }
      },
      "text/html": [
       "<div>\n",
       "<style scoped>\n",
       "    .dataframe tbody tr th:only-of-type {\n",
       "        vertical-align: middle;\n",
       "    }\n",
       "\n",
       "    .dataframe tbody tr th {\n",
       "        vertical-align: top;\n",
       "    }\n",
       "\n",
       "    .dataframe thead th {\n",
       "        text-align: right;\n",
       "    }\n",
       "</style>\n",
       "<table border=\"1\" class=\"dataframe\">\n",
       "  <thead>\n",
       "    <tr style=\"text-align: right;\">\n",
       "      <th></th>\n",
       "      <th>gauge_code</th>\n",
       "      <th>state</th>\n",
       "      <th>city</th>\n",
       "      <th>name_station</th>\n",
       "      <th>long</th>\n",
       "      <th>lat</th>\n",
       "    </tr>\n",
       "  </thead>\n",
       "  <tbody>\n",
       "    <tr>\n",
       "      <th>0</th>\n",
       "      <td>120010401A</td>\n",
       "      <td>AC</td>\n",
       "      <td>BRASILÉIA</td>\n",
       "      <td>Centro</td>\n",
       "      <td>-68.740939</td>\n",
       "      <td>-11.012469</td>\n",
       "    </tr>\n",
       "    <tr>\n",
       "      <th>1</th>\n",
       "      <td>120032801A</td>\n",
       "      <td>AC</td>\n",
       "      <td>JORDÃO</td>\n",
       "      <td>Centro</td>\n",
       "      <td>-71.950808</td>\n",
       "      <td>-9.190133</td>\n",
       "    </tr>\n",
       "    <tr>\n",
       "      <th>2</th>\n",
       "      <td>120040101A</td>\n",
       "      <td>AC</td>\n",
       "      <td>RIO BRANCO</td>\n",
       "      <td>AC Oca</td>\n",
       "      <td>-67.806662</td>\n",
       "      <td>-9.972969</td>\n",
       "    </tr>\n",
       "    <tr>\n",
       "      <th>3</th>\n",
       "      <td>120040102H</td>\n",
       "      <td>AC</td>\n",
       "      <td>RIO BRANCO</td>\n",
       "      <td>Igarape Sao Francisco</td>\n",
       "      <td>-67.819980</td>\n",
       "      <td>-9.945025</td>\n",
       "    </tr>\n",
       "    <tr>\n",
       "      <th>4</th>\n",
       "      <td>120040101H</td>\n",
       "      <td>AC</td>\n",
       "      <td>RIO BRANCO</td>\n",
       "      <td>Igarape Judia</td>\n",
       "      <td>-67.880229</td>\n",
       "      <td>-9.937753</td>\n",
       "    </tr>\n",
       "    <tr>\n",
       "      <th>...</th>\n",
       "      <td>...</td>\n",
       "      <td>...</td>\n",
       "      <td>...</td>\n",
       "      <td>...</td>\n",
       "      <td>...</td>\n",
       "      <td>...</td>\n",
       "    </tr>\n",
       "    <tr>\n",
       "      <th>4296</th>\n",
       "      <td>171830301A</td>\n",
       "      <td>TO</td>\n",
       "      <td>PRAIA NORTE</td>\n",
       "      <td>Prefeitura Municipal</td>\n",
       "      <td>-47.811400</td>\n",
       "      <td>-5.395600</td>\n",
       "    </tr>\n",
       "    <tr>\n",
       "      <th>4297</th>\n",
       "      <td>171886501A</td>\n",
       "      <td>TO</td>\n",
       "      <td>SANTA FÉ DO ARAGUAIA</td>\n",
       "      <td>Prefeitura Municipal</td>\n",
       "      <td>-48.690830</td>\n",
       "      <td>-7.148690</td>\n",
       "    </tr>\n",
       "    <tr>\n",
       "      <th>4298</th>\n",
       "      <td>172020001A</td>\n",
       "      <td>TO</td>\n",
       "      <td>SÃO MIGUEL DO TOCANTINS</td>\n",
       "      <td>Centro Cultural</td>\n",
       "      <td>-47.577580</td>\n",
       "      <td>-5.552650</td>\n",
       "    </tr>\n",
       "    <tr>\n",
       "      <th>4299</th>\n",
       "      <td>172030901A</td>\n",
       "      <td>TO</td>\n",
       "      <td>SÃO SEBASTIÃO DO TOCANTINS</td>\n",
       "      <td>Viveiro Municipal</td>\n",
       "      <td>-48.202500</td>\n",
       "      <td>-5.261600</td>\n",
       "    </tr>\n",
       "    <tr>\n",
       "      <th>4300</th>\n",
       "      <td>172210701A</td>\n",
       "      <td>TO</td>\n",
       "      <td>XAMBIOÁ</td>\n",
       "      <td>Centro</td>\n",
       "      <td>-48.533743</td>\n",
       "      <td>-6.411258</td>\n",
       "    </tr>\n",
       "  </tbody>\n",
       "</table>\n",
       "<p>4301 rows × 6 columns</p>\n",
       "</div>"
      ],
      "text/plain": [
       "      gauge_code state                        city           name_station  \\\n",
       "0     120010401A    AC                   BRASILÉIA                 Centro   \n",
       "1     120032801A    AC                      JORDÃO                 Centro   \n",
       "2     120040101A    AC                  RIO BRANCO                 AC Oca   \n",
       "3     120040102H    AC                  RIO BRANCO  Igarape Sao Francisco   \n",
       "4     120040101H    AC                  RIO BRANCO          Igarape Judia   \n",
       "...          ...   ...                         ...                    ...   \n",
       "4296  171830301A    TO                 PRAIA NORTE   Prefeitura Municipal   \n",
       "4297  171886501A    TO        SANTA FÉ DO ARAGUAIA   Prefeitura Municipal   \n",
       "4298  172020001A    TO     SÃO MIGUEL DO TOCANTINS        Centro Cultural   \n",
       "4299  172030901A    TO  SÃO SEBASTIÃO DO TOCANTINS      Viveiro Municipal   \n",
       "4300  172210701A    TO                     XAMBIOÁ                 Centro   \n",
       "\n",
       "           long        lat  \n",
       "0    -68.740939 -11.012469  \n",
       "1    -71.950808  -9.190133  \n",
       "2    -67.806662  -9.972969  \n",
       "3    -67.819980  -9.945025  \n",
       "4    -67.880229  -9.937753  \n",
       "...         ...        ...  \n",
       "4296 -47.811400  -5.395600  \n",
       "4297 -48.690830  -7.148690  \n",
       "4298 -47.577580  -5.552650  \n",
       "4299 -48.202500  -5.261600  \n",
       "4300 -48.533743  -6.411258  \n",
       "\n",
       "[4301 rows x 6 columns]"
      ]
     },
     "execution_count": 102,
     "metadata": {},
     "output_type": "execute_result"
    }
   ],
   "source": [
    "df_cemaden_info = pd.read_hdf(cemaden_path, key = 'table_info')\n",
    "df_cemaden_info['lat'] = df_cemaden_info['lat'].astype(float)\n",
    "df_cemaden_info['long'] = df_cemaden_info['long'].astype(float)\n",
    "df_cemaden_info.sort_values(['state', 'city'], inplace=True)\n",
    "df_cemaden_info.reset_index(drop=True, inplace=True)\n",
    "df_cemaden_info"
   ]
  },
  {
   "cell_type": "code",
   "execution_count": 103,
   "id": "85ccbfb7",
   "metadata": {},
   "outputs": [],
   "source": [
    "df_cemaden_info.to_hdf(cemaden_path, key='table_info', mode='r+', format='table', index=False, complevel = 9, append=False)"
   ]
  },
  {
   "cell_type": "code",
   "execution_count": 104,
   "id": "e9c823f3",
   "metadata": {},
   "outputs": [
    {
     "data": {
      "text/plain": [
       "4178"
      ]
     },
     "execution_count": 104,
     "metadata": {},
     "output_type": "execute_result"
    }
   ],
   "source": [
    "len(df_cemaden_data['gauge_code'].unique())"
   ]
  },
  {
   "cell_type": "code",
   "execution_count": 105,
   "id": "708e4ea8",
   "metadata": {},
   "outputs": [
    {
     "data": {
      "text/plain": [
       "[2014, 2015, 2016, 2017, 2018, 2019, 2020]"
      ]
     },
     "execution_count": 105,
     "metadata": {},
     "output_type": "execute_result"
    }
   ],
   "source": [
    "years = df_cemaden_data['year'].sort_values(ascending=True).drop_duplicates().values.tolist()\n",
    "years"
   ]
  },
  {
   "cell_type": "code",
   "execution_count": 106,
   "id": "b6cbf03a",
   "metadata": {},
   "outputs": [
    {
     "data": {
      "application/vnd.microsoft.datawrangler.viewer.v0+json": {
       "columns": [
        {
         "name": "index",
         "rawType": "int64",
         "type": "integer"
        },
        {
         "name": "gauge_code",
         "rawType": "object",
         "type": "string"
        },
        {
         "name": "datetime",
         "rawType": "datetime64[ns]",
         "type": "datetime"
        },
        {
         "name": "rain_mm",
         "rawType": "float64",
         "type": "float"
        },
        {
         "name": "year",
         "rawType": "int32",
         "type": "integer"
        },
        {
         "name": "state",
         "rawType": "object",
         "type": "string"
        },
        {
         "name": "city",
         "rawType": "object",
         "type": "string"
        },
        {
         "name": "name_station",
         "rawType": "object",
         "type": "string"
        },
        {
         "name": "long",
         "rawType": "float64",
         "type": "float"
        },
        {
         "name": "lat",
         "rawType": "float64",
         "type": "float"
        }
       ],
       "conversionMethod": "pd.DataFrame",
       "ref": "488ee33e-f7bc-4d83-93ee-f7944b540537",
       "rows": [
        [
         "0",
         "431100701A",
         "2020-10-29 00:00:00",
         "1.4000000000000001",
         "2020",
         "RS",
         "JAGUARÃO",
         "Pindorama",
         "-53.36835799999999",
         "-32.558556"
        ],
        [
         "1",
         "431100701A",
         "2019-06-11 00:00:00",
         "0.6000000000000001",
         "2019",
         "RS",
         "JAGUARÃO",
         "Pindorama",
         "-53.36835799999999",
         "-32.558556"
        ],
        [
         "2",
         "431100701A",
         "2019-09-12 00:00:00",
         "0.4",
         "2019",
         "RS",
         "JAGUARÃO",
         "Pindorama",
         "-53.36835799999999",
         "-32.558556"
        ],
        [
         "3",
         "431100701A",
         "2017-08-18 00:00:00",
         "0.0",
         "2017",
         "RS",
         "JAGUARÃO",
         "Pindorama",
         "-53.36835799999999",
         "-32.558556"
        ],
        [
         "4",
         "431100701A",
         "2019-05-29 00:00:00",
         "0.0",
         "2019",
         "RS",
         "JAGUARÃO",
         "Pindorama",
         "-53.36835799999999",
         "-32.558556"
        ],
        [
         "5",
         "431100701A",
         "2018-04-20 00:00:00",
         "8.0",
         "2018",
         "RS",
         "JAGUARÃO",
         "Pindorama",
         "-53.36835799999999",
         "-32.558556"
        ],
        [
         "6",
         "431100701A",
         "2018-08-31 00:00:00",
         "24.400000000000002",
         "2018",
         "RS",
         "JAGUARÃO",
         "Pindorama",
         "-53.36835799999999",
         "-32.558556"
        ],
        [
         "7",
         "431100701A",
         "2019-04-14 00:00:00",
         "0.0",
         "2019",
         "RS",
         "JAGUARÃO",
         "Pindorama",
         "-53.36835799999999",
         "-32.558556"
        ],
        [
         "8",
         "431100701A",
         "2020-07-08 00:00:00",
         "16.6",
         "2020",
         "RS",
         "JAGUARÃO",
         "Pindorama",
         "-53.36835799999999",
         "-32.558556"
        ],
        [
         "9",
         "431100701A",
         "2018-07-19 00:00:00",
         "0.0",
         "2018",
         "RS",
         "JAGUARÃO",
         "Pindorama",
         "-53.36835799999999",
         "-32.558556"
        ],
        [
         "10",
         "431100701A",
         "2017-10-20 00:00:00",
         "0.0",
         "2017",
         "RS",
         "JAGUARÃO",
         "Pindorama",
         "-53.36835799999999",
         "-32.558556"
        ],
        [
         "11",
         "431100701A",
         "2020-12-02 00:00:00",
         "0.0",
         "2020",
         "RS",
         "JAGUARÃO",
         "Pindorama",
         "-53.36835799999999",
         "-32.558556"
        ],
        [
         "12",
         "431100701A",
         "2018-02-06 00:00:00",
         "0.0",
         "2018",
         "RS",
         "JAGUARÃO",
         "Pindorama",
         "-53.36835799999999",
         "-32.558556"
        ],
        [
         "13",
         "431100701A",
         "2017-12-23 00:00:00",
         "7.4",
         "2017",
         "RS",
         "JAGUARÃO",
         "Pindorama",
         "-53.36835799999999",
         "-32.558556"
        ],
        [
         "14",
         "431100701A",
         "2018-08-25 00:00:00",
         "3.0",
         "2018",
         "RS",
         "JAGUARÃO",
         "Pindorama",
         "-53.36835799999999",
         "-32.558556"
        ],
        [
         "15",
         "431100701A",
         "2018-02-10 00:00:00",
         "0.0",
         "2018",
         "RS",
         "JAGUARÃO",
         "Pindorama",
         "-53.36835799999999",
         "-32.558556"
        ],
        [
         "16",
         "431100701A",
         "2019-02-08 00:00:00",
         "0.0",
         "2019",
         "RS",
         "JAGUARÃO",
         "Pindorama",
         "-53.36835799999999",
         "-32.558556"
        ],
        [
         "17",
         "431100701A",
         "2020-06-17 00:00:00",
         "0.0",
         "2020",
         "RS",
         "JAGUARÃO",
         "Pindorama",
         "-53.36835799999999",
         "-32.558556"
        ],
        [
         "18",
         "431100701A",
         "2020-08-19 00:00:00",
         "0.0",
         "2020",
         "RS",
         "JAGUARÃO",
         "Pindorama",
         "-53.36835799999999",
         "-32.558556"
        ],
        [
         "19",
         "431100701A",
         "2019-08-21 00:00:00",
         "1.4",
         "2019",
         "RS",
         "JAGUARÃO",
         "Pindorama",
         "-53.36835799999999",
         "-32.558556"
        ],
        [
         "20",
         "431100701A",
         "2019-11-23 00:00:00",
         "0.0",
         "2019",
         "RS",
         "JAGUARÃO",
         "Pindorama",
         "-53.36835799999999",
         "-32.558556"
        ],
        [
         "21",
         "431100701A",
         "2018-06-12 00:00:00",
         "0.0",
         "2018",
         "RS",
         "JAGUARÃO",
         "Pindorama",
         "-53.36835799999999",
         "-32.558556"
        ],
        [
         "22",
         "431100701A",
         "2019-09-08 00:00:00",
         "8.6",
         "2019",
         "RS",
         "JAGUARÃO",
         "Pindorama",
         "-53.36835799999999",
         "-32.558556"
        ],
        [
         "23",
         "431100701A",
         "2020-09-11 00:00:00",
         "9.8",
         "2020",
         "RS",
         "JAGUARÃO",
         "Pindorama",
         "-53.36835799999999",
         "-32.558556"
        ],
        [
         "24",
         "431100701A",
         "2020-02-08 00:00:00",
         "0.0",
         "2020",
         "RS",
         "JAGUARÃO",
         "Pindorama",
         "-53.36835799999999",
         "-32.558556"
        ],
        [
         "25",
         "431100701A",
         "2018-07-25 00:00:00",
         "10.8",
         "2018",
         "RS",
         "JAGUARÃO",
         "Pindorama",
         "-53.36835799999999",
         "-32.558556"
        ],
        [
         "26",
         "431100701A",
         "2020-07-18 00:00:00",
         "0.0",
         "2020",
         "RS",
         "JAGUARÃO",
         "Pindorama",
         "-53.36835799999999",
         "-32.558556"
        ],
        [
         "27",
         "431100701A",
         "2020-09-09 00:00:00",
         "0.0",
         "2020",
         "RS",
         "JAGUARÃO",
         "Pindorama",
         "-53.36835799999999",
         "-32.558556"
        ],
        [
         "28",
         "431100701A",
         "2020-04-25 00:00:00",
         "0.0",
         "2020",
         "RS",
         "JAGUARÃO",
         "Pindorama",
         "-53.36835799999999",
         "-32.558556"
        ],
        [
         "29",
         "431100701A",
         "2020-08-29 00:00:00",
         "2.4",
         "2020",
         "RS",
         "JAGUARÃO",
         "Pindorama",
         "-53.36835799999999",
         "-32.558556"
        ],
        [
         "30",
         "431100701A",
         "2020-03-01 00:00:00",
         "0.0",
         "2020",
         "RS",
         "JAGUARÃO",
         "Pindorama",
         "-53.36835799999999",
         "-32.558556"
        ],
        [
         "31",
         "431100701A",
         "2020-11-06 00:00:00",
         "0.0",
         "2020",
         "RS",
         "JAGUARÃO",
         "Pindorama",
         "-53.36835799999999",
         "-32.558556"
        ],
        [
         "32",
         "431100701A",
         "2018-03-14 00:00:00",
         "0.0",
         "2018",
         "RS",
         "JAGUARÃO",
         "Pindorama",
         "-53.36835799999999",
         "-32.558556"
        ],
        [
         "33",
         "431100701A",
         "2020-04-07 00:00:00",
         "0.0",
         "2020",
         "RS",
         "JAGUARÃO",
         "Pindorama",
         "-53.36835799999999",
         "-32.558556"
        ],
        [
         "34",
         "431100701A",
         "2018-08-14 00:00:00",
         "0.0",
         "2018",
         "RS",
         "JAGUARÃO",
         "Pindorama",
         "-53.36835799999999",
         "-32.558556"
        ],
        [
         "35",
         "431100701A",
         "2018-07-29 00:00:00",
         "0.0",
         "2018",
         "RS",
         "JAGUARÃO",
         "Pindorama",
         "-53.36835799999999",
         "-32.558556"
        ],
        [
         "36",
         "431100701A",
         "2017-11-06 00:00:00",
         "0.0",
         "2017",
         "RS",
         "JAGUARÃO",
         "Pindorama",
         "-53.36835799999999",
         "-32.558556"
        ],
        [
         "37",
         "431100701A",
         "2020-07-02 00:00:00",
         "0.0",
         "2020",
         "RS",
         "JAGUARÃO",
         "Pindorama",
         "-53.36835799999999",
         "-32.558556"
        ],
        [
         "38",
         "431100701A",
         "2019-10-16 00:00:00",
         "9.4",
         "2019",
         "RS",
         "JAGUARÃO",
         "Pindorama",
         "-53.36835799999999",
         "-32.558556"
        ],
        [
         "39",
         "431100701A",
         "2019-07-17 00:00:00",
         "0.2",
         "2019",
         "RS",
         "JAGUARÃO",
         "Pindorama",
         "-53.36835799999999",
         "-32.558556"
        ],
        [
         "40",
         "431100701A",
         "2020-01-27 00:00:00",
         "0.0",
         "2020",
         "RS",
         "JAGUARÃO",
         "Pindorama",
         "-53.36835799999999",
         "-32.558556"
        ],
        [
         "41",
         "431100701A",
         "2019-05-28 00:00:00",
         "0.0",
         "2019",
         "RS",
         "JAGUARÃO",
         "Pindorama",
         "-53.36835799999999",
         "-32.558556"
        ],
        [
         "42",
         "431100701A",
         "2018-05-01 00:00:00",
         "0.8",
         "2018",
         "RS",
         "JAGUARÃO",
         "Pindorama",
         "-53.36835799999999",
         "-32.558556"
        ],
        [
         "43",
         "431100701A",
         "2019-05-20 00:00:00",
         "2.0",
         "2019",
         "RS",
         "JAGUARÃO",
         "Pindorama",
         "-53.36835799999999",
         "-32.558556"
        ],
        [
         "44",
         "431100701A",
         "2019-01-12 00:00:00",
         "1.6",
         "2019",
         "RS",
         "JAGUARÃO",
         "Pindorama",
         "-53.36835799999999",
         "-32.558556"
        ],
        [
         "45",
         "431100701A",
         "2019-09-07 00:00:00",
         "20.4",
         "2019",
         "RS",
         "JAGUARÃO",
         "Pindorama",
         "-53.36835799999999",
         "-32.558556"
        ],
        [
         "46",
         "431100701A",
         "2019-05-21 00:00:00",
         "17.0",
         "2019",
         "RS",
         "JAGUARÃO",
         "Pindorama",
         "-53.36835799999999",
         "-32.558556"
        ],
        [
         "47",
         "431100701A",
         "2020-05-04 00:00:00",
         "0.0",
         "2020",
         "RS",
         "JAGUARÃO",
         "Pindorama",
         "-53.36835799999999",
         "-32.558556"
        ],
        [
         "48",
         "431100701A",
         "2019-12-28 00:00:00",
         "0.4",
         "2019",
         "RS",
         "JAGUARÃO",
         "Pindorama",
         "-53.36835799999999",
         "-32.558556"
        ],
        [
         "49",
         "431100701A",
         "2017-11-04 00:00:00",
         "0.0",
         "2017",
         "RS",
         "JAGUARÃO",
         "Pindorama",
         "-53.36835799999999",
         "-32.558556"
        ]
       ],
       "shape": {
        "columns": 9,
        "rows": 6808968
       }
      },
      "text/html": [
       "<div>\n",
       "<style scoped>\n",
       "    .dataframe tbody tr th:only-of-type {\n",
       "        vertical-align: middle;\n",
       "    }\n",
       "\n",
       "    .dataframe tbody tr th {\n",
       "        vertical-align: top;\n",
       "    }\n",
       "\n",
       "    .dataframe thead th {\n",
       "        text-align: right;\n",
       "    }\n",
       "</style>\n",
       "<table border=\"1\" class=\"dataframe\">\n",
       "  <thead>\n",
       "    <tr style=\"text-align: right;\">\n",
       "      <th></th>\n",
       "      <th>gauge_code</th>\n",
       "      <th>datetime</th>\n",
       "      <th>rain_mm</th>\n",
       "      <th>year</th>\n",
       "      <th>state</th>\n",
       "      <th>city</th>\n",
       "      <th>name_station</th>\n",
       "      <th>long</th>\n",
       "      <th>lat</th>\n",
       "    </tr>\n",
       "  </thead>\n",
       "  <tbody>\n",
       "    <tr>\n",
       "      <th>0</th>\n",
       "      <td>431100701A</td>\n",
       "      <td>2020-10-29</td>\n",
       "      <td>1.4</td>\n",
       "      <td>2020</td>\n",
       "      <td>RS</td>\n",
       "      <td>JAGUARÃO</td>\n",
       "      <td>Pindorama</td>\n",
       "      <td>-53.368358</td>\n",
       "      <td>-32.558556</td>\n",
       "    </tr>\n",
       "    <tr>\n",
       "      <th>1</th>\n",
       "      <td>431100701A</td>\n",
       "      <td>2019-06-11</td>\n",
       "      <td>0.6</td>\n",
       "      <td>2019</td>\n",
       "      <td>RS</td>\n",
       "      <td>JAGUARÃO</td>\n",
       "      <td>Pindorama</td>\n",
       "      <td>-53.368358</td>\n",
       "      <td>-32.558556</td>\n",
       "    </tr>\n",
       "    <tr>\n",
       "      <th>2</th>\n",
       "      <td>431100701A</td>\n",
       "      <td>2019-09-12</td>\n",
       "      <td>0.4</td>\n",
       "      <td>2019</td>\n",
       "      <td>RS</td>\n",
       "      <td>JAGUARÃO</td>\n",
       "      <td>Pindorama</td>\n",
       "      <td>-53.368358</td>\n",
       "      <td>-32.558556</td>\n",
       "    </tr>\n",
       "    <tr>\n",
       "      <th>3</th>\n",
       "      <td>431100701A</td>\n",
       "      <td>2017-08-18</td>\n",
       "      <td>0.0</td>\n",
       "      <td>2017</td>\n",
       "      <td>RS</td>\n",
       "      <td>JAGUARÃO</td>\n",
       "      <td>Pindorama</td>\n",
       "      <td>-53.368358</td>\n",
       "      <td>-32.558556</td>\n",
       "    </tr>\n",
       "    <tr>\n",
       "      <th>4</th>\n",
       "      <td>431100701A</td>\n",
       "      <td>2019-05-29</td>\n",
       "      <td>0.0</td>\n",
       "      <td>2019</td>\n",
       "      <td>RS</td>\n",
       "      <td>JAGUARÃO</td>\n",
       "      <td>Pindorama</td>\n",
       "      <td>-53.368358</td>\n",
       "      <td>-32.558556</td>\n",
       "    </tr>\n",
       "    <tr>\n",
       "      <th>...</th>\n",
       "      <td>...</td>\n",
       "      <td>...</td>\n",
       "      <td>...</td>\n",
       "      <td>...</td>\n",
       "      <td>...</td>\n",
       "      <td>...</td>\n",
       "      <td>...</td>\n",
       "      <td>...</td>\n",
       "      <td>...</td>\n",
       "    </tr>\n",
       "    <tr>\n",
       "      <th>6808963</th>\n",
       "      <td>140070401A</td>\n",
       "      <td>2019-08-30</td>\n",
       "      <td>0.0</td>\n",
       "      <td>2019</td>\n",
       "      <td>RR</td>\n",
       "      <td>UIRAMUTÃ</td>\n",
       "      <td>Centro</td>\n",
       "      <td>-60.162963</td>\n",
       "      <td>4.594482</td>\n",
       "    </tr>\n",
       "    <tr>\n",
       "      <th>6808964</th>\n",
       "      <td>140070401A</td>\n",
       "      <td>2018-12-13</td>\n",
       "      <td>0.0</td>\n",
       "      <td>2018</td>\n",
       "      <td>RR</td>\n",
       "      <td>UIRAMUTÃ</td>\n",
       "      <td>Centro</td>\n",
       "      <td>-60.162963</td>\n",
       "      <td>4.594482</td>\n",
       "    </tr>\n",
       "    <tr>\n",
       "      <th>6808965</th>\n",
       "      <td>140070401A</td>\n",
       "      <td>2019-12-06</td>\n",
       "      <td>0.0</td>\n",
       "      <td>2019</td>\n",
       "      <td>RR</td>\n",
       "      <td>UIRAMUTÃ</td>\n",
       "      <td>Centro</td>\n",
       "      <td>-60.162963</td>\n",
       "      <td>4.594482</td>\n",
       "    </tr>\n",
       "    <tr>\n",
       "      <th>6808966</th>\n",
       "      <td>140070401A</td>\n",
       "      <td>2019-11-10</td>\n",
       "      <td>0.0</td>\n",
       "      <td>2019</td>\n",
       "      <td>RR</td>\n",
       "      <td>UIRAMUTÃ</td>\n",
       "      <td>Centro</td>\n",
       "      <td>-60.162963</td>\n",
       "      <td>4.594482</td>\n",
       "    </tr>\n",
       "    <tr>\n",
       "      <th>6808967</th>\n",
       "      <td>140070401A</td>\n",
       "      <td>2019-07-23</td>\n",
       "      <td>0.0</td>\n",
       "      <td>2019</td>\n",
       "      <td>RR</td>\n",
       "      <td>UIRAMUTÃ</td>\n",
       "      <td>Centro</td>\n",
       "      <td>-60.162963</td>\n",
       "      <td>4.594482</td>\n",
       "    </tr>\n",
       "  </tbody>\n",
       "</table>\n",
       "<p>6808968 rows × 9 columns</p>\n",
       "</div>"
      ],
      "text/plain": [
       "         gauge_code   datetime  rain_mm  year state      city name_station  \\\n",
       "0        431100701A 2020-10-29      1.4  2020    RS  JAGUARÃO    Pindorama   \n",
       "1        431100701A 2019-06-11      0.6  2019    RS  JAGUARÃO    Pindorama   \n",
       "2        431100701A 2019-09-12      0.4  2019    RS  JAGUARÃO    Pindorama   \n",
       "3        431100701A 2017-08-18      0.0  2017    RS  JAGUARÃO    Pindorama   \n",
       "4        431100701A 2019-05-29      0.0  2019    RS  JAGUARÃO    Pindorama   \n",
       "...             ...        ...      ...   ...   ...       ...          ...   \n",
       "6808963  140070401A 2019-08-30      0.0  2019    RR  UIRAMUTÃ       Centro   \n",
       "6808964  140070401A 2018-12-13      0.0  2018    RR  UIRAMUTÃ       Centro   \n",
       "6808965  140070401A 2019-12-06      0.0  2019    RR  UIRAMUTÃ       Centro   \n",
       "6808966  140070401A 2019-11-10      0.0  2019    RR  UIRAMUTÃ       Centro   \n",
       "6808967  140070401A 2019-07-23      0.0  2019    RR  UIRAMUTÃ       Centro   \n",
       "\n",
       "              long        lat  \n",
       "0       -53.368358 -32.558556  \n",
       "1       -53.368358 -32.558556  \n",
       "2       -53.368358 -32.558556  \n",
       "3       -53.368358 -32.558556  \n",
       "4       -53.368358 -32.558556  \n",
       "...            ...        ...  \n",
       "6808963 -60.162963   4.594482  \n",
       "6808964 -60.162963   4.594482  \n",
       "6808965 -60.162963   4.594482  \n",
       "6808966 -60.162963   4.594482  \n",
       "6808967 -60.162963   4.594482  \n",
       "\n",
       "[6808968 rows x 9 columns]"
      ]
     },
     "execution_count": 106,
     "metadata": {},
     "output_type": "execute_result"
    }
   ],
   "source": [
    "df_complete_info = pd.merge(df_cemaden_data, df_cemaden_info, on='gauge_code', how = 'inner').sort_values('lat', ascending = True).reset_index(drop=True)   \n",
    "df_complete_info"
   ]
  },
  {
   "cell_type": "markdown",
   "id": "788ef1a4",
   "metadata": {},
   "source": [
    "# Preclassif"
   ]
  },
  {
   "cell_type": "code",
   "execution_count": 107,
   "id": "5e43f51d",
   "metadata": {},
   "outputs": [],
   "source": [
    "# Add a year column to the dataframe\n",
    "df_cemaden_data['year'] = df_cemaden_data['datetime'].dt.year\n",
    "\n",
    "# Group by gauge_code and year\n",
    "grouped = df_cemaden_data.groupby(['gauge_code', 'year'])\n",
    "\n",
    "# Calculate annual_rainfall_mm, active_days, and consecutive_dry_days\n",
    "def calculate_metrics(group):\n",
    "    annual_rainfall_mm = group['rain_mm'].sum()\n",
    "    active_days = (group['rain_mm'] >= 0.0).sum()\n",
    "    \n",
    "    # Calculate consecutive dry days\n",
    "    dry_days = (group['rain_mm'] == 0.0).astype(int)\n",
    "    # Calculate the maximum number of consecutive dry days\n",
    "    consecutive_dry_days = (dry_days.groupby((dry_days != dry_days.shift()).cumsum()).cumsum() * dry_days).max()\n",
    "    \n",
    "    return pd.Series({\n",
    "        'annual_rainfall_mm': annual_rainfall_mm,\n",
    "        'active_days': active_days,\n",
    "        'consecutive_dry_days': consecutive_dry_days\n",
    "    })"
   ]
  },
  {
   "cell_type": "code",
   "execution_count": 108,
   "id": "d189ca91",
   "metadata": {},
   "outputs": [
    {
     "name": "stderr",
     "output_type": "stream",
     "text": [
      "C:\\Users\\linde\\AppData\\Local\\Temp\\ipykernel_15256\\356056228.py:1: DeprecationWarning: DataFrameGroupBy.apply operated on the grouping columns. This behavior is deprecated, and in a future version of pandas the grouping columns will be excluded from the operation. Either pass `include_groups=False` to exclude the groupings or explicitly select the grouping columns after groupby to silence this warning.\n",
      "  df_preclassif = grouped.apply(calculate_metrics).reset_index()\n"
     ]
    },
    {
     "data": {
      "application/vnd.microsoft.datawrangler.viewer.v0+json": {
       "columns": [
        {
         "name": "index",
         "rawType": "int64",
         "type": "integer"
        },
        {
         "name": "gauge_code",
         "rawType": "object",
         "type": "string"
        },
        {
         "name": "year",
         "rawType": "int32",
         "type": "integer"
        },
        {
         "name": "annual_rainfall_mm",
         "rawType": "float64",
         "type": "float"
        },
        {
         "name": "active_days",
         "rawType": "float64",
         "type": "float"
        },
        {
         "name": "consecutive_dry_days",
         "rawType": "float64",
         "type": "float"
        }
       ],
       "conversionMethod": "pd.DataFrame",
       "ref": "513f05c3-3251-492a-90ee-1433c88645c6",
       "rows": [
        [
         "0",
         "110018901A",
         "2018",
         "969.74",
         "136.0",
         "21.0"
        ],
        [
         "1",
         "110018901A",
         "2019",
         "1786.2300000000005",
         "365.0",
         "58.0"
        ],
        [
         "2",
         "110018901A",
         "2020",
         "347.27",
         "366.0",
         "328.0"
        ],
        [
         "3",
         "110020501A",
         "2014",
         "108.27040860700001",
         "16.0",
         "2.0"
        ],
        [
         "4",
         "110020501A",
         "2017",
         "138.45999999999998",
         "92.0",
         "55.0"
        ],
        [
         "5",
         "110020501A",
         "2020",
         "932.92",
         "144.0",
         "9.0"
        ],
        [
         "6",
         "110020502A",
         "2014",
         "1469.6512260700001",
         "262.0",
         "36.0"
        ],
        [
         "7",
         "110020502A",
         "2015",
         "2.4",
         "9.0",
         "0.0"
        ],
        [
         "8",
         "110020502A",
         "2016",
         "97.2",
         "324.0",
         "156.0"
        ],
        [
         "9",
         "110020502A",
         "2017",
         "4.12",
         "250.0",
         "201.0"
        ],
        [
         "10",
         "110020502A",
         "2020",
         "769.8399999999999",
         "144.0",
         "9.0"
        ],
        [
         "11",
         "120010401A",
         "2018",
         "879.2000000000002",
         "140.0",
         "10.0"
        ],
        [
         "12",
         "120010401A",
         "2019",
         "2179.4",
         "365.0",
         "31.0"
        ],
        [
         "13",
         "120010401A",
         "2020",
         "810.5999999999999",
         "366.0",
         "265.0"
        ],
        [
         "14",
         "120032801A",
         "2018",
         "945.0000000000001",
         "140.0",
         "12.0"
        ],
        [
         "15",
         "120032801A",
         "2019",
         "2099.3999999999996",
         "365.0",
         "23.0"
        ],
        [
         "16",
         "120032801A",
         "2020",
         "1934.7999999999997",
         "366.0",
         "28.0"
        ],
        [
         "17",
         "120040101A",
         "2014",
         "606.871313889",
         "334.0",
         "65.0"
        ],
        [
         "18",
         "120040101A",
         "2015",
         "63.95",
         "365.0",
         "78.0"
        ],
        [
         "19",
         "120040101A",
         "2016",
         "4.6000000000000005",
         "342.0",
         "188.0"
        ],
        [
         "20",
         "120040101A",
         "2017",
         "88.96",
         "1.0",
         "0.0"
        ],
        [
         "21",
         "120040101A",
         "2020",
         "532.32",
         "143.0",
         "10.0"
        ],
        [
         "22",
         "120040101H",
         "2016",
         "407.99999999999994",
         "52.0",
         "4.0"
        ],
        [
         "23",
         "120040101H",
         "2017",
         "1311.0",
         "140.0",
         "9.0"
        ],
        [
         "24",
         "120040101H",
         "2020",
         "0.2",
         "1.0",
         "0.0"
        ],
        [
         "25",
         "120040102A",
         "2014",
         "749.8101148630001",
         "76.0",
         "6.0"
        ],
        [
         "26",
         "120040102A",
         "2020",
         "380.53999999999996",
         "142.0",
         "13.0"
        ],
        [
         "27",
         "120040102H",
         "2016",
         "428.8",
         "54.0",
         "3.0"
        ],
        [
         "28",
         "120040102H",
         "2017",
         "147.20000000000002",
         "11.0",
         "1.0"
        ],
        [
         "29",
         "120070801A",
         "2018",
         "570.4",
         "140.0",
         "10.0"
        ],
        [
         "30",
         "120070801A",
         "2019",
         "2386.4",
         "365.0",
         "30.0"
        ],
        [
         "31",
         "120070801A",
         "2020",
         "1918.1999999999998",
         "366.0",
         "24.0"
        ],
        [
         "32",
         "130002901A",
         "2018",
         "430.20000000000005",
         "49.0",
         "1.0"
        ],
        [
         "33",
         "130002901A",
         "2019",
         "69.2",
         "7.0",
         "1.0"
        ],
        [
         "34",
         "130002901A",
         "2020",
         "110.80000000000001",
         "9.0",
         "3.0"
        ],
        [
         "35",
         "130006001A",
         "2018",
         "565.4000000000001",
         "54.0",
         "2.0"
        ],
        [
         "36",
         "130006001A",
         "2019",
         "3089.4",
         "365.0",
         "12.0"
        ],
        [
         "37",
         "130006001A",
         "2020",
         "2550.0",
         "366.0",
         "8.0"
        ],
        [
         "38",
         "130008601A",
         "2018",
         "190.83",
         "24.0",
         "2.0"
        ],
        [
         "39",
         "130008601A",
         "2019",
         "1928.4",
         "347.0",
         "16.0"
        ],
        [
         "40",
         "130008601A",
         "2020",
         "231.38",
         "348.0",
         "97.0"
        ],
        [
         "41",
         "130010201A",
         "2018",
         "167.4",
         "24.0",
         "2.0"
        ],
        [
         "42",
         "130010201A",
         "2019",
         "2391.7999999999997",
         "365.0",
         "9.0"
        ],
        [
         "43",
         "130010201A",
         "2020",
         "59.0",
         "363.0",
         "352.0"
        ],
        [
         "44",
         "130014401A",
         "2018",
         "1232.1100000000001",
         "144.0",
         "8.0"
        ],
        [
         "45",
         "130014401A",
         "2019",
         "2559.4700000000003",
         "345.0",
         "17.0"
        ],
        [
         "46",
         "130014401A",
         "2020",
         "261.34",
         "27.0",
         "1.0"
        ],
        [
         "47",
         "130020101A",
         "2018",
         "735.8000000000001",
         "56.0",
         "4.0"
        ],
        [
         "48",
         "130020101A",
         "2019",
         "2363.4",
         "318.0",
         "7.0"
        ],
        [
         "49",
         "130020101A",
         "2020",
         "37.0",
         "11.0",
         "3.0"
        ]
       ],
       "shape": {
        "columns": 5,
        "rows": 22773
       }
      },
      "text/html": [
       "<div>\n",
       "<style scoped>\n",
       "    .dataframe tbody tr th:only-of-type {\n",
       "        vertical-align: middle;\n",
       "    }\n",
       "\n",
       "    .dataframe tbody tr th {\n",
       "        vertical-align: top;\n",
       "    }\n",
       "\n",
       "    .dataframe thead th {\n",
       "        text-align: right;\n",
       "    }\n",
       "</style>\n",
       "<table border=\"1\" class=\"dataframe\">\n",
       "  <thead>\n",
       "    <tr style=\"text-align: right;\">\n",
       "      <th></th>\n",
       "      <th>gauge_code</th>\n",
       "      <th>year</th>\n",
       "      <th>annual_rainfall_mm</th>\n",
       "      <th>active_days</th>\n",
       "      <th>consecutive_dry_days</th>\n",
       "    </tr>\n",
       "  </thead>\n",
       "  <tbody>\n",
       "    <tr>\n",
       "      <th>0</th>\n",
       "      <td>110018901A</td>\n",
       "      <td>2018</td>\n",
       "      <td>969.740000</td>\n",
       "      <td>136.0</td>\n",
       "      <td>21.0</td>\n",
       "    </tr>\n",
       "    <tr>\n",
       "      <th>1</th>\n",
       "      <td>110018901A</td>\n",
       "      <td>2019</td>\n",
       "      <td>1786.230000</td>\n",
       "      <td>365.0</td>\n",
       "      <td>58.0</td>\n",
       "    </tr>\n",
       "    <tr>\n",
       "      <th>2</th>\n",
       "      <td>110018901A</td>\n",
       "      <td>2020</td>\n",
       "      <td>347.270000</td>\n",
       "      <td>366.0</td>\n",
       "      <td>328.0</td>\n",
       "    </tr>\n",
       "    <tr>\n",
       "      <th>3</th>\n",
       "      <td>110020501A</td>\n",
       "      <td>2014</td>\n",
       "      <td>108.270409</td>\n",
       "      <td>16.0</td>\n",
       "      <td>2.0</td>\n",
       "    </tr>\n",
       "    <tr>\n",
       "      <th>4</th>\n",
       "      <td>110020501A</td>\n",
       "      <td>2017</td>\n",
       "      <td>138.460000</td>\n",
       "      <td>92.0</td>\n",
       "      <td>55.0</td>\n",
       "    </tr>\n",
       "    <tr>\n",
       "      <th>...</th>\n",
       "      <td>...</td>\n",
       "      <td>...</td>\n",
       "      <td>...</td>\n",
       "      <td>...</td>\n",
       "      <td>...</td>\n",
       "    </tr>\n",
       "    <tr>\n",
       "      <th>22768</th>\n",
       "      <td>CEMADEN_12</td>\n",
       "      <td>2019</td>\n",
       "      <td>598.120000</td>\n",
       "      <td>90.0</td>\n",
       "      <td>5.0</td>\n",
       "    </tr>\n",
       "    <tr>\n",
       "      <th>22769</th>\n",
       "      <td>CEMADEN_12</td>\n",
       "      <td>2020</td>\n",
       "      <td>398.050000</td>\n",
       "      <td>31.0</td>\n",
       "      <td>1.0</td>\n",
       "    </tr>\n",
       "    <tr>\n",
       "      <th>22770</th>\n",
       "      <td>CEMADEN_13</td>\n",
       "      <td>2019</td>\n",
       "      <td>51.800000</td>\n",
       "      <td>30.0</td>\n",
       "      <td>12.0</td>\n",
       "    </tr>\n",
       "    <tr>\n",
       "      <th>22771</th>\n",
       "      <td>CEMADEN_14</td>\n",
       "      <td>2018</td>\n",
       "      <td>436.400000</td>\n",
       "      <td>92.0</td>\n",
       "      <td>3.0</td>\n",
       "    </tr>\n",
       "    <tr>\n",
       "      <th>22772</th>\n",
       "      <td>CEMADEN_14</td>\n",
       "      <td>2019</td>\n",
       "      <td>613.800000</td>\n",
       "      <td>120.0</td>\n",
       "      <td>10.0</td>\n",
       "    </tr>\n",
       "  </tbody>\n",
       "</table>\n",
       "<p>22773 rows × 5 columns</p>\n",
       "</div>"
      ],
      "text/plain": [
       "       gauge_code  year  annual_rainfall_mm  active_days  consecutive_dry_days\n",
       "0      110018901A  2018          969.740000        136.0                  21.0\n",
       "1      110018901A  2019         1786.230000        365.0                  58.0\n",
       "2      110018901A  2020          347.270000        366.0                 328.0\n",
       "3      110020501A  2014          108.270409         16.0                   2.0\n",
       "4      110020501A  2017          138.460000         92.0                  55.0\n",
       "...           ...   ...                 ...          ...                   ...\n",
       "22768  CEMADEN_12  2019          598.120000         90.0                   5.0\n",
       "22769  CEMADEN_12  2020          398.050000         31.0                   1.0\n",
       "22770  CEMADEN_13  2019           51.800000         30.0                  12.0\n",
       "22771  CEMADEN_14  2018          436.400000         92.0                   3.0\n",
       "22772  CEMADEN_14  2019          613.800000        120.0                  10.0\n",
       "\n",
       "[22773 rows x 5 columns]"
      ]
     },
     "execution_count": 108,
     "metadata": {},
     "output_type": "execute_result"
    }
   ],
   "source": [
    "df_preclassif = grouped.apply(calculate_metrics).reset_index()\n",
    "df_preclassif"
   ]
  },
  {
   "cell_type": "code",
   "execution_count": 109,
   "id": "15c87f45",
   "metadata": {},
   "outputs": [
    {
     "name": "stderr",
     "output_type": "stream",
     "text": [
      "C:\\Users\\linde\\AppData\\Local\\Temp\\ipykernel_15256\\4172336990.py:1: DeprecationWarning: DataFrameGroupBy.apply operated on the grouping columns. This behavior is deprecated, and in a future version of pandas the grouping columns will be excluded from the operation. Either pass `include_groups=False` to exclude the groupings or explicitly select the grouping columns after groupby to silence this warning.\n",
      "  df_preclassif = grouped.apply(calculate_metrics).reset_index()\n"
     ]
    },
    {
     "data": {
      "application/vnd.microsoft.datawrangler.viewer.v0+json": {
       "columns": [
        {
         "name": "index",
         "rawType": "int64",
         "type": "integer"
        },
        {
         "name": "gauge_code",
         "rawType": "object",
         "type": "string"
        },
        {
         "name": "year",
         "rawType": "int32",
         "type": "integer"
        },
        {
         "name": "annual_rainfall_mm",
         "rawType": "float64",
         "type": "float"
        },
        {
         "name": "active_days",
         "rawType": "float64",
         "type": "float"
        },
        {
         "name": "consecutive_dry_days",
         "rawType": "float64",
         "type": "float"
        },
        {
         "name": "preclassif",
         "rawType": "object",
         "type": "string"
        }
       ],
       "conversionMethod": "pd.DataFrame",
       "ref": "98f3f63a-c565-46d2-867c-76eee930f68d",
       "rows": [
        [
         "0",
         "110018901A",
         "2018",
         "969.74",
         "136.0",
         "21.0",
         ""
        ],
        [
         "1",
         "110018901A",
         "2019",
         "1786.2300000000005",
         "365.0",
         "58.0",
         ""
        ],
        [
         "2",
         "110018901A",
         "2020",
         "347.27",
         "366.0",
         "328.0",
         "LQ"
        ],
        [
         "3",
         "110020501A",
         "2014",
         "108.27040860700001",
         "16.0",
         "2.0",
         "LQ"
        ],
        [
         "4",
         "110020501A",
         "2017",
         "138.45999999999998",
         "92.0",
         "55.0",
         "LQ"
        ],
        [
         "5",
         "110020501A",
         "2020",
         "932.92",
         "144.0",
         "9.0",
         ""
        ],
        [
         "6",
         "110020502A",
         "2014",
         "1469.6512260700001",
         "262.0",
         "36.0",
         ""
        ],
        [
         "7",
         "110020502A",
         "2015",
         "2.4",
         "9.0",
         "0.0",
         "LQ"
        ],
        [
         "8",
         "110020502A",
         "2016",
         "97.2",
         "324.0",
         "156.0",
         "LQ"
        ],
        [
         "9",
         "110020502A",
         "2017",
         "4.12",
         "250.0",
         "201.0",
         "LQ"
        ],
        [
         "10",
         "110020502A",
         "2020",
         "769.8399999999999",
         "144.0",
         "9.0",
         ""
        ],
        [
         "11",
         "120010401A",
         "2018",
         "879.2000000000002",
         "140.0",
         "10.0",
         ""
        ],
        [
         "12",
         "120010401A",
         "2019",
         "2179.4",
         "365.0",
         "31.0",
         ""
        ],
        [
         "13",
         "120010401A",
         "2020",
         "810.5999999999999",
         "366.0",
         "265.0",
         "LQ"
        ],
        [
         "14",
         "120032801A",
         "2018",
         "945.0000000000001",
         "140.0",
         "12.0",
         ""
        ],
        [
         "15",
         "120032801A",
         "2019",
         "2099.3999999999996",
         "365.0",
         "23.0",
         ""
        ],
        [
         "16",
         "120032801A",
         "2020",
         "1934.7999999999997",
         "366.0",
         "28.0",
         ""
        ],
        [
         "17",
         "120040101A",
         "2014",
         "606.871313889",
         "334.0",
         "65.0",
         ""
        ],
        [
         "18",
         "120040101A",
         "2015",
         "63.95",
         "365.0",
         "78.0",
         "LQ"
        ],
        [
         "19",
         "120040101A",
         "2016",
         "4.6000000000000005",
         "342.0",
         "188.0",
         "LQ"
        ],
        [
         "20",
         "120040101A",
         "2017",
         "88.96",
         "1.0",
         "0.0",
         "LQ"
        ],
        [
         "21",
         "120040101A",
         "2020",
         "532.32",
         "143.0",
         "10.0",
         ""
        ],
        [
         "22",
         "120040101H",
         "2016",
         "407.99999999999994",
         "52.0",
         "4.0",
         ""
        ],
        [
         "23",
         "120040101H",
         "2017",
         "1311.0",
         "140.0",
         "9.0",
         ""
        ],
        [
         "24",
         "120040101H",
         "2020",
         "0.2",
         "1.0",
         "0.0",
         "LQ"
        ],
        [
         "25",
         "120040102A",
         "2014",
         "749.8101148630001",
         "76.0",
         "6.0",
         ""
        ],
        [
         "26",
         "120040102A",
         "2020",
         "380.53999999999996",
         "142.0",
         "13.0",
         ""
        ],
        [
         "27",
         "120040102H",
         "2016",
         "428.8",
         "54.0",
         "3.0",
         ""
        ],
        [
         "28",
         "120040102H",
         "2017",
         "147.20000000000002",
         "11.0",
         "1.0",
         "LQ"
        ],
        [
         "29",
         "120070801A",
         "2018",
         "570.4",
         "140.0",
         "10.0",
         ""
        ],
        [
         "30",
         "120070801A",
         "2019",
         "2386.4",
         "365.0",
         "30.0",
         ""
        ],
        [
         "31",
         "120070801A",
         "2020",
         "1918.1999999999998",
         "366.0",
         "24.0",
         ""
        ],
        [
         "32",
         "130002901A",
         "2018",
         "430.20000000000005",
         "49.0",
         "1.0",
         ""
        ],
        [
         "33",
         "130002901A",
         "2019",
         "69.2",
         "7.0",
         "1.0",
         "LQ"
        ],
        [
         "34",
         "130002901A",
         "2020",
         "110.80000000000001",
         "9.0",
         "3.0",
         "LQ"
        ],
        [
         "35",
         "130006001A",
         "2018",
         "565.4000000000001",
         "54.0",
         "2.0",
         ""
        ],
        [
         "36",
         "130006001A",
         "2019",
         "3089.4",
         "365.0",
         "12.0",
         ""
        ],
        [
         "37",
         "130006001A",
         "2020",
         "2550.0",
         "366.0",
         "8.0",
         ""
        ],
        [
         "38",
         "130008601A",
         "2018",
         "190.83",
         "24.0",
         "2.0",
         "LQ"
        ],
        [
         "39",
         "130008601A",
         "2019",
         "1928.4",
         "347.0",
         "16.0",
         ""
        ],
        [
         "40",
         "130008601A",
         "2020",
         "231.38",
         "348.0",
         "97.0",
         "LQ"
        ],
        [
         "41",
         "130010201A",
         "2018",
         "167.4",
         "24.0",
         "2.0",
         "LQ"
        ],
        [
         "42",
         "130010201A",
         "2019",
         "2391.7999999999997",
         "365.0",
         "9.0",
         ""
        ],
        [
         "43",
         "130010201A",
         "2020",
         "59.0",
         "363.0",
         "352.0",
         "LQ"
        ],
        [
         "44",
         "130014401A",
         "2018",
         "1232.1100000000001",
         "144.0",
         "8.0",
         ""
        ],
        [
         "45",
         "130014401A",
         "2019",
         "2559.4700000000003",
         "345.0",
         "17.0",
         ""
        ],
        [
         "46",
         "130014401A",
         "2020",
         "261.34",
         "27.0",
         "1.0",
         "LQ"
        ],
        [
         "47",
         "130020101A",
         "2018",
         "735.8000000000001",
         "56.0",
         "4.0",
         ""
        ],
        [
         "48",
         "130020101A",
         "2019",
         "2363.4",
         "318.0",
         "7.0",
         ""
        ],
        [
         "49",
         "130020101A",
         "2020",
         "37.0",
         "11.0",
         "3.0",
         "LQ"
        ]
       ],
       "shape": {
        "columns": 6,
        "rows": 22773
       }
      },
      "text/html": [
       "<div>\n",
       "<style scoped>\n",
       "    .dataframe tbody tr th:only-of-type {\n",
       "        vertical-align: middle;\n",
       "    }\n",
       "\n",
       "    .dataframe tbody tr th {\n",
       "        vertical-align: top;\n",
       "    }\n",
       "\n",
       "    .dataframe thead th {\n",
       "        text-align: right;\n",
       "    }\n",
       "</style>\n",
       "<table border=\"1\" class=\"dataframe\">\n",
       "  <thead>\n",
       "    <tr style=\"text-align: right;\">\n",
       "      <th></th>\n",
       "      <th>gauge_code</th>\n",
       "      <th>year</th>\n",
       "      <th>annual_rainfall_mm</th>\n",
       "      <th>active_days</th>\n",
       "      <th>consecutive_dry_days</th>\n",
       "      <th>preclassif</th>\n",
       "    </tr>\n",
       "  </thead>\n",
       "  <tbody>\n",
       "    <tr>\n",
       "      <th>0</th>\n",
       "      <td>110018901A</td>\n",
       "      <td>2018</td>\n",
       "      <td>969.740000</td>\n",
       "      <td>136.0</td>\n",
       "      <td>21.0</td>\n",
       "      <td></td>\n",
       "    </tr>\n",
       "    <tr>\n",
       "      <th>1</th>\n",
       "      <td>110018901A</td>\n",
       "      <td>2019</td>\n",
       "      <td>1786.230000</td>\n",
       "      <td>365.0</td>\n",
       "      <td>58.0</td>\n",
       "      <td></td>\n",
       "    </tr>\n",
       "    <tr>\n",
       "      <th>2</th>\n",
       "      <td>110018901A</td>\n",
       "      <td>2020</td>\n",
       "      <td>347.270000</td>\n",
       "      <td>366.0</td>\n",
       "      <td>328.0</td>\n",
       "      <td>LQ</td>\n",
       "    </tr>\n",
       "    <tr>\n",
       "      <th>3</th>\n",
       "      <td>110020501A</td>\n",
       "      <td>2014</td>\n",
       "      <td>108.270409</td>\n",
       "      <td>16.0</td>\n",
       "      <td>2.0</td>\n",
       "      <td>LQ</td>\n",
       "    </tr>\n",
       "    <tr>\n",
       "      <th>4</th>\n",
       "      <td>110020501A</td>\n",
       "      <td>2017</td>\n",
       "      <td>138.460000</td>\n",
       "      <td>92.0</td>\n",
       "      <td>55.0</td>\n",
       "      <td>LQ</td>\n",
       "    </tr>\n",
       "    <tr>\n",
       "      <th>...</th>\n",
       "      <td>...</td>\n",
       "      <td>...</td>\n",
       "      <td>...</td>\n",
       "      <td>...</td>\n",
       "      <td>...</td>\n",
       "      <td>...</td>\n",
       "    </tr>\n",
       "    <tr>\n",
       "      <th>22768</th>\n",
       "      <td>CEMADEN_12</td>\n",
       "      <td>2019</td>\n",
       "      <td>598.120000</td>\n",
       "      <td>90.0</td>\n",
       "      <td>5.0</td>\n",
       "      <td></td>\n",
       "    </tr>\n",
       "    <tr>\n",
       "      <th>22769</th>\n",
       "      <td>CEMADEN_12</td>\n",
       "      <td>2020</td>\n",
       "      <td>398.050000</td>\n",
       "      <td>31.0</td>\n",
       "      <td>1.0</td>\n",
       "      <td></td>\n",
       "    </tr>\n",
       "    <tr>\n",
       "      <th>22770</th>\n",
       "      <td>CEMADEN_13</td>\n",
       "      <td>2019</td>\n",
       "      <td>51.800000</td>\n",
       "      <td>30.0</td>\n",
       "      <td>12.0</td>\n",
       "      <td>LQ</td>\n",
       "    </tr>\n",
       "    <tr>\n",
       "      <th>22771</th>\n",
       "      <td>CEMADEN_14</td>\n",
       "      <td>2018</td>\n",
       "      <td>436.400000</td>\n",
       "      <td>92.0</td>\n",
       "      <td>3.0</td>\n",
       "      <td></td>\n",
       "    </tr>\n",
       "    <tr>\n",
       "      <th>22772</th>\n",
       "      <td>CEMADEN_14</td>\n",
       "      <td>2019</td>\n",
       "      <td>613.800000</td>\n",
       "      <td>120.0</td>\n",
       "      <td>10.0</td>\n",
       "      <td></td>\n",
       "    </tr>\n",
       "  </tbody>\n",
       "</table>\n",
       "<p>22773 rows × 6 columns</p>\n",
       "</div>"
      ],
      "text/plain": [
       "       gauge_code  year  annual_rainfall_mm  active_days  \\\n",
       "0      110018901A  2018          969.740000        136.0   \n",
       "1      110018901A  2019         1786.230000        365.0   \n",
       "2      110018901A  2020          347.270000        366.0   \n",
       "3      110020501A  2014          108.270409         16.0   \n",
       "4      110020501A  2017          138.460000         92.0   \n",
       "...           ...   ...                 ...          ...   \n",
       "22768  CEMADEN_12  2019          598.120000         90.0   \n",
       "22769  CEMADEN_12  2020          398.050000         31.0   \n",
       "22770  CEMADEN_13  2019           51.800000         30.0   \n",
       "22771  CEMADEN_14  2018          436.400000         92.0   \n",
       "22772  CEMADEN_14  2019          613.800000        120.0   \n",
       "\n",
       "       consecutive_dry_days preclassif  \n",
       "0                      21.0             \n",
       "1                      58.0             \n",
       "2                     328.0         LQ  \n",
       "3                       2.0         LQ  \n",
       "4                      55.0         LQ  \n",
       "...                     ...        ...  \n",
       "22768                   5.0             \n",
       "22769                   1.0             \n",
       "22770                  12.0         LQ  \n",
       "22771                   3.0             \n",
       "22772                  10.0             \n",
       "\n",
       "[22773 rows x 6 columns]"
      ]
     },
     "execution_count": 109,
     "metadata": {},
     "output_type": "execute_result"
    }
   ],
   "source": [
    "df_preclassif = grouped.apply(calculate_metrics).reset_index()\n",
    "df_preclassif\n",
    "df_preclassif['preclassif'] = df_preclassif.apply(\n",
    "    lambda row: 'LQ' if (row['annual_rainfall_mm'] < 300 or row['annual_rainfall_mm'] > 6000\n",
    "                        #  or row['active_days'] < 305\n",
    "                         or row['consecutive_dry_days'] > 200) else \"\", axis=1)\n",
    "df_preclassif"
   ]
  },
  {
   "cell_type": "code",
   "execution_count": 110,
   "id": "6d0c0a72",
   "metadata": {},
   "outputs": [
    {
     "name": "stdout",
     "output_type": "stream",
     "text": [
      "preclassif\n",
      "      18278\n",
      "LQ     4495\n",
      "Name: count, dtype: int64\n"
     ]
    }
   ],
   "source": [
    "preclassif_counts = df_preclassif['preclassif'].value_counts()\n",
    "print(preclassif_counts)"
   ]
  },
  {
   "cell_type": "code",
   "execution_count": 111,
   "id": "bd7dad9b",
   "metadata": {},
   "outputs": [
    {
     "data": {
      "text/plain": [
       "0.19738286567426339"
      ]
     },
     "execution_count": 111,
     "metadata": {},
     "output_type": "execute_result"
    }
   ],
   "source": [
    "preclassif_counts['LQ'] / preclassif_counts.sum()"
   ]
  },
  {
   "cell_type": "code",
   "execution_count": 112,
   "id": "134ff24c",
   "metadata": {},
   "outputs": [
    {
     "data": {
      "application/vnd.microsoft.datawrangler.viewer.v0+json": {
       "columns": [
        {
         "name": "index",
         "rawType": "int64",
         "type": "integer"
        },
        {
         "name": "gauge_code",
         "rawType": "object",
         "type": "string"
        },
        {
         "name": "year",
         "rawType": "int32",
         "type": "integer"
        },
        {
         "name": "annual_rainfall_mm",
         "rawType": "float64",
         "type": "float"
        },
        {
         "name": "active_days",
         "rawType": "float64",
         "type": "float"
        },
        {
         "name": "consecutive_dry_days",
         "rawType": "float64",
         "type": "float"
        },
        {
         "name": "preclassif",
         "rawType": "object",
         "type": "string"
        }
       ],
       "conversionMethod": "pd.DataFrame",
       "ref": "1ffbae74-227c-4541-af02-bff7eef2c44e",
       "rows": [
        [
         "0",
         "110018901A",
         "2018",
         "969.74",
         "136.0",
         "21.0",
         ""
        ],
        [
         "1",
         "110018901A",
         "2019",
         "1786.2300000000005",
         "365.0",
         "58.0",
         ""
        ],
        [
         "2",
         "110018901A",
         "2020",
         "347.27",
         "366.0",
         "328.0",
         "LQ"
        ],
        [
         "3",
         "110020501A",
         "2014",
         "108.27040860700001",
         "16.0",
         "2.0",
         "LQ"
        ],
        [
         "4",
         "110020501A",
         "2017",
         "138.45999999999998",
         "92.0",
         "55.0",
         "LQ"
        ],
        [
         "5",
         "110020501A",
         "2020",
         "932.92",
         "144.0",
         "9.0",
         ""
        ],
        [
         "6",
         "110020502A",
         "2014",
         "1469.6512260700001",
         "262.0",
         "36.0",
         ""
        ],
        [
         "7",
         "110020502A",
         "2015",
         "2.4",
         "9.0",
         "0.0",
         "LQ"
        ],
        [
         "8",
         "110020502A",
         "2016",
         "97.2",
         "324.0",
         "156.0",
         "LQ"
        ],
        [
         "9",
         "110020502A",
         "2017",
         "4.12",
         "250.0",
         "201.0",
         "LQ"
        ],
        [
         "10",
         "110020502A",
         "2020",
         "769.8399999999999",
         "144.0",
         "9.0",
         ""
        ],
        [
         "11",
         "120010401A",
         "2018",
         "879.2000000000002",
         "140.0",
         "10.0",
         ""
        ],
        [
         "12",
         "120010401A",
         "2019",
         "2179.4",
         "365.0",
         "31.0",
         ""
        ],
        [
         "13",
         "120010401A",
         "2020",
         "810.5999999999999",
         "366.0",
         "265.0",
         "LQ"
        ],
        [
         "14",
         "120032801A",
         "2018",
         "945.0000000000001",
         "140.0",
         "12.0",
         ""
        ],
        [
         "15",
         "120032801A",
         "2019",
         "2099.3999999999996",
         "365.0",
         "23.0",
         ""
        ],
        [
         "16",
         "120032801A",
         "2020",
         "1934.7999999999997",
         "366.0",
         "28.0",
         ""
        ],
        [
         "17",
         "120040101A",
         "2014",
         "606.871313889",
         "334.0",
         "65.0",
         ""
        ],
        [
         "18",
         "120040101A",
         "2015",
         "63.95",
         "365.0",
         "78.0",
         "LQ"
        ],
        [
         "19",
         "120040101A",
         "2016",
         "4.6000000000000005",
         "342.0",
         "188.0",
         "LQ"
        ],
        [
         "20",
         "120040101A",
         "2017",
         "88.96",
         "1.0",
         "0.0",
         "LQ"
        ],
        [
         "21",
         "120040101A",
         "2020",
         "532.32",
         "143.0",
         "10.0",
         ""
        ],
        [
         "22",
         "120040101H",
         "2016",
         "407.99999999999994",
         "52.0",
         "4.0",
         ""
        ],
        [
         "23",
         "120040101H",
         "2017",
         "1311.0",
         "140.0",
         "9.0",
         ""
        ],
        [
         "24",
         "120040101H",
         "2020",
         "0.2",
         "1.0",
         "0.0",
         "LQ"
        ],
        [
         "25",
         "120040102A",
         "2014",
         "749.8101148630001",
         "76.0",
         "6.0",
         ""
        ],
        [
         "26",
         "120040102A",
         "2020",
         "380.53999999999996",
         "142.0",
         "13.0",
         ""
        ],
        [
         "27",
         "120040102H",
         "2016",
         "428.8",
         "54.0",
         "3.0",
         ""
        ],
        [
         "28",
         "120040102H",
         "2017",
         "147.20000000000002",
         "11.0",
         "1.0",
         "LQ"
        ],
        [
         "29",
         "120070801A",
         "2018",
         "570.4",
         "140.0",
         "10.0",
         ""
        ],
        [
         "30",
         "120070801A",
         "2019",
         "2386.4",
         "365.0",
         "30.0",
         ""
        ],
        [
         "31",
         "120070801A",
         "2020",
         "1918.1999999999998",
         "366.0",
         "24.0",
         ""
        ],
        [
         "32",
         "130002901A",
         "2018",
         "430.20000000000005",
         "49.0",
         "1.0",
         ""
        ],
        [
         "33",
         "130002901A",
         "2019",
         "69.2",
         "7.0",
         "1.0",
         "LQ"
        ],
        [
         "34",
         "130002901A",
         "2020",
         "110.80000000000001",
         "9.0",
         "3.0",
         "LQ"
        ],
        [
         "35",
         "130006001A",
         "2018",
         "565.4000000000001",
         "54.0",
         "2.0",
         ""
        ],
        [
         "36",
         "130006001A",
         "2019",
         "3089.4",
         "365.0",
         "12.0",
         ""
        ],
        [
         "37",
         "130006001A",
         "2020",
         "2550.0",
         "366.0",
         "8.0",
         ""
        ],
        [
         "38",
         "130008601A",
         "2018",
         "190.83",
         "24.0",
         "2.0",
         "LQ"
        ],
        [
         "39",
         "130008601A",
         "2019",
         "1928.4",
         "347.0",
         "16.0",
         ""
        ],
        [
         "40",
         "130008601A",
         "2020",
         "231.38",
         "348.0",
         "97.0",
         "LQ"
        ],
        [
         "41",
         "130010201A",
         "2018",
         "167.4",
         "24.0",
         "2.0",
         "LQ"
        ],
        [
         "42",
         "130010201A",
         "2019",
         "2391.7999999999997",
         "365.0",
         "9.0",
         ""
        ],
        [
         "43",
         "130010201A",
         "2020",
         "59.0",
         "363.0",
         "352.0",
         "LQ"
        ],
        [
         "44",
         "130014401A",
         "2018",
         "1232.1100000000001",
         "144.0",
         "8.0",
         ""
        ],
        [
         "45",
         "130014401A",
         "2019",
         "2559.4700000000003",
         "345.0",
         "17.0",
         ""
        ],
        [
         "46",
         "130014401A",
         "2020",
         "261.34",
         "27.0",
         "1.0",
         "LQ"
        ],
        [
         "47",
         "130020101A",
         "2018",
         "735.8000000000001",
         "56.0",
         "4.0",
         ""
        ],
        [
         "48",
         "130020101A",
         "2019",
         "2363.4",
         "318.0",
         "7.0",
         ""
        ],
        [
         "49",
         "130020101A",
         "2020",
         "37.0",
         "11.0",
         "3.0",
         "LQ"
        ]
       ],
       "shape": {
        "columns": 6,
        "rows": 22773
       }
      },
      "text/html": [
       "<div>\n",
       "<style scoped>\n",
       "    .dataframe tbody tr th:only-of-type {\n",
       "        vertical-align: middle;\n",
       "    }\n",
       "\n",
       "    .dataframe tbody tr th {\n",
       "        vertical-align: top;\n",
       "    }\n",
       "\n",
       "    .dataframe thead th {\n",
       "        text-align: right;\n",
       "    }\n",
       "</style>\n",
       "<table border=\"1\" class=\"dataframe\">\n",
       "  <thead>\n",
       "    <tr style=\"text-align: right;\">\n",
       "      <th></th>\n",
       "      <th>gauge_code</th>\n",
       "      <th>year</th>\n",
       "      <th>annual_rainfall_mm</th>\n",
       "      <th>active_days</th>\n",
       "      <th>consecutive_dry_days</th>\n",
       "      <th>preclassif</th>\n",
       "    </tr>\n",
       "  </thead>\n",
       "  <tbody>\n",
       "    <tr>\n",
       "      <th>0</th>\n",
       "      <td>110018901A</td>\n",
       "      <td>2018</td>\n",
       "      <td>969.740000</td>\n",
       "      <td>136.0</td>\n",
       "      <td>21.0</td>\n",
       "      <td></td>\n",
       "    </tr>\n",
       "    <tr>\n",
       "      <th>1</th>\n",
       "      <td>110018901A</td>\n",
       "      <td>2019</td>\n",
       "      <td>1786.230000</td>\n",
       "      <td>365.0</td>\n",
       "      <td>58.0</td>\n",
       "      <td></td>\n",
       "    </tr>\n",
       "    <tr>\n",
       "      <th>2</th>\n",
       "      <td>110018901A</td>\n",
       "      <td>2020</td>\n",
       "      <td>347.270000</td>\n",
       "      <td>366.0</td>\n",
       "      <td>328.0</td>\n",
       "      <td>LQ</td>\n",
       "    </tr>\n",
       "    <tr>\n",
       "      <th>3</th>\n",
       "      <td>110020501A</td>\n",
       "      <td>2014</td>\n",
       "      <td>108.270409</td>\n",
       "      <td>16.0</td>\n",
       "      <td>2.0</td>\n",
       "      <td>LQ</td>\n",
       "    </tr>\n",
       "    <tr>\n",
       "      <th>4</th>\n",
       "      <td>110020501A</td>\n",
       "      <td>2017</td>\n",
       "      <td>138.460000</td>\n",
       "      <td>92.0</td>\n",
       "      <td>55.0</td>\n",
       "      <td>LQ</td>\n",
       "    </tr>\n",
       "    <tr>\n",
       "      <th>...</th>\n",
       "      <td>...</td>\n",
       "      <td>...</td>\n",
       "      <td>...</td>\n",
       "      <td>...</td>\n",
       "      <td>...</td>\n",
       "      <td>...</td>\n",
       "    </tr>\n",
       "    <tr>\n",
       "      <th>22768</th>\n",
       "      <td>CEMADEN_12</td>\n",
       "      <td>2019</td>\n",
       "      <td>598.120000</td>\n",
       "      <td>90.0</td>\n",
       "      <td>5.0</td>\n",
       "      <td></td>\n",
       "    </tr>\n",
       "    <tr>\n",
       "      <th>22769</th>\n",
       "      <td>CEMADEN_12</td>\n",
       "      <td>2020</td>\n",
       "      <td>398.050000</td>\n",
       "      <td>31.0</td>\n",
       "      <td>1.0</td>\n",
       "      <td></td>\n",
       "    </tr>\n",
       "    <tr>\n",
       "      <th>22770</th>\n",
       "      <td>CEMADEN_13</td>\n",
       "      <td>2019</td>\n",
       "      <td>51.800000</td>\n",
       "      <td>30.0</td>\n",
       "      <td>12.0</td>\n",
       "      <td>LQ</td>\n",
       "    </tr>\n",
       "    <tr>\n",
       "      <th>22771</th>\n",
       "      <td>CEMADEN_14</td>\n",
       "      <td>2018</td>\n",
       "      <td>436.400000</td>\n",
       "      <td>92.0</td>\n",
       "      <td>3.0</td>\n",
       "      <td></td>\n",
       "    </tr>\n",
       "    <tr>\n",
       "      <th>22772</th>\n",
       "      <td>CEMADEN_14</td>\n",
       "      <td>2019</td>\n",
       "      <td>613.800000</td>\n",
       "      <td>120.0</td>\n",
       "      <td>10.0</td>\n",
       "      <td></td>\n",
       "    </tr>\n",
       "  </tbody>\n",
       "</table>\n",
       "<p>22773 rows × 6 columns</p>\n",
       "</div>"
      ],
      "text/plain": [
       "       gauge_code  year  annual_rainfall_mm  active_days  \\\n",
       "0      110018901A  2018          969.740000        136.0   \n",
       "1      110018901A  2019         1786.230000        365.0   \n",
       "2      110018901A  2020          347.270000        366.0   \n",
       "3      110020501A  2014          108.270409         16.0   \n",
       "4      110020501A  2017          138.460000         92.0   \n",
       "...           ...   ...                 ...          ...   \n",
       "22768  CEMADEN_12  2019          598.120000         90.0   \n",
       "22769  CEMADEN_12  2020          398.050000         31.0   \n",
       "22770  CEMADEN_13  2019           51.800000         30.0   \n",
       "22771  CEMADEN_14  2018          436.400000         92.0   \n",
       "22772  CEMADEN_14  2019          613.800000        120.0   \n",
       "\n",
       "       consecutive_dry_days preclassif  \n",
       "0                      21.0             \n",
       "1                      58.0             \n",
       "2                     328.0         LQ  \n",
       "3                       2.0         LQ  \n",
       "4                      55.0         LQ  \n",
       "...                     ...        ...  \n",
       "22768                   5.0             \n",
       "22769                   1.0             \n",
       "22770                  12.0         LQ  \n",
       "22771                   3.0             \n",
       "22772                  10.0             \n",
       "\n",
       "[22773 rows x 6 columns]"
      ]
     },
     "execution_count": 112,
     "metadata": {},
     "output_type": "execute_result"
    }
   ],
   "source": [
    "df_preclassif.to_hdf(cemaden_path, key='table_preclassif', mode='r+', complevel=9, complib='zlib')\n",
    "df_preclassif"
   ]
  },
  {
   "cell_type": "markdown",
   "id": "25eaaa81",
   "metadata": {},
   "source": [
    "# Outlier treatment"
   ]
  },
  {
   "cell_type": "code",
   "execution_count": 113,
   "id": "3f48f24a",
   "metadata": {},
   "outputs": [],
   "source": [
    "# df_outlier = pd.merge(df_complete_info[['gauge_code', 'rain_mm', 'datetime', 'year']], df_preclassif, on = ['gauge_code', 'year'], how = 'left')\n",
    "# df_outlier = df_outlier[df_outlier['preclassif'] != 'LQ']\n",
    "# df_outlier = df_outlier[['gauge_code',\t'datetime',\t'rain_mm']]\n",
    "# df_outlier"
   ]
  },
  {
   "cell_type": "code",
   "execution_count": 114,
   "id": "c386b988",
   "metadata": {},
   "outputs": [],
   "source": [
    "# def mark_outlier_rain(df, threshold_rain_mm=200):\n",
    "#     # Garantir que a coluna 'datetime' está no formato datetime\n",
    "#     df['datetime'] = pd.to_datetime(df['datetime'])\n",
    "\n",
    "#     # Ordenar por estação e data\n",
    "#     df_sorted = df.sort_values(['gauge_code', 'datetime']).copy()\n",
    "\n",
    "#     # Calcular chuva do dia anterior e do dia seguinte\n",
    "#     df_sorted['yesterday_rain_mm'] = df_sorted.groupby('gauge_code')['rain_mm'].shift(1)\n",
    "#     df_sorted['tomorrow_rain_mm'] = df_sorted.groupby('gauge_code')['rain_mm'].shift(-1)\n",
    "\n",
    "#     # Calcular soma da chuva nos dias adjacentes\n",
    "#     df_sorted['adjacent_days_mm'] = df_sorted['yesterday_rain_mm'] + df_sorted['tomorrow_rain_mm']\n",
    "\n",
    "#     # Regra para identificar outlier\n",
    "#     condition = (\n",
    "#         (df_sorted['rain_mm'] > threshold_rain_mm) &\n",
    "#         (df_sorted['adjacent_days_mm'] < 0.025 * df_sorted['rain_mm'])\n",
    "#     )\n",
    "\n",
    "#     df_sorted['outlier_status_1'] = np.where(condition, 1, 0)\n",
    "\n",
    "#     return df_sorted\n",
    "\n",
    "# # Aplicar na base df_outlier_filter_1\n",
    "# df_outlier_filter_1 = mark_outlier_rain(df_outlier)\n",
    "# df_outlier_filter_1"
   ]
  },
  {
   "cell_type": "code",
   "execution_count": 115,
   "id": "4b9d807f",
   "metadata": {},
   "outputs": [],
   "source": [
    "# neighboring_data_path = r'.\\1 - Organized data gauge\\BRAZIL\\QC_VALIDATION\\DATASET'\n",
    "# neighboring_data_path\n"
   ]
  },
  {
   "cell_type": "code",
   "execution_count": 116,
   "id": "21da6616",
   "metadata": {},
   "outputs": [],
   "source": [
    "# df_outlier_filter_1_export = df_outlier_filter_1[df_outlier_filter_1['outlier_status_1'] == 1]\n",
    "# df_outlier_filter_1_export.to_hdf(\n",
    "#         os.path.join(neighboring_data_path, \"adjacent_day_analysis_filter_1.h5\"),\n",
    "#         key='table_data',\n",
    "#         mode='w',\n",
    "#         format='table',\n",
    "#         complevel=9,\n",
    "#         encoding='utf-8',\n",
    "#         append=False,\n",
    "#         min_itemsize={'gauge_code': 20}  # Adjust based on your max gauge code length\n",
    "#     )\n",
    "# df_outlier_filter_1_export"
   ]
  },
  {
   "cell_type": "code",
   "execution_count": 117,
   "id": "4ceab346",
   "metadata": {},
   "outputs": [],
   "source": [
    "# df_outlier_filter_1 = df_outlier_filter_1[['gauge_code','datetime',\t'rain_mm', 'outlier_status_1']]\n",
    "# df_outlier_filter_1 = df_outlier_filter_1[df_outlier_filter_1['outlier_status_1']==0]\n",
    "# df_outlier_filter_1 = pd.merge(df_outlier_filter_1, df_cemaden_info[['gauge_code', 'lat', 'long']], on ='gauge_code', how='left')\n",
    "\n",
    "# df_outlier_filter_1.sort_values(['datetime', 'lat', 'long'], ascending=True, inplace=True)\n",
    "# df_outlier_filter_1.reset_index(drop=True, inplace=True)\n",
    "# df_outlier_filter_1"
   ]
  },
  {
   "cell_type": "code",
   "execution_count": 118,
   "id": "856172b3",
   "metadata": {},
   "outputs": [],
   "source": [
    "# def idw_interpolation(latitude, longitude, df_temp_without_gauge, kdtree, p=2):\n",
    "#     row = [latitude, longitude]\n",
    "#     distances, indices = kdtree.query(row, k=5)\n",
    "#     weights = 1 / (distances + 1e-6) ** p\n",
    "#     values = df_temp_without_gauge.iloc[indices]['rain_mm'].values\n",
    "#     return (np.sum(weights * values) / np.sum(weights))\n",
    "\n",
    "# # Initialize empty DataFrame for results\n",
    "# outlier_analysis_results = pd.DataFrame()\n",
    "\n",
    "# # Configurations\n",
    "# output_filename = os.path.join(neighboring_data_path, \"neighboring_analysis.h5\")\n",
    "# rainfall_threshold = 200.0  # mm\n",
    "\n",
    "# start_date = '2014-01-01'\n",
    "# end_date = '2020-12-31'\n",
    "\n",
    "# df_date = df_outlier_filter_1.loc[(df_outlier_filter_1['datetime'] >= start_date) & (df_outlier_filter_1['datetime'] <= end_date)].sort_values('datetime', ignore_index=True, ascending=True)\n",
    "\n",
    "# # Get sorted unique dates\n",
    "# analysis_dates = df_date['datetime'].unique().tolist()\n",
    "# analysis_dates.sort()\n",
    "\n",
    "# # Process each date\n",
    "# for current_date in analysis_dates[:]:\n",
    "#     # Filter data for current date\n",
    "#     daily_data = df_outlier_filter_1[df_outlier_filter_1['datetime'] == current_date]\n",
    "#     gauge_codes = daily_data['gauge_code'].unique()\n",
    "    \n",
    "#     date_results = []\n",
    "    \n",
    "#     for gauge in gauge_codes:\n",
    "#         gauge_data = daily_data[daily_data['gauge_code'] == gauge].iloc[0]\n",
    "#         lat, lon = gauge_data['lat'], gauge_data['long']\n",
    "#         observed_rain = gauge_data['rain_mm']\n",
    "        \n",
    "#         # Initialize result row\n",
    "#         result_row = {\n",
    "#             'gauge_code': gauge,\n",
    "#             'datetime': current_date,\n",
    "#             'lat': lat,\n",
    "#             'long': lon,\n",
    "#             'observed_rain_mm': observed_rain,\n",
    "#             'interpolated_rain_mm': np.nan\n",
    "#         }\n",
    "        \n",
    "#         # Only interpolate for high rainfall values\n",
    "#         if observed_rain > rainfall_threshold:\n",
    "#             neighbor_data = daily_data[daily_data['gauge_code'] != gauge]\n",
    "            \n",
    "#             if len(neighbor_data) > 0:\n",
    "#                 kd_tree = KDTree(neighbor_data[['lat', 'long']].values)\n",
    "#                 result_row['interpolated_rain_mm'] = idw_interpolation(lat, lon, neighbor_data, kd_tree)\n",
    "        \n",
    "#         date_results.append(pd.DataFrame([result_row]))\n",
    "    \n",
    "#     # Combine results for current date\n",
    "#     daily_results = pd.concat(date_results, ignore_index=True)\n",
    "    \n",
    "#     # Save to HDF5 with proper configuration\n",
    "#     storage_mode = 'w' if current_date == analysis_dates[0] else 'a'\n",
    "#     append_mode = False if current_date == analysis_dates[0] else True\n",
    "\n",
    "#     # storage_mode = 'r+'\n",
    "#     # append_mode = True\n",
    "    \n",
    "#     daily_results.to_hdf(\n",
    "#         output_filename,\n",
    "#         key='table_data',\n",
    "#         mode=storage_mode,\n",
    "#         format='table',\n",
    "#         complevel=9,\n",
    "#         encoding='utf-8',\n",
    "#         append=append_mode,\n",
    "#         min_itemsize={'gauge_code': 20}  # Adjust based on your max gauge code length\n",
    "#     )\n",
    "    \n",
    "#     print(f\"Saved results for {current_date} to {output_filename}\")"
   ]
  },
  {
   "cell_type": "code",
   "execution_count": 119,
   "id": "bf23ea04",
   "metadata": {},
   "outputs": [],
   "source": [
    "# output_filename = os.path.join(neighboring_data_path, \"neighboring_analysis.h5\")\n",
    "\n",
    "# df_outlier_2 = pd.read_hdf(output_filename, key='table_data')\n",
    "# df_outlier_2"
   ]
  },
  {
   "cell_type": "code",
   "execution_count": 120,
   "id": "3f6887e8",
   "metadata": {},
   "outputs": [],
   "source": [
    "# df_outlier_filter_2_export = df_outlier_2[df_outlier_2['interpolated_rain_mm'] >= 0.0].reset_index(drop = True)\n",
    "# df_outlier_filter_2_export = df_outlier_filter_2_export[df_outlier_filter_2_export['interpolated_rain_mm'] >= 0.35 * df_outlier_filter_2_export['observed_rain_mm']]\n",
    "# df_outlier_filter_2_export['outlier_status_2'] = 1\n",
    "# df_outlier_filter_2_export"
   ]
  },
  {
   "cell_type": "code",
   "execution_count": 121,
   "id": "356911db",
   "metadata": {},
   "outputs": [],
   "source": [
    "# df_outlier_filter_2_export.to_hdf(\n",
    "#         os.path.join(neighboring_data_path, \"neighboring_analysis_filter_2.h5\"),\n",
    "#         key='table_data',\n",
    "#         mode='w',\n",
    "#         format='table',\n",
    "#         complevel=9,\n",
    "#         encoding='utf-8',\n",
    "#         append=False,\n",
    "#         min_itemsize={'gauge_code': 20}  # Adjust based on your max gauge code length\n",
    "#     )\n",
    "# df_outlier_filter_2_export"
   ]
  },
  {
   "cell_type": "code",
   "execution_count": 122,
   "id": "85b1f8f3",
   "metadata": {},
   "outputs": [],
   "source": [
    "# df_filter_1 = pd.read_hdf(os.path.join(neighboring_data_path, \"adjacent_day_analysis_filter_1.h5\"), key='table_data')\n",
    "# df_filter_1 = df_filter_1[['gauge_code', 'datetime', 'outlier_status_1']]\n",
    "# df_filter_1"
   ]
  },
  {
   "cell_type": "code",
   "execution_count": 123,
   "id": "37f22b9e",
   "metadata": {},
   "outputs": [],
   "source": [
    "# df_filter_2 = pd.read_hdf(os.path.join(neighboring_data_path, \"neighboring_analysis_filter_2.h5\"), key='table_data')\n",
    "# df_filter_2['outlier_status_2'] = 1\n",
    "# df_filter_2 = df_filter_2[['gauge_code', 'datetime', 'outlier_status_2']]\n",
    "# df_filter_2"
   ]
  },
  {
   "cell_type": "code",
   "execution_count": 124,
   "id": "12954cd8",
   "metadata": {},
   "outputs": [],
   "source": [
    "# df_data_filtered = pd.merge(df_cemaden_data, df_filter_1, on = ['gauge_code', 'datetime'], how = 'left').merge(df_filter_2, on = ['gauge_code', 'datetime'], how = 'left')\n",
    "# df_data_filtered = df_data_filtered[(df_data_filtered['outlier_status_1'] != 1) & (df_data_filtered['outlier_status_2'] != 1)]\n",
    "# df_data_filtered"
   ]
  },
  {
   "cell_type": "code",
   "execution_count": 125,
   "id": "be3a1cdf",
   "metadata": {},
   "outputs": [
    {
     "name": "stdout",
     "output_type": "stream",
     "text": [
      "['table_data', 'table_data_filtered', 'table_info', 'table_p_availability', 'table_preclassif', 'table_q1_gaps', 'table_q2_week', 'table_q3_outliers', 'table_qc_info']\n"
     ]
    }
   ],
   "source": [
    "with h5py.File(cemaden_path, 'r') as hdf:\n",
    "    keys = list(hdf.keys())\n",
    "    print(keys)"
   ]
  },
  {
   "cell_type": "code",
   "execution_count": 126,
   "id": "8dd9abf1",
   "metadata": {},
   "outputs": [],
   "source": [
    "# df_data_filtered = df_data_filtered[['gauge_code', 'datetime', 'rain_mm']].copy(deep = True)\n",
    "# df_data_filtered.to_hdf(cemaden_path, key='table_data_filtered', mode='r+', format='table', index=False, complevel=9, complib='zlib', append=False, encoding='utf-8', min_itemsize={'gauge_code': 20})\n",
    "# df_data_filtered"
   ]
  },
  {
   "cell_type": "markdown",
   "id": "7278b49d",
   "metadata": {},
   "source": [
    "# Filtered Data"
   ]
  },
  {
   "cell_type": "code",
   "execution_count": 127,
   "id": "e2ed7732",
   "metadata": {},
   "outputs": [
    {
     "name": "stdout",
     "output_type": "stream",
     "text": [
      "['table_data', 'table_data_filtered', 'table_info', 'table_p_availability', 'table_preclassif', 'table_q1_gaps', 'table_q2_week', 'table_q3_outliers', 'table_qc_info']\n"
     ]
    }
   ],
   "source": [
    "with h5py.File(cemaden_path, 'r') as hdf:\n",
    "    keys = list(hdf.keys())\n",
    "    print(keys)"
   ]
  },
  {
   "cell_type": "code",
   "execution_count": 128,
   "id": "b3c3bf1b",
   "metadata": {},
   "outputs": [
    {
     "data": {
      "application/vnd.microsoft.datawrangler.viewer.v0+json": {
       "columns": [
        {
         "name": "index",
         "rawType": "int64",
         "type": "integer"
        },
        {
         "name": "gauge_code",
         "rawType": "object",
         "type": "string"
        },
        {
         "name": "datetime",
         "rawType": "datetime64[ns]",
         "type": "datetime"
        },
        {
         "name": "rain_mm",
         "rawType": "float64",
         "type": "float"
        },
        {
         "name": "year",
         "rawType": "int32",
         "type": "integer"
        }
       ],
       "conversionMethod": "pd.DataFrame",
       "ref": "cfe23b80-f8eb-4893-b16e-5e3eb3209b2a",
       "rows": [
        [
         "0",
         "230370901A",
         "2014-01-01 00:00:00",
         "0.0",
         "2014"
        ],
        [
         "1",
         "230370902A",
         "2014-01-01 00:00:00",
         "0.0",
         "2014"
        ],
        [
         "2",
         "230370903A",
         "2014-01-01 00:00:00",
         "0.0",
         "2014"
        ],
        [
         "3",
         "230370904A",
         "2014-01-01 00:00:00",
         "0.0",
         "2014"
        ],
        [
         "4",
         "230370905A",
         "2014-01-01 00:00:00",
         "0.0",
         "2014"
        ],
        [
         "5",
         "230370906A",
         "2014-01-01 00:00:00",
         "0.0",
         "2014"
        ],
        [
         "6",
         "230420201A",
         "2014-01-01 00:00:00",
         "0.0",
         "2014"
        ],
        [
         "7",
         "230420202A",
         "2014-01-01 00:00:00",
         "7.300968726",
         "2014"
        ],
        [
         "8",
         "230440003A",
         "2014-01-01 00:00:00",
         "0.590873406",
         "2014"
        ],
        [
         "9",
         "230440004A",
         "2014-01-01 00:00:00",
         "0.0",
         "2014"
        ],
        [
         "10",
         "230440005A",
         "2014-01-01 00:00:00",
         "0.0",
         "2014"
        ],
        [
         "11",
         "230440006A",
         "2014-01-01 00:00:00",
         "0.0",
         "2014"
        ],
        [
         "12",
         "230440007A",
         "2014-01-01 00:00:00",
         "0.0",
         "2014"
        ],
        [
         "13",
         "230440008A",
         "2014-01-01 00:00:00",
         "0.0",
         "2014"
        ],
        [
         "14",
         "230440009A",
         "2014-01-01 00:00:00",
         "0.0",
         "2014"
        ],
        [
         "15",
         "230440010A",
         "2014-01-01 00:00:00",
         "0.0",
         "2014"
        ],
        [
         "16",
         "230440011A",
         "2014-01-01 00:00:00",
         "0.0",
         "2014"
        ],
        [
         "17",
         "230440012A",
         "2014-01-01 00:00:00",
         "0.0",
         "2014"
        ],
        [
         "18",
         "230440014A",
         "2014-01-01 00:00:00",
         "0.2",
         "2014"
        ],
        [
         "19",
         "230440015A",
         "2014-01-01 00:00:00",
         "0.2",
         "2014"
        ],
        [
         "20",
         "230440016A",
         "2014-01-01 00:00:00",
         "0.0",
         "2014"
        ],
        [
         "21",
         "230700701A",
         "2014-01-01 00:00:00",
         "0.0",
         "2014"
        ],
        [
         "22",
         "230700703A",
         "2014-01-01 00:00:00",
         "0.0",
         "2014"
        ],
        [
         "23",
         "230700704A",
         "2014-01-01 00:00:00",
         "0.0",
         "2014"
        ],
        [
         "24",
         "230700705A",
         "2014-01-01 00:00:00",
         "0.0",
         "2014"
        ],
        [
         "25",
         "230700706A",
         "2014-01-01 00:00:00",
         "0.0",
         "2014"
        ],
        [
         "26",
         "230730401A",
         "2014-01-01 00:00:00",
         "0.0",
         "2014"
        ],
        [
         "27",
         "230870802A",
         "2014-01-01 00:00:00",
         "0.0",
         "2014"
        ],
        [
         "28",
         "230870803A",
         "2014-01-01 00:00:00",
         "0.0",
         "2014"
        ],
        [
         "29",
         "230870804A",
         "2014-01-01 00:00:00",
         "0.0",
         "2014"
        ],
        [
         "30",
         "230870805A",
         "2014-01-01 00:00:00",
         "0.0",
         "2014"
        ],
        [
         "31",
         "231140501A",
         "2014-01-01 00:00:00",
         "0.0",
         "2014"
        ],
        [
         "32",
         "230370901A",
         "2014-01-02 00:00:00",
         "0.7943869990000001",
         "2014"
        ],
        [
         "33",
         "230370902A",
         "2014-01-02 00:00:00",
         "0.6000000000000001",
         "2014"
        ],
        [
         "34",
         "230370903A",
         "2014-01-02 00:00:00",
         "0.2",
         "2014"
        ],
        [
         "35",
         "230370904A",
         "2014-01-02 00:00:00",
         "0.9877522320000001",
         "2014"
        ],
        [
         "36",
         "230370905A",
         "2014-01-02 00:00:00",
         "2.762563873",
         "2014"
        ],
        [
         "37",
         "230370906A",
         "2014-01-02 00:00:00",
         "3.738776388",
         "2014"
        ],
        [
         "38",
         "230420201A",
         "2014-01-02 00:00:00",
         "0.0",
         "2014"
        ],
        [
         "39",
         "230420202A",
         "2014-01-02 00:00:00",
         "38.97680381",
         "2014"
        ],
        [
         "40",
         "230440003A",
         "2014-01-02 00:00:00",
         "1.38536",
         "2014"
        ],
        [
         "41",
         "230440004A",
         "2014-01-02 00:00:00",
         "2.956128658",
         "2014"
        ],
        [
         "42",
         "230440005A",
         "2014-01-02 00:00:00",
         "0.593818967",
         "2014"
        ],
        [
         "43",
         "230440006A",
         "2014-01-02 00:00:00",
         "3.1560103820000003",
         "2014"
        ],
        [
         "44",
         "230440007A",
         "2014-01-02 00:00:00",
         "0.98902",
         "2014"
        ],
        [
         "45",
         "230440008A",
         "2014-01-02 00:00:00",
         "3.737033184",
         "2014"
        ],
        [
         "46",
         "230440009A",
         "2014-01-02 00:00:00",
         "4.332683332",
         "2014"
        ],
        [
         "47",
         "230440010A",
         "2014-01-02 00:00:00",
         "4.333515095999999",
         "2014"
        ],
        [
         "48",
         "230440011A",
         "2014-01-02 00:00:00",
         "3.545981325",
         "2014"
        ],
        [
         "49",
         "230440012A",
         "2014-01-02 00:00:00",
         "22.639981095",
         "2014"
        ]
       ],
       "shape": {
        "columns": 4,
        "rows": 6808741
       }
      },
      "text/html": [
       "<div>\n",
       "<style scoped>\n",
       "    .dataframe tbody tr th:only-of-type {\n",
       "        vertical-align: middle;\n",
       "    }\n",
       "\n",
       "    .dataframe tbody tr th {\n",
       "        vertical-align: top;\n",
       "    }\n",
       "\n",
       "    .dataframe thead th {\n",
       "        text-align: right;\n",
       "    }\n",
       "</style>\n",
       "<table border=\"1\" class=\"dataframe\">\n",
       "  <thead>\n",
       "    <tr style=\"text-align: right;\">\n",
       "      <th></th>\n",
       "      <th>gauge_code</th>\n",
       "      <th>datetime</th>\n",
       "      <th>rain_mm</th>\n",
       "      <th>year</th>\n",
       "    </tr>\n",
       "  </thead>\n",
       "  <tbody>\n",
       "    <tr>\n",
       "      <th>0</th>\n",
       "      <td>230370901A</td>\n",
       "      <td>2014-01-01</td>\n",
       "      <td>0.00</td>\n",
       "      <td>2014</td>\n",
       "    </tr>\n",
       "    <tr>\n",
       "      <th>1</th>\n",
       "      <td>230370902A</td>\n",
       "      <td>2014-01-01</td>\n",
       "      <td>0.00</td>\n",
       "      <td>2014</td>\n",
       "    </tr>\n",
       "    <tr>\n",
       "      <th>2</th>\n",
       "      <td>230370903A</td>\n",
       "      <td>2014-01-01</td>\n",
       "      <td>0.00</td>\n",
       "      <td>2014</td>\n",
       "    </tr>\n",
       "    <tr>\n",
       "      <th>3</th>\n",
       "      <td>230370904A</td>\n",
       "      <td>2014-01-01</td>\n",
       "      <td>0.00</td>\n",
       "      <td>2014</td>\n",
       "    </tr>\n",
       "    <tr>\n",
       "      <th>4</th>\n",
       "      <td>230370905A</td>\n",
       "      <td>2014-01-01</td>\n",
       "      <td>0.00</td>\n",
       "      <td>2014</td>\n",
       "    </tr>\n",
       "    <tr>\n",
       "      <th>...</th>\n",
       "      <td>...</td>\n",
       "      <td>...</td>\n",
       "      <td>...</td>\n",
       "      <td>...</td>\n",
       "    </tr>\n",
       "    <tr>\n",
       "      <th>6808736</th>\n",
       "      <td>530010804A</td>\n",
       "      <td>2020-12-31</td>\n",
       "      <td>25.00</td>\n",
       "      <td>2020</td>\n",
       "    </tr>\n",
       "    <tr>\n",
       "      <th>6808737</th>\n",
       "      <td>530010805A</td>\n",
       "      <td>2020-12-31</td>\n",
       "      <td>0.00</td>\n",
       "      <td>2020</td>\n",
       "    </tr>\n",
       "    <tr>\n",
       "      <th>6808738</th>\n",
       "      <td>CEMADEN_10</td>\n",
       "      <td>2020-12-31</td>\n",
       "      <td>0.79</td>\n",
       "      <td>2020</td>\n",
       "    </tr>\n",
       "    <tr>\n",
       "      <th>6808739</th>\n",
       "      <td>CEMADEN_11</td>\n",
       "      <td>2020-12-31</td>\n",
       "      <td>1.38</td>\n",
       "      <td>2020</td>\n",
       "    </tr>\n",
       "    <tr>\n",
       "      <th>6808740</th>\n",
       "      <td>CEMADEN_12</td>\n",
       "      <td>2020-12-31</td>\n",
       "      <td>0.98</td>\n",
       "      <td>2020</td>\n",
       "    </tr>\n",
       "  </tbody>\n",
       "</table>\n",
       "<p>6808741 rows × 4 columns</p>\n",
       "</div>"
      ],
      "text/plain": [
       "         gauge_code   datetime  rain_mm  year\n",
       "0        230370901A 2014-01-01     0.00  2014\n",
       "1        230370902A 2014-01-01     0.00  2014\n",
       "2        230370903A 2014-01-01     0.00  2014\n",
       "3        230370904A 2014-01-01     0.00  2014\n",
       "4        230370905A 2014-01-01     0.00  2014\n",
       "...             ...        ...      ...   ...\n",
       "6808736  530010804A 2020-12-31    25.00  2020\n",
       "6808737  530010805A 2020-12-31     0.00  2020\n",
       "6808738  CEMADEN_10 2020-12-31     0.79  2020\n",
       "6808739  CEMADEN_11 2020-12-31     1.38  2020\n",
       "6808740  CEMADEN_12 2020-12-31     0.98  2020\n",
       "\n",
       "[6808741 rows x 4 columns]"
      ]
     },
     "execution_count": 128,
     "metadata": {},
     "output_type": "execute_result"
    }
   ],
   "source": [
    "df_cemaden_data = pd.read_hdf(cemaden_path, key='table_data_filtered')\n",
    "df_cemaden_data['year'] = df_cemaden_data['datetime'].dt.year\n",
    "df_cemaden_data = df_cemaden_data[(df_cemaden_data['year'] <= 2020)\n",
    "                                    & (df_cemaden_data['rain_mm']>= 0.0)\n",
    "                                    & (df_cemaden_data['rain_mm']<= 600.0)].reset_index(drop=True)\n",
    "df_cemaden_data\n",
    "# filtered version of the dataset"
   ]
  },
  {
   "cell_type": "code",
   "execution_count": 129,
   "id": "36142e49",
   "metadata": {},
   "outputs": [
    {
     "data": {
      "text/plain": [
       "4178"
      ]
     },
     "execution_count": 129,
     "metadata": {},
     "output_type": "execute_result"
    }
   ],
   "source": [
    "df_cemaden_data['gauge_code'].nunique()"
   ]
  },
  {
   "cell_type": "markdown",
   "id": "eed021cf",
   "metadata": {},
   "source": [
    "# Parameters"
   ]
  },
  {
   "cell_type": "code",
   "execution_count": 130,
   "id": "b2d5f40a",
   "metadata": {},
   "outputs": [],
   "source": [
    "wet_day_mm = 1.0"
   ]
  },
  {
   "cell_type": "markdown",
   "id": "be51ba94",
   "metadata": {},
   "source": [
    "# P"
   ]
  },
  {
   "cell_type": "code",
   "execution_count": 154,
   "id": "1ceadd74",
   "metadata": {},
   "outputs": [
    {
     "data": {
      "application/vnd.microsoft.datawrangler.viewer.v0+json": {
       "columns": [
        {
         "name": "index",
         "rawType": "int64",
         "type": "integer"
        },
        {
         "name": "gauge_code",
         "rawType": "object",
         "type": "string"
        },
        {
         "name": "year",
         "rawType": "int64",
         "type": "integer"
        },
        {
         "name": "p_availability",
         "rawType": "float64",
         "type": "float"
        }
       ],
       "conversionMethod": "pd.DataFrame",
       "ref": "35212e0c-4b84-4cdd-a1e9-858bb3c8e403",
       "rows": [
        [
         "0",
         "110020501A",
         "2014",
         "4.383561643835616"
        ],
        [
         "1",
         "110020502A",
         "2014",
         "71.78082191780823"
        ],
        [
         "2",
         "120040101A",
         "2014",
         "91.5068493150685"
        ],
        [
         "3",
         "120040102A",
         "2014",
         "20.82191780821918"
        ],
        [
         "4",
         "150120401A",
         "2014",
         "16.71232876712329"
        ],
        [
         "5",
         "150140201A",
         "2014",
         "16.71232876712329"
        ],
        [
         "6",
         "150350701A",
         "2014",
         "16.71232876712329"
        ],
        [
         "7",
         "150380401A",
         "2014",
         "16.71232876712329"
        ],
        [
         "8",
         "150810001A",
         "2014",
         "16.71232876712329"
        ],
        [
         "9",
         "220120001A",
         "2014",
         "75.34246575342466"
        ],
        [
         "10",
         "220220801A",
         "2014",
         "75.34246575342466"
        ],
        [
         "11",
         "220265301A",
         "2014",
         "16.164383561643834"
        ],
        [
         "12",
         "220265302A",
         "2014",
         "16.164383561643834"
        ],
        [
         "13",
         "220370101A",
         "2014",
         "75.34246575342466"
        ],
        [
         "14",
         "230075401A",
         "2014",
         "74.79452054794521"
        ],
        [
         "15",
         "230075402A",
         "2014",
         "74.79452054794521"
        ],
        [
         "16",
         "230075403A",
         "2014",
         "74.52054794520548"
        ],
        [
         "17",
         "230170301A",
         "2014",
         "91.5068493150685"
        ],
        [
         "18",
         "230230501A",
         "2014",
         "74.24657534246575"
        ],
        [
         "19",
         "230240401A",
         "2014",
         "91.5068493150685"
        ],
        [
         "20",
         "230370901A",
         "2014",
         "100.0"
        ],
        [
         "21",
         "230370902A",
         "2014",
         "100.0"
        ],
        [
         "22",
         "230370903A",
         "2014",
         "100.0"
        ],
        [
         "23",
         "230370904A",
         "2014",
         "100.0"
        ],
        [
         "24",
         "230370905A",
         "2014",
         "100.0"
        ],
        [
         "25",
         "230370906A",
         "2014",
         "87.94520547945206"
        ],
        [
         "26",
         "230420201A",
         "2014",
         "69.86301369863014"
        ],
        [
         "27",
         "230420202A",
         "2014",
         "100.0"
        ],
        [
         "28",
         "230435001A",
         "2014",
         "73.97260273972603"
        ],
        [
         "29",
         "230440001A",
         "2014",
         "91.5068493150685"
        ],
        [
         "30",
         "230440002A",
         "2014",
         "91.5068493150685"
        ],
        [
         "31",
         "230440003A",
         "2014",
         "100.0"
        ],
        [
         "32",
         "230440004A",
         "2014",
         "100.0"
        ],
        [
         "33",
         "230440005A",
         "2014",
         "100.0"
        ],
        [
         "34",
         "230440006A",
         "2014",
         "100.0"
        ],
        [
         "35",
         "230440007A",
         "2014",
         "100.0"
        ],
        [
         "36",
         "230440008A",
         "2014",
         "100.0"
        ],
        [
         "37",
         "230440009A",
         "2014",
         "100.0"
        ],
        [
         "38",
         "230440010A",
         "2014",
         "100.0"
        ],
        [
         "39",
         "230440011A",
         "2014",
         "100.0"
        ],
        [
         "40",
         "230440012A",
         "2014",
         "100.0"
        ],
        [
         "41",
         "230440013A",
         "2014",
         "89.58904109589041"
        ],
        [
         "42",
         "230440014A",
         "2014",
         "100.0"
        ],
        [
         "43",
         "230440015A",
         "2014",
         "100.0"
        ],
        [
         "44",
         "230440016A",
         "2014",
         "100.0"
        ],
        [
         "45",
         "230610801A",
         "2014",
         "72.87671232876713"
        ],
        [
         "46",
         "230700701A",
         "2014",
         "100.0"
        ],
        [
         "47",
         "230700703A",
         "2014",
         "100.0"
        ],
        [
         "48",
         "230700704A",
         "2014",
         "81.36986301369863"
        ],
        [
         "49",
         "230700705A",
         "2014",
         "100.0"
        ]
       ],
       "shape": {
        "columns": 3,
        "rows": 22773
       }
      },
      "text/html": [
       "<div>\n",
       "<style scoped>\n",
       "    .dataframe tbody tr th:only-of-type {\n",
       "        vertical-align: middle;\n",
       "    }\n",
       "\n",
       "    .dataframe tbody tr th {\n",
       "        vertical-align: top;\n",
       "    }\n",
       "\n",
       "    .dataframe thead th {\n",
       "        text-align: right;\n",
       "    }\n",
       "</style>\n",
       "<table border=\"1\" class=\"dataframe\">\n",
       "  <thead>\n",
       "    <tr style=\"text-align: right;\">\n",
       "      <th></th>\n",
       "      <th>gauge_code</th>\n",
       "      <th>year</th>\n",
       "      <th>p_availability</th>\n",
       "    </tr>\n",
       "  </thead>\n",
       "  <tbody>\n",
       "    <tr>\n",
       "      <th>0</th>\n",
       "      <td>110020501A</td>\n",
       "      <td>2014</td>\n",
       "      <td>4.383562</td>\n",
       "    </tr>\n",
       "    <tr>\n",
       "      <th>1</th>\n",
       "      <td>110020502A</td>\n",
       "      <td>2014</td>\n",
       "      <td>71.780822</td>\n",
       "    </tr>\n",
       "    <tr>\n",
       "      <th>2</th>\n",
       "      <td>120040101A</td>\n",
       "      <td>2014</td>\n",
       "      <td>91.506849</td>\n",
       "    </tr>\n",
       "    <tr>\n",
       "      <th>3</th>\n",
       "      <td>120040102A</td>\n",
       "      <td>2014</td>\n",
       "      <td>20.821918</td>\n",
       "    </tr>\n",
       "    <tr>\n",
       "      <th>4</th>\n",
       "      <td>150120401A</td>\n",
       "      <td>2014</td>\n",
       "      <td>16.712329</td>\n",
       "    </tr>\n",
       "    <tr>\n",
       "      <th>...</th>\n",
       "      <td>...</td>\n",
       "      <td>...</td>\n",
       "      <td>...</td>\n",
       "    </tr>\n",
       "    <tr>\n",
       "      <th>22768</th>\n",
       "      <td>530010804A</td>\n",
       "      <td>2020</td>\n",
       "      <td>100.000000</td>\n",
       "    </tr>\n",
       "    <tr>\n",
       "      <th>22769</th>\n",
       "      <td>530010805A</td>\n",
       "      <td>2020</td>\n",
       "      <td>100.000000</td>\n",
       "    </tr>\n",
       "    <tr>\n",
       "      <th>22770</th>\n",
       "      <td>CEMADEN_10</td>\n",
       "      <td>2020</td>\n",
       "      <td>91.530055</td>\n",
       "    </tr>\n",
       "    <tr>\n",
       "      <th>22771</th>\n",
       "      <td>CEMADEN_11</td>\n",
       "      <td>2020</td>\n",
       "      <td>6.557377</td>\n",
       "    </tr>\n",
       "    <tr>\n",
       "      <th>22772</th>\n",
       "      <td>CEMADEN_12</td>\n",
       "      <td>2020</td>\n",
       "      <td>8.469945</td>\n",
       "    </tr>\n",
       "  </tbody>\n",
       "</table>\n",
       "<p>22773 rows × 3 columns</p>\n",
       "</div>"
      ],
      "text/plain": [
       "       gauge_code  year  p_availability\n",
       "0      110020501A  2014        4.383562\n",
       "1      110020502A  2014       71.780822\n",
       "2      120040101A  2014       91.506849\n",
       "3      120040102A  2014       20.821918\n",
       "4      150120401A  2014       16.712329\n",
       "...           ...   ...             ...\n",
       "22768  530010804A  2020      100.000000\n",
       "22769  530010805A  2020      100.000000\n",
       "22770  CEMADEN_10  2020       91.530055\n",
       "22771  CEMADEN_11  2020        6.557377\n",
       "22772  CEMADEN_12  2020        8.469945\n",
       "\n",
       "[22773 rows x 3 columns]"
      ]
     },
     "execution_count": 154,
     "metadata": {},
     "output_type": "execute_result"
    }
   ],
   "source": [
    "def calculateP(df):\n",
    "    # Group by gauge_code and year, then count the number of rows for each group\n",
    "    df_p = df.groupby(['gauge_code', 'year']).size().reset_index(name='active_days')\n",
    "    # Calcula a soma de rain_mm por gauge_code e year\n",
    "    df_rain_sum = df.groupby(['gauge_code', 'year'])['rain_mm'].sum().reset_index(name='rain_sum_mm')\n",
    "    # Merge the two DataFrames on gauge_code and year\n",
    "    df_p = pd.merge(df_p, df_rain_sum, on=['gauge_code', 'year'], how='left')\n",
    "\n",
    "    return df_p\n",
    "\n",
    "df_p_availability = calculateP(df_cemaden_data)\n",
    "years = pd.Series(range(2014, 2021), name='year')\n",
    "# Calculate the number of days in each year\n",
    "day_count = years.apply(lambda x: 366 if (x % 4 == 0 and (x % 100 != 0 or x % 400 == 0)) else 365)\n",
    "# Create the DataFrame\n",
    "df_years = pd.DataFrame({'year': years, 'day_count': day_count})\n",
    "\n",
    "del years, day_count\n",
    "\n",
    "\n",
    "df_p_availability = pd.merge(df_years, df_p_availability, on = 'year', how = 'left')\n",
    "del df_years\n",
    "\n",
    "df_p_availability['p_availability'] = df_p_availability['active_days'] / df_p_availability['day_count'] * 100\n",
    "df_p_availability = df_p_availability[['gauge_code', 'year', 'p_availability']]\n",
    "df_p_availability.to_hdf(cemaden_path, key = 'table_p_availability', encoding = 'utf-8', mode='r+', append = False, complevel=9)\n",
    "df_p_availability"
   ]
  },
  {
   "cell_type": "code",
   "execution_count": 132,
   "id": "7b7e27a4",
   "metadata": {},
   "outputs": [
    {
     "name": "stdout",
     "output_type": "stream",
     "text": [
      "['table_data', 'table_data_filtered', 'table_info', 'table_p_availability', 'table_preclassif', 'table_q1_gaps', 'table_q2_week', 'table_q3_outliers', 'table_qc_info']\n"
     ]
    }
   ],
   "source": [
    "with h5py.File(cemaden_path, 'r') as hdf:\n",
    "    keys = list(hdf.keys())\n",
    "    print(keys)"
   ]
  },
  {
   "cell_type": "markdown",
   "id": "b061e130",
   "metadata": {},
   "source": [
    "# Q1"
   ]
  },
  {
   "cell_type": "code",
   "execution_count": 133,
   "id": "b080c682",
   "metadata": {},
   "outputs": [],
   "source": [
    "def calculateQ1(df):    \n",
    "    # Group by gauge_code and year\n",
    "    grouped = df.groupby(['gauge_code', 'year'])\n",
    "    \n",
    "    results = []\n",
    "    \n",
    "    for (gauge_code, year), group in grouped:\n",
    "        # Sort by datetime\n",
    "        group = group.sort_values('datetime')\n",
    "        \n",
    "        # Create a complete date range for the year\n",
    "        date_range = pd.date_range(start=f'{year}-01-01', end=f'{year}-12-31', freq='D')\n",
    "        full_df = pd.DataFrame({'datetime': date_range})\n",
    "        merged_df = pd.merge(full_df, group, on='datetime', how='left')\n",
    "        \n",
    "        # Calculate days_in_a_year\n",
    "        days_in_a_year = len(full_df)\n",
    "        \n",
    "        # Calculate active_days (days with valid rain_mm data)\n",
    "        active_days = merged_df['rain_mm'].notna().sum()\n",
    "        \n",
    "        # Calculate total_gap\n",
    "        total_gap = days_in_a_year - active_days\n",
    "        \n",
    "        # Calculate max_gap, start_date, and last_date\n",
    "        if total_gap == 0:\n",
    "            max_gap = 0\n",
    "            start_date = np.nan\n",
    "            last_date = np.nan\n",
    "        else:\n",
    "            # Identify gaps (consecutive NaNs in rain_mm)\n",
    "            merged_df['gap'] = merged_df['rain_mm'].isna().astype(int)\n",
    "            merged_df['gap_group'] = (merged_df['gap'].diff() != 0).cumsum()\n",
    "            \n",
    "            # Calculate the length of each gap\n",
    "            gap_lengths = merged_df[merged_df['gap'] == 1].groupby('gap_group').size()\n",
    "            \n",
    "            # Find the max_gap and its start and end dates\n",
    "            if not gap_lengths.empty:\n",
    "                max_gap = gap_lengths.max()\n",
    "                max_gap_group = gap_lengths.idxmax()\n",
    "                gap_dates = merged_df[merged_df['gap_group'] == max_gap_group]['datetime']\n",
    "                start_date = gap_dates.min()\n",
    "                last_date = gap_dates.max()\n",
    "            else:\n",
    "                max_gap = 0\n",
    "                start_date = np.nan\n",
    "                last_date = np.nan\n",
    "        \n",
    "        # Append results\n",
    "        results.append({\n",
    "            'gauge_code': gauge_code,\n",
    "            'year': year,\n",
    "            'days_in_a_year': days_in_a_year,\n",
    "            'active_days': active_days,\n",
    "            'total_gap': total_gap,\n",
    "            'max_gap': max_gap,\n",
    "            'start_date': start_date,\n",
    "            'last_date': last_date\n",
    "        })\n",
    "    \n",
    "    # Create the result DataFrame\n",
    "    df_q1_gaps = pd.DataFrame(results)\n",
    "    return df_q1_gaps"
   ]
  },
  {
   "cell_type": "code",
   "execution_count": 169,
   "id": "589074c7",
   "metadata": {},
   "outputs": [
    {
     "data": {
      "application/vnd.microsoft.datawrangler.viewer.v0+json": {
       "columns": [
        {
         "name": "index",
         "rawType": "int64",
         "type": "integer"
        },
        {
         "name": "gauge_code",
         "rawType": "object",
         "type": "string"
        },
        {
         "name": "year",
         "rawType": "int32",
         "type": "integer"
        },
        {
         "name": "q1_gaps",
         "rawType": "float64",
         "type": "float"
        }
       ],
       "conversionMethod": "pd.DataFrame",
       "ref": "ce810b20-eda0-4c03-b304-7f3a7434476b",
       "rows": [
        [
         "0",
         "110018901A",
         "2018",
         "0.0"
        ],
        [
         "1",
         "110018901A",
         "2019",
         "100.0"
        ],
        [
         "2",
         "110018901A",
         "2020",
         "100.0"
        ],
        [
         "3",
         "110020501A",
         "2014",
         "0.0"
        ],
        [
         "4",
         "110020501A",
         "2017",
         "0.0"
        ]
       ],
       "shape": {
        "columns": 3,
        "rows": 5
       }
      },
      "text/html": [
       "<div>\n",
       "<style scoped>\n",
       "    .dataframe tbody tr th:only-of-type {\n",
       "        vertical-align: middle;\n",
       "    }\n",
       "\n",
       "    .dataframe tbody tr th {\n",
       "        vertical-align: top;\n",
       "    }\n",
       "\n",
       "    .dataframe thead th {\n",
       "        text-align: right;\n",
       "    }\n",
       "</style>\n",
       "<table border=\"1\" class=\"dataframe\">\n",
       "  <thead>\n",
       "    <tr style=\"text-align: right;\">\n",
       "      <th></th>\n",
       "      <th>gauge_code</th>\n",
       "      <th>year</th>\n",
       "      <th>q1_gaps</th>\n",
       "    </tr>\n",
       "  </thead>\n",
       "  <tbody>\n",
       "    <tr>\n",
       "      <th>0</th>\n",
       "      <td>110018901A</td>\n",
       "      <td>2018</td>\n",
       "      <td>0.0</td>\n",
       "    </tr>\n",
       "    <tr>\n",
       "      <th>1</th>\n",
       "      <td>110018901A</td>\n",
       "      <td>2019</td>\n",
       "      <td>100.0</td>\n",
       "    </tr>\n",
       "    <tr>\n",
       "      <th>2</th>\n",
       "      <td>110018901A</td>\n",
       "      <td>2020</td>\n",
       "      <td>100.0</td>\n",
       "    </tr>\n",
       "    <tr>\n",
       "      <th>3</th>\n",
       "      <td>110020501A</td>\n",
       "      <td>2014</td>\n",
       "      <td>0.0</td>\n",
       "    </tr>\n",
       "    <tr>\n",
       "      <th>4</th>\n",
       "      <td>110020501A</td>\n",
       "      <td>2017</td>\n",
       "      <td>0.0</td>\n",
       "    </tr>\n",
       "  </tbody>\n",
       "</table>\n",
       "</div>"
      ],
      "text/plain": [
       "   gauge_code  year  q1_gaps\n",
       "0  110018901A  2018      0.0\n",
       "1  110018901A  2019    100.0\n",
       "2  110018901A  2020    100.0\n",
       "3  110020501A  2014      0.0\n",
       "4  110020501A  2017      0.0"
      ]
     },
     "execution_count": 169,
     "metadata": {},
     "output_type": "execute_result"
    }
   ],
   "source": [
    "df_q1_gaps = calculateQ1(df_cemaden_data)\n",
    "df_q1_gaps['q1_gaps'] = 100.0 - 100.0 * (((2.0 * df_q1_gaps['total_gap']) + df_q1_gaps['max_gap']) / df_q1_gaps['active_days'])\n",
    "df_q1_gaps['q1_gaps'] = df_q1_gaps['q1_gaps'].apply(lambda x: max(x, 0))\n",
    "df_q1_gaps = df_q1_gaps[['gauge_code', 'year', 'q1_gaps']]\n",
    "df_q1_gaps.to_hdf(cemaden_path, key = 'table_q1_gaps', encoding = 'utf-8', mode='r+', append = False, complevel=9)\n",
    "df_q1_gaps.head()"
   ]
  },
  {
   "cell_type": "code",
   "execution_count": 170,
   "id": "8a22b090",
   "metadata": {},
   "outputs": [
    {
     "name": "stdout",
     "output_type": "stream",
     "text": [
      "['table_data', 'table_data_filtered', 'table_info', 'table_p_availability', 'table_preclassif', 'table_q1_gaps', 'table_q2_week', 'table_q3_outliers', 'table_qc_info']\n"
     ]
    }
   ],
   "source": [
    "with h5py.File(cemaden_path, 'r') as hdf:\n",
    "    keys = list(hdf.keys())\n",
    "    print(keys)"
   ]
  },
  {
   "cell_type": "markdown",
   "id": "7737fb01",
   "metadata": {},
   "source": [
    "# Q2"
   ]
  },
  {
   "cell_type": "code",
   "execution_count": 171,
   "id": "dff1b4be",
   "metadata": {},
   "outputs": [
    {
     "data": {
      "application/vnd.microsoft.datawrangler.viewer.v0+json": {
       "columns": [
        {
         "name": "index",
         "rawType": "int64",
         "type": "integer"
        },
        {
         "name": "gauge_code",
         "rawType": "object",
         "type": "string"
        },
        {
         "name": "year",
         "rawType": "int32",
         "type": "integer"
        },
        {
         "name": "q2_week",
         "rawType": "float64",
         "type": "float"
        }
       ],
       "conversionMethod": "pd.DataFrame",
       "ref": "5053f870-8357-46a9-b866-6d87eacfee18",
       "rows": [
        [
         "0",
         "110018901A",
         "2018",
         "84.72768438490468"
        ],
        [
         "1",
         "110018901A",
         "2019",
         "87.0799840422603"
        ],
        [
         "2",
         "110018901A",
         "2020",
         "54.468759210420274"
        ],
        [
         "3",
         "110020501A",
         "2014",
         "42.264973081037425"
        ],
        [
         "4",
         "110020501A",
         "2017",
         "0.0"
        ],
        [
         "5",
         "110020501A",
         "2020",
         "62.5"
        ],
        [
         "6",
         "110020502A",
         "2014",
         "88.20809244923613"
        ],
        [
         "7",
         "110020502A",
         "2016",
         "76.9934668603079"
        ],
        [
         "8",
         "110020502A",
         "2017",
         "0.0"
        ],
        [
         "9",
         "110020502A",
         "2020",
         "70.24404821440478"
        ],
        [
         "10",
         "120010401A",
         "2018",
         "73.97917500667334"
        ],
        [
         "11",
         "120010401A",
         "2019",
         "80.05689911956335"
        ],
        [
         "12",
         "120010401A",
         "2020",
         "78.65218590425084"
        ],
        [
         "13",
         "120032801A",
         "2018",
         "85.61481247968504"
        ],
        [
         "14",
         "120032801A",
         "2019",
         "85.57115540330012"
        ],
        [
         "15",
         "120032801A",
         "2020",
         "63.42187017898777"
        ],
        [
         "16",
         "120040101A",
         "2014",
         "78.46860620730283"
        ],
        [
         "17",
         "120040101A",
         "2015",
         "71.05074731095917"
        ],
        [
         "18",
         "120040101A",
         "2016",
         "0.0"
        ],
        [
         "19",
         "120040101A",
         "2017",
         "0.0"
        ],
        [
         "20",
         "120040101A",
         "2020",
         "64.59865527506994"
        ],
        [
         "21",
         "120040101H",
         "2016",
         "65.12482248931967"
        ],
        [
         "22",
         "120040101H",
         "2017",
         "87.1187762256094"
        ],
        [
         "23",
         "120040102A",
         "2014",
         "65.41917679792263"
        ],
        [
         "24",
         "120040102A",
         "2020",
         "51.55270864694568"
        ],
        [
         "25",
         "120040102H",
         "2016",
         "71.26798018088735"
        ],
        [
         "26",
         "120040102H",
         "2017",
         "39.619263557544"
        ],
        [
         "27",
         "120070801A",
         "2018",
         "66.42133983636118"
        ],
        [
         "28",
         "120070801A",
         "2019",
         "87.09564060677629"
        ],
        [
         "29",
         "120070801A",
         "2020",
         "77.10319070122586"
        ],
        [
         "30",
         "130002901A",
         "2018",
         "86.58205856834311"
        ],
        [
         "31",
         "130002901A",
         "2019",
         "55.90414481559016"
        ],
        [
         "32",
         "130002901A",
         "2020",
         "0.0"
        ],
        [
         "33",
         "130006001A",
         "2018",
         "82.78884203973092"
        ],
        [
         "34",
         "130006001A",
         "2019",
         "89.06623005990703"
        ],
        [
         "35",
         "130006001A",
         "2020",
         "83.0269961190265"
        ],
        [
         "36",
         "130008601A",
         "2018",
         "82.02289339305334"
        ],
        [
         "37",
         "130008601A",
         "2019",
         "80.54756715924911"
        ],
        [
         "38",
         "130008601A",
         "2020",
         "61.84798092438208"
        ],
        [
         "39",
         "130010201A",
         "2018",
         "67.60252619243468"
        ],
        [
         "40",
         "130010201A",
         "2019",
         "87.17494482119554"
        ],
        [
         "41",
         "130010201A",
         "2020",
         "19.49235141005869"
        ],
        [
         "42",
         "130014401A",
         "2018",
         "74.3181862876557"
        ],
        [
         "43",
         "130014401A",
         "2019",
         "90.44522155203309"
        ],
        [
         "44",
         "130014401A",
         "2020",
         "75.8477054230176"
        ],
        [
         "45",
         "130020101A",
         "2018",
         "81.74801274744419"
        ],
        [
         "46",
         "130020101A",
         "2019",
         "83.29983642263203"
        ],
        [
         "47",
         "130020101A",
         "2020",
         "55.90414481559016"
        ],
        [
         "48",
         "130030002A",
         "2018",
         "19.49235141005869"
        ],
        [
         "49",
         "130050801A",
         "2018",
         "62.58342613226059"
        ]
       ],
       "shape": {
        "columns": 3,
        "rows": 22269
       }
      },
      "text/html": [
       "<div>\n",
       "<style scoped>\n",
       "    .dataframe tbody tr th:only-of-type {\n",
       "        vertical-align: middle;\n",
       "    }\n",
       "\n",
       "    .dataframe tbody tr th {\n",
       "        vertical-align: top;\n",
       "    }\n",
       "\n",
       "    .dataframe thead th {\n",
       "        text-align: right;\n",
       "    }\n",
       "</style>\n",
       "<table border=\"1\" class=\"dataframe\">\n",
       "  <thead>\n",
       "    <tr style=\"text-align: right;\">\n",
       "      <th></th>\n",
       "      <th>gauge_code</th>\n",
       "      <th>year</th>\n",
       "      <th>q2_week</th>\n",
       "    </tr>\n",
       "  </thead>\n",
       "  <tbody>\n",
       "    <tr>\n",
       "      <th>0</th>\n",
       "      <td>110018901A</td>\n",
       "      <td>2018</td>\n",
       "      <td>84.727684</td>\n",
       "    </tr>\n",
       "    <tr>\n",
       "      <th>1</th>\n",
       "      <td>110018901A</td>\n",
       "      <td>2019</td>\n",
       "      <td>87.079984</td>\n",
       "    </tr>\n",
       "    <tr>\n",
       "      <th>2</th>\n",
       "      <td>110018901A</td>\n",
       "      <td>2020</td>\n",
       "      <td>54.468759</td>\n",
       "    </tr>\n",
       "    <tr>\n",
       "      <th>3</th>\n",
       "      <td>110020501A</td>\n",
       "      <td>2014</td>\n",
       "      <td>42.264973</td>\n",
       "    </tr>\n",
       "    <tr>\n",
       "      <th>4</th>\n",
       "      <td>110020501A</td>\n",
       "      <td>2017</td>\n",
       "      <td>0.000000</td>\n",
       "    </tr>\n",
       "    <tr>\n",
       "      <th>...</th>\n",
       "      <td>...</td>\n",
       "      <td>...</td>\n",
       "      <td>...</td>\n",
       "    </tr>\n",
       "    <tr>\n",
       "      <th>22264</th>\n",
       "      <td>CEMADEN_12</td>\n",
       "      <td>2019</td>\n",
       "      <td>86.944455</td>\n",
       "    </tr>\n",
       "    <tr>\n",
       "      <th>22265</th>\n",
       "      <td>CEMADEN_12</td>\n",
       "      <td>2020</td>\n",
       "      <td>61.341361</td>\n",
       "    </tr>\n",
       "    <tr>\n",
       "      <th>22266</th>\n",
       "      <td>CEMADEN_13</td>\n",
       "      <td>2019</td>\n",
       "      <td>0.000000</td>\n",
       "    </tr>\n",
       "    <tr>\n",
       "      <th>22267</th>\n",
       "      <td>CEMADEN_14</td>\n",
       "      <td>2018</td>\n",
       "      <td>58.760695</td>\n",
       "    </tr>\n",
       "    <tr>\n",
       "      <th>22268</th>\n",
       "      <td>CEMADEN_14</td>\n",
       "      <td>2019</td>\n",
       "      <td>87.930137</td>\n",
       "    </tr>\n",
       "  </tbody>\n",
       "</table>\n",
       "<p>22269 rows × 3 columns</p>\n",
       "</div>"
      ],
      "text/plain": [
       "       gauge_code  year    q2_week\n",
       "0      110018901A  2018  84.727684\n",
       "1      110018901A  2019  87.079984\n",
       "2      110018901A  2020  54.468759\n",
       "3      110020501A  2014  42.264973\n",
       "4      110020501A  2017   0.000000\n",
       "...           ...   ...        ...\n",
       "22264  CEMADEN_12  2019  86.944455\n",
       "22265  CEMADEN_12  2020  61.341361\n",
       "22266  CEMADEN_13  2019   0.000000\n",
       "22267  CEMADEN_14  2018  58.760695\n",
       "22268  CEMADEN_14  2019  87.930137\n",
       "\n",
       "[22269 rows x 3 columns]"
      ]
     },
     "execution_count": 171,
     "metadata": {},
     "output_type": "execute_result"
    }
   ],
   "source": [
    "def calculateQ2(df):\n",
    "    # Filter rows where rain_mm > 1 mm (wet days)\n",
    "    df_wet_days = df[df['rain_mm'] >= wet_day_mm].copy()\n",
    "    \n",
    "    # Extract year and day of the week from datetime\n",
    "    df_wet_days['year'] = df_wet_days['datetime'].dt.year\n",
    "    df_wet_days['day_of_week'] = df_wet_days['datetime'].dt.dayofweek  # Monday=0, Sunday=6\n",
    "    \n",
    "    # Group by gauge_code and year, then count wet days for each day of the week\n",
    "    df_grouped = df_wet_days.groupby(['gauge_code', 'year', 'day_of_week']).size().unstack(fill_value=0)\n",
    "    \n",
    "    # Calculate the coefficient of variation (CV) for each group\n",
    "    cv = df_grouped.std(axis=1) / df_grouped.mean(axis=1)\n",
    "    \n",
    "    # Calculate q2_week as 100 - 100 * CV, ensuring it's not less than 0\n",
    "    q2_week = 100 - 100 * cv\n",
    "    q2_week = q2_week.clip(lower=0)  # Set values below 0 to 0\n",
    "    \n",
    "    # Create the result DataFrame\n",
    "    df_q2_week = pd.DataFrame({\n",
    "        'gauge_code': df_grouped.index.get_level_values('gauge_code'),\n",
    "        'year': df_grouped.index.get_level_values('year'),\n",
    "        'q2_week': q2_week.values\n",
    "    })\n",
    "    \n",
    "    return df_q2_week\n",
    "\n",
    "\n",
    "df_q2_week = calculateQ2(df_cemaden_data)\n",
    "df_q2_week.to_hdf(cemaden_path, key = 'table_q2_week', encoding = 'utf-8', mode='r+', append = False, complevel=9)\n",
    "df_q2_week"
   ]
  },
  {
   "cell_type": "code",
   "execution_count": 172,
   "id": "28504747",
   "metadata": {},
   "outputs": [
    {
     "name": "stdout",
     "output_type": "stream",
     "text": [
      "['table_data', 'table_data_filtered', 'table_info', 'table_p_availability', 'table_preclassif', 'table_q1_gaps', 'table_q2_week', 'table_q3_outliers', 'table_qc_info']\n"
     ]
    }
   ],
   "source": [
    "with h5py.File(cemaden_path, 'r') as hdf:\n",
    "    keys = list(hdf.keys())\n",
    "    print(keys)"
   ]
  },
  {
   "cell_type": "markdown",
   "id": "9559fa9a",
   "metadata": {},
   "source": [
    "# Q3"
   ]
  },
  {
   "cell_type": "code",
   "execution_count": 173,
   "id": "0b97128f",
   "metadata": {},
   "outputs": [],
   "source": [
    "def calculateQ3(df):\n",
    "    # Calculate monthly thresholds using groupby\n",
    "    df.loc[:, 'month'] = df['datetime'].dt.month\n",
    "    monthly_thresholds = (\n",
    "        df[df['rain_mm'] > wet_day_mm]  # Filter rainy days first\n",
    "        .assign(month=lambda x: x['datetime'].dt.month)\n",
    "        .groupby(['gauge_code', 'month'])\n",
    "        ['rain_mm']\n",
    "        .agg(\n",
    "            Q1=lambda x: x.quantile(0.25) if not x.empty else np.nan,\n",
    "            Q3=lambda x: x.quantile(0.75) if not x.empty else np.nan\n",
    "        )\n",
    "        .reset_index()\n",
    "        .assign(\n",
    "            # Combine both operations in one step\n",
    "            upper_limit=lambda x: (x['Q3'] + 1.5*(x['Q3'] - x['Q1'])).fillna(np.inf)\n",
    "        )\n",
    "        [['gauge_code', 'month', 'upper_limit']]\n",
    "    )\n",
    "    df_upper_limit = pd.merge(df, monthly_thresholds, on=['gauge_code', 'month'], how='left')\n",
    "    df_upper_limit['is_outlier'] = df_upper_limit['rain_mm'] > df_upper_limit['upper_limit']\n",
    "    df_q3_outliers = df_upper_limit.groupby(['gauge_code', 'year'])['is_outlier'].sum().reset_index()\n",
    "    df_active_days = df.groupby(['gauge_code', 'year'])['rain_mm'].count().reset_index()\n",
    "    df_q3_outliers = pd.merge(df_q3_outliers, df_active_days, on=['gauge_code', 'year'], how='left')\n",
    "    df_q3_outliers['q3_outliers'] = 100 - df_q3_outliers['is_outlier'] / df_q3_outliers['rain_mm'] * 100\n",
    "    df_q3_outliers['q3_outliers'] = df_q3_outliers['q3_outliers'].clip(lower=0, upper=100)\n",
    "    del df, df_upper_limit, df_active_days  # Free up memory\n",
    "    return df_q3_outliers[['gauge_code', 'year', 'q3_outliers']]"
   ]
  },
  {
   "cell_type": "code",
   "execution_count": 174,
   "id": "d60a91aa",
   "metadata": {},
   "outputs": [
    {
     "data": {
      "application/vnd.microsoft.datawrangler.viewer.v0+json": {
       "columns": [
        {
         "name": "index",
         "rawType": "int64",
         "type": "integer"
        },
        {
         "name": "gauge_code",
         "rawType": "object",
         "type": "string"
        },
        {
         "name": "year",
         "rawType": "int32",
         "type": "integer"
        },
        {
         "name": "q3_outliers",
         "rawType": "float64",
         "type": "float"
        }
       ],
       "conversionMethod": "pd.DataFrame",
       "ref": "5f224361-c8ee-4333-bf42-d5d29ce6042e",
       "rows": [
        [
         "0",
         "110018901A",
         "2018",
         "94.8529411764706"
        ],
        [
         "1",
         "110018901A",
         "2019",
         "97.8082191780822"
        ],
        [
         "2",
         "110018901A",
         "2020",
         "100.0"
        ],
        [
         "3",
         "110020501A",
         "2014",
         "100.0"
        ],
        [
         "4",
         "110020501A",
         "2017",
         "100.0"
        ],
        [
         "5",
         "110020501A",
         "2020",
         "97.91666666666667"
        ],
        [
         "6",
         "110020502A",
         "2014",
         "97.70992366412214"
        ],
        [
         "7",
         "110020502A",
         "2015",
         "100.0"
        ],
        [
         "8",
         "110020502A",
         "2016",
         "100.0"
        ],
        [
         "9",
         "110020502A",
         "2017",
         "100.0"
        ],
        [
         "10",
         "110020502A",
         "2020",
         "95.83333333333333"
        ],
        [
         "11",
         "120010401A",
         "2018",
         "97.85714285714286"
        ],
        [
         "12",
         "120010401A",
         "2019",
         "97.26027397260275"
        ],
        [
         "13",
         "120010401A",
         "2020",
         "99.18032786885246"
        ],
        [
         "14",
         "120032801A",
         "2018",
         "97.85714285714286"
        ],
        [
         "15",
         "120032801A",
         "2019",
         "97.26027397260275"
        ],
        [
         "16",
         "120032801A",
         "2020",
         "97.53424657534246"
        ],
        [
         "17",
         "120040101A",
         "2014",
         "98.50299401197604"
        ],
        [
         "18",
         "120040101A",
         "2015",
         "99.72602739726027"
        ],
        [
         "19",
         "120040101A",
         "2016",
         "100.0"
        ],
        [
         "20",
         "120040101A",
         "2017",
         "0.0"
        ],
        [
         "21",
         "120040101A",
         "2020",
         "95.1048951048951"
        ],
        [
         "22",
         "120040101H",
         "2016",
         "94.23076923076923"
        ],
        [
         "23",
         "120040101H",
         "2017",
         "97.85714285714286"
        ],
        [
         "24",
         "120040101H",
         "2020",
         "100.0"
        ],
        [
         "25",
         "120040102A",
         "2014",
         "92.10526315789474"
        ],
        [
         "26",
         "120040102A",
         "2020",
         "99.29577464788733"
        ],
        [
         "27",
         "120040102H",
         "2016",
         "96.29629629629629"
        ],
        [
         "28",
         "120040102H",
         "2017",
         "100.0"
        ],
        [
         "29",
         "120070801A",
         "2018",
         "99.28571428571429"
        ],
        [
         "30",
         "120070801A",
         "2019",
         "96.98630136986301"
        ],
        [
         "31",
         "120070801A",
         "2020",
         "96.99453551912568"
        ],
        [
         "32",
         "130002901A",
         "2018",
         "95.91836734693878"
        ],
        [
         "33",
         "130002901A",
         "2019",
         "100.0"
        ],
        [
         "34",
         "130002901A",
         "2020",
         "88.88888888888889"
        ],
        [
         "35",
         "130006001A",
         "2018",
         "90.74074074074073"
        ],
        [
         "36",
         "130006001A",
         "2019",
         "95.61643835616438"
        ],
        [
         "37",
         "130006001A",
         "2020",
         "96.72131147540983"
        ],
        [
         "38",
         "130008601A",
         "2018",
         "100.0"
        ],
        [
         "39",
         "130008601A",
         "2019",
         "98.55907780979827"
        ],
        [
         "40",
         "130008601A",
         "2020",
         "99.71264367816092"
        ],
        [
         "41",
         "130010201A",
         "2018",
         "95.83333333333333"
        ],
        [
         "42",
         "130010201A",
         "2019",
         "97.8082191780822"
        ],
        [
         "43",
         "130010201A",
         "2020",
         "100.0"
        ],
        [
         "44",
         "130014401A",
         "2018",
         "93.75"
        ],
        [
         "45",
         "130014401A",
         "2019",
         "97.3913043478261"
        ],
        [
         "46",
         "130014401A",
         "2020",
         "92.5925925925926"
        ],
        [
         "47",
         "130020101A",
         "2018",
         "94.64285714285714"
        ],
        [
         "48",
         "130020101A",
         "2019",
         "97.16981132075472"
        ],
        [
         "49",
         "130020101A",
         "2020",
         "100.0"
        ]
       ],
       "shape": {
        "columns": 3,
        "rows": 22773
       }
      },
      "text/html": [
       "<div>\n",
       "<style scoped>\n",
       "    .dataframe tbody tr th:only-of-type {\n",
       "        vertical-align: middle;\n",
       "    }\n",
       "\n",
       "    .dataframe tbody tr th {\n",
       "        vertical-align: top;\n",
       "    }\n",
       "\n",
       "    .dataframe thead th {\n",
       "        text-align: right;\n",
       "    }\n",
       "</style>\n",
       "<table border=\"1\" class=\"dataframe\">\n",
       "  <thead>\n",
       "    <tr style=\"text-align: right;\">\n",
       "      <th></th>\n",
       "      <th>gauge_code</th>\n",
       "      <th>year</th>\n",
       "      <th>q3_outliers</th>\n",
       "    </tr>\n",
       "  </thead>\n",
       "  <tbody>\n",
       "    <tr>\n",
       "      <th>0</th>\n",
       "      <td>110018901A</td>\n",
       "      <td>2018</td>\n",
       "      <td>94.852941</td>\n",
       "    </tr>\n",
       "    <tr>\n",
       "      <th>1</th>\n",
       "      <td>110018901A</td>\n",
       "      <td>2019</td>\n",
       "      <td>97.808219</td>\n",
       "    </tr>\n",
       "    <tr>\n",
       "      <th>2</th>\n",
       "      <td>110018901A</td>\n",
       "      <td>2020</td>\n",
       "      <td>100.000000</td>\n",
       "    </tr>\n",
       "    <tr>\n",
       "      <th>3</th>\n",
       "      <td>110020501A</td>\n",
       "      <td>2014</td>\n",
       "      <td>100.000000</td>\n",
       "    </tr>\n",
       "    <tr>\n",
       "      <th>4</th>\n",
       "      <td>110020501A</td>\n",
       "      <td>2017</td>\n",
       "      <td>100.000000</td>\n",
       "    </tr>\n",
       "    <tr>\n",
       "      <th>...</th>\n",
       "      <td>...</td>\n",
       "      <td>...</td>\n",
       "      <td>...</td>\n",
       "    </tr>\n",
       "    <tr>\n",
       "      <th>22768</th>\n",
       "      <td>CEMADEN_12</td>\n",
       "      <td>2019</td>\n",
       "      <td>95.555556</td>\n",
       "    </tr>\n",
       "    <tr>\n",
       "      <th>22769</th>\n",
       "      <td>CEMADEN_12</td>\n",
       "      <td>2020</td>\n",
       "      <td>93.548387</td>\n",
       "    </tr>\n",
       "    <tr>\n",
       "      <th>22770</th>\n",
       "      <td>CEMADEN_13</td>\n",
       "      <td>2019</td>\n",
       "      <td>96.666667</td>\n",
       "    </tr>\n",
       "    <tr>\n",
       "      <th>22771</th>\n",
       "      <td>CEMADEN_14</td>\n",
       "      <td>2018</td>\n",
       "      <td>94.565217</td>\n",
       "    </tr>\n",
       "    <tr>\n",
       "      <th>22772</th>\n",
       "      <td>CEMADEN_14</td>\n",
       "      <td>2019</td>\n",
       "      <td>95.833333</td>\n",
       "    </tr>\n",
       "  </tbody>\n",
       "</table>\n",
       "<p>22773 rows × 3 columns</p>\n",
       "</div>"
      ],
      "text/plain": [
       "       gauge_code  year  q3_outliers\n",
       "0      110018901A  2018    94.852941\n",
       "1      110018901A  2019    97.808219\n",
       "2      110018901A  2020   100.000000\n",
       "3      110020501A  2014   100.000000\n",
       "4      110020501A  2017   100.000000\n",
       "...           ...   ...          ...\n",
       "22768  CEMADEN_12  2019    95.555556\n",
       "22769  CEMADEN_12  2020    93.548387\n",
       "22770  CEMADEN_13  2019    96.666667\n",
       "22771  CEMADEN_14  2018    94.565217\n",
       "22772  CEMADEN_14  2019    95.833333\n",
       "\n",
       "[22773 rows x 3 columns]"
      ]
     },
     "execution_count": 174,
     "metadata": {},
     "output_type": "execute_result"
    }
   ],
   "source": [
    "df_q3_outliers = calculateQ3(df_cemaden_data)\n",
    "df_q3_outliers.to_hdf(cemaden_path, key = 'table_q3_outliers', encoding = 'utf-8', mode='r+', append = False, complevel=9)\n",
    "df_q3_outliers"
   ]
  },
  {
   "cell_type": "code",
   "execution_count": 175,
   "id": "4f716668",
   "metadata": {},
   "outputs": [
    {
     "name": "stdout",
     "output_type": "stream",
     "text": [
      "['table_data', 'table_data_filtered', 'table_info', 'table_p_availability', 'table_preclassif', 'table_q1_gaps', 'table_q2_week', 'table_q3_outliers', 'table_qc_info']\n"
     ]
    }
   ],
   "source": [
    "with h5py.File(cemaden_path, 'r') as hdf:\n",
    "    keys = list(hdf.keys())\n",
    "    print(keys)"
   ]
  },
  {
   "cell_type": "markdown",
   "id": "c158e090",
   "metadata": {},
   "source": [
    "# Quality Index"
   ]
  },
  {
   "cell_type": "code",
   "execution_count": 176,
   "id": "52ecc1d9",
   "metadata": {},
   "outputs": [
    {
     "data": {
      "application/vnd.microsoft.datawrangler.viewer.v0+json": {
       "columns": [
        {
         "name": "index",
         "rawType": "int64",
         "type": "integer"
        },
        {
         "name": "gauge_code",
         "rawType": "object",
         "type": "string"
        },
        {
         "name": "datetime",
         "rawType": "datetime64[ns]",
         "type": "datetime"
        },
        {
         "name": "rain_mm",
         "rawType": "float64",
         "type": "float"
        },
        {
         "name": "year",
         "rawType": "int32",
         "type": "integer"
        },
        {
         "name": "month",
         "rawType": "int32",
         "type": "integer"
        },
        {
         "name": "state",
         "rawType": "object",
         "type": "string"
        },
        {
         "name": "city",
         "rawType": "object",
         "type": "string"
        },
        {
         "name": "name_station",
         "rawType": "object",
         "type": "string"
        },
        {
         "name": "long",
         "rawType": "float64",
         "type": "float"
        },
        {
         "name": "lat",
         "rawType": "float64",
         "type": "float"
        }
       ],
       "conversionMethod": "pd.DataFrame",
       "ref": "e3b8f299-90fd-471e-b254-5b5f21bd7718",
       "rows": [
        [
         "0",
         "230370901A",
         "2014-01-01 00:00:00",
         "0.0",
         "2014",
         "1",
         "CE",
         "CAUCAIA",
         "Tabapuãzinho",
         "-38.62",
         "-3.741"
        ],
        [
         "1",
         "230370902A",
         "2014-01-01 00:00:00",
         "0.0",
         "2014",
         "1",
         "CE",
         "CAUCAIA",
         "Parque São Geraldo",
         "-38.639",
         "-3.74"
        ],
        [
         "2",
         "230370903A",
         "2014-01-01 00:00:00",
         "0.0",
         "2014",
         "1",
         "CE",
         "CAUCAIA",
         "Conjunto Metropolitano",
         "-38.661",
         "-3.759"
        ],
        [
         "3",
         "230370904A",
         "2014-01-01 00:00:00",
         "0.0",
         "2014",
         "1",
         "CE",
         "CAUCAIA",
         "Padre Julio Maria II",
         "-38.671",
         "-3.743"
        ],
        [
         "4",
         "230370905A",
         "2014-01-01 00:00:00",
         "0.0",
         "2014",
         "1",
         "CE",
         "CAUCAIA",
         "Parque Leblon",
         "-38.594",
         "-3.696"
        ],
        [
         "5",
         "230370906A",
         "2014-01-01 00:00:00",
         "0.0",
         "2014",
         "1",
         "CE",
         "CAUCAIA",
         "Conjunto São Miguel",
         "-38.603",
         "-3.749"
        ],
        [
         "6",
         "230420201A",
         "2014-01-01 00:00:00",
         "0.0",
         "2014",
         "1",
         "CE",
         "CRATO",
         "Centro",
         "-39.458",
         "-7.269"
        ],
        [
         "7",
         "230420202A",
         "2014-01-01 00:00:00",
         "7.300968726",
         "2014",
         "1",
         "CE",
         "CRATO",
         "Granjeiro",
         "-39.433",
         "-7.268"
        ],
        [
         "8",
         "230440003A",
         "2014-01-01 00:00:00",
         "0.590873406",
         "2014",
         "1",
         "CE",
         "FORTALEZA",
         "Granja Portugal",
         "-38.601",
         "-3.789"
        ],
        [
         "9",
         "230440004A",
         "2014-01-01 00:00:00",
         "0.0",
         "2014",
         "1",
         "CE",
         "FORTALEZA",
         "Presidente Kennedy",
         "-38.565",
         "-3.728"
        ],
        [
         "10",
         "230440005A",
         "2014-01-01 00:00:00",
         "0.0",
         "2014",
         "1",
         "CE",
         "FORTALEZA",
         "João XXIII",
         "-38.587",
         "-3.774"
        ],
        [
         "11",
         "230440006A",
         "2014-01-01 00:00:00",
         "0.0",
         "2014",
         "1",
         "CE",
         "FORTALEZA",
         "Antonio Bezerra2",
         "-38.598",
         "-3.726"
        ],
        [
         "12",
         "230440007A",
         "2014-01-01 00:00:00",
         "0.0",
         "2014",
         "1",
         "CE",
         "FORTALEZA",
         "Parangaba",
         "-38.555",
         "-3.781"
        ],
        [
         "13",
         "230440008A",
         "2014-01-01 00:00:00",
         "0.0",
         "2014",
         "1",
         "CE",
         "FORTALEZA",
         "Passare",
         "-38.533",
         "-3.819"
        ],
        [
         "14",
         "230440009A",
         "2014-01-01 00:00:00",
         "0.0",
         "2014",
         "1",
         "CE",
         "FORTALEZA",
         "Panamericano",
         "-38.567",
         "-3.753"
        ],
        [
         "15",
         "230440010A",
         "2014-01-01 00:00:00",
         "0.0",
         "2014",
         "1",
         "CE",
         "FORTALEZA",
         "Dias Macedo",
         "-38.521",
         "-3.786"
        ],
        [
         "16",
         "230440011A",
         "2014-01-01 00:00:00",
         "0.0",
         "2014",
         "1",
         "CE",
         "FORTALEZA",
         "Antonio Bezerra",
         "-38.589",
         "-3.736"
        ],
        [
         "17",
         "230440012A",
         "2014-01-01 00:00:00",
         "0.0",
         "2014",
         "1",
         "CE",
         "FORTALEZA",
         "Vicente Pinzon",
         "-38.467",
         "-3.731"
        ],
        [
         "18",
         "230440014A",
         "2014-01-01 00:00:00",
         "0.2",
         "2014",
         "1",
         "CE",
         "FORTALEZA",
         "Vila Pery",
         "-38.581",
         "-3.79"
        ],
        [
         "19",
         "230440015A",
         "2014-01-01 00:00:00",
         "0.2",
         "2014",
         "1",
         "CE",
         "FORTALEZA",
         "AC Francisco Sa",
         "-38.547938",
         "-3.720669"
        ],
        [
         "20",
         "230440016A",
         "2014-01-01 00:00:00",
         "0.0",
         "2014",
         "1",
         "CE",
         "FORTALEZA",
         "AC Parangaba",
         "-38.562032",
         "-3.772921"
        ],
        [
         "21",
         "230700701A",
         "2014-01-01 00:00:00",
         "0.0",
         "2014",
         "1",
         "CE",
         "JAGUARUANA",
         "AC Jaguaruana",
         "-37.785",
         "-4.837"
        ],
        [
         "22",
         "230700703A",
         "2014-01-01 00:00:00",
         "0.0",
         "2014",
         "1",
         "CE",
         "JAGUARUANA",
         "Cardeais",
         "-37.804",
         "-4.851"
        ],
        [
         "23",
         "230700704A",
         "2014-01-01 00:00:00",
         "0.0",
         "2014",
         "1",
         "CE",
         "JAGUARUANA",
         "Centro",
         "-37.786",
         "-4.838"
        ],
        [
         "24",
         "230700705A",
         "2014-01-01 00:00:00",
         "0.0",
         "2014",
         "1",
         "CE",
         "JAGUARUANA",
         "Saquinho",
         "-37.757",
         "-4.819"
        ],
        [
         "25",
         "230700706A",
         "2014-01-01 00:00:00",
         "0.0",
         "2014",
         "1",
         "CE",
         "JAGUARUANA",
         "Alto",
         "-37.78",
         "-4.828"
        ],
        [
         "26",
         "230730401A",
         "2014-01-01 00:00:00",
         "0.0",
         "2014",
         "1",
         "CE",
         "JUAZEIRO DO NORTE",
         "Centro",
         "-39.319",
         "-7.225"
        ],
        [
         "27",
         "230870802A",
         "2014-01-01 00:00:00",
         "0.0",
         "2014",
         "1",
         "CE",
         "MORADA NOVA",
         "Padre Assis Monteiro",
         "-38.375",
         "-5.11"
        ],
        [
         "28",
         "230870803A",
         "2014-01-01 00:00:00",
         "0.0",
         "2014",
         "1",
         "CE",
         "MORADA NOVA",
         "Centro",
         "-38.374",
         "-5.113"
        ],
        [
         "29",
         "230870804A",
         "2014-01-01 00:00:00",
         "0.0",
         "2014",
         "1",
         "CE",
         "MORADA NOVA",
         "Cristo Rei",
         "-38.372",
         "-5.107"
        ],
        [
         "30",
         "230870805A",
         "2014-01-01 00:00:00",
         "0.0",
         "2014",
         "1",
         "CE",
         "MORADA NOVA",
         "Acudinho",
         "-38.362",
         "-5.108"
        ],
        [
         "31",
         "231140501A",
         "2014-01-01 00:00:00",
         "0.0",
         "2014",
         "1",
         "CE",
         "QUIXERAMOBIM",
         "Centro",
         "-39.302",
         "-5.198"
        ],
        [
         "32",
         "230370901A",
         "2014-01-02 00:00:00",
         "0.7943869990000001",
         "2014",
         "1",
         "CE",
         "CAUCAIA",
         "Tabapuãzinho",
         "-38.62",
         "-3.741"
        ],
        [
         "33",
         "230370902A",
         "2014-01-02 00:00:00",
         "0.6000000000000001",
         "2014",
         "1",
         "CE",
         "CAUCAIA",
         "Parque São Geraldo",
         "-38.639",
         "-3.74"
        ],
        [
         "34",
         "230370903A",
         "2014-01-02 00:00:00",
         "0.2",
         "2014",
         "1",
         "CE",
         "CAUCAIA",
         "Conjunto Metropolitano",
         "-38.661",
         "-3.759"
        ],
        [
         "35",
         "230370904A",
         "2014-01-02 00:00:00",
         "0.9877522320000001",
         "2014",
         "1",
         "CE",
         "CAUCAIA",
         "Padre Julio Maria II",
         "-38.671",
         "-3.743"
        ],
        [
         "36",
         "230370905A",
         "2014-01-02 00:00:00",
         "2.762563873",
         "2014",
         "1",
         "CE",
         "CAUCAIA",
         "Parque Leblon",
         "-38.594",
         "-3.696"
        ],
        [
         "37",
         "230370906A",
         "2014-01-02 00:00:00",
         "3.738776388",
         "2014",
         "1",
         "CE",
         "CAUCAIA",
         "Conjunto São Miguel",
         "-38.603",
         "-3.749"
        ],
        [
         "38",
         "230420201A",
         "2014-01-02 00:00:00",
         "0.0",
         "2014",
         "1",
         "CE",
         "CRATO",
         "Centro",
         "-39.458",
         "-7.269"
        ],
        [
         "39",
         "230420202A",
         "2014-01-02 00:00:00",
         "38.97680381",
         "2014",
         "1",
         "CE",
         "CRATO",
         "Granjeiro",
         "-39.433",
         "-7.268"
        ],
        [
         "40",
         "230440003A",
         "2014-01-02 00:00:00",
         "1.38536",
         "2014",
         "1",
         "CE",
         "FORTALEZA",
         "Granja Portugal",
         "-38.601",
         "-3.789"
        ],
        [
         "41",
         "230440004A",
         "2014-01-02 00:00:00",
         "2.956128658",
         "2014",
         "1",
         "CE",
         "FORTALEZA",
         "Presidente Kennedy",
         "-38.565",
         "-3.728"
        ],
        [
         "42",
         "230440005A",
         "2014-01-02 00:00:00",
         "0.593818967",
         "2014",
         "1",
         "CE",
         "FORTALEZA",
         "João XXIII",
         "-38.587",
         "-3.774"
        ],
        [
         "43",
         "230440006A",
         "2014-01-02 00:00:00",
         "3.1560103820000003",
         "2014",
         "1",
         "CE",
         "FORTALEZA",
         "Antonio Bezerra2",
         "-38.598",
         "-3.726"
        ],
        [
         "44",
         "230440007A",
         "2014-01-02 00:00:00",
         "0.98902",
         "2014",
         "1",
         "CE",
         "FORTALEZA",
         "Parangaba",
         "-38.555",
         "-3.781"
        ],
        [
         "45",
         "230440008A",
         "2014-01-02 00:00:00",
         "3.737033184",
         "2014",
         "1",
         "CE",
         "FORTALEZA",
         "Passare",
         "-38.533",
         "-3.819"
        ],
        [
         "46",
         "230440009A",
         "2014-01-02 00:00:00",
         "4.332683332",
         "2014",
         "1",
         "CE",
         "FORTALEZA",
         "Panamericano",
         "-38.567",
         "-3.753"
        ],
        [
         "47",
         "230440010A",
         "2014-01-02 00:00:00",
         "4.333515095999999",
         "2014",
         "1",
         "CE",
         "FORTALEZA",
         "Dias Macedo",
         "-38.521",
         "-3.786"
        ],
        [
         "48",
         "230440011A",
         "2014-01-02 00:00:00",
         "3.545981325",
         "2014",
         "1",
         "CE",
         "FORTALEZA",
         "Antonio Bezerra",
         "-38.589",
         "-3.736"
        ],
        [
         "49",
         "230440012A",
         "2014-01-02 00:00:00",
         "22.639981095",
         "2014",
         "1",
         "CE",
         "FORTALEZA",
         "Vicente Pinzon",
         "-38.467",
         "-3.731"
        ]
       ],
       "shape": {
        "columns": 10,
        "rows": 6808741
       }
      },
      "text/html": [
       "<div>\n",
       "<style scoped>\n",
       "    .dataframe tbody tr th:only-of-type {\n",
       "        vertical-align: middle;\n",
       "    }\n",
       "\n",
       "    .dataframe tbody tr th {\n",
       "        vertical-align: top;\n",
       "    }\n",
       "\n",
       "    .dataframe thead th {\n",
       "        text-align: right;\n",
       "    }\n",
       "</style>\n",
       "<table border=\"1\" class=\"dataframe\">\n",
       "  <thead>\n",
       "    <tr style=\"text-align: right;\">\n",
       "      <th></th>\n",
       "      <th>gauge_code</th>\n",
       "      <th>datetime</th>\n",
       "      <th>rain_mm</th>\n",
       "      <th>year</th>\n",
       "      <th>month</th>\n",
       "      <th>state</th>\n",
       "      <th>city</th>\n",
       "      <th>name_station</th>\n",
       "      <th>long</th>\n",
       "      <th>lat</th>\n",
       "    </tr>\n",
       "  </thead>\n",
       "  <tbody>\n",
       "    <tr>\n",
       "      <th>0</th>\n",
       "      <td>230370901A</td>\n",
       "      <td>2014-01-01</td>\n",
       "      <td>0.00</td>\n",
       "      <td>2014</td>\n",
       "      <td>1</td>\n",
       "      <td>CE</td>\n",
       "      <td>CAUCAIA</td>\n",
       "      <td>Tabapuãzinho</td>\n",
       "      <td>-38.620000</td>\n",
       "      <td>-3.741000</td>\n",
       "    </tr>\n",
       "    <tr>\n",
       "      <th>1</th>\n",
       "      <td>230370902A</td>\n",
       "      <td>2014-01-01</td>\n",
       "      <td>0.00</td>\n",
       "      <td>2014</td>\n",
       "      <td>1</td>\n",
       "      <td>CE</td>\n",
       "      <td>CAUCAIA</td>\n",
       "      <td>Parque São Geraldo</td>\n",
       "      <td>-38.639000</td>\n",
       "      <td>-3.740000</td>\n",
       "    </tr>\n",
       "    <tr>\n",
       "      <th>2</th>\n",
       "      <td>230370903A</td>\n",
       "      <td>2014-01-01</td>\n",
       "      <td>0.00</td>\n",
       "      <td>2014</td>\n",
       "      <td>1</td>\n",
       "      <td>CE</td>\n",
       "      <td>CAUCAIA</td>\n",
       "      <td>Conjunto Metropolitano</td>\n",
       "      <td>-38.661000</td>\n",
       "      <td>-3.759000</td>\n",
       "    </tr>\n",
       "    <tr>\n",
       "      <th>3</th>\n",
       "      <td>230370904A</td>\n",
       "      <td>2014-01-01</td>\n",
       "      <td>0.00</td>\n",
       "      <td>2014</td>\n",
       "      <td>1</td>\n",
       "      <td>CE</td>\n",
       "      <td>CAUCAIA</td>\n",
       "      <td>Padre Julio Maria II</td>\n",
       "      <td>-38.671000</td>\n",
       "      <td>-3.743000</td>\n",
       "    </tr>\n",
       "    <tr>\n",
       "      <th>4</th>\n",
       "      <td>230370905A</td>\n",
       "      <td>2014-01-01</td>\n",
       "      <td>0.00</td>\n",
       "      <td>2014</td>\n",
       "      <td>1</td>\n",
       "      <td>CE</td>\n",
       "      <td>CAUCAIA</td>\n",
       "      <td>Parque Leblon</td>\n",
       "      <td>-38.594000</td>\n",
       "      <td>-3.696000</td>\n",
       "    </tr>\n",
       "    <tr>\n",
       "      <th>...</th>\n",
       "      <td>...</td>\n",
       "      <td>...</td>\n",
       "      <td>...</td>\n",
       "      <td>...</td>\n",
       "      <td>...</td>\n",
       "      <td>...</td>\n",
       "      <td>...</td>\n",
       "      <td>...</td>\n",
       "      <td>...</td>\n",
       "      <td>...</td>\n",
       "    </tr>\n",
       "    <tr>\n",
       "      <th>6808736</th>\n",
       "      <td>530010804A</td>\n",
       "      <td>2020-12-31</td>\n",
       "      <td>25.00</td>\n",
       "      <td>2020</td>\n",
       "      <td>12</td>\n",
       "      <td>DF</td>\n",
       "      <td>BRASÍLIA</td>\n",
       "      <td>Sobradinho</td>\n",
       "      <td>-47.846900</td>\n",
       "      <td>-15.623700</td>\n",
       "    </tr>\n",
       "    <tr>\n",
       "      <th>6808737</th>\n",
       "      <td>530010805A</td>\n",
       "      <td>2020-12-31</td>\n",
       "      <td>0.00</td>\n",
       "      <td>2020</td>\n",
       "      <td>12</td>\n",
       "      <td>DF</td>\n",
       "      <td>BRASÍLIA</td>\n",
       "      <td>Nucleo Bandeirante</td>\n",
       "      <td>-47.962700</td>\n",
       "      <td>-15.876800</td>\n",
       "    </tr>\n",
       "    <tr>\n",
       "      <th>6808738</th>\n",
       "      <td>CEMADEN_10</td>\n",
       "      <td>2020-12-31</td>\n",
       "      <td>0.79</td>\n",
       "      <td>2020</td>\n",
       "      <td>12</td>\n",
       "      <td>SP</td>\n",
       "      <td>CACHOEIRA PAULISTA</td>\n",
       "      <td>Cachoeira Paulista - Cemaden10 - TESTES</td>\n",
       "      <td>-44.995534</td>\n",
       "      <td>-22.674132</td>\n",
       "    </tr>\n",
       "    <tr>\n",
       "      <th>6808739</th>\n",
       "      <td>CEMADEN_11</td>\n",
       "      <td>2020-12-31</td>\n",
       "      <td>1.38</td>\n",
       "      <td>2020</td>\n",
       "      <td>12</td>\n",
       "      <td>SP</td>\n",
       "      <td>CACHOEIRA PAULISTA</td>\n",
       "      <td>Cachoeira Paulista - Cemaden11 TESTES</td>\n",
       "      <td>-44.995750</td>\n",
       "      <td>-22.674080</td>\n",
       "    </tr>\n",
       "    <tr>\n",
       "      <th>6808740</th>\n",
       "      <td>CEMADEN_12</td>\n",
       "      <td>2020-12-31</td>\n",
       "      <td>0.98</td>\n",
       "      <td>2020</td>\n",
       "      <td>12</td>\n",
       "      <td>SP</td>\n",
       "      <td>CACHOEIRA PAULISTA</td>\n",
       "      <td>Cachoeira Paulista - Cemaden12</td>\n",
       "      <td>-45.000000</td>\n",
       "      <td>-22.682000</td>\n",
       "    </tr>\n",
       "  </tbody>\n",
       "</table>\n",
       "<p>6808741 rows × 10 columns</p>\n",
       "</div>"
      ],
      "text/plain": [
       "         gauge_code   datetime  rain_mm  year  month state  \\\n",
       "0        230370901A 2014-01-01     0.00  2014      1    CE   \n",
       "1        230370902A 2014-01-01     0.00  2014      1    CE   \n",
       "2        230370903A 2014-01-01     0.00  2014      1    CE   \n",
       "3        230370904A 2014-01-01     0.00  2014      1    CE   \n",
       "4        230370905A 2014-01-01     0.00  2014      1    CE   \n",
       "...             ...        ...      ...   ...    ...   ...   \n",
       "6808736  530010804A 2020-12-31    25.00  2020     12    DF   \n",
       "6808737  530010805A 2020-12-31     0.00  2020     12    DF   \n",
       "6808738  CEMADEN_10 2020-12-31     0.79  2020     12    SP   \n",
       "6808739  CEMADEN_11 2020-12-31     1.38  2020     12    SP   \n",
       "6808740  CEMADEN_12 2020-12-31     0.98  2020     12    SP   \n",
       "\n",
       "                       city                             name_station  \\\n",
       "0                   CAUCAIA                             Tabapuãzinho   \n",
       "1                   CAUCAIA                       Parque São Geraldo   \n",
       "2                   CAUCAIA                   Conjunto Metropolitano   \n",
       "3                   CAUCAIA                     Padre Julio Maria II   \n",
       "4                   CAUCAIA                            Parque Leblon   \n",
       "...                     ...                                      ...   \n",
       "6808736            BRASÍLIA                               Sobradinho   \n",
       "6808737            BRASÍLIA                       Nucleo Bandeirante   \n",
       "6808738  CACHOEIRA PAULISTA  Cachoeira Paulista - Cemaden10 - TESTES   \n",
       "6808739  CACHOEIRA PAULISTA    Cachoeira Paulista - Cemaden11 TESTES   \n",
       "6808740  CACHOEIRA PAULISTA           Cachoeira Paulista - Cemaden12   \n",
       "\n",
       "              long        lat  \n",
       "0       -38.620000  -3.741000  \n",
       "1       -38.639000  -3.740000  \n",
       "2       -38.661000  -3.759000  \n",
       "3       -38.671000  -3.743000  \n",
       "4       -38.594000  -3.696000  \n",
       "...            ...        ...  \n",
       "6808736 -47.846900 -15.623700  \n",
       "6808737 -47.962700 -15.876800  \n",
       "6808738 -44.995534 -22.674132  \n",
       "6808739 -44.995750 -22.674080  \n",
       "6808740 -45.000000 -22.682000  \n",
       "\n",
       "[6808741 rows x 10 columns]"
      ]
     },
     "execution_count": 176,
     "metadata": {},
     "output_type": "execute_result"
    }
   ],
   "source": [
    "df_preclassif = pd.read_hdf(cemaden_path, key='table_preclassif')\n",
    "df_cemaden_info = pd.read_hdf(cemaden_path, key='table_info')\n",
    "df_complete_info = pd.merge(df_cemaden_data, df_cemaden_info, on='gauge_code', how = 'inner').sort_values(['datetime','gauge_code'], ascending = True).reset_index(drop=True)\n",
    "df_complete_info"
   ]
  },
  {
   "cell_type": "code",
   "execution_count": 177,
   "id": "47fdb913",
   "metadata": {},
   "outputs": [
    {
     "data": {
      "application/vnd.microsoft.datawrangler.viewer.v0+json": {
       "columns": [
        {
         "name": "index",
         "rawType": "int64",
         "type": "integer"
        },
        {
         "name": "gauge_code",
         "rawType": "object",
         "type": "string"
        },
        {
         "name": "year",
         "rawType": "int64",
         "type": "integer"
        },
        {
         "name": "p_availability",
         "rawType": "float64",
         "type": "float"
        }
       ],
       "conversionMethod": "pd.DataFrame",
       "ref": "70b4cf7a-4766-40d0-859d-f53589d14c85",
       "rows": [
        [
         "0",
         "110020501A",
         "2014",
         "4.383561643835616"
        ],
        [
         "1",
         "110020502A",
         "2014",
         "71.78082191780823"
        ],
        [
         "2",
         "120040101A",
         "2014",
         "91.5068493150685"
        ],
        [
         "3",
         "120040102A",
         "2014",
         "20.82191780821918"
        ],
        [
         "4",
         "150120401A",
         "2014",
         "16.71232876712329"
        ],
        [
         "5",
         "150140201A",
         "2014",
         "16.71232876712329"
        ],
        [
         "6",
         "150350701A",
         "2014",
         "16.71232876712329"
        ],
        [
         "7",
         "150380401A",
         "2014",
         "16.71232876712329"
        ],
        [
         "8",
         "150810001A",
         "2014",
         "16.71232876712329"
        ],
        [
         "9",
         "220120001A",
         "2014",
         "75.34246575342466"
        ],
        [
         "10",
         "220220801A",
         "2014",
         "75.34246575342466"
        ],
        [
         "11",
         "220265301A",
         "2014",
         "16.164383561643834"
        ],
        [
         "12",
         "220265302A",
         "2014",
         "16.164383561643834"
        ],
        [
         "13",
         "220370101A",
         "2014",
         "75.34246575342466"
        ],
        [
         "14",
         "230075401A",
         "2014",
         "74.79452054794521"
        ],
        [
         "15",
         "230075402A",
         "2014",
         "74.79452054794521"
        ],
        [
         "16",
         "230075403A",
         "2014",
         "74.52054794520548"
        ],
        [
         "17",
         "230170301A",
         "2014",
         "91.5068493150685"
        ],
        [
         "18",
         "230230501A",
         "2014",
         "74.24657534246575"
        ],
        [
         "19",
         "230240401A",
         "2014",
         "91.5068493150685"
        ],
        [
         "20",
         "230370901A",
         "2014",
         "100.0"
        ],
        [
         "21",
         "230370902A",
         "2014",
         "100.0"
        ],
        [
         "22",
         "230370903A",
         "2014",
         "100.0"
        ],
        [
         "23",
         "230370904A",
         "2014",
         "100.0"
        ],
        [
         "24",
         "230370905A",
         "2014",
         "100.0"
        ],
        [
         "25",
         "230370906A",
         "2014",
         "87.94520547945206"
        ],
        [
         "26",
         "230420201A",
         "2014",
         "69.86301369863014"
        ],
        [
         "27",
         "230420202A",
         "2014",
         "100.0"
        ],
        [
         "28",
         "230435001A",
         "2014",
         "73.97260273972603"
        ],
        [
         "29",
         "230440001A",
         "2014",
         "91.5068493150685"
        ],
        [
         "30",
         "230440002A",
         "2014",
         "91.5068493150685"
        ],
        [
         "31",
         "230440003A",
         "2014",
         "100.0"
        ],
        [
         "32",
         "230440004A",
         "2014",
         "100.0"
        ],
        [
         "33",
         "230440005A",
         "2014",
         "100.0"
        ],
        [
         "34",
         "230440006A",
         "2014",
         "100.0"
        ],
        [
         "35",
         "230440007A",
         "2014",
         "100.0"
        ],
        [
         "36",
         "230440008A",
         "2014",
         "100.0"
        ],
        [
         "37",
         "230440009A",
         "2014",
         "100.0"
        ],
        [
         "38",
         "230440010A",
         "2014",
         "100.0"
        ],
        [
         "39",
         "230440011A",
         "2014",
         "100.0"
        ],
        [
         "40",
         "230440012A",
         "2014",
         "100.0"
        ],
        [
         "41",
         "230440013A",
         "2014",
         "89.58904109589041"
        ],
        [
         "42",
         "230440014A",
         "2014",
         "100.0"
        ],
        [
         "43",
         "230440015A",
         "2014",
         "100.0"
        ],
        [
         "44",
         "230440016A",
         "2014",
         "100.0"
        ],
        [
         "45",
         "230610801A",
         "2014",
         "72.87671232876713"
        ],
        [
         "46",
         "230700701A",
         "2014",
         "100.0"
        ],
        [
         "47",
         "230700703A",
         "2014",
         "100.0"
        ],
        [
         "48",
         "230700704A",
         "2014",
         "81.36986301369863"
        ],
        [
         "49",
         "230700705A",
         "2014",
         "100.0"
        ]
       ],
       "shape": {
        "columns": 3,
        "rows": 22773
       }
      },
      "text/html": [
       "<div>\n",
       "<style scoped>\n",
       "    .dataframe tbody tr th:only-of-type {\n",
       "        vertical-align: middle;\n",
       "    }\n",
       "\n",
       "    .dataframe tbody tr th {\n",
       "        vertical-align: top;\n",
       "    }\n",
       "\n",
       "    .dataframe thead th {\n",
       "        text-align: right;\n",
       "    }\n",
       "</style>\n",
       "<table border=\"1\" class=\"dataframe\">\n",
       "  <thead>\n",
       "    <tr style=\"text-align: right;\">\n",
       "      <th></th>\n",
       "      <th>gauge_code</th>\n",
       "      <th>year</th>\n",
       "      <th>p_availability</th>\n",
       "    </tr>\n",
       "  </thead>\n",
       "  <tbody>\n",
       "    <tr>\n",
       "      <th>0</th>\n",
       "      <td>110020501A</td>\n",
       "      <td>2014</td>\n",
       "      <td>4.383562</td>\n",
       "    </tr>\n",
       "    <tr>\n",
       "      <th>1</th>\n",
       "      <td>110020502A</td>\n",
       "      <td>2014</td>\n",
       "      <td>71.780822</td>\n",
       "    </tr>\n",
       "    <tr>\n",
       "      <th>2</th>\n",
       "      <td>120040101A</td>\n",
       "      <td>2014</td>\n",
       "      <td>91.506849</td>\n",
       "    </tr>\n",
       "    <tr>\n",
       "      <th>3</th>\n",
       "      <td>120040102A</td>\n",
       "      <td>2014</td>\n",
       "      <td>20.821918</td>\n",
       "    </tr>\n",
       "    <tr>\n",
       "      <th>4</th>\n",
       "      <td>150120401A</td>\n",
       "      <td>2014</td>\n",
       "      <td>16.712329</td>\n",
       "    </tr>\n",
       "    <tr>\n",
       "      <th>...</th>\n",
       "      <td>...</td>\n",
       "      <td>...</td>\n",
       "      <td>...</td>\n",
       "    </tr>\n",
       "    <tr>\n",
       "      <th>22768</th>\n",
       "      <td>530010804A</td>\n",
       "      <td>2020</td>\n",
       "      <td>100.000000</td>\n",
       "    </tr>\n",
       "    <tr>\n",
       "      <th>22769</th>\n",
       "      <td>530010805A</td>\n",
       "      <td>2020</td>\n",
       "      <td>100.000000</td>\n",
       "    </tr>\n",
       "    <tr>\n",
       "      <th>22770</th>\n",
       "      <td>CEMADEN_10</td>\n",
       "      <td>2020</td>\n",
       "      <td>91.530055</td>\n",
       "    </tr>\n",
       "    <tr>\n",
       "      <th>22771</th>\n",
       "      <td>CEMADEN_11</td>\n",
       "      <td>2020</td>\n",
       "      <td>6.557377</td>\n",
       "    </tr>\n",
       "    <tr>\n",
       "      <th>22772</th>\n",
       "      <td>CEMADEN_12</td>\n",
       "      <td>2020</td>\n",
       "      <td>8.469945</td>\n",
       "    </tr>\n",
       "  </tbody>\n",
       "</table>\n",
       "<p>22773 rows × 3 columns</p>\n",
       "</div>"
      ],
      "text/plain": [
       "       gauge_code  year  p_availability\n",
       "0      110020501A  2014        4.383562\n",
       "1      110020502A  2014       71.780822\n",
       "2      120040101A  2014       91.506849\n",
       "3      120040102A  2014       20.821918\n",
       "4      150120401A  2014       16.712329\n",
       "...           ...   ...             ...\n",
       "22768  530010804A  2020      100.000000\n",
       "22769  530010805A  2020      100.000000\n",
       "22770  CEMADEN_10  2020       91.530055\n",
       "22771  CEMADEN_11  2020        6.557377\n",
       "22772  CEMADEN_12  2020        8.469945\n",
       "\n",
       "[22773 rows x 3 columns]"
      ]
     },
     "execution_count": 177,
     "metadata": {},
     "output_type": "execute_result"
    }
   ],
   "source": [
    "df_p_availability = pd.read_hdf(cemaden_path, key = 'table_p_availability', encoding = 'utf-8')\n",
    "df_q1_gaps = pd.read_hdf(cemaden_path, key = 'table_q1_gaps', encoding = 'utf-8')\n",
    "df_q2_week = pd.read_hdf(cemaden_path, key = 'table_q2_week', encoding = 'utf-8')\n",
    "df_q3_outliers = pd.read_hdf(cemaden_path, key = 'table_q3_outliers', encoding = 'utf-8')\n",
    "df_p_availability"
   ]
  },
  {
   "cell_type": "code",
   "execution_count": 178,
   "id": "06c5fc6c",
   "metadata": {},
   "outputs": [
    {
     "data": {
      "application/vnd.microsoft.datawrangler.viewer.v0+json": {
       "columns": [
        {
         "name": "index",
         "rawType": "int64",
         "type": "integer"
        },
        {
         "name": "gauge_code",
         "rawType": "object",
         "type": "string"
        },
        {
         "name": "year",
         "rawType": "int64",
         "type": "integer"
        },
        {
         "name": "p_availability",
         "rawType": "float64",
         "type": "float"
        }
       ],
       "conversionMethod": "pd.DataFrame",
       "ref": "71afef8f-a240-470c-abe3-6c2c34cfb899",
       "rows": [
        [
         "0",
         "110020501A",
         "2014",
         "4.383561643835616"
        ],
        [
         "1",
         "110020502A",
         "2014",
         "71.78082191780823"
        ],
        [
         "2",
         "120040101A",
         "2014",
         "91.5068493150685"
        ],
        [
         "3",
         "120040102A",
         "2014",
         "20.82191780821918"
        ],
        [
         "4",
         "150120401A",
         "2014",
         "16.71232876712329"
        ],
        [
         "5",
         "150140201A",
         "2014",
         "16.71232876712329"
        ],
        [
         "6",
         "150350701A",
         "2014",
         "16.71232876712329"
        ],
        [
         "7",
         "150380401A",
         "2014",
         "16.71232876712329"
        ],
        [
         "8",
         "150810001A",
         "2014",
         "16.71232876712329"
        ],
        [
         "9",
         "220120001A",
         "2014",
         "75.34246575342466"
        ],
        [
         "10",
         "220220801A",
         "2014",
         "75.34246575342466"
        ],
        [
         "11",
         "220265301A",
         "2014",
         "16.164383561643834"
        ],
        [
         "12",
         "220265302A",
         "2014",
         "16.164383561643834"
        ],
        [
         "13",
         "220370101A",
         "2014",
         "75.34246575342466"
        ],
        [
         "14",
         "230075401A",
         "2014",
         "74.79452054794521"
        ],
        [
         "15",
         "230075402A",
         "2014",
         "74.79452054794521"
        ],
        [
         "16",
         "230075403A",
         "2014",
         "74.52054794520548"
        ],
        [
         "17",
         "230170301A",
         "2014",
         "91.5068493150685"
        ],
        [
         "18",
         "230230501A",
         "2014",
         "74.24657534246575"
        ],
        [
         "19",
         "230240401A",
         "2014",
         "91.5068493150685"
        ],
        [
         "20",
         "230370901A",
         "2014",
         "100.0"
        ],
        [
         "21",
         "230370902A",
         "2014",
         "100.0"
        ],
        [
         "22",
         "230370903A",
         "2014",
         "100.0"
        ],
        [
         "23",
         "230370904A",
         "2014",
         "100.0"
        ],
        [
         "24",
         "230370905A",
         "2014",
         "100.0"
        ],
        [
         "25",
         "230370906A",
         "2014",
         "87.94520547945206"
        ],
        [
         "26",
         "230420201A",
         "2014",
         "69.86301369863014"
        ],
        [
         "27",
         "230420202A",
         "2014",
         "100.0"
        ],
        [
         "28",
         "230435001A",
         "2014",
         "73.97260273972603"
        ],
        [
         "29",
         "230440001A",
         "2014",
         "91.5068493150685"
        ],
        [
         "30",
         "230440002A",
         "2014",
         "91.5068493150685"
        ],
        [
         "31",
         "230440003A",
         "2014",
         "100.0"
        ],
        [
         "32",
         "230440004A",
         "2014",
         "100.0"
        ],
        [
         "33",
         "230440005A",
         "2014",
         "100.0"
        ],
        [
         "34",
         "230440006A",
         "2014",
         "100.0"
        ],
        [
         "35",
         "230440007A",
         "2014",
         "100.0"
        ],
        [
         "36",
         "230440008A",
         "2014",
         "100.0"
        ],
        [
         "37",
         "230440009A",
         "2014",
         "100.0"
        ],
        [
         "38",
         "230440010A",
         "2014",
         "100.0"
        ],
        [
         "39",
         "230440011A",
         "2014",
         "100.0"
        ],
        [
         "40",
         "230440012A",
         "2014",
         "100.0"
        ],
        [
         "41",
         "230440013A",
         "2014",
         "89.58904109589041"
        ],
        [
         "42",
         "230440014A",
         "2014",
         "100.0"
        ],
        [
         "43",
         "230440015A",
         "2014",
         "100.0"
        ],
        [
         "44",
         "230440016A",
         "2014",
         "100.0"
        ],
        [
         "45",
         "230610801A",
         "2014",
         "72.87671232876713"
        ],
        [
         "46",
         "230700701A",
         "2014",
         "100.0"
        ],
        [
         "47",
         "230700703A",
         "2014",
         "100.0"
        ],
        [
         "48",
         "230700704A",
         "2014",
         "81.36986301369863"
        ],
        [
         "49",
         "230700705A",
         "2014",
         "100.0"
        ]
       ],
       "shape": {
        "columns": 3,
        "rows": 22773
       }
      },
      "text/html": [
       "<div>\n",
       "<style scoped>\n",
       "    .dataframe tbody tr th:only-of-type {\n",
       "        vertical-align: middle;\n",
       "    }\n",
       "\n",
       "    .dataframe tbody tr th {\n",
       "        vertical-align: top;\n",
       "    }\n",
       "\n",
       "    .dataframe thead th {\n",
       "        text-align: right;\n",
       "    }\n",
       "</style>\n",
       "<table border=\"1\" class=\"dataframe\">\n",
       "  <thead>\n",
       "    <tr style=\"text-align: right;\">\n",
       "      <th></th>\n",
       "      <th>gauge_code</th>\n",
       "      <th>year</th>\n",
       "      <th>p_availability</th>\n",
       "    </tr>\n",
       "  </thead>\n",
       "  <tbody>\n",
       "    <tr>\n",
       "      <th>0</th>\n",
       "      <td>110020501A</td>\n",
       "      <td>2014</td>\n",
       "      <td>4.383562</td>\n",
       "    </tr>\n",
       "    <tr>\n",
       "      <th>1</th>\n",
       "      <td>110020502A</td>\n",
       "      <td>2014</td>\n",
       "      <td>71.780822</td>\n",
       "    </tr>\n",
       "    <tr>\n",
       "      <th>2</th>\n",
       "      <td>120040101A</td>\n",
       "      <td>2014</td>\n",
       "      <td>91.506849</td>\n",
       "    </tr>\n",
       "    <tr>\n",
       "      <th>3</th>\n",
       "      <td>120040102A</td>\n",
       "      <td>2014</td>\n",
       "      <td>20.821918</td>\n",
       "    </tr>\n",
       "    <tr>\n",
       "      <th>4</th>\n",
       "      <td>150120401A</td>\n",
       "      <td>2014</td>\n",
       "      <td>16.712329</td>\n",
       "    </tr>\n",
       "    <tr>\n",
       "      <th>...</th>\n",
       "      <td>...</td>\n",
       "      <td>...</td>\n",
       "      <td>...</td>\n",
       "    </tr>\n",
       "    <tr>\n",
       "      <th>22768</th>\n",
       "      <td>530010804A</td>\n",
       "      <td>2020</td>\n",
       "      <td>100.000000</td>\n",
       "    </tr>\n",
       "    <tr>\n",
       "      <th>22769</th>\n",
       "      <td>530010805A</td>\n",
       "      <td>2020</td>\n",
       "      <td>100.000000</td>\n",
       "    </tr>\n",
       "    <tr>\n",
       "      <th>22770</th>\n",
       "      <td>CEMADEN_10</td>\n",
       "      <td>2020</td>\n",
       "      <td>91.530055</td>\n",
       "    </tr>\n",
       "    <tr>\n",
       "      <th>22771</th>\n",
       "      <td>CEMADEN_11</td>\n",
       "      <td>2020</td>\n",
       "      <td>6.557377</td>\n",
       "    </tr>\n",
       "    <tr>\n",
       "      <th>22772</th>\n",
       "      <td>CEMADEN_12</td>\n",
       "      <td>2020</td>\n",
       "      <td>8.469945</td>\n",
       "    </tr>\n",
       "  </tbody>\n",
       "</table>\n",
       "<p>22773 rows × 3 columns</p>\n",
       "</div>"
      ],
      "text/plain": [
       "       gauge_code  year  p_availability\n",
       "0      110020501A  2014        4.383562\n",
       "1      110020502A  2014       71.780822\n",
       "2      120040101A  2014       91.506849\n",
       "3      120040102A  2014       20.821918\n",
       "4      150120401A  2014       16.712329\n",
       "...           ...   ...             ...\n",
       "22768  530010804A  2020      100.000000\n",
       "22769  530010805A  2020      100.000000\n",
       "22770  CEMADEN_10  2020       91.530055\n",
       "22771  CEMADEN_11  2020        6.557377\n",
       "22772  CEMADEN_12  2020        8.469945\n",
       "\n",
       "[22773 rows x 3 columns]"
      ]
     },
     "execution_count": 178,
     "metadata": {},
     "output_type": "execute_result"
    }
   ],
   "source": [
    "df_p_availability"
   ]
  },
  {
   "cell_type": "code",
   "execution_count": 179,
   "id": "c11d2ca4",
   "metadata": {},
   "outputs": [
    {
     "data": {
      "application/vnd.microsoft.datawrangler.viewer.v0+json": {
       "columns": [
        {
         "name": "index",
         "rawType": "int64",
         "type": "integer"
        },
        {
         "name": "gauge_code",
         "rawType": "object",
         "type": "string"
        },
        {
         "name": "year",
         "rawType": "int32",
         "type": "integer"
        },
        {
         "name": "preclassif",
         "rawType": "object",
         "type": "string"
        },
        {
         "name": "p_availability",
         "rawType": "float64",
         "type": "float"
        },
        {
         "name": "q1_gaps",
         "rawType": "float64",
         "type": "float"
        },
        {
         "name": "q2_week",
         "rawType": "float64",
         "type": "float"
        },
        {
         "name": "q3_outliers",
         "rawType": "float64",
         "type": "float"
        }
       ],
       "conversionMethod": "pd.DataFrame",
       "ref": "1946429c-8d0a-4da6-8a6c-c2be34a5587f",
       "rows": [
        [
         "0",
         "110018901A",
         "2018",
         "",
         "37.26027397260274",
         "0.0",
         "84.72768438490468",
         "94.8529411764706"
        ],
        [
         "1",
         "110018901A",
         "2019",
         "",
         "100.0",
         "100.0",
         "87.0799840422603",
         "97.8082191780822"
        ],
        [
         "2",
         "110018901A",
         "2020",
         "LQ",
         "100.0",
         "100.0",
         "54.468759210420274",
         "100.0"
        ],
        [
         "3",
         "110020501A",
         "2014",
         "LQ",
         "4.383561643835616",
         "0.0",
         "42.264973081037425",
         "100.0"
        ],
        [
         "4",
         "110020501A",
         "2017",
         "LQ",
         "25.205479452054796",
         "0.0",
         "0.0",
         "100.0"
        ],
        [
         "5",
         "110020501A",
         "2020",
         "",
         "39.34426229508197",
         "0.0",
         "62.5",
         "97.91666666666667"
        ],
        [
         "6",
         "110020502A",
         "2014",
         "",
         "71.78082191780823",
         "0.0",
         "88.20809244923613",
         "97.70992366412214"
        ],
        [
         "7",
         "110020502A",
         "2015",
         "LQ",
         "2.4657534246575343",
         "0.0",
         "0.0",
         "100.0"
        ],
        [
         "8",
         "110020502A",
         "2016",
         "LQ",
         "88.52459016393442",
         "61.11111111111111",
         "76.9934668603079",
         "100.0"
        ],
        [
         "9",
         "110020502A",
         "2017",
         "LQ",
         "68.4931506849315",
         "0.0",
         "0.0",
         "100.0"
        ],
        [
         "10",
         "110020502A",
         "2020",
         "",
         "39.34426229508197",
         "0.0",
         "70.24404821440478",
         "95.83333333333333"
        ],
        [
         "11",
         "120010401A",
         "2018",
         "",
         "38.35616438356164",
         "0.0",
         "73.97917500667334",
         "97.85714285714286"
        ],
        [
         "12",
         "120010401A",
         "2019",
         "",
         "100.0",
         "100.0",
         "80.05689911956335",
         "97.26027397260275"
        ],
        [
         "13",
         "120010401A",
         "2020",
         "LQ",
         "100.0",
         "100.0",
         "78.65218590425084",
         "99.18032786885246"
        ],
        [
         "14",
         "120032801A",
         "2018",
         "",
         "38.35616438356164",
         "0.0",
         "85.61481247968504",
         "97.85714285714286"
        ],
        [
         "15",
         "120032801A",
         "2019",
         "",
         "100.0",
         "100.0",
         "85.57115540330012",
         "97.26027397260275"
        ],
        [
         "16",
         "120032801A",
         "2020",
         "",
         "99.72677595628416",
         "99.17808219178082",
         "63.42187017898777",
         "97.53424657534246"
        ],
        [
         "17",
         "120040101A",
         "2014",
         "",
         "91.5068493150685",
         "72.1556886227545",
         "78.46860620730283",
         "98.50299401197604"
        ],
        [
         "18",
         "120040101A",
         "2015",
         "LQ",
         "100.0",
         "100.0",
         "71.05074731095917",
         "99.72602739726027"
        ],
        [
         "19",
         "120040101A",
         "2016",
         "LQ",
         "93.44262295081968",
         "78.94736842105263",
         "0.0",
         "100.0"
        ],
        [
         "20",
         "120040101A",
         "2017",
         "LQ",
         "0.273972602739726",
         "0.0",
         "0.0",
         "0.0"
        ],
        [
         "21",
         "120040101A",
         "2020",
         "",
         "39.07103825136612",
         "0.0",
         "64.59865527506994",
         "95.1048951048951"
        ],
        [
         "22",
         "120040101H",
         "2016",
         "",
         "14.207650273224044",
         "0.0",
         "65.12482248931967",
         "94.23076923076923"
        ],
        [
         "23",
         "120040101H",
         "2017",
         "",
         "38.35616438356164",
         "0.0",
         "87.1187762256094",
         "97.85714285714286"
        ],
        [
         "24",
         "120040101H",
         "2020",
         "LQ",
         "0.273224043715847",
         "0.0",
         "0.0",
         "100.0"
        ],
        [
         "25",
         "120040102A",
         "2014",
         "",
         "20.82191780821918",
         "0.0",
         "65.41917679792263",
         "92.10526315789474"
        ],
        [
         "26",
         "120040102A",
         "2020",
         "",
         "38.79781420765027",
         "0.0",
         "51.55270864694568",
         "99.29577464788733"
        ],
        [
         "27",
         "120040102H",
         "2016",
         "",
         "14.754098360655737",
         "0.0",
         "71.26798018088735",
         "96.29629629629629"
        ],
        [
         "28",
         "120040102H",
         "2017",
         "LQ",
         "3.0136986301369864",
         "0.0",
         "39.619263557544",
         "100.0"
        ],
        [
         "29",
         "120070801A",
         "2018",
         "",
         "38.35616438356164",
         "0.0",
         "66.42133983636118",
         "99.28571428571429"
        ],
        [
         "30",
         "120070801A",
         "2019",
         "",
         "100.0",
         "100.0",
         "87.09564060677629",
         "96.98630136986301"
        ],
        [
         "31",
         "120070801A",
         "2020",
         "",
         "100.0",
         "100.0",
         "77.10319070122586",
         "96.99453551912568"
        ],
        [
         "32",
         "130002901A",
         "2018",
         "",
         "13.424657534246576",
         "0.0",
         "86.58205856834311",
         "95.91836734693878"
        ],
        [
         "33",
         "130002901A",
         "2019",
         "LQ",
         "1.9178082191780823",
         "0.0",
         "55.90414481559016",
         "100.0"
        ],
        [
         "34",
         "130002901A",
         "2020",
         "LQ",
         "2.459016393442623",
         "0.0",
         "0.0",
         "88.88888888888889"
        ],
        [
         "35",
         "130006001A",
         "2018",
         "",
         "14.794520547945206",
         "0.0",
         "82.78884203973092",
         "90.74074074074073"
        ],
        [
         "36",
         "130006001A",
         "2019",
         "",
         "100.0",
         "100.0",
         "89.06623005990703",
         "95.61643835616438"
        ],
        [
         "37",
         "130006001A",
         "2020",
         "",
         "100.0",
         "100.0",
         "83.0269961190265",
         "96.72131147540983"
        ],
        [
         "38",
         "130008601A",
         "2018",
         "LQ",
         "6.575342465753424",
         "0.0",
         "82.02289339305334",
         "100.0"
        ],
        [
         "39",
         "130008601A",
         "2019",
         "",
         "95.06849315068493",
         "84.43804034582132",
         "80.54756715924911",
         "98.55907780979827"
        ],
        [
         "40",
         "130008601A",
         "2020",
         "LQ",
         "95.08196721311475",
         "84.48275862068965",
         "61.84798092438208",
         "99.71264367816092"
        ],
        [
         "41",
         "130010201A",
         "2018",
         "LQ",
         "6.575342465753424",
         "0.0",
         "67.60252619243468",
         "95.83333333333333"
        ],
        [
         "42",
         "130010201A",
         "2019",
         "",
         "100.0",
         "100.0",
         "87.17494482119554",
         "97.8082191780822"
        ],
        [
         "43",
         "130010201A",
         "2020",
         "LQ",
         "99.18032786885246",
         "97.52066115702479",
         "19.49235141005869",
         "100.0"
        ],
        [
         "44",
         "130014401A",
         "2018",
         "",
         "39.45205479452055",
         "0.0",
         "74.3181862876557",
         "93.75"
        ],
        [
         "45",
         "130014401A",
         "2019",
         "",
         "94.52054794520548",
         "82.6086956521739",
         "90.44522155203309",
         "97.3913043478261"
        ],
        [
         "46",
         "130014401A",
         "2020",
         "LQ",
         "7.377049180327869",
         "0.0",
         "75.8477054230176",
         "92.5925925925926"
        ],
        [
         "47",
         "130020101A",
         "2018",
         "",
         "15.342465753424658",
         "0.0",
         "81.74801274744419",
         "94.64285714285714"
        ],
        [
         "48",
         "130020101A",
         "2019",
         "",
         "87.12328767123287",
         "55.660377358490564",
         "83.29983642263203",
         "97.16981132075472"
        ],
        [
         "49",
         "130020101A",
         "2020",
         "LQ",
         "3.0054644808743167",
         "0.0",
         "55.90414481559016",
         "100.0"
        ]
       ],
       "shape": {
        "columns": 7,
        "rows": 22773
       }
      },
      "text/html": [
       "<div>\n",
       "<style scoped>\n",
       "    .dataframe tbody tr th:only-of-type {\n",
       "        vertical-align: middle;\n",
       "    }\n",
       "\n",
       "    .dataframe tbody tr th {\n",
       "        vertical-align: top;\n",
       "    }\n",
       "\n",
       "    .dataframe thead th {\n",
       "        text-align: right;\n",
       "    }\n",
       "</style>\n",
       "<table border=\"1\" class=\"dataframe\">\n",
       "  <thead>\n",
       "    <tr style=\"text-align: right;\">\n",
       "      <th></th>\n",
       "      <th>gauge_code</th>\n",
       "      <th>year</th>\n",
       "      <th>preclassif</th>\n",
       "      <th>p_availability</th>\n",
       "      <th>q1_gaps</th>\n",
       "      <th>q2_week</th>\n",
       "      <th>q3_outliers</th>\n",
       "    </tr>\n",
       "  </thead>\n",
       "  <tbody>\n",
       "    <tr>\n",
       "      <th>0</th>\n",
       "      <td>110018901A</td>\n",
       "      <td>2018</td>\n",
       "      <td></td>\n",
       "      <td>37.260274</td>\n",
       "      <td>0.0</td>\n",
       "      <td>84.727684</td>\n",
       "      <td>94.852941</td>\n",
       "    </tr>\n",
       "    <tr>\n",
       "      <th>1</th>\n",
       "      <td>110018901A</td>\n",
       "      <td>2019</td>\n",
       "      <td></td>\n",
       "      <td>100.000000</td>\n",
       "      <td>100.0</td>\n",
       "      <td>87.079984</td>\n",
       "      <td>97.808219</td>\n",
       "    </tr>\n",
       "    <tr>\n",
       "      <th>2</th>\n",
       "      <td>110018901A</td>\n",
       "      <td>2020</td>\n",
       "      <td>LQ</td>\n",
       "      <td>100.000000</td>\n",
       "      <td>100.0</td>\n",
       "      <td>54.468759</td>\n",
       "      <td>100.000000</td>\n",
       "    </tr>\n",
       "    <tr>\n",
       "      <th>3</th>\n",
       "      <td>110020501A</td>\n",
       "      <td>2014</td>\n",
       "      <td>LQ</td>\n",
       "      <td>4.383562</td>\n",
       "      <td>0.0</td>\n",
       "      <td>42.264973</td>\n",
       "      <td>100.000000</td>\n",
       "    </tr>\n",
       "    <tr>\n",
       "      <th>4</th>\n",
       "      <td>110020501A</td>\n",
       "      <td>2017</td>\n",
       "      <td>LQ</td>\n",
       "      <td>25.205479</td>\n",
       "      <td>0.0</td>\n",
       "      <td>0.000000</td>\n",
       "      <td>100.000000</td>\n",
       "    </tr>\n",
       "    <tr>\n",
       "      <th>...</th>\n",
       "      <td>...</td>\n",
       "      <td>...</td>\n",
       "      <td>...</td>\n",
       "      <td>...</td>\n",
       "      <td>...</td>\n",
       "      <td>...</td>\n",
       "      <td>...</td>\n",
       "    </tr>\n",
       "    <tr>\n",
       "      <th>22768</th>\n",
       "      <td>CEMADEN_12</td>\n",
       "      <td>2019</td>\n",
       "      <td></td>\n",
       "      <td>24.657534</td>\n",
       "      <td>0.0</td>\n",
       "      <td>86.944455</td>\n",
       "      <td>95.555556</td>\n",
       "    </tr>\n",
       "    <tr>\n",
       "      <th>22769</th>\n",
       "      <td>CEMADEN_12</td>\n",
       "      <td>2020</td>\n",
       "      <td></td>\n",
       "      <td>8.469945</td>\n",
       "      <td>0.0</td>\n",
       "      <td>61.341361</td>\n",
       "      <td>93.548387</td>\n",
       "    </tr>\n",
       "    <tr>\n",
       "      <th>22770</th>\n",
       "      <td>CEMADEN_13</td>\n",
       "      <td>2019</td>\n",
       "      <td>LQ</td>\n",
       "      <td>8.219178</td>\n",
       "      <td>0.0</td>\n",
       "      <td>0.000000</td>\n",
       "      <td>96.666667</td>\n",
       "    </tr>\n",
       "    <tr>\n",
       "      <th>22771</th>\n",
       "      <td>CEMADEN_14</td>\n",
       "      <td>2018</td>\n",
       "      <td></td>\n",
       "      <td>25.205479</td>\n",
       "      <td>0.0</td>\n",
       "      <td>58.760695</td>\n",
       "      <td>94.565217</td>\n",
       "    </tr>\n",
       "    <tr>\n",
       "      <th>22772</th>\n",
       "      <td>CEMADEN_14</td>\n",
       "      <td>2019</td>\n",
       "      <td></td>\n",
       "      <td>32.876712</td>\n",
       "      <td>0.0</td>\n",
       "      <td>87.930137</td>\n",
       "      <td>95.833333</td>\n",
       "    </tr>\n",
       "  </tbody>\n",
       "</table>\n",
       "<p>22773 rows × 7 columns</p>\n",
       "</div>"
      ],
      "text/plain": [
       "       gauge_code  year preclassif  p_availability  q1_gaps    q2_week  \\\n",
       "0      110018901A  2018                  37.260274      0.0  84.727684   \n",
       "1      110018901A  2019                 100.000000    100.0  87.079984   \n",
       "2      110018901A  2020         LQ      100.000000    100.0  54.468759   \n",
       "3      110020501A  2014         LQ        4.383562      0.0  42.264973   \n",
       "4      110020501A  2017         LQ       25.205479      0.0   0.000000   \n",
       "...           ...   ...        ...             ...      ...        ...   \n",
       "22768  CEMADEN_12  2019                  24.657534      0.0  86.944455   \n",
       "22769  CEMADEN_12  2020                   8.469945      0.0  61.341361   \n",
       "22770  CEMADEN_13  2019         LQ        8.219178      0.0   0.000000   \n",
       "22771  CEMADEN_14  2018                  25.205479      0.0  58.760695   \n",
       "22772  CEMADEN_14  2019                  32.876712      0.0  87.930137   \n",
       "\n",
       "       q3_outliers  \n",
       "0        94.852941  \n",
       "1        97.808219  \n",
       "2       100.000000  \n",
       "3       100.000000  \n",
       "4       100.000000  \n",
       "...            ...  \n",
       "22768    95.555556  \n",
       "22769    93.548387  \n",
       "22770    96.666667  \n",
       "22771    94.565217  \n",
       "22772    95.833333  \n",
       "\n",
       "[22773 rows x 7 columns]"
      ]
     },
     "execution_count": 179,
     "metadata": {},
     "output_type": "execute_result"
    }
   ],
   "source": [
    "df_qc_info = pd.merge(df_preclassif[['gauge_code', 'year', 'preclassif']]\n",
    "                      , df_p_availability\n",
    "                      , on = ['gauge_code', 'year']\n",
    "                      , how='left').merge(df_q1_gaps\n",
    "                                          , on = ['gauge_code', 'year']\n",
    "                                          , how='left').merge(df_q2_week\n",
    "                                                              , on = ['gauge_code', 'year']\n",
    "                                                              , how='left').merge(df_q3_outliers\n",
    "                                                              , on = ['gauge_code', 'year']\n",
    "                                                              , how='left')\n",
    "df_qc_info.fillna(0, inplace=True)\n",
    "df_qc_info"
   ]
  },
  {
   "cell_type": "code",
   "execution_count": 180,
   "id": "ecf22859",
   "metadata": {},
   "outputs": [],
   "source": [
    "df_qc_info['quality_index'] = df_qc_info[['p_availability', 'q1_gaps', 'q2_week', 'q3_outliers']].mean(axis=1)\n",
    "\n",
    "df_qc_info['quality_label'] = df_qc_info.apply(calculate_quality_label, axis=1)\n",
    "\n",
    "df_qc_info['final_classif'] = df_qc_info.apply(\n",
    "    lambda row: 'LQ' if row['quality_label'] in ['4 - Low Quality', '5 - Very Low Quality'] or row['preclassif'] == 'LQ' else 'HQ',\n",
    "    axis=1\n",
    ")\n",
    "\n",
    "df_qc_info.sort_values(['gauge_code', 'year'], inplace=True)"
   ]
  },
  {
   "cell_type": "code",
   "execution_count": 181,
   "id": "25a495ef",
   "metadata": {},
   "outputs": [
    {
     "data": {
      "application/vnd.microsoft.datawrangler.viewer.v0+json": {
       "columns": [
        {
         "name": "index",
         "rawType": "int64",
         "type": "integer"
        },
        {
         "name": "gauge_code",
         "rawType": "object",
         "type": "string"
        },
        {
         "name": "year",
         "rawType": "int32",
         "type": "integer"
        },
        {
         "name": "preclassif",
         "rawType": "object",
         "type": "string"
        },
        {
         "name": "p_availability",
         "rawType": "float64",
         "type": "float"
        },
        {
         "name": "q1_gaps",
         "rawType": "float64",
         "type": "float"
        },
        {
         "name": "q2_week",
         "rawType": "float64",
         "type": "float"
        },
        {
         "name": "q3_outliers",
         "rawType": "float64",
         "type": "float"
        },
        {
         "name": "quality_index",
         "rawType": "float64",
         "type": "float"
        },
        {
         "name": "quality_label",
         "rawType": "object",
         "type": "string"
        },
        {
         "name": "final_classif",
         "rawType": "object",
         "type": "string"
        }
       ],
       "conversionMethod": "pd.DataFrame",
       "ref": "eef693f3-616d-4676-8055-d42bfbc9d83e",
       "rows": [
        [
         "0",
         "110018901A",
         "2018",
         "",
         "37.26027397260274",
         "0.0",
         "84.72768438490468",
         "94.8529411764706",
         "54.210224883494504",
         "4 - Low Quality",
         "LQ"
        ],
        [
         "1",
         "110018901A",
         "2019",
         "",
         "100.0",
         "100.0",
         "87.0799840422603",
         "97.8082191780822",
         "96.22205080508563",
         "1 - Excellent Quality",
         "HQ"
        ],
        [
         "2",
         "110018901A",
         "2020",
         "LQ",
         "100.0",
         "100.0",
         "54.468759210420274",
         "100.0",
         "88.61718980260507",
         "2 - Good Quality",
         "LQ"
        ],
        [
         "3",
         "110020501A",
         "2014",
         "LQ",
         "4.383561643835616",
         "0.0",
         "42.264973081037425",
         "100.0",
         "36.662133681218265",
         "5 - Very Low Quality",
         "LQ"
        ],
        [
         "4",
         "110020501A",
         "2017",
         "LQ",
         "25.205479452054796",
         "0.0",
         "0.0",
         "100.0",
         "31.301369863013697",
         "5 - Very Low Quality",
         "LQ"
        ],
        [
         "5",
         "110020501A",
         "2020",
         "",
         "39.34426229508197",
         "0.0",
         "62.5",
         "97.91666666666667",
         "49.940232240437155",
         "5 - Very Low Quality",
         "LQ"
        ],
        [
         "6",
         "110020502A",
         "2014",
         "",
         "71.78082191780823",
         "0.0",
         "88.20809244923613",
         "97.70992366412214",
         "64.42470950779162",
         "4 - Low Quality",
         "LQ"
        ],
        [
         "7",
         "110020502A",
         "2015",
         "LQ",
         "2.4657534246575343",
         "0.0",
         "0.0",
         "100.0",
         "25.616438356164384",
         "5 - Very Low Quality",
         "LQ"
        ],
        [
         "8",
         "110020502A",
         "2016",
         "LQ",
         "88.52459016393442",
         "61.11111111111111",
         "76.9934668603079",
         "100.0",
         "81.65729203383836",
         "4 - Low Quality",
         "LQ"
        ],
        [
         "9",
         "110020502A",
         "2017",
         "LQ",
         "68.4931506849315",
         "0.0",
         "0.0",
         "100.0",
         "42.12328767123287",
         "5 - Very Low Quality",
         "LQ"
        ],
        [
         "10",
         "110020502A",
         "2020",
         "",
         "39.34426229508197",
         "0.0",
         "70.24404821440478",
         "95.83333333333333",
         "51.355410960705015",
         "4 - Low Quality",
         "LQ"
        ],
        [
         "11",
         "120010401A",
         "2018",
         "",
         "38.35616438356164",
         "0.0",
         "73.97917500667334",
         "97.85714285714286",
         "52.54812056184446",
         "4 - Low Quality",
         "LQ"
        ],
        [
         "12",
         "120010401A",
         "2019",
         "",
         "100.0",
         "100.0",
         "80.05689911956335",
         "97.26027397260275",
         "94.32929327304153",
         "1 - Excellent Quality",
         "HQ"
        ],
        [
         "13",
         "120010401A",
         "2020",
         "LQ",
         "100.0",
         "100.0",
         "78.65218590425084",
         "99.18032786885246",
         "94.45812844327583",
         "1 - Excellent Quality",
         "LQ"
        ],
        [
         "14",
         "120032801A",
         "2018",
         "",
         "38.35616438356164",
         "0.0",
         "85.61481247968504",
         "97.85714285714286",
         "55.457029930097384",
         "4 - Low Quality",
         "LQ"
        ],
        [
         "15",
         "120032801A",
         "2019",
         "",
         "100.0",
         "100.0",
         "85.57115540330012",
         "97.26027397260275",
         "95.70785734397572",
         "1 - Excellent Quality",
         "HQ"
        ],
        [
         "16",
         "120032801A",
         "2020",
         "",
         "99.72677595628416",
         "99.17808219178082",
         "63.42187017898777",
         "97.53424657534246",
         "89.96524372559881",
         "2 - Good Quality",
         "HQ"
        ],
        [
         "17",
         "120040101A",
         "2014",
         "",
         "91.5068493150685",
         "72.1556886227545",
         "78.46860620730283",
         "98.50299401197604",
         "85.15853453927546",
         "3 - Acceptable Quality",
         "HQ"
        ],
        [
         "18",
         "120040101A",
         "2015",
         "LQ",
         "100.0",
         "100.0",
         "71.05074731095917",
         "99.72602739726027",
         "92.69419367705487",
         "1 - Excellent Quality",
         "LQ"
        ],
        [
         "19",
         "120040101A",
         "2016",
         "LQ",
         "93.44262295081968",
         "78.94736842105263",
         "0.0",
         "100.0",
         "68.09749784296808",
         "4 - Low Quality",
         "LQ"
        ],
        [
         "20",
         "120040101A",
         "2017",
         "LQ",
         "0.273972602739726",
         "0.0",
         "0.0",
         "0.0",
         "0.0684931506849315",
         "5 - Very Low Quality",
         "LQ"
        ],
        [
         "21",
         "120040101A",
         "2020",
         "",
         "39.07103825136612",
         "0.0",
         "64.59865527506994",
         "95.1048951048951",
         "49.69364715783279",
         "5 - Very Low Quality",
         "LQ"
        ],
        [
         "22",
         "120040101H",
         "2016",
         "",
         "14.207650273224044",
         "0.0",
         "65.12482248931967",
         "94.23076923076923",
         "43.390810498328236",
         "5 - Very Low Quality",
         "LQ"
        ],
        [
         "23",
         "120040101H",
         "2017",
         "",
         "38.35616438356164",
         "0.0",
         "87.1187762256094",
         "97.85714285714286",
         "55.83302086657847",
         "4 - Low Quality",
         "LQ"
        ],
        [
         "24",
         "120040101H",
         "2020",
         "LQ",
         "0.273224043715847",
         "0.0",
         "0.0",
         "100.0",
         "25.06830601092896",
         "5 - Very Low Quality",
         "LQ"
        ],
        [
         "25",
         "120040102A",
         "2014",
         "",
         "20.82191780821918",
         "0.0",
         "65.41917679792263",
         "92.10526315789474",
         "44.58658944100914",
         "5 - Very Low Quality",
         "LQ"
        ],
        [
         "26",
         "120040102A",
         "2020",
         "",
         "38.79781420765027",
         "0.0",
         "51.55270864694568",
         "99.29577464788733",
         "47.411574375620816",
         "5 - Very Low Quality",
         "LQ"
        ],
        [
         "27",
         "120040102H",
         "2016",
         "",
         "14.754098360655737",
         "0.0",
         "71.26798018088735",
         "96.29629629629629",
         "45.57959370945984",
         "5 - Very Low Quality",
         "LQ"
        ],
        [
         "28",
         "120040102H",
         "2017",
         "LQ",
         "3.0136986301369864",
         "0.0",
         "39.619263557544",
         "100.0",
         "35.65824054692025",
         "5 - Very Low Quality",
         "LQ"
        ],
        [
         "29",
         "120070801A",
         "2018",
         "",
         "38.35616438356164",
         "0.0",
         "66.42133983636118",
         "99.28571428571429",
         "51.01580462640928",
         "4 - Low Quality",
         "LQ"
        ],
        [
         "30",
         "120070801A",
         "2019",
         "",
         "100.0",
         "100.0",
         "87.09564060677629",
         "96.98630136986301",
         "96.02048549415983",
         "1 - Excellent Quality",
         "HQ"
        ],
        [
         "31",
         "120070801A",
         "2020",
         "",
         "100.0",
         "100.0",
         "77.10319070122586",
         "96.99453551912568",
         "93.52443155508789",
         "1 - Excellent Quality",
         "HQ"
        ],
        [
         "32",
         "130002901A",
         "2018",
         "",
         "13.424657534246576",
         "0.0",
         "86.58205856834311",
         "95.91836734693878",
         "48.98127086238212",
         "5 - Very Low Quality",
         "LQ"
        ],
        [
         "33",
         "130002901A",
         "2019",
         "LQ",
         "1.9178082191780823",
         "0.0",
         "55.90414481559016",
         "100.0",
         "39.45548825869206",
         "5 - Very Low Quality",
         "LQ"
        ],
        [
         "34",
         "130002901A",
         "2020",
         "LQ",
         "2.459016393442623",
         "0.0",
         "0.0",
         "88.88888888888889",
         "22.836976320582878",
         "5 - Very Low Quality",
         "LQ"
        ],
        [
         "35",
         "130006001A",
         "2018",
         "",
         "14.794520547945206",
         "0.0",
         "82.78884203973092",
         "90.74074074074073",
         "47.08102583210422",
         "5 - Very Low Quality",
         "LQ"
        ],
        [
         "36",
         "130006001A",
         "2019",
         "",
         "100.0",
         "100.0",
         "89.06623005990703",
         "95.61643835616438",
         "96.17066710401785",
         "1 - Excellent Quality",
         "HQ"
        ],
        [
         "37",
         "130006001A",
         "2020",
         "",
         "100.0",
         "100.0",
         "83.0269961190265",
         "96.72131147540983",
         "94.93707689860909",
         "1 - Excellent Quality",
         "HQ"
        ],
        [
         "38",
         "130008601A",
         "2018",
         "LQ",
         "6.575342465753424",
         "0.0",
         "82.02289339305334",
         "100.0",
         "47.14955896470169",
         "5 - Very Low Quality",
         "LQ"
        ],
        [
         "39",
         "130008601A",
         "2019",
         "",
         "95.06849315068493",
         "84.43804034582132",
         "80.54756715924911",
         "98.55907780979827",
         "89.65329461638841",
         "2 - Good Quality",
         "HQ"
        ],
        [
         "40",
         "130008601A",
         "2020",
         "LQ",
         "95.08196721311475",
         "84.48275862068965",
         "61.84798092438208",
         "99.71264367816092",
         "85.28133760908685",
         "2 - Good Quality",
         "LQ"
        ],
        [
         "41",
         "130010201A",
         "2018",
         "LQ",
         "6.575342465753424",
         "0.0",
         "67.60252619243468",
         "95.83333333333333",
         "42.50280049788036",
         "5 - Very Low Quality",
         "LQ"
        ],
        [
         "42",
         "130010201A",
         "2019",
         "",
         "100.0",
         "100.0",
         "87.17494482119554",
         "97.8082191780822",
         "96.24579099981943",
         "1 - Excellent Quality",
         "HQ"
        ],
        [
         "43",
         "130010201A",
         "2020",
         "LQ",
         "99.18032786885246",
         "97.52066115702479",
         "19.49235141005869",
         "100.0",
         "79.04833510898399",
         "4 - Low Quality",
         "LQ"
        ],
        [
         "44",
         "130014401A",
         "2018",
         "",
         "39.45205479452055",
         "0.0",
         "74.3181862876557",
         "93.75",
         "51.880060270544064",
         "4 - Low Quality",
         "LQ"
        ],
        [
         "45",
         "130014401A",
         "2019",
         "",
         "94.52054794520548",
         "82.6086956521739",
         "90.44522155203309",
         "97.3913043478261",
         "91.24144237430966",
         "3 - Acceptable Quality",
         "HQ"
        ],
        [
         "46",
         "130014401A",
         "2020",
         "LQ",
         "7.377049180327869",
         "0.0",
         "75.8477054230176",
         "92.5925925925926",
         "43.954336798984514",
         "5 - Very Low Quality",
         "LQ"
        ],
        [
         "47",
         "130020101A",
         "2018",
         "",
         "15.342465753424658",
         "0.0",
         "81.74801274744419",
         "94.64285714285714",
         "47.933333910931495",
         "5 - Very Low Quality",
         "LQ"
        ],
        [
         "48",
         "130020101A",
         "2019",
         "",
         "87.12328767123287",
         "55.660377358490564",
         "83.29983642263203",
         "97.16981132075472",
         "80.81332819327754",
         "4 - Low Quality",
         "LQ"
        ],
        [
         "49",
         "130020101A",
         "2020",
         "LQ",
         "3.0054644808743167",
         "0.0",
         "55.90414481559016",
         "100.0",
         "39.72740232411612",
         "5 - Very Low Quality",
         "LQ"
        ]
       ],
       "shape": {
        "columns": 10,
        "rows": 22773
       }
      },
      "text/html": [
       "<div>\n",
       "<style scoped>\n",
       "    .dataframe tbody tr th:only-of-type {\n",
       "        vertical-align: middle;\n",
       "    }\n",
       "\n",
       "    .dataframe tbody tr th {\n",
       "        vertical-align: top;\n",
       "    }\n",
       "\n",
       "    .dataframe thead th {\n",
       "        text-align: right;\n",
       "    }\n",
       "</style>\n",
       "<table border=\"1\" class=\"dataframe\">\n",
       "  <thead>\n",
       "    <tr style=\"text-align: right;\">\n",
       "      <th></th>\n",
       "      <th>gauge_code</th>\n",
       "      <th>year</th>\n",
       "      <th>preclassif</th>\n",
       "      <th>p_availability</th>\n",
       "      <th>q1_gaps</th>\n",
       "      <th>q2_week</th>\n",
       "      <th>q3_outliers</th>\n",
       "      <th>quality_index</th>\n",
       "      <th>quality_label</th>\n",
       "      <th>final_classif</th>\n",
       "    </tr>\n",
       "  </thead>\n",
       "  <tbody>\n",
       "    <tr>\n",
       "      <th>0</th>\n",
       "      <td>110018901A</td>\n",
       "      <td>2018</td>\n",
       "      <td></td>\n",
       "      <td>37.260274</td>\n",
       "      <td>0.0</td>\n",
       "      <td>84.727684</td>\n",
       "      <td>94.852941</td>\n",
       "      <td>54.210225</td>\n",
       "      <td>4 - Low Quality</td>\n",
       "      <td>LQ</td>\n",
       "    </tr>\n",
       "    <tr>\n",
       "      <th>1</th>\n",
       "      <td>110018901A</td>\n",
       "      <td>2019</td>\n",
       "      <td></td>\n",
       "      <td>100.000000</td>\n",
       "      <td>100.0</td>\n",
       "      <td>87.079984</td>\n",
       "      <td>97.808219</td>\n",
       "      <td>96.222051</td>\n",
       "      <td>1 - Excellent Quality</td>\n",
       "      <td>HQ</td>\n",
       "    </tr>\n",
       "    <tr>\n",
       "      <th>2</th>\n",
       "      <td>110018901A</td>\n",
       "      <td>2020</td>\n",
       "      <td>LQ</td>\n",
       "      <td>100.000000</td>\n",
       "      <td>100.0</td>\n",
       "      <td>54.468759</td>\n",
       "      <td>100.000000</td>\n",
       "      <td>88.617190</td>\n",
       "      <td>2 - Good Quality</td>\n",
       "      <td>LQ</td>\n",
       "    </tr>\n",
       "    <tr>\n",
       "      <th>3</th>\n",
       "      <td>110020501A</td>\n",
       "      <td>2014</td>\n",
       "      <td>LQ</td>\n",
       "      <td>4.383562</td>\n",
       "      <td>0.0</td>\n",
       "      <td>42.264973</td>\n",
       "      <td>100.000000</td>\n",
       "      <td>36.662134</td>\n",
       "      <td>5 - Very Low Quality</td>\n",
       "      <td>LQ</td>\n",
       "    </tr>\n",
       "    <tr>\n",
       "      <th>4</th>\n",
       "      <td>110020501A</td>\n",
       "      <td>2017</td>\n",
       "      <td>LQ</td>\n",
       "      <td>25.205479</td>\n",
       "      <td>0.0</td>\n",
       "      <td>0.000000</td>\n",
       "      <td>100.000000</td>\n",
       "      <td>31.301370</td>\n",
       "      <td>5 - Very Low Quality</td>\n",
       "      <td>LQ</td>\n",
       "    </tr>\n",
       "    <tr>\n",
       "      <th>...</th>\n",
       "      <td>...</td>\n",
       "      <td>...</td>\n",
       "      <td>...</td>\n",
       "      <td>...</td>\n",
       "      <td>...</td>\n",
       "      <td>...</td>\n",
       "      <td>...</td>\n",
       "      <td>...</td>\n",
       "      <td>...</td>\n",
       "      <td>...</td>\n",
       "    </tr>\n",
       "    <tr>\n",
       "      <th>22768</th>\n",
       "      <td>CEMADEN_12</td>\n",
       "      <td>2019</td>\n",
       "      <td></td>\n",
       "      <td>24.657534</td>\n",
       "      <td>0.0</td>\n",
       "      <td>86.944455</td>\n",
       "      <td>95.555556</td>\n",
       "      <td>51.789386</td>\n",
       "      <td>4 - Low Quality</td>\n",
       "      <td>LQ</td>\n",
       "    </tr>\n",
       "    <tr>\n",
       "      <th>22769</th>\n",
       "      <td>CEMADEN_12</td>\n",
       "      <td>2020</td>\n",
       "      <td></td>\n",
       "      <td>8.469945</td>\n",
       "      <td>0.0</td>\n",
       "      <td>61.341361</td>\n",
       "      <td>93.548387</td>\n",
       "      <td>40.839923</td>\n",
       "      <td>5 - Very Low Quality</td>\n",
       "      <td>LQ</td>\n",
       "    </tr>\n",
       "    <tr>\n",
       "      <th>22770</th>\n",
       "      <td>CEMADEN_13</td>\n",
       "      <td>2019</td>\n",
       "      <td>LQ</td>\n",
       "      <td>8.219178</td>\n",
       "      <td>0.0</td>\n",
       "      <td>0.000000</td>\n",
       "      <td>96.666667</td>\n",
       "      <td>26.221461</td>\n",
       "      <td>5 - Very Low Quality</td>\n",
       "      <td>LQ</td>\n",
       "    </tr>\n",
       "    <tr>\n",
       "      <th>22771</th>\n",
       "      <td>CEMADEN_14</td>\n",
       "      <td>2018</td>\n",
       "      <td></td>\n",
       "      <td>25.205479</td>\n",
       "      <td>0.0</td>\n",
       "      <td>58.760695</td>\n",
       "      <td>94.565217</td>\n",
       "      <td>44.632848</td>\n",
       "      <td>5 - Very Low Quality</td>\n",
       "      <td>LQ</td>\n",
       "    </tr>\n",
       "    <tr>\n",
       "      <th>22772</th>\n",
       "      <td>CEMADEN_14</td>\n",
       "      <td>2019</td>\n",
       "      <td></td>\n",
       "      <td>32.876712</td>\n",
       "      <td>0.0</td>\n",
       "      <td>87.930137</td>\n",
       "      <td>95.833333</td>\n",
       "      <td>54.160046</td>\n",
       "      <td>4 - Low Quality</td>\n",
       "      <td>LQ</td>\n",
       "    </tr>\n",
       "  </tbody>\n",
       "</table>\n",
       "<p>22773 rows × 10 columns</p>\n",
       "</div>"
      ],
      "text/plain": [
       "       gauge_code  year preclassif  p_availability  q1_gaps    q2_week  \\\n",
       "0      110018901A  2018                  37.260274      0.0  84.727684   \n",
       "1      110018901A  2019                 100.000000    100.0  87.079984   \n",
       "2      110018901A  2020         LQ      100.000000    100.0  54.468759   \n",
       "3      110020501A  2014         LQ        4.383562      0.0  42.264973   \n",
       "4      110020501A  2017         LQ       25.205479      0.0   0.000000   \n",
       "...           ...   ...        ...             ...      ...        ...   \n",
       "22768  CEMADEN_12  2019                  24.657534      0.0  86.944455   \n",
       "22769  CEMADEN_12  2020                   8.469945      0.0  61.341361   \n",
       "22770  CEMADEN_13  2019         LQ        8.219178      0.0   0.000000   \n",
       "22771  CEMADEN_14  2018                  25.205479      0.0  58.760695   \n",
       "22772  CEMADEN_14  2019                  32.876712      0.0  87.930137   \n",
       "\n",
       "       q3_outliers  quality_index          quality_label final_classif  \n",
       "0        94.852941      54.210225        4 - Low Quality            LQ  \n",
       "1        97.808219      96.222051  1 - Excellent Quality            HQ  \n",
       "2       100.000000      88.617190       2 - Good Quality            LQ  \n",
       "3       100.000000      36.662134   5 - Very Low Quality            LQ  \n",
       "4       100.000000      31.301370   5 - Very Low Quality            LQ  \n",
       "...            ...            ...                    ...           ...  \n",
       "22768    95.555556      51.789386        4 - Low Quality            LQ  \n",
       "22769    93.548387      40.839923   5 - Very Low Quality            LQ  \n",
       "22770    96.666667      26.221461   5 - Very Low Quality            LQ  \n",
       "22771    94.565217      44.632848   5 - Very Low Quality            LQ  \n",
       "22772    95.833333      54.160046        4 - Low Quality            LQ  \n",
       "\n",
       "[22773 rows x 10 columns]"
      ]
     },
     "execution_count": 181,
     "metadata": {},
     "output_type": "execute_result"
    }
   ],
   "source": [
    "df_qc_info.to_hdf(cemaden_path, key = 'table_qc_info', encoding = 'utf-8', mode='r+', append = False, complevel=9)\n",
    "df_qc_info"
   ]
  },
  {
   "cell_type": "markdown",
   "id": "ec177d5a",
   "metadata": {},
   "source": [
    "# Visual Analysis"
   ]
  },
  {
   "cell_type": "code",
   "execution_count": 182,
   "id": "f5acac5a",
   "metadata": {},
   "outputs": [
    {
     "data": {
      "image/png": "[encoded data removed]",
      "text/plain": [
       "<Figure size 750x900 with 5 Axes>"
      ]
     },
     "metadata": {},
     "output_type": "display_data"
    }
   ],
   "source": [
    "# Calculate the average value of each parameter by year\n",
    "df_avg_params = df_qc_info.groupby('year').agg({\n",
    "    'p_availability': 'mean',\n",
    "    'q1_gaps': 'mean',\n",
    "    'q2_week': 'mean',\n",
    "    'q3_outliers': 'mean',\n",
    "    'quality_index': 'mean'\n",
    "}).reset_index()\n",
    "\n",
    "# Create a figure and axis with a custom size\n",
    "fig, ax = plt.subplots(5, 1, figsize=(7.5, 9), sharex=True)\n",
    "\n",
    "# Plot each parameter\n",
    "ax0 = ax[0]\n",
    "ax0.plot(df_avg_params['year'], df_avg_params['p_availability'], marker='x', color='g', label='C - Completeness')\n",
    "ax0.set_ylabel('C - Completeness')\n",
    "ax0.grid(True)\n",
    "lines, labels = ax0.get_legend_handles_labels()\n",
    "legend = ax0.legend(lines , labels + labels, loc='lower center')\n",
    "legend.set_frame_on(True)  # Ensure frame is visible\n",
    "frame = legend.get_frame()\n",
    "frame.set_facecolor('white')\n",
    "frame.set_edgecolor('grey')\n",
    "frame.set_linewidth(0.5)\n",
    "\n",
    "\n",
    "ax1 = ax[1]\n",
    "ax1.plot(df_avg_params['year'], df_avg_params['q1_gaps'], marker='x', color='#5555ff', label='Q1 - Gaps')\n",
    "ax1.set_ylabel('Q1 - Gaps')\n",
    "ax1.grid(True)\n",
    "lines, labels = ax1.get_legend_handles_labels()\n",
    "legend = ax1.legend(lines , labels + labels, loc='lower center')\n",
    "legend.set_frame_on(True)  # Ensure frame is visible\n",
    "frame = legend.get_frame()\n",
    "frame.set_facecolor('white')\n",
    "frame.set_edgecolor('grey')\n",
    "frame.set_linewidth(0.5)\n",
    "\n",
    "\n",
    "ax2 = ax[2]\n",
    "ax2.plot(df_avg_params['year'], df_avg_params['q2_week'], marker='x', color='#d3546e', label='Q2 - Week')\n",
    "ax2.set_ylabel('Q2 - Week')\n",
    "ax2.grid(True)\n",
    "lines, labels = ax2.get_legend_handles_labels()\n",
    "legend = ax2.legend(lines , labels + labels, loc='lower center')\n",
    "legend.set_frame_on(True)  # Ensure frame is visible\n",
    "frame = legend.get_frame()\n",
    "frame.set_facecolor('white')\n",
    "frame.set_edgecolor('grey')\n",
    "frame.set_linewidth(0.5)\n",
    "\n",
    "\n",
    "ax3 = ax[3]\n",
    "ax3.ylim = (97, None)\n",
    "ax3.plot(df_avg_params['year'], df_avg_params['q3_outliers'], marker='x', color='Orange', label='Q3 - Outliers')\n",
    "ax3.set_ylabel('Q3 - Outliers')\n",
    "ax3.grid(True)\n",
    "lines, labels = ax3.get_legend_handles_labels()\n",
    "legend = ax3.legend(lines , labels + labels, loc='lower center')\n",
    "legend.set_frame_on(True)  # Ensure frame is visible\n",
    "frame = legend.get_frame()\n",
    "frame.set_facecolor('white')\n",
    "frame.set_edgecolor('grey')\n",
    "frame.set_linewidth(0.5)\n",
    "\n",
    "ax4 = ax[4]\n",
    "ax4.plot(df_avg_params['year'], df_avg_params['quality_index'], marker='x', color='grey', label='Quality Index')\n",
    "ax4.set_xlabel('Year')\n",
    "ax4.set_ylabel('Quality Index')\n",
    "ax4.grid(True)\n",
    "lines, labels = ax4.get_legend_handles_labels()\n",
    "\n",
    "legend = ax4.legend(lines , labels + labels, loc='lower center')\n",
    "legend.set_frame_on(True)  # Ensure frame is visible\n",
    "frame = legend.get_frame()\n",
    "frame.set_facecolor('white')\n",
    "frame.set_edgecolor('grey')\n",
    "frame.set_linewidth(0.5)\n",
    "\n",
    "# Show xticks on all subplots\n",
    "for a in ax:\n",
    "    a.label_outer()  # Hides labels except for the last subplot but keeps ticks visible\n",
    "    a.tick_params(axis='x', which='both', labelbottom=True)  # Ensure xticks are visible\n",
    "    \n",
    "plt.tight_layout()\n",
    "plt.savefig('./figures/quality_index_avg_year_cemaden.tiff', dpi = 300, bbox_inches='tight')\n",
    "plt.show()\n",
    "plt.close()"
   ]
  },
  {
   "cell_type": "code",
   "execution_count": 183,
   "id": "67b271f5",
   "metadata": {},
   "outputs": [
    {
     "data": {
      "image/png": "[encoded data removed]",
      "text/plain": [
       "<Figure size 640x480 with 2 Axes>"
      ]
     },
     "metadata": {},
     "output_type": "display_data"
    }
   ],
   "source": [
    "# Select relevant columns for the heatmap\n",
    "heatmap_data = df_qc_info[['p_availability', 'q1_gaps', 'q2_week', 'q3_outliers']]\n",
    "\n",
    "# Calculate the correlation matrix\n",
    "corr = heatmap_data.corr()\n",
    "\n",
    "# Create a heatmap\n",
    "# plt.figure(figsize=(10, 8))\n",
    "sns.heatmap(corr, annot=True, cmap='coolwarm', fmt='.2f', linewidths=0.5)\n",
    "# plt.title('Heatmap of df_qc_info Parameters')\n",
    "plt.show()"
   ]
  },
  {
   "cell_type": "code",
   "execution_count": 184,
   "id": "3f8c9c14",
   "metadata": {},
   "outputs": [
    {
     "data": {
      "application/vnd.microsoft.datawrangler.viewer.v0+json": {
       "columns": [
        {
         "name": "index",
         "rawType": "int64",
         "type": "integer"
        },
        {
         "name": "quality_label",
         "rawType": "object",
         "type": "string"
        },
        {
         "name": "count",
         "rawType": "int64",
         "type": "integer"
        },
        {
         "name": "percent",
         "rawType": "float64",
         "type": "float"
        }
       ],
       "conversionMethod": "pd.DataFrame",
       "ref": "6a1a3985-bc54-4438-9d76-1f9771fab14d",
       "rows": [
        [
         "0",
         "1 - Excellent Quality",
         "11813",
         "51.87283186229307"
        ],
        [
         "1",
         "2 - Good Quality",
         "1529",
         "6.714091248408202"
        ],
        [
         "2",
         "3 - Acceptable Quality",
         "1503",
         "6.599920959030431"
        ],
        [
         "3",
         "4 - Low Quality",
         "4686",
         "20.576999077855355"
        ],
        [
         "4",
         "5 - Very Low Quality",
         "3242",
         "14.236156852412945"
        ]
       ],
       "shape": {
        "columns": 3,
        "rows": 5
       }
      },
      "text/html": [
       "<div>\n",
       "<style scoped>\n",
       "    .dataframe tbody tr th:only-of-type {\n",
       "        vertical-align: middle;\n",
       "    }\n",
       "\n",
       "    .dataframe tbody tr th {\n",
       "        vertical-align: top;\n",
       "    }\n",
       "\n",
       "    .dataframe thead th {\n",
       "        text-align: right;\n",
       "    }\n",
       "</style>\n",
       "<table border=\"1\" class=\"dataframe\">\n",
       "  <thead>\n",
       "    <tr style=\"text-align: right;\">\n",
       "      <th></th>\n",
       "      <th>quality_label</th>\n",
       "      <th>count</th>\n",
       "      <th>percent</th>\n",
       "    </tr>\n",
       "  </thead>\n",
       "  <tbody>\n",
       "    <tr>\n",
       "      <th>0</th>\n",
       "      <td>1 - Excellent Quality</td>\n",
       "      <td>11813</td>\n",
       "      <td>51.872832</td>\n",
       "    </tr>\n",
       "    <tr>\n",
       "      <th>1</th>\n",
       "      <td>2 - Good Quality</td>\n",
       "      <td>1529</td>\n",
       "      <td>6.714091</td>\n",
       "    </tr>\n",
       "    <tr>\n",
       "      <th>2</th>\n",
       "      <td>3 - Acceptable Quality</td>\n",
       "      <td>1503</td>\n",
       "      <td>6.599921</td>\n",
       "    </tr>\n",
       "    <tr>\n",
       "      <th>3</th>\n",
       "      <td>4 - Low Quality</td>\n",
       "      <td>4686</td>\n",
       "      <td>20.576999</td>\n",
       "    </tr>\n",
       "    <tr>\n",
       "      <th>4</th>\n",
       "      <td>5 - Very Low Quality</td>\n",
       "      <td>3242</td>\n",
       "      <td>14.236157</td>\n",
       "    </tr>\n",
       "  </tbody>\n",
       "</table>\n",
       "</div>"
      ],
      "text/plain": [
       "            quality_label  count    percent\n",
       "0   1 - Excellent Quality  11813  51.872832\n",
       "1        2 - Good Quality   1529   6.714091\n",
       "2  3 - Acceptable Quality   1503   6.599921\n",
       "3         4 - Low Quality   4686  20.576999\n",
       "4    5 - Very Low Quality   3242  14.236157"
      ]
     },
     "execution_count": 184,
     "metadata": {},
     "output_type": "execute_result"
    }
   ],
   "source": [
    "df_qc_count = df_qc_info.groupby('quality_label').size().reset_index(name='count')\n",
    "df_qc_count['percent'] = (df_qc_count['count'] / df_qc_count['count'].sum()) * 100\n",
    "df_qc_count"
   ]
  },
  {
   "cell_type": "code",
   "execution_count": 185,
   "id": "ade274bc",
   "metadata": {},
   "outputs": [
    {
     "data": {
      "application/vnd.microsoft.datawrangler.viewer.v0+json": {
       "columns": [
        {
         "name": "index",
         "rawType": "int64",
         "type": "integer"
        },
        {
         "name": "quality_label",
         "rawType": "object",
         "type": "string"
        },
        {
         "name": "p_availability",
         "rawType": "float64",
         "type": "float"
        },
        {
         "name": "q1_gaps",
         "rawType": "float64",
         "type": "float"
        },
        {
         "name": "q2_week",
         "rawType": "float64",
         "type": "float"
        },
        {
         "name": "q3_outliers",
         "rawType": "float64",
         "type": "float"
        }
       ],
       "conversionMethod": "pd.DataFrame",
       "ref": "4d391f60-18e1-47f2-a81f-b4d9b2c3eed6",
       "rows": [
        [
         "0",
         "1 - Excellent Quality",
         "99.98074302920487",
         "99.94244346483276",
         "81.00516842800899",
         "98.06664200663965"
        ],
        [
         "1",
         "2 - Good Quality",
         "98.03381939733312",
         "94.06132794269494",
         "69.12738147908581",
         "98.67615381506818"
        ],
        [
         "2",
         "3 - Acceptable Quality",
         "92.81240398659726",
         "76.66101495221828",
         "73.78115224557385",
         "98.28493990722116"
        ],
        [
         "3",
         "4 - Low Quality",
         "68.78675722729265",
         "21.68448885702101",
         "68.10749280459527",
         "98.23409599574602"
        ],
        [
         "4",
         "5 - Very Low Quality",
         "21.89619813752419",
         "0.06132957120027869",
         "29.711590575314172",
         "98.15236966905495"
        ]
       ],
       "shape": {
        "columns": 5,
        "rows": 5
       }
      },
      "text/html": [
       "<div>\n",
       "<style scoped>\n",
       "    .dataframe tbody tr th:only-of-type {\n",
       "        vertical-align: middle;\n",
       "    }\n",
       "\n",
       "    .dataframe tbody tr th {\n",
       "        vertical-align: top;\n",
       "    }\n",
       "\n",
       "    .dataframe thead th {\n",
       "        text-align: right;\n",
       "    }\n",
       "</style>\n",
       "<table border=\"1\" class=\"dataframe\">\n",
       "  <thead>\n",
       "    <tr style=\"text-align: right;\">\n",
       "      <th></th>\n",
       "      <th>quality_label</th>\n",
       "      <th>p_availability</th>\n",
       "      <th>q1_gaps</th>\n",
       "      <th>q2_week</th>\n",
       "      <th>q3_outliers</th>\n",
       "    </tr>\n",
       "  </thead>\n",
       "  <tbody>\n",
       "    <tr>\n",
       "      <th>0</th>\n",
       "      <td>1 - Excellent Quality</td>\n",
       "      <td>99.980743</td>\n",
       "      <td>99.942443</td>\n",
       "      <td>81.005168</td>\n",
       "      <td>98.066642</td>\n",
       "    </tr>\n",
       "    <tr>\n",
       "      <th>1</th>\n",
       "      <td>2 - Good Quality</td>\n",
       "      <td>98.033819</td>\n",
       "      <td>94.061328</td>\n",
       "      <td>69.127381</td>\n",
       "      <td>98.676154</td>\n",
       "    </tr>\n",
       "    <tr>\n",
       "      <th>2</th>\n",
       "      <td>3 - Acceptable Quality</td>\n",
       "      <td>92.812404</td>\n",
       "      <td>76.661015</td>\n",
       "      <td>73.781152</td>\n",
       "      <td>98.284940</td>\n",
       "    </tr>\n",
       "    <tr>\n",
       "      <th>3</th>\n",
       "      <td>4 - Low Quality</td>\n",
       "      <td>68.786757</td>\n",
       "      <td>21.684489</td>\n",
       "      <td>68.107493</td>\n",
       "      <td>98.234096</td>\n",
       "    </tr>\n",
       "    <tr>\n",
       "      <th>4</th>\n",
       "      <td>5 - Very Low Quality</td>\n",
       "      <td>21.896198</td>\n",
       "      <td>0.061330</td>\n",
       "      <td>29.711591</td>\n",
       "      <td>98.152370</td>\n",
       "    </tr>\n",
       "  </tbody>\n",
       "</table>\n",
       "</div>"
      ],
      "text/plain": [
       "            quality_label  p_availability    q1_gaps    q2_week  q3_outliers\n",
       "0   1 - Excellent Quality       99.980743  99.942443  81.005168    98.066642\n",
       "1        2 - Good Quality       98.033819  94.061328  69.127381    98.676154\n",
       "2  3 - Acceptable Quality       92.812404  76.661015  73.781152    98.284940\n",
       "3         4 - Low Quality       68.786757  21.684489  68.107493    98.234096\n",
       "4    5 - Very Low Quality       21.896198   0.061330  29.711591    98.152370"
      ]
     },
     "execution_count": 185,
     "metadata": {},
     "output_type": "execute_result"
    }
   ],
   "source": [
    "df_qc_avg = df_qc_info.groupby('quality_label').agg({'p_availability': 'mean'\n",
    "                                                     , 'q1_gaps':'mean'\n",
    "                                                     , 'q2_week':'mean'\n",
    "                                                     , 'q3_outliers':'mean'\n",
    "                                                     }).reset_index()\n",
    "df_qc_avg"
   ]
  },
  {
   "cell_type": "code",
   "execution_count": 186,
   "id": "0f8e7ad6",
   "metadata": {},
   "outputs": [
    {
     "data": {
      "image/png": "[encoded data removed]",
      "text/plain": [
       "<Figure size 750x400 with 1 Axes>"
      ]
     },
     "metadata": {},
     "output_type": "display_data"
    }
   ],
   "source": [
    "# Calculate the average quality index over the years\n",
    "df_avg_quality_index = df_qc_info.groupby('year')['quality_index'].mean().reset_index()\n",
    "\n",
    "# Create a figure and axis with a custom size\n",
    "fig, ax = plt.subplots(figsize=(7.5, 4))\n",
    "\n",
    "# Plot the average quality index over the years\n",
    "ax.plot(df_avg_quality_index['year'], df_avg_quality_index['quality_index'], marker='x', color='grey', label='Average Quality Index')\n",
    "\n",
    "# Add labels, title, and grid\n",
    "ax.set_xlabel('Year')\n",
    "ax.set_ylabel('Average Quality Index')\n",
    "# ax.set_title('Average Quality Index Over the Years')\n",
    "ax.grid(True)\n",
    "\n",
    "plt.savefig('./figures/quality_index_over_the_years_cemaden.png', dpi=1800, bbox_inches='tight')\n",
    "plt.show()\n",
    "plt.close()"
   ]
  },
  {
   "cell_type": "code",
   "execution_count": 187,
   "id": "368d4ab2",
   "metadata": {},
   "outputs": [
    {
     "data": {
      "image/png": "[encoded data removed]",
      "text/plain": [
       "<Figure size 750x450 with 1 Axes>"
      ]
     },
     "metadata": {},
     "output_type": "display_data"
    }
   ],
   "source": [
    "\n",
    "# Group by year and quality label to get the count of active stations\n",
    "df_active_stations = df_qc_info.groupby(['year', 'quality_label']).size().unstack(fill_value=0)\n",
    "\n",
    "# Create a stacked area plot with updated figure size\n",
    "fig, ax = plt.subplots(figsize=(7.5, 4.5))\n",
    "\n",
    "# Use a colorblind-friendly colormap\n",
    "df_active_stations.plot(kind='area', stacked=True, ax=ax, colormap='coolwarm', alpha=0.7)\n",
    "\n",
    "# Add labels, title, and grid\n",
    "ax.set_xlabel('Year')\n",
    "ax.set_ylabel('Active Stations')\n",
    "# ax.set_title('Count of Active Stations by Year and Quality Label')\n",
    "ax.grid(True)\n",
    "ax.set_ylim(0, 5500)\n",
    "# Modify the EXISTING legend from pandas plot\n",
    "legend = ax.legend()\n",
    "legend.set_title('Quality Label')  # Set title\n",
    "legend.set_bbox_to_anchor((0.369, 0.6))  # Set legend position\n",
    "legend.set_frame_on(True)  # Ensure frame is visible\n",
    "\n",
    "# Customize frame properties\n",
    "frame = legend.get_frame()\n",
    "frame.set_facecolor('white')\n",
    "frame.set_edgecolor('grey')\n",
    "frame.set_linewidth(0.5)\n",
    "\n",
    "plt.savefig('./figures/active_stations_by_year_and_quality_label_cemaden.tiff', dpi=300, bbox_inches='tight')\n",
    "\n",
    "plt.show()\n",
    "plt.close()"
   ]
  },
  {
   "cell_type": "code",
   "execution_count": 188,
   "id": "5c7268ba",
   "metadata": {},
   "outputs": [
    {
     "name": "stdout",
     "output_type": "stream",
     "text": [
      "2025-04-18 08:28:24\n"
     ]
    }
   ],
   "source": [
    "print(time.strftime(\"%Y-%m-%d %H:%M:%S\", time.localtime()))"
   ]
  }
 ],
 "metadata": {
  "kernelspec": {
   "display_name": "base",
   "language": "python",
   "name": "python3"
  },
  "language_info": {
   "codemirror_mode": {
    "name": "ipython",
    "version": 3
   },
   "file_extension": ".py",
   "mimetype": "text/x-python",
   "name": "python",
   "nbconvert_exporter": "python",
   "pygments_lexer": "ipython3",
   "version": "3.11.10"
  }
 },
 "nbformat": 4,
 "nbformat_minor": 5
}
