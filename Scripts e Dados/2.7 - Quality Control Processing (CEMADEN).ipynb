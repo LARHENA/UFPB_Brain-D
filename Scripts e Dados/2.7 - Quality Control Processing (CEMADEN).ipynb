{
 "cells": [
  {
   "cell_type": "code",
   "execution_count": 36,
   "id": "1dc5a7bd",
   "metadata": {},
   "outputs": [],
   "source": [
    "import pandas as pd\n",
    "import numpy as np\n",
    "import os\n",
    "import math\n",
    "import glob\n",
    "from datetime import datetime\n",
    "from datetime import timedelta\n",
    "import h5py\n",
    "import matplotlib as mpl\n",
    "import matplotlib.pyplot as plt\n",
    "import seaborn as sns\n",
    "from scipy.spatial import KDTree\n",
    "import time"
   ]
  },
  {
   "cell_type": "code",
   "execution_count": 37,
   "id": "ef066f18",
   "metadata": {},
   "outputs": [],
   "source": [
    "# cemaden_path = r'.\\1 - Organized data gauge\\BRAZIL\\QC_VALIDATION\\DATASET\\BRASIL_CEMADEN_TOTAL_DAILY_V3.h5'\n",
    "cemaden_path = r'C:\\Users\\linde\\OneDrive\\Hidroweb\\Consolidated Files\\BRASIL_CEMADEN_TOTAL_DAILY.h5'\n",
    "cemaden_path_v2 = r'.\\1 - Organized data gauge\\BRAZIL\\QC_VALIDATION\\DATASET\\BRASIL_CEMADEN_TOTAL_DAILY_V2.h5'\n",
    "neighboring_data_path = r'.\\1 - Organized data gauge\\BRAZIL\\QC_VALIDATION\\DATASET'"
   ]
  },
  {
   "cell_type": "code",
   "execution_count": 38,
   "id": "1c30eacf",
   "metadata": {},
   "outputs": [],
   "source": [
    "def calculate_quality_label(row):\n",
    "    if row['quality_index'] >= 90 and row['p_availability'] >= 99:\n",
    "        return '1 - Excellent Quality'\n",
    "    elif row['quality_index'] >= 85 and row['p_availability'] >= 95:\n",
    "        return '2 - Good Quality'\n",
    "    elif row['quality_index'] >= 80 and row['p_availability'] >= 90:\n",
    "        return '3 - Acceptable Quality'\n",
    "    elif row['quality_index'] >= 50:\n",
    "        return '4 - Low Quality'\n",
    "    else:\n",
    "        return '5 - Very Low Quality'"
   ]
  },
  {
   "cell_type": "code",
   "execution_count": 39,
   "id": "e5e231b9",
   "metadata": {},
   "outputs": [],
   "source": [
    "def absolute_quality_label(row):\n",
    "    if row['quality_label'] in ['Excellent Quality', 'Good Quality', 'Acceptable Quality']:\n",
    "        return 'HQ'\n",
    "    elif row['quality_label'] in ['Low Quality', 'Very Low Quality']:\n",
    "        return 'LQ'\n",
    "    else:\n",
    "        return 'Unknown'"
   ]
  },
  {
   "cell_type": "markdown",
   "id": "a5baccb2",
   "metadata": {},
   "source": [
    "# Reading data"
   ]
  },
  {
   "cell_type": "code",
   "execution_count": 40,
   "id": "5d41b757",
   "metadata": {},
   "outputs": [
    {
     "data": {
      "application/vnd.microsoft.datawrangler.viewer.v0+json": {
       "columns": [
        {
         "name": "index",
         "rawType": "int64",
         "type": "integer"
        },
        {
         "name": "gauge_code",
         "rawType": "object",
         "type": "string"
        },
        {
         "name": "datetime",
         "rawType": "datetime64[ns]",
         "type": "datetime"
        },
        {
         "name": "rain_mm",
         "rawType": "float64",
         "type": "float"
        },
        {
         "name": "year",
         "rawType": "int32",
         "type": "integer"
        }
       ],
       "conversionMethod": "pd.DataFrame",
       "ref": "563e8e2f-64b9-47e2-a68c-0d31343a0d33",
       "rows": [
        [
         "0",
         "120010401A",
         "2018-08-14 00:00:00",
         "0.2",
         "2018"
        ],
        [
         "1",
         "120010401A",
         "2018-08-15 00:00:00",
         "37.4",
         "2018"
        ],
        [
         "2",
         "120010401A",
         "2018-08-16 00:00:00",
         "0.2",
         "2018"
        ],
        [
         "3",
         "120010401A",
         "2018-08-17 00:00:00",
         "0.0",
         "2018"
        ],
        [
         "4",
         "120010401A",
         "2018-08-18 00:00:00",
         "0.0",
         "2018"
        ],
        [
         "5",
         "120010401A",
         "2018-08-19 00:00:00",
         "0.0",
         "2018"
        ],
        [
         "6",
         "120010401A",
         "2018-08-20 00:00:00",
         "9.6",
         "2018"
        ],
        [
         "7",
         "120010401A",
         "2018-08-21 00:00:00",
         "0.6000000000000001",
         "2018"
        ],
        [
         "8",
         "120010401A",
         "2018-08-22 00:00:00",
         "0.2",
         "2018"
        ],
        [
         "9",
         "120010401A",
         "2018-08-23 00:00:00",
         "0.0",
         "2018"
        ],
        [
         "10",
         "120010401A",
         "2018-08-24 00:00:00",
         "0.0",
         "2018"
        ],
        [
         "11",
         "120010401A",
         "2018-08-25 00:00:00",
         "0.0",
         "2018"
        ],
        [
         "12",
         "120010401A",
         "2018-08-26 00:00:00",
         "3.6",
         "2018"
        ],
        [
         "13",
         "120010401A",
         "2018-08-27 00:00:00",
         "0.0",
         "2018"
        ],
        [
         "14",
         "120010401A",
         "2018-08-28 00:00:00",
         "0.0",
         "2018"
        ],
        [
         "15",
         "120010401A",
         "2018-08-29 00:00:00",
         "0.0",
         "2018"
        ],
        [
         "16",
         "120010401A",
         "2018-08-30 00:00:00",
         "0.0",
         "2018"
        ],
        [
         "17",
         "120010401A",
         "2018-08-31 00:00:00",
         "0.0",
         "2018"
        ],
        [
         "18",
         "120010401A",
         "2018-09-01 00:00:00",
         "0.0",
         "2018"
        ],
        [
         "19",
         "120010401A",
         "2018-09-02 00:00:00",
         "8.4",
         "2018"
        ],
        [
         "20",
         "120010401A",
         "2018-09-03 00:00:00",
         "0.2",
         "2018"
        ],
        [
         "21",
         "120010401A",
         "2018-09-04 00:00:00",
         "0.0",
         "2018"
        ],
        [
         "22",
         "120010401A",
         "2018-09-05 00:00:00",
         "0.0",
         "2018"
        ],
        [
         "23",
         "120010401A",
         "2018-09-06 00:00:00",
         "0.0",
         "2018"
        ],
        [
         "24",
         "120010401A",
         "2018-09-07 00:00:00",
         "0.0",
         "2018"
        ],
        [
         "25",
         "120010401A",
         "2018-09-08 00:00:00",
         "0.0",
         "2018"
        ],
        [
         "26",
         "120010401A",
         "2018-09-09 00:00:00",
         "0.0",
         "2018"
        ],
        [
         "27",
         "120010401A",
         "2018-09-10 00:00:00",
         "0.0",
         "2018"
        ],
        [
         "28",
         "120010401A",
         "2018-09-11 00:00:00",
         "0.0",
         "2018"
        ],
        [
         "29",
         "120010401A",
         "2018-09-12 00:00:00",
         "0.0",
         "2018"
        ],
        [
         "30",
         "120010401A",
         "2018-09-13 00:00:00",
         "0.0",
         "2018"
        ],
        [
         "31",
         "120010401A",
         "2018-09-14 00:00:00",
         "38.0",
         "2018"
        ],
        [
         "32",
         "120010401A",
         "2018-09-15 00:00:00",
         "0.2",
         "2018"
        ],
        [
         "33",
         "120010401A",
         "2018-09-16 00:00:00",
         "0.0",
         "2018"
        ],
        [
         "34",
         "120010401A",
         "2018-09-17 00:00:00",
         "0.2",
         "2018"
        ],
        [
         "35",
         "120010401A",
         "2018-09-18 00:00:00",
         "0.0",
         "2018"
        ],
        [
         "36",
         "120010401A",
         "2018-09-19 00:00:00",
         "0.4",
         "2018"
        ],
        [
         "37",
         "120010401A",
         "2018-09-20 00:00:00",
         "0.0",
         "2018"
        ],
        [
         "38",
         "120010401A",
         "2018-09-21 00:00:00",
         "3.0",
         "2018"
        ],
        [
         "39",
         "120010401A",
         "2018-09-22 00:00:00",
         "8.0",
         "2018"
        ],
        [
         "40",
         "120010401A",
         "2018-09-23 00:00:00",
         "0.2",
         "2018"
        ],
        [
         "41",
         "120010401A",
         "2018-09-24 00:00:00",
         "0.0",
         "2018"
        ],
        [
         "42",
         "120010401A",
         "2018-09-25 00:00:00",
         "0.0",
         "2018"
        ],
        [
         "43",
         "120010401A",
         "2018-09-26 00:00:00",
         "0.0",
         "2018"
        ],
        [
         "44",
         "120010401A",
         "2018-09-27 00:00:00",
         "0.0",
         "2018"
        ],
        [
         "45",
         "120010401A",
         "2018-09-28 00:00:00",
         "43.0",
         "2018"
        ],
        [
         "46",
         "120010401A",
         "2018-09-29 00:00:00",
         "15.0",
         "2018"
        ],
        [
         "47",
         "120010401A",
         "2018-09-30 00:00:00",
         "0.2",
         "2018"
        ],
        [
         "48",
         "120010401A",
         "2018-10-01 00:00:00",
         "0.0",
         "2018"
        ],
        [
         "49",
         "120010401A",
         "2018-10-02 00:00:00",
         "0.0",
         "2018"
        ]
       ],
       "shape": {
        "columns": 4,
        "rows": 6130843
       }
      },
      "text/html": [
       "<div>\n",
       "<style scoped>\n",
       "    .dataframe tbody tr th:only-of-type {\n",
       "        vertical-align: middle;\n",
       "    }\n",
       "\n",
       "    .dataframe tbody tr th {\n",
       "        vertical-align: top;\n",
       "    }\n",
       "\n",
       "    .dataframe thead th {\n",
       "        text-align: right;\n",
       "    }\n",
       "</style>\n",
       "<table border=\"1\" class=\"dataframe\">\n",
       "  <thead>\n",
       "    <tr style=\"text-align: right;\">\n",
       "      <th></th>\n",
       "      <th>gauge_code</th>\n",
       "      <th>datetime</th>\n",
       "      <th>rain_mm</th>\n",
       "      <th>year</th>\n",
       "    </tr>\n",
       "  </thead>\n",
       "  <tbody>\n",
       "    <tr>\n",
       "      <th>0</th>\n",
       "      <td>120010401A</td>\n",
       "      <td>2018-08-14</td>\n",
       "      <td>0.2</td>\n",
       "      <td>2018</td>\n",
       "    </tr>\n",
       "    <tr>\n",
       "      <th>1</th>\n",
       "      <td>120010401A</td>\n",
       "      <td>2018-08-15</td>\n",
       "      <td>37.4</td>\n",
       "      <td>2018</td>\n",
       "    </tr>\n",
       "    <tr>\n",
       "      <th>2</th>\n",
       "      <td>120010401A</td>\n",
       "      <td>2018-08-16</td>\n",
       "      <td>0.2</td>\n",
       "      <td>2018</td>\n",
       "    </tr>\n",
       "    <tr>\n",
       "      <th>3</th>\n",
       "      <td>120010401A</td>\n",
       "      <td>2018-08-17</td>\n",
       "      <td>0.0</td>\n",
       "      <td>2018</td>\n",
       "    </tr>\n",
       "    <tr>\n",
       "      <th>4</th>\n",
       "      <td>120010401A</td>\n",
       "      <td>2018-08-18</td>\n",
       "      <td>0.0</td>\n",
       "      <td>2018</td>\n",
       "    </tr>\n",
       "    <tr>\n",
       "      <th>...</th>\n",
       "      <td>...</td>\n",
       "      <td>...</td>\n",
       "      <td>...</td>\n",
       "      <td>...</td>\n",
       "    </tr>\n",
       "    <tr>\n",
       "      <th>6130838</th>\n",
       "      <td>CEMADEN_14</td>\n",
       "      <td>2019-04-26</td>\n",
       "      <td>0.0</td>\n",
       "      <td>2019</td>\n",
       "    </tr>\n",
       "    <tr>\n",
       "      <th>6130839</th>\n",
       "      <td>CEMADEN_14</td>\n",
       "      <td>2019-04-27</td>\n",
       "      <td>0.0</td>\n",
       "      <td>2019</td>\n",
       "    </tr>\n",
       "    <tr>\n",
       "      <th>6130840</th>\n",
       "      <td>CEMADEN_14</td>\n",
       "      <td>2019-04-28</td>\n",
       "      <td>0.0</td>\n",
       "      <td>2019</td>\n",
       "    </tr>\n",
       "    <tr>\n",
       "      <th>6130841</th>\n",
       "      <td>CEMADEN_14</td>\n",
       "      <td>2019-04-29</td>\n",
       "      <td>6.2</td>\n",
       "      <td>2019</td>\n",
       "    </tr>\n",
       "    <tr>\n",
       "      <th>6130842</th>\n",
       "      <td>CEMADEN_14</td>\n",
       "      <td>2019-04-30</td>\n",
       "      <td>0.0</td>\n",
       "      <td>2019</td>\n",
       "    </tr>\n",
       "  </tbody>\n",
       "</table>\n",
       "<p>6130843 rows × 4 columns</p>\n",
       "</div>"
      ],
      "text/plain": [
       "         gauge_code   datetime  rain_mm  year\n",
       "0        120010401A 2018-08-14      0.2  2018\n",
       "1        120010401A 2018-08-15     37.4  2018\n",
       "2        120010401A 2018-08-16      0.2  2018\n",
       "3        120010401A 2018-08-17      0.0  2018\n",
       "4        120010401A 2018-08-18      0.0  2018\n",
       "...             ...        ...      ...   ...\n",
       "6130838  CEMADEN_14 2019-04-26      0.0  2019\n",
       "6130839  CEMADEN_14 2019-04-27      0.0  2019\n",
       "6130840  CEMADEN_14 2019-04-28      0.0  2019\n",
       "6130841  CEMADEN_14 2019-04-29      6.2  2019\n",
       "6130842  CEMADEN_14 2019-04-30      0.0  2019\n",
       "\n",
       "[6130843 rows x 4 columns]"
      ]
     },
     "execution_count": 40,
     "metadata": {},
     "output_type": "execute_result"
    }
   ],
   "source": [
    "df_cemaden_data = pd.read_hdf(cemaden_path, key='table_data')\n",
    "df_cemaden_data.rename(columns={'date': 'datetime'}, inplace=True)\n",
    "df_cemaden_data.columns\n",
    "df_cemaden_data['year'] = df_cemaden_data['datetime'].dt.year\n",
    "df_cemaden_data = df_cemaden_data[(df_cemaden_data['year']<= 2020)\n",
    "                                    & (df_cemaden_data['rain_mm']>= 0.0)\n",
    "                                    & (df_cemaden_data['rain_mm']<= 600.0)\n",
    "                                    ].reset_index(drop=True)\n",
    "df_cemaden_data"
   ]
  },
  {
   "cell_type": "code",
   "execution_count": 41,
   "id": "f742616f",
   "metadata": {},
   "outputs": [
    {
     "data": {
      "text/plain": [
       "array([2018, 2019, 2020, 2014, 2015, 2016, 2017])"
      ]
     },
     "execution_count": 41,
     "metadata": {},
     "output_type": "execute_result"
    }
   ],
   "source": [
    "df_cemaden_data['year'].unique()"
   ]
  },
  {
   "cell_type": "code",
   "execution_count": 42,
   "id": "39eae756",
   "metadata": {},
   "outputs": [
    {
     "data": {
      "text/plain": [
       "count    6.130843e+06\n",
       "mean     3.609943e+00\n",
       "std      1.033683e+01\n",
       "min      0.000000e+00\n",
       "25%      0.000000e+00\n",
       "50%      0.000000e+00\n",
       "75%      1.600000e+00\n",
       "max      5.994800e+02\n",
       "Name: rain_mm, dtype: float64"
      ]
     },
     "execution_count": 42,
     "metadata": {},
     "output_type": "execute_result"
    }
   ],
   "source": [
    "df_cemaden_data['rain_mm'].describe()"
   ]
  },
  {
   "cell_type": "code",
   "execution_count": 43,
   "id": "b34e5af5",
   "metadata": {},
   "outputs": [],
   "source": [
    "# df_cemaden_data = pd.read_hdf(cemaden_path, key='table_data')\n",
    "# df_cemaden_data['year'] = df_cemaden_data['datetime'].dt.year\n",
    "# df_cemaden_data = df_cemaden_data[(df_cemaden_data['year']<= 2020)\n",
    "#                                     & (df_cemaden_data['rain_mm']>= 0.0)\n",
    "#                                     & (df_cemaden_data['rain_mm']<= 600.0)\n",
    "#                                     ].reset_index(drop=True)\n",
    "# df_cemaden_data\n",
    "\n",
    "# # 130 acima de 600mm"
   ]
  },
  {
   "cell_type": "code",
   "execution_count": 44,
   "id": "97f13968",
   "metadata": {},
   "outputs": [
    {
     "data": {
      "application/vnd.microsoft.datawrangler.viewer.v0+json": {
       "columns": [
        {
         "name": "index",
         "rawType": "int64",
         "type": "integer"
        },
        {
         "name": "gauge_code",
         "rawType": "object",
         "type": "string"
        },
        {
         "name": "state",
         "rawType": "object",
         "type": "string"
        },
        {
         "name": "city",
         "rawType": "object",
         "type": "string"
        },
        {
         "name": "name_station",
         "rawType": "object",
         "type": "string"
        },
        {
         "name": "long",
         "rawType": "float64",
         "type": "float"
        },
        {
         "name": "lat",
         "rawType": "float64",
         "type": "float"
        }
       ],
       "conversionMethod": "pd.DataFrame",
       "ref": "94949269-6730-4997-8021-6392a186ca31",
       "rows": [
        [
         "0",
         "431100701A",
         "RS",
         "JAGUARÃO",
         "Pindorama",
         "-53.36835799999999",
         "-32.558556"
        ],
        [
         "1",
         "430130501A",
         "RS",
         "ARROIO GRANDE",
         "Centro",
         "-53.085622",
         "-32.238669"
        ],
        [
         "2",
         "431420901A",
         "RS",
         "PEDRO OSÓRIO",
         "Centro",
         "-52.826981",
         "-31.867047"
        ],
        [
         "3",
         "431440702A",
         "RS",
         "PELOTAS",
         "Centro",
         "-52.342",
         "-31.77"
        ],
        [
         "4",
         "430466301A",
         "RS",
         "CAPÃO DO LEÃO",
         "Centro",
         "-52.764151",
         "-31.764166"
        ],
        [
         "5",
         "431440709H",
         "RS",
         "PELOTAS",
         "Arroio Pelotas",
         "-52.28692",
         "-31.75343"
        ],
        [
         "6",
         "431440701A",
         "RS",
         "PELOTAS",
         "Fragata",
         "-52.377",
         "-31.752"
        ],
        [
         "7",
         "431440703A",
         "RS",
         "PELOTAS",
         "Areal",
         "-52.317",
         "-31.746"
        ],
        [
         "8",
         "431440704A",
         "RS",
         "PELOTAS",
         "Colonia Z/3",
         "-52.16",
         "-31.693"
        ],
        [
         "9",
         "431440705A",
         "RS",
         "PELOTAS",
         "Sinott",
         "-52.36",
         "-31.65"
        ],
        [
         "10",
         "430450703A",
         "RS",
         "CANGUÇU",
         "Tropeira",
         "-52.742",
         "-31.55"
        ],
        [
         "11",
         "430450704A",
         "RS",
         "CANGUÇU",
         "Glória",
         "-52.625",
         "-31.461"
        ],
        [
         "12",
         "430450702A",
         "RS",
         "CANGUÇU",
         "Cochila dos Cunha",
         "-52.809",
         "-31.403"
        ],
        [
         "13",
         "431880413H",
         "RS",
         "SÃO LOURENÇO DO SUL",
         "Arroio São Lourenco",
         "-51.9791",
         "-31.3699"
        ],
        [
         "14",
         "431880403A",
         "RS",
         "SÃO LOURENÇO DO SUL",
         "Lomba",
         "-51.989183",
         "-31.369142"
        ],
        [
         "15",
         "430450701A",
         "RS",
         "CANGUÇU",
         "Santa Clara",
         "-52.569",
         "-31.315"
        ],
        [
         "16",
         "431880402A",
         "RS",
         "SÃO LOURENÇO DO SUL",
         "Interior",
         "-52.158103",
         "-31.298817"
        ],
        [
         "17",
         "430660102A",
         "RS",
         "DOM PEDRITO",
         "São Gregório",
         "-54.66990500000001",
         "-30.976079"
        ],
        [
         "18",
         "430350901A",
         "RS",
         "CAMAQUÃ",
         "Centro",
         "-51.817",
         "-30.851"
        ],
        [
         "19",
         "430690801A",
         "RS",
         "ENCRUZILHADA DO SUL",
         "Vila Paraiso",
         "-52.543",
         "-30.55"
        ],
        [
         "20",
         "431640203A",
         "RS",
         "ROSÁRIO DO SUL",
         "Serra do Caverá",
         "-55.28209399999999",
         "-30.433369"
        ],
        [
         "21",
         "431530501A",
         "RS",
         "QUARAÍ",
         "Vila José Carlos",
         "-56.46519",
         "-30.371764"
        ],
        [
         "22",
         "430280801A",
         "RS",
         "CAÇAPAVA DO SUL",
         "BR290",
         "-53.27",
         "-30.338"
        ],
        [
         "23",
         "431640211H",
         "RS",
         "ROSÁRIO DO SUL",
         "Rio Ibicuí da Armada",
         "-54.904",
         "-30.2807"
        ],
        [
         "24",
         "430300403A",
         "RS",
         "CACHOEIRA DO SUL",
         "Vila Jardim Tordesmade Cordilheira",
         "-52.8673",
         "-30.27"
        ],
        [
         "25",
         "430300402A",
         "RS",
         "CACHOEIRA DO SUL",
         "Capané",
         "-52.8021",
         "-30.256"
        ],
        [
         "26",
         "431640202A",
         "RS",
         "ROSÁRIO DO SUL",
         "Planalto",
         "-54.94201700000001",
         "-30.242917"
        ],
        [
         "27",
         "431490217A",
         "RS",
         "PORTO ALEGRE",
         "Serraria",
         "-51.228",
         "-30.164"
        ],
        [
         "28",
         "431490221A",
         "RS",
         "PORTO ALEGRE",
         "Hipica",
         "-51.2",
         "-30.159"
        ],
        [
         "29",
         "431490203A",
         "RS",
         "PORTO ALEGRE",
         "Restinga",
         "-51.13800000000001",
         "-30.151"
        ],
        [
         "30",
         "432300203A",
         "RS",
         "VIAMÃO",
         "Planalto",
         "-51.092",
         "-30.129"
        ],
        [
         "31",
         "431490202A",
         "RS",
         "PORTO ALEGRE",
         "Cristal",
         "-51.11199999999999",
         "-30.111"
        ],
        [
         "32",
         "431490216A",
         "RS",
         "PORTO ALEGRE",
         "Belém Velho",
         "-51.17100000000001",
         "-30.104"
        ],
        [
         "33",
         "430676704A",
         "RS",
         "ELDORADO DO SUL",
         "Rua Por do Sol",
         "-51.661",
         "-30.099"
        ],
        [
         "34",
         "431490205A",
         "RS",
         "PORTO ALEGRE",
         "Vila Assunção",
         "-51.253",
         "-30.099"
        ],
        [
         "35",
         "432300202A",
         "RS",
         "VIAMÃO",
         "Sitio São José",
         "-51.019",
         "-30.095"
        ],
        [
         "36",
         "432300206A",
         "RS",
         "VIAMÃO",
         "São Lucas",
         "-51.063",
         "-30.092"
        ],
        [
         "37",
         "432300204A",
         "RS",
         "VIAMÃO",
         "Santa Isabel",
         "-51.105",
         "-30.078"
        ],
        [
         "38",
         "431490218A",
         "RS",
         "PORTO ALEGRE",
         "Agronomia",
         "-51.143",
         "-30.069"
        ],
        [
         "39",
         "432300201A",
         "RS",
         "VIAMÃO",
         "Jardim Viamar",
         "-51.022",
         "-30.056"
        ],
        [
         "40",
         "431490220A",
         "RS",
         "PORTO ALEGRE",
         "Partenon",
         "-51.195",
         "-30.051"
        ],
        [
         "41",
         "431490219A",
         "RS",
         "PORTO ALEGRE",
         "Protásio Alves",
         "-51.136",
         "-30.048"
        ],
        [
         "42",
         "432300205A",
         "RS",
         "VIAMÃO",
         "Vila Augusta",
         "-51.084",
         "-30.048"
        ],
        [
         "43",
         "430676703A",
         "RS",
         "ELDORADO DO SUL",
         "Flor do Conde",
         "-51.308",
         "-30.046"
        ],
        [
         "44",
         "430060402A",
         "RS",
         "ALVORADA",
         "Jardim Algarve",
         "-51.07899999999999",
         "-30.035"
        ],
        [
         "45",
         "431490201A",
         "RS",
         "PORTO ALEGRE",
         "Centro",
         "-51.228",
         "-30.029"
        ],
        [
         "46",
         "430060403A",
         "RS",
         "ALVORADA",
         "Pirati",
         "-51.051",
         "-30.023"
        ],
        [
         "47",
         "431490215A",
         "RS",
         "PORTO ALEGRE",
         "Navegantes",
         "-51.202",
         "-30.002"
        ],
        [
         "48",
         "430676702A",
         "RS",
         "ELDORADO DO SUL",
         "Centro",
         "-51.309",
         "-29.997"
        ],
        [
         "49",
         "430060404A",
         "RS",
         "ALVORADA",
         "Americana",
         "-51.081",
         "-29.995"
        ]
       ],
       "shape": {
        "columns": 6,
        "rows": 4178
       }
      },
      "text/html": [
       "<div>\n",
       "<style scoped>\n",
       "    .dataframe tbody tr th:only-of-type {\n",
       "        vertical-align: middle;\n",
       "    }\n",
       "\n",
       "    .dataframe tbody tr th {\n",
       "        vertical-align: top;\n",
       "    }\n",
       "\n",
       "    .dataframe thead th {\n",
       "        text-align: right;\n",
       "    }\n",
       "</style>\n",
       "<table border=\"1\" class=\"dataframe\">\n",
       "  <thead>\n",
       "    <tr style=\"text-align: right;\">\n",
       "      <th></th>\n",
       "      <th>gauge_code</th>\n",
       "      <th>state</th>\n",
       "      <th>city</th>\n",
       "      <th>name_station</th>\n",
       "      <th>long</th>\n",
       "      <th>lat</th>\n",
       "    </tr>\n",
       "  </thead>\n",
       "  <tbody>\n",
       "    <tr>\n",
       "      <th>0</th>\n",
       "      <td>431100701A</td>\n",
       "      <td>RS</td>\n",
       "      <td>JAGUARÃO</td>\n",
       "      <td>Pindorama</td>\n",
       "      <td>-53.368358</td>\n",
       "      <td>-32.558556</td>\n",
       "    </tr>\n",
       "    <tr>\n",
       "      <th>1</th>\n",
       "      <td>430130501A</td>\n",
       "      <td>RS</td>\n",
       "      <td>ARROIO GRANDE</td>\n",
       "      <td>Centro</td>\n",
       "      <td>-53.085622</td>\n",
       "      <td>-32.238669</td>\n",
       "    </tr>\n",
       "    <tr>\n",
       "      <th>2</th>\n",
       "      <td>431420901A</td>\n",
       "      <td>RS</td>\n",
       "      <td>PEDRO OSÓRIO</td>\n",
       "      <td>Centro</td>\n",
       "      <td>-52.826981</td>\n",
       "      <td>-31.867047</td>\n",
       "    </tr>\n",
       "    <tr>\n",
       "      <th>3</th>\n",
       "      <td>431440702A</td>\n",
       "      <td>RS</td>\n",
       "      <td>PELOTAS</td>\n",
       "      <td>Centro</td>\n",
       "      <td>-52.342000</td>\n",
       "      <td>-31.770000</td>\n",
       "    </tr>\n",
       "    <tr>\n",
       "      <th>4</th>\n",
       "      <td>430466301A</td>\n",
       "      <td>RS</td>\n",
       "      <td>CAPÃO DO LEÃO</td>\n",
       "      <td>Centro</td>\n",
       "      <td>-52.764151</td>\n",
       "      <td>-31.764166</td>\n",
       "    </tr>\n",
       "    <tr>\n",
       "      <th>...</th>\n",
       "      <td>...</td>\n",
       "      <td>...</td>\n",
       "      <td>...</td>\n",
       "      <td>...</td>\n",
       "      <td>...</td>\n",
       "      <td>...</td>\n",
       "    </tr>\n",
       "    <tr>\n",
       "      <th>4173</th>\n",
       "      <td>140010003A</td>\n",
       "      <td>RR</td>\n",
       "      <td>BOA VISTA</td>\n",
       "      <td>Pricumã</td>\n",
       "      <td>-60.692624</td>\n",
       "      <td>2.804488</td>\n",
       "    </tr>\n",
       "    <tr>\n",
       "      <th>4174</th>\n",
       "      <td>140010002A</td>\n",
       "      <td>RR</td>\n",
       "      <td>BOA VISTA</td>\n",
       "      <td>Calunga</td>\n",
       "      <td>-60.674663</td>\n",
       "      <td>2.806589</td>\n",
       "    </tr>\n",
       "    <tr>\n",
       "      <th>4175</th>\n",
       "      <td>140010005A</td>\n",
       "      <td>RR</td>\n",
       "      <td>BOA VISTA</td>\n",
       "      <td>Caranã</td>\n",
       "      <td>-60.719258</td>\n",
       "      <td>2.844432</td>\n",
       "    </tr>\n",
       "    <tr>\n",
       "      <th>4176</th>\n",
       "      <td>140010001A</td>\n",
       "      <td>RR</td>\n",
       "      <td>BOA VISTA</td>\n",
       "      <td>Paraviana</td>\n",
       "      <td>-60.658979</td>\n",
       "      <td>2.859961</td>\n",
       "    </tr>\n",
       "    <tr>\n",
       "      <th>4177</th>\n",
       "      <td>140070401A</td>\n",
       "      <td>RR</td>\n",
       "      <td>UIRAMUTÃ</td>\n",
       "      <td>Centro</td>\n",
       "      <td>-60.162963</td>\n",
       "      <td>4.594482</td>\n",
       "    </tr>\n",
       "  </tbody>\n",
       "</table>\n",
       "<p>4178 rows × 6 columns</p>\n",
       "</div>"
      ],
      "text/plain": [
       "      gauge_code state           city name_station       long        lat\n",
       "0     431100701A    RS       JAGUARÃO    Pindorama -53.368358 -32.558556\n",
       "1     430130501A    RS  ARROIO GRANDE       Centro -53.085622 -32.238669\n",
       "2     431420901A    RS   PEDRO OSÓRIO       Centro -52.826981 -31.867047\n",
       "3     431440702A    RS        PELOTAS       Centro -52.342000 -31.770000\n",
       "4     430466301A    RS  CAPÃO DO LEÃO       Centro -52.764151 -31.764166\n",
       "...          ...   ...            ...          ...        ...        ...\n",
       "4173  140010003A    RR      BOA VISTA      Pricumã -60.692624   2.804488\n",
       "4174  140010002A    RR      BOA VISTA      Calunga -60.674663   2.806589\n",
       "4175  140010005A    RR      BOA VISTA       Caranã -60.719258   2.844432\n",
       "4176  140010001A    RR      BOA VISTA    Paraviana -60.658979   2.859961\n",
       "4177  140070401A    RR       UIRAMUTÃ       Centro -60.162963   4.594482\n",
       "\n",
       "[4178 rows x 6 columns]"
      ]
     },
     "execution_count": 44,
     "metadata": {},
     "output_type": "execute_result"
    }
   ],
   "source": [
    "df_cemaden_info = pd.read_hdf(cemaden_path, key = 'table_info')\n",
    "df_cemaden_info['lat'] = df_cemaden_info['lat'].astype(float)\n",
    "df_cemaden_info['long'] = df_cemaden_info['long'].astype(float)\n",
    "df_cemaden_info.sort_values(['lat', 'long'], inplace=True)\n",
    "df_cemaden_info.reset_index(drop=True, inplace=True)\n",
    "df_cemaden_info"
   ]
  },
  {
   "cell_type": "code",
   "execution_count": 45,
   "id": "e9c823f3",
   "metadata": {},
   "outputs": [
    {
     "data": {
      "text/plain": [
       "4178"
      ]
     },
     "execution_count": 45,
     "metadata": {},
     "output_type": "execute_result"
    }
   ],
   "source": [
    "len(df_cemaden_data['gauge_code'].unique())"
   ]
  },
  {
   "cell_type": "code",
   "execution_count": 46,
   "id": "708e4ea8",
   "metadata": {},
   "outputs": [
    {
     "data": {
      "text/plain": [
       "[2014, 2015, 2016, 2017, 2018, 2019, 2020]"
      ]
     },
     "execution_count": 46,
     "metadata": {},
     "output_type": "execute_result"
    }
   ],
   "source": [
    "years = df_cemaden_data['year'].sort_values(ascending=True).drop_duplicates().values.tolist()\n",
    "years"
   ]
  },
  {
   "cell_type": "code",
   "execution_count": 47,
   "id": "b6cbf03a",
   "metadata": {},
   "outputs": [
    {
     "data": {
      "application/vnd.microsoft.datawrangler.viewer.v0+json": {
       "columns": [
        {
         "name": "index",
         "rawType": "int64",
         "type": "integer"
        },
        {
         "name": "gauge_code",
         "rawType": "object",
         "type": "string"
        },
        {
         "name": "datetime",
         "rawType": "datetime64[ns]",
         "type": "datetime"
        },
        {
         "name": "rain_mm",
         "rawType": "float64",
         "type": "float"
        },
        {
         "name": "year",
         "rawType": "int32",
         "type": "integer"
        },
        {
         "name": "state",
         "rawType": "object",
         "type": "string"
        },
        {
         "name": "city",
         "rawType": "object",
         "type": "string"
        },
        {
         "name": "name_station",
         "rawType": "object",
         "type": "string"
        },
        {
         "name": "long",
         "rawType": "float64",
         "type": "float"
        },
        {
         "name": "lat",
         "rawType": "float64",
         "type": "float"
        }
       ],
       "conversionMethod": "pd.DataFrame",
       "ref": "0eaa467c-43d4-40de-97b7-51e0bea0302a",
       "rows": [
        [
         "0",
         "431100701A",
         "2020-03-02 00:00:00",
         "0.0",
         "2020",
         "RS",
         "JAGUARÃO",
         "Pindorama",
         "-53.36835799999999",
         "-32.558556"
        ],
        [
         "1",
         "431100701A",
         "2019-04-27 00:00:00",
         "20.8",
         "2019",
         "RS",
         "JAGUARÃO",
         "Pindorama",
         "-53.36835799999999",
         "-32.558556"
        ],
        [
         "2",
         "431100701A",
         "2019-04-26 00:00:00",
         "17.8",
         "2019",
         "RS",
         "JAGUARÃO",
         "Pindorama",
         "-53.36835799999999",
         "-32.558556"
        ],
        [
         "3",
         "431100701A",
         "2019-04-25 00:00:00",
         "0.6000000000000001",
         "2019",
         "RS",
         "JAGUARÃO",
         "Pindorama",
         "-53.36835799999999",
         "-32.558556"
        ],
        [
         "4",
         "431100701A",
         "2019-04-24 00:00:00",
         "0.0",
         "2019",
         "RS",
         "JAGUARÃO",
         "Pindorama",
         "-53.36835799999999",
         "-32.558556"
        ],
        [
         "5",
         "431100701A",
         "2019-04-23 00:00:00",
         "0.0",
         "2019",
         "RS",
         "JAGUARÃO",
         "Pindorama",
         "-53.36835799999999",
         "-32.558556"
        ],
        [
         "6",
         "431100701A",
         "2019-04-22 00:00:00",
         "0.0",
         "2019",
         "RS",
         "JAGUARÃO",
         "Pindorama",
         "-53.36835799999999",
         "-32.558556"
        ],
        [
         "7",
         "431100701A",
         "2019-04-21 00:00:00",
         "0.0",
         "2019",
         "RS",
         "JAGUARÃO",
         "Pindorama",
         "-53.36835799999999",
         "-32.558556"
        ],
        [
         "8",
         "431100701A",
         "2019-04-19 00:00:00",
         "0.0",
         "2019",
         "RS",
         "JAGUARÃO",
         "Pindorama",
         "-53.36835799999999",
         "-32.558556"
        ],
        [
         "9",
         "431100701A",
         "2019-04-18 00:00:00",
         "0.0",
         "2019",
         "RS",
         "JAGUARÃO",
         "Pindorama",
         "-53.36835799999999",
         "-32.558556"
        ],
        [
         "10",
         "431100701A",
         "2019-04-17 00:00:00",
         "0.0",
         "2019",
         "RS",
         "JAGUARÃO",
         "Pindorama",
         "-53.36835799999999",
         "-32.558556"
        ],
        [
         "11",
         "431100701A",
         "2019-04-16 00:00:00",
         "8.4",
         "2019",
         "RS",
         "JAGUARÃO",
         "Pindorama",
         "-53.36835799999999",
         "-32.558556"
        ],
        [
         "12",
         "431100701A",
         "2019-04-28 00:00:00",
         "0.0",
         "2019",
         "RS",
         "JAGUARÃO",
         "Pindorama",
         "-53.36835799999999",
         "-32.558556"
        ],
        [
         "13",
         "431100701A",
         "2019-04-15 00:00:00",
         "27.2",
         "2019",
         "RS",
         "JAGUARÃO",
         "Pindorama",
         "-53.36835799999999",
         "-32.558556"
        ],
        [
         "14",
         "431100701A",
         "2019-04-13 00:00:00",
         "0.0",
         "2019",
         "RS",
         "JAGUARÃO",
         "Pindorama",
         "-53.36835799999999",
         "-32.558556"
        ],
        [
         "15",
         "431100701A",
         "2019-04-12 00:00:00",
         "0.0",
         "2019",
         "RS",
         "JAGUARÃO",
         "Pindorama",
         "-53.36835799999999",
         "-32.558556"
        ],
        [
         "16",
         "431100701A",
         "2019-04-11 00:00:00",
         "0.0",
         "2019",
         "RS",
         "JAGUARÃO",
         "Pindorama",
         "-53.36835799999999",
         "-32.558556"
        ],
        [
         "17",
         "431100701A",
         "2019-04-10 00:00:00",
         "0.0",
         "2019",
         "RS",
         "JAGUARÃO",
         "Pindorama",
         "-53.36835799999999",
         "-32.558556"
        ],
        [
         "18",
         "431100701A",
         "2019-04-09 00:00:00",
         "0.0",
         "2019",
         "RS",
         "JAGUARÃO",
         "Pindorama",
         "-53.36835799999999",
         "-32.558556"
        ],
        [
         "19",
         "431100701A",
         "2019-04-08 00:00:00",
         "0.0",
         "2019",
         "RS",
         "JAGUARÃO",
         "Pindorama",
         "-53.36835799999999",
         "-32.558556"
        ],
        [
         "20",
         "431100701A",
         "2019-04-07 00:00:00",
         "0.0",
         "2019",
         "RS",
         "JAGUARÃO",
         "Pindorama",
         "-53.36835799999999",
         "-32.558556"
        ],
        [
         "21",
         "431100701A",
         "2019-04-06 00:00:00",
         "0.0",
         "2019",
         "RS",
         "JAGUARÃO",
         "Pindorama",
         "-53.36835799999999",
         "-32.558556"
        ],
        [
         "22",
         "431100701A",
         "2019-04-05 00:00:00",
         "2.8000000000000003",
         "2019",
         "RS",
         "JAGUARÃO",
         "Pindorama",
         "-53.36835799999999",
         "-32.558556"
        ],
        [
         "23",
         "431100701A",
         "2019-04-04 00:00:00",
         "4.6",
         "2019",
         "RS",
         "JAGUARÃO",
         "Pindorama",
         "-53.36835799999999",
         "-32.558556"
        ],
        [
         "24",
         "431100701A",
         "2019-04-03 00:00:00",
         "5.3999999999999995",
         "2019",
         "RS",
         "JAGUARÃO",
         "Pindorama",
         "-53.36835799999999",
         "-32.558556"
        ],
        [
         "25",
         "431100701A",
         "2019-04-14 00:00:00",
         "0.0",
         "2019",
         "RS",
         "JAGUARÃO",
         "Pindorama",
         "-53.36835799999999",
         "-32.558556"
        ],
        [
         "26",
         "431100701A",
         "2019-04-29 00:00:00",
         "0.0",
         "2019",
         "RS",
         "JAGUARÃO",
         "Pindorama",
         "-53.36835799999999",
         "-32.558556"
        ],
        [
         "27",
         "431100701A",
         "2019-04-30 00:00:00",
         "0.0",
         "2019",
         "RS",
         "JAGUARÃO",
         "Pindorama",
         "-53.36835799999999",
         "-32.558556"
        ],
        [
         "28",
         "431100701A",
         "2019-05-01 00:00:00",
         "0.0",
         "2019",
         "RS",
         "JAGUARÃO",
         "Pindorama",
         "-53.36835799999999",
         "-32.558556"
        ],
        [
         "29",
         "431100701A",
         "2019-05-26 00:00:00",
         "0.0",
         "2019",
         "RS",
         "JAGUARÃO",
         "Pindorama",
         "-53.36835799999999",
         "-32.558556"
        ],
        [
         "30",
         "431100701A",
         "2019-05-25 00:00:00",
         "0.0",
         "2019",
         "RS",
         "JAGUARÃO",
         "Pindorama",
         "-53.36835799999999",
         "-32.558556"
        ],
        [
         "31",
         "431100701A",
         "2019-05-24 00:00:00",
         "0.0",
         "2019",
         "RS",
         "JAGUARÃO",
         "Pindorama",
         "-53.36835799999999",
         "-32.558556"
        ],
        [
         "32",
         "431100701A",
         "2019-05-23 00:00:00",
         "0.0",
         "2019",
         "RS",
         "JAGUARÃO",
         "Pindorama",
         "-53.36835799999999",
         "-32.558556"
        ],
        [
         "33",
         "431100701A",
         "2019-05-22 00:00:00",
         "1.0",
         "2019",
         "RS",
         "JAGUARÃO",
         "Pindorama",
         "-53.36835799999999",
         "-32.558556"
        ],
        [
         "34",
         "431100701A",
         "2019-05-21 00:00:00",
         "17.0",
         "2019",
         "RS",
         "JAGUARÃO",
         "Pindorama",
         "-53.36835799999999",
         "-32.558556"
        ],
        [
         "35",
         "431100701A",
         "2019-05-20 00:00:00",
         "2.0",
         "2019",
         "RS",
         "JAGUARÃO",
         "Pindorama",
         "-53.36835799999999",
         "-32.558556"
        ],
        [
         "36",
         "431100701A",
         "2019-05-19 00:00:00",
         "0.0",
         "2019",
         "RS",
         "JAGUARÃO",
         "Pindorama",
         "-53.36835799999999",
         "-32.558556"
        ],
        [
         "37",
         "431100701A",
         "2019-05-18 00:00:00",
         "0.0",
         "2019",
         "RS",
         "JAGUARÃO",
         "Pindorama",
         "-53.36835799999999",
         "-32.558556"
        ],
        [
         "38",
         "431100701A",
         "2019-05-17 00:00:00",
         "0.0",
         "2019",
         "RS",
         "JAGUARÃO",
         "Pindorama",
         "-53.36835799999999",
         "-32.558556"
        ],
        [
         "39",
         "431100701A",
         "2019-05-16 00:00:00",
         "0.2",
         "2019",
         "RS",
         "JAGUARÃO",
         "Pindorama",
         "-53.36835799999999",
         "-32.558556"
        ],
        [
         "40",
         "431100701A",
         "2019-05-15 00:00:00",
         "0.0",
         "2019",
         "RS",
         "JAGUARÃO",
         "Pindorama",
         "-53.36835799999999",
         "-32.558556"
        ],
        [
         "41",
         "431100701A",
         "2019-05-14 00:00:00",
         "0.6000000000000001",
         "2019",
         "RS",
         "JAGUARÃO",
         "Pindorama",
         "-53.36835799999999",
         "-32.558556"
        ],
        [
         "42",
         "431100701A",
         "2019-05-13 00:00:00",
         "1.8",
         "2019",
         "RS",
         "JAGUARÃO",
         "Pindorama",
         "-53.36835799999999",
         "-32.558556"
        ],
        [
         "43",
         "431100701A",
         "2019-05-12 00:00:00",
         "0.2",
         "2019",
         "RS",
         "JAGUARÃO",
         "Pindorama",
         "-53.36835799999999",
         "-32.558556"
        ],
        [
         "44",
         "431100701A",
         "2019-05-11 00:00:00",
         "0.2",
         "2019",
         "RS",
         "JAGUARÃO",
         "Pindorama",
         "-53.36835799999999",
         "-32.558556"
        ],
        [
         "45",
         "431100701A",
         "2019-05-10 00:00:00",
         "1.2000000000000002",
         "2019",
         "RS",
         "JAGUARÃO",
         "Pindorama",
         "-53.36835799999999",
         "-32.558556"
        ],
        [
         "46",
         "431100701A",
         "2019-05-09 00:00:00",
         "0.0",
         "2019",
         "RS",
         "JAGUARÃO",
         "Pindorama",
         "-53.36835799999999",
         "-32.558556"
        ],
        [
         "47",
         "431100701A",
         "2019-05-08 00:00:00",
         "0.0",
         "2019",
         "RS",
         "JAGUARÃO",
         "Pindorama",
         "-53.36835799999999",
         "-32.558556"
        ],
        [
         "48",
         "431100701A",
         "2019-05-07 00:00:00",
         "0.0",
         "2019",
         "RS",
         "JAGUARÃO",
         "Pindorama",
         "-53.36835799999999",
         "-32.558556"
        ],
        [
         "49",
         "431100701A",
         "2019-05-06 00:00:00",
         "2.8",
         "2019",
         "RS",
         "JAGUARÃO",
         "Pindorama",
         "-53.36835799999999",
         "-32.558556"
        ]
       ],
       "shape": {
        "columns": 9,
        "rows": 6130843
       }
      },
      "text/html": [
       "<div>\n",
       "<style scoped>\n",
       "    .dataframe tbody tr th:only-of-type {\n",
       "        vertical-align: middle;\n",
       "    }\n",
       "\n",
       "    .dataframe tbody tr th {\n",
       "        vertical-align: top;\n",
       "    }\n",
       "\n",
       "    .dataframe thead th {\n",
       "        text-align: right;\n",
       "    }\n",
       "</style>\n",
       "<table border=\"1\" class=\"dataframe\">\n",
       "  <thead>\n",
       "    <tr style=\"text-align: right;\">\n",
       "      <th></th>\n",
       "      <th>gauge_code</th>\n",
       "      <th>datetime</th>\n",
       "      <th>rain_mm</th>\n",
       "      <th>year</th>\n",
       "      <th>state</th>\n",
       "      <th>city</th>\n",
       "      <th>name_station</th>\n",
       "      <th>long</th>\n",
       "      <th>lat</th>\n",
       "    </tr>\n",
       "  </thead>\n",
       "  <tbody>\n",
       "    <tr>\n",
       "      <th>0</th>\n",
       "      <td>431100701A</td>\n",
       "      <td>2020-03-02</td>\n",
       "      <td>0.0</td>\n",
       "      <td>2020</td>\n",
       "      <td>RS</td>\n",
       "      <td>JAGUARÃO</td>\n",
       "      <td>Pindorama</td>\n",
       "      <td>-53.368358</td>\n",
       "      <td>-32.558556</td>\n",
       "    </tr>\n",
       "    <tr>\n",
       "      <th>1</th>\n",
       "      <td>431100701A</td>\n",
       "      <td>2019-04-27</td>\n",
       "      <td>20.8</td>\n",
       "      <td>2019</td>\n",
       "      <td>RS</td>\n",
       "      <td>JAGUARÃO</td>\n",
       "      <td>Pindorama</td>\n",
       "      <td>-53.368358</td>\n",
       "      <td>-32.558556</td>\n",
       "    </tr>\n",
       "    <tr>\n",
       "      <th>2</th>\n",
       "      <td>431100701A</td>\n",
       "      <td>2019-04-26</td>\n",
       "      <td>17.8</td>\n",
       "      <td>2019</td>\n",
       "      <td>RS</td>\n",
       "      <td>JAGUARÃO</td>\n",
       "      <td>Pindorama</td>\n",
       "      <td>-53.368358</td>\n",
       "      <td>-32.558556</td>\n",
       "    </tr>\n",
       "    <tr>\n",
       "      <th>3</th>\n",
       "      <td>431100701A</td>\n",
       "      <td>2019-04-25</td>\n",
       "      <td>0.6</td>\n",
       "      <td>2019</td>\n",
       "      <td>RS</td>\n",
       "      <td>JAGUARÃO</td>\n",
       "      <td>Pindorama</td>\n",
       "      <td>-53.368358</td>\n",
       "      <td>-32.558556</td>\n",
       "    </tr>\n",
       "    <tr>\n",
       "      <th>4</th>\n",
       "      <td>431100701A</td>\n",
       "      <td>2019-04-24</td>\n",
       "      <td>0.0</td>\n",
       "      <td>2019</td>\n",
       "      <td>RS</td>\n",
       "      <td>JAGUARÃO</td>\n",
       "      <td>Pindorama</td>\n",
       "      <td>-53.368358</td>\n",
       "      <td>-32.558556</td>\n",
       "    </tr>\n",
       "    <tr>\n",
       "      <th>...</th>\n",
       "      <td>...</td>\n",
       "      <td>...</td>\n",
       "      <td>...</td>\n",
       "      <td>...</td>\n",
       "      <td>...</td>\n",
       "      <td>...</td>\n",
       "      <td>...</td>\n",
       "      <td>...</td>\n",
       "      <td>...</td>\n",
       "    </tr>\n",
       "    <tr>\n",
       "      <th>6130838</th>\n",
       "      <td>140070401A</td>\n",
       "      <td>2018-12-11</td>\n",
       "      <td>0.0</td>\n",
       "      <td>2018</td>\n",
       "      <td>RR</td>\n",
       "      <td>UIRAMUTÃ</td>\n",
       "      <td>Centro</td>\n",
       "      <td>-60.162963</td>\n",
       "      <td>4.594482</td>\n",
       "    </tr>\n",
       "    <tr>\n",
       "      <th>6130839</th>\n",
       "      <td>140070401A</td>\n",
       "      <td>2018-12-10</td>\n",
       "      <td>0.0</td>\n",
       "      <td>2018</td>\n",
       "      <td>RR</td>\n",
       "      <td>UIRAMUTÃ</td>\n",
       "      <td>Centro</td>\n",
       "      <td>-60.162963</td>\n",
       "      <td>4.594482</td>\n",
       "    </tr>\n",
       "    <tr>\n",
       "      <th>6130840</th>\n",
       "      <td>140070401A</td>\n",
       "      <td>2018-12-09</td>\n",
       "      <td>0.0</td>\n",
       "      <td>2018</td>\n",
       "      <td>RR</td>\n",
       "      <td>UIRAMUTÃ</td>\n",
       "      <td>Centro</td>\n",
       "      <td>-60.162963</td>\n",
       "      <td>4.594482</td>\n",
       "    </tr>\n",
       "    <tr>\n",
       "      <th>6130841</th>\n",
       "      <td>140070401A</td>\n",
       "      <td>2018-12-27</td>\n",
       "      <td>0.4</td>\n",
       "      <td>2018</td>\n",
       "      <td>RR</td>\n",
       "      <td>UIRAMUTÃ</td>\n",
       "      <td>Centro</td>\n",
       "      <td>-60.162963</td>\n",
       "      <td>4.594482</td>\n",
       "    </tr>\n",
       "    <tr>\n",
       "      <th>6130842</th>\n",
       "      <td>140070401A</td>\n",
       "      <td>2019-02-11</td>\n",
       "      <td>0.0</td>\n",
       "      <td>2019</td>\n",
       "      <td>RR</td>\n",
       "      <td>UIRAMUTÃ</td>\n",
       "      <td>Centro</td>\n",
       "      <td>-60.162963</td>\n",
       "      <td>4.594482</td>\n",
       "    </tr>\n",
       "  </tbody>\n",
       "</table>\n",
       "<p>6130843 rows × 9 columns</p>\n",
       "</div>"
      ],
      "text/plain": [
       "         gauge_code   datetime  rain_mm  year state      city name_station  \\\n",
       "0        431100701A 2020-03-02      0.0  2020    RS  JAGUARÃO    Pindorama   \n",
       "1        431100701A 2019-04-27     20.8  2019    RS  JAGUARÃO    Pindorama   \n",
       "2        431100701A 2019-04-26     17.8  2019    RS  JAGUARÃO    Pindorama   \n",
       "3        431100701A 2019-04-25      0.6  2019    RS  JAGUARÃO    Pindorama   \n",
       "4        431100701A 2019-04-24      0.0  2019    RS  JAGUARÃO    Pindorama   \n",
       "...             ...        ...      ...   ...   ...       ...          ...   \n",
       "6130838  140070401A 2018-12-11      0.0  2018    RR  UIRAMUTÃ       Centro   \n",
       "6130839  140070401A 2018-12-10      0.0  2018    RR  UIRAMUTÃ       Centro   \n",
       "6130840  140070401A 2018-12-09      0.0  2018    RR  UIRAMUTÃ       Centro   \n",
       "6130841  140070401A 2018-12-27      0.4  2018    RR  UIRAMUTÃ       Centro   \n",
       "6130842  140070401A 2019-02-11      0.0  2019    RR  UIRAMUTÃ       Centro   \n",
       "\n",
       "              long        lat  \n",
       "0       -53.368358 -32.558556  \n",
       "1       -53.368358 -32.558556  \n",
       "2       -53.368358 -32.558556  \n",
       "3       -53.368358 -32.558556  \n",
       "4       -53.368358 -32.558556  \n",
       "...            ...        ...  \n",
       "6130838 -60.162963   4.594482  \n",
       "6130839 -60.162963   4.594482  \n",
       "6130840 -60.162963   4.594482  \n",
       "6130841 -60.162963   4.594482  \n",
       "6130842 -60.162963   4.594482  \n",
       "\n",
       "[6130843 rows x 9 columns]"
      ]
     },
     "execution_count": 47,
     "metadata": {},
     "output_type": "execute_result"
    }
   ],
   "source": [
    "df_complete_info = pd.merge(df_cemaden_data, df_cemaden_info, on='gauge_code', how = 'inner').sort_values('lat', ascending = True).reset_index(drop=True)   \n",
    "df_complete_info"
   ]
  },
  {
   "cell_type": "markdown",
   "id": "788ef1a4",
   "metadata": {},
   "source": [
    "# Preclassif"
   ]
  },
  {
   "cell_type": "code",
   "execution_count": 48,
   "id": "5e43f51d",
   "metadata": {},
   "outputs": [],
   "source": [
    "# Add a year column to the dataframe\n",
    "df_cemaden_data['year'] = df_cemaden_data['datetime'].dt.year\n",
    "\n",
    "# Group by gauge_code and year\n",
    "grouped = df_cemaden_data.groupby(['gauge_code', 'year'])\n",
    "\n",
    "# Calculate annual_rainfall_mm, active_days, and consecutive_dry_days\n",
    "def calculate_metrics(group):\n",
    "    annual_rainfall_mm = group['rain_mm'].sum()\n",
    "    active_days = (group['rain_mm'] >= 0.0).sum()\n",
    "    \n",
    "    # Calculate consecutive dry days\n",
    "    dry_days = (group['rain_mm'] == 0.0).astype(int)\n",
    "    # Calculate the maximum number of consecutive dry days\n",
    "    consecutive_dry_days = (dry_days.groupby((dry_days != dry_days.shift()).cumsum()).cumsum() * dry_days).max()\n",
    "    \n",
    "    return pd.Series({\n",
    "        'annual_rainfall_mm': annual_rainfall_mm,\n",
    "        'active_days': active_days,\n",
    "        'consecutive_dry_days': consecutive_dry_days\n",
    "    })"
   ]
  },
  {
   "cell_type": "code",
   "execution_count": 49,
   "id": "15c87f45",
   "metadata": {},
   "outputs": [
    {
     "name": "stderr",
     "output_type": "stream",
     "text": [
      "C:\\Users\\linde\\AppData\\Local\\Temp\\ipykernel_17352\\3678795309.py:1: DeprecationWarning: DataFrameGroupBy.apply operated on the grouping columns. This behavior is deprecated, and in a future version of pandas the grouping columns will be excluded from the operation. Either pass `include_groups=False` to exclude the groupings or explicitly select the grouping columns after groupby to silence this warning.\n",
      "  df_preclassif = grouped.apply(calculate_metrics).reset_index()\n"
     ]
    },
    {
     "data": {
      "application/vnd.microsoft.datawrangler.viewer.v0+json": {
       "columns": [
        {
         "name": "index",
         "rawType": "int64",
         "type": "integer"
        },
        {
         "name": "gauge_code",
         "rawType": "object",
         "type": "string"
        },
        {
         "name": "year",
         "rawType": "int32",
         "type": "integer"
        },
        {
         "name": "annual_rainfall_mm",
         "rawType": "float64",
         "type": "float"
        },
        {
         "name": "active_days",
         "rawType": "float64",
         "type": "float"
        },
        {
         "name": "consecutive_dry_days",
         "rawType": "float64",
         "type": "float"
        },
        {
         "name": "preclassif",
         "rawType": "object",
         "type": "string"
        }
       ],
       "conversionMethod": "pd.DataFrame",
       "ref": "71721bc4-a9a7-48de-872f-c10de42d943f",
       "rows": [
        [
         "0",
         "110018901A",
         "2018",
         "969.74",
         "136.0",
         "21.0",
         ""
        ],
        [
         "1",
         "110018901A",
         "2019",
         "1786.23",
         "346.0",
         "49.0",
         ""
        ],
        [
         "2",
         "110018901A",
         "2020",
         "347.27",
         "38.0",
         "4.0",
         ""
        ],
        [
         "3",
         "110020501A",
         "2014",
         "108.27040860700001",
         "16.0",
         "2.0",
         "LQ"
        ],
        [
         "4",
         "110020501A",
         "2017",
         "138.45999999999998",
         "6.0",
         "0.0",
         "LQ"
        ],
        [
         "5",
         "110020501A",
         "2020",
         "932.92",
         "144.0",
         "9.0",
         ""
        ],
        [
         "6",
         "110020502A",
         "2014",
         "1469.6512260700001",
         "262.0",
         "36.0",
         ""
        ],
        [
         "7",
         "110020502A",
         "2015",
         "2.4",
         "9.0",
         "0.0",
         "LQ"
        ],
        [
         "8",
         "110020502A",
         "2016",
         "97.2",
         "96.0",
         "3.0",
         "LQ"
        ],
        [
         "9",
         "110020502A",
         "2017",
         "4.120000000000001",
         "6.0",
         "2.0",
         "LQ"
        ],
        [
         "10",
         "110020502A",
         "2020",
         "769.8400000000001",
         "114.0",
         "9.0",
         ""
        ],
        [
         "11",
         "120010401A",
         "2018",
         "879.2000000000002",
         "140.0",
         "10.0",
         ""
        ],
        [
         "12",
         "120010401A",
         "2019",
         "2179.4",
         "355.0",
         "30.0",
         ""
        ],
        [
         "13",
         "120010401A",
         "2020",
         "810.5999999999999",
         "366.0",
         "265.0",
         "LQ"
        ],
        [
         "14",
         "120032801A",
         "2018",
         "945.0",
         "138.0",
         "12.0",
         ""
        ],
        [
         "15",
         "120032801A",
         "2019",
         "2099.3999999999996",
         "263.0",
         "21.0",
         ""
        ],
        [
         "16",
         "120032801A",
         "2020",
         "1934.8000000000002",
         "198.0",
         "23.0",
         ""
        ],
        [
         "17",
         "120040101A",
         "2014",
         "606.871313889",
         "334.0",
         "65.0",
         ""
        ],
        [
         "18",
         "120040101A",
         "2015",
         "63.95",
         "343.0",
         "78.0",
         "LQ"
        ],
        [
         "19",
         "120040101A",
         "2016",
         "4.6000000000000005",
         "342.0",
         "188.0",
         "LQ"
        ],
        [
         "20",
         "120040101A",
         "2017",
         "88.96",
         "1.0",
         "0.0",
         "LQ"
        ],
        [
         "21",
         "120040101A",
         "2020",
         "532.32",
         "143.0",
         "10.0",
         ""
        ],
        [
         "22",
         "120040101H",
         "2016",
         "407.99999999999994",
         "52.0",
         "4.0",
         ""
        ],
        [
         "23",
         "120040101H",
         "2017",
         "1311.0",
         "140.0",
         "9.0",
         ""
        ],
        [
         "24",
         "120040101H",
         "2020",
         "0.2",
         "1.0",
         "0.0",
         "LQ"
        ],
        [
         "25",
         "120040102A",
         "2014",
         "749.8101148630001",
         "76.0",
         "6.0",
         ""
        ],
        [
         "26",
         "120040102A",
         "2020",
         "380.53999999999996",
         "79.0",
         "4.0",
         ""
        ],
        [
         "27",
         "120040102H",
         "2016",
         "428.8",
         "54.0",
         "3.0",
         ""
        ],
        [
         "28",
         "120040102H",
         "2017",
         "147.20000000000002",
         "11.0",
         "1.0",
         "LQ"
        ],
        [
         "29",
         "120070801A",
         "2018",
         "570.4",
         "140.0",
         "10.0",
         ""
        ],
        [
         "30",
         "120070801A",
         "2019",
         "2386.4",
         "355.0",
         "29.0",
         ""
        ],
        [
         "31",
         "120070801A",
         "2020",
         "1918.1999999999998",
         "366.0",
         "24.0",
         ""
        ],
        [
         "32",
         "130002901A",
         "2018",
         "430.20000000000005",
         "49.0",
         "1.0",
         ""
        ],
        [
         "33",
         "130002901A",
         "2019",
         "69.2",
         "7.0",
         "1.0",
         "LQ"
        ],
        [
         "34",
         "130002901A",
         "2020",
         "110.80000000000001",
         "9.0",
         "3.0",
         "LQ"
        ],
        [
         "35",
         "130006001A",
         "2018",
         "565.4000000000001",
         "54.0",
         "2.0",
         ""
        ],
        [
         "36",
         "130006001A",
         "2019",
         "3089.4",
         "361.0",
         "12.0",
         ""
        ],
        [
         "37",
         "130006001A",
         "2020",
         "2550.0",
         "366.0",
         "8.0",
         ""
        ],
        [
         "38",
         "130008601A",
         "2018",
         "190.83",
         "24.0",
         "2.0",
         "LQ"
        ],
        [
         "39",
         "130008601A",
         "2019",
         "1928.4",
         "324.0",
         "10.0",
         ""
        ],
        [
         "40",
         "130008601A",
         "2020",
         "231.38",
         "97.0",
         "8.0",
         "LQ"
        ],
        [
         "41",
         "130010201A",
         "2018",
         "167.4",
         "24.0",
         "2.0",
         "LQ"
        ],
        [
         "42",
         "130010201A",
         "2019",
         "2391.8",
         "342.0",
         "8.0",
         ""
        ],
        [
         "43",
         "130010201A",
         "2020",
         "59.00000000000001",
         "16.0",
         "5.0",
         "LQ"
        ],
        [
         "44",
         "130014401A",
         "2018",
         "1232.1100000000001",
         "140.0",
         "8.0",
         ""
        ],
        [
         "45",
         "130014401A",
         "2019",
         "2559.4700000000003",
         "325.0",
         "15.0",
         ""
        ],
        [
         "46",
         "130014401A",
         "2020",
         "261.34",
         "27.0",
         "1.0",
         "LQ"
        ],
        [
         "47",
         "130020101A",
         "2018",
         "735.8",
         "55.0",
         "3.0",
         ""
        ],
        [
         "48",
         "130020101A",
         "2019",
         "2363.4",
         "293.0",
         "6.0",
         ""
        ],
        [
         "49",
         "130020101A",
         "2020",
         "37.0",
         "11.0",
         "3.0",
         "LQ"
        ]
       ],
       "shape": {
        "columns": 6,
        "rows": 22773
       }
      },
      "text/html": [
       "<div>\n",
       "<style scoped>\n",
       "    .dataframe tbody tr th:only-of-type {\n",
       "        vertical-align: middle;\n",
       "    }\n",
       "\n",
       "    .dataframe tbody tr th {\n",
       "        vertical-align: top;\n",
       "    }\n",
       "\n",
       "    .dataframe thead th {\n",
       "        text-align: right;\n",
       "    }\n",
       "</style>\n",
       "<table border=\"1\" class=\"dataframe\">\n",
       "  <thead>\n",
       "    <tr style=\"text-align: right;\">\n",
       "      <th></th>\n",
       "      <th>gauge_code</th>\n",
       "      <th>year</th>\n",
       "      <th>annual_rainfall_mm</th>\n",
       "      <th>active_days</th>\n",
       "      <th>consecutive_dry_days</th>\n",
       "      <th>preclassif</th>\n",
       "    </tr>\n",
       "  </thead>\n",
       "  <tbody>\n",
       "    <tr>\n",
       "      <th>0</th>\n",
       "      <td>110018901A</td>\n",
       "      <td>2018</td>\n",
       "      <td>969.740000</td>\n",
       "      <td>136.0</td>\n",
       "      <td>21.0</td>\n",
       "      <td></td>\n",
       "    </tr>\n",
       "    <tr>\n",
       "      <th>1</th>\n",
       "      <td>110018901A</td>\n",
       "      <td>2019</td>\n",
       "      <td>1786.230000</td>\n",
       "      <td>346.0</td>\n",
       "      <td>49.0</td>\n",
       "      <td></td>\n",
       "    </tr>\n",
       "    <tr>\n",
       "      <th>2</th>\n",
       "      <td>110018901A</td>\n",
       "      <td>2020</td>\n",
       "      <td>347.270000</td>\n",
       "      <td>38.0</td>\n",
       "      <td>4.0</td>\n",
       "      <td></td>\n",
       "    </tr>\n",
       "    <tr>\n",
       "      <th>3</th>\n",
       "      <td>110020501A</td>\n",
       "      <td>2014</td>\n",
       "      <td>108.270409</td>\n",
       "      <td>16.0</td>\n",
       "      <td>2.0</td>\n",
       "      <td>LQ</td>\n",
       "    </tr>\n",
       "    <tr>\n",
       "      <th>4</th>\n",
       "      <td>110020501A</td>\n",
       "      <td>2017</td>\n",
       "      <td>138.460000</td>\n",
       "      <td>6.0</td>\n",
       "      <td>0.0</td>\n",
       "      <td>LQ</td>\n",
       "    </tr>\n",
       "    <tr>\n",
       "      <th>...</th>\n",
       "      <td>...</td>\n",
       "      <td>...</td>\n",
       "      <td>...</td>\n",
       "      <td>...</td>\n",
       "      <td>...</td>\n",
       "      <td>...</td>\n",
       "    </tr>\n",
       "    <tr>\n",
       "      <th>22768</th>\n",
       "      <td>CEMADEN_12</td>\n",
       "      <td>2019</td>\n",
       "      <td>598.120000</td>\n",
       "      <td>90.0</td>\n",
       "      <td>5.0</td>\n",
       "      <td></td>\n",
       "    </tr>\n",
       "    <tr>\n",
       "      <th>22769</th>\n",
       "      <td>CEMADEN_12</td>\n",
       "      <td>2020</td>\n",
       "      <td>398.050000</td>\n",
       "      <td>31.0</td>\n",
       "      <td>1.0</td>\n",
       "      <td></td>\n",
       "    </tr>\n",
       "    <tr>\n",
       "      <th>22770</th>\n",
       "      <td>CEMADEN_13</td>\n",
       "      <td>2019</td>\n",
       "      <td>51.800000</td>\n",
       "      <td>23.0</td>\n",
       "      <td>7.0</td>\n",
       "      <td>LQ</td>\n",
       "    </tr>\n",
       "    <tr>\n",
       "      <th>22771</th>\n",
       "      <td>CEMADEN_14</td>\n",
       "      <td>2018</td>\n",
       "      <td>436.400000</td>\n",
       "      <td>92.0</td>\n",
       "      <td>3.0</td>\n",
       "      <td></td>\n",
       "    </tr>\n",
       "    <tr>\n",
       "      <th>22772</th>\n",
       "      <td>CEMADEN_14</td>\n",
       "      <td>2019</td>\n",
       "      <td>613.800000</td>\n",
       "      <td>120.0</td>\n",
       "      <td>10.0</td>\n",
       "      <td></td>\n",
       "    </tr>\n",
       "  </tbody>\n",
       "</table>\n",
       "<p>22773 rows × 6 columns</p>\n",
       "</div>"
      ],
      "text/plain": [
       "       gauge_code  year  annual_rainfall_mm  active_days  \\\n",
       "0      110018901A  2018          969.740000        136.0   \n",
       "1      110018901A  2019         1786.230000        346.0   \n",
       "2      110018901A  2020          347.270000         38.0   \n",
       "3      110020501A  2014          108.270409         16.0   \n",
       "4      110020501A  2017          138.460000          6.0   \n",
       "...           ...   ...                 ...          ...   \n",
       "22768  CEMADEN_12  2019          598.120000         90.0   \n",
       "22769  CEMADEN_12  2020          398.050000         31.0   \n",
       "22770  CEMADEN_13  2019           51.800000         23.0   \n",
       "22771  CEMADEN_14  2018          436.400000         92.0   \n",
       "22772  CEMADEN_14  2019          613.800000        120.0   \n",
       "\n",
       "       consecutive_dry_days preclassif  \n",
       "0                      21.0             \n",
       "1                      49.0             \n",
       "2                       4.0             \n",
       "3                       2.0         LQ  \n",
       "4                       0.0         LQ  \n",
       "...                     ...        ...  \n",
       "22768                   5.0             \n",
       "22769                   1.0             \n",
       "22770                   7.0         LQ  \n",
       "22771                   3.0             \n",
       "22772                  10.0             \n",
       "\n",
       "[22773 rows x 6 columns]"
      ]
     },
     "execution_count": 49,
     "metadata": {},
     "output_type": "execute_result"
    }
   ],
   "source": [
    "df_preclassif = grouped.apply(calculate_metrics).reset_index()\n",
    "df_preclassif['preclassif'] = df_preclassif.apply(\n",
    "    lambda row: 'LQ' if (row['annual_rainfall_mm'] < 300 or row['annual_rainfall_mm'] > 6000\n",
    "                        #  or row['active_days'] < 305\n",
    "                         or row['consecutive_dry_days'] > 200) else \"\", axis=1)\n",
    "df_preclassif"
   ]
  },
  {
   "cell_type": "code",
   "execution_count": 50,
   "id": "6d0c0a72",
   "metadata": {},
   "outputs": [
    {
     "name": "stdout",
     "output_type": "stream",
     "text": [
      "preclassif\n",
      "      18548\n",
      "LQ     4225\n",
      "Name: count, dtype: int64\n"
     ]
    }
   ],
   "source": [
    "preclassif_counts = df_preclassif['preclassif'].value_counts()\n",
    "print(preclassif_counts)"
   ]
  },
  {
   "cell_type": "code",
   "execution_count": 51,
   "id": "bd7dad9b",
   "metadata": {},
   "outputs": [
    {
     "data": {
      "text/plain": [
       "0.18552672023887937"
      ]
     },
     "execution_count": 51,
     "metadata": {},
     "output_type": "execute_result"
    }
   ],
   "source": [
    "preclassif_counts['LQ'] / preclassif_counts.sum()"
   ]
  },
  {
   "cell_type": "code",
   "execution_count": 52,
   "id": "134ff24c",
   "metadata": {},
   "outputs": [
    {
     "data": {
      "application/vnd.microsoft.datawrangler.viewer.v0+json": {
       "columns": [
        {
         "name": "index",
         "rawType": "int64",
         "type": "integer"
        },
        {
         "name": "gauge_code",
         "rawType": "object",
         "type": "string"
        },
        {
         "name": "year",
         "rawType": "int32",
         "type": "integer"
        },
        {
         "name": "annual_rainfall_mm",
         "rawType": "float64",
         "type": "float"
        },
        {
         "name": "active_days",
         "rawType": "float64",
         "type": "float"
        },
        {
         "name": "consecutive_dry_days",
         "rawType": "float64",
         "type": "float"
        },
        {
         "name": "preclassif",
         "rawType": "object",
         "type": "string"
        }
       ],
       "conversionMethod": "pd.DataFrame",
       "ref": "aa82d046-82f5-48c3-9091-79b780e80c1d",
       "rows": [
        [
         "0",
         "110018901A",
         "2018",
         "969.74",
         "136.0",
         "21.0",
         ""
        ],
        [
         "1",
         "110018901A",
         "2019",
         "1786.23",
         "346.0",
         "49.0",
         ""
        ],
        [
         "2",
         "110018901A",
         "2020",
         "347.27",
         "38.0",
         "4.0",
         ""
        ],
        [
         "3",
         "110020501A",
         "2014",
         "108.27040860700001",
         "16.0",
         "2.0",
         "LQ"
        ],
        [
         "4",
         "110020501A",
         "2017",
         "138.45999999999998",
         "6.0",
         "0.0",
         "LQ"
        ],
        [
         "5",
         "110020501A",
         "2020",
         "932.92",
         "144.0",
         "9.0",
         ""
        ],
        [
         "6",
         "110020502A",
         "2014",
         "1469.6512260700001",
         "262.0",
         "36.0",
         ""
        ],
        [
         "7",
         "110020502A",
         "2015",
         "2.4",
         "9.0",
         "0.0",
         "LQ"
        ],
        [
         "8",
         "110020502A",
         "2016",
         "97.2",
         "96.0",
         "3.0",
         "LQ"
        ],
        [
         "9",
         "110020502A",
         "2017",
         "4.120000000000001",
         "6.0",
         "2.0",
         "LQ"
        ],
        [
         "10",
         "110020502A",
         "2020",
         "769.8400000000001",
         "114.0",
         "9.0",
         ""
        ],
        [
         "11",
         "120010401A",
         "2018",
         "879.2000000000002",
         "140.0",
         "10.0",
         ""
        ],
        [
         "12",
         "120010401A",
         "2019",
         "2179.4",
         "355.0",
         "30.0",
         ""
        ],
        [
         "13",
         "120010401A",
         "2020",
         "810.5999999999999",
         "366.0",
         "265.0",
         "LQ"
        ],
        [
         "14",
         "120032801A",
         "2018",
         "945.0",
         "138.0",
         "12.0",
         ""
        ],
        [
         "15",
         "120032801A",
         "2019",
         "2099.3999999999996",
         "263.0",
         "21.0",
         ""
        ],
        [
         "16",
         "120032801A",
         "2020",
         "1934.8000000000002",
         "198.0",
         "23.0",
         ""
        ],
        [
         "17",
         "120040101A",
         "2014",
         "606.871313889",
         "334.0",
         "65.0",
         ""
        ],
        [
         "18",
         "120040101A",
         "2015",
         "63.95",
         "343.0",
         "78.0",
         "LQ"
        ],
        [
         "19",
         "120040101A",
         "2016",
         "4.6000000000000005",
         "342.0",
         "188.0",
         "LQ"
        ],
        [
         "20",
         "120040101A",
         "2017",
         "88.96",
         "1.0",
         "0.0",
         "LQ"
        ],
        [
         "21",
         "120040101A",
         "2020",
         "532.32",
         "143.0",
         "10.0",
         ""
        ],
        [
         "22",
         "120040101H",
         "2016",
         "407.99999999999994",
         "52.0",
         "4.0",
         ""
        ],
        [
         "23",
         "120040101H",
         "2017",
         "1311.0",
         "140.0",
         "9.0",
         ""
        ],
        [
         "24",
         "120040101H",
         "2020",
         "0.2",
         "1.0",
         "0.0",
         "LQ"
        ],
        [
         "25",
         "120040102A",
         "2014",
         "749.8101148630001",
         "76.0",
         "6.0",
         ""
        ],
        [
         "26",
         "120040102A",
         "2020",
         "380.53999999999996",
         "79.0",
         "4.0",
         ""
        ],
        [
         "27",
         "120040102H",
         "2016",
         "428.8",
         "54.0",
         "3.0",
         ""
        ],
        [
         "28",
         "120040102H",
         "2017",
         "147.20000000000002",
         "11.0",
         "1.0",
         "LQ"
        ],
        [
         "29",
         "120070801A",
         "2018",
         "570.4",
         "140.0",
         "10.0",
         ""
        ],
        [
         "30",
         "120070801A",
         "2019",
         "2386.4",
         "355.0",
         "29.0",
         ""
        ],
        [
         "31",
         "120070801A",
         "2020",
         "1918.1999999999998",
         "366.0",
         "24.0",
         ""
        ],
        [
         "32",
         "130002901A",
         "2018",
         "430.20000000000005",
         "49.0",
         "1.0",
         ""
        ],
        [
         "33",
         "130002901A",
         "2019",
         "69.2",
         "7.0",
         "1.0",
         "LQ"
        ],
        [
         "34",
         "130002901A",
         "2020",
         "110.80000000000001",
         "9.0",
         "3.0",
         "LQ"
        ],
        [
         "35",
         "130006001A",
         "2018",
         "565.4000000000001",
         "54.0",
         "2.0",
         ""
        ],
        [
         "36",
         "130006001A",
         "2019",
         "3089.4",
         "361.0",
         "12.0",
         ""
        ],
        [
         "37",
         "130006001A",
         "2020",
         "2550.0",
         "366.0",
         "8.0",
         ""
        ],
        [
         "38",
         "130008601A",
         "2018",
         "190.83",
         "24.0",
         "2.0",
         "LQ"
        ],
        [
         "39",
         "130008601A",
         "2019",
         "1928.4",
         "324.0",
         "10.0",
         ""
        ],
        [
         "40",
         "130008601A",
         "2020",
         "231.38",
         "97.0",
         "8.0",
         "LQ"
        ],
        [
         "41",
         "130010201A",
         "2018",
         "167.4",
         "24.0",
         "2.0",
         "LQ"
        ],
        [
         "42",
         "130010201A",
         "2019",
         "2391.8",
         "342.0",
         "8.0",
         ""
        ],
        [
         "43",
         "130010201A",
         "2020",
         "59.00000000000001",
         "16.0",
         "5.0",
         "LQ"
        ],
        [
         "44",
         "130014401A",
         "2018",
         "1232.1100000000001",
         "140.0",
         "8.0",
         ""
        ],
        [
         "45",
         "130014401A",
         "2019",
         "2559.4700000000003",
         "325.0",
         "15.0",
         ""
        ],
        [
         "46",
         "130014401A",
         "2020",
         "261.34",
         "27.0",
         "1.0",
         "LQ"
        ],
        [
         "47",
         "130020101A",
         "2018",
         "735.8",
         "55.0",
         "3.0",
         ""
        ],
        [
         "48",
         "130020101A",
         "2019",
         "2363.4",
         "293.0",
         "6.0",
         ""
        ],
        [
         "49",
         "130020101A",
         "2020",
         "37.0",
         "11.0",
         "3.0",
         "LQ"
        ]
       ],
       "shape": {
        "columns": 6,
        "rows": 22773
       }
      },
      "text/html": [
       "<div>\n",
       "<style scoped>\n",
       "    .dataframe tbody tr th:only-of-type {\n",
       "        vertical-align: middle;\n",
       "    }\n",
       "\n",
       "    .dataframe tbody tr th {\n",
       "        vertical-align: top;\n",
       "    }\n",
       "\n",
       "    .dataframe thead th {\n",
       "        text-align: right;\n",
       "    }\n",
       "</style>\n",
       "<table border=\"1\" class=\"dataframe\">\n",
       "  <thead>\n",
       "    <tr style=\"text-align: right;\">\n",
       "      <th></th>\n",
       "      <th>gauge_code</th>\n",
       "      <th>year</th>\n",
       "      <th>annual_rainfall_mm</th>\n",
       "      <th>active_days</th>\n",
       "      <th>consecutive_dry_days</th>\n",
       "      <th>preclassif</th>\n",
       "    </tr>\n",
       "  </thead>\n",
       "  <tbody>\n",
       "    <tr>\n",
       "      <th>0</th>\n",
       "      <td>110018901A</td>\n",
       "      <td>2018</td>\n",
       "      <td>969.740000</td>\n",
       "      <td>136.0</td>\n",
       "      <td>21.0</td>\n",
       "      <td></td>\n",
       "    </tr>\n",
       "    <tr>\n",
       "      <th>1</th>\n",
       "      <td>110018901A</td>\n",
       "      <td>2019</td>\n",
       "      <td>1786.230000</td>\n",
       "      <td>346.0</td>\n",
       "      <td>49.0</td>\n",
       "      <td></td>\n",
       "    </tr>\n",
       "    <tr>\n",
       "      <th>2</th>\n",
       "      <td>110018901A</td>\n",
       "      <td>2020</td>\n",
       "      <td>347.270000</td>\n",
       "      <td>38.0</td>\n",
       "      <td>4.0</td>\n",
       "      <td></td>\n",
       "    </tr>\n",
       "    <tr>\n",
       "      <th>3</th>\n",
       "      <td>110020501A</td>\n",
       "      <td>2014</td>\n",
       "      <td>108.270409</td>\n",
       "      <td>16.0</td>\n",
       "      <td>2.0</td>\n",
       "      <td>LQ</td>\n",
       "    </tr>\n",
       "    <tr>\n",
       "      <th>4</th>\n",
       "      <td>110020501A</td>\n",
       "      <td>2017</td>\n",
       "      <td>138.460000</td>\n",
       "      <td>6.0</td>\n",
       "      <td>0.0</td>\n",
       "      <td>LQ</td>\n",
       "    </tr>\n",
       "    <tr>\n",
       "      <th>...</th>\n",
       "      <td>...</td>\n",
       "      <td>...</td>\n",
       "      <td>...</td>\n",
       "      <td>...</td>\n",
       "      <td>...</td>\n",
       "      <td>...</td>\n",
       "    </tr>\n",
       "    <tr>\n",
       "      <th>22768</th>\n",
       "      <td>CEMADEN_12</td>\n",
       "      <td>2019</td>\n",
       "      <td>598.120000</td>\n",
       "      <td>90.0</td>\n",
       "      <td>5.0</td>\n",
       "      <td></td>\n",
       "    </tr>\n",
       "    <tr>\n",
       "      <th>22769</th>\n",
       "      <td>CEMADEN_12</td>\n",
       "      <td>2020</td>\n",
       "      <td>398.050000</td>\n",
       "      <td>31.0</td>\n",
       "      <td>1.0</td>\n",
       "      <td></td>\n",
       "    </tr>\n",
       "    <tr>\n",
       "      <th>22770</th>\n",
       "      <td>CEMADEN_13</td>\n",
       "      <td>2019</td>\n",
       "      <td>51.800000</td>\n",
       "      <td>23.0</td>\n",
       "      <td>7.0</td>\n",
       "      <td>LQ</td>\n",
       "    </tr>\n",
       "    <tr>\n",
       "      <th>22771</th>\n",
       "      <td>CEMADEN_14</td>\n",
       "      <td>2018</td>\n",
       "      <td>436.400000</td>\n",
       "      <td>92.0</td>\n",
       "      <td>3.0</td>\n",
       "      <td></td>\n",
       "    </tr>\n",
       "    <tr>\n",
       "      <th>22772</th>\n",
       "      <td>CEMADEN_14</td>\n",
       "      <td>2019</td>\n",
       "      <td>613.800000</td>\n",
       "      <td>120.0</td>\n",
       "      <td>10.0</td>\n",
       "      <td></td>\n",
       "    </tr>\n",
       "  </tbody>\n",
       "</table>\n",
       "<p>22773 rows × 6 columns</p>\n",
       "</div>"
      ],
      "text/plain": [
       "       gauge_code  year  annual_rainfall_mm  active_days  \\\n",
       "0      110018901A  2018          969.740000        136.0   \n",
       "1      110018901A  2019         1786.230000        346.0   \n",
       "2      110018901A  2020          347.270000         38.0   \n",
       "3      110020501A  2014          108.270409         16.0   \n",
       "4      110020501A  2017          138.460000          6.0   \n",
       "...           ...   ...                 ...          ...   \n",
       "22768  CEMADEN_12  2019          598.120000         90.0   \n",
       "22769  CEMADEN_12  2020          398.050000         31.0   \n",
       "22770  CEMADEN_13  2019           51.800000         23.0   \n",
       "22771  CEMADEN_14  2018          436.400000         92.0   \n",
       "22772  CEMADEN_14  2019          613.800000        120.0   \n",
       "\n",
       "       consecutive_dry_days preclassif  \n",
       "0                      21.0             \n",
       "1                      49.0             \n",
       "2                       4.0             \n",
       "3                       2.0         LQ  \n",
       "4                       0.0         LQ  \n",
       "...                     ...        ...  \n",
       "22768                   5.0             \n",
       "22769                   1.0             \n",
       "22770                   7.0         LQ  \n",
       "22771                   3.0             \n",
       "22772                  10.0             \n",
       "\n",
       "[22773 rows x 6 columns]"
      ]
     },
     "execution_count": 52,
     "metadata": {},
     "output_type": "execute_result"
    }
   ],
   "source": [
    "df_preclassif.to_hdf(cemaden_path, key='table_preclassif', mode='r+', complevel=9, format='table', append=False, index=False)\n",
    "df_preclassif"
   ]
  },
  {
   "cell_type": "markdown",
   "id": "25eaaa81",
   "metadata": {},
   "source": [
    "# Outlier treatment"
   ]
  },
  {
   "cell_type": "code",
   "execution_count": 53,
   "id": "3f48f24a",
   "metadata": {},
   "outputs": [
    {
     "data": {
      "application/vnd.microsoft.datawrangler.viewer.v0+json": {
       "columns": [
        {
         "name": "index",
         "rawType": "int64",
         "type": "integer"
        },
        {
         "name": "gauge_code",
         "rawType": "object",
         "type": "string"
        },
        {
         "name": "datetime",
         "rawType": "datetime64[ns]",
         "type": "datetime"
        },
        {
         "name": "rain_mm",
         "rawType": "float64",
         "type": "float"
        }
       ],
       "conversionMethod": "pd.DataFrame",
       "ref": "741ba2fa-aa80-405b-8984-0a70704a51a4",
       "rows": [
        [
         "0",
         "431100701A",
         "2020-03-02 00:00:00",
         "0.0"
        ],
        [
         "1",
         "431100701A",
         "2019-04-27 00:00:00",
         "20.8"
        ],
        [
         "2",
         "431100701A",
         "2019-04-26 00:00:00",
         "17.8"
        ],
        [
         "3",
         "431100701A",
         "2019-04-25 00:00:00",
         "0.6000000000000001"
        ],
        [
         "4",
         "431100701A",
         "2019-04-24 00:00:00",
         "0.0"
        ],
        [
         "5",
         "431100701A",
         "2019-04-23 00:00:00",
         "0.0"
        ],
        [
         "6",
         "431100701A",
         "2019-04-22 00:00:00",
         "0.0"
        ],
        [
         "7",
         "431100701A",
         "2019-04-21 00:00:00",
         "0.0"
        ],
        [
         "8",
         "431100701A",
         "2019-04-19 00:00:00",
         "0.0"
        ],
        [
         "9",
         "431100701A",
         "2019-04-18 00:00:00",
         "0.0"
        ],
        [
         "10",
         "431100701A",
         "2019-04-17 00:00:00",
         "0.0"
        ],
        [
         "11",
         "431100701A",
         "2019-04-16 00:00:00",
         "8.4"
        ],
        [
         "12",
         "431100701A",
         "2019-04-28 00:00:00",
         "0.0"
        ],
        [
         "13",
         "431100701A",
         "2019-04-15 00:00:00",
         "27.2"
        ],
        [
         "14",
         "431100701A",
         "2019-04-13 00:00:00",
         "0.0"
        ],
        [
         "15",
         "431100701A",
         "2019-04-12 00:00:00",
         "0.0"
        ],
        [
         "16",
         "431100701A",
         "2019-04-11 00:00:00",
         "0.0"
        ],
        [
         "17",
         "431100701A",
         "2019-04-10 00:00:00",
         "0.0"
        ],
        [
         "18",
         "431100701A",
         "2019-04-09 00:00:00",
         "0.0"
        ],
        [
         "19",
         "431100701A",
         "2019-04-08 00:00:00",
         "0.0"
        ],
        [
         "20",
         "431100701A",
         "2019-04-07 00:00:00",
         "0.0"
        ],
        [
         "21",
         "431100701A",
         "2019-04-06 00:00:00",
         "0.0"
        ],
        [
         "22",
         "431100701A",
         "2019-04-05 00:00:00",
         "2.8000000000000003"
        ],
        [
         "23",
         "431100701A",
         "2019-04-04 00:00:00",
         "4.6"
        ],
        [
         "24",
         "431100701A",
         "2019-04-03 00:00:00",
         "5.3999999999999995"
        ],
        [
         "25",
         "431100701A",
         "2019-04-14 00:00:00",
         "0.0"
        ],
        [
         "26",
         "431100701A",
         "2019-04-29 00:00:00",
         "0.0"
        ],
        [
         "27",
         "431100701A",
         "2019-04-30 00:00:00",
         "0.0"
        ],
        [
         "28",
         "431100701A",
         "2019-05-01 00:00:00",
         "0.0"
        ],
        [
         "29",
         "431100701A",
         "2019-05-26 00:00:00",
         "0.0"
        ],
        [
         "30",
         "431100701A",
         "2019-05-25 00:00:00",
         "0.0"
        ],
        [
         "31",
         "431100701A",
         "2019-05-24 00:00:00",
         "0.0"
        ],
        [
         "32",
         "431100701A",
         "2019-05-23 00:00:00",
         "0.0"
        ],
        [
         "33",
         "431100701A",
         "2019-05-22 00:00:00",
         "1.0"
        ],
        [
         "34",
         "431100701A",
         "2019-05-21 00:00:00",
         "17.0"
        ],
        [
         "35",
         "431100701A",
         "2019-05-20 00:00:00",
         "2.0"
        ],
        [
         "36",
         "431100701A",
         "2019-05-19 00:00:00",
         "0.0"
        ],
        [
         "37",
         "431100701A",
         "2019-05-18 00:00:00",
         "0.0"
        ],
        [
         "38",
         "431100701A",
         "2019-05-17 00:00:00",
         "0.0"
        ],
        [
         "39",
         "431100701A",
         "2019-05-16 00:00:00",
         "0.2"
        ],
        [
         "40",
         "431100701A",
         "2019-05-15 00:00:00",
         "0.0"
        ],
        [
         "41",
         "431100701A",
         "2019-05-14 00:00:00",
         "0.6000000000000001"
        ],
        [
         "42",
         "431100701A",
         "2019-05-13 00:00:00",
         "1.8"
        ],
        [
         "43",
         "431100701A",
         "2019-05-12 00:00:00",
         "0.2"
        ],
        [
         "44",
         "431100701A",
         "2019-05-11 00:00:00",
         "0.2"
        ],
        [
         "45",
         "431100701A",
         "2019-05-10 00:00:00",
         "1.2000000000000002"
        ],
        [
         "46",
         "431100701A",
         "2019-05-09 00:00:00",
         "0.0"
        ],
        [
         "47",
         "431100701A",
         "2019-05-08 00:00:00",
         "0.0"
        ],
        [
         "48",
         "431100701A",
         "2019-05-07 00:00:00",
         "0.0"
        ],
        [
         "49",
         "431100701A",
         "2019-05-06 00:00:00",
         "2.8"
        ]
       ],
       "shape": {
        "columns": 3,
        "rows": 6130843
       }
      },
      "text/html": [
       "<div>\n",
       "<style scoped>\n",
       "    .dataframe tbody tr th:only-of-type {\n",
       "        vertical-align: middle;\n",
       "    }\n",
       "\n",
       "    .dataframe tbody tr th {\n",
       "        vertical-align: top;\n",
       "    }\n",
       "\n",
       "    .dataframe thead th {\n",
       "        text-align: right;\n",
       "    }\n",
       "</style>\n",
       "<table border=\"1\" class=\"dataframe\">\n",
       "  <thead>\n",
       "    <tr style=\"text-align: right;\">\n",
       "      <th></th>\n",
       "      <th>gauge_code</th>\n",
       "      <th>datetime</th>\n",
       "      <th>rain_mm</th>\n",
       "    </tr>\n",
       "  </thead>\n",
       "  <tbody>\n",
       "    <tr>\n",
       "      <th>0</th>\n",
       "      <td>431100701A</td>\n",
       "      <td>2020-03-02</td>\n",
       "      <td>0.0</td>\n",
       "    </tr>\n",
       "    <tr>\n",
       "      <th>1</th>\n",
       "      <td>431100701A</td>\n",
       "      <td>2019-04-27</td>\n",
       "      <td>20.8</td>\n",
       "    </tr>\n",
       "    <tr>\n",
       "      <th>2</th>\n",
       "      <td>431100701A</td>\n",
       "      <td>2019-04-26</td>\n",
       "      <td>17.8</td>\n",
       "    </tr>\n",
       "    <tr>\n",
       "      <th>3</th>\n",
       "      <td>431100701A</td>\n",
       "      <td>2019-04-25</td>\n",
       "      <td>0.6</td>\n",
       "    </tr>\n",
       "    <tr>\n",
       "      <th>4</th>\n",
       "      <td>431100701A</td>\n",
       "      <td>2019-04-24</td>\n",
       "      <td>0.0</td>\n",
       "    </tr>\n",
       "    <tr>\n",
       "      <th>...</th>\n",
       "      <td>...</td>\n",
       "      <td>...</td>\n",
       "      <td>...</td>\n",
       "    </tr>\n",
       "    <tr>\n",
       "      <th>6130838</th>\n",
       "      <td>140070401A</td>\n",
       "      <td>2018-12-11</td>\n",
       "      <td>0.0</td>\n",
       "    </tr>\n",
       "    <tr>\n",
       "      <th>6130839</th>\n",
       "      <td>140070401A</td>\n",
       "      <td>2018-12-10</td>\n",
       "      <td>0.0</td>\n",
       "    </tr>\n",
       "    <tr>\n",
       "      <th>6130840</th>\n",
       "      <td>140070401A</td>\n",
       "      <td>2018-12-09</td>\n",
       "      <td>0.0</td>\n",
       "    </tr>\n",
       "    <tr>\n",
       "      <th>6130841</th>\n",
       "      <td>140070401A</td>\n",
       "      <td>2018-12-27</td>\n",
       "      <td>0.4</td>\n",
       "    </tr>\n",
       "    <tr>\n",
       "      <th>6130842</th>\n",
       "      <td>140070401A</td>\n",
       "      <td>2019-02-11</td>\n",
       "      <td>0.0</td>\n",
       "    </tr>\n",
       "  </tbody>\n",
       "</table>\n",
       "<p>6130843 rows × 3 columns</p>\n",
       "</div>"
      ],
      "text/plain": [
       "         gauge_code   datetime  rain_mm\n",
       "0        431100701A 2020-03-02      0.0\n",
       "1        431100701A 2019-04-27     20.8\n",
       "2        431100701A 2019-04-26     17.8\n",
       "3        431100701A 2019-04-25      0.6\n",
       "4        431100701A 2019-04-24      0.0\n",
       "...             ...        ...      ...\n",
       "6130838  140070401A 2018-12-11      0.0\n",
       "6130839  140070401A 2018-12-10      0.0\n",
       "6130840  140070401A 2018-12-09      0.0\n",
       "6130841  140070401A 2018-12-27      0.4\n",
       "6130842  140070401A 2019-02-11      0.0\n",
       "\n",
       "[6130843 rows x 3 columns]"
      ]
     },
     "execution_count": 53,
     "metadata": {},
     "output_type": "execute_result"
    }
   ],
   "source": [
    "df_outlier = pd.merge(df_complete_info[['gauge_code', 'rain_mm', 'datetime', 'year']]\n",
    "                      , df_preclassif\n",
    "                      , on = ['gauge_code', 'year']\n",
    "                      , how = 'inner')\n",
    "df_outlier = df_outlier[['gauge_code',\t'datetime',\t'rain_mm']]\n",
    "df_outlier"
   ]
  },
  {
   "cell_type": "code",
   "execution_count": 54,
   "id": "c386b988",
   "metadata": {},
   "outputs": [
    {
     "data": {
      "application/vnd.microsoft.datawrangler.viewer.v0+json": {
       "columns": [
        {
         "name": "index",
         "rawType": "int64",
         "type": "integer"
        },
        {
         "name": "gauge_code",
         "rawType": "object",
         "type": "string"
        },
        {
         "name": "datetime",
         "rawType": "datetime64[ns]",
         "type": "datetime"
        },
        {
         "name": "rain_mm",
         "rawType": "float64",
         "type": "float"
        },
        {
         "name": "rain_mm_yesterday",
         "rawType": "float64",
         "type": "float"
        },
        {
         "name": "rain_mm_tomorrow",
         "rawType": "float64",
         "type": "float"
        },
        {
         "name": "adjacent_days_mm",
         "rawType": "float64",
         "type": "float"
        },
        {
         "name": "outlier_status_1",
         "rawType": "int32",
         "type": "integer"
        }
       ],
       "conversionMethod": "pd.DataFrame",
       "ref": "4c11c438-198d-4bfc-a9e6-09d21c762582",
       "rows": [
        [
         "0",
         "110018901A",
         "2018-08-18 00:00:00",
         "15.66",
         null,
         "12.22",
         null,
         "0"
        ],
        [
         "1",
         "110018901A",
         "2018-08-19 00:00:00",
         "12.22",
         "15.66",
         "0.0",
         "15.66",
         "0"
        ],
        [
         "2",
         "110018901A",
         "2018-08-20 00:00:00",
         "0.0",
         "12.22",
         "0.0",
         "12.22",
         "0"
        ],
        [
         "3",
         "110018901A",
         "2018-08-21 00:00:00",
         "0.0",
         "0.0",
         "0.0",
         "0.0",
         "0"
        ],
        [
         "4",
         "110018901A",
         "2018-08-22 00:00:00",
         "0.0",
         "0.0",
         "0.0",
         "0.0",
         "0"
        ],
        [
         "5",
         "110018901A",
         "2018-08-23 00:00:00",
         "0.0",
         "0.0",
         "0.0",
         "0.0",
         "0"
        ],
        [
         "6",
         "110018901A",
         "2018-08-24 00:00:00",
         "0.0",
         "0.0",
         "0.0",
         "0.0",
         "0"
        ],
        [
         "7",
         "110018901A",
         "2018-08-25 00:00:00",
         "0.0",
         "0.0",
         "0.0",
         "0.0",
         "0"
        ],
        [
         "8",
         "110018901A",
         "2018-08-26 00:00:00",
         "0.0",
         "0.0",
         "0.0",
         "0.0",
         "0"
        ],
        [
         "9",
         "110018901A",
         "2018-08-27 00:00:00",
         "0.0",
         "0.0",
         "0.0",
         "0.0",
         "0"
        ],
        [
         "10",
         "110018901A",
         "2018-08-28 00:00:00",
         "0.0",
         "0.0",
         "0.0",
         "0.0",
         "0"
        ],
        [
         "11",
         "110018901A",
         "2018-08-29 00:00:00",
         "0.0",
         "0.0",
         "0.0",
         "0.0",
         "0"
        ],
        [
         "12",
         "110018901A",
         "2018-08-30 00:00:00",
         "0.0",
         "0.0",
         "0.0",
         "0.0",
         "0"
        ],
        [
         "13",
         "110018901A",
         "2018-08-31 00:00:00",
         "0.0",
         "0.0",
         "0.0",
         "0.0",
         "0"
        ],
        [
         "14",
         "110018901A",
         "2018-09-01 00:00:00",
         "0.0",
         "0.0",
         "0.0",
         "0.0",
         "0"
        ],
        [
         "15",
         "110018901A",
         "2018-09-02 00:00:00",
         "0.0",
         "0.0",
         "0.0",
         "0.0",
         "0"
        ],
        [
         "16",
         "110018901A",
         "2018-09-03 00:00:00",
         "0.0",
         "0.0",
         "0.0",
         "0.0",
         "0"
        ],
        [
         "17",
         "110018901A",
         "2018-09-04 00:00:00",
         "0.0",
         "0.0",
         "0.0",
         "0.0",
         "0"
        ],
        [
         "18",
         "110018901A",
         "2018-09-05 00:00:00",
         "0.0",
         "0.0",
         "0.0",
         "0.0",
         "0"
        ],
        [
         "19",
         "110018901A",
         "2018-09-06 00:00:00",
         "0.0",
         "0.0",
         "0.0",
         "0.0",
         "0"
        ],
        [
         "20",
         "110018901A",
         "2018-09-07 00:00:00",
         "0.0",
         "0.0",
         "0.0",
         "0.0",
         "0"
        ],
        [
         "21",
         "110018901A",
         "2018-09-08 00:00:00",
         "0.0",
         "0.0",
         "0.0",
         "0.0",
         "0"
        ],
        [
         "22",
         "110018901A",
         "2018-09-09 00:00:00",
         "0.0",
         "0.0",
         "1.77",
         "1.77",
         "0"
        ],
        [
         "23",
         "110018901A",
         "2018-09-10 00:00:00",
         "1.77",
         "0.0",
         "0.2",
         "0.2",
         "0"
        ],
        [
         "24",
         "110018901A",
         "2018-09-11 00:00:00",
         "0.2",
         "1.77",
         "0.0",
         "1.77",
         "0"
        ],
        [
         "25",
         "110018901A",
         "2018-09-12 00:00:00",
         "0.0",
         "0.2",
         "0.0",
         "0.2",
         "0"
        ],
        [
         "26",
         "110018901A",
         "2018-09-13 00:00:00",
         "0.0",
         "0.0",
         "0.0",
         "0.0",
         "0"
        ],
        [
         "27",
         "110018901A",
         "2018-09-14 00:00:00",
         "0.0",
         "0.0",
         "2.39",
         "2.39",
         "0"
        ],
        [
         "28",
         "110018901A",
         "2018-09-15 00:00:00",
         "2.39",
         "0.0",
         "11.83",
         "11.83",
         "0"
        ],
        [
         "29",
         "110018901A",
         "2018-09-16 00:00:00",
         "11.83",
         "2.39",
         "0.0",
         "2.39",
         "0"
        ],
        [
         "30",
         "110018901A",
         "2018-09-17 00:00:00",
         "0.0",
         "11.83",
         "1.0",
         "12.83",
         "0"
        ],
        [
         "31",
         "110018901A",
         "2018-09-18 00:00:00",
         "1.0",
         "0.0",
         "0.0",
         "0.0",
         "0"
        ],
        [
         "32",
         "110018901A",
         "2018-09-19 00:00:00",
         "0.0",
         "1.0",
         "0.0",
         "1.0",
         "0"
        ],
        [
         "33",
         "110018901A",
         "2018-09-20 00:00:00",
         "0.0",
         "0.0",
         "0.2",
         "0.2",
         "0"
        ],
        [
         "34",
         "110018901A",
         "2018-09-21 00:00:00",
         "0.2",
         "0.0",
         "0.0",
         "0.0",
         "0"
        ],
        [
         "35",
         "110018901A",
         "2018-09-22 00:00:00",
         "0.0",
         "0.2",
         "0.0",
         "0.2",
         "0"
        ],
        [
         "36",
         "110018901A",
         "2018-09-23 00:00:00",
         "0.0",
         "0.0",
         "0.5900000000000001",
         "0.5900000000000001",
         "0"
        ],
        [
         "37",
         "110018901A",
         "2018-09-24 00:00:00",
         "0.5900000000000001",
         "0.0",
         "0.0",
         "0.0",
         "0"
        ],
        [
         "38",
         "110018901A",
         "2018-09-25 00:00:00",
         "0.0",
         "0.5900000000000001",
         "0.0",
         "0.5900000000000001",
         "0"
        ],
        [
         "39",
         "110018901A",
         "2018-09-26 00:00:00",
         "0.0",
         "0.0",
         "0.0",
         "0.0",
         "0"
        ],
        [
         "40",
         "110018901A",
         "2018-09-27 00:00:00",
         "0.0",
         "0.0",
         "0.0",
         "0.0",
         "0"
        ],
        [
         "41",
         "110018901A",
         "2018-09-28 00:00:00",
         "0.0",
         "0.0",
         "0.0",
         "0.0",
         "0"
        ],
        [
         "42",
         "110018901A",
         "2018-09-29 00:00:00",
         "0.0",
         "0.0",
         "24.86",
         "24.86",
         "0"
        ],
        [
         "43",
         "110018901A",
         "2018-09-30 00:00:00",
         "24.86",
         "0.0",
         "0.2",
         "0.2",
         "0"
        ],
        [
         "44",
         "110018901A",
         "2018-10-01 00:00:00",
         "0.2",
         "24.86",
         "49.57",
         "74.43",
         "0"
        ],
        [
         "45",
         "110018901A",
         "2018-10-02 00:00:00",
         "49.57",
         "0.2",
         "8.07",
         "8.27",
         "0"
        ],
        [
         "46",
         "110018901A",
         "2018-10-03 00:00:00",
         "8.07",
         "49.57",
         "1.19",
         "50.76",
         "0"
        ],
        [
         "47",
         "110018901A",
         "2018-10-04 00:00:00",
         "1.19",
         "8.07",
         "1.96",
         "10.030000000000001",
         "0"
        ],
        [
         "48",
         "110018901A",
         "2018-10-05 00:00:00",
         "1.96",
         "1.19",
         "0.2",
         "1.39",
         "0"
        ],
        [
         "49",
         "110018901A",
         "2018-10-06 00:00:00",
         "0.2",
         "1.96",
         "0.0",
         "1.96",
         "0"
        ]
       ],
       "shape": {
        "columns": 7,
        "rows": 6130843
       }
      },
      "text/html": [
       "<div>\n",
       "<style scoped>\n",
       "    .dataframe tbody tr th:only-of-type {\n",
       "        vertical-align: middle;\n",
       "    }\n",
       "\n",
       "    .dataframe tbody tr th {\n",
       "        vertical-align: top;\n",
       "    }\n",
       "\n",
       "    .dataframe thead th {\n",
       "        text-align: right;\n",
       "    }\n",
       "</style>\n",
       "<table border=\"1\" class=\"dataframe\">\n",
       "  <thead>\n",
       "    <tr style=\"text-align: right;\">\n",
       "      <th></th>\n",
       "      <th>gauge_code</th>\n",
       "      <th>datetime</th>\n",
       "      <th>rain_mm</th>\n",
       "      <th>rain_mm_yesterday</th>\n",
       "      <th>rain_mm_tomorrow</th>\n",
       "      <th>adjacent_days_mm</th>\n",
       "      <th>outlier_status_1</th>\n",
       "    </tr>\n",
       "  </thead>\n",
       "  <tbody>\n",
       "    <tr>\n",
       "      <th>0</th>\n",
       "      <td>110018901A</td>\n",
       "      <td>2018-08-18</td>\n",
       "      <td>15.66</td>\n",
       "      <td>NaN</td>\n",
       "      <td>12.22</td>\n",
       "      <td>NaN</td>\n",
       "      <td>0</td>\n",
       "    </tr>\n",
       "    <tr>\n",
       "      <th>1</th>\n",
       "      <td>110018901A</td>\n",
       "      <td>2018-08-19</td>\n",
       "      <td>12.22</td>\n",
       "      <td>15.66</td>\n",
       "      <td>0.00</td>\n",
       "      <td>15.66</td>\n",
       "      <td>0</td>\n",
       "    </tr>\n",
       "    <tr>\n",
       "      <th>2</th>\n",
       "      <td>110018901A</td>\n",
       "      <td>2018-08-20</td>\n",
       "      <td>0.00</td>\n",
       "      <td>12.22</td>\n",
       "      <td>0.00</td>\n",
       "      <td>12.22</td>\n",
       "      <td>0</td>\n",
       "    </tr>\n",
       "    <tr>\n",
       "      <th>3</th>\n",
       "      <td>110018901A</td>\n",
       "      <td>2018-08-21</td>\n",
       "      <td>0.00</td>\n",
       "      <td>0.00</td>\n",
       "      <td>0.00</td>\n",
       "      <td>0.00</td>\n",
       "      <td>0</td>\n",
       "    </tr>\n",
       "    <tr>\n",
       "      <th>4</th>\n",
       "      <td>110018901A</td>\n",
       "      <td>2018-08-22</td>\n",
       "      <td>0.00</td>\n",
       "      <td>0.00</td>\n",
       "      <td>0.00</td>\n",
       "      <td>0.00</td>\n",
       "      <td>0</td>\n",
       "    </tr>\n",
       "    <tr>\n",
       "      <th>...</th>\n",
       "      <td>...</td>\n",
       "      <td>...</td>\n",
       "      <td>...</td>\n",
       "      <td>...</td>\n",
       "      <td>...</td>\n",
       "      <td>...</td>\n",
       "      <td>...</td>\n",
       "    </tr>\n",
       "    <tr>\n",
       "      <th>6130838</th>\n",
       "      <td>CEMADEN_14</td>\n",
       "      <td>2019-04-26</td>\n",
       "      <td>0.00</td>\n",
       "      <td>0.00</td>\n",
       "      <td>0.00</td>\n",
       "      <td>0.00</td>\n",
       "      <td>0</td>\n",
       "    </tr>\n",
       "    <tr>\n",
       "      <th>6130839</th>\n",
       "      <td>CEMADEN_14</td>\n",
       "      <td>2019-04-27</td>\n",
       "      <td>0.00</td>\n",
       "      <td>0.00</td>\n",
       "      <td>0.00</td>\n",
       "      <td>0.00</td>\n",
       "      <td>0</td>\n",
       "    </tr>\n",
       "    <tr>\n",
       "      <th>6130840</th>\n",
       "      <td>CEMADEN_14</td>\n",
       "      <td>2019-04-28</td>\n",
       "      <td>0.00</td>\n",
       "      <td>0.00</td>\n",
       "      <td>6.20</td>\n",
       "      <td>6.20</td>\n",
       "      <td>0</td>\n",
       "    </tr>\n",
       "    <tr>\n",
       "      <th>6130841</th>\n",
       "      <td>CEMADEN_14</td>\n",
       "      <td>2019-04-29</td>\n",
       "      <td>6.20</td>\n",
       "      <td>0.00</td>\n",
       "      <td>0.00</td>\n",
       "      <td>0.00</td>\n",
       "      <td>0</td>\n",
       "    </tr>\n",
       "    <tr>\n",
       "      <th>6130842</th>\n",
       "      <td>CEMADEN_14</td>\n",
       "      <td>2019-04-30</td>\n",
       "      <td>0.00</td>\n",
       "      <td>6.20</td>\n",
       "      <td>NaN</td>\n",
       "      <td>NaN</td>\n",
       "      <td>0</td>\n",
       "    </tr>\n",
       "  </tbody>\n",
       "</table>\n",
       "<p>6130843 rows × 7 columns</p>\n",
       "</div>"
      ],
      "text/plain": [
       "         gauge_code   datetime  rain_mm  rain_mm_yesterday  rain_mm_tomorrow  \\\n",
       "0        110018901A 2018-08-18    15.66                NaN             12.22   \n",
       "1        110018901A 2018-08-19    12.22              15.66              0.00   \n",
       "2        110018901A 2018-08-20     0.00              12.22              0.00   \n",
       "3        110018901A 2018-08-21     0.00               0.00              0.00   \n",
       "4        110018901A 2018-08-22     0.00               0.00              0.00   \n",
       "...             ...        ...      ...                ...               ...   \n",
       "6130838  CEMADEN_14 2019-04-26     0.00               0.00              0.00   \n",
       "6130839  CEMADEN_14 2019-04-27     0.00               0.00              0.00   \n",
       "6130840  CEMADEN_14 2019-04-28     0.00               0.00              6.20   \n",
       "6130841  CEMADEN_14 2019-04-29     6.20               0.00              0.00   \n",
       "6130842  CEMADEN_14 2019-04-30     0.00               6.20               NaN   \n",
       "\n",
       "         adjacent_days_mm  outlier_status_1  \n",
       "0                     NaN                 0  \n",
       "1                   15.66                 0  \n",
       "2                   12.22                 0  \n",
       "3                    0.00                 0  \n",
       "4                    0.00                 0  \n",
       "...                   ...               ...  \n",
       "6130838              0.00                 0  \n",
       "6130839              0.00                 0  \n",
       "6130840              6.20                 0  \n",
       "6130841              0.00                 0  \n",
       "6130842               NaN                 0  \n",
       "\n",
       "[6130843 rows x 7 columns]"
      ]
     },
     "execution_count": 54,
     "metadata": {},
     "output_type": "execute_result"
    }
   ],
   "source": [
    "def mark_outlier_rain(df, threshold_rain_mm=200):\n",
    "    # Garantir que a coluna 'datetime' está no formato datetime\n",
    "    df['datetime'] = pd.to_datetime(df['datetime'])\n",
    "\n",
    "    df_yesterday = df.copy(deep = True)\n",
    "    df_yesterday['datetime'] = df_yesterday['datetime'] + pd.Timedelta(days=1)\n",
    "    df_tomorrow = df.copy(deep = True)\n",
    "    df_tomorrow['datetime'] = df_tomorrow['datetime'] - pd.Timedelta(days=1)\n",
    "\n",
    "    df = pd.merge(df, df_yesterday[['gauge_code', 'datetime', 'rain_mm']], on=['gauge_code', 'datetime'], how='left', suffixes=('', '_yesterday'))\n",
    "    df = pd.merge(df, df_tomorrow[['gauge_code', 'datetime', 'rain_mm']], on=['gauge_code', 'datetime'], how='left', suffixes=('', '_tomorrow'))\n",
    "    df_sorted = df.sort_values(['gauge_code', 'datetime']).reset_index(drop=True)\n",
    "\n",
    "    # Calcular soma da chuva nos dias adjacentes\n",
    "    df_sorted['adjacent_days_mm'] = df_sorted['rain_mm_yesterday'] + df_sorted['rain_mm_tomorrow']\n",
    "\n",
    "    # Regra para identificar outlier\n",
    "    condition = (\n",
    "        (df_sorted['rain_mm'] > threshold_rain_mm) &\n",
    "        (df_sorted['adjacent_days_mm'] < 0.025 * df_sorted['rain_mm'])\n",
    "    )\n",
    "\n",
    "    df_sorted['outlier_status_1'] = np.where(condition, 1, 0)\n",
    "\n",
    "    return df_sorted\n",
    "\n",
    "# Aplicar na base df_outlier_filter_1\n",
    "df_outlier_filter_1 = mark_outlier_rain(df_outlier)\n",
    "df_outlier_filter_1"
   ]
  },
  {
   "cell_type": "code",
   "execution_count": 55,
   "id": "7daad07f",
   "metadata": {},
   "outputs": [
    {
     "name": "stdout",
     "output_type": "stream",
     "text": [
      "Number of rows where adjacent_days_mm is NaN: 147832\n"
     ]
    }
   ],
   "source": [
    "nan_count = df_outlier_filter_1['adjacent_days_mm'].isna().sum()\n",
    "print(f\"Number of rows where adjacent_days_mm is NaN: {nan_count}\")"
   ]
  },
  {
   "cell_type": "code",
   "execution_count": 56,
   "id": "21da6616",
   "metadata": {},
   "outputs": [
    {
     "data": {
      "application/vnd.microsoft.datawrangler.viewer.v0+json": {
       "columns": [
        {
         "name": "index",
         "rawType": "int64",
         "type": "integer"
        },
        {
         "name": "gauge_code",
         "rawType": "object",
         "type": "string"
        },
        {
         "name": "datetime",
         "rawType": "datetime64[ns]",
         "type": "datetime"
        },
        {
         "name": "rain_mm",
         "rawType": "float64",
         "type": "float"
        },
        {
         "name": "rain_mm_yesterday",
         "rawType": "float64",
         "type": "float"
        },
        {
         "name": "rain_mm_tomorrow",
         "rawType": "float64",
         "type": "float"
        },
        {
         "name": "adjacent_days_mm",
         "rawType": "float64",
         "type": "float"
        },
        {
         "name": "outlier_status_1",
         "rawType": "int32",
         "type": "integer"
        }
       ],
       "conversionMethod": "pd.DataFrame",
       "ref": "bfaf3ddb-4fc2-4b29-9d37-3b4f24ff7d14",
       "rows": [
        [
         "83398",
         "150480202A",
         "2019-11-17 00:00:00",
         "240.2",
         "0.0",
         "1.0",
         "1.0",
         "1"
        ],
        [
         "84544",
         "150480203A",
         "2019-11-17 00:00:00",
         "239.6",
         "0.0",
         "2.6",
         "2.6",
         "1"
        ],
        [
         "289201",
         "211130007A",
         "2016-01-23 00:00:00",
         "213.6",
         "0.0",
         "3.8000000000000003",
         "3.8000000000000003",
         "1"
        ],
        [
         "290134",
         "211130007A",
         "2018-11-30 00:00:00",
         "224.0",
         "2.0",
         "0.2",
         "2.2",
         "1"
        ],
        [
         "469759",
         "230380801U",
         "2018-12-24 00:00:00",
         "337.59999999999997",
         "0.0",
         "0.0",
         "0.0",
         "1"
        ],
        [
         "469796",
         "230380801U",
         "2019-01-30 00:00:00",
         "324.4",
         "0.0",
         "0.0",
         "0.0",
         "1"
        ],
        [
         "469839",
         "230380801U",
         "2019-03-14 00:00:00",
         "240.8",
         "0.2",
         "0.2",
         "0.4",
         "1"
        ],
        [
         "469935",
         "230380801U",
         "2019-06-18 00:00:00",
         "253.8",
         "0.0",
         "0.0",
         "0.0",
         "1"
        ],
        [
         "469968",
         "230380801U",
         "2019-07-21 00:00:00",
         "398.2",
         "0.0",
         "0.0",
         "0.0",
         "1"
        ],
        [
         "512655",
         "230440013A",
         "2014-04-03 00:00:00",
         "390.608571086",
         "0.2",
         "0.2",
         "0.4",
         "1"
        ],
        [
         "512668",
         "230440013A",
         "2014-04-16 00:00:00",
         "281.54179999999997",
         "0.2",
         "0.4",
         "0.6000000000000001",
         "1"
        ],
        [
         "1137724",
         "261070703A",
         "2016-05-30 00:00:00",
         "227.46",
         "5.52",
         "0.0",
         "5.52",
         "1"
        ],
        [
         "1202263",
         "261160613A",
         "2019-06-13 00:00:00",
         "210.2",
         "0.99",
         "1.79",
         "2.7800000000000002",
         "1"
        ],
        [
         "1588908",
         "291930601C",
         "2019-02-18 00:00:00",
         "205.2",
         "0.0",
         "0.0",
         "0.0",
         "1"
        ],
        [
         "1738435",
         "293290307H",
         "2016-08-24 00:00:00",
         "220.2",
         "4.4",
         "1.0",
         "5.4",
         "1"
        ],
        [
         "2225043",
         "314370801A",
         "2019-12-15 00:00:00",
         "205.0",
         "0.0",
         "0.0",
         "0.0",
         "1"
        ],
        [
         "2225103",
         "314370801A",
         "2020-02-21 00:00:00",
         "440.79999999999995",
         "0.0",
         "4.8",
         "4.8",
         "1"
        ],
        [
         "2619409",
         "320230603A",
         "2018-01-24 00:00:00",
         "275.13",
         "0.0",
         "0.0",
         "0.0",
         "1"
        ],
        [
         "4861415",
         "411820401A",
         "2017-03-06 00:00:00",
         "265.04",
         "3.93",
         "0.0",
         "3.93",
         "1"
        ],
        [
         "5330387",
         "420910201A",
         "2020-05-31 00:00:00",
         "438.46999999999997",
         "0.0",
         "3.4000000000000004",
         "3.4000000000000004",
         "1"
        ],
        [
         "5503668",
         "421480504A",
         "2019-04-16 00:00:00",
         "434.02000000000004",
         "0.0",
         "0.0",
         "0.0",
         "1"
        ],
        [
         "5884783",
         "431640202A",
         "2018-03-24 00:00:00",
         "253.8",
         "0.0",
         "0.8",
         "0.8",
         "1"
        ],
        [
         "6078298",
         "520540601A",
         "2018-03-08 00:00:00",
         "223.6",
         "0.2",
         "5.0",
         "5.2",
         "1"
        ]
       ],
       "shape": {
        "columns": 7,
        "rows": 23
       }
      },
      "text/html": [
       "<div>\n",
       "<style scoped>\n",
       "    .dataframe tbody tr th:only-of-type {\n",
       "        vertical-align: middle;\n",
       "    }\n",
       "\n",
       "    .dataframe tbody tr th {\n",
       "        vertical-align: top;\n",
       "    }\n",
       "\n",
       "    .dataframe thead th {\n",
       "        text-align: right;\n",
       "    }\n",
       "</style>\n",
       "<table border=\"1\" class=\"dataframe\">\n",
       "  <thead>\n",
       "    <tr style=\"text-align: right;\">\n",
       "      <th></th>\n",
       "      <th>gauge_code</th>\n",
       "      <th>datetime</th>\n",
       "      <th>rain_mm</th>\n",
       "      <th>rain_mm_yesterday</th>\n",
       "      <th>rain_mm_tomorrow</th>\n",
       "      <th>adjacent_days_mm</th>\n",
       "      <th>outlier_status_1</th>\n",
       "    </tr>\n",
       "  </thead>\n",
       "  <tbody>\n",
       "    <tr>\n",
       "      <th>83398</th>\n",
       "      <td>150480202A</td>\n",
       "      <td>2019-11-17</td>\n",
       "      <td>240.200000</td>\n",
       "      <td>0.00</td>\n",
       "      <td>1.00</td>\n",
       "      <td>1.00</td>\n",
       "      <td>1</td>\n",
       "    </tr>\n",
       "    <tr>\n",
       "      <th>84544</th>\n",
       "      <td>150480203A</td>\n",
       "      <td>2019-11-17</td>\n",
       "      <td>239.600000</td>\n",
       "      <td>0.00</td>\n",
       "      <td>2.60</td>\n",
       "      <td>2.60</td>\n",
       "      <td>1</td>\n",
       "    </tr>\n",
       "    <tr>\n",
       "      <th>289201</th>\n",
       "      <td>211130007A</td>\n",
       "      <td>2016-01-23</td>\n",
       "      <td>213.600000</td>\n",
       "      <td>0.00</td>\n",
       "      <td>3.80</td>\n",
       "      <td>3.80</td>\n",
       "      <td>1</td>\n",
       "    </tr>\n",
       "    <tr>\n",
       "      <th>290134</th>\n",
       "      <td>211130007A</td>\n",
       "      <td>2018-11-30</td>\n",
       "      <td>224.000000</td>\n",
       "      <td>2.00</td>\n",
       "      <td>0.20</td>\n",
       "      <td>2.20</td>\n",
       "      <td>1</td>\n",
       "    </tr>\n",
       "    <tr>\n",
       "      <th>469759</th>\n",
       "      <td>230380801U</td>\n",
       "      <td>2018-12-24</td>\n",
       "      <td>337.600000</td>\n",
       "      <td>0.00</td>\n",
       "      <td>0.00</td>\n",
       "      <td>0.00</td>\n",
       "      <td>1</td>\n",
       "    </tr>\n",
       "    <tr>\n",
       "      <th>469796</th>\n",
       "      <td>230380801U</td>\n",
       "      <td>2019-01-30</td>\n",
       "      <td>324.400000</td>\n",
       "      <td>0.00</td>\n",
       "      <td>0.00</td>\n",
       "      <td>0.00</td>\n",
       "      <td>1</td>\n",
       "    </tr>\n",
       "    <tr>\n",
       "      <th>469839</th>\n",
       "      <td>230380801U</td>\n",
       "      <td>2019-03-14</td>\n",
       "      <td>240.800000</td>\n",
       "      <td>0.20</td>\n",
       "      <td>0.20</td>\n",
       "      <td>0.40</td>\n",
       "      <td>1</td>\n",
       "    </tr>\n",
       "    <tr>\n",
       "      <th>469935</th>\n",
       "      <td>230380801U</td>\n",
       "      <td>2019-06-18</td>\n",
       "      <td>253.800000</td>\n",
       "      <td>0.00</td>\n",
       "      <td>0.00</td>\n",
       "      <td>0.00</td>\n",
       "      <td>1</td>\n",
       "    </tr>\n",
       "    <tr>\n",
       "      <th>469968</th>\n",
       "      <td>230380801U</td>\n",
       "      <td>2019-07-21</td>\n",
       "      <td>398.200000</td>\n",
       "      <td>0.00</td>\n",
       "      <td>0.00</td>\n",
       "      <td>0.00</td>\n",
       "      <td>1</td>\n",
       "    </tr>\n",
       "    <tr>\n",
       "      <th>512655</th>\n",
       "      <td>230440013A</td>\n",
       "      <td>2014-04-03</td>\n",
       "      <td>390.608571</td>\n",
       "      <td>0.20</td>\n",
       "      <td>0.20</td>\n",
       "      <td>0.40</td>\n",
       "      <td>1</td>\n",
       "    </tr>\n",
       "    <tr>\n",
       "      <th>512668</th>\n",
       "      <td>230440013A</td>\n",
       "      <td>2014-04-16</td>\n",
       "      <td>281.541800</td>\n",
       "      <td>0.20</td>\n",
       "      <td>0.40</td>\n",
       "      <td>0.60</td>\n",
       "      <td>1</td>\n",
       "    </tr>\n",
       "    <tr>\n",
       "      <th>1137724</th>\n",
       "      <td>261070703A</td>\n",
       "      <td>2016-05-30</td>\n",
       "      <td>227.460000</td>\n",
       "      <td>5.52</td>\n",
       "      <td>0.00</td>\n",
       "      <td>5.52</td>\n",
       "      <td>1</td>\n",
       "    </tr>\n",
       "    <tr>\n",
       "      <th>1202263</th>\n",
       "      <td>261160613A</td>\n",
       "      <td>2019-06-13</td>\n",
       "      <td>210.200000</td>\n",
       "      <td>0.99</td>\n",
       "      <td>1.79</td>\n",
       "      <td>2.78</td>\n",
       "      <td>1</td>\n",
       "    </tr>\n",
       "    <tr>\n",
       "      <th>1588908</th>\n",
       "      <td>291930601C</td>\n",
       "      <td>2019-02-18</td>\n",
       "      <td>205.200000</td>\n",
       "      <td>0.00</td>\n",
       "      <td>0.00</td>\n",
       "      <td>0.00</td>\n",
       "      <td>1</td>\n",
       "    </tr>\n",
       "    <tr>\n",
       "      <th>1738435</th>\n",
       "      <td>293290307H</td>\n",
       "      <td>2016-08-24</td>\n",
       "      <td>220.200000</td>\n",
       "      <td>4.40</td>\n",
       "      <td>1.00</td>\n",
       "      <td>5.40</td>\n",
       "      <td>1</td>\n",
       "    </tr>\n",
       "    <tr>\n",
       "      <th>2225043</th>\n",
       "      <td>314370801A</td>\n",
       "      <td>2019-12-15</td>\n",
       "      <td>205.000000</td>\n",
       "      <td>0.00</td>\n",
       "      <td>0.00</td>\n",
       "      <td>0.00</td>\n",
       "      <td>1</td>\n",
       "    </tr>\n",
       "    <tr>\n",
       "      <th>2225103</th>\n",
       "      <td>314370801A</td>\n",
       "      <td>2020-02-21</td>\n",
       "      <td>440.800000</td>\n",
       "      <td>0.00</td>\n",
       "      <td>4.80</td>\n",
       "      <td>4.80</td>\n",
       "      <td>1</td>\n",
       "    </tr>\n",
       "    <tr>\n",
       "      <th>2619409</th>\n",
       "      <td>320230603A</td>\n",
       "      <td>2018-01-24</td>\n",
       "      <td>275.130000</td>\n",
       "      <td>0.00</td>\n",
       "      <td>0.00</td>\n",
       "      <td>0.00</td>\n",
       "      <td>1</td>\n",
       "    </tr>\n",
       "    <tr>\n",
       "      <th>4861415</th>\n",
       "      <td>411820401A</td>\n",
       "      <td>2017-03-06</td>\n",
       "      <td>265.040000</td>\n",
       "      <td>3.93</td>\n",
       "      <td>0.00</td>\n",
       "      <td>3.93</td>\n",
       "      <td>1</td>\n",
       "    </tr>\n",
       "    <tr>\n",
       "      <th>5330387</th>\n",
       "      <td>420910201A</td>\n",
       "      <td>2020-05-31</td>\n",
       "      <td>438.470000</td>\n",
       "      <td>0.00</td>\n",
       "      <td>3.40</td>\n",
       "      <td>3.40</td>\n",
       "      <td>1</td>\n",
       "    </tr>\n",
       "    <tr>\n",
       "      <th>5503668</th>\n",
       "      <td>421480504A</td>\n",
       "      <td>2019-04-16</td>\n",
       "      <td>434.020000</td>\n",
       "      <td>0.00</td>\n",
       "      <td>0.00</td>\n",
       "      <td>0.00</td>\n",
       "      <td>1</td>\n",
       "    </tr>\n",
       "    <tr>\n",
       "      <th>5884783</th>\n",
       "      <td>431640202A</td>\n",
       "      <td>2018-03-24</td>\n",
       "      <td>253.800000</td>\n",
       "      <td>0.00</td>\n",
       "      <td>0.80</td>\n",
       "      <td>0.80</td>\n",
       "      <td>1</td>\n",
       "    </tr>\n",
       "    <tr>\n",
       "      <th>6078298</th>\n",
       "      <td>520540601A</td>\n",
       "      <td>2018-03-08</td>\n",
       "      <td>223.600000</td>\n",
       "      <td>0.20</td>\n",
       "      <td>5.00</td>\n",
       "      <td>5.20</td>\n",
       "      <td>1</td>\n",
       "    </tr>\n",
       "  </tbody>\n",
       "</table>\n",
       "</div>"
      ],
      "text/plain": [
       "         gauge_code   datetime     rain_mm  rain_mm_yesterday  \\\n",
       "83398    150480202A 2019-11-17  240.200000               0.00   \n",
       "84544    150480203A 2019-11-17  239.600000               0.00   \n",
       "289201   211130007A 2016-01-23  213.600000               0.00   \n",
       "290134   211130007A 2018-11-30  224.000000               2.00   \n",
       "469759   230380801U 2018-12-24  337.600000               0.00   \n",
       "469796   230380801U 2019-01-30  324.400000               0.00   \n",
       "469839   230380801U 2019-03-14  240.800000               0.20   \n",
       "469935   230380801U 2019-06-18  253.800000               0.00   \n",
       "469968   230380801U 2019-07-21  398.200000               0.00   \n",
       "512655   230440013A 2014-04-03  390.608571               0.20   \n",
       "512668   230440013A 2014-04-16  281.541800               0.20   \n",
       "1137724  261070703A 2016-05-30  227.460000               5.52   \n",
       "1202263  261160613A 2019-06-13  210.200000               0.99   \n",
       "1588908  291930601C 2019-02-18  205.200000               0.00   \n",
       "1738435  293290307H 2016-08-24  220.200000               4.40   \n",
       "2225043  314370801A 2019-12-15  205.000000               0.00   \n",
       "2225103  314370801A 2020-02-21  440.800000               0.00   \n",
       "2619409  320230603A 2018-01-24  275.130000               0.00   \n",
       "4861415  411820401A 2017-03-06  265.040000               3.93   \n",
       "5330387  420910201A 2020-05-31  438.470000               0.00   \n",
       "5503668  421480504A 2019-04-16  434.020000               0.00   \n",
       "5884783  431640202A 2018-03-24  253.800000               0.00   \n",
       "6078298  520540601A 2018-03-08  223.600000               0.20   \n",
       "\n",
       "         rain_mm_tomorrow  adjacent_days_mm  outlier_status_1  \n",
       "83398                1.00              1.00                 1  \n",
       "84544                2.60              2.60                 1  \n",
       "289201               3.80              3.80                 1  \n",
       "290134               0.20              2.20                 1  \n",
       "469759               0.00              0.00                 1  \n",
       "469796               0.00              0.00                 1  \n",
       "469839               0.20              0.40                 1  \n",
       "469935               0.00              0.00                 1  \n",
       "469968               0.00              0.00                 1  \n",
       "512655               0.20              0.40                 1  \n",
       "512668               0.40              0.60                 1  \n",
       "1137724              0.00              5.52                 1  \n",
       "1202263              1.79              2.78                 1  \n",
       "1588908              0.00              0.00                 1  \n",
       "1738435              1.00              5.40                 1  \n",
       "2225043              0.00              0.00                 1  \n",
       "2225103              4.80              4.80                 1  \n",
       "2619409              0.00              0.00                 1  \n",
       "4861415              0.00              3.93                 1  \n",
       "5330387              3.40              3.40                 1  \n",
       "5503668              0.00              0.00                 1  \n",
       "5884783              0.80              0.80                 1  \n",
       "6078298              5.00              5.20                 1  "
      ]
     },
     "execution_count": 56,
     "metadata": {},
     "output_type": "execute_result"
    }
   ],
   "source": [
    "df_outlier_filter_1_export = df_outlier_filter_1[df_outlier_filter_1['outlier_status_1'] == 1]\n",
    "df_outlier_filter_1_export.to_hdf(\n",
    "        os.path.join(neighboring_data_path, \"adjacent_day_analysis_filter_1.h5\"),\n",
    "        key='table_data',\n",
    "        mode='w',\n",
    "        format='table',\n",
    "        complevel=9,\n",
    "        encoding='utf-8',\n",
    "        append=False,\n",
    "        min_itemsize={'gauge_code': 20}  # Adjust based on your max gauge code length\n",
    "    )\n",
    "df_outlier_filter_1_export"
   ]
  },
  {
   "cell_type": "code",
   "execution_count": 57,
   "id": "4ceab346",
   "metadata": {},
   "outputs": [
    {
     "data": {
      "application/vnd.microsoft.datawrangler.viewer.v0+json": {
       "columns": [
        {
         "name": "index",
         "rawType": "int64",
         "type": "integer"
        },
        {
         "name": "gauge_code",
         "rawType": "object",
         "type": "string"
        },
        {
         "name": "datetime",
         "rawType": "datetime64[ns]",
         "type": "datetime"
        },
        {
         "name": "rain_mm",
         "rawType": "float64",
         "type": "float"
        },
        {
         "name": "outlier_status_1",
         "rawType": "int32",
         "type": "integer"
        },
        {
         "name": "lat",
         "rawType": "float64",
         "type": "float"
        },
        {
         "name": "long",
         "rawType": "float64",
         "type": "float"
        }
       ],
       "conversionMethod": "pd.DataFrame",
       "ref": "8536efc8-e271-498b-ac45-98d784079a8f",
       "rows": [
        [
         "0",
         "110018901A",
         "2018-08-18 00:00:00",
         "15.66",
         "0",
         "-11.683234",
         "-61.182871"
        ],
        [
         "1",
         "110018901A",
         "2018-08-19 00:00:00",
         "12.22",
         "0",
         "-11.683234",
         "-61.182871"
        ],
        [
         "2",
         "110018901A",
         "2018-08-20 00:00:00",
         "0.0",
         "0",
         "-11.683234",
         "-61.182871"
        ],
        [
         "3",
         "110018901A",
         "2018-08-21 00:00:00",
         "0.0",
         "0",
         "-11.683234",
         "-61.182871"
        ],
        [
         "4",
         "110018901A",
         "2018-08-22 00:00:00",
         "0.0",
         "0",
         "-11.683234",
         "-61.182871"
        ],
        [
         "5",
         "110018901A",
         "2018-08-23 00:00:00",
         "0.0",
         "0",
         "-11.683234",
         "-61.182871"
        ],
        [
         "6",
         "110018901A",
         "2018-08-24 00:00:00",
         "0.0",
         "0",
         "-11.683234",
         "-61.182871"
        ],
        [
         "7",
         "110018901A",
         "2018-08-25 00:00:00",
         "0.0",
         "0",
         "-11.683234",
         "-61.182871"
        ],
        [
         "8",
         "110018901A",
         "2018-08-26 00:00:00",
         "0.0",
         "0",
         "-11.683234",
         "-61.182871"
        ],
        [
         "9",
         "110018901A",
         "2018-08-27 00:00:00",
         "0.0",
         "0",
         "-11.683234",
         "-61.182871"
        ],
        [
         "10",
         "110018901A",
         "2018-08-28 00:00:00",
         "0.0",
         "0",
         "-11.683234",
         "-61.182871"
        ],
        [
         "11",
         "110018901A",
         "2018-08-29 00:00:00",
         "0.0",
         "0",
         "-11.683234",
         "-61.182871"
        ],
        [
         "12",
         "110018901A",
         "2018-08-30 00:00:00",
         "0.0",
         "0",
         "-11.683234",
         "-61.182871"
        ],
        [
         "13",
         "110018901A",
         "2018-08-31 00:00:00",
         "0.0",
         "0",
         "-11.683234",
         "-61.182871"
        ],
        [
         "14",
         "110018901A",
         "2018-09-01 00:00:00",
         "0.0",
         "0",
         "-11.683234",
         "-61.182871"
        ],
        [
         "15",
         "110018901A",
         "2018-09-02 00:00:00",
         "0.0",
         "0",
         "-11.683234",
         "-61.182871"
        ],
        [
         "16",
         "110018901A",
         "2018-09-03 00:00:00",
         "0.0",
         "0",
         "-11.683234",
         "-61.182871"
        ],
        [
         "17",
         "110018901A",
         "2018-09-04 00:00:00",
         "0.0",
         "0",
         "-11.683234",
         "-61.182871"
        ],
        [
         "18",
         "110018901A",
         "2018-09-05 00:00:00",
         "0.0",
         "0",
         "-11.683234",
         "-61.182871"
        ],
        [
         "19",
         "110018901A",
         "2018-09-06 00:00:00",
         "0.0",
         "0",
         "-11.683234",
         "-61.182871"
        ],
        [
         "20",
         "110018901A",
         "2018-09-07 00:00:00",
         "0.0",
         "0",
         "-11.683234",
         "-61.182871"
        ],
        [
         "21",
         "110018901A",
         "2018-09-08 00:00:00",
         "0.0",
         "0",
         "-11.683234",
         "-61.182871"
        ],
        [
         "22",
         "110018901A",
         "2018-09-09 00:00:00",
         "0.0",
         "0",
         "-11.683234",
         "-61.182871"
        ],
        [
         "23",
         "110018901A",
         "2018-09-10 00:00:00",
         "1.77",
         "0",
         "-11.683234",
         "-61.182871"
        ],
        [
         "24",
         "110018901A",
         "2018-09-11 00:00:00",
         "0.2",
         "0",
         "-11.683234",
         "-61.182871"
        ],
        [
         "25",
         "110018901A",
         "2018-09-12 00:00:00",
         "0.0",
         "0",
         "-11.683234",
         "-61.182871"
        ],
        [
         "26",
         "110018901A",
         "2018-09-13 00:00:00",
         "0.0",
         "0",
         "-11.683234",
         "-61.182871"
        ],
        [
         "27",
         "110018901A",
         "2018-09-14 00:00:00",
         "0.0",
         "0",
         "-11.683234",
         "-61.182871"
        ],
        [
         "28",
         "110018901A",
         "2018-09-15 00:00:00",
         "2.39",
         "0",
         "-11.683234",
         "-61.182871"
        ],
        [
         "29",
         "110018901A",
         "2018-09-16 00:00:00",
         "11.83",
         "0",
         "-11.683234",
         "-61.182871"
        ],
        [
         "30",
         "110018901A",
         "2018-09-17 00:00:00",
         "0.0",
         "0",
         "-11.683234",
         "-61.182871"
        ],
        [
         "31",
         "110018901A",
         "2018-09-18 00:00:00",
         "1.0",
         "0",
         "-11.683234",
         "-61.182871"
        ],
        [
         "32",
         "110018901A",
         "2018-09-19 00:00:00",
         "0.0",
         "0",
         "-11.683234",
         "-61.182871"
        ],
        [
         "33",
         "110018901A",
         "2018-09-20 00:00:00",
         "0.0",
         "0",
         "-11.683234",
         "-61.182871"
        ],
        [
         "34",
         "110018901A",
         "2018-09-21 00:00:00",
         "0.2",
         "0",
         "-11.683234",
         "-61.182871"
        ],
        [
         "35",
         "110018901A",
         "2018-09-22 00:00:00",
         "0.0",
         "0",
         "-11.683234",
         "-61.182871"
        ],
        [
         "36",
         "110018901A",
         "2018-09-23 00:00:00",
         "0.0",
         "0",
         "-11.683234",
         "-61.182871"
        ],
        [
         "37",
         "110018901A",
         "2018-09-24 00:00:00",
         "0.5900000000000001",
         "0",
         "-11.683234",
         "-61.182871"
        ],
        [
         "38",
         "110018901A",
         "2018-09-25 00:00:00",
         "0.0",
         "0",
         "-11.683234",
         "-61.182871"
        ],
        [
         "39",
         "110018901A",
         "2018-09-26 00:00:00",
         "0.0",
         "0",
         "-11.683234",
         "-61.182871"
        ],
        [
         "40",
         "110018901A",
         "2018-09-27 00:00:00",
         "0.0",
         "0",
         "-11.683234",
         "-61.182871"
        ],
        [
         "41",
         "110018901A",
         "2018-09-28 00:00:00",
         "0.0",
         "0",
         "-11.683234",
         "-61.182871"
        ],
        [
         "42",
         "110018901A",
         "2018-09-29 00:00:00",
         "0.0",
         "0",
         "-11.683234",
         "-61.182871"
        ],
        [
         "43",
         "110018901A",
         "2018-09-30 00:00:00",
         "24.86",
         "0",
         "-11.683234",
         "-61.182871"
        ],
        [
         "44",
         "110018901A",
         "2018-10-01 00:00:00",
         "0.2",
         "0",
         "-11.683234",
         "-61.182871"
        ],
        [
         "45",
         "110018901A",
         "2018-10-02 00:00:00",
         "49.57",
         "0",
         "-11.683234",
         "-61.182871"
        ],
        [
         "46",
         "110018901A",
         "2018-10-03 00:00:00",
         "8.07",
         "0",
         "-11.683234",
         "-61.182871"
        ],
        [
         "47",
         "110018901A",
         "2018-10-04 00:00:00",
         "1.19",
         "0",
         "-11.683234",
         "-61.182871"
        ],
        [
         "48",
         "110018901A",
         "2018-10-05 00:00:00",
         "1.96",
         "0",
         "-11.683234",
         "-61.182871"
        ],
        [
         "49",
         "110018901A",
         "2018-10-06 00:00:00",
         "0.2",
         "0",
         "-11.683234",
         "-61.182871"
        ]
       ],
       "shape": {
        "columns": 6,
        "rows": 6130843
       }
      },
      "text/html": [
       "<div>\n",
       "<style scoped>\n",
       "    .dataframe tbody tr th:only-of-type {\n",
       "        vertical-align: middle;\n",
       "    }\n",
       "\n",
       "    .dataframe tbody tr th {\n",
       "        vertical-align: top;\n",
       "    }\n",
       "\n",
       "    .dataframe thead th {\n",
       "        text-align: right;\n",
       "    }\n",
       "</style>\n",
       "<table border=\"1\" class=\"dataframe\">\n",
       "  <thead>\n",
       "    <tr style=\"text-align: right;\">\n",
       "      <th></th>\n",
       "      <th>gauge_code</th>\n",
       "      <th>datetime</th>\n",
       "      <th>rain_mm</th>\n",
       "      <th>outlier_status_1</th>\n",
       "      <th>lat</th>\n",
       "      <th>long</th>\n",
       "    </tr>\n",
       "  </thead>\n",
       "  <tbody>\n",
       "    <tr>\n",
       "      <th>0</th>\n",
       "      <td>110018901A</td>\n",
       "      <td>2018-08-18</td>\n",
       "      <td>15.66</td>\n",
       "      <td>0</td>\n",
       "      <td>-11.683234</td>\n",
       "      <td>-61.182871</td>\n",
       "    </tr>\n",
       "    <tr>\n",
       "      <th>1</th>\n",
       "      <td>110018901A</td>\n",
       "      <td>2018-08-19</td>\n",
       "      <td>12.22</td>\n",
       "      <td>0</td>\n",
       "      <td>-11.683234</td>\n",
       "      <td>-61.182871</td>\n",
       "    </tr>\n",
       "    <tr>\n",
       "      <th>2</th>\n",
       "      <td>110018901A</td>\n",
       "      <td>2018-08-20</td>\n",
       "      <td>0.00</td>\n",
       "      <td>0</td>\n",
       "      <td>-11.683234</td>\n",
       "      <td>-61.182871</td>\n",
       "    </tr>\n",
       "    <tr>\n",
       "      <th>3</th>\n",
       "      <td>110018901A</td>\n",
       "      <td>2018-08-21</td>\n",
       "      <td>0.00</td>\n",
       "      <td>0</td>\n",
       "      <td>-11.683234</td>\n",
       "      <td>-61.182871</td>\n",
       "    </tr>\n",
       "    <tr>\n",
       "      <th>4</th>\n",
       "      <td>110018901A</td>\n",
       "      <td>2018-08-22</td>\n",
       "      <td>0.00</td>\n",
       "      <td>0</td>\n",
       "      <td>-11.683234</td>\n",
       "      <td>-61.182871</td>\n",
       "    </tr>\n",
       "    <tr>\n",
       "      <th>...</th>\n",
       "      <td>...</td>\n",
       "      <td>...</td>\n",
       "      <td>...</td>\n",
       "      <td>...</td>\n",
       "      <td>...</td>\n",
       "      <td>...</td>\n",
       "    </tr>\n",
       "    <tr>\n",
       "      <th>6130838</th>\n",
       "      <td>CEMADEN_14</td>\n",
       "      <td>2019-04-26</td>\n",
       "      <td>0.00</td>\n",
       "      <td>0</td>\n",
       "      <td>-22.682199</td>\n",
       "      <td>-45.000316</td>\n",
       "    </tr>\n",
       "    <tr>\n",
       "      <th>6130839</th>\n",
       "      <td>CEMADEN_14</td>\n",
       "      <td>2019-04-27</td>\n",
       "      <td>0.00</td>\n",
       "      <td>0</td>\n",
       "      <td>-22.682199</td>\n",
       "      <td>-45.000316</td>\n",
       "    </tr>\n",
       "    <tr>\n",
       "      <th>6130840</th>\n",
       "      <td>CEMADEN_14</td>\n",
       "      <td>2019-04-28</td>\n",
       "      <td>0.00</td>\n",
       "      <td>0</td>\n",
       "      <td>-22.682199</td>\n",
       "      <td>-45.000316</td>\n",
       "    </tr>\n",
       "    <tr>\n",
       "      <th>6130841</th>\n",
       "      <td>CEMADEN_14</td>\n",
       "      <td>2019-04-29</td>\n",
       "      <td>6.20</td>\n",
       "      <td>0</td>\n",
       "      <td>-22.682199</td>\n",
       "      <td>-45.000316</td>\n",
       "    </tr>\n",
       "    <tr>\n",
       "      <th>6130842</th>\n",
       "      <td>CEMADEN_14</td>\n",
       "      <td>2019-04-30</td>\n",
       "      <td>0.00</td>\n",
       "      <td>0</td>\n",
       "      <td>-22.682199</td>\n",
       "      <td>-45.000316</td>\n",
       "    </tr>\n",
       "  </tbody>\n",
       "</table>\n",
       "<p>6130843 rows × 6 columns</p>\n",
       "</div>"
      ],
      "text/plain": [
       "         gauge_code   datetime  rain_mm  outlier_status_1        lat  \\\n",
       "0        110018901A 2018-08-18    15.66                 0 -11.683234   \n",
       "1        110018901A 2018-08-19    12.22                 0 -11.683234   \n",
       "2        110018901A 2018-08-20     0.00                 0 -11.683234   \n",
       "3        110018901A 2018-08-21     0.00                 0 -11.683234   \n",
       "4        110018901A 2018-08-22     0.00                 0 -11.683234   \n",
       "...             ...        ...      ...               ...        ...   \n",
       "6130838  CEMADEN_14 2019-04-26     0.00                 0 -22.682199   \n",
       "6130839  CEMADEN_14 2019-04-27     0.00                 0 -22.682199   \n",
       "6130840  CEMADEN_14 2019-04-28     0.00                 0 -22.682199   \n",
       "6130841  CEMADEN_14 2019-04-29     6.20                 0 -22.682199   \n",
       "6130842  CEMADEN_14 2019-04-30     0.00                 0 -22.682199   \n",
       "\n",
       "              long  \n",
       "0       -61.182871  \n",
       "1       -61.182871  \n",
       "2       -61.182871  \n",
       "3       -61.182871  \n",
       "4       -61.182871  \n",
       "...            ...  \n",
       "6130838 -45.000316  \n",
       "6130839 -45.000316  \n",
       "6130840 -45.000316  \n",
       "6130841 -45.000316  \n",
       "6130842 -45.000316  \n",
       "\n",
       "[6130843 rows x 6 columns]"
      ]
     },
     "execution_count": 57,
     "metadata": {},
     "output_type": "execute_result"
    }
   ],
   "source": [
    "df_outlier_filter_1 = df_outlier_filter_1[['gauge_code','datetime',\t'rain_mm', 'outlier_status_1']]\n",
    "df_outlier_filter_1 = pd.merge(df_outlier_filter_1, df_cemaden_info[['gauge_code', 'lat', 'long']], on ='gauge_code', how='left')\n",
    "df_outlier_filter_1.sort_values(['gauge_code', 'datetime'], ascending=True, inplace=True)\n",
    "df_outlier_filter_1.reset_index(drop=True, inplace=True)\n",
    "df_outlier_filter_1"
   ]
  },
  {
   "cell_type": "code",
   "execution_count": 58,
   "id": "856172b3",
   "metadata": {},
   "outputs": [
    {
     "name": "stdout",
     "output_type": "stream",
     "text": [
      "Saved results for 2014-02-01 00:00:00 to .\\1 - Organized data gauge\\BRAZIL\\QC_VALIDATION\\DATASET\\neighboring_analysis.h5\n",
      "Saved results for 2014-02-09 00:00:00 to .\\1 - Organized data gauge\\BRAZIL\\QC_VALIDATION\\DATASET\\neighboring_analysis.h5\n",
      "Saved results for 2014-02-15 00:00:00 to .\\1 - Organized data gauge\\BRAZIL\\QC_VALIDATION\\DATASET\\neighboring_analysis.h5\n",
      "Saved results for 2014-03-22 00:00:00 to .\\1 - Organized data gauge\\BRAZIL\\QC_VALIDATION\\DATASET\\neighboring_analysis.h5\n",
      "Saved results for 2014-03-27 00:00:00 to .\\1 - Organized data gauge\\BRAZIL\\QC_VALIDATION\\DATASET\\neighboring_analysis.h5\n",
      "Saved results for 2014-03-30 00:00:00 to .\\1 - Organized data gauge\\BRAZIL\\QC_VALIDATION\\DATASET\\neighboring_analysis.h5\n",
      "Saved results for 2014-04-03 00:00:00 to .\\1 - Organized data gauge\\BRAZIL\\QC_VALIDATION\\DATASET\\neighboring_analysis.h5\n",
      "Saved results for 2014-04-10 00:00:00 to .\\1 - Organized data gauge\\BRAZIL\\QC_VALIDATION\\DATASET\\neighboring_analysis.h5\n",
      "Saved results for 2014-04-14 00:00:00 to .\\1 - Organized data gauge\\BRAZIL\\QC_VALIDATION\\DATASET\\neighboring_analysis.h5\n",
      "Saved results for 2014-04-16 00:00:00 to .\\1 - Organized data gauge\\BRAZIL\\QC_VALIDATION\\DATASET\\neighboring_analysis.h5\n",
      "Saved results for 2014-04-22 00:00:00 to .\\1 - Organized data gauge\\BRAZIL\\QC_VALIDATION\\DATASET\\neighboring_analysis.h5\n",
      "Saved results for 2014-04-23 00:00:00 to .\\1 - Organized data gauge\\BRAZIL\\QC_VALIDATION\\DATASET\\neighboring_analysis.h5\n",
      "Saved results for 2014-07-18 00:00:00 to .\\1 - Organized data gauge\\BRAZIL\\QC_VALIDATION\\DATASET\\neighboring_analysis.h5\n",
      "Saved results for 2014-07-19 00:00:00 to .\\1 - Organized data gauge\\BRAZIL\\QC_VALIDATION\\DATASET\\neighboring_analysis.h5\n",
      "Saved results for 2014-10-30 00:00:00 to .\\1 - Organized data gauge\\BRAZIL\\QC_VALIDATION\\DATASET\\neighboring_analysis.h5\n",
      "Saved results for 2014-11-13 00:00:00 to .\\1 - Organized data gauge\\BRAZIL\\QC_VALIDATION\\DATASET\\neighboring_analysis.h5\n",
      "Saved results for 2014-12-22 00:00:00 to .\\1 - Organized data gauge\\BRAZIL\\QC_VALIDATION\\DATASET\\neighboring_analysis.h5\n",
      "Saved results for 2014-12-23 00:00:00 to .\\1 - Organized data gauge\\BRAZIL\\QC_VALIDATION\\DATASET\\neighboring_analysis.h5\n",
      "Saved results for 2015-01-22 00:00:00 to .\\1 - Organized data gauge\\BRAZIL\\QC_VALIDATION\\DATASET\\neighboring_analysis.h5\n",
      "Saved results for 2015-01-23 00:00:00 to .\\1 - Organized data gauge\\BRAZIL\\QC_VALIDATION\\DATASET\\neighboring_analysis.h5\n",
      "Saved results for 2015-01-31 00:00:00 to .\\1 - Organized data gauge\\BRAZIL\\QC_VALIDATION\\DATASET\\neighboring_analysis.h5\n",
      "Saved results for 2015-02-05 00:00:00 to .\\1 - Organized data gauge\\BRAZIL\\QC_VALIDATION\\DATASET\\neighboring_analysis.h5\n",
      "Saved results for 2015-03-19 00:00:00 to .\\1 - Organized data gauge\\BRAZIL\\QC_VALIDATION\\DATASET\\neighboring_analysis.h5\n",
      "Saved results for 2015-04-19 00:00:00 to .\\1 - Organized data gauge\\BRAZIL\\QC_VALIDATION\\DATASET\\neighboring_analysis.h5\n",
      "Saved results for 2015-06-17 00:00:00 to .\\1 - Organized data gauge\\BRAZIL\\QC_VALIDATION\\DATASET\\neighboring_analysis.h5\n",
      "Saved results for 2015-07-14 00:00:00 to .\\1 - Organized data gauge\\BRAZIL\\QC_VALIDATION\\DATASET\\neighboring_analysis.h5\n",
      "Saved results for 2015-08-15 00:00:00 to .\\1 - Organized data gauge\\BRAZIL\\QC_VALIDATION\\DATASET\\neighboring_analysis.h5\n",
      "Saved results for 2015-08-16 00:00:00 to .\\1 - Organized data gauge\\BRAZIL\\QC_VALIDATION\\DATASET\\neighboring_analysis.h5\n",
      "Saved results for 2015-09-11 00:00:00 to .\\1 - Organized data gauge\\BRAZIL\\QC_VALIDATION\\DATASET\\neighboring_analysis.h5\n",
      "Saved results for 2015-09-16 00:00:00 to .\\1 - Organized data gauge\\BRAZIL\\QC_VALIDATION\\DATASET\\neighboring_analysis.h5\n",
      "Saved results for 2015-09-17 00:00:00 to .\\1 - Organized data gauge\\BRAZIL\\QC_VALIDATION\\DATASET\\neighboring_analysis.h5\n",
      "Saved results for 2015-09-18 00:00:00 to .\\1 - Organized data gauge\\BRAZIL\\QC_VALIDATION\\DATASET\\neighboring_analysis.h5\n",
      "Saved results for 2015-09-21 00:00:00 to .\\1 - Organized data gauge\\BRAZIL\\QC_VALIDATION\\DATASET\\neighboring_analysis.h5\n",
      "Saved results for 2015-09-22 00:00:00 to .\\1 - Organized data gauge\\BRAZIL\\QC_VALIDATION\\DATASET\\neighboring_analysis.h5\n",
      "Saved results for 2015-09-23 00:00:00 to .\\1 - Organized data gauge\\BRAZIL\\QC_VALIDATION\\DATASET\\neighboring_analysis.h5\n",
      "Saved results for 2015-09-24 00:00:00 to .\\1 - Organized data gauge\\BRAZIL\\QC_VALIDATION\\DATASET\\neighboring_analysis.h5\n",
      "Saved results for 2015-10-04 00:00:00 to .\\1 - Organized data gauge\\BRAZIL\\QC_VALIDATION\\DATASET\\neighboring_analysis.h5\n",
      "Saved results for 2015-10-05 00:00:00 to .\\1 - Organized data gauge\\BRAZIL\\QC_VALIDATION\\DATASET\\neighboring_analysis.h5\n",
      "Saved results for 2015-11-13 00:00:00 to .\\1 - Organized data gauge\\BRAZIL\\QC_VALIDATION\\DATASET\\neighboring_analysis.h5\n",
      "Saved results for 2015-12-05 00:00:00 to .\\1 - Organized data gauge\\BRAZIL\\QC_VALIDATION\\DATASET\\neighboring_analysis.h5\n",
      "Saved results for 2015-12-11 00:00:00 to .\\1 - Organized data gauge\\BRAZIL\\QC_VALIDATION\\DATASET\\neighboring_analysis.h5\n",
      "Saved results for 2015-12-15 00:00:00 to .\\1 - Organized data gauge\\BRAZIL\\QC_VALIDATION\\DATASET\\neighboring_analysis.h5\n",
      "Saved results for 2015-12-24 00:00:00 to .\\1 - Organized data gauge\\BRAZIL\\QC_VALIDATION\\DATASET\\neighboring_analysis.h5\n",
      "Saved results for 2016-01-01 00:00:00 to .\\1 - Organized data gauge\\BRAZIL\\QC_VALIDATION\\DATASET\\neighboring_analysis.h5\n",
      "Saved results for 2016-01-02 00:00:00 to .\\1 - Organized data gauge\\BRAZIL\\QC_VALIDATION\\DATASET\\neighboring_analysis.h5\n",
      "Saved results for 2016-01-03 00:00:00 to .\\1 - Organized data gauge\\BRAZIL\\QC_VALIDATION\\DATASET\\neighboring_analysis.h5\n",
      "Saved results for 2016-01-05 00:00:00 to .\\1 - Organized data gauge\\BRAZIL\\QC_VALIDATION\\DATASET\\neighboring_analysis.h5\n",
      "Saved results for 2016-01-07 00:00:00 to .\\1 - Organized data gauge\\BRAZIL\\QC_VALIDATION\\DATASET\\neighboring_analysis.h5\n",
      "Saved results for 2016-01-10 00:00:00 to .\\1 - Organized data gauge\\BRAZIL\\QC_VALIDATION\\DATASET\\neighboring_analysis.h5\n",
      "Saved results for 2016-01-13 00:00:00 to .\\1 - Organized data gauge\\BRAZIL\\QC_VALIDATION\\DATASET\\neighboring_analysis.h5\n",
      "Saved results for 2016-01-14 00:00:00 to .\\1 - Organized data gauge\\BRAZIL\\QC_VALIDATION\\DATASET\\neighboring_analysis.h5\n",
      "Saved results for 2016-01-18 00:00:00 to .\\1 - Organized data gauge\\BRAZIL\\QC_VALIDATION\\DATASET\\neighboring_analysis.h5\n",
      "Saved results for 2016-01-19 00:00:00 to .\\1 - Organized data gauge\\BRAZIL\\QC_VALIDATION\\DATASET\\neighboring_analysis.h5\n",
      "Saved results for 2016-01-21 00:00:00 to .\\1 - Organized data gauge\\BRAZIL\\QC_VALIDATION\\DATASET\\neighboring_analysis.h5\n",
      "Saved results for 2016-01-23 00:00:00 to .\\1 - Organized data gauge\\BRAZIL\\QC_VALIDATION\\DATASET\\neighboring_analysis.h5\n",
      "Saved results for 2016-01-24 00:00:00 to .\\1 - Organized data gauge\\BRAZIL\\QC_VALIDATION\\DATASET\\neighboring_analysis.h5\n",
      "Saved results for 2016-01-31 00:00:00 to .\\1 - Organized data gauge\\BRAZIL\\QC_VALIDATION\\DATASET\\neighboring_analysis.h5\n",
      "Saved results for 2016-02-07 00:00:00 to .\\1 - Organized data gauge\\BRAZIL\\QC_VALIDATION\\DATASET\\neighboring_analysis.h5\n",
      "Saved results for 2016-02-14 00:00:00 to .\\1 - Organized data gauge\\BRAZIL\\QC_VALIDATION\\DATASET\\neighboring_analysis.h5\n",
      "Saved results for 2016-02-17 00:00:00 to .\\1 - Organized data gauge\\BRAZIL\\QC_VALIDATION\\DATASET\\neighboring_analysis.h5\n",
      "Saved results for 2016-02-29 00:00:00 to .\\1 - Organized data gauge\\BRAZIL\\QC_VALIDATION\\DATASET\\neighboring_analysis.h5\n",
      "Saved results for 2016-03-03 00:00:00 to .\\1 - Organized data gauge\\BRAZIL\\QC_VALIDATION\\DATASET\\neighboring_analysis.h5\n",
      "Saved results for 2016-03-09 00:00:00 to .\\1 - Organized data gauge\\BRAZIL\\QC_VALIDATION\\DATASET\\neighboring_analysis.h5\n",
      "Saved results for 2016-03-15 00:00:00 to .\\1 - Organized data gauge\\BRAZIL\\QC_VALIDATION\\DATASET\\neighboring_analysis.h5\n",
      "Saved results for 2016-03-17 00:00:00 to .\\1 - Organized data gauge\\BRAZIL\\QC_VALIDATION\\DATASET\\neighboring_analysis.h5\n",
      "Saved results for 2016-03-21 00:00:00 to .\\1 - Organized data gauge\\BRAZIL\\QC_VALIDATION\\DATASET\\neighboring_analysis.h5\n",
      "Saved results for 2016-03-29 00:00:00 to .\\1 - Organized data gauge\\BRAZIL\\QC_VALIDATION\\DATASET\\neighboring_analysis.h5\n",
      "Saved results for 2016-04-05 00:00:00 to .\\1 - Organized data gauge\\BRAZIL\\QC_VALIDATION\\DATASET\\neighboring_analysis.h5\n",
      "Saved results for 2016-04-08 00:00:00 to .\\1 - Organized data gauge\\BRAZIL\\QC_VALIDATION\\DATASET\\neighboring_analysis.h5\n",
      "Saved results for 2016-04-13 00:00:00 to .\\1 - Organized data gauge\\BRAZIL\\QC_VALIDATION\\DATASET\\neighboring_analysis.h5\n",
      "Saved results for 2016-04-14 00:00:00 to .\\1 - Organized data gauge\\BRAZIL\\QC_VALIDATION\\DATASET\\neighboring_analysis.h5\n",
      "Saved results for 2016-04-15 00:00:00 to .\\1 - Organized data gauge\\BRAZIL\\QC_VALIDATION\\DATASET\\neighboring_analysis.h5\n",
      "Saved results for 2016-04-16 00:00:00 to .\\1 - Organized data gauge\\BRAZIL\\QC_VALIDATION\\DATASET\\neighboring_analysis.h5\n",
      "Saved results for 2016-05-03 00:00:00 to .\\1 - Organized data gauge\\BRAZIL\\QC_VALIDATION\\DATASET\\neighboring_analysis.h5\n",
      "Saved results for 2016-05-09 00:00:00 to .\\1 - Organized data gauge\\BRAZIL\\QC_VALIDATION\\DATASET\\neighboring_analysis.h5\n",
      "Saved results for 2016-05-30 00:00:00 to .\\1 - Organized data gauge\\BRAZIL\\QC_VALIDATION\\DATASET\\neighboring_analysis.h5\n",
      "Saved results for 2016-07-21 00:00:00 to .\\1 - Organized data gauge\\BRAZIL\\QC_VALIDATION\\DATASET\\neighboring_analysis.h5\n",
      "Saved results for 2016-08-24 00:00:00 to .\\1 - Organized data gauge\\BRAZIL\\QC_VALIDATION\\DATASET\\neighboring_analysis.h5\n",
      "Saved results for 2016-10-08 00:00:00 to .\\1 - Organized data gauge\\BRAZIL\\QC_VALIDATION\\DATASET\\neighboring_analysis.h5\n",
      "Saved results for 2016-10-17 00:00:00 to .\\1 - Organized data gauge\\BRAZIL\\QC_VALIDATION\\DATASET\\neighboring_analysis.h5\n",
      "Saved results for 2016-11-03 00:00:00 to .\\1 - Organized data gauge\\BRAZIL\\QC_VALIDATION\\DATASET\\neighboring_analysis.h5\n",
      "Saved results for 2016-11-10 00:00:00 to .\\1 - Organized data gauge\\BRAZIL\\QC_VALIDATION\\DATASET\\neighboring_analysis.h5\n",
      "Saved results for 2016-11-13 00:00:00 to .\\1 - Organized data gauge\\BRAZIL\\QC_VALIDATION\\DATASET\\neighboring_analysis.h5\n",
      "Saved results for 2016-12-14 00:00:00 to .\\1 - Organized data gauge\\BRAZIL\\QC_VALIDATION\\DATASET\\neighboring_analysis.h5\n",
      "Saved results for 2016-12-15 00:00:00 to .\\1 - Organized data gauge\\BRAZIL\\QC_VALIDATION\\DATASET\\neighboring_analysis.h5\n",
      "Saved results for 2016-12-17 00:00:00 to .\\1 - Organized data gauge\\BRAZIL\\QC_VALIDATION\\DATASET\\neighboring_analysis.h5\n",
      "Saved results for 2016-12-19 00:00:00 to .\\1 - Organized data gauge\\BRAZIL\\QC_VALIDATION\\DATASET\\neighboring_analysis.h5\n",
      "Saved results for 2016-12-21 00:00:00 to .\\1 - Organized data gauge\\BRAZIL\\QC_VALIDATION\\DATASET\\neighboring_analysis.h5\n",
      "Saved results for 2017-01-08 00:00:00 to .\\1 - Organized data gauge\\BRAZIL\\QC_VALIDATION\\DATASET\\neighboring_analysis.h5\n",
      "Saved results for 2017-01-27 00:00:00 to .\\1 - Organized data gauge\\BRAZIL\\QC_VALIDATION\\DATASET\\neighboring_analysis.h5\n",
      "Saved results for 2017-02-11 00:00:00 to .\\1 - Organized data gauge\\BRAZIL\\QC_VALIDATION\\DATASET\\neighboring_analysis.h5\n",
      "Saved results for 2017-02-18 00:00:00 to .\\1 - Organized data gauge\\BRAZIL\\QC_VALIDATION\\DATASET\\neighboring_analysis.h5\n",
      "Saved results for 2017-02-20 00:00:00 to .\\1 - Organized data gauge\\BRAZIL\\QC_VALIDATION\\DATASET\\neighboring_analysis.h5\n",
      "Saved results for 2017-03-06 00:00:00 to .\\1 - Organized data gauge\\BRAZIL\\QC_VALIDATION\\DATASET\\neighboring_analysis.h5\n",
      "Saved results for 2017-03-14 00:00:00 to .\\1 - Organized data gauge\\BRAZIL\\QC_VALIDATION\\DATASET\\neighboring_analysis.h5\n",
      "Saved results for 2017-03-31 00:00:00 to .\\1 - Organized data gauge\\BRAZIL\\QC_VALIDATION\\DATASET\\neighboring_analysis.h5\n",
      "Saved results for 2017-05-01 00:00:00 to .\\1 - Organized data gauge\\BRAZIL\\QC_VALIDATION\\DATASET\\neighboring_analysis.h5\n",
      "Saved results for 2017-05-21 00:00:00 to .\\1 - Organized data gauge\\BRAZIL\\QC_VALIDATION\\DATASET\\neighboring_analysis.h5\n",
      "Saved results for 2017-05-22 00:00:00 to .\\1 - Organized data gauge\\BRAZIL\\QC_VALIDATION\\DATASET\\neighboring_analysis.h5\n",
      "Saved results for 2017-05-28 00:00:00 to .\\1 - Organized data gauge\\BRAZIL\\QC_VALIDATION\\DATASET\\neighboring_analysis.h5\n",
      "Saved results for 2017-05-29 00:00:00 to .\\1 - Organized data gauge\\BRAZIL\\QC_VALIDATION\\DATASET\\neighboring_analysis.h5\n",
      "Saved results for 2017-06-20 00:00:00 to .\\1 - Organized data gauge\\BRAZIL\\QC_VALIDATION\\DATASET\\neighboring_analysis.h5\n",
      "Saved results for 2017-07-12 00:00:00 to .\\1 - Organized data gauge\\BRAZIL\\QC_VALIDATION\\DATASET\\neighboring_analysis.h5\n",
      "Saved results for 2017-10-04 00:00:00 to .\\1 - Organized data gauge\\BRAZIL\\QC_VALIDATION\\DATASET\\neighboring_analysis.h5\n",
      "Saved results for 2017-12-02 00:00:00 to .\\1 - Organized data gauge\\BRAZIL\\QC_VALIDATION\\DATASET\\neighboring_analysis.h5\n",
      "Saved results for 2017-12-04 00:00:00 to .\\1 - Organized data gauge\\BRAZIL\\QC_VALIDATION\\DATASET\\neighboring_analysis.h5\n",
      "Saved results for 2017-12-07 00:00:00 to .\\1 - Organized data gauge\\BRAZIL\\QC_VALIDATION\\DATASET\\neighboring_analysis.h5\n",
      "Saved results for 2017-12-13 00:00:00 to .\\1 - Organized data gauge\\BRAZIL\\QC_VALIDATION\\DATASET\\neighboring_analysis.h5\n",
      "Saved results for 2018-01-10 00:00:00 to .\\1 - Organized data gauge\\BRAZIL\\QC_VALIDATION\\DATASET\\neighboring_analysis.h5\n",
      "Saved results for 2018-01-20 00:00:00 to .\\1 - Organized data gauge\\BRAZIL\\QC_VALIDATION\\DATASET\\neighboring_analysis.h5\n",
      "Saved results for 2018-01-24 00:00:00 to .\\1 - Organized data gauge\\BRAZIL\\QC_VALIDATION\\DATASET\\neighboring_analysis.h5\n",
      "Saved results for 2018-01-26 00:00:00 to .\\1 - Organized data gauge\\BRAZIL\\QC_VALIDATION\\DATASET\\neighboring_analysis.h5\n",
      "Saved results for 2018-01-27 00:00:00 to .\\1 - Organized data gauge\\BRAZIL\\QC_VALIDATION\\DATASET\\neighboring_analysis.h5\n",
      "Saved results for 2018-02-06 00:00:00 to .\\1 - Organized data gauge\\BRAZIL\\QC_VALIDATION\\DATASET\\neighboring_analysis.h5\n",
      "Saved results for 2018-02-23 00:00:00 to .\\1 - Organized data gauge\\BRAZIL\\QC_VALIDATION\\DATASET\\neighboring_analysis.h5\n",
      "Saved results for 2018-03-07 00:00:00 to .\\1 - Organized data gauge\\BRAZIL\\QC_VALIDATION\\DATASET\\neighboring_analysis.h5\n",
      "Saved results for 2018-03-08 00:00:00 to .\\1 - Organized data gauge\\BRAZIL\\QC_VALIDATION\\DATASET\\neighboring_analysis.h5\n",
      "Saved results for 2018-03-12 00:00:00 to .\\1 - Organized data gauge\\BRAZIL\\QC_VALIDATION\\DATASET\\neighboring_analysis.h5\n",
      "Saved results for 2018-03-13 00:00:00 to .\\1 - Organized data gauge\\BRAZIL\\QC_VALIDATION\\DATASET\\neighboring_analysis.h5\n",
      "Saved results for 2018-03-15 00:00:00 to .\\1 - Organized data gauge\\BRAZIL\\QC_VALIDATION\\DATASET\\neighboring_analysis.h5\n",
      "Saved results for 2018-03-24 00:00:00 to .\\1 - Organized data gauge\\BRAZIL\\QC_VALIDATION\\DATASET\\neighboring_analysis.h5\n",
      "Saved results for 2018-04-13 00:00:00 to .\\1 - Organized data gauge\\BRAZIL\\QC_VALIDATION\\DATASET\\neighboring_analysis.h5\n",
      "Saved results for 2018-04-15 00:00:00 to .\\1 - Organized data gauge\\BRAZIL\\QC_VALIDATION\\DATASET\\neighboring_analysis.h5\n",
      "Saved results for 2018-04-25 00:00:00 to .\\1 - Organized data gauge\\BRAZIL\\QC_VALIDATION\\DATASET\\neighboring_analysis.h5\n",
      "Saved results for 2018-04-26 00:00:00 to .\\1 - Organized data gauge\\BRAZIL\\QC_VALIDATION\\DATASET\\neighboring_analysis.h5\n",
      "Saved results for 2018-04-27 00:00:00 to .\\1 - Organized data gauge\\BRAZIL\\QC_VALIDATION\\DATASET\\neighboring_analysis.h5\n",
      "Saved results for 2018-05-21 00:00:00 to .\\1 - Organized data gauge\\BRAZIL\\QC_VALIDATION\\DATASET\\neighboring_analysis.h5\n",
      "Saved results for 2018-09-03 00:00:00 to .\\1 - Organized data gauge\\BRAZIL\\QC_VALIDATION\\DATASET\\neighboring_analysis.h5\n",
      "Saved results for 2018-09-24 00:00:00 to .\\1 - Organized data gauge\\BRAZIL\\QC_VALIDATION\\DATASET\\neighboring_analysis.h5\n",
      "Saved results for 2018-09-25 00:00:00 to .\\1 - Organized data gauge\\BRAZIL\\QC_VALIDATION\\DATASET\\neighboring_analysis.h5\n",
      "Saved results for 2018-09-26 00:00:00 to .\\1 - Organized data gauge\\BRAZIL\\QC_VALIDATION\\DATASET\\neighboring_analysis.h5\n",
      "Saved results for 2018-11-24 00:00:00 to .\\1 - Organized data gauge\\BRAZIL\\QC_VALIDATION\\DATASET\\neighboring_analysis.h5\n",
      "Saved results for 2018-11-26 00:00:00 to .\\1 - Organized data gauge\\BRAZIL\\QC_VALIDATION\\DATASET\\neighboring_analysis.h5\n",
      "Saved results for 2018-11-30 00:00:00 to .\\1 - Organized data gauge\\BRAZIL\\QC_VALIDATION\\DATASET\\neighboring_analysis.h5\n",
      "Saved results for 2018-12-04 00:00:00 to .\\1 - Organized data gauge\\BRAZIL\\QC_VALIDATION\\DATASET\\neighboring_analysis.h5\n",
      "Saved results for 2018-12-24 00:00:00 to .\\1 - Organized data gauge\\BRAZIL\\QC_VALIDATION\\DATASET\\neighboring_analysis.h5\n",
      "Saved results for 2019-01-09 00:00:00 to .\\1 - Organized data gauge\\BRAZIL\\QC_VALIDATION\\DATASET\\neighboring_analysis.h5\n",
      "Saved results for 2019-01-18 00:00:00 to .\\1 - Organized data gauge\\BRAZIL\\QC_VALIDATION\\DATASET\\neighboring_analysis.h5\n",
      "Saved results for 2019-01-19 00:00:00 to .\\1 - Organized data gauge\\BRAZIL\\QC_VALIDATION\\DATASET\\neighboring_analysis.h5\n",
      "Saved results for 2019-01-30 00:00:00 to .\\1 - Organized data gauge\\BRAZIL\\QC_VALIDATION\\DATASET\\neighboring_analysis.h5\n",
      "Saved results for 2019-02-04 00:00:00 to .\\1 - Organized data gauge\\BRAZIL\\QC_VALIDATION\\DATASET\\neighboring_analysis.h5\n",
      "Saved results for 2019-02-05 00:00:00 to .\\1 - Organized data gauge\\BRAZIL\\QC_VALIDATION\\DATASET\\neighboring_analysis.h5\n",
      "Saved results for 2019-02-06 00:00:00 to .\\1 - Organized data gauge\\BRAZIL\\QC_VALIDATION\\DATASET\\neighboring_analysis.h5\n",
      "Saved results for 2019-02-08 00:00:00 to .\\1 - Organized data gauge\\BRAZIL\\QC_VALIDATION\\DATASET\\neighboring_analysis.h5\n",
      "Saved results for 2019-02-09 00:00:00 to .\\1 - Organized data gauge\\BRAZIL\\QC_VALIDATION\\DATASET\\neighboring_analysis.h5\n",
      "Saved results for 2019-02-18 00:00:00 to .\\1 - Organized data gauge\\BRAZIL\\QC_VALIDATION\\DATASET\\neighboring_analysis.h5\n",
      "Saved results for 2019-03-03 00:00:00 to .\\1 - Organized data gauge\\BRAZIL\\QC_VALIDATION\\DATASET\\neighboring_analysis.h5\n",
      "Saved results for 2019-03-05 00:00:00 to .\\1 - Organized data gauge\\BRAZIL\\QC_VALIDATION\\DATASET\\neighboring_analysis.h5\n",
      "Saved results for 2019-03-11 00:00:00 to .\\1 - Organized data gauge\\BRAZIL\\QC_VALIDATION\\DATASET\\neighboring_analysis.h5\n",
      "Saved results for 2019-03-14 00:00:00 to .\\1 - Organized data gauge\\BRAZIL\\QC_VALIDATION\\DATASET\\neighboring_analysis.h5\n",
      "Saved results for 2019-03-17 00:00:00 to .\\1 - Organized data gauge\\BRAZIL\\QC_VALIDATION\\DATASET\\neighboring_analysis.h5\n",
      "Saved results for 2019-03-23 00:00:00 to .\\1 - Organized data gauge\\BRAZIL\\QC_VALIDATION\\DATASET\\neighboring_analysis.h5\n",
      "Saved results for 2019-03-28 00:00:00 to .\\1 - Organized data gauge\\BRAZIL\\QC_VALIDATION\\DATASET\\neighboring_analysis.h5\n",
      "Saved results for 2019-03-31 00:00:00 to .\\1 - Organized data gauge\\BRAZIL\\QC_VALIDATION\\DATASET\\neighboring_analysis.h5\n",
      "Saved results for 2019-04-09 00:00:00 to .\\1 - Organized data gauge\\BRAZIL\\QC_VALIDATION\\DATASET\\neighboring_analysis.h5\n",
      "Saved results for 2019-04-15 00:00:00 to .\\1 - Organized data gauge\\BRAZIL\\QC_VALIDATION\\DATASET\\neighboring_analysis.h5\n",
      "Saved results for 2019-04-16 00:00:00 to .\\1 - Organized data gauge\\BRAZIL\\QC_VALIDATION\\DATASET\\neighboring_analysis.h5\n",
      "Saved results for 2019-04-18 00:00:00 to .\\1 - Organized data gauge\\BRAZIL\\QC_VALIDATION\\DATASET\\neighboring_analysis.h5\n",
      "Saved results for 2019-04-30 00:00:00 to .\\1 - Organized data gauge\\BRAZIL\\QC_VALIDATION\\DATASET\\neighboring_analysis.h5\n",
      "Saved results for 2019-05-10 00:00:00 to .\\1 - Organized data gauge\\BRAZIL\\QC_VALIDATION\\DATASET\\neighboring_analysis.h5\n",
      "Saved results for 2019-05-17 00:00:00 to .\\1 - Organized data gauge\\BRAZIL\\QC_VALIDATION\\DATASET\\neighboring_analysis.h5\n",
      "Saved results for 2019-05-18 00:00:00 to .\\1 - Organized data gauge\\BRAZIL\\QC_VALIDATION\\DATASET\\neighboring_analysis.h5\n",
      "Saved results for 2019-05-24 00:00:00 to .\\1 - Organized data gauge\\BRAZIL\\QC_VALIDATION\\DATASET\\neighboring_analysis.h5\n",
      "Saved results for 2019-05-29 00:00:00 to .\\1 - Organized data gauge\\BRAZIL\\QC_VALIDATION\\DATASET\\neighboring_analysis.h5\n",
      "Saved results for 2019-06-10 00:00:00 to .\\1 - Organized data gauge\\BRAZIL\\QC_VALIDATION\\DATASET\\neighboring_analysis.h5\n",
      "Saved results for 2019-06-13 00:00:00 to .\\1 - Organized data gauge\\BRAZIL\\QC_VALIDATION\\DATASET\\neighboring_analysis.h5\n",
      "Saved results for 2019-06-18 00:00:00 to .\\1 - Organized data gauge\\BRAZIL\\QC_VALIDATION\\DATASET\\neighboring_analysis.h5\n",
      "Saved results for 2019-07-21 00:00:00 to .\\1 - Organized data gauge\\BRAZIL\\QC_VALIDATION\\DATASET\\neighboring_analysis.h5\n",
      "Saved results for 2019-07-24 00:00:00 to .\\1 - Organized data gauge\\BRAZIL\\QC_VALIDATION\\DATASET\\neighboring_analysis.h5\n",
      "Saved results for 2019-08-01 00:00:00 to .\\1 - Organized data gauge\\BRAZIL\\QC_VALIDATION\\DATASET\\neighboring_analysis.h5\n",
      "Saved results for 2019-08-25 00:00:00 to .\\1 - Organized data gauge\\BRAZIL\\QC_VALIDATION\\DATASET\\neighboring_analysis.h5\n",
      "Saved results for 2019-08-26 00:00:00 to .\\1 - Organized data gauge\\BRAZIL\\QC_VALIDATION\\DATASET\\neighboring_analysis.h5\n",
      "Saved results for 2019-09-09 00:00:00 to .\\1 - Organized data gauge\\BRAZIL\\QC_VALIDATION\\DATASET\\neighboring_analysis.h5\n",
      "Saved results for 2019-09-10 00:00:00 to .\\1 - Organized data gauge\\BRAZIL\\QC_VALIDATION\\DATASET\\neighboring_analysis.h5\n",
      "Saved results for 2019-09-24 00:00:00 to .\\1 - Organized data gauge\\BRAZIL\\QC_VALIDATION\\DATASET\\neighboring_analysis.h5\n",
      "Saved results for 2019-11-04 00:00:00 to .\\1 - Organized data gauge\\BRAZIL\\QC_VALIDATION\\DATASET\\neighboring_analysis.h5\n",
      "Saved results for 2019-11-17 00:00:00 to .\\1 - Organized data gauge\\BRAZIL\\QC_VALIDATION\\DATASET\\neighboring_analysis.h5\n",
      "Saved results for 2019-11-26 00:00:00 to .\\1 - Organized data gauge\\BRAZIL\\QC_VALIDATION\\DATASET\\neighboring_analysis.h5\n",
      "Saved results for 2019-12-02 00:00:00 to .\\1 - Organized data gauge\\BRAZIL\\QC_VALIDATION\\DATASET\\neighboring_analysis.h5\n",
      "Saved results for 2019-12-15 00:00:00 to .\\1 - Organized data gauge\\BRAZIL\\QC_VALIDATION\\DATASET\\neighboring_analysis.h5\n",
      "Saved results for 2019-12-19 00:00:00 to .\\1 - Organized data gauge\\BRAZIL\\QC_VALIDATION\\DATASET\\neighboring_analysis.h5\n",
      "Saved results for 2019-12-26 00:00:00 to .\\1 - Organized data gauge\\BRAZIL\\QC_VALIDATION\\DATASET\\neighboring_analysis.h5\n",
      "Saved results for 2019-12-29 00:00:00 to .\\1 - Organized data gauge\\BRAZIL\\QC_VALIDATION\\DATASET\\neighboring_analysis.h5\n",
      "Saved results for 2019-12-30 00:00:00 to .\\1 - Organized data gauge\\BRAZIL\\QC_VALIDATION\\DATASET\\neighboring_analysis.h5\n",
      "Saved results for 2020-01-07 00:00:00 to .\\1 - Organized data gauge\\BRAZIL\\QC_VALIDATION\\DATASET\\neighboring_analysis.h5\n",
      "Saved results for 2020-01-24 00:00:00 to .\\1 - Organized data gauge\\BRAZIL\\QC_VALIDATION\\DATASET\\neighboring_analysis.h5\n",
      "Saved results for 2020-02-03 00:00:00 to .\\1 - Organized data gauge\\BRAZIL\\QC_VALIDATION\\DATASET\\neighboring_analysis.h5\n",
      "Saved results for 2020-02-09 00:00:00 to .\\1 - Organized data gauge\\BRAZIL\\QC_VALIDATION\\DATASET\\neighboring_analysis.h5\n",
      "Saved results for 2020-02-10 00:00:00 to .\\1 - Organized data gauge\\BRAZIL\\QC_VALIDATION\\DATASET\\neighboring_analysis.h5\n",
      "Saved results for 2020-02-14 00:00:00 to .\\1 - Organized data gauge\\BRAZIL\\QC_VALIDATION\\DATASET\\neighboring_analysis.h5\n",
      "Saved results for 2020-02-19 00:00:00 to .\\1 - Organized data gauge\\BRAZIL\\QC_VALIDATION\\DATASET\\neighboring_analysis.h5\n",
      "Saved results for 2020-02-21 00:00:00 to .\\1 - Organized data gauge\\BRAZIL\\QC_VALIDATION\\DATASET\\neighboring_analysis.h5\n",
      "Saved results for 2020-02-22 00:00:00 to .\\1 - Organized data gauge\\BRAZIL\\QC_VALIDATION\\DATASET\\neighboring_analysis.h5\n",
      "Saved results for 2020-02-23 00:00:00 to .\\1 - Organized data gauge\\BRAZIL\\QC_VALIDATION\\DATASET\\neighboring_analysis.h5\n",
      "Saved results for 2020-03-01 00:00:00 to .\\1 - Organized data gauge\\BRAZIL\\QC_VALIDATION\\DATASET\\neighboring_analysis.h5\n",
      "Saved results for 2020-03-03 00:00:00 to .\\1 - Organized data gauge\\BRAZIL\\QC_VALIDATION\\DATASET\\neighboring_analysis.h5\n",
      "Saved results for 2020-03-09 00:00:00 to .\\1 - Organized data gauge\\BRAZIL\\QC_VALIDATION\\DATASET\\neighboring_analysis.h5\n",
      "Saved results for 2020-03-19 00:00:00 to .\\1 - Organized data gauge\\BRAZIL\\QC_VALIDATION\\DATASET\\neighboring_analysis.h5\n",
      "Saved results for 2020-03-22 00:00:00 to .\\1 - Organized data gauge\\BRAZIL\\QC_VALIDATION\\DATASET\\neighboring_analysis.h5\n",
      "Saved results for 2020-04-01 00:00:00 to .\\1 - Organized data gauge\\BRAZIL\\QC_VALIDATION\\DATASET\\neighboring_analysis.h5\n",
      "Saved results for 2020-04-23 00:00:00 to .\\1 - Organized data gauge\\BRAZIL\\QC_VALIDATION\\DATASET\\neighboring_analysis.h5\n",
      "Saved results for 2020-05-05 00:00:00 to .\\1 - Organized data gauge\\BRAZIL\\QC_VALIDATION\\DATASET\\neighboring_analysis.h5\n",
      "Saved results for 2020-05-11 00:00:00 to .\\1 - Organized data gauge\\BRAZIL\\QC_VALIDATION\\DATASET\\neighboring_analysis.h5\n",
      "Saved results for 2020-05-14 00:00:00 to .\\1 - Organized data gauge\\BRAZIL\\QC_VALIDATION\\DATASET\\neighboring_analysis.h5\n",
      "Saved results for 2020-05-29 00:00:00 to .\\1 - Organized data gauge\\BRAZIL\\QC_VALIDATION\\DATASET\\neighboring_analysis.h5\n",
      "Saved results for 2020-05-31 00:00:00 to .\\1 - Organized data gauge\\BRAZIL\\QC_VALIDATION\\DATASET\\neighboring_analysis.h5\n",
      "Saved results for 2020-07-01 00:00:00 to .\\1 - Organized data gauge\\BRAZIL\\QC_VALIDATION\\DATASET\\neighboring_analysis.h5\n",
      "Saved results for 2020-07-05 00:00:00 to .\\1 - Organized data gauge\\BRAZIL\\QC_VALIDATION\\DATASET\\neighboring_analysis.h5\n",
      "Saved results for 2020-07-20 00:00:00 to .\\1 - Organized data gauge\\BRAZIL\\QC_VALIDATION\\DATASET\\neighboring_analysis.h5\n",
      "Saved results for 2020-08-15 00:00:00 to .\\1 - Organized data gauge\\BRAZIL\\QC_VALIDATION\\DATASET\\neighboring_analysis.h5\n",
      "Saved results for 2020-08-17 00:00:00 to .\\1 - Organized data gauge\\BRAZIL\\QC_VALIDATION\\DATASET\\neighboring_analysis.h5\n",
      "Saved results for 2020-08-18 00:00:00 to .\\1 - Organized data gauge\\BRAZIL\\QC_VALIDATION\\DATASET\\neighboring_analysis.h5\n",
      "Saved results for 2020-08-26 00:00:00 to .\\1 - Organized data gauge\\BRAZIL\\QC_VALIDATION\\DATASET\\neighboring_analysis.h5\n",
      "Saved results for 2020-08-27 00:00:00 to .\\1 - Organized data gauge\\BRAZIL\\QC_VALIDATION\\DATASET\\neighboring_analysis.h5\n",
      "Saved results for 2020-08-31 00:00:00 to .\\1 - Organized data gauge\\BRAZIL\\QC_VALIDATION\\DATASET\\neighboring_analysis.h5\n",
      "Saved results for 2020-09-15 00:00:00 to .\\1 - Organized data gauge\\BRAZIL\\QC_VALIDATION\\DATASET\\neighboring_analysis.h5\n",
      "Saved results for 2020-09-22 00:00:00 to .\\1 - Organized data gauge\\BRAZIL\\QC_VALIDATION\\DATASET\\neighboring_analysis.h5\n",
      "Saved results for 2020-09-28 00:00:00 to .\\1 - Organized data gauge\\BRAZIL\\QC_VALIDATION\\DATASET\\neighboring_analysis.h5\n",
      "Saved results for 2020-10-06 00:00:00 to .\\1 - Organized data gauge\\BRAZIL\\QC_VALIDATION\\DATASET\\neighboring_analysis.h5\n",
      "Saved results for 2020-11-05 00:00:00 to .\\1 - Organized data gauge\\BRAZIL\\QC_VALIDATION\\DATASET\\neighboring_analysis.h5\n",
      "Saved results for 2020-11-14 00:00:00 to .\\1 - Organized data gauge\\BRAZIL\\QC_VALIDATION\\DATASET\\neighboring_analysis.h5\n",
      "Saved results for 2020-11-15 00:00:00 to .\\1 - Organized data gauge\\BRAZIL\\QC_VALIDATION\\DATASET\\neighboring_analysis.h5\n",
      "Saved results for 2020-11-19 00:00:00 to .\\1 - Organized data gauge\\BRAZIL\\QC_VALIDATION\\DATASET\\neighboring_analysis.h5\n",
      "Saved results for 2020-11-23 00:00:00 to .\\1 - Organized data gauge\\BRAZIL\\QC_VALIDATION\\DATASET\\neighboring_analysis.h5\n",
      "Saved results for 2020-12-03 00:00:00 to .\\1 - Organized data gauge\\BRAZIL\\QC_VALIDATION\\DATASET\\neighboring_analysis.h5\n",
      "Saved results for 2020-12-09 00:00:00 to .\\1 - Organized data gauge\\BRAZIL\\QC_VALIDATION\\DATASET\\neighboring_analysis.h5\n",
      "Saved results for 2020-12-13 00:00:00 to .\\1 - Organized data gauge\\BRAZIL\\QC_VALIDATION\\DATASET\\neighboring_analysis.h5\n",
      "Saved results for 2020-12-17 00:00:00 to .\\1 - Organized data gauge\\BRAZIL\\QC_VALIDATION\\DATASET\\neighboring_analysis.h5\n",
      "Saved results for 2020-12-22 00:00:00 to .\\1 - Organized data gauge\\BRAZIL\\QC_VALIDATION\\DATASET\\neighboring_analysis.h5\n"
     ]
    }
   ],
   "source": [
    "def idw_interpolation(latitude, longitude, df_temp_without_gauge, kdtree, p=2):\n",
    "    row = [latitude, longitude]\n",
    "    distances, indices = kdtree.query(row, k=5)\n",
    "    weights = 1 / (distances + 1e-6) ** p\n",
    "    values = df_temp_without_gauge.iloc[indices]['rain_mm'].values\n",
    "    return (np.sum(weights * values) / np.sum(weights))\n",
    "\n",
    "# Initialize empty DataFrame for results\n",
    "outlier_analysis_results = pd.DataFrame()\n",
    "\n",
    "# Configurations\n",
    "output_filename = os.path.join(neighboring_data_path, \"neighboring_analysis.h5\")\n",
    "rainfall_threshold = 200.0  # mm\n",
    "\n",
    "start_date = '2014-01-01'\n",
    "end_date = '2020-12-31'\n",
    "\n",
    "df_date = df_outlier_filter_1.loc[(df_outlier_filter_1['datetime'] >= start_date) & (df_outlier_filter_1['datetime'] <= end_date)].sort_values('datetime', ignore_index=True, ascending=True)\n",
    "\n",
    "df_date_filter = df_date[df_date['rain_mm'] > 200.0].reset_index(drop=True) # Filter for high rainfall values\n",
    "\n",
    "# Get sorted unique dates\n",
    "analysis_dates = df_date_filter['datetime'].unique().tolist() # Get unique dates for the analysis\n",
    "analysis_dates.sort()\n",
    "\n",
    "# Process each date\n",
    "for current_date in analysis_dates[:]:\n",
    "    # Filter data for current date\n",
    "    daily_data = df_outlier_filter_1[df_outlier_filter_1['datetime'] == current_date]\n",
    "    \n",
    "    df_gauge_filter = daily_data[daily_data['rain_mm'] > 200.0].reset_index(drop=True) # Filter for high rainfall values\n",
    "    \n",
    "    gauge_codes = df_gauge_filter['gauge_code'].unique() # Get unique gauge codes for the current date\n",
    "    \n",
    "    date_results = []\n",
    "    \n",
    "    for gauge in gauge_codes:\n",
    "        gauge_data = daily_data[daily_data['gauge_code'] == gauge].iloc[0]\n",
    "        lat, lon = gauge_data['lat'], gauge_data['long']\n",
    "        observed_rain = gauge_data['rain_mm']\n",
    "        \n",
    "        # Initialize result row\n",
    "        result_row = {\n",
    "            'gauge_code': gauge,\n",
    "            'datetime': current_date,\n",
    "            'lat': lat,\n",
    "            'long': lon,\n",
    "            'observed_rain_mm': observed_rain,\n",
    "            'interpolated_rain_mm': np.nan\n",
    "        }\n",
    "        \n",
    "        # Only interpolate for high rainfall values\n",
    "        if observed_rain > rainfall_threshold:\n",
    "            neighbor_data = daily_data[daily_data['gauge_code'] != gauge]\n",
    "            \n",
    "            if len(neighbor_data) > 0:\n",
    "                kd_tree = KDTree(neighbor_data[['lat', 'long']].values)\n",
    "                result_row['interpolated_rain_mm'] = idw_interpolation(lat, lon, neighbor_data, kd_tree)\n",
    "        \n",
    "        date_results.append(pd.DataFrame([result_row]))\n",
    "    \n",
    "    # Combine results for current date\n",
    "    daily_results = pd.concat(date_results, ignore_index=True)\n",
    "    \n",
    "    # Save to HDF5 with proper configuration\n",
    "    storage_mode = 'w' if current_date == analysis_dates[0] else 'a'\n",
    "    append_mode = False if current_date == analysis_dates[0] else True\n",
    "\n",
    "    # storage_mode = 'r+'\n",
    "    # append_mode = True\n",
    "    \n",
    "    daily_results.to_hdf(\n",
    "        output_filename,\n",
    "        key='table_data',\n",
    "        mode=storage_mode,\n",
    "        format='table',\n",
    "        complevel=9,\n",
    "        encoding='utf-8',\n",
    "        append=append_mode,\n",
    "        min_itemsize={'gauge_code': 20}  # Adjust based on your max gauge code length\n",
    "    )\n",
    "    \n",
    "    print(f\"Saved results for {current_date} to {output_filename}\")"
   ]
  },
  {
   "cell_type": "code",
   "execution_count": 59,
   "id": "bf23ea04",
   "metadata": {},
   "outputs": [
    {
     "data": {
      "application/vnd.microsoft.datawrangler.viewer.v0+json": {
       "columns": [
        {
         "name": "index",
         "rawType": "int64",
         "type": "integer"
        },
        {
         "name": "gauge_code",
         "rawType": "object",
         "type": "string"
        },
        {
         "name": "datetime",
         "rawType": "datetime64[ns]",
         "type": "datetime"
        },
        {
         "name": "lat",
         "rawType": "float64",
         "type": "float"
        },
        {
         "name": "long",
         "rawType": "float64",
         "type": "float"
        },
        {
         "name": "observed_rain_mm",
         "rawType": "float64",
         "type": "float"
        },
        {
         "name": "interpolated_rain_mm",
         "rawType": "float64",
         "type": "float"
        }
       ],
       "conversionMethod": "pd.DataFrame",
       "ref": "e7985853-fe93-4da4-b4d5-1e3dc56a7f29",
       "rows": [
        [
         "0",
         "351870116A",
         "2014-02-01 00:00:00",
         "-23.907",
         "-46.16399999999999",
         "245.36976598",
         "0.0"
        ],
        [
         "0",
         "230440013A",
         "2014-02-09 00:00:00",
         "-3.794083",
         "-38.501833",
         "384.7634",
         "1.939647582579393"
        ],
        [
         "0",
         "352990601A",
         "2014-02-15 00:00:00",
         "-24.283",
         "-47.456",
         "274.084071842",
         "129.95540503757883"
        ],
        [
         "1",
         "355540607A",
         "2014-02-15 00:00:00",
         "-23.517",
         "-45.19600000000001",
         "211.51955503",
         "146.64975041969683"
        ],
        [
         "2",
         "355540613A",
         "2014-02-15 00:00:00",
         "-23.419",
         "-45.066",
         "203.908136466",
         "177.68482063726026"
        ],
        [
         "0",
         "330010013A",
         "2014-03-22 00:00:00",
         "-22.902",
         "-44.332",
         "219.237016063",
         "145.88330713413197"
        ],
        [
         "0",
         "355070406A",
         "2014-03-27 00:00:00",
         "-23.776",
         "-45.653",
         "256.0",
         "0.528532445957558"
        ],
        [
         "0",
         "351350403A",
         "2014-03-30 00:00:00",
         "-23.868",
         "-46.401",
         "205.395853529",
         "5.735838839030467"
        ],
        [
         "0",
         "230440013A",
         "2014-04-03 00:00:00",
         "-3.794083",
         "-38.501833",
         "390.608571086",
         "5.414127641616154"
        ],
        [
         "0",
         "230440013A",
         "2014-04-10 00:00:00",
         "-3.794083",
         "-38.501833",
         "271.89099999999996",
         "3.359861369774219"
        ],
        [
         "0",
         "355070402A",
         "2014-04-14 00:00:00",
         "-23.758",
         "-45.764",
         "226.889704011",
         "133.1075878746265"
        ],
        [
         "0",
         "230440013A",
         "2014-04-16 00:00:00",
         "-3.794083",
         "-38.501833",
         "281.54179999999997",
         "0.992478040308596"
        ],
        [
         "0",
         "230440013A",
         "2014-04-22 00:00:00",
         "-3.794083",
         "-38.501833",
         "355.79037602799997",
         "3.0707881382127944"
        ],
        [
         "0",
         "230440013A",
         "2014-04-23 00:00:00",
         "-3.794083",
         "-38.501833",
         "346.7994",
         "1.0903010463397445"
        ],
        [
         "0",
         "310670506A",
         "2014-07-18 00:00:00",
         "-19.939",
         "-44.197",
         "483.589",
         "0.0"
        ],
        [
         "0",
         "310670506A",
         "2014-07-19 00:00:00",
         "-19.939",
         "-44.197",
         "241.8994",
         "0.0"
        ],
        [
         "0",
         "320060703A",
         "2014-10-30 00:00:00",
         "-19.919",
         "-40.131",
         "210.295094196",
         "155.23186143467663"
        ],
        [
         "1",
         "320060706A",
         "2014-10-30 00:00:00",
         "-19.679",
         "-40.259",
         "216.96819734599998",
         "117.44442036054866"
        ],
        [
         "2",
         "320500204A",
         "2014-10-30 00:00:00",
         "-20.156",
         "-40.273",
         "202.068429923",
         "228.67879415789352"
        ],
        [
         "3",
         "320500205A",
         "2014-10-30 00:00:00",
         "-20.219",
         "-40.281",
         "215.955972871",
         "209.6939722509662"
        ],
        [
         "4",
         "320500208A",
         "2014-10-30 00:00:00",
         "-20.137",
         "-40.248",
         "280.161147506",
         "205.4530223897085"
        ],
        [
         "5",
         "320500209A",
         "2014-10-30 00:00:00",
         "-20.219",
         "-40.25",
         "367.556034473",
         "203.689418252679"
        ],
        [
         "6",
         "320500211A",
         "2014-10-30 00:00:00",
         "-20.241",
         "-40.269",
         "255.760850455",
         "250.5791654649481"
        ],
        [
         "7",
         "320500212A",
         "2014-10-30 00:00:00",
         "-20.171",
         "-40.258",
         "292.0814273",
         "203.93510661439802"
        ],
        [
         "8",
         "320530908A",
         "2014-10-30 00:00:00",
         "-20.257",
         "-40.268",
         "267.283482219",
         "247.26073595697645"
        ],
        [
         "0",
         "320060706A",
         "2014-11-13 00:00:00",
         "-19.679",
         "-40.259",
         "206.703649802",
         "51.101463866375795"
        ],
        [
         "0",
         "351870117A",
         "2014-12-22 00:00:00",
         "-24.024",
         "-46.284",
         "214.975779838",
         "146.89368046832686"
        ],
        [
         "1",
         "355100907A",
         "2014-12-22 00:00:00",
         "-23.926",
         "-46.46100000000001",
         "211.515702798",
         "93.57924846766808"
        ],
        [
         "0",
         "351870115A",
         "2014-12-23 00:00:00",
         "-23.938",
         "-46.18600000000001",
         "202.92224753600001",
         "161.4204438202116"
        ],
        [
         "1",
         "355070406A",
         "2014-12-23 00:00:00",
         "-23.776",
         "-45.653",
         "310.697519681",
         "273.2587968439591"
        ],
        [
         "2",
         "355070410A",
         "2014-12-23 00:00:00",
         "-23.768",
         "-45.685",
         "225.452977078",
         "267.9919886693878"
        ],
        [
         "3",
         "355070411A",
         "2014-12-23 00:00:00",
         "-23.759",
         "-45.722",
         "205.322075581",
         "220.47057734310476"
        ],
        [
         "4",
         "355070413A",
         "2014-12-23 00:00:00",
         "-23.814",
         "-45.53100000000001",
         "317.18257998900003",
         "260.4919049751498"
        ],
        [
         "5",
         "355070414A",
         "2014-12-23 00:00:00",
         "-23.777",
         "-45.61199999999999",
         "335.389328187",
         "325.5463707612284"
        ],
        [
         "6",
         "355070416A",
         "2014-12-23 00:00:00",
         "-23.793",
         "-45.566",
         "265.465871687",
         "326.9530230676434"
        ],
        [
         "7",
         "355070419A",
         "2014-12-23 00:00:00",
         "-23.767",
         "-45.596",
         "344.669654523",
         "318.3744412955969"
        ],
        [
         "0",
         "351350405A",
         "2015-01-22 00:00:00",
         "-23.882",
         "-46.455",
         "211.169416577",
         "223.55840494893792"
        ],
        [
         "1",
         "351350406A",
         "2015-01-22 00:00:00",
         "-23.921",
         "-46.424",
         "216.788340448",
         "182.9661086808098"
        ],
        [
         "2",
         "351350407A",
         "2015-01-22 00:00:00",
         "-23.902",
         "-46.449",
         "298.17277937800003",
         "187.6187389167048"
        ],
        [
         "3",
         "355070419A",
         "2015-01-22 00:00:00",
         "-23.767",
         "-45.596",
         "311.004909962",
         "40.35532831317749"
        ],
        [
         "4",
         "355100904A",
         "2015-01-22 00:00:00",
         "-23.963",
         "-46.39100000000001",
         "236.09520133",
         "105.11907396132466"
        ],
        [
         "0",
         "355100902A",
         "2015-01-23 00:00:00",
         "-23.976",
         "-46.477",
         "210.288204299",
         "152.79104229441853"
        ],
        [
         "0",
         "355070411A",
         "2015-01-31 00:00:00",
         "-23.759",
         "-45.722",
         "264.202187797",
         "127.7963845734788"
        ],
        [
         "0",
         "355070415A",
         "2015-02-05 00:00:00",
         "-23.793",
         "-45.403",
         "206.85299999999998",
         "10.003773887470821"
        ],
        [
         "0",
         "330170204A",
         "2015-03-19 00:00:00",
         "-22.801",
         "-43.293",
         "208.8",
         "0.09726798446794335"
        ],
        [
         "0",
         "311530003A",
         "2015-04-19 00:00:00",
         "-21.407",
         "-42.672",
         "252.97",
         "0.0"
        ],
        [
         "0",
         "261160605A",
         "2015-06-17 00:00:00",
         "-8.001917",
         "-34.91927800000001",
         "280.08",
         "0.7562996164197393"
        ],
        [
         "0",
         "421050601A",
         "2015-07-14 00:00:00",
         "-26.76057",
         "-53.17418000000001",
         "208.8",
         "112.58397642119209"
        ],
        [
         "0",
         "330340102A",
         "2015-08-15 00:00:00",
         "-22.29",
         "-42.548",
         "315.55",
         "0.0"
        ],
        [
         "0",
         "330340102A",
         "2015-08-16 00:00:00",
         "-22.29",
         "-42.548",
         "211.54",
         "0.0"
        ]
       ],
       "shape": {
        "columns": 6,
        "rows": 372
       }
      },
      "text/html": [
       "<div>\n",
       "<style scoped>\n",
       "    .dataframe tbody tr th:only-of-type {\n",
       "        vertical-align: middle;\n",
       "    }\n",
       "\n",
       "    .dataframe tbody tr th {\n",
       "        vertical-align: top;\n",
       "    }\n",
       "\n",
       "    .dataframe thead th {\n",
       "        text-align: right;\n",
       "    }\n",
       "</style>\n",
       "<table border=\"1\" class=\"dataframe\">\n",
       "  <thead>\n",
       "    <tr style=\"text-align: right;\">\n",
       "      <th></th>\n",
       "      <th>gauge_code</th>\n",
       "      <th>datetime</th>\n",
       "      <th>lat</th>\n",
       "      <th>long</th>\n",
       "      <th>observed_rain_mm</th>\n",
       "      <th>interpolated_rain_mm</th>\n",
       "    </tr>\n",
       "  </thead>\n",
       "  <tbody>\n",
       "    <tr>\n",
       "      <th>0</th>\n",
       "      <td>351870116A</td>\n",
       "      <td>2014-02-01</td>\n",
       "      <td>-23.907000</td>\n",
       "      <td>-46.164000</td>\n",
       "      <td>245.369766</td>\n",
       "      <td>0.000000</td>\n",
       "    </tr>\n",
       "    <tr>\n",
       "      <th>0</th>\n",
       "      <td>230440013A</td>\n",
       "      <td>2014-02-09</td>\n",
       "      <td>-3.794083</td>\n",
       "      <td>-38.501833</td>\n",
       "      <td>384.763400</td>\n",
       "      <td>1.939648</td>\n",
       "    </tr>\n",
       "    <tr>\n",
       "      <th>0</th>\n",
       "      <td>352990601A</td>\n",
       "      <td>2014-02-15</td>\n",
       "      <td>-24.283000</td>\n",
       "      <td>-47.456000</td>\n",
       "      <td>274.084072</td>\n",
       "      <td>129.955405</td>\n",
       "    </tr>\n",
       "    <tr>\n",
       "      <th>1</th>\n",
       "      <td>355540607A</td>\n",
       "      <td>2014-02-15</td>\n",
       "      <td>-23.517000</td>\n",
       "      <td>-45.196000</td>\n",
       "      <td>211.519555</td>\n",
       "      <td>146.649750</td>\n",
       "    </tr>\n",
       "    <tr>\n",
       "      <th>2</th>\n",
       "      <td>355540613A</td>\n",
       "      <td>2014-02-15</td>\n",
       "      <td>-23.419000</td>\n",
       "      <td>-45.066000</td>\n",
       "      <td>203.908136</td>\n",
       "      <td>177.684821</td>\n",
       "    </tr>\n",
       "    <tr>\n",
       "      <th>...</th>\n",
       "      <td>...</td>\n",
       "      <td>...</td>\n",
       "      <td>...</td>\n",
       "      <td>...</td>\n",
       "      <td>...</td>\n",
       "      <td>...</td>\n",
       "    </tr>\n",
       "    <tr>\n",
       "      <th>0</th>\n",
       "      <td>311320603A</td>\n",
       "      <td>2020-12-13</td>\n",
       "      <td>-20.953000</td>\n",
       "      <td>-43.807000</td>\n",
       "      <td>429.870000</td>\n",
       "      <td>4.093817</td>\n",
       "    </tr>\n",
       "    <tr>\n",
       "      <th>0</th>\n",
       "      <td>311320603A</td>\n",
       "      <td>2020-12-17</td>\n",
       "      <td>-20.953000</td>\n",
       "      <td>-43.807000</td>\n",
       "      <td>247.430000</td>\n",
       "      <td>32.022253</td>\n",
       "    </tr>\n",
       "    <tr>\n",
       "      <th>0</th>\n",
       "      <td>330250202A</td>\n",
       "      <td>2020-12-22</td>\n",
       "      <td>-22.576000</td>\n",
       "      <td>-43.188000</td>\n",
       "      <td>256.080000</td>\n",
       "      <td>146.032939</td>\n",
       "    </tr>\n",
       "    <tr>\n",
       "      <th>1</th>\n",
       "      <td>330250203A</td>\n",
       "      <td>2020-12-22</td>\n",
       "      <td>-22.594000</td>\n",
       "      <td>-43.183000</td>\n",
       "      <td>251.560000</td>\n",
       "      <td>184.869007</td>\n",
       "    </tr>\n",
       "    <tr>\n",
       "      <th>2</th>\n",
       "      <td>330250204A</td>\n",
       "      <td>2020-12-22</td>\n",
       "      <td>-22.602000</td>\n",
       "      <td>-43.190000</td>\n",
       "      <td>228.870000</td>\n",
       "      <td>220.832621</td>\n",
       "    </tr>\n",
       "  </tbody>\n",
       "</table>\n",
       "<p>372 rows × 6 columns</p>\n",
       "</div>"
      ],
      "text/plain": [
       "    gauge_code   datetime        lat       long  observed_rain_mm  \\\n",
       "0   351870116A 2014-02-01 -23.907000 -46.164000        245.369766   \n",
       "0   230440013A 2014-02-09  -3.794083 -38.501833        384.763400   \n",
       "0   352990601A 2014-02-15 -24.283000 -47.456000        274.084072   \n",
       "1   355540607A 2014-02-15 -23.517000 -45.196000        211.519555   \n",
       "2   355540613A 2014-02-15 -23.419000 -45.066000        203.908136   \n",
       "..         ...        ...        ...        ...               ...   \n",
       "0   311320603A 2020-12-13 -20.953000 -43.807000        429.870000   \n",
       "0   311320603A 2020-12-17 -20.953000 -43.807000        247.430000   \n",
       "0   330250202A 2020-12-22 -22.576000 -43.188000        256.080000   \n",
       "1   330250203A 2020-12-22 -22.594000 -43.183000        251.560000   \n",
       "2   330250204A 2020-12-22 -22.602000 -43.190000        228.870000   \n",
       "\n",
       "    interpolated_rain_mm  \n",
       "0               0.000000  \n",
       "0               1.939648  \n",
       "0             129.955405  \n",
       "1             146.649750  \n",
       "2             177.684821  \n",
       "..                   ...  \n",
       "0               4.093817  \n",
       "0              32.022253  \n",
       "0             146.032939  \n",
       "1             184.869007  \n",
       "2             220.832621  \n",
       "\n",
       "[372 rows x 6 columns]"
      ]
     },
     "execution_count": 59,
     "metadata": {},
     "output_type": "execute_result"
    }
   ],
   "source": [
    "output_filename = os.path.join(neighboring_data_path, \"neighboring_analysis.h5\")\n",
    "df_outlier_2 = pd.read_hdf(output_filename, key='table_data')\n",
    "df_outlier_2"
   ]
  },
  {
   "cell_type": "code",
   "execution_count": 60,
   "id": "3f6887e8",
   "metadata": {},
   "outputs": [
    {
     "data": {
      "application/vnd.microsoft.datawrangler.viewer.v0+json": {
       "columns": [
        {
         "name": "index",
         "rawType": "int64",
         "type": "integer"
        },
        {
         "name": "gauge_code",
         "rawType": "object",
         "type": "string"
        },
        {
         "name": "datetime",
         "rawType": "datetime64[ns]",
         "type": "datetime"
        },
        {
         "name": "lat",
         "rawType": "float64",
         "type": "float"
        },
        {
         "name": "long",
         "rawType": "float64",
         "type": "float"
        },
        {
         "name": "observed_rain_mm",
         "rawType": "float64",
         "type": "float"
        },
        {
         "name": "interpolated_rain_mm",
         "rawType": "float64",
         "type": "float"
        },
        {
         "name": "outlier_status_2",
         "rawType": "int64",
         "type": "integer"
        }
       ],
       "conversionMethod": "pd.DataFrame",
       "ref": "b259c560-636f-49bd-b8d7-7b0317b535d9",
       "rows": [
        [
         "2",
         "352990601A",
         "2014-02-15 00:00:00",
         "-24.283",
         "-47.456",
         "274.084071842",
         "129.95540503757883",
         "1"
        ],
        [
         "3",
         "355540607A",
         "2014-02-15 00:00:00",
         "-23.517",
         "-45.19600000000001",
         "211.51955503",
         "146.64975041969683",
         "1"
        ],
        [
         "4",
         "355540613A",
         "2014-02-15 00:00:00",
         "-23.419",
         "-45.066",
         "203.908136466",
         "177.68482063726026",
         "1"
        ],
        [
         "5",
         "330010013A",
         "2014-03-22 00:00:00",
         "-22.902",
         "-44.332",
         "219.237016063",
         "145.88330713413197",
         "1"
        ],
        [
         "10",
         "355070402A",
         "2014-04-14 00:00:00",
         "-23.758",
         "-45.764",
         "226.889704011",
         "133.1075878746265",
         "1"
        ],
        [
         "16",
         "320060703A",
         "2014-10-30 00:00:00",
         "-19.919",
         "-40.131",
         "210.295094196",
         "155.23186143467663",
         "1"
        ],
        [
         "17",
         "320060706A",
         "2014-10-30 00:00:00",
         "-19.679",
         "-40.259",
         "216.96819734599998",
         "117.44442036054866",
         "1"
        ],
        [
         "18",
         "320500204A",
         "2014-10-30 00:00:00",
         "-20.156",
         "-40.273",
         "202.068429923",
         "228.67879415789352",
         "1"
        ],
        [
         "19",
         "320500205A",
         "2014-10-30 00:00:00",
         "-20.219",
         "-40.281",
         "215.955972871",
         "209.6939722509662",
         "1"
        ],
        [
         "20",
         "320500208A",
         "2014-10-30 00:00:00",
         "-20.137",
         "-40.248",
         "280.161147506",
         "205.4530223897085",
         "1"
        ],
        [
         "21",
         "320500209A",
         "2014-10-30 00:00:00",
         "-20.219",
         "-40.25",
         "367.556034473",
         "203.689418252679",
         "1"
        ],
        [
         "22",
         "320500211A",
         "2014-10-30 00:00:00",
         "-20.241",
         "-40.269",
         "255.760850455",
         "250.5791654649481",
         "1"
        ],
        [
         "23",
         "320500212A",
         "2014-10-30 00:00:00",
         "-20.171",
         "-40.258",
         "292.0814273",
         "203.93510661439802",
         "1"
        ],
        [
         "24",
         "320530908A",
         "2014-10-30 00:00:00",
         "-20.257",
         "-40.268",
         "267.283482219",
         "247.26073595697645",
         "1"
        ],
        [
         "26",
         "351870117A",
         "2014-12-22 00:00:00",
         "-24.024",
         "-46.284",
         "214.975779838",
         "146.89368046832686",
         "1"
        ],
        [
         "27",
         "355100907A",
         "2014-12-22 00:00:00",
         "-23.926",
         "-46.46100000000001",
         "211.515702798",
         "93.57924846766808",
         "1"
        ],
        [
         "28",
         "351870115A",
         "2014-12-23 00:00:00",
         "-23.938",
         "-46.18600000000001",
         "202.92224753600001",
         "161.4204438202116",
         "1"
        ],
        [
         "29",
         "355070406A",
         "2014-12-23 00:00:00",
         "-23.776",
         "-45.653",
         "310.697519681",
         "273.2587968439591",
         "1"
        ],
        [
         "30",
         "355070410A",
         "2014-12-23 00:00:00",
         "-23.768",
         "-45.685",
         "225.452977078",
         "267.9919886693878",
         "1"
        ],
        [
         "31",
         "355070411A",
         "2014-12-23 00:00:00",
         "-23.759",
         "-45.722",
         "205.322075581",
         "220.47057734310476",
         "1"
        ],
        [
         "32",
         "355070413A",
         "2014-12-23 00:00:00",
         "-23.814",
         "-45.53100000000001",
         "317.18257998900003",
         "260.4919049751498",
         "1"
        ],
        [
         "33",
         "355070414A",
         "2014-12-23 00:00:00",
         "-23.777",
         "-45.61199999999999",
         "335.389328187",
         "325.5463707612284",
         "1"
        ],
        [
         "34",
         "355070416A",
         "2014-12-23 00:00:00",
         "-23.793",
         "-45.566",
         "265.465871687",
         "326.9530230676434",
         "1"
        ],
        [
         "35",
         "355070419A",
         "2014-12-23 00:00:00",
         "-23.767",
         "-45.596",
         "344.669654523",
         "318.3744412955969",
         "1"
        ],
        [
         "36",
         "351350405A",
         "2015-01-22 00:00:00",
         "-23.882",
         "-46.455",
         "211.169416577",
         "223.55840494893792",
         "1"
        ],
        [
         "37",
         "351350406A",
         "2015-01-22 00:00:00",
         "-23.921",
         "-46.424",
         "216.788340448",
         "182.9661086808098",
         "1"
        ],
        [
         "38",
         "351350407A",
         "2015-01-22 00:00:00",
         "-23.902",
         "-46.449",
         "298.17277937800003",
         "187.6187389167048",
         "1"
        ],
        [
         "40",
         "355100904A",
         "2015-01-22 00:00:00",
         "-23.963",
         "-46.39100000000001",
         "236.09520133",
         "105.11907396132466",
         "1"
        ],
        [
         "41",
         "355100902A",
         "2015-01-23 00:00:00",
         "-23.976",
         "-46.477",
         "210.288204299",
         "152.79104229441853",
         "1"
        ],
        [
         "42",
         "355070411A",
         "2015-01-31 00:00:00",
         "-23.759",
         "-45.722",
         "264.202187797",
         "127.7963845734788",
         "1"
        ],
        [
         "47",
         "421050601A",
         "2015-07-14 00:00:00",
         "-26.76057",
         "-53.17418000000001",
         "208.8",
         "112.58397642119209",
         "1"
        ],
        [
         "66",
         "355540623A",
         "2016-01-02 00:00:00",
         "-23.485",
         "-45.105",
         "294.28",
         "108.51089185064055",
         "1"
        ],
        [
         "73",
         "352720701A",
         "2016-01-14 00:00:00",
         "-22.73684",
         "-45.1237",
         "206.0",
         "129.1751507307995",
         "1"
        ],
        [
         "80",
         "430700503A",
         "2016-01-31 00:00:00",
         "-27.641",
         "-52.23699999999999",
         "215.8",
         "190.85956852903524",
         "1"
        ],
        [
         "81",
         "352210901A",
         "2016-02-07 00:00:00",
         "-24.214",
         "-46.87",
         "237.94",
         "141.24927797625085",
         "1"
        ],
        [
         "85",
         "355070411A",
         "2016-02-29 00:00:00",
         "-23.759",
         "-45.722",
         "204.09",
         "163.4013925355518",
         "1"
        ],
        [
         "86",
         "355070419A",
         "2016-02-29 00:00:00",
         "-23.767",
         "-45.596",
         "217.96",
         "90.37781036136633",
         "1"
        ],
        [
         "95",
         "420245301A",
         "2016-04-13 00:00:00",
         "-27.14472",
         "-48.51068",
         "275.6",
         "97.49491700475369",
         "1"
        ],
        [
         "100",
         "250180701A",
         "2016-04-16 00:00:00",
         "-7.122000000000001",
         "-34.906",
         "201.2",
         "191.09283591904378",
         "1"
        ],
        [
         "101",
         "250320901A",
         "2016-04-16 00:00:00",
         "-6.973",
         "-34.836",
         "297.6",
         "225.1709547743205",
         "1"
        ],
        [
         "102",
         "250320902A",
         "2016-04-16 00:00:00",
         "-7.037000000000001",
         "-34.851",
         "262.8",
         "208.32700988203567",
         "1"
        ],
        [
         "103",
         "250750707A",
         "2016-04-16 00:00:00",
         "-7.119",
         "-34.886",
         "206.4",
         "186.84062107783768",
         "1"
        ],
        [
         "105",
         "260960003A",
         "2016-05-09 00:00:00",
         "-8.008",
         "-34.851",
         "241.11",
         "206.1272417145561",
         "1"
        ],
        [
         "106",
         "260960004A",
         "2016-05-09 00:00:00",
         "-7.984",
         "-34.853",
         "241.5",
         "215.9150217882793",
         "1"
        ],
        [
         "107",
         "260960005A",
         "2016-05-09 00:00:00",
         "-7.973",
         "-34.868",
         "219.29",
         "206.40906939532243",
         "1"
        ],
        [
         "108",
         "261070704A",
         "2016-05-09 00:00:00",
         "-7.917999999999999",
         "-34.829",
         "203.92",
         "188.57121892188718",
         "1"
        ],
        [
         "109",
         "261070705A",
         "2016-05-09 00:00:00",
         "-7.954",
         "-34.83",
         "209.58",
         "209.39909442203017",
         "1"
        ],
        [
         "110",
         "260960003A",
         "2016-05-30 00:00:00",
         "-8.008",
         "-34.851",
         "212.85",
         "203.9303587085014",
         "1"
        ],
        [
         "111",
         "260960004A",
         "2016-05-30 00:00:00",
         "-7.984",
         "-34.853",
         "241.87",
         "219.80389950406604",
         "1"
        ],
        [
         "112",
         "260960005A",
         "2016-05-30 00:00:00",
         "-7.973",
         "-34.868",
         "232.97",
         "218.33329147706027",
         "1"
        ]
       ],
       "shape": {
        "columns": 7,
        "rows": 171
       }
      },
      "text/html": [
       "<div>\n",
       "<style scoped>\n",
       "    .dataframe tbody tr th:only-of-type {\n",
       "        vertical-align: middle;\n",
       "    }\n",
       "\n",
       "    .dataframe tbody tr th {\n",
       "        vertical-align: top;\n",
       "    }\n",
       "\n",
       "    .dataframe thead th {\n",
       "        text-align: right;\n",
       "    }\n",
       "</style>\n",
       "<table border=\"1\" class=\"dataframe\">\n",
       "  <thead>\n",
       "    <tr style=\"text-align: right;\">\n",
       "      <th></th>\n",
       "      <th>gauge_code</th>\n",
       "      <th>datetime</th>\n",
       "      <th>lat</th>\n",
       "      <th>long</th>\n",
       "      <th>observed_rain_mm</th>\n",
       "      <th>interpolated_rain_mm</th>\n",
       "      <th>outlier_status_2</th>\n",
       "    </tr>\n",
       "  </thead>\n",
       "  <tbody>\n",
       "    <tr>\n",
       "      <th>2</th>\n",
       "      <td>352990601A</td>\n",
       "      <td>2014-02-15</td>\n",
       "      <td>-24.283</td>\n",
       "      <td>-47.456</td>\n",
       "      <td>274.084072</td>\n",
       "      <td>129.955405</td>\n",
       "      <td>1</td>\n",
       "    </tr>\n",
       "    <tr>\n",
       "      <th>3</th>\n",
       "      <td>355540607A</td>\n",
       "      <td>2014-02-15</td>\n",
       "      <td>-23.517</td>\n",
       "      <td>-45.196</td>\n",
       "      <td>211.519555</td>\n",
       "      <td>146.649750</td>\n",
       "      <td>1</td>\n",
       "    </tr>\n",
       "    <tr>\n",
       "      <th>4</th>\n",
       "      <td>355540613A</td>\n",
       "      <td>2014-02-15</td>\n",
       "      <td>-23.419</td>\n",
       "      <td>-45.066</td>\n",
       "      <td>203.908136</td>\n",
       "      <td>177.684821</td>\n",
       "      <td>1</td>\n",
       "    </tr>\n",
       "    <tr>\n",
       "      <th>5</th>\n",
       "      <td>330010013A</td>\n",
       "      <td>2014-03-22</td>\n",
       "      <td>-22.902</td>\n",
       "      <td>-44.332</td>\n",
       "      <td>219.237016</td>\n",
       "      <td>145.883307</td>\n",
       "      <td>1</td>\n",
       "    </tr>\n",
       "    <tr>\n",
       "      <th>10</th>\n",
       "      <td>355070402A</td>\n",
       "      <td>2014-04-14</td>\n",
       "      <td>-23.758</td>\n",
       "      <td>-45.764</td>\n",
       "      <td>226.889704</td>\n",
       "      <td>133.107588</td>\n",
       "      <td>1</td>\n",
       "    </tr>\n",
       "    <tr>\n",
       "      <th>...</th>\n",
       "      <td>...</td>\n",
       "      <td>...</td>\n",
       "      <td>...</td>\n",
       "      <td>...</td>\n",
       "      <td>...</td>\n",
       "      <td>...</td>\n",
       "      <td>...</td>\n",
       "    </tr>\n",
       "    <tr>\n",
       "      <th>333</th>\n",
       "      <td>351870121A</td>\n",
       "      <td>2020-03-03</td>\n",
       "      <td>-23.994</td>\n",
       "      <td>-46.276</td>\n",
       "      <td>212.260000</td>\n",
       "      <td>137.185217</td>\n",
       "      <td>1</td>\n",
       "    </tr>\n",
       "    <tr>\n",
       "      <th>334</th>\n",
       "      <td>354850009A</td>\n",
       "      <td>2020-03-03</td>\n",
       "      <td>-23.891</td>\n",
       "      <td>-46.189</td>\n",
       "      <td>204.430000</td>\n",
       "      <td>163.606467</td>\n",
       "      <td>1</td>\n",
       "    </tr>\n",
       "    <tr>\n",
       "      <th>369</th>\n",
       "      <td>330250202A</td>\n",
       "      <td>2020-12-22</td>\n",
       "      <td>-22.576</td>\n",
       "      <td>-43.188</td>\n",
       "      <td>256.080000</td>\n",
       "      <td>146.032939</td>\n",
       "      <td>1</td>\n",
       "    </tr>\n",
       "    <tr>\n",
       "      <th>370</th>\n",
       "      <td>330250203A</td>\n",
       "      <td>2020-12-22</td>\n",
       "      <td>-22.594</td>\n",
       "      <td>-43.183</td>\n",
       "      <td>251.560000</td>\n",
       "      <td>184.869007</td>\n",
       "      <td>1</td>\n",
       "    </tr>\n",
       "    <tr>\n",
       "      <th>371</th>\n",
       "      <td>330250204A</td>\n",
       "      <td>2020-12-22</td>\n",
       "      <td>-22.602</td>\n",
       "      <td>-43.190</td>\n",
       "      <td>228.870000</td>\n",
       "      <td>220.832621</td>\n",
       "      <td>1</td>\n",
       "    </tr>\n",
       "  </tbody>\n",
       "</table>\n",
       "<p>171 rows × 7 columns</p>\n",
       "</div>"
      ],
      "text/plain": [
       "     gauge_code   datetime     lat    long  observed_rain_mm  \\\n",
       "2    352990601A 2014-02-15 -24.283 -47.456        274.084072   \n",
       "3    355540607A 2014-02-15 -23.517 -45.196        211.519555   \n",
       "4    355540613A 2014-02-15 -23.419 -45.066        203.908136   \n",
       "5    330010013A 2014-03-22 -22.902 -44.332        219.237016   \n",
       "10   355070402A 2014-04-14 -23.758 -45.764        226.889704   \n",
       "..          ...        ...     ...     ...               ...   \n",
       "333  351870121A 2020-03-03 -23.994 -46.276        212.260000   \n",
       "334  354850009A 2020-03-03 -23.891 -46.189        204.430000   \n",
       "369  330250202A 2020-12-22 -22.576 -43.188        256.080000   \n",
       "370  330250203A 2020-12-22 -22.594 -43.183        251.560000   \n",
       "371  330250204A 2020-12-22 -22.602 -43.190        228.870000   \n",
       "\n",
       "     interpolated_rain_mm  outlier_status_2  \n",
       "2              129.955405                 1  \n",
       "3              146.649750                 1  \n",
       "4              177.684821                 1  \n",
       "5              145.883307                 1  \n",
       "10             133.107588                 1  \n",
       "..                    ...               ...  \n",
       "333            137.185217                 1  \n",
       "334            163.606467                 1  \n",
       "369            146.032939                 1  \n",
       "370            184.869007                 1  \n",
       "371            220.832621                 1  \n",
       "\n",
       "[171 rows x 7 columns]"
      ]
     },
     "execution_count": 60,
     "metadata": {},
     "output_type": "execute_result"
    }
   ],
   "source": [
    "df_outlier_filter_2_export = df_outlier_2[df_outlier_2['interpolated_rain_mm'] >= 0.0].reset_index(drop = True)\n",
    "df_outlier_filter_2_export = df_outlier_filter_2_export[df_outlier_filter_2_export['interpolated_rain_mm'] >= 0.35 * df_outlier_filter_2_export['observed_rain_mm']]\n",
    "df_outlier_filter_2_export['outlier_status_2'] = 1\n",
    "df_outlier_filter_2_export"
   ]
  },
  {
   "cell_type": "code",
   "execution_count": 61,
   "id": "356911db",
   "metadata": {},
   "outputs": [
    {
     "data": {
      "application/vnd.microsoft.datawrangler.viewer.v0+json": {
       "columns": [
        {
         "name": "index",
         "rawType": "int64",
         "type": "integer"
        },
        {
         "name": "gauge_code",
         "rawType": "object",
         "type": "string"
        },
        {
         "name": "datetime",
         "rawType": "datetime64[ns]",
         "type": "datetime"
        },
        {
         "name": "lat",
         "rawType": "float64",
         "type": "float"
        },
        {
         "name": "long",
         "rawType": "float64",
         "type": "float"
        },
        {
         "name": "observed_rain_mm",
         "rawType": "float64",
         "type": "float"
        },
        {
         "name": "interpolated_rain_mm",
         "rawType": "float64",
         "type": "float"
        },
        {
         "name": "outlier_status_2",
         "rawType": "int64",
         "type": "integer"
        }
       ],
       "conversionMethod": "pd.DataFrame",
       "ref": "f5289a0d-9eef-43cb-b8a4-b242e0b7cf80",
       "rows": [
        [
         "2",
         "352990601A",
         "2014-02-15 00:00:00",
         "-24.283",
         "-47.456",
         "274.084071842",
         "129.95540503757883",
         "1"
        ],
        [
         "3",
         "355540607A",
         "2014-02-15 00:00:00",
         "-23.517",
         "-45.19600000000001",
         "211.51955503",
         "146.64975041969683",
         "1"
        ],
        [
         "4",
         "355540613A",
         "2014-02-15 00:00:00",
         "-23.419",
         "-45.066",
         "203.908136466",
         "177.68482063726026",
         "1"
        ],
        [
         "5",
         "330010013A",
         "2014-03-22 00:00:00",
         "-22.902",
         "-44.332",
         "219.237016063",
         "145.88330713413197",
         "1"
        ],
        [
         "10",
         "355070402A",
         "2014-04-14 00:00:00",
         "-23.758",
         "-45.764",
         "226.889704011",
         "133.1075878746265",
         "1"
        ],
        [
         "16",
         "320060703A",
         "2014-10-30 00:00:00",
         "-19.919",
         "-40.131",
         "210.295094196",
         "155.23186143467663",
         "1"
        ],
        [
         "17",
         "320060706A",
         "2014-10-30 00:00:00",
         "-19.679",
         "-40.259",
         "216.96819734599998",
         "117.44442036054866",
         "1"
        ],
        [
         "18",
         "320500204A",
         "2014-10-30 00:00:00",
         "-20.156",
         "-40.273",
         "202.068429923",
         "228.67879415789352",
         "1"
        ],
        [
         "19",
         "320500205A",
         "2014-10-30 00:00:00",
         "-20.219",
         "-40.281",
         "215.955972871",
         "209.6939722509662",
         "1"
        ],
        [
         "20",
         "320500208A",
         "2014-10-30 00:00:00",
         "-20.137",
         "-40.248",
         "280.161147506",
         "205.4530223897085",
         "1"
        ],
        [
         "21",
         "320500209A",
         "2014-10-30 00:00:00",
         "-20.219",
         "-40.25",
         "367.556034473",
         "203.689418252679",
         "1"
        ],
        [
         "22",
         "320500211A",
         "2014-10-30 00:00:00",
         "-20.241",
         "-40.269",
         "255.760850455",
         "250.5791654649481",
         "1"
        ],
        [
         "23",
         "320500212A",
         "2014-10-30 00:00:00",
         "-20.171",
         "-40.258",
         "292.0814273",
         "203.93510661439802",
         "1"
        ],
        [
         "24",
         "320530908A",
         "2014-10-30 00:00:00",
         "-20.257",
         "-40.268",
         "267.283482219",
         "247.26073595697645",
         "1"
        ],
        [
         "26",
         "351870117A",
         "2014-12-22 00:00:00",
         "-24.024",
         "-46.284",
         "214.975779838",
         "146.89368046832686",
         "1"
        ],
        [
         "27",
         "355100907A",
         "2014-12-22 00:00:00",
         "-23.926",
         "-46.46100000000001",
         "211.515702798",
         "93.57924846766808",
         "1"
        ],
        [
         "28",
         "351870115A",
         "2014-12-23 00:00:00",
         "-23.938",
         "-46.18600000000001",
         "202.92224753600001",
         "161.4204438202116",
         "1"
        ],
        [
         "29",
         "355070406A",
         "2014-12-23 00:00:00",
         "-23.776",
         "-45.653",
         "310.697519681",
         "273.2587968439591",
         "1"
        ],
        [
         "30",
         "355070410A",
         "2014-12-23 00:00:00",
         "-23.768",
         "-45.685",
         "225.452977078",
         "267.9919886693878",
         "1"
        ],
        [
         "31",
         "355070411A",
         "2014-12-23 00:00:00",
         "-23.759",
         "-45.722",
         "205.322075581",
         "220.47057734310476",
         "1"
        ],
        [
         "32",
         "355070413A",
         "2014-12-23 00:00:00",
         "-23.814",
         "-45.53100000000001",
         "317.18257998900003",
         "260.4919049751498",
         "1"
        ],
        [
         "33",
         "355070414A",
         "2014-12-23 00:00:00",
         "-23.777",
         "-45.61199999999999",
         "335.389328187",
         "325.5463707612284",
         "1"
        ],
        [
         "34",
         "355070416A",
         "2014-12-23 00:00:00",
         "-23.793",
         "-45.566",
         "265.465871687",
         "326.9530230676434",
         "1"
        ],
        [
         "35",
         "355070419A",
         "2014-12-23 00:00:00",
         "-23.767",
         "-45.596",
         "344.669654523",
         "318.3744412955969",
         "1"
        ],
        [
         "36",
         "351350405A",
         "2015-01-22 00:00:00",
         "-23.882",
         "-46.455",
         "211.169416577",
         "223.55840494893792",
         "1"
        ],
        [
         "37",
         "351350406A",
         "2015-01-22 00:00:00",
         "-23.921",
         "-46.424",
         "216.788340448",
         "182.9661086808098",
         "1"
        ],
        [
         "38",
         "351350407A",
         "2015-01-22 00:00:00",
         "-23.902",
         "-46.449",
         "298.17277937800003",
         "187.6187389167048",
         "1"
        ],
        [
         "40",
         "355100904A",
         "2015-01-22 00:00:00",
         "-23.963",
         "-46.39100000000001",
         "236.09520133",
         "105.11907396132466",
         "1"
        ],
        [
         "41",
         "355100902A",
         "2015-01-23 00:00:00",
         "-23.976",
         "-46.477",
         "210.288204299",
         "152.79104229441853",
         "1"
        ],
        [
         "42",
         "355070411A",
         "2015-01-31 00:00:00",
         "-23.759",
         "-45.722",
         "264.202187797",
         "127.7963845734788",
         "1"
        ],
        [
         "47",
         "421050601A",
         "2015-07-14 00:00:00",
         "-26.76057",
         "-53.17418000000001",
         "208.8",
         "112.58397642119209",
         "1"
        ],
        [
         "66",
         "355540623A",
         "2016-01-02 00:00:00",
         "-23.485",
         "-45.105",
         "294.28",
         "108.51089185064055",
         "1"
        ],
        [
         "73",
         "352720701A",
         "2016-01-14 00:00:00",
         "-22.73684",
         "-45.1237",
         "206.0",
         "129.1751507307995",
         "1"
        ],
        [
         "80",
         "430700503A",
         "2016-01-31 00:00:00",
         "-27.641",
         "-52.23699999999999",
         "215.8",
         "190.85956852903524",
         "1"
        ],
        [
         "81",
         "352210901A",
         "2016-02-07 00:00:00",
         "-24.214",
         "-46.87",
         "237.94",
         "141.24927797625085",
         "1"
        ],
        [
         "85",
         "355070411A",
         "2016-02-29 00:00:00",
         "-23.759",
         "-45.722",
         "204.09",
         "163.4013925355518",
         "1"
        ],
        [
         "86",
         "355070419A",
         "2016-02-29 00:00:00",
         "-23.767",
         "-45.596",
         "217.96",
         "90.37781036136633",
         "1"
        ],
        [
         "95",
         "420245301A",
         "2016-04-13 00:00:00",
         "-27.14472",
         "-48.51068",
         "275.6",
         "97.49491700475369",
         "1"
        ],
        [
         "100",
         "250180701A",
         "2016-04-16 00:00:00",
         "-7.122000000000001",
         "-34.906",
         "201.2",
         "191.09283591904378",
         "1"
        ],
        [
         "101",
         "250320901A",
         "2016-04-16 00:00:00",
         "-6.973",
         "-34.836",
         "297.6",
         "225.1709547743205",
         "1"
        ],
        [
         "102",
         "250320902A",
         "2016-04-16 00:00:00",
         "-7.037000000000001",
         "-34.851",
         "262.8",
         "208.32700988203567",
         "1"
        ],
        [
         "103",
         "250750707A",
         "2016-04-16 00:00:00",
         "-7.119",
         "-34.886",
         "206.4",
         "186.84062107783768",
         "1"
        ],
        [
         "105",
         "260960003A",
         "2016-05-09 00:00:00",
         "-8.008",
         "-34.851",
         "241.11",
         "206.1272417145561",
         "1"
        ],
        [
         "106",
         "260960004A",
         "2016-05-09 00:00:00",
         "-7.984",
         "-34.853",
         "241.5",
         "215.9150217882793",
         "1"
        ],
        [
         "107",
         "260960005A",
         "2016-05-09 00:00:00",
         "-7.973",
         "-34.868",
         "219.29",
         "206.40906939532243",
         "1"
        ],
        [
         "108",
         "261070704A",
         "2016-05-09 00:00:00",
         "-7.917999999999999",
         "-34.829",
         "203.92",
         "188.57121892188718",
         "1"
        ],
        [
         "109",
         "261070705A",
         "2016-05-09 00:00:00",
         "-7.954",
         "-34.83",
         "209.58",
         "209.39909442203017",
         "1"
        ],
        [
         "110",
         "260960003A",
         "2016-05-30 00:00:00",
         "-8.008",
         "-34.851",
         "212.85",
         "203.9303587085014",
         "1"
        ],
        [
         "111",
         "260960004A",
         "2016-05-30 00:00:00",
         "-7.984",
         "-34.853",
         "241.87",
         "219.80389950406604",
         "1"
        ],
        [
         "112",
         "260960005A",
         "2016-05-30 00:00:00",
         "-7.973",
         "-34.868",
         "232.97",
         "218.33329147706027",
         "1"
        ]
       ],
       "shape": {
        "columns": 7,
        "rows": 171
       }
      },
      "text/html": [
       "<div>\n",
       "<style scoped>\n",
       "    .dataframe tbody tr th:only-of-type {\n",
       "        vertical-align: middle;\n",
       "    }\n",
       "\n",
       "    .dataframe tbody tr th {\n",
       "        vertical-align: top;\n",
       "    }\n",
       "\n",
       "    .dataframe thead th {\n",
       "        text-align: right;\n",
       "    }\n",
       "</style>\n",
       "<table border=\"1\" class=\"dataframe\">\n",
       "  <thead>\n",
       "    <tr style=\"text-align: right;\">\n",
       "      <th></th>\n",
       "      <th>gauge_code</th>\n",
       "      <th>datetime</th>\n",
       "      <th>lat</th>\n",
       "      <th>long</th>\n",
       "      <th>observed_rain_mm</th>\n",
       "      <th>interpolated_rain_mm</th>\n",
       "      <th>outlier_status_2</th>\n",
       "    </tr>\n",
       "  </thead>\n",
       "  <tbody>\n",
       "    <tr>\n",
       "      <th>2</th>\n",
       "      <td>352990601A</td>\n",
       "      <td>2014-02-15</td>\n",
       "      <td>-24.283</td>\n",
       "      <td>-47.456</td>\n",
       "      <td>274.084072</td>\n",
       "      <td>129.955405</td>\n",
       "      <td>1</td>\n",
       "    </tr>\n",
       "    <tr>\n",
       "      <th>3</th>\n",
       "      <td>355540607A</td>\n",
       "      <td>2014-02-15</td>\n",
       "      <td>-23.517</td>\n",
       "      <td>-45.196</td>\n",
       "      <td>211.519555</td>\n",
       "      <td>146.649750</td>\n",
       "      <td>1</td>\n",
       "    </tr>\n",
       "    <tr>\n",
       "      <th>4</th>\n",
       "      <td>355540613A</td>\n",
       "      <td>2014-02-15</td>\n",
       "      <td>-23.419</td>\n",
       "      <td>-45.066</td>\n",
       "      <td>203.908136</td>\n",
       "      <td>177.684821</td>\n",
       "      <td>1</td>\n",
       "    </tr>\n",
       "    <tr>\n",
       "      <th>5</th>\n",
       "      <td>330010013A</td>\n",
       "      <td>2014-03-22</td>\n",
       "      <td>-22.902</td>\n",
       "      <td>-44.332</td>\n",
       "      <td>219.237016</td>\n",
       "      <td>145.883307</td>\n",
       "      <td>1</td>\n",
       "    </tr>\n",
       "    <tr>\n",
       "      <th>10</th>\n",
       "      <td>355070402A</td>\n",
       "      <td>2014-04-14</td>\n",
       "      <td>-23.758</td>\n",
       "      <td>-45.764</td>\n",
       "      <td>226.889704</td>\n",
       "      <td>133.107588</td>\n",
       "      <td>1</td>\n",
       "    </tr>\n",
       "    <tr>\n",
       "      <th>...</th>\n",
       "      <td>...</td>\n",
       "      <td>...</td>\n",
       "      <td>...</td>\n",
       "      <td>...</td>\n",
       "      <td>...</td>\n",
       "      <td>...</td>\n",
       "      <td>...</td>\n",
       "    </tr>\n",
       "    <tr>\n",
       "      <th>333</th>\n",
       "      <td>351870121A</td>\n",
       "      <td>2020-03-03</td>\n",
       "      <td>-23.994</td>\n",
       "      <td>-46.276</td>\n",
       "      <td>212.260000</td>\n",
       "      <td>137.185217</td>\n",
       "      <td>1</td>\n",
       "    </tr>\n",
       "    <tr>\n",
       "      <th>334</th>\n",
       "      <td>354850009A</td>\n",
       "      <td>2020-03-03</td>\n",
       "      <td>-23.891</td>\n",
       "      <td>-46.189</td>\n",
       "      <td>204.430000</td>\n",
       "      <td>163.606467</td>\n",
       "      <td>1</td>\n",
       "    </tr>\n",
       "    <tr>\n",
       "      <th>369</th>\n",
       "      <td>330250202A</td>\n",
       "      <td>2020-12-22</td>\n",
       "      <td>-22.576</td>\n",
       "      <td>-43.188</td>\n",
       "      <td>256.080000</td>\n",
       "      <td>146.032939</td>\n",
       "      <td>1</td>\n",
       "    </tr>\n",
       "    <tr>\n",
       "      <th>370</th>\n",
       "      <td>330250203A</td>\n",
       "      <td>2020-12-22</td>\n",
       "      <td>-22.594</td>\n",
       "      <td>-43.183</td>\n",
       "      <td>251.560000</td>\n",
       "      <td>184.869007</td>\n",
       "      <td>1</td>\n",
       "    </tr>\n",
       "    <tr>\n",
       "      <th>371</th>\n",
       "      <td>330250204A</td>\n",
       "      <td>2020-12-22</td>\n",
       "      <td>-22.602</td>\n",
       "      <td>-43.190</td>\n",
       "      <td>228.870000</td>\n",
       "      <td>220.832621</td>\n",
       "      <td>1</td>\n",
       "    </tr>\n",
       "  </tbody>\n",
       "</table>\n",
       "<p>171 rows × 7 columns</p>\n",
       "</div>"
      ],
      "text/plain": [
       "     gauge_code   datetime     lat    long  observed_rain_mm  \\\n",
       "2    352990601A 2014-02-15 -24.283 -47.456        274.084072   \n",
       "3    355540607A 2014-02-15 -23.517 -45.196        211.519555   \n",
       "4    355540613A 2014-02-15 -23.419 -45.066        203.908136   \n",
       "5    330010013A 2014-03-22 -22.902 -44.332        219.237016   \n",
       "10   355070402A 2014-04-14 -23.758 -45.764        226.889704   \n",
       "..          ...        ...     ...     ...               ...   \n",
       "333  351870121A 2020-03-03 -23.994 -46.276        212.260000   \n",
       "334  354850009A 2020-03-03 -23.891 -46.189        204.430000   \n",
       "369  330250202A 2020-12-22 -22.576 -43.188        256.080000   \n",
       "370  330250203A 2020-12-22 -22.594 -43.183        251.560000   \n",
       "371  330250204A 2020-12-22 -22.602 -43.190        228.870000   \n",
       "\n",
       "     interpolated_rain_mm  outlier_status_2  \n",
       "2              129.955405                 1  \n",
       "3              146.649750                 1  \n",
       "4              177.684821                 1  \n",
       "5              145.883307                 1  \n",
       "10             133.107588                 1  \n",
       "..                    ...               ...  \n",
       "333            137.185217                 1  \n",
       "334            163.606467                 1  \n",
       "369            146.032939                 1  \n",
       "370            184.869007                 1  \n",
       "371            220.832621                 1  \n",
       "\n",
       "[171 rows x 7 columns]"
      ]
     },
     "execution_count": 61,
     "metadata": {},
     "output_type": "execute_result"
    }
   ],
   "source": [
    "df_outlier_filter_2_export.to_hdf(\n",
    "        os.path.join(neighboring_data_path, \"neighboring_analysis_filter_2.h5\"),\n",
    "        key='table_data',\n",
    "        mode='w',\n",
    "        format='table',\n",
    "        complevel=9,\n",
    "        encoding='utf-8',\n",
    "        append=False,\n",
    "        min_itemsize={'gauge_code': 20}  # Adjust based on your max gauge code length\n",
    "    )\n",
    "df_outlier_filter_2_export"
   ]
  },
  {
   "cell_type": "code",
   "execution_count": 62,
   "id": "85b1f8f3",
   "metadata": {},
   "outputs": [
    {
     "data": {
      "application/vnd.microsoft.datawrangler.viewer.v0+json": {
       "columns": [
        {
         "name": "index",
         "rawType": "int64",
         "type": "integer"
        },
        {
         "name": "gauge_code",
         "rawType": "object",
         "type": "string"
        },
        {
         "name": "datetime",
         "rawType": "datetime64[ns]",
         "type": "datetime"
        },
        {
         "name": "outlier_status_1",
         "rawType": "int32",
         "type": "integer"
        }
       ],
       "conversionMethod": "pd.DataFrame",
       "ref": "e96b05bc-dfbe-4c81-8731-f42540c9edc7",
       "rows": [
        [
         "83398",
         "150480202A",
         "2019-11-17 00:00:00",
         "1"
        ],
        [
         "84544",
         "150480203A",
         "2019-11-17 00:00:00",
         "1"
        ],
        [
         "289201",
         "211130007A",
         "2016-01-23 00:00:00",
         "1"
        ],
        [
         "290134",
         "211130007A",
         "2018-11-30 00:00:00",
         "1"
        ],
        [
         "469759",
         "230380801U",
         "2018-12-24 00:00:00",
         "1"
        ],
        [
         "469796",
         "230380801U",
         "2019-01-30 00:00:00",
         "1"
        ],
        [
         "469839",
         "230380801U",
         "2019-03-14 00:00:00",
         "1"
        ],
        [
         "469935",
         "230380801U",
         "2019-06-18 00:00:00",
         "1"
        ],
        [
         "469968",
         "230380801U",
         "2019-07-21 00:00:00",
         "1"
        ],
        [
         "512655",
         "230440013A",
         "2014-04-03 00:00:00",
         "1"
        ],
        [
         "512668",
         "230440013A",
         "2014-04-16 00:00:00",
         "1"
        ],
        [
         "1137724",
         "261070703A",
         "2016-05-30 00:00:00",
         "1"
        ],
        [
         "1202263",
         "261160613A",
         "2019-06-13 00:00:00",
         "1"
        ],
        [
         "1588908",
         "291930601C",
         "2019-02-18 00:00:00",
         "1"
        ],
        [
         "1738435",
         "293290307H",
         "2016-08-24 00:00:00",
         "1"
        ],
        [
         "2225043",
         "314370801A",
         "2019-12-15 00:00:00",
         "1"
        ],
        [
         "2225103",
         "314370801A",
         "2020-02-21 00:00:00",
         "1"
        ],
        [
         "2619409",
         "320230603A",
         "2018-01-24 00:00:00",
         "1"
        ],
        [
         "4861415",
         "411820401A",
         "2017-03-06 00:00:00",
         "1"
        ],
        [
         "5330387",
         "420910201A",
         "2020-05-31 00:00:00",
         "1"
        ],
        [
         "5503668",
         "421480504A",
         "2019-04-16 00:00:00",
         "1"
        ],
        [
         "5884783",
         "431640202A",
         "2018-03-24 00:00:00",
         "1"
        ],
        [
         "6078298",
         "520540601A",
         "2018-03-08 00:00:00",
         "1"
        ]
       ],
       "shape": {
        "columns": 3,
        "rows": 23
       }
      },
      "text/html": [
       "<div>\n",
       "<style scoped>\n",
       "    .dataframe tbody tr th:only-of-type {\n",
       "        vertical-align: middle;\n",
       "    }\n",
       "\n",
       "    .dataframe tbody tr th {\n",
       "        vertical-align: top;\n",
       "    }\n",
       "\n",
       "    .dataframe thead th {\n",
       "        text-align: right;\n",
       "    }\n",
       "</style>\n",
       "<table border=\"1\" class=\"dataframe\">\n",
       "  <thead>\n",
       "    <tr style=\"text-align: right;\">\n",
       "      <th></th>\n",
       "      <th>gauge_code</th>\n",
       "      <th>datetime</th>\n",
       "      <th>outlier_status_1</th>\n",
       "    </tr>\n",
       "  </thead>\n",
       "  <tbody>\n",
       "    <tr>\n",
       "      <th>83398</th>\n",
       "      <td>150480202A</td>\n",
       "      <td>2019-11-17</td>\n",
       "      <td>1</td>\n",
       "    </tr>\n",
       "    <tr>\n",
       "      <th>84544</th>\n",
       "      <td>150480203A</td>\n",
       "      <td>2019-11-17</td>\n",
       "      <td>1</td>\n",
       "    </tr>\n",
       "    <tr>\n",
       "      <th>289201</th>\n",
       "      <td>211130007A</td>\n",
       "      <td>2016-01-23</td>\n",
       "      <td>1</td>\n",
       "    </tr>\n",
       "    <tr>\n",
       "      <th>290134</th>\n",
       "      <td>211130007A</td>\n",
       "      <td>2018-11-30</td>\n",
       "      <td>1</td>\n",
       "    </tr>\n",
       "    <tr>\n",
       "      <th>469759</th>\n",
       "      <td>230380801U</td>\n",
       "      <td>2018-12-24</td>\n",
       "      <td>1</td>\n",
       "    </tr>\n",
       "    <tr>\n",
       "      <th>469796</th>\n",
       "      <td>230380801U</td>\n",
       "      <td>2019-01-30</td>\n",
       "      <td>1</td>\n",
       "    </tr>\n",
       "    <tr>\n",
       "      <th>469839</th>\n",
       "      <td>230380801U</td>\n",
       "      <td>2019-03-14</td>\n",
       "      <td>1</td>\n",
       "    </tr>\n",
       "    <tr>\n",
       "      <th>469935</th>\n",
       "      <td>230380801U</td>\n",
       "      <td>2019-06-18</td>\n",
       "      <td>1</td>\n",
       "    </tr>\n",
       "    <tr>\n",
       "      <th>469968</th>\n",
       "      <td>230380801U</td>\n",
       "      <td>2019-07-21</td>\n",
       "      <td>1</td>\n",
       "    </tr>\n",
       "    <tr>\n",
       "      <th>512655</th>\n",
       "      <td>230440013A</td>\n",
       "      <td>2014-04-03</td>\n",
       "      <td>1</td>\n",
       "    </tr>\n",
       "    <tr>\n",
       "      <th>512668</th>\n",
       "      <td>230440013A</td>\n",
       "      <td>2014-04-16</td>\n",
       "      <td>1</td>\n",
       "    </tr>\n",
       "    <tr>\n",
       "      <th>1137724</th>\n",
       "      <td>261070703A</td>\n",
       "      <td>2016-05-30</td>\n",
       "      <td>1</td>\n",
       "    </tr>\n",
       "    <tr>\n",
       "      <th>1202263</th>\n",
       "      <td>261160613A</td>\n",
       "      <td>2019-06-13</td>\n",
       "      <td>1</td>\n",
       "    </tr>\n",
       "    <tr>\n",
       "      <th>1588908</th>\n",
       "      <td>291930601C</td>\n",
       "      <td>2019-02-18</td>\n",
       "      <td>1</td>\n",
       "    </tr>\n",
       "    <tr>\n",
       "      <th>1738435</th>\n",
       "      <td>293290307H</td>\n",
       "      <td>2016-08-24</td>\n",
       "      <td>1</td>\n",
       "    </tr>\n",
       "    <tr>\n",
       "      <th>2225043</th>\n",
       "      <td>314370801A</td>\n",
       "      <td>2019-12-15</td>\n",
       "      <td>1</td>\n",
       "    </tr>\n",
       "    <tr>\n",
       "      <th>2225103</th>\n",
       "      <td>314370801A</td>\n",
       "      <td>2020-02-21</td>\n",
       "      <td>1</td>\n",
       "    </tr>\n",
       "    <tr>\n",
       "      <th>2619409</th>\n",
       "      <td>320230603A</td>\n",
       "      <td>2018-01-24</td>\n",
       "      <td>1</td>\n",
       "    </tr>\n",
       "    <tr>\n",
       "      <th>4861415</th>\n",
       "      <td>411820401A</td>\n",
       "      <td>2017-03-06</td>\n",
       "      <td>1</td>\n",
       "    </tr>\n",
       "    <tr>\n",
       "      <th>5330387</th>\n",
       "      <td>420910201A</td>\n",
       "      <td>2020-05-31</td>\n",
       "      <td>1</td>\n",
       "    </tr>\n",
       "    <tr>\n",
       "      <th>5503668</th>\n",
       "      <td>421480504A</td>\n",
       "      <td>2019-04-16</td>\n",
       "      <td>1</td>\n",
       "    </tr>\n",
       "    <tr>\n",
       "      <th>5884783</th>\n",
       "      <td>431640202A</td>\n",
       "      <td>2018-03-24</td>\n",
       "      <td>1</td>\n",
       "    </tr>\n",
       "    <tr>\n",
       "      <th>6078298</th>\n",
       "      <td>520540601A</td>\n",
       "      <td>2018-03-08</td>\n",
       "      <td>1</td>\n",
       "    </tr>\n",
       "  </tbody>\n",
       "</table>\n",
       "</div>"
      ],
      "text/plain": [
       "         gauge_code   datetime  outlier_status_1\n",
       "83398    150480202A 2019-11-17                 1\n",
       "84544    150480203A 2019-11-17                 1\n",
       "289201   211130007A 2016-01-23                 1\n",
       "290134   211130007A 2018-11-30                 1\n",
       "469759   230380801U 2018-12-24                 1\n",
       "469796   230380801U 2019-01-30                 1\n",
       "469839   230380801U 2019-03-14                 1\n",
       "469935   230380801U 2019-06-18                 1\n",
       "469968   230380801U 2019-07-21                 1\n",
       "512655   230440013A 2014-04-03                 1\n",
       "512668   230440013A 2014-04-16                 1\n",
       "1137724  261070703A 2016-05-30                 1\n",
       "1202263  261160613A 2019-06-13                 1\n",
       "1588908  291930601C 2019-02-18                 1\n",
       "1738435  293290307H 2016-08-24                 1\n",
       "2225043  314370801A 2019-12-15                 1\n",
       "2225103  314370801A 2020-02-21                 1\n",
       "2619409  320230603A 2018-01-24                 1\n",
       "4861415  411820401A 2017-03-06                 1\n",
       "5330387  420910201A 2020-05-31                 1\n",
       "5503668  421480504A 2019-04-16                 1\n",
       "5884783  431640202A 2018-03-24                 1\n",
       "6078298  520540601A 2018-03-08                 1"
      ]
     },
     "execution_count": 62,
     "metadata": {},
     "output_type": "execute_result"
    }
   ],
   "source": [
    "df_filter_1 = pd.read_hdf(os.path.join(neighboring_data_path, \"adjacent_day_analysis_filter_1.h5\"), key='table_data')\n",
    "df_filter_1 = df_filter_1[['gauge_code', 'datetime', 'outlier_status_1']]\n",
    "df_filter_1"
   ]
  },
  {
   "cell_type": "code",
   "execution_count": 63,
   "id": "37f22b9e",
   "metadata": {},
   "outputs": [
    {
     "data": {
      "application/vnd.microsoft.datawrangler.viewer.v0+json": {
       "columns": [
        {
         "name": "index",
         "rawType": "int64",
         "type": "integer"
        },
        {
         "name": "gauge_code",
         "rawType": "object",
         "type": "string"
        },
        {
         "name": "datetime",
         "rawType": "datetime64[ns]",
         "type": "datetime"
        },
        {
         "name": "outlier_status_2",
         "rawType": "int64",
         "type": "integer"
        }
       ],
       "conversionMethod": "pd.DataFrame",
       "ref": "7a480a1e-d1fe-4091-a335-372290210095",
       "rows": [
        [
         "2",
         "352990601A",
         "2014-02-15 00:00:00",
         "1"
        ],
        [
         "3",
         "355540607A",
         "2014-02-15 00:00:00",
         "1"
        ],
        [
         "4",
         "355540613A",
         "2014-02-15 00:00:00",
         "1"
        ],
        [
         "5",
         "330010013A",
         "2014-03-22 00:00:00",
         "1"
        ],
        [
         "10",
         "355070402A",
         "2014-04-14 00:00:00",
         "1"
        ],
        [
         "16",
         "320060703A",
         "2014-10-30 00:00:00",
         "1"
        ],
        [
         "17",
         "320060706A",
         "2014-10-30 00:00:00",
         "1"
        ],
        [
         "18",
         "320500204A",
         "2014-10-30 00:00:00",
         "1"
        ],
        [
         "19",
         "320500205A",
         "2014-10-30 00:00:00",
         "1"
        ],
        [
         "20",
         "320500208A",
         "2014-10-30 00:00:00",
         "1"
        ],
        [
         "21",
         "320500209A",
         "2014-10-30 00:00:00",
         "1"
        ],
        [
         "22",
         "320500211A",
         "2014-10-30 00:00:00",
         "1"
        ],
        [
         "23",
         "320500212A",
         "2014-10-30 00:00:00",
         "1"
        ],
        [
         "24",
         "320530908A",
         "2014-10-30 00:00:00",
         "1"
        ],
        [
         "26",
         "351870117A",
         "2014-12-22 00:00:00",
         "1"
        ],
        [
         "27",
         "355100907A",
         "2014-12-22 00:00:00",
         "1"
        ],
        [
         "28",
         "351870115A",
         "2014-12-23 00:00:00",
         "1"
        ],
        [
         "29",
         "355070406A",
         "2014-12-23 00:00:00",
         "1"
        ],
        [
         "30",
         "355070410A",
         "2014-12-23 00:00:00",
         "1"
        ],
        [
         "31",
         "355070411A",
         "2014-12-23 00:00:00",
         "1"
        ],
        [
         "32",
         "355070413A",
         "2014-12-23 00:00:00",
         "1"
        ],
        [
         "33",
         "355070414A",
         "2014-12-23 00:00:00",
         "1"
        ],
        [
         "34",
         "355070416A",
         "2014-12-23 00:00:00",
         "1"
        ],
        [
         "35",
         "355070419A",
         "2014-12-23 00:00:00",
         "1"
        ],
        [
         "36",
         "351350405A",
         "2015-01-22 00:00:00",
         "1"
        ],
        [
         "37",
         "351350406A",
         "2015-01-22 00:00:00",
         "1"
        ],
        [
         "38",
         "351350407A",
         "2015-01-22 00:00:00",
         "1"
        ],
        [
         "40",
         "355100904A",
         "2015-01-22 00:00:00",
         "1"
        ],
        [
         "41",
         "355100902A",
         "2015-01-23 00:00:00",
         "1"
        ],
        [
         "42",
         "355070411A",
         "2015-01-31 00:00:00",
         "1"
        ],
        [
         "47",
         "421050601A",
         "2015-07-14 00:00:00",
         "1"
        ],
        [
         "66",
         "355540623A",
         "2016-01-02 00:00:00",
         "1"
        ],
        [
         "73",
         "352720701A",
         "2016-01-14 00:00:00",
         "1"
        ],
        [
         "80",
         "430700503A",
         "2016-01-31 00:00:00",
         "1"
        ],
        [
         "81",
         "352210901A",
         "2016-02-07 00:00:00",
         "1"
        ],
        [
         "85",
         "355070411A",
         "2016-02-29 00:00:00",
         "1"
        ],
        [
         "86",
         "355070419A",
         "2016-02-29 00:00:00",
         "1"
        ],
        [
         "95",
         "420245301A",
         "2016-04-13 00:00:00",
         "1"
        ],
        [
         "100",
         "250180701A",
         "2016-04-16 00:00:00",
         "1"
        ],
        [
         "101",
         "250320901A",
         "2016-04-16 00:00:00",
         "1"
        ],
        [
         "102",
         "250320902A",
         "2016-04-16 00:00:00",
         "1"
        ],
        [
         "103",
         "250750707A",
         "2016-04-16 00:00:00",
         "1"
        ],
        [
         "105",
         "260960003A",
         "2016-05-09 00:00:00",
         "1"
        ],
        [
         "106",
         "260960004A",
         "2016-05-09 00:00:00",
         "1"
        ],
        [
         "107",
         "260960005A",
         "2016-05-09 00:00:00",
         "1"
        ],
        [
         "108",
         "261070704A",
         "2016-05-09 00:00:00",
         "1"
        ],
        [
         "109",
         "261070705A",
         "2016-05-09 00:00:00",
         "1"
        ],
        [
         "110",
         "260960003A",
         "2016-05-30 00:00:00",
         "1"
        ],
        [
         "111",
         "260960004A",
         "2016-05-30 00:00:00",
         "1"
        ],
        [
         "112",
         "260960005A",
         "2016-05-30 00:00:00",
         "1"
        ]
       ],
       "shape": {
        "columns": 3,
        "rows": 171
       }
      },
      "text/html": [
       "<div>\n",
       "<style scoped>\n",
       "    .dataframe tbody tr th:only-of-type {\n",
       "        vertical-align: middle;\n",
       "    }\n",
       "\n",
       "    .dataframe tbody tr th {\n",
       "        vertical-align: top;\n",
       "    }\n",
       "\n",
       "    .dataframe thead th {\n",
       "        text-align: right;\n",
       "    }\n",
       "</style>\n",
       "<table border=\"1\" class=\"dataframe\">\n",
       "  <thead>\n",
       "    <tr style=\"text-align: right;\">\n",
       "      <th></th>\n",
       "      <th>gauge_code</th>\n",
       "      <th>datetime</th>\n",
       "      <th>outlier_status_2</th>\n",
       "    </tr>\n",
       "  </thead>\n",
       "  <tbody>\n",
       "    <tr>\n",
       "      <th>2</th>\n",
       "      <td>352990601A</td>\n",
       "      <td>2014-02-15</td>\n",
       "      <td>1</td>\n",
       "    </tr>\n",
       "    <tr>\n",
       "      <th>3</th>\n",
       "      <td>355540607A</td>\n",
       "      <td>2014-02-15</td>\n",
       "      <td>1</td>\n",
       "    </tr>\n",
       "    <tr>\n",
       "      <th>4</th>\n",
       "      <td>355540613A</td>\n",
       "      <td>2014-02-15</td>\n",
       "      <td>1</td>\n",
       "    </tr>\n",
       "    <tr>\n",
       "      <th>5</th>\n",
       "      <td>330010013A</td>\n",
       "      <td>2014-03-22</td>\n",
       "      <td>1</td>\n",
       "    </tr>\n",
       "    <tr>\n",
       "      <th>10</th>\n",
       "      <td>355070402A</td>\n",
       "      <td>2014-04-14</td>\n",
       "      <td>1</td>\n",
       "    </tr>\n",
       "    <tr>\n",
       "      <th>...</th>\n",
       "      <td>...</td>\n",
       "      <td>...</td>\n",
       "      <td>...</td>\n",
       "    </tr>\n",
       "    <tr>\n",
       "      <th>333</th>\n",
       "      <td>351870121A</td>\n",
       "      <td>2020-03-03</td>\n",
       "      <td>1</td>\n",
       "    </tr>\n",
       "    <tr>\n",
       "      <th>334</th>\n",
       "      <td>354850009A</td>\n",
       "      <td>2020-03-03</td>\n",
       "      <td>1</td>\n",
       "    </tr>\n",
       "    <tr>\n",
       "      <th>369</th>\n",
       "      <td>330250202A</td>\n",
       "      <td>2020-12-22</td>\n",
       "      <td>1</td>\n",
       "    </tr>\n",
       "    <tr>\n",
       "      <th>370</th>\n",
       "      <td>330250203A</td>\n",
       "      <td>2020-12-22</td>\n",
       "      <td>1</td>\n",
       "    </tr>\n",
       "    <tr>\n",
       "      <th>371</th>\n",
       "      <td>330250204A</td>\n",
       "      <td>2020-12-22</td>\n",
       "      <td>1</td>\n",
       "    </tr>\n",
       "  </tbody>\n",
       "</table>\n",
       "<p>171 rows × 3 columns</p>\n",
       "</div>"
      ],
      "text/plain": [
       "     gauge_code   datetime  outlier_status_2\n",
       "2    352990601A 2014-02-15                 1\n",
       "3    355540607A 2014-02-15                 1\n",
       "4    355540613A 2014-02-15                 1\n",
       "5    330010013A 2014-03-22                 1\n",
       "10   355070402A 2014-04-14                 1\n",
       "..          ...        ...               ...\n",
       "333  351870121A 2020-03-03                 1\n",
       "334  354850009A 2020-03-03                 1\n",
       "369  330250202A 2020-12-22                 1\n",
       "370  330250203A 2020-12-22                 1\n",
       "371  330250204A 2020-12-22                 1\n",
       "\n",
       "[171 rows x 3 columns]"
      ]
     },
     "execution_count": 63,
     "metadata": {},
     "output_type": "execute_result"
    }
   ],
   "source": [
    "df_filter_2 = pd.read_hdf(os.path.join(neighboring_data_path, \"neighboring_analysis_filter_2.h5\"), key='table_data')\n",
    "# df_filter_2['outlier_status_2'] = 1\n",
    "df_filter_2 = df_filter_2[['gauge_code', 'datetime', 'outlier_status_2']]\n",
    "df_filter_2"
   ]
  },
  {
   "cell_type": "code",
   "execution_count": 64,
   "id": "12954cd8",
   "metadata": {},
   "outputs": [
    {
     "data": {
      "application/vnd.microsoft.datawrangler.viewer.v0+json": {
       "columns": [
        {
         "name": "index",
         "rawType": "int64",
         "type": "integer"
        },
        {
         "name": "gauge_code",
         "rawType": "object",
         "type": "string"
        },
        {
         "name": "datetime",
         "rawType": "datetime64[ns]",
         "type": "datetime"
        },
        {
         "name": "rain_mm",
         "rawType": "float64",
         "type": "float"
        }
       ],
       "conversionMethod": "pd.DataFrame",
       "ref": "32e0cc69-c532-4019-8e6d-d0e22619b865",
       "rows": [
        [
         "0",
         "120010401A",
         "2018-08-14 00:00:00",
         "0.2"
        ],
        [
         "1",
         "120010401A",
         "2018-08-15 00:00:00",
         "37.4"
        ],
        [
         "2",
         "120010401A",
         "2018-08-16 00:00:00",
         "0.2"
        ],
        [
         "3",
         "120010401A",
         "2018-08-17 00:00:00",
         "0.0"
        ],
        [
         "4",
         "120010401A",
         "2018-08-18 00:00:00",
         "0.0"
        ],
        [
         "5",
         "120010401A",
         "2018-08-19 00:00:00",
         "0.0"
        ],
        [
         "6",
         "120010401A",
         "2018-08-20 00:00:00",
         "9.6"
        ],
        [
         "7",
         "120010401A",
         "2018-08-21 00:00:00",
         "0.6000000000000001"
        ],
        [
         "8",
         "120010401A",
         "2018-08-22 00:00:00",
         "0.2"
        ],
        [
         "9",
         "120010401A",
         "2018-08-23 00:00:00",
         "0.0"
        ],
        [
         "10",
         "120010401A",
         "2018-08-24 00:00:00",
         "0.0"
        ],
        [
         "11",
         "120010401A",
         "2018-08-25 00:00:00",
         "0.0"
        ],
        [
         "12",
         "120010401A",
         "2018-08-26 00:00:00",
         "3.6"
        ],
        [
         "13",
         "120010401A",
         "2018-08-27 00:00:00",
         "0.0"
        ],
        [
         "14",
         "120010401A",
         "2018-08-28 00:00:00",
         "0.0"
        ],
        [
         "15",
         "120010401A",
         "2018-08-29 00:00:00",
         "0.0"
        ],
        [
         "16",
         "120010401A",
         "2018-08-30 00:00:00",
         "0.0"
        ],
        [
         "17",
         "120010401A",
         "2018-08-31 00:00:00",
         "0.0"
        ],
        [
         "18",
         "120010401A",
         "2018-09-01 00:00:00",
         "0.0"
        ],
        [
         "19",
         "120010401A",
         "2018-09-02 00:00:00",
         "8.4"
        ],
        [
         "20",
         "120010401A",
         "2018-09-03 00:00:00",
         "0.2"
        ],
        [
         "21",
         "120010401A",
         "2018-09-04 00:00:00",
         "0.0"
        ],
        [
         "22",
         "120010401A",
         "2018-09-05 00:00:00",
         "0.0"
        ],
        [
         "23",
         "120010401A",
         "2018-09-06 00:00:00",
         "0.0"
        ],
        [
         "24",
         "120010401A",
         "2018-09-07 00:00:00",
         "0.0"
        ],
        [
         "25",
         "120010401A",
         "2018-09-08 00:00:00",
         "0.0"
        ],
        [
         "26",
         "120010401A",
         "2018-09-09 00:00:00",
         "0.0"
        ],
        [
         "27",
         "120010401A",
         "2018-09-10 00:00:00",
         "0.0"
        ],
        [
         "28",
         "120010401A",
         "2018-09-11 00:00:00",
         "0.0"
        ],
        [
         "29",
         "120010401A",
         "2018-09-12 00:00:00",
         "0.0"
        ],
        [
         "30",
         "120010401A",
         "2018-09-13 00:00:00",
         "0.0"
        ],
        [
         "31",
         "120010401A",
         "2018-09-14 00:00:00",
         "38.0"
        ],
        [
         "32",
         "120010401A",
         "2018-09-15 00:00:00",
         "0.2"
        ],
        [
         "33",
         "120010401A",
         "2018-09-16 00:00:00",
         "0.0"
        ],
        [
         "34",
         "120010401A",
         "2018-09-17 00:00:00",
         "0.2"
        ],
        [
         "35",
         "120010401A",
         "2018-09-18 00:00:00",
         "0.0"
        ],
        [
         "36",
         "120010401A",
         "2018-09-19 00:00:00",
         "0.4"
        ],
        [
         "37",
         "120010401A",
         "2018-09-20 00:00:00",
         "0.0"
        ],
        [
         "38",
         "120010401A",
         "2018-09-21 00:00:00",
         "3.0"
        ],
        [
         "39",
         "120010401A",
         "2018-09-22 00:00:00",
         "8.0"
        ],
        [
         "40",
         "120010401A",
         "2018-09-23 00:00:00",
         "0.2"
        ],
        [
         "41",
         "120010401A",
         "2018-09-24 00:00:00",
         "0.0"
        ],
        [
         "42",
         "120010401A",
         "2018-09-25 00:00:00",
         "0.0"
        ],
        [
         "43",
         "120010401A",
         "2018-09-26 00:00:00",
         "0.0"
        ],
        [
         "44",
         "120010401A",
         "2018-09-27 00:00:00",
         "0.0"
        ],
        [
         "45",
         "120010401A",
         "2018-09-28 00:00:00",
         "43.0"
        ],
        [
         "46",
         "120010401A",
         "2018-09-29 00:00:00",
         "15.0"
        ],
        [
         "47",
         "120010401A",
         "2018-09-30 00:00:00",
         "0.2"
        ],
        [
         "48",
         "120010401A",
         "2018-10-01 00:00:00",
         "0.0"
        ],
        [
         "49",
         "120010401A",
         "2018-10-02 00:00:00",
         "0.0"
        ]
       ],
       "shape": {
        "columns": 3,
        "rows": 6130657
       }
      },
      "text/html": [
       "<div>\n",
       "<style scoped>\n",
       "    .dataframe tbody tr th:only-of-type {\n",
       "        vertical-align: middle;\n",
       "    }\n",
       "\n",
       "    .dataframe tbody tr th {\n",
       "        vertical-align: top;\n",
       "    }\n",
       "\n",
       "    .dataframe thead th {\n",
       "        text-align: right;\n",
       "    }\n",
       "</style>\n",
       "<table border=\"1\" class=\"dataframe\">\n",
       "  <thead>\n",
       "    <tr style=\"text-align: right;\">\n",
       "      <th></th>\n",
       "      <th>gauge_code</th>\n",
       "      <th>datetime</th>\n",
       "      <th>rain_mm</th>\n",
       "    </tr>\n",
       "  </thead>\n",
       "  <tbody>\n",
       "    <tr>\n",
       "      <th>0</th>\n",
       "      <td>120010401A</td>\n",
       "      <td>2018-08-14</td>\n",
       "      <td>0.2</td>\n",
       "    </tr>\n",
       "    <tr>\n",
       "      <th>1</th>\n",
       "      <td>120010401A</td>\n",
       "      <td>2018-08-15</td>\n",
       "      <td>37.4</td>\n",
       "    </tr>\n",
       "    <tr>\n",
       "      <th>2</th>\n",
       "      <td>120010401A</td>\n",
       "      <td>2018-08-16</td>\n",
       "      <td>0.2</td>\n",
       "    </tr>\n",
       "    <tr>\n",
       "      <th>3</th>\n",
       "      <td>120010401A</td>\n",
       "      <td>2018-08-17</td>\n",
       "      <td>0.0</td>\n",
       "    </tr>\n",
       "    <tr>\n",
       "      <th>4</th>\n",
       "      <td>120010401A</td>\n",
       "      <td>2018-08-18</td>\n",
       "      <td>0.0</td>\n",
       "    </tr>\n",
       "    <tr>\n",
       "      <th>...</th>\n",
       "      <td>...</td>\n",
       "      <td>...</td>\n",
       "      <td>...</td>\n",
       "    </tr>\n",
       "    <tr>\n",
       "      <th>6130838</th>\n",
       "      <td>CEMADEN_14</td>\n",
       "      <td>2019-04-26</td>\n",
       "      <td>0.0</td>\n",
       "    </tr>\n",
       "    <tr>\n",
       "      <th>6130839</th>\n",
       "      <td>CEMADEN_14</td>\n",
       "      <td>2019-04-27</td>\n",
       "      <td>0.0</td>\n",
       "    </tr>\n",
       "    <tr>\n",
       "      <th>6130840</th>\n",
       "      <td>CEMADEN_14</td>\n",
       "      <td>2019-04-28</td>\n",
       "      <td>0.0</td>\n",
       "    </tr>\n",
       "    <tr>\n",
       "      <th>6130841</th>\n",
       "      <td>CEMADEN_14</td>\n",
       "      <td>2019-04-29</td>\n",
       "      <td>6.2</td>\n",
       "    </tr>\n",
       "    <tr>\n",
       "      <th>6130842</th>\n",
       "      <td>CEMADEN_14</td>\n",
       "      <td>2019-04-30</td>\n",
       "      <td>0.0</td>\n",
       "    </tr>\n",
       "  </tbody>\n",
       "</table>\n",
       "<p>6130657 rows × 3 columns</p>\n",
       "</div>"
      ],
      "text/plain": [
       "         gauge_code   datetime  rain_mm\n",
       "0        120010401A 2018-08-14      0.2\n",
       "1        120010401A 2018-08-15     37.4\n",
       "2        120010401A 2018-08-16      0.2\n",
       "3        120010401A 2018-08-17      0.0\n",
       "4        120010401A 2018-08-18      0.0\n",
       "...             ...        ...      ...\n",
       "6130838  CEMADEN_14 2019-04-26      0.0\n",
       "6130839  CEMADEN_14 2019-04-27      0.0\n",
       "6130840  CEMADEN_14 2019-04-28      0.0\n",
       "6130841  CEMADEN_14 2019-04-29      6.2\n",
       "6130842  CEMADEN_14 2019-04-30      0.0\n",
       "\n",
       "[6130657 rows x 3 columns]"
      ]
     },
     "execution_count": 64,
     "metadata": {},
     "output_type": "execute_result"
    }
   ],
   "source": [
    "df_data_filtered = pd.merge(df_cemaden_data, df_filter_1, on = ['gauge_code', 'datetime'], how = 'left').merge(df_filter_2, on = ['gauge_code', 'datetime'], how = 'left')\n",
    "df_data_filtered = df_data_filtered[(df_data_filtered['outlier_status_1'] != 1) & (df_data_filtered['outlier_status_2'] != 1)]\n",
    "df_data_filtered = df_data_filtered[['gauge_code', 'datetime', 'rain_mm']].copy(deep = True)\n",
    "df_data_filtered.to_hdf(cemaden_path, key='table_data_filtered', mode='r+', format='table', index=False, complevel=9, complib='zlib', append=False, encoding='utf-8', min_itemsize={'gauge_code': 20})\n",
    "df_data_filtered"
   ]
  },
  {
   "cell_type": "code",
   "execution_count": 66,
   "id": "be3a1cdf",
   "metadata": {},
   "outputs": [
    {
     "name": "stdout",
     "output_type": "stream",
     "text": [
      "['table_data', 'table_data_filtered', 'table_info', 'table_preclassif']\n"
     ]
    }
   ],
   "source": [
    "with h5py.File(cemaden_path, 'r') as hdf:\n",
    "    keys = list(hdf.keys())\n",
    "    print(keys)"
   ]
  },
  {
   "cell_type": "markdown",
   "id": "7278b49d",
   "metadata": {},
   "source": [
    "# Filtered Data"
   ]
  },
  {
   "cell_type": "code",
   "execution_count": 67,
   "id": "b3c3bf1b",
   "metadata": {},
   "outputs": [
    {
     "data": {
      "application/vnd.microsoft.datawrangler.viewer.v0+json": {
       "columns": [
        {
         "name": "index",
         "rawType": "int64",
         "type": "integer"
        },
        {
         "name": "gauge_code",
         "rawType": "object",
         "type": "string"
        },
        {
         "name": "datetime",
         "rawType": "datetime64[ns]",
         "type": "datetime"
        },
        {
         "name": "rain_mm",
         "rawType": "float64",
         "type": "float"
        },
        {
         "name": "year",
         "rawType": "int32",
         "type": "integer"
        }
       ],
       "conversionMethod": "pd.DataFrame",
       "ref": "c37cf169-f846-4334-8819-7d8576fe7d3a",
       "rows": [
        [
         "0",
         "120010401A",
         "2018-08-14 00:00:00",
         "0.2",
         "2018"
        ],
        [
         "1",
         "120010401A",
         "2018-08-15 00:00:00",
         "37.4",
         "2018"
        ],
        [
         "2",
         "120010401A",
         "2018-08-16 00:00:00",
         "0.2",
         "2018"
        ],
        [
         "3",
         "120010401A",
         "2018-08-17 00:00:00",
         "0.0",
         "2018"
        ],
        [
         "4",
         "120010401A",
         "2018-08-18 00:00:00",
         "0.0",
         "2018"
        ],
        [
         "5",
         "120010401A",
         "2018-08-19 00:00:00",
         "0.0",
         "2018"
        ],
        [
         "6",
         "120010401A",
         "2018-08-20 00:00:00",
         "9.6",
         "2018"
        ],
        [
         "7",
         "120010401A",
         "2018-08-21 00:00:00",
         "0.6000000000000001",
         "2018"
        ],
        [
         "8",
         "120010401A",
         "2018-08-22 00:00:00",
         "0.2",
         "2018"
        ],
        [
         "9",
         "120010401A",
         "2018-08-23 00:00:00",
         "0.0",
         "2018"
        ],
        [
         "10",
         "120010401A",
         "2018-08-24 00:00:00",
         "0.0",
         "2018"
        ],
        [
         "11",
         "120010401A",
         "2018-08-25 00:00:00",
         "0.0",
         "2018"
        ],
        [
         "12",
         "120010401A",
         "2018-08-26 00:00:00",
         "3.6",
         "2018"
        ],
        [
         "13",
         "120010401A",
         "2018-08-27 00:00:00",
         "0.0",
         "2018"
        ],
        [
         "14",
         "120010401A",
         "2018-08-28 00:00:00",
         "0.0",
         "2018"
        ],
        [
         "15",
         "120010401A",
         "2018-08-29 00:00:00",
         "0.0",
         "2018"
        ],
        [
         "16",
         "120010401A",
         "2018-08-30 00:00:00",
         "0.0",
         "2018"
        ],
        [
         "17",
         "120010401A",
         "2018-08-31 00:00:00",
         "0.0",
         "2018"
        ],
        [
         "18",
         "120010401A",
         "2018-09-01 00:00:00",
         "0.0",
         "2018"
        ],
        [
         "19",
         "120010401A",
         "2018-09-02 00:00:00",
         "8.4",
         "2018"
        ],
        [
         "20",
         "120010401A",
         "2018-09-03 00:00:00",
         "0.2",
         "2018"
        ],
        [
         "21",
         "120010401A",
         "2018-09-04 00:00:00",
         "0.0",
         "2018"
        ],
        [
         "22",
         "120010401A",
         "2018-09-05 00:00:00",
         "0.0",
         "2018"
        ],
        [
         "23",
         "120010401A",
         "2018-09-06 00:00:00",
         "0.0",
         "2018"
        ],
        [
         "24",
         "120010401A",
         "2018-09-07 00:00:00",
         "0.0",
         "2018"
        ],
        [
         "25",
         "120010401A",
         "2018-09-08 00:00:00",
         "0.0",
         "2018"
        ],
        [
         "26",
         "120010401A",
         "2018-09-09 00:00:00",
         "0.0",
         "2018"
        ],
        [
         "27",
         "120010401A",
         "2018-09-10 00:00:00",
         "0.0",
         "2018"
        ],
        [
         "28",
         "120010401A",
         "2018-09-11 00:00:00",
         "0.0",
         "2018"
        ],
        [
         "29",
         "120010401A",
         "2018-09-12 00:00:00",
         "0.0",
         "2018"
        ],
        [
         "30",
         "120010401A",
         "2018-09-13 00:00:00",
         "0.0",
         "2018"
        ],
        [
         "31",
         "120010401A",
         "2018-09-14 00:00:00",
         "38.0",
         "2018"
        ],
        [
         "32",
         "120010401A",
         "2018-09-15 00:00:00",
         "0.2",
         "2018"
        ],
        [
         "33",
         "120010401A",
         "2018-09-16 00:00:00",
         "0.0",
         "2018"
        ],
        [
         "34",
         "120010401A",
         "2018-09-17 00:00:00",
         "0.2",
         "2018"
        ],
        [
         "35",
         "120010401A",
         "2018-09-18 00:00:00",
         "0.0",
         "2018"
        ],
        [
         "36",
         "120010401A",
         "2018-09-19 00:00:00",
         "0.4",
         "2018"
        ],
        [
         "37",
         "120010401A",
         "2018-09-20 00:00:00",
         "0.0",
         "2018"
        ],
        [
         "38",
         "120010401A",
         "2018-09-21 00:00:00",
         "3.0",
         "2018"
        ],
        [
         "39",
         "120010401A",
         "2018-09-22 00:00:00",
         "8.0",
         "2018"
        ],
        [
         "40",
         "120010401A",
         "2018-09-23 00:00:00",
         "0.2",
         "2018"
        ],
        [
         "41",
         "120010401A",
         "2018-09-24 00:00:00",
         "0.0",
         "2018"
        ],
        [
         "42",
         "120010401A",
         "2018-09-25 00:00:00",
         "0.0",
         "2018"
        ],
        [
         "43",
         "120010401A",
         "2018-09-26 00:00:00",
         "0.0",
         "2018"
        ],
        [
         "44",
         "120010401A",
         "2018-09-27 00:00:00",
         "0.0",
         "2018"
        ],
        [
         "45",
         "120010401A",
         "2018-09-28 00:00:00",
         "43.0",
         "2018"
        ],
        [
         "46",
         "120010401A",
         "2018-09-29 00:00:00",
         "15.0",
         "2018"
        ],
        [
         "47",
         "120010401A",
         "2018-09-30 00:00:00",
         "0.2",
         "2018"
        ],
        [
         "48",
         "120010401A",
         "2018-10-01 00:00:00",
         "0.0",
         "2018"
        ],
        [
         "49",
         "120010401A",
         "2018-10-02 00:00:00",
         "0.0",
         "2018"
        ]
       ],
       "shape": {
        "columns": 4,
        "rows": 6130657
       }
      },
      "text/html": [
       "<div>\n",
       "<style scoped>\n",
       "    .dataframe tbody tr th:only-of-type {\n",
       "        vertical-align: middle;\n",
       "    }\n",
       "\n",
       "    .dataframe tbody tr th {\n",
       "        vertical-align: top;\n",
       "    }\n",
       "\n",
       "    .dataframe thead th {\n",
       "        text-align: right;\n",
       "    }\n",
       "</style>\n",
       "<table border=\"1\" class=\"dataframe\">\n",
       "  <thead>\n",
       "    <tr style=\"text-align: right;\">\n",
       "      <th></th>\n",
       "      <th>gauge_code</th>\n",
       "      <th>datetime</th>\n",
       "      <th>rain_mm</th>\n",
       "      <th>year</th>\n",
       "    </tr>\n",
       "  </thead>\n",
       "  <tbody>\n",
       "    <tr>\n",
       "      <th>0</th>\n",
       "      <td>120010401A</td>\n",
       "      <td>2018-08-14</td>\n",
       "      <td>0.2</td>\n",
       "      <td>2018</td>\n",
       "    </tr>\n",
       "    <tr>\n",
       "      <th>1</th>\n",
       "      <td>120010401A</td>\n",
       "      <td>2018-08-15</td>\n",
       "      <td>37.4</td>\n",
       "      <td>2018</td>\n",
       "    </tr>\n",
       "    <tr>\n",
       "      <th>2</th>\n",
       "      <td>120010401A</td>\n",
       "      <td>2018-08-16</td>\n",
       "      <td>0.2</td>\n",
       "      <td>2018</td>\n",
       "    </tr>\n",
       "    <tr>\n",
       "      <th>3</th>\n",
       "      <td>120010401A</td>\n",
       "      <td>2018-08-17</td>\n",
       "      <td>0.0</td>\n",
       "      <td>2018</td>\n",
       "    </tr>\n",
       "    <tr>\n",
       "      <th>4</th>\n",
       "      <td>120010401A</td>\n",
       "      <td>2018-08-18</td>\n",
       "      <td>0.0</td>\n",
       "      <td>2018</td>\n",
       "    </tr>\n",
       "    <tr>\n",
       "      <th>...</th>\n",
       "      <td>...</td>\n",
       "      <td>...</td>\n",
       "      <td>...</td>\n",
       "      <td>...</td>\n",
       "    </tr>\n",
       "    <tr>\n",
       "      <th>6130652</th>\n",
       "      <td>CEMADEN_14</td>\n",
       "      <td>2019-04-26</td>\n",
       "      <td>0.0</td>\n",
       "      <td>2019</td>\n",
       "    </tr>\n",
       "    <tr>\n",
       "      <th>6130653</th>\n",
       "      <td>CEMADEN_14</td>\n",
       "      <td>2019-04-27</td>\n",
       "      <td>0.0</td>\n",
       "      <td>2019</td>\n",
       "    </tr>\n",
       "    <tr>\n",
       "      <th>6130654</th>\n",
       "      <td>CEMADEN_14</td>\n",
       "      <td>2019-04-28</td>\n",
       "      <td>0.0</td>\n",
       "      <td>2019</td>\n",
       "    </tr>\n",
       "    <tr>\n",
       "      <th>6130655</th>\n",
       "      <td>CEMADEN_14</td>\n",
       "      <td>2019-04-29</td>\n",
       "      <td>6.2</td>\n",
       "      <td>2019</td>\n",
       "    </tr>\n",
       "    <tr>\n",
       "      <th>6130656</th>\n",
       "      <td>CEMADEN_14</td>\n",
       "      <td>2019-04-30</td>\n",
       "      <td>0.0</td>\n",
       "      <td>2019</td>\n",
       "    </tr>\n",
       "  </tbody>\n",
       "</table>\n",
       "<p>6130657 rows × 4 columns</p>\n",
       "</div>"
      ],
      "text/plain": [
       "         gauge_code   datetime  rain_mm  year\n",
       "0        120010401A 2018-08-14      0.2  2018\n",
       "1        120010401A 2018-08-15     37.4  2018\n",
       "2        120010401A 2018-08-16      0.2  2018\n",
       "3        120010401A 2018-08-17      0.0  2018\n",
       "4        120010401A 2018-08-18      0.0  2018\n",
       "...             ...        ...      ...   ...\n",
       "6130652  CEMADEN_14 2019-04-26      0.0  2019\n",
       "6130653  CEMADEN_14 2019-04-27      0.0  2019\n",
       "6130654  CEMADEN_14 2019-04-28      0.0  2019\n",
       "6130655  CEMADEN_14 2019-04-29      6.2  2019\n",
       "6130656  CEMADEN_14 2019-04-30      0.0  2019\n",
       "\n",
       "[6130657 rows x 4 columns]"
      ]
     },
     "execution_count": 67,
     "metadata": {},
     "output_type": "execute_result"
    }
   ],
   "source": [
    "df_cemaden_data = pd.read_hdf(cemaden_path, key='table_data_filtered')\n",
    "df_cemaden_data['year'] = df_cemaden_data['datetime'].dt.year\n",
    "df_cemaden_data = df_cemaden_data[(df_cemaden_data['year'] <= 2020)\n",
    "                                    & (df_cemaden_data['rain_mm']>= 0.0)\n",
    "                                    & (df_cemaden_data['rain_mm']<= 600.0)].reset_index(drop=True)\n",
    "df_cemaden_data\n",
    "# filtered version of the dataset"
   ]
  },
  {
   "cell_type": "code",
   "execution_count": 68,
   "id": "36142e49",
   "metadata": {},
   "outputs": [
    {
     "data": {
      "text/plain": [
       "4178"
      ]
     },
     "execution_count": 68,
     "metadata": {},
     "output_type": "execute_result"
    }
   ],
   "source": [
    "df_cemaden_data['gauge_code'].nunique()"
   ]
  },
  {
   "cell_type": "markdown",
   "id": "eed021cf",
   "metadata": {},
   "source": [
    "# Parameters"
   ]
  },
  {
   "cell_type": "code",
   "execution_count": 69,
   "id": "b2d5f40a",
   "metadata": {},
   "outputs": [],
   "source": [
    "wet_day_mm = 1.0"
   ]
  },
  {
   "cell_type": "markdown",
   "id": "be51ba94",
   "metadata": {},
   "source": [
    "# P"
   ]
  },
  {
   "cell_type": "code",
   "execution_count": 70,
   "id": "1ceadd74",
   "metadata": {},
   "outputs": [
    {
     "data": {
      "application/vnd.microsoft.datawrangler.viewer.v0+json": {
       "columns": [
        {
         "name": "index",
         "rawType": "int64",
         "type": "integer"
        },
        {
         "name": "gauge_code",
         "rawType": "object",
         "type": "string"
        },
        {
         "name": "year",
         "rawType": "int64",
         "type": "integer"
        },
        {
         "name": "p_availability",
         "rawType": "float64",
         "type": "float"
        }
       ],
       "conversionMethod": "pd.DataFrame",
       "ref": "4d69671e-4519-406b-a904-200b9d7cc329",
       "rows": [
        [
         "0",
         "110020501A",
         "2014",
         "4.383561643835616"
        ],
        [
         "1",
         "110020502A",
         "2014",
         "71.78082191780823"
        ],
        [
         "2",
         "120040101A",
         "2014",
         "91.5068493150685"
        ],
        [
         "3",
         "120040102A",
         "2014",
         "20.82191780821918"
        ],
        [
         "4",
         "150120401A",
         "2014",
         "16.71232876712329"
        ],
        [
         "5",
         "150140201A",
         "2014",
         "16.71232876712329"
        ],
        [
         "6",
         "150350701A",
         "2014",
         "16.71232876712329"
        ],
        [
         "7",
         "150380401A",
         "2014",
         "16.71232876712329"
        ],
        [
         "8",
         "150810001A",
         "2014",
         "16.71232876712329"
        ],
        [
         "9",
         "220120001A",
         "2014",
         "75.34246575342466"
        ],
        [
         "10",
         "220220801A",
         "2014",
         "75.34246575342466"
        ],
        [
         "11",
         "220265301A",
         "2014",
         "16.164383561643834"
        ],
        [
         "12",
         "220265302A",
         "2014",
         "16.164383561643834"
        ],
        [
         "13",
         "220370101A",
         "2014",
         "75.34246575342466"
        ],
        [
         "14",
         "230075401A",
         "2014",
         "74.79452054794521"
        ],
        [
         "15",
         "230075402A",
         "2014",
         "74.79452054794521"
        ],
        [
         "16",
         "230075403A",
         "2014",
         "74.52054794520548"
        ],
        [
         "17",
         "230170301A",
         "2014",
         "91.5068493150685"
        ],
        [
         "18",
         "230230501A",
         "2014",
         "65.75342465753424"
        ],
        [
         "19",
         "230240401A",
         "2014",
         "91.5068493150685"
        ],
        [
         "20",
         "230370901A",
         "2014",
         "100.0"
        ],
        [
         "21",
         "230370902A",
         "2014",
         "100.0"
        ],
        [
         "22",
         "230370903A",
         "2014",
         "100.0"
        ],
        [
         "23",
         "230370904A",
         "2014",
         "100.0"
        ],
        [
         "24",
         "230370905A",
         "2014",
         "100.0"
        ],
        [
         "25",
         "230370906A",
         "2014",
         "87.94520547945206"
        ],
        [
         "26",
         "230420201A",
         "2014",
         "69.86301369863014"
        ],
        [
         "27",
         "230420202A",
         "2014",
         "100.0"
        ],
        [
         "28",
         "230435001A",
         "2014",
         "73.97260273972603"
        ],
        [
         "29",
         "230440001A",
         "2014",
         "91.5068493150685"
        ],
        [
         "30",
         "230440002A",
         "2014",
         "91.5068493150685"
        ],
        [
         "31",
         "230440003A",
         "2014",
         "82.1917808219178"
        ],
        [
         "32",
         "230440004A",
         "2014",
         "100.0"
        ],
        [
         "33",
         "230440005A",
         "2014",
         "100.0"
        ],
        [
         "34",
         "230440006A",
         "2014",
         "100.0"
        ],
        [
         "35",
         "230440007A",
         "2014",
         "100.0"
        ],
        [
         "36",
         "230440008A",
         "2014",
         "100.0"
        ],
        [
         "37",
         "230440009A",
         "2014",
         "100.0"
        ],
        [
         "38",
         "230440010A",
         "2014",
         "100.0"
        ],
        [
         "39",
         "230440011A",
         "2014",
         "100.0"
        ],
        [
         "40",
         "230440012A",
         "2014",
         "100.0"
        ],
        [
         "41",
         "230440013A",
         "2014",
         "89.58904109589041"
        ],
        [
         "42",
         "230440014A",
         "2014",
         "100.0"
        ],
        [
         "43",
         "230440015A",
         "2014",
         "100.0"
        ],
        [
         "44",
         "230440016A",
         "2014",
         "100.0"
        ],
        [
         "45",
         "230610801A",
         "2014",
         "72.87671232876713"
        ],
        [
         "46",
         "230700701A",
         "2014",
         "100.0"
        ],
        [
         "47",
         "230700703A",
         "2014",
         "58.9041095890411"
        ],
        [
         "48",
         "230700704A",
         "2014",
         "81.36986301369863"
        ],
        [
         "49",
         "230700705A",
         "2014",
         "100.0"
        ]
       ],
       "shape": {
        "columns": 3,
        "rows": 22773
       }
      },
      "text/html": [
       "<div>\n",
       "<style scoped>\n",
       "    .dataframe tbody tr th:only-of-type {\n",
       "        vertical-align: middle;\n",
       "    }\n",
       "\n",
       "    .dataframe tbody tr th {\n",
       "        vertical-align: top;\n",
       "    }\n",
       "\n",
       "    .dataframe thead th {\n",
       "        text-align: right;\n",
       "    }\n",
       "</style>\n",
       "<table border=\"1\" class=\"dataframe\">\n",
       "  <thead>\n",
       "    <tr style=\"text-align: right;\">\n",
       "      <th></th>\n",
       "      <th>gauge_code</th>\n",
       "      <th>year</th>\n",
       "      <th>p_availability</th>\n",
       "    </tr>\n",
       "  </thead>\n",
       "  <tbody>\n",
       "    <tr>\n",
       "      <th>0</th>\n",
       "      <td>110020501A</td>\n",
       "      <td>2014</td>\n",
       "      <td>4.383562</td>\n",
       "    </tr>\n",
       "    <tr>\n",
       "      <th>1</th>\n",
       "      <td>110020502A</td>\n",
       "      <td>2014</td>\n",
       "      <td>71.780822</td>\n",
       "    </tr>\n",
       "    <tr>\n",
       "      <th>2</th>\n",
       "      <td>120040101A</td>\n",
       "      <td>2014</td>\n",
       "      <td>91.506849</td>\n",
       "    </tr>\n",
       "    <tr>\n",
       "      <th>3</th>\n",
       "      <td>120040102A</td>\n",
       "      <td>2014</td>\n",
       "      <td>20.821918</td>\n",
       "    </tr>\n",
       "    <tr>\n",
       "      <th>4</th>\n",
       "      <td>150120401A</td>\n",
       "      <td>2014</td>\n",
       "      <td>16.712329</td>\n",
       "    </tr>\n",
       "    <tr>\n",
       "      <th>...</th>\n",
       "      <td>...</td>\n",
       "      <td>...</td>\n",
       "      <td>...</td>\n",
       "    </tr>\n",
       "    <tr>\n",
       "      <th>22768</th>\n",
       "      <td>530010804A</td>\n",
       "      <td>2020</td>\n",
       "      <td>100.000000</td>\n",
       "    </tr>\n",
       "    <tr>\n",
       "      <th>22769</th>\n",
       "      <td>530010805A</td>\n",
       "      <td>2020</td>\n",
       "      <td>100.000000</td>\n",
       "    </tr>\n",
       "    <tr>\n",
       "      <th>22770</th>\n",
       "      <td>CEMADEN_10</td>\n",
       "      <td>2020</td>\n",
       "      <td>91.256831</td>\n",
       "    </tr>\n",
       "    <tr>\n",
       "      <th>22771</th>\n",
       "      <td>CEMADEN_11</td>\n",
       "      <td>2020</td>\n",
       "      <td>6.557377</td>\n",
       "    </tr>\n",
       "    <tr>\n",
       "      <th>22772</th>\n",
       "      <td>CEMADEN_12</td>\n",
       "      <td>2020</td>\n",
       "      <td>8.469945</td>\n",
       "    </tr>\n",
       "  </tbody>\n",
       "</table>\n",
       "<p>22773 rows × 3 columns</p>\n",
       "</div>"
      ],
      "text/plain": [
       "       gauge_code  year  p_availability\n",
       "0      110020501A  2014        4.383562\n",
       "1      110020502A  2014       71.780822\n",
       "2      120040101A  2014       91.506849\n",
       "3      120040102A  2014       20.821918\n",
       "4      150120401A  2014       16.712329\n",
       "...           ...   ...             ...\n",
       "22768  530010804A  2020      100.000000\n",
       "22769  530010805A  2020      100.000000\n",
       "22770  CEMADEN_10  2020       91.256831\n",
       "22771  CEMADEN_11  2020        6.557377\n",
       "22772  CEMADEN_12  2020        8.469945\n",
       "\n",
       "[22773 rows x 3 columns]"
      ]
     },
     "execution_count": 70,
     "metadata": {},
     "output_type": "execute_result"
    }
   ],
   "source": [
    "def calculateP(df):\n",
    "    # Group by gauge_code and year, then count the number of rows for each group\n",
    "    df_p = df.groupby(['gauge_code', 'year']).size().reset_index(name='active_days')\n",
    "    # Calcula a soma de rain_mm por gauge_code e year\n",
    "    df_rain_sum = df.groupby(['gauge_code', 'year'])['rain_mm'].sum().reset_index(name='rain_sum_mm')\n",
    "    # Merge the two DataFrames on gauge_code and year\n",
    "    df_p = pd.merge(df_p, df_rain_sum, on=['gauge_code', 'year'], how='left')\n",
    "\n",
    "    return df_p\n",
    "\n",
    "df_p_availability = calculateP(df_cemaden_data)\n",
    "years = pd.Series(range(2014, 2021), name='year')\n",
    "# Calculate the number of days in each year\n",
    "day_count = years.apply(lambda x: 366 if (x % 4 == 0 and (x % 100 != 0 or x % 400 == 0)) else 365)\n",
    "# Create the DataFrame\n",
    "df_years = pd.DataFrame({'year': years, 'day_count': day_count})\n",
    "\n",
    "del years, day_count\n",
    "\n",
    "\n",
    "df_p_availability = pd.merge(df_years, df_p_availability, on = 'year', how = 'left')\n",
    "del df_years\n",
    "\n",
    "df_p_availability['p_availability'] = df_p_availability['active_days'] / df_p_availability['day_count'] * 100\n",
    "df_p_availability = df_p_availability[['gauge_code', 'year', 'p_availability']]\n",
    "df_p_availability.to_hdf(cemaden_path, key = 'table_p_availability', encoding = 'utf-8', mode='r+', append = False, complevel=9)\n",
    "df_p_availability"
   ]
  },
  {
   "cell_type": "code",
   "execution_count": 71,
   "id": "7b7e27a4",
   "metadata": {},
   "outputs": [
    {
     "name": "stdout",
     "output_type": "stream",
     "text": [
      "['table_data', 'table_data_filtered', 'table_info', 'table_p_availability', 'table_preclassif']\n"
     ]
    }
   ],
   "source": [
    "with h5py.File(cemaden_path, 'r') as hdf:\n",
    "    keys = list(hdf.keys())\n",
    "    print(keys)"
   ]
  },
  {
   "cell_type": "markdown",
   "id": "b061e130",
   "metadata": {},
   "source": [
    "# Q1"
   ]
  },
  {
   "cell_type": "code",
   "execution_count": 72,
   "id": "b080c682",
   "metadata": {},
   "outputs": [],
   "source": [
    "def calculateQ1(df):    \n",
    "    # Group by gauge_code and year\n",
    "    grouped = df.groupby(['gauge_code', 'year'])\n",
    "    \n",
    "    results = []\n",
    "    \n",
    "    for (gauge_code, year), group in grouped:\n",
    "        # Sort by datetime\n",
    "        group = group.sort_values('datetime')\n",
    "        \n",
    "        # Create a complete date range for the year\n",
    "        date_range = pd.date_range(start=f'{year}-01-01', end=f'{year}-12-31', freq='D')\n",
    "        full_df = pd.DataFrame({'datetime': date_range})\n",
    "        merged_df = pd.merge(full_df, group, on='datetime', how='left')\n",
    "        \n",
    "        # Calculate days_in_a_year\n",
    "        days_in_a_year = len(full_df)\n",
    "        \n",
    "        # Calculate active_days (days with valid rain_mm data)\n",
    "        active_days = merged_df['rain_mm'].notna().sum()\n",
    "        \n",
    "        # Calculate total_gap\n",
    "        total_gap = days_in_a_year - active_days\n",
    "        \n",
    "        # Calculate max_gap, start_date, and last_date\n",
    "        if total_gap == 0:\n",
    "            max_gap = 0\n",
    "            start_date = np.nan\n",
    "            last_date = np.nan\n",
    "        else:\n",
    "            # Identify gaps (consecutive NaNs in rain_mm)\n",
    "            merged_df['gap'] = merged_df['rain_mm'].isna().astype(int)\n",
    "            merged_df['gap_group'] = (merged_df['gap'].diff() != 0).cumsum()\n",
    "            \n",
    "            # Calculate the length of each gap\n",
    "            gap_lengths = merged_df[merged_df['gap'] == 1].groupby('gap_group').size()\n",
    "            \n",
    "            # Find the max_gap and its start and end dates\n",
    "            if not gap_lengths.empty:\n",
    "                max_gap = gap_lengths.max()\n",
    "                max_gap_group = gap_lengths.idxmax()\n",
    "                gap_dates = merged_df[merged_df['gap_group'] == max_gap_group]['datetime']\n",
    "                start_date = gap_dates.min()\n",
    "                last_date = gap_dates.max()\n",
    "            else:\n",
    "                max_gap = 0\n",
    "                start_date = np.nan\n",
    "                last_date = np.nan\n",
    "        \n",
    "        # Append results\n",
    "        results.append({\n",
    "            'gauge_code': gauge_code,\n",
    "            'year': year,\n",
    "            'days_in_a_year': days_in_a_year,\n",
    "            'active_days': active_days,\n",
    "            'total_gap': total_gap,\n",
    "            'max_gap': max_gap,\n",
    "            'start_date': start_date,\n",
    "            'last_date': last_date\n",
    "        })\n",
    "    \n",
    "    # Create the result DataFrame\n",
    "    df_q1_gaps = pd.DataFrame(results)\n",
    "    return df_q1_gaps"
   ]
  },
  {
   "cell_type": "code",
   "execution_count": 73,
   "id": "589074c7",
   "metadata": {},
   "outputs": [
    {
     "data": {
      "application/vnd.microsoft.datawrangler.viewer.v0+json": {
       "columns": [
        {
         "name": "index",
         "rawType": "int64",
         "type": "integer"
        },
        {
         "name": "gauge_code",
         "rawType": "object",
         "type": "string"
        },
        {
         "name": "year",
         "rawType": "int32",
         "type": "integer"
        },
        {
         "name": "q1_gaps",
         "rawType": "float64",
         "type": "float"
        }
       ],
       "conversionMethod": "pd.DataFrame",
       "ref": "dec99f98-385d-4880-91c4-7ae7bb4e7612",
       "rows": [
        [
         "0",
         "110018901A",
         "2018",
         "0.0"
        ],
        [
         "1",
         "110018901A",
         "2019",
         "86.41618497109826"
        ],
        [
         "2",
         "110018901A",
         "2020",
         "0.0"
        ],
        [
         "3",
         "110020501A",
         "2014",
         "0.0"
        ],
        [
         "4",
         "110020501A",
         "2017",
         "0.0"
        ],
        [
         "5",
         "110020501A",
         "2020",
         "0.0"
        ],
        [
         "6",
         "110020502A",
         "2014",
         "0.0"
        ],
        [
         "7",
         "110020502A",
         "2015",
         "0.0"
        ],
        [
         "8",
         "110020502A",
         "2016",
         "0.0"
        ],
        [
         "9",
         "110020502A",
         "2017",
         "0.0"
        ],
        [
         "10",
         "110020502A",
         "2020",
         "0.0"
        ],
        [
         "11",
         "120010401A",
         "2018",
         "0.0"
        ],
        [
         "12",
         "120010401A",
         "2019",
         "92.11267605633803"
        ],
        [
         "13",
         "120010401A",
         "2020",
         "100.0"
        ],
        [
         "14",
         "120032801A",
         "2018",
         "0.0"
        ],
        [
         "15",
         "120032801A",
         "2019",
         "19.01140684410646"
        ],
        [
         "16",
         "120032801A",
         "2020",
         "0.0"
        ],
        [
         "17",
         "120040101A",
         "2014",
         "72.1556886227545"
        ],
        [
         "18",
         "120040101A",
         "2015",
         "80.75801749271137"
        ],
        [
         "19",
         "120040101A",
         "2016",
         "78.94736842105263"
        ],
        [
         "20",
         "120040101A",
         "2017",
         "0.0"
        ],
        [
         "21",
         "120040101A",
         "2020",
         "0.0"
        ],
        [
         "22",
         "120040101H",
         "2016",
         "0.0"
        ],
        [
         "23",
         "120040101H",
         "2017",
         "0.0"
        ],
        [
         "24",
         "120040101H",
         "2020",
         "0.0"
        ],
        [
         "25",
         "120040102A",
         "2014",
         "0.0"
        ],
        [
         "26",
         "120040102A",
         "2020",
         "0.0"
        ],
        [
         "27",
         "120040102H",
         "2016",
         "0.0"
        ],
        [
         "28",
         "120040102H",
         "2017",
         "0.0"
        ],
        [
         "29",
         "120070801A",
         "2018",
         "0.0"
        ],
        [
         "30",
         "120070801A",
         "2019",
         "92.3943661971831"
        ],
        [
         "31",
         "120070801A",
         "2020",
         "100.0"
        ],
        [
         "32",
         "130002901A",
         "2018",
         "0.0"
        ],
        [
         "33",
         "130002901A",
         "2019",
         "0.0"
        ],
        [
         "34",
         "130002901A",
         "2020",
         "0.0"
        ],
        [
         "35",
         "130006001A",
         "2018",
         "0.0"
        ],
        [
         "36",
         "130006001A",
         "2019",
         "97.50692520775624"
        ],
        [
         "37",
         "130006001A",
         "2020",
         "100.0"
        ],
        [
         "38",
         "130008601A",
         "2018",
         "0.0"
        ],
        [
         "39",
         "130008601A",
         "2019",
         "69.1358024691358"
        ],
        [
         "40",
         "130008601A",
         "2020",
         "0.0"
        ],
        [
         "41",
         "130010201A",
         "2018",
         "0.0"
        ],
        [
         "42",
         "130010201A",
         "2019",
         "84.21052631578948"
        ],
        [
         "43",
         "130010201A",
         "2020",
         "0.0"
        ],
        [
         "44",
         "130014401A",
         "2018",
         "0.0"
        ],
        [
         "45",
         "130014401A",
         "2019",
         "69.23076923076923"
        ],
        [
         "46",
         "130014401A",
         "2020",
         "0.0"
        ],
        [
         "47",
         "130020101A",
         "2018",
         "0.0"
        ],
        [
         "48",
         "130020101A",
         "2019",
         "34.81228668941979"
        ],
        [
         "49",
         "130020101A",
         "2020",
         "0.0"
        ]
       ],
       "shape": {
        "columns": 3,
        "rows": 60
       }
      },
      "text/html": [
       "<div>\n",
       "<style scoped>\n",
       "    .dataframe tbody tr th:only-of-type {\n",
       "        vertical-align: middle;\n",
       "    }\n",
       "\n",
       "    .dataframe tbody tr th {\n",
       "        vertical-align: top;\n",
       "    }\n",
       "\n",
       "    .dataframe thead th {\n",
       "        text-align: right;\n",
       "    }\n",
       "</style>\n",
       "<table border=\"1\" class=\"dataframe\">\n",
       "  <thead>\n",
       "    <tr style=\"text-align: right;\">\n",
       "      <th></th>\n",
       "      <th>gauge_code</th>\n",
       "      <th>year</th>\n",
       "      <th>q1_gaps</th>\n",
       "    </tr>\n",
       "  </thead>\n",
       "  <tbody>\n",
       "    <tr>\n",
       "      <th>0</th>\n",
       "      <td>110018901A</td>\n",
       "      <td>2018</td>\n",
       "      <td>0.000000</td>\n",
       "    </tr>\n",
       "    <tr>\n",
       "      <th>1</th>\n",
       "      <td>110018901A</td>\n",
       "      <td>2019</td>\n",
       "      <td>86.416185</td>\n",
       "    </tr>\n",
       "    <tr>\n",
       "      <th>2</th>\n",
       "      <td>110018901A</td>\n",
       "      <td>2020</td>\n",
       "      <td>0.000000</td>\n",
       "    </tr>\n",
       "    <tr>\n",
       "      <th>3</th>\n",
       "      <td>110020501A</td>\n",
       "      <td>2014</td>\n",
       "      <td>0.000000</td>\n",
       "    </tr>\n",
       "    <tr>\n",
       "      <th>4</th>\n",
       "      <td>110020501A</td>\n",
       "      <td>2017</td>\n",
       "      <td>0.000000</td>\n",
       "    </tr>\n",
       "    <tr>\n",
       "      <th>5</th>\n",
       "      <td>110020501A</td>\n",
       "      <td>2020</td>\n",
       "      <td>0.000000</td>\n",
       "    </tr>\n",
       "    <tr>\n",
       "      <th>6</th>\n",
       "      <td>110020502A</td>\n",
       "      <td>2014</td>\n",
       "      <td>0.000000</td>\n",
       "    </tr>\n",
       "    <tr>\n",
       "      <th>7</th>\n",
       "      <td>110020502A</td>\n",
       "      <td>2015</td>\n",
       "      <td>0.000000</td>\n",
       "    </tr>\n",
       "    <tr>\n",
       "      <th>8</th>\n",
       "      <td>110020502A</td>\n",
       "      <td>2016</td>\n",
       "      <td>0.000000</td>\n",
       "    </tr>\n",
       "    <tr>\n",
       "      <th>9</th>\n",
       "      <td>110020502A</td>\n",
       "      <td>2017</td>\n",
       "      <td>0.000000</td>\n",
       "    </tr>\n",
       "    <tr>\n",
       "      <th>10</th>\n",
       "      <td>110020502A</td>\n",
       "      <td>2020</td>\n",
       "      <td>0.000000</td>\n",
       "    </tr>\n",
       "    <tr>\n",
       "      <th>11</th>\n",
       "      <td>120010401A</td>\n",
       "      <td>2018</td>\n",
       "      <td>0.000000</td>\n",
       "    </tr>\n",
       "    <tr>\n",
       "      <th>12</th>\n",
       "      <td>120010401A</td>\n",
       "      <td>2019</td>\n",
       "      <td>92.112676</td>\n",
       "    </tr>\n",
       "    <tr>\n",
       "      <th>13</th>\n",
       "      <td>120010401A</td>\n",
       "      <td>2020</td>\n",
       "      <td>100.000000</td>\n",
       "    </tr>\n",
       "    <tr>\n",
       "      <th>14</th>\n",
       "      <td>120032801A</td>\n",
       "      <td>2018</td>\n",
       "      <td>0.000000</td>\n",
       "    </tr>\n",
       "    <tr>\n",
       "      <th>15</th>\n",
       "      <td>120032801A</td>\n",
       "      <td>2019</td>\n",
       "      <td>19.011407</td>\n",
       "    </tr>\n",
       "    <tr>\n",
       "      <th>16</th>\n",
       "      <td>120032801A</td>\n",
       "      <td>2020</td>\n",
       "      <td>0.000000</td>\n",
       "    </tr>\n",
       "    <tr>\n",
       "      <th>17</th>\n",
       "      <td>120040101A</td>\n",
       "      <td>2014</td>\n",
       "      <td>72.155689</td>\n",
       "    </tr>\n",
       "    <tr>\n",
       "      <th>18</th>\n",
       "      <td>120040101A</td>\n",
       "      <td>2015</td>\n",
       "      <td>80.758017</td>\n",
       "    </tr>\n",
       "    <tr>\n",
       "      <th>19</th>\n",
       "      <td>120040101A</td>\n",
       "      <td>2016</td>\n",
       "      <td>78.947368</td>\n",
       "    </tr>\n",
       "    <tr>\n",
       "      <th>20</th>\n",
       "      <td>120040101A</td>\n",
       "      <td>2017</td>\n",
       "      <td>0.000000</td>\n",
       "    </tr>\n",
       "    <tr>\n",
       "      <th>21</th>\n",
       "      <td>120040101A</td>\n",
       "      <td>2020</td>\n",
       "      <td>0.000000</td>\n",
       "    </tr>\n",
       "    <tr>\n",
       "      <th>22</th>\n",
       "      <td>120040101H</td>\n",
       "      <td>2016</td>\n",
       "      <td>0.000000</td>\n",
       "    </tr>\n",
       "    <tr>\n",
       "      <th>23</th>\n",
       "      <td>120040101H</td>\n",
       "      <td>2017</td>\n",
       "      <td>0.000000</td>\n",
       "    </tr>\n",
       "    <tr>\n",
       "      <th>24</th>\n",
       "      <td>120040101H</td>\n",
       "      <td>2020</td>\n",
       "      <td>0.000000</td>\n",
       "    </tr>\n",
       "    <tr>\n",
       "      <th>25</th>\n",
       "      <td>120040102A</td>\n",
       "      <td>2014</td>\n",
       "      <td>0.000000</td>\n",
       "    </tr>\n",
       "    <tr>\n",
       "      <th>26</th>\n",
       "      <td>120040102A</td>\n",
       "      <td>2020</td>\n",
       "      <td>0.000000</td>\n",
       "    </tr>\n",
       "    <tr>\n",
       "      <th>27</th>\n",
       "      <td>120040102H</td>\n",
       "      <td>2016</td>\n",
       "      <td>0.000000</td>\n",
       "    </tr>\n",
       "    <tr>\n",
       "      <th>28</th>\n",
       "      <td>120040102H</td>\n",
       "      <td>2017</td>\n",
       "      <td>0.000000</td>\n",
       "    </tr>\n",
       "    <tr>\n",
       "      <th>29</th>\n",
       "      <td>120070801A</td>\n",
       "      <td>2018</td>\n",
       "      <td>0.000000</td>\n",
       "    </tr>\n",
       "    <tr>\n",
       "      <th>30</th>\n",
       "      <td>120070801A</td>\n",
       "      <td>2019</td>\n",
       "      <td>92.394366</td>\n",
       "    </tr>\n",
       "    <tr>\n",
       "      <th>31</th>\n",
       "      <td>120070801A</td>\n",
       "      <td>2020</td>\n",
       "      <td>100.000000</td>\n",
       "    </tr>\n",
       "    <tr>\n",
       "      <th>32</th>\n",
       "      <td>130002901A</td>\n",
       "      <td>2018</td>\n",
       "      <td>0.000000</td>\n",
       "    </tr>\n",
       "    <tr>\n",
       "      <th>33</th>\n",
       "      <td>130002901A</td>\n",
       "      <td>2019</td>\n",
       "      <td>0.000000</td>\n",
       "    </tr>\n",
       "    <tr>\n",
       "      <th>34</th>\n",
       "      <td>130002901A</td>\n",
       "      <td>2020</td>\n",
       "      <td>0.000000</td>\n",
       "    </tr>\n",
       "    <tr>\n",
       "      <th>35</th>\n",
       "      <td>130006001A</td>\n",
       "      <td>2018</td>\n",
       "      <td>0.000000</td>\n",
       "    </tr>\n",
       "    <tr>\n",
       "      <th>36</th>\n",
       "      <td>130006001A</td>\n",
       "      <td>2019</td>\n",
       "      <td>97.506925</td>\n",
       "    </tr>\n",
       "    <tr>\n",
       "      <th>37</th>\n",
       "      <td>130006001A</td>\n",
       "      <td>2020</td>\n",
       "      <td>100.000000</td>\n",
       "    </tr>\n",
       "    <tr>\n",
       "      <th>38</th>\n",
       "      <td>130008601A</td>\n",
       "      <td>2018</td>\n",
       "      <td>0.000000</td>\n",
       "    </tr>\n",
       "    <tr>\n",
       "      <th>39</th>\n",
       "      <td>130008601A</td>\n",
       "      <td>2019</td>\n",
       "      <td>69.135802</td>\n",
       "    </tr>\n",
       "    <tr>\n",
       "      <th>40</th>\n",
       "      <td>130008601A</td>\n",
       "      <td>2020</td>\n",
       "      <td>0.000000</td>\n",
       "    </tr>\n",
       "    <tr>\n",
       "      <th>41</th>\n",
       "      <td>130010201A</td>\n",
       "      <td>2018</td>\n",
       "      <td>0.000000</td>\n",
       "    </tr>\n",
       "    <tr>\n",
       "      <th>42</th>\n",
       "      <td>130010201A</td>\n",
       "      <td>2019</td>\n",
       "      <td>84.210526</td>\n",
       "    </tr>\n",
       "    <tr>\n",
       "      <th>43</th>\n",
       "      <td>130010201A</td>\n",
       "      <td>2020</td>\n",
       "      <td>0.000000</td>\n",
       "    </tr>\n",
       "    <tr>\n",
       "      <th>44</th>\n",
       "      <td>130014401A</td>\n",
       "      <td>2018</td>\n",
       "      <td>0.000000</td>\n",
       "    </tr>\n",
       "    <tr>\n",
       "      <th>45</th>\n",
       "      <td>130014401A</td>\n",
       "      <td>2019</td>\n",
       "      <td>69.230769</td>\n",
       "    </tr>\n",
       "    <tr>\n",
       "      <th>46</th>\n",
       "      <td>130014401A</td>\n",
       "      <td>2020</td>\n",
       "      <td>0.000000</td>\n",
       "    </tr>\n",
       "    <tr>\n",
       "      <th>47</th>\n",
       "      <td>130020101A</td>\n",
       "      <td>2018</td>\n",
       "      <td>0.000000</td>\n",
       "    </tr>\n",
       "    <tr>\n",
       "      <th>48</th>\n",
       "      <td>130020101A</td>\n",
       "      <td>2019</td>\n",
       "      <td>34.812287</td>\n",
       "    </tr>\n",
       "    <tr>\n",
       "      <th>49</th>\n",
       "      <td>130020101A</td>\n",
       "      <td>2020</td>\n",
       "      <td>0.000000</td>\n",
       "    </tr>\n",
       "    <tr>\n",
       "      <th>50</th>\n",
       "      <td>130030002A</td>\n",
       "      <td>2018</td>\n",
       "      <td>0.000000</td>\n",
       "    </tr>\n",
       "    <tr>\n",
       "      <th>51</th>\n",
       "      <td>130050801A</td>\n",
       "      <td>2018</td>\n",
       "      <td>0.000000</td>\n",
       "    </tr>\n",
       "    <tr>\n",
       "      <th>52</th>\n",
       "      <td>130050801A</td>\n",
       "      <td>2019</td>\n",
       "      <td>89.173789</td>\n",
       "    </tr>\n",
       "    <tr>\n",
       "      <th>53</th>\n",
       "      <td>130050801A</td>\n",
       "      <td>2020</td>\n",
       "      <td>100.000000</td>\n",
       "    </tr>\n",
       "    <tr>\n",
       "      <th>54</th>\n",
       "      <td>130060701A</td>\n",
       "      <td>2018</td>\n",
       "      <td>0.000000</td>\n",
       "    </tr>\n",
       "    <tr>\n",
       "      <th>55</th>\n",
       "      <td>130060701A</td>\n",
       "      <td>2019</td>\n",
       "      <td>0.000000</td>\n",
       "    </tr>\n",
       "    <tr>\n",
       "      <th>56</th>\n",
       "      <td>130060701A</td>\n",
       "      <td>2020</td>\n",
       "      <td>0.000000</td>\n",
       "    </tr>\n",
       "    <tr>\n",
       "      <th>57</th>\n",
       "      <td>130063101A</td>\n",
       "      <td>2018</td>\n",
       "      <td>0.000000</td>\n",
       "    </tr>\n",
       "    <tr>\n",
       "      <th>58</th>\n",
       "      <td>130063101A</td>\n",
       "      <td>2019</td>\n",
       "      <td>98.066298</td>\n",
       "    </tr>\n",
       "    <tr>\n",
       "      <th>59</th>\n",
       "      <td>130063101A</td>\n",
       "      <td>2020</td>\n",
       "      <td>100.000000</td>\n",
       "    </tr>\n",
       "  </tbody>\n",
       "</table>\n",
       "</div>"
      ],
      "text/plain": [
       "    gauge_code  year     q1_gaps\n",
       "0   110018901A  2018    0.000000\n",
       "1   110018901A  2019   86.416185\n",
       "2   110018901A  2020    0.000000\n",
       "3   110020501A  2014    0.000000\n",
       "4   110020501A  2017    0.000000\n",
       "5   110020501A  2020    0.000000\n",
       "6   110020502A  2014    0.000000\n",
       "7   110020502A  2015    0.000000\n",
       "8   110020502A  2016    0.000000\n",
       "9   110020502A  2017    0.000000\n",
       "10  110020502A  2020    0.000000\n",
       "11  120010401A  2018    0.000000\n",
       "12  120010401A  2019   92.112676\n",
       "13  120010401A  2020  100.000000\n",
       "14  120032801A  2018    0.000000\n",
       "15  120032801A  2019   19.011407\n",
       "16  120032801A  2020    0.000000\n",
       "17  120040101A  2014   72.155689\n",
       "18  120040101A  2015   80.758017\n",
       "19  120040101A  2016   78.947368\n",
       "20  120040101A  2017    0.000000\n",
       "21  120040101A  2020    0.000000\n",
       "22  120040101H  2016    0.000000\n",
       "23  120040101H  2017    0.000000\n",
       "24  120040101H  2020    0.000000\n",
       "25  120040102A  2014    0.000000\n",
       "26  120040102A  2020    0.000000\n",
       "27  120040102H  2016    0.000000\n",
       "28  120040102H  2017    0.000000\n",
       "29  120070801A  2018    0.000000\n",
       "30  120070801A  2019   92.394366\n",
       "31  120070801A  2020  100.000000\n",
       "32  130002901A  2018    0.000000\n",
       "33  130002901A  2019    0.000000\n",
       "34  130002901A  2020    0.000000\n",
       "35  130006001A  2018    0.000000\n",
       "36  130006001A  2019   97.506925\n",
       "37  130006001A  2020  100.000000\n",
       "38  130008601A  2018    0.000000\n",
       "39  130008601A  2019   69.135802\n",
       "40  130008601A  2020    0.000000\n",
       "41  130010201A  2018    0.000000\n",
       "42  130010201A  2019   84.210526\n",
       "43  130010201A  2020    0.000000\n",
       "44  130014401A  2018    0.000000\n",
       "45  130014401A  2019   69.230769\n",
       "46  130014401A  2020    0.000000\n",
       "47  130020101A  2018    0.000000\n",
       "48  130020101A  2019   34.812287\n",
       "49  130020101A  2020    0.000000\n",
       "50  130030002A  2018    0.000000\n",
       "51  130050801A  2018    0.000000\n",
       "52  130050801A  2019   89.173789\n",
       "53  130050801A  2020  100.000000\n",
       "54  130060701A  2018    0.000000\n",
       "55  130060701A  2019    0.000000\n",
       "56  130060701A  2020    0.000000\n",
       "57  130063101A  2018    0.000000\n",
       "58  130063101A  2019   98.066298\n",
       "59  130063101A  2020  100.000000"
      ]
     },
     "execution_count": 73,
     "metadata": {},
     "output_type": "execute_result"
    }
   ],
   "source": [
    "df_q1_gaps = calculateQ1(df_cemaden_data)\n",
    "df_q1_gaps['q1_gaps'] = 100.0 - 100.0 * (((2.0 * df_q1_gaps['total_gap']) + df_q1_gaps['max_gap']) / df_q1_gaps['active_days'])\n",
    "df_q1_gaps['q1_gaps'] = df_q1_gaps['q1_gaps'].clip(lower=0.0, upper=100.0)\n",
    "df_q1_gaps = df_q1_gaps[['gauge_code', 'year', 'q1_gaps']]\n",
    "df_q1_gaps.to_hdf(cemaden_path, key = 'table_q1_gaps', encoding = 'utf-8', mode='r+', append = False, complevel=9)\n",
    "df_q1_gaps"
   ]
  },
  {
   "cell_type": "code",
   "execution_count": 74,
   "id": "8a22b090",
   "metadata": {},
   "outputs": [
    {
     "name": "stdout",
     "output_type": "stream",
     "text": [
      "['table_data', 'table_data_filtered', 'table_info', 'table_p_availability', 'table_preclassif', 'table_q1_gaps']\n"
     ]
    }
   ],
   "source": [
    "with h5py.File(cemaden_path, 'r') as hdf:\n",
    "    keys = list(hdf.keys())\n",
    "    print(keys)"
   ]
  },
  {
   "cell_type": "markdown",
   "id": "7737fb01",
   "metadata": {},
   "source": [
    "# Q2"
   ]
  },
  {
   "cell_type": "code",
   "execution_count": 75,
   "id": "dff1b4be",
   "metadata": {},
   "outputs": [
    {
     "data": {
      "application/vnd.microsoft.datawrangler.viewer.v0+json": {
       "columns": [
        {
         "name": "index",
         "rawType": "int64",
         "type": "integer"
        },
        {
         "name": "gauge_code",
         "rawType": "object",
         "type": "string"
        },
        {
         "name": "year",
         "rawType": "int64",
         "type": "integer"
        },
        {
         "name": "q2_week",
         "rawType": "float64",
         "type": "float"
        }
       ],
       "conversionMethod": "pd.DataFrame",
       "ref": "679f1361-d8c7-4507-931d-68f6a2e9c9b6",
       "rows": [
        [
         "0",
         "110018901A",
         "2018",
         "84.72768438490468"
        ],
        [
         "1",
         "110018901A",
         "2019",
         "87.0799840422603"
        ],
        [
         "2",
         "110018901A",
         "2020",
         "54.468759210420274"
        ],
        [
         "3",
         "110020501A",
         "2014",
         "42.264973081037425"
        ],
        [
         "4",
         "110020501A",
         "2017",
         "0.0"
        ],
        [
         "5",
         "110020501A",
         "2020",
         "62.5"
        ],
        [
         "10",
         "110020502A",
         "2020",
         "70.24404821440478"
        ],
        [
         "8",
         "110020502A",
         "2016",
         "76.9934668603079"
        ],
        [
         "9",
         "110020502A",
         "2017",
         "0.0"
        ],
        [
         "6",
         "110020502A",
         "2014",
         "88.20809244923613"
        ],
        [
         "7",
         "110020502A",
         "2015",
         "0.0"
        ],
        [
         "11",
         "120010401A",
         "2018",
         "73.97917500667334"
        ],
        [
         "12",
         "120010401A",
         "2019",
         "80.05689911956335"
        ],
        [
         "13",
         "120010401A",
         "2020",
         "78.65218590425084"
        ],
        [
         "14",
         "120032801A",
         "2018",
         "85.61481247968504"
        ],
        [
         "15",
         "120032801A",
         "2019",
         "85.57115540330012"
        ],
        [
         "16",
         "120032801A",
         "2020",
         "63.56639727658809"
        ],
        [
         "21",
         "120040101A",
         "2020",
         "64.59865527506994"
        ],
        [
         "19",
         "120040101A",
         "2016",
         "0.0"
        ],
        [
         "20",
         "120040101A",
         "2017",
         "0.0"
        ],
        [
         "17",
         "120040101A",
         "2014",
         "78.46860620730283"
        ],
        [
         "18",
         "120040101A",
         "2015",
         "71.05074731095917"
        ],
        [
         "22",
         "120040101H",
         "2016",
         "65.12482248931967"
        ],
        [
         "23",
         "120040101H",
         "2017",
         "87.1187762256094"
        ],
        [
         "24",
         "120040101H",
         "2020",
         "0.0"
        ],
        [
         "25",
         "120040102A",
         "2014",
         "65.41917679792263"
        ],
        [
         "26",
         "120040102A",
         "2020",
         "51.55270864694568"
        ],
        [
         "27",
         "120040102H",
         "2016",
         "71.26798018088735"
        ],
        [
         "28",
         "120040102H",
         "2017",
         "39.619263557544"
        ],
        [
         "30",
         "120070801A",
         "2019",
         "87.09564060677629"
        ],
        [
         "31",
         "120070801A",
         "2020",
         "77.10319070122586"
        ],
        [
         "29",
         "120070801A",
         "2018",
         "66.42133983636118"
        ],
        [
         "32",
         "130002901A",
         "2018",
         "86.58205856834311"
        ],
        [
         "33",
         "130002901A",
         "2019",
         "55.90414481559016"
        ],
        [
         "34",
         "130002901A",
         "2020",
         "0.0"
        ],
        [
         "35",
         "130006001A",
         "2018",
         "82.78884203973092"
        ],
        [
         "36",
         "130006001A",
         "2019",
         "89.06623005990703"
        ],
        [
         "37",
         "130006001A",
         "2020",
         "83.0269961190265"
        ],
        [
         "39",
         "130008601A",
         "2019",
         "80.54756715924911"
        ],
        [
         "40",
         "130008601A",
         "2020",
         "61.84798092438208"
        ],
        [
         "38",
         "130008601A",
         "2018",
         "82.02289339305334"
        ],
        [
         "42",
         "130010201A",
         "2019",
         "87.17494482119554"
        ],
        [
         "43",
         "130010201A",
         "2020",
         "19.49235141005869"
        ],
        [
         "41",
         "130010201A",
         "2018",
         "67.60252619243468"
        ],
        [
         "44",
         "130014401A",
         "2018",
         "74.3181862876557"
        ],
        [
         "45",
         "130014401A",
         "2019",
         "90.44522155203309"
        ],
        [
         "46",
         "130014401A",
         "2020",
         "75.8477054230176"
        ],
        [
         "47",
         "130020101A",
         "2018",
         "81.74801274744419"
        ],
        [
         "48",
         "130020101A",
         "2019",
         "83.29983642263203"
        ],
        [
         "49",
         "130020101A",
         "2020",
         "55.90414481559016"
        ]
       ],
       "shape": {
        "columns": 3,
        "rows": 22773
       }
      },
      "text/html": [
       "<div>\n",
       "<style scoped>\n",
       "    .dataframe tbody tr th:only-of-type {\n",
       "        vertical-align: middle;\n",
       "    }\n",
       "\n",
       "    .dataframe tbody tr th {\n",
       "        vertical-align: top;\n",
       "    }\n",
       "\n",
       "    .dataframe thead th {\n",
       "        text-align: right;\n",
       "    }\n",
       "</style>\n",
       "<table border=\"1\" class=\"dataframe\">\n",
       "  <thead>\n",
       "    <tr style=\"text-align: right;\">\n",
       "      <th></th>\n",
       "      <th>gauge_code</th>\n",
       "      <th>year</th>\n",
       "      <th>q2_week</th>\n",
       "    </tr>\n",
       "  </thead>\n",
       "  <tbody>\n",
       "    <tr>\n",
       "      <th>0</th>\n",
       "      <td>110018901A</td>\n",
       "      <td>2018</td>\n",
       "      <td>84.727684</td>\n",
       "    </tr>\n",
       "    <tr>\n",
       "      <th>1</th>\n",
       "      <td>110018901A</td>\n",
       "      <td>2019</td>\n",
       "      <td>87.079984</td>\n",
       "    </tr>\n",
       "    <tr>\n",
       "      <th>2</th>\n",
       "      <td>110018901A</td>\n",
       "      <td>2020</td>\n",
       "      <td>54.468759</td>\n",
       "    </tr>\n",
       "    <tr>\n",
       "      <th>3</th>\n",
       "      <td>110020501A</td>\n",
       "      <td>2014</td>\n",
       "      <td>42.264973</td>\n",
       "    </tr>\n",
       "    <tr>\n",
       "      <th>4</th>\n",
       "      <td>110020501A</td>\n",
       "      <td>2017</td>\n",
       "      <td>0.000000</td>\n",
       "    </tr>\n",
       "    <tr>\n",
       "      <th>...</th>\n",
       "      <td>...</td>\n",
       "      <td>...</td>\n",
       "      <td>...</td>\n",
       "    </tr>\n",
       "    <tr>\n",
       "      <th>22767</th>\n",
       "      <td>CEMADEN_12</td>\n",
       "      <td>2018</td>\n",
       "      <td>59.240543</td>\n",
       "    </tr>\n",
       "    <tr>\n",
       "      <th>22768</th>\n",
       "      <td>CEMADEN_12</td>\n",
       "      <td>2019</td>\n",
       "      <td>86.944455</td>\n",
       "    </tr>\n",
       "    <tr>\n",
       "      <th>22770</th>\n",
       "      <td>CEMADEN_13</td>\n",
       "      <td>2019</td>\n",
       "      <td>0.000000</td>\n",
       "    </tr>\n",
       "    <tr>\n",
       "      <th>22771</th>\n",
       "      <td>CEMADEN_14</td>\n",
       "      <td>2018</td>\n",
       "      <td>58.760695</td>\n",
       "    </tr>\n",
       "    <tr>\n",
       "      <th>22772</th>\n",
       "      <td>CEMADEN_14</td>\n",
       "      <td>2019</td>\n",
       "      <td>87.930137</td>\n",
       "    </tr>\n",
       "  </tbody>\n",
       "</table>\n",
       "<p>22773 rows × 3 columns</p>\n",
       "</div>"
      ],
      "text/plain": [
       "       gauge_code  year    q2_week\n",
       "0      110018901A  2018  84.727684\n",
       "1      110018901A  2019  87.079984\n",
       "2      110018901A  2020  54.468759\n",
       "3      110020501A  2014  42.264973\n",
       "4      110020501A  2017   0.000000\n",
       "...           ...   ...        ...\n",
       "22767  CEMADEN_12  2018  59.240543\n",
       "22768  CEMADEN_12  2019  86.944455\n",
       "22770  CEMADEN_13  2019   0.000000\n",
       "22771  CEMADEN_14  2018  58.760695\n",
       "22772  CEMADEN_14  2019  87.930137\n",
       "\n",
       "[22773 rows x 3 columns]"
      ]
     },
     "execution_count": 75,
     "metadata": {},
     "output_type": "execute_result"
    }
   ],
   "source": [
    "def calculateQ2(df, wet_day_mm=1.0):\n",
    "    # Filter rows where rain_mm > 1 mm (wet days)\n",
    "    df_wet_days = df[df['rain_mm'] >= wet_day_mm].copy()\n",
    "    \n",
    "    # Extract year and day of the week from datetime\n",
    "    df_wet_days['year'] = df_wet_days['datetime'].dt.year\n",
    "    df_wet_days['day_of_week'] = df_wet_days['datetime'].dt.dayofweek  # Monday=0, Sunday=6\n",
    "    \n",
    "    # Group by gauge_code and year, then count wet days for each day of the week\n",
    "    df_grouped = df_wet_days.groupby(['gauge_code', 'year', 'day_of_week']).size().unstack(fill_value=0)\n",
    "    \n",
    "    # Calculate the coefficient of variation (CV) for each group\n",
    "    if df_grouped.shape[0] <= 1:   \n",
    "        q2_week = 0.0 # Default CV value if no data is available\n",
    "    elif df_grouped.sum(axis=1).sum() == 0:\n",
    "        q2_week = 0.0 # Default CV value if no wet days are available\n",
    "    else:\n",
    "        q2_week = 100 - 100 * (df_grouped.std(axis=1) / df_grouped.mean(axis=1))\n",
    "    \n",
    "    q2_week = q2_week.clip(lower=0, upper=100)  # Set values below 0 to 0 and above 100 to 100\n",
    "    \n",
    "    # Create the result DataFrame\n",
    "    df_q2_week = pd.DataFrame({\n",
    "        'gauge_code': df_grouped.index.get_level_values('gauge_code'),\n",
    "        'year': df_grouped.index.get_level_values('year'),\n",
    "        'q2_week': q2_week.values\n",
    "    })\n",
    "    \n",
    "    return df_q2_week\n",
    "\n",
    "\n",
    "df_q2_week = calculateQ2(df_cemaden_data, wet_day_mm)\n",
    "df_q2_week.to_hdf(cemaden_path, key = 'table_q2_week', encoding = 'utf-8', mode='r+', append = False, complevel=9)\n",
    "df_q2_week = pd.merge(df_q2_week, df_p_availability[['gauge_code', 'year']], on = ['gauge_code', 'year'], how = 'outer').reset_index(drop=True).fillna(0).sort_values(['gauge_code'], ascending = True)\n",
    "df_q2_week"
   ]
  },
  {
   "cell_type": "code",
   "execution_count": 76,
   "id": "28504747",
   "metadata": {},
   "outputs": [
    {
     "name": "stdout",
     "output_type": "stream",
     "text": [
      "['table_data', 'table_data_filtered', 'table_info', 'table_p_availability', 'table_preclassif', 'table_q1_gaps', 'table_q2_week']\n"
     ]
    }
   ],
   "source": [
    "with h5py.File(cemaden_path, 'r') as hdf:\n",
    "    keys = list(hdf.keys())\n",
    "    print(keys)"
   ]
  },
  {
   "cell_type": "markdown",
   "id": "9559fa9a",
   "metadata": {},
   "source": [
    "# Q3"
   ]
  },
  {
   "cell_type": "code",
   "execution_count": 77,
   "id": "0b97128f",
   "metadata": {},
   "outputs": [],
   "source": [
    "def calculateQ3(df):\n",
    "    # Calculate monthly thresholds using groupby\n",
    "    df.loc[:, 'month'] = df['datetime'].dt.month\n",
    "    monthly_thresholds = (\n",
    "        df[df['rain_mm'] > wet_day_mm]  # Filter rainy days first\n",
    "        .assign(month=lambda x: x['datetime'].dt.month)\n",
    "        .groupby(['gauge_code', 'month'])\n",
    "        ['rain_mm']\n",
    "        .agg(\n",
    "            Q1=lambda x: x.quantile(0.25) if not x.empty else np.nan,\n",
    "            Q3=lambda x: x.quantile(0.75) if not x.empty else np.nan\n",
    "        )\n",
    "        .reset_index()\n",
    "        .assign(\n",
    "            # Combine both operations in one step\n",
    "            upper_limit=lambda x: (x['Q3'] + 1.5*(x['Q3'] - x['Q1'])).fillna(np.inf)\n",
    "        )\n",
    "        [['gauge_code', 'month', 'upper_limit']]\n",
    "    )\n",
    "    df_upper_limit = pd.merge(df, monthly_thresholds, on=['gauge_code', 'month'], how='left')\n",
    "    df_upper_limit['is_outlier'] = df_upper_limit['rain_mm'] > df_upper_limit['upper_limit']\n",
    "    df_q3_outliers = df_upper_limit.groupby(['gauge_code', 'year'])['is_outlier'].sum().reset_index()\n",
    "    df_active_days = df.groupby(['gauge_code', 'year'])['rain_mm'].count().reset_index()\n",
    "    df_q3_outliers = pd.merge(df_q3_outliers, df_active_days, on=['gauge_code', 'year'], how='left')\n",
    "    df_q3_outliers['q3_outliers'] = 100 - df_q3_outliers['is_outlier'] / df_q3_outliers['rain_mm'] * 100\n",
    "    df_q3_outliers['q3_outliers'] = df_q3_outliers['q3_outliers'].clip(lower=0, upper=100)\n",
    "    del df, df_upper_limit, df_active_days  # Free up memory\n",
    "    return df_q3_outliers[['gauge_code', 'year', 'q3_outliers']]"
   ]
  },
  {
   "cell_type": "code",
   "execution_count": 78,
   "id": "d60a91aa",
   "metadata": {},
   "outputs": [
    {
     "data": {
      "application/vnd.microsoft.datawrangler.viewer.v0+json": {
       "columns": [
        {
         "name": "index",
         "rawType": "int64",
         "type": "integer"
        },
        {
         "name": "gauge_code",
         "rawType": "object",
         "type": "string"
        },
        {
         "name": "year",
         "rawType": "int32",
         "type": "integer"
        },
        {
         "name": "q3_outliers",
         "rawType": "float64",
         "type": "float"
        }
       ],
       "conversionMethod": "pd.DataFrame",
       "ref": "258472fb-bec5-45ab-a07e-bae07ed5fdd2",
       "rows": [
        [
         "0",
         "110018901A",
         "2018",
         "94.8529411764706"
        ],
        [
         "1",
         "110018901A",
         "2019",
         "97.6878612716763"
        ],
        [
         "2",
         "110018901A",
         "2020",
         "100.0"
        ],
        [
         "3",
         "110020501A",
         "2014",
         "100.0"
        ],
        [
         "4",
         "110020501A",
         "2017",
         "100.0"
        ],
        [
         "5",
         "110020501A",
         "2020",
         "97.91666666666667"
        ],
        [
         "6",
         "110020502A",
         "2014",
         "97.70992366412214"
        ],
        [
         "7",
         "110020502A",
         "2015",
         "100.0"
        ],
        [
         "8",
         "110020502A",
         "2016",
         "100.0"
        ],
        [
         "9",
         "110020502A",
         "2017",
         "100.0"
        ],
        [
         "10",
         "110020502A",
         "2020",
         "94.73684210526316"
        ],
        [
         "11",
         "120010401A",
         "2018",
         "97.85714285714286"
        ],
        [
         "12",
         "120010401A",
         "2019",
         "97.1830985915493"
        ],
        [
         "13",
         "120010401A",
         "2020",
         "99.18032786885246"
        ],
        [
         "14",
         "120032801A",
         "2018",
         "97.82608695652173"
        ],
        [
         "15",
         "120032801A",
         "2019",
         "96.1977186311787"
        ],
        [
         "16",
         "120032801A",
         "2020",
         "94.94949494949495"
        ],
        [
         "17",
         "120040101A",
         "2014",
         "98.50299401197604"
        ],
        [
         "18",
         "120040101A",
         "2015",
         "99.70845481049562"
        ],
        [
         "19",
         "120040101A",
         "2016",
         "100.0"
        ],
        [
         "20",
         "120040101A",
         "2017",
         "0.0"
        ],
        [
         "21",
         "120040101A",
         "2020",
         "95.1048951048951"
        ],
        [
         "22",
         "120040101H",
         "2016",
         "94.23076923076923"
        ],
        [
         "23",
         "120040101H",
         "2017",
         "97.85714285714286"
        ],
        [
         "24",
         "120040101H",
         "2020",
         "100.0"
        ],
        [
         "25",
         "120040102A",
         "2014",
         "92.10526315789474"
        ],
        [
         "26",
         "120040102A",
         "2020",
         "98.73417721518987"
        ],
        [
         "27",
         "120040102H",
         "2016",
         "96.29629629629629"
        ],
        [
         "28",
         "120040102H",
         "2017",
         "100.0"
        ],
        [
         "29",
         "120070801A",
         "2018",
         "99.28571428571429"
        ],
        [
         "30",
         "120070801A",
         "2019",
         "96.90140845070422"
        ],
        [
         "31",
         "120070801A",
         "2020",
         "96.99453551912568"
        ],
        [
         "32",
         "130002901A",
         "2018",
         "95.91836734693878"
        ],
        [
         "33",
         "130002901A",
         "2019",
         "100.0"
        ],
        [
         "34",
         "130002901A",
         "2020",
         "88.88888888888889"
        ],
        [
         "35",
         "130006001A",
         "2018",
         "90.74074074074073"
        ],
        [
         "36",
         "130006001A",
         "2019",
         "95.56786703601108"
        ],
        [
         "37",
         "130006001A",
         "2020",
         "96.72131147540983"
        ],
        [
         "38",
         "130008601A",
         "2018",
         "100.0"
        ],
        [
         "39",
         "130008601A",
         "2019",
         "98.45679012345678"
        ],
        [
         "40",
         "130008601A",
         "2020",
         "98.96907216494846"
        ],
        [
         "41",
         "130010201A",
         "2018",
         "95.83333333333333"
        ],
        [
         "42",
         "130010201A",
         "2019",
         "97.6608187134503"
        ],
        [
         "43",
         "130010201A",
         "2020",
         "100.0"
        ],
        [
         "44",
         "130014401A",
         "2018",
         "93.57142857142857"
        ],
        [
         "45",
         "130014401A",
         "2019",
         "97.23076923076923"
        ],
        [
         "46",
         "130014401A",
         "2020",
         "92.5925925925926"
        ],
        [
         "47",
         "130020101A",
         "2018",
         "94.54545454545455"
        ],
        [
         "48",
         "130020101A",
         "2019",
         "96.9283276450512"
        ],
        [
         "49",
         "130020101A",
         "2020",
         "100.0"
        ]
       ],
       "shape": {
        "columns": 3,
        "rows": 22773
       }
      },
      "text/html": [
       "<div>\n",
       "<style scoped>\n",
       "    .dataframe tbody tr th:only-of-type {\n",
       "        vertical-align: middle;\n",
       "    }\n",
       "\n",
       "    .dataframe tbody tr th {\n",
       "        vertical-align: top;\n",
       "    }\n",
       "\n",
       "    .dataframe thead th {\n",
       "        text-align: right;\n",
       "    }\n",
       "</style>\n",
       "<table border=\"1\" class=\"dataframe\">\n",
       "  <thead>\n",
       "    <tr style=\"text-align: right;\">\n",
       "      <th></th>\n",
       "      <th>gauge_code</th>\n",
       "      <th>year</th>\n",
       "      <th>q3_outliers</th>\n",
       "    </tr>\n",
       "  </thead>\n",
       "  <tbody>\n",
       "    <tr>\n",
       "      <th>0</th>\n",
       "      <td>110018901A</td>\n",
       "      <td>2018</td>\n",
       "      <td>94.852941</td>\n",
       "    </tr>\n",
       "    <tr>\n",
       "      <th>1</th>\n",
       "      <td>110018901A</td>\n",
       "      <td>2019</td>\n",
       "      <td>97.687861</td>\n",
       "    </tr>\n",
       "    <tr>\n",
       "      <th>2</th>\n",
       "      <td>110018901A</td>\n",
       "      <td>2020</td>\n",
       "      <td>100.000000</td>\n",
       "    </tr>\n",
       "    <tr>\n",
       "      <th>3</th>\n",
       "      <td>110020501A</td>\n",
       "      <td>2014</td>\n",
       "      <td>100.000000</td>\n",
       "    </tr>\n",
       "    <tr>\n",
       "      <th>4</th>\n",
       "      <td>110020501A</td>\n",
       "      <td>2017</td>\n",
       "      <td>100.000000</td>\n",
       "    </tr>\n",
       "    <tr>\n",
       "      <th>...</th>\n",
       "      <td>...</td>\n",
       "      <td>...</td>\n",
       "      <td>...</td>\n",
       "    </tr>\n",
       "    <tr>\n",
       "      <th>22768</th>\n",
       "      <td>CEMADEN_12</td>\n",
       "      <td>2019</td>\n",
       "      <td>95.555556</td>\n",
       "    </tr>\n",
       "    <tr>\n",
       "      <th>22769</th>\n",
       "      <td>CEMADEN_12</td>\n",
       "      <td>2020</td>\n",
       "      <td>93.548387</td>\n",
       "    </tr>\n",
       "    <tr>\n",
       "      <th>22770</th>\n",
       "      <td>CEMADEN_13</td>\n",
       "      <td>2019</td>\n",
       "      <td>95.652174</td>\n",
       "    </tr>\n",
       "    <tr>\n",
       "      <th>22771</th>\n",
       "      <td>CEMADEN_14</td>\n",
       "      <td>2018</td>\n",
       "      <td>94.565217</td>\n",
       "    </tr>\n",
       "    <tr>\n",
       "      <th>22772</th>\n",
       "      <td>CEMADEN_14</td>\n",
       "      <td>2019</td>\n",
       "      <td>95.833333</td>\n",
       "    </tr>\n",
       "  </tbody>\n",
       "</table>\n",
       "<p>22773 rows × 3 columns</p>\n",
       "</div>"
      ],
      "text/plain": [
       "       gauge_code  year  q3_outliers\n",
       "0      110018901A  2018    94.852941\n",
       "1      110018901A  2019    97.687861\n",
       "2      110018901A  2020   100.000000\n",
       "3      110020501A  2014   100.000000\n",
       "4      110020501A  2017   100.000000\n",
       "...           ...   ...          ...\n",
       "22768  CEMADEN_12  2019    95.555556\n",
       "22769  CEMADEN_12  2020    93.548387\n",
       "22770  CEMADEN_13  2019    95.652174\n",
       "22771  CEMADEN_14  2018    94.565217\n",
       "22772  CEMADEN_14  2019    95.833333\n",
       "\n",
       "[22773 rows x 3 columns]"
      ]
     },
     "execution_count": 78,
     "metadata": {},
     "output_type": "execute_result"
    }
   ],
   "source": [
    "df_q3_outliers = calculateQ3(df_cemaden_data)\n",
    "df_q3_outliers.to_hdf(cemaden_path, key = 'table_q3_outliers', encoding = 'utf-8', mode='r+', append = False, complevel=9)\n",
    "df_q3_outliers"
   ]
  },
  {
   "cell_type": "code",
   "execution_count": 79,
   "id": "4f716668",
   "metadata": {},
   "outputs": [
    {
     "name": "stdout",
     "output_type": "stream",
     "text": [
      "['table_data', 'table_data_filtered', 'table_info', 'table_p_availability', 'table_preclassif', 'table_q1_gaps', 'table_q2_week', 'table_q3_outliers']\n"
     ]
    }
   ],
   "source": [
    "with h5py.File(cemaden_path, 'r') as hdf:\n",
    "    keys = list(hdf.keys())\n",
    "    print(keys)"
   ]
  },
  {
   "cell_type": "markdown",
   "id": "c158e090",
   "metadata": {},
   "source": [
    "# Quality Index"
   ]
  },
  {
   "cell_type": "code",
   "execution_count": 80,
   "id": "52ecc1d9",
   "metadata": {},
   "outputs": [
    {
     "data": {
      "application/vnd.microsoft.datawrangler.viewer.v0+json": {
       "columns": [
        {
         "name": "index",
         "rawType": "int64",
         "type": "integer"
        },
        {
         "name": "gauge_code",
         "rawType": "object",
         "type": "string"
        },
        {
         "name": "datetime",
         "rawType": "datetime64[ns]",
         "type": "datetime"
        },
        {
         "name": "rain_mm",
         "rawType": "float64",
         "type": "float"
        },
        {
         "name": "year",
         "rawType": "int32",
         "type": "integer"
        },
        {
         "name": "month",
         "rawType": "int32",
         "type": "integer"
        },
        {
         "name": "state",
         "rawType": "object",
         "type": "string"
        },
        {
         "name": "city",
         "rawType": "object",
         "type": "string"
        },
        {
         "name": "name_station",
         "rawType": "object",
         "type": "string"
        },
        {
         "name": "long",
         "rawType": "float64",
         "type": "float"
        },
        {
         "name": "lat",
         "rawType": "float64",
         "type": "float"
        }
       ],
       "conversionMethod": "pd.DataFrame",
       "ref": "ecaf0e06-b4bf-4d56-8ce7-7a9ce800c27b",
       "rows": [
        [
         "0",
         "230370901A",
         "2014-01-01 00:00:00",
         "0.0",
         "2014",
         "1",
         "CE",
         "CAUCAIA",
         "Tabapuãzinho",
         "-38.62",
         "-3.741"
        ],
        [
         "1",
         "230370902A",
         "2014-01-01 00:00:00",
         "0.0",
         "2014",
         "1",
         "CE",
         "CAUCAIA",
         "Parque São Geraldo",
         "-38.639",
         "-3.74"
        ],
        [
         "2",
         "230370903A",
         "2014-01-01 00:00:00",
         "0.0",
         "2014",
         "1",
         "CE",
         "CAUCAIA",
         "Conjunto Metropolitano",
         "-38.661",
         "-3.759"
        ],
        [
         "3",
         "230370904A",
         "2014-01-01 00:00:00",
         "0.0",
         "2014",
         "1",
         "CE",
         "CAUCAIA",
         "Padre Julio Maria II",
         "-38.671",
         "-3.743"
        ],
        [
         "4",
         "230370905A",
         "2014-01-01 00:00:00",
         "0.0",
         "2014",
         "1",
         "CE",
         "CAUCAIA",
         "Parque Leblon",
         "-38.594",
         "-3.696"
        ],
        [
         "5",
         "230370906A",
         "2014-01-01 00:00:00",
         "0.0",
         "2014",
         "1",
         "CE",
         "CAUCAIA",
         "Conjunto São Miguel",
         "-38.603",
         "-3.749"
        ],
        [
         "6",
         "230420201A",
         "2014-01-01 00:00:00",
         "0.0",
         "2014",
         "1",
         "CE",
         "CRATO",
         "Centro",
         "-39.458",
         "-7.269"
        ],
        [
         "7",
         "230420202A",
         "2014-01-01 00:00:00",
         "7.300968726",
         "2014",
         "1",
         "CE",
         "CRATO",
         "Granjeiro",
         "-39.433",
         "-7.268"
        ],
        [
         "8",
         "230440003A",
         "2014-01-01 00:00:00",
         "0.590873406",
         "2014",
         "1",
         "CE",
         "FORTALEZA",
         "Granja Portugal",
         "-38.601",
         "-3.789"
        ],
        [
         "9",
         "230440004A",
         "2014-01-01 00:00:00",
         "0.0",
         "2014",
         "1",
         "CE",
         "FORTALEZA",
         "Presidente Kennedy",
         "-38.565",
         "-3.728"
        ],
        [
         "10",
         "230440005A",
         "2014-01-01 00:00:00",
         "0.0",
         "2014",
         "1",
         "CE",
         "FORTALEZA",
         "João XXIII",
         "-38.587",
         "-3.774"
        ],
        [
         "11",
         "230440006A",
         "2014-01-01 00:00:00",
         "0.0",
         "2014",
         "1",
         "CE",
         "FORTALEZA",
         "Antonio Bezerra2",
         "-38.598",
         "-3.726"
        ],
        [
         "12",
         "230440007A",
         "2014-01-01 00:00:00",
         "0.0",
         "2014",
         "1",
         "CE",
         "FORTALEZA",
         "Parangaba",
         "-38.555",
         "-3.781"
        ],
        [
         "13",
         "230440008A",
         "2014-01-01 00:00:00",
         "0.0",
         "2014",
         "1",
         "CE",
         "FORTALEZA",
         "Passare",
         "-38.533",
         "-3.819"
        ],
        [
         "14",
         "230440009A",
         "2014-01-01 00:00:00",
         "0.0",
         "2014",
         "1",
         "CE",
         "FORTALEZA",
         "Panamericano",
         "-38.567",
         "-3.753"
        ],
        [
         "15",
         "230440010A",
         "2014-01-01 00:00:00",
         "0.0",
         "2014",
         "1",
         "CE",
         "FORTALEZA",
         "Dias Macedo",
         "-38.521",
         "-3.786"
        ],
        [
         "16",
         "230440011A",
         "2014-01-01 00:00:00",
         "0.0",
         "2014",
         "1",
         "CE",
         "FORTALEZA",
         "Antonio Bezerra",
         "-38.589",
         "-3.736"
        ],
        [
         "17",
         "230440012A",
         "2014-01-01 00:00:00",
         "0.0",
         "2014",
         "1",
         "CE",
         "FORTALEZA",
         "Vicente Pinzon",
         "-38.467",
         "-3.731"
        ],
        [
         "18",
         "230440014A",
         "2014-01-01 00:00:00",
         "0.2",
         "2014",
         "1",
         "CE",
         "FORTALEZA",
         "Vila Pery",
         "-38.581",
         "-3.79"
        ],
        [
         "19",
         "230440015A",
         "2014-01-01 00:00:00",
         "0.2",
         "2014",
         "1",
         "CE",
         "FORTALEZA",
         "AC Francisco Sa",
         "-38.547938",
         "-3.720669"
        ],
        [
         "20",
         "230440016A",
         "2014-01-01 00:00:00",
         "0.0",
         "2014",
         "1",
         "CE",
         "FORTALEZA",
         "AC Parangaba",
         "-38.562032",
         "-3.772921"
        ],
        [
         "21",
         "230700701A",
         "2014-01-01 00:00:00",
         "0.0",
         "2014",
         "1",
         "CE",
         "JAGUARUANA",
         "AC Jaguaruana",
         "-37.785",
         "-4.837"
        ],
        [
         "22",
         "230700703A",
         "2014-01-01 00:00:00",
         "0.0",
         "2014",
         "1",
         "CE",
         "JAGUARUANA",
         "Cardeais",
         "-37.804",
         "-4.851"
        ],
        [
         "23",
         "230700704A",
         "2014-01-01 00:00:00",
         "0.0",
         "2014",
         "1",
         "CE",
         "JAGUARUANA",
         "Centro",
         "-37.786",
         "-4.838"
        ],
        [
         "24",
         "230700705A",
         "2014-01-01 00:00:00",
         "0.0",
         "2014",
         "1",
         "CE",
         "JAGUARUANA",
         "Saquinho",
         "-37.757",
         "-4.819"
        ],
        [
         "25",
         "230700706A",
         "2014-01-01 00:00:00",
         "0.0",
         "2014",
         "1",
         "CE",
         "JAGUARUANA",
         "Alto",
         "-37.78",
         "-4.828"
        ],
        [
         "26",
         "230730401A",
         "2014-01-01 00:00:00",
         "0.0",
         "2014",
         "1",
         "CE",
         "JUAZEIRO DO NORTE",
         "Centro",
         "-39.319",
         "-7.225"
        ],
        [
         "27",
         "230870802A",
         "2014-01-01 00:00:00",
         "0.0",
         "2014",
         "1",
         "CE",
         "MORADA NOVA",
         "Padre Assis Monteiro",
         "-38.375",
         "-5.11"
        ],
        [
         "28",
         "230870803A",
         "2014-01-01 00:00:00",
         "0.0",
         "2014",
         "1",
         "CE",
         "MORADA NOVA",
         "Centro",
         "-38.374",
         "-5.113"
        ],
        [
         "29",
         "230870804A",
         "2014-01-01 00:00:00",
         "0.0",
         "2014",
         "1",
         "CE",
         "MORADA NOVA",
         "Cristo Rei",
         "-38.372",
         "-5.107"
        ],
        [
         "30",
         "230870805A",
         "2014-01-01 00:00:00",
         "0.0",
         "2014",
         "1",
         "CE",
         "MORADA NOVA",
         "Acudinho",
         "-38.362",
         "-5.108"
        ],
        [
         "31",
         "231140501A",
         "2014-01-01 00:00:00",
         "0.0",
         "2014",
         "1",
         "CE",
         "QUIXERAMOBIM",
         "Centro",
         "-39.302",
         "-5.198"
        ],
        [
         "32",
         "230370901A",
         "2014-01-02 00:00:00",
         "0.7943869990000001",
         "2014",
         "1",
         "CE",
         "CAUCAIA",
         "Tabapuãzinho",
         "-38.62",
         "-3.741"
        ],
        [
         "33",
         "230370902A",
         "2014-01-02 00:00:00",
         "0.6000000000000001",
         "2014",
         "1",
         "CE",
         "CAUCAIA",
         "Parque São Geraldo",
         "-38.639",
         "-3.74"
        ],
        [
         "34",
         "230370903A",
         "2014-01-02 00:00:00",
         "0.2",
         "2014",
         "1",
         "CE",
         "CAUCAIA",
         "Conjunto Metropolitano",
         "-38.661",
         "-3.759"
        ],
        [
         "35",
         "230370904A",
         "2014-01-02 00:00:00",
         "0.9877522320000001",
         "2014",
         "1",
         "CE",
         "CAUCAIA",
         "Padre Julio Maria II",
         "-38.671",
         "-3.743"
        ],
        [
         "36",
         "230370905A",
         "2014-01-02 00:00:00",
         "2.762563873",
         "2014",
         "1",
         "CE",
         "CAUCAIA",
         "Parque Leblon",
         "-38.594",
         "-3.696"
        ],
        [
         "37",
         "230370906A",
         "2014-01-02 00:00:00",
         "3.738776388",
         "2014",
         "1",
         "CE",
         "CAUCAIA",
         "Conjunto São Miguel",
         "-38.603",
         "-3.749"
        ],
        [
         "38",
         "230420201A",
         "2014-01-02 00:00:00",
         "0.0",
         "2014",
         "1",
         "CE",
         "CRATO",
         "Centro",
         "-39.458",
         "-7.269"
        ],
        [
         "39",
         "230420202A",
         "2014-01-02 00:00:00",
         "38.97680381",
         "2014",
         "1",
         "CE",
         "CRATO",
         "Granjeiro",
         "-39.433",
         "-7.268"
        ],
        [
         "40",
         "230440003A",
         "2014-01-02 00:00:00",
         "1.38536",
         "2014",
         "1",
         "CE",
         "FORTALEZA",
         "Granja Portugal",
         "-38.601",
         "-3.789"
        ],
        [
         "41",
         "230440004A",
         "2014-01-02 00:00:00",
         "2.956128658",
         "2014",
         "1",
         "CE",
         "FORTALEZA",
         "Presidente Kennedy",
         "-38.565",
         "-3.728"
        ],
        [
         "42",
         "230440005A",
         "2014-01-02 00:00:00",
         "0.593818967",
         "2014",
         "1",
         "CE",
         "FORTALEZA",
         "João XXIII",
         "-38.587",
         "-3.774"
        ],
        [
         "43",
         "230440006A",
         "2014-01-02 00:00:00",
         "3.1560103820000003",
         "2014",
         "1",
         "CE",
         "FORTALEZA",
         "Antonio Bezerra2",
         "-38.598",
         "-3.726"
        ],
        [
         "44",
         "230440007A",
         "2014-01-02 00:00:00",
         "0.98902",
         "2014",
         "1",
         "CE",
         "FORTALEZA",
         "Parangaba",
         "-38.555",
         "-3.781"
        ],
        [
         "45",
         "230440008A",
         "2014-01-02 00:00:00",
         "3.737033184",
         "2014",
         "1",
         "CE",
         "FORTALEZA",
         "Passare",
         "-38.533",
         "-3.819"
        ],
        [
         "46",
         "230440009A",
         "2014-01-02 00:00:00",
         "4.332683332",
         "2014",
         "1",
         "CE",
         "FORTALEZA",
         "Panamericano",
         "-38.567",
         "-3.753"
        ],
        [
         "47",
         "230440010A",
         "2014-01-02 00:00:00",
         "4.333515095999999",
         "2014",
         "1",
         "CE",
         "FORTALEZA",
         "Dias Macedo",
         "-38.521",
         "-3.786"
        ],
        [
         "48",
         "230440011A",
         "2014-01-02 00:00:00",
         "3.545981325",
         "2014",
         "1",
         "CE",
         "FORTALEZA",
         "Antonio Bezerra",
         "-38.589",
         "-3.736"
        ],
        [
         "49",
         "230440012A",
         "2014-01-02 00:00:00",
         "22.639981095",
         "2014",
         "1",
         "CE",
         "FORTALEZA",
         "Vicente Pinzon",
         "-38.467",
         "-3.731"
        ]
       ],
       "shape": {
        "columns": 10,
        "rows": 6130657
       }
      },
      "text/html": [
       "<div>\n",
       "<style scoped>\n",
       "    .dataframe tbody tr th:only-of-type {\n",
       "        vertical-align: middle;\n",
       "    }\n",
       "\n",
       "    .dataframe tbody tr th {\n",
       "        vertical-align: top;\n",
       "    }\n",
       "\n",
       "    .dataframe thead th {\n",
       "        text-align: right;\n",
       "    }\n",
       "</style>\n",
       "<table border=\"1\" class=\"dataframe\">\n",
       "  <thead>\n",
       "    <tr style=\"text-align: right;\">\n",
       "      <th></th>\n",
       "      <th>gauge_code</th>\n",
       "      <th>datetime</th>\n",
       "      <th>rain_mm</th>\n",
       "      <th>year</th>\n",
       "      <th>month</th>\n",
       "      <th>state</th>\n",
       "      <th>city</th>\n",
       "      <th>name_station</th>\n",
       "      <th>long</th>\n",
       "      <th>lat</th>\n",
       "    </tr>\n",
       "  </thead>\n",
       "  <tbody>\n",
       "    <tr>\n",
       "      <th>0</th>\n",
       "      <td>230370901A</td>\n",
       "      <td>2014-01-01</td>\n",
       "      <td>0.00</td>\n",
       "      <td>2014</td>\n",
       "      <td>1</td>\n",
       "      <td>CE</td>\n",
       "      <td>CAUCAIA</td>\n",
       "      <td>Tabapuãzinho</td>\n",
       "      <td>-38.620000</td>\n",
       "      <td>-3.741000</td>\n",
       "    </tr>\n",
       "    <tr>\n",
       "      <th>1</th>\n",
       "      <td>230370902A</td>\n",
       "      <td>2014-01-01</td>\n",
       "      <td>0.00</td>\n",
       "      <td>2014</td>\n",
       "      <td>1</td>\n",
       "      <td>CE</td>\n",
       "      <td>CAUCAIA</td>\n",
       "      <td>Parque São Geraldo</td>\n",
       "      <td>-38.639000</td>\n",
       "      <td>-3.740000</td>\n",
       "    </tr>\n",
       "    <tr>\n",
       "      <th>2</th>\n",
       "      <td>230370903A</td>\n",
       "      <td>2014-01-01</td>\n",
       "      <td>0.00</td>\n",
       "      <td>2014</td>\n",
       "      <td>1</td>\n",
       "      <td>CE</td>\n",
       "      <td>CAUCAIA</td>\n",
       "      <td>Conjunto Metropolitano</td>\n",
       "      <td>-38.661000</td>\n",
       "      <td>-3.759000</td>\n",
       "    </tr>\n",
       "    <tr>\n",
       "      <th>3</th>\n",
       "      <td>230370904A</td>\n",
       "      <td>2014-01-01</td>\n",
       "      <td>0.00</td>\n",
       "      <td>2014</td>\n",
       "      <td>1</td>\n",
       "      <td>CE</td>\n",
       "      <td>CAUCAIA</td>\n",
       "      <td>Padre Julio Maria II</td>\n",
       "      <td>-38.671000</td>\n",
       "      <td>-3.743000</td>\n",
       "    </tr>\n",
       "    <tr>\n",
       "      <th>4</th>\n",
       "      <td>230370905A</td>\n",
       "      <td>2014-01-01</td>\n",
       "      <td>0.00</td>\n",
       "      <td>2014</td>\n",
       "      <td>1</td>\n",
       "      <td>CE</td>\n",
       "      <td>CAUCAIA</td>\n",
       "      <td>Parque Leblon</td>\n",
       "      <td>-38.594000</td>\n",
       "      <td>-3.696000</td>\n",
       "    </tr>\n",
       "    <tr>\n",
       "      <th>...</th>\n",
       "      <td>...</td>\n",
       "      <td>...</td>\n",
       "      <td>...</td>\n",
       "      <td>...</td>\n",
       "      <td>...</td>\n",
       "      <td>...</td>\n",
       "      <td>...</td>\n",
       "      <td>...</td>\n",
       "      <td>...</td>\n",
       "      <td>...</td>\n",
       "    </tr>\n",
       "    <tr>\n",
       "      <th>6130652</th>\n",
       "      <td>530010804A</td>\n",
       "      <td>2020-12-31</td>\n",
       "      <td>25.00</td>\n",
       "      <td>2020</td>\n",
       "      <td>12</td>\n",
       "      <td>DF</td>\n",
       "      <td>BRASÍLIA</td>\n",
       "      <td>Sobradinho</td>\n",
       "      <td>-47.846900</td>\n",
       "      <td>-15.623700</td>\n",
       "    </tr>\n",
       "    <tr>\n",
       "      <th>6130653</th>\n",
       "      <td>530010805A</td>\n",
       "      <td>2020-12-31</td>\n",
       "      <td>0.00</td>\n",
       "      <td>2020</td>\n",
       "      <td>12</td>\n",
       "      <td>DF</td>\n",
       "      <td>BRASÍLIA</td>\n",
       "      <td>Nucleo Bandeirante</td>\n",
       "      <td>-47.962700</td>\n",
       "      <td>-15.876800</td>\n",
       "    </tr>\n",
       "    <tr>\n",
       "      <th>6130654</th>\n",
       "      <td>CEMADEN_10</td>\n",
       "      <td>2020-12-31</td>\n",
       "      <td>0.79</td>\n",
       "      <td>2020</td>\n",
       "      <td>12</td>\n",
       "      <td>SP</td>\n",
       "      <td>CACHOEIRA PAULISTA</td>\n",
       "      <td>Cachoeira Paulista - Cemaden10 - TESTES</td>\n",
       "      <td>-44.995534</td>\n",
       "      <td>-22.674132</td>\n",
       "    </tr>\n",
       "    <tr>\n",
       "      <th>6130655</th>\n",
       "      <td>CEMADEN_11</td>\n",
       "      <td>2020-12-31</td>\n",
       "      <td>1.38</td>\n",
       "      <td>2020</td>\n",
       "      <td>12</td>\n",
       "      <td>SP</td>\n",
       "      <td>CACHOEIRA PAULISTA</td>\n",
       "      <td>Cachoeira Paulista - Cemaden11 TESTES</td>\n",
       "      <td>-44.995750</td>\n",
       "      <td>-22.674080</td>\n",
       "    </tr>\n",
       "    <tr>\n",
       "      <th>6130656</th>\n",
       "      <td>CEMADEN_12</td>\n",
       "      <td>2020-12-31</td>\n",
       "      <td>0.98</td>\n",
       "      <td>2020</td>\n",
       "      <td>12</td>\n",
       "      <td>SP</td>\n",
       "      <td>CACHOEIRA PAULISTA</td>\n",
       "      <td>Cachoeira Paulista - Cemaden12</td>\n",
       "      <td>-45.000000</td>\n",
       "      <td>-22.682000</td>\n",
       "    </tr>\n",
       "  </tbody>\n",
       "</table>\n",
       "<p>6130657 rows × 10 columns</p>\n",
       "</div>"
      ],
      "text/plain": [
       "         gauge_code   datetime  rain_mm  year  month state  \\\n",
       "0        230370901A 2014-01-01     0.00  2014      1    CE   \n",
       "1        230370902A 2014-01-01     0.00  2014      1    CE   \n",
       "2        230370903A 2014-01-01     0.00  2014      1    CE   \n",
       "3        230370904A 2014-01-01     0.00  2014      1    CE   \n",
       "4        230370905A 2014-01-01     0.00  2014      1    CE   \n",
       "...             ...        ...      ...   ...    ...   ...   \n",
       "6130652  530010804A 2020-12-31    25.00  2020     12    DF   \n",
       "6130653  530010805A 2020-12-31     0.00  2020     12    DF   \n",
       "6130654  CEMADEN_10 2020-12-31     0.79  2020     12    SP   \n",
       "6130655  CEMADEN_11 2020-12-31     1.38  2020     12    SP   \n",
       "6130656  CEMADEN_12 2020-12-31     0.98  2020     12    SP   \n",
       "\n",
       "                       city                             name_station  \\\n",
       "0                   CAUCAIA                             Tabapuãzinho   \n",
       "1                   CAUCAIA                       Parque São Geraldo   \n",
       "2                   CAUCAIA                   Conjunto Metropolitano   \n",
       "3                   CAUCAIA                     Padre Julio Maria II   \n",
       "4                   CAUCAIA                            Parque Leblon   \n",
       "...                     ...                                      ...   \n",
       "6130652            BRASÍLIA                               Sobradinho   \n",
       "6130653            BRASÍLIA                       Nucleo Bandeirante   \n",
       "6130654  CACHOEIRA PAULISTA  Cachoeira Paulista - Cemaden10 - TESTES   \n",
       "6130655  CACHOEIRA PAULISTA    Cachoeira Paulista - Cemaden11 TESTES   \n",
       "6130656  CACHOEIRA PAULISTA           Cachoeira Paulista - Cemaden12   \n",
       "\n",
       "              long        lat  \n",
       "0       -38.620000  -3.741000  \n",
       "1       -38.639000  -3.740000  \n",
       "2       -38.661000  -3.759000  \n",
       "3       -38.671000  -3.743000  \n",
       "4       -38.594000  -3.696000  \n",
       "...            ...        ...  \n",
       "6130652 -47.846900 -15.623700  \n",
       "6130653 -47.962700 -15.876800  \n",
       "6130654 -44.995534 -22.674132  \n",
       "6130655 -44.995750 -22.674080  \n",
       "6130656 -45.000000 -22.682000  \n",
       "\n",
       "[6130657 rows x 10 columns]"
      ]
     },
     "execution_count": 80,
     "metadata": {},
     "output_type": "execute_result"
    }
   ],
   "source": [
    "df_preclassif = pd.read_hdf(cemaden_path, key='table_preclassif')\n",
    "df_cemaden_info = pd.read_hdf(cemaden_path, key='table_info')\n",
    "df_complete_info = pd.merge(df_cemaden_data, df_cemaden_info, on='gauge_code', how = 'inner').sort_values(['datetime','gauge_code'], ascending = True).reset_index(drop=True)\n",
    "df_complete_info"
   ]
  },
  {
   "cell_type": "code",
   "execution_count": 81,
   "id": "47fdb913",
   "metadata": {},
   "outputs": [
    {
     "data": {
      "application/vnd.microsoft.datawrangler.viewer.v0+json": {
       "columns": [
        {
         "name": "index",
         "rawType": "int64",
         "type": "integer"
        },
        {
         "name": "gauge_code",
         "rawType": "object",
         "type": "string"
        },
        {
         "name": "year",
         "rawType": "int64",
         "type": "integer"
        },
        {
         "name": "p_availability",
         "rawType": "float64",
         "type": "float"
        }
       ],
       "conversionMethod": "pd.DataFrame",
       "ref": "82bc2f92-ce58-479e-adf6-1e2cb8ce3be8",
       "rows": [
        [
         "0",
         "110020501A",
         "2014",
         "4.383561643835616"
        ],
        [
         "1",
         "110020502A",
         "2014",
         "71.78082191780823"
        ],
        [
         "2",
         "120040101A",
         "2014",
         "91.5068493150685"
        ],
        [
         "3",
         "120040102A",
         "2014",
         "20.82191780821918"
        ],
        [
         "4",
         "150120401A",
         "2014",
         "16.71232876712329"
        ],
        [
         "5",
         "150140201A",
         "2014",
         "16.71232876712329"
        ],
        [
         "6",
         "150350701A",
         "2014",
         "16.71232876712329"
        ],
        [
         "7",
         "150380401A",
         "2014",
         "16.71232876712329"
        ],
        [
         "8",
         "150810001A",
         "2014",
         "16.71232876712329"
        ],
        [
         "9",
         "220120001A",
         "2014",
         "75.34246575342466"
        ],
        [
         "10",
         "220220801A",
         "2014",
         "75.34246575342466"
        ],
        [
         "11",
         "220265301A",
         "2014",
         "16.164383561643834"
        ],
        [
         "12",
         "220265302A",
         "2014",
         "16.164383561643834"
        ],
        [
         "13",
         "220370101A",
         "2014",
         "75.34246575342466"
        ],
        [
         "14",
         "230075401A",
         "2014",
         "74.79452054794521"
        ],
        [
         "15",
         "230075402A",
         "2014",
         "74.79452054794521"
        ],
        [
         "16",
         "230075403A",
         "2014",
         "74.52054794520548"
        ],
        [
         "17",
         "230170301A",
         "2014",
         "91.5068493150685"
        ],
        [
         "18",
         "230230501A",
         "2014",
         "65.75342465753424"
        ],
        [
         "19",
         "230240401A",
         "2014",
         "91.5068493150685"
        ],
        [
         "20",
         "230370901A",
         "2014",
         "100.0"
        ],
        [
         "21",
         "230370902A",
         "2014",
         "100.0"
        ],
        [
         "22",
         "230370903A",
         "2014",
         "100.0"
        ],
        [
         "23",
         "230370904A",
         "2014",
         "100.0"
        ],
        [
         "24",
         "230370905A",
         "2014",
         "100.0"
        ],
        [
         "25",
         "230370906A",
         "2014",
         "87.94520547945206"
        ],
        [
         "26",
         "230420201A",
         "2014",
         "69.86301369863014"
        ],
        [
         "27",
         "230420202A",
         "2014",
         "100.0"
        ],
        [
         "28",
         "230435001A",
         "2014",
         "73.97260273972603"
        ],
        [
         "29",
         "230440001A",
         "2014",
         "91.5068493150685"
        ],
        [
         "30",
         "230440002A",
         "2014",
         "91.5068493150685"
        ],
        [
         "31",
         "230440003A",
         "2014",
         "82.1917808219178"
        ],
        [
         "32",
         "230440004A",
         "2014",
         "100.0"
        ],
        [
         "33",
         "230440005A",
         "2014",
         "100.0"
        ],
        [
         "34",
         "230440006A",
         "2014",
         "100.0"
        ],
        [
         "35",
         "230440007A",
         "2014",
         "100.0"
        ],
        [
         "36",
         "230440008A",
         "2014",
         "100.0"
        ],
        [
         "37",
         "230440009A",
         "2014",
         "100.0"
        ],
        [
         "38",
         "230440010A",
         "2014",
         "100.0"
        ],
        [
         "39",
         "230440011A",
         "2014",
         "100.0"
        ],
        [
         "40",
         "230440012A",
         "2014",
         "100.0"
        ],
        [
         "41",
         "230440013A",
         "2014",
         "89.58904109589041"
        ],
        [
         "42",
         "230440014A",
         "2014",
         "100.0"
        ],
        [
         "43",
         "230440015A",
         "2014",
         "100.0"
        ],
        [
         "44",
         "230440016A",
         "2014",
         "100.0"
        ],
        [
         "45",
         "230610801A",
         "2014",
         "72.87671232876713"
        ],
        [
         "46",
         "230700701A",
         "2014",
         "100.0"
        ],
        [
         "47",
         "230700703A",
         "2014",
         "58.9041095890411"
        ],
        [
         "48",
         "230700704A",
         "2014",
         "81.36986301369863"
        ],
        [
         "49",
         "230700705A",
         "2014",
         "100.0"
        ]
       ],
       "shape": {
        "columns": 3,
        "rows": 22773
       }
      },
      "text/html": [
       "<div>\n",
       "<style scoped>\n",
       "    .dataframe tbody tr th:only-of-type {\n",
       "        vertical-align: middle;\n",
       "    }\n",
       "\n",
       "    .dataframe tbody tr th {\n",
       "        vertical-align: top;\n",
       "    }\n",
       "\n",
       "    .dataframe thead th {\n",
       "        text-align: right;\n",
       "    }\n",
       "</style>\n",
       "<table border=\"1\" class=\"dataframe\">\n",
       "  <thead>\n",
       "    <tr style=\"text-align: right;\">\n",
       "      <th></th>\n",
       "      <th>gauge_code</th>\n",
       "      <th>year</th>\n",
       "      <th>p_availability</th>\n",
       "    </tr>\n",
       "  </thead>\n",
       "  <tbody>\n",
       "    <tr>\n",
       "      <th>0</th>\n",
       "      <td>110020501A</td>\n",
       "      <td>2014</td>\n",
       "      <td>4.383562</td>\n",
       "    </tr>\n",
       "    <tr>\n",
       "      <th>1</th>\n",
       "      <td>110020502A</td>\n",
       "      <td>2014</td>\n",
       "      <td>71.780822</td>\n",
       "    </tr>\n",
       "    <tr>\n",
       "      <th>2</th>\n",
       "      <td>120040101A</td>\n",
       "      <td>2014</td>\n",
       "      <td>91.506849</td>\n",
       "    </tr>\n",
       "    <tr>\n",
       "      <th>3</th>\n",
       "      <td>120040102A</td>\n",
       "      <td>2014</td>\n",
       "      <td>20.821918</td>\n",
       "    </tr>\n",
       "    <tr>\n",
       "      <th>4</th>\n",
       "      <td>150120401A</td>\n",
       "      <td>2014</td>\n",
       "      <td>16.712329</td>\n",
       "    </tr>\n",
       "    <tr>\n",
       "      <th>...</th>\n",
       "      <td>...</td>\n",
       "      <td>...</td>\n",
       "      <td>...</td>\n",
       "    </tr>\n",
       "    <tr>\n",
       "      <th>22768</th>\n",
       "      <td>530010804A</td>\n",
       "      <td>2020</td>\n",
       "      <td>100.000000</td>\n",
       "    </tr>\n",
       "    <tr>\n",
       "      <th>22769</th>\n",
       "      <td>530010805A</td>\n",
       "      <td>2020</td>\n",
       "      <td>100.000000</td>\n",
       "    </tr>\n",
       "    <tr>\n",
       "      <th>22770</th>\n",
       "      <td>CEMADEN_10</td>\n",
       "      <td>2020</td>\n",
       "      <td>91.256831</td>\n",
       "    </tr>\n",
       "    <tr>\n",
       "      <th>22771</th>\n",
       "      <td>CEMADEN_11</td>\n",
       "      <td>2020</td>\n",
       "      <td>6.557377</td>\n",
       "    </tr>\n",
       "    <tr>\n",
       "      <th>22772</th>\n",
       "      <td>CEMADEN_12</td>\n",
       "      <td>2020</td>\n",
       "      <td>8.469945</td>\n",
       "    </tr>\n",
       "  </tbody>\n",
       "</table>\n",
       "<p>22773 rows × 3 columns</p>\n",
       "</div>"
      ],
      "text/plain": [
       "       gauge_code  year  p_availability\n",
       "0      110020501A  2014        4.383562\n",
       "1      110020502A  2014       71.780822\n",
       "2      120040101A  2014       91.506849\n",
       "3      120040102A  2014       20.821918\n",
       "4      150120401A  2014       16.712329\n",
       "...           ...   ...             ...\n",
       "22768  530010804A  2020      100.000000\n",
       "22769  530010805A  2020      100.000000\n",
       "22770  CEMADEN_10  2020       91.256831\n",
       "22771  CEMADEN_11  2020        6.557377\n",
       "22772  CEMADEN_12  2020        8.469945\n",
       "\n",
       "[22773 rows x 3 columns]"
      ]
     },
     "execution_count": 81,
     "metadata": {},
     "output_type": "execute_result"
    }
   ],
   "source": [
    "df_p_availability = pd.read_hdf(cemaden_path, key = 'table_p_availability', encoding = 'utf-8')\n",
    "df_q1_gaps = pd.read_hdf(cemaden_path, key = 'table_q1_gaps', encoding = 'utf-8')\n",
    "df_q2_week = pd.read_hdf(cemaden_path, key = 'table_q2_week', encoding = 'utf-8')\n",
    "df_q3_outliers = pd.read_hdf(cemaden_path, key = 'table_q3_outliers', encoding = 'utf-8')\n",
    "df_p_availability"
   ]
  },
  {
   "cell_type": "code",
   "execution_count": 82,
   "id": "c11d2ca4",
   "metadata": {},
   "outputs": [
    {
     "data": {
      "application/vnd.microsoft.datawrangler.viewer.v0+json": {
       "columns": [
        {
         "name": "index",
         "rawType": "int64",
         "type": "integer"
        },
        {
         "name": "gauge_code",
         "rawType": "object",
         "type": "string"
        },
        {
         "name": "year",
         "rawType": "int32",
         "type": "integer"
        },
        {
         "name": "preclassif",
         "rawType": "object",
         "type": "string"
        },
        {
         "name": "p_availability",
         "rawType": "float64",
         "type": "float"
        },
        {
         "name": "q1_gaps",
         "rawType": "float64",
         "type": "float"
        },
        {
         "name": "q2_week",
         "rawType": "float64",
         "type": "float"
        },
        {
         "name": "q3_outliers",
         "rawType": "float64",
         "type": "float"
        }
       ],
       "conversionMethod": "pd.DataFrame",
       "ref": "db92c076-b2fd-4e6c-8dea-5a7a3583e9d2",
       "rows": [
        [
         "0",
         "110018901A",
         "2018",
         "",
         "37.26027397260274",
         "0.0",
         "84.72768438490468",
         "94.8529411764706"
        ],
        [
         "1",
         "110018901A",
         "2019",
         "",
         "94.79452054794521",
         "86.41618497109826",
         "87.0799840422603",
         "97.6878612716763"
        ],
        [
         "2",
         "110018901A",
         "2020",
         "",
         "10.382513661202186",
         "0.0",
         "54.468759210420274",
         "100.0"
        ],
        [
         "3",
         "110020501A",
         "2014",
         "LQ",
         "4.383561643835616",
         "0.0",
         "42.264973081037425",
         "100.0"
        ],
        [
         "4",
         "110020501A",
         "2017",
         "LQ",
         "1.643835616438356",
         "0.0",
         "0.0",
         "100.0"
        ],
        [
         "5",
         "110020501A",
         "2020",
         "",
         "39.34426229508197",
         "0.0",
         "62.5",
         "97.91666666666667"
        ],
        [
         "6",
         "110020502A",
         "2014",
         "",
         "71.78082191780823",
         "0.0",
         "88.20809244923613",
         "97.70992366412214"
        ],
        [
         "7",
         "110020502A",
         "2015",
         "LQ",
         "2.4657534246575343",
         "0.0",
         "0.0",
         "100.0"
        ],
        [
         "8",
         "110020502A",
         "2016",
         "LQ",
         "26.229508196721312",
         "0.0",
         "76.9934668603079",
         "100.0"
        ],
        [
         "9",
         "110020502A",
         "2017",
         "LQ",
         "1.643835616438356",
         "0.0",
         "0.0",
         "100.0"
        ],
        [
         "10",
         "110020502A",
         "2020",
         "",
         "31.147540983606557",
         "0.0",
         "70.24404821440478",
         "94.73684210526316"
        ],
        [
         "11",
         "120010401A",
         "2018",
         "",
         "38.35616438356164",
         "0.0",
         "73.97917500667334",
         "97.85714285714286"
        ],
        [
         "12",
         "120010401A",
         "2019",
         "",
         "97.26027397260275",
         "92.11267605633803",
         "80.05689911956335",
         "97.1830985915493"
        ],
        [
         "13",
         "120010401A",
         "2020",
         "LQ",
         "100.0",
         "100.0",
         "78.65218590425084",
         "99.18032786885246"
        ],
        [
         "14",
         "120032801A",
         "2018",
         "",
         "37.80821917808219",
         "0.0",
         "85.61481247968504",
         "97.82608695652173"
        ],
        [
         "15",
         "120032801A",
         "2019",
         "",
         "72.05479452054794",
         "19.01140684410646",
         "85.57115540330012",
         "96.1977186311787"
        ],
        [
         "16",
         "120032801A",
         "2020",
         "",
         "54.09836065573771",
         "0.0",
         "63.56639727658809",
         "94.94949494949495"
        ],
        [
         "17",
         "120040101A",
         "2014",
         "",
         "91.5068493150685",
         "72.1556886227545",
         "78.46860620730283",
         "98.50299401197604"
        ],
        [
         "18",
         "120040101A",
         "2015",
         "LQ",
         "93.97260273972603",
         "80.75801749271137",
         "71.05074731095917",
         "99.70845481049562"
        ],
        [
         "19",
         "120040101A",
         "2016",
         "LQ",
         "93.44262295081968",
         "78.94736842105263",
         "0.0",
         "100.0"
        ],
        [
         "20",
         "120040101A",
         "2017",
         "LQ",
         "0.273972602739726",
         "0.0",
         "0.0",
         "0.0"
        ],
        [
         "21",
         "120040101A",
         "2020",
         "",
         "39.07103825136612",
         "0.0",
         "64.59865527506994",
         "95.1048951048951"
        ],
        [
         "22",
         "120040101H",
         "2016",
         "",
         "14.207650273224044",
         "0.0",
         "65.12482248931967",
         "94.23076923076923"
        ],
        [
         "23",
         "120040101H",
         "2017",
         "",
         "38.35616438356164",
         "0.0",
         "87.1187762256094",
         "97.85714285714286"
        ],
        [
         "24",
         "120040101H",
         "2020",
         "LQ",
         "0.273224043715847",
         "0.0",
         "0.0",
         "100.0"
        ],
        [
         "25",
         "120040102A",
         "2014",
         "",
         "20.82191780821918",
         "0.0",
         "65.41917679792263",
         "92.10526315789474"
        ],
        [
         "26",
         "120040102A",
         "2020",
         "",
         "21.584699453551913",
         "0.0",
         "51.55270864694568",
         "98.73417721518987"
        ],
        [
         "27",
         "120040102H",
         "2016",
         "",
         "14.754098360655737",
         "0.0",
         "71.26798018088735",
         "96.29629629629629"
        ],
        [
         "28",
         "120040102H",
         "2017",
         "LQ",
         "3.0136986301369864",
         "0.0",
         "39.619263557544",
         "100.0"
        ],
        [
         "29",
         "120070801A",
         "2018",
         "",
         "38.35616438356164",
         "0.0",
         "66.42133983636118",
         "99.28571428571429"
        ],
        [
         "30",
         "120070801A",
         "2019",
         "",
         "97.26027397260275",
         "92.3943661971831",
         "87.09564060677629",
         "96.90140845070422"
        ],
        [
         "31",
         "120070801A",
         "2020",
         "",
         "100.0",
         "100.0",
         "77.10319070122586",
         "96.99453551912568"
        ],
        [
         "32",
         "130002901A",
         "2018",
         "",
         "13.424657534246576",
         "0.0",
         "86.58205856834311",
         "95.91836734693878"
        ],
        [
         "33",
         "130002901A",
         "2019",
         "LQ",
         "1.9178082191780823",
         "0.0",
         "55.90414481559016",
         "100.0"
        ],
        [
         "34",
         "130002901A",
         "2020",
         "LQ",
         "2.459016393442623",
         "0.0",
         "0.0",
         "88.88888888888889"
        ],
        [
         "35",
         "130006001A",
         "2018",
         "",
         "14.794520547945206",
         "0.0",
         "82.78884203973092",
         "90.74074074074073"
        ],
        [
         "36",
         "130006001A",
         "2019",
         "",
         "98.9041095890411",
         "97.50692520775624",
         "89.06623005990703",
         "95.56786703601108"
        ],
        [
         "37",
         "130006001A",
         "2020",
         "",
         "100.0",
         "100.0",
         "83.0269961190265",
         "96.72131147540983"
        ],
        [
         "38",
         "130008601A",
         "2018",
         "LQ",
         "6.575342465753424",
         "0.0",
         "82.02289339305334",
         "100.0"
        ],
        [
         "39",
         "130008601A",
         "2019",
         "",
         "88.76712328767124",
         "69.1358024691358",
         "80.54756715924911",
         "98.45679012345678"
        ],
        [
         "40",
         "130008601A",
         "2020",
         "LQ",
         "26.50273224043716",
         "0.0",
         "61.84798092438208",
         "98.96907216494846"
        ],
        [
         "41",
         "130010201A",
         "2018",
         "LQ",
         "6.575342465753424",
         "0.0",
         "67.60252619243468",
         "95.83333333333333"
        ],
        [
         "42",
         "130010201A",
         "2019",
         "",
         "93.69863013698631",
         "84.21052631578948",
         "87.17494482119554",
         "97.6608187134503"
        ],
        [
         "43",
         "130010201A",
         "2020",
         "LQ",
         "4.371584699453552",
         "0.0",
         "19.49235141005869",
         "100.0"
        ],
        [
         "44",
         "130014401A",
         "2018",
         "",
         "38.35616438356164",
         "0.0",
         "74.3181862876557",
         "93.57142857142857"
        ],
        [
         "45",
         "130014401A",
         "2019",
         "",
         "89.04109589041096",
         "69.23076923076923",
         "90.44522155203309",
         "97.23076923076923"
        ],
        [
         "46",
         "130014401A",
         "2020",
         "LQ",
         "7.377049180327869",
         "0.0",
         "75.8477054230176",
         "92.5925925925926"
        ],
        [
         "47",
         "130020101A",
         "2018",
         "",
         "15.068493150684931",
         "0.0",
         "81.74801274744419",
         "94.54545454545455"
        ],
        [
         "48",
         "130020101A",
         "2019",
         "",
         "80.27397260273973",
         "34.81228668941979",
         "83.29983642263203",
         "96.9283276450512"
        ],
        [
         "49",
         "130020101A",
         "2020",
         "LQ",
         "3.0054644808743167",
         "0.0",
         "55.90414481559016",
         "100.0"
        ]
       ],
       "shape": {
        "columns": 7,
        "rows": 22773
       }
      },
      "text/html": [
       "<div>\n",
       "<style scoped>\n",
       "    .dataframe tbody tr th:only-of-type {\n",
       "        vertical-align: middle;\n",
       "    }\n",
       "\n",
       "    .dataframe tbody tr th {\n",
       "        vertical-align: top;\n",
       "    }\n",
       "\n",
       "    .dataframe thead th {\n",
       "        text-align: right;\n",
       "    }\n",
       "</style>\n",
       "<table border=\"1\" class=\"dataframe\">\n",
       "  <thead>\n",
       "    <tr style=\"text-align: right;\">\n",
       "      <th></th>\n",
       "      <th>gauge_code</th>\n",
       "      <th>year</th>\n",
       "      <th>preclassif</th>\n",
       "      <th>p_availability</th>\n",
       "      <th>q1_gaps</th>\n",
       "      <th>q2_week</th>\n",
       "      <th>q3_outliers</th>\n",
       "    </tr>\n",
       "  </thead>\n",
       "  <tbody>\n",
       "    <tr>\n",
       "      <th>0</th>\n",
       "      <td>110018901A</td>\n",
       "      <td>2018</td>\n",
       "      <td></td>\n",
       "      <td>37.260274</td>\n",
       "      <td>0.000000</td>\n",
       "      <td>84.727684</td>\n",
       "      <td>94.852941</td>\n",
       "    </tr>\n",
       "    <tr>\n",
       "      <th>1</th>\n",
       "      <td>110018901A</td>\n",
       "      <td>2019</td>\n",
       "      <td></td>\n",
       "      <td>94.794521</td>\n",
       "      <td>86.416185</td>\n",
       "      <td>87.079984</td>\n",
       "      <td>97.687861</td>\n",
       "    </tr>\n",
       "    <tr>\n",
       "      <th>2</th>\n",
       "      <td>110018901A</td>\n",
       "      <td>2020</td>\n",
       "      <td></td>\n",
       "      <td>10.382514</td>\n",
       "      <td>0.000000</td>\n",
       "      <td>54.468759</td>\n",
       "      <td>100.000000</td>\n",
       "    </tr>\n",
       "    <tr>\n",
       "      <th>3</th>\n",
       "      <td>110020501A</td>\n",
       "      <td>2014</td>\n",
       "      <td>LQ</td>\n",
       "      <td>4.383562</td>\n",
       "      <td>0.000000</td>\n",
       "      <td>42.264973</td>\n",
       "      <td>100.000000</td>\n",
       "    </tr>\n",
       "    <tr>\n",
       "      <th>4</th>\n",
       "      <td>110020501A</td>\n",
       "      <td>2017</td>\n",
       "      <td>LQ</td>\n",
       "      <td>1.643836</td>\n",
       "      <td>0.000000</td>\n",
       "      <td>0.000000</td>\n",
       "      <td>100.000000</td>\n",
       "    </tr>\n",
       "    <tr>\n",
       "      <th>...</th>\n",
       "      <td>...</td>\n",
       "      <td>...</td>\n",
       "      <td>...</td>\n",
       "      <td>...</td>\n",
       "      <td>...</td>\n",
       "      <td>...</td>\n",
       "      <td>...</td>\n",
       "    </tr>\n",
       "    <tr>\n",
       "      <th>22768</th>\n",
       "      <td>CEMADEN_12</td>\n",
       "      <td>2019</td>\n",
       "      <td></td>\n",
       "      <td>24.657534</td>\n",
       "      <td>0.000000</td>\n",
       "      <td>86.944455</td>\n",
       "      <td>95.555556</td>\n",
       "    </tr>\n",
       "    <tr>\n",
       "      <th>22769</th>\n",
       "      <td>CEMADEN_12</td>\n",
       "      <td>2020</td>\n",
       "      <td></td>\n",
       "      <td>8.469945</td>\n",
       "      <td>0.000000</td>\n",
       "      <td>61.341361</td>\n",
       "      <td>93.548387</td>\n",
       "    </tr>\n",
       "    <tr>\n",
       "      <th>22770</th>\n",
       "      <td>CEMADEN_13</td>\n",
       "      <td>2019</td>\n",
       "      <td>LQ</td>\n",
       "      <td>6.301370</td>\n",
       "      <td>0.000000</td>\n",
       "      <td>0.000000</td>\n",
       "      <td>95.652174</td>\n",
       "    </tr>\n",
       "    <tr>\n",
       "      <th>22771</th>\n",
       "      <td>CEMADEN_14</td>\n",
       "      <td>2018</td>\n",
       "      <td></td>\n",
       "      <td>25.205479</td>\n",
       "      <td>0.000000</td>\n",
       "      <td>58.760695</td>\n",
       "      <td>94.565217</td>\n",
       "    </tr>\n",
       "    <tr>\n",
       "      <th>22772</th>\n",
       "      <td>CEMADEN_14</td>\n",
       "      <td>2019</td>\n",
       "      <td></td>\n",
       "      <td>32.876712</td>\n",
       "      <td>0.000000</td>\n",
       "      <td>87.930137</td>\n",
       "      <td>95.833333</td>\n",
       "    </tr>\n",
       "  </tbody>\n",
       "</table>\n",
       "<p>22773 rows × 7 columns</p>\n",
       "</div>"
      ],
      "text/plain": [
       "       gauge_code  year preclassif  p_availability    q1_gaps    q2_week  \\\n",
       "0      110018901A  2018                  37.260274   0.000000  84.727684   \n",
       "1      110018901A  2019                  94.794521  86.416185  87.079984   \n",
       "2      110018901A  2020                  10.382514   0.000000  54.468759   \n",
       "3      110020501A  2014         LQ        4.383562   0.000000  42.264973   \n",
       "4      110020501A  2017         LQ        1.643836   0.000000   0.000000   \n",
       "...           ...   ...        ...             ...        ...        ...   \n",
       "22768  CEMADEN_12  2019                  24.657534   0.000000  86.944455   \n",
       "22769  CEMADEN_12  2020                   8.469945   0.000000  61.341361   \n",
       "22770  CEMADEN_13  2019         LQ        6.301370   0.000000   0.000000   \n",
       "22771  CEMADEN_14  2018                  25.205479   0.000000  58.760695   \n",
       "22772  CEMADEN_14  2019                  32.876712   0.000000  87.930137   \n",
       "\n",
       "       q3_outliers  \n",
       "0        94.852941  \n",
       "1        97.687861  \n",
       "2       100.000000  \n",
       "3       100.000000  \n",
       "4       100.000000  \n",
       "...            ...  \n",
       "22768    95.555556  \n",
       "22769    93.548387  \n",
       "22770    95.652174  \n",
       "22771    94.565217  \n",
       "22772    95.833333  \n",
       "\n",
       "[22773 rows x 7 columns]"
      ]
     },
     "execution_count": 82,
     "metadata": {},
     "output_type": "execute_result"
    }
   ],
   "source": [
    "df_qc_info = pd.merge(df_preclassif[['gauge_code', 'year', 'preclassif']]\n",
    "                      , df_p_availability\n",
    "                      , on = ['gauge_code', 'year']\n",
    "                      , how='left').merge(df_q1_gaps\n",
    "                                          , on = ['gauge_code', 'year']\n",
    "                                          , how='left').merge(df_q2_week\n",
    "                                                              , on = ['gauge_code', 'year']\n",
    "                                                              , how='left').merge(df_q3_outliers\n",
    "                                                              , on = ['gauge_code', 'year']\n",
    "                                                              , how='left')\n",
    "df_qc_info.fillna(0, inplace=True)\n",
    "df_qc_info"
   ]
  },
  {
   "cell_type": "code",
   "execution_count": 83,
   "id": "b2c02940",
   "metadata": {},
   "outputs": [
    {
     "data": {
      "image/png": "[encoded data removed]",
      "text/plain": [
       "<Figure size 800x600 with 1 Axes>"
      ]
     },
     "metadata": {},
     "output_type": "display_data"
    }
   ],
   "source": [
    "# Plot a histogram for the 'q1_gaps' column\n",
    "variable = 'q3_outliers'\n",
    "label = variable.lower().replace('_', ' ').capitalize()\n",
    "plt.figure(figsize=(8, 6))\n",
    "plt.hist(df_qc_info[variable], bins=30, color='blue', alpha=0.7, edgecolor='black')\n",
    "plt.title(f'Histogram of {label}')\n",
    "plt.xlabel(label)\n",
    "plt.ylabel('Frequency')\n",
    "plt.grid(axis='y', alpha=0.75)\n",
    "plt.show()"
   ]
  },
  {
   "cell_type": "code",
   "execution_count": 84,
   "id": "ecf22859",
   "metadata": {},
   "outputs": [],
   "source": [
    "df_qc_info['quality_index'] = df_qc_info[['p_availability', 'q1_gaps', 'q2_week', 'q3_outliers']].mean(axis=1)\n",
    "\n",
    "df_qc_info['quality_label'] = df_qc_info.apply(calculate_quality_label, axis=1)\n",
    "\n",
    "df_qc_info['final_classif'] = df_qc_info.apply(\n",
    "    lambda row: 'LQ' if row['quality_label'] in ['4 - Low Quality', '5 - Very Low Quality'] or row['preclassif'] == 'LQ' else 'HQ',\n",
    "    axis=1\n",
    ")\n",
    "\n",
    "df_qc_info.sort_values(['gauge_code', 'year'], inplace=True)"
   ]
  },
  {
   "cell_type": "code",
   "execution_count": 85,
   "id": "25a495ef",
   "metadata": {},
   "outputs": [
    {
     "data": {
      "application/vnd.microsoft.datawrangler.viewer.v0+json": {
       "columns": [
        {
         "name": "index",
         "rawType": "int64",
         "type": "integer"
        },
        {
         "name": "gauge_code",
         "rawType": "object",
         "type": "string"
        },
        {
         "name": "year",
         "rawType": "int32",
         "type": "integer"
        },
        {
         "name": "preclassif",
         "rawType": "object",
         "type": "string"
        },
        {
         "name": "p_availability",
         "rawType": "float64",
         "type": "float"
        },
        {
         "name": "q1_gaps",
         "rawType": "float64",
         "type": "float"
        },
        {
         "name": "q2_week",
         "rawType": "float64",
         "type": "float"
        },
        {
         "name": "q3_outliers",
         "rawType": "float64",
         "type": "float"
        },
        {
         "name": "quality_index",
         "rawType": "float64",
         "type": "float"
        },
        {
         "name": "quality_label",
         "rawType": "object",
         "type": "string"
        },
        {
         "name": "final_classif",
         "rawType": "object",
         "type": "string"
        }
       ],
       "conversionMethod": "pd.DataFrame",
       "ref": "91291228-e7c8-4b9a-abf0-94c622745ade",
       "rows": [
        [
         "0",
         "110018901A",
         "2018",
         "",
         "37.26027397260274",
         "0.0",
         "84.72768438490468",
         "94.8529411764706",
         "54.210224883494504",
         "4 - Low Quality",
         "LQ"
        ],
        [
         "1",
         "110018901A",
         "2019",
         "",
         "94.79452054794521",
         "86.41618497109826",
         "87.0799840422603",
         "97.6878612716763",
         "91.49463770824502",
         "3 - Acceptable Quality",
         "HQ"
        ],
        [
         "2",
         "110018901A",
         "2020",
         "",
         "10.382513661202186",
         "0.0",
         "54.468759210420274",
         "100.0",
         "41.212818217905614",
         "5 - Very Low Quality",
         "LQ"
        ],
        [
         "3",
         "110020501A",
         "2014",
         "LQ",
         "4.383561643835616",
         "0.0",
         "42.264973081037425",
         "100.0",
         "36.662133681218265",
         "5 - Very Low Quality",
         "LQ"
        ],
        [
         "4",
         "110020501A",
         "2017",
         "LQ",
         "1.643835616438356",
         "0.0",
         "0.0",
         "100.0",
         "25.410958904109588",
         "5 - Very Low Quality",
         "LQ"
        ],
        [
         "5",
         "110020501A",
         "2020",
         "",
         "39.34426229508197",
         "0.0",
         "62.5",
         "97.91666666666667",
         "49.940232240437155",
         "5 - Very Low Quality",
         "LQ"
        ],
        [
         "6",
         "110020502A",
         "2014",
         "",
         "71.78082191780823",
         "0.0",
         "88.20809244923613",
         "97.70992366412214",
         "64.42470950779162",
         "4 - Low Quality",
         "LQ"
        ],
        [
         "7",
         "110020502A",
         "2015",
         "LQ",
         "2.4657534246575343",
         "0.0",
         "0.0",
         "100.0",
         "25.616438356164384",
         "5 - Very Low Quality",
         "LQ"
        ],
        [
         "8",
         "110020502A",
         "2016",
         "LQ",
         "26.229508196721312",
         "0.0",
         "76.9934668603079",
         "100.0",
         "50.8057437642573",
         "4 - Low Quality",
         "LQ"
        ],
        [
         "9",
         "110020502A",
         "2017",
         "LQ",
         "1.643835616438356",
         "0.0",
         "0.0",
         "100.0",
         "25.410958904109588",
         "5 - Very Low Quality",
         "LQ"
        ],
        [
         "10",
         "110020502A",
         "2020",
         "",
         "31.147540983606557",
         "0.0",
         "70.24404821440478",
         "94.73684210526316",
         "49.03210782581863",
         "5 - Very Low Quality",
         "LQ"
        ],
        [
         "11",
         "120010401A",
         "2018",
         "",
         "38.35616438356164",
         "0.0",
         "73.97917500667334",
         "97.85714285714286",
         "52.54812056184446",
         "4 - Low Quality",
         "LQ"
        ],
        [
         "12",
         "120010401A",
         "2019",
         "",
         "97.26027397260275",
         "92.11267605633803",
         "80.05689911956335",
         "97.1830985915493",
         "91.65323693501335",
         "2 - Good Quality",
         "HQ"
        ],
        [
         "13",
         "120010401A",
         "2020",
         "LQ",
         "100.0",
         "100.0",
         "78.65218590425084",
         "99.18032786885246",
         "94.45812844327583",
         "1 - Excellent Quality",
         "LQ"
        ],
        [
         "14",
         "120032801A",
         "2018",
         "",
         "37.80821917808219",
         "0.0",
         "85.61481247968504",
         "97.82608695652173",
         "55.31227965357225",
         "4 - Low Quality",
         "LQ"
        ],
        [
         "15",
         "120032801A",
         "2019",
         "",
         "72.05479452054794",
         "19.01140684410646",
         "85.57115540330012",
         "96.1977186311787",
         "68.20876884978331",
         "4 - Low Quality",
         "LQ"
        ],
        [
         "16",
         "120032801A",
         "2020",
         "",
         "54.09836065573771",
         "0.0",
         "63.56639727658809",
         "94.94949494949495",
         "53.15356322045518",
         "4 - Low Quality",
         "LQ"
        ],
        [
         "17",
         "120040101A",
         "2014",
         "",
         "91.5068493150685",
         "72.1556886227545",
         "78.46860620730283",
         "98.50299401197604",
         "85.15853453927546",
         "3 - Acceptable Quality",
         "HQ"
        ],
        [
         "18",
         "120040101A",
         "2015",
         "LQ",
         "93.97260273972603",
         "80.75801749271137",
         "71.05074731095917",
         "99.70845481049562",
         "86.37245558847304",
         "3 - Acceptable Quality",
         "LQ"
        ],
        [
         "19",
         "120040101A",
         "2016",
         "LQ",
         "93.44262295081968",
         "78.94736842105263",
         "0.0",
         "100.0",
         "68.09749784296808",
         "4 - Low Quality",
         "LQ"
        ],
        [
         "20",
         "120040101A",
         "2017",
         "LQ",
         "0.273972602739726",
         "0.0",
         "0.0",
         "0.0",
         "0.0684931506849315",
         "5 - Very Low Quality",
         "LQ"
        ],
        [
         "21",
         "120040101A",
         "2020",
         "",
         "39.07103825136612",
         "0.0",
         "64.59865527506994",
         "95.1048951048951",
         "49.69364715783279",
         "5 - Very Low Quality",
         "LQ"
        ],
        [
         "22",
         "120040101H",
         "2016",
         "",
         "14.207650273224044",
         "0.0",
         "65.12482248931967",
         "94.23076923076923",
         "43.390810498328236",
         "5 - Very Low Quality",
         "LQ"
        ],
        [
         "23",
         "120040101H",
         "2017",
         "",
         "38.35616438356164",
         "0.0",
         "87.1187762256094",
         "97.85714285714286",
         "55.83302086657847",
         "4 - Low Quality",
         "LQ"
        ],
        [
         "24",
         "120040101H",
         "2020",
         "LQ",
         "0.273224043715847",
         "0.0",
         "0.0",
         "100.0",
         "25.06830601092896",
         "5 - Very Low Quality",
         "LQ"
        ],
        [
         "25",
         "120040102A",
         "2014",
         "",
         "20.82191780821918",
         "0.0",
         "65.41917679792263",
         "92.10526315789474",
         "44.58658944100914",
         "5 - Very Low Quality",
         "LQ"
        ],
        [
         "26",
         "120040102A",
         "2020",
         "",
         "21.584699453551913",
         "0.0",
         "51.55270864694568",
         "98.73417721518987",
         "42.96789632892187",
         "5 - Very Low Quality",
         "LQ"
        ],
        [
         "27",
         "120040102H",
         "2016",
         "",
         "14.754098360655737",
         "0.0",
         "71.26798018088735",
         "96.29629629629629",
         "45.57959370945984",
         "5 - Very Low Quality",
         "LQ"
        ],
        [
         "28",
         "120040102H",
         "2017",
         "LQ",
         "3.0136986301369864",
         "0.0",
         "39.619263557544",
         "100.0",
         "35.65824054692025",
         "5 - Very Low Quality",
         "LQ"
        ],
        [
         "29",
         "120070801A",
         "2018",
         "",
         "38.35616438356164",
         "0.0",
         "66.42133983636118",
         "99.28571428571429",
         "51.01580462640928",
         "4 - Low Quality",
         "LQ"
        ],
        [
         "30",
         "120070801A",
         "2019",
         "",
         "97.26027397260275",
         "92.3943661971831",
         "87.09564060677629",
         "96.90140845070422",
         "93.4129223068166",
         "2 - Good Quality",
         "HQ"
        ],
        [
         "31",
         "120070801A",
         "2020",
         "",
         "100.0",
         "100.0",
         "77.10319070122586",
         "96.99453551912568",
         "93.52443155508789",
         "1 - Excellent Quality",
         "HQ"
        ],
        [
         "32",
         "130002901A",
         "2018",
         "",
         "13.424657534246576",
         "0.0",
         "86.58205856834311",
         "95.91836734693878",
         "48.98127086238212",
         "5 - Very Low Quality",
         "LQ"
        ],
        [
         "33",
         "130002901A",
         "2019",
         "LQ",
         "1.9178082191780823",
         "0.0",
         "55.90414481559016",
         "100.0",
         "39.45548825869206",
         "5 - Very Low Quality",
         "LQ"
        ],
        [
         "34",
         "130002901A",
         "2020",
         "LQ",
         "2.459016393442623",
         "0.0",
         "0.0",
         "88.88888888888889",
         "22.836976320582878",
         "5 - Very Low Quality",
         "LQ"
        ],
        [
         "35",
         "130006001A",
         "2018",
         "",
         "14.794520547945206",
         "0.0",
         "82.78884203973092",
         "90.74074074074073",
         "47.08102583210422",
         "5 - Very Low Quality",
         "LQ"
        ],
        [
         "36",
         "130006001A",
         "2019",
         "",
         "98.9041095890411",
         "97.50692520775624",
         "89.06623005990703",
         "95.56786703601108",
         "95.26128297317887",
         "2 - Good Quality",
         "HQ"
        ],
        [
         "37",
         "130006001A",
         "2020",
         "",
         "100.0",
         "100.0",
         "83.0269961190265",
         "96.72131147540983",
         "94.93707689860909",
         "1 - Excellent Quality",
         "HQ"
        ],
        [
         "38",
         "130008601A",
         "2018",
         "LQ",
         "6.575342465753424",
         "0.0",
         "82.02289339305334",
         "100.0",
         "47.14955896470169",
         "5 - Very Low Quality",
         "LQ"
        ],
        [
         "39",
         "130008601A",
         "2019",
         "",
         "88.76712328767124",
         "69.1358024691358",
         "80.54756715924911",
         "98.45679012345678",
         "84.22682075987822",
         "4 - Low Quality",
         "LQ"
        ],
        [
         "40",
         "130008601A",
         "2020",
         "LQ",
         "26.50273224043716",
         "0.0",
         "61.84798092438208",
         "98.96907216494846",
         "46.82994633244192",
         "5 - Very Low Quality",
         "LQ"
        ],
        [
         "41",
         "130010201A",
         "2018",
         "LQ",
         "6.575342465753424",
         "0.0",
         "67.60252619243468",
         "95.83333333333333",
         "42.50280049788036",
         "5 - Very Low Quality",
         "LQ"
        ],
        [
         "42",
         "130010201A",
         "2019",
         "",
         "93.69863013698631",
         "84.21052631578948",
         "87.17494482119554",
         "97.6608187134503",
         "90.6862299968554",
         "3 - Acceptable Quality",
         "HQ"
        ],
        [
         "43",
         "130010201A",
         "2020",
         "LQ",
         "4.371584699453552",
         "0.0",
         "19.49235141005869",
         "100.0",
         "30.96598402737806",
         "5 - Very Low Quality",
         "LQ"
        ],
        [
         "44",
         "130014401A",
         "2018",
         "",
         "38.35616438356164",
         "0.0",
         "74.3181862876557",
         "93.57142857142857",
         "51.561444810661484",
         "4 - Low Quality",
         "LQ"
        ],
        [
         "45",
         "130014401A",
         "2019",
         "",
         "89.04109589041096",
         "69.23076923076923",
         "90.44522155203309",
         "97.23076923076923",
         "86.48696397599562",
         "4 - Low Quality",
         "LQ"
        ],
        [
         "46",
         "130014401A",
         "2020",
         "LQ",
         "7.377049180327869",
         "0.0",
         "75.8477054230176",
         "92.5925925925926",
         "43.954336798984514",
         "5 - Very Low Quality",
         "LQ"
        ],
        [
         "47",
         "130020101A",
         "2018",
         "",
         "15.068493150684931",
         "0.0",
         "81.74801274744419",
         "94.54545454545455",
         "47.840490110895914",
         "5 - Very Low Quality",
         "LQ"
        ],
        [
         "48",
         "130020101A",
         "2019",
         "",
         "80.27397260273973",
         "34.81228668941979",
         "83.29983642263203",
         "96.9283276450512",
         "73.82860583996069",
         "4 - Low Quality",
         "LQ"
        ],
        [
         "49",
         "130020101A",
         "2020",
         "LQ",
         "3.0054644808743167",
         "0.0",
         "55.90414481559016",
         "100.0",
         "39.72740232411612",
         "5 - Very Low Quality",
         "LQ"
        ]
       ],
       "shape": {
        "columns": 10,
        "rows": 22773
       }
      },
      "text/html": [
       "<div>\n",
       "<style scoped>\n",
       "    .dataframe tbody tr th:only-of-type {\n",
       "        vertical-align: middle;\n",
       "    }\n",
       "\n",
       "    .dataframe tbody tr th {\n",
       "        vertical-align: top;\n",
       "    }\n",
       "\n",
       "    .dataframe thead th {\n",
       "        text-align: right;\n",
       "    }\n",
       "</style>\n",
       "<table border=\"1\" class=\"dataframe\">\n",
       "  <thead>\n",
       "    <tr style=\"text-align: right;\">\n",
       "      <th></th>\n",
       "      <th>gauge_code</th>\n",
       "      <th>year</th>\n",
       "      <th>preclassif</th>\n",
       "      <th>p_availability</th>\n",
       "      <th>q1_gaps</th>\n",
       "      <th>q2_week</th>\n",
       "      <th>q3_outliers</th>\n",
       "      <th>quality_index</th>\n",
       "      <th>quality_label</th>\n",
       "      <th>final_classif</th>\n",
       "    </tr>\n",
       "  </thead>\n",
       "  <tbody>\n",
       "    <tr>\n",
       "      <th>0</th>\n",
       "      <td>110018901A</td>\n",
       "      <td>2018</td>\n",
       "      <td></td>\n",
       "      <td>37.260274</td>\n",
       "      <td>0.000000</td>\n",
       "      <td>84.727684</td>\n",
       "      <td>94.852941</td>\n",
       "      <td>54.210225</td>\n",
       "      <td>4 - Low Quality</td>\n",
       "      <td>LQ</td>\n",
       "    </tr>\n",
       "    <tr>\n",
       "      <th>1</th>\n",
       "      <td>110018901A</td>\n",
       "      <td>2019</td>\n",
       "      <td></td>\n",
       "      <td>94.794521</td>\n",
       "      <td>86.416185</td>\n",
       "      <td>87.079984</td>\n",
       "      <td>97.687861</td>\n",
       "      <td>91.494638</td>\n",
       "      <td>3 - Acceptable Quality</td>\n",
       "      <td>HQ</td>\n",
       "    </tr>\n",
       "    <tr>\n",
       "      <th>2</th>\n",
       "      <td>110018901A</td>\n",
       "      <td>2020</td>\n",
       "      <td></td>\n",
       "      <td>10.382514</td>\n",
       "      <td>0.000000</td>\n",
       "      <td>54.468759</td>\n",
       "      <td>100.000000</td>\n",
       "      <td>41.212818</td>\n",
       "      <td>5 - Very Low Quality</td>\n",
       "      <td>LQ</td>\n",
       "    </tr>\n",
       "    <tr>\n",
       "      <th>3</th>\n",
       "      <td>110020501A</td>\n",
       "      <td>2014</td>\n",
       "      <td>LQ</td>\n",
       "      <td>4.383562</td>\n",
       "      <td>0.000000</td>\n",
       "      <td>42.264973</td>\n",
       "      <td>100.000000</td>\n",
       "      <td>36.662134</td>\n",
       "      <td>5 - Very Low Quality</td>\n",
       "      <td>LQ</td>\n",
       "    </tr>\n",
       "    <tr>\n",
       "      <th>4</th>\n",
       "      <td>110020501A</td>\n",
       "      <td>2017</td>\n",
       "      <td>LQ</td>\n",
       "      <td>1.643836</td>\n",
       "      <td>0.000000</td>\n",
       "      <td>0.000000</td>\n",
       "      <td>100.000000</td>\n",
       "      <td>25.410959</td>\n",
       "      <td>5 - Very Low Quality</td>\n",
       "      <td>LQ</td>\n",
       "    </tr>\n",
       "    <tr>\n",
       "      <th>...</th>\n",
       "      <td>...</td>\n",
       "      <td>...</td>\n",
       "      <td>...</td>\n",
       "      <td>...</td>\n",
       "      <td>...</td>\n",
       "      <td>...</td>\n",
       "      <td>...</td>\n",
       "      <td>...</td>\n",
       "      <td>...</td>\n",
       "      <td>...</td>\n",
       "    </tr>\n",
       "    <tr>\n",
       "      <th>22768</th>\n",
       "      <td>CEMADEN_12</td>\n",
       "      <td>2019</td>\n",
       "      <td></td>\n",
       "      <td>24.657534</td>\n",
       "      <td>0.000000</td>\n",
       "      <td>86.944455</td>\n",
       "      <td>95.555556</td>\n",
       "      <td>51.789386</td>\n",
       "      <td>4 - Low Quality</td>\n",
       "      <td>LQ</td>\n",
       "    </tr>\n",
       "    <tr>\n",
       "      <th>22769</th>\n",
       "      <td>CEMADEN_12</td>\n",
       "      <td>2020</td>\n",
       "      <td></td>\n",
       "      <td>8.469945</td>\n",
       "      <td>0.000000</td>\n",
       "      <td>61.341361</td>\n",
       "      <td>93.548387</td>\n",
       "      <td>40.839923</td>\n",
       "      <td>5 - Very Low Quality</td>\n",
       "      <td>LQ</td>\n",
       "    </tr>\n",
       "    <tr>\n",
       "      <th>22770</th>\n",
       "      <td>CEMADEN_13</td>\n",
       "      <td>2019</td>\n",
       "      <td>LQ</td>\n",
       "      <td>6.301370</td>\n",
       "      <td>0.000000</td>\n",
       "      <td>0.000000</td>\n",
       "      <td>95.652174</td>\n",
       "      <td>25.488386</td>\n",
       "      <td>5 - Very Low Quality</td>\n",
       "      <td>LQ</td>\n",
       "    </tr>\n",
       "    <tr>\n",
       "      <th>22771</th>\n",
       "      <td>CEMADEN_14</td>\n",
       "      <td>2018</td>\n",
       "      <td></td>\n",
       "      <td>25.205479</td>\n",
       "      <td>0.000000</td>\n",
       "      <td>58.760695</td>\n",
       "      <td>94.565217</td>\n",
       "      <td>44.632848</td>\n",
       "      <td>5 - Very Low Quality</td>\n",
       "      <td>LQ</td>\n",
       "    </tr>\n",
       "    <tr>\n",
       "      <th>22772</th>\n",
       "      <td>CEMADEN_14</td>\n",
       "      <td>2019</td>\n",
       "      <td></td>\n",
       "      <td>32.876712</td>\n",
       "      <td>0.000000</td>\n",
       "      <td>87.930137</td>\n",
       "      <td>95.833333</td>\n",
       "      <td>54.160046</td>\n",
       "      <td>4 - Low Quality</td>\n",
       "      <td>LQ</td>\n",
       "    </tr>\n",
       "  </tbody>\n",
       "</table>\n",
       "<p>22773 rows × 10 columns</p>\n",
       "</div>"
      ],
      "text/plain": [
       "       gauge_code  year preclassif  p_availability    q1_gaps    q2_week  \\\n",
       "0      110018901A  2018                  37.260274   0.000000  84.727684   \n",
       "1      110018901A  2019                  94.794521  86.416185  87.079984   \n",
       "2      110018901A  2020                  10.382514   0.000000  54.468759   \n",
       "3      110020501A  2014         LQ        4.383562   0.000000  42.264973   \n",
       "4      110020501A  2017         LQ        1.643836   0.000000   0.000000   \n",
       "...           ...   ...        ...             ...        ...        ...   \n",
       "22768  CEMADEN_12  2019                  24.657534   0.000000  86.944455   \n",
       "22769  CEMADEN_12  2020                   8.469945   0.000000  61.341361   \n",
       "22770  CEMADEN_13  2019         LQ        6.301370   0.000000   0.000000   \n",
       "22771  CEMADEN_14  2018                  25.205479   0.000000  58.760695   \n",
       "22772  CEMADEN_14  2019                  32.876712   0.000000  87.930137   \n",
       "\n",
       "       q3_outliers  quality_index           quality_label final_classif  \n",
       "0        94.852941      54.210225         4 - Low Quality            LQ  \n",
       "1        97.687861      91.494638  3 - Acceptable Quality            HQ  \n",
       "2       100.000000      41.212818    5 - Very Low Quality            LQ  \n",
       "3       100.000000      36.662134    5 - Very Low Quality            LQ  \n",
       "4       100.000000      25.410959    5 - Very Low Quality            LQ  \n",
       "...            ...            ...                     ...           ...  \n",
       "22768    95.555556      51.789386         4 - Low Quality            LQ  \n",
       "22769    93.548387      40.839923    5 - Very Low Quality            LQ  \n",
       "22770    95.652174      25.488386    5 - Very Low Quality            LQ  \n",
       "22771    94.565217      44.632848    5 - Very Low Quality            LQ  \n",
       "22772    95.833333      54.160046         4 - Low Quality            LQ  \n",
       "\n",
       "[22773 rows x 10 columns]"
      ]
     },
     "execution_count": 85,
     "metadata": {},
     "output_type": "execute_result"
    }
   ],
   "source": [
    "df_qc_info.to_hdf(cemaden_path, key = 'table_qc_info', encoding = 'utf-8', mode='r+', append = False, complevel=9)\n",
    "df_qc_info"
   ]
  },
  {
   "cell_type": "markdown",
   "id": "ec177d5a",
   "metadata": {},
   "source": [
    "# Visual Analysis"
   ]
  },
  {
   "cell_type": "code",
   "execution_count": 86,
   "id": "f5acac5a",
   "metadata": {},
   "outputs": [
    {
     "data": {
      "image/png": "[encoded data removed]",
      "text/plain": [
       "<Figure size 750x900 with 5 Axes>"
      ]
     },
     "metadata": {},
     "output_type": "display_data"
    }
   ],
   "source": [
    "# Calculate the average value of each parameter by year\n",
    "df_avg_params = df_qc_info.groupby('year').agg({\n",
    "    'p_availability': 'mean',\n",
    "    'q1_gaps': 'mean',\n",
    "    'q2_week': 'mean',\n",
    "    'q3_outliers': 'mean',\n",
    "    'quality_index': 'mean'\n",
    "}).reset_index()\n",
    "\n",
    "# Create a figure and axis with a custom size\n",
    "fig, ax = plt.subplots(5, 1, figsize=(7.5, 9), sharex=True)\n",
    "\n",
    "# Plot each parameter\n",
    "ax0 = ax[0]\n",
    "ax0.plot(df_avg_params['year'], df_avg_params['p_availability'], marker='x', color='g', label='C - Completeness')\n",
    "ax0.set_ylabel('C - Completeness')\n",
    "ax0.grid(True)\n",
    "lines, labels = ax0.get_legend_handles_labels()\n",
    "legend = ax0.legend(lines , labels + labels, loc='lower center')\n",
    "legend.set_frame_on(True)  # Ensure frame is visible\n",
    "frame = legend.get_frame()\n",
    "frame.set_facecolor('white')\n",
    "frame.set_edgecolor('grey')\n",
    "frame.set_linewidth(0.5)\n",
    "\n",
    "\n",
    "ax1 = ax[1]\n",
    "ax1.plot(df_avg_params['year'], df_avg_params['q1_gaps'], marker='x', color='#5555ff', label='Q1 - Gaps')\n",
    "ax1.set_ylabel('Q1 - Gaps')\n",
    "ax1.grid(True)\n",
    "lines, labels = ax1.get_legend_handles_labels()\n",
    "legend = ax1.legend(lines , labels + labels, loc='lower center')\n",
    "legend.set_frame_on(True)  # Ensure frame is visible\n",
    "frame = legend.get_frame()\n",
    "frame.set_facecolor('white')\n",
    "frame.set_edgecolor('grey')\n",
    "frame.set_linewidth(0.5)\n",
    "\n",
    "\n",
    "ax2 = ax[2]\n",
    "ax2.plot(df_avg_params['year'], df_avg_params['q2_week'], marker='x', color='#d3546e', label='Q2 - Week')\n",
    "ax2.set_ylabel('Q2 - Week')\n",
    "ax2.grid(True)\n",
    "lines, labels = ax2.get_legend_handles_labels()\n",
    "legend = ax2.legend(lines , labels + labels, loc='lower center')\n",
    "legend.set_frame_on(True)  # Ensure frame is visible\n",
    "frame = legend.get_frame()\n",
    "frame.set_facecolor('white')\n",
    "frame.set_edgecolor('grey')\n",
    "frame.set_linewidth(0.5)\n",
    "\n",
    "\n",
    "ax3 = ax[3]\n",
    "ax3.ylim = (97, None)\n",
    "ax3.plot(df_avg_params['year'], df_avg_params['q3_outliers'], marker='x', color='Orange', label='Q3 - Outliers')\n",
    "ax3.set_ylabel('Q3 - Outliers')\n",
    "ax3.grid(True)\n",
    "lines, labels = ax3.get_legend_handles_labels()\n",
    "legend = ax3.legend(lines , labels + labels, loc='lower center')\n",
    "legend.set_frame_on(True)  # Ensure frame is visible\n",
    "frame = legend.get_frame()\n",
    "frame.set_facecolor('white')\n",
    "frame.set_edgecolor('grey')\n",
    "frame.set_linewidth(0.5)\n",
    "\n",
    "ax4 = ax[4]\n",
    "ax4.plot(df_avg_params['year'], df_avg_params['quality_index'], marker='x', color='grey', label='Quality Index')\n",
    "ax4.set_xlabel('Year')\n",
    "ax4.set_ylabel('Quality Index')\n",
    "ax4.grid(True)\n",
    "lines, labels = ax4.get_legend_handles_labels()\n",
    "\n",
    "legend = ax4.legend(lines , labels + labels, loc='lower center')\n",
    "legend.set_frame_on(True)  # Ensure frame is visible\n",
    "frame = legend.get_frame()\n",
    "frame.set_facecolor('white')\n",
    "frame.set_edgecolor('grey')\n",
    "frame.set_linewidth(0.5)\n",
    "\n",
    "# Show xticks on all subplots\n",
    "for a in ax:\n",
    "    a.label_outer()  # Hides labels except for the last subplot but keeps ticks visible\n",
    "    a.tick_params(axis='x', which='both', labelbottom=True)  # Ensure xticks are visible\n",
    "    \n",
    "plt.tight_layout()\n",
    "plt.savefig('./figures/quality_index_avg_year_cemaden.tiff', dpi = 300, bbox_inches='tight')\n",
    "plt.show()\n",
    "plt.close()"
   ]
  },
  {
   "cell_type": "code",
   "execution_count": 87,
   "id": "67b271f5",
   "metadata": {},
   "outputs": [
    {
     "data": {
      "image/png": "[encoded data removed]",
      "text/plain": [
       "<Figure size 640x480 with 2 Axes>"
      ]
     },
     "metadata": {},
     "output_type": "display_data"
    }
   ],
   "source": [
    "# Select relevant columns for the heatmap\n",
    "heatmap_data = df_qc_info[['p_availability', 'q1_gaps', 'q2_week', 'q3_outliers']]\n",
    "\n",
    "# Calculate the correlation matrix\n",
    "corr = heatmap_data.corr()\n",
    "\n",
    "# Create a heatmap\n",
    "# plt.figure(figsize=(10, 8))\n",
    "sns.heatmap(corr, annot=True, cmap='coolwarm', fmt='.2f', linewidths=0.5)\n",
    "# plt.title('Heatmap of df_qc_info Parameters')\n",
    "plt.show()"
   ]
  },
  {
   "cell_type": "code",
   "execution_count": 88,
   "id": "3f8c9c14",
   "metadata": {},
   "outputs": [
    {
     "data": {
      "application/vnd.microsoft.datawrangler.viewer.v0+json": {
       "columns": [
        {
         "name": "index",
         "rawType": "int64",
         "type": "integer"
        },
        {
         "name": "quality_label",
         "rawType": "object",
         "type": "string"
        },
        {
         "name": "count",
         "rawType": "int64",
         "type": "integer"
        },
        {
         "name": "percent",
         "rawType": "float64",
         "type": "float"
        }
       ],
       "conversionMethod": "pd.DataFrame",
       "ref": "2fa00de0-5339-4530-bbc5-f10589082d9c",
       "rows": [
        [
         "0",
         "1 - Excellent Quality",
         "6445",
         "28.30105827075923"
        ],
        [
         "1",
         "2 - Good Quality",
         "3569",
         "15.67206779958723"
        ],
        [
         "2",
         "3 - Acceptable Quality",
         "1876",
         "8.23782549510385"
        ],
        [
         "3",
         "4 - Low Quality",
         "6606",
         "29.008035831906202"
        ],
        [
         "4",
         "5 - Very Low Quality",
         "4277",
         "18.781012602643482"
        ]
       ],
       "shape": {
        "columns": 3,
        "rows": 5
       }
      },
      "text/html": [
       "<div>\n",
       "<style scoped>\n",
       "    .dataframe tbody tr th:only-of-type {\n",
       "        vertical-align: middle;\n",
       "    }\n",
       "\n",
       "    .dataframe tbody tr th {\n",
       "        vertical-align: top;\n",
       "    }\n",
       "\n",
       "    .dataframe thead th {\n",
       "        text-align: right;\n",
       "    }\n",
       "</style>\n",
       "<table border=\"1\" class=\"dataframe\">\n",
       "  <thead>\n",
       "    <tr style=\"text-align: right;\">\n",
       "      <th></th>\n",
       "      <th>quality_label</th>\n",
       "      <th>count</th>\n",
       "      <th>percent</th>\n",
       "    </tr>\n",
       "  </thead>\n",
       "  <tbody>\n",
       "    <tr>\n",
       "      <th>0</th>\n",
       "      <td>1 - Excellent Quality</td>\n",
       "      <td>6445</td>\n",
       "      <td>28.301058</td>\n",
       "    </tr>\n",
       "    <tr>\n",
       "      <th>1</th>\n",
       "      <td>2 - Good Quality</td>\n",
       "      <td>3569</td>\n",
       "      <td>15.672068</td>\n",
       "    </tr>\n",
       "    <tr>\n",
       "      <th>2</th>\n",
       "      <td>3 - Acceptable Quality</td>\n",
       "      <td>1876</td>\n",
       "      <td>8.237825</td>\n",
       "    </tr>\n",
       "    <tr>\n",
       "      <th>3</th>\n",
       "      <td>4 - Low Quality</td>\n",
       "      <td>6606</td>\n",
       "      <td>29.008036</td>\n",
       "    </tr>\n",
       "    <tr>\n",
       "      <th>4</th>\n",
       "      <td>5 - Very Low Quality</td>\n",
       "      <td>4277</td>\n",
       "      <td>18.781013</td>\n",
       "    </tr>\n",
       "  </tbody>\n",
       "</table>\n",
       "</div>"
      ],
      "text/plain": [
       "            quality_label  count    percent\n",
       "0   1 - Excellent Quality   6445  28.301058\n",
       "1        2 - Good Quality   3569  15.672068\n",
       "2  3 - Acceptable Quality   1876   8.237825\n",
       "3         4 - Low Quality   6606  29.008036\n",
       "4    5 - Very Low Quality   4277  18.781013"
      ]
     },
     "execution_count": 88,
     "metadata": {},
     "output_type": "execute_result"
    }
   ],
   "source": [
    "df_qc_count = df_qc_info.groupby('quality_label').size().reset_index(name='count')\n",
    "df_qc_count['percent'] = (df_qc_count['count'] / df_qc_count['count'].sum()) * 100\n",
    "df_qc_count"
   ]
  },
  {
   "cell_type": "code",
   "execution_count": 89,
   "id": "ade274bc",
   "metadata": {},
   "outputs": [
    {
     "data": {
      "application/vnd.microsoft.datawrangler.viewer.v0+json": {
       "columns": [
        {
         "name": "index",
         "rawType": "int64",
         "type": "integer"
        },
        {
         "name": "quality_label",
         "rawType": "object",
         "type": "string"
        },
        {
         "name": "p_availability",
         "rawType": "float64",
         "type": "float"
        },
        {
         "name": "q1_gaps",
         "rawType": "float64",
         "type": "float"
        },
        {
         "name": "q2_week",
         "rawType": "float64",
         "type": "float"
        },
        {
         "name": "q3_outliers",
         "rawType": "float64",
         "type": "float"
        }
       ],
       "conversionMethod": "pd.DataFrame",
       "ref": "9d5da0aa-e906-4c23-823a-bd551aa05219",
       "rows": [
        [
         "0",
         "1 - Excellent Quality",
         "99.935648314543",
         "99.81424775381258",
         "81.44879540108285",
         "97.91285212938301"
        ],
        [
         "1",
         "2 - Good Quality",
         "97.5546885917906",
         "93.22314301899334",
         "79.60810819577748",
         "98.12853882647185"
        ],
        [
         "2",
         "3 - Acceptable Quality",
         "92.68120435326176",
         "77.97292364093117",
         "78.04472034347637",
         "98.09656629874772"
        ],
        [
         "3",
         "4 - Low Quality",
         "65.73363770201037",
         "17.77490580687931",
         "73.13866541032874",
         "97.91412885407114"
        ],
        [
         "4",
         "5 - Very Low Quality",
         "18.200844599304162",
         "0.03082690145162454",
         "35.15582832843389",
         "97.3569512924152"
        ]
       ],
       "shape": {
        "columns": 5,
        "rows": 5
       }
      },
      "text/html": [
       "<div>\n",
       "<style scoped>\n",
       "    .dataframe tbody tr th:only-of-type {\n",
       "        vertical-align: middle;\n",
       "    }\n",
       "\n",
       "    .dataframe tbody tr th {\n",
       "        vertical-align: top;\n",
       "    }\n",
       "\n",
       "    .dataframe thead th {\n",
       "        text-align: right;\n",
       "    }\n",
       "</style>\n",
       "<table border=\"1\" class=\"dataframe\">\n",
       "  <thead>\n",
       "    <tr style=\"text-align: right;\">\n",
       "      <th></th>\n",
       "      <th>quality_label</th>\n",
       "      <th>p_availability</th>\n",
       "      <th>q1_gaps</th>\n",
       "      <th>q2_week</th>\n",
       "      <th>q3_outliers</th>\n",
       "    </tr>\n",
       "  </thead>\n",
       "  <tbody>\n",
       "    <tr>\n",
       "      <th>0</th>\n",
       "      <td>1 - Excellent Quality</td>\n",
       "      <td>99.935648</td>\n",
       "      <td>99.814248</td>\n",
       "      <td>81.448795</td>\n",
       "      <td>97.912852</td>\n",
       "    </tr>\n",
       "    <tr>\n",
       "      <th>1</th>\n",
       "      <td>2 - Good Quality</td>\n",
       "      <td>97.554689</td>\n",
       "      <td>93.223143</td>\n",
       "      <td>79.608108</td>\n",
       "      <td>98.128539</td>\n",
       "    </tr>\n",
       "    <tr>\n",
       "      <th>2</th>\n",
       "      <td>3 - Acceptable Quality</td>\n",
       "      <td>92.681204</td>\n",
       "      <td>77.972924</td>\n",
       "      <td>78.044720</td>\n",
       "      <td>98.096566</td>\n",
       "    </tr>\n",
       "    <tr>\n",
       "      <th>3</th>\n",
       "      <td>4 - Low Quality</td>\n",
       "      <td>65.733638</td>\n",
       "      <td>17.774906</td>\n",
       "      <td>73.138665</td>\n",
       "      <td>97.914129</td>\n",
       "    </tr>\n",
       "    <tr>\n",
       "      <th>4</th>\n",
       "      <td>5 - Very Low Quality</td>\n",
       "      <td>18.200845</td>\n",
       "      <td>0.030827</td>\n",
       "      <td>35.155828</td>\n",
       "      <td>97.356951</td>\n",
       "    </tr>\n",
       "  </tbody>\n",
       "</table>\n",
       "</div>"
      ],
      "text/plain": [
       "            quality_label  p_availability    q1_gaps    q2_week  q3_outliers\n",
       "0   1 - Excellent Quality       99.935648  99.814248  81.448795    97.912852\n",
       "1        2 - Good Quality       97.554689  93.223143  79.608108    98.128539\n",
       "2  3 - Acceptable Quality       92.681204  77.972924  78.044720    98.096566\n",
       "3         4 - Low Quality       65.733638  17.774906  73.138665    97.914129\n",
       "4    5 - Very Low Quality       18.200845   0.030827  35.155828    97.356951"
      ]
     },
     "execution_count": 89,
     "metadata": {},
     "output_type": "execute_result"
    }
   ],
   "source": [
    "df_qc_avg = df_qc_info.groupby('quality_label').agg({'p_availability': 'mean'\n",
    "                                                     , 'q1_gaps':'mean'\n",
    "                                                     , 'q2_week':'mean'\n",
    "                                                     , 'q3_outliers':'mean'\n",
    "                                                     }).reset_index()\n",
    "df_qc_avg"
   ]
  },
  {
   "cell_type": "code",
   "execution_count": 90,
   "id": "0f8e7ad6",
   "metadata": {},
   "outputs": [
    {
     "data": {
      "image/png": "[encoded data removed]",
      "text/plain": [
       "<Figure size 750x400 with 1 Axes>"
      ]
     },
     "metadata": {},
     "output_type": "display_data"
    }
   ],
   "source": [
    "# Calculate the average quality index over the years\n",
    "df_avg_quality_index = df_qc_info.groupby('year')['quality_index'].mean().reset_index()\n",
    "\n",
    "# Create a figure and axis with a custom size\n",
    "fig, ax = plt.subplots(figsize=(7.5, 4))\n",
    "\n",
    "# Plot the average quality index over the years\n",
    "ax.plot(df_avg_quality_index['year'], df_avg_quality_index['quality_index'], marker='x', color='grey', label='Average Quality Index')\n",
    "\n",
    "# Add labels, title, and grid\n",
    "ax.set_xlabel('Year')\n",
    "ax.set_ylabel('Average Quality Index')\n",
    "# ax.set_title('Average Quality Index Over the Years')\n",
    "ax.grid(True)\n",
    "\n",
    "plt.savefig('./figures/quality_index_over_the_years_cemaden.png', dpi=1800, bbox_inches='tight')\n",
    "plt.show()\n",
    "plt.close()"
   ]
  },
  {
   "cell_type": "code",
   "execution_count": 91,
   "id": "368d4ab2",
   "metadata": {},
   "outputs": [
    {
     "data": {
      "image/png": "[encoded data removed]",
      "text/plain": [
       "<Figure size 750x450 with 1 Axes>"
      ]
     },
     "metadata": {},
     "output_type": "display_data"
    }
   ],
   "source": [
    "\n",
    "# Group by year and quality label to get the count of active stations\n",
    "df_active_stations = df_qc_info.groupby(['year', 'quality_label']).size().unstack(fill_value=0)\n",
    "\n",
    "# Create a stacked area plot with updated figure size\n",
    "fig, ax = plt.subplots(figsize=(7.5, 4.5))\n",
    "\n",
    "# Use a colorblind-friendly colormap\n",
    "df_active_stations.plot(kind='area', stacked=True, ax=ax, colormap='coolwarm', alpha=0.7)\n",
    "\n",
    "# Add labels, title, and grid\n",
    "ax.set_xlabel('Year')\n",
    "ax.set_ylabel('Active Stations')\n",
    "# ax.set_title('Count of Active Stations by Year and Quality Label')\n",
    "ax.grid(True)\n",
    "ax.set_ylim(0, 5500)\n",
    "# Modify the EXISTING legend from pandas plot\n",
    "legend = ax.legend()\n",
    "legend.set_title('Quality Label')  # Set title\n",
    "legend.set_bbox_to_anchor((0.369, 0.6))  # Set legend position\n",
    "legend.set_frame_on(True)  # Ensure frame is visible\n",
    "\n",
    "# Customize frame properties\n",
    "frame = legend.get_frame()\n",
    "frame.set_facecolor('white')\n",
    "frame.set_edgecolor('grey')\n",
    "frame.set_linewidth(0.5)\n",
    "\n",
    "plt.savefig('./figures/active_stations_by_year_and_quality_label_cemaden.tiff', dpi=300, bbox_inches='tight')\n",
    "\n",
    "plt.show()\n",
    "plt.close()"
   ]
  },
  {
   "cell_type": "code",
   "execution_count": 92,
   "id": "5c7268ba",
   "metadata": {},
   "outputs": [
    {
     "name": "stdout",
     "output_type": "stream",
     "text": [
      "2025-04-19 14:37:45\n"
     ]
    }
   ],
   "source": [
    "print(time.strftime(\"%Y-%m-%d %H:%M:%S\", time.localtime()))"
   ]
  }
 ],
 "metadata": {
  "kernelspec": {
   "display_name": "base",
   "language": "python",
   "name": "python3"
  },
  "language_info": {
   "codemirror_mode": {
    "name": "ipython",
    "version": 3
   },
   "file_extension": ".py",
   "mimetype": "text/x-python",
   "name": "python",
   "nbconvert_exporter": "python",
   "pygments_lexer": "ipython3",
   "version": "3.11.10"
  }
 },
 "nbformat": 4,
 "nbformat_minor": 5
}
