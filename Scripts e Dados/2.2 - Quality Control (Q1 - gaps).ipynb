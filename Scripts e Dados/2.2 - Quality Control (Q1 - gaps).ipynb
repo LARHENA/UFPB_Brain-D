{
 "cells": [
  {
   "cell_type": "code",
   "execution_count": 4,
   "metadata": {},
   "outputs": [],
   "source": [
    "import pandas as pd\n",
    "import numpy as np"
   ]
  },
  {
   "cell_type": "markdown",
   "metadata": {},
   "source": [
    "# Data processing"
   ]
  },
  {
   "cell_type": "code",
   "execution_count": 5,
   "metadata": {},
   "outputs": [
    {
     "data": {
      "application/vnd.microsoft.datawrangler.viewer.v0+json": {
       "columns": [
        {
         "name": "index",
         "rawType": "int64",
         "type": "integer"
        },
        {
         "name": "gauge_code",
         "rawType": "object",
         "type": "string"
        },
        {
         "name": "datetime",
         "rawType": "datetime64[ns]",
         "type": "datetime"
        },
        {
         "name": "rain_mm",
         "rawType": "float64",
         "type": "float"
        }
       ],
       "conversionMethod": "pd.DataFrame",
       "ref": "5e3ce291-9f48-4268-8339-d5fcdad727b4",
       "rows": [
        [
         "0",
         "00047000",
         "1961-01-01 00:00:00",
         "0.0"
        ],
        [
         "1",
         "00047000",
         "1961-01-02 00:00:00",
         "0.0"
        ],
        [
         "2",
         "00047000",
         "1961-01-03 00:00:00",
         "0.0"
        ],
        [
         "3",
         "00047000",
         "1961-01-04 00:00:00",
         "0.0"
        ],
        [
         "4",
         "00047000",
         "1961-01-05 00:00:00",
         "0.0"
        ],
        [
         "5",
         "00047000",
         "1961-01-06 00:00:00",
         "0.0"
        ],
        [
         "6",
         "00047000",
         "1961-01-07 00:00:00",
         "0.0"
        ],
        [
         "7",
         "00047000",
         "1961-01-08 00:00:00",
         "0.0"
        ],
        [
         "8",
         "00047000",
         "1961-01-09 00:00:00",
         "0.0"
        ],
        [
         "9",
         "00047000",
         "1961-01-10 00:00:00",
         "0.0"
        ],
        [
         "10",
         "00047000",
         "1961-01-11 00:00:00",
         "0.0"
        ],
        [
         "11",
         "00047000",
         "1961-01-12 00:00:00",
         "0.0"
        ],
        [
         "12",
         "00047000",
         "1961-01-13 00:00:00",
         "0.0"
        ],
        [
         "13",
         "00047000",
         "1961-01-14 00:00:00",
         "0.0"
        ],
        [
         "14",
         "00047000",
         "1961-01-15 00:00:00",
         "0.0"
        ],
        [
         "15",
         "00047000",
         "1961-01-16 00:00:00",
         "0.0"
        ],
        [
         "16",
         "00047000",
         "1961-01-17 00:00:00",
         "17.0"
        ],
        [
         "17",
         "00047000",
         "1961-01-18 00:00:00",
         "22.6"
        ],
        [
         "18",
         "00047000",
         "1961-01-19 00:00:00",
         "6.4"
        ],
        [
         "19",
         "00047000",
         "1961-01-20 00:00:00",
         "5.6"
        ],
        [
         "20",
         "00047000",
         "1961-01-21 00:00:00",
         "23.4"
        ],
        [
         "21",
         "00047000",
         "1961-01-22 00:00:00",
         "0.0"
        ],
        [
         "22",
         "00047000",
         "1961-01-23 00:00:00",
         "0.0"
        ],
        [
         "23",
         "00047000",
         "1961-01-24 00:00:00",
         "0.0"
        ],
        [
         "24",
         "00047000",
         "1961-01-25 00:00:00",
         "0.0"
        ],
        [
         "25",
         "00047000",
         "1961-01-26 00:00:00",
         "23.0"
        ],
        [
         "26",
         "00047000",
         "1961-01-27 00:00:00",
         "5.8"
        ],
        [
         "27",
         "00047000",
         "1961-01-28 00:00:00",
         "0.0"
        ],
        [
         "28",
         "00047000",
         "1961-01-29 00:00:00",
         "0.0"
        ],
        [
         "29",
         "00047000",
         "1961-01-30 00:00:00",
         "16.4"
        ],
        [
         "30",
         "00047000",
         "1961-01-31 00:00:00",
         "0.0"
        ],
        [
         "31",
         "00047000",
         "1961-02-01 00:00:00",
         "5.8"
        ],
        [
         "32",
         "00047000",
         "1961-02-02 00:00:00",
         "3.2"
        ],
        [
         "33",
         "00047000",
         "1961-02-03 00:00:00",
         "0.0"
        ],
        [
         "34",
         "00047000",
         "1961-02-04 00:00:00",
         "16.8"
        ],
        [
         "35",
         "00047000",
         "1961-02-05 00:00:00",
         "31.2"
        ],
        [
         "36",
         "00047000",
         "1961-02-06 00:00:00",
         "13.4"
        ],
        [
         "37",
         "00047000",
         "1961-02-07 00:00:00",
         "12.2"
        ],
        [
         "38",
         "00047000",
         "1961-02-08 00:00:00",
         "0.0"
        ],
        [
         "39",
         "00047000",
         "1961-02-09 00:00:00",
         "6.8"
        ],
        [
         "40",
         "00047000",
         "1961-02-10 00:00:00",
         "0.0"
        ],
        [
         "41",
         "00047000",
         "1961-02-11 00:00:00",
         "0.0"
        ],
        [
         "42",
         "00047000",
         "1961-02-12 00:00:00",
         "0.0"
        ],
        [
         "43",
         "00047000",
         "1961-02-13 00:00:00",
         "0.0"
        ],
        [
         "44",
         "00047000",
         "1961-02-14 00:00:00",
         "0.0"
        ],
        [
         "45",
         "00047000",
         "1961-02-15 00:00:00",
         "34.8"
        ],
        [
         "46",
         "00047000",
         "1961-02-16 00:00:00",
         "79.2"
        ],
        [
         "47",
         "00047000",
         "1961-02-17 00:00:00",
         "34.4"
        ],
        [
         "48",
         "00047000",
         "1961-02-18 00:00:00",
         "41.8"
        ],
        [
         "49",
         "00047000",
         "1961-02-19 00:00:00",
         "90.6"
        ]
       ],
       "shape": {
        "columns": 3,
        "rows": 123609866
       }
      },
      "text/html": [
       "<div>\n",
       "<style scoped>\n",
       "    .dataframe tbody tr th:only-of-type {\n",
       "        vertical-align: middle;\n",
       "    }\n",
       "\n",
       "    .dataframe tbody tr th {\n",
       "        vertical-align: top;\n",
       "    }\n",
       "\n",
       "    .dataframe thead th {\n",
       "        text-align: right;\n",
       "    }\n",
       "</style>\n",
       "<table border=\"1\" class=\"dataframe\">\n",
       "  <thead>\n",
       "    <tr style=\"text-align: right;\">\n",
       "      <th></th>\n",
       "      <th>gauge_code</th>\n",
       "      <th>datetime</th>\n",
       "      <th>rain_mm</th>\n",
       "    </tr>\n",
       "  </thead>\n",
       "  <tbody>\n",
       "    <tr>\n",
       "      <th>0</th>\n",
       "      <td>00047000</td>\n",
       "      <td>1961-01-01</td>\n",
       "      <td>0.0</td>\n",
       "    </tr>\n",
       "    <tr>\n",
       "      <th>1</th>\n",
       "      <td>00047000</td>\n",
       "      <td>1961-01-02</td>\n",
       "      <td>0.0</td>\n",
       "    </tr>\n",
       "    <tr>\n",
       "      <th>2</th>\n",
       "      <td>00047000</td>\n",
       "      <td>1961-01-03</td>\n",
       "      <td>0.0</td>\n",
       "    </tr>\n",
       "    <tr>\n",
       "      <th>3</th>\n",
       "      <td>00047000</td>\n",
       "      <td>1961-01-04</td>\n",
       "      <td>0.0</td>\n",
       "    </tr>\n",
       "    <tr>\n",
       "      <th>4</th>\n",
       "      <td>00047000</td>\n",
       "      <td>1961-01-05</td>\n",
       "      <td>0.0</td>\n",
       "    </tr>\n",
       "    <tr>\n",
       "      <th>...</th>\n",
       "      <td>...</td>\n",
       "      <td>...</td>\n",
       "      <td>...</td>\n",
       "    </tr>\n",
       "    <tr>\n",
       "      <th>123609861</th>\n",
       "      <td>S717</td>\n",
       "      <td>2021-12-27</td>\n",
       "      <td>0.0</td>\n",
       "    </tr>\n",
       "    <tr>\n",
       "      <th>123609862</th>\n",
       "      <td>S717</td>\n",
       "      <td>2021-12-28</td>\n",
       "      <td>0.0</td>\n",
       "    </tr>\n",
       "    <tr>\n",
       "      <th>123609863</th>\n",
       "      <td>S717</td>\n",
       "      <td>2021-12-29</td>\n",
       "      <td>0.0</td>\n",
       "    </tr>\n",
       "    <tr>\n",
       "      <th>123609864</th>\n",
       "      <td>S717</td>\n",
       "      <td>2021-12-30</td>\n",
       "      <td>0.0</td>\n",
       "    </tr>\n",
       "    <tr>\n",
       "      <th>123609865</th>\n",
       "      <td>S717</td>\n",
       "      <td>2021-12-31</td>\n",
       "      <td>0.0</td>\n",
       "    </tr>\n",
       "  </tbody>\n",
       "</table>\n",
       "<p>123609866 rows × 3 columns</p>\n",
       "</div>"
      ],
      "text/plain": [
       "          gauge_code   datetime  rain_mm\n",
       "0           00047000 1961-01-01      0.0\n",
       "1           00047000 1961-01-02      0.0\n",
       "2           00047000 1961-01-03      0.0\n",
       "3           00047000 1961-01-04      0.0\n",
       "4           00047000 1961-01-05      0.0\n",
       "...              ...        ...      ...\n",
       "123609861       S717 2021-12-27      0.0\n",
       "123609862       S717 2021-12-28      0.0\n",
       "123609863       S717 2021-12-29      0.0\n",
       "123609864       S717 2021-12-30      0.0\n",
       "123609865       S717 2021-12-31      0.0\n",
       "\n",
       "[123609866 rows x 3 columns]"
      ]
     },
     "execution_count": 5,
     "metadata": {},
     "output_type": "execute_result"
    }
   ],
   "source": [
    "df_data = pd.DataFrame()  # Initialize an empty DataFrame\n",
    "\n",
    "# Read the HDF file in chunks\n",
    "for chunk in pd.read_hdf('./1 - Organized data gauge/BRAZIL/DATASETS/BRAZIL_DAILY_1961_2024_CLEANED.h5', key='table_data_filtered', encoding='utf-8', chunksize=10000000, iterator=True):\n",
    "    if df_data.empty:\n",
    "        df_data = chunk.copy(deep=True)  # If this is the first chunk, assign it directly to df_data\n",
    "    else:\n",
    "        df_data = pd.concat([df_data, chunk], ignore_index=True)\n",
    "\n",
    "df_data"
   ]
  },
  {
   "cell_type": "code",
   "execution_count": 6,
   "metadata": {},
   "outputs": [
    {
     "data": {
      "application/vnd.microsoft.datawrangler.viewer.v0+json": {
       "columns": [
        {
         "name": "index",
         "rawType": "int64",
         "type": "integer"
        },
        {
         "name": "name_station",
         "rawType": "object",
         "type": "string"
        },
        {
         "name": "gauge_code",
         "rawType": "object",
         "type": "string"
        },
        {
         "name": "city",
         "rawType": "object",
         "type": "string"
        },
        {
         "name": "state",
         "rawType": "object",
         "type": "string"
        },
        {
         "name": "responsible",
         "rawType": "object",
         "type": "string"
        },
        {
         "name": "source",
         "rawType": "object",
         "type": "string"
        },
        {
         "name": "state_abbreviation",
         "rawType": "object",
         "type": "string"
        },
        {
         "name": "lat",
         "rawType": "float64",
         "type": "float"
        },
        {
         "name": "long",
         "rawType": "float64",
         "type": "float"
        }
       ],
       "conversionMethod": "pd.DataFrame",
       "ref": "d908f08e-de2f-4813-9f92-96b62d8f020b",
       "rows": [
        [
         "18981",
         "SELVIRIA | S717",
         "S717",
         "SELVIRIA",
         "MATO GROSSO DO SUL",
         "INMET",
         "INMET",
         "MS",
         "-20.35138888",
         "-51.43027777"
        ],
        [
         "18980",
         "SANTA RITA DO PARDO | S716",
         "S716",
         "SANTA RITA DO PARDO",
         "MATO GROSSO DO SUL",
         "INMET",
         "INMET",
         "MS",
         "-21.305889",
         "-52.820375"
        ],
        [
         "18979",
         "RIBAS DO RIO PARDO | S715",
         "S715",
         "RIBAS DO RIO PARDO",
         "MATO GROSSO DO SUL",
         "INMET",
         "INMET",
         "MS",
         "-20.466694",
         "-53.763028"
        ],
        [
         "18978",
         "PEDRO GOMES | S714",
         "S714",
         "PEDRO GOMES",
         "MATO GROSSO DO SUL",
         "INMET",
         "INMET",
         "MS",
         "-18.07277777",
         "-54.54888888"
        ],
        [
         "18977",
         "NOVA ANDRADINA | S713",
         "S713",
         "NOVA ANDRADINA",
         "MATO GROSSO DO SUL",
         "INMET",
         "INMET",
         "MS",
         "-22.0786111",
         "-53.46583333"
        ],
        [
         "18976",
         "NOVA ALVORADA DO SUL | S712",
         "S712",
         "NOVA ALVORADA DO SUL",
         "MATO GROSSO DO SUL",
         "INMET",
         "INMET",
         "MS",
         "-21.450972",
         "-54.341972"
        ],
        [
         "18975",
         "LAGUNA CARAPA | S711",
         "S711",
         "LAGUNA CARAPA",
         "MATO GROSSO DO SUL",
         "INMET",
         "INMET",
         "MS",
         "-22.575389",
         "-55.160333"
        ],
        [
         "18974",
         "ITAPORA | S710",
         "S710",
         "ITAPORA",
         "MATO GROSSO DO SUL",
         "INMET",
         "INMET",
         "MS",
         "-22.092833",
         "-54.798833"
        ],
        [
         "18973",
         "IGUATEMI | S709",
         "S709",
         "IGUATEMI",
         "MATO GROSSO DO SUL",
         "INMET",
         "INMET",
         "MS",
         "-23.64444444",
         "-54.57027777"
        ],
        [
         "18972",
         "FATIMA DO SUL | S708",
         "S708",
         "FATIMA DO SUL",
         "MATO GROSSO DO SUL",
         "INMET",
         "INMET",
         "MS",
         "-22.30861111",
         "-54.32583332"
        ],
        [
         "18971",
         "CAMAPUA | S707",
         "S707",
         "CAMAPUA",
         "MATO GROSSO DO SUL",
         "INMET",
         "INMET",
         "MS",
         "-19.58749999",
         "-54.02999999"
        ],
        [
         "18970",
         "CAARAPO | S706",
         "S706",
         "CAARAPO",
         "MATO GROSSO DO SUL",
         "INMET",
         "INMET",
         "MS",
         "-22.657056",
         "-54.819306"
        ],
        [
         "18969",
         "BRASILANDIA | S705",
         "S705",
         "BRASILANDIA",
         "MATO GROSSO DO SUL",
         "INMET",
         "INMET",
         "MS",
         "-21.29833333",
         "-52.06888888"
        ],
        [
         "18968",
         "BONITO | S704",
         "S704",
         "BONITO",
         "MATO GROSSO DO SUL",
         "INMET",
         "INMET",
         "MS",
         "-21.24666666",
         "-56.45055555"
        ],
        [
         "18967",
         "BANDEIRANTES | S703",
         "S703",
         "BANDEIRANTES",
         "MATO GROSSO DO SUL",
         "INMET",
         "INMET",
         "MS",
         "-19.94555555",
         "-54.3686111"
        ],
        [
         "18966",
         "ARAL MOREIRA | S702",
         "S702",
         "ARAL MOREIRA",
         "MATO GROSSO DO SUL",
         "INMET",
         "INMET",
         "MS",
         "-22.955",
         "-55.6261111"
        ],
        [
         "18965",
         "ANGELICA | S701",
         "S701",
         "ANGELICA",
         "MATO GROSSO DO SUL",
         "INMET",
         "INMET",
         "MS",
         "-22.148083",
         "-53.763736"
        ],
        [
         "18964",
         "BELO HORIZONTE - CERCADINHO | F501",
         "F501",
         "BELO HORIZONTE - CERCADINHO",
         "MINAS GERAIS",
         "INMET",
         "INMET",
         "MG",
         "-19.97999999",
         "-43.95861111"
        ],
        [
         "18963",
         "TESTE V3 - Cemaden12",
         "CEMADEN_12",
         "CACHOEIRA PAULISTA",
         "SÃO PAULO",
         "CEMADEN",
         "CEMADEN",
         "SP",
         "-22.67403",
         "-44.99584"
        ],
        [
         "18962",
         "Cachoeira Paulista - Cemaden11 TESTES",
         "CEMADEN_11",
         "CACHOEIRA PAULISTA",
         "SÃO PAULO",
         "CEMADEN",
         "CEMADEN",
         "SP",
         "-22.67408",
         "-44.99575"
        ],
        [
         "18961",
         "Cachoeira Paulista - Cemaden10 - TESTES",
         "CEMADEN_10",
         "CACHOEIRA PAULISTA",
         "SÃO PAULO",
         "CEMADEN",
         "CEMADEN",
         "SP",
         "-22.674132",
         "-44.995534"
        ],
        [
         "18960",
         "PORTO ALEGRE- BELEM NOVO | B807",
         "B807",
         "PORTO ALEGRE- BELEM NOVO",
         "RIO GRANDE DO SUL",
         "INMET",
         "INMET",
         "RS",
         "-30.1861111",
         "-51.17805554"
        ],
        [
         "18959",
         "COLOMBO | B806",
         "B806",
         "COLOMBO",
         "PARANÁ",
         "INMET",
         "INMET",
         "PR",
         "-25.322464",
         "-49.157733"
        ],
        [
         "18958",
         "LARANJEIRAS DO SUL | B804",
         "B804",
         "LARANJEIRAS DO SUL",
         "PARANÁ",
         "INMET",
         "INMET",
         "PR",
         "-25.36888888",
         "-52.39194444"
        ],
        [
         "18957",
         "CAMPINA DA LAGOA | B803",
         "B803",
         "CAMPINA DA LAGOA",
         "PARANÁ",
         "INMET",
         "INMET",
         "PR",
         "-24.57083332",
         "-52.80027777"
        ],
        [
         "18956",
         "ROSARIO OESTE | A944",
         "A944",
         "ROSARIO OESTE",
         "MATO GROSSO",
         "INMET",
         "INMET",
         "MT",
         "-14.82888888",
         "-56.44194444"
        ],
        [
         "18955",
         "SERRA NOVA DOURADA | A943",
         "A943",
         "SERRA NOVA DOURADA",
         "MATO GROSSO",
         "INMET",
         "INMET",
         "MT",
         "-11.98777777",
         "-51.4261111"
        ],
        [
         "18954",
         "SAO JOSE DO XINGU | A942",
         "A942",
         "SAO JOSE DO XINGU",
         "MATO GROSSO",
         "INMET",
         "INMET",
         "MT",
         "-10.48416666",
         "-52.37249999"
        ],
        [
         "18953",
         "ARIQUEMES | A940",
         "A940",
         "ARIQUEMES",
         "RONDÔNIA",
         "INMET",
         "INMET",
         "RO",
         "-9.94888888",
         "-62.96194444"
        ],
        [
         "18952",
         "CACOAL | A939",
         "A939",
         "CACOAL",
         "RONDÔNIA",
         "INMET",
         "INMET",
         "RO",
         "-11.44583333",
         "-61.43416666"
        ],
        [
         "18951",
         "VILHENA | A938",
         "A938",
         "VILHENA",
         "RONDÔNIA",
         "INMET",
         "INMET",
         "RO",
         "-12.73499999",
         "-60.15777777"
        ],
        [
         "18950",
         "PONTES E LACERDA | A937",
         "A937",
         "PONTES E LACERDA",
         "MATO GROSSO",
         "INMET",
         "INMET",
         "MT",
         "-15.23444444",
         "-59.3461111"
        ],
        [
         "18949",
         "SALTO DO CEU | A936",
         "A936",
         "SALTO DO CEU",
         "MATO GROSSO",
         "INMET",
         "INMET",
         "MT",
         "-15.12472221",
         "-58.12722221"
        ],
        [
         "18948",
         "PORTO ESTRELA | A935",
         "A935",
         "PORTO ESTRELA",
         "MATO GROSSO",
         "INMET",
         "INMET",
         "MT",
         "-15.32472221",
         "-57.22583332"
        ],
        [
         "18947",
         "ALTO TAQUARI | A934",
         "A934",
         "ALTO TAQUARI",
         "MATO GROSSO",
         "INMET",
         "INMET",
         "MT",
         "-17.8411111",
         "-53.28944444"
        ],
        [
         "18946",
         "ITIQUIRA | A933",
         "A933",
         "ITIQUIRA",
         "MATO GROSSO",
         "INMET",
         "INMET",
         "MT",
         "-17.17499999",
         "-54.50166666"
        ],
        [
         "18945",
         "GUIRATINGA | A932",
         "A932",
         "GUIRATINGA",
         "MATO GROSSO",
         "INMET",
         "INMET",
         "MT",
         "-16.34166666",
         "-53.76611111"
        ],
        [
         "18944",
         "SANTO ANTONIO DO LESTE | A931",
         "A931",
         "SANTO ANTONIO DO LESTE",
         "MATO GROSSO",
         "INMET",
         "INMET",
         "MT",
         "-14.92777777",
         "-53.8836111"
        ],
        [
         "18943",
         "GAUCHA DO NORTE | A930",
         "A930",
         "GAUCHA DO NORTE",
         "MATO GROSSO",
         "INMET",
         "INMET",
         "MT",
         "-13.18472221",
         "-53.2575"
        ],
        [
         "18942",
         "NOVA UBIRATA | A929",
         "A929",
         "NOVA UBIRATA",
         "MATO GROSSO",
         "INMET",
         "INMET",
         "MT",
         "-13.41111111",
         "-54.75222222"
        ],
        [
         "18941",
         "NOVA MARINGA | A928",
         "A928",
         "NOVA MARINGA",
         "MATO GROSSO",
         "INMET",
         "INMET",
         "MT",
         "-13.0386111",
         "-57.09222221"
        ],
        [
         "18940",
         "BRASNORTE (NOVO MUNDO) | A927",
         "A927",
         "BRASNORTE (NOVO MUNDO)",
         "MATO GROSSO",
         "INMET",
         "INMET",
         "MT",
         "-12.52194443",
         "-58.23138888"
        ],
        [
         "18939",
         "CARLINDA | A926",
         "A926",
         "CARLINDA",
         "MATO GROSSO",
         "INMET",
         "INMET",
         "MT",
         "-9.97055554",
         "-55.82749999"
        ],
        [
         "18938",
         "PORTO VELHO | A925",
         "A925",
         "PORTO VELHO",
         "RONDÔNIA",
         "INMET",
         "INMET",
         "RO",
         "-8.7936111",
         "-63.84583333"
        ],
        [
         "18937",
         "ALTA FLORESTA | A924",
         "A924",
         "ALTA FLORESTA",
         "MATO GROSSO",
         "INMET",
         "INMET",
         "MT",
         "-10.07722221",
         "-56.17916666"
        ],
        [
         "18936",
         "PRIMAVERA DO LESTE | A923",
         "A923",
         "PRIMAVERA DO LESTE",
         "MATO GROSSO",
         "INMET",
         "INMET",
         "MT",
         "-15.57999999",
         "-54.3811111"
        ],
        [
         "18935",
         "VILA BELA DA SANTISSIMA TRINDADE | A922",
         "A922",
         "VILA BELA DA SANTISSIMA TRINDADE",
         "MATO GROSSO",
         "INMET",
         "INMET",
         "MT",
         "-15.06277777",
         "-59.87305554"
        ],
        [
         "18934",
         "SAO FELIX  DO ARAGUAIA | A921",
         "A921",
         "SAO FELIX  DO ARAGUAIA",
         "MATO GROSSO",
         "INMET",
         "INMET",
         "MT",
         "-11.61888888",
         "-50.72777777"
        ],
        [
         "18933",
         "JUINA | A920",
         "A920",
         "JUINA",
         "MATO GROSSO",
         "INMET",
         "INMET",
         "MT",
         "-11.375126",
         "-58.774785"
        ],
        [
         "18932",
         "COTRIGUACU | A919",
         "A919",
         "COTRIGUACU",
         "MATO GROSSO",
         "INMET",
         "INMET",
         "MT",
         "-9.90638888",
         "-58.57222221"
        ]
       ],
       "shape": {
        "columns": 9,
        "rows": 18370
       }
      },
      "text/html": [
       "<div>\n",
       "<style scoped>\n",
       "    .dataframe tbody tr th:only-of-type {\n",
       "        vertical-align: middle;\n",
       "    }\n",
       "\n",
       "    .dataframe tbody tr th {\n",
       "        vertical-align: top;\n",
       "    }\n",
       "\n",
       "    .dataframe thead th {\n",
       "        text-align: right;\n",
       "    }\n",
       "</style>\n",
       "<table border=\"1\" class=\"dataframe\">\n",
       "  <thead>\n",
       "    <tr style=\"text-align: right;\">\n",
       "      <th></th>\n",
       "      <th>name_station</th>\n",
       "      <th>gauge_code</th>\n",
       "      <th>city</th>\n",
       "      <th>state</th>\n",
       "      <th>responsible</th>\n",
       "      <th>source</th>\n",
       "      <th>state_abbreviation</th>\n",
       "      <th>lat</th>\n",
       "      <th>long</th>\n",
       "    </tr>\n",
       "  </thead>\n",
       "  <tbody>\n",
       "    <tr>\n",
       "      <th>18981</th>\n",
       "      <td>SELVIRIA | S717</td>\n",
       "      <td>S717</td>\n",
       "      <td>SELVIRIA</td>\n",
       "      <td>MATO GROSSO DO SUL</td>\n",
       "      <td>INMET</td>\n",
       "      <td>INMET</td>\n",
       "      <td>MS</td>\n",
       "      <td>-20.351389</td>\n",
       "      <td>-51.430278</td>\n",
       "    </tr>\n",
       "    <tr>\n",
       "      <th>18980</th>\n",
       "      <td>SANTA RITA DO PARDO | S716</td>\n",
       "      <td>S716</td>\n",
       "      <td>SANTA RITA DO PARDO</td>\n",
       "      <td>MATO GROSSO DO SUL</td>\n",
       "      <td>INMET</td>\n",
       "      <td>INMET</td>\n",
       "      <td>MS</td>\n",
       "      <td>-21.305889</td>\n",
       "      <td>-52.820375</td>\n",
       "    </tr>\n",
       "    <tr>\n",
       "      <th>18979</th>\n",
       "      <td>RIBAS DO RIO PARDO | S715</td>\n",
       "      <td>S715</td>\n",
       "      <td>RIBAS DO RIO PARDO</td>\n",
       "      <td>MATO GROSSO DO SUL</td>\n",
       "      <td>INMET</td>\n",
       "      <td>INMET</td>\n",
       "      <td>MS</td>\n",
       "      <td>-20.466694</td>\n",
       "      <td>-53.763028</td>\n",
       "    </tr>\n",
       "    <tr>\n",
       "      <th>18978</th>\n",
       "      <td>PEDRO GOMES | S714</td>\n",
       "      <td>S714</td>\n",
       "      <td>PEDRO GOMES</td>\n",
       "      <td>MATO GROSSO DO SUL</td>\n",
       "      <td>INMET</td>\n",
       "      <td>INMET</td>\n",
       "      <td>MS</td>\n",
       "      <td>-18.072778</td>\n",
       "      <td>-54.548889</td>\n",
       "    </tr>\n",
       "    <tr>\n",
       "      <th>18977</th>\n",
       "      <td>NOVA ANDRADINA | S713</td>\n",
       "      <td>S713</td>\n",
       "      <td>NOVA ANDRADINA</td>\n",
       "      <td>MATO GROSSO DO SUL</td>\n",
       "      <td>INMET</td>\n",
       "      <td>INMET</td>\n",
       "      <td>MS</td>\n",
       "      <td>-22.078611</td>\n",
       "      <td>-53.465833</td>\n",
       "    </tr>\n",
       "    <tr>\n",
       "      <th>...</th>\n",
       "      <td>...</td>\n",
       "      <td>...</td>\n",
       "      <td>...</td>\n",
       "      <td>...</td>\n",
       "      <td>...</td>\n",
       "      <td>...</td>\n",
       "      <td>...</td>\n",
       "      <td>...</td>\n",
       "      <td>...</td>\n",
       "    </tr>\n",
       "    <tr>\n",
       "      <th>4</th>\n",
       "      <td>MARUDA</td>\n",
       "      <td>00047005</td>\n",
       "      <td>MARAPANIM</td>\n",
       "      <td>PARÁ</td>\n",
       "      <td>ANA</td>\n",
       "      <td>HIDROWEB</td>\n",
       "      <td>PA</td>\n",
       "      <td>-0.633600</td>\n",
       "      <td>-47.658300</td>\n",
       "    </tr>\n",
       "    <tr>\n",
       "      <th>3</th>\n",
       "      <td>PRIMAVERA</td>\n",
       "      <td>00047004</td>\n",
       "      <td>PRIMAVERA</td>\n",
       "      <td>PARÁ</td>\n",
       "      <td>ANA</td>\n",
       "      <td>HIDROWEB</td>\n",
       "      <td>PA</td>\n",
       "      <td>-0.929400</td>\n",
       "      <td>-47.099400</td>\n",
       "    </tr>\n",
       "    <tr>\n",
       "      <th>2</th>\n",
       "      <td>CURUÇA</td>\n",
       "      <td>00047003</td>\n",
       "      <td>CURUÇA</td>\n",
       "      <td>PARÁ</td>\n",
       "      <td>ANA</td>\n",
       "      <td>HIDROWEB</td>\n",
       "      <td>PA</td>\n",
       "      <td>-0.737500</td>\n",
       "      <td>-47.853600</td>\n",
       "    </tr>\n",
       "    <tr>\n",
       "      <th>1</th>\n",
       "      <td>SALINÓPOLIS</td>\n",
       "      <td>00047002</td>\n",
       "      <td>SALINÓPOLIS</td>\n",
       "      <td>PARÁ</td>\n",
       "      <td>ANA</td>\n",
       "      <td>HIDROWEB</td>\n",
       "      <td>PA</td>\n",
       "      <td>-0.623100</td>\n",
       "      <td>-47.353600</td>\n",
       "    </tr>\n",
       "    <tr>\n",
       "      <th>0</th>\n",
       "      <td>SALINÓPOLIS</td>\n",
       "      <td>00047000</td>\n",
       "      <td>SALINÓPOLIS</td>\n",
       "      <td>PARÁ</td>\n",
       "      <td>INMET</td>\n",
       "      <td>HIDROWEB</td>\n",
       "      <td>PA</td>\n",
       "      <td>-0.650000</td>\n",
       "      <td>-47.550000</td>\n",
       "    </tr>\n",
       "  </tbody>\n",
       "</table>\n",
       "<p>18370 rows × 9 columns</p>\n",
       "</div>"
      ],
      "text/plain": [
       "                     name_station gauge_code                 city  \\\n",
       "18981             SELVIRIA | S717       S717             SELVIRIA   \n",
       "18980  SANTA RITA DO PARDO | S716       S716  SANTA RITA DO PARDO   \n",
       "18979   RIBAS DO RIO PARDO | S715       S715   RIBAS DO RIO PARDO   \n",
       "18978          PEDRO GOMES | S714       S714          PEDRO GOMES   \n",
       "18977       NOVA ANDRADINA | S713       S713       NOVA ANDRADINA   \n",
       "...                           ...        ...                  ...   \n",
       "4                          MARUDA   00047005            MARAPANIM   \n",
       "3                       PRIMAVERA   00047004            PRIMAVERA   \n",
       "2                          CURUÇA   00047003               CURUÇA   \n",
       "1                     SALINÓPOLIS   00047002          SALINÓPOLIS   \n",
       "0                     SALINÓPOLIS   00047000          SALINÓPOLIS   \n",
       "\n",
       "                    state responsible    source state_abbreviation        lat  \\\n",
       "18981  MATO GROSSO DO SUL       INMET     INMET                 MS -20.351389   \n",
       "18980  MATO GROSSO DO SUL       INMET     INMET                 MS -21.305889   \n",
       "18979  MATO GROSSO DO SUL       INMET     INMET                 MS -20.466694   \n",
       "18978  MATO GROSSO DO SUL       INMET     INMET                 MS -18.072778   \n",
       "18977  MATO GROSSO DO SUL       INMET     INMET                 MS -22.078611   \n",
       "...                   ...         ...       ...                ...        ...   \n",
       "4                    PARÁ         ANA  HIDROWEB                 PA  -0.633600   \n",
       "3                    PARÁ         ANA  HIDROWEB                 PA  -0.929400   \n",
       "2                    PARÁ         ANA  HIDROWEB                 PA  -0.737500   \n",
       "1                    PARÁ         ANA  HIDROWEB                 PA  -0.623100   \n",
       "0                    PARÁ       INMET  HIDROWEB                 PA  -0.650000   \n",
       "\n",
       "            long  \n",
       "18981 -51.430278  \n",
       "18980 -52.820375  \n",
       "18979 -53.763028  \n",
       "18978 -54.548889  \n",
       "18977 -53.465833  \n",
       "...          ...  \n",
       "4     -47.658300  \n",
       "3     -47.099400  \n",
       "2     -47.853600  \n",
       "1     -47.353600  \n",
       "0     -47.550000  \n",
       "\n",
       "[18370 rows x 9 columns]"
      ]
     },
     "execution_count": 6,
     "metadata": {},
     "output_type": "execute_result"
    }
   ],
   "source": [
    "df_info = pd.read_hdf('./1 - Organized data gauge/BRAZIL/DATASETS/BRAZIL_DAILY_1961_2024_CLEANED.h5', key = 'table_info', encoding = 'utf-8')\n",
    "df_info"
   ]
  },
  {
   "cell_type": "code",
   "execution_count": 7,
   "metadata": {},
   "outputs": [
    {
     "ename": "MemoryError",
     "evalue": "Unable to allocate 5.53 GiB for an array with shape (6, 123593345) and data type object",
     "output_type": "error",
     "traceback": [
      "\u001b[1;31m---------------------------------------------------------------------------\u001b[0m",
      "\u001b[1;31mMemoryError\u001b[0m                               Traceback (most recent call last)",
      "Cell \u001b[1;32mIn[7], line 1\u001b[0m\n\u001b[1;32m----> 1\u001b[0m df_complete_info \u001b[38;5;241m=\u001b[39m pd\u001b[38;5;241m.\u001b[39mmerge(df_data, df_info, on \u001b[38;5;241m=\u001b[39m \u001b[38;5;124m'\u001b[39m\u001b[38;5;124mgauge_code\u001b[39m\u001b[38;5;124m'\u001b[39m, how \u001b[38;5;241m=\u001b[39m \u001b[38;5;124m'\u001b[39m\u001b[38;5;124minner\u001b[39m\u001b[38;5;124m'\u001b[39m)\n\u001b[0;32m      2\u001b[0m \u001b[38;5;28;01mdel\u001b[39;00m df_data, df_info\n\u001b[0;32m      3\u001b[0m df_complete_info[\u001b[38;5;124m'\u001b[39m\u001b[38;5;124myear\u001b[39m\u001b[38;5;124m'\u001b[39m] \u001b[38;5;241m=\u001b[39m df_complete_info[\u001b[38;5;124m'\u001b[39m\u001b[38;5;124mdatetime\u001b[39m\u001b[38;5;124m'\u001b[39m]\u001b[38;5;241m.\u001b[39mdt\u001b[38;5;241m.\u001b[39myear\n",
      "File \u001b[1;32m~\\AppData\\Roaming\\Python\\Python311\\site-packages\\pandas\\core\\reshape\\merge.py:184\u001b[0m, in \u001b[0;36mmerge\u001b[1;34m(left, right, how, on, left_on, right_on, left_index, right_index, sort, suffixes, copy, indicator, validate)\u001b[0m\n\u001b[0;32m    169\u001b[0m \u001b[38;5;28;01melse\u001b[39;00m:\n\u001b[0;32m    170\u001b[0m     op \u001b[38;5;241m=\u001b[39m _MergeOperation(\n\u001b[0;32m    171\u001b[0m         left_df,\n\u001b[0;32m    172\u001b[0m         right_df,\n\u001b[1;32m   (...)\u001b[0m\n\u001b[0;32m    182\u001b[0m         validate\u001b[38;5;241m=\u001b[39mvalidate,\n\u001b[0;32m    183\u001b[0m     )\n\u001b[1;32m--> 184\u001b[0m     \u001b[38;5;28;01mreturn\u001b[39;00m op\u001b[38;5;241m.\u001b[39mget_result(copy\u001b[38;5;241m=\u001b[39mcopy)\n",
      "File \u001b[1;32m~\\AppData\\Roaming\\Python\\Python311\\site-packages\\pandas\\core\\reshape\\merge.py:888\u001b[0m, in \u001b[0;36m_MergeOperation.get_result\u001b[1;34m(self, copy)\u001b[0m\n\u001b[0;32m    884\u001b[0m     \u001b[38;5;28mself\u001b[39m\u001b[38;5;241m.\u001b[39mleft, \u001b[38;5;28mself\u001b[39m\u001b[38;5;241m.\u001b[39mright \u001b[38;5;241m=\u001b[39m \u001b[38;5;28mself\u001b[39m\u001b[38;5;241m.\u001b[39m_indicator_pre_merge(\u001b[38;5;28mself\u001b[39m\u001b[38;5;241m.\u001b[39mleft, \u001b[38;5;28mself\u001b[39m\u001b[38;5;241m.\u001b[39mright)\n\u001b[0;32m    886\u001b[0m join_index, left_indexer, right_indexer \u001b[38;5;241m=\u001b[39m \u001b[38;5;28mself\u001b[39m\u001b[38;5;241m.\u001b[39m_get_join_info()\n\u001b[1;32m--> 888\u001b[0m result \u001b[38;5;241m=\u001b[39m \u001b[38;5;28mself\u001b[39m\u001b[38;5;241m.\u001b[39m_reindex_and_concat(\n\u001b[0;32m    889\u001b[0m     join_index, left_indexer, right_indexer, copy\u001b[38;5;241m=\u001b[39mcopy\n\u001b[0;32m    890\u001b[0m )\n\u001b[0;32m    891\u001b[0m result \u001b[38;5;241m=\u001b[39m result\u001b[38;5;241m.\u001b[39m__finalize__(\u001b[38;5;28mself\u001b[39m, method\u001b[38;5;241m=\u001b[39m\u001b[38;5;28mself\u001b[39m\u001b[38;5;241m.\u001b[39m_merge_type)\n\u001b[0;32m    893\u001b[0m \u001b[38;5;28;01mif\u001b[39;00m \u001b[38;5;28mself\u001b[39m\u001b[38;5;241m.\u001b[39mindicator:\n",
      "File \u001b[1;32m~\\AppData\\Roaming\\Python\\Python311\\site-packages\\pandas\\core\\reshape\\merge.py:879\u001b[0m, in \u001b[0;36m_MergeOperation._reindex_and_concat\u001b[1;34m(self, join_index, left_indexer, right_indexer, copy)\u001b[0m\n\u001b[0;32m    877\u001b[0m left\u001b[38;5;241m.\u001b[39mcolumns \u001b[38;5;241m=\u001b[39m llabels\n\u001b[0;32m    878\u001b[0m right\u001b[38;5;241m.\u001b[39mcolumns \u001b[38;5;241m=\u001b[39m rlabels\n\u001b[1;32m--> 879\u001b[0m result \u001b[38;5;241m=\u001b[39m concat([left, right], axis\u001b[38;5;241m=\u001b[39m\u001b[38;5;241m1\u001b[39m, copy\u001b[38;5;241m=\u001b[39mcopy)\n\u001b[0;32m    880\u001b[0m \u001b[38;5;28;01mreturn\u001b[39;00m result\n",
      "File \u001b[1;32m~\\AppData\\Roaming\\Python\\Python311\\site-packages\\pandas\\core\\reshape\\concat.py:395\u001b[0m, in \u001b[0;36mconcat\u001b[1;34m(objs, axis, join, ignore_index, keys, levels, names, verify_integrity, sort, copy)\u001b[0m\n\u001b[0;32m    380\u001b[0m     copy \u001b[38;5;241m=\u001b[39m \u001b[38;5;28;01mFalse\u001b[39;00m\n\u001b[0;32m    382\u001b[0m op \u001b[38;5;241m=\u001b[39m _Concatenator(\n\u001b[0;32m    383\u001b[0m     objs,\n\u001b[0;32m    384\u001b[0m     axis\u001b[38;5;241m=\u001b[39maxis,\n\u001b[1;32m   (...)\u001b[0m\n\u001b[0;32m    392\u001b[0m     sort\u001b[38;5;241m=\u001b[39msort,\n\u001b[0;32m    393\u001b[0m )\n\u001b[1;32m--> 395\u001b[0m \u001b[38;5;28;01mreturn\u001b[39;00m op\u001b[38;5;241m.\u001b[39mget_result()\n",
      "File \u001b[1;32m~\\AppData\\Roaming\\Python\\Python311\\site-packages\\pandas\\core\\reshape\\concat.py:684\u001b[0m, in \u001b[0;36m_Concatenator.get_result\u001b[1;34m(self)\u001b[0m\n\u001b[0;32m    680\u001b[0m             indexers[ax] \u001b[38;5;241m=\u001b[39m obj_labels\u001b[38;5;241m.\u001b[39mget_indexer(new_labels)\n\u001b[0;32m    682\u001b[0m     mgrs_indexers\u001b[38;5;241m.\u001b[39mappend((obj\u001b[38;5;241m.\u001b[39m_mgr, indexers))\n\u001b[1;32m--> 684\u001b[0m new_data \u001b[38;5;241m=\u001b[39m concatenate_managers(\n\u001b[0;32m    685\u001b[0m     mgrs_indexers, \u001b[38;5;28mself\u001b[39m\u001b[38;5;241m.\u001b[39mnew_axes, concat_axis\u001b[38;5;241m=\u001b[39m\u001b[38;5;28mself\u001b[39m\u001b[38;5;241m.\u001b[39mbm_axis, copy\u001b[38;5;241m=\u001b[39m\u001b[38;5;28mself\u001b[39m\u001b[38;5;241m.\u001b[39mcopy\n\u001b[0;32m    686\u001b[0m )\n\u001b[0;32m    687\u001b[0m \u001b[38;5;28;01mif\u001b[39;00m \u001b[38;5;129;01mnot\u001b[39;00m \u001b[38;5;28mself\u001b[39m\u001b[38;5;241m.\u001b[39mcopy \u001b[38;5;129;01mand\u001b[39;00m \u001b[38;5;129;01mnot\u001b[39;00m using_copy_on_write():\n\u001b[0;32m    688\u001b[0m     new_data\u001b[38;5;241m.\u001b[39m_consolidate_inplace()\n",
      "File \u001b[1;32m~\\AppData\\Roaming\\Python\\Python311\\site-packages\\pandas\\core\\internals\\concat.py:131\u001b[0m, in \u001b[0;36mconcatenate_managers\u001b[1;34m(mgrs_indexers, axes, concat_axis, copy)\u001b[0m\n\u001b[0;32m    124\u001b[0m \u001b[38;5;66;03m# Assertions disabled for performance\u001b[39;00m\n\u001b[0;32m    125\u001b[0m \u001b[38;5;66;03m# for tup in mgrs_indexers:\u001b[39;00m\n\u001b[0;32m    126\u001b[0m \u001b[38;5;66;03m#    # caller is responsible for ensuring this\u001b[39;00m\n\u001b[0;32m    127\u001b[0m \u001b[38;5;66;03m#    indexers = tup[1]\u001b[39;00m\n\u001b[0;32m    128\u001b[0m \u001b[38;5;66;03m#    assert concat_axis not in indexers\u001b[39;00m\n\u001b[0;32m    130\u001b[0m \u001b[38;5;28;01mif\u001b[39;00m concat_axis \u001b[38;5;241m==\u001b[39m \u001b[38;5;241m0\u001b[39m:\n\u001b[1;32m--> 131\u001b[0m     mgrs \u001b[38;5;241m=\u001b[39m _maybe_reindex_columns_na_proxy(axes, mgrs_indexers, needs_copy)\n\u001b[0;32m    132\u001b[0m     \u001b[38;5;28;01mreturn\u001b[39;00m mgrs[\u001b[38;5;241m0\u001b[39m]\u001b[38;5;241m.\u001b[39mconcat_horizontal(mgrs, axes)\n\u001b[0;32m    134\u001b[0m \u001b[38;5;28;01mif\u001b[39;00m \u001b[38;5;28mlen\u001b[39m(mgrs_indexers) \u001b[38;5;241m>\u001b[39m \u001b[38;5;241m0\u001b[39m \u001b[38;5;129;01mand\u001b[39;00m mgrs_indexers[\u001b[38;5;241m0\u001b[39m][\u001b[38;5;241m0\u001b[39m]\u001b[38;5;241m.\u001b[39mnblocks \u001b[38;5;241m>\u001b[39m \u001b[38;5;241m0\u001b[39m:\n",
      "File \u001b[1;32m~\\AppData\\Roaming\\Python\\Python311\\site-packages\\pandas\\core\\internals\\concat.py:230\u001b[0m, in \u001b[0;36m_maybe_reindex_columns_na_proxy\u001b[1;34m(axes, mgrs_indexers, needs_copy)\u001b[0m\n\u001b[0;32m    220\u001b[0m         mgr \u001b[38;5;241m=\u001b[39m mgr\u001b[38;5;241m.\u001b[39mreindex_indexer(\n\u001b[0;32m    221\u001b[0m             axes[i],\n\u001b[0;32m    222\u001b[0m             indexers[i],\n\u001b[1;32m   (...)\u001b[0m\n\u001b[0;32m    227\u001b[0m             use_na_proxy\u001b[38;5;241m=\u001b[39m\u001b[38;5;28;01mTrue\u001b[39;00m,  \u001b[38;5;66;03m# only relevant for i==0\u001b[39;00m\n\u001b[0;32m    228\u001b[0m         )\n\u001b[0;32m    229\u001b[0m     \u001b[38;5;28;01mif\u001b[39;00m needs_copy \u001b[38;5;129;01mand\u001b[39;00m \u001b[38;5;129;01mnot\u001b[39;00m indexers:\n\u001b[1;32m--> 230\u001b[0m         mgr \u001b[38;5;241m=\u001b[39m mgr\u001b[38;5;241m.\u001b[39mcopy()\n\u001b[0;32m    232\u001b[0m     new_mgrs\u001b[38;5;241m.\u001b[39mappend(mgr)\n\u001b[0;32m    233\u001b[0m \u001b[38;5;28;01mreturn\u001b[39;00m new_mgrs\n",
      "File \u001b[1;32m~\\AppData\\Roaming\\Python\\Python311\\site-packages\\pandas\\core\\internals\\managers.py:593\u001b[0m, in \u001b[0;36mBaseBlockManager.copy\u001b[1;34m(self, deep)\u001b[0m\n\u001b[0;32m    590\u001b[0m     \u001b[38;5;28;01melse\u001b[39;00m:\n\u001b[0;32m    591\u001b[0m         new_axes \u001b[38;5;241m=\u001b[39m \u001b[38;5;28mlist\u001b[39m(\u001b[38;5;28mself\u001b[39m\u001b[38;5;241m.\u001b[39maxes)\n\u001b[1;32m--> 593\u001b[0m res \u001b[38;5;241m=\u001b[39m \u001b[38;5;28mself\u001b[39m\u001b[38;5;241m.\u001b[39mapply(\u001b[38;5;124m\"\u001b[39m\u001b[38;5;124mcopy\u001b[39m\u001b[38;5;124m\"\u001b[39m, deep\u001b[38;5;241m=\u001b[39mdeep)\n\u001b[0;32m    594\u001b[0m res\u001b[38;5;241m.\u001b[39maxes \u001b[38;5;241m=\u001b[39m new_axes\n\u001b[0;32m    596\u001b[0m \u001b[38;5;28;01mif\u001b[39;00m \u001b[38;5;28mself\u001b[39m\u001b[38;5;241m.\u001b[39mndim \u001b[38;5;241m>\u001b[39m \u001b[38;5;241m1\u001b[39m:\n\u001b[0;32m    597\u001b[0m     \u001b[38;5;66;03m# Avoid needing to re-compute these\u001b[39;00m\n",
      "File \u001b[1;32m~\\AppData\\Roaming\\Python\\Python311\\site-packages\\pandas\\core\\internals\\managers.py:363\u001b[0m, in \u001b[0;36mBaseBlockManager.apply\u001b[1;34m(self, f, align_keys, **kwargs)\u001b[0m\n\u001b[0;32m    361\u001b[0m         applied \u001b[38;5;241m=\u001b[39m b\u001b[38;5;241m.\u001b[39mapply(f, \u001b[38;5;241m*\u001b[39m\u001b[38;5;241m*\u001b[39mkwargs)\n\u001b[0;32m    362\u001b[0m     \u001b[38;5;28;01melse\u001b[39;00m:\n\u001b[1;32m--> 363\u001b[0m         applied \u001b[38;5;241m=\u001b[39m \u001b[38;5;28mgetattr\u001b[39m(b, f)(\u001b[38;5;241m*\u001b[39m\u001b[38;5;241m*\u001b[39mkwargs)\n\u001b[0;32m    364\u001b[0m     result_blocks \u001b[38;5;241m=\u001b[39m extend_blocks(applied, result_blocks)\n\u001b[0;32m    366\u001b[0m out \u001b[38;5;241m=\u001b[39m \u001b[38;5;28mtype\u001b[39m(\u001b[38;5;28mself\u001b[39m)\u001b[38;5;241m.\u001b[39mfrom_blocks(result_blocks, \u001b[38;5;28mself\u001b[39m\u001b[38;5;241m.\u001b[39maxes)\n",
      "File \u001b[1;32m~\\AppData\\Roaming\\Python\\Python311\\site-packages\\pandas\\core\\internals\\blocks.py:796\u001b[0m, in \u001b[0;36mBlock.copy\u001b[1;34m(self, deep)\u001b[0m\n\u001b[0;32m    794\u001b[0m refs: BlockValuesRefs \u001b[38;5;241m|\u001b[39m \u001b[38;5;28;01mNone\u001b[39;00m\n\u001b[0;32m    795\u001b[0m \u001b[38;5;28;01mif\u001b[39;00m deep:\n\u001b[1;32m--> 796\u001b[0m     values \u001b[38;5;241m=\u001b[39m values\u001b[38;5;241m.\u001b[39mcopy()\n\u001b[0;32m    797\u001b[0m     refs \u001b[38;5;241m=\u001b[39m \u001b[38;5;28;01mNone\u001b[39;00m\n\u001b[0;32m    798\u001b[0m \u001b[38;5;28;01melse\u001b[39;00m:\n",
      "\u001b[1;31mMemoryError\u001b[0m: Unable to allocate 5.53 GiB for an array with shape (6, 123593345) and data type object"
     ]
    }
   ],
   "source": [
    "df_complete_info = pd.merge(df_data, df_info, on = 'gauge_code', how = 'inner')\n",
    "del df_data, df_info\n",
    "df_complete_info['year'] = df_complete_info['datetime'].dt.year\n",
    "df_complete_info"
   ]
  },
  {
   "cell_type": "code",
   "execution_count": null,
   "metadata": {},
   "outputs": [],
   "source": [
    "def calculateQ1(df):\n",
    "    # Ensure datetime is in the correct format\n",
    "    df['datetime'] = pd.to_datetime(df['datetime'])\n",
    "    \n",
    "    # Extract year from datetime\n",
    "    df['year'] = df['datetime'].dt.year\n",
    "    \n",
    "    # Group by gauge_code and year\n",
    "    grouped = df.groupby(['gauge_code', 'year'])\n",
    "    \n",
    "    results = []\n",
    "    \n",
    "    for (gauge_code, year), group in grouped:\n",
    "        # Sort by datetime\n",
    "        group = group.sort_values('datetime')\n",
    "        \n",
    "        # Create a complete date range for the year\n",
    "        date_range = pd.date_range(start=f'{year}-01-01', end=f'{year}-12-31', freq='D')\n",
    "        full_df = pd.DataFrame({'datetime': date_range})\n",
    "        merged_df = pd.merge(full_df, group, on='datetime', how='left')\n",
    "        \n",
    "        # Calculate days_in_a_year\n",
    "        days_in_a_year = len(full_df)\n",
    "        \n",
    "        # Calculate active_days (days with valid rain_mm data)\n",
    "        active_days = merged_df['rain_mm'].notna().sum()\n",
    "        \n",
    "        # Calculate total_gap\n",
    "        total_gap = days_in_a_year - active_days\n",
    "        \n",
    "        # Calculate max_gap, start_date, and last_date\n",
    "        if total_gap == 0:\n",
    "            max_gap = 0\n",
    "            start_date = np.nan\n",
    "            last_date = np.nan\n",
    "        else:\n",
    "            # Identify gaps (consecutive NaNs in rain_mm)\n",
    "            merged_df['gap'] = merged_df['rain_mm'].isna().astype(int)\n",
    "            merged_df['gap_group'] = (merged_df['gap'].diff() != 0).cumsum()\n",
    "            \n",
    "            # Calculate the length of each gap\n",
    "            gap_lengths = merged_df[merged_df['gap'] == 1].groupby('gap_group').size()\n",
    "            \n",
    "            # Find the max_gap and its start and end dates\n",
    "            if not gap_lengths.empty:\n",
    "                max_gap = gap_lengths.max()\n",
    "                max_gap_group = gap_lengths.idxmax()\n",
    "                gap_dates = merged_df[merged_df['gap_group'] == max_gap_group]['datetime']\n",
    "                start_date = gap_dates.min()\n",
    "                last_date = gap_dates.max()\n",
    "            else:\n",
    "                max_gap = 0\n",
    "                start_date = np.nan\n",
    "                last_date = np.nan\n",
    "        \n",
    "        # Append results\n",
    "        results.append({\n",
    "            'gauge_code': gauge_code,\n",
    "            'year': year,\n",
    "            'days_in_a_year': days_in_a_year,\n",
    "            'active_days': active_days,\n",
    "            'total_gap': total_gap,\n",
    "            'max_gap': max_gap,\n",
    "            'start_date': start_date,\n",
    "            'last_date': last_date\n",
    "        })\n",
    "    \n",
    "    # Create the result DataFrame\n",
    "    df_q1_gaps = pd.DataFrame(results)\n",
    "    return df_q1_gaps\n",
    "\n",
    "# Example usage\n",
    "df_q1_gaps = calculateQ1(df_complete_info)\n",
    "del df_complete_info\n",
    "df_q1_gaps"
   ]
  },
  {
   "cell_type": "code",
   "execution_count": null,
   "metadata": {},
   "outputs": [],
   "source": [
    "df_q1_gaps['q1_gaps'] = 100.0 - 100.0 * (((2.0 * df_q1_gaps['total_gap']) + df_q1_gaps['max_gap']) / df_q1_gaps['active_days'])\n",
    "df_q1_gaps['q1_gaps'] = df_q1_gaps['q1_gaps'].apply(lambda x: max(x, 0))\n",
    "df_q1_gaps"
   ]
  },
  {
   "cell_type": "code",
   "execution_count": null,
   "metadata": {},
   "outputs": [],
   "source": [
    "df_q1_gaps = df_q1_gaps[['gauge_code', 'year', 'q1_gaps']]\n",
    "df_q1_gaps"
   ]
  },
  {
   "cell_type": "code",
   "execution_count": null,
   "metadata": {},
   "outputs": [],
   "source": [
    "df_q1_gaps.to_hdf('./1 - Organized data gauge/BRAZIL/DATASETS/BRAZIL_DAILY_1961_2024_CLEANED.h5', key = 'table_q1_gaps', encoding = 'utf-8', mode='r+')\n",
    "df_q1_gaps = pd.read_hdf('./1 - Organized data gauge/BRAZIL/DATASETS/BRAZIL_DAILY_1961_2024_CLEANED.h5', key = 'table_q1_gaps', encoding = 'utf-8')\n",
    "df_q1_gaps"
   ]
  },
  {
   "cell_type": "code",
   "execution_count": null,
   "metadata": {},
   "outputs": [],
   "source": [
    "df_teste = pd.read_hdf('./1 - Organized data gauge/BRAZIL/DATASETS/BRAZIL_DAILY_1961_2024_CLEANED.h5', key = 'table_info', encoding = 'utf-8')\n",
    "df_teste"
   ]
  }
 ],
 "metadata": {
  "kernelspec": {
   "display_name": "base",
   "language": "python",
   "name": "python3"
  },
  "language_info": {
   "codemirror_mode": {
    "name": "ipython",
    "version": 3
   },
   "file_extension": ".py",
   "mimetype": "text/x-python",
   "name": "python",
   "nbconvert_exporter": "python",
   "pygments_lexer": "ipython3",
   "version": "3.11.10"
  }
 },
 "nbformat": 4,
 "nbformat_minor": 2
}
