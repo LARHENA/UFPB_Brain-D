{
 "cells": [
  {
   "cell_type": "code",
   "execution_count": 1,
   "id": "d6869502",
   "metadata": {},
   "outputs": [],
   "source": [
    "import pandas as pd\n",
    "import numpy as np\n",
    "import matplotlib.pyplot as plt\n",
    "import geobr\n",
    "import math\n",
    "import itertools\n",
    "from shapely.geometry import Point\n",
    "import geopandas as gpd\n",
    "import h5py"
   ]
  },
  {
   "cell_type": "code",
   "execution_count": 16,
   "id": "1ef42179",
   "metadata": {},
   "outputs": [],
   "source": [
    "plt.style.use(\"seaborn-v0_8-whitegrid\")\n",
    "plt.rcParams['axes.grid'] = False\n",
    "plt.rcParams['font.size'] = '14'\n",
    "plt.rcParams[\"font.family\"] = \"Times New Roman\""
   ]
  },
  {
   "cell_type": "code",
   "execution_count": null,
   "id": "67d52960",
   "metadata": {},
   "outputs": [
    {
     "name": "stdout",
     "output_type": "stream",
     "text": [
      "['table_data', 'table_grid', 'table_info']\n"
     ]
    }
   ],
   "source": [
    "file_path = './1 - Organized data gauge/BRAZIL/DATASETS/BRAZIL_DAILY_1961_2024_QC.h5'\n",
    "with h5py.File(file_path, 'r') as hdf:\n",
    "    keys = list(hdf.keys())\n",
    "    print(keys)"
   ]
  },
  {
   "cell_type": "code",
   "execution_count": 10,
   "id": "ba8fad47",
   "metadata": {},
   "outputs": [
    {
     "data": {
      "application/vnd.microsoft.datawrangler.viewer.v0+json": {
       "columns": [
        {
         "name": "index",
         "rawType": "int64",
         "type": "integer"
        },
        {
         "name": "name_station",
         "rawType": "object",
         "type": "string"
        },
        {
         "name": "gauge_code",
         "rawType": "object",
         "type": "string"
        },
        {
         "name": "city",
         "rawType": "object",
         "type": "string"
        },
        {
         "name": "state",
         "rawType": "object",
         "type": "string"
        },
        {
         "name": "responsible",
         "rawType": "object",
         "type": "string"
        },
        {
         "name": "source",
         "rawType": "object",
         "type": "string"
        },
        {
         "name": "state_abbreviation",
         "rawType": "object",
         "type": "string"
        },
        {
         "name": "lat",
         "rawType": "float64",
         "type": "float"
        },
        {
         "name": "long",
         "rawType": "float64",
         "type": "float"
        }
       ],
       "conversionMethod": "pd.DataFrame",
       "ref": "2dcf0bcc-2704-40cb-a9f3-ff8deec46ac9",
       "rows": [
        [
         "18980",
         "SANTA RITA DO PARDO | S716",
         "S716",
         "SANTA RITA DO PARDO",
         "MATO GROSSO DO SUL",
         "INMET",
         "INMET",
         "MS",
         "-21.305889",
         "-52.820375"
        ],
        [
         "18979",
         "RIBAS DO RIO PARDO | S715",
         "S715",
         "RIBAS DO RIO PARDO",
         "MATO GROSSO DO SUL",
         "INMET",
         "INMET",
         "MS",
         "-20.466694",
         "-53.763028"
        ],
        [
         "18978",
         "PEDRO GOMES | S714",
         "S714",
         "PEDRO GOMES",
         "MATO GROSSO DO SUL",
         "INMET",
         "INMET",
         "MS",
         "-18.07277777",
         "-54.54888888"
        ],
        [
         "18976",
         "NOVA ALVORADA DO SUL | S712",
         "S712",
         "NOVA ALVORADA DO SUL",
         "MATO GROSSO DO SUL",
         "INMET",
         "INMET",
         "MS",
         "-21.450972",
         "-54.341972"
        ],
        [
         "18975",
         "LAGUNA CARAPA | S711",
         "S711",
         "LAGUNA CARAPA",
         "MATO GROSSO DO SUL",
         "INMET",
         "INMET",
         "MS",
         "-22.575389",
         "-55.160333"
        ],
        [
         "18974",
         "ITAPORA | S710",
         "S710",
         "ITAPORA",
         "MATO GROSSO DO SUL",
         "INMET",
         "INMET",
         "MS",
         "-22.092833",
         "-54.798833"
        ],
        [
         "18973",
         "IGUATEMI | S709",
         "S709",
         "IGUATEMI",
         "MATO GROSSO DO SUL",
         "INMET",
         "INMET",
         "MS",
         "-23.64444444",
         "-54.57027777"
        ],
        [
         "18968",
         "BONITO | S704",
         "S704",
         "BONITO",
         "MATO GROSSO DO SUL",
         "INMET",
         "INMET",
         "MS",
         "-21.24666666",
         "-56.45055555"
        ],
        [
         "18966",
         "ARAL MOREIRA | S702",
         "S702",
         "ARAL MOREIRA",
         "MATO GROSSO DO SUL",
         "INMET",
         "INMET",
         "MS",
         "-22.955",
         "-55.6261111"
        ],
        [
         "18965",
         "ANGELICA | S701",
         "S701",
         "ANGELICA",
         "MATO GROSSO DO SUL",
         "INMET",
         "INMET",
         "MS",
         "-22.148083",
         "-53.763736"
        ],
        [
         "18964",
         "BELO HORIZONTE - CERCADINHO | F501",
         "F501",
         "BELO HORIZONTE - CERCADINHO",
         "MINAS GERAIS",
         "INMET",
         "INMET",
         "MG",
         "-19.97999999",
         "-43.95861111"
        ],
        [
         "18963",
         "TESTE V3 - Cemaden12",
         "CEMADEN_12",
         "CACHOEIRA PAULISTA",
         "SÃO PAULO",
         "CEMADEN",
         "CEMADEN",
         "SP",
         "-22.67403",
         "-44.99584"
        ],
        [
         "18962",
         "Cachoeira Paulista - Cemaden11 TESTES",
         "CEMADEN_11",
         "CACHOEIRA PAULISTA",
         "SÃO PAULO",
         "CEMADEN",
         "CEMADEN",
         "SP",
         "-22.67408",
         "-44.99575"
        ],
        [
         "18961",
         "Cachoeira Paulista - Cemaden10 - TESTES",
         "CEMADEN_10",
         "CACHOEIRA PAULISTA",
         "SÃO PAULO",
         "CEMADEN",
         "CEMADEN",
         "SP",
         "-22.674132",
         "-44.995534"
        ],
        [
         "18960",
         "PORTO ALEGRE- BELEM NOVO | B807",
         "B807",
         "PORTO ALEGRE- BELEM NOVO",
         "RIO GRANDE DO SUL",
         "INMET",
         "INMET",
         "RS",
         "-30.1861111",
         "-51.17805554"
        ],
        [
         "18959",
         "COLOMBO | B806",
         "B806",
         "COLOMBO",
         "PARANÁ",
         "INMET",
         "INMET",
         "PR",
         "-25.322464",
         "-49.157733"
        ],
        [
         "18958",
         "LARANJEIRAS DO SUL | B804",
         "B804",
         "LARANJEIRAS DO SUL",
         "PARANÁ",
         "INMET",
         "INMET",
         "PR",
         "-25.36888888",
         "-52.39194444"
        ],
        [
         "18957",
         "CAMPINA DA LAGOA | B803",
         "B803",
         "CAMPINA DA LAGOA",
         "PARANÁ",
         "INMET",
         "INMET",
         "PR",
         "-24.57083332",
         "-52.80027777"
        ],
        [
         "18956",
         "ROSARIO OESTE | A944",
         "A944",
         "ROSARIO OESTE",
         "MATO GROSSO",
         "INMET",
         "INMET",
         "MT",
         "-14.82888888",
         "-56.44194444"
        ],
        [
         "18955",
         "SERRA NOVA DOURADA | A943",
         "A943",
         "SERRA NOVA DOURADA",
         "MATO GROSSO",
         "INMET",
         "INMET",
         "MT",
         "-11.98777777",
         "-51.4261111"
        ],
        [
         "18954",
         "SAO JOSE DO XINGU | A942",
         "A942",
         "SAO JOSE DO XINGU",
         "MATO GROSSO",
         "INMET",
         "INMET",
         "MT",
         "-10.48416666",
         "-52.37249999"
        ],
        [
         "18953",
         "ARIQUEMES | A940",
         "A940",
         "ARIQUEMES",
         "RONDÔNIA",
         "INMET",
         "INMET",
         "RO",
         "-9.94888888",
         "-62.96194444"
        ],
        [
         "18952",
         "CACOAL | A939",
         "A939",
         "CACOAL",
         "RONDÔNIA",
         "INMET",
         "INMET",
         "RO",
         "-11.44583333",
         "-61.43416666"
        ],
        [
         "18951",
         "VILHENA | A938",
         "A938",
         "VILHENA",
         "RONDÔNIA",
         "INMET",
         "INMET",
         "RO",
         "-12.73499999",
         "-60.15777777"
        ],
        [
         "18950",
         "PONTES E LACERDA | A937",
         "A937",
         "PONTES E LACERDA",
         "MATO GROSSO",
         "INMET",
         "INMET",
         "MT",
         "-15.23444444",
         "-59.3461111"
        ],
        [
         "18949",
         "SALTO DO CEU | A936",
         "A936",
         "SALTO DO CEU",
         "MATO GROSSO",
         "INMET",
         "INMET",
         "MT",
         "-15.12472221",
         "-58.12722221"
        ],
        [
         "18945",
         "GUIRATINGA | A932",
         "A932",
         "GUIRATINGA",
         "MATO GROSSO",
         "INMET",
         "INMET",
         "MT",
         "-16.34166666",
         "-53.76611111"
        ],
        [
         "18943",
         "GAUCHA DO NORTE | A930",
         "A930",
         "GAUCHA DO NORTE",
         "MATO GROSSO",
         "INMET",
         "INMET",
         "MT",
         "-13.18472221",
         "-53.2575"
        ],
        [
         "18942",
         "NOVA UBIRATA | A929",
         "A929",
         "NOVA UBIRATA",
         "MATO GROSSO",
         "INMET",
         "INMET",
         "MT",
         "-13.41111111",
         "-54.75222222"
        ],
        [
         "18941",
         "NOVA MARINGA | A928",
         "A928",
         "NOVA MARINGA",
         "MATO GROSSO",
         "INMET",
         "INMET",
         "MT",
         "-13.0386111",
         "-57.09222221"
        ],
        [
         "18940",
         "BRASNORTE (NOVO MUNDO) | A927",
         "A927",
         "BRASNORTE (NOVO MUNDO)",
         "MATO GROSSO",
         "INMET",
         "INMET",
         "MT",
         "-12.52194443",
         "-58.23138888"
        ],
        [
         "18938",
         "PORTO VELHO | A925",
         "A925",
         "PORTO VELHO",
         "RONDÔNIA",
         "INMET",
         "INMET",
         "RO",
         "-8.7936111",
         "-63.84583333"
        ],
        [
         "18937",
         "ALTA FLORESTA | A924",
         "A924",
         "ALTA FLORESTA",
         "MATO GROSSO",
         "INMET",
         "INMET",
         "MT",
         "-10.07722221",
         "-56.17916666"
        ],
        [
         "18936",
         "PRIMAVERA DO LESTE | A923",
         "A923",
         "PRIMAVERA DO LESTE",
         "MATO GROSSO",
         "INMET",
         "INMET",
         "MT",
         "-15.57999999",
         "-54.3811111"
        ],
        [
         "18935",
         "VILA BELA DA SANTISSIMA TRINDADE | A922",
         "A922",
         "VILA BELA DA SANTISSIMA TRINDADE",
         "MATO GROSSO",
         "INMET",
         "INMET",
         "MT",
         "-15.06277777",
         "-59.87305554"
        ],
        [
         "18934",
         "SAO FELIX  DO ARAGUAIA | A921",
         "A921",
         "SAO FELIX  DO ARAGUAIA",
         "MATO GROSSO",
         "INMET",
         "INMET",
         "MT",
         "-11.61888888",
         "-50.72777777"
        ],
        [
         "18933",
         "JUINA | A920",
         "A920",
         "JUINA",
         "MATO GROSSO",
         "INMET",
         "INMET",
         "MT",
         "-11.375126",
         "-58.774785"
        ],
        [
         "18932",
         "COTRIGUACU | A919",
         "A919",
         "COTRIGUACU",
         "MATO GROSSO",
         "INMET",
         "INMET",
         "MT",
         "-9.90638888",
         "-58.57222221"
        ],
        [
         "18931",
         "SINOP | A917",
         "A917",
         "SINOP",
         "MATO GROSSO",
         "INMET",
         "INMET",
         "MT",
         "-11.98222221",
         "-55.56611111"
        ],
        [
         "18930",
         "QUERENCIA | A916",
         "A916",
         "QUERENCIA",
         "MATO GROSSO",
         "INMET",
         "INMET",
         "MT",
         "-12.60305555",
         "-52.1625"
        ],
        [
         "18928",
         "JUARA | A914",
         "A914",
         "JUARA",
         "MATO GROSSO",
         "INMET",
         "INMET",
         "MT",
         "-11.28027777",
         "-57.52666666"
        ],
        [
         "18927",
         "COMODORO | A913",
         "A913",
         "COMODORO",
         "MATO GROSSO",
         "INMET",
         "INMET",
         "MT",
         "-13.70805555",
         "-59.7625"
        ],
        [
         "18926",
         "CAMPO VERDE | A912",
         "A912",
         "CAMPO VERDE",
         "MATO GROSSO",
         "INMET",
         "INMET",
         "MT",
         "-15.53138888",
         "-55.13555555"
        ],
        [
         "18925",
         "SAPEZAL | A911",
         "A911",
         "SAPEZAL",
         "MATO GROSSO",
         "INMET",
         "INMET",
         "MT",
         "-13.30388888",
         "-58.76333333"
        ],
        [
         "18924",
         "APIACAS | A910",
         "A910",
         "APIACAS",
         "MATO GROSSO",
         "INMET",
         "INMET",
         "MT",
         "-9.56333333",
         "-57.3936111"
        ],
        [
         "18923",
         "ALTO ARAGUAIA | A909",
         "A909",
         "ALTO ARAGUAIA",
         "MATO GROSSO",
         "INMET",
         "INMET",
         "MT",
         "-17.33944444",
         "-53.22444443"
        ],
        [
         "18922",
         "AGUA BOA | A908",
         "A908",
         "AGUA BOA",
         "MATO GROSSO",
         "INMET",
         "INMET",
         "MT",
         "-14.01638888",
         "-52.21166666"
        ],
        [
         "18921",
         "RONDONOPOLIS | A907",
         "A907",
         "RONDONOPOLIS",
         "MATO GROSSO",
         "INMET",
         "INMET",
         "MT",
         "-16.4625",
         "-54.58027777"
        ],
        [
         "18919",
         "CAMPO NOVO DOS PARECIS | A905",
         "A905",
         "CAMPO NOVO DOS PARECIS",
         "MATO GROSSO",
         "INMET",
         "INMET",
         "MT",
         "-13.78583333",
         "-57.8386111"
        ],
        [
         "18918",
         "SORRISO | A904",
         "A904",
         "SORRISO",
         "MATO GROSSO",
         "INMET",
         "INMET",
         "MT",
         "-12.555",
         "-55.72277777"
        ]
       ],
       "shape": {
        "columns": 9,
        "rows": 17188
       }
      },
      "text/html": [
       "<div>\n",
       "<style scoped>\n",
       "    .dataframe tbody tr th:only-of-type {\n",
       "        vertical-align: middle;\n",
       "    }\n",
       "\n",
       "    .dataframe tbody tr th {\n",
       "        vertical-align: top;\n",
       "    }\n",
       "\n",
       "    .dataframe thead th {\n",
       "        text-align: right;\n",
       "    }\n",
       "</style>\n",
       "<table border=\"1\" class=\"dataframe\">\n",
       "  <thead>\n",
       "    <tr style=\"text-align: right;\">\n",
       "      <th></th>\n",
       "      <th>name_station</th>\n",
       "      <th>gauge_code</th>\n",
       "      <th>city</th>\n",
       "      <th>state</th>\n",
       "      <th>responsible</th>\n",
       "      <th>source</th>\n",
       "      <th>state_abbreviation</th>\n",
       "      <th>lat</th>\n",
       "      <th>long</th>\n",
       "    </tr>\n",
       "  </thead>\n",
       "  <tbody>\n",
       "    <tr>\n",
       "      <th>18980</th>\n",
       "      <td>SANTA RITA DO PARDO | S716</td>\n",
       "      <td>S716</td>\n",
       "      <td>SANTA RITA DO PARDO</td>\n",
       "      <td>MATO GROSSO DO SUL</td>\n",
       "      <td>INMET</td>\n",
       "      <td>INMET</td>\n",
       "      <td>MS</td>\n",
       "      <td>-21.305889</td>\n",
       "      <td>-52.820375</td>\n",
       "    </tr>\n",
       "    <tr>\n",
       "      <th>18979</th>\n",
       "      <td>RIBAS DO RIO PARDO | S715</td>\n",
       "      <td>S715</td>\n",
       "      <td>RIBAS DO RIO PARDO</td>\n",
       "      <td>MATO GROSSO DO SUL</td>\n",
       "      <td>INMET</td>\n",
       "      <td>INMET</td>\n",
       "      <td>MS</td>\n",
       "      <td>-20.466694</td>\n",
       "      <td>-53.763028</td>\n",
       "    </tr>\n",
       "    <tr>\n",
       "      <th>18978</th>\n",
       "      <td>PEDRO GOMES | S714</td>\n",
       "      <td>S714</td>\n",
       "      <td>PEDRO GOMES</td>\n",
       "      <td>MATO GROSSO DO SUL</td>\n",
       "      <td>INMET</td>\n",
       "      <td>INMET</td>\n",
       "      <td>MS</td>\n",
       "      <td>-18.072778</td>\n",
       "      <td>-54.548889</td>\n",
       "    </tr>\n",
       "    <tr>\n",
       "      <th>18976</th>\n",
       "      <td>NOVA ALVORADA DO SUL | S712</td>\n",
       "      <td>S712</td>\n",
       "      <td>NOVA ALVORADA DO SUL</td>\n",
       "      <td>MATO GROSSO DO SUL</td>\n",
       "      <td>INMET</td>\n",
       "      <td>INMET</td>\n",
       "      <td>MS</td>\n",
       "      <td>-21.450972</td>\n",
       "      <td>-54.341972</td>\n",
       "    </tr>\n",
       "    <tr>\n",
       "      <th>18975</th>\n",
       "      <td>LAGUNA CARAPA | S711</td>\n",
       "      <td>S711</td>\n",
       "      <td>LAGUNA CARAPA</td>\n",
       "      <td>MATO GROSSO DO SUL</td>\n",
       "      <td>INMET</td>\n",
       "      <td>INMET</td>\n",
       "      <td>MS</td>\n",
       "      <td>-22.575389</td>\n",
       "      <td>-55.160333</td>\n",
       "    </tr>\n",
       "    <tr>\n",
       "      <th>...</th>\n",
       "      <td>...</td>\n",
       "      <td>...</td>\n",
       "      <td>...</td>\n",
       "      <td>...</td>\n",
       "      <td>...</td>\n",
       "      <td>...</td>\n",
       "      <td>...</td>\n",
       "      <td>...</td>\n",
       "      <td>...</td>\n",
       "    </tr>\n",
       "    <tr>\n",
       "      <th>4</th>\n",
       "      <td>MARUDA</td>\n",
       "      <td>00047005</td>\n",
       "      <td>MARAPANIM</td>\n",
       "      <td>PARÁ</td>\n",
       "      <td>ANA</td>\n",
       "      <td>HIDROWEB</td>\n",
       "      <td>PA</td>\n",
       "      <td>-0.633600</td>\n",
       "      <td>-47.658300</td>\n",
       "    </tr>\n",
       "    <tr>\n",
       "      <th>3</th>\n",
       "      <td>PRIMAVERA</td>\n",
       "      <td>00047004</td>\n",
       "      <td>PRIMAVERA</td>\n",
       "      <td>PARÁ</td>\n",
       "      <td>ANA</td>\n",
       "      <td>HIDROWEB</td>\n",
       "      <td>PA</td>\n",
       "      <td>-0.929400</td>\n",
       "      <td>-47.099400</td>\n",
       "    </tr>\n",
       "    <tr>\n",
       "      <th>2</th>\n",
       "      <td>CURUÇA</td>\n",
       "      <td>00047003</td>\n",
       "      <td>CURUÇA</td>\n",
       "      <td>PARÁ</td>\n",
       "      <td>ANA</td>\n",
       "      <td>HIDROWEB</td>\n",
       "      <td>PA</td>\n",
       "      <td>-0.737500</td>\n",
       "      <td>-47.853600</td>\n",
       "    </tr>\n",
       "    <tr>\n",
       "      <th>1</th>\n",
       "      <td>SALINÓPOLIS</td>\n",
       "      <td>00047002</td>\n",
       "      <td>SALINÓPOLIS</td>\n",
       "      <td>PARÁ</td>\n",
       "      <td>ANA</td>\n",
       "      <td>HIDROWEB</td>\n",
       "      <td>PA</td>\n",
       "      <td>-0.623100</td>\n",
       "      <td>-47.353600</td>\n",
       "    </tr>\n",
       "    <tr>\n",
       "      <th>0</th>\n",
       "      <td>SALINÓPOLIS</td>\n",
       "      <td>00047000</td>\n",
       "      <td>SALINÓPOLIS</td>\n",
       "      <td>PARÁ</td>\n",
       "      <td>INMET</td>\n",
       "      <td>HIDROWEB</td>\n",
       "      <td>PA</td>\n",
       "      <td>-0.650000</td>\n",
       "      <td>-47.550000</td>\n",
       "    </tr>\n",
       "  </tbody>\n",
       "</table>\n",
       "<p>17188 rows × 9 columns</p>\n",
       "</div>"
      ],
      "text/plain": [
       "                      name_station gauge_code                  city  \\\n",
       "18980   SANTA RITA DO PARDO | S716       S716   SANTA RITA DO PARDO   \n",
       "18979    RIBAS DO RIO PARDO | S715       S715    RIBAS DO RIO PARDO   \n",
       "18978           PEDRO GOMES | S714       S714           PEDRO GOMES   \n",
       "18976  NOVA ALVORADA DO SUL | S712       S712  NOVA ALVORADA DO SUL   \n",
       "18975         LAGUNA CARAPA | S711       S711         LAGUNA CARAPA   \n",
       "...                            ...        ...                   ...   \n",
       "4                           MARUDA   00047005             MARAPANIM   \n",
       "3                        PRIMAVERA   00047004             PRIMAVERA   \n",
       "2                           CURUÇA   00047003                CURUÇA   \n",
       "1                      SALINÓPOLIS   00047002           SALINÓPOLIS   \n",
       "0                      SALINÓPOLIS   00047000           SALINÓPOLIS   \n",
       "\n",
       "                    state responsible    source state_abbreviation        lat  \\\n",
       "18980  MATO GROSSO DO SUL       INMET     INMET                 MS -21.305889   \n",
       "18979  MATO GROSSO DO SUL       INMET     INMET                 MS -20.466694   \n",
       "18978  MATO GROSSO DO SUL       INMET     INMET                 MS -18.072778   \n",
       "18976  MATO GROSSO DO SUL       INMET     INMET                 MS -21.450972   \n",
       "18975  MATO GROSSO DO SUL       INMET     INMET                 MS -22.575389   \n",
       "...                   ...         ...       ...                ...        ...   \n",
       "4                    PARÁ         ANA  HIDROWEB                 PA  -0.633600   \n",
       "3                    PARÁ         ANA  HIDROWEB                 PA  -0.929400   \n",
       "2                    PARÁ         ANA  HIDROWEB                 PA  -0.737500   \n",
       "1                    PARÁ         ANA  HIDROWEB                 PA  -0.623100   \n",
       "0                    PARÁ       INMET  HIDROWEB                 PA  -0.650000   \n",
       "\n",
       "            long  \n",
       "18980 -52.820375  \n",
       "18979 -53.763028  \n",
       "18978 -54.548889  \n",
       "18976 -54.341972  \n",
       "18975 -55.160333  \n",
       "...          ...  \n",
       "4     -47.658300  \n",
       "3     -47.099400  \n",
       "2     -47.853600  \n",
       "1     -47.353600  \n",
       "0     -47.550000  \n",
       "\n",
       "[17188 rows x 9 columns]"
      ]
     },
     "execution_count": 10,
     "metadata": {},
     "output_type": "execute_result"
    }
   ],
   "source": [
    "df_info = pd.read_hdf(file_path, key='table_info')\n",
    "df_info"
   ]
  },
  {
   "cell_type": "code",
   "execution_count": 14,
   "id": "4e27df67-0f19-480f-b14b-835b8f4fa636",
   "metadata": {},
   "outputs": [
    {
     "name": "stdout",
     "output_type": "stream",
     "text": [
      "Max lat: 4.6428, Min lat: -33.74222221\n",
      "Max long: -32.4167, Min long: -73.6522\n"
     ]
    }
   ],
   "source": [
    "# Assuming df_info is your DataFrame containing the specified columns\n",
    "\n",
    "# Get the maximum and minimum values from 'lat' and 'long'\n",
    "max_lat = df_info['lat'].max()\n",
    "min_lat = df_info['lat'].min()\n",
    "max_long = df_info['long'].max()\n",
    "min_long = df_info['long'].min()\n",
    "\n",
    "# Display the results\n",
    "print(f\"Max lat: {max_lat}, Min lat: {min_lat}\")\n",
    "print(f\"Max long: {max_long}, Min long: {min_long}\")\n"
   ]
  },
  {
   "cell_type": "code",
   "execution_count": 15,
   "id": "468297b3-9d28-4cc2-9d1c-042729bfd9e9",
   "metadata": {},
   "outputs": [
    {
     "name": "stdout",
     "output_type": "stream",
     "text": [
      "Rounded Max lat: 7.125\n",
      "Rounded Min lat: -36.375\n",
      "Rounded Max long: -29.875\n",
      "Rounded Min long: -76.375\n"
     ]
    }
   ],
   "source": [
    "# Round up the maximum lat by 0.25\n",
    "rounded_max_lat = math.ceil(max_lat / 0.25) * 0.25\n",
    "\n",
    "# Round down the minimum lat by 0.25\n",
    "rounded_min_lat = math.floor(min_lat / 0.25) * 0.25\n",
    "\n",
    "# Round the values again\n",
    "rounded_max_lat = round(rounded_max_lat, 2) + 2.5 - 0.25/2\n",
    "rounded_min_lat = round(rounded_min_lat, 2) - 2.5 - 0.25/2\n",
    "\n",
    "# Display the rounded values\n",
    "print(f\"Rounded Max lat: {rounded_max_lat}\")\n",
    "print(f\"Rounded Min lat: {rounded_min_lat}\")\n",
    "\n",
    "# Round up the maximum long by 0.25\n",
    "rounded_max_long = math.ceil(max_long / 0.25) * 0.25\n",
    "\n",
    "# Round down the minimum long by 0.25\n",
    "rounded_min_long = math.floor(min_long / 0.25) * 0.25\n",
    "\n",
    "# Round the values again\n",
    "rounded_max_long = round(rounded_max_long, 2) + 2.5 - 0.25/2 # centro do pixel\n",
    "rounded_min_long = round(rounded_min_long, 2) - 2.5 - 0.25/2\n",
    "\n",
    "# Display the rounded values\n",
    "print(f\"Rounded Max long: {rounded_max_long}\")\n",
    "print(f\"Rounded Min long: {rounded_min_long}\")"
   ]
  },
  {
   "cell_type": "code",
   "execution_count": 21,
   "id": "f9d3681f-a9f8-4d46-9f7d-60d886e5024c",
   "metadata": {},
   "outputs": [
    {
     "data": {
      "application/vnd.microsoft.datawrangler.viewer.v0+json": {
       "columns": [
        {
         "name": "index",
         "rawType": "int64",
         "type": "integer"
        },
        {
         "name": "lat",
         "rawType": "float64",
         "type": "float"
        },
        {
         "name": "long",
         "rawType": "float64",
         "type": "float"
        }
       ],
       "conversionMethod": "pd.DataFrame",
       "ref": "4d011303-c3cb-4dc4-b96d-214ffd34c47b",
       "rows": [
        [
         "0",
         "-36.375",
         "-76.375"
        ],
        [
         "1",
         "-36.375",
         "-76.125"
        ],
        [
         "2",
         "-36.375",
         "-75.875"
        ],
        [
         "3",
         "-36.375",
         "-75.625"
        ],
        [
         "4",
         "-36.375",
         "-75.375"
        ],
        [
         "5",
         "-36.375",
         "-75.125"
        ],
        [
         "6",
         "-36.375",
         "-74.875"
        ],
        [
         "7",
         "-36.375",
         "-74.625"
        ],
        [
         "8",
         "-36.375",
         "-74.375"
        ],
        [
         "9",
         "-36.375",
         "-74.125"
        ],
        [
         "10",
         "-36.375",
         "-73.875"
        ],
        [
         "11",
         "-36.375",
         "-73.625"
        ],
        [
         "12",
         "-36.375",
         "-73.375"
        ],
        [
         "13",
         "-36.375",
         "-73.125"
        ],
        [
         "14",
         "-36.375",
         "-72.875"
        ],
        [
         "15",
         "-36.375",
         "-72.625"
        ],
        [
         "16",
         "-36.375",
         "-72.375"
        ],
        [
         "17",
         "-36.375",
         "-72.125"
        ],
        [
         "18",
         "-36.375",
         "-71.875"
        ],
        [
         "19",
         "-36.375",
         "-71.625"
        ],
        [
         "20",
         "-36.375",
         "-71.375"
        ],
        [
         "21",
         "-36.375",
         "-71.125"
        ],
        [
         "22",
         "-36.375",
         "-70.875"
        ],
        [
         "23",
         "-36.375",
         "-70.625"
        ],
        [
         "24",
         "-36.375",
         "-70.375"
        ],
        [
         "25",
         "-36.375",
         "-70.125"
        ],
        [
         "26",
         "-36.375",
         "-69.875"
        ],
        [
         "27",
         "-36.375",
         "-69.625"
        ],
        [
         "28",
         "-36.375",
         "-69.375"
        ],
        [
         "29",
         "-36.375",
         "-69.125"
        ],
        [
         "30",
         "-36.375",
         "-68.875"
        ],
        [
         "31",
         "-36.375",
         "-68.625"
        ],
        [
         "32",
         "-36.375",
         "-68.375"
        ],
        [
         "33",
         "-36.375",
         "-68.125"
        ],
        [
         "34",
         "-36.375",
         "-67.875"
        ],
        [
         "35",
         "-36.375",
         "-67.625"
        ],
        [
         "36",
         "-36.375",
         "-67.375"
        ],
        [
         "37",
         "-36.375",
         "-67.125"
        ],
        [
         "38",
         "-36.375",
         "-66.875"
        ],
        [
         "39",
         "-36.375",
         "-66.625"
        ],
        [
         "40",
         "-36.375",
         "-66.375"
        ],
        [
         "41",
         "-36.375",
         "-66.125"
        ],
        [
         "42",
         "-36.375",
         "-65.875"
        ],
        [
         "43",
         "-36.375",
         "-65.625"
        ],
        [
         "44",
         "-36.375",
         "-65.375"
        ],
        [
         "45",
         "-36.375",
         "-65.125"
        ],
        [
         "46",
         "-36.375",
         "-64.875"
        ],
        [
         "47",
         "-36.375",
         "-64.625"
        ],
        [
         "48",
         "-36.375",
         "-64.375"
        ],
        [
         "49",
         "-36.375",
         "-64.125"
        ]
       ],
       "shape": {
        "columns": 2,
        "rows": 32725
       }
      },
      "text/html": [
       "<div>\n",
       "<style scoped>\n",
       "    .dataframe tbody tr th:only-of-type {\n",
       "        vertical-align: middle;\n",
       "    }\n",
       "\n",
       "    .dataframe tbody tr th {\n",
       "        vertical-align: top;\n",
       "    }\n",
       "\n",
       "    .dataframe thead th {\n",
       "        text-align: right;\n",
       "    }\n",
       "</style>\n",
       "<table border=\"1\" class=\"dataframe\">\n",
       "  <thead>\n",
       "    <tr style=\"text-align: right;\">\n",
       "      <th></th>\n",
       "      <th>lat</th>\n",
       "      <th>long</th>\n",
       "    </tr>\n",
       "  </thead>\n",
       "  <tbody>\n",
       "    <tr>\n",
       "      <th>0</th>\n",
       "      <td>-36.375</td>\n",
       "      <td>-76.375</td>\n",
       "    </tr>\n",
       "    <tr>\n",
       "      <th>1</th>\n",
       "      <td>-36.375</td>\n",
       "      <td>-76.125</td>\n",
       "    </tr>\n",
       "    <tr>\n",
       "      <th>2</th>\n",
       "      <td>-36.375</td>\n",
       "      <td>-75.875</td>\n",
       "    </tr>\n",
       "    <tr>\n",
       "      <th>3</th>\n",
       "      <td>-36.375</td>\n",
       "      <td>-75.625</td>\n",
       "    </tr>\n",
       "    <tr>\n",
       "      <th>4</th>\n",
       "      <td>-36.375</td>\n",
       "      <td>-75.375</td>\n",
       "    </tr>\n",
       "    <tr>\n",
       "      <th>...</th>\n",
       "      <td>...</td>\n",
       "      <td>...</td>\n",
       "    </tr>\n",
       "    <tr>\n",
       "      <th>32720</th>\n",
       "      <td>7.125</td>\n",
       "      <td>-30.875</td>\n",
       "    </tr>\n",
       "    <tr>\n",
       "      <th>32721</th>\n",
       "      <td>7.125</td>\n",
       "      <td>-30.625</td>\n",
       "    </tr>\n",
       "    <tr>\n",
       "      <th>32722</th>\n",
       "      <td>7.125</td>\n",
       "      <td>-30.375</td>\n",
       "    </tr>\n",
       "    <tr>\n",
       "      <th>32723</th>\n",
       "      <td>7.125</td>\n",
       "      <td>-30.125</td>\n",
       "    </tr>\n",
       "    <tr>\n",
       "      <th>32724</th>\n",
       "      <td>7.125</td>\n",
       "      <td>-29.875</td>\n",
       "    </tr>\n",
       "  </tbody>\n",
       "</table>\n",
       "<p>32725 rows × 2 columns</p>\n",
       "</div>"
      ],
      "text/plain": [
       "          lat    long\n",
       "0     -36.375 -76.375\n",
       "1     -36.375 -76.125\n",
       "2     -36.375 -75.875\n",
       "3     -36.375 -75.625\n",
       "4     -36.375 -75.375\n",
       "...       ...     ...\n",
       "32720   7.125 -30.875\n",
       "32721   7.125 -30.625\n",
       "32722   7.125 -30.375\n",
       "32723   7.125 -30.125\n",
       "32724   7.125 -29.875\n",
       "\n",
       "[32725 rows x 2 columns]"
      ]
     },
     "execution_count": 21,
     "metadata": {},
     "output_type": "execute_result"
    }
   ],
   "source": [
    "# Generate lists of lats and longs within the specified ranges\n",
    "# Initialize an empty list to store the lats\n",
    "lats = []\n",
    "\n",
    "# Start with the minimum lat\n",
    "current_lat = rounded_min_lat\n",
    "\n",
    "# Increment by 0.25 until reaching the maximum lat\n",
    "while current_lat <= rounded_max_lat:\n",
    "    lats.append(round(current_lat, 3))  # Round to 3 decimal places\n",
    "    current_lat += 0.25\n",
    "    \n",
    "longs = []\n",
    "\n",
    "# Start with the minimum long\n",
    "current_lon = rounded_min_long\n",
    "\n",
    "# Increment by 0.25 until reaching the maximum long\n",
    "while current_lon <= rounded_max_long:\n",
    "    longs.append(round(current_lon, 3))  # Round to 3 decimal places\n",
    "    current_lon += 0.25\n",
    "    \n",
    "# Create all possible combinations of lats and longs using itertools\n",
    "all_combinations = list(itertools.product(lats, longs))\n",
    "\n",
    "# Create a DataFrame from the combinations\n",
    "df_coords = pd.DataFrame(all_combinations, columns=['lat', 'long'])\n",
    "df_coords"
   ]
  },
  {
   "cell_type": "code",
   "execution_count": 19,
   "id": "c4b803f4",
   "metadata": {},
   "outputs": [
    {
     "name": "stderr",
     "output_type": "stream",
     "text": [
      "C:\\Users\\linde\\AppData\\Local\\Temp\\ipykernel_27272\\3704933330.py:5: FutureWarning: A value is trying to be set on a copy of a DataFrame or Series through chained assignment using an inplace method.\n",
      "The behavior will change in pandas 3.0. This inplace method will never work because the intermediate object on which we are setting values always behaves as a copy.\n",
      "\n",
      "For example, when doing 'df[col].method(value, inplace=True)', try using 'df.method({col: value}, inplace=True)' or df[col] = df[col].method(value) instead, to perform the operation inplace on the original object.\n",
      "\n",
      "\n",
      "  br_map['name_state'].replace({'AMAZÔNAS': 'AMAZONAS'}, inplace = True)\n"
     ]
    },
    {
     "ename": "AttributeError",
     "evalue": "'NoneType' object has no attribute 'copy'",
     "output_type": "error",
     "traceback": [
      "\u001b[1;31m---------------------------------------------------------------------------\u001b[0m",
      "\u001b[1;31mAttributeError\u001b[0m                            Traceback (most recent call last)",
      "File \u001b[1;32mc:\\ProgramData\\anaconda3\\Lib\\site-packages\\IPython\\core\\formatters.py:343\u001b[0m, in \u001b[0;36mBaseFormatter.__call__\u001b[1;34m(self, obj)\u001b[0m\n\u001b[0;32m    341\u001b[0m     \u001b[38;5;28;01mpass\u001b[39;00m\n\u001b[0;32m    342\u001b[0m \u001b[38;5;28;01melse\u001b[39;00m:\n\u001b[1;32m--> 343\u001b[0m     \u001b[38;5;28;01mreturn\u001b[39;00m printer(obj)\n\u001b[0;32m    344\u001b[0m \u001b[38;5;66;03m# Finally look for special method names\u001b[39;00m\n\u001b[0;32m    345\u001b[0m method \u001b[38;5;241m=\u001b[39m get_real_method(obj, \u001b[38;5;28mself\u001b[39m\u001b[38;5;241m.\u001b[39mprint_method)\n",
      "Cell \u001b[1;32mIn[1], line 227\u001b[0m, in \u001b[0;36m__DW_OUTPUT_FORMATTER__.<locals>.DataWrangler.formatter\u001b[1;34m(cls, var, **kwargs)\u001b[0m\n\u001b[0;32m    225\u001b[0m \u001b[38;5;129m@classmethod\u001b[39m\n\u001b[0;32m    226\u001b[0m \u001b[38;5;28;01mdef\u001b[39;00m \u001b[38;5;21mformatter\u001b[39m(\u001b[38;5;28mcls\u001b[39m, var, \u001b[38;5;241m*\u001b[39m\u001b[38;5;241m*\u001b[39mkwargs):\n\u001b[1;32m--> 227\u001b[0m     s \u001b[38;5;241m=\u001b[39m \u001b[38;5;28mcls\u001b[39m(var, \u001b[38;5;241m*\u001b[39m\u001b[38;5;241m*\u001b[39mkwargs)\n\u001b[0;32m    228\u001b[0m     \u001b[38;5;28;01mreturn\u001b[39;00m s\u001b[38;5;241m.\u001b[39m_repr_dw_()\n",
      "Cell \u001b[1;32mIn[1], line 221\u001b[0m, in \u001b[0;36m__DW_OUTPUT_FORMATTER__.<locals>.DataWrangler.__init__\u001b[1;34m(self, expr_val)\u001b[0m\n\u001b[0;32m    218\u001b[0m \u001b[38;5;28mself\u001b[39m\u001b[38;5;241m.\u001b[39mid \u001b[38;5;241m=\u001b[39m \u001b[38;5;28mstr\u001b[39m(uuid\u001b[38;5;241m.\u001b[39muuid4())\n\u001b[0;32m    219\u001b[0m pandas_df, conversion_method \u001b[38;5;241m=\u001b[39m api[\u001b[38;5;124m\"\u001b[39m\u001b[38;5;124mpandas_transport\u001b[39m\u001b[38;5;124m\"\u001b[39m][\u001b[38;5;124m\"\u001b[39m\u001b[38;5;124mconvert_to_pandas\u001b[39m\u001b[38;5;124m\"\u001b[39m](expr_val)\n\u001b[0;32m    220\u001b[0m tmp_vars[\u001b[38;5;28mself\u001b[39m\u001b[38;5;241m.\u001b[39mid] \u001b[38;5;241m=\u001b[39m {\n\u001b[1;32m--> 221\u001b[0m     \u001b[38;5;124m\"\u001b[39m\u001b[38;5;124mconverted\u001b[39m\u001b[38;5;124m\"\u001b[39m: pandas_df\u001b[38;5;241m.\u001b[39mcopy(deep\u001b[38;5;241m=\u001b[39m\u001b[38;5;28;01mFalse\u001b[39;00m), \u001b[38;5;66;03m# create a shallow copy in case a displayed object is mutated in the same cell\u001b[39;00m\n\u001b[0;32m    222\u001b[0m     \u001b[38;5;124m\"\u001b[39m\u001b[38;5;124mconversion_method\u001b[39m\u001b[38;5;124m\"\u001b[39m: conversion_method\n\u001b[0;32m    223\u001b[0m }\n",
      "\u001b[1;31mAttributeError\u001b[0m: 'NoneType' object has no attribute 'copy'"
     ]
    },
    {
     "data": {
      "text/html": [
       "<div>\n",
       "<style scoped>\n",
       "    .dataframe tbody tr th:only-of-type {\n",
       "        vertical-align: middle;\n",
       "    }\n",
       "\n",
       "    .dataframe tbody tr th {\n",
       "        vertical-align: top;\n",
       "    }\n",
       "\n",
       "    .dataframe thead th {\n",
       "        text-align: right;\n",
       "    }\n",
       "</style>\n",
       "<table border=\"1\" class=\"dataframe\">\n",
       "  <thead>\n",
       "    <tr style=\"text-align: right;\">\n",
       "      <th></th>\n",
       "      <th>code_state</th>\n",
       "      <th>abbrev_state</th>\n",
       "      <th>name_state</th>\n",
       "      <th>code_region</th>\n",
       "      <th>name_region</th>\n",
       "      <th>geometry</th>\n",
       "    </tr>\n",
       "  </thead>\n",
       "  <tbody>\n",
       "    <tr>\n",
       "      <th>1</th>\n",
       "      <td>12.0</td>\n",
       "      <td>AC</td>\n",
       "      <td>ACRE</td>\n",
       "      <td>1.0</td>\n",
       "      <td>Norte</td>\n",
       "      <td>MULTIPOLYGON (((-71.07772 -9.82774, -71.07817 ...</td>\n",
       "    </tr>\n",
       "    <tr>\n",
       "      <th>13</th>\n",
       "      <td>27.0</td>\n",
       "      <td>AL</td>\n",
       "      <td>ALAGOAS</td>\n",
       "      <td>2.0</td>\n",
       "      <td>Nordeste</td>\n",
       "      <td>MULTIPOLYGON (((-35.75791 -9.69285, -35.75801 ...</td>\n",
       "    </tr>\n",
       "    <tr>\n",
       "      <th>5</th>\n",
       "      <td>16.0</td>\n",
       "      <td>AP</td>\n",
       "      <td>AMAPÁ</td>\n",
       "      <td>1.0</td>\n",
       "      <td>Norte</td>\n",
       "      <td>MULTIPOLYGON (((-50.45011 2.10924, -50.44715 2...</td>\n",
       "    </tr>\n",
       "    <tr>\n",
       "      <th>2</th>\n",
       "      <td>13.0</td>\n",
       "      <td>AM</td>\n",
       "      <td>AMAZONAS</td>\n",
       "      <td>1.0</td>\n",
       "      <td>Norte</td>\n",
       "      <td>MULTIPOLYGON (((-69.83766 -3.68659, -69.82555 ...</td>\n",
       "    </tr>\n",
       "    <tr>\n",
       "      <th>15</th>\n",
       "      <td>29.0</td>\n",
       "      <td>BA</td>\n",
       "      <td>BAHIA</td>\n",
       "      <td>2.0</td>\n",
       "      <td>Nordeste</td>\n",
       "      <td>MULTIPOLYGON (((-38.69616 -17.97901, -38.69618...</td>\n",
       "    </tr>\n",
       "  </tbody>\n",
       "</table>\n",
       "</div>"
      ],
      "text/plain": [
       "    code_state abbrev_state name_state  code_region name_region  \\\n",
       "1         12.0           AC       ACRE          1.0       Norte   \n",
       "13        27.0           AL    ALAGOAS          2.0    Nordeste   \n",
       "5         16.0           AP      AMAPÁ          1.0       Norte   \n",
       "2         13.0           AM   AMAZONAS          1.0       Norte   \n",
       "15        29.0           BA      BAHIA          2.0    Nordeste   \n",
       "\n",
       "                                             geometry  \n",
       "1   MULTIPOLYGON (((-71.07772 -9.82774, -71.07817 ...  \n",
       "13  MULTIPOLYGON (((-35.75791 -9.69285, -35.75801 ...  \n",
       "5   MULTIPOLYGON (((-50.45011 2.10924, -50.44715 2...  \n",
       "2   MULTIPOLYGON (((-69.83766 -3.68659, -69.82555 ...  \n",
       "15  MULTIPOLYGON (((-38.69616 -17.97901, -38.69618...  "
      ]
     },
     "execution_count": 19,
     "metadata": {},
     "output_type": "execute_result"
    }
   ],
   "source": [
    "br_map = geobr.read_state(year=2020)\n",
    "br_map.crs = \"EPSG:4326\"\n",
    "br_map['name_state'] = br_map['name_state'].apply(str.upper)\n",
    "br_map = br_map.sort_values(by = ['name_state'])\n",
    "br_map['name_state'].replace({'AMAZÔNAS': 'AMAZONAS'}, inplace = True)\n",
    "br_map.head(5)"
   ]
  },
  {
   "cell_type": "code",
   "execution_count": 22,
   "id": "48afaf4e-e4ba-4206-8f5d-fb3f7cbd599f",
   "metadata": {},
   "outputs": [
    {
     "data": {
      "application/vnd.microsoft.datawrangler.viewer.v0+json": {
       "columns": [
        {
         "name": "index",
         "rawType": "int64",
         "type": "integer"
        },
        {
         "name": "lat",
         "rawType": "float64",
         "type": "float"
        },
        {
         "name": "long",
         "rawType": "float64",
         "type": "float"
        },
        {
         "name": "Inside_Boundary",
         "rawType": "bool",
         "type": "boolean"
        }
       ],
       "conversionMethod": "pd.DataFrame",
       "ref": "fe6527e4-43a1-4bd1-85a6-6c39951b154c",
       "rows": [
        [
         "0",
         "-36.375",
         "-76.375",
         "False"
        ],
        [
         "1",
         "-36.375",
         "-76.125",
         "False"
        ],
        [
         "2",
         "-36.375",
         "-75.875",
         "False"
        ],
        [
         "3",
         "-36.375",
         "-75.625",
         "False"
        ],
        [
         "4",
         "-36.375",
         "-75.375",
         "False"
        ],
        [
         "5",
         "-36.375",
         "-75.125",
         "False"
        ],
        [
         "6",
         "-36.375",
         "-74.875",
         "False"
        ],
        [
         "7",
         "-36.375",
         "-74.625",
         "False"
        ],
        [
         "8",
         "-36.375",
         "-74.375",
         "False"
        ],
        [
         "9",
         "-36.375",
         "-74.125",
         "False"
        ],
        [
         "10",
         "-36.375",
         "-73.875",
         "False"
        ],
        [
         "11",
         "-36.375",
         "-73.625",
         "False"
        ],
        [
         "12",
         "-36.375",
         "-73.375",
         "False"
        ],
        [
         "13",
         "-36.375",
         "-73.125",
         "False"
        ],
        [
         "14",
         "-36.375",
         "-72.875",
         "False"
        ],
        [
         "15",
         "-36.375",
         "-72.625",
         "False"
        ],
        [
         "16",
         "-36.375",
         "-72.375",
         "False"
        ],
        [
         "17",
         "-36.375",
         "-72.125",
         "False"
        ],
        [
         "18",
         "-36.375",
         "-71.875",
         "False"
        ],
        [
         "19",
         "-36.375",
         "-71.625",
         "False"
        ],
        [
         "20",
         "-36.375",
         "-71.375",
         "False"
        ],
        [
         "21",
         "-36.375",
         "-71.125",
         "False"
        ],
        [
         "22",
         "-36.375",
         "-70.875",
         "False"
        ],
        [
         "23",
         "-36.375",
         "-70.625",
         "False"
        ],
        [
         "24",
         "-36.375",
         "-70.375",
         "False"
        ],
        [
         "25",
         "-36.375",
         "-70.125",
         "False"
        ],
        [
         "26",
         "-36.375",
         "-69.875",
         "False"
        ],
        [
         "27",
         "-36.375",
         "-69.625",
         "False"
        ],
        [
         "28",
         "-36.375",
         "-69.375",
         "False"
        ],
        [
         "29",
         "-36.375",
         "-69.125",
         "False"
        ],
        [
         "30",
         "-36.375",
         "-68.875",
         "False"
        ],
        [
         "31",
         "-36.375",
         "-68.625",
         "False"
        ],
        [
         "32",
         "-36.375",
         "-68.375",
         "False"
        ],
        [
         "33",
         "-36.375",
         "-68.125",
         "False"
        ],
        [
         "34",
         "-36.375",
         "-67.875",
         "False"
        ],
        [
         "35",
         "-36.375",
         "-67.625",
         "False"
        ],
        [
         "36",
         "-36.375",
         "-67.375",
         "False"
        ],
        [
         "37",
         "-36.375",
         "-67.125",
         "False"
        ],
        [
         "38",
         "-36.375",
         "-66.875",
         "False"
        ],
        [
         "39",
         "-36.375",
         "-66.625",
         "False"
        ],
        [
         "40",
         "-36.375",
         "-66.375",
         "False"
        ],
        [
         "41",
         "-36.375",
         "-66.125",
         "False"
        ],
        [
         "42",
         "-36.375",
         "-65.875",
         "False"
        ],
        [
         "43",
         "-36.375",
         "-65.625",
         "False"
        ],
        [
         "44",
         "-36.375",
         "-65.375",
         "False"
        ],
        [
         "45",
         "-36.375",
         "-65.125",
         "False"
        ],
        [
         "46",
         "-36.375",
         "-64.875",
         "False"
        ],
        [
         "47",
         "-36.375",
         "-64.625",
         "False"
        ],
        [
         "48",
         "-36.375",
         "-64.375",
         "False"
        ],
        [
         "49",
         "-36.375",
         "-64.125",
         "False"
        ]
       ],
       "shape": {
        "columns": 3,
        "rows": 32725
       }
      },
      "text/html": [
       "<div>\n",
       "<style scoped>\n",
       "    .dataframe tbody tr th:only-of-type {\n",
       "        vertical-align: middle;\n",
       "    }\n",
       "\n",
       "    .dataframe tbody tr th {\n",
       "        vertical-align: top;\n",
       "    }\n",
       "\n",
       "    .dataframe thead th {\n",
       "        text-align: right;\n",
       "    }\n",
       "</style>\n",
       "<table border=\"1\" class=\"dataframe\">\n",
       "  <thead>\n",
       "    <tr style=\"text-align: right;\">\n",
       "      <th></th>\n",
       "      <th>lat</th>\n",
       "      <th>long</th>\n",
       "      <th>Inside_Boundary</th>\n",
       "    </tr>\n",
       "  </thead>\n",
       "  <tbody>\n",
       "    <tr>\n",
       "      <th>0</th>\n",
       "      <td>-36.375</td>\n",
       "      <td>-76.375</td>\n",
       "      <td>False</td>\n",
       "    </tr>\n",
       "    <tr>\n",
       "      <th>1</th>\n",
       "      <td>-36.375</td>\n",
       "      <td>-76.125</td>\n",
       "      <td>False</td>\n",
       "    </tr>\n",
       "    <tr>\n",
       "      <th>2</th>\n",
       "      <td>-36.375</td>\n",
       "      <td>-75.875</td>\n",
       "      <td>False</td>\n",
       "    </tr>\n",
       "    <tr>\n",
       "      <th>3</th>\n",
       "      <td>-36.375</td>\n",
       "      <td>-75.625</td>\n",
       "      <td>False</td>\n",
       "    </tr>\n",
       "    <tr>\n",
       "      <th>4</th>\n",
       "      <td>-36.375</td>\n",
       "      <td>-75.375</td>\n",
       "      <td>False</td>\n",
       "    </tr>\n",
       "    <tr>\n",
       "      <th>...</th>\n",
       "      <td>...</td>\n",
       "      <td>...</td>\n",
       "      <td>...</td>\n",
       "    </tr>\n",
       "    <tr>\n",
       "      <th>32720</th>\n",
       "      <td>7.125</td>\n",
       "      <td>-30.875</td>\n",
       "      <td>False</td>\n",
       "    </tr>\n",
       "    <tr>\n",
       "      <th>32721</th>\n",
       "      <td>7.125</td>\n",
       "      <td>-30.625</td>\n",
       "      <td>False</td>\n",
       "    </tr>\n",
       "    <tr>\n",
       "      <th>32722</th>\n",
       "      <td>7.125</td>\n",
       "      <td>-30.375</td>\n",
       "      <td>False</td>\n",
       "    </tr>\n",
       "    <tr>\n",
       "      <th>32723</th>\n",
       "      <td>7.125</td>\n",
       "      <td>-30.125</td>\n",
       "      <td>False</td>\n",
       "    </tr>\n",
       "    <tr>\n",
       "      <th>32724</th>\n",
       "      <td>7.125</td>\n",
       "      <td>-29.875</td>\n",
       "      <td>False</td>\n",
       "    </tr>\n",
       "  </tbody>\n",
       "</table>\n",
       "<p>32725 rows × 3 columns</p>\n",
       "</div>"
      ],
      "text/plain": [
       "          lat    long  Inside_Boundary\n",
       "0     -36.375 -76.375            False\n",
       "1     -36.375 -76.125            False\n",
       "2     -36.375 -75.875            False\n",
       "3     -36.375 -75.625            False\n",
       "4     -36.375 -75.375            False\n",
       "...       ...     ...              ...\n",
       "32720   7.125 -30.875            False\n",
       "32721   7.125 -30.625            False\n",
       "32722   7.125 -30.375            False\n",
       "32723   7.125 -30.125            False\n",
       "32724   7.125 -29.875            False\n",
       "\n",
       "[32725 rows x 3 columns]"
      ]
     },
     "execution_count": 22,
     "metadata": {},
     "output_type": "execute_result"
    }
   ],
   "source": [
    "def check_containment(row):\n",
    "    point = Point(row['long'], row['lat'])  # Create Point object\n",
    "    for idx, geometry in br_map['geometry'].items():\n",
    "        if geometry.contains(point):\n",
    "            return True  # If any geometry contains the point, return True\n",
    "    return False  # If no geometry contains the point, return False\n",
    "\n",
    "# Apply the function to each row and create a new column 'Inside_Boundary'\n",
    "df_coords['Inside_Boundary'] = df_coords.apply(check_containment, axis=1)\n",
    "df_coords = df_coords[df_coords['Inside_Boundary'] == True]\n",
    "df_coords = df_coords.reset_index(drop = True)\n",
    "df_coords"
   ]
  },
  {
   "cell_type": "code",
   "execution_count": 23,
   "id": "a92b84d1-1d41-4dff-b474-5ffb9854c0cd",
   "metadata": {},
   "outputs": [
    {
     "data": {
      "application/vnd.microsoft.datawrangler.viewer.v0+json": {
       "columns": [
        {
         "name": "index",
         "rawType": "int64",
         "type": "integer"
        },
        {
         "name": "lat",
         "rawType": "float64",
         "type": "float"
        },
        {
         "name": "long",
         "rawType": "float64",
         "type": "float"
        },
        {
         "name": "Inside_Boundary",
         "rawType": "bool",
         "type": "boolean"
        }
       ],
       "conversionMethod": "pd.DataFrame",
       "ref": "93afbd5e-3922-44fa-a251-b4a89811cddc",
       "rows": [
        [
         "0",
         "-33.625",
         "-53.375",
         "True"
        ],
        [
         "1",
         "-33.375",
         "-53.375",
         "True"
        ],
        [
         "2",
         "-33.375",
         "-53.125",
         "True"
        ],
        [
         "3",
         "-33.125",
         "-53.125",
         "True"
        ],
        [
         "4",
         "-33.125",
         "-52.875",
         "True"
        ],
        [
         "5",
         "-32.875",
         "-53.125",
         "True"
        ],
        [
         "6",
         "-32.875",
         "-52.625",
         "True"
        ],
        [
         "7",
         "-32.625",
         "-53.125",
         "True"
        ],
        [
         "8",
         "-32.375",
         "-53.625",
         "True"
        ],
        [
         "9",
         "-32.375",
         "-53.375",
         "True"
        ],
        [
         "10",
         "-32.375",
         "-53.125",
         "True"
        ],
        [
         "11",
         "-32.375",
         "-52.875",
         "True"
        ],
        [
         "12",
         "-32.375",
         "-52.625",
         "True"
        ],
        [
         "13",
         "-32.375",
         "-52.375",
         "True"
        ],
        [
         "14",
         "-32.125",
         "-53.625",
         "True"
        ],
        [
         "15",
         "-32.125",
         "-53.375",
         "True"
        ],
        [
         "16",
         "-32.125",
         "-53.125",
         "True"
        ],
        [
         "17",
         "-32.125",
         "-52.875",
         "True"
        ],
        [
         "18",
         "-32.125",
         "-52.625",
         "True"
        ],
        [
         "19",
         "-32.125",
         "-52.375",
         "True"
        ],
        [
         "20",
         "-32.125",
         "-52.125",
         "True"
        ],
        [
         "21",
         "-31.875",
         "-54.125",
         "True"
        ],
        [
         "22",
         "-31.875",
         "-53.875",
         "True"
        ],
        [
         "23",
         "-31.875",
         "-53.625",
         "True"
        ],
        [
         "24",
         "-31.875",
         "-53.375",
         "True"
        ],
        [
         "25",
         "-31.875",
         "-53.125",
         "True"
        ],
        [
         "26",
         "-31.875",
         "-52.875",
         "True"
        ],
        [
         "27",
         "-31.875",
         "-52.625",
         "True"
        ],
        [
         "28",
         "-31.875",
         "-52.375",
         "True"
        ],
        [
         "29",
         "-31.875",
         "-51.875",
         "True"
        ],
        [
         "30",
         "-31.625",
         "-54.375",
         "True"
        ],
        [
         "31",
         "-31.625",
         "-54.125",
         "True"
        ],
        [
         "32",
         "-31.625",
         "-53.875",
         "True"
        ],
        [
         "33",
         "-31.625",
         "-53.625",
         "True"
        ],
        [
         "34",
         "-31.625",
         "-53.375",
         "True"
        ],
        [
         "35",
         "-31.625",
         "-53.125",
         "True"
        ],
        [
         "36",
         "-31.625",
         "-52.875",
         "True"
        ],
        [
         "37",
         "-31.625",
         "-52.625",
         "True"
        ],
        [
         "38",
         "-31.625",
         "-52.375",
         "True"
        ],
        [
         "39",
         "-31.625",
         "-52.125",
         "True"
        ],
        [
         "40",
         "-31.625",
         "-51.375",
         "True"
        ],
        [
         "41",
         "-31.375",
         "-54.875",
         "True"
        ],
        [
         "42",
         "-31.375",
         "-54.625",
         "True"
        ],
        [
         "43",
         "-31.375",
         "-54.375",
         "True"
        ],
        [
         "44",
         "-31.375",
         "-54.125",
         "True"
        ],
        [
         "45",
         "-31.375",
         "-53.875",
         "True"
        ],
        [
         "46",
         "-31.375",
         "-53.625",
         "True"
        ],
        [
         "47",
         "-31.375",
         "-53.375",
         "True"
        ],
        [
         "48",
         "-31.375",
         "-53.125",
         "True"
        ],
        [
         "49",
         "-31.375",
         "-52.875",
         "True"
        ]
       ],
       "shape": {
        "columns": 3,
        "rows": 11350
       }
      },
      "text/html": [
       "<div>\n",
       "<style scoped>\n",
       "    .dataframe tbody tr th:only-of-type {\n",
       "        vertical-align: middle;\n",
       "    }\n",
       "\n",
       "    .dataframe tbody tr th {\n",
       "        vertical-align: top;\n",
       "    }\n",
       "\n",
       "    .dataframe thead th {\n",
       "        text-align: right;\n",
       "    }\n",
       "</style>\n",
       "<table border=\"1\" class=\"dataframe\">\n",
       "  <thead>\n",
       "    <tr style=\"text-align: right;\">\n",
       "      <th></th>\n",
       "      <th>lat</th>\n",
       "      <th>long</th>\n",
       "      <th>Inside_Boundary</th>\n",
       "    </tr>\n",
       "  </thead>\n",
       "  <tbody>\n",
       "    <tr>\n",
       "      <th>0</th>\n",
       "      <td>-33.625</td>\n",
       "      <td>-53.375</td>\n",
       "      <td>True</td>\n",
       "    </tr>\n",
       "    <tr>\n",
       "      <th>1</th>\n",
       "      <td>-33.375</td>\n",
       "      <td>-53.375</td>\n",
       "      <td>True</td>\n",
       "    </tr>\n",
       "    <tr>\n",
       "      <th>2</th>\n",
       "      <td>-33.375</td>\n",
       "      <td>-53.125</td>\n",
       "      <td>True</td>\n",
       "    </tr>\n",
       "    <tr>\n",
       "      <th>3</th>\n",
       "      <td>-33.125</td>\n",
       "      <td>-53.125</td>\n",
       "      <td>True</td>\n",
       "    </tr>\n",
       "    <tr>\n",
       "      <th>4</th>\n",
       "      <td>-33.125</td>\n",
       "      <td>-52.875</td>\n",
       "      <td>True</td>\n",
       "    </tr>\n",
       "    <tr>\n",
       "      <th>...</th>\n",
       "      <td>...</td>\n",
       "      <td>...</td>\n",
       "      <td>...</td>\n",
       "    </tr>\n",
       "    <tr>\n",
       "      <th>11345</th>\n",
       "      <td>4.875</td>\n",
       "      <td>-60.375</td>\n",
       "      <td>True</td>\n",
       "    </tr>\n",
       "    <tr>\n",
       "      <th>11346</th>\n",
       "      <td>4.875</td>\n",
       "      <td>-60.125</td>\n",
       "      <td>True</td>\n",
       "    </tr>\n",
       "    <tr>\n",
       "      <th>11347</th>\n",
       "      <td>5.125</td>\n",
       "      <td>-60.625</td>\n",
       "      <td>True</td>\n",
       "    </tr>\n",
       "    <tr>\n",
       "      <th>11348</th>\n",
       "      <td>5.125</td>\n",
       "      <td>-60.375</td>\n",
       "      <td>True</td>\n",
       "    </tr>\n",
       "    <tr>\n",
       "      <th>11349</th>\n",
       "      <td>5.125</td>\n",
       "      <td>-60.125</td>\n",
       "      <td>True</td>\n",
       "    </tr>\n",
       "  </tbody>\n",
       "</table>\n",
       "<p>11350 rows × 3 columns</p>\n",
       "</div>"
      ],
      "text/plain": [
       "          lat    long  Inside_Boundary\n",
       "0     -33.625 -53.375             True\n",
       "1     -33.375 -53.375             True\n",
       "2     -33.375 -53.125             True\n",
       "3     -33.125 -53.125             True\n",
       "4     -33.125 -52.875             True\n",
       "...       ...     ...              ...\n",
       "11345   4.875 -60.375             True\n",
       "11346   4.875 -60.125             True\n",
       "11347   5.125 -60.625             True\n",
       "11348   5.125 -60.375             True\n",
       "11349   5.125 -60.125             True\n",
       "\n",
       "[11350 rows x 3 columns]"
      ]
     },
     "execution_count": 23,
     "metadata": {},
     "output_type": "execute_result"
    }
   ],
   "source": [
    "df_coords = df_coords[df_coords['Inside_Boundary'] == True]\n",
    "df_coords = df_coords.reset_index(drop = True)\n",
    "df_coords"
   ]
  },
  {
   "cell_type": "code",
   "execution_count": 24,
   "id": "84e2b038",
   "metadata": {},
   "outputs": [],
   "source": [
    "lat_list = df_coords['lat'].values.tolist()\n",
    "lon_list = df_coords['long'].values.tolist()\n",
    "lat_list_border = []\n",
    "lon_list_border = []"
   ]
  },
  {
   "cell_type": "code",
   "execution_count": 25,
   "id": "f13793ef",
   "metadata": {},
   "outputs": [
    {
     "name": "stdout",
     "output_type": "stream",
     "text": [
      "[-33.625]\n",
      "[-53.375]\n",
      "[-33.375, -33.375, -33.875, -33.875, -33.375, -33.875, -33.625, -33.625]\n",
      "[-53.125, -53.625, -53.125, -53.625, -53.375, -53.375, -53.125, -53.625]\n"
     ]
    }
   ],
   "source": [
    "for i in range (len(lat_list[:])):\n",
    "    lat = lat_list[i]\n",
    "    lon = lon_list[i]\n",
    "    lat_list_border.append(lat_list[i]+0.25)\n",
    "    lat_list_border.append(lat_list[i]+0.25)\n",
    "    lat_list_border.append(lat_list[i]-0.25)\n",
    "    lat_list_border.append(lat_list[i]-0.25)\n",
    "\n",
    "    lat_list_border.append(lat_list[i]+0.25)\n",
    "    lat_list_border.append(lat_list[i]-0.25)\n",
    "\n",
    "    lat_list_border.append(lat_list[i])\n",
    "    lat_list_border.append(lat_list[i])\n",
    "\n",
    "    lon_list_border.append(lon_list[i]+0.25)\n",
    "    lon_list_border.append(lon_list[i]-0.25)\n",
    "    lon_list_border.append(lon_list[i]+0.25)\n",
    "    lon_list_border.append(lon_list[i]-0.25)\n",
    "\n",
    "    lon_list_border.append(lon_list[i])\n",
    "    lon_list_border.append(lon_list[i])\n",
    "\n",
    "    lon_list_border.append(lon_list[i]+0.25)\n",
    "    lon_list_border.append(lon_list[i]-0.25)\n",
    "\n",
    "\n",
    "print(lat_list[0:1])\n",
    "print(lon_list[0:1])\n",
    "print(lat_list_border[0:8])\n",
    "print(lon_list_border[0:8])"
   ]
  },
  {
   "cell_type": "code",
   "execution_count": 26,
   "id": "d91d7a59",
   "metadata": {},
   "outputs": [
    {
     "data": {
      "text/plain": [
       "102150"
      ]
     },
     "execution_count": 26,
     "metadata": {},
     "output_type": "execute_result"
    }
   ],
   "source": [
    "lat_coords = lat_list + lat_list_border\n",
    "lon_coords = lon_list + lon_list_border\n",
    "len(lat_coords)"
   ]
  },
  {
   "cell_type": "code",
   "execution_count": 27,
   "id": "4b6254ce",
   "metadata": {},
   "outputs": [
    {
     "data": {
      "application/vnd.microsoft.datawrangler.viewer.v0+json": {
       "columns": [
        {
         "name": "index",
         "rawType": "int64",
         "type": "integer"
        },
        {
         "name": "lat",
         "rawType": "float64",
         "type": "float"
        },
        {
         "name": "long",
         "rawType": "float64",
         "type": "float"
        }
       ],
       "conversionMethod": "pd.DataFrame",
       "ref": "a377fe7b-70be-4e87-8a91-e4a30f40b233",
       "rows": [
        [
         "0",
         "-33.625",
         "-53.375"
        ],
        [
         "1",
         "-33.375",
         "-53.375"
        ],
        [
         "2",
         "-33.375",
         "-53.125"
        ],
        [
         "3",
         "-33.125",
         "-53.125"
        ],
        [
         "4",
         "-33.125",
         "-52.875"
        ],
        [
         "5",
         "-32.875",
         "-53.125"
        ],
        [
         "6",
         "-32.875",
         "-52.625"
        ],
        [
         "7",
         "-32.625",
         "-53.125"
        ],
        [
         "8",
         "-32.375",
         "-53.625"
        ],
        [
         "9",
         "-32.375",
         "-53.375"
        ],
        [
         "10",
         "-32.375",
         "-53.125"
        ],
        [
         "11",
         "-32.375",
         "-52.875"
        ],
        [
         "12",
         "-32.375",
         "-52.625"
        ],
        [
         "13",
         "-32.375",
         "-52.375"
        ],
        [
         "14",
         "-32.125",
         "-53.625"
        ],
        [
         "15",
         "-32.125",
         "-53.375"
        ],
        [
         "16",
         "-32.125",
         "-53.125"
        ],
        [
         "17",
         "-32.125",
         "-52.875"
        ],
        [
         "18",
         "-32.125",
         "-52.625"
        ],
        [
         "19",
         "-32.125",
         "-52.375"
        ],
        [
         "20",
         "-32.125",
         "-52.125"
        ],
        [
         "21",
         "-31.875",
         "-54.125"
        ],
        [
         "22",
         "-31.875",
         "-53.875"
        ],
        [
         "23",
         "-31.875",
         "-53.625"
        ],
        [
         "24",
         "-31.875",
         "-53.375"
        ],
        [
         "25",
         "-31.875",
         "-53.125"
        ],
        [
         "26",
         "-31.875",
         "-52.875"
        ],
        [
         "27",
         "-31.875",
         "-52.625"
        ],
        [
         "28",
         "-31.875",
         "-52.375"
        ],
        [
         "29",
         "-31.875",
         "-51.875"
        ],
        [
         "30",
         "-31.625",
         "-54.375"
        ],
        [
         "31",
         "-31.625",
         "-54.125"
        ],
        [
         "32",
         "-31.625",
         "-53.875"
        ],
        [
         "33",
         "-31.625",
         "-53.625"
        ],
        [
         "34",
         "-31.625",
         "-53.375"
        ],
        [
         "35",
         "-31.625",
         "-53.125"
        ],
        [
         "36",
         "-31.625",
         "-52.875"
        ],
        [
         "37",
         "-31.625",
         "-52.625"
        ],
        [
         "38",
         "-31.625",
         "-52.375"
        ],
        [
         "39",
         "-31.625",
         "-52.125"
        ],
        [
         "40",
         "-31.625",
         "-51.375"
        ],
        [
         "41",
         "-31.375",
         "-54.875"
        ],
        [
         "42",
         "-31.375",
         "-54.625"
        ],
        [
         "43",
         "-31.375",
         "-54.375"
        ],
        [
         "44",
         "-31.375",
         "-54.125"
        ],
        [
         "45",
         "-31.375",
         "-53.875"
        ],
        [
         "46",
         "-31.375",
         "-53.625"
        ],
        [
         "47",
         "-31.375",
         "-53.375"
        ],
        [
         "48",
         "-31.375",
         "-53.125"
        ],
        [
         "49",
         "-31.375",
         "-52.875"
        ]
       ],
       "shape": {
        "columns": 2,
        "rows": 12151
       }
      },
      "text/html": [
       "<div>\n",
       "<style scoped>\n",
       "    .dataframe tbody tr th:only-of-type {\n",
       "        vertical-align: middle;\n",
       "    }\n",
       "\n",
       "    .dataframe tbody tr th {\n",
       "        vertical-align: top;\n",
       "    }\n",
       "\n",
       "    .dataframe thead th {\n",
       "        text-align: right;\n",
       "    }\n",
       "</style>\n",
       "<table border=\"1\" class=\"dataframe\">\n",
       "  <thead>\n",
       "    <tr style=\"text-align: right;\">\n",
       "      <th></th>\n",
       "      <th>lat</th>\n",
       "      <th>long</th>\n",
       "    </tr>\n",
       "  </thead>\n",
       "  <tbody>\n",
       "    <tr>\n",
       "      <th>0</th>\n",
       "      <td>-33.625</td>\n",
       "      <td>-53.375</td>\n",
       "    </tr>\n",
       "    <tr>\n",
       "      <th>1</th>\n",
       "      <td>-33.375</td>\n",
       "      <td>-53.375</td>\n",
       "    </tr>\n",
       "    <tr>\n",
       "      <th>2</th>\n",
       "      <td>-33.375</td>\n",
       "      <td>-53.125</td>\n",
       "    </tr>\n",
       "    <tr>\n",
       "      <th>3</th>\n",
       "      <td>-33.125</td>\n",
       "      <td>-53.125</td>\n",
       "    </tr>\n",
       "    <tr>\n",
       "      <th>4</th>\n",
       "      <td>-33.125</td>\n",
       "      <td>-52.875</td>\n",
       "    </tr>\n",
       "    <tr>\n",
       "      <th>...</th>\n",
       "      <td>...</td>\n",
       "      <td>...</td>\n",
       "    </tr>\n",
       "    <tr>\n",
       "      <th>12146</th>\n",
       "      <td>5.375</td>\n",
       "      <td>-60.375</td>\n",
       "    </tr>\n",
       "    <tr>\n",
       "      <th>12147</th>\n",
       "      <td>5.375</td>\n",
       "      <td>-60.875</td>\n",
       "    </tr>\n",
       "    <tr>\n",
       "      <th>12148</th>\n",
       "      <td>5.375</td>\n",
       "      <td>-60.625</td>\n",
       "    </tr>\n",
       "    <tr>\n",
       "      <th>12149</th>\n",
       "      <td>5.375</td>\n",
       "      <td>-60.125</td>\n",
       "    </tr>\n",
       "    <tr>\n",
       "      <th>12150</th>\n",
       "      <td>5.375</td>\n",
       "      <td>-59.875</td>\n",
       "    </tr>\n",
       "  </tbody>\n",
       "</table>\n",
       "<p>12151 rows × 2 columns</p>\n",
       "</div>"
      ],
      "text/plain": [
       "          lat    long\n",
       "0     -33.625 -53.375\n",
       "1     -33.375 -53.375\n",
       "2     -33.375 -53.125\n",
       "3     -33.125 -53.125\n",
       "4     -33.125 -52.875\n",
       "...       ...     ...\n",
       "12146   5.375 -60.375\n",
       "12147   5.375 -60.875\n",
       "12148   5.375 -60.625\n",
       "12149   5.375 -60.125\n",
       "12150   5.375 -59.875\n",
       "\n",
       "[12151 rows x 2 columns]"
      ]
     },
     "execution_count": 27,
     "metadata": {},
     "output_type": "execute_result"
    }
   ],
   "source": [
    "df_coords_border = pd.DataFrame({'lat': lat_coords, 'long': lon_coords})\n",
    "df_coords_border = df_coords_border.drop_duplicates(ignore_index=True)\n",
    "df_coords_border"
   ]
  },
  {
   "cell_type": "code",
   "execution_count": 28,
   "id": "ee6384f2",
   "metadata": {},
   "outputs": [
    {
     "name": "stderr",
     "output_type": "stream",
     "text": [
      "C:\\Users\\linde\\AppData\\Local\\Temp\\ipykernel_27272\\948283981.py:5: FutureWarning: A value is trying to be set on a copy of a DataFrame or Series through chained assignment using an inplace method.\n",
      "The behavior will change in pandas 3.0. This inplace method will never work because the intermediate object on which we are setting values always behaves as a copy.\n",
      "\n",
      "For example, when doing 'df[col].method(value, inplace=True)', try using 'df.method({col: value}, inplace=True)' or df[col] = df[col].method(value) instead, to perform the operation inplace on the original object.\n",
      "\n",
      "\n",
      "  br_map['name_state'].replace({'AMAZÔNAS': 'AMAZONAS'}, inplace = True)\n"
     ]
    },
    {
     "ename": "AttributeError",
     "evalue": "'NoneType' object has no attribute 'copy'",
     "output_type": "error",
     "traceback": [
      "\u001b[1;31m---------------------------------------------------------------------------\u001b[0m",
      "\u001b[1;31mAttributeError\u001b[0m                            Traceback (most recent call last)",
      "File \u001b[1;32mc:\\ProgramData\\anaconda3\\Lib\\site-packages\\IPython\\core\\formatters.py:343\u001b[0m, in \u001b[0;36mBaseFormatter.__call__\u001b[1;34m(self, obj)\u001b[0m\n\u001b[0;32m    341\u001b[0m     \u001b[38;5;28;01mpass\u001b[39;00m\n\u001b[0;32m    342\u001b[0m \u001b[38;5;28;01melse\u001b[39;00m:\n\u001b[1;32m--> 343\u001b[0m     \u001b[38;5;28;01mreturn\u001b[39;00m printer(obj)\n\u001b[0;32m    344\u001b[0m \u001b[38;5;66;03m# Finally look for special method names\u001b[39;00m\n\u001b[0;32m    345\u001b[0m method \u001b[38;5;241m=\u001b[39m get_real_method(obj, \u001b[38;5;28mself\u001b[39m\u001b[38;5;241m.\u001b[39mprint_method)\n",
      "Cell \u001b[1;32mIn[1], line 227\u001b[0m, in \u001b[0;36m__DW_OUTPUT_FORMATTER__.<locals>.DataWrangler.formatter\u001b[1;34m(cls, var, **kwargs)\u001b[0m\n\u001b[0;32m    225\u001b[0m \u001b[38;5;129m@classmethod\u001b[39m\n\u001b[0;32m    226\u001b[0m \u001b[38;5;28;01mdef\u001b[39;00m \u001b[38;5;21mformatter\u001b[39m(\u001b[38;5;28mcls\u001b[39m, var, \u001b[38;5;241m*\u001b[39m\u001b[38;5;241m*\u001b[39mkwargs):\n\u001b[1;32m--> 227\u001b[0m     s \u001b[38;5;241m=\u001b[39m \u001b[38;5;28mcls\u001b[39m(var, \u001b[38;5;241m*\u001b[39m\u001b[38;5;241m*\u001b[39mkwargs)\n\u001b[0;32m    228\u001b[0m     \u001b[38;5;28;01mreturn\u001b[39;00m s\u001b[38;5;241m.\u001b[39m_repr_dw_()\n",
      "Cell \u001b[1;32mIn[1], line 221\u001b[0m, in \u001b[0;36m__DW_OUTPUT_FORMATTER__.<locals>.DataWrangler.__init__\u001b[1;34m(self, expr_val)\u001b[0m\n\u001b[0;32m    218\u001b[0m \u001b[38;5;28mself\u001b[39m\u001b[38;5;241m.\u001b[39mid \u001b[38;5;241m=\u001b[39m \u001b[38;5;28mstr\u001b[39m(uuid\u001b[38;5;241m.\u001b[39muuid4())\n\u001b[0;32m    219\u001b[0m pandas_df, conversion_method \u001b[38;5;241m=\u001b[39m api[\u001b[38;5;124m\"\u001b[39m\u001b[38;5;124mpandas_transport\u001b[39m\u001b[38;5;124m\"\u001b[39m][\u001b[38;5;124m\"\u001b[39m\u001b[38;5;124mconvert_to_pandas\u001b[39m\u001b[38;5;124m\"\u001b[39m](expr_val)\n\u001b[0;32m    220\u001b[0m tmp_vars[\u001b[38;5;28mself\u001b[39m\u001b[38;5;241m.\u001b[39mid] \u001b[38;5;241m=\u001b[39m {\n\u001b[1;32m--> 221\u001b[0m     \u001b[38;5;124m\"\u001b[39m\u001b[38;5;124mconverted\u001b[39m\u001b[38;5;124m\"\u001b[39m: pandas_df\u001b[38;5;241m.\u001b[39mcopy(deep\u001b[38;5;241m=\u001b[39m\u001b[38;5;28;01mFalse\u001b[39;00m), \u001b[38;5;66;03m# create a shallow copy in case a displayed object is mutated in the same cell\u001b[39;00m\n\u001b[0;32m    222\u001b[0m     \u001b[38;5;124m\"\u001b[39m\u001b[38;5;124mconversion_method\u001b[39m\u001b[38;5;124m\"\u001b[39m: conversion_method\n\u001b[0;32m    223\u001b[0m }\n",
      "\u001b[1;31mAttributeError\u001b[0m: 'NoneType' object has no attribute 'copy'"
     ]
    },
    {
     "data": {
      "text/html": [
       "<div>\n",
       "<style scoped>\n",
       "    .dataframe tbody tr th:only-of-type {\n",
       "        vertical-align: middle;\n",
       "    }\n",
       "\n",
       "    .dataframe tbody tr th {\n",
       "        vertical-align: top;\n",
       "    }\n",
       "\n",
       "    .dataframe thead th {\n",
       "        text-align: right;\n",
       "    }\n",
       "</style>\n",
       "<table border=\"1\" class=\"dataframe\">\n",
       "  <thead>\n",
       "    <tr style=\"text-align: right;\">\n",
       "      <th></th>\n",
       "      <th>code_state</th>\n",
       "      <th>abbrev_state</th>\n",
       "      <th>name_state</th>\n",
       "      <th>code_region</th>\n",
       "      <th>name_region</th>\n",
       "      <th>geometry</th>\n",
       "    </tr>\n",
       "  </thead>\n",
       "  <tbody>\n",
       "    <tr>\n",
       "      <th>1</th>\n",
       "      <td>12.0</td>\n",
       "      <td>AC</td>\n",
       "      <td>ACRE</td>\n",
       "      <td>1.0</td>\n",
       "      <td>Norte</td>\n",
       "      <td>MULTIPOLYGON (((-71.07772 -9.82774, -71.07817 ...</td>\n",
       "    </tr>\n",
       "    <tr>\n",
       "      <th>13</th>\n",
       "      <td>27.0</td>\n",
       "      <td>AL</td>\n",
       "      <td>ALAGOAS</td>\n",
       "      <td>2.0</td>\n",
       "      <td>Nordeste</td>\n",
       "      <td>MULTIPOLYGON (((-35.75791 -9.69285, -35.75801 ...</td>\n",
       "    </tr>\n",
       "    <tr>\n",
       "      <th>5</th>\n",
       "      <td>16.0</td>\n",
       "      <td>AP</td>\n",
       "      <td>AMAPÁ</td>\n",
       "      <td>1.0</td>\n",
       "      <td>Norte</td>\n",
       "      <td>MULTIPOLYGON (((-50.45011 2.10924, -50.44715 2...</td>\n",
       "    </tr>\n",
       "    <tr>\n",
       "      <th>2</th>\n",
       "      <td>13.0</td>\n",
       "      <td>AM</td>\n",
       "      <td>AMAZONAS</td>\n",
       "      <td>1.0</td>\n",
       "      <td>Norte</td>\n",
       "      <td>MULTIPOLYGON (((-69.83766 -3.68659, -69.82555 ...</td>\n",
       "    </tr>\n",
       "    <tr>\n",
       "      <th>15</th>\n",
       "      <td>29.0</td>\n",
       "      <td>BA</td>\n",
       "      <td>BAHIA</td>\n",
       "      <td>2.0</td>\n",
       "      <td>Nordeste</td>\n",
       "      <td>MULTIPOLYGON (((-38.69616 -17.97901, -38.69618...</td>\n",
       "    </tr>\n",
       "  </tbody>\n",
       "</table>\n",
       "</div>"
      ],
      "text/plain": [
       "    code_state abbrev_state name_state  code_region name_region  \\\n",
       "1         12.0           AC       ACRE          1.0       Norte   \n",
       "13        27.0           AL    ALAGOAS          2.0    Nordeste   \n",
       "5         16.0           AP      AMAPÁ          1.0       Norte   \n",
       "2         13.0           AM   AMAZONAS          1.0       Norte   \n",
       "15        29.0           BA      BAHIA          2.0    Nordeste   \n",
       "\n",
       "                                             geometry  \n",
       "1   MULTIPOLYGON (((-71.07772 -9.82774, -71.07817 ...  \n",
       "13  MULTIPOLYGON (((-35.75791 -9.69285, -35.75801 ...  \n",
       "5   MULTIPOLYGON (((-50.45011 2.10924, -50.44715 2...  \n",
       "2   MULTIPOLYGON (((-69.83766 -3.68659, -69.82555 ...  \n",
       "15  MULTIPOLYGON (((-38.69616 -17.97901, -38.69618...  "
      ]
     },
     "execution_count": 28,
     "metadata": {},
     "output_type": "execute_result"
    }
   ],
   "source": [
    "br_map = geobr.read_state(year = 2020)\n",
    "br_map.crs = \"EPSG:4326\"\n",
    "br_map['name_state'] = br_map['name_state'].apply(str.upper)\n",
    "br_map = br_map.sort_values(by = ['name_state'])\n",
    "br_map['name_state'].replace({'AMAZÔNAS': 'AMAZONAS'}, inplace = True)\n",
    "br_map.head()"
   ]
  },
  {
   "cell_type": "code",
   "execution_count": 29,
   "id": "863a9e39",
   "metadata": {},
   "outputs": [
    {
     "ename": "AttributeError",
     "evalue": "'NoneType' object has no attribute 'copy'",
     "output_type": "error",
     "traceback": [
      "\u001b[1;31m---------------------------------------------------------------------------\u001b[0m",
      "\u001b[1;31mAttributeError\u001b[0m                            Traceback (most recent call last)",
      "File \u001b[1;32mc:\\ProgramData\\anaconda3\\Lib\\site-packages\\IPython\\core\\formatters.py:343\u001b[0m, in \u001b[0;36mBaseFormatter.__call__\u001b[1;34m(self, obj)\u001b[0m\n\u001b[0;32m    341\u001b[0m     \u001b[38;5;28;01mpass\u001b[39;00m\n\u001b[0;32m    342\u001b[0m \u001b[38;5;28;01melse\u001b[39;00m:\n\u001b[1;32m--> 343\u001b[0m     \u001b[38;5;28;01mreturn\u001b[39;00m printer(obj)\n\u001b[0;32m    344\u001b[0m \u001b[38;5;66;03m# Finally look for special method names\u001b[39;00m\n\u001b[0;32m    345\u001b[0m method \u001b[38;5;241m=\u001b[39m get_real_method(obj, \u001b[38;5;28mself\u001b[39m\u001b[38;5;241m.\u001b[39mprint_method)\n",
      "Cell \u001b[1;32mIn[1], line 227\u001b[0m, in \u001b[0;36m__DW_OUTPUT_FORMATTER__.<locals>.DataWrangler.formatter\u001b[1;34m(cls, var, **kwargs)\u001b[0m\n\u001b[0;32m    225\u001b[0m \u001b[38;5;129m@classmethod\u001b[39m\n\u001b[0;32m    226\u001b[0m \u001b[38;5;28;01mdef\u001b[39;00m \u001b[38;5;21mformatter\u001b[39m(\u001b[38;5;28mcls\u001b[39m, var, \u001b[38;5;241m*\u001b[39m\u001b[38;5;241m*\u001b[39mkwargs):\n\u001b[1;32m--> 227\u001b[0m     s \u001b[38;5;241m=\u001b[39m \u001b[38;5;28mcls\u001b[39m(var, \u001b[38;5;241m*\u001b[39m\u001b[38;5;241m*\u001b[39mkwargs)\n\u001b[0;32m    228\u001b[0m     \u001b[38;5;28;01mreturn\u001b[39;00m s\u001b[38;5;241m.\u001b[39m_repr_dw_()\n",
      "Cell \u001b[1;32mIn[1], line 221\u001b[0m, in \u001b[0;36m__DW_OUTPUT_FORMATTER__.<locals>.DataWrangler.__init__\u001b[1;34m(self, expr_val)\u001b[0m\n\u001b[0;32m    218\u001b[0m \u001b[38;5;28mself\u001b[39m\u001b[38;5;241m.\u001b[39mid \u001b[38;5;241m=\u001b[39m \u001b[38;5;28mstr\u001b[39m(uuid\u001b[38;5;241m.\u001b[39muuid4())\n\u001b[0;32m    219\u001b[0m pandas_df, conversion_method \u001b[38;5;241m=\u001b[39m api[\u001b[38;5;124m\"\u001b[39m\u001b[38;5;124mpandas_transport\u001b[39m\u001b[38;5;124m\"\u001b[39m][\u001b[38;5;124m\"\u001b[39m\u001b[38;5;124mconvert_to_pandas\u001b[39m\u001b[38;5;124m\"\u001b[39m](expr_val)\n\u001b[0;32m    220\u001b[0m tmp_vars[\u001b[38;5;28mself\u001b[39m\u001b[38;5;241m.\u001b[39mid] \u001b[38;5;241m=\u001b[39m {\n\u001b[1;32m--> 221\u001b[0m     \u001b[38;5;124m\"\u001b[39m\u001b[38;5;124mconverted\u001b[39m\u001b[38;5;124m\"\u001b[39m: pandas_df\u001b[38;5;241m.\u001b[39mcopy(deep\u001b[38;5;241m=\u001b[39m\u001b[38;5;28;01mFalse\u001b[39;00m), \u001b[38;5;66;03m# create a shallow copy in case a displayed object is mutated in the same cell\u001b[39;00m\n\u001b[0;32m    222\u001b[0m     \u001b[38;5;124m\"\u001b[39m\u001b[38;5;124mconversion_method\u001b[39m\u001b[38;5;124m\"\u001b[39m: conversion_method\n\u001b[0;32m    223\u001b[0m }\n",
      "\u001b[1;31mAttributeError\u001b[0m: 'NoneType' object has no attribute 'copy'"
     ]
    },
    {
     "data": {
      "text/html": [
       "<div>\n",
       "<style scoped>\n",
       "    .dataframe tbody tr th:only-of-type {\n",
       "        vertical-align: middle;\n",
       "    }\n",
       "\n",
       "    .dataframe tbody tr th {\n",
       "        vertical-align: top;\n",
       "    }\n",
       "\n",
       "    .dataframe thead th {\n",
       "        text-align: right;\n",
       "    }\n",
       "</style>\n",
       "<table border=\"1\" class=\"dataframe\">\n",
       "  <thead>\n",
       "    <tr style=\"text-align: right;\">\n",
       "      <th></th>\n",
       "      <th>lat</th>\n",
       "      <th>long</th>\n",
       "      <th>geometry</th>\n",
       "    </tr>\n",
       "  </thead>\n",
       "  <tbody>\n",
       "    <tr>\n",
       "      <th>0</th>\n",
       "      <td>-33.625</td>\n",
       "      <td>-53.375</td>\n",
       "      <td>POINT (-53.37500 -33.62500)</td>\n",
       "    </tr>\n",
       "    <tr>\n",
       "      <th>1</th>\n",
       "      <td>-33.375</td>\n",
       "      <td>-53.375</td>\n",
       "      <td>POINT (-53.37500 -33.37500)</td>\n",
       "    </tr>\n",
       "    <tr>\n",
       "      <th>2</th>\n",
       "      <td>-33.375</td>\n",
       "      <td>-53.125</td>\n",
       "      <td>POINT (-53.12500 -33.37500)</td>\n",
       "    </tr>\n",
       "    <tr>\n",
       "      <th>3</th>\n",
       "      <td>-33.125</td>\n",
       "      <td>-53.125</td>\n",
       "      <td>POINT (-53.12500 -33.12500)</td>\n",
       "    </tr>\n",
       "    <tr>\n",
       "      <th>4</th>\n",
       "      <td>-33.125</td>\n",
       "      <td>-52.875</td>\n",
       "      <td>POINT (-52.87500 -33.12500)</td>\n",
       "    </tr>\n",
       "    <tr>\n",
       "      <th>...</th>\n",
       "      <td>...</td>\n",
       "      <td>...</td>\n",
       "      <td>...</td>\n",
       "    </tr>\n",
       "    <tr>\n",
       "      <th>12146</th>\n",
       "      <td>5.375</td>\n",
       "      <td>-60.375</td>\n",
       "      <td>POINT (-60.37500 5.37500)</td>\n",
       "    </tr>\n",
       "    <tr>\n",
       "      <th>12147</th>\n",
       "      <td>5.375</td>\n",
       "      <td>-60.875</td>\n",
       "      <td>POINT (-60.87500 5.37500)</td>\n",
       "    </tr>\n",
       "    <tr>\n",
       "      <th>12148</th>\n",
       "      <td>5.375</td>\n",
       "      <td>-60.625</td>\n",
       "      <td>POINT (-60.62500 5.37500)</td>\n",
       "    </tr>\n",
       "    <tr>\n",
       "      <th>12149</th>\n",
       "      <td>5.375</td>\n",
       "      <td>-60.125</td>\n",
       "      <td>POINT (-60.12500 5.37500)</td>\n",
       "    </tr>\n",
       "    <tr>\n",
       "      <th>12150</th>\n",
       "      <td>5.375</td>\n",
       "      <td>-59.875</td>\n",
       "      <td>POINT (-59.87500 5.37500)</td>\n",
       "    </tr>\n",
       "  </tbody>\n",
       "</table>\n",
       "<p>12151 rows × 3 columns</p>\n",
       "</div>"
      ],
      "text/plain": [
       "          lat    long                     geometry\n",
       "0     -33.625 -53.375  POINT (-53.37500 -33.62500)\n",
       "1     -33.375 -53.375  POINT (-53.37500 -33.37500)\n",
       "2     -33.375 -53.125  POINT (-53.12500 -33.37500)\n",
       "3     -33.125 -53.125  POINT (-53.12500 -33.12500)\n",
       "4     -33.125 -52.875  POINT (-52.87500 -33.12500)\n",
       "...       ...     ...                          ...\n",
       "12146   5.375 -60.375    POINT (-60.37500 5.37500)\n",
       "12147   5.375 -60.875    POINT (-60.87500 5.37500)\n",
       "12148   5.375 -60.625    POINT (-60.62500 5.37500)\n",
       "12149   5.375 -60.125    POINT (-60.12500 5.37500)\n",
       "12150   5.375 -59.875    POINT (-59.87500 5.37500)\n",
       "\n",
       "[12151 rows x 3 columns]"
      ]
     },
     "execution_count": 29,
     "metadata": {},
     "output_type": "execute_result"
    }
   ],
   "source": [
    "geometry = gpd.points_from_xy(df_coords_border['long'], df_coords_border['lat'])\n",
    "df_coords_border_geo = gpd.GeoDataFrame(df_coords_border, geometry=geometry, crs=\"EPSG:4326\")\n",
    "df_coords_border_geo.dropna(inplace=True)\n",
    "df_coords_border_geo"
   ]
  },
  {
   "cell_type": "code",
   "execution_count": 30,
   "id": "d67c2b64",
   "metadata": {},
   "outputs": [
    {
     "data": {
      "image/png": "[encoded data removed]",
      "text/plain": [
       "<Figure size 1000x700 with 1 Axes>"
      ]
     },
     "metadata": {},
     "output_type": "display_data"
    }
   ],
   "source": [
    "plt.rcParams['font.size'] = '14'\n",
    "plt.rcParams[\"font.family\"] = \"Times New Roman\"\n",
    "tnr_title = {'fontname':'Times New Roman', \"fontweight\" :\"bold\", 'fontsize': 16}\n",
    "\n",
    "fig, ax = plt.subplots(figsize = (10, 7))\n",
    "br_map.plot(ax = ax, color = 'w')\n",
    "br_map.plot(ax = ax, color = 'white', edgecolor = 'black')\n",
    "df_coords_border_geo.plot(ax = ax\n",
    "                    , legend = False\n",
    "                    , alpha = 0.1\n",
    "                    , markersize = 10\n",
    "                   )\n",
    "# ax.set_title(\"New Grid\", tnr_title)\n",
    "\n",
    "# ax.set_ylim([-35, 7])\n",
    "# ax.set_xlim([-75, -33])\n",
    "ax.set_xlabel('lat')\n",
    "ax.set_ylabel('long')\n",
    "ax.grid(ls='--')\n",
    "plt.tight_layout()\n",
    "plt.savefig('figures/coordinates_test.png', format='png', dpi=1200, transparent=False, bbox_inches=None)\n",
    "plt.show()\n",
    "plt.close()"
   ]
  },
  {
   "cell_type": "code",
   "execution_count": 31,
   "id": "75c93cd1",
   "metadata": {},
   "outputs": [
    {
     "name": "stderr",
     "output_type": "stream",
     "text": [
      "C:\\Users\\linde\\AppData\\Local\\Temp\\ipykernel_27272\\1976700495.py:1: FutureWarning: Starting with pandas version 3.0 all arguments of to_hdf except for the argument 'path_or_buf' will be keyword-only.\n",
      "  df_coords_border.to_hdf('./1 - Organized data gauge/BRAZIL/DATASETS/BRAZIL_DAILY_1961_2024_QC.h5', 'table_grid', mode = 'r+', complevel = 9, encoding=\"utf-8\")\n"
     ]
    },
    {
     "data": {
      "application/vnd.microsoft.datawrangler.viewer.v0+json": {
       "columns": [
        {
         "name": "index",
         "rawType": "int64",
         "type": "integer"
        },
        {
         "name": "lat",
         "rawType": "float64",
         "type": "float"
        },
        {
         "name": "long",
         "rawType": "float64",
         "type": "float"
        }
       ],
       "conversionMethod": "pd.DataFrame",
       "ref": "6296aa9a-1c2f-4b08-8c86-9d6e3fa82934",
       "rows": [
        [
         "0",
         "-33.625",
         "-53.375"
        ],
        [
         "1",
         "-33.375",
         "-53.375"
        ],
        [
         "2",
         "-33.375",
         "-53.125"
        ],
        [
         "3",
         "-33.125",
         "-53.125"
        ],
        [
         "4",
         "-33.125",
         "-52.875"
        ],
        [
         "5",
         "-32.875",
         "-53.125"
        ],
        [
         "6",
         "-32.875",
         "-52.625"
        ],
        [
         "7",
         "-32.625",
         "-53.125"
        ],
        [
         "8",
         "-32.375",
         "-53.625"
        ],
        [
         "9",
         "-32.375",
         "-53.375"
        ],
        [
         "10",
         "-32.375",
         "-53.125"
        ],
        [
         "11",
         "-32.375",
         "-52.875"
        ],
        [
         "12",
         "-32.375",
         "-52.625"
        ],
        [
         "13",
         "-32.375",
         "-52.375"
        ],
        [
         "14",
         "-32.125",
         "-53.625"
        ],
        [
         "15",
         "-32.125",
         "-53.375"
        ],
        [
         "16",
         "-32.125",
         "-53.125"
        ],
        [
         "17",
         "-32.125",
         "-52.875"
        ],
        [
         "18",
         "-32.125",
         "-52.625"
        ],
        [
         "19",
         "-32.125",
         "-52.375"
        ],
        [
         "20",
         "-32.125",
         "-52.125"
        ],
        [
         "21",
         "-31.875",
         "-54.125"
        ],
        [
         "22",
         "-31.875",
         "-53.875"
        ],
        [
         "23",
         "-31.875",
         "-53.625"
        ],
        [
         "24",
         "-31.875",
         "-53.375"
        ],
        [
         "25",
         "-31.875",
         "-53.125"
        ],
        [
         "26",
         "-31.875",
         "-52.875"
        ],
        [
         "27",
         "-31.875",
         "-52.625"
        ],
        [
         "28",
         "-31.875",
         "-52.375"
        ],
        [
         "29",
         "-31.875",
         "-51.875"
        ],
        [
         "30",
         "-31.625",
         "-54.375"
        ],
        [
         "31",
         "-31.625",
         "-54.125"
        ],
        [
         "32",
         "-31.625",
         "-53.875"
        ],
        [
         "33",
         "-31.625",
         "-53.625"
        ],
        [
         "34",
         "-31.625",
         "-53.375"
        ],
        [
         "35",
         "-31.625",
         "-53.125"
        ],
        [
         "36",
         "-31.625",
         "-52.875"
        ],
        [
         "37",
         "-31.625",
         "-52.625"
        ],
        [
         "38",
         "-31.625",
         "-52.375"
        ],
        [
         "39",
         "-31.625",
         "-52.125"
        ],
        [
         "40",
         "-31.625",
         "-51.375"
        ],
        [
         "41",
         "-31.375",
         "-54.875"
        ],
        [
         "42",
         "-31.375",
         "-54.625"
        ],
        [
         "43",
         "-31.375",
         "-54.375"
        ],
        [
         "44",
         "-31.375",
         "-54.125"
        ],
        [
         "45",
         "-31.375",
         "-53.875"
        ],
        [
         "46",
         "-31.375",
         "-53.625"
        ],
        [
         "47",
         "-31.375",
         "-53.375"
        ],
        [
         "48",
         "-31.375",
         "-53.125"
        ],
        [
         "49",
         "-31.375",
         "-52.875"
        ]
       ],
       "shape": {
        "columns": 2,
        "rows": 12151
       }
      },
      "text/html": [
       "<div>\n",
       "<style scoped>\n",
       "    .dataframe tbody tr th:only-of-type {\n",
       "        vertical-align: middle;\n",
       "    }\n",
       "\n",
       "    .dataframe tbody tr th {\n",
       "        vertical-align: top;\n",
       "    }\n",
       "\n",
       "    .dataframe thead th {\n",
       "        text-align: right;\n",
       "    }\n",
       "</style>\n",
       "<table border=\"1\" class=\"dataframe\">\n",
       "  <thead>\n",
       "    <tr style=\"text-align: right;\">\n",
       "      <th></th>\n",
       "      <th>lat</th>\n",
       "      <th>long</th>\n",
       "    </tr>\n",
       "  </thead>\n",
       "  <tbody>\n",
       "    <tr>\n",
       "      <th>0</th>\n",
       "      <td>-33.625</td>\n",
       "      <td>-53.375</td>\n",
       "    </tr>\n",
       "    <tr>\n",
       "      <th>1</th>\n",
       "      <td>-33.375</td>\n",
       "      <td>-53.375</td>\n",
       "    </tr>\n",
       "    <tr>\n",
       "      <th>2</th>\n",
       "      <td>-33.375</td>\n",
       "      <td>-53.125</td>\n",
       "    </tr>\n",
       "    <tr>\n",
       "      <th>3</th>\n",
       "      <td>-33.125</td>\n",
       "      <td>-53.125</td>\n",
       "    </tr>\n",
       "    <tr>\n",
       "      <th>4</th>\n",
       "      <td>-33.125</td>\n",
       "      <td>-52.875</td>\n",
       "    </tr>\n",
       "    <tr>\n",
       "      <th>...</th>\n",
       "      <td>...</td>\n",
       "      <td>...</td>\n",
       "    </tr>\n",
       "    <tr>\n",
       "      <th>12146</th>\n",
       "      <td>5.375</td>\n",
       "      <td>-60.375</td>\n",
       "    </tr>\n",
       "    <tr>\n",
       "      <th>12147</th>\n",
       "      <td>5.375</td>\n",
       "      <td>-60.875</td>\n",
       "    </tr>\n",
       "    <tr>\n",
       "      <th>12148</th>\n",
       "      <td>5.375</td>\n",
       "      <td>-60.625</td>\n",
       "    </tr>\n",
       "    <tr>\n",
       "      <th>12149</th>\n",
       "      <td>5.375</td>\n",
       "      <td>-60.125</td>\n",
       "    </tr>\n",
       "    <tr>\n",
       "      <th>12150</th>\n",
       "      <td>5.375</td>\n",
       "      <td>-59.875</td>\n",
       "    </tr>\n",
       "  </tbody>\n",
       "</table>\n",
       "<p>12151 rows × 2 columns</p>\n",
       "</div>"
      ],
      "text/plain": [
       "          lat    long\n",
       "0     -33.625 -53.375\n",
       "1     -33.375 -53.375\n",
       "2     -33.375 -53.125\n",
       "3     -33.125 -53.125\n",
       "4     -33.125 -52.875\n",
       "...       ...     ...\n",
       "12146   5.375 -60.375\n",
       "12147   5.375 -60.875\n",
       "12148   5.375 -60.625\n",
       "12149   5.375 -60.125\n",
       "12150   5.375 -59.875\n",
       "\n",
       "[12151 rows x 2 columns]"
      ]
     },
     "execution_count": 31,
     "metadata": {},
     "output_type": "execute_result"
    }
   ],
   "source": [
    "df_coords_border.to_hdf('./1 - Organized data gauge/BRAZIL/DATASETS/BRAZIL_DAILY_1961_2024_QC.h5', 'table_grid', mode = 'r+', complevel = 9, encoding=\"utf-8\")\n",
    "df_coords_border"
   ]
  }
 ],
 "metadata": {
  "kernelspec": {
   "display_name": "base",
   "language": "python",
   "name": "python3"
  },
  "language_info": {
   "codemirror_mode": {
    "name": "ipython",
    "version": 3
   },
   "file_extension": ".py",
   "mimetype": "text/x-python",
   "name": "python",
   "nbconvert_exporter": "python",
   "pygments_lexer": "ipython3",
   "version": "3.11.10"
  }
 },
 "nbformat": 4,
 "nbformat_minor": 5
}
