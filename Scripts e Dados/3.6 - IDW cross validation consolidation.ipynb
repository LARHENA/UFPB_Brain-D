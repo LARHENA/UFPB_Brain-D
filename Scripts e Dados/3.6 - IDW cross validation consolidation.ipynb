{
 "cells": [
  {
   "cell_type": "code",
   "execution_count": 1,
   "id": "dc9ee7ac",
   "metadata": {},
   "outputs": [],
   "source": [
    "import pandas as pd\n",
    "import numpy as np\n",
    "import os\n",
    "import glob\n",
    "import h5py"
   ]
  },
  {
   "cell_type": "code",
   "execution_count": 2,
   "id": "3af38426",
   "metadata": {},
   "outputs": [
    {
     "name": "stdout",
     "output_type": "stream",
     "text": [
      "['table_crossvalidation', 'table_data', 'table_grid', 'table_info']\n"
     ]
    }
   ],
   "source": [
    "file_path = './1 - Organized data gauge/BRAZIL/DATASETS/BRAZIL_DAILY_1961_2024_QC.h5'\n",
    "with h5py.File(file_path, 'r') as hdf:\n",
    "    keys = list(hdf.keys())\n",
    "    print(keys)"
   ]
  },
  {
   "cell_type": "code",
   "execution_count": 9,
   "id": "e734937f",
   "metadata": {},
   "outputs": [],
   "source": [
    "crossvalidation_path = './1 - Organized data gauge/BRAZIL/CROSSVALIDATION'\n",
    "crossvalidation_files = glob.glob(os.path.join(crossvalidation_path, \"*.h5\"))\n",
    "cv_len = len(crossvalidation_files)\n",
    "print(\"file count:\", cv_len, \"\\n\\nexample:\\n\", crossvalidation_files[0],\"\\n...\\n...\\n...\\n\",crossvalidation_files[-1])"
   ]
  },
  {
   "cell_type": "code",
   "execution_count": 17,
   "id": "b1e02f2c",
   "metadata": {},
   "outputs": [],
   "source": [
    "file_list = []\n",
    "count = 1\n",
    "for filename in crossvalidation_files[:]:\n",
    "    df_temp = pd.read_hdf(filename)\n",
    "    file_list.append(df_temp)\n",
    "    print(\"Loading...\", count, \"/\", cv_len)\n",
    "    count = count + 1"
   ]
  },
  {
   "cell_type": "code",
   "execution_count": null,
   "id": "fe9f876e",
   "metadata": {},
   "outputs": [],
   "source": [
    "df_crossvalidation = pd.concat(file_list)\n",
    "df_crossvalidation['interpolated_rain_mm'] = df_crossvalidation['interpolated_rain_mm'].round(1).astype(float)\n",
    "df_crossvalidation['rain_mm'] = df_crossvalidation['rain_mm'].round(1).astype(float)\n",
    "df_crossvalidation['gauge_code'] = df_crossvalidation['gauge_code'].astype(str)\n",
    "df_crossvalidation = df_crossvalidation[['gauge_code', 'datetime',\t'interpolated_rain_mm',\t'rain_mm']]\n",
    "df_crossvalidation"
   ]
  },
  {
   "cell_type": "code",
   "execution_count": 24,
   "id": "da259d49",
   "metadata": {},
   "outputs": [],
   "source": [
    "df_crossvalidation.describe()"
   ]
  },
  {
   "cell_type": "code",
   "execution_count": 26,
   "id": "bf06e46a",
   "metadata": {},
   "outputs": [],
   "source": [
    "df_crossvalidation.to_hdf('./1 - Organized data gauge/BRAZIL/DATASETS/BRAZIL_DAILY_1961_2024_QC.h5', key = 'table_crossvalidation', mode = 'r+', complevel = 9, encoding=\"utf-8\")\n",
    "df_crossvalidation"
   ]
  }
 ],
 "metadata": {
  "kernelspec": {
   "display_name": "base",
   "language": "python",
   "name": "python3"
  },
  "language_info": {
   "codemirror_mode": {
    "name": "ipython",
    "version": 3
   },
   "file_extension": ".py",
   "mimetype": "text/x-python",
   "name": "python",
   "nbconvert_exporter": "python",
   "pygments_lexer": "ipython3",
   "version": "3.11.10"
  }
 },
 "nbformat": 4,
 "nbformat_minor": 5
}
