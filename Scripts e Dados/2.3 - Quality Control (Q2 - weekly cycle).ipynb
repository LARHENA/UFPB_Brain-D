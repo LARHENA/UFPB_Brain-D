{
 "cells": [
  {
   "cell_type": "code",
   "execution_count": 1,
   "metadata": {},
   "outputs": [],
   "source": [
    "import pandas as pd\n",
    "import numpy as np"
   ]
  },
  {
   "cell_type": "markdown",
   "metadata": {},
   "source": [
    "# Data processing"
   ]
  },
  {
   "cell_type": "code",
   "execution_count": 2,
   "metadata": {},
   "outputs": [
    {
     "data": {
      "application/vnd.microsoft.datawrangler.viewer.v0+json": {
       "columns": [
        {
         "name": "index",
         "rawType": "int64",
         "type": "integer"
        },
        {
         "name": "gauge_code",
         "rawType": "object",
         "type": "string"
        },
        {
         "name": "datetime",
         "rawType": "datetime64[ns]",
         "type": "datetime"
        },
        {
         "name": "rain_mm",
         "rawType": "float64",
         "type": "float"
        }
       ],
       "conversionMethod": "pd.DataFrame",
       "ref": "ad948c43-1c78-4353-8865-3085cb8fea4e",
       "rows": [
        [
         "0",
         "00047000",
         "1961-01-01 00:00:00",
         "0.0"
        ],
        [
         "1",
         "00047000",
         "1961-01-02 00:00:00",
         "0.0"
        ],
        [
         "2",
         "00047000",
         "1961-01-03 00:00:00",
         "0.0"
        ],
        [
         "3",
         "00047000",
         "1961-01-04 00:00:00",
         "0.0"
        ],
        [
         "4",
         "00047000",
         "1961-01-05 00:00:00",
         "0.0"
        ],
        [
         "5",
         "00047000",
         "1961-01-06 00:00:00",
         "0.0"
        ],
        [
         "6",
         "00047000",
         "1961-01-07 00:00:00",
         "0.0"
        ],
        [
         "7",
         "00047000",
         "1961-01-08 00:00:00",
         "0.0"
        ],
        [
         "8",
         "00047000",
         "1961-01-09 00:00:00",
         "0.0"
        ],
        [
         "9",
         "00047000",
         "1961-01-10 00:00:00",
         "0.0"
        ],
        [
         "10",
         "00047000",
         "1961-01-11 00:00:00",
         "0.0"
        ],
        [
         "11",
         "00047000",
         "1961-01-12 00:00:00",
         "0.0"
        ],
        [
         "12",
         "00047000",
         "1961-01-13 00:00:00",
         "0.0"
        ],
        [
         "13",
         "00047000",
         "1961-01-14 00:00:00",
         "0.0"
        ],
        [
         "14",
         "00047000",
         "1961-01-15 00:00:00",
         "0.0"
        ],
        [
         "15",
         "00047000",
         "1961-01-16 00:00:00",
         "0.0"
        ],
        [
         "16",
         "00047000",
         "1961-01-17 00:00:00",
         "17.0"
        ],
        [
         "17",
         "00047000",
         "1961-01-18 00:00:00",
         "22.6"
        ],
        [
         "18",
         "00047000",
         "1961-01-19 00:00:00",
         "6.4"
        ],
        [
         "19",
         "00047000",
         "1961-01-20 00:00:00",
         "5.6"
        ],
        [
         "20",
         "00047000",
         "1961-01-21 00:00:00",
         "23.4"
        ],
        [
         "21",
         "00047000",
         "1961-01-22 00:00:00",
         "0.0"
        ],
        [
         "22",
         "00047000",
         "1961-01-23 00:00:00",
         "0.0"
        ],
        [
         "23",
         "00047000",
         "1961-01-24 00:00:00",
         "0.0"
        ],
        [
         "24",
         "00047000",
         "1961-01-25 00:00:00",
         "0.0"
        ],
        [
         "25",
         "00047000",
         "1961-01-26 00:00:00",
         "23.0"
        ],
        [
         "26",
         "00047000",
         "1961-01-27 00:00:00",
         "5.8"
        ],
        [
         "27",
         "00047000",
         "1961-01-28 00:00:00",
         "0.0"
        ],
        [
         "28",
         "00047000",
         "1961-01-29 00:00:00",
         "0.0"
        ],
        [
         "29",
         "00047000",
         "1961-01-30 00:00:00",
         "16.4"
        ],
        [
         "30",
         "00047000",
         "1961-01-31 00:00:00",
         "0.0"
        ],
        [
         "31",
         "00047000",
         "1961-02-01 00:00:00",
         "5.8"
        ],
        [
         "32",
         "00047000",
         "1961-02-02 00:00:00",
         "3.2"
        ],
        [
         "33",
         "00047000",
         "1961-02-03 00:00:00",
         "0.0"
        ],
        [
         "34",
         "00047000",
         "1961-02-04 00:00:00",
         "16.8"
        ],
        [
         "35",
         "00047000",
         "1961-02-05 00:00:00",
         "31.2"
        ],
        [
         "36",
         "00047000",
         "1961-02-06 00:00:00",
         "13.4"
        ],
        [
         "37",
         "00047000",
         "1961-02-07 00:00:00",
         "12.2"
        ],
        [
         "38",
         "00047000",
         "1961-02-08 00:00:00",
         "0.0"
        ],
        [
         "39",
         "00047000",
         "1961-02-09 00:00:00",
         "6.8"
        ],
        [
         "40",
         "00047000",
         "1961-02-10 00:00:00",
         "0.0"
        ],
        [
         "41",
         "00047000",
         "1961-02-11 00:00:00",
         "0.0"
        ],
        [
         "42",
         "00047000",
         "1961-02-12 00:00:00",
         "0.0"
        ],
        [
         "43",
         "00047000",
         "1961-02-13 00:00:00",
         "0.0"
        ],
        [
         "44",
         "00047000",
         "1961-02-14 00:00:00",
         "0.0"
        ],
        [
         "45",
         "00047000",
         "1961-02-15 00:00:00",
         "34.8"
        ],
        [
         "46",
         "00047000",
         "1961-02-16 00:00:00",
         "79.2"
        ],
        [
         "47",
         "00047000",
         "1961-02-17 00:00:00",
         "34.4"
        ],
        [
         "48",
         "00047000",
         "1961-02-18 00:00:00",
         "41.8"
        ],
        [
         "49",
         "00047000",
         "1961-02-19 00:00:00",
         "90.6"
        ]
       ],
       "shape": {
        "columns": 3,
        "rows": 123609866
       }
      },
      "text/html": [
       "<div>\n",
       "<style scoped>\n",
       "    .dataframe tbody tr th:only-of-type {\n",
       "        vertical-align: middle;\n",
       "    }\n",
       "\n",
       "    .dataframe tbody tr th {\n",
       "        vertical-align: top;\n",
       "    }\n",
       "\n",
       "    .dataframe thead th {\n",
       "        text-align: right;\n",
       "    }\n",
       "</style>\n",
       "<table border=\"1\" class=\"dataframe\">\n",
       "  <thead>\n",
       "    <tr style=\"text-align: right;\">\n",
       "      <th></th>\n",
       "      <th>gauge_code</th>\n",
       "      <th>datetime</th>\n",
       "      <th>rain_mm</th>\n",
       "    </tr>\n",
       "  </thead>\n",
       "  <tbody>\n",
       "    <tr>\n",
       "      <th>0</th>\n",
       "      <td>00047000</td>\n",
       "      <td>1961-01-01</td>\n",
       "      <td>0.0</td>\n",
       "    </tr>\n",
       "    <tr>\n",
       "      <th>1</th>\n",
       "      <td>00047000</td>\n",
       "      <td>1961-01-02</td>\n",
       "      <td>0.0</td>\n",
       "    </tr>\n",
       "    <tr>\n",
       "      <th>2</th>\n",
       "      <td>00047000</td>\n",
       "      <td>1961-01-03</td>\n",
       "      <td>0.0</td>\n",
       "    </tr>\n",
       "    <tr>\n",
       "      <th>3</th>\n",
       "      <td>00047000</td>\n",
       "      <td>1961-01-04</td>\n",
       "      <td>0.0</td>\n",
       "    </tr>\n",
       "    <tr>\n",
       "      <th>4</th>\n",
       "      <td>00047000</td>\n",
       "      <td>1961-01-05</td>\n",
       "      <td>0.0</td>\n",
       "    </tr>\n",
       "    <tr>\n",
       "      <th>...</th>\n",
       "      <td>...</td>\n",
       "      <td>...</td>\n",
       "      <td>...</td>\n",
       "    </tr>\n",
       "    <tr>\n",
       "      <th>123609861</th>\n",
       "      <td>S717</td>\n",
       "      <td>2021-12-27</td>\n",
       "      <td>0.0</td>\n",
       "    </tr>\n",
       "    <tr>\n",
       "      <th>123609862</th>\n",
       "      <td>S717</td>\n",
       "      <td>2021-12-28</td>\n",
       "      <td>0.0</td>\n",
       "    </tr>\n",
       "    <tr>\n",
       "      <th>123609863</th>\n",
       "      <td>S717</td>\n",
       "      <td>2021-12-29</td>\n",
       "      <td>0.0</td>\n",
       "    </tr>\n",
       "    <tr>\n",
       "      <th>123609864</th>\n",
       "      <td>S717</td>\n",
       "      <td>2021-12-30</td>\n",
       "      <td>0.0</td>\n",
       "    </tr>\n",
       "    <tr>\n",
       "      <th>123609865</th>\n",
       "      <td>S717</td>\n",
       "      <td>2021-12-31</td>\n",
       "      <td>0.0</td>\n",
       "    </tr>\n",
       "  </tbody>\n",
       "</table>\n",
       "<p>123609866 rows × 3 columns</p>\n",
       "</div>"
      ],
      "text/plain": [
       "          gauge_code   datetime  rain_mm\n",
       "0           00047000 1961-01-01      0.0\n",
       "1           00047000 1961-01-02      0.0\n",
       "2           00047000 1961-01-03      0.0\n",
       "3           00047000 1961-01-04      0.0\n",
       "4           00047000 1961-01-05      0.0\n",
       "...              ...        ...      ...\n",
       "123609861       S717 2021-12-27      0.0\n",
       "123609862       S717 2021-12-28      0.0\n",
       "123609863       S717 2021-12-29      0.0\n",
       "123609864       S717 2021-12-30      0.0\n",
       "123609865       S717 2021-12-31      0.0\n",
       "\n",
       "[123609866 rows x 3 columns]"
      ]
     },
     "execution_count": 2,
     "metadata": {},
     "output_type": "execute_result"
    }
   ],
   "source": [
    "df_data = pd.DataFrame()  # Initialize an empty DataFrame\n",
    "\n",
    "# Read the HDF file in chunks\n",
    "for chunk in pd.read_hdf('./1 - Organized data gauge/BRAZIL/DATASETS/BRAZIL_DAILY_1961_2024_CLEANED.h5', key='table_data_filtered', encoding='utf-8', chunksize=10000000, iterator=True):\n",
    "    if df_data.empty:\n",
    "        df_data = chunk.copy(deep=True)  # If this is the first chunk, assign it directly to df_data\n",
    "    else:\n",
    "        df_data = pd.concat([df_data, chunk], ignore_index=True)\n",
    "\n",
    "df_data"
   ]
  },
  {
   "cell_type": "code",
   "execution_count": 3,
   "metadata": {},
   "outputs": [
    {
     "data": {
      "application/vnd.microsoft.datawrangler.viewer.v0+json": {
       "columns": [
        {
         "name": "index",
         "rawType": "int64",
         "type": "integer"
        },
        {
         "name": "name_station",
         "rawType": "object",
         "type": "string"
        },
        {
         "name": "gauge_code",
         "rawType": "object",
         "type": "string"
        },
        {
         "name": "city",
         "rawType": "object",
         "type": "string"
        },
        {
         "name": "state",
         "rawType": "object",
         "type": "string"
        },
        {
         "name": "responsible",
         "rawType": "object",
         "type": "string"
        },
        {
         "name": "source",
         "rawType": "object",
         "type": "string"
        },
        {
         "name": "state_abbreviation",
         "rawType": "object",
         "type": "string"
        },
        {
         "name": "lat",
         "rawType": "float64",
         "type": "float"
        },
        {
         "name": "long",
         "rawType": "float64",
         "type": "float"
        }
       ],
       "conversionMethod": "pd.DataFrame",
       "ref": "cace1967-341e-4b5f-be53-337dc87efd4d",
       "rows": [
        [
         "18981",
         "SELVIRIA | S717",
         "S717",
         "SELVIRIA",
         "MATO GROSSO DO SUL",
         "INMET",
         "INMET",
         "MS",
         "-20.35138888",
         "-51.43027777"
        ],
        [
         "18980",
         "SANTA RITA DO PARDO | S716",
         "S716",
         "SANTA RITA DO PARDO",
         "MATO GROSSO DO SUL",
         "INMET",
         "INMET",
         "MS",
         "-21.305889",
         "-52.820375"
        ],
        [
         "18979",
         "RIBAS DO RIO PARDO | S715",
         "S715",
         "RIBAS DO RIO PARDO",
         "MATO GROSSO DO SUL",
         "INMET",
         "INMET",
         "MS",
         "-20.466694",
         "-53.763028"
        ],
        [
         "18978",
         "PEDRO GOMES | S714",
         "S714",
         "PEDRO GOMES",
         "MATO GROSSO DO SUL",
         "INMET",
         "INMET",
         "MS",
         "-18.07277777",
         "-54.54888888"
        ],
        [
         "18977",
         "NOVA ANDRADINA | S713",
         "S713",
         "NOVA ANDRADINA",
         "MATO GROSSO DO SUL",
         "INMET",
         "INMET",
         "MS",
         "-22.0786111",
         "-53.46583333"
        ],
        [
         "18976",
         "NOVA ALVORADA DO SUL | S712",
         "S712",
         "NOVA ALVORADA DO SUL",
         "MATO GROSSO DO SUL",
         "INMET",
         "INMET",
         "MS",
         "-21.450972",
         "-54.341972"
        ],
        [
         "18975",
         "LAGUNA CARAPA | S711",
         "S711",
         "LAGUNA CARAPA",
         "MATO GROSSO DO SUL",
         "INMET",
         "INMET",
         "MS",
         "-22.575389",
         "-55.160333"
        ],
        [
         "18974",
         "ITAPORA | S710",
         "S710",
         "ITAPORA",
         "MATO GROSSO DO SUL",
         "INMET",
         "INMET",
         "MS",
         "-22.092833",
         "-54.798833"
        ],
        [
         "18973",
         "IGUATEMI | S709",
         "S709",
         "IGUATEMI",
         "MATO GROSSO DO SUL",
         "INMET",
         "INMET",
         "MS",
         "-23.64444444",
         "-54.57027777"
        ],
        [
         "18972",
         "FATIMA DO SUL | S708",
         "S708",
         "FATIMA DO SUL",
         "MATO GROSSO DO SUL",
         "INMET",
         "INMET",
         "MS",
         "-22.30861111",
         "-54.32583332"
        ],
        [
         "18971",
         "CAMAPUA | S707",
         "S707",
         "CAMAPUA",
         "MATO GROSSO DO SUL",
         "INMET",
         "INMET",
         "MS",
         "-19.58749999",
         "-54.02999999"
        ],
        [
         "18970",
         "CAARAPO | S706",
         "S706",
         "CAARAPO",
         "MATO GROSSO DO SUL",
         "INMET",
         "INMET",
         "MS",
         "-22.657056",
         "-54.819306"
        ],
        [
         "18969",
         "BRASILANDIA | S705",
         "S705",
         "BRASILANDIA",
         "MATO GROSSO DO SUL",
         "INMET",
         "INMET",
         "MS",
         "-21.29833333",
         "-52.06888888"
        ],
        [
         "18968",
         "BONITO | S704",
         "S704",
         "BONITO",
         "MATO GROSSO DO SUL",
         "INMET",
         "INMET",
         "MS",
         "-21.24666666",
         "-56.45055555"
        ],
        [
         "18967",
         "BANDEIRANTES | S703",
         "S703",
         "BANDEIRANTES",
         "MATO GROSSO DO SUL",
         "INMET",
         "INMET",
         "MS",
         "-19.94555555",
         "-54.3686111"
        ],
        [
         "18966",
         "ARAL MOREIRA | S702",
         "S702",
         "ARAL MOREIRA",
         "MATO GROSSO DO SUL",
         "INMET",
         "INMET",
         "MS",
         "-22.955",
         "-55.6261111"
        ],
        [
         "18965",
         "ANGELICA | S701",
         "S701",
         "ANGELICA",
         "MATO GROSSO DO SUL",
         "INMET",
         "INMET",
         "MS",
         "-22.148083",
         "-53.763736"
        ],
        [
         "18964",
         "BELO HORIZONTE - CERCADINHO | F501",
         "F501",
         "BELO HORIZONTE - CERCADINHO",
         "MINAS GERAIS",
         "INMET",
         "INMET",
         "MG",
         "-19.97999999",
         "-43.95861111"
        ],
        [
         "18963",
         "TESTE V3 - Cemaden12",
         "CEMADEN_12",
         "CACHOEIRA PAULISTA",
         "SÃO PAULO",
         "CEMADEN",
         "CEMADEN",
         "SP",
         "-22.67403",
         "-44.99584"
        ],
        [
         "18962",
         "Cachoeira Paulista - Cemaden11 TESTES",
         "CEMADEN_11",
         "CACHOEIRA PAULISTA",
         "SÃO PAULO",
         "CEMADEN",
         "CEMADEN",
         "SP",
         "-22.67408",
         "-44.99575"
        ],
        [
         "18961",
         "Cachoeira Paulista - Cemaden10 - TESTES",
         "CEMADEN_10",
         "CACHOEIRA PAULISTA",
         "SÃO PAULO",
         "CEMADEN",
         "CEMADEN",
         "SP",
         "-22.674132",
         "-44.995534"
        ],
        [
         "18960",
         "PORTO ALEGRE- BELEM NOVO | B807",
         "B807",
         "PORTO ALEGRE- BELEM NOVO",
         "RIO GRANDE DO SUL",
         "INMET",
         "INMET",
         "RS",
         "-30.1861111",
         "-51.17805554"
        ],
        [
         "18959",
         "COLOMBO | B806",
         "B806",
         "COLOMBO",
         "PARANÁ",
         "INMET",
         "INMET",
         "PR",
         "-25.322464",
         "-49.157733"
        ],
        [
         "18958",
         "LARANJEIRAS DO SUL | B804",
         "B804",
         "LARANJEIRAS DO SUL",
         "PARANÁ",
         "INMET",
         "INMET",
         "PR",
         "-25.36888888",
         "-52.39194444"
        ],
        [
         "18957",
         "CAMPINA DA LAGOA | B803",
         "B803",
         "CAMPINA DA LAGOA",
         "PARANÁ",
         "INMET",
         "INMET",
         "PR",
         "-24.57083332",
         "-52.80027777"
        ],
        [
         "18956",
         "ROSARIO OESTE | A944",
         "A944",
         "ROSARIO OESTE",
         "MATO GROSSO",
         "INMET",
         "INMET",
         "MT",
         "-14.82888888",
         "-56.44194444"
        ],
        [
         "18955",
         "SERRA NOVA DOURADA | A943",
         "A943",
         "SERRA NOVA DOURADA",
         "MATO GROSSO",
         "INMET",
         "INMET",
         "MT",
         "-11.98777777",
         "-51.4261111"
        ],
        [
         "18954",
         "SAO JOSE DO XINGU | A942",
         "A942",
         "SAO JOSE DO XINGU",
         "MATO GROSSO",
         "INMET",
         "INMET",
         "MT",
         "-10.48416666",
         "-52.37249999"
        ],
        [
         "18953",
         "ARIQUEMES | A940",
         "A940",
         "ARIQUEMES",
         "RONDÔNIA",
         "INMET",
         "INMET",
         "RO",
         "-9.94888888",
         "-62.96194444"
        ],
        [
         "18952",
         "CACOAL | A939",
         "A939",
         "CACOAL",
         "RONDÔNIA",
         "INMET",
         "INMET",
         "RO",
         "-11.44583333",
         "-61.43416666"
        ],
        [
         "18951",
         "VILHENA | A938",
         "A938",
         "VILHENA",
         "RONDÔNIA",
         "INMET",
         "INMET",
         "RO",
         "-12.73499999",
         "-60.15777777"
        ],
        [
         "18950",
         "PONTES E LACERDA | A937",
         "A937",
         "PONTES E LACERDA",
         "MATO GROSSO",
         "INMET",
         "INMET",
         "MT",
         "-15.23444444",
         "-59.3461111"
        ],
        [
         "18949",
         "SALTO DO CEU | A936",
         "A936",
         "SALTO DO CEU",
         "MATO GROSSO",
         "INMET",
         "INMET",
         "MT",
         "-15.12472221",
         "-58.12722221"
        ],
        [
         "18948",
         "PORTO ESTRELA | A935",
         "A935",
         "PORTO ESTRELA",
         "MATO GROSSO",
         "INMET",
         "INMET",
         "MT",
         "-15.32472221",
         "-57.22583332"
        ],
        [
         "18947",
         "ALTO TAQUARI | A934",
         "A934",
         "ALTO TAQUARI",
         "MATO GROSSO",
         "INMET",
         "INMET",
         "MT",
         "-17.8411111",
         "-53.28944444"
        ],
        [
         "18946",
         "ITIQUIRA | A933",
         "A933",
         "ITIQUIRA",
         "MATO GROSSO",
         "INMET",
         "INMET",
         "MT",
         "-17.17499999",
         "-54.50166666"
        ],
        [
         "18945",
         "GUIRATINGA | A932",
         "A932",
         "GUIRATINGA",
         "MATO GROSSO",
         "INMET",
         "INMET",
         "MT",
         "-16.34166666",
         "-53.76611111"
        ],
        [
         "18944",
         "SANTO ANTONIO DO LESTE | A931",
         "A931",
         "SANTO ANTONIO DO LESTE",
         "MATO GROSSO",
         "INMET",
         "INMET",
         "MT",
         "-14.92777777",
         "-53.8836111"
        ],
        [
         "18943",
         "GAUCHA DO NORTE | A930",
         "A930",
         "GAUCHA DO NORTE",
         "MATO GROSSO",
         "INMET",
         "INMET",
         "MT",
         "-13.18472221",
         "-53.2575"
        ],
        [
         "18942",
         "NOVA UBIRATA | A929",
         "A929",
         "NOVA UBIRATA",
         "MATO GROSSO",
         "INMET",
         "INMET",
         "MT",
         "-13.41111111",
         "-54.75222222"
        ],
        [
         "18941",
         "NOVA MARINGA | A928",
         "A928",
         "NOVA MARINGA",
         "MATO GROSSO",
         "INMET",
         "INMET",
         "MT",
         "-13.0386111",
         "-57.09222221"
        ],
        [
         "18940",
         "BRASNORTE (NOVO MUNDO) | A927",
         "A927",
         "BRASNORTE (NOVO MUNDO)",
         "MATO GROSSO",
         "INMET",
         "INMET",
         "MT",
         "-12.52194443",
         "-58.23138888"
        ],
        [
         "18939",
         "CARLINDA | A926",
         "A926",
         "CARLINDA",
         "MATO GROSSO",
         "INMET",
         "INMET",
         "MT",
         "-9.97055554",
         "-55.82749999"
        ],
        [
         "18938",
         "PORTO VELHO | A925",
         "A925",
         "PORTO VELHO",
         "RONDÔNIA",
         "INMET",
         "INMET",
         "RO",
         "-8.7936111",
         "-63.84583333"
        ],
        [
         "18937",
         "ALTA FLORESTA | A924",
         "A924",
         "ALTA FLORESTA",
         "MATO GROSSO",
         "INMET",
         "INMET",
         "MT",
         "-10.07722221",
         "-56.17916666"
        ],
        [
         "18936",
         "PRIMAVERA DO LESTE | A923",
         "A923",
         "PRIMAVERA DO LESTE",
         "MATO GROSSO",
         "INMET",
         "INMET",
         "MT",
         "-15.57999999",
         "-54.3811111"
        ],
        [
         "18935",
         "VILA BELA DA SANTISSIMA TRINDADE | A922",
         "A922",
         "VILA BELA DA SANTISSIMA TRINDADE",
         "MATO GROSSO",
         "INMET",
         "INMET",
         "MT",
         "-15.06277777",
         "-59.87305554"
        ],
        [
         "18934",
         "SAO FELIX  DO ARAGUAIA | A921",
         "A921",
         "SAO FELIX  DO ARAGUAIA",
         "MATO GROSSO",
         "INMET",
         "INMET",
         "MT",
         "-11.61888888",
         "-50.72777777"
        ],
        [
         "18933",
         "JUINA | A920",
         "A920",
         "JUINA",
         "MATO GROSSO",
         "INMET",
         "INMET",
         "MT",
         "-11.375126",
         "-58.774785"
        ],
        [
         "18932",
         "COTRIGUACU | A919",
         "A919",
         "COTRIGUACU",
         "MATO GROSSO",
         "INMET",
         "INMET",
         "MT",
         "-9.90638888",
         "-58.57222221"
        ]
       ],
       "shape": {
        "columns": 9,
        "rows": 18370
       }
      },
      "text/html": [
       "<div>\n",
       "<style scoped>\n",
       "    .dataframe tbody tr th:only-of-type {\n",
       "        vertical-align: middle;\n",
       "    }\n",
       "\n",
       "    .dataframe tbody tr th {\n",
       "        vertical-align: top;\n",
       "    }\n",
       "\n",
       "    .dataframe thead th {\n",
       "        text-align: right;\n",
       "    }\n",
       "</style>\n",
       "<table border=\"1\" class=\"dataframe\">\n",
       "  <thead>\n",
       "    <tr style=\"text-align: right;\">\n",
       "      <th></th>\n",
       "      <th>name_station</th>\n",
       "      <th>gauge_code</th>\n",
       "      <th>city</th>\n",
       "      <th>state</th>\n",
       "      <th>responsible</th>\n",
       "      <th>source</th>\n",
       "      <th>state_abbreviation</th>\n",
       "      <th>lat</th>\n",
       "      <th>long</th>\n",
       "    </tr>\n",
       "  </thead>\n",
       "  <tbody>\n",
       "    <tr>\n",
       "      <th>18981</th>\n",
       "      <td>SELVIRIA | S717</td>\n",
       "      <td>S717</td>\n",
       "      <td>SELVIRIA</td>\n",
       "      <td>MATO GROSSO DO SUL</td>\n",
       "      <td>INMET</td>\n",
       "      <td>INMET</td>\n",
       "      <td>MS</td>\n",
       "      <td>-20.351389</td>\n",
       "      <td>-51.430278</td>\n",
       "    </tr>\n",
       "    <tr>\n",
       "      <th>18980</th>\n",
       "      <td>SANTA RITA DO PARDO | S716</td>\n",
       "      <td>S716</td>\n",
       "      <td>SANTA RITA DO PARDO</td>\n",
       "      <td>MATO GROSSO DO SUL</td>\n",
       "      <td>INMET</td>\n",
       "      <td>INMET</td>\n",
       "      <td>MS</td>\n",
       "      <td>-21.305889</td>\n",
       "      <td>-52.820375</td>\n",
       "    </tr>\n",
       "    <tr>\n",
       "      <th>18979</th>\n",
       "      <td>RIBAS DO RIO PARDO | S715</td>\n",
       "      <td>S715</td>\n",
       "      <td>RIBAS DO RIO PARDO</td>\n",
       "      <td>MATO GROSSO DO SUL</td>\n",
       "      <td>INMET</td>\n",
       "      <td>INMET</td>\n",
       "      <td>MS</td>\n",
       "      <td>-20.466694</td>\n",
       "      <td>-53.763028</td>\n",
       "    </tr>\n",
       "    <tr>\n",
       "      <th>18978</th>\n",
       "      <td>PEDRO GOMES | S714</td>\n",
       "      <td>S714</td>\n",
       "      <td>PEDRO GOMES</td>\n",
       "      <td>MATO GROSSO DO SUL</td>\n",
       "      <td>INMET</td>\n",
       "      <td>INMET</td>\n",
       "      <td>MS</td>\n",
       "      <td>-18.072778</td>\n",
       "      <td>-54.548889</td>\n",
       "    </tr>\n",
       "    <tr>\n",
       "      <th>18977</th>\n",
       "      <td>NOVA ANDRADINA | S713</td>\n",
       "      <td>S713</td>\n",
       "      <td>NOVA ANDRADINA</td>\n",
       "      <td>MATO GROSSO DO SUL</td>\n",
       "      <td>INMET</td>\n",
       "      <td>INMET</td>\n",
       "      <td>MS</td>\n",
       "      <td>-22.078611</td>\n",
       "      <td>-53.465833</td>\n",
       "    </tr>\n",
       "    <tr>\n",
       "      <th>...</th>\n",
       "      <td>...</td>\n",
       "      <td>...</td>\n",
       "      <td>...</td>\n",
       "      <td>...</td>\n",
       "      <td>...</td>\n",
       "      <td>...</td>\n",
       "      <td>...</td>\n",
       "      <td>...</td>\n",
       "      <td>...</td>\n",
       "    </tr>\n",
       "    <tr>\n",
       "      <th>4</th>\n",
       "      <td>MARUDA</td>\n",
       "      <td>00047005</td>\n",
       "      <td>MARAPANIM</td>\n",
       "      <td>PARÁ</td>\n",
       "      <td>ANA</td>\n",
       "      <td>HIDROWEB</td>\n",
       "      <td>PA</td>\n",
       "      <td>-0.633600</td>\n",
       "      <td>-47.658300</td>\n",
       "    </tr>\n",
       "    <tr>\n",
       "      <th>3</th>\n",
       "      <td>PRIMAVERA</td>\n",
       "      <td>00047004</td>\n",
       "      <td>PRIMAVERA</td>\n",
       "      <td>PARÁ</td>\n",
       "      <td>ANA</td>\n",
       "      <td>HIDROWEB</td>\n",
       "      <td>PA</td>\n",
       "      <td>-0.929400</td>\n",
       "      <td>-47.099400</td>\n",
       "    </tr>\n",
       "    <tr>\n",
       "      <th>2</th>\n",
       "      <td>CURUÇA</td>\n",
       "      <td>00047003</td>\n",
       "      <td>CURUÇA</td>\n",
       "      <td>PARÁ</td>\n",
       "      <td>ANA</td>\n",
       "      <td>HIDROWEB</td>\n",
       "      <td>PA</td>\n",
       "      <td>-0.737500</td>\n",
       "      <td>-47.853600</td>\n",
       "    </tr>\n",
       "    <tr>\n",
       "      <th>1</th>\n",
       "      <td>SALINÓPOLIS</td>\n",
       "      <td>00047002</td>\n",
       "      <td>SALINÓPOLIS</td>\n",
       "      <td>PARÁ</td>\n",
       "      <td>ANA</td>\n",
       "      <td>HIDROWEB</td>\n",
       "      <td>PA</td>\n",
       "      <td>-0.623100</td>\n",
       "      <td>-47.353600</td>\n",
       "    </tr>\n",
       "    <tr>\n",
       "      <th>0</th>\n",
       "      <td>SALINÓPOLIS</td>\n",
       "      <td>00047000</td>\n",
       "      <td>SALINÓPOLIS</td>\n",
       "      <td>PARÁ</td>\n",
       "      <td>INMET</td>\n",
       "      <td>HIDROWEB</td>\n",
       "      <td>PA</td>\n",
       "      <td>-0.650000</td>\n",
       "      <td>-47.550000</td>\n",
       "    </tr>\n",
       "  </tbody>\n",
       "</table>\n",
       "<p>18370 rows × 9 columns</p>\n",
       "</div>"
      ],
      "text/plain": [
       "                     name_station gauge_code                 city  \\\n",
       "18981             SELVIRIA | S717       S717             SELVIRIA   \n",
       "18980  SANTA RITA DO PARDO | S716       S716  SANTA RITA DO PARDO   \n",
       "18979   RIBAS DO RIO PARDO | S715       S715   RIBAS DO RIO PARDO   \n",
       "18978          PEDRO GOMES | S714       S714          PEDRO GOMES   \n",
       "18977       NOVA ANDRADINA | S713       S713       NOVA ANDRADINA   \n",
       "...                           ...        ...                  ...   \n",
       "4                          MARUDA   00047005            MARAPANIM   \n",
       "3                       PRIMAVERA   00047004            PRIMAVERA   \n",
       "2                          CURUÇA   00047003               CURUÇA   \n",
       "1                     SALINÓPOLIS   00047002          SALINÓPOLIS   \n",
       "0                     SALINÓPOLIS   00047000          SALINÓPOLIS   \n",
       "\n",
       "                    state responsible    source state_abbreviation        lat  \\\n",
       "18981  MATO GROSSO DO SUL       INMET     INMET                 MS -20.351389   \n",
       "18980  MATO GROSSO DO SUL       INMET     INMET                 MS -21.305889   \n",
       "18979  MATO GROSSO DO SUL       INMET     INMET                 MS -20.466694   \n",
       "18978  MATO GROSSO DO SUL       INMET     INMET                 MS -18.072778   \n",
       "18977  MATO GROSSO DO SUL       INMET     INMET                 MS -22.078611   \n",
       "...                   ...         ...       ...                ...        ...   \n",
       "4                    PARÁ         ANA  HIDROWEB                 PA  -0.633600   \n",
       "3                    PARÁ         ANA  HIDROWEB                 PA  -0.929400   \n",
       "2                    PARÁ         ANA  HIDROWEB                 PA  -0.737500   \n",
       "1                    PARÁ         ANA  HIDROWEB                 PA  -0.623100   \n",
       "0                    PARÁ       INMET  HIDROWEB                 PA  -0.650000   \n",
       "\n",
       "            long  \n",
       "18981 -51.430278  \n",
       "18980 -52.820375  \n",
       "18979 -53.763028  \n",
       "18978 -54.548889  \n",
       "18977 -53.465833  \n",
       "...          ...  \n",
       "4     -47.658300  \n",
       "3     -47.099400  \n",
       "2     -47.853600  \n",
       "1     -47.353600  \n",
       "0     -47.550000  \n",
       "\n",
       "[18370 rows x 9 columns]"
      ]
     },
     "execution_count": 3,
     "metadata": {},
     "output_type": "execute_result"
    }
   ],
   "source": [
    "df_info = pd.read_hdf('./1 - Organized data gauge/BRAZIL/DATASETS/BRAZIL_DAILY_1961_2024_CLEANED.h5', key = 'table_info', encoding = 'utf-8')\n",
    "df_info"
   ]
  },
  {
   "cell_type": "code",
   "execution_count": 5,
   "metadata": {},
   "outputs": [
    {
     "data": {
      "application/vnd.microsoft.datawrangler.viewer.v0+json": {
       "columns": [
        {
         "name": "index",
         "rawType": "int64",
         "type": "integer"
        },
        {
         "name": "gauge_code",
         "rawType": "object",
         "type": "string"
        },
        {
         "name": "datetime",
         "rawType": "datetime64[ns]",
         "type": "datetime"
        },
        {
         "name": "rain_mm",
         "rawType": "float64",
         "type": "float"
        },
        {
         "name": "name_station",
         "rawType": "object",
         "type": "string"
        },
        {
         "name": "city",
         "rawType": "object",
         "type": "string"
        },
        {
         "name": "state",
         "rawType": "object",
         "type": "string"
        },
        {
         "name": "responsible",
         "rawType": "object",
         "type": "string"
        },
        {
         "name": "source",
         "rawType": "object",
         "type": "string"
        },
        {
         "name": "state_abbreviation",
         "rawType": "object",
         "type": "string"
        },
        {
         "name": "lat",
         "rawType": "float64",
         "type": "float"
        },
        {
         "name": "long",
         "rawType": "float64",
         "type": "float"
        },
        {
         "name": "year",
         "rawType": "int32",
         "type": "integer"
        }
       ],
       "conversionMethod": "pd.DataFrame",
       "ref": "ae684ad3-1afe-40a4-98ee-8759c29f44a3",
       "rows": [
        [
         "0",
         "00047000",
         "1961-01-01 00:00:00",
         "0.0",
         "SALINÓPOLIS",
         "SALINÓPOLIS",
         "PARÁ",
         "INMET",
         "HIDROWEB",
         "PA",
         "-0.65",
         "-47.55",
         "1961"
        ],
        [
         "1",
         "00047000",
         "1961-01-02 00:00:00",
         "0.0",
         "SALINÓPOLIS",
         "SALINÓPOLIS",
         "PARÁ",
         "INMET",
         "HIDROWEB",
         "PA",
         "-0.65",
         "-47.55",
         "1961"
        ],
        [
         "2",
         "00047000",
         "1961-01-03 00:00:00",
         "0.0",
         "SALINÓPOLIS",
         "SALINÓPOLIS",
         "PARÁ",
         "INMET",
         "HIDROWEB",
         "PA",
         "-0.65",
         "-47.55",
         "1961"
        ],
        [
         "3",
         "00047000",
         "1961-01-04 00:00:00",
         "0.0",
         "SALINÓPOLIS",
         "SALINÓPOLIS",
         "PARÁ",
         "INMET",
         "HIDROWEB",
         "PA",
         "-0.65",
         "-47.55",
         "1961"
        ],
        [
         "4",
         "00047000",
         "1961-01-05 00:00:00",
         "0.0",
         "SALINÓPOLIS",
         "SALINÓPOLIS",
         "PARÁ",
         "INMET",
         "HIDROWEB",
         "PA",
         "-0.65",
         "-47.55",
         "1961"
        ],
        [
         "5",
         "00047000",
         "1961-01-06 00:00:00",
         "0.0",
         "SALINÓPOLIS",
         "SALINÓPOLIS",
         "PARÁ",
         "INMET",
         "HIDROWEB",
         "PA",
         "-0.65",
         "-47.55",
         "1961"
        ],
        [
         "6",
         "00047000",
         "1961-01-07 00:00:00",
         "0.0",
         "SALINÓPOLIS",
         "SALINÓPOLIS",
         "PARÁ",
         "INMET",
         "HIDROWEB",
         "PA",
         "-0.65",
         "-47.55",
         "1961"
        ],
        [
         "7",
         "00047000",
         "1961-01-08 00:00:00",
         "0.0",
         "SALINÓPOLIS",
         "SALINÓPOLIS",
         "PARÁ",
         "INMET",
         "HIDROWEB",
         "PA",
         "-0.65",
         "-47.55",
         "1961"
        ],
        [
         "8",
         "00047000",
         "1961-01-09 00:00:00",
         "0.0",
         "SALINÓPOLIS",
         "SALINÓPOLIS",
         "PARÁ",
         "INMET",
         "HIDROWEB",
         "PA",
         "-0.65",
         "-47.55",
         "1961"
        ],
        [
         "9",
         "00047000",
         "1961-01-10 00:00:00",
         "0.0",
         "SALINÓPOLIS",
         "SALINÓPOLIS",
         "PARÁ",
         "INMET",
         "HIDROWEB",
         "PA",
         "-0.65",
         "-47.55",
         "1961"
        ],
        [
         "10",
         "00047000",
         "1961-01-11 00:00:00",
         "0.0",
         "SALINÓPOLIS",
         "SALINÓPOLIS",
         "PARÁ",
         "INMET",
         "HIDROWEB",
         "PA",
         "-0.65",
         "-47.55",
         "1961"
        ],
        [
         "11",
         "00047000",
         "1961-01-12 00:00:00",
         "0.0",
         "SALINÓPOLIS",
         "SALINÓPOLIS",
         "PARÁ",
         "INMET",
         "HIDROWEB",
         "PA",
         "-0.65",
         "-47.55",
         "1961"
        ],
        [
         "12",
         "00047000",
         "1961-01-13 00:00:00",
         "0.0",
         "SALINÓPOLIS",
         "SALINÓPOLIS",
         "PARÁ",
         "INMET",
         "HIDROWEB",
         "PA",
         "-0.65",
         "-47.55",
         "1961"
        ],
        [
         "13",
         "00047000",
         "1961-01-14 00:00:00",
         "0.0",
         "SALINÓPOLIS",
         "SALINÓPOLIS",
         "PARÁ",
         "INMET",
         "HIDROWEB",
         "PA",
         "-0.65",
         "-47.55",
         "1961"
        ],
        [
         "14",
         "00047000",
         "1961-01-15 00:00:00",
         "0.0",
         "SALINÓPOLIS",
         "SALINÓPOLIS",
         "PARÁ",
         "INMET",
         "HIDROWEB",
         "PA",
         "-0.65",
         "-47.55",
         "1961"
        ],
        [
         "15",
         "00047000",
         "1961-01-16 00:00:00",
         "0.0",
         "SALINÓPOLIS",
         "SALINÓPOLIS",
         "PARÁ",
         "INMET",
         "HIDROWEB",
         "PA",
         "-0.65",
         "-47.55",
         "1961"
        ],
        [
         "16",
         "00047000",
         "1961-01-17 00:00:00",
         "17.0",
         "SALINÓPOLIS",
         "SALINÓPOLIS",
         "PARÁ",
         "INMET",
         "HIDROWEB",
         "PA",
         "-0.65",
         "-47.55",
         "1961"
        ],
        [
         "17",
         "00047000",
         "1961-01-18 00:00:00",
         "22.6",
         "SALINÓPOLIS",
         "SALINÓPOLIS",
         "PARÁ",
         "INMET",
         "HIDROWEB",
         "PA",
         "-0.65",
         "-47.55",
         "1961"
        ],
        [
         "18",
         "00047000",
         "1961-01-19 00:00:00",
         "6.4",
         "SALINÓPOLIS",
         "SALINÓPOLIS",
         "PARÁ",
         "INMET",
         "HIDROWEB",
         "PA",
         "-0.65",
         "-47.55",
         "1961"
        ],
        [
         "19",
         "00047000",
         "1961-01-20 00:00:00",
         "5.6",
         "SALINÓPOLIS",
         "SALINÓPOLIS",
         "PARÁ",
         "INMET",
         "HIDROWEB",
         "PA",
         "-0.65",
         "-47.55",
         "1961"
        ],
        [
         "20",
         "00047000",
         "1961-01-21 00:00:00",
         "23.4",
         "SALINÓPOLIS",
         "SALINÓPOLIS",
         "PARÁ",
         "INMET",
         "HIDROWEB",
         "PA",
         "-0.65",
         "-47.55",
         "1961"
        ],
        [
         "21",
         "00047000",
         "1961-01-22 00:00:00",
         "0.0",
         "SALINÓPOLIS",
         "SALINÓPOLIS",
         "PARÁ",
         "INMET",
         "HIDROWEB",
         "PA",
         "-0.65",
         "-47.55",
         "1961"
        ],
        [
         "22",
         "00047000",
         "1961-01-23 00:00:00",
         "0.0",
         "SALINÓPOLIS",
         "SALINÓPOLIS",
         "PARÁ",
         "INMET",
         "HIDROWEB",
         "PA",
         "-0.65",
         "-47.55",
         "1961"
        ],
        [
         "23",
         "00047000",
         "1961-01-24 00:00:00",
         "0.0",
         "SALINÓPOLIS",
         "SALINÓPOLIS",
         "PARÁ",
         "INMET",
         "HIDROWEB",
         "PA",
         "-0.65",
         "-47.55",
         "1961"
        ],
        [
         "24",
         "00047000",
         "1961-01-25 00:00:00",
         "0.0",
         "SALINÓPOLIS",
         "SALINÓPOLIS",
         "PARÁ",
         "INMET",
         "HIDROWEB",
         "PA",
         "-0.65",
         "-47.55",
         "1961"
        ],
        [
         "25",
         "00047000",
         "1961-01-26 00:00:00",
         "23.0",
         "SALINÓPOLIS",
         "SALINÓPOLIS",
         "PARÁ",
         "INMET",
         "HIDROWEB",
         "PA",
         "-0.65",
         "-47.55",
         "1961"
        ],
        [
         "26",
         "00047000",
         "1961-01-27 00:00:00",
         "5.8",
         "SALINÓPOLIS",
         "SALINÓPOLIS",
         "PARÁ",
         "INMET",
         "HIDROWEB",
         "PA",
         "-0.65",
         "-47.55",
         "1961"
        ],
        [
         "27",
         "00047000",
         "1961-01-28 00:00:00",
         "0.0",
         "SALINÓPOLIS",
         "SALINÓPOLIS",
         "PARÁ",
         "INMET",
         "HIDROWEB",
         "PA",
         "-0.65",
         "-47.55",
         "1961"
        ],
        [
         "28",
         "00047000",
         "1961-01-29 00:00:00",
         "0.0",
         "SALINÓPOLIS",
         "SALINÓPOLIS",
         "PARÁ",
         "INMET",
         "HIDROWEB",
         "PA",
         "-0.65",
         "-47.55",
         "1961"
        ],
        [
         "29",
         "00047000",
         "1961-01-30 00:00:00",
         "16.4",
         "SALINÓPOLIS",
         "SALINÓPOLIS",
         "PARÁ",
         "INMET",
         "HIDROWEB",
         "PA",
         "-0.65",
         "-47.55",
         "1961"
        ],
        [
         "30",
         "00047000",
         "1961-01-31 00:00:00",
         "0.0",
         "SALINÓPOLIS",
         "SALINÓPOLIS",
         "PARÁ",
         "INMET",
         "HIDROWEB",
         "PA",
         "-0.65",
         "-47.55",
         "1961"
        ],
        [
         "31",
         "00047000",
         "1961-02-01 00:00:00",
         "5.8",
         "SALINÓPOLIS",
         "SALINÓPOLIS",
         "PARÁ",
         "INMET",
         "HIDROWEB",
         "PA",
         "-0.65",
         "-47.55",
         "1961"
        ],
        [
         "32",
         "00047000",
         "1961-02-02 00:00:00",
         "3.2",
         "SALINÓPOLIS",
         "SALINÓPOLIS",
         "PARÁ",
         "INMET",
         "HIDROWEB",
         "PA",
         "-0.65",
         "-47.55",
         "1961"
        ],
        [
         "33",
         "00047000",
         "1961-02-03 00:00:00",
         "0.0",
         "SALINÓPOLIS",
         "SALINÓPOLIS",
         "PARÁ",
         "INMET",
         "HIDROWEB",
         "PA",
         "-0.65",
         "-47.55",
         "1961"
        ],
        [
         "34",
         "00047000",
         "1961-02-04 00:00:00",
         "16.8",
         "SALINÓPOLIS",
         "SALINÓPOLIS",
         "PARÁ",
         "INMET",
         "HIDROWEB",
         "PA",
         "-0.65",
         "-47.55",
         "1961"
        ],
        [
         "35",
         "00047000",
         "1961-02-05 00:00:00",
         "31.2",
         "SALINÓPOLIS",
         "SALINÓPOLIS",
         "PARÁ",
         "INMET",
         "HIDROWEB",
         "PA",
         "-0.65",
         "-47.55",
         "1961"
        ],
        [
         "36",
         "00047000",
         "1961-02-06 00:00:00",
         "13.4",
         "SALINÓPOLIS",
         "SALINÓPOLIS",
         "PARÁ",
         "INMET",
         "HIDROWEB",
         "PA",
         "-0.65",
         "-47.55",
         "1961"
        ],
        [
         "37",
         "00047000",
         "1961-02-07 00:00:00",
         "12.2",
         "SALINÓPOLIS",
         "SALINÓPOLIS",
         "PARÁ",
         "INMET",
         "HIDROWEB",
         "PA",
         "-0.65",
         "-47.55",
         "1961"
        ],
        [
         "38",
         "00047000",
         "1961-02-08 00:00:00",
         "0.0",
         "SALINÓPOLIS",
         "SALINÓPOLIS",
         "PARÁ",
         "INMET",
         "HIDROWEB",
         "PA",
         "-0.65",
         "-47.55",
         "1961"
        ],
        [
         "39",
         "00047000",
         "1961-02-09 00:00:00",
         "6.8",
         "SALINÓPOLIS",
         "SALINÓPOLIS",
         "PARÁ",
         "INMET",
         "HIDROWEB",
         "PA",
         "-0.65",
         "-47.55",
         "1961"
        ],
        [
         "40",
         "00047000",
         "1961-02-10 00:00:00",
         "0.0",
         "SALINÓPOLIS",
         "SALINÓPOLIS",
         "PARÁ",
         "INMET",
         "HIDROWEB",
         "PA",
         "-0.65",
         "-47.55",
         "1961"
        ],
        [
         "41",
         "00047000",
         "1961-02-11 00:00:00",
         "0.0",
         "SALINÓPOLIS",
         "SALINÓPOLIS",
         "PARÁ",
         "INMET",
         "HIDROWEB",
         "PA",
         "-0.65",
         "-47.55",
         "1961"
        ],
        [
         "42",
         "00047000",
         "1961-02-12 00:00:00",
         "0.0",
         "SALINÓPOLIS",
         "SALINÓPOLIS",
         "PARÁ",
         "INMET",
         "HIDROWEB",
         "PA",
         "-0.65",
         "-47.55",
         "1961"
        ],
        [
         "43",
         "00047000",
         "1961-02-13 00:00:00",
         "0.0",
         "SALINÓPOLIS",
         "SALINÓPOLIS",
         "PARÁ",
         "INMET",
         "HIDROWEB",
         "PA",
         "-0.65",
         "-47.55",
         "1961"
        ],
        [
         "44",
         "00047000",
         "1961-02-14 00:00:00",
         "0.0",
         "SALINÓPOLIS",
         "SALINÓPOLIS",
         "PARÁ",
         "INMET",
         "HIDROWEB",
         "PA",
         "-0.65",
         "-47.55",
         "1961"
        ],
        [
         "45",
         "00047000",
         "1961-02-15 00:00:00",
         "34.8",
         "SALINÓPOLIS",
         "SALINÓPOLIS",
         "PARÁ",
         "INMET",
         "HIDROWEB",
         "PA",
         "-0.65",
         "-47.55",
         "1961"
        ],
        [
         "46",
         "00047000",
         "1961-02-16 00:00:00",
         "79.2",
         "SALINÓPOLIS",
         "SALINÓPOLIS",
         "PARÁ",
         "INMET",
         "HIDROWEB",
         "PA",
         "-0.65",
         "-47.55",
         "1961"
        ],
        [
         "47",
         "00047000",
         "1961-02-17 00:00:00",
         "34.4",
         "SALINÓPOLIS",
         "SALINÓPOLIS",
         "PARÁ",
         "INMET",
         "HIDROWEB",
         "PA",
         "-0.65",
         "-47.55",
         "1961"
        ],
        [
         "48",
         "00047000",
         "1961-02-18 00:00:00",
         "41.8",
         "SALINÓPOLIS",
         "SALINÓPOLIS",
         "PARÁ",
         "INMET",
         "HIDROWEB",
         "PA",
         "-0.65",
         "-47.55",
         "1961"
        ],
        [
         "49",
         "00047000",
         "1961-02-19 00:00:00",
         "90.6",
         "SALINÓPOLIS",
         "SALINÓPOLIS",
         "PARÁ",
         "INMET",
         "HIDROWEB",
         "PA",
         "-0.65",
         "-47.55",
         "1961"
        ]
       ],
       "shape": {
        "columns": 12,
        "rows": 123593345
       }
      },
      "text/html": [
       "<div>\n",
       "<style scoped>\n",
       "    .dataframe tbody tr th:only-of-type {\n",
       "        vertical-align: middle;\n",
       "    }\n",
       "\n",
       "    .dataframe tbody tr th {\n",
       "        vertical-align: top;\n",
       "    }\n",
       "\n",
       "    .dataframe thead th {\n",
       "        text-align: right;\n",
       "    }\n",
       "</style>\n",
       "<table border=\"1\" class=\"dataframe\">\n",
       "  <thead>\n",
       "    <tr style=\"text-align: right;\">\n",
       "      <th></th>\n",
       "      <th>gauge_code</th>\n",
       "      <th>datetime</th>\n",
       "      <th>rain_mm</th>\n",
       "      <th>name_station</th>\n",
       "      <th>city</th>\n",
       "      <th>state</th>\n",
       "      <th>responsible</th>\n",
       "      <th>source</th>\n",
       "      <th>state_abbreviation</th>\n",
       "      <th>lat</th>\n",
       "      <th>long</th>\n",
       "      <th>year</th>\n",
       "    </tr>\n",
       "  </thead>\n",
       "  <tbody>\n",
       "    <tr>\n",
       "      <th>0</th>\n",
       "      <td>00047000</td>\n",
       "      <td>1961-01-01</td>\n",
       "      <td>0.0</td>\n",
       "      <td>SALINÓPOLIS</td>\n",
       "      <td>SALINÓPOLIS</td>\n",
       "      <td>PARÁ</td>\n",
       "      <td>INMET</td>\n",
       "      <td>HIDROWEB</td>\n",
       "      <td>PA</td>\n",
       "      <td>-0.650000</td>\n",
       "      <td>-47.550000</td>\n",
       "      <td>1961</td>\n",
       "    </tr>\n",
       "    <tr>\n",
       "      <th>1</th>\n",
       "      <td>00047000</td>\n",
       "      <td>1961-01-02</td>\n",
       "      <td>0.0</td>\n",
       "      <td>SALINÓPOLIS</td>\n",
       "      <td>SALINÓPOLIS</td>\n",
       "      <td>PARÁ</td>\n",
       "      <td>INMET</td>\n",
       "      <td>HIDROWEB</td>\n",
       "      <td>PA</td>\n",
       "      <td>-0.650000</td>\n",
       "      <td>-47.550000</td>\n",
       "      <td>1961</td>\n",
       "    </tr>\n",
       "    <tr>\n",
       "      <th>2</th>\n",
       "      <td>00047000</td>\n",
       "      <td>1961-01-03</td>\n",
       "      <td>0.0</td>\n",
       "      <td>SALINÓPOLIS</td>\n",
       "      <td>SALINÓPOLIS</td>\n",
       "      <td>PARÁ</td>\n",
       "      <td>INMET</td>\n",
       "      <td>HIDROWEB</td>\n",
       "      <td>PA</td>\n",
       "      <td>-0.650000</td>\n",
       "      <td>-47.550000</td>\n",
       "      <td>1961</td>\n",
       "    </tr>\n",
       "    <tr>\n",
       "      <th>3</th>\n",
       "      <td>00047000</td>\n",
       "      <td>1961-01-04</td>\n",
       "      <td>0.0</td>\n",
       "      <td>SALINÓPOLIS</td>\n",
       "      <td>SALINÓPOLIS</td>\n",
       "      <td>PARÁ</td>\n",
       "      <td>INMET</td>\n",
       "      <td>HIDROWEB</td>\n",
       "      <td>PA</td>\n",
       "      <td>-0.650000</td>\n",
       "      <td>-47.550000</td>\n",
       "      <td>1961</td>\n",
       "    </tr>\n",
       "    <tr>\n",
       "      <th>4</th>\n",
       "      <td>00047000</td>\n",
       "      <td>1961-01-05</td>\n",
       "      <td>0.0</td>\n",
       "      <td>SALINÓPOLIS</td>\n",
       "      <td>SALINÓPOLIS</td>\n",
       "      <td>PARÁ</td>\n",
       "      <td>INMET</td>\n",
       "      <td>HIDROWEB</td>\n",
       "      <td>PA</td>\n",
       "      <td>-0.650000</td>\n",
       "      <td>-47.550000</td>\n",
       "      <td>1961</td>\n",
       "    </tr>\n",
       "    <tr>\n",
       "      <th>...</th>\n",
       "      <td>...</td>\n",
       "      <td>...</td>\n",
       "      <td>...</td>\n",
       "      <td>...</td>\n",
       "      <td>...</td>\n",
       "      <td>...</td>\n",
       "      <td>...</td>\n",
       "      <td>...</td>\n",
       "      <td>...</td>\n",
       "      <td>...</td>\n",
       "      <td>...</td>\n",
       "      <td>...</td>\n",
       "    </tr>\n",
       "    <tr>\n",
       "      <th>123593340</th>\n",
       "      <td>S717</td>\n",
       "      <td>2021-12-27</td>\n",
       "      <td>0.0</td>\n",
       "      <td>SELVIRIA | S717</td>\n",
       "      <td>SELVIRIA</td>\n",
       "      <td>MATO GROSSO DO SUL</td>\n",
       "      <td>INMET</td>\n",
       "      <td>INMET</td>\n",
       "      <td>MS</td>\n",
       "      <td>-20.351389</td>\n",
       "      <td>-51.430278</td>\n",
       "      <td>2021</td>\n",
       "    </tr>\n",
       "    <tr>\n",
       "      <th>123593341</th>\n",
       "      <td>S717</td>\n",
       "      <td>2021-12-28</td>\n",
       "      <td>0.0</td>\n",
       "      <td>SELVIRIA | S717</td>\n",
       "      <td>SELVIRIA</td>\n",
       "      <td>MATO GROSSO DO SUL</td>\n",
       "      <td>INMET</td>\n",
       "      <td>INMET</td>\n",
       "      <td>MS</td>\n",
       "      <td>-20.351389</td>\n",
       "      <td>-51.430278</td>\n",
       "      <td>2021</td>\n",
       "    </tr>\n",
       "    <tr>\n",
       "      <th>123593342</th>\n",
       "      <td>S717</td>\n",
       "      <td>2021-12-29</td>\n",
       "      <td>0.0</td>\n",
       "      <td>SELVIRIA | S717</td>\n",
       "      <td>SELVIRIA</td>\n",
       "      <td>MATO GROSSO DO SUL</td>\n",
       "      <td>INMET</td>\n",
       "      <td>INMET</td>\n",
       "      <td>MS</td>\n",
       "      <td>-20.351389</td>\n",
       "      <td>-51.430278</td>\n",
       "      <td>2021</td>\n",
       "    </tr>\n",
       "    <tr>\n",
       "      <th>123593343</th>\n",
       "      <td>S717</td>\n",
       "      <td>2021-12-30</td>\n",
       "      <td>0.0</td>\n",
       "      <td>SELVIRIA | S717</td>\n",
       "      <td>SELVIRIA</td>\n",
       "      <td>MATO GROSSO DO SUL</td>\n",
       "      <td>INMET</td>\n",
       "      <td>INMET</td>\n",
       "      <td>MS</td>\n",
       "      <td>-20.351389</td>\n",
       "      <td>-51.430278</td>\n",
       "      <td>2021</td>\n",
       "    </tr>\n",
       "    <tr>\n",
       "      <th>123593344</th>\n",
       "      <td>S717</td>\n",
       "      <td>2021-12-31</td>\n",
       "      <td>0.0</td>\n",
       "      <td>SELVIRIA | S717</td>\n",
       "      <td>SELVIRIA</td>\n",
       "      <td>MATO GROSSO DO SUL</td>\n",
       "      <td>INMET</td>\n",
       "      <td>INMET</td>\n",
       "      <td>MS</td>\n",
       "      <td>-20.351389</td>\n",
       "      <td>-51.430278</td>\n",
       "      <td>2021</td>\n",
       "    </tr>\n",
       "  </tbody>\n",
       "</table>\n",
       "<p>123593345 rows × 12 columns</p>\n",
       "</div>"
      ],
      "text/plain": [
       "          gauge_code   datetime  rain_mm     name_station         city  \\\n",
       "0           00047000 1961-01-01      0.0      SALINÓPOLIS  SALINÓPOLIS   \n",
       "1           00047000 1961-01-02      0.0      SALINÓPOLIS  SALINÓPOLIS   \n",
       "2           00047000 1961-01-03      0.0      SALINÓPOLIS  SALINÓPOLIS   \n",
       "3           00047000 1961-01-04      0.0      SALINÓPOLIS  SALINÓPOLIS   \n",
       "4           00047000 1961-01-05      0.0      SALINÓPOLIS  SALINÓPOLIS   \n",
       "...              ...        ...      ...              ...          ...   \n",
       "123593340       S717 2021-12-27      0.0  SELVIRIA | S717     SELVIRIA   \n",
       "123593341       S717 2021-12-28      0.0  SELVIRIA | S717     SELVIRIA   \n",
       "123593342       S717 2021-12-29      0.0  SELVIRIA | S717     SELVIRIA   \n",
       "123593343       S717 2021-12-30      0.0  SELVIRIA | S717     SELVIRIA   \n",
       "123593344       S717 2021-12-31      0.0  SELVIRIA | S717     SELVIRIA   \n",
       "\n",
       "                        state responsible    source state_abbreviation  \\\n",
       "0                        PARÁ       INMET  HIDROWEB                 PA   \n",
       "1                        PARÁ       INMET  HIDROWEB                 PA   \n",
       "2                        PARÁ       INMET  HIDROWEB                 PA   \n",
       "3                        PARÁ       INMET  HIDROWEB                 PA   \n",
       "4                        PARÁ       INMET  HIDROWEB                 PA   \n",
       "...                       ...         ...       ...                ...   \n",
       "123593340  MATO GROSSO DO SUL       INMET     INMET                 MS   \n",
       "123593341  MATO GROSSO DO SUL       INMET     INMET                 MS   \n",
       "123593342  MATO GROSSO DO SUL       INMET     INMET                 MS   \n",
       "123593343  MATO GROSSO DO SUL       INMET     INMET                 MS   \n",
       "123593344  MATO GROSSO DO SUL       INMET     INMET                 MS   \n",
       "\n",
       "                 lat       long  year  \n",
       "0          -0.650000 -47.550000  1961  \n",
       "1          -0.650000 -47.550000  1961  \n",
       "2          -0.650000 -47.550000  1961  \n",
       "3          -0.650000 -47.550000  1961  \n",
       "4          -0.650000 -47.550000  1961  \n",
       "...              ...        ...   ...  \n",
       "123593340 -20.351389 -51.430278  2021  \n",
       "123593341 -20.351389 -51.430278  2021  \n",
       "123593342 -20.351389 -51.430278  2021  \n",
       "123593343 -20.351389 -51.430278  2021  \n",
       "123593344 -20.351389 -51.430278  2021  \n",
       "\n",
       "[123593345 rows x 12 columns]"
      ]
     },
     "execution_count": 5,
     "metadata": {},
     "output_type": "execute_result"
    }
   ],
   "source": [
    "df_complete_info = pd.merge(df_data, df_info, on = 'gauge_code', how = 'inner')\n",
    "del df_data, df_info\n",
    "df_complete_info['year'] = df_complete_info['datetime'].dt.year\n",
    "df_complete_info"
   ]
  },
  {
   "cell_type": "code",
   "execution_count": 9,
   "metadata": {},
   "outputs": [
    {
     "data": {
      "application/vnd.microsoft.datawrangler.viewer.v0+json": {
       "columns": [
        {
         "name": "index",
         "rawType": "int64",
         "type": "integer"
        },
        {
         "name": "gauge_code",
         "rawType": "object",
         "type": "string"
        },
        {
         "name": "year",
         "rawType": "int32",
         "type": "integer"
        },
        {
         "name": "q2_week",
         "rawType": "float64",
         "type": "float"
        }
       ],
       "conversionMethod": "pd.DataFrame",
       "ref": "4655c90a-4af3-477b-9634-c20324ba7b03",
       "rows": [
        [
         "0",
         "00047000",
         "1961",
         "71.80316102122329"
        ],
        [
         "1",
         "00047000",
         "1962",
         "69.40238584841055"
        ],
        [
         "2",
         "00047000",
         "1963",
         "66.65023416217663"
        ],
        [
         "3",
         "00047000",
         "1964",
         "87.79873130969187"
        ],
        [
         "4",
         "00047002",
         "1977",
         "6.458565330651481"
        ],
        [
         "5",
         "00047002",
         "1978",
         "87.92782316937988"
        ],
        [
         "6",
         "00047002",
         "1979",
         "85.56767497752169"
        ],
        [
         "7",
         "00047002",
         "1980",
         "75.61594403116503"
        ],
        [
         "8",
         "00047002",
         "1981",
         "87.69135043127976"
        ],
        [
         "9",
         "00047002",
         "1982",
         "93.64133015406368"
        ],
        [
         "10",
         "00047002",
         "1983",
         "85.83334442876725"
        ],
        [
         "11",
         "00047002",
         "1984",
         "88.45615417583397"
        ],
        [
         "12",
         "00047002",
         "1985",
         "89.45925900127227"
        ],
        [
         "13",
         "00047002",
         "1986",
         "89.58514342811213"
        ],
        [
         "14",
         "00047002",
         "1987",
         "87.21813057086489"
        ],
        [
         "15",
         "00047002",
         "1988",
         "87.23134268246129"
        ],
        [
         "16",
         "00047002",
         "1989",
         "92.45160164570196"
        ],
        [
         "17",
         "00047002",
         "1990",
         "85.93994362795138"
        ],
        [
         "18",
         "00047002",
         "1991",
         "87.86182183708033"
        ],
        [
         "19",
         "00047002",
         "1992",
         "83.2783276832468"
        ],
        [
         "20",
         "00047002",
         "1993",
         "84.86743609436502"
        ],
        [
         "21",
         "00047002",
         "1994",
         "88.03760231670367"
        ],
        [
         "22",
         "00047002",
         "1995",
         "87.18252944453045"
        ],
        [
         "23",
         "00047002",
         "1996",
         "94.22699711355781"
        ],
        [
         "24",
         "00047002",
         "1997",
         "86.70515894845005"
        ],
        [
         "25",
         "00047002",
         "1998",
         "92.75859663095535"
        ],
        [
         "26",
         "00047002",
         "1999",
         "86.51717004479"
        ],
        [
         "27",
         "00047002",
         "2000",
         "90.44522155203309"
        ],
        [
         "28",
         "00047002",
         "2001",
         "86.5408007670002"
        ],
        [
         "29",
         "00047002",
         "2002",
         "83.7001002705358"
        ],
        [
         "30",
         "00047002",
         "2003",
         "92.9993349052225"
        ],
        [
         "31",
         "00047002",
         "2004",
         "92.09509002794238"
        ],
        [
         "32",
         "00047002",
         "2005",
         "82.73081206104335"
        ],
        [
         "33",
         "00047002",
         "2006",
         "88.63027947647744"
        ],
        [
         "34",
         "00047002",
         "2007",
         "88.01613581703056"
        ],
        [
         "35",
         "00047002",
         "2008",
         "88.39638371594066"
        ],
        [
         "36",
         "00047002",
         "2009",
         "88.5457632886785"
        ],
        [
         "37",
         "00047002",
         "2010",
         "89.0826141274803"
        ],
        [
         "38",
         "00047002",
         "2011",
         "84.68319559625598"
        ],
        [
         "39",
         "00047002",
         "2012",
         "83.68694686824877"
        ],
        [
         "40",
         "00047002",
         "2013",
         "78.62560318494789"
        ],
        [
         "41",
         "00047002",
         "2014",
         "92.25863988943323"
        ],
        [
         "42",
         "00047002",
         "2015",
         "91.51374871304475"
        ],
        [
         "43",
         "00047002",
         "2016",
         "91.32666055545496"
        ],
        [
         "44",
         "00047002",
         "2017",
         "96.51874827491501"
        ],
        [
         "45",
         "00047002",
         "2018",
         "87.93013746201954"
        ],
        [
         "46",
         "00047002",
         "2019",
         "86.1134069849823"
        ],
        [
         "47",
         "00047002",
         "2020",
         "85.42908705254382"
        ],
        [
         "48",
         "00047003",
         "1981",
         "75.18065270801829"
        ],
        [
         "49",
         "00047003",
         "1982",
         "81.39334274565506"
        ]
       ],
       "shape": {
        "columns": 3,
        "rows": 324303
       }
      },
      "text/html": [
       "<div>\n",
       "<style scoped>\n",
       "    .dataframe tbody tr th:only-of-type {\n",
       "        vertical-align: middle;\n",
       "    }\n",
       "\n",
       "    .dataframe tbody tr th {\n",
       "        vertical-align: top;\n",
       "    }\n",
       "\n",
       "    .dataframe thead th {\n",
       "        text-align: right;\n",
       "    }\n",
       "</style>\n",
       "<table border=\"1\" class=\"dataframe\">\n",
       "  <thead>\n",
       "    <tr style=\"text-align: right;\">\n",
       "      <th></th>\n",
       "      <th>gauge_code</th>\n",
       "      <th>year</th>\n",
       "      <th>q2_week</th>\n",
       "    </tr>\n",
       "  </thead>\n",
       "  <tbody>\n",
       "    <tr>\n",
       "      <th>0</th>\n",
       "      <td>00047000</td>\n",
       "      <td>1961</td>\n",
       "      <td>71.803161</td>\n",
       "    </tr>\n",
       "    <tr>\n",
       "      <th>1</th>\n",
       "      <td>00047000</td>\n",
       "      <td>1962</td>\n",
       "      <td>69.402386</td>\n",
       "    </tr>\n",
       "    <tr>\n",
       "      <th>2</th>\n",
       "      <td>00047000</td>\n",
       "      <td>1963</td>\n",
       "      <td>66.650234</td>\n",
       "    </tr>\n",
       "    <tr>\n",
       "      <th>3</th>\n",
       "      <td>00047000</td>\n",
       "      <td>1964</td>\n",
       "      <td>87.798731</td>\n",
       "    </tr>\n",
       "    <tr>\n",
       "      <th>4</th>\n",
       "      <td>00047002</td>\n",
       "      <td>1977</td>\n",
       "      <td>6.458565</td>\n",
       "    </tr>\n",
       "    <tr>\n",
       "      <th>...</th>\n",
       "      <td>...</td>\n",
       "      <td>...</td>\n",
       "      <td>...</td>\n",
       "    </tr>\n",
       "    <tr>\n",
       "      <th>324298</th>\n",
       "      <td>S712</td>\n",
       "      <td>2021</td>\n",
       "      <td>72.786988</td>\n",
       "    </tr>\n",
       "    <tr>\n",
       "      <th>324299</th>\n",
       "      <td>S713</td>\n",
       "      <td>2021</td>\n",
       "      <td>62.583426</td>\n",
       "    </tr>\n",
       "    <tr>\n",
       "      <th>324300</th>\n",
       "      <td>S714</td>\n",
       "      <td>2021</td>\n",
       "      <td>63.664531</td>\n",
       "    </tr>\n",
       "    <tr>\n",
       "      <th>324301</th>\n",
       "      <td>S715</td>\n",
       "      <td>2021</td>\n",
       "      <td>76.074189</td>\n",
       "    </tr>\n",
       "    <tr>\n",
       "      <th>324302</th>\n",
       "      <td>S716</td>\n",
       "      <td>2021</td>\n",
       "      <td>74.501053</td>\n",
       "    </tr>\n",
       "  </tbody>\n",
       "</table>\n",
       "<p>324303 rows × 3 columns</p>\n",
       "</div>"
      ],
      "text/plain": [
       "       gauge_code  year    q2_week\n",
       "0        00047000  1961  71.803161\n",
       "1        00047000  1962  69.402386\n",
       "2        00047000  1963  66.650234\n",
       "3        00047000  1964  87.798731\n",
       "4        00047002  1977   6.458565\n",
       "...           ...   ...        ...\n",
       "324298       S712  2021  72.786988\n",
       "324299       S713  2021  62.583426\n",
       "324300       S714  2021  63.664531\n",
       "324301       S715  2021  76.074189\n",
       "324302       S716  2021  74.501053\n",
       "\n",
       "[324303 rows x 3 columns]"
      ]
     },
     "execution_count": 9,
     "metadata": {},
     "output_type": "execute_result"
    }
   ],
   "source": [
    "def calculateQ2(df):\n",
    "    # Filter rows where rain_mm > 1 mm (wet days)\n",
    "    df_wet_days = df[df['rain_mm'] > 1.0].copy()\n",
    "    \n",
    "    # Extract year and day of the week from datetime\n",
    "    df_wet_days['year'] = df_wet_days['datetime'].dt.year\n",
    "    df_wet_days['day_of_week'] = df_wet_days['datetime'].dt.dayofweek  # Monday=0, Sunday=6\n",
    "    \n",
    "    # Group by gauge_code and year, then count wet days for each day of the week\n",
    "    df_grouped = df_wet_days.groupby(['gauge_code', 'year', 'day_of_week']).size().unstack(fill_value=0)\n",
    "    \n",
    "    # Calculate the coefficient of variation (CV) for each group\n",
    "    cv = df_grouped.std(axis=1) / df_grouped.mean(axis=1)\n",
    "    \n",
    "    # Calculate q2_week as 100 - 100 * CV, ensuring it's not less than 0\n",
    "    q2_week = 100 - 100 * cv\n",
    "    q2_week = q2_week.clip(lower=0)  # Set values below 0 to 0\n",
    "    \n",
    "    # Create the result DataFrame\n",
    "    df_q2_week = pd.DataFrame({\n",
    "        'gauge_code': df_grouped.index.get_level_values('gauge_code'),\n",
    "        'year': df_grouped.index.get_level_values('year'),\n",
    "        'q2_week': q2_week.values\n",
    "    })\n",
    "    \n",
    "    return df_q2_week\n",
    "\n",
    "df_q2_week = calculateQ2(df_complete_info)\n",
    "\n",
    "df_q2_week"
   ]
  },
  {
   "cell_type": "code",
   "execution_count": 10,
   "metadata": {},
   "outputs": [
    {
     "data": {
      "application/vnd.microsoft.datawrangler.viewer.v0+json": {
       "columns": [
        {
         "name": "index",
         "rawType": "int64",
         "type": "integer"
        },
        {
         "name": "gauge_code",
         "rawType": "object",
         "type": "string"
        },
        {
         "name": "year",
         "rawType": "int32",
         "type": "integer"
        },
        {
         "name": "q2_week",
         "rawType": "float64",
         "type": "float"
        }
       ],
       "conversionMethod": "pd.DataFrame",
       "ref": "57b8818d-1bbe-477e-bf4a-9e71897b48a5",
       "rows": [
        [
         "0",
         "00047000",
         "1961",
         "71.80316102122329"
        ],
        [
         "1",
         "00047000",
         "1962",
         "69.40238584841055"
        ],
        [
         "2",
         "00047000",
         "1963",
         "66.65023416217663"
        ],
        [
         "3",
         "00047000",
         "1964",
         "87.79873130969187"
        ],
        [
         "4",
         "00047002",
         "1977",
         "6.458565330651481"
        ],
        [
         "5",
         "00047002",
         "1978",
         "87.92782316937988"
        ],
        [
         "6",
         "00047002",
         "1979",
         "85.56767497752169"
        ],
        [
         "7",
         "00047002",
         "1980",
         "75.61594403116503"
        ],
        [
         "8",
         "00047002",
         "1981",
         "87.69135043127976"
        ],
        [
         "9",
         "00047002",
         "1982",
         "93.64133015406368"
        ],
        [
         "10",
         "00047002",
         "1983",
         "85.83334442876725"
        ],
        [
         "11",
         "00047002",
         "1984",
         "88.45615417583397"
        ],
        [
         "12",
         "00047002",
         "1985",
         "89.45925900127227"
        ],
        [
         "13",
         "00047002",
         "1986",
         "89.58514342811213"
        ],
        [
         "14",
         "00047002",
         "1987",
         "87.21813057086489"
        ],
        [
         "15",
         "00047002",
         "1988",
         "87.23134268246129"
        ],
        [
         "16",
         "00047002",
         "1989",
         "92.45160164570196"
        ],
        [
         "17",
         "00047002",
         "1990",
         "85.93994362795138"
        ],
        [
         "18",
         "00047002",
         "1991",
         "87.86182183708033"
        ],
        [
         "19",
         "00047002",
         "1992",
         "83.2783276832468"
        ],
        [
         "20",
         "00047002",
         "1993",
         "84.86743609436502"
        ],
        [
         "21",
         "00047002",
         "1994",
         "88.03760231670367"
        ],
        [
         "22",
         "00047002",
         "1995",
         "87.18252944453045"
        ],
        [
         "23",
         "00047002",
         "1996",
         "94.22699711355781"
        ],
        [
         "24",
         "00047002",
         "1997",
         "86.70515894845005"
        ],
        [
         "25",
         "00047002",
         "1998",
         "92.75859663095535"
        ],
        [
         "26",
         "00047002",
         "1999",
         "86.51717004479"
        ],
        [
         "27",
         "00047002",
         "2000",
         "90.44522155203309"
        ],
        [
         "28",
         "00047002",
         "2001",
         "86.5408007670002"
        ],
        [
         "29",
         "00047002",
         "2002",
         "83.7001002705358"
        ],
        [
         "30",
         "00047002",
         "2003",
         "92.9993349052225"
        ],
        [
         "31",
         "00047002",
         "2004",
         "92.09509002794238"
        ],
        [
         "32",
         "00047002",
         "2005",
         "82.73081206104335"
        ],
        [
         "33",
         "00047002",
         "2006",
         "88.63027947647744"
        ],
        [
         "34",
         "00047002",
         "2007",
         "88.01613581703056"
        ],
        [
         "35",
         "00047002",
         "2008",
         "88.39638371594066"
        ],
        [
         "36",
         "00047002",
         "2009",
         "88.5457632886785"
        ],
        [
         "37",
         "00047002",
         "2010",
         "89.0826141274803"
        ],
        [
         "38",
         "00047002",
         "2011",
         "84.68319559625598"
        ],
        [
         "39",
         "00047002",
         "2012",
         "83.68694686824877"
        ],
        [
         "40",
         "00047002",
         "2013",
         "78.62560318494789"
        ],
        [
         "41",
         "00047002",
         "2014",
         "92.25863988943323"
        ],
        [
         "42",
         "00047002",
         "2015",
         "91.51374871304475"
        ],
        [
         "43",
         "00047002",
         "2016",
         "91.32666055545496"
        ],
        [
         "44",
         "00047002",
         "2017",
         "96.51874827491501"
        ],
        [
         "45",
         "00047002",
         "2018",
         "87.93013746201954"
        ],
        [
         "46",
         "00047002",
         "2019",
         "86.1134069849823"
        ],
        [
         "47",
         "00047002",
         "2020",
         "85.42908705254382"
        ],
        [
         "48",
         "00047003",
         "1981",
         "75.18065270801829"
        ],
        [
         "49",
         "00047003",
         "1982",
         "81.39334274565506"
        ]
       ],
       "shape": {
        "columns": 3,
        "rows": 324303
       }
      },
      "text/html": [
       "<div>\n",
       "<style scoped>\n",
       "    .dataframe tbody tr th:only-of-type {\n",
       "        vertical-align: middle;\n",
       "    }\n",
       "\n",
       "    .dataframe tbody tr th {\n",
       "        vertical-align: top;\n",
       "    }\n",
       "\n",
       "    .dataframe thead th {\n",
       "        text-align: right;\n",
       "    }\n",
       "</style>\n",
       "<table border=\"1\" class=\"dataframe\">\n",
       "  <thead>\n",
       "    <tr style=\"text-align: right;\">\n",
       "      <th></th>\n",
       "      <th>gauge_code</th>\n",
       "      <th>year</th>\n",
       "      <th>q2_week</th>\n",
       "    </tr>\n",
       "  </thead>\n",
       "  <tbody>\n",
       "    <tr>\n",
       "      <th>0</th>\n",
       "      <td>00047000</td>\n",
       "      <td>1961</td>\n",
       "      <td>71.803161</td>\n",
       "    </tr>\n",
       "    <tr>\n",
       "      <th>1</th>\n",
       "      <td>00047000</td>\n",
       "      <td>1962</td>\n",
       "      <td>69.402386</td>\n",
       "    </tr>\n",
       "    <tr>\n",
       "      <th>2</th>\n",
       "      <td>00047000</td>\n",
       "      <td>1963</td>\n",
       "      <td>66.650234</td>\n",
       "    </tr>\n",
       "    <tr>\n",
       "      <th>3</th>\n",
       "      <td>00047000</td>\n",
       "      <td>1964</td>\n",
       "      <td>87.798731</td>\n",
       "    </tr>\n",
       "    <tr>\n",
       "      <th>4</th>\n",
       "      <td>00047002</td>\n",
       "      <td>1977</td>\n",
       "      <td>6.458565</td>\n",
       "    </tr>\n",
       "    <tr>\n",
       "      <th>...</th>\n",
       "      <td>...</td>\n",
       "      <td>...</td>\n",
       "      <td>...</td>\n",
       "    </tr>\n",
       "    <tr>\n",
       "      <th>324298</th>\n",
       "      <td>S712</td>\n",
       "      <td>2021</td>\n",
       "      <td>72.786988</td>\n",
       "    </tr>\n",
       "    <tr>\n",
       "      <th>324299</th>\n",
       "      <td>S713</td>\n",
       "      <td>2021</td>\n",
       "      <td>62.583426</td>\n",
       "    </tr>\n",
       "    <tr>\n",
       "      <th>324300</th>\n",
       "      <td>S714</td>\n",
       "      <td>2021</td>\n",
       "      <td>63.664531</td>\n",
       "    </tr>\n",
       "    <tr>\n",
       "      <th>324301</th>\n",
       "      <td>S715</td>\n",
       "      <td>2021</td>\n",
       "      <td>76.074189</td>\n",
       "    </tr>\n",
       "    <tr>\n",
       "      <th>324302</th>\n",
       "      <td>S716</td>\n",
       "      <td>2021</td>\n",
       "      <td>74.501053</td>\n",
       "    </tr>\n",
       "  </tbody>\n",
       "</table>\n",
       "<p>324303 rows × 3 columns</p>\n",
       "</div>"
      ],
      "text/plain": [
       "       gauge_code  year    q2_week\n",
       "0        00047000  1961  71.803161\n",
       "1        00047000  1962  69.402386\n",
       "2        00047000  1963  66.650234\n",
       "3        00047000  1964  87.798731\n",
       "4        00047002  1977   6.458565\n",
       "...           ...   ...        ...\n",
       "324298       S712  2021  72.786988\n",
       "324299       S713  2021  62.583426\n",
       "324300       S714  2021  63.664531\n",
       "324301       S715  2021  76.074189\n",
       "324302       S716  2021  74.501053\n",
       "\n",
       "[324303 rows x 3 columns]"
      ]
     },
     "execution_count": 10,
     "metadata": {},
     "output_type": "execute_result"
    }
   ],
   "source": [
    "df_q2_week.to_hdf('./1 - Organized data gauge/BRAZIL/DATASETS/BRAZIL_DAILY_1961_2024_CLEANED.h5', key = 'table_q2_week', encoding = 'utf-8', mode='r+')\n",
    "df_q2_week"
   ]
  },
  {
   "cell_type": "code",
   "execution_count": 11,
   "metadata": {},
   "outputs": [
    {
     "data": {
      "application/vnd.microsoft.datawrangler.viewer.v0+json": {
       "columns": [
        {
         "name": "index",
         "rawType": "int64",
         "type": "integer"
        },
        {
         "name": "gauge_code",
         "rawType": "object",
         "type": "string"
        },
        {
         "name": "year",
         "rawType": "int32",
         "type": "integer"
        },
        {
         "name": "q2_week",
         "rawType": "float64",
         "type": "float"
        }
       ],
       "conversionMethod": "pd.DataFrame",
       "ref": "2fbee3a5-f523-427a-a33f-d88b05766a06",
       "rows": [
        [
         "0",
         "00047000",
         "1961",
         "71.80316102122329"
        ],
        [
         "1",
         "00047000",
         "1962",
         "69.40238584841055"
        ],
        [
         "2",
         "00047000",
         "1963",
         "66.65023416217663"
        ],
        [
         "3",
         "00047000",
         "1964",
         "87.79873130969187"
        ],
        [
         "4",
         "00047002",
         "1977",
         "6.458565330651481"
        ],
        [
         "5",
         "00047002",
         "1978",
         "87.92782316937988"
        ],
        [
         "6",
         "00047002",
         "1979",
         "85.56767497752169"
        ],
        [
         "7",
         "00047002",
         "1980",
         "75.61594403116503"
        ],
        [
         "8",
         "00047002",
         "1981",
         "87.69135043127976"
        ],
        [
         "9",
         "00047002",
         "1982",
         "93.64133015406368"
        ],
        [
         "10",
         "00047002",
         "1983",
         "85.83334442876725"
        ],
        [
         "11",
         "00047002",
         "1984",
         "88.45615417583397"
        ],
        [
         "12",
         "00047002",
         "1985",
         "89.45925900127227"
        ],
        [
         "13",
         "00047002",
         "1986",
         "89.58514342811213"
        ],
        [
         "14",
         "00047002",
         "1987",
         "87.21813057086489"
        ],
        [
         "15",
         "00047002",
         "1988",
         "87.23134268246129"
        ],
        [
         "16",
         "00047002",
         "1989",
         "92.45160164570196"
        ],
        [
         "17",
         "00047002",
         "1990",
         "85.93994362795138"
        ],
        [
         "18",
         "00047002",
         "1991",
         "87.86182183708033"
        ],
        [
         "19",
         "00047002",
         "1992",
         "83.2783276832468"
        ],
        [
         "20",
         "00047002",
         "1993",
         "84.86743609436502"
        ],
        [
         "21",
         "00047002",
         "1994",
         "88.03760231670367"
        ],
        [
         "22",
         "00047002",
         "1995",
         "87.18252944453045"
        ],
        [
         "23",
         "00047002",
         "1996",
         "94.22699711355781"
        ],
        [
         "24",
         "00047002",
         "1997",
         "86.70515894845005"
        ],
        [
         "25",
         "00047002",
         "1998",
         "92.75859663095535"
        ],
        [
         "26",
         "00047002",
         "1999",
         "86.51717004479"
        ],
        [
         "27",
         "00047002",
         "2000",
         "90.44522155203309"
        ],
        [
         "28",
         "00047002",
         "2001",
         "86.5408007670002"
        ],
        [
         "29",
         "00047002",
         "2002",
         "83.7001002705358"
        ],
        [
         "30",
         "00047002",
         "2003",
         "92.9993349052225"
        ],
        [
         "31",
         "00047002",
         "2004",
         "92.09509002794238"
        ],
        [
         "32",
         "00047002",
         "2005",
         "82.73081206104335"
        ],
        [
         "33",
         "00047002",
         "2006",
         "88.63027947647744"
        ],
        [
         "34",
         "00047002",
         "2007",
         "88.01613581703056"
        ],
        [
         "35",
         "00047002",
         "2008",
         "88.39638371594066"
        ],
        [
         "36",
         "00047002",
         "2009",
         "88.5457632886785"
        ],
        [
         "37",
         "00047002",
         "2010",
         "89.0826141274803"
        ],
        [
         "38",
         "00047002",
         "2011",
         "84.68319559625598"
        ],
        [
         "39",
         "00047002",
         "2012",
         "83.68694686824877"
        ],
        [
         "40",
         "00047002",
         "2013",
         "78.62560318494789"
        ],
        [
         "41",
         "00047002",
         "2014",
         "92.25863988943323"
        ],
        [
         "42",
         "00047002",
         "2015",
         "91.51374871304475"
        ],
        [
         "43",
         "00047002",
         "2016",
         "91.32666055545496"
        ],
        [
         "44",
         "00047002",
         "2017",
         "96.51874827491501"
        ],
        [
         "45",
         "00047002",
         "2018",
         "87.93013746201954"
        ],
        [
         "46",
         "00047002",
         "2019",
         "86.1134069849823"
        ],
        [
         "47",
         "00047002",
         "2020",
         "85.42908705254382"
        ],
        [
         "48",
         "00047003",
         "1981",
         "75.18065270801829"
        ],
        [
         "49",
         "00047003",
         "1982",
         "81.39334274565506"
        ]
       ],
       "shape": {
        "columns": 3,
        "rows": 324303
       }
      },
      "text/html": [
       "<div>\n",
       "<style scoped>\n",
       "    .dataframe tbody tr th:only-of-type {\n",
       "        vertical-align: middle;\n",
       "    }\n",
       "\n",
       "    .dataframe tbody tr th {\n",
       "        vertical-align: top;\n",
       "    }\n",
       "\n",
       "    .dataframe thead th {\n",
       "        text-align: right;\n",
       "    }\n",
       "</style>\n",
       "<table border=\"1\" class=\"dataframe\">\n",
       "  <thead>\n",
       "    <tr style=\"text-align: right;\">\n",
       "      <th></th>\n",
       "      <th>gauge_code</th>\n",
       "      <th>year</th>\n",
       "      <th>q2_week</th>\n",
       "    </tr>\n",
       "  </thead>\n",
       "  <tbody>\n",
       "    <tr>\n",
       "      <th>0</th>\n",
       "      <td>00047000</td>\n",
       "      <td>1961</td>\n",
       "      <td>71.803161</td>\n",
       "    </tr>\n",
       "    <tr>\n",
       "      <th>1</th>\n",
       "      <td>00047000</td>\n",
       "      <td>1962</td>\n",
       "      <td>69.402386</td>\n",
       "    </tr>\n",
       "    <tr>\n",
       "      <th>2</th>\n",
       "      <td>00047000</td>\n",
       "      <td>1963</td>\n",
       "      <td>66.650234</td>\n",
       "    </tr>\n",
       "    <tr>\n",
       "      <th>3</th>\n",
       "      <td>00047000</td>\n",
       "      <td>1964</td>\n",
       "      <td>87.798731</td>\n",
       "    </tr>\n",
       "    <tr>\n",
       "      <th>4</th>\n",
       "      <td>00047002</td>\n",
       "      <td>1977</td>\n",
       "      <td>6.458565</td>\n",
       "    </tr>\n",
       "    <tr>\n",
       "      <th>...</th>\n",
       "      <td>...</td>\n",
       "      <td>...</td>\n",
       "      <td>...</td>\n",
       "    </tr>\n",
       "    <tr>\n",
       "      <th>324298</th>\n",
       "      <td>S712</td>\n",
       "      <td>2021</td>\n",
       "      <td>72.786988</td>\n",
       "    </tr>\n",
       "    <tr>\n",
       "      <th>324299</th>\n",
       "      <td>S713</td>\n",
       "      <td>2021</td>\n",
       "      <td>62.583426</td>\n",
       "    </tr>\n",
       "    <tr>\n",
       "      <th>324300</th>\n",
       "      <td>S714</td>\n",
       "      <td>2021</td>\n",
       "      <td>63.664531</td>\n",
       "    </tr>\n",
       "    <tr>\n",
       "      <th>324301</th>\n",
       "      <td>S715</td>\n",
       "      <td>2021</td>\n",
       "      <td>76.074189</td>\n",
       "    </tr>\n",
       "    <tr>\n",
       "      <th>324302</th>\n",
       "      <td>S716</td>\n",
       "      <td>2021</td>\n",
       "      <td>74.501053</td>\n",
       "    </tr>\n",
       "  </tbody>\n",
       "</table>\n",
       "<p>324303 rows × 3 columns</p>\n",
       "</div>"
      ],
      "text/plain": [
       "       gauge_code  year    q2_week\n",
       "0        00047000  1961  71.803161\n",
       "1        00047000  1962  69.402386\n",
       "2        00047000  1963  66.650234\n",
       "3        00047000  1964  87.798731\n",
       "4        00047002  1977   6.458565\n",
       "...           ...   ...        ...\n",
       "324298       S712  2021  72.786988\n",
       "324299       S713  2021  62.583426\n",
       "324300       S714  2021  63.664531\n",
       "324301       S715  2021  76.074189\n",
       "324302       S716  2021  74.501053\n",
       "\n",
       "[324303 rows x 3 columns]"
      ]
     },
     "execution_count": 11,
     "metadata": {},
     "output_type": "execute_result"
    }
   ],
   "source": [
    "df_teste = pd.read_hdf('./1 - Organized data gauge/BRAZIL/DATASETS/BRAZIL_DAILY_1961_2024_CLEANED.h5', key = 'table_q2_week', encoding = 'utf-8')\n",
    "df_teste"
   ]
  }
 ],
 "metadata": {
  "kernelspec": {
   "display_name": "base",
   "language": "python",
   "name": "python3"
  },
  "language_info": {
   "codemirror_mode": {
    "name": "ipython",
    "version": 3
   },
   "file_extension": ".py",
   "mimetype": "text/x-python",
   "name": "python",
   "nbconvert_exporter": "python",
   "pygments_lexer": "ipython3",
   "version": "3.11.10"
  }
 },
 "nbformat": 4,
 "nbformat_minor": 2
}
