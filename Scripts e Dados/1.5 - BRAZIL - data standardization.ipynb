{
 "cells": [
  {
   "cell_type": "code",
   "execution_count": 2,
   "id": "tzJCLGOXNWxp",
   "metadata": {
    "colab": {
     "base_uri": "https://localhost:8080/"
    },
    "executionInfo": {
     "elapsed": 1308,
     "status": "ok",
     "timestamp": 1740165814730,
     "user": {
      "displayName": "Lindemberg Vidal",
      "userId": "05299358828699421454"
     },
     "user_tz": 180
    },
    "id": "tzJCLGOXNWxp",
    "outputId": "9d64b53d-00c0-4b1d-8a11-7b5aa32e785f"
   },
   "outputs": [],
   "source": [
    "# !pip install tables"
   ]
  },
  {
   "cell_type": "code",
   "execution_count": 3,
   "id": "d6869502",
   "metadata": {
    "executionInfo": {
     "elapsed": 2,
     "status": "ok",
     "timestamp": 1740165814741,
     "user": {
      "displayName": "Lindemberg Vidal",
      "userId": "05299358828699421454"
     },
     "user_tz": 180
    },
    "id": "d6869502"
   },
   "outputs": [],
   "source": [
    "import pandas as pd\n",
    "import glob\n",
    "import os\n",
    "from pathlib import Path\n",
    "import h5py\n",
    "from joblib import Parallel, delayed"
   ]
  },
  {
   "cell_type": "code",
   "execution_count": null,
   "id": "Y6QKCnIsCm4N",
   "metadata": {
    "colab": {
     "base_uri": "https://localhost:8080/"
    },
    "executionInfo": {
     "elapsed": 19250,
     "status": "ok",
     "timestamp": 1740165833992,
     "user": {
      "displayName": "Lindemberg Vidal",
      "userId": "05299358828699421454"
     },
     "user_tz": 180
    },
    "id": "Y6QKCnIsCm4N",
    "outputId": "786e788e-081c-423e-9dc1-4acef7fb72f6"
   },
   "outputs": [
    {
     "name": "stdout",
     "output_type": "stream",
     "text": [
      "Mounted at /content/drive\n"
     ]
    }
   ],
   "source": [
    "# from google.colab import drive\n",
    "# drive.mount('/content/drive')"
   ]
  },
  {
   "cell_type": "code",
   "execution_count": 6,
   "id": "b9c0080b",
   "metadata": {
    "executionInfo": {
     "elapsed": 9,
     "status": "ok",
     "timestamp": 1740165834003,
     "user": {
      "displayName": "Lindemberg Vidal",
      "userId": "05299358828699421454"
     },
     "user_tz": 180
    },
    "id": "b9c0080b"
   },
   "outputs": [],
   "source": [
    "replacement_map = {\n",
    "    '├Ê': 'É',\n",
    "    '├â': 'Ã',\n",
    "    '├ü': 'Á',\n",
    "    '├ç': 'Ç',\n",
    "    '├ì': 'Í',\n",
    "    '├Ò': 'é',\n",
    "    '├│': 'ó',\n",
    "    '├¡': 'í',\n",
    "    '├ú': 'ã',\n",
    "    '├í': 'á',\n",
    "    '├º': 'ç',\n",
    "    '├ô': 'Ó',\n",
    "    '├õ': 'Ô',\n",
    "    '├Ü': 'Ú',\n",
    "    '├è': 'Ê',\n",
    "    '├é': 'Â',\n",
    "    '├┤': 'ô',\n",
    "    '├║': 'ú',\n",
    "    '├ò': 'õ',\n",
    "    '├¬': 'ê',\n",
    "    '├ó': 'â',\n",
    "    '├╡': 'õ',\n",
    "    '├Õ': 'Ú'\n",
    "}\n",
    "\n",
    "def fix_encoding(text, replacement_map):\n",
    "    \"\"\"\n",
    "    Corrects encoding issues in a given text by replacing incorrectly encoded characters\n",
    "    with their correct counterparts using a provided replacement map.\n",
    "\n",
    "    Parameters:\n",
    "        text (str): The input string that may contain incorrectly encoded characters.\n",
    "        replacement_map (dict): A dictionary where keys are the incorrectly encoded\n",
    "                                characters and values are the correct characters to\n",
    "                                replace them with.\n",
    "\n",
    "    Returns:\n",
    "        str: The corrected text with all instances of incorrectly encoded characters\n",
    "             replaced by their correct counterparts.\n",
    "\n",
    "    Example:\n",
    "        text = \"This is a t├¬st with s├│me encoding probl├¡ms.\"\n",
    "        corrected_text = fix_encoding(text, replacement_map)\n",
    "        print(corrected_text)\n",
    "        # Output: \"This is a têst with sóme encoding problems.\"\n",
    "\n",
    "    How It Works:\n",
    "        1. Iterates over each key-value pair in the `replacement_map`.\n",
    "        2. Replaces all occurrences of the incorrect character (key) in the input `text`\n",
    "           with the correct character (value).\n",
    "        3. Returns the corrected text after all replacements are made.\n",
    "\n",
    "    Notes:\n",
    "        - The function is case-sensitive, so ensure the keys in `replacement_map` match\n",
    "          the exact incorrect characters in the text.\n",
    "        - The `replacement_map` should be tailored to the specific encoding issues\n",
    "          present in the text.\n",
    "    \"\"\"\n",
    "    for incorrect, correct in replacement_map.items():\n",
    "        text = text.replace(incorrect, correct)\n",
    "    return text"
   ]
  },
  {
   "cell_type": "code",
   "execution_count": 7,
   "id": "dd6d7ac0",
   "metadata": {
    "executionInfo": {
     "elapsed": 1,
     "status": "ok",
     "timestamp": 1740165834005,
     "user": {
      "displayName": "Lindemberg Vidal",
      "userId": "05299358828699421454"
     },
     "user_tz": 180
    },
    "id": "dd6d7ac0"
   },
   "outputs": [],
   "source": [
    "# Function to read a single HDF5 file\n",
    "def read_hdf_file(file_path, key_table):\n",
    "    \"\"\"\n",
    "    Reads a single HDF5 file and returns the data.\n",
    "\n",
    "    Parameters:\n",
    "    file_path (str): The path to the HDF5 file.\n",
    "\n",
    "    Returns:\n",
    "    DataFrame: The data contained in the HDF5 file.\n",
    "    \"\"\"\n",
    "    return pd.read_hdf(file_path, key=key_table)"
   ]
  },
  {
   "cell_type": "code",
   "execution_count": 8,
   "id": "51IvLxZIVn0i",
   "metadata": {
    "executionInfo": {
     "elapsed": 1,
     "status": "ok",
     "timestamp": 1740165834006,
     "user": {
      "displayName": "Lindemberg Vidal",
      "userId": "05299358828699421454"
     },
     "user_tz": 180
    },
    "id": "51IvLxZIVn0i"
   },
   "outputs": [],
   "source": [
    "def convert_state_abbreviations_to_names(df, abbreviation_column):\n",
    "    # Dictionary mapping state abbreviations to their full names\n",
    "    state_mapping = {\n",
    "        'AC': 'ACRE',\n",
    "        'AL': 'ALAGOAS',\n",
    "        'AP': 'AMAPÁ',\n",
    "        'AM': 'AMAZONAS',\n",
    "        'BA': 'BAHIA',\n",
    "        'CE': 'CEARÁ',\n",
    "        'DF': 'DISTRITO FEDERAL',\n",
    "        'ES': 'ESPÍRITO SANTO',\n",
    "        'GO': 'GOIÁS',\n",
    "        'MA': 'MARANHÃO',\n",
    "        'MT': 'MATO GROSSO',\n",
    "        'MS': 'MATO GROSSO DO SUL',\n",
    "        'MG': 'MINAS GERAIS',\n",
    "        'PA': 'PARÁ',\n",
    "        'PB': 'PARAÍBA',\n",
    "        'PR': 'PARANÁ',\n",
    "        'PE': 'PERNAMBUCO',\n",
    "        'PI': 'PIAUÍ',\n",
    "        'RJ': 'RIO DE JANEIRO',\n",
    "        'RN': 'RIO GRANDE DO NORTE',\n",
    "        'RS': 'RIO GRANDE DO SUL',\n",
    "        'RO': 'RONDÔNIA',\n",
    "        'RR': 'RORAIMA',\n",
    "        'SC': 'SANTA CATARINA',\n",
    "        'SP': 'SÃO PAULO',\n",
    "        'SE': 'SERGIPE',\n",
    "        'TO': 'TOCANTINS'\n",
    "    }\n",
    "    reverse_state_mapping = {v: k for k, v in state_mapping.items()}\n",
    "\n",
    "    # Create a new column with the full names of the states\n",
    "    df[abbreviation_column] = df[abbreviation_column].str.upper().replace(state_mapping)\n",
    "\n",
    "    # Create a new column with the full names of the states\n",
    "    df['state_abbreviation'] = df[abbreviation_column].str.upper().replace(reverse_state_mapping)\n",
    "\n",
    "    return df"
   ]
  },
  {
   "cell_type": "markdown",
   "id": "4c37a073",
   "metadata": {
    "id": "4c37a073"
   },
   "source": [
    "# BRAZIL"
   ]
  },
  {
   "cell_type": "code",
   "execution_count": 9,
   "id": "08d6e203",
   "metadata": {
    "colab": {
     "base_uri": "https://localhost:8080/"
    },
    "executionInfo": {
     "elapsed": 251,
     "status": "ok",
     "timestamp": 1740165834258,
     "user": {
      "displayName": "Lindemberg Vidal",
      "userId": "05299358828699421454"
     },
     "user_tz": 180
    },
    "id": "08d6e203",
    "outputId": "0426f16f-6b22-445a-c409-a06f82c289c3"
   },
   "outputs": [
    {
     "name": "stdout",
     "output_type": "stream",
     "text": [
      "quantity of files: 4 \n",
      "example: /content/drive/MyDrive/QualiBRain/Scripts e Dados/1 - Organized data gauge/TELEMETRIA_DAILY_2021_2023.h5\n"
     ]
    }
   ],
   "source": [
    "# brazilolder_path = Path(\"./1 - Organized data gauge/BRAZIL/\")\n",
    "brazil_folder_path = \"/content/drive/MyDrive/QualiBRain/Scripts e Dados/1 - Organized data gauge/\"\n",
    "brazil_h5_files = glob.glob(os.path.join(brazil_folder_path, \"*.h5\"))\n",
    "print(\"quantity of files:\", len(brazil_h5_files), \"\\nexample:\", brazil_h5_files[0])"
   ]
  },
  {
   "cell_type": "code",
   "execution_count": 10,
   "id": "2beeda3c",
   "metadata": {
    "colab": {
     "base_uri": "https://localhost:8080/",
     "height": 894
    },
    "executionInfo": {
     "elapsed": 2434,
     "status": "ok",
     "timestamp": 1740165836695,
     "user": {
      "displayName": "Lindemberg Vidal",
      "userId": "05299358828699421454"
     },
     "user_tz": 180
    },
    "id": "2beeda3c",
    "outputId": "f6f4548f-4413-4ced-db81-123f4effa085"
   },
   "outputs": [
    {
     "data": {
      "application/vnd.google.colaboratory.intrinsic+json": {
       "summary": "{\n  \"name\": \"df_brazil_gauge_info\",\n  \"rows\": 18888,\n  \"fields\": [\n    {\n      \"column\": \"gauge_code\",\n      \"properties\": {\n        \"dtype\": \"string\",\n        \"num_unique_values\": 18716,\n        \"samples\": [\n          \"01839007\",\n          \"02951039\",\n          \"330580207A\"\n        ],\n        \"semantic_type\": \"\",\n        \"description\": \"\"\n      }\n    },\n    {\n      \"column\": \"state\",\n      \"properties\": {\n        \"dtype\": \"category\",\n        \"num_unique_values\": 28,\n        \"samples\": [\n          \"CEAR\\u00c1\",\n          \"SANTA CATARINA\",\n          \"PIAU\\u00cd\"\n        ],\n        \"semantic_type\": \"\",\n        \"description\": \"\"\n      }\n    },\n    {\n      \"column\": \"city\",\n      \"properties\": {\n        \"dtype\": \"category\",\n        \"num_unique_values\": 4869,\n        \"samples\": [\n          \"TUPANCIRET\\u00c3\",\n          \"ERMO\",\n          \"ALEGRETE\"\n        ],\n        \"semantic_type\": \"\",\n        \"description\": \"\"\n      }\n    },\n    {\n      \"column\": \"name_station\",\n      \"properties\": {\n        \"dtype\": \"string\",\n        \"num_unique_values\": 14186,\n        \"samples\": [\n          \"S\\u00c3O SEBASTI\\u00c3O DOS GATOS\",\n          \"ITARANTIM\",\n          \"Av. Getulio Vargas\"\n        ],\n        \"semantic_type\": \"\",\n        \"description\": \"\"\n      }\n    },\n    {\n      \"column\": \"lat\",\n      \"properties\": {\n        \"dtype\": \"number\",\n        \"std\": 8.178160707497971,\n        \"min\": -33.74222221,\n        \"max\": 4.6428,\n        \"num_unique_values\": 12425,\n        \"samples\": [\n          -22.51362,\n          -24.3206,\n          -8.154\n        ],\n        \"semantic_type\": \"\",\n        \"description\": \"\"\n      }\n    },\n    {\n      \"column\": \"long\",\n      \"properties\": {\n        \"dtype\": \"number\",\n        \"std\": 6.516636258296975,\n        \"min\": -73.6522,\n        \"max\": -32.4167,\n        \"num_unique_values\": 12130,\n        \"samples\": [\n          -46.39277,\n          -39.0111,\n          -38.564051\n        ],\n        \"semantic_type\": \"\",\n        \"description\": \"\"\n      }\n    },\n    {\n      \"column\": \"responsible\",\n      \"properties\": {\n        \"dtype\": \"category\",\n        \"num_unique_values\": 690,\n        \"samples\": [\n          \"00330 - INDIAVAI ENERG - Indiavai Energ\\u00e9tica  S.A.\",\n          \"01044 - CERTEL - Certel Energias Renov\\u00e1veis S.A\",\n          \"00274 - RIO DO SANGUE - Rio do Sangue Energia S.A.\"\n        ],\n        \"semantic_type\": \"\",\n        \"description\": \"\"\n      }\n    },\n    {\n      \"column\": \"source\",\n      \"properties\": {\n        \"dtype\": \"category\",\n        \"num_unique_values\": 4,\n        \"samples\": [\n          \"HIDROWEB\",\n          \"CEMADEN\",\n          \"TELEMETRIA\"\n        ],\n        \"semantic_type\": \"\",\n        \"description\": \"\"\n      }\n    },\n    {\n      \"column\": \"state_abbreviation\",\n      \"properties\": {\n        \"dtype\": \"category\",\n        \"num_unique_values\": 28,\n        \"samples\": [\n          \"CE\",\n          \"SC\",\n          \"PI\"\n        ],\n        \"semantic_type\": \"\",\n        \"description\": \"\"\n      }\n    }\n  ]\n}",
       "type": "dataframe",
       "variable_name": "df_brazil_gauge_info"
      },
      "text/html": [
       "\n",
       "  <div id=\"df-ce193dec-cef8-40a1-badf-b976d2252969\" class=\"colab-df-container\">\n",
       "    <div>\n",
       "<style scoped>\n",
       "    .dataframe tbody tr th:only-of-type {\n",
       "        vertical-align: middle;\n",
       "    }\n",
       "\n",
       "    .dataframe tbody tr th {\n",
       "        vertical-align: top;\n",
       "    }\n",
       "\n",
       "    .dataframe thead th {\n",
       "        text-align: right;\n",
       "    }\n",
       "</style>\n",
       "<table border=\"1\" class=\"dataframe\">\n",
       "  <thead>\n",
       "    <tr style=\"text-align: right;\">\n",
       "      <th></th>\n",
       "      <th>gauge_code</th>\n",
       "      <th>state</th>\n",
       "      <th>city</th>\n",
       "      <th>name_station</th>\n",
       "      <th>lat</th>\n",
       "      <th>long</th>\n",
       "      <th>responsible</th>\n",
       "      <th>source</th>\n",
       "      <th>state_abbreviation</th>\n",
       "    </tr>\n",
       "  </thead>\n",
       "  <tbody>\n",
       "    <tr>\n",
       "      <th>0</th>\n",
       "      <td>12500000</td>\n",
       "      <td>ACRE</td>\n",
       "      <td>CRUZEIRO DO SUL</td>\n",
       "      <td>CRUZEIRO DO SUL</td>\n",
       "      <td>-7.633300</td>\n",
       "      <td>-72.660300</td>\n",
       "      <td>00001 - ANA - Agência Nacional de Águas</td>\n",
       "      <td>TELEMETRIA</td>\n",
       "      <td>AC</td>\n",
       "    </tr>\n",
       "    <tr>\n",
       "      <th>1</th>\n",
       "      <td>12510500</td>\n",
       "      <td>ACRE</td>\n",
       "      <td>TARAUACÁ</td>\n",
       "      <td>PONTE DO RIO LIBERDADE</td>\n",
       "      <td>-7.799400</td>\n",
       "      <td>-72.021100</td>\n",
       "      <td>00001 - ANA - Agência Nacional de Águas</td>\n",
       "      <td>TELEMETRIA</td>\n",
       "      <td>AC</td>\n",
       "    </tr>\n",
       "    <tr>\n",
       "      <th>2</th>\n",
       "      <td>12557000</td>\n",
       "      <td>ACRE</td>\n",
       "      <td>JORDÃO</td>\n",
       "      <td>JORDÃO</td>\n",
       "      <td>-9.188300</td>\n",
       "      <td>-71.952500</td>\n",
       "      <td>00380 - SEMA-AC - Secretaria de Meio Ambiente ...</td>\n",
       "      <td>TELEMETRIA</td>\n",
       "      <td>AC</td>\n",
       "    </tr>\n",
       "    <tr>\n",
       "      <th>3</th>\n",
       "      <td>12590000</td>\n",
       "      <td>ACRE</td>\n",
       "      <td>TARAUACÁ</td>\n",
       "      <td>PONTE DE TARAUACÁ</td>\n",
       "      <td>-8.151900</td>\n",
       "      <td>-70.745600</td>\n",
       "      <td>00001 - ANA - Agência Nacional de Águas</td>\n",
       "      <td>TELEMETRIA</td>\n",
       "      <td>AC</td>\n",
       "    </tr>\n",
       "    <tr>\n",
       "      <th>4</th>\n",
       "      <td>12640000</td>\n",
       "      <td>ACRE</td>\n",
       "      <td>FEIJÓ</td>\n",
       "      <td>SERINGAL SANTA HELENA</td>\n",
       "      <td>-8.685800</td>\n",
       "      <td>-70.551100</td>\n",
       "      <td>00001 - ANA - Agência Nacional de Águas</td>\n",
       "      <td>TELEMETRIA</td>\n",
       "      <td>AC</td>\n",
       "    </tr>\n",
       "    <tr>\n",
       "      <th>...</th>\n",
       "      <td>...</td>\n",
       "      <td>...</td>\n",
       "      <td>...</td>\n",
       "      <td>...</td>\n",
       "      <td>...</td>\n",
       "      <td>...</td>\n",
       "      <td>...</td>\n",
       "      <td>...</td>\n",
       "      <td>...</td>\n",
       "    </tr>\n",
       "    <tr>\n",
       "      <th>18883</th>\n",
       "      <td>261500301A</td>\n",
       "      <td>PERNAMBUCO</td>\n",
       "      <td>TAQUARITINGA DO NORTE</td>\n",
       "      <td>Taquaritinga do Norte [CAIC] - APAC</td>\n",
       "      <td>-7.898380</td>\n",
       "      <td>-36.050430</td>\n",
       "      <td>CEMADEN</td>\n",
       "      <td>CEMADEN</td>\n",
       "      <td>PE</td>\n",
       "    </tr>\n",
       "    <tr>\n",
       "      <th>18884</th>\n",
       "      <td>261520102A</td>\n",
       "      <td>PERNAMBUCO</td>\n",
       "      <td>TERRA NOVA</td>\n",
       "      <td>Terra Nova [Escola Francisco Hugo] - APAC</td>\n",
       "      <td>-8.224680</td>\n",
       "      <td>-39.376600</td>\n",
       "      <td>CEMADEN</td>\n",
       "      <td>CEMADEN</td>\n",
       "      <td>PE</td>\n",
       "    </tr>\n",
       "    <tr>\n",
       "      <th>18885</th>\n",
       "      <td>261590401A</td>\n",
       "      <td>PERNAMBUCO</td>\n",
       "      <td>TUPARETAMA</td>\n",
       "      <td>Tuparetama [Compesa] - APAC</td>\n",
       "      <td>-7.602240</td>\n",
       "      <td>-37.309420</td>\n",
       "      <td>CEMADEN</td>\n",
       "      <td>CEMADEN</td>\n",
       "      <td>PE</td>\n",
       "    </tr>\n",
       "    <tr>\n",
       "      <th>18886</th>\n",
       "      <td>261610001A</td>\n",
       "      <td>PERNAMBUCO</td>\n",
       "      <td>VERDEJANTE</td>\n",
       "      <td>VERDEJANTE - APAC</td>\n",
       "      <td>-7.930167</td>\n",
       "      <td>-38.968306</td>\n",
       "      <td>CEMADEN</td>\n",
       "      <td>CEMADEN</td>\n",
       "      <td>PE</td>\n",
       "    </tr>\n",
       "    <tr>\n",
       "      <th>18887</th>\n",
       "      <td>261618301A</td>\n",
       "      <td>PERNAMBUCO</td>\n",
       "      <td>VERTENTE DO LÉRIO</td>\n",
       "      <td>Vertente do Lério [EREN] - APAC</td>\n",
       "      <td>-7.773540</td>\n",
       "      <td>-35.843770</td>\n",
       "      <td>CEMADEN</td>\n",
       "      <td>CEMADEN</td>\n",
       "      <td>PE</td>\n",
       "    </tr>\n",
       "  </tbody>\n",
       "</table>\n",
       "<p>18888 rows × 9 columns</p>\n",
       "</div>\n",
       "    <div class=\"colab-df-buttons\">\n",
       "\n",
       "  <div class=\"colab-df-container\">\n",
       "    <button class=\"colab-df-convert\" onclick=\"convertToInteractive('df-ce193dec-cef8-40a1-badf-b976d2252969')\"\n",
       "            title=\"Convert this dataframe to an interactive table.\"\n",
       "            style=\"display:none;\">\n",
       "\n",
       "  <svg xmlns=\"http://www.w3.org/2000/svg\" height=\"24px\" viewBox=\"0 -960 960 960\">\n",
       "    <path d=\"M120-120v-720h720v720H120Zm60-500h600v-160H180v160Zm220 220h160v-160H400v160Zm0 220h160v-160H400v160ZM180-400h160v-160H180v160Zm440 0h160v-160H620v160ZM180-180h160v-160H180v160Zm440 0h160v-160H620v160Z\"/>\n",
       "  </svg>\n",
       "    </button>\n",
       "\n",
       "  <style>\n",
       "    .colab-df-container {\n",
       "      display:flex;\n",
       "      gap: 12px;\n",
       "    }\n",
       "\n",
       "    .colab-df-convert {\n",
       "      background-color: #E8F0FE;\n",
       "      border: none;\n",
       "      border-radius: 50%;\n",
       "      cursor: pointer;\n",
       "      display: none;\n",
       "      fill: #1967D2;\n",
       "      height: 32px;\n",
       "      padding: 0 0 0 0;\n",
       "      width: 32px;\n",
       "    }\n",
       "\n",
       "    .colab-df-convert:hover {\n",
       "      background-color: #E2EBFA;\n",
       "      box-shadow: 0px 1px 2px rgba(60, 64, 67, 0.3), 0px 1px 3px 1px rgba(60, 64, 67, 0.15);\n",
       "      fill: #174EA6;\n",
       "    }\n",
       "\n",
       "    .colab-df-buttons div {\n",
       "      margin-bottom: 4px;\n",
       "    }\n",
       "\n",
       "    [theme=dark] .colab-df-convert {\n",
       "      background-color: #3B4455;\n",
       "      fill: #D2E3FC;\n",
       "    }\n",
       "\n",
       "    [theme=dark] .colab-df-convert:hover {\n",
       "      background-color: #434B5C;\n",
       "      box-shadow: 0px 1px 3px 1px rgba(0, 0, 0, 0.15);\n",
       "      filter: drop-shadow(0px 1px 2px rgba(0, 0, 0, 0.3));\n",
       "      fill: #FFFFFF;\n",
       "    }\n",
       "  </style>\n",
       "\n",
       "    <script>\n",
       "      const buttonEl =\n",
       "        document.querySelector('#df-ce193dec-cef8-40a1-badf-b976d2252969 button.colab-df-convert');\n",
       "      buttonEl.style.display =\n",
       "        google.colab.kernel.accessAllowed ? 'block' : 'none';\n",
       "\n",
       "      async function convertToInteractive(key) {\n",
       "        const element = document.querySelector('#df-ce193dec-cef8-40a1-badf-b976d2252969');\n",
       "        const dataTable =\n",
       "          await google.colab.kernel.invokeFunction('convertToInteractive',\n",
       "                                                    [key], {});\n",
       "        if (!dataTable) return;\n",
       "\n",
       "        const docLinkHtml = 'Like what you see? Visit the ' +\n",
       "          '<a target=\"_blank\" href=https://colab.research.google.com/notebooks/data_table.ipynb>data table notebook</a>'\n",
       "          + ' to learn more about interactive tables.';\n",
       "        element.innerHTML = '';\n",
       "        dataTable['output_type'] = 'display_data';\n",
       "        await google.colab.output.renderOutput(dataTable, element);\n",
       "        const docLink = document.createElement('div');\n",
       "        docLink.innerHTML = docLinkHtml;\n",
       "        element.appendChild(docLink);\n",
       "      }\n",
       "    </script>\n",
       "  </div>\n",
       "\n",
       "\n",
       "<div id=\"df-a3d4c128-d539-4607-b724-e95c6d5097ff\">\n",
       "  <button class=\"colab-df-quickchart\" onclick=\"quickchart('df-a3d4c128-d539-4607-b724-e95c6d5097ff')\"\n",
       "            title=\"Suggest charts\"\n",
       "            style=\"display:none;\">\n",
       "\n",
       "<svg xmlns=\"http://www.w3.org/2000/svg\" height=\"24px\"viewBox=\"0 0 24 24\"\n",
       "     width=\"24px\">\n",
       "    <g>\n",
       "        <path d=\"M19 3H5c-1.1 0-2 .9-2 2v14c0 1.1.9 2 2 2h14c1.1 0 2-.9 2-2V5c0-1.1-.9-2-2-2zM9 17H7v-7h2v7zm4 0h-2V7h2v10zm4 0h-2v-4h2v4z\"/>\n",
       "    </g>\n",
       "</svg>\n",
       "  </button>\n",
       "\n",
       "<style>\n",
       "  .colab-df-quickchart {\n",
       "      --bg-color: #E8F0FE;\n",
       "      --fill-color: #1967D2;\n",
       "      --hover-bg-color: #E2EBFA;\n",
       "      --hover-fill-color: #174EA6;\n",
       "      --disabled-fill-color: #AAA;\n",
       "      --disabled-bg-color: #DDD;\n",
       "  }\n",
       "\n",
       "  [theme=dark] .colab-df-quickchart {\n",
       "      --bg-color: #3B4455;\n",
       "      --fill-color: #D2E3FC;\n",
       "      --hover-bg-color: #434B5C;\n",
       "      --hover-fill-color: #FFFFFF;\n",
       "      --disabled-bg-color: #3B4455;\n",
       "      --disabled-fill-color: #666;\n",
       "  }\n",
       "\n",
       "  .colab-df-quickchart {\n",
       "    background-color: var(--bg-color);\n",
       "    border: none;\n",
       "    border-radius: 50%;\n",
       "    cursor: pointer;\n",
       "    display: none;\n",
       "    fill: var(--fill-color);\n",
       "    height: 32px;\n",
       "    padding: 0;\n",
       "    width: 32px;\n",
       "  }\n",
       "\n",
       "  .colab-df-quickchart:hover {\n",
       "    background-color: var(--hover-bg-color);\n",
       "    box-shadow: 0 1px 2px rgba(60, 64, 67, 0.3), 0 1px 3px 1px rgba(60, 64, 67, 0.15);\n",
       "    fill: var(--button-hover-fill-color);\n",
       "  }\n",
       "\n",
       "  .colab-df-quickchart-complete:disabled,\n",
       "  .colab-df-quickchart-complete:disabled:hover {\n",
       "    background-color: var(--disabled-bg-color);\n",
       "    fill: var(--disabled-fill-color);\n",
       "    box-shadow: none;\n",
       "  }\n",
       "\n",
       "  .colab-df-spinner {\n",
       "    border: 2px solid var(--fill-color);\n",
       "    border-color: transparent;\n",
       "    border-bottom-color: var(--fill-color);\n",
       "    animation:\n",
       "      spin 1s steps(1) infinite;\n",
       "  }\n",
       "\n",
       "  @keyframes spin {\n",
       "    0% {\n",
       "      border-color: transparent;\n",
       "      border-bottom-color: var(--fill-color);\n",
       "      border-left-color: var(--fill-color);\n",
       "    }\n",
       "    20% {\n",
       "      border-color: transparent;\n",
       "      border-left-color: var(--fill-color);\n",
       "      border-top-color: var(--fill-color);\n",
       "    }\n",
       "    30% {\n",
       "      border-color: transparent;\n",
       "      border-left-color: var(--fill-color);\n",
       "      border-top-color: var(--fill-color);\n",
       "      border-right-color: var(--fill-color);\n",
       "    }\n",
       "    40% {\n",
       "      border-color: transparent;\n",
       "      border-right-color: var(--fill-color);\n",
       "      border-top-color: var(--fill-color);\n",
       "    }\n",
       "    60% {\n",
       "      border-color: transparent;\n",
       "      border-right-color: var(--fill-color);\n",
       "    }\n",
       "    80% {\n",
       "      border-color: transparent;\n",
       "      border-right-color: var(--fill-color);\n",
       "      border-bottom-color: var(--fill-color);\n",
       "    }\n",
       "    90% {\n",
       "      border-color: transparent;\n",
       "      border-bottom-color: var(--fill-color);\n",
       "    }\n",
       "  }\n",
       "</style>\n",
       "\n",
       "  <script>\n",
       "    async function quickchart(key) {\n",
       "      const quickchartButtonEl =\n",
       "        document.querySelector('#' + key + ' button');\n",
       "      quickchartButtonEl.disabled = true;  // To prevent multiple clicks.\n",
       "      quickchartButtonEl.classList.add('colab-df-spinner');\n",
       "      try {\n",
       "        const charts = await google.colab.kernel.invokeFunction(\n",
       "            'suggestCharts', [key], {});\n",
       "      } catch (error) {\n",
       "        console.error('Error during call to suggestCharts:', error);\n",
       "      }\n",
       "      quickchartButtonEl.classList.remove('colab-df-spinner');\n",
       "      quickchartButtonEl.classList.add('colab-df-quickchart-complete');\n",
       "    }\n",
       "    (() => {\n",
       "      let quickchartButtonEl =\n",
       "        document.querySelector('#df-a3d4c128-d539-4607-b724-e95c6d5097ff button');\n",
       "      quickchartButtonEl.style.display =\n",
       "        google.colab.kernel.accessAllowed ? 'block' : 'none';\n",
       "    })();\n",
       "  </script>\n",
       "</div>\n",
       "\n",
       "  <div id=\"id_7adea611-1b45-412d-bbef-5259d6e12122\">\n",
       "    <style>\n",
       "      .colab-df-generate {\n",
       "        background-color: #E8F0FE;\n",
       "        border: none;\n",
       "        border-radius: 50%;\n",
       "        cursor: pointer;\n",
       "        display: none;\n",
       "        fill: #1967D2;\n",
       "        height: 32px;\n",
       "        padding: 0 0 0 0;\n",
       "        width: 32px;\n",
       "      }\n",
       "\n",
       "      .colab-df-generate:hover {\n",
       "        background-color: #E2EBFA;\n",
       "        box-shadow: 0px 1px 2px rgba(60, 64, 67, 0.3), 0px 1px 3px 1px rgba(60, 64, 67, 0.15);\n",
       "        fill: #174EA6;\n",
       "      }\n",
       "\n",
       "      [theme=dark] .colab-df-generate {\n",
       "        background-color: #3B4455;\n",
       "        fill: #D2E3FC;\n",
       "      }\n",
       "\n",
       "      [theme=dark] .colab-df-generate:hover {\n",
       "        background-color: #434B5C;\n",
       "        box-shadow: 0px 1px 3px 1px rgba(0, 0, 0, 0.15);\n",
       "        filter: drop-shadow(0px 1px 2px rgba(0, 0, 0, 0.3));\n",
       "        fill: #FFFFFF;\n",
       "      }\n",
       "    </style>\n",
       "    <button class=\"colab-df-generate\" onclick=\"generateWithVariable('df_brazil_gauge_info')\"\n",
       "            title=\"Generate code using this dataframe.\"\n",
       "            style=\"display:none;\">\n",
       "\n",
       "  <svg xmlns=\"http://www.w3.org/2000/svg\" height=\"24px\"viewBox=\"0 0 24 24\"\n",
       "       width=\"24px\">\n",
       "    <path d=\"M7,19H8.4L18.45,9,17,7.55,7,17.6ZM5,21V16.75L18.45,3.32a2,2,0,0,1,2.83,0l1.4,1.43a1.91,1.91,0,0,1,.58,1.4,1.91,1.91,0,0,1-.58,1.4L9.25,21ZM18.45,9,17,7.55Zm-12,3A5.31,5.31,0,0,0,4.9,8.1,5.31,5.31,0,0,0,1,6.5,5.31,5.31,0,0,0,4.9,4.9,5.31,5.31,0,0,0,6.5,1,5.31,5.31,0,0,0,8.1,4.9,5.31,5.31,0,0,0,12,6.5,5.46,5.46,0,0,0,6.5,12Z\"/>\n",
       "  </svg>\n",
       "    </button>\n",
       "    <script>\n",
       "      (() => {\n",
       "      const buttonEl =\n",
       "        document.querySelector('#id_7adea611-1b45-412d-bbef-5259d6e12122 button.colab-df-generate');\n",
       "      buttonEl.style.display =\n",
       "        google.colab.kernel.accessAllowed ? 'block' : 'none';\n",
       "\n",
       "      buttonEl.onclick = () => {\n",
       "        google.colab.notebook.generateWithVariable('df_brazil_gauge_info');\n",
       "      }\n",
       "      })();\n",
       "    </script>\n",
       "  </div>\n",
       "\n",
       "    </div>\n",
       "  </div>\n"
      ],
      "text/plain": [
       "       gauge_code       state                   city  \\\n",
       "0        12500000        ACRE        CRUZEIRO DO SUL   \n",
       "1        12510500        ACRE               TARAUACÁ   \n",
       "2        12557000        ACRE                 JORDÃO   \n",
       "3        12590000        ACRE               TARAUACÁ   \n",
       "4        12640000        ACRE                  FEIJÓ   \n",
       "...           ...         ...                    ...   \n",
       "18883  261500301A  PERNAMBUCO  TAQUARITINGA DO NORTE   \n",
       "18884  261520102A  PERNAMBUCO             TERRA NOVA   \n",
       "18885  261590401A  PERNAMBUCO             TUPARETAMA   \n",
       "18886  261610001A  PERNAMBUCO             VERDEJANTE   \n",
       "18887  261618301A  PERNAMBUCO      VERTENTE DO LÉRIO   \n",
       "\n",
       "                                    name_station       lat       long  \\\n",
       "0                                CRUZEIRO DO SUL -7.633300 -72.660300   \n",
       "1                         PONTE DO RIO LIBERDADE -7.799400 -72.021100   \n",
       "2                                         JORDÃO -9.188300 -71.952500   \n",
       "3                              PONTE DE TARAUACÁ -8.151900 -70.745600   \n",
       "4                          SERINGAL SANTA HELENA -8.685800 -70.551100   \n",
       "...                                          ...       ...        ...   \n",
       "18883        Taquaritinga do Norte [CAIC] - APAC -7.898380 -36.050430   \n",
       "18884  Terra Nova [Escola Francisco Hugo] - APAC -8.224680 -39.376600   \n",
       "18885                Tuparetama [Compesa] - APAC -7.602240 -37.309420   \n",
       "18886                          VERDEJANTE - APAC -7.930167 -38.968306   \n",
       "18887            Vertente do Lério [EREN] - APAC -7.773540 -35.843770   \n",
       "\n",
       "                                             responsible      source  \\\n",
       "0               00001 - ANA - Agência Nacional de Águas   TELEMETRIA   \n",
       "1               00001 - ANA - Agência Nacional de Águas   TELEMETRIA   \n",
       "2      00380 - SEMA-AC - Secretaria de Meio Ambiente ...  TELEMETRIA   \n",
       "3               00001 - ANA - Agência Nacional de Águas   TELEMETRIA   \n",
       "4               00001 - ANA - Agência Nacional de Águas   TELEMETRIA   \n",
       "...                                                  ...         ...   \n",
       "18883                                            CEMADEN     CEMADEN   \n",
       "18884                                            CEMADEN     CEMADEN   \n",
       "18885                                            CEMADEN     CEMADEN   \n",
       "18886                                            CEMADEN     CEMADEN   \n",
       "18887                                            CEMADEN     CEMADEN   \n",
       "\n",
       "      state_abbreviation  \n",
       "0                     AC  \n",
       "1                     AC  \n",
       "2                     AC  \n",
       "3                     AC  \n",
       "4                     AC  \n",
       "...                  ...  \n",
       "18883                 PE  \n",
       "18884                 PE  \n",
       "18885                 PE  \n",
       "18886                 PE  \n",
       "18887                 PE  \n",
       "\n",
       "[18888 rows x 9 columns]"
      ]
     },
     "execution_count": 10,
     "metadata": {},
     "output_type": "execute_result"
    }
   ],
   "source": [
    "table_key = 'table_info'\n",
    "\n",
    "# Use parallel processing to read all files\n",
    "brazil_list_info = Parallel(n_jobs=-1)(delayed(read_hdf_file)(filename, table_key) for filename in brazil_h5_files)\n",
    "\n",
    "# Concatenate and remove duplicates\n",
    "df_brazil_gauge_info = pd.concat(brazil_list_info).drop_duplicates(ignore_index=True)\n",
    "del brazil_list_info\n",
    "\n",
    "df_brazil_gauge_info['city'] = df_brazil_gauge_info['city'].apply(lambda x: x.upper())\n",
    "df_brazil_gauge_info['state'] = df_brazil_gauge_info['state'].apply(lambda x: str(x).upper())\n",
    "df_brazil_gauge_info = convert_state_abbreviations_to_names(df_brazil_gauge_info, 'state')\n",
    "\n",
    "\n",
    "# df_brazil_gauge_info = df_brazil_gauge_info[['gauge_code',\t'state',\t'city',\t'name_station',\t'lat',\t'long',\t'responsible', 'source']]\n",
    "df_brazil_gauge_info"
   ]
  },
  {
   "cell_type": "code",
   "execution_count": 11,
   "id": "f895e551",
   "metadata": {
    "colab": {
     "base_uri": "https://localhost:8080/",
     "height": 423
    },
    "executionInfo": {
     "elapsed": 57042,
     "status": "ok",
     "timestamp": 1740165893738,
     "user": {
      "displayName": "Lindemberg Vidal",
      "userId": "05299358828699421454"
     },
     "user_tz": 180
    },
    "id": "f895e551",
    "outputId": "352f9f79-764c-4662-92cb-c02a151cd57b"
   },
   "outputs": [
    {
     "data": {
      "application/vnd.google.colaboratory.intrinsic+json": {
       "type": "dataframe",
       "variable_name": "df_brazil_gauge_data"
      },
      "text/html": [
       "\n",
       "  <div id=\"df-b3c597b1-a26f-43b0-a875-4b44b02ea522\" class=\"colab-df-container\">\n",
       "    <div>\n",
       "<style scoped>\n",
       "    .dataframe tbody tr th:only-of-type {\n",
       "        vertical-align: middle;\n",
       "    }\n",
       "\n",
       "    .dataframe tbody tr th {\n",
       "        vertical-align: top;\n",
       "    }\n",
       "\n",
       "    .dataframe thead th {\n",
       "        text-align: right;\n",
       "    }\n",
       "</style>\n",
       "<table border=\"1\" class=\"dataframe\">\n",
       "  <thead>\n",
       "    <tr style=\"text-align: right;\">\n",
       "      <th></th>\n",
       "      <th>gauge_code</th>\n",
       "      <th>datetime</th>\n",
       "      <th>rain_mm</th>\n",
       "    </tr>\n",
       "  </thead>\n",
       "  <tbody>\n",
       "    <tr>\n",
       "      <th>0</th>\n",
       "      <td>02042051</td>\n",
       "      <td>2021-07-31</td>\n",
       "      <td>0.00</td>\n",
       "    </tr>\n",
       "    <tr>\n",
       "      <th>1</th>\n",
       "      <td>02042051</td>\n",
       "      <td>2021-08-01</td>\n",
       "      <td>1.00</td>\n",
       "    </tr>\n",
       "    <tr>\n",
       "      <th>2</th>\n",
       "      <td>02042051</td>\n",
       "      <td>2021-08-02</td>\n",
       "      <td>0.00</td>\n",
       "    </tr>\n",
       "    <tr>\n",
       "      <th>3</th>\n",
       "      <td>02042051</td>\n",
       "      <td>2021-08-03</td>\n",
       "      <td>0.60</td>\n",
       "    </tr>\n",
       "    <tr>\n",
       "      <th>4</th>\n",
       "      <td>02042051</td>\n",
       "      <td>2021-08-04</td>\n",
       "      <td>1.00</td>\n",
       "    </tr>\n",
       "    <tr>\n",
       "      <th>...</th>\n",
       "      <td>...</td>\n",
       "      <td>...</td>\n",
       "      <td>...</td>\n",
       "    </tr>\n",
       "    <tr>\n",
       "      <th>3597090</th>\n",
       "      <td>CEMADEN_12</td>\n",
       "      <td>2023-02-24</td>\n",
       "      <td>0.42</td>\n",
       "    </tr>\n",
       "    <tr>\n",
       "      <th>3597091</th>\n",
       "      <td>CEMADEN_12</td>\n",
       "      <td>2023-02-25</td>\n",
       "      <td>0.00</td>\n",
       "    </tr>\n",
       "    <tr>\n",
       "      <th>3597092</th>\n",
       "      <td>CEMADEN_12</td>\n",
       "      <td>2023-02-26</td>\n",
       "      <td>0.00</td>\n",
       "    </tr>\n",
       "    <tr>\n",
       "      <th>3597093</th>\n",
       "      <td>CEMADEN_12</td>\n",
       "      <td>2023-02-27</td>\n",
       "      <td>1.78</td>\n",
       "    </tr>\n",
       "    <tr>\n",
       "      <th>3597094</th>\n",
       "      <td>CEMADEN_12</td>\n",
       "      <td>2023-02-28</td>\n",
       "      <td>0.59</td>\n",
       "    </tr>\n",
       "  </tbody>\n",
       "</table>\n",
       "<p>121377071 rows × 3 columns</p>\n",
       "</div>\n",
       "    <div class=\"colab-df-buttons\">\n",
       "\n",
       "  <div class=\"colab-df-container\">\n",
       "    <button class=\"colab-df-convert\" onclick=\"convertToInteractive('df-b3c597b1-a26f-43b0-a875-4b44b02ea522')\"\n",
       "            title=\"Convert this dataframe to an interactive table.\"\n",
       "            style=\"display:none;\">\n",
       "\n",
       "  <svg xmlns=\"http://www.w3.org/2000/svg\" height=\"24px\" viewBox=\"0 -960 960 960\">\n",
       "    <path d=\"M120-120v-720h720v720H120Zm60-500h600v-160H180v160Zm220 220h160v-160H400v160Zm0 220h160v-160H400v160ZM180-400h160v-160H180v160Zm440 0h160v-160H620v160ZM180-180h160v-160H180v160Zm440 0h160v-160H620v160Z\"/>\n",
       "  </svg>\n",
       "    </button>\n",
       "\n",
       "  <style>\n",
       "    .colab-df-container {\n",
       "      display:flex;\n",
       "      gap: 12px;\n",
       "    }\n",
       "\n",
       "    .colab-df-convert {\n",
       "      background-color: #E8F0FE;\n",
       "      border: none;\n",
       "      border-radius: 50%;\n",
       "      cursor: pointer;\n",
       "      display: none;\n",
       "      fill: #1967D2;\n",
       "      height: 32px;\n",
       "      padding: 0 0 0 0;\n",
       "      width: 32px;\n",
       "    }\n",
       "\n",
       "    .colab-df-convert:hover {\n",
       "      background-color: #E2EBFA;\n",
       "      box-shadow: 0px 1px 2px rgba(60, 64, 67, 0.3), 0px 1px 3px 1px rgba(60, 64, 67, 0.15);\n",
       "      fill: #174EA6;\n",
       "    }\n",
       "\n",
       "    .colab-df-buttons div {\n",
       "      margin-bottom: 4px;\n",
       "    }\n",
       "\n",
       "    [theme=dark] .colab-df-convert {\n",
       "      background-color: #3B4455;\n",
       "      fill: #D2E3FC;\n",
       "    }\n",
       "\n",
       "    [theme=dark] .colab-df-convert:hover {\n",
       "      background-color: #434B5C;\n",
       "      box-shadow: 0px 1px 3px 1px rgba(0, 0, 0, 0.15);\n",
       "      filter: drop-shadow(0px 1px 2px rgba(0, 0, 0, 0.3));\n",
       "      fill: #FFFFFF;\n",
       "    }\n",
       "  </style>\n",
       "\n",
       "    <script>\n",
       "      const buttonEl =\n",
       "        document.querySelector('#df-b3c597b1-a26f-43b0-a875-4b44b02ea522 button.colab-df-convert');\n",
       "      buttonEl.style.display =\n",
       "        google.colab.kernel.accessAllowed ? 'block' : 'none';\n",
       "\n",
       "      async function convertToInteractive(key) {\n",
       "        const element = document.querySelector('#df-b3c597b1-a26f-43b0-a875-4b44b02ea522');\n",
       "        const dataTable =\n",
       "          await google.colab.kernel.invokeFunction('convertToInteractive',\n",
       "                                                    [key], {});\n",
       "        if (!dataTable) return;\n",
       "\n",
       "        const docLinkHtml = 'Like what you see? Visit the ' +\n",
       "          '<a target=\"_blank\" href=https://colab.research.google.com/notebooks/data_table.ipynb>data table notebook</a>'\n",
       "          + ' to learn more about interactive tables.';\n",
       "        element.innerHTML = '';\n",
       "        dataTable['output_type'] = 'display_data';\n",
       "        await google.colab.output.renderOutput(dataTable, element);\n",
       "        const docLink = document.createElement('div');\n",
       "        docLink.innerHTML = docLinkHtml;\n",
       "        element.appendChild(docLink);\n",
       "      }\n",
       "    </script>\n",
       "  </div>\n",
       "\n",
       "\n",
       "<div id=\"df-211d0a09-c584-47d4-af5f-6317d4f9a04f\">\n",
       "  <button class=\"colab-df-quickchart\" onclick=\"quickchart('df-211d0a09-c584-47d4-af5f-6317d4f9a04f')\"\n",
       "            title=\"Suggest charts\"\n",
       "            style=\"display:none;\">\n",
       "\n",
       "<svg xmlns=\"http://www.w3.org/2000/svg\" height=\"24px\"viewBox=\"0 0 24 24\"\n",
       "     width=\"24px\">\n",
       "    <g>\n",
       "        <path d=\"M19 3H5c-1.1 0-2 .9-2 2v14c0 1.1.9 2 2 2h14c1.1 0 2-.9 2-2V5c0-1.1-.9-2-2-2zM9 17H7v-7h2v7zm4 0h-2V7h2v10zm4 0h-2v-4h2v4z\"/>\n",
       "    </g>\n",
       "</svg>\n",
       "  </button>\n",
       "\n",
       "<style>\n",
       "  .colab-df-quickchart {\n",
       "      --bg-color: #E8F0FE;\n",
       "      --fill-color: #1967D2;\n",
       "      --hover-bg-color: #E2EBFA;\n",
       "      --hover-fill-color: #174EA6;\n",
       "      --disabled-fill-color: #AAA;\n",
       "      --disabled-bg-color: #DDD;\n",
       "  }\n",
       "\n",
       "  [theme=dark] .colab-df-quickchart {\n",
       "      --bg-color: #3B4455;\n",
       "      --fill-color: #D2E3FC;\n",
       "      --hover-bg-color: #434B5C;\n",
       "      --hover-fill-color: #FFFFFF;\n",
       "      --disabled-bg-color: #3B4455;\n",
       "      --disabled-fill-color: #666;\n",
       "  }\n",
       "\n",
       "  .colab-df-quickchart {\n",
       "    background-color: var(--bg-color);\n",
       "    border: none;\n",
       "    border-radius: 50%;\n",
       "    cursor: pointer;\n",
       "    display: none;\n",
       "    fill: var(--fill-color);\n",
       "    height: 32px;\n",
       "    padding: 0;\n",
       "    width: 32px;\n",
       "  }\n",
       "\n",
       "  .colab-df-quickchart:hover {\n",
       "    background-color: var(--hover-bg-color);\n",
       "    box-shadow: 0 1px 2px rgba(60, 64, 67, 0.3), 0 1px 3px 1px rgba(60, 64, 67, 0.15);\n",
       "    fill: var(--button-hover-fill-color);\n",
       "  }\n",
       "\n",
       "  .colab-df-quickchart-complete:disabled,\n",
       "  .colab-df-quickchart-complete:disabled:hover {\n",
       "    background-color: var(--disabled-bg-color);\n",
       "    fill: var(--disabled-fill-color);\n",
       "    box-shadow: none;\n",
       "  }\n",
       "\n",
       "  .colab-df-spinner {\n",
       "    border: 2px solid var(--fill-color);\n",
       "    border-color: transparent;\n",
       "    border-bottom-color: var(--fill-color);\n",
       "    animation:\n",
       "      spin 1s steps(1) infinite;\n",
       "  }\n",
       "\n",
       "  @keyframes spin {\n",
       "    0% {\n",
       "      border-color: transparent;\n",
       "      border-bottom-color: var(--fill-color);\n",
       "      border-left-color: var(--fill-color);\n",
       "    }\n",
       "    20% {\n",
       "      border-color: transparent;\n",
       "      border-left-color: var(--fill-color);\n",
       "      border-top-color: var(--fill-color);\n",
       "    }\n",
       "    30% {\n",
       "      border-color: transparent;\n",
       "      border-left-color: var(--fill-color);\n",
       "      border-top-color: var(--fill-color);\n",
       "      border-right-color: var(--fill-color);\n",
       "    }\n",
       "    40% {\n",
       "      border-color: transparent;\n",
       "      border-right-color: var(--fill-color);\n",
       "      border-top-color: var(--fill-color);\n",
       "    }\n",
       "    60% {\n",
       "      border-color: transparent;\n",
       "      border-right-color: var(--fill-color);\n",
       "    }\n",
       "    80% {\n",
       "      border-color: transparent;\n",
       "      border-right-color: var(--fill-color);\n",
       "      border-bottom-color: var(--fill-color);\n",
       "    }\n",
       "    90% {\n",
       "      border-color: transparent;\n",
       "      border-bottom-color: var(--fill-color);\n",
       "    }\n",
       "  }\n",
       "</style>\n",
       "\n",
       "  <script>\n",
       "    async function quickchart(key) {\n",
       "      const quickchartButtonEl =\n",
       "        document.querySelector('#' + key + ' button');\n",
       "      quickchartButtonEl.disabled = true;  // To prevent multiple clicks.\n",
       "      quickchartButtonEl.classList.add('colab-df-spinner');\n",
       "      try {\n",
       "        const charts = await google.colab.kernel.invokeFunction(\n",
       "            'suggestCharts', [key], {});\n",
       "      } catch (error) {\n",
       "        console.error('Error during call to suggestCharts:', error);\n",
       "      }\n",
       "      quickchartButtonEl.classList.remove('colab-df-spinner');\n",
       "      quickchartButtonEl.classList.add('colab-df-quickchart-complete');\n",
       "    }\n",
       "    (() => {\n",
       "      let quickchartButtonEl =\n",
       "        document.querySelector('#df-211d0a09-c584-47d4-af5f-6317d4f9a04f button');\n",
       "      quickchartButtonEl.style.display =\n",
       "        google.colab.kernel.accessAllowed ? 'block' : 'none';\n",
       "    })();\n",
       "  </script>\n",
       "</div>\n",
       "\n",
       "  <div id=\"id_1594c5b3-8ef0-40e8-a7a0-4465faeeac0a\">\n",
       "    <style>\n",
       "      .colab-df-generate {\n",
       "        background-color: #E8F0FE;\n",
       "        border: none;\n",
       "        border-radius: 50%;\n",
       "        cursor: pointer;\n",
       "        display: none;\n",
       "        fill: #1967D2;\n",
       "        height: 32px;\n",
       "        padding: 0 0 0 0;\n",
       "        width: 32px;\n",
       "      }\n",
       "\n",
       "      .colab-df-generate:hover {\n",
       "        background-color: #E2EBFA;\n",
       "        box-shadow: 0px 1px 2px rgba(60, 64, 67, 0.3), 0px 1px 3px 1px rgba(60, 64, 67, 0.15);\n",
       "        fill: #174EA6;\n",
       "      }\n",
       "\n",
       "      [theme=dark] .colab-df-generate {\n",
       "        background-color: #3B4455;\n",
       "        fill: #D2E3FC;\n",
       "      }\n",
       "\n",
       "      [theme=dark] .colab-df-generate:hover {\n",
       "        background-color: #434B5C;\n",
       "        box-shadow: 0px 1px 3px 1px rgba(0, 0, 0, 0.15);\n",
       "        filter: drop-shadow(0px 1px 2px rgba(0, 0, 0, 0.3));\n",
       "        fill: #FFFFFF;\n",
       "      }\n",
       "    </style>\n",
       "    <button class=\"colab-df-generate\" onclick=\"generateWithVariable('df_brazil_gauge_data')\"\n",
       "            title=\"Generate code using this dataframe.\"\n",
       "            style=\"display:none;\">\n",
       "\n",
       "  <svg xmlns=\"http://www.w3.org/2000/svg\" height=\"24px\"viewBox=\"0 0 24 24\"\n",
       "       width=\"24px\">\n",
       "    <path d=\"M7,19H8.4L18.45,9,17,7.55,7,17.6ZM5,21V16.75L18.45,3.32a2,2,0,0,1,2.83,0l1.4,1.43a1.91,1.91,0,0,1,.58,1.4,1.91,1.91,0,0,1-.58,1.4L9.25,21ZM18.45,9,17,7.55Zm-12,3A5.31,5.31,0,0,0,4.9,8.1,5.31,5.31,0,0,0,1,6.5,5.31,5.31,0,0,0,4.9,4.9,5.31,5.31,0,0,0,6.5,1,5.31,5.31,0,0,0,8.1,4.9,5.31,5.31,0,0,0,12,6.5,5.46,5.46,0,0,0,6.5,12Z\"/>\n",
       "  </svg>\n",
       "    </button>\n",
       "    <script>\n",
       "      (() => {\n",
       "      const buttonEl =\n",
       "        document.querySelector('#id_1594c5b3-8ef0-40e8-a7a0-4465faeeac0a button.colab-df-generate');\n",
       "      buttonEl.style.display =\n",
       "        google.colab.kernel.accessAllowed ? 'block' : 'none';\n",
       "\n",
       "      buttonEl.onclick = () => {\n",
       "        google.colab.notebook.generateWithVariable('df_brazil_gauge_data');\n",
       "      }\n",
       "      })();\n",
       "    </script>\n",
       "  </div>\n",
       "\n",
       "    </div>\n",
       "  </div>\n"
      ],
      "text/plain": [
       "         gauge_code   datetime  rain_mm\n",
       "0          02042051 2021-07-31     0.00\n",
       "1          02042051 2021-08-01     1.00\n",
       "2          02042051 2021-08-02     0.00\n",
       "3          02042051 2021-08-03     0.60\n",
       "4          02042051 2021-08-04     1.00\n",
       "...             ...        ...      ...\n",
       "3597090  CEMADEN_12 2023-02-24     0.42\n",
       "3597091  CEMADEN_12 2023-02-25     0.00\n",
       "3597092  CEMADEN_12 2023-02-26     0.00\n",
       "3597093  CEMADEN_12 2023-02-27     1.78\n",
       "3597094  CEMADEN_12 2023-02-28     0.59\n",
       "\n",
       "[121377071 rows x 3 columns]"
      ]
     },
     "execution_count": 11,
     "metadata": {},
     "output_type": "execute_result"
    }
   ],
   "source": [
    "table_key = 'table_data'\n",
    "\n",
    "# Use parallel processing to read all files\n",
    "brazil_list_data = Parallel(n_jobs=-1)(delayed(read_hdf_file)(filename, table_key) for filename in brazil_h5_files)\n",
    "\n",
    "# Concatenate and remove duplicates\n",
    "# df_brazil_gauge_data = pd.concat(brazil_list_data).drop_duplicates(ignore_index=True)\n",
    "df_brazil_gauge_data = pd.concat(brazil_list_data)\n",
    "del brazil_list_data\n",
    "\n",
    "# df_brazil_gauge_data = df_brazil_gauge_data[['gauge_code',\t'datetime',\t'rain_mm']]\n",
    "df_brazil_gauge_data['gauge_code'] = df_brazil_gauge_data['gauge_code'].astype(str)\n",
    "df_brazil_gauge_data"
   ]
  },
  {
   "cell_type": "code",
   "execution_count": 12,
   "id": "38070588",
   "metadata": {
    "colab": {
     "base_uri": "https://localhost:8080/",
     "height": 178
    },
    "executionInfo": {
     "elapsed": 5,
     "status": "ok",
     "timestamp": 1740165893744,
     "user": {
      "displayName": "Lindemberg Vidal",
      "userId": "05299358828699421454"
     },
     "user_tz": 180
    },
    "id": "38070588",
    "outputId": "76a631ff-9cb1-4c57-9791-e04fcc73a9fb"
   },
   "outputs": [
    {
     "data": {
      "text/html": [
       "<div>\n",
       "<style scoped>\n",
       "    .dataframe tbody tr th:only-of-type {\n",
       "        vertical-align: middle;\n",
       "    }\n",
       "\n",
       "    .dataframe tbody tr th {\n",
       "        vertical-align: top;\n",
       "    }\n",
       "\n",
       "    .dataframe thead th {\n",
       "        text-align: right;\n",
       "    }\n",
       "</style>\n",
       "<table border=\"1\" class=\"dataframe\">\n",
       "  <thead>\n",
       "    <tr style=\"text-align: right;\">\n",
       "      <th></th>\n",
       "      <th>0</th>\n",
       "    </tr>\n",
       "  </thead>\n",
       "  <tbody>\n",
       "    <tr>\n",
       "      <th>gauge_code</th>\n",
       "      <td>object</td>\n",
       "    </tr>\n",
       "    <tr>\n",
       "      <th>datetime</th>\n",
       "      <td>datetime64[ns]</td>\n",
       "    </tr>\n",
       "    <tr>\n",
       "      <th>rain_mm</th>\n",
       "      <td>float64</td>\n",
       "    </tr>\n",
       "  </tbody>\n",
       "</table>\n",
       "</div><br><label><b>dtype:</b> object</label>"
      ],
      "text/plain": [
       "gauge_code            object\n",
       "datetime      datetime64[ns]\n",
       "rain_mm              float64\n",
       "dtype: object"
      ]
     },
     "execution_count": 12,
     "metadata": {},
     "output_type": "execute_result"
    }
   ],
   "source": [
    "df_brazil_gauge_data.dtypes"
   ]
  },
  {
   "cell_type": "code",
   "execution_count": 13,
   "id": "646f774a",
   "metadata": {
    "executionInfo": {
     "elapsed": 638666,
     "status": "ok",
     "timestamp": 1740166532411,
     "user": {
      "displayName": "Lindemberg Vidal",
      "userId": "05299358828699421454"
     },
     "user_tz": 180
    },
    "id": "646f774a"
   },
   "outputs": [],
   "source": [
    "# df_brazil_gauge_data.to_hdf('./1 - Organized data gauge/BRAZIL_GAUGE_DATA_2021_2024.h5', key='table_data', mode='w', complevel=9, complib='zlib', encoding='utf-8')\n",
    "df_brazil_gauge_data.to_hdf('BRAZIL_DAILY_1961_2024.h5', key='table_data', mode='w', complevel=9, complib='zlib', encoding='utf-8')\n",
    "del df_brazil_gauge_data"
   ]
  },
  {
   "cell_type": "code",
   "execution_count": 14,
   "id": "x25X6MVLEx3g",
   "metadata": {
    "executionInfo": {
     "elapsed": 2,
     "status": "ok",
     "timestamp": 1740166532415,
     "user": {
      "displayName": "Lindemberg Vidal",
      "userId": "05299358828699421454"
     },
     "user_tz": 180
    },
    "id": "x25X6MVLEx3g"
   },
   "outputs": [],
   "source": [
    "# df_brazil_gauge_info.to_hdf('./1 - Organized data gauge/BRAZIL_GAUGE_DATA_2021_2024.h5', key='table_info', mode='r+', complevel=9, complib='zlib', encoding='utf-8')\n",
    "df_brazil_gauge_info.to_hdf('BRAZIL_DAILY_1961_2024.h5', key='table_info', mode='r+', complevel=9, complib='zlib', encoding='utf-8')\n",
    "del df_brazil_gauge_info"
   ]
  },
  {
   "cell_type": "code",
   "execution_count": 15,
   "id": "5Nbj8MO6PpWb",
   "metadata": {
    "colab": {
     "base_uri": "https://localhost:8080/",
     "height": 894
    },
    "executionInfo": {
     "elapsed": 126,
     "status": "ok",
     "timestamp": 1740166532542,
     "user": {
      "displayName": "Lindemberg Vidal",
      "userId": "05299358828699421454"
     },
     "user_tz": 180
    },
    "id": "5Nbj8MO6PpWb",
    "outputId": "be7a7d5d-0c19-4a0a-b011-3e2e3201541d"
   },
   "outputs": [
    {
     "data": {
      "application/vnd.google.colaboratory.intrinsic+json": {
       "summary": "{\n  \"name\": \"df\",\n  \"rows\": 18888,\n  \"fields\": [\n    {\n      \"column\": \"gauge_code\",\n      \"properties\": {\n        \"dtype\": \"string\",\n        \"num_unique_values\": 18716,\n        \"samples\": [\n          \"01839007\",\n          \"02951039\",\n          \"330580207A\"\n        ],\n        \"semantic_type\": \"\",\n        \"description\": \"\"\n      }\n    },\n    {\n      \"column\": \"state\",\n      \"properties\": {\n        \"dtype\": \"category\",\n        \"num_unique_values\": 28,\n        \"samples\": [\n          \"CEAR\\u00c1\",\n          \"SANTA CATARINA\",\n          \"PIAU\\u00cd\"\n        ],\n        \"semantic_type\": \"\",\n        \"description\": \"\"\n      }\n    },\n    {\n      \"column\": \"city\",\n      \"properties\": {\n        \"dtype\": \"category\",\n        \"num_unique_values\": 4869,\n        \"samples\": [\n          \"TUPANCIRET\\u00c3\",\n          \"ERMO\",\n          \"ALEGRETE\"\n        ],\n        \"semantic_type\": \"\",\n        \"description\": \"\"\n      }\n    },\n    {\n      \"column\": \"name_station\",\n      \"properties\": {\n        \"dtype\": \"string\",\n        \"num_unique_values\": 14186,\n        \"samples\": [\n          \"S\\u00c3O SEBASTI\\u00c3O DOS GATOS\",\n          \"ITARANTIM\",\n          \"Av. Getulio Vargas\"\n        ],\n        \"semantic_type\": \"\",\n        \"description\": \"\"\n      }\n    },\n    {\n      \"column\": \"lat\",\n      \"properties\": {\n        \"dtype\": \"number\",\n        \"std\": 8.178160707497971,\n        \"min\": -33.74222221,\n        \"max\": 4.6428,\n        \"num_unique_values\": 12425,\n        \"samples\": [\n          -22.51362,\n          -24.3206,\n          -8.154\n        ],\n        \"semantic_type\": \"\",\n        \"description\": \"\"\n      }\n    },\n    {\n      \"column\": \"long\",\n      \"properties\": {\n        \"dtype\": \"number\",\n        \"std\": 6.516636258296975,\n        \"min\": -73.6522,\n        \"max\": -32.4167,\n        \"num_unique_values\": 12130,\n        \"samples\": [\n          -46.39277,\n          -39.0111,\n          -38.564051\n        ],\n        \"semantic_type\": \"\",\n        \"description\": \"\"\n      }\n    },\n    {\n      \"column\": \"responsible\",\n      \"properties\": {\n        \"dtype\": \"category\",\n        \"num_unique_values\": 690,\n        \"samples\": [\n          \"00330 - INDIAVAI ENERG - Indiavai Energ\\u00e9tica  S.A.\",\n          \"01044 - CERTEL - Certel Energias Renov\\u00e1veis S.A\",\n          \"00274 - RIO DO SANGUE - Rio do Sangue Energia S.A.\"\n        ],\n        \"semantic_type\": \"\",\n        \"description\": \"\"\n      }\n    },\n    {\n      \"column\": \"source\",\n      \"properties\": {\n        \"dtype\": \"category\",\n        \"num_unique_values\": 4,\n        \"samples\": [\n          \"HIDROWEB\",\n          \"CEMADEN\",\n          \"TELEMETRIA\"\n        ],\n        \"semantic_type\": \"\",\n        \"description\": \"\"\n      }\n    },\n    {\n      \"column\": \"state_abbreviation\",\n      \"properties\": {\n        \"dtype\": \"category\",\n        \"num_unique_values\": 28,\n        \"samples\": [\n          \"CE\",\n          \"SC\",\n          \"PI\"\n        ],\n        \"semantic_type\": \"\",\n        \"description\": \"\"\n      }\n    }\n  ]\n}",
       "type": "dataframe",
       "variable_name": "df"
      },
      "text/html": [
       "\n",
       "  <div id=\"df-d7879662-3b9c-4c6b-9d8e-8c664f2c3adb\" class=\"colab-df-container\">\n",
       "    <div>\n",
       "<style scoped>\n",
       "    .dataframe tbody tr th:only-of-type {\n",
       "        vertical-align: middle;\n",
       "    }\n",
       "\n",
       "    .dataframe tbody tr th {\n",
       "        vertical-align: top;\n",
       "    }\n",
       "\n",
       "    .dataframe thead th {\n",
       "        text-align: right;\n",
       "    }\n",
       "</style>\n",
       "<table border=\"1\" class=\"dataframe\">\n",
       "  <thead>\n",
       "    <tr style=\"text-align: right;\">\n",
       "      <th></th>\n",
       "      <th>gauge_code</th>\n",
       "      <th>state</th>\n",
       "      <th>city</th>\n",
       "      <th>name_station</th>\n",
       "      <th>lat</th>\n",
       "      <th>long</th>\n",
       "      <th>responsible</th>\n",
       "      <th>source</th>\n",
       "      <th>state_abbreviation</th>\n",
       "    </tr>\n",
       "  </thead>\n",
       "  <tbody>\n",
       "    <tr>\n",
       "      <th>0</th>\n",
       "      <td>12500000</td>\n",
       "      <td>ACRE</td>\n",
       "      <td>CRUZEIRO DO SUL</td>\n",
       "      <td>CRUZEIRO DO SUL</td>\n",
       "      <td>-7.633300</td>\n",
       "      <td>-72.660300</td>\n",
       "      <td>00001 - ANA - Agência Nacional de Águas</td>\n",
       "      <td>TELEMETRIA</td>\n",
       "      <td>AC</td>\n",
       "    </tr>\n",
       "    <tr>\n",
       "      <th>1</th>\n",
       "      <td>12510500</td>\n",
       "      <td>ACRE</td>\n",
       "      <td>TARAUACÁ</td>\n",
       "      <td>PONTE DO RIO LIBERDADE</td>\n",
       "      <td>-7.799400</td>\n",
       "      <td>-72.021100</td>\n",
       "      <td>00001 - ANA - Agência Nacional de Águas</td>\n",
       "      <td>TELEMETRIA</td>\n",
       "      <td>AC</td>\n",
       "    </tr>\n",
       "    <tr>\n",
       "      <th>2</th>\n",
       "      <td>12557000</td>\n",
       "      <td>ACRE</td>\n",
       "      <td>JORDÃO</td>\n",
       "      <td>JORDÃO</td>\n",
       "      <td>-9.188300</td>\n",
       "      <td>-71.952500</td>\n",
       "      <td>00380 - SEMA-AC - Secretaria de Meio Ambiente ...</td>\n",
       "      <td>TELEMETRIA</td>\n",
       "      <td>AC</td>\n",
       "    </tr>\n",
       "    <tr>\n",
       "      <th>3</th>\n",
       "      <td>12590000</td>\n",
       "      <td>ACRE</td>\n",
       "      <td>TARAUACÁ</td>\n",
       "      <td>PONTE DE TARAUACÁ</td>\n",
       "      <td>-8.151900</td>\n",
       "      <td>-70.745600</td>\n",
       "      <td>00001 - ANA - Agência Nacional de Águas</td>\n",
       "      <td>TELEMETRIA</td>\n",
       "      <td>AC</td>\n",
       "    </tr>\n",
       "    <tr>\n",
       "      <th>4</th>\n",
       "      <td>12640000</td>\n",
       "      <td>ACRE</td>\n",
       "      <td>FEIJÓ</td>\n",
       "      <td>SERINGAL SANTA HELENA</td>\n",
       "      <td>-8.685800</td>\n",
       "      <td>-70.551100</td>\n",
       "      <td>00001 - ANA - Agência Nacional de Águas</td>\n",
       "      <td>TELEMETRIA</td>\n",
       "      <td>AC</td>\n",
       "    </tr>\n",
       "    <tr>\n",
       "      <th>...</th>\n",
       "      <td>...</td>\n",
       "      <td>...</td>\n",
       "      <td>...</td>\n",
       "      <td>...</td>\n",
       "      <td>...</td>\n",
       "      <td>...</td>\n",
       "      <td>...</td>\n",
       "      <td>...</td>\n",
       "      <td>...</td>\n",
       "    </tr>\n",
       "    <tr>\n",
       "      <th>18883</th>\n",
       "      <td>261500301A</td>\n",
       "      <td>PERNAMBUCO</td>\n",
       "      <td>TAQUARITINGA DO NORTE</td>\n",
       "      <td>Taquaritinga do Norte [CAIC] - APAC</td>\n",
       "      <td>-7.898380</td>\n",
       "      <td>-36.050430</td>\n",
       "      <td>CEMADEN</td>\n",
       "      <td>CEMADEN</td>\n",
       "      <td>PE</td>\n",
       "    </tr>\n",
       "    <tr>\n",
       "      <th>18884</th>\n",
       "      <td>261520102A</td>\n",
       "      <td>PERNAMBUCO</td>\n",
       "      <td>TERRA NOVA</td>\n",
       "      <td>Terra Nova [Escola Francisco Hugo] - APAC</td>\n",
       "      <td>-8.224680</td>\n",
       "      <td>-39.376600</td>\n",
       "      <td>CEMADEN</td>\n",
       "      <td>CEMADEN</td>\n",
       "      <td>PE</td>\n",
       "    </tr>\n",
       "    <tr>\n",
       "      <th>18885</th>\n",
       "      <td>261590401A</td>\n",
       "      <td>PERNAMBUCO</td>\n",
       "      <td>TUPARETAMA</td>\n",
       "      <td>Tuparetama [Compesa] - APAC</td>\n",
       "      <td>-7.602240</td>\n",
       "      <td>-37.309420</td>\n",
       "      <td>CEMADEN</td>\n",
       "      <td>CEMADEN</td>\n",
       "      <td>PE</td>\n",
       "    </tr>\n",
       "    <tr>\n",
       "      <th>18886</th>\n",
       "      <td>261610001A</td>\n",
       "      <td>PERNAMBUCO</td>\n",
       "      <td>VERDEJANTE</td>\n",
       "      <td>VERDEJANTE - APAC</td>\n",
       "      <td>-7.930167</td>\n",
       "      <td>-38.968306</td>\n",
       "      <td>CEMADEN</td>\n",
       "      <td>CEMADEN</td>\n",
       "      <td>PE</td>\n",
       "    </tr>\n",
       "    <tr>\n",
       "      <th>18887</th>\n",
       "      <td>261618301A</td>\n",
       "      <td>PERNAMBUCO</td>\n",
       "      <td>VERTENTE DO LÉRIO</td>\n",
       "      <td>Vertente do Lério [EREN] - APAC</td>\n",
       "      <td>-7.773540</td>\n",
       "      <td>-35.843770</td>\n",
       "      <td>CEMADEN</td>\n",
       "      <td>CEMADEN</td>\n",
       "      <td>PE</td>\n",
       "    </tr>\n",
       "  </tbody>\n",
       "</table>\n",
       "<p>18888 rows × 9 columns</p>\n",
       "</div>\n",
       "    <div class=\"colab-df-buttons\">\n",
       "\n",
       "  <div class=\"colab-df-container\">\n",
       "    <button class=\"colab-df-convert\" onclick=\"convertToInteractive('df-d7879662-3b9c-4c6b-9d8e-8c664f2c3adb')\"\n",
       "            title=\"Convert this dataframe to an interactive table.\"\n",
       "            style=\"display:none;\">\n",
       "\n",
       "  <svg xmlns=\"http://www.w3.org/2000/svg\" height=\"24px\" viewBox=\"0 -960 960 960\">\n",
       "    <path d=\"M120-120v-720h720v720H120Zm60-500h600v-160H180v160Zm220 220h160v-160H400v160Zm0 220h160v-160H400v160ZM180-400h160v-160H180v160Zm440 0h160v-160H620v160ZM180-180h160v-160H180v160Zm440 0h160v-160H620v160Z\"/>\n",
       "  </svg>\n",
       "    </button>\n",
       "\n",
       "  <style>\n",
       "    .colab-df-container {\n",
       "      display:flex;\n",
       "      gap: 12px;\n",
       "    }\n",
       "\n",
       "    .colab-df-convert {\n",
       "      background-color: #E8F0FE;\n",
       "      border: none;\n",
       "      border-radius: 50%;\n",
       "      cursor: pointer;\n",
       "      display: none;\n",
       "      fill: #1967D2;\n",
       "      height: 32px;\n",
       "      padding: 0 0 0 0;\n",
       "      width: 32px;\n",
       "    }\n",
       "\n",
       "    .colab-df-convert:hover {\n",
       "      background-color: #E2EBFA;\n",
       "      box-shadow: 0px 1px 2px rgba(60, 64, 67, 0.3), 0px 1px 3px 1px rgba(60, 64, 67, 0.15);\n",
       "      fill: #174EA6;\n",
       "    }\n",
       "\n",
       "    .colab-df-buttons div {\n",
       "      margin-bottom: 4px;\n",
       "    }\n",
       "\n",
       "    [theme=dark] .colab-df-convert {\n",
       "      background-color: #3B4455;\n",
       "      fill: #D2E3FC;\n",
       "    }\n",
       "\n",
       "    [theme=dark] .colab-df-convert:hover {\n",
       "      background-color: #434B5C;\n",
       "      box-shadow: 0px 1px 3px 1px rgba(0, 0, 0, 0.15);\n",
       "      filter: drop-shadow(0px 1px 2px rgba(0, 0, 0, 0.3));\n",
       "      fill: #FFFFFF;\n",
       "    }\n",
       "  </style>\n",
       "\n",
       "    <script>\n",
       "      const buttonEl =\n",
       "        document.querySelector('#df-d7879662-3b9c-4c6b-9d8e-8c664f2c3adb button.colab-df-convert');\n",
       "      buttonEl.style.display =\n",
       "        google.colab.kernel.accessAllowed ? 'block' : 'none';\n",
       "\n",
       "      async function convertToInteractive(key) {\n",
       "        const element = document.querySelector('#df-d7879662-3b9c-4c6b-9d8e-8c664f2c3adb');\n",
       "        const dataTable =\n",
       "          await google.colab.kernel.invokeFunction('convertToInteractive',\n",
       "                                                    [key], {});\n",
       "        if (!dataTable) return;\n",
       "\n",
       "        const docLinkHtml = 'Like what you see? Visit the ' +\n",
       "          '<a target=\"_blank\" href=https://colab.research.google.com/notebooks/data_table.ipynb>data table notebook</a>'\n",
       "          + ' to learn more about interactive tables.';\n",
       "        element.innerHTML = '';\n",
       "        dataTable['output_type'] = 'display_data';\n",
       "        await google.colab.output.renderOutput(dataTable, element);\n",
       "        const docLink = document.createElement('div');\n",
       "        docLink.innerHTML = docLinkHtml;\n",
       "        element.appendChild(docLink);\n",
       "      }\n",
       "    </script>\n",
       "  </div>\n",
       "\n",
       "\n",
       "<div id=\"df-7e090603-4569-4585-8b83-77d8f4a2d4c1\">\n",
       "  <button class=\"colab-df-quickchart\" onclick=\"quickchart('df-7e090603-4569-4585-8b83-77d8f4a2d4c1')\"\n",
       "            title=\"Suggest charts\"\n",
       "            style=\"display:none;\">\n",
       "\n",
       "<svg xmlns=\"http://www.w3.org/2000/svg\" height=\"24px\"viewBox=\"0 0 24 24\"\n",
       "     width=\"24px\">\n",
       "    <g>\n",
       "        <path d=\"M19 3H5c-1.1 0-2 .9-2 2v14c0 1.1.9 2 2 2h14c1.1 0 2-.9 2-2V5c0-1.1-.9-2-2-2zM9 17H7v-7h2v7zm4 0h-2V7h2v10zm4 0h-2v-4h2v4z\"/>\n",
       "    </g>\n",
       "</svg>\n",
       "  </button>\n",
       "\n",
       "<style>\n",
       "  .colab-df-quickchart {\n",
       "      --bg-color: #E8F0FE;\n",
       "      --fill-color: #1967D2;\n",
       "      --hover-bg-color: #E2EBFA;\n",
       "      --hover-fill-color: #174EA6;\n",
       "      --disabled-fill-color: #AAA;\n",
       "      --disabled-bg-color: #DDD;\n",
       "  }\n",
       "\n",
       "  [theme=dark] .colab-df-quickchart {\n",
       "      --bg-color: #3B4455;\n",
       "      --fill-color: #D2E3FC;\n",
       "      --hover-bg-color: #434B5C;\n",
       "      --hover-fill-color: #FFFFFF;\n",
       "      --disabled-bg-color: #3B4455;\n",
       "      --disabled-fill-color: #666;\n",
       "  }\n",
       "\n",
       "  .colab-df-quickchart {\n",
       "    background-color: var(--bg-color);\n",
       "    border: none;\n",
       "    border-radius: 50%;\n",
       "    cursor: pointer;\n",
       "    display: none;\n",
       "    fill: var(--fill-color);\n",
       "    height: 32px;\n",
       "    padding: 0;\n",
       "    width: 32px;\n",
       "  }\n",
       "\n",
       "  .colab-df-quickchart:hover {\n",
       "    background-color: var(--hover-bg-color);\n",
       "    box-shadow: 0 1px 2px rgba(60, 64, 67, 0.3), 0 1px 3px 1px rgba(60, 64, 67, 0.15);\n",
       "    fill: var(--button-hover-fill-color);\n",
       "  }\n",
       "\n",
       "  .colab-df-quickchart-complete:disabled,\n",
       "  .colab-df-quickchart-complete:disabled:hover {\n",
       "    background-color: var(--disabled-bg-color);\n",
       "    fill: var(--disabled-fill-color);\n",
       "    box-shadow: none;\n",
       "  }\n",
       "\n",
       "  .colab-df-spinner {\n",
       "    border: 2px solid var(--fill-color);\n",
       "    border-color: transparent;\n",
       "    border-bottom-color: var(--fill-color);\n",
       "    animation:\n",
       "      spin 1s steps(1) infinite;\n",
       "  }\n",
       "\n",
       "  @keyframes spin {\n",
       "    0% {\n",
       "      border-color: transparent;\n",
       "      border-bottom-color: var(--fill-color);\n",
       "      border-left-color: var(--fill-color);\n",
       "    }\n",
       "    20% {\n",
       "      border-color: transparent;\n",
       "      border-left-color: var(--fill-color);\n",
       "      border-top-color: var(--fill-color);\n",
       "    }\n",
       "    30% {\n",
       "      border-color: transparent;\n",
       "      border-left-color: var(--fill-color);\n",
       "      border-top-color: var(--fill-color);\n",
       "      border-right-color: var(--fill-color);\n",
       "    }\n",
       "    40% {\n",
       "      border-color: transparent;\n",
       "      border-right-color: var(--fill-color);\n",
       "      border-top-color: var(--fill-color);\n",
       "    }\n",
       "    60% {\n",
       "      border-color: transparent;\n",
       "      border-right-color: var(--fill-color);\n",
       "    }\n",
       "    80% {\n",
       "      border-color: transparent;\n",
       "      border-right-color: var(--fill-color);\n",
       "      border-bottom-color: var(--fill-color);\n",
       "    }\n",
       "    90% {\n",
       "      border-color: transparent;\n",
       "      border-bottom-color: var(--fill-color);\n",
       "    }\n",
       "  }\n",
       "</style>\n",
       "\n",
       "  <script>\n",
       "    async function quickchart(key) {\n",
       "      const quickchartButtonEl =\n",
       "        document.querySelector('#' + key + ' button');\n",
       "      quickchartButtonEl.disabled = true;  // To prevent multiple clicks.\n",
       "      quickchartButtonEl.classList.add('colab-df-spinner');\n",
       "      try {\n",
       "        const charts = await google.colab.kernel.invokeFunction(\n",
       "            'suggestCharts', [key], {});\n",
       "      } catch (error) {\n",
       "        console.error('Error during call to suggestCharts:', error);\n",
       "      }\n",
       "      quickchartButtonEl.classList.remove('colab-df-spinner');\n",
       "      quickchartButtonEl.classList.add('colab-df-quickchart-complete');\n",
       "    }\n",
       "    (() => {\n",
       "      let quickchartButtonEl =\n",
       "        document.querySelector('#df-7e090603-4569-4585-8b83-77d8f4a2d4c1 button');\n",
       "      quickchartButtonEl.style.display =\n",
       "        google.colab.kernel.accessAllowed ? 'block' : 'none';\n",
       "    })();\n",
       "  </script>\n",
       "</div>\n",
       "\n",
       "  <div id=\"id_bf7ccf81-c4e6-442a-a089-00c8f7b6e5de\">\n",
       "    <style>\n",
       "      .colab-df-generate {\n",
       "        background-color: #E8F0FE;\n",
       "        border: none;\n",
       "        border-radius: 50%;\n",
       "        cursor: pointer;\n",
       "        display: none;\n",
       "        fill: #1967D2;\n",
       "        height: 32px;\n",
       "        padding: 0 0 0 0;\n",
       "        width: 32px;\n",
       "      }\n",
       "\n",
       "      .colab-df-generate:hover {\n",
       "        background-color: #E2EBFA;\n",
       "        box-shadow: 0px 1px 2px rgba(60, 64, 67, 0.3), 0px 1px 3px 1px rgba(60, 64, 67, 0.15);\n",
       "        fill: #174EA6;\n",
       "      }\n",
       "\n",
       "      [theme=dark] .colab-df-generate {\n",
       "        background-color: #3B4455;\n",
       "        fill: #D2E3FC;\n",
       "      }\n",
       "\n",
       "      [theme=dark] .colab-df-generate:hover {\n",
       "        background-color: #434B5C;\n",
       "        box-shadow: 0px 1px 3px 1px rgba(0, 0, 0, 0.15);\n",
       "        filter: drop-shadow(0px 1px 2px rgba(0, 0, 0, 0.3));\n",
       "        fill: #FFFFFF;\n",
       "      }\n",
       "    </style>\n",
       "    <button class=\"colab-df-generate\" onclick=\"generateWithVariable('df')\"\n",
       "            title=\"Generate code using this dataframe.\"\n",
       "            style=\"display:none;\">\n",
       "\n",
       "  <svg xmlns=\"http://www.w3.org/2000/svg\" height=\"24px\"viewBox=\"0 0 24 24\"\n",
       "       width=\"24px\">\n",
       "    <path d=\"M7,19H8.4L18.45,9,17,7.55,7,17.6ZM5,21V16.75L18.45,3.32a2,2,0,0,1,2.83,0l1.4,1.43a1.91,1.91,0,0,1,.58,1.4,1.91,1.91,0,0,1-.58,1.4L9.25,21ZM18.45,9,17,7.55Zm-12,3A5.31,5.31,0,0,0,4.9,8.1,5.31,5.31,0,0,0,1,6.5,5.31,5.31,0,0,0,4.9,4.9,5.31,5.31,0,0,0,6.5,1,5.31,5.31,0,0,0,8.1,4.9,5.31,5.31,0,0,0,12,6.5,5.46,5.46,0,0,0,6.5,12Z\"/>\n",
       "  </svg>\n",
       "    </button>\n",
       "    <script>\n",
       "      (() => {\n",
       "      const buttonEl =\n",
       "        document.querySelector('#id_bf7ccf81-c4e6-442a-a089-00c8f7b6e5de button.colab-df-generate');\n",
       "      buttonEl.style.display =\n",
       "        google.colab.kernel.accessAllowed ? 'block' : 'none';\n",
       "\n",
       "      buttonEl.onclick = () => {\n",
       "        google.colab.notebook.generateWithVariable('df');\n",
       "      }\n",
       "      })();\n",
       "    </script>\n",
       "  </div>\n",
       "\n",
       "    </div>\n",
       "  </div>\n"
      ],
      "text/plain": [
       "       gauge_code       state                   city  \\\n",
       "0        12500000        ACRE        CRUZEIRO DO SUL   \n",
       "1        12510500        ACRE               TARAUACÁ   \n",
       "2        12557000        ACRE                 JORDÃO   \n",
       "3        12590000        ACRE               TARAUACÁ   \n",
       "4        12640000        ACRE                  FEIJÓ   \n",
       "...           ...         ...                    ...   \n",
       "18883  261500301A  PERNAMBUCO  TAQUARITINGA DO NORTE   \n",
       "18884  261520102A  PERNAMBUCO             TERRA NOVA   \n",
       "18885  261590401A  PERNAMBUCO             TUPARETAMA   \n",
       "18886  261610001A  PERNAMBUCO             VERDEJANTE   \n",
       "18887  261618301A  PERNAMBUCO      VERTENTE DO LÉRIO   \n",
       "\n",
       "                                    name_station       lat       long  \\\n",
       "0                                CRUZEIRO DO SUL -7.633300 -72.660300   \n",
       "1                         PONTE DO RIO LIBERDADE -7.799400 -72.021100   \n",
       "2                                         JORDÃO -9.188300 -71.952500   \n",
       "3                              PONTE DE TARAUACÁ -8.151900 -70.745600   \n",
       "4                          SERINGAL SANTA HELENA -8.685800 -70.551100   \n",
       "...                                          ...       ...        ...   \n",
       "18883        Taquaritinga do Norte [CAIC] - APAC -7.898380 -36.050430   \n",
       "18884  Terra Nova [Escola Francisco Hugo] - APAC -8.224680 -39.376600   \n",
       "18885                Tuparetama [Compesa] - APAC -7.602240 -37.309420   \n",
       "18886                          VERDEJANTE - APAC -7.930167 -38.968306   \n",
       "18887            Vertente do Lério [EREN] - APAC -7.773540 -35.843770   \n",
       "\n",
       "                                             responsible      source  \\\n",
       "0               00001 - ANA - Agência Nacional de Águas   TELEMETRIA   \n",
       "1               00001 - ANA - Agência Nacional de Águas   TELEMETRIA   \n",
       "2      00380 - SEMA-AC - Secretaria de Meio Ambiente ...  TELEMETRIA   \n",
       "3               00001 - ANA - Agência Nacional de Águas   TELEMETRIA   \n",
       "4               00001 - ANA - Agência Nacional de Águas   TELEMETRIA   \n",
       "...                                                  ...         ...   \n",
       "18883                                            CEMADEN     CEMADEN   \n",
       "18884                                            CEMADEN     CEMADEN   \n",
       "18885                                            CEMADEN     CEMADEN   \n",
       "18886                                            CEMADEN     CEMADEN   \n",
       "18887                                            CEMADEN     CEMADEN   \n",
       "\n",
       "      state_abbreviation  \n",
       "0                     AC  \n",
       "1                     AC  \n",
       "2                     AC  \n",
       "3                     AC  \n",
       "4                     AC  \n",
       "...                  ...  \n",
       "18883                 PE  \n",
       "18884                 PE  \n",
       "18885                 PE  \n",
       "18886                 PE  \n",
       "18887                 PE  \n",
       "\n",
       "[18888 rows x 9 columns]"
      ]
     },
     "execution_count": 15,
     "metadata": {},
     "output_type": "execute_result"
    }
   ],
   "source": [
    "df = pd.read_hdf('BRAZIL_DAILY_1961_2024.h5', key='table_info')\n",
    "df"
   ]
  },
  {
   "cell_type": "code",
   "execution_count": null,
   "id": "D2Mcjeo0fMs7",
   "metadata": {
    "colab": {
     "base_uri": "https://localhost:8080/",
     "height": 423
    },
    "executionInfo": {
     "elapsed": 39724,
     "status": "ok",
     "timestamp": 1740166623645,
     "user": {
      "displayName": "Lindemberg Vidal",
      "userId": "05299358828699421454"
     },
     "user_tz": 180
    },
    "id": "D2Mcjeo0fMs7",
    "outputId": "deba18fb-cf9e-4c21-9799-4373cf569297"
   },
   "outputs": [
    {
     "data": {
      "application/vnd.microsoft.datawrangler.viewer.v0+json": {
       "columns": [
        {
         "name": "index",
         "rawType": "int64",
         "type": "integer"
        },
        {
         "name": "gauge_code",
         "rawType": "object",
         "type": "string"
        },
        {
         "name": "datetime",
         "rawType": "datetime64[ns]",
         "type": "datetime"
        },
        {
         "name": "rain_mm",
         "rawType": "float64",
         "type": "float"
        }
       ],
       "conversionMethod": "pd.DataFrame",
       "ref": "eacc4fed-d5f3-4a7d-a13a-f3fe6b6aae91",
       "rows": [
        [
         "0",
         "00047000",
         "1961-01-01 00:00:00",
         "0.0"
        ],
        [
         "68389117",
         "02145007",
         "1961-01-01 00:00:00",
         "13.0"
        ],
        [
         "24192766",
         "00738029",
         "1961-01-01 00:00:00",
         "0.0"
        ],
        [
         "90398299",
         "02347134",
         "1961-01-01 00:00:00",
         "0.0"
        ],
        [
         "102114124",
         "02551004",
         "1961-01-01 00:00:00",
         "0.0"
        ],
        [
         "64241639",
         "02048030",
         "1961-01-01 00:00:00",
         "0.0"
        ],
        [
         "85470874",
         "02345032",
         "1961-01-01 00:00:00",
         "0.6"
        ],
        [
         "66940142",
         "02141023",
         "1961-01-01 00:00:00",
         "2.3"
        ],
        [
         "42791163",
         "01340024",
         "1961-01-01 00:00:00",
         "0.0"
        ],
        [
         "79110725",
         "02246013",
         "1961-01-01 00:00:00",
         "30.0"
        ],
        [
         "75460390",
         "02243144",
         "1961-01-01 00:00:00",
         "5.3"
        ],
        [
         "80962645",
         "02247113",
         "1961-01-01 00:00:00",
         "0.0"
        ],
        [
         "76622558",
         "02244037",
         "1961-01-01 00:00:00",
         "12.4"
        ],
        [
         "82291274",
         "02249030",
         "1961-01-01 00:00:00",
         "12.3"
        ],
        [
         "47196837",
         "01540004",
         "1961-01-01 00:00:00",
         "0.0"
        ],
        [
         "72886466",
         "02150079",
         "1961-01-01 00:00:00",
         "0.0"
        ],
        [
         "71186188",
         "02148110",
         "1961-01-01 00:00:00",
         "50.0"
        ],
        [
         "37671100",
         "01140015",
         "1961-01-01 00:00:00",
         "0.0"
        ],
        [
         "88315102",
         "02346174",
         "1961-01-01 00:00:00",
         "4.0"
        ],
        [
         "86692876",
         "02346007",
         "1961-01-01 00:00:00",
         "71.0"
        ],
        [
         "66933721",
         "02141022",
         "1961-01-01 00:00:00",
         "13.2"
        ],
        [
         "50129205",
         "01641003",
         "1961-01-01 00:00:00",
         "0.0"
        ],
        [
         "3499050",
         "00339016",
         "1961-01-01 00:00:00",
         "0.0"
        ],
        [
         "79979922",
         "02247004",
         "1961-01-01 00:00:00",
         "16.5"
        ],
        [
         "1671038",
         "00240005",
         "1961-01-01 00:00:00",
         "0.0"
        ],
        [
         "57013004",
         "01940003",
         "1961-01-01 00:00:00",
         "1.3"
        ],
        [
         "70219952",
         "02147120",
         "1961-01-01 00:00:00",
         "9.0"
        ],
        [
         "111003641",
         "02950029",
         "1961-01-01 00:00:00",
         "0.0"
        ],
        [
         "107285043",
         "02749006",
         "1961-01-01 00:00:00",
         "2.0"
        ],
        [
         "110892313",
         "02950013",
         "1961-01-01 00:00:00",
         "0.0"
        ],
        [
         "69397925",
         "02147014",
         "1961-01-01 00:00:00",
         "30.3"
        ],
        [
         "61950365",
         "02043031",
         "1961-01-01 00:00:00",
         "9.2"
        ],
        [
         "104773106",
         "02649011",
         "1961-01-01 00:00:00",
         "3.6"
        ],
        [
         "69135412",
         "02146052",
         "1961-01-01 00:00:00",
         "0.0"
        ],
        [
         "43385844",
         "01343019",
         "1961-01-01 00:00:00",
         "0.0"
        ],
        [
         "78208711",
         "02245061",
         "1961-01-01 00:00:00",
         "29.3"
        ],
        [
         "11461335",
         "00535009",
         "1961-01-01 00:00:00",
         "0.0"
        ],
        [
         "88664684",
         "02346287",
         "1961-01-01 00:00:00",
         "0.0"
        ],
        [
         "81341492",
         "02248014",
         "1961-01-01 00:00:00",
         "15.8"
        ],
        [
         "75524657",
         "02243162",
         "1961-01-01 00:00:00",
         "4.0"
        ],
        [
         "12349269",
         "00538001",
         "1961-01-01 00:00:00",
         "0.0"
        ],
        [
         "91582255",
         "02349023",
         "1961-01-01 00:00:00",
         "7.8"
        ],
        [
         "77260917",
         "02244108",
         "1961-01-01 00:00:00",
         "25.3"
        ],
        [
         "110072238",
         "02852019",
         "1961-01-01 00:00:00",
         "0.0"
        ],
        [
         "44845052",
         "01440003",
         "1961-01-01 00:00:00",
         "0.0"
        ],
        [
         "79685360",
         "02246082",
         "1961-01-01 00:00:00",
         "23.6"
        ],
        [
         "100291790",
         "02548059",
         "1961-01-01 00:00:00",
         "0.0"
        ],
        [
         "24489305",
         "00739000",
         "1961-01-01 00:00:00",
         "0.0"
        ],
        [
         "70525431",
         "02148017",
         "1961-01-01 00:00:00",
         "25.1"
        ],
        [
         "86331925",
         "02345154",
         "1961-01-01 00:00:00",
         "6.2"
        ]
       ],
       "shape": {
        "columns": 3,
        "rows": 123617525
       }
      },
      "text/html": [
       "<div>\n",
       "<style scoped>\n",
       "    .dataframe tbody tr th:only-of-type {\n",
       "        vertical-align: middle;\n",
       "    }\n",
       "\n",
       "    .dataframe tbody tr th {\n",
       "        vertical-align: top;\n",
       "    }\n",
       "\n",
       "    .dataframe thead th {\n",
       "        text-align: right;\n",
       "    }\n",
       "</style>\n",
       "<table border=\"1\" class=\"dataframe\">\n",
       "  <thead>\n",
       "    <tr style=\"text-align: right;\">\n",
       "      <th></th>\n",
       "      <th>gauge_code</th>\n",
       "      <th>datetime</th>\n",
       "      <th>rain_mm</th>\n",
       "    </tr>\n",
       "  </thead>\n",
       "  <tbody>\n",
       "    <tr>\n",
       "      <th>0</th>\n",
       "      <td>00047000</td>\n",
       "      <td>1961-01-01</td>\n",
       "      <td>0.0</td>\n",
       "    </tr>\n",
       "    <tr>\n",
       "      <th>68389117</th>\n",
       "      <td>02145007</td>\n",
       "      <td>1961-01-01</td>\n",
       "      <td>13.0</td>\n",
       "    </tr>\n",
       "    <tr>\n",
       "      <th>24192766</th>\n",
       "      <td>00738029</td>\n",
       "      <td>1961-01-01</td>\n",
       "      <td>0.0</td>\n",
       "    </tr>\n",
       "    <tr>\n",
       "      <th>90398299</th>\n",
       "      <td>02347134</td>\n",
       "      <td>1961-01-01</td>\n",
       "      <td>0.0</td>\n",
       "    </tr>\n",
       "    <tr>\n",
       "      <th>102114124</th>\n",
       "      <td>02551004</td>\n",
       "      <td>1961-01-01</td>\n",
       "      <td>0.0</td>\n",
       "    </tr>\n",
       "    <tr>\n",
       "      <th>...</th>\n",
       "      <td>...</td>\n",
       "      <td>...</td>\n",
       "      <td>...</td>\n",
       "    </tr>\n",
       "    <tr>\n",
       "      <th>915541</th>\n",
       "      <td>40974900</td>\n",
       "      <td>2024-12-31</td>\n",
       "      <td>50.4</td>\n",
       "    </tr>\n",
       "    <tr>\n",
       "      <th>915224</th>\n",
       "      <td>40963000</td>\n",
       "      <td>2024-12-31</td>\n",
       "      <td>16.0</td>\n",
       "    </tr>\n",
       "    <tr>\n",
       "      <th>2718677</th>\n",
       "      <td>83674000</td>\n",
       "      <td>2024-12-31</td>\n",
       "      <td>3.2</td>\n",
       "    </tr>\n",
       "    <tr>\n",
       "      <th>1369059</th>\n",
       "      <td>292740809G</td>\n",
       "      <td>2024-12-31</td>\n",
       "      <td>0.0</td>\n",
       "    </tr>\n",
       "    <tr>\n",
       "      <th>458530</th>\n",
       "      <td>21550100</td>\n",
       "      <td>2024-12-31</td>\n",
       "      <td>4.2</td>\n",
       "    </tr>\n",
       "  </tbody>\n",
       "</table>\n",
       "<p>123617525 rows × 3 columns</p>\n",
       "</div>"
      ],
      "text/plain": [
       "           gauge_code   datetime  rain_mm\n",
       "0            00047000 1961-01-01      0.0\n",
       "68389117     02145007 1961-01-01     13.0\n",
       "24192766     00738029 1961-01-01      0.0\n",
       "90398299     02347134 1961-01-01      0.0\n",
       "102114124    02551004 1961-01-01      0.0\n",
       "...               ...        ...      ...\n",
       "915541       40974900 2024-12-31     50.4\n",
       "915224       40963000 2024-12-31     16.0\n",
       "2718677      83674000 2024-12-31      3.2\n",
       "1369059    292740809G 2024-12-31      0.0\n",
       "458530       21550100 2024-12-31      4.2\n",
       "\n",
       "[123617525 rows x 3 columns]"
      ]
     },
     "execution_count": 6,
     "metadata": {},
     "output_type": "execute_result"
    }
   ],
   "source": [
    "# df = pd.read_hdf(r'BRAZIL_DAILY_1961_2024.h5', key='table_data').sort_values(by='datetime')\n",
    "# df"
   ]
  },
  {
   "cell_type": "markdown",
   "id": "15a89da5",
   "metadata": {},
   "source": [
    "# data check"
   ]
  },
  {
   "cell_type": "code",
   "execution_count": 7,
   "id": "e15aa240",
   "metadata": {},
   "outputs": [
    {
     "data": {
      "application/vnd.microsoft.datawrangler.viewer.v0+json": {
       "columns": [
        {
         "name": "index",
         "rawType": "int64",
         "type": "integer"
        },
        {
         "name": "gauge_code",
         "rawType": "object",
         "type": "string"
        },
        {
         "name": "datetime",
         "rawType": "datetime64[ns]",
         "type": "datetime"
        },
        {
         "name": "rain_mm",
         "rawType": "float64",
         "type": "float"
        }
       ],
       "conversionMethod": "pd.DataFrame",
       "ref": "117b4d4c-905f-48d9-9d18-c64e96791b77",
       "rows": [
        [
         "0",
         "00047000",
         "1961-01-01 00:00:00",
         "0.0"
        ],
        [
         "1",
         "00047000",
         "1961-01-02 00:00:00",
         "0.0"
        ],
        [
         "2",
         "00047000",
         "1961-01-03 00:00:00",
         "0.0"
        ],
        [
         "3",
         "00047000",
         "1961-01-04 00:00:00",
         "0.0"
        ],
        [
         "4",
         "00047000",
         "1961-01-05 00:00:00",
         "0.0"
        ],
        [
         "5",
         "00047000",
         "1961-01-06 00:00:00",
         "0.0"
        ],
        [
         "6",
         "00047000",
         "1961-01-07 00:00:00",
         "0.0"
        ],
        [
         "7",
         "00047000",
         "1961-01-08 00:00:00",
         "0.0"
        ],
        [
         "8",
         "00047000",
         "1961-01-09 00:00:00",
         "0.0"
        ],
        [
         "9",
         "00047000",
         "1961-01-10 00:00:00",
         "0.0"
        ],
        [
         "10",
         "00047000",
         "1961-01-11 00:00:00",
         "0.0"
        ],
        [
         "11",
         "00047000",
         "1961-01-12 00:00:00",
         "0.0"
        ],
        [
         "12",
         "00047000",
         "1961-01-13 00:00:00",
         "0.0"
        ],
        [
         "13",
         "00047000",
         "1961-01-14 00:00:00",
         "0.0"
        ],
        [
         "14",
         "00047000",
         "1961-01-15 00:00:00",
         "0.0"
        ],
        [
         "15",
         "00047000",
         "1961-01-16 00:00:00",
         "0.0"
        ],
        [
         "16",
         "00047000",
         "1961-01-17 00:00:00",
         "17.0"
        ],
        [
         "17",
         "00047000",
         "1961-01-18 00:00:00",
         "22.6"
        ],
        [
         "18",
         "00047000",
         "1961-01-19 00:00:00",
         "6.4"
        ],
        [
         "19",
         "00047000",
         "1961-01-20 00:00:00",
         "5.6"
        ],
        [
         "20",
         "00047000",
         "1961-01-21 00:00:00",
         "23.4"
        ],
        [
         "21",
         "00047000",
         "1961-01-22 00:00:00",
         "0.0"
        ],
        [
         "22",
         "00047000",
         "1961-01-23 00:00:00",
         "0.0"
        ],
        [
         "23",
         "00047000",
         "1961-01-24 00:00:00",
         "0.0"
        ],
        [
         "24",
         "00047000",
         "1961-01-25 00:00:00",
         "0.0"
        ],
        [
         "25",
         "00047000",
         "1961-01-26 00:00:00",
         "23.0"
        ],
        [
         "26",
         "00047000",
         "1961-01-27 00:00:00",
         "5.8"
        ],
        [
         "27",
         "00047000",
         "1961-01-28 00:00:00",
         "0.0"
        ],
        [
         "28",
         "00047000",
         "1961-01-29 00:00:00",
         "0.0"
        ],
        [
         "29",
         "00047000",
         "1961-01-30 00:00:00",
         "16.4"
        ],
        [
         "30",
         "00047000",
         "1961-01-31 00:00:00",
         "0.0"
        ],
        [
         "31",
         "00047000",
         "1961-02-01 00:00:00",
         "5.8"
        ],
        [
         "32",
         "00047000",
         "1961-02-02 00:00:00",
         "3.2"
        ],
        [
         "33",
         "00047000",
         "1961-02-03 00:00:00",
         "0.0"
        ],
        [
         "34",
         "00047000",
         "1961-02-04 00:00:00",
         "16.8"
        ],
        [
         "35",
         "00047000",
         "1961-02-05 00:00:00",
         "31.2"
        ],
        [
         "36",
         "00047000",
         "1961-02-06 00:00:00",
         "13.4"
        ],
        [
         "37",
         "00047000",
         "1961-02-07 00:00:00",
         "12.2"
        ],
        [
         "38",
         "00047000",
         "1961-02-08 00:00:00",
         "0.0"
        ],
        [
         "39",
         "00047000",
         "1961-02-09 00:00:00",
         "6.8"
        ],
        [
         "40",
         "00047000",
         "1961-02-10 00:00:00",
         "0.0"
        ],
        [
         "41",
         "00047000",
         "1961-02-11 00:00:00",
         "0.0"
        ],
        [
         "42",
         "00047000",
         "1961-02-12 00:00:00",
         "0.0"
        ],
        [
         "43",
         "00047000",
         "1961-02-13 00:00:00",
         "0.0"
        ],
        [
         "44",
         "00047000",
         "1961-02-14 00:00:00",
         "0.0"
        ],
        [
         "45",
         "00047000",
         "1961-02-15 00:00:00",
         "34.8"
        ],
        [
         "46",
         "00047000",
         "1961-02-16 00:00:00",
         "79.2"
        ],
        [
         "47",
         "00047000",
         "1961-02-17 00:00:00",
         "34.4"
        ],
        [
         "48",
         "00047000",
         "1961-02-18 00:00:00",
         "41.8"
        ],
        [
         "49",
         "00047000",
         "1961-02-19 00:00:00",
         "90.6"
        ]
       ],
       "shape": {
        "columns": 3,
        "rows": 123617525
       }
      },
      "text/html": [
       "<div>\n",
       "<style scoped>\n",
       "    .dataframe tbody tr th:only-of-type {\n",
       "        vertical-align: middle;\n",
       "    }\n",
       "\n",
       "    .dataframe tbody tr th {\n",
       "        vertical-align: top;\n",
       "    }\n",
       "\n",
       "    .dataframe thead th {\n",
       "        text-align: right;\n",
       "    }\n",
       "</style>\n",
       "<table border=\"1\" class=\"dataframe\">\n",
       "  <thead>\n",
       "    <tr style=\"text-align: right;\">\n",
       "      <th></th>\n",
       "      <th>gauge_code</th>\n",
       "      <th>datetime</th>\n",
       "      <th>rain_mm</th>\n",
       "    </tr>\n",
       "  </thead>\n",
       "  <tbody>\n",
       "    <tr>\n",
       "      <th>0</th>\n",
       "      <td>00047000</td>\n",
       "      <td>1961-01-01</td>\n",
       "      <td>0.0</td>\n",
       "    </tr>\n",
       "    <tr>\n",
       "      <th>1</th>\n",
       "      <td>00047000</td>\n",
       "      <td>1961-01-02</td>\n",
       "      <td>0.0</td>\n",
       "    </tr>\n",
       "    <tr>\n",
       "      <th>2</th>\n",
       "      <td>00047000</td>\n",
       "      <td>1961-01-03</td>\n",
       "      <td>0.0</td>\n",
       "    </tr>\n",
       "    <tr>\n",
       "      <th>3</th>\n",
       "      <td>00047000</td>\n",
       "      <td>1961-01-04</td>\n",
       "      <td>0.0</td>\n",
       "    </tr>\n",
       "    <tr>\n",
       "      <th>4</th>\n",
       "      <td>00047000</td>\n",
       "      <td>1961-01-05</td>\n",
       "      <td>0.0</td>\n",
       "    </tr>\n",
       "    <tr>\n",
       "      <th>...</th>\n",
       "      <td>...</td>\n",
       "      <td>...</td>\n",
       "      <td>...</td>\n",
       "    </tr>\n",
       "    <tr>\n",
       "      <th>1076753</th>\n",
       "      <td>S717</td>\n",
       "      <td>2021-12-27</td>\n",
       "      <td>0.0</td>\n",
       "    </tr>\n",
       "    <tr>\n",
       "      <th>1076754</th>\n",
       "      <td>S717</td>\n",
       "      <td>2021-12-28</td>\n",
       "      <td>0.0</td>\n",
       "    </tr>\n",
       "    <tr>\n",
       "      <th>1076755</th>\n",
       "      <td>S717</td>\n",
       "      <td>2021-12-29</td>\n",
       "      <td>0.0</td>\n",
       "    </tr>\n",
       "    <tr>\n",
       "      <th>1076756</th>\n",
       "      <td>S717</td>\n",
       "      <td>2021-12-30</td>\n",
       "      <td>0.0</td>\n",
       "    </tr>\n",
       "    <tr>\n",
       "      <th>1076757</th>\n",
       "      <td>S717</td>\n",
       "      <td>2021-12-31</td>\n",
       "      <td>0.0</td>\n",
       "    </tr>\n",
       "  </tbody>\n",
       "</table>\n",
       "<p>123617525 rows × 3 columns</p>\n",
       "</div>"
      ],
      "text/plain": [
       "        gauge_code   datetime  rain_mm\n",
       "0         00047000 1961-01-01      0.0\n",
       "1         00047000 1961-01-02      0.0\n",
       "2         00047000 1961-01-03      0.0\n",
       "3         00047000 1961-01-04      0.0\n",
       "4         00047000 1961-01-05      0.0\n",
       "...            ...        ...      ...\n",
       "1076753       S717 2021-12-27      0.0\n",
       "1076754       S717 2021-12-28      0.0\n",
       "1076755       S717 2021-12-29      0.0\n",
       "1076756       S717 2021-12-30      0.0\n",
       "1076757       S717 2021-12-31      0.0\n",
       "\n",
       "[123617525 rows x 3 columns]"
      ]
     },
     "execution_count": 7,
     "metadata": {},
     "output_type": "execute_result"
    }
   ],
   "source": [
    "df = pd.read_hdf(r\".\\1 - Organized data gauge\\BRAZIL\\BRAZIL_DAILY_1961_2024.h5\", key='table_data')\n",
    "df"
   ]
  },
  {
   "cell_type": "code",
   "execution_count": 9,
   "id": "dcf0020c",
   "metadata": {},
   "outputs": [
    {
     "name": "stderr",
     "output_type": "stream",
     "text": [
      "C:\\Users\\linde\\AppData\\Local\\Temp\\ipykernel_21396\\3563927511.py:2: SettingWithCopyWarning: \n",
      "A value is trying to be set on a copy of a slice from a DataFrame\n",
      "\n",
      "See the caveats in the documentation: https://pandas.pydata.org/pandas-docs/stable/user_guide/indexing.html#returning-a-view-versus-a-copy\n",
      "  df_test.sort_values(['rain_mm'], inplace=True)\n"
     ]
    },
    {
     "data": {
      "application/vnd.microsoft.datawrangler.viewer.v0+json": {
       "columns": [
        {
         "name": "index",
         "rawType": "int64",
         "type": "integer"
        },
        {
         "name": "gauge_code",
         "rawType": "object",
         "type": "string"
        },
        {
         "name": "datetime",
         "rawType": "datetime64[ns]",
         "type": "datetime"
        },
        {
         "name": "rain_mm",
         "rawType": "float64",
         "type": "float"
        }
       ],
       "conversionMethod": "pd.DataFrame",
       "ref": "3b36898e-5b69-4463-8dc2-22853d609b3b",
       "rows": [
        [
         "41643255",
         "01246009",
         "2013-02-08 00:00:00",
         "0.0"
        ],
        [
         "41398587",
         "01244019",
         "2013-02-08 00:00:00",
         "0.0"
        ],
        [
         "41406022",
         "01244020",
         "2013-02-08 00:00:00",
         "0.0"
        ],
        [
         "41412597",
         "01244021",
         "2013-02-08 00:00:00",
         "0.0"
        ],
        [
         "41423264",
         "01244023",
         "2013-02-08 00:00:00",
         "0.0"
        ],
        [
         "41459240",
         "01245004",
         "2013-02-08 00:00:00",
         "0.0"
        ],
        [
         "100632384",
         "02549017",
         "2013-02-08 00:00:00",
         "0.0"
        ],
        [
         "41499676",
         "01245007",
         "2013-02-08 00:00:00",
         "0.0"
        ],
        [
         "41327938",
         "01244011",
         "2013-02-08 00:00:00",
         "0.0"
        ],
        [
         "41525896",
         "01245014",
         "2013-02-08 00:00:00",
         "0.0"
        ],
        [
         "41546641",
         "01245016",
         "2013-02-08 00:00:00",
         "0.0"
        ],
        [
         "41553352",
         "01245017",
         "2013-02-08 00:00:00",
         "0.0"
        ],
        [
         "41558358",
         "01245019",
         "2013-02-08 00:00:00",
         "0.0"
        ],
        [
         "41560791",
         "01245020",
         "2013-02-08 00:00:00",
         "0.0"
        ],
        [
         "41562409",
         "01245023",
         "2013-02-08 00:00:00",
         "0.0"
        ],
        [
         "41565157",
         "01245026",
         "2013-02-08 00:00:00",
         "0.0"
        ],
        [
         "41567990",
         "01245027",
         "2013-02-08 00:00:00",
         "0.0"
        ],
        [
         "100652664",
         "02549018",
         "2013-02-08 00:00:00",
         "0.0"
        ],
        [
         "41185127",
         "01243028",
         "2013-02-08 00:00:00",
         "0.0"
        ],
        [
         "41179604",
         "01243020",
         "2013-02-08 00:00:00",
         "0.0"
        ],
        [
         "41174080",
         "01243019",
         "2013-02-08 00:00:00",
         "0.0"
        ],
        [
         "40745086",
         "01241034",
         "2013-02-08 00:00:00",
         "0.0"
        ],
        [
         "40750150",
         "01241035",
         "2013-02-08 00:00:00",
         "0.0"
        ],
        [
         "40755258",
         "01241036",
         "2013-02-08 00:00:00",
         "0.0"
        ],
        [
         "40760366",
         "01241037",
         "2013-02-08 00:00:00",
         "0.0"
        ],
        [
         "40765367",
         "01241038",
         "2013-02-08 00:00:00",
         "0.0"
        ],
        [
         "40770195",
         "01241039",
         "2013-02-08 00:00:00",
         "0.0"
        ],
        [
         "40775301",
         "01241040",
         "2013-02-08 00:00:00",
         "0.0"
        ],
        [
         "100050602",
         "02548036",
         "2013-02-08 00:00:00",
         "0.0"
        ],
        [
         "40785508",
         "01241042",
         "2013-02-08 00:00:00",
         "0.0"
        ],
        [
         "40790164",
         "01241043",
         "2013-02-08 00:00:00",
         "0.0"
        ],
        [
         "40959008",
         "01242015",
         "2013-02-08 00:00:00",
         "0.0"
        ],
        [
         "40976724",
         "01242016",
         "2013-02-08 00:00:00",
         "0.0"
        ],
        [
         "40983391",
         "01242019",
         "2013-02-08 00:00:00",
         "0.0"
        ],
        [
         "40990965",
         "01242020",
         "2013-02-08 00:00:00",
         "0.0"
        ],
        [
         "40995964",
         "01242021",
         "2013-02-08 00:00:00",
         "0.0"
        ],
        [
         "41014880",
         "01243000",
         "2013-02-08 00:00:00",
         "0.0"
        ],
        [
         "41126200",
         "01243011",
         "2013-02-08 00:00:00",
         "0.0"
        ],
        [
         "41572646",
         "01245028",
         "2013-02-08 00:00:00",
         "0.0"
        ],
        [
         "40737512",
         "01241033",
         "2013-02-08 00:00:00",
         "0.0"
        ],
        [
         "41576028",
         "01245029",
         "2013-02-08 00:00:00",
         "0.0"
        ],
        [
         "41594338",
         "01246000",
         "2013-02-08 00:00:00",
         "0.0"
        ],
        [
         "41948619",
         "01254003",
         "2013-02-08 00:00:00",
         "0.0"
        ],
        [
         "110364476",
         "02853015",
         "2013-02-08 00:00:00",
         "0.0"
        ],
        [
         "102079111",
         "02551000",
         "2013-02-08 00:00:00",
         "0.0"
        ],
        [
         "110342561",
         "02853014",
         "2013-02-08 00:00:00",
         "0.0"
        ],
        [
         "110306828",
         "02853010",
         "2013-02-08 00:00:00",
         "0.0"
        ],
        [
         "110258708",
         "02853003",
         "2013-02-08 00:00:00",
         "0.0"
        ],
        [
         "102099838",
         "02551001",
         "2013-02-08 00:00:00",
         "0.0"
        ],
        [
         "41935582",
         "01254001",
         "2013-02-08 00:00:00",
         "0.0"
        ]
       ],
       "shape": {
        "columns": 3,
        "rows": 4673
       }
      },
      "text/html": [
       "<div>\n",
       "<style scoped>\n",
       "    .dataframe tbody tr th:only-of-type {\n",
       "        vertical-align: middle;\n",
       "    }\n",
       "\n",
       "    .dataframe tbody tr th {\n",
       "        vertical-align: top;\n",
       "    }\n",
       "\n",
       "    .dataframe thead th {\n",
       "        text-align: right;\n",
       "    }\n",
       "</style>\n",
       "<table border=\"1\" class=\"dataframe\">\n",
       "  <thead>\n",
       "    <tr style=\"text-align: right;\">\n",
       "      <th></th>\n",
       "      <th>gauge_code</th>\n",
       "      <th>datetime</th>\n",
       "      <th>rain_mm</th>\n",
       "    </tr>\n",
       "  </thead>\n",
       "  <tbody>\n",
       "    <tr>\n",
       "      <th>41643255</th>\n",
       "      <td>01246009</td>\n",
       "      <td>2013-02-08</td>\n",
       "      <td>0.0</td>\n",
       "    </tr>\n",
       "    <tr>\n",
       "      <th>41398587</th>\n",
       "      <td>01244019</td>\n",
       "      <td>2013-02-08</td>\n",
       "      <td>0.0</td>\n",
       "    </tr>\n",
       "    <tr>\n",
       "      <th>41406022</th>\n",
       "      <td>01244020</td>\n",
       "      <td>2013-02-08</td>\n",
       "      <td>0.0</td>\n",
       "    </tr>\n",
       "    <tr>\n",
       "      <th>41412597</th>\n",
       "      <td>01244021</td>\n",
       "      <td>2013-02-08</td>\n",
       "      <td>0.0</td>\n",
       "    </tr>\n",
       "    <tr>\n",
       "      <th>41423264</th>\n",
       "      <td>01244023</td>\n",
       "      <td>2013-02-08</td>\n",
       "      <td>0.0</td>\n",
       "    </tr>\n",
       "    <tr>\n",
       "      <th>...</th>\n",
       "      <td>...</td>\n",
       "      <td>...</td>\n",
       "      <td>...</td>\n",
       "    </tr>\n",
       "    <tr>\n",
       "      <th>91489372</th>\n",
       "      <td>02349016</td>\n",
       "      <td>2013-02-08</td>\n",
       "      <td>120.0</td>\n",
       "    </tr>\n",
       "    <tr>\n",
       "      <th>54387568</th>\n",
       "      <td>01756002</td>\n",
       "      <td>2013-02-08</td>\n",
       "      <td>128.0</td>\n",
       "    </tr>\n",
       "    <tr>\n",
       "      <th>98301114</th>\n",
       "      <td>02452011</td>\n",
       "      <td>2013-02-08</td>\n",
       "      <td>143.7</td>\n",
       "    </tr>\n",
       "    <tr>\n",
       "      <th>66486240</th>\n",
       "      <td>02055001</td>\n",
       "      <td>2013-02-08</td>\n",
       "      <td>145.0</td>\n",
       "    </tr>\n",
       "    <tr>\n",
       "      <th>21128501</th>\n",
       "      <td>00651001</td>\n",
       "      <td>2013-02-08</td>\n",
       "      <td>536.0</td>\n",
       "    </tr>\n",
       "  </tbody>\n",
       "</table>\n",
       "<p>4673 rows × 3 columns</p>\n",
       "</div>"
      ],
      "text/plain": [
       "         gauge_code   datetime  rain_mm\n",
       "41643255   01246009 2013-02-08      0.0\n",
       "41398587   01244019 2013-02-08      0.0\n",
       "41406022   01244020 2013-02-08      0.0\n",
       "41412597   01244021 2013-02-08      0.0\n",
       "41423264   01244023 2013-02-08      0.0\n",
       "...             ...        ...      ...\n",
       "91489372   02349016 2013-02-08    120.0\n",
       "54387568   01756002 2013-02-08    128.0\n",
       "98301114   02452011 2013-02-08    143.7\n",
       "66486240   02055001 2013-02-08    145.0\n",
       "21128501   00651001 2013-02-08    536.0\n",
       "\n",
       "[4673 rows x 3 columns]"
      ]
     },
     "execution_count": 9,
     "metadata": {},
     "output_type": "execute_result"
    }
   ],
   "source": [
    "df_test = df[df['datetime'] == \"2013-02-08\"]\n",
    "df_test.sort_values(['rain_mm'], inplace=True)\n",
    "df_test"
   ]
  },
  {
   "cell_type": "code",
   "execution_count": 11,
   "id": "9a710d81",
   "metadata": {},
   "outputs": [
    {
     "data": {
      "application/vnd.microsoft.datawrangler.viewer.v0+json": {
       "columns": [
        {
         "name": "index",
         "rawType": "int64",
         "type": "integer"
        },
        {
         "name": "gauge_code",
         "rawType": "object",
         "type": "string"
        },
        {
         "name": "datetime",
         "rawType": "datetime64[ns]",
         "type": "datetime"
        },
        {
         "name": "rain_mm",
         "rawType": "float64",
         "type": "float"
        }
       ],
       "conversionMethod": "pd.DataFrame",
       "ref": "7a08ad2f-5801-4db6-9dc0-1b01a5a43dec",
       "rows": [
        [
         "21128500",
         "00651001",
         "2013-02-07 00:00:00",
         "4.6"
        ],
        [
         "21128501",
         "00651001",
         "2013-02-08 00:00:00",
         "536.0"
        ],
        [
         "21128502",
         "00651001",
         "2013-02-09 00:00:00",
         "2.6"
        ],
        [
         "21128503",
         "00651001",
         "2013-02-10 00:00:00",
         "0.0"
        ],
        [
         "21128504",
         "00651001",
         "2013-02-11 00:00:00",
         "1.3"
        ],
        [
         "21128505",
         "00651001",
         "2013-02-12 00:00:00",
         "0.0"
        ],
        [
         "21128506",
         "00651001",
         "2013-02-13 00:00:00",
         "0.0"
        ],
        [
         "21128507",
         "00651001",
         "2013-02-14 00:00:00",
         "5.6"
        ],
        [
         "21128508",
         "00651001",
         "2013-02-15 00:00:00",
         "7.9"
        ],
        [
         "21128509",
         "00651001",
         "2013-02-16 00:00:00",
         "0.0"
        ],
        [
         "21128510",
         "00651001",
         "2013-02-17 00:00:00",
         "1.6"
        ],
        [
         "21128511",
         "00651001",
         "2013-02-18 00:00:00",
         "4.1"
        ],
        [
         "21128512",
         "00651001",
         "2013-02-19 00:00:00",
         "2.5"
        ],
        [
         "21128513",
         "00651001",
         "2013-02-20 00:00:00",
         "9.9"
        ],
        [
         "21128514",
         "00651001",
         "2013-02-21 00:00:00",
         "0.0"
        ],
        [
         "21128515",
         "00651001",
         "2013-02-22 00:00:00",
         "1.8"
        ],
        [
         "21128516",
         "00651001",
         "2013-02-23 00:00:00",
         "0.0"
        ],
        [
         "21128517",
         "00651001",
         "2013-02-24 00:00:00",
         "0.0"
        ],
        [
         "21128518",
         "00651001",
         "2013-02-25 00:00:00",
         "0.0"
        ],
        [
         "21128519",
         "00651001",
         "2013-02-26 00:00:00",
         "3.3"
        ],
        [
         "21128520",
         "00651001",
         "2013-02-27 00:00:00",
         "0.0"
        ],
        [
         "21128521",
         "00651001",
         "2013-02-28 00:00:00",
         "0.0"
        ],
        [
         "21128522",
         "00651001",
         "2013-03-01 00:00:00",
         "0.0"
        ],
        [
         "21128523",
         "00651001",
         "2013-03-02 00:00:00",
         "0.0"
        ],
        [
         "21128524",
         "00651001",
         "2013-03-03 00:00:00",
         "0.0"
        ],
        [
         "21128525",
         "00651001",
         "2013-03-04 00:00:00",
         "0.0"
        ],
        [
         "21128526",
         "00651001",
         "2013-03-05 00:00:00",
         "0.0"
        ],
        [
         "21128527",
         "00651001",
         "2013-03-06 00:00:00",
         "0.0"
        ],
        [
         "21128528",
         "00651001",
         "2013-03-07 00:00:00",
         "34.5"
        ],
        [
         "21128529",
         "00651001",
         "2013-03-08 00:00:00",
         "9.2"
        ],
        [
         "21128530",
         "00651001",
         "2013-03-09 00:00:00",
         "7.6"
        ],
        [
         "21128531",
         "00651001",
         "2013-03-10 00:00:00",
         "0.0"
        ],
        [
         "21128532",
         "00651001",
         "2013-03-11 00:00:00",
         "0.0"
        ],
        [
         "21128533",
         "00651001",
         "2013-03-12 00:00:00",
         "0.0"
        ],
        [
         "21128534",
         "00651001",
         "2013-03-13 00:00:00",
         "0.0"
        ],
        [
         "21128535",
         "00651001",
         "2013-03-14 00:00:00",
         "8.4"
        ],
        [
         "21128536",
         "00651001",
         "2013-03-15 00:00:00",
         "0.0"
        ],
        [
         "21128537",
         "00651001",
         "2013-03-16 00:00:00",
         "0.0"
        ],
        [
         "21128538",
         "00651001",
         "2013-03-17 00:00:00",
         "2.6"
        ],
        [
         "21128539",
         "00651001",
         "2013-03-18 00:00:00",
         "0.0"
        ],
        [
         "21128540",
         "00651001",
         "2013-03-19 00:00:00",
         "5.6"
        ],
        [
         "21128541",
         "00651001",
         "2013-03-20 00:00:00",
         "8.2"
        ],
        [
         "21128542",
         "00651001",
         "2013-03-21 00:00:00",
         "2.6"
        ],
        [
         "21128543",
         "00651001",
         "2013-03-22 00:00:00",
         "0.0"
        ],
        [
         "21128544",
         "00651001",
         "2013-03-23 00:00:00",
         "0.0"
        ],
        [
         "21128545",
         "00651001",
         "2013-03-24 00:00:00",
         "8.4"
        ],
        [
         "21128546",
         "00651001",
         "2013-03-25 00:00:00",
         "0.0"
        ],
        [
         "21128547",
         "00651001",
         "2013-03-26 00:00:00",
         "0.0"
        ],
        [
         "21128548",
         "00651001",
         "2013-03-27 00:00:00",
         "0.0"
        ],
        [
         "21128549",
         "00651001",
         "2013-03-28 00:00:00",
         "0.0"
        ]
       ],
       "shape": {
        "columns": 3,
        "rows": 2885
       }
      },
      "text/html": [
       "<div>\n",
       "<style scoped>\n",
       "    .dataframe tbody tr th:only-of-type {\n",
       "        vertical-align: middle;\n",
       "    }\n",
       "\n",
       "    .dataframe tbody tr th {\n",
       "        vertical-align: top;\n",
       "    }\n",
       "\n",
       "    .dataframe thead th {\n",
       "        text-align: right;\n",
       "    }\n",
       "</style>\n",
       "<table border=\"1\" class=\"dataframe\">\n",
       "  <thead>\n",
       "    <tr style=\"text-align: right;\">\n",
       "      <th></th>\n",
       "      <th>gauge_code</th>\n",
       "      <th>datetime</th>\n",
       "      <th>rain_mm</th>\n",
       "    </tr>\n",
       "  </thead>\n",
       "  <tbody>\n",
       "    <tr>\n",
       "      <th>21128500</th>\n",
       "      <td>00651001</td>\n",
       "      <td>2013-02-07</td>\n",
       "      <td>4.6</td>\n",
       "    </tr>\n",
       "    <tr>\n",
       "      <th>21128501</th>\n",
       "      <td>00651001</td>\n",
       "      <td>2013-02-08</td>\n",
       "      <td>536.0</td>\n",
       "    </tr>\n",
       "    <tr>\n",
       "      <th>21128502</th>\n",
       "      <td>00651001</td>\n",
       "      <td>2013-02-09</td>\n",
       "      <td>2.6</td>\n",
       "    </tr>\n",
       "    <tr>\n",
       "      <th>21128503</th>\n",
       "      <td>00651001</td>\n",
       "      <td>2013-02-10</td>\n",
       "      <td>0.0</td>\n",
       "    </tr>\n",
       "    <tr>\n",
       "      <th>21128504</th>\n",
       "      <td>00651001</td>\n",
       "      <td>2013-02-11</td>\n",
       "      <td>1.3</td>\n",
       "    </tr>\n",
       "    <tr>\n",
       "      <th>...</th>\n",
       "      <td>...</td>\n",
       "      <td>...</td>\n",
       "      <td>...</td>\n",
       "    </tr>\n",
       "    <tr>\n",
       "      <th>21131380</th>\n",
       "      <td>00651001</td>\n",
       "      <td>2020-12-27</td>\n",
       "      <td>0.0</td>\n",
       "    </tr>\n",
       "    <tr>\n",
       "      <th>21131381</th>\n",
       "      <td>00651001</td>\n",
       "      <td>2020-12-28</td>\n",
       "      <td>2.9</td>\n",
       "    </tr>\n",
       "    <tr>\n",
       "      <th>21131382</th>\n",
       "      <td>00651001</td>\n",
       "      <td>2020-12-29</td>\n",
       "      <td>0.0</td>\n",
       "    </tr>\n",
       "    <tr>\n",
       "      <th>21131383</th>\n",
       "      <td>00651001</td>\n",
       "      <td>2020-12-30</td>\n",
       "      <td>20.2</td>\n",
       "    </tr>\n",
       "    <tr>\n",
       "      <th>21131384</th>\n",
       "      <td>00651001</td>\n",
       "      <td>2020-12-31</td>\n",
       "      <td>0.0</td>\n",
       "    </tr>\n",
       "  </tbody>\n",
       "</table>\n",
       "<p>2885 rows × 3 columns</p>\n",
       "</div>"
      ],
      "text/plain": [
       "         gauge_code   datetime  rain_mm\n",
       "21128500   00651001 2013-02-07      4.6\n",
       "21128501   00651001 2013-02-08    536.0\n",
       "21128502   00651001 2013-02-09      2.6\n",
       "21128503   00651001 2013-02-10      0.0\n",
       "21128504   00651001 2013-02-11      1.3\n",
       "...             ...        ...      ...\n",
       "21131380   00651001 2020-12-27      0.0\n",
       "21131381   00651001 2020-12-28      2.9\n",
       "21131382   00651001 2020-12-29      0.0\n",
       "21131383   00651001 2020-12-30     20.2\n",
       "21131384   00651001 2020-12-31      0.0\n",
       "\n",
       "[2885 rows x 3 columns]"
      ]
     },
     "execution_count": 11,
     "metadata": {},
     "output_type": "execute_result"
    }
   ],
   "source": [
    "df_station = df[\n",
    "    (df['gauge_code'] == '00651001')\n",
    "    & (df['datetime'] >= '2013-02-07')] #00651001 00655004\n",
    "df_station"
   ]
  },
  {
   "cell_type": "code",
   "execution_count": 21,
   "id": "039ab519",
   "metadata": {},
   "outputs": [
    {
     "name": "stderr",
     "output_type": "stream",
     "text": [
      "C:\\Users\\linde\\AppData\\Local\\Temp\\ipykernel_25720\\862369651.py:1: SettingWithCopyWarning: \n",
      "A value is trying to be set on a copy of a slice from a DataFrame.\n",
      "Try using .loc[row_indexer,col_indexer] = value instead\n",
      "\n",
      "See the caveats in the documentation: https://pandas.pydata.org/pandas-docs/stable/user_guide/indexing.html#returning-a-view-versus-a-copy\n",
      "  df_station['year'] = df_station['datetime'].dt.year\n"
     ]
    },
    {
     "data": {
      "application/vnd.microsoft.datawrangler.viewer.v0+json": {
       "columns": [
        {
         "name": "index",
         "rawType": "int64",
         "type": "integer"
        },
        {
         "name": "gauge_code",
         "rawType": "object",
         "type": "string"
        },
        {
         "name": "datetime",
         "rawType": "datetime64[ns]",
         "type": "datetime"
        },
        {
         "name": "rain_mm",
         "rawType": "float64",
         "type": "float"
        },
        {
         "name": "year",
         "rawType": "int32",
         "type": "integer"
        }
       ],
       "conversionMethod": "pd.DataFrame",
       "ref": "7cbbda6a-5da3-4ad9-a587-1c0dfb4b9453",
       "rows": [
        [
         "21196682",
         "00655004",
         "1999-08-03 00:00:00",
         "0.0",
         "1999"
        ],
        [
         "21196683",
         "00655004",
         "1999-08-04 00:00:00",
         "0.0",
         "1999"
        ],
        [
         "21196684",
         "00655004",
         "1999-08-05 00:00:00",
         "0.0",
         "1999"
        ],
        [
         "21196685",
         "00655004",
         "1999-08-06 00:00:00",
         "0.0",
         "1999"
        ],
        [
         "21196686",
         "00655004",
         "1999-08-07 00:00:00",
         "0.0",
         "1999"
        ],
        [
         "21196687",
         "00655004",
         "1999-08-08 00:00:00",
         "0.0",
         "1999"
        ],
        [
         "21196688",
         "00655004",
         "1999-08-09 00:00:00",
         "0.0",
         "1999"
        ],
        [
         "21196689",
         "00655004",
         "1999-08-10 00:00:00",
         "0.0",
         "1999"
        ],
        [
         "21196690",
         "00655004",
         "1999-08-11 00:00:00",
         "0.0",
         "1999"
        ],
        [
         "21196691",
         "00655004",
         "1999-08-12 00:00:00",
         "11.6",
         "1999"
        ],
        [
         "21196692",
         "00655004",
         "1999-08-13 00:00:00",
         "7.8",
         "1999"
        ],
        [
         "21196693",
         "00655004",
         "1999-08-14 00:00:00",
         "0.0",
         "1999"
        ],
        [
         "21196694",
         "00655004",
         "1999-08-15 00:00:00",
         "1.6",
         "1999"
        ],
        [
         "21196695",
         "00655004",
         "1999-08-16 00:00:00",
         "0.0",
         "1999"
        ],
        [
         "21196696",
         "00655004",
         "1999-08-17 00:00:00",
         "0.0",
         "1999"
        ],
        [
         "21196697",
         "00655004",
         "1999-08-18 00:00:00",
         "0.0",
         "1999"
        ],
        [
         "21196698",
         "00655004",
         "1999-08-19 00:00:00",
         "0.0",
         "1999"
        ],
        [
         "21196699",
         "00655004",
         "1999-08-20 00:00:00",
         "0.0",
         "1999"
        ],
        [
         "21196700",
         "00655004",
         "1999-08-21 00:00:00",
         "0.0",
         "1999"
        ],
        [
         "21196701",
         "00655004",
         "1999-08-22 00:00:00",
         "0.0",
         "1999"
        ],
        [
         "21196702",
         "00655004",
         "1999-08-23 00:00:00",
         "0.0",
         "1999"
        ],
        [
         "21196703",
         "00655004",
         "1999-08-24 00:00:00",
         "0.0",
         "1999"
        ],
        [
         "21196704",
         "00655004",
         "1999-08-25 00:00:00",
         "0.0",
         "1999"
        ],
        [
         "21196705",
         "00655004",
         "1999-08-26 00:00:00",
         "0.0",
         "1999"
        ],
        [
         "21196706",
         "00655004",
         "1999-08-27 00:00:00",
         "0.0",
         "1999"
        ],
        [
         "21196707",
         "00655004",
         "1999-08-28 00:00:00",
         "1.6",
         "1999"
        ],
        [
         "21196708",
         "00655004",
         "1999-08-29 00:00:00",
         "0.0",
         "1999"
        ],
        [
         "21196709",
         "00655004",
         "1999-08-30 00:00:00",
         "0.0",
         "1999"
        ],
        [
         "21196710",
         "00655004",
         "1999-08-31 00:00:00",
         "0.0",
         "1999"
        ],
        [
         "21196711",
         "00655004",
         "1999-09-01 00:00:00",
         "0.0",
         "1999"
        ],
        [
         "21196712",
         "00655004",
         "1999-09-02 00:00:00",
         "0.0",
         "1999"
        ],
        [
         "21196713",
         "00655004",
         "1999-09-03 00:00:00",
         "0.0",
         "1999"
        ],
        [
         "21196714",
         "00655004",
         "1999-09-04 00:00:00",
         "0.0",
         "1999"
        ],
        [
         "21196715",
         "00655004",
         "1999-09-05 00:00:00",
         "0.0",
         "1999"
        ],
        [
         "21196716",
         "00655004",
         "1999-09-06 00:00:00",
         "0.0",
         "1999"
        ],
        [
         "21196717",
         "00655004",
         "1999-09-07 00:00:00",
         "0.0",
         "1999"
        ],
        [
         "21196718",
         "00655004",
         "1999-09-08 00:00:00",
         "0.0",
         "1999"
        ],
        [
         "21196719",
         "00655004",
         "1999-09-09 00:00:00",
         "0.0",
         "1999"
        ],
        [
         "21196720",
         "00655004",
         "1999-09-10 00:00:00",
         "0.0",
         "1999"
        ],
        [
         "21196721",
         "00655004",
         "1999-09-11 00:00:00",
         "19.1",
         "1999"
        ],
        [
         "21196722",
         "00655004",
         "1999-09-12 00:00:00",
         "7.4",
         "1999"
        ],
        [
         "21196723",
         "00655004",
         "1999-09-13 00:00:00",
         "0.0",
         "1999"
        ],
        [
         "21196724",
         "00655004",
         "1999-09-14 00:00:00",
         "0.0",
         "1999"
        ],
        [
         "21196725",
         "00655004",
         "1999-09-15 00:00:00",
         "0.0",
         "1999"
        ],
        [
         "21196726",
         "00655004",
         "1999-09-16 00:00:00",
         "0.0",
         "1999"
        ],
        [
         "21196727",
         "00655004",
         "1999-09-17 00:00:00",
         "0.0",
         "1999"
        ],
        [
         "21196728",
         "00655004",
         "1999-09-18 00:00:00",
         "0.0",
         "1999"
        ],
        [
         "21196729",
         "00655004",
         "1999-09-19 00:00:00",
         "0.0",
         "1999"
        ],
        [
         "21196730",
         "00655004",
         "1999-09-20 00:00:00",
         "0.0",
         "1999"
        ],
        [
         "21196731",
         "00655004",
         "1999-09-21 00:00:00",
         "0.0",
         "1999"
        ]
       ],
       "shape": {
        "columns": 4,
        "rows": 7822
       }
      },
      "text/html": [
       "<div>\n",
       "<style scoped>\n",
       "    .dataframe tbody tr th:only-of-type {\n",
       "        vertical-align: middle;\n",
       "    }\n",
       "\n",
       "    .dataframe tbody tr th {\n",
       "        vertical-align: top;\n",
       "    }\n",
       "\n",
       "    .dataframe thead th {\n",
       "        text-align: right;\n",
       "    }\n",
       "</style>\n",
       "<table border=\"1\" class=\"dataframe\">\n",
       "  <thead>\n",
       "    <tr style=\"text-align: right;\">\n",
       "      <th></th>\n",
       "      <th>gauge_code</th>\n",
       "      <th>datetime</th>\n",
       "      <th>rain_mm</th>\n",
       "      <th>year</th>\n",
       "    </tr>\n",
       "  </thead>\n",
       "  <tbody>\n",
       "    <tr>\n",
       "      <th>21196682</th>\n",
       "      <td>00655004</td>\n",
       "      <td>1999-08-03</td>\n",
       "      <td>0.0</td>\n",
       "      <td>1999</td>\n",
       "    </tr>\n",
       "    <tr>\n",
       "      <th>21196683</th>\n",
       "      <td>00655004</td>\n",
       "      <td>1999-08-04</td>\n",
       "      <td>0.0</td>\n",
       "      <td>1999</td>\n",
       "    </tr>\n",
       "    <tr>\n",
       "      <th>21196684</th>\n",
       "      <td>00655004</td>\n",
       "      <td>1999-08-05</td>\n",
       "      <td>0.0</td>\n",
       "      <td>1999</td>\n",
       "    </tr>\n",
       "    <tr>\n",
       "      <th>21196685</th>\n",
       "      <td>00655004</td>\n",
       "      <td>1999-08-06</td>\n",
       "      <td>0.0</td>\n",
       "      <td>1999</td>\n",
       "    </tr>\n",
       "    <tr>\n",
       "      <th>21196686</th>\n",
       "      <td>00655004</td>\n",
       "      <td>1999-08-07</td>\n",
       "      <td>0.0</td>\n",
       "      <td>1999</td>\n",
       "    </tr>\n",
       "    <tr>\n",
       "      <th>...</th>\n",
       "      <td>...</td>\n",
       "      <td>...</td>\n",
       "      <td>...</td>\n",
       "      <td>...</td>\n",
       "    </tr>\n",
       "    <tr>\n",
       "      <th>21204499</th>\n",
       "      <td>00655004</td>\n",
       "      <td>2020-12-27</td>\n",
       "      <td>0.0</td>\n",
       "      <td>2020</td>\n",
       "    </tr>\n",
       "    <tr>\n",
       "      <th>21204500</th>\n",
       "      <td>00655004</td>\n",
       "      <td>2020-12-28</td>\n",
       "      <td>5.6</td>\n",
       "      <td>2020</td>\n",
       "    </tr>\n",
       "    <tr>\n",
       "      <th>21204501</th>\n",
       "      <td>00655004</td>\n",
       "      <td>2020-12-29</td>\n",
       "      <td>33.4</td>\n",
       "      <td>2020</td>\n",
       "    </tr>\n",
       "    <tr>\n",
       "      <th>21204502</th>\n",
       "      <td>00655004</td>\n",
       "      <td>2020-12-30</td>\n",
       "      <td>6.2</td>\n",
       "      <td>2020</td>\n",
       "    </tr>\n",
       "    <tr>\n",
       "      <th>21204503</th>\n",
       "      <td>00655004</td>\n",
       "      <td>2020-12-31</td>\n",
       "      <td>9.7</td>\n",
       "      <td>2020</td>\n",
       "    </tr>\n",
       "  </tbody>\n",
       "</table>\n",
       "<p>7822 rows × 4 columns</p>\n",
       "</div>"
      ],
      "text/plain": [
       "         gauge_code   datetime  rain_mm  year\n",
       "21196682   00655004 1999-08-03      0.0  1999\n",
       "21196683   00655004 1999-08-04      0.0  1999\n",
       "21196684   00655004 1999-08-05      0.0  1999\n",
       "21196685   00655004 1999-08-06      0.0  1999\n",
       "21196686   00655004 1999-08-07      0.0  1999\n",
       "...             ...        ...      ...   ...\n",
       "21204499   00655004 2020-12-27      0.0  2020\n",
       "21204500   00655004 2020-12-28      5.6  2020\n",
       "21204501   00655004 2020-12-29     33.4  2020\n",
       "21204502   00655004 2020-12-30      6.2  2020\n",
       "21204503   00655004 2020-12-31      9.7  2020\n",
       "\n",
       "[7822 rows x 4 columns]"
      ]
     },
     "execution_count": 21,
     "metadata": {},
     "output_type": "execute_result"
    }
   ],
   "source": [
    "df_station['year'] = df_station['datetime'].dt.year\n",
    "df_station"
   ]
  },
  {
   "cell_type": "code",
   "execution_count": 22,
   "id": "380a32f3",
   "metadata": {},
   "outputs": [
    {
     "data": {
      "application/vnd.microsoft.datawrangler.viewer.v0+json": {
       "columns": [
        {
         "name": "index",
         "rawType": "int64",
         "type": "integer"
        },
        {
         "name": "gauge_code",
         "rawType": "object",
         "type": "string"
        },
        {
         "name": "year",
         "rawType": "int32",
         "type": "integer"
        },
        {
         "name": "rain_mm",
         "rawType": "float64",
         "type": "float"
        }
       ],
       "conversionMethod": "pd.DataFrame",
       "ref": "0fe01058-c2c7-4b3c-9ed5-48d2865e4a31",
       "rows": [
        [
         "0",
         "00655004",
         "1999",
         "777.1"
        ],
        [
         "1",
         "00655004",
         "2000",
         "2215.9"
        ],
        [
         "2",
         "00655004",
         "2001",
         "2487.2"
        ],
        [
         "3",
         "00655004",
         "2002",
         "2023.3"
        ],
        [
         "4",
         "00655004",
         "2003",
         "1489.5"
        ],
        [
         "5",
         "00655004",
         "2004",
         "1945.1000000000001"
        ],
        [
         "6",
         "00655004",
         "2005",
         "1014.7"
        ],
        [
         "7",
         "00655004",
         "2006",
         "925.0"
        ],
        [
         "8",
         "00655004",
         "2007",
         "2525.7"
        ],
        [
         "9",
         "00655004",
         "2008",
         "2133.2"
        ],
        [
         "10",
         "00655004",
         "2009",
         "2074.4"
        ],
        [
         "11",
         "00655004",
         "2010",
         "1391.83"
        ],
        [
         "12",
         "00655004",
         "2011",
         "1737.3"
        ],
        [
         "13",
         "00655004",
         "2012",
         "2329.7"
        ],
        [
         "14",
         "00655004",
         "2013",
         "1508.18"
        ],
        [
         "15",
         "00655004",
         "2014",
         "2590.7"
        ],
        [
         "16",
         "00655004",
         "2015",
         "1730.4"
        ],
        [
         "17",
         "00655004",
         "2016",
         "1256.4"
        ],
        [
         "18",
         "00655004",
         "2017",
         "2078.5"
        ],
        [
         "19",
         "00655004",
         "2018",
         "3451.6"
        ],
        [
         "20",
         "00655004",
         "2019",
         "2655.6"
        ],
        [
         "21",
         "00655004",
         "2020",
         "2858.0"
        ]
       ],
       "shape": {
        "columns": 3,
        "rows": 22
       }
      },
      "text/html": [
       "<div>\n",
       "<style scoped>\n",
       "    .dataframe tbody tr th:only-of-type {\n",
       "        vertical-align: middle;\n",
       "    }\n",
       "\n",
       "    .dataframe tbody tr th {\n",
       "        vertical-align: top;\n",
       "    }\n",
       "\n",
       "    .dataframe thead th {\n",
       "        text-align: right;\n",
       "    }\n",
       "</style>\n",
       "<table border=\"1\" class=\"dataframe\">\n",
       "  <thead>\n",
       "    <tr style=\"text-align: right;\">\n",
       "      <th></th>\n",
       "      <th>gauge_code</th>\n",
       "      <th>year</th>\n",
       "      <th>rain_mm</th>\n",
       "    </tr>\n",
       "  </thead>\n",
       "  <tbody>\n",
       "    <tr>\n",
       "      <th>0</th>\n",
       "      <td>00655004</td>\n",
       "      <td>1999</td>\n",
       "      <td>777.10</td>\n",
       "    </tr>\n",
       "    <tr>\n",
       "      <th>1</th>\n",
       "      <td>00655004</td>\n",
       "      <td>2000</td>\n",
       "      <td>2215.90</td>\n",
       "    </tr>\n",
       "    <tr>\n",
       "      <th>2</th>\n",
       "      <td>00655004</td>\n",
       "      <td>2001</td>\n",
       "      <td>2487.20</td>\n",
       "    </tr>\n",
       "    <tr>\n",
       "      <th>3</th>\n",
       "      <td>00655004</td>\n",
       "      <td>2002</td>\n",
       "      <td>2023.30</td>\n",
       "    </tr>\n",
       "    <tr>\n",
       "      <th>4</th>\n",
       "      <td>00655004</td>\n",
       "      <td>2003</td>\n",
       "      <td>1489.50</td>\n",
       "    </tr>\n",
       "    <tr>\n",
       "      <th>5</th>\n",
       "      <td>00655004</td>\n",
       "      <td>2004</td>\n",
       "      <td>1945.10</td>\n",
       "    </tr>\n",
       "    <tr>\n",
       "      <th>6</th>\n",
       "      <td>00655004</td>\n",
       "      <td>2005</td>\n",
       "      <td>1014.70</td>\n",
       "    </tr>\n",
       "    <tr>\n",
       "      <th>7</th>\n",
       "      <td>00655004</td>\n",
       "      <td>2006</td>\n",
       "      <td>925.00</td>\n",
       "    </tr>\n",
       "    <tr>\n",
       "      <th>8</th>\n",
       "      <td>00655004</td>\n",
       "      <td>2007</td>\n",
       "      <td>2525.70</td>\n",
       "    </tr>\n",
       "    <tr>\n",
       "      <th>9</th>\n",
       "      <td>00655004</td>\n",
       "      <td>2008</td>\n",
       "      <td>2133.20</td>\n",
       "    </tr>\n",
       "    <tr>\n",
       "      <th>10</th>\n",
       "      <td>00655004</td>\n",
       "      <td>2009</td>\n",
       "      <td>2074.40</td>\n",
       "    </tr>\n",
       "    <tr>\n",
       "      <th>11</th>\n",
       "      <td>00655004</td>\n",
       "      <td>2010</td>\n",
       "      <td>1391.83</td>\n",
       "    </tr>\n",
       "    <tr>\n",
       "      <th>12</th>\n",
       "      <td>00655004</td>\n",
       "      <td>2011</td>\n",
       "      <td>1737.30</td>\n",
       "    </tr>\n",
       "    <tr>\n",
       "      <th>13</th>\n",
       "      <td>00655004</td>\n",
       "      <td>2012</td>\n",
       "      <td>2329.70</td>\n",
       "    </tr>\n",
       "    <tr>\n",
       "      <th>14</th>\n",
       "      <td>00655004</td>\n",
       "      <td>2013</td>\n",
       "      <td>1508.18</td>\n",
       "    </tr>\n",
       "    <tr>\n",
       "      <th>15</th>\n",
       "      <td>00655004</td>\n",
       "      <td>2014</td>\n",
       "      <td>2590.70</td>\n",
       "    </tr>\n",
       "    <tr>\n",
       "      <th>16</th>\n",
       "      <td>00655004</td>\n",
       "      <td>2015</td>\n",
       "      <td>1730.40</td>\n",
       "    </tr>\n",
       "    <tr>\n",
       "      <th>17</th>\n",
       "      <td>00655004</td>\n",
       "      <td>2016</td>\n",
       "      <td>1256.40</td>\n",
       "    </tr>\n",
       "    <tr>\n",
       "      <th>18</th>\n",
       "      <td>00655004</td>\n",
       "      <td>2017</td>\n",
       "      <td>2078.50</td>\n",
       "    </tr>\n",
       "    <tr>\n",
       "      <th>19</th>\n",
       "      <td>00655004</td>\n",
       "      <td>2018</td>\n",
       "      <td>3451.60</td>\n",
       "    </tr>\n",
       "    <tr>\n",
       "      <th>20</th>\n",
       "      <td>00655004</td>\n",
       "      <td>2019</td>\n",
       "      <td>2655.60</td>\n",
       "    </tr>\n",
       "    <tr>\n",
       "      <th>21</th>\n",
       "      <td>00655004</td>\n",
       "      <td>2020</td>\n",
       "      <td>2858.00</td>\n",
       "    </tr>\n",
       "  </tbody>\n",
       "</table>\n",
       "</div>"
      ],
      "text/plain": [
       "   gauge_code  year  rain_mm\n",
       "0    00655004  1999   777.10\n",
       "1    00655004  2000  2215.90\n",
       "2    00655004  2001  2487.20\n",
       "3    00655004  2002  2023.30\n",
       "4    00655004  2003  1489.50\n",
       "5    00655004  2004  1945.10\n",
       "6    00655004  2005  1014.70\n",
       "7    00655004  2006   925.00\n",
       "8    00655004  2007  2525.70\n",
       "9    00655004  2008  2133.20\n",
       "10   00655004  2009  2074.40\n",
       "11   00655004  2010  1391.83\n",
       "12   00655004  2011  1737.30\n",
       "13   00655004  2012  2329.70\n",
       "14   00655004  2013  1508.18\n",
       "15   00655004  2014  2590.70\n",
       "16   00655004  2015  1730.40\n",
       "17   00655004  2016  1256.40\n",
       "18   00655004  2017  2078.50\n",
       "19   00655004  2018  3451.60\n",
       "20   00655004  2019  2655.60\n",
       "21   00655004  2020  2858.00"
      ]
     },
     "execution_count": 22,
     "metadata": {},
     "output_type": "execute_result"
    }
   ],
   "source": [
    "df_grouped = df_station.groupby(['gauge_code', 'year'])['rain_mm'].sum().reset_index()\n",
    "df_grouped"
   ]
  },
  {
   "cell_type": "code",
   "execution_count": 23,
   "id": "26ff990f",
   "metadata": {},
   "outputs": [
    {
     "data": {
      "text/plain": [
       "<Axes: xlabel='datetime'>"
      ]
     },
     "execution_count": 23,
     "metadata": {},
     "output_type": "execute_result"
    },
    {
     "data": {
      "image/png": "[encoded data removed]",
      "text/plain": [
       "<Figure size 640x480 with 1 Axes>"
      ]
     },
     "metadata": {},
     "output_type": "display_data"
    }
   ],
   "source": [
    "df_station[['datetime', 'rain_mm']].plot(x='datetime', y='rain_mm')\n"
   ]
  }
 ],
 "metadata": {
  "accelerator": "TPU",
  "colab": {
   "gpuType": "V28",
   "machine_shape": "hm",
   "provenance": []
  },
  "kernelspec": {
   "display_name": "base",
   "language": "python",
   "name": "python3"
  },
  "language_info": {
   "codemirror_mode": {
    "name": "ipython",
    "version": 3
   },
   "file_extension": ".py",
   "mimetype": "text/x-python",
   "name": "python",
   "nbconvert_exporter": "python",
   "pygments_lexer": "ipython3",
   "version": "3.11.10"
  }
 },
 "nbformat": 4,
 "nbformat_minor": 5
}
