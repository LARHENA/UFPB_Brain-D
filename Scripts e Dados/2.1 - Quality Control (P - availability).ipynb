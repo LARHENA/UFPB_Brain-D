{
 "cells": [
  {
   "cell_type": "code",
   "execution_count": 1,
   "metadata": {},
   "outputs": [],
   "source": [
    "import pandas as pd\n",
    "import numpy as np\n",
    "import h5py"
   ]
  },
  {
   "cell_type": "markdown",
   "metadata": {},
   "source": [
    "# Data processing"
   ]
  },
  {
   "cell_type": "code",
   "execution_count": 2,
   "metadata": {},
   "outputs": [
    {
     "name": "stdout",
     "output_type": "stream",
     "text": [
      "['table_data', 'table_data_filtered', 'table_info', 'table_p_availability', 'table_preclassif', 'table_q1_gaps', 'table_q2_week', 'table_q3_outliers', 'table_qc_info']\n"
     ]
    }
   ],
   "source": [
    "cleaned_path = './1 - Organized data gauge/BRAZIL/DATASETS/BRAZIL_DAILY_1961_2024_CLEANED.h5'\n",
    "with h5py.File(cleaned_path, 'r') as hdf:\n",
    "    keys = list(hdf.keys())\n",
    "    print(keys)"
   ]
  },
  {
   "cell_type": "code",
   "execution_count": 3,
   "metadata": {},
   "outputs": [
    {
     "ename": "MemoryError",
     "evalue": "Unable to allocate 1.84 GiB for an array with shape (123609866,) and data type complex128",
     "output_type": "error",
     "traceback": [
      "\u001b[1;31m---------------------------------------------------------------------------\u001b[0m",
      "\u001b[1;31mMemoryError\u001b[0m                               Traceback (most recent call last)",
      "Cell \u001b[1;32mIn[3], line 1\u001b[0m\n\u001b[1;32m----> 1\u001b[0m df_data \u001b[38;5;241m=\u001b[39m pd\u001b[38;5;241m.\u001b[39mread_hdf(cleaned_path, key \u001b[38;5;241m=\u001b[39m \u001b[38;5;124m'\u001b[39m\u001b[38;5;124mtable_data_filtered\u001b[39m\u001b[38;5;124m'\u001b[39m, encoding \u001b[38;5;241m=\u001b[39m \u001b[38;5;124m'\u001b[39m\u001b[38;5;124mutf-8\u001b[39m\u001b[38;5;124m'\u001b[39m)\n\u001b[0;32m      2\u001b[0m df_data\u001b[38;5;241m.\u001b[39mhead()\n",
      "File \u001b[1;32m~\\AppData\\Roaming\\Python\\Python311\\site-packages\\pandas\\io\\pytables.py:452\u001b[0m, in \u001b[0;36mread_hdf\u001b[1;34m(path_or_buf, key, mode, errors, where, start, stop, columns, iterator, chunksize, **kwargs)\u001b[0m\n\u001b[0;32m    447\u001b[0m                 \u001b[38;5;28;01mraise\u001b[39;00m \u001b[38;5;167;01mValueError\u001b[39;00m(\n\u001b[0;32m    448\u001b[0m                     \u001b[38;5;124m\"\u001b[39m\u001b[38;5;124mkey must be provided when HDF5 \u001b[39m\u001b[38;5;124m\"\u001b[39m\n\u001b[0;32m    449\u001b[0m                     \u001b[38;5;124m\"\u001b[39m\u001b[38;5;124mfile contains multiple datasets.\u001b[39m\u001b[38;5;124m\"\u001b[39m\n\u001b[0;32m    450\u001b[0m                 )\n\u001b[0;32m    451\u001b[0m         key \u001b[38;5;241m=\u001b[39m candidate_only_group\u001b[38;5;241m.\u001b[39m_v_pathname\n\u001b[1;32m--> 452\u001b[0m     \u001b[38;5;28;01mreturn\u001b[39;00m store\u001b[38;5;241m.\u001b[39mselect(\n\u001b[0;32m    453\u001b[0m         key,\n\u001b[0;32m    454\u001b[0m         where\u001b[38;5;241m=\u001b[39mwhere,\n\u001b[0;32m    455\u001b[0m         start\u001b[38;5;241m=\u001b[39mstart,\n\u001b[0;32m    456\u001b[0m         stop\u001b[38;5;241m=\u001b[39mstop,\n\u001b[0;32m    457\u001b[0m         columns\u001b[38;5;241m=\u001b[39mcolumns,\n\u001b[0;32m    458\u001b[0m         iterator\u001b[38;5;241m=\u001b[39miterator,\n\u001b[0;32m    459\u001b[0m         chunksize\u001b[38;5;241m=\u001b[39mchunksize,\n\u001b[0;32m    460\u001b[0m         auto_close\u001b[38;5;241m=\u001b[39mauto_close,\n\u001b[0;32m    461\u001b[0m     )\n\u001b[0;32m    462\u001b[0m \u001b[38;5;28;01mexcept\u001b[39;00m (\u001b[38;5;167;01mValueError\u001b[39;00m, \u001b[38;5;167;01mTypeError\u001b[39;00m, \u001b[38;5;167;01mLookupError\u001b[39;00m):\n\u001b[0;32m    463\u001b[0m     \u001b[38;5;28;01mif\u001b[39;00m \u001b[38;5;129;01mnot\u001b[39;00m \u001b[38;5;28misinstance\u001b[39m(path_or_buf, HDFStore):\n\u001b[0;32m    464\u001b[0m         \u001b[38;5;66;03m# if there is an error, close the store if we opened it.\u001b[39;00m\n",
      "File \u001b[1;32m~\\AppData\\Roaming\\Python\\Python311\\site-packages\\pandas\\io\\pytables.py:906\u001b[0m, in \u001b[0;36mHDFStore.select\u001b[1;34m(self, key, where, start, stop, columns, iterator, chunksize, auto_close)\u001b[0m\n\u001b[0;32m    892\u001b[0m \u001b[38;5;66;03m# create the iterator\u001b[39;00m\n\u001b[0;32m    893\u001b[0m it \u001b[38;5;241m=\u001b[39m TableIterator(\n\u001b[0;32m    894\u001b[0m     \u001b[38;5;28mself\u001b[39m,\n\u001b[0;32m    895\u001b[0m     s,\n\u001b[1;32m   (...)\u001b[0m\n\u001b[0;32m    903\u001b[0m     auto_close\u001b[38;5;241m=\u001b[39mauto_close,\n\u001b[0;32m    904\u001b[0m )\n\u001b[1;32m--> 906\u001b[0m \u001b[38;5;28;01mreturn\u001b[39;00m it\u001b[38;5;241m.\u001b[39mget_result()\n",
      "File \u001b[1;32m~\\AppData\\Roaming\\Python\\Python311\\site-packages\\pandas\\io\\pytables.py:2029\u001b[0m, in \u001b[0;36mTableIterator.get_result\u001b[1;34m(self, coordinates)\u001b[0m\n\u001b[0;32m   2026\u001b[0m     where \u001b[38;5;241m=\u001b[39m \u001b[38;5;28mself\u001b[39m\u001b[38;5;241m.\u001b[39mwhere\n\u001b[0;32m   2028\u001b[0m \u001b[38;5;66;03m# directly return the result\u001b[39;00m\n\u001b[1;32m-> 2029\u001b[0m results \u001b[38;5;241m=\u001b[39m \u001b[38;5;28mself\u001b[39m\u001b[38;5;241m.\u001b[39mfunc(\u001b[38;5;28mself\u001b[39m\u001b[38;5;241m.\u001b[39mstart, \u001b[38;5;28mself\u001b[39m\u001b[38;5;241m.\u001b[39mstop, where)\n\u001b[0;32m   2030\u001b[0m \u001b[38;5;28mself\u001b[39m\u001b[38;5;241m.\u001b[39mclose()\n\u001b[0;32m   2031\u001b[0m \u001b[38;5;28;01mreturn\u001b[39;00m results\n",
      "File \u001b[1;32m~\\AppData\\Roaming\\Python\\Python311\\site-packages\\pandas\\io\\pytables.py:890\u001b[0m, in \u001b[0;36mHDFStore.select.<locals>.func\u001b[1;34m(_start, _stop, _where)\u001b[0m\n\u001b[0;32m    889\u001b[0m \u001b[38;5;28;01mdef\u001b[39;00m \u001b[38;5;21mfunc\u001b[39m(_start, _stop, _where):\n\u001b[1;32m--> 890\u001b[0m     \u001b[38;5;28;01mreturn\u001b[39;00m s\u001b[38;5;241m.\u001b[39mread(start\u001b[38;5;241m=\u001b[39m_start, stop\u001b[38;5;241m=\u001b[39m_stop, where\u001b[38;5;241m=\u001b[39m_where, columns\u001b[38;5;241m=\u001b[39mcolumns)\n",
      "File \u001b[1;32m~\\AppData\\Roaming\\Python\\Python311\\site-packages\\pandas\\io\\pytables.py:4631\u001b[0m, in \u001b[0;36mAppendableFrameTable.read\u001b[1;34m(self, where, columns, start, stop)\u001b[0m\n\u001b[0;32m   4628\u001b[0m \u001b[38;5;28;01mif\u001b[39;00m \u001b[38;5;129;01mnot\u001b[39;00m \u001b[38;5;28mself\u001b[39m\u001b[38;5;241m.\u001b[39minfer_axes():\n\u001b[0;32m   4629\u001b[0m     \u001b[38;5;28;01mreturn\u001b[39;00m \u001b[38;5;28;01mNone\u001b[39;00m\n\u001b[1;32m-> 4631\u001b[0m result \u001b[38;5;241m=\u001b[39m \u001b[38;5;28mself\u001b[39m\u001b[38;5;241m.\u001b[39m_read_axes(where\u001b[38;5;241m=\u001b[39mwhere, start\u001b[38;5;241m=\u001b[39mstart, stop\u001b[38;5;241m=\u001b[39mstop)\n\u001b[0;32m   4633\u001b[0m info \u001b[38;5;241m=\u001b[39m (\n\u001b[0;32m   4634\u001b[0m     \u001b[38;5;28mself\u001b[39m\u001b[38;5;241m.\u001b[39minfo\u001b[38;5;241m.\u001b[39mget(\u001b[38;5;28mself\u001b[39m\u001b[38;5;241m.\u001b[39mnon_index_axes[\u001b[38;5;241m0\u001b[39m][\u001b[38;5;241m0\u001b[39m], {})\n\u001b[0;32m   4635\u001b[0m     \u001b[38;5;28;01mif\u001b[39;00m \u001b[38;5;28mlen\u001b[39m(\u001b[38;5;28mself\u001b[39m\u001b[38;5;241m.\u001b[39mnon_index_axes)\n\u001b[0;32m   4636\u001b[0m     \u001b[38;5;28;01melse\u001b[39;00m {}\n\u001b[0;32m   4637\u001b[0m )\n\u001b[0;32m   4639\u001b[0m inds \u001b[38;5;241m=\u001b[39m [i \u001b[38;5;28;01mfor\u001b[39;00m i, ax \u001b[38;5;129;01min\u001b[39;00m \u001b[38;5;28menumerate\u001b[39m(\u001b[38;5;28mself\u001b[39m\u001b[38;5;241m.\u001b[39maxes) \u001b[38;5;28;01mif\u001b[39;00m ax \u001b[38;5;129;01mis\u001b[39;00m \u001b[38;5;28mself\u001b[39m\u001b[38;5;241m.\u001b[39mindex_axes[\u001b[38;5;241m0\u001b[39m]]\n",
      "File \u001b[1;32m~\\AppData\\Roaming\\Python\\Python311\\site-packages\\pandas\\io\\pytables.py:3824\u001b[0m, in \u001b[0;36mTable._read_axes\u001b[1;34m(self, where, start, stop)\u001b[0m\n\u001b[0;32m   3822\u001b[0m \u001b[38;5;28;01mfor\u001b[39;00m a \u001b[38;5;129;01min\u001b[39;00m \u001b[38;5;28mself\u001b[39m\u001b[38;5;241m.\u001b[39maxes:\n\u001b[0;32m   3823\u001b[0m     a\u001b[38;5;241m.\u001b[39mset_info(\u001b[38;5;28mself\u001b[39m\u001b[38;5;241m.\u001b[39minfo)\n\u001b[1;32m-> 3824\u001b[0m     res \u001b[38;5;241m=\u001b[39m a\u001b[38;5;241m.\u001b[39mconvert(\n\u001b[0;32m   3825\u001b[0m         values,\n\u001b[0;32m   3826\u001b[0m         nan_rep\u001b[38;5;241m=\u001b[39m\u001b[38;5;28mself\u001b[39m\u001b[38;5;241m.\u001b[39mnan_rep,\n\u001b[0;32m   3827\u001b[0m         encoding\u001b[38;5;241m=\u001b[39m\u001b[38;5;28mself\u001b[39m\u001b[38;5;241m.\u001b[39mencoding,\n\u001b[0;32m   3828\u001b[0m         errors\u001b[38;5;241m=\u001b[39m\u001b[38;5;28mself\u001b[39m\u001b[38;5;241m.\u001b[39merrors,\n\u001b[0;32m   3829\u001b[0m     )\n\u001b[0;32m   3830\u001b[0m     results\u001b[38;5;241m.\u001b[39mappend(res)\n\u001b[0;32m   3832\u001b[0m \u001b[38;5;28;01mreturn\u001b[39;00m results\n",
      "File \u001b[1;32m~\\AppData\\Roaming\\Python\\Python311\\site-packages\\pandas\\io\\pytables.py:2629\u001b[0m, in \u001b[0;36mDataCol.convert\u001b[1;34m(self, values, nan_rep, encoding, errors)\u001b[0m\n\u001b[0;32m   2627\u001b[0m \u001b[38;5;66;03m# convert nans / decode\u001b[39;00m\n\u001b[0;32m   2628\u001b[0m \u001b[38;5;28;01mif\u001b[39;00m _ensure_decoded(kind) \u001b[38;5;241m==\u001b[39m \u001b[38;5;124m\"\u001b[39m\u001b[38;5;124mstring\u001b[39m\u001b[38;5;124m\"\u001b[39m:\n\u001b[1;32m-> 2629\u001b[0m     converted \u001b[38;5;241m=\u001b[39m _unconvert_string_array(\n\u001b[0;32m   2630\u001b[0m         converted, nan_rep\u001b[38;5;241m=\u001b[39mnan_rep, encoding\u001b[38;5;241m=\u001b[39mencoding, errors\u001b[38;5;241m=\u001b[39merrors\n\u001b[0;32m   2631\u001b[0m     )\n\u001b[0;32m   2633\u001b[0m \u001b[38;5;28;01mreturn\u001b[39;00m \u001b[38;5;28mself\u001b[39m\u001b[38;5;241m.\u001b[39mvalues, converted\n",
      "File \u001b[1;32m~\\AppData\\Roaming\\Python\\Python311\\site-packages\\pandas\\io\\pytables.py:5186\u001b[0m, in \u001b[0;36m_unconvert_string_array\u001b[1;34m(data, nan_rep, encoding, errors)\u001b[0m\n\u001b[0;32m   5183\u001b[0m dtype \u001b[38;5;241m=\u001b[39m \u001b[38;5;124mf\u001b[39m\u001b[38;5;124m\"\u001b[39m\u001b[38;5;124mU\u001b[39m\u001b[38;5;132;01m{\u001b[39;00mitemsize\u001b[38;5;132;01m}\u001b[39;00m\u001b[38;5;124m\"\u001b[39m\n\u001b[0;32m   5185\u001b[0m \u001b[38;5;28;01mif\u001b[39;00m \u001b[38;5;28misinstance\u001b[39m(data[\u001b[38;5;241m0\u001b[39m], \u001b[38;5;28mbytes\u001b[39m):\n\u001b[1;32m-> 5186\u001b[0m     data \u001b[38;5;241m=\u001b[39m Series(data, copy\u001b[38;5;241m=\u001b[39m\u001b[38;5;28;01mFalse\u001b[39;00m)\u001b[38;5;241m.\u001b[39mstr\u001b[38;5;241m.\u001b[39mdecode(encoding, errors\u001b[38;5;241m=\u001b[39merrors)\u001b[38;5;241m.\u001b[39m_values\n\u001b[0;32m   5187\u001b[0m \u001b[38;5;28;01melse\u001b[39;00m:\n\u001b[0;32m   5188\u001b[0m     data \u001b[38;5;241m=\u001b[39m data\u001b[38;5;241m.\u001b[39mastype(dtype, copy\u001b[38;5;241m=\u001b[39m\u001b[38;5;28;01mFalse\u001b[39;00m)\u001b[38;5;241m.\u001b[39mastype(\u001b[38;5;28mobject\u001b[39m, copy\u001b[38;5;241m=\u001b[39m\u001b[38;5;28;01mFalse\u001b[39;00m)\n",
      "File \u001b[1;32m~\\AppData\\Roaming\\Python\\Python311\\site-packages\\pandas\\core\\strings\\accessor.py:2008\u001b[0m, in \u001b[0;36mStringMethods.decode\u001b[1;34m(self, encoding, errors)\u001b[0m\n\u001b[0;32m   2006\u001b[0m arr \u001b[38;5;241m=\u001b[39m \u001b[38;5;28mself\u001b[39m\u001b[38;5;241m.\u001b[39m_data\u001b[38;5;241m.\u001b[39marray\n\u001b[0;32m   2007\u001b[0m \u001b[38;5;66;03m# assert isinstance(arr, (StringArray,))\u001b[39;00m\n\u001b[1;32m-> 2008\u001b[0m result \u001b[38;5;241m=\u001b[39m arr\u001b[38;5;241m.\u001b[39m_str_map(f)\n\u001b[0;32m   2009\u001b[0m \u001b[38;5;28;01mreturn\u001b[39;00m \u001b[38;5;28mself\u001b[39m\u001b[38;5;241m.\u001b[39m_wrap_result(result)\n",
      "File \u001b[1;32m~\\AppData\\Roaming\\Python\\Python311\\site-packages\\pandas\\core\\strings\\object_array.py:78\u001b[0m, in \u001b[0;36mObjectStringArrayMixin._str_map\u001b[1;34m(self, f, na_value, dtype, convert)\u001b[0m\n\u001b[0;32m     76\u001b[0m map_convert \u001b[38;5;241m=\u001b[39m convert \u001b[38;5;129;01mand\u001b[39;00m \u001b[38;5;129;01mnot\u001b[39;00m np\u001b[38;5;241m.\u001b[39mall(mask)\n\u001b[0;32m     77\u001b[0m \u001b[38;5;28;01mtry\u001b[39;00m:\n\u001b[1;32m---> 78\u001b[0m     result \u001b[38;5;241m=\u001b[39m lib\u001b[38;5;241m.\u001b[39mmap_infer_mask(arr, f, mask\u001b[38;5;241m.\u001b[39mview(np\u001b[38;5;241m.\u001b[39muint8), map_convert)\n\u001b[0;32m     79\u001b[0m \u001b[38;5;28;01mexcept\u001b[39;00m (\u001b[38;5;167;01mTypeError\u001b[39;00m, \u001b[38;5;167;01mAttributeError\u001b[39;00m) \u001b[38;5;28;01mas\u001b[39;00m err:\n\u001b[0;32m     80\u001b[0m     \u001b[38;5;66;03m# Reraise the exception if callable `f` got wrong number of args.\u001b[39;00m\n\u001b[0;32m     81\u001b[0m     \u001b[38;5;66;03m# The user may want to be warned by this, instead of getting NaN\u001b[39;00m\n\u001b[0;32m     82\u001b[0m     p_err \u001b[38;5;241m=\u001b[39m (\n\u001b[0;32m     83\u001b[0m         \u001b[38;5;124mr\u001b[39m\u001b[38;5;124m\"\u001b[39m\u001b[38;5;124m((takes)|(missing)) (?(2)from \u001b[39m\u001b[38;5;124m\\\u001b[39m\u001b[38;5;124md+ to )?\u001b[39m\u001b[38;5;124m\\\u001b[39m\u001b[38;5;124md+ \u001b[39m\u001b[38;5;124m\"\u001b[39m\n\u001b[0;32m     84\u001b[0m         \u001b[38;5;124mr\u001b[39m\u001b[38;5;124m\"\u001b[39m\u001b[38;5;124m(?(3)required )positional arguments?\u001b[39m\u001b[38;5;124m\"\u001b[39m\n\u001b[0;32m     85\u001b[0m     )\n",
      "File \u001b[1;32mlib.pyx:2903\u001b[0m, in \u001b[0;36mpandas._libs.lib.map_infer_mask\u001b[1;34m()\u001b[0m\n",
      "File \u001b[1;32mlib.pyx:2539\u001b[0m, in \u001b[0;36mpandas._libs.lib.maybe_convert_objects\u001b[1;34m()\u001b[0m\n",
      "\u001b[1;31mMemoryError\u001b[0m: Unable to allocate 1.84 GiB for an array with shape (123609866,) and data type complex128"
     ]
    }
   ],
   "source": [
    "df_data = pd.read_hdf(cleaned_path, key = 'table_data_filtered', encoding = 'utf-8')\n",
    "df_data.head()"
   ]
  },
  {
   "cell_type": "code",
   "execution_count": null,
   "metadata": {},
   "outputs": [
    {
     "data": {
      "application/vnd.microsoft.datawrangler.viewer.v0+json": {
       "columns": [
        {
         "name": "index",
         "rawType": "int64",
         "type": "integer"
        },
        {
         "name": "name_station",
         "rawType": "object",
         "type": "string"
        },
        {
         "name": "gauge_code",
         "rawType": "object",
         "type": "string"
        },
        {
         "name": "city",
         "rawType": "object",
         "type": "string"
        },
        {
         "name": "state",
         "rawType": "object",
         "type": "string"
        },
        {
         "name": "responsible",
         "rawType": "object",
         "type": "string"
        },
        {
         "name": "source",
         "rawType": "object",
         "type": "string"
        },
        {
         "name": "state_abbreviation",
         "rawType": "object",
         "type": "string"
        },
        {
         "name": "lat",
         "rawType": "float64",
         "type": "float"
        },
        {
         "name": "long",
         "rawType": "float64",
         "type": "float"
        }
       ],
       "conversionMethod": "pd.DataFrame",
       "ref": "f572bc39-87b0-4ada-9510-e95f5b7d20f6",
       "rows": [
        [
         "18981",
         "SELVIRIA | S717",
         "S717",
         "SELVIRIA",
         "MATO GROSSO DO SUL",
         "INMET",
         "INMET",
         "MS",
         "-20.35138888",
         "-51.43027777"
        ],
        [
         "18980",
         "SANTA RITA DO PARDO | S716",
         "S716",
         "SANTA RITA DO PARDO",
         "MATO GROSSO DO SUL",
         "INMET",
         "INMET",
         "MS",
         "-21.305889",
         "-52.820375"
        ],
        [
         "18979",
         "RIBAS DO RIO PARDO | S715",
         "S715",
         "RIBAS DO RIO PARDO",
         "MATO GROSSO DO SUL",
         "INMET",
         "INMET",
         "MS",
         "-20.466694",
         "-53.763028"
        ],
        [
         "18978",
         "PEDRO GOMES | S714",
         "S714",
         "PEDRO GOMES",
         "MATO GROSSO DO SUL",
         "INMET",
         "INMET",
         "MS",
         "-18.07277777",
         "-54.54888888"
        ],
        [
         "18977",
         "NOVA ANDRADINA | S713",
         "S713",
         "NOVA ANDRADINA",
         "MATO GROSSO DO SUL",
         "INMET",
         "INMET",
         "MS",
         "-22.0786111",
         "-53.46583333"
        ]
       ],
       "shape": {
        "columns": 9,
        "rows": 5
       }
      },
      "text/html": [
       "<div>\n",
       "<style scoped>\n",
       "    .dataframe tbody tr th:only-of-type {\n",
       "        vertical-align: middle;\n",
       "    }\n",
       "\n",
       "    .dataframe tbody tr th {\n",
       "        vertical-align: top;\n",
       "    }\n",
       "\n",
       "    .dataframe thead th {\n",
       "        text-align: right;\n",
       "    }\n",
       "</style>\n",
       "<table border=\"1\" class=\"dataframe\">\n",
       "  <thead>\n",
       "    <tr style=\"text-align: right;\">\n",
       "      <th></th>\n",
       "      <th>name_station</th>\n",
       "      <th>gauge_code</th>\n",
       "      <th>city</th>\n",
       "      <th>state</th>\n",
       "      <th>responsible</th>\n",
       "      <th>source</th>\n",
       "      <th>state_abbreviation</th>\n",
       "      <th>lat</th>\n",
       "      <th>long</th>\n",
       "    </tr>\n",
       "  </thead>\n",
       "  <tbody>\n",
       "    <tr>\n",
       "      <th>18981</th>\n",
       "      <td>SELVIRIA | S717</td>\n",
       "      <td>S717</td>\n",
       "      <td>SELVIRIA</td>\n",
       "      <td>MATO GROSSO DO SUL</td>\n",
       "      <td>INMET</td>\n",
       "      <td>INMET</td>\n",
       "      <td>MS</td>\n",
       "      <td>-20.351389</td>\n",
       "      <td>-51.430278</td>\n",
       "    </tr>\n",
       "    <tr>\n",
       "      <th>18980</th>\n",
       "      <td>SANTA RITA DO PARDO | S716</td>\n",
       "      <td>S716</td>\n",
       "      <td>SANTA RITA DO PARDO</td>\n",
       "      <td>MATO GROSSO DO SUL</td>\n",
       "      <td>INMET</td>\n",
       "      <td>INMET</td>\n",
       "      <td>MS</td>\n",
       "      <td>-21.305889</td>\n",
       "      <td>-52.820375</td>\n",
       "    </tr>\n",
       "    <tr>\n",
       "      <th>18979</th>\n",
       "      <td>RIBAS DO RIO PARDO | S715</td>\n",
       "      <td>S715</td>\n",
       "      <td>RIBAS DO RIO PARDO</td>\n",
       "      <td>MATO GROSSO DO SUL</td>\n",
       "      <td>INMET</td>\n",
       "      <td>INMET</td>\n",
       "      <td>MS</td>\n",
       "      <td>-20.466694</td>\n",
       "      <td>-53.763028</td>\n",
       "    </tr>\n",
       "    <tr>\n",
       "      <th>18978</th>\n",
       "      <td>PEDRO GOMES | S714</td>\n",
       "      <td>S714</td>\n",
       "      <td>PEDRO GOMES</td>\n",
       "      <td>MATO GROSSO DO SUL</td>\n",
       "      <td>INMET</td>\n",
       "      <td>INMET</td>\n",
       "      <td>MS</td>\n",
       "      <td>-18.072778</td>\n",
       "      <td>-54.548889</td>\n",
       "    </tr>\n",
       "    <tr>\n",
       "      <th>18977</th>\n",
       "      <td>NOVA ANDRADINA | S713</td>\n",
       "      <td>S713</td>\n",
       "      <td>NOVA ANDRADINA</td>\n",
       "      <td>MATO GROSSO DO SUL</td>\n",
       "      <td>INMET</td>\n",
       "      <td>INMET</td>\n",
       "      <td>MS</td>\n",
       "      <td>-22.078611</td>\n",
       "      <td>-53.465833</td>\n",
       "    </tr>\n",
       "  </tbody>\n",
       "</table>\n",
       "</div>"
      ],
      "text/plain": [
       "                     name_station gauge_code                 city  \\\n",
       "18981             SELVIRIA | S717       S717             SELVIRIA   \n",
       "18980  SANTA RITA DO PARDO | S716       S716  SANTA RITA DO PARDO   \n",
       "18979   RIBAS DO RIO PARDO | S715       S715   RIBAS DO RIO PARDO   \n",
       "18978          PEDRO GOMES | S714       S714          PEDRO GOMES   \n",
       "18977       NOVA ANDRADINA | S713       S713       NOVA ANDRADINA   \n",
       "\n",
       "                    state responsible source state_abbreviation        lat  \\\n",
       "18981  MATO GROSSO DO SUL       INMET  INMET                 MS -20.351389   \n",
       "18980  MATO GROSSO DO SUL       INMET  INMET                 MS -21.305889   \n",
       "18979  MATO GROSSO DO SUL       INMET  INMET                 MS -20.466694   \n",
       "18978  MATO GROSSO DO SUL       INMET  INMET                 MS -18.072778   \n",
       "18977  MATO GROSSO DO SUL       INMET  INMET                 MS -22.078611   \n",
       "\n",
       "            long  \n",
       "18981 -51.430278  \n",
       "18980 -52.820375  \n",
       "18979 -53.763028  \n",
       "18978 -54.548889  \n",
       "18977 -53.465833  "
      ]
     },
     "execution_count": 7,
     "metadata": {},
     "output_type": "execute_result"
    }
   ],
   "source": [
    "df_info = pd.read_hdf(cleaned_path, key = 'table_info', encoding = 'utf-8')\n",
    "df_info.head()"
   ]
  },
  {
   "cell_type": "code",
   "execution_count": null,
   "metadata": {},
   "outputs": [
    {
     "data": {
      "application/vnd.microsoft.datawrangler.viewer.v0+json": {
       "columns": [
        {
         "name": "index",
         "rawType": "int64",
         "type": "integer"
        },
        {
         "name": "gauge_code",
         "rawType": "object",
         "type": "string"
        },
        {
         "name": "datetime",
         "rawType": "datetime64[ns]",
         "type": "datetime"
        },
        {
         "name": "rain_mm",
         "rawType": "float64",
         "type": "float"
        },
        {
         "name": "name_station",
         "rawType": "object",
         "type": "string"
        },
        {
         "name": "city",
         "rawType": "object",
         "type": "string"
        },
        {
         "name": "state",
         "rawType": "object",
         "type": "string"
        },
        {
         "name": "responsible",
         "rawType": "object",
         "type": "string"
        },
        {
         "name": "source",
         "rawType": "object",
         "type": "string"
        },
        {
         "name": "state_abbreviation",
         "rawType": "object",
         "type": "string"
        },
        {
         "name": "lat",
         "rawType": "float64",
         "type": "float"
        },
        {
         "name": "long",
         "rawType": "float64",
         "type": "float"
        },
        {
         "name": "year",
         "rawType": "int32",
         "type": "integer"
        }
       ],
       "conversionMethod": "pd.DataFrame",
       "ref": "149f115b-e83c-441e-be13-7d22b5d2a4a5",
       "rows": [
        [
         "0",
         "00047000",
         "1961-01-01 00:00:00",
         "0.0",
         "SALINÓPOLIS",
         "SALINÓPOLIS",
         "PARÁ",
         "INMET",
         "HIDROWEB",
         "PA",
         "-0.65",
         "-47.55",
         "1961"
        ],
        [
         "1",
         "00047000",
         "1961-01-02 00:00:00",
         "0.0",
         "SALINÓPOLIS",
         "SALINÓPOLIS",
         "PARÁ",
         "INMET",
         "HIDROWEB",
         "PA",
         "-0.65",
         "-47.55",
         "1961"
        ],
        [
         "2",
         "00047000",
         "1961-01-03 00:00:00",
         "0.0",
         "SALINÓPOLIS",
         "SALINÓPOLIS",
         "PARÁ",
         "INMET",
         "HIDROWEB",
         "PA",
         "-0.65",
         "-47.55",
         "1961"
        ],
        [
         "3",
         "00047000",
         "1961-01-04 00:00:00",
         "0.0",
         "SALINÓPOLIS",
         "SALINÓPOLIS",
         "PARÁ",
         "INMET",
         "HIDROWEB",
         "PA",
         "-0.65",
         "-47.55",
         "1961"
        ],
        [
         "4",
         "00047000",
         "1961-01-05 00:00:00",
         "0.0",
         "SALINÓPOLIS",
         "SALINÓPOLIS",
         "PARÁ",
         "INMET",
         "HIDROWEB",
         "PA",
         "-0.65",
         "-47.55",
         "1961"
        ],
        [
         "5",
         "00047000",
         "1961-01-06 00:00:00",
         "0.0",
         "SALINÓPOLIS",
         "SALINÓPOLIS",
         "PARÁ",
         "INMET",
         "HIDROWEB",
         "PA",
         "-0.65",
         "-47.55",
         "1961"
        ],
        [
         "6",
         "00047000",
         "1961-01-07 00:00:00",
         "0.0",
         "SALINÓPOLIS",
         "SALINÓPOLIS",
         "PARÁ",
         "INMET",
         "HIDROWEB",
         "PA",
         "-0.65",
         "-47.55",
         "1961"
        ],
        [
         "7",
         "00047000",
         "1961-01-08 00:00:00",
         "0.0",
         "SALINÓPOLIS",
         "SALINÓPOLIS",
         "PARÁ",
         "INMET",
         "HIDROWEB",
         "PA",
         "-0.65",
         "-47.55",
         "1961"
        ],
        [
         "8",
         "00047000",
         "1961-01-09 00:00:00",
         "0.0",
         "SALINÓPOLIS",
         "SALINÓPOLIS",
         "PARÁ",
         "INMET",
         "HIDROWEB",
         "PA",
         "-0.65",
         "-47.55",
         "1961"
        ],
        [
         "9",
         "00047000",
         "1961-01-10 00:00:00",
         "0.0",
         "SALINÓPOLIS",
         "SALINÓPOLIS",
         "PARÁ",
         "INMET",
         "HIDROWEB",
         "PA",
         "-0.65",
         "-47.55",
         "1961"
        ],
        [
         "10",
         "00047000",
         "1961-01-11 00:00:00",
         "0.0",
         "SALINÓPOLIS",
         "SALINÓPOLIS",
         "PARÁ",
         "INMET",
         "HIDROWEB",
         "PA",
         "-0.65",
         "-47.55",
         "1961"
        ],
        [
         "11",
         "00047000",
         "1961-01-12 00:00:00",
         "0.0",
         "SALINÓPOLIS",
         "SALINÓPOLIS",
         "PARÁ",
         "INMET",
         "HIDROWEB",
         "PA",
         "-0.65",
         "-47.55",
         "1961"
        ],
        [
         "12",
         "00047000",
         "1961-01-13 00:00:00",
         "0.0",
         "SALINÓPOLIS",
         "SALINÓPOLIS",
         "PARÁ",
         "INMET",
         "HIDROWEB",
         "PA",
         "-0.65",
         "-47.55",
         "1961"
        ],
        [
         "13",
         "00047000",
         "1961-01-14 00:00:00",
         "0.0",
         "SALINÓPOLIS",
         "SALINÓPOLIS",
         "PARÁ",
         "INMET",
         "HIDROWEB",
         "PA",
         "-0.65",
         "-47.55",
         "1961"
        ],
        [
         "14",
         "00047000",
         "1961-01-15 00:00:00",
         "0.0",
         "SALINÓPOLIS",
         "SALINÓPOLIS",
         "PARÁ",
         "INMET",
         "HIDROWEB",
         "PA",
         "-0.65",
         "-47.55",
         "1961"
        ],
        [
         "15",
         "00047000",
         "1961-01-16 00:00:00",
         "0.0",
         "SALINÓPOLIS",
         "SALINÓPOLIS",
         "PARÁ",
         "INMET",
         "HIDROWEB",
         "PA",
         "-0.65",
         "-47.55",
         "1961"
        ],
        [
         "16",
         "00047000",
         "1961-01-17 00:00:00",
         "17.0",
         "SALINÓPOLIS",
         "SALINÓPOLIS",
         "PARÁ",
         "INMET",
         "HIDROWEB",
         "PA",
         "-0.65",
         "-47.55",
         "1961"
        ],
        [
         "17",
         "00047000",
         "1961-01-18 00:00:00",
         "22.6",
         "SALINÓPOLIS",
         "SALINÓPOLIS",
         "PARÁ",
         "INMET",
         "HIDROWEB",
         "PA",
         "-0.65",
         "-47.55",
         "1961"
        ],
        [
         "18",
         "00047000",
         "1961-01-19 00:00:00",
         "6.4",
         "SALINÓPOLIS",
         "SALINÓPOLIS",
         "PARÁ",
         "INMET",
         "HIDROWEB",
         "PA",
         "-0.65",
         "-47.55",
         "1961"
        ],
        [
         "19",
         "00047000",
         "1961-01-20 00:00:00",
         "5.6",
         "SALINÓPOLIS",
         "SALINÓPOLIS",
         "PARÁ",
         "INMET",
         "HIDROWEB",
         "PA",
         "-0.65",
         "-47.55",
         "1961"
        ],
        [
         "20",
         "00047000",
         "1961-01-21 00:00:00",
         "23.4",
         "SALINÓPOLIS",
         "SALINÓPOLIS",
         "PARÁ",
         "INMET",
         "HIDROWEB",
         "PA",
         "-0.65",
         "-47.55",
         "1961"
        ],
        [
         "21",
         "00047000",
         "1961-01-22 00:00:00",
         "0.0",
         "SALINÓPOLIS",
         "SALINÓPOLIS",
         "PARÁ",
         "INMET",
         "HIDROWEB",
         "PA",
         "-0.65",
         "-47.55",
         "1961"
        ],
        [
         "22",
         "00047000",
         "1961-01-23 00:00:00",
         "0.0",
         "SALINÓPOLIS",
         "SALINÓPOLIS",
         "PARÁ",
         "INMET",
         "HIDROWEB",
         "PA",
         "-0.65",
         "-47.55",
         "1961"
        ],
        [
         "23",
         "00047000",
         "1961-01-24 00:00:00",
         "0.0",
         "SALINÓPOLIS",
         "SALINÓPOLIS",
         "PARÁ",
         "INMET",
         "HIDROWEB",
         "PA",
         "-0.65",
         "-47.55",
         "1961"
        ],
        [
         "24",
         "00047000",
         "1961-01-25 00:00:00",
         "0.0",
         "SALINÓPOLIS",
         "SALINÓPOLIS",
         "PARÁ",
         "INMET",
         "HIDROWEB",
         "PA",
         "-0.65",
         "-47.55",
         "1961"
        ],
        [
         "25",
         "00047000",
         "1961-01-26 00:00:00",
         "23.0",
         "SALINÓPOLIS",
         "SALINÓPOLIS",
         "PARÁ",
         "INMET",
         "HIDROWEB",
         "PA",
         "-0.65",
         "-47.55",
         "1961"
        ],
        [
         "26",
         "00047000",
         "1961-01-27 00:00:00",
         "5.8",
         "SALINÓPOLIS",
         "SALINÓPOLIS",
         "PARÁ",
         "INMET",
         "HIDROWEB",
         "PA",
         "-0.65",
         "-47.55",
         "1961"
        ],
        [
         "27",
         "00047000",
         "1961-01-28 00:00:00",
         "0.0",
         "SALINÓPOLIS",
         "SALINÓPOLIS",
         "PARÁ",
         "INMET",
         "HIDROWEB",
         "PA",
         "-0.65",
         "-47.55",
         "1961"
        ],
        [
         "28",
         "00047000",
         "1961-01-29 00:00:00",
         "0.0",
         "SALINÓPOLIS",
         "SALINÓPOLIS",
         "PARÁ",
         "INMET",
         "HIDROWEB",
         "PA",
         "-0.65",
         "-47.55",
         "1961"
        ],
        [
         "29",
         "00047000",
         "1961-01-30 00:00:00",
         "16.4",
         "SALINÓPOLIS",
         "SALINÓPOLIS",
         "PARÁ",
         "INMET",
         "HIDROWEB",
         "PA",
         "-0.65",
         "-47.55",
         "1961"
        ],
        [
         "30",
         "00047000",
         "1961-01-31 00:00:00",
         "0.0",
         "SALINÓPOLIS",
         "SALINÓPOLIS",
         "PARÁ",
         "INMET",
         "HIDROWEB",
         "PA",
         "-0.65",
         "-47.55",
         "1961"
        ],
        [
         "31",
         "00047000",
         "1961-02-01 00:00:00",
         "5.8",
         "SALINÓPOLIS",
         "SALINÓPOLIS",
         "PARÁ",
         "INMET",
         "HIDROWEB",
         "PA",
         "-0.65",
         "-47.55",
         "1961"
        ],
        [
         "32",
         "00047000",
         "1961-02-02 00:00:00",
         "3.2",
         "SALINÓPOLIS",
         "SALINÓPOLIS",
         "PARÁ",
         "INMET",
         "HIDROWEB",
         "PA",
         "-0.65",
         "-47.55",
         "1961"
        ],
        [
         "33",
         "00047000",
         "1961-02-03 00:00:00",
         "0.0",
         "SALINÓPOLIS",
         "SALINÓPOLIS",
         "PARÁ",
         "INMET",
         "HIDROWEB",
         "PA",
         "-0.65",
         "-47.55",
         "1961"
        ],
        [
         "34",
         "00047000",
         "1961-02-04 00:00:00",
         "16.8",
         "SALINÓPOLIS",
         "SALINÓPOLIS",
         "PARÁ",
         "INMET",
         "HIDROWEB",
         "PA",
         "-0.65",
         "-47.55",
         "1961"
        ],
        [
         "35",
         "00047000",
         "1961-02-05 00:00:00",
         "31.2",
         "SALINÓPOLIS",
         "SALINÓPOLIS",
         "PARÁ",
         "INMET",
         "HIDROWEB",
         "PA",
         "-0.65",
         "-47.55",
         "1961"
        ],
        [
         "36",
         "00047000",
         "1961-02-06 00:00:00",
         "13.4",
         "SALINÓPOLIS",
         "SALINÓPOLIS",
         "PARÁ",
         "INMET",
         "HIDROWEB",
         "PA",
         "-0.65",
         "-47.55",
         "1961"
        ],
        [
         "37",
         "00047000",
         "1961-02-07 00:00:00",
         "12.2",
         "SALINÓPOLIS",
         "SALINÓPOLIS",
         "PARÁ",
         "INMET",
         "HIDROWEB",
         "PA",
         "-0.65",
         "-47.55",
         "1961"
        ],
        [
         "38",
         "00047000",
         "1961-02-08 00:00:00",
         "0.0",
         "SALINÓPOLIS",
         "SALINÓPOLIS",
         "PARÁ",
         "INMET",
         "HIDROWEB",
         "PA",
         "-0.65",
         "-47.55",
         "1961"
        ],
        [
         "39",
         "00047000",
         "1961-02-09 00:00:00",
         "6.8",
         "SALINÓPOLIS",
         "SALINÓPOLIS",
         "PARÁ",
         "INMET",
         "HIDROWEB",
         "PA",
         "-0.65",
         "-47.55",
         "1961"
        ],
        [
         "40",
         "00047000",
         "1961-02-10 00:00:00",
         "0.0",
         "SALINÓPOLIS",
         "SALINÓPOLIS",
         "PARÁ",
         "INMET",
         "HIDROWEB",
         "PA",
         "-0.65",
         "-47.55",
         "1961"
        ],
        [
         "41",
         "00047000",
         "1961-02-11 00:00:00",
         "0.0",
         "SALINÓPOLIS",
         "SALINÓPOLIS",
         "PARÁ",
         "INMET",
         "HIDROWEB",
         "PA",
         "-0.65",
         "-47.55",
         "1961"
        ],
        [
         "42",
         "00047000",
         "1961-02-12 00:00:00",
         "0.0",
         "SALINÓPOLIS",
         "SALINÓPOLIS",
         "PARÁ",
         "INMET",
         "HIDROWEB",
         "PA",
         "-0.65",
         "-47.55",
         "1961"
        ],
        [
         "43",
         "00047000",
         "1961-02-13 00:00:00",
         "0.0",
         "SALINÓPOLIS",
         "SALINÓPOLIS",
         "PARÁ",
         "INMET",
         "HIDROWEB",
         "PA",
         "-0.65",
         "-47.55",
         "1961"
        ],
        [
         "44",
         "00047000",
         "1961-02-14 00:00:00",
         "0.0",
         "SALINÓPOLIS",
         "SALINÓPOLIS",
         "PARÁ",
         "INMET",
         "HIDROWEB",
         "PA",
         "-0.65",
         "-47.55",
         "1961"
        ],
        [
         "45",
         "00047000",
         "1961-02-15 00:00:00",
         "34.8",
         "SALINÓPOLIS",
         "SALINÓPOLIS",
         "PARÁ",
         "INMET",
         "HIDROWEB",
         "PA",
         "-0.65",
         "-47.55",
         "1961"
        ],
        [
         "46",
         "00047000",
         "1961-02-16 00:00:00",
         "79.2",
         "SALINÓPOLIS",
         "SALINÓPOLIS",
         "PARÁ",
         "INMET",
         "HIDROWEB",
         "PA",
         "-0.65",
         "-47.55",
         "1961"
        ],
        [
         "47",
         "00047000",
         "1961-02-17 00:00:00",
         "34.4",
         "SALINÓPOLIS",
         "SALINÓPOLIS",
         "PARÁ",
         "INMET",
         "HIDROWEB",
         "PA",
         "-0.65",
         "-47.55",
         "1961"
        ],
        [
         "48",
         "00047000",
         "1961-02-18 00:00:00",
         "41.8",
         "SALINÓPOLIS",
         "SALINÓPOLIS",
         "PARÁ",
         "INMET",
         "HIDROWEB",
         "PA",
         "-0.65",
         "-47.55",
         "1961"
        ],
        [
         "49",
         "00047000",
         "1961-02-19 00:00:00",
         "90.6",
         "SALINÓPOLIS",
         "SALINÓPOLIS",
         "PARÁ",
         "INMET",
         "HIDROWEB",
         "PA",
         "-0.65",
         "-47.55",
         "1961"
        ]
       ],
       "shape": {
        "columns": 12,
        "rows": 123593345
       }
      },
      "text/html": [
       "<div>\n",
       "<style scoped>\n",
       "    .dataframe tbody tr th:only-of-type {\n",
       "        vertical-align: middle;\n",
       "    }\n",
       "\n",
       "    .dataframe tbody tr th {\n",
       "        vertical-align: top;\n",
       "    }\n",
       "\n",
       "    .dataframe thead th {\n",
       "        text-align: right;\n",
       "    }\n",
       "</style>\n",
       "<table border=\"1\" class=\"dataframe\">\n",
       "  <thead>\n",
       "    <tr style=\"text-align: right;\">\n",
       "      <th></th>\n",
       "      <th>gauge_code</th>\n",
       "      <th>datetime</th>\n",
       "      <th>rain_mm</th>\n",
       "      <th>name_station</th>\n",
       "      <th>city</th>\n",
       "      <th>state</th>\n",
       "      <th>responsible</th>\n",
       "      <th>source</th>\n",
       "      <th>state_abbreviation</th>\n",
       "      <th>lat</th>\n",
       "      <th>long</th>\n",
       "      <th>year</th>\n",
       "    </tr>\n",
       "  </thead>\n",
       "  <tbody>\n",
       "    <tr>\n",
       "      <th>0</th>\n",
       "      <td>00047000</td>\n",
       "      <td>1961-01-01</td>\n",
       "      <td>0.0</td>\n",
       "      <td>SALINÓPOLIS</td>\n",
       "      <td>SALINÓPOLIS</td>\n",
       "      <td>PARÁ</td>\n",
       "      <td>INMET</td>\n",
       "      <td>HIDROWEB</td>\n",
       "      <td>PA</td>\n",
       "      <td>-0.650000</td>\n",
       "      <td>-47.550000</td>\n",
       "      <td>1961</td>\n",
       "    </tr>\n",
       "    <tr>\n",
       "      <th>1</th>\n",
       "      <td>00047000</td>\n",
       "      <td>1961-01-02</td>\n",
       "      <td>0.0</td>\n",
       "      <td>SALINÓPOLIS</td>\n",
       "      <td>SALINÓPOLIS</td>\n",
       "      <td>PARÁ</td>\n",
       "      <td>INMET</td>\n",
       "      <td>HIDROWEB</td>\n",
       "      <td>PA</td>\n",
       "      <td>-0.650000</td>\n",
       "      <td>-47.550000</td>\n",
       "      <td>1961</td>\n",
       "    </tr>\n",
       "    <tr>\n",
       "      <th>2</th>\n",
       "      <td>00047000</td>\n",
       "      <td>1961-01-03</td>\n",
       "      <td>0.0</td>\n",
       "      <td>SALINÓPOLIS</td>\n",
       "      <td>SALINÓPOLIS</td>\n",
       "      <td>PARÁ</td>\n",
       "      <td>INMET</td>\n",
       "      <td>HIDROWEB</td>\n",
       "      <td>PA</td>\n",
       "      <td>-0.650000</td>\n",
       "      <td>-47.550000</td>\n",
       "      <td>1961</td>\n",
       "    </tr>\n",
       "    <tr>\n",
       "      <th>3</th>\n",
       "      <td>00047000</td>\n",
       "      <td>1961-01-04</td>\n",
       "      <td>0.0</td>\n",
       "      <td>SALINÓPOLIS</td>\n",
       "      <td>SALINÓPOLIS</td>\n",
       "      <td>PARÁ</td>\n",
       "      <td>INMET</td>\n",
       "      <td>HIDROWEB</td>\n",
       "      <td>PA</td>\n",
       "      <td>-0.650000</td>\n",
       "      <td>-47.550000</td>\n",
       "      <td>1961</td>\n",
       "    </tr>\n",
       "    <tr>\n",
       "      <th>4</th>\n",
       "      <td>00047000</td>\n",
       "      <td>1961-01-05</td>\n",
       "      <td>0.0</td>\n",
       "      <td>SALINÓPOLIS</td>\n",
       "      <td>SALINÓPOLIS</td>\n",
       "      <td>PARÁ</td>\n",
       "      <td>INMET</td>\n",
       "      <td>HIDROWEB</td>\n",
       "      <td>PA</td>\n",
       "      <td>-0.650000</td>\n",
       "      <td>-47.550000</td>\n",
       "      <td>1961</td>\n",
       "    </tr>\n",
       "    <tr>\n",
       "      <th>...</th>\n",
       "      <td>...</td>\n",
       "      <td>...</td>\n",
       "      <td>...</td>\n",
       "      <td>...</td>\n",
       "      <td>...</td>\n",
       "      <td>...</td>\n",
       "      <td>...</td>\n",
       "      <td>...</td>\n",
       "      <td>...</td>\n",
       "      <td>...</td>\n",
       "      <td>...</td>\n",
       "      <td>...</td>\n",
       "    </tr>\n",
       "    <tr>\n",
       "      <th>123593340</th>\n",
       "      <td>S717</td>\n",
       "      <td>2021-12-27</td>\n",
       "      <td>0.0</td>\n",
       "      <td>SELVIRIA | S717</td>\n",
       "      <td>SELVIRIA</td>\n",
       "      <td>MATO GROSSO DO SUL</td>\n",
       "      <td>INMET</td>\n",
       "      <td>INMET</td>\n",
       "      <td>MS</td>\n",
       "      <td>-20.351389</td>\n",
       "      <td>-51.430278</td>\n",
       "      <td>2021</td>\n",
       "    </tr>\n",
       "    <tr>\n",
       "      <th>123593341</th>\n",
       "      <td>S717</td>\n",
       "      <td>2021-12-28</td>\n",
       "      <td>0.0</td>\n",
       "      <td>SELVIRIA | S717</td>\n",
       "      <td>SELVIRIA</td>\n",
       "      <td>MATO GROSSO DO SUL</td>\n",
       "      <td>INMET</td>\n",
       "      <td>INMET</td>\n",
       "      <td>MS</td>\n",
       "      <td>-20.351389</td>\n",
       "      <td>-51.430278</td>\n",
       "      <td>2021</td>\n",
       "    </tr>\n",
       "    <tr>\n",
       "      <th>123593342</th>\n",
       "      <td>S717</td>\n",
       "      <td>2021-12-29</td>\n",
       "      <td>0.0</td>\n",
       "      <td>SELVIRIA | S717</td>\n",
       "      <td>SELVIRIA</td>\n",
       "      <td>MATO GROSSO DO SUL</td>\n",
       "      <td>INMET</td>\n",
       "      <td>INMET</td>\n",
       "      <td>MS</td>\n",
       "      <td>-20.351389</td>\n",
       "      <td>-51.430278</td>\n",
       "      <td>2021</td>\n",
       "    </tr>\n",
       "    <tr>\n",
       "      <th>123593343</th>\n",
       "      <td>S717</td>\n",
       "      <td>2021-12-30</td>\n",
       "      <td>0.0</td>\n",
       "      <td>SELVIRIA | S717</td>\n",
       "      <td>SELVIRIA</td>\n",
       "      <td>MATO GROSSO DO SUL</td>\n",
       "      <td>INMET</td>\n",
       "      <td>INMET</td>\n",
       "      <td>MS</td>\n",
       "      <td>-20.351389</td>\n",
       "      <td>-51.430278</td>\n",
       "      <td>2021</td>\n",
       "    </tr>\n",
       "    <tr>\n",
       "      <th>123593344</th>\n",
       "      <td>S717</td>\n",
       "      <td>2021-12-31</td>\n",
       "      <td>0.0</td>\n",
       "      <td>SELVIRIA | S717</td>\n",
       "      <td>SELVIRIA</td>\n",
       "      <td>MATO GROSSO DO SUL</td>\n",
       "      <td>INMET</td>\n",
       "      <td>INMET</td>\n",
       "      <td>MS</td>\n",
       "      <td>-20.351389</td>\n",
       "      <td>-51.430278</td>\n",
       "      <td>2021</td>\n",
       "    </tr>\n",
       "  </tbody>\n",
       "</table>\n",
       "<p>123593345 rows × 12 columns</p>\n",
       "</div>"
      ],
      "text/plain": [
       "          gauge_code   datetime  rain_mm     name_station         city  \\\n",
       "0           00047000 1961-01-01      0.0      SALINÓPOLIS  SALINÓPOLIS   \n",
       "1           00047000 1961-01-02      0.0      SALINÓPOLIS  SALINÓPOLIS   \n",
       "2           00047000 1961-01-03      0.0      SALINÓPOLIS  SALINÓPOLIS   \n",
       "3           00047000 1961-01-04      0.0      SALINÓPOLIS  SALINÓPOLIS   \n",
       "4           00047000 1961-01-05      0.0      SALINÓPOLIS  SALINÓPOLIS   \n",
       "...              ...        ...      ...              ...          ...   \n",
       "123593340       S717 2021-12-27      0.0  SELVIRIA | S717     SELVIRIA   \n",
       "123593341       S717 2021-12-28      0.0  SELVIRIA | S717     SELVIRIA   \n",
       "123593342       S717 2021-12-29      0.0  SELVIRIA | S717     SELVIRIA   \n",
       "123593343       S717 2021-12-30      0.0  SELVIRIA | S717     SELVIRIA   \n",
       "123593344       S717 2021-12-31      0.0  SELVIRIA | S717     SELVIRIA   \n",
       "\n",
       "                        state responsible    source state_abbreviation  \\\n",
       "0                        PARÁ       INMET  HIDROWEB                 PA   \n",
       "1                        PARÁ       INMET  HIDROWEB                 PA   \n",
       "2                        PARÁ       INMET  HIDROWEB                 PA   \n",
       "3                        PARÁ       INMET  HIDROWEB                 PA   \n",
       "4                        PARÁ       INMET  HIDROWEB                 PA   \n",
       "...                       ...         ...       ...                ...   \n",
       "123593340  MATO GROSSO DO SUL       INMET     INMET                 MS   \n",
       "123593341  MATO GROSSO DO SUL       INMET     INMET                 MS   \n",
       "123593342  MATO GROSSO DO SUL       INMET     INMET                 MS   \n",
       "123593343  MATO GROSSO DO SUL       INMET     INMET                 MS   \n",
       "123593344  MATO GROSSO DO SUL       INMET     INMET                 MS   \n",
       "\n",
       "                 lat       long  year  \n",
       "0          -0.650000 -47.550000  1961  \n",
       "1          -0.650000 -47.550000  1961  \n",
       "2          -0.650000 -47.550000  1961  \n",
       "3          -0.650000 -47.550000  1961  \n",
       "4          -0.650000 -47.550000  1961  \n",
       "...              ...        ...   ...  \n",
       "123593340 -20.351389 -51.430278  2021  \n",
       "123593341 -20.351389 -51.430278  2021  \n",
       "123593342 -20.351389 -51.430278  2021  \n",
       "123593343 -20.351389 -51.430278  2021  \n",
       "123593344 -20.351389 -51.430278  2021  \n",
       "\n",
       "[123593345 rows x 12 columns]"
      ]
     },
     "execution_count": 8,
     "metadata": {},
     "output_type": "execute_result"
    }
   ],
   "source": [
    "df_complete_info = pd.merge(df_data, df_info, on = 'gauge_code', how = 'inner')\n",
    "del df_data, df_info\n",
    "df_complete_info['year'] = df_complete_info['datetime'].dt.year\n",
    "df_complete_info"
   ]
  },
  {
   "cell_type": "code",
   "execution_count": null,
   "metadata": {},
   "outputs": [],
   "source": [
    "max(df_complete_info['rain_mm'])"
   ]
  },
  {
   "cell_type": "code",
   "execution_count": null,
   "metadata": {},
   "outputs": [
    {
     "data": {
      "application/vnd.microsoft.datawrangler.viewer.v0+json": {
       "columns": [
        {
         "name": "index",
         "rawType": "int64",
         "type": "integer"
        },
        {
         "name": "gauge_code",
         "rawType": "object",
         "type": "string"
        },
        {
         "name": "year",
         "rawType": "int64",
         "type": "integer"
        },
        {
         "name": "p_availability",
         "rawType": "float64",
         "type": "float"
        }
       ],
       "conversionMethod": "pd.DataFrame",
       "ref": "d142a018-35c0-45e3-957d-fb7761fa0efb",
       "rows": [
        [
         "0",
         "00047000",
         "1961",
         "100.0"
        ],
        [
         "1",
         "00048000",
         "1961",
         "100.0"
        ],
        [
         "2",
         "00062000",
         "1961",
         "100.0"
        ],
        [
         "3",
         "00065000",
         "1961",
         "8.493150684931507"
        ],
        [
         "4",
         "00067000",
         "1961",
         "100.0"
        ],
        [
         "5",
         "00145004",
         "1961",
         "100.0"
        ],
        [
         "6",
         "00148001",
         "1961",
         "100.0"
        ],
        [
         "7",
         "00148002",
         "1961",
         "100.0"
        ],
        [
         "8",
         "00155001",
         "1961",
         "100.0"
        ],
        [
         "9",
         "00240000",
         "1961",
         "100.0"
        ],
        [
         "10",
         "00240001",
         "1961",
         "100.0"
        ],
        [
         "11",
         "00240005",
         "1961",
         "100.0"
        ],
        [
         "12",
         "00241000",
         "1961",
         "100.0"
        ],
        [
         "13",
         "00244004",
         "1961",
         "100.0"
        ],
        [
         "14",
         "00244006",
         "1961",
         "100.0"
        ],
        [
         "15",
         "00244007",
         "1961",
         "100.0"
        ],
        [
         "16",
         "00254001",
         "1961",
         "100.0"
        ],
        [
         "17",
         "00256000",
         "1961",
         "100.0"
        ],
        [
         "18",
         "00266000",
         "1961",
         "100.0"
        ],
        [
         "19",
         "00332000",
         "1961",
         "100.0"
        ],
        [
         "20",
         "00338000",
         "1961",
         "100.0"
        ],
        [
         "21",
         "00338001",
         "1961",
         "100.0"
        ],
        [
         "22",
         "00338002",
         "1961",
         "100.0"
        ],
        [
         "23",
         "00338003",
         "1961",
         "16.71232876712329"
        ],
        [
         "24",
         "00338005",
         "1961",
         "100.0"
        ],
        [
         "25",
         "00338007",
         "1961",
         "100.0"
        ],
        [
         "26",
         "00338008",
         "1961",
         "100.0"
        ],
        [
         "27",
         "00338009",
         "1961",
         "100.0"
        ],
        [
         "28",
         "00338016",
         "1961",
         "100.0"
        ],
        [
         "29",
         "00338018",
         "1961",
         "100.0"
        ],
        [
         "30",
         "00338026",
         "1961",
         "100.0"
        ],
        [
         "31",
         "00339002",
         "1961",
         "100.0"
        ],
        [
         "32",
         "00339004",
         "1961",
         "100.0"
        ],
        [
         "33",
         "00339007",
         "1961",
         "100.0"
        ],
        [
         "34",
         "00339009",
         "1961",
         "100.0"
        ],
        [
         "35",
         "00339014",
         "1961",
         "100.0"
        ],
        [
         "36",
         "00339016",
         "1961",
         "100.0"
        ],
        [
         "37",
         "00339018",
         "1961",
         "100.0"
        ],
        [
         "38",
         "00339020",
         "1961",
         "100.0"
        ],
        [
         "39",
         "00339021",
         "1961",
         "100.0"
        ],
        [
         "40",
         "00339023",
         "1961",
         "100.0"
        ],
        [
         "41",
         "00339024",
         "1961",
         "100.0"
        ],
        [
         "42",
         "00339026",
         "1961",
         "100.0"
        ],
        [
         "43",
         "00339028",
         "1961",
         "100.0"
        ],
        [
         "44",
         "00339031",
         "1961",
         "100.0"
        ],
        [
         "45",
         "00339034",
         "1961",
         "100.0"
        ],
        [
         "46",
         "00340000",
         "1961",
         "100.0"
        ],
        [
         "47",
         "00340001",
         "1961",
         "100.0"
        ],
        [
         "48",
         "00340002",
         "1961",
         "100.0"
        ],
        [
         "49",
         "00340003",
         "1961",
         "100.0"
        ]
       ],
       "shape": {
        "columns": 3,
        "rows": 345868
       }
      },
      "text/html": [
       "<div>\n",
       "<style scoped>\n",
       "    .dataframe tbody tr th:only-of-type {\n",
       "        vertical-align: middle;\n",
       "    }\n",
       "\n",
       "    .dataframe tbody tr th {\n",
       "        vertical-align: top;\n",
       "    }\n",
       "\n",
       "    .dataframe thead th {\n",
       "        text-align: right;\n",
       "    }\n",
       "</style>\n",
       "<table border=\"1\" class=\"dataframe\">\n",
       "  <thead>\n",
       "    <tr style=\"text-align: right;\">\n",
       "      <th></th>\n",
       "      <th>gauge_code</th>\n",
       "      <th>year</th>\n",
       "      <th>p_availability</th>\n",
       "    </tr>\n",
       "  </thead>\n",
       "  <tbody>\n",
       "    <tr>\n",
       "      <th>0</th>\n",
       "      <td>00047000</td>\n",
       "      <td>1961</td>\n",
       "      <td>100.000000</td>\n",
       "    </tr>\n",
       "    <tr>\n",
       "      <th>1</th>\n",
       "      <td>00048000</td>\n",
       "      <td>1961</td>\n",
       "      <td>100.000000</td>\n",
       "    </tr>\n",
       "    <tr>\n",
       "      <th>2</th>\n",
       "      <td>00062000</td>\n",
       "      <td>1961</td>\n",
       "      <td>100.000000</td>\n",
       "    </tr>\n",
       "    <tr>\n",
       "      <th>3</th>\n",
       "      <td>00065000</td>\n",
       "      <td>1961</td>\n",
       "      <td>8.493151</td>\n",
       "    </tr>\n",
       "    <tr>\n",
       "      <th>4</th>\n",
       "      <td>00067000</td>\n",
       "      <td>1961</td>\n",
       "      <td>100.000000</td>\n",
       "    </tr>\n",
       "    <tr>\n",
       "      <th>...</th>\n",
       "      <td>...</td>\n",
       "      <td>...</td>\n",
       "      <td>...</td>\n",
       "    </tr>\n",
       "    <tr>\n",
       "      <th>345863</th>\n",
       "      <td>B803</td>\n",
       "      <td>2024</td>\n",
       "      <td>100.000000</td>\n",
       "    </tr>\n",
       "    <tr>\n",
       "      <th>345864</th>\n",
       "      <td>B804</td>\n",
       "      <td>2024</td>\n",
       "      <td>100.000000</td>\n",
       "    </tr>\n",
       "    <tr>\n",
       "      <th>345865</th>\n",
       "      <td>B806</td>\n",
       "      <td>2024</td>\n",
       "      <td>100.000000</td>\n",
       "    </tr>\n",
       "    <tr>\n",
       "      <th>345866</th>\n",
       "      <td>B807</td>\n",
       "      <td>2024</td>\n",
       "      <td>100.000000</td>\n",
       "    </tr>\n",
       "    <tr>\n",
       "      <th>345867</th>\n",
       "      <td>F501</td>\n",
       "      <td>2024</td>\n",
       "      <td>100.000000</td>\n",
       "    </tr>\n",
       "  </tbody>\n",
       "</table>\n",
       "<p>345868 rows × 3 columns</p>\n",
       "</div>"
      ],
      "text/plain": [
       "       gauge_code  year  p_availability\n",
       "0        00047000  1961      100.000000\n",
       "1        00048000  1961      100.000000\n",
       "2        00062000  1961      100.000000\n",
       "3        00065000  1961        8.493151\n",
       "4        00067000  1961      100.000000\n",
       "...           ...   ...             ...\n",
       "345863       B803  2024      100.000000\n",
       "345864       B804  2024      100.000000\n",
       "345865       B806  2024      100.000000\n",
       "345866       B807  2024      100.000000\n",
       "345867       F501  2024      100.000000\n",
       "\n",
       "[345868 rows x 3 columns]"
      ]
     },
     "execution_count": 9,
     "metadata": {},
     "output_type": "execute_result"
    }
   ],
   "source": [
    "def calculateP(df):\n",
    "    # Group by gauge_code and year, then count the number of rows for each group\n",
    "    df_p = df.groupby(['gauge_code', 'year']).size().reset_index(name='active_days')\n",
    "    return df_p\n",
    "\n",
    "# Example usage\n",
    "df_p_availability = calculateP(df_complete_info)\n",
    "\n",
    "years = pd.Series(range(1961, 2025), name='year')\n",
    "# Calculate the number of days in each year\n",
    "day_count = years.apply(lambda x: 366 if (x % 4 == 0 and (x % 100 != 0 or x % 400 == 0)) else 365)\n",
    "# Create the DataFrame\n",
    "df_years = pd.DataFrame({'year': years, 'day_count': day_count})\n",
    "del years, day_count\n",
    "\n",
    "\n",
    "df_p_availability = pd.merge(df_years, df_p_availability, on = 'year', how = 'left')\n",
    "del df_years\n",
    "\n",
    "df_p_availability['p_availability'] = df_p_availability['active_days'] / df_p_availability['day_count'] * 100\n",
    "df_p_availability = df_p_availability[['gauge_code', 'year', 'p_availability']]\n",
    "df_p_availability.to_hdf(cleaned_path, key = 'table_p_availability', encoding = 'utf-8', mode='r+')\n",
    "df_p_availability"
   ]
  },
  {
   "cell_type": "code",
   "execution_count": 11,
   "metadata": {},
   "outputs": [
    {
     "name": "stdout",
     "output_type": "stream",
     "text": [
      "['table_data', 'table_data_filtered', 'table_info', 'table_p_availability', 'table_preclassif']\n"
     ]
    }
   ],
   "source": [
    "with h5py.File(cleaned_path, 'r') as hdf:\n",
    "    keys = list(hdf.keys())\n",
    "    print(keys)"
   ]
  },
  {
   "cell_type": "code",
   "execution_count": 10,
   "metadata": {},
   "outputs": [
    {
     "data": {
      "application/vnd.microsoft.datawrangler.viewer.v0+json": {
       "columns": [
        {
         "name": "index",
         "rawType": "int64",
         "type": "integer"
        },
        {
         "name": "gauge_code",
         "rawType": "object",
         "type": "string"
        },
        {
         "name": "year",
         "rawType": "int64",
         "type": "integer"
        },
        {
         "name": "p_availability",
         "rawType": "float64",
         "type": "float"
        }
       ],
       "conversionMethod": "pd.DataFrame",
       "ref": "6899959d-2cb5-4183-9cc7-7c403faa9405",
       "rows": [
        [
         "0",
         "00047000",
         "1961",
         "100.0"
        ],
        [
         "1",
         "00048000",
         "1961",
         "100.0"
        ],
        [
         "2",
         "00062000",
         "1961",
         "100.0"
        ],
        [
         "3",
         "00065000",
         "1961",
         "8.493150684931507"
        ],
        [
         "4",
         "00067000",
         "1961",
         "100.0"
        ],
        [
         "5",
         "00145004",
         "1961",
         "100.0"
        ],
        [
         "6",
         "00148001",
         "1961",
         "100.0"
        ],
        [
         "7",
         "00148002",
         "1961",
         "100.0"
        ],
        [
         "8",
         "00155001",
         "1961",
         "100.0"
        ],
        [
         "9",
         "00240000",
         "1961",
         "100.0"
        ],
        [
         "10",
         "00240001",
         "1961",
         "100.0"
        ],
        [
         "11",
         "00240005",
         "1961",
         "100.0"
        ],
        [
         "12",
         "00241000",
         "1961",
         "100.0"
        ],
        [
         "13",
         "00244004",
         "1961",
         "100.0"
        ],
        [
         "14",
         "00244006",
         "1961",
         "100.0"
        ],
        [
         "15",
         "00244007",
         "1961",
         "100.0"
        ],
        [
         "16",
         "00254001",
         "1961",
         "100.0"
        ],
        [
         "17",
         "00256000",
         "1961",
         "100.0"
        ],
        [
         "18",
         "00266000",
         "1961",
         "100.0"
        ],
        [
         "19",
         "00332000",
         "1961",
         "100.0"
        ],
        [
         "20",
         "00338000",
         "1961",
         "100.0"
        ],
        [
         "21",
         "00338001",
         "1961",
         "100.0"
        ],
        [
         "22",
         "00338002",
         "1961",
         "100.0"
        ],
        [
         "23",
         "00338003",
         "1961",
         "16.71232876712329"
        ],
        [
         "24",
         "00338005",
         "1961",
         "100.0"
        ],
        [
         "25",
         "00338007",
         "1961",
         "100.0"
        ],
        [
         "26",
         "00338008",
         "1961",
         "100.0"
        ],
        [
         "27",
         "00338009",
         "1961",
         "100.0"
        ],
        [
         "28",
         "00338016",
         "1961",
         "100.0"
        ],
        [
         "29",
         "00338018",
         "1961",
         "100.0"
        ],
        [
         "30",
         "00338026",
         "1961",
         "100.0"
        ],
        [
         "31",
         "00339002",
         "1961",
         "100.0"
        ],
        [
         "32",
         "00339004",
         "1961",
         "100.0"
        ],
        [
         "33",
         "00339007",
         "1961",
         "100.0"
        ],
        [
         "34",
         "00339009",
         "1961",
         "100.0"
        ],
        [
         "35",
         "00339014",
         "1961",
         "100.0"
        ],
        [
         "36",
         "00339016",
         "1961",
         "100.0"
        ],
        [
         "37",
         "00339018",
         "1961",
         "100.0"
        ],
        [
         "38",
         "00339020",
         "1961",
         "100.0"
        ],
        [
         "39",
         "00339021",
         "1961",
         "100.0"
        ],
        [
         "40",
         "00339023",
         "1961",
         "100.0"
        ],
        [
         "41",
         "00339024",
         "1961",
         "100.0"
        ],
        [
         "42",
         "00339026",
         "1961",
         "100.0"
        ],
        [
         "43",
         "00339028",
         "1961",
         "100.0"
        ],
        [
         "44",
         "00339031",
         "1961",
         "100.0"
        ],
        [
         "45",
         "00339034",
         "1961",
         "100.0"
        ],
        [
         "46",
         "00340000",
         "1961",
         "100.0"
        ],
        [
         "47",
         "00340001",
         "1961",
         "100.0"
        ],
        [
         "48",
         "00340002",
         "1961",
         "100.0"
        ],
        [
         "49",
         "00340003",
         "1961",
         "100.0"
        ]
       ],
       "shape": {
        "columns": 3,
        "rows": 345868
       }
      },
      "text/html": [
       "<div>\n",
       "<style scoped>\n",
       "    .dataframe tbody tr th:only-of-type {\n",
       "        vertical-align: middle;\n",
       "    }\n",
       "\n",
       "    .dataframe tbody tr th {\n",
       "        vertical-align: top;\n",
       "    }\n",
       "\n",
       "    .dataframe thead th {\n",
       "        text-align: right;\n",
       "    }\n",
       "</style>\n",
       "<table border=\"1\" class=\"dataframe\">\n",
       "  <thead>\n",
       "    <tr style=\"text-align: right;\">\n",
       "      <th></th>\n",
       "      <th>gauge_code</th>\n",
       "      <th>year</th>\n",
       "      <th>p_availability</th>\n",
       "    </tr>\n",
       "  </thead>\n",
       "  <tbody>\n",
       "    <tr>\n",
       "      <th>0</th>\n",
       "      <td>00047000</td>\n",
       "      <td>1961</td>\n",
       "      <td>100.000000</td>\n",
       "    </tr>\n",
       "    <tr>\n",
       "      <th>1</th>\n",
       "      <td>00048000</td>\n",
       "      <td>1961</td>\n",
       "      <td>100.000000</td>\n",
       "    </tr>\n",
       "    <tr>\n",
       "      <th>2</th>\n",
       "      <td>00062000</td>\n",
       "      <td>1961</td>\n",
       "      <td>100.000000</td>\n",
       "    </tr>\n",
       "    <tr>\n",
       "      <th>3</th>\n",
       "      <td>00065000</td>\n",
       "      <td>1961</td>\n",
       "      <td>8.493151</td>\n",
       "    </tr>\n",
       "    <tr>\n",
       "      <th>4</th>\n",
       "      <td>00067000</td>\n",
       "      <td>1961</td>\n",
       "      <td>100.000000</td>\n",
       "    </tr>\n",
       "    <tr>\n",
       "      <th>...</th>\n",
       "      <td>...</td>\n",
       "      <td>...</td>\n",
       "      <td>...</td>\n",
       "    </tr>\n",
       "    <tr>\n",
       "      <th>345863</th>\n",
       "      <td>B803</td>\n",
       "      <td>2024</td>\n",
       "      <td>100.000000</td>\n",
       "    </tr>\n",
       "    <tr>\n",
       "      <th>345864</th>\n",
       "      <td>B804</td>\n",
       "      <td>2024</td>\n",
       "      <td>100.000000</td>\n",
       "    </tr>\n",
       "    <tr>\n",
       "      <th>345865</th>\n",
       "      <td>B806</td>\n",
       "      <td>2024</td>\n",
       "      <td>100.000000</td>\n",
       "    </tr>\n",
       "    <tr>\n",
       "      <th>345866</th>\n",
       "      <td>B807</td>\n",
       "      <td>2024</td>\n",
       "      <td>100.000000</td>\n",
       "    </tr>\n",
       "    <tr>\n",
       "      <th>345867</th>\n",
       "      <td>F501</td>\n",
       "      <td>2024</td>\n",
       "      <td>100.000000</td>\n",
       "    </tr>\n",
       "  </tbody>\n",
       "</table>\n",
       "<p>345868 rows × 3 columns</p>\n",
       "</div>"
      ],
      "text/plain": [
       "       gauge_code  year  p_availability\n",
       "0        00047000  1961      100.000000\n",
       "1        00048000  1961      100.000000\n",
       "2        00062000  1961      100.000000\n",
       "3        00065000  1961        8.493151\n",
       "4        00067000  1961      100.000000\n",
       "...           ...   ...             ...\n",
       "345863       B803  2024      100.000000\n",
       "345864       B804  2024      100.000000\n",
       "345865       B806  2024      100.000000\n",
       "345866       B807  2024      100.000000\n",
       "345867       F501  2024      100.000000\n",
       "\n",
       "[345868 rows x 3 columns]"
      ]
     },
     "execution_count": 10,
     "metadata": {},
     "output_type": "execute_result"
    }
   ],
   "source": [
    "df_teste = pd.read_hdf(cleaned_path, key = 'table_p_availability', encoding = 'utf-8')\n",
    "df_teste"
   ]
  }
 ],
 "metadata": {
  "kernelspec": {
   "display_name": "base",
   "language": "python",
   "name": "python3"
  },
  "language_info": {
   "codemirror_mode": {
    "name": "ipython",
    "version": 3
   },
   "file_extension": ".py",
   "mimetype": "text/x-python",
   "name": "python",
   "nbconvert_exporter": "python",
   "pygments_lexer": "ipython3",
   "version": "3.11.10"
  }
 },
 "nbformat": 4,
 "nbformat_minor": 2
}
