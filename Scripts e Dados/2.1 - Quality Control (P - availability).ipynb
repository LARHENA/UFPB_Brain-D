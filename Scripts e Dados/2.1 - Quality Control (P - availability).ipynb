{
 "cells": [
  {
   "cell_type": "code",
   "execution_count": 1,
   "metadata": {},
   "outputs": [],
   "source": [
    "import pandas as pd\n",
    "import numpy as np\n",
    "import h5py"
   ]
  },
  {
   "cell_type": "markdown",
   "metadata": {},
   "source": [
    "# Data processing"
   ]
  },
  {
   "cell_type": "code",
   "execution_count": 2,
   "metadata": {},
   "outputs": [
    {
     "name": "stdout",
     "output_type": "stream",
     "text": [
      "['table_data', 'table_data_filtered', 'table_info', 'table_p_availability', 'table_preclassif', 'table_q1_gaps', 'table_q2_week', 'table_q3_outliers', 'table_qc_info']\n"
     ]
    }
   ],
   "source": [
    "cleaned_path = './1 - Organized data gauge/BRAZIL/DATASETS/BRAZIL_DAILY_1961_2024_CLEANED.h5'\n",
    "with h5py.File(cleaned_path, 'r') as hdf:\n",
    "    keys = list(hdf.keys())\n",
    "    print(keys)"
   ]
  },
  {
   "cell_type": "code",
   "execution_count": null,
   "metadata": {},
   "outputs": [],
   "source": [
    "df_data = pd.read_hdf(cleaned_path, key = 'table_data_filtered', encoding = 'utf-8')\n",
    "df_data.head()"
   ]
  },
  {
   "cell_type": "code",
   "execution_count": null,
   "metadata": {},
   "outputs": [
    {
     "data": {
      "application/vnd.microsoft.datawrangler.viewer.v0+json": {
       "columns": [
        {
         "name": "index",
         "rawType": "int64",
         "type": "integer"
        },
        {
         "name": "name_station",
         "rawType": "object",
         "type": "string"
        },
        {
         "name": "gauge_code",
         "rawType": "object",
         "type": "string"
        },
        {
         "name": "city",
         "rawType": "object",
         "type": "string"
        },
        {
         "name": "state",
         "rawType": "object",
         "type": "string"
        },
        {
         "name": "responsible",
         "rawType": "object",
         "type": "string"
        },
        {
         "name": "source",
         "rawType": "object",
         "type": "string"
        },
        {
         "name": "state_abbreviation",
         "rawType": "object",
         "type": "string"
        },
        {
         "name": "lat",
         "rawType": "float64",
         "type": "float"
        },
        {
         "name": "long",
         "rawType": "float64",
         "type": "float"
        }
       ],
       "conversionMethod": "pd.DataFrame",
       "ref": "f572bc39-87b0-4ada-9510-e95f5b7d20f6",
       "rows": [
        [
         "18981",
         "SELVIRIA | S717",
         "S717",
         "SELVIRIA",
         "MATO GROSSO DO SUL",
         "INMET",
         "INMET",
         "MS",
         "-20.35138888",
         "-51.43027777"
        ],
        [
         "18980",
         "SANTA RITA DO PARDO | S716",
         "S716",
         "SANTA RITA DO PARDO",
         "MATO GROSSO DO SUL",
         "INMET",
         "INMET",
         "MS",
         "-21.305889",
         "-52.820375"
        ],
        [
         "18979",
         "RIBAS DO RIO PARDO | S715",
         "S715",
         "RIBAS DO RIO PARDO",
         "MATO GROSSO DO SUL",
         "INMET",
         "INMET",
         "MS",
         "-20.466694",
         "-53.763028"
        ],
        [
         "18978",
         "PEDRO GOMES | S714",
         "S714",
         "PEDRO GOMES",
         "MATO GROSSO DO SUL",
         "INMET",
         "INMET",
         "MS",
         "-18.07277777",
         "-54.54888888"
        ],
        [
         "18977",
         "NOVA ANDRADINA | S713",
         "S713",
         "NOVA ANDRADINA",
         "MATO GROSSO DO SUL",
         "INMET",
         "INMET",
         "MS",
         "-22.0786111",
         "-53.46583333"
        ]
       ],
       "shape": {
        "columns": 9,
        "rows": 5
       }
      },
      "text/html": [
       "<div>\n",
       "<style scoped>\n",
       "    .dataframe tbody tr th:only-of-type {\n",
       "        vertical-align: middle;\n",
       "    }\n",
       "\n",
       "    .dataframe tbody tr th {\n",
       "        vertical-align: top;\n",
       "    }\n",
       "\n",
       "    .dataframe thead th {\n",
       "        text-align: right;\n",
       "    }\n",
       "</style>\n",
       "<table border=\"1\" class=\"dataframe\">\n",
       "  <thead>\n",
       "    <tr style=\"text-align: right;\">\n",
       "      <th></th>\n",
       "      <th>name_station</th>\n",
       "      <th>gauge_code</th>\n",
       "      <th>city</th>\n",
       "      <th>state</th>\n",
       "      <th>responsible</th>\n",
       "      <th>source</th>\n",
       "      <th>state_abbreviation</th>\n",
       "      <th>lat</th>\n",
       "      <th>long</th>\n",
       "    </tr>\n",
       "  </thead>\n",
       "  <tbody>\n",
       "    <tr>\n",
       "      <th>18981</th>\n",
       "      <td>SELVIRIA | S717</td>\n",
       "      <td>S717</td>\n",
       "      <td>SELVIRIA</td>\n",
       "      <td>MATO GROSSO DO SUL</td>\n",
       "      <td>INMET</td>\n",
       "      <td>INMET</td>\n",
       "      <td>MS</td>\n",
       "      <td>-20.351389</td>\n",
       "      <td>-51.430278</td>\n",
       "    </tr>\n",
       "    <tr>\n",
       "      <th>18980</th>\n",
       "      <td>SANTA RITA DO PARDO | S716</td>\n",
       "      <td>S716</td>\n",
       "      <td>SANTA RITA DO PARDO</td>\n",
       "      <td>MATO GROSSO DO SUL</td>\n",
       "      <td>INMET</td>\n",
       "      <td>INMET</td>\n",
       "      <td>MS</td>\n",
       "      <td>-21.305889</td>\n",
       "      <td>-52.820375</td>\n",
       "    </tr>\n",
       "    <tr>\n",
       "      <th>18979</th>\n",
       "      <td>RIBAS DO RIO PARDO | S715</td>\n",
       "      <td>S715</td>\n",
       "      <td>RIBAS DO RIO PARDO</td>\n",
       "      <td>MATO GROSSO DO SUL</td>\n",
       "      <td>INMET</td>\n",
       "      <td>INMET</td>\n",
       "      <td>MS</td>\n",
       "      <td>-20.466694</td>\n",
       "      <td>-53.763028</td>\n",
       "    </tr>\n",
       "    <tr>\n",
       "      <th>18978</th>\n",
       "      <td>PEDRO GOMES | S714</td>\n",
       "      <td>S714</td>\n",
       "      <td>PEDRO GOMES</td>\n",
       "      <td>MATO GROSSO DO SUL</td>\n",
       "      <td>INMET</td>\n",
       "      <td>INMET</td>\n",
       "      <td>MS</td>\n",
       "      <td>-18.072778</td>\n",
       "      <td>-54.548889</td>\n",
       "    </tr>\n",
       "    <tr>\n",
       "      <th>18977</th>\n",
       "      <td>NOVA ANDRADINA | S713</td>\n",
       "      <td>S713</td>\n",
       "      <td>NOVA ANDRADINA</td>\n",
       "      <td>MATO GROSSO DO SUL</td>\n",
       "      <td>INMET</td>\n",
       "      <td>INMET</td>\n",
       "      <td>MS</td>\n",
       "      <td>-22.078611</td>\n",
       "      <td>-53.465833</td>\n",
       "    </tr>\n",
       "  </tbody>\n",
       "</table>\n",
       "</div>"
      ],
      "text/plain": [
       "                     name_station gauge_code                 city  \\\n",
       "18981             SELVIRIA | S717       S717             SELVIRIA   \n",
       "18980  SANTA RITA DO PARDO | S716       S716  SANTA RITA DO PARDO   \n",
       "18979   RIBAS DO RIO PARDO | S715       S715   RIBAS DO RIO PARDO   \n",
       "18978          PEDRO GOMES | S714       S714          PEDRO GOMES   \n",
       "18977       NOVA ANDRADINA | S713       S713       NOVA ANDRADINA   \n",
       "\n",
       "                    state responsible source state_abbreviation        lat  \\\n",
       "18981  MATO GROSSO DO SUL       INMET  INMET                 MS -20.351389   \n",
       "18980  MATO GROSSO DO SUL       INMET  INMET                 MS -21.305889   \n",
       "18979  MATO GROSSO DO SUL       INMET  INMET                 MS -20.466694   \n",
       "18978  MATO GROSSO DO SUL       INMET  INMET                 MS -18.072778   \n",
       "18977  MATO GROSSO DO SUL       INMET  INMET                 MS -22.078611   \n",
       "\n",
       "            long  \n",
       "18981 -51.430278  \n",
       "18980 -52.820375  \n",
       "18979 -53.763028  \n",
       "18978 -54.548889  \n",
       "18977 -53.465833  "
      ]
     },
     "execution_count": 7,
     "metadata": {},
     "output_type": "execute_result"
    }
   ],
   "source": [
    "df_info = pd.read_hdf(cleaned_path, key = 'table_info', encoding = 'utf-8')\n",
    "df_info.head()"
   ]
  },
  {
   "cell_type": "code",
   "execution_count": null,
   "metadata": {},
   "outputs": [
    {
     "data": {
      "application/vnd.microsoft.datawrangler.viewer.v0+json": {
       "columns": [
        {
         "name": "index",
         "rawType": "int64",
         "type": "integer"
        },
        {
         "name": "gauge_code",
         "rawType": "object",
         "type": "string"
        },
        {
         "name": "datetime",
         "rawType": "datetime64[ns]",
         "type": "datetime"
        },
        {
         "name": "rain_mm",
         "rawType": "float64",
         "type": "float"
        },
        {
         "name": "name_station",
         "rawType": "object",
         "type": "string"
        },
        {
         "name": "city",
         "rawType": "object",
         "type": "string"
        },
        {
         "name": "state",
         "rawType": "object",
         "type": "string"
        },
        {
         "name": "responsible",
         "rawType": "object",
         "type": "string"
        },
        {
         "name": "source",
         "rawType": "object",
         "type": "string"
        },
        {
         "name": "state_abbreviation",
         "rawType": "object",
         "type": "string"
        },
        {
         "name": "lat",
         "rawType": "float64",
         "type": "float"
        },
        {
         "name": "long",
         "rawType": "float64",
         "type": "float"
        },
        {
         "name": "year",
         "rawType": "int32",
         "type": "integer"
        }
       ],
       "conversionMethod": "pd.DataFrame",
       "ref": "149f115b-e83c-441e-be13-7d22b5d2a4a5",
       "rows": [
        [
         "0",
         "00047000",
         "1961-01-01 00:00:00",
         "0.0",
         "SALINÓPOLIS",
         "SALINÓPOLIS",
         "PARÁ",
         "INMET",
         "HIDROWEB",
         "PA",
         "-0.65",
         "-47.55",
         "1961"
        ],
        [
         "1",
         "00047000",
         "1961-01-02 00:00:00",
         "0.0",
         "SALINÓPOLIS",
         "SALINÓPOLIS",
         "PARÁ",
         "INMET",
         "HIDROWEB",
         "PA",
         "-0.65",
         "-47.55",
         "1961"
        ],
        [
         "2",
         "00047000",
         "1961-01-03 00:00:00",
         "0.0",
         "SALINÓPOLIS",
         "SALINÓPOLIS",
         "PARÁ",
         "INMET",
         "HIDROWEB",
         "PA",
         "-0.65",
         "-47.55",
         "1961"
        ],
        [
         "3",
         "00047000",
         "1961-01-04 00:00:00",
         "0.0",
         "SALINÓPOLIS",
         "SALINÓPOLIS",
         "PARÁ",
         "INMET",
         "HIDROWEB",
         "PA",
         "-0.65",
         "-47.55",
         "1961"
        ],
        [
         "4",
         "00047000",
         "1961-01-05 00:00:00",
         "0.0",
         "SALINÓPOLIS",
         "SALINÓPOLIS",
         "PARÁ",
         "INMET",
         "HIDROWEB",
         "PA",
         "-0.65",
         "-47.55",
         "1961"
        ],
        [
         "5",
         "00047000",
         "1961-01-06 00:00:00",
         "0.0",
         "SALINÓPOLIS",
         "SALINÓPOLIS",
         "PARÁ",
         "INMET",
         "HIDROWEB",
         "PA",
         "-0.65",
         "-47.55",
         "1961"
        ],
        [
         "6",
         "00047000",
         "1961-01-07 00:00:00",
         "0.0",
         "SALINÓPOLIS",
         "SALINÓPOLIS",
         "PARÁ",
         "INMET",
         "HIDROWEB",
         "PA",
         "-0.65",
         "-47.55",
         "1961"
        ],
        [
         "7",
         "00047000",
         "1961-01-08 00:00:00",
         "0.0",
         "SALINÓPOLIS",
         "SALINÓPOLIS",
         "PARÁ",
         "INMET",
         "HIDROWEB",
         "PA",
         "-0.65",
         "-47.55",
         "1961"
        ],
        [
         "8",
         "00047000",
         "1961-01-09 00:00:00",
         "0.0",
         "SALINÓPOLIS",
         "SALINÓPOLIS",
         "PARÁ",
         "INMET",
         "HIDROWEB",
         "PA",
         "-0.65",
         "-47.55",
         "1961"
        ],
        [
         "9",
         "00047000",
         "1961-01-10 00:00:00",
         "0.0",
         "SALINÓPOLIS",
         "SALINÓPOLIS",
         "PARÁ",
         "INMET",
         "HIDROWEB",
         "PA",
         "-0.65",
         "-47.55",
         "1961"
        ],
        [
         "10",
         "00047000",
         "1961-01-11 00:00:00",
         "0.0",
         "SALINÓPOLIS",
         "SALINÓPOLIS",
         "PARÁ",
         "INMET",
         "HIDROWEB",
         "PA",
         "-0.65",
         "-47.55",
         "1961"
        ],
        [
         "11",
         "00047000",
         "1961-01-12 00:00:00",
         "0.0",
         "SALINÓPOLIS",
         "SALINÓPOLIS",
         "PARÁ",
         "INMET",
         "HIDROWEB",
         "PA",
         "-0.65",
         "-47.55",
         "1961"
        ],
        [
         "12",
         "00047000",
         "1961-01-13 00:00:00",
         "0.0",
         "SALINÓPOLIS",
         "SALINÓPOLIS",
         "PARÁ",
         "INMET",
         "HIDROWEB",
         "PA",
         "-0.65",
         "-47.55",
         "1961"
        ],
        [
         "13",
         "00047000",
         "1961-01-14 00:00:00",
         "0.0",
         "SALINÓPOLIS",
         "SALINÓPOLIS",
         "PARÁ",
         "INMET",
         "HIDROWEB",
         "PA",
         "-0.65",
         "-47.55",
         "1961"
        ],
        [
         "14",
         "00047000",
         "1961-01-15 00:00:00",
         "0.0",
         "SALINÓPOLIS",
         "SALINÓPOLIS",
         "PARÁ",
         "INMET",
         "HIDROWEB",
         "PA",
         "-0.65",
         "-47.55",
         "1961"
        ],
        [
         "15",
         "00047000",
         "1961-01-16 00:00:00",
         "0.0",
         "SALINÓPOLIS",
         "SALINÓPOLIS",
         "PARÁ",
         "INMET",
         "HIDROWEB",
         "PA",
         "-0.65",
         "-47.55",
         "1961"
        ],
        [
         "16",
         "00047000",
         "1961-01-17 00:00:00",
         "17.0",
         "SALINÓPOLIS",
         "SALINÓPOLIS",
         "PARÁ",
         "INMET",
         "HIDROWEB",
         "PA",
         "-0.65",
         "-47.55",
         "1961"
        ],
        [
         "17",
         "00047000",
         "1961-01-18 00:00:00",
         "22.6",
         "SALINÓPOLIS",
         "SALINÓPOLIS",
         "PARÁ",
         "INMET",
         "HIDROWEB",
         "PA",
         "-0.65",
         "-47.55",
         "1961"
        ],
        [
         "18",
         "00047000",
         "1961-01-19 00:00:00",
         "6.4",
         "SALINÓPOLIS",
         "SALINÓPOLIS",
         "PARÁ",
         "INMET",
         "HIDROWEB",
         "PA",
         "-0.65",
         "-47.55",
         "1961"
        ],
        [
         "19",
         "00047000",
         "1961-01-20 00:00:00",
         "5.6",
         "SALINÓPOLIS",
         "SALINÓPOLIS",
         "PARÁ",
         "INMET",
         "HIDROWEB",
         "PA",
         "-0.65",
         "-47.55",
         "1961"
        ],
        [
         "20",
         "00047000",
         "1961-01-21 00:00:00",
         "23.4",
         "SALINÓPOLIS",
         "SALINÓPOLIS",
         "PARÁ",
         "INMET",
         "HIDROWEB",
         "PA",
         "-0.65",
         "-47.55",
         "1961"
        ],
        [
         "21",
         "00047000",
         "1961-01-22 00:00:00",
         "0.0",
         "SALINÓPOLIS",
         "SALINÓPOLIS",
         "PARÁ",
         "INMET",
         "HIDROWEB",
         "PA",
         "-0.65",
         "-47.55",
         "1961"
        ],
        [
         "22",
         "00047000",
         "1961-01-23 00:00:00",
         "0.0",
         "SALINÓPOLIS",
         "SALINÓPOLIS",
         "PARÁ",
         "INMET",
         "HIDROWEB",
         "PA",
         "-0.65",
         "-47.55",
         "1961"
        ],
        [
         "23",
         "00047000",
         "1961-01-24 00:00:00",
         "0.0",
         "SALINÓPOLIS",
         "SALINÓPOLIS",
         "PARÁ",
         "INMET",
         "HIDROWEB",
         "PA",
         "-0.65",
         "-47.55",
         "1961"
        ],
        [
         "24",
         "00047000",
         "1961-01-25 00:00:00",
         "0.0",
         "SALINÓPOLIS",
         "SALINÓPOLIS",
         "PARÁ",
         "INMET",
         "HIDROWEB",
         "PA",
         "-0.65",
         "-47.55",
         "1961"
        ],
        [
         "25",
         "00047000",
         "1961-01-26 00:00:00",
         "23.0",
         "SALINÓPOLIS",
         "SALINÓPOLIS",
         "PARÁ",
         "INMET",
         "HIDROWEB",
         "PA",
         "-0.65",
         "-47.55",
         "1961"
        ],
        [
         "26",
         "00047000",
         "1961-01-27 00:00:00",
         "5.8",
         "SALINÓPOLIS",
         "SALINÓPOLIS",
         "PARÁ",
         "INMET",
         "HIDROWEB",
         "PA",
         "-0.65",
         "-47.55",
         "1961"
        ],
        [
         "27",
         "00047000",
         "1961-01-28 00:00:00",
         "0.0",
         "SALINÓPOLIS",
         "SALINÓPOLIS",
         "PARÁ",
         "INMET",
         "HIDROWEB",
         "PA",
         "-0.65",
         "-47.55",
         "1961"
        ],
        [
         "28",
         "00047000",
         "1961-01-29 00:00:00",
         "0.0",
         "SALINÓPOLIS",
         "SALINÓPOLIS",
         "PARÁ",
         "INMET",
         "HIDROWEB",
         "PA",
         "-0.65",
         "-47.55",
         "1961"
        ],
        [
         "29",
         "00047000",
         "1961-01-30 00:00:00",
         "16.4",
         "SALINÓPOLIS",
         "SALINÓPOLIS",
         "PARÁ",
         "INMET",
         "HIDROWEB",
         "PA",
         "-0.65",
         "-47.55",
         "1961"
        ],
        [
         "30",
         "00047000",
         "1961-01-31 00:00:00",
         "0.0",
         "SALINÓPOLIS",
         "SALINÓPOLIS",
         "PARÁ",
         "INMET",
         "HIDROWEB",
         "PA",
         "-0.65",
         "-47.55",
         "1961"
        ],
        [
         "31",
         "00047000",
         "1961-02-01 00:00:00",
         "5.8",
         "SALINÓPOLIS",
         "SALINÓPOLIS",
         "PARÁ",
         "INMET",
         "HIDROWEB",
         "PA",
         "-0.65",
         "-47.55",
         "1961"
        ],
        [
         "32",
         "00047000",
         "1961-02-02 00:00:00",
         "3.2",
         "SALINÓPOLIS",
         "SALINÓPOLIS",
         "PARÁ",
         "INMET",
         "HIDROWEB",
         "PA",
         "-0.65",
         "-47.55",
         "1961"
        ],
        [
         "33",
         "00047000",
         "1961-02-03 00:00:00",
         "0.0",
         "SALINÓPOLIS",
         "SALINÓPOLIS",
         "PARÁ",
         "INMET",
         "HIDROWEB",
         "PA",
         "-0.65",
         "-47.55",
         "1961"
        ],
        [
         "34",
         "00047000",
         "1961-02-04 00:00:00",
         "16.8",
         "SALINÓPOLIS",
         "SALINÓPOLIS",
         "PARÁ",
         "INMET",
         "HIDROWEB",
         "PA",
         "-0.65",
         "-47.55",
         "1961"
        ],
        [
         "35",
         "00047000",
         "1961-02-05 00:00:00",
         "31.2",
         "SALINÓPOLIS",
         "SALINÓPOLIS",
         "PARÁ",
         "INMET",
         "HIDROWEB",
         "PA",
         "-0.65",
         "-47.55",
         "1961"
        ],
        [
         "36",
         "00047000",
         "1961-02-06 00:00:00",
         "13.4",
         "SALINÓPOLIS",
         "SALINÓPOLIS",
         "PARÁ",
         "INMET",
         "HIDROWEB",
         "PA",
         "-0.65",
         "-47.55",
         "1961"
        ],
        [
         "37",
         "00047000",
         "1961-02-07 00:00:00",
         "12.2",
         "SALINÓPOLIS",
         "SALINÓPOLIS",
         "PARÁ",
         "INMET",
         "HIDROWEB",
         "PA",
         "-0.65",
         "-47.55",
         "1961"
        ],
        [
         "38",
         "00047000",
         "1961-02-08 00:00:00",
         "0.0",
         "SALINÓPOLIS",
         "SALINÓPOLIS",
         "PARÁ",
         "INMET",
         "HIDROWEB",
         "PA",
         "-0.65",
         "-47.55",
         "1961"
        ],
        [
         "39",
         "00047000",
         "1961-02-09 00:00:00",
         "6.8",
         "SALINÓPOLIS",
         "SALINÓPOLIS",
         "PARÁ",
         "INMET",
         "HIDROWEB",
         "PA",
         "-0.65",
         "-47.55",
         "1961"
        ],
        [
         "40",
         "00047000",
         "1961-02-10 00:00:00",
         "0.0",
         "SALINÓPOLIS",
         "SALINÓPOLIS",
         "PARÁ",
         "INMET",
         "HIDROWEB",
         "PA",
         "-0.65",
         "-47.55",
         "1961"
        ],
        [
         "41",
         "00047000",
         "1961-02-11 00:00:00",
         "0.0",
         "SALINÓPOLIS",
         "SALINÓPOLIS",
         "PARÁ",
         "INMET",
         "HIDROWEB",
         "PA",
         "-0.65",
         "-47.55",
         "1961"
        ],
        [
         "42",
         "00047000",
         "1961-02-12 00:00:00",
         "0.0",
         "SALINÓPOLIS",
         "SALINÓPOLIS",
         "PARÁ",
         "INMET",
         "HIDROWEB",
         "PA",
         "-0.65",
         "-47.55",
         "1961"
        ],
        [
         "43",
         "00047000",
         "1961-02-13 00:00:00",
         "0.0",
         "SALINÓPOLIS",
         "SALINÓPOLIS",
         "PARÁ",
         "INMET",
         "HIDROWEB",
         "PA",
         "-0.65",
         "-47.55",
         "1961"
        ],
        [
         "44",
         "00047000",
         "1961-02-14 00:00:00",
         "0.0",
         "SALINÓPOLIS",
         "SALINÓPOLIS",
         "PARÁ",
         "INMET",
         "HIDROWEB",
         "PA",
         "-0.65",
         "-47.55",
         "1961"
        ],
        [
         "45",
         "00047000",
         "1961-02-15 00:00:00",
         "34.8",
         "SALINÓPOLIS",
         "SALINÓPOLIS",
         "PARÁ",
         "INMET",
         "HIDROWEB",
         "PA",
         "-0.65",
         "-47.55",
         "1961"
        ],
        [
         "46",
         "00047000",
         "1961-02-16 00:00:00",
         "79.2",
         "SALINÓPOLIS",
         "SALINÓPOLIS",
         "PARÁ",
         "INMET",
         "HIDROWEB",
         "PA",
         "-0.65",
         "-47.55",
         "1961"
        ],
        [
         "47",
         "00047000",
         "1961-02-17 00:00:00",
         "34.4",
         "SALINÓPOLIS",
         "SALINÓPOLIS",
         "PARÁ",
         "INMET",
         "HIDROWEB",
         "PA",
         "-0.65",
         "-47.55",
         "1961"
        ],
        [
         "48",
         "00047000",
         "1961-02-18 00:00:00",
         "41.8",
         "SALINÓPOLIS",
         "SALINÓPOLIS",
         "PARÁ",
         "INMET",
         "HIDROWEB",
         "PA",
         "-0.65",
         "-47.55",
         "1961"
        ],
        [
         "49",
         "00047000",
         "1961-02-19 00:00:00",
         "90.6",
         "SALINÓPOLIS",
         "SALINÓPOLIS",
         "PARÁ",
         "INMET",
         "HIDROWEB",
         "PA",
         "-0.65",
         "-47.55",
         "1961"
        ]
       ],
       "shape": {
        "columns": 12,
        "rows": 123593345
       }
      },
      "text/html": [
       "<div>\n",
       "<style scoped>\n",
       "    .dataframe tbody tr th:only-of-type {\n",
       "        vertical-align: middle;\n",
       "    }\n",
       "\n",
       "    .dataframe tbody tr th {\n",
       "        vertical-align: top;\n",
       "    }\n",
       "\n",
       "    .dataframe thead th {\n",
       "        text-align: right;\n",
       "    }\n",
       "</style>\n",
       "<table border=\"1\" class=\"dataframe\">\n",
       "  <thead>\n",
       "    <tr style=\"text-align: right;\">\n",
       "      <th></th>\n",
       "      <th>gauge_code</th>\n",
       "      <th>datetime</th>\n",
       "      <th>rain_mm</th>\n",
       "      <th>name_station</th>\n",
       "      <th>city</th>\n",
       "      <th>state</th>\n",
       "      <th>responsible</th>\n",
       "      <th>source</th>\n",
       "      <th>state_abbreviation</th>\n",
       "      <th>lat</th>\n",
       "      <th>long</th>\n",
       "      <th>year</th>\n",
       "    </tr>\n",
       "  </thead>\n",
       "  <tbody>\n",
       "    <tr>\n",
       "      <th>0</th>\n",
       "      <td>00047000</td>\n",
       "      <td>1961-01-01</td>\n",
       "      <td>0.0</td>\n",
       "      <td>SALINÓPOLIS</td>\n",
       "      <td>SALINÓPOLIS</td>\n",
       "      <td>PARÁ</td>\n",
       "      <td>INMET</td>\n",
       "      <td>HIDROWEB</td>\n",
       "      <td>PA</td>\n",
       "      <td>-0.650000</td>\n",
       "      <td>-47.550000</td>\n",
       "      <td>1961</td>\n",
       "    </tr>\n",
       "    <tr>\n",
       "      <th>1</th>\n",
       "      <td>00047000</td>\n",
       "      <td>1961-01-02</td>\n",
       "      <td>0.0</td>\n",
       "      <td>SALINÓPOLIS</td>\n",
       "      <td>SALINÓPOLIS</td>\n",
       "      <td>PARÁ</td>\n",
       "      <td>INMET</td>\n",
       "      <td>HIDROWEB</td>\n",
       "      <td>PA</td>\n",
       "      <td>-0.650000</td>\n",
       "      <td>-47.550000</td>\n",
       "      <td>1961</td>\n",
       "    </tr>\n",
       "    <tr>\n",
       "      <th>2</th>\n",
       "      <td>00047000</td>\n",
       "      <td>1961-01-03</td>\n",
       "      <td>0.0</td>\n",
       "      <td>SALINÓPOLIS</td>\n",
       "      <td>SALINÓPOLIS</td>\n",
       "      <td>PARÁ</td>\n",
       "      <td>INMET</td>\n",
       "      <td>HIDROWEB</td>\n",
       "      <td>PA</td>\n",
       "      <td>-0.650000</td>\n",
       "      <td>-47.550000</td>\n",
       "      <td>1961</td>\n",
       "    </tr>\n",
       "    <tr>\n",
       "      <th>3</th>\n",
       "      <td>00047000</td>\n",
       "      <td>1961-01-04</td>\n",
       "      <td>0.0</td>\n",
       "      <td>SALINÓPOLIS</td>\n",
       "      <td>SALINÓPOLIS</td>\n",
       "      <td>PARÁ</td>\n",
       "      <td>INMET</td>\n",
       "      <td>HIDROWEB</td>\n",
       "      <td>PA</td>\n",
       "      <td>-0.650000</td>\n",
       "      <td>-47.550000</td>\n",
       "      <td>1961</td>\n",
       "    </tr>\n",
       "    <tr>\n",
       "      <th>4</th>\n",
       "      <td>00047000</td>\n",
       "      <td>1961-01-05</td>\n",
       "      <td>0.0</td>\n",
       "      <td>SALINÓPOLIS</td>\n",
       "      <td>SALINÓPOLIS</td>\n",
       "      <td>PARÁ</td>\n",
       "      <td>INMET</td>\n",
       "      <td>HIDROWEB</td>\n",
       "      <td>PA</td>\n",
       "      <td>-0.650000</td>\n",
       "      <td>-47.550000</td>\n",
       "      <td>1961</td>\n",
       "    </tr>\n",
       "    <tr>\n",
       "      <th>...</th>\n",
       "      <td>...</td>\n",
       "      <td>...</td>\n",
       "      <td>...</td>\n",
       "      <td>...</td>\n",
       "      <td>...</td>\n",
       "      <td>...</td>\n",
       "      <td>...</td>\n",
       "      <td>...</td>\n",
       "      <td>...</td>\n",
       "      <td>...</td>\n",
       "      <td>...</td>\n",
       "      <td>...</td>\n",
       "    </tr>\n",
       "    <tr>\n",
       "      <th>123593340</th>\n",
       "      <td>S717</td>\n",
       "      <td>2021-12-27</td>\n",
       "      <td>0.0</td>\n",
       "      <td>SELVIRIA | S717</td>\n",
       "      <td>SELVIRIA</td>\n",
       "      <td>MATO GROSSO DO SUL</td>\n",
       "      <td>INMET</td>\n",
       "      <td>INMET</td>\n",
       "      <td>MS</td>\n",
       "      <td>-20.351389</td>\n",
       "      <td>-51.430278</td>\n",
       "      <td>2021</td>\n",
       "    </tr>\n",
       "    <tr>\n",
       "      <th>123593341</th>\n",
       "      <td>S717</td>\n",
       "      <td>2021-12-28</td>\n",
       "      <td>0.0</td>\n",
       "      <td>SELVIRIA | S717</td>\n",
       "      <td>SELVIRIA</td>\n",
       "      <td>MATO GROSSO DO SUL</td>\n",
       "      <td>INMET</td>\n",
       "      <td>INMET</td>\n",
       "      <td>MS</td>\n",
       "      <td>-20.351389</td>\n",
       "      <td>-51.430278</td>\n",
       "      <td>2021</td>\n",
       "    </tr>\n",
       "    <tr>\n",
       "      <th>123593342</th>\n",
       "      <td>S717</td>\n",
       "      <td>2021-12-29</td>\n",
       "      <td>0.0</td>\n",
       "      <td>SELVIRIA | S717</td>\n",
       "      <td>SELVIRIA</td>\n",
       "      <td>MATO GROSSO DO SUL</td>\n",
       "      <td>INMET</td>\n",
       "      <td>INMET</td>\n",
       "      <td>MS</td>\n",
       "      <td>-20.351389</td>\n",
       "      <td>-51.430278</td>\n",
       "      <td>2021</td>\n",
       "    </tr>\n",
       "    <tr>\n",
       "      <th>123593343</th>\n",
       "      <td>S717</td>\n",
       "      <td>2021-12-30</td>\n",
       "      <td>0.0</td>\n",
       "      <td>SELVIRIA | S717</td>\n",
       "      <td>SELVIRIA</td>\n",
       "      <td>MATO GROSSO DO SUL</td>\n",
       "      <td>INMET</td>\n",
       "      <td>INMET</td>\n",
       "      <td>MS</td>\n",
       "      <td>-20.351389</td>\n",
       "      <td>-51.430278</td>\n",
       "      <td>2021</td>\n",
       "    </tr>\n",
       "    <tr>\n",
       "      <th>123593344</th>\n",
       "      <td>S717</td>\n",
       "      <td>2021-12-31</td>\n",
       "      <td>0.0</td>\n",
       "      <td>SELVIRIA | S717</td>\n",
       "      <td>SELVIRIA</td>\n",
       "      <td>MATO GROSSO DO SUL</td>\n",
       "      <td>INMET</td>\n",
       "      <td>INMET</td>\n",
       "      <td>MS</td>\n",
       "      <td>-20.351389</td>\n",
       "      <td>-51.430278</td>\n",
       "      <td>2021</td>\n",
       "    </tr>\n",
       "  </tbody>\n",
       "</table>\n",
       "<p>123593345 rows × 12 columns</p>\n",
       "</div>"
      ],
      "text/plain": [
       "          gauge_code   datetime  rain_mm     name_station         city  \\\n",
       "0           00047000 1961-01-01      0.0      SALINÓPOLIS  SALINÓPOLIS   \n",
       "1           00047000 1961-01-02      0.0      SALINÓPOLIS  SALINÓPOLIS   \n",
       "2           00047000 1961-01-03      0.0      SALINÓPOLIS  SALINÓPOLIS   \n",
       "3           00047000 1961-01-04      0.0      SALINÓPOLIS  SALINÓPOLIS   \n",
       "4           00047000 1961-01-05      0.0      SALINÓPOLIS  SALINÓPOLIS   \n",
       "...              ...        ...      ...              ...          ...   \n",
       "123593340       S717 2021-12-27      0.0  SELVIRIA | S717     SELVIRIA   \n",
       "123593341       S717 2021-12-28      0.0  SELVIRIA | S717     SELVIRIA   \n",
       "123593342       S717 2021-12-29      0.0  SELVIRIA | S717     SELVIRIA   \n",
       "123593343       S717 2021-12-30      0.0  SELVIRIA | S717     SELVIRIA   \n",
       "123593344       S717 2021-12-31      0.0  SELVIRIA | S717     SELVIRIA   \n",
       "\n",
       "                        state responsible    source state_abbreviation  \\\n",
       "0                        PARÁ       INMET  HIDROWEB                 PA   \n",
       "1                        PARÁ       INMET  HIDROWEB                 PA   \n",
       "2                        PARÁ       INMET  HIDROWEB                 PA   \n",
       "3                        PARÁ       INMET  HIDROWEB                 PA   \n",
       "4                        PARÁ       INMET  HIDROWEB                 PA   \n",
       "...                       ...         ...       ...                ...   \n",
       "123593340  MATO GROSSO DO SUL       INMET     INMET                 MS   \n",
       "123593341  MATO GROSSO DO SUL       INMET     INMET                 MS   \n",
       "123593342  MATO GROSSO DO SUL       INMET     INMET                 MS   \n",
       "123593343  MATO GROSSO DO SUL       INMET     INMET                 MS   \n",
       "123593344  MATO GROSSO DO SUL       INMET     INMET                 MS   \n",
       "\n",
       "                 lat       long  year  \n",
       "0          -0.650000 -47.550000  1961  \n",
       "1          -0.650000 -47.550000  1961  \n",
       "2          -0.650000 -47.550000  1961  \n",
       "3          -0.650000 -47.550000  1961  \n",
       "4          -0.650000 -47.550000  1961  \n",
       "...              ...        ...   ...  \n",
       "123593340 -20.351389 -51.430278  2021  \n",
       "123593341 -20.351389 -51.430278  2021  \n",
       "123593342 -20.351389 -51.430278  2021  \n",
       "123593343 -20.351389 -51.430278  2021  \n",
       "123593344 -20.351389 -51.430278  2021  \n",
       "\n",
       "[123593345 rows x 12 columns]"
      ]
     },
     "execution_count": 8,
     "metadata": {},
     "output_type": "execute_result"
    }
   ],
   "source": [
    "df_complete_info = pd.merge(df_data, df_info, on = 'gauge_code', how = 'inner')\n",
    "del df_data, df_info\n",
    "df_complete_info['year'] = df_complete_info['datetime'].dt.year\n",
    "df_complete_info"
   ]
  },
  {
   "cell_type": "code",
   "execution_count": null,
   "metadata": {},
   "outputs": [],
   "source": [
    "max(df_complete_info['rain_mm'])"
   ]
  },
  {
   "cell_type": "code",
   "execution_count": null,
   "metadata": {},
   "outputs": [
    {
     "data": {
      "application/vnd.microsoft.datawrangler.viewer.v0+json": {
       "columns": [
        {
         "name": "index",
         "rawType": "int64",
         "type": "integer"
        },
        {
         "name": "gauge_code",
         "rawType": "object",
         "type": "string"
        },
        {
         "name": "year",
         "rawType": "int64",
         "type": "integer"
        },
        {
         "name": "p_availability",
         "rawType": "float64",
         "type": "float"
        }
       ],
       "conversionMethod": "pd.DataFrame",
       "ref": "d142a018-35c0-45e3-957d-fb7761fa0efb",
       "rows": [
        [
         "0",
         "00047000",
         "1961",
         "100.0"
        ],
        [
         "1",
         "00048000",
         "1961",
         "100.0"
        ],
        [
         "2",
         "00062000",
         "1961",
         "100.0"
        ],
        [
         "3",
         "00065000",
         "1961",
         "8.493150684931507"
        ],
        [
         "4",
         "00067000",
         "1961",
         "100.0"
        ],
        [
         "5",
         "00145004",
         "1961",
         "100.0"
        ],
        [
         "6",
         "00148001",
         "1961",
         "100.0"
        ],
        [
         "7",
         "00148002",
         "1961",
         "100.0"
        ],
        [
         "8",
         "00155001",
         "1961",
         "100.0"
        ],
        [
         "9",
         "00240000",
         "1961",
         "100.0"
        ],
        [
         "10",
         "00240001",
         "1961",
         "100.0"
        ],
        [
         "11",
         "00240005",
         "1961",
         "100.0"
        ],
        [
         "12",
         "00241000",
         "1961",
         "100.0"
        ],
        [
         "13",
         "00244004",
         "1961",
         "100.0"
        ],
        [
         "14",
         "00244006",
         "1961",
         "100.0"
        ],
        [
         "15",
         "00244007",
         "1961",
         "100.0"
        ],
        [
         "16",
         "00254001",
         "1961",
         "100.0"
        ],
        [
         "17",
         "00256000",
         "1961",
         "100.0"
        ],
        [
         "18",
         "00266000",
         "1961",
         "100.0"
        ],
        [
         "19",
         "00332000",
         "1961",
         "100.0"
        ],
        [
         "20",
         "00338000",
         "1961",
         "100.0"
        ],
        [
         "21",
         "00338001",
         "1961",
         "100.0"
        ],
        [
         "22",
         "00338002",
         "1961",
         "100.0"
        ],
        [
         "23",
         "00338003",
         "1961",
         "16.71232876712329"
        ],
        [
         "24",
         "00338005",
         "1961",
         "100.0"
        ],
        [
         "25",
         "00338007",
         "1961",
         "100.0"
        ],
        [
         "26",
         "00338008",
         "1961",
         "100.0"
        ],
        [
         "27",
         "00338009",
         "1961",
         "100.0"
        ],
        [
         "28",
         "00338016",
         "1961",
         "100.0"
        ],
        [
         "29",
         "00338018",
         "1961",
         "100.0"
        ],
        [
         "30",
         "00338026",
         "1961",
         "100.0"
        ],
        [
         "31",
         "00339002",
         "1961",
         "100.0"
        ],
        [
         "32",
         "00339004",
         "1961",
         "100.0"
        ],
        [
         "33",
         "00339007",
         "1961",
         "100.0"
        ],
        [
         "34",
         "00339009",
         "1961",
         "100.0"
        ],
        [
         "35",
         "00339014",
         "1961",
         "100.0"
        ],
        [
         "36",
         "00339016",
         "1961",
         "100.0"
        ],
        [
         "37",
         "00339018",
         "1961",
         "100.0"
        ],
        [
         "38",
         "00339020",
         "1961",
         "100.0"
        ],
        [
         "39",
         "00339021",
         "1961",
         "100.0"
        ],
        [
         "40",
         "00339023",
         "1961",
         "100.0"
        ],
        [
         "41",
         "00339024",
         "1961",
         "100.0"
        ],
        [
         "42",
         "00339026",
         "1961",
         "100.0"
        ],
        [
         "43",
         "00339028",
         "1961",
         "100.0"
        ],
        [
         "44",
         "00339031",
         "1961",
         "100.0"
        ],
        [
         "45",
         "00339034",
         "1961",
         "100.0"
        ],
        [
         "46",
         "00340000",
         "1961",
         "100.0"
        ],
        [
         "47",
         "00340001",
         "1961",
         "100.0"
        ],
        [
         "48",
         "00340002",
         "1961",
         "100.0"
        ],
        [
         "49",
         "00340003",
         "1961",
         "100.0"
        ]
       ],
       "shape": {
        "columns": 3,
        "rows": 345868
       }
      },
      "text/html": [
       "<div>\n",
       "<style scoped>\n",
       "    .dataframe tbody tr th:only-of-type {\n",
       "        vertical-align: middle;\n",
       "    }\n",
       "\n",
       "    .dataframe tbody tr th {\n",
       "        vertical-align: top;\n",
       "    }\n",
       "\n",
       "    .dataframe thead th {\n",
       "        text-align: right;\n",
       "    }\n",
       "</style>\n",
       "<table border=\"1\" class=\"dataframe\">\n",
       "  <thead>\n",
       "    <tr style=\"text-align: right;\">\n",
       "      <th></th>\n",
       "      <th>gauge_code</th>\n",
       "      <th>year</th>\n",
       "      <th>p_availability</th>\n",
       "    </tr>\n",
       "  </thead>\n",
       "  <tbody>\n",
       "    <tr>\n",
       "      <th>0</th>\n",
       "      <td>00047000</td>\n",
       "      <td>1961</td>\n",
       "      <td>100.000000</td>\n",
       "    </tr>\n",
       "    <tr>\n",
       "      <th>1</th>\n",
       "      <td>00048000</td>\n",
       "      <td>1961</td>\n",
       "      <td>100.000000</td>\n",
       "    </tr>\n",
       "    <tr>\n",
       "      <th>2</th>\n",
       "      <td>00062000</td>\n",
       "      <td>1961</td>\n",
       "      <td>100.000000</td>\n",
       "    </tr>\n",
       "    <tr>\n",
       "      <th>3</th>\n",
       "      <td>00065000</td>\n",
       "      <td>1961</td>\n",
       "      <td>8.493151</td>\n",
       "    </tr>\n",
       "    <tr>\n",
       "      <th>4</th>\n",
       "      <td>00067000</td>\n",
       "      <td>1961</td>\n",
       "      <td>100.000000</td>\n",
       "    </tr>\n",
       "    <tr>\n",
       "      <th>...</th>\n",
       "      <td>...</td>\n",
       "      <td>...</td>\n",
       "      <td>...</td>\n",
       "    </tr>\n",
       "    <tr>\n",
       "      <th>345863</th>\n",
       "      <td>B803</td>\n",
       "      <td>2024</td>\n",
       "      <td>100.000000</td>\n",
       "    </tr>\n",
       "    <tr>\n",
       "      <th>345864</th>\n",
       "      <td>B804</td>\n",
       "      <td>2024</td>\n",
       "      <td>100.000000</td>\n",
       "    </tr>\n",
       "    <tr>\n",
       "      <th>345865</th>\n",
       "      <td>B806</td>\n",
       "      <td>2024</td>\n",
       "      <td>100.000000</td>\n",
       "    </tr>\n",
       "    <tr>\n",
       "      <th>345866</th>\n",
       "      <td>B807</td>\n",
       "      <td>2024</td>\n",
       "      <td>100.000000</td>\n",
       "    </tr>\n",
       "    <tr>\n",
       "      <th>345867</th>\n",
       "      <td>F501</td>\n",
       "      <td>2024</td>\n",
       "      <td>100.000000</td>\n",
       "    </tr>\n",
       "  </tbody>\n",
       "</table>\n",
       "<p>345868 rows × 3 columns</p>\n",
       "</div>"
      ],
      "text/plain": [
       "       gauge_code  year  p_availability\n",
       "0        00047000  1961      100.000000\n",
       "1        00048000  1961      100.000000\n",
       "2        00062000  1961      100.000000\n",
       "3        00065000  1961        8.493151\n",
       "4        00067000  1961      100.000000\n",
       "...           ...   ...             ...\n",
       "345863       B803  2024      100.000000\n",
       "345864       B804  2024      100.000000\n",
       "345865       B806  2024      100.000000\n",
       "345866       B807  2024      100.000000\n",
       "345867       F501  2024      100.000000\n",
       "\n",
       "[345868 rows x 3 columns]"
      ]
     },
     "execution_count": 9,
     "metadata": {},
     "output_type": "execute_result"
    }
   ],
   "source": [
    "def calculateP(df):\n",
    "    # Group by gauge_code and year, then count the number of rows for each group\n",
    "    df_p = df.groupby(['gauge_code', 'year']).size().reset_index(name='active_days')\n",
    "    return df_p\n",
    "\n",
    "# Example usage\n",
    "df_p_availability = calculateP(df_complete_info)\n",
    "\n",
    "years = pd.Series(range(1961, 2025), name='year')\n",
    "# Calculate the number of days in each year\n",
    "day_count = years.apply(lambda x: 366 if (x % 4 == 0 and (x % 100 != 0 or x % 400 == 0)) else 365)\n",
    "# Create the DataFrame\n",
    "df_years = pd.DataFrame({'year': years, 'day_count': day_count})\n",
    "del years, day_count\n",
    "\n",
    "\n",
    "df_p_availability = pd.merge(df_years, df_p_availability, on = 'year', how = 'left')\n",
    "del df_years\n",
    "\n",
    "df_p_availability['p_availability'] = df_p_availability['active_days'] / df_p_availability['day_count'] * 100\n",
    "df_p_availability = df_p_availability[['gauge_code', 'year', 'p_availability']]\n",
    "df_p_availability.to_hdf(cleaned_path, key = 'table_p_availability', encoding = 'utf-8', mode='r+')\n",
    "df_p_availability"
   ]
  },
  {
   "cell_type": "code",
   "execution_count": 11,
   "metadata": {},
   "outputs": [
    {
     "name": "stdout",
     "output_type": "stream",
     "text": [
      "['table_data', 'table_data_filtered', 'table_info', 'table_p_availability', 'table_preclassif']\n"
     ]
    }
   ],
   "source": [
    "with h5py.File(cleaned_path, 'r') as hdf:\n",
    "    keys = list(hdf.keys())\n",
    "    print(keys)"
   ]
  },
  {
   "cell_type": "code",
   "execution_count": 10,
   "metadata": {},
   "outputs": [
    {
     "data": {
      "application/vnd.microsoft.datawrangler.viewer.v0+json": {
       "columns": [
        {
         "name": "index",
         "rawType": "int64",
         "type": "integer"
        },
        {
         "name": "gauge_code",
         "rawType": "object",
         "type": "string"
        },
        {
         "name": "year",
         "rawType": "int64",
         "type": "integer"
        },
        {
         "name": "p_availability",
         "rawType": "float64",
         "type": "float"
        }
       ],
       "conversionMethod": "pd.DataFrame",
       "ref": "6899959d-2cb5-4183-9cc7-7c403faa9405",
       "rows": [
        [
         "0",
         "00047000",
         "1961",
         "100.0"
        ],
        [
         "1",
         "00048000",
         "1961",
         "100.0"
        ],
        [
         "2",
         "00062000",
         "1961",
         "100.0"
        ],
        [
         "3",
         "00065000",
         "1961",
         "8.493150684931507"
        ],
        [
         "4",
         "00067000",
         "1961",
         "100.0"
        ],
        [
         "5",
         "00145004",
         "1961",
         "100.0"
        ],
        [
         "6",
         "00148001",
         "1961",
         "100.0"
        ],
        [
         "7",
         "00148002",
         "1961",
         "100.0"
        ],
        [
         "8",
         "00155001",
         "1961",
         "100.0"
        ],
        [
         "9",
         "00240000",
         "1961",
         "100.0"
        ],
        [
         "10",
         "00240001",
         "1961",
         "100.0"
        ],
        [
         "11",
         "00240005",
         "1961",
         "100.0"
        ],
        [
         "12",
         "00241000",
         "1961",
         "100.0"
        ],
        [
         "13",
         "00244004",
         "1961",
         "100.0"
        ],
        [
         "14",
         "00244006",
         "1961",
         "100.0"
        ],
        [
         "15",
         "00244007",
         "1961",
         "100.0"
        ],
        [
         "16",
         "00254001",
         "1961",
         "100.0"
        ],
        [
         "17",
         "00256000",
         "1961",
         "100.0"
        ],
        [
         "18",
         "00266000",
         "1961",
         "100.0"
        ],
        [
         "19",
         "00332000",
         "1961",
         "100.0"
        ],
        [
         "20",
         "00338000",
         "1961",
         "100.0"
        ],
        [
         "21",
         "00338001",
         "1961",
         "100.0"
        ],
        [
         "22",
         "00338002",
         "1961",
         "100.0"
        ],
        [
         "23",
         "00338003",
         "1961",
         "16.71232876712329"
        ],
        [
         "24",
         "00338005",
         "1961",
         "100.0"
        ],
        [
         "25",
         "00338007",
         "1961",
         "100.0"
        ],
        [
         "26",
         "00338008",
         "1961",
         "100.0"
        ],
        [
         "27",
         "00338009",
         "1961",
         "100.0"
        ],
        [
         "28",
         "00338016",
         "1961",
         "100.0"
        ],
        [
         "29",
         "00338018",
         "1961",
         "100.0"
        ],
        [
         "30",
         "00338026",
         "1961",
         "100.0"
        ],
        [
         "31",
         "00339002",
         "1961",
         "100.0"
        ],
        [
         "32",
         "00339004",
         "1961",
         "100.0"
        ],
        [
         "33",
         "00339007",
         "1961",
         "100.0"
        ],
        [
         "34",
         "00339009",
         "1961",
         "100.0"
        ],
        [
         "35",
         "00339014",
         "1961",
         "100.0"
        ],
        [
         "36",
         "00339016",
         "1961",
         "100.0"
        ],
        [
         "37",
         "00339018",
         "1961",
         "100.0"
        ],
        [
         "38",
         "00339020",
         "1961",
         "100.0"
        ],
        [
         "39",
         "00339021",
         "1961",
         "100.0"
        ],
        [
         "40",
         "00339023",
         "1961",
         "100.0"
        ],
        [
         "41",
         "00339024",
         "1961",
         "100.0"
        ],
        [
         "42",
         "00339026",
         "1961",
         "100.0"
        ],
        [
         "43",
         "00339028",
         "1961",
         "100.0"
        ],
        [
         "44",
         "00339031",
         "1961",
         "100.0"
        ],
        [
         "45",
         "00339034",
         "1961",
         "100.0"
        ],
        [
         "46",
         "00340000",
         "1961",
         "100.0"
        ],
        [
         "47",
         "00340001",
         "1961",
         "100.0"
        ],
        [
         "48",
         "00340002",
         "1961",
         "100.0"
        ],
        [
         "49",
         "00340003",
         "1961",
         "100.0"
        ]
       ],
       "shape": {
        "columns": 3,
        "rows": 345868
       }
      },
      "text/html": [
       "<div>\n",
       "<style scoped>\n",
       "    .dataframe tbody tr th:only-of-type {\n",
       "        vertical-align: middle;\n",
       "    }\n",
       "\n",
       "    .dataframe tbody tr th {\n",
       "        vertical-align: top;\n",
       "    }\n",
       "\n",
       "    .dataframe thead th {\n",
       "        text-align: right;\n",
       "    }\n",
       "</style>\n",
       "<table border=\"1\" class=\"dataframe\">\n",
       "  <thead>\n",
       "    <tr style=\"text-align: right;\">\n",
       "      <th></th>\n",
       "      <th>gauge_code</th>\n",
       "      <th>year</th>\n",
       "      <th>p_availability</th>\n",
       "    </tr>\n",
       "  </thead>\n",
       "  <tbody>\n",
       "    <tr>\n",
       "      <th>0</th>\n",
       "      <td>00047000</td>\n",
       "      <td>1961</td>\n",
       "      <td>100.000000</td>\n",
       "    </tr>\n",
       "    <tr>\n",
       "      <th>1</th>\n",
       "      <td>00048000</td>\n",
       "      <td>1961</td>\n",
       "      <td>100.000000</td>\n",
       "    </tr>\n",
       "    <tr>\n",
       "      <th>2</th>\n",
       "      <td>00062000</td>\n",
       "      <td>1961</td>\n",
       "      <td>100.000000</td>\n",
       "    </tr>\n",
       "    <tr>\n",
       "      <th>3</th>\n",
       "      <td>00065000</td>\n",
       "      <td>1961</td>\n",
       "      <td>8.493151</td>\n",
       "    </tr>\n",
       "    <tr>\n",
       "      <th>4</th>\n",
       "      <td>00067000</td>\n",
       "      <td>1961</td>\n",
       "      <td>100.000000</td>\n",
       "    </tr>\n",
       "    <tr>\n",
       "      <th>...</th>\n",
       "      <td>...</td>\n",
       "      <td>...</td>\n",
       "      <td>...</td>\n",
       "    </tr>\n",
       "    <tr>\n",
       "      <th>345863</th>\n",
       "      <td>B803</td>\n",
       "      <td>2024</td>\n",
       "      <td>100.000000</td>\n",
       "    </tr>\n",
       "    <tr>\n",
       "      <th>345864</th>\n",
       "      <td>B804</td>\n",
       "      <td>2024</td>\n",
       "      <td>100.000000</td>\n",
       "    </tr>\n",
       "    <tr>\n",
       "      <th>345865</th>\n",
       "      <td>B806</td>\n",
       "      <td>2024</td>\n",
       "      <td>100.000000</td>\n",
       "    </tr>\n",
       "    <tr>\n",
       "      <th>345866</th>\n",
       "      <td>B807</td>\n",
       "      <td>2024</td>\n",
       "      <td>100.000000</td>\n",
       "    </tr>\n",
       "    <tr>\n",
       "      <th>345867</th>\n",
       "      <td>F501</td>\n",
       "      <td>2024</td>\n",
       "      <td>100.000000</td>\n",
       "    </tr>\n",
       "  </tbody>\n",
       "</table>\n",
       "<p>345868 rows × 3 columns</p>\n",
       "</div>"
      ],
      "text/plain": [
       "       gauge_code  year  p_availability\n",
       "0        00047000  1961      100.000000\n",
       "1        00048000  1961      100.000000\n",
       "2        00062000  1961      100.000000\n",
       "3        00065000  1961        8.493151\n",
       "4        00067000  1961      100.000000\n",
       "...           ...   ...             ...\n",
       "345863       B803  2024      100.000000\n",
       "345864       B804  2024      100.000000\n",
       "345865       B806  2024      100.000000\n",
       "345866       B807  2024      100.000000\n",
       "345867       F501  2024      100.000000\n",
       "\n",
       "[345868 rows x 3 columns]"
      ]
     },
     "execution_count": 10,
     "metadata": {},
     "output_type": "execute_result"
    }
   ],
   "source": [
    "df_teste = pd.read_hdf(cleaned_path, key = 'table_p_availability', encoding = 'utf-8')\n",
    "df_teste"
   ]
  }
 ],
 "metadata": {
  "kernelspec": {
   "display_name": "base",
   "language": "python",
   "name": "python3"
  },
  "language_info": {
   "codemirror_mode": {
    "name": "ipython",
    "version": 3
   },
   "file_extension": ".py",
   "mimetype": "text/x-python",
   "name": "python",
   "nbconvert_exporter": "python",
   "pygments_lexer": "ipython3",
   "version": "3.11.10"
  }
 },
 "nbformat": 4,
 "nbformat_minor": 2
}
