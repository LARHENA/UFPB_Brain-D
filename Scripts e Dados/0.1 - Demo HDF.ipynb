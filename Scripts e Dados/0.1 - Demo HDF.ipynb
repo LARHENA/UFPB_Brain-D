{
 "cells": [
  {
   "cell_type": "markdown",
   "id": "d29ba612",
   "metadata": {},
   "source": [
    "HDF5 for Python: https://docs.h5py.org/en/stable/\n",
    "<br>Pandas HDFStore: https://pandas.pydata.org/pandas-docs/stable/reference/io.html?highlight=hdfstore#hdfstore-pytables-hdf5\n",
    "<br>Compression (Additional Topic): https://www.youtube.com/watch?v=FfkLFQR_nbc"
   ]
  },
  {
   "cell_type": "code",
   "execution_count": 1,
   "id": "7f18426e",
   "metadata": {},
   "outputs": [],
   "source": [
    "import numpy as np\n",
    "import h5py\n",
    "import pandas as pd"
   ]
  },
  {
   "cell_type": "code",
   "execution_count": 3,
   "id": "e880c014",
   "metadata": {},
   "outputs": [],
   "source": [
    "filepath = './1 - Organized data gauge/BRAZIL/DATASETS/BRAZIL_DAILY_1961_2024_QC.h5'"
   ]
  },
  {
   "cell_type": "code",
   "execution_count": 4,
   "id": "0f2fe3ef",
   "metadata": {},
   "outputs": [
    {
     "name": "stdout",
     "output_type": "stream",
     "text": [
      "Key List:\n",
      " ['table_crossvalidation', 'table_data', 'table_grid', 'table_info'] \n",
      "\n"
     ]
    }
   ],
   "source": [
    "#lendo um arquivo com mode = 'r' de reading, com fechamento automático\n",
    "with h5py.File(filepath, mode = 'r') as hdf:\n",
    "    ls = list(hdf.keys())\n",
    "    print('Key List:\\n', ls,'\\n')"
   ]
  },
  {
   "cell_type": "code",
   "execution_count": 12,
   "id": "30073006",
   "metadata": {},
   "outputs": [
    {
     "data": {
      "application/vnd.microsoft.datawrangler.viewer.v0+json": {
       "columns": [
        {
         "name": "index",
         "rawType": "int64",
         "type": "integer"
        },
        {
         "name": "name_station",
         "rawType": "object",
         "type": "string"
        },
        {
         "name": "gauge_code",
         "rawType": "object",
         "type": "string"
        },
        {
         "name": "city",
         "rawType": "object",
         "type": "string"
        },
        {
         "name": "state",
         "rawType": "object",
         "type": "string"
        },
        {
         "name": "responsible",
         "rawType": "object",
         "type": "string"
        },
        {
         "name": "source",
         "rawType": "object",
         "type": "string"
        },
        {
         "name": "state_abbreviation",
         "rawType": "object",
         "type": "string"
        },
        {
         "name": "lat",
         "rawType": "float64",
         "type": "float"
        },
        {
         "name": "long",
         "rawType": "float64",
         "type": "float"
        }
       ],
       "conversionMethod": "pd.DataFrame",
       "ref": "fff82664-1941-42b8-9d0d-4b8cb80059c4",
       "rows": [
        [
         "0",
         "SANTA RITA DO PARDO | S716",
         "S716",
         "SANTA RITA DO PARDO",
         "MATO GROSSO DO SUL",
         "INMET",
         "INMET",
         "MS",
         "-21.305889",
         "-52.820375"
        ],
        [
         "1",
         "RIBAS DO RIO PARDO | S715",
         "S715",
         "RIBAS DO RIO PARDO",
         "MATO GROSSO DO SUL",
         "INMET",
         "INMET",
         "MS",
         "-20.466694",
         "-53.763028"
        ],
        [
         "2",
         "PEDRO GOMES | S714",
         "S714",
         "PEDRO GOMES",
         "MATO GROSSO DO SUL",
         "INMET",
         "INMET",
         "MS",
         "-18.07277777",
         "-54.54888888"
        ],
        [
         "3",
         "NOVA ALVORADA DO SUL | S712",
         "S712",
         "NOVA ALVORADA DO SUL",
         "MATO GROSSO DO SUL",
         "INMET",
         "INMET",
         "MS",
         "-21.450972",
         "-54.341972"
        ],
        [
         "4",
         "LAGUNA CARAPA | S711",
         "S711",
         "LAGUNA CARAPA",
         "MATO GROSSO DO SUL",
         "INMET",
         "INMET",
         "MS",
         "-22.575389",
         "-55.160333"
        ],
        [
         "5",
         "ITAPORA | S710",
         "S710",
         "ITAPORA",
         "MATO GROSSO DO SUL",
         "INMET",
         "INMET",
         "MS",
         "-22.092833",
         "-54.798833"
        ],
        [
         "6",
         "IGUATEMI | S709",
         "S709",
         "IGUATEMI",
         "MATO GROSSO DO SUL",
         "INMET",
         "INMET",
         "MS",
         "-23.64444444",
         "-54.57027777"
        ],
        [
         "7",
         "BONITO | S704",
         "S704",
         "BONITO",
         "MATO GROSSO DO SUL",
         "INMET",
         "INMET",
         "MS",
         "-21.24666666",
         "-56.45055555"
        ],
        [
         "8",
         "ARAL MOREIRA | S702",
         "S702",
         "ARAL MOREIRA",
         "MATO GROSSO DO SUL",
         "INMET",
         "INMET",
         "MS",
         "-22.955",
         "-55.6261111"
        ],
        [
         "9",
         "ANGELICA | S701",
         "S701",
         "ANGELICA",
         "MATO GROSSO DO SUL",
         "INMET",
         "INMET",
         "MS",
         "-22.148083",
         "-53.763736"
        ],
        [
         "10",
         "BELO HORIZONTE - CERCADINHO | F501",
         "F501",
         "BELO HORIZONTE - CERCADINHO",
         "MINAS GERAIS",
         "INMET",
         "INMET",
         "MG",
         "-19.97999999",
         "-43.95861111"
        ],
        [
         "11",
         "TESTE V3 - Cemaden12",
         "CEMADEN_12",
         "CACHOEIRA PAULISTA",
         "SÃO PAULO",
         "CEMADEN",
         "CEMADEN",
         "SP",
         "-22.67403",
         "-44.99584"
        ],
        [
         "12",
         "Cachoeira Paulista - Cemaden11 TESTES",
         "CEMADEN_11",
         "CACHOEIRA PAULISTA",
         "SÃO PAULO",
         "CEMADEN",
         "CEMADEN",
         "SP",
         "-22.67408",
         "-44.99575"
        ],
        [
         "13",
         "Cachoeira Paulista - Cemaden10 - TESTES",
         "CEMADEN_10",
         "CACHOEIRA PAULISTA",
         "SÃO PAULO",
         "CEMADEN",
         "CEMADEN",
         "SP",
         "-22.674132",
         "-44.995534"
        ],
        [
         "14",
         "PORTO ALEGRE- BELEM NOVO | B807",
         "B807",
         "PORTO ALEGRE- BELEM NOVO",
         "RIO GRANDE DO SUL",
         "INMET",
         "INMET",
         "RS",
         "-30.1861111",
         "-51.17805554"
        ],
        [
         "15",
         "COLOMBO | B806",
         "B806",
         "COLOMBO",
         "PARANÁ",
         "INMET",
         "INMET",
         "PR",
         "-25.322464",
         "-49.157733"
        ],
        [
         "16",
         "LARANJEIRAS DO SUL | B804",
         "B804",
         "LARANJEIRAS DO SUL",
         "PARANÁ",
         "INMET",
         "INMET",
         "PR",
         "-25.36888888",
         "-52.39194444"
        ],
        [
         "17",
         "CAMPINA DA LAGOA | B803",
         "B803",
         "CAMPINA DA LAGOA",
         "PARANÁ",
         "INMET",
         "INMET",
         "PR",
         "-24.57083332",
         "-52.80027777"
        ],
        [
         "18",
         "ROSARIO OESTE | A944",
         "A944",
         "ROSARIO OESTE",
         "MATO GROSSO",
         "INMET",
         "INMET",
         "MT",
         "-14.82888888",
         "-56.44194444"
        ],
        [
         "19",
         "SERRA NOVA DOURADA | A943",
         "A943",
         "SERRA NOVA DOURADA",
         "MATO GROSSO",
         "INMET",
         "INMET",
         "MT",
         "-11.98777777",
         "-51.4261111"
        ],
        [
         "20",
         "SAO JOSE DO XINGU | A942",
         "A942",
         "SAO JOSE DO XINGU",
         "MATO GROSSO",
         "INMET",
         "INMET",
         "MT",
         "-10.48416666",
         "-52.37249999"
        ],
        [
         "21",
         "ARIQUEMES | A940",
         "A940",
         "ARIQUEMES",
         "RONDÔNIA",
         "INMET",
         "INMET",
         "RO",
         "-9.94888888",
         "-62.96194444"
        ],
        [
         "22",
         "CACOAL | A939",
         "A939",
         "CACOAL",
         "RONDÔNIA",
         "INMET",
         "INMET",
         "RO",
         "-11.44583333",
         "-61.43416666"
        ],
        [
         "23",
         "VILHENA | A938",
         "A938",
         "VILHENA",
         "RONDÔNIA",
         "INMET",
         "INMET",
         "RO",
         "-12.73499999",
         "-60.15777777"
        ],
        [
         "24",
         "PONTES E LACERDA | A937",
         "A937",
         "PONTES E LACERDA",
         "MATO GROSSO",
         "INMET",
         "INMET",
         "MT",
         "-15.23444444",
         "-59.3461111"
        ],
        [
         "25",
         "SALTO DO CEU | A936",
         "A936",
         "SALTO DO CEU",
         "MATO GROSSO",
         "INMET",
         "INMET",
         "MT",
         "-15.12472221",
         "-58.12722221"
        ],
        [
         "26",
         "GUIRATINGA | A932",
         "A932",
         "GUIRATINGA",
         "MATO GROSSO",
         "INMET",
         "INMET",
         "MT",
         "-16.34166666",
         "-53.76611111"
        ],
        [
         "27",
         "GAUCHA DO NORTE | A930",
         "A930",
         "GAUCHA DO NORTE",
         "MATO GROSSO",
         "INMET",
         "INMET",
         "MT",
         "-13.18472221",
         "-53.2575"
        ],
        [
         "28",
         "NOVA UBIRATA | A929",
         "A929",
         "NOVA UBIRATA",
         "MATO GROSSO",
         "INMET",
         "INMET",
         "MT",
         "-13.41111111",
         "-54.75222222"
        ],
        [
         "29",
         "NOVA MARINGA | A928",
         "A928",
         "NOVA MARINGA",
         "MATO GROSSO",
         "INMET",
         "INMET",
         "MT",
         "-13.0386111",
         "-57.09222221"
        ],
        [
         "30",
         "BRASNORTE (NOVO MUNDO) | A927",
         "A927",
         "BRASNORTE (NOVO MUNDO)",
         "MATO GROSSO",
         "INMET",
         "INMET",
         "MT",
         "-12.52194443",
         "-58.23138888"
        ],
        [
         "31",
         "PORTO VELHO | A925",
         "A925",
         "PORTO VELHO",
         "RONDÔNIA",
         "INMET",
         "INMET",
         "RO",
         "-8.7936111",
         "-63.84583333"
        ],
        [
         "32",
         "ALTA FLORESTA | A924",
         "A924",
         "ALTA FLORESTA",
         "MATO GROSSO",
         "INMET",
         "INMET",
         "MT",
         "-10.07722221",
         "-56.17916666"
        ],
        [
         "33",
         "PRIMAVERA DO LESTE | A923",
         "A923",
         "PRIMAVERA DO LESTE",
         "MATO GROSSO",
         "INMET",
         "INMET",
         "MT",
         "-15.57999999",
         "-54.3811111"
        ],
        [
         "34",
         "VILA BELA DA SANTISSIMA TRINDADE | A922",
         "A922",
         "VILA BELA DA SANTISSIMA TRINDADE",
         "MATO GROSSO",
         "INMET",
         "INMET",
         "MT",
         "-15.06277777",
         "-59.87305554"
        ],
        [
         "35",
         "SAO FELIX  DO ARAGUAIA | A921",
         "A921",
         "SAO FELIX  DO ARAGUAIA",
         "MATO GROSSO",
         "INMET",
         "INMET",
         "MT",
         "-11.61888888",
         "-50.72777777"
        ],
        [
         "36",
         "JUINA | A920",
         "A920",
         "JUINA",
         "MATO GROSSO",
         "INMET",
         "INMET",
         "MT",
         "-11.375126",
         "-58.774785"
        ],
        [
         "37",
         "COTRIGUACU | A919",
         "A919",
         "COTRIGUACU",
         "MATO GROSSO",
         "INMET",
         "INMET",
         "MT",
         "-9.90638888",
         "-58.57222221"
        ],
        [
         "38",
         "SINOP | A917",
         "A917",
         "SINOP",
         "MATO GROSSO",
         "INMET",
         "INMET",
         "MT",
         "-11.98222221",
         "-55.56611111"
        ],
        [
         "39",
         "QUERENCIA | A916",
         "A916",
         "QUERENCIA",
         "MATO GROSSO",
         "INMET",
         "INMET",
         "MT",
         "-12.60305555",
         "-52.1625"
        ],
        [
         "40",
         "JUARA | A914",
         "A914",
         "JUARA",
         "MATO GROSSO",
         "INMET",
         "INMET",
         "MT",
         "-11.28027777",
         "-57.52666666"
        ],
        [
         "41",
         "COMODORO | A913",
         "A913",
         "COMODORO",
         "MATO GROSSO",
         "INMET",
         "INMET",
         "MT",
         "-13.70805555",
         "-59.7625"
        ],
        [
         "42",
         "CAMPO VERDE | A912",
         "A912",
         "CAMPO VERDE",
         "MATO GROSSO",
         "INMET",
         "INMET",
         "MT",
         "-15.53138888",
         "-55.13555555"
        ],
        [
         "43",
         "SAPEZAL | A911",
         "A911",
         "SAPEZAL",
         "MATO GROSSO",
         "INMET",
         "INMET",
         "MT",
         "-13.30388888",
         "-58.76333333"
        ],
        [
         "44",
         "APIACAS | A910",
         "A910",
         "APIACAS",
         "MATO GROSSO",
         "INMET",
         "INMET",
         "MT",
         "-9.56333333",
         "-57.3936111"
        ],
        [
         "45",
         "ALTO ARAGUAIA | A909",
         "A909",
         "ALTO ARAGUAIA",
         "MATO GROSSO",
         "INMET",
         "INMET",
         "MT",
         "-17.33944444",
         "-53.22444443"
        ],
        [
         "46",
         "AGUA BOA | A908",
         "A908",
         "AGUA BOA",
         "MATO GROSSO",
         "INMET",
         "INMET",
         "MT",
         "-14.01638888",
         "-52.21166666"
        ],
        [
         "47",
         "RONDONOPOLIS | A907",
         "A907",
         "RONDONOPOLIS",
         "MATO GROSSO",
         "INMET",
         "INMET",
         "MT",
         "-16.4625",
         "-54.58027777"
        ],
        [
         "48",
         "CAMPO NOVO DOS PARECIS | A905",
         "A905",
         "CAMPO NOVO DOS PARECIS",
         "MATO GROSSO",
         "INMET",
         "INMET",
         "MT",
         "-13.78583333",
         "-57.8386111"
        ],
        [
         "49",
         "SORRISO | A904",
         "A904",
         "SORRISO",
         "MATO GROSSO",
         "INMET",
         "INMET",
         "MT",
         "-12.555",
         "-55.72277777"
        ]
       ],
       "shape": {
        "columns": 9,
        "rows": 17188
       }
      },
      "text/html": [
       "<div>\n",
       "<style scoped>\n",
       "    .dataframe tbody tr th:only-of-type {\n",
       "        vertical-align: middle;\n",
       "    }\n",
       "\n",
       "    .dataframe tbody tr th {\n",
       "        vertical-align: top;\n",
       "    }\n",
       "\n",
       "    .dataframe thead th {\n",
       "        text-align: right;\n",
       "    }\n",
       "</style>\n",
       "<table border=\"1\" class=\"dataframe\">\n",
       "  <thead>\n",
       "    <tr style=\"text-align: right;\">\n",
       "      <th></th>\n",
       "      <th>name_station</th>\n",
       "      <th>gauge_code</th>\n",
       "      <th>city</th>\n",
       "      <th>state</th>\n",
       "      <th>responsible</th>\n",
       "      <th>source</th>\n",
       "      <th>state_abbreviation</th>\n",
       "      <th>lat</th>\n",
       "      <th>long</th>\n",
       "    </tr>\n",
       "  </thead>\n",
       "  <tbody>\n",
       "    <tr>\n",
       "      <th>0</th>\n",
       "      <td>SANTA RITA DO PARDO | S716</td>\n",
       "      <td>S716</td>\n",
       "      <td>SANTA RITA DO PARDO</td>\n",
       "      <td>MATO GROSSO DO SUL</td>\n",
       "      <td>INMET</td>\n",
       "      <td>INMET</td>\n",
       "      <td>MS</td>\n",
       "      <td>-21.305889</td>\n",
       "      <td>-52.820375</td>\n",
       "    </tr>\n",
       "    <tr>\n",
       "      <th>1</th>\n",
       "      <td>RIBAS DO RIO PARDO | S715</td>\n",
       "      <td>S715</td>\n",
       "      <td>RIBAS DO RIO PARDO</td>\n",
       "      <td>MATO GROSSO DO SUL</td>\n",
       "      <td>INMET</td>\n",
       "      <td>INMET</td>\n",
       "      <td>MS</td>\n",
       "      <td>-20.466694</td>\n",
       "      <td>-53.763028</td>\n",
       "    </tr>\n",
       "    <tr>\n",
       "      <th>2</th>\n",
       "      <td>PEDRO GOMES | S714</td>\n",
       "      <td>S714</td>\n",
       "      <td>PEDRO GOMES</td>\n",
       "      <td>MATO GROSSO DO SUL</td>\n",
       "      <td>INMET</td>\n",
       "      <td>INMET</td>\n",
       "      <td>MS</td>\n",
       "      <td>-18.072778</td>\n",
       "      <td>-54.548889</td>\n",
       "    </tr>\n",
       "    <tr>\n",
       "      <th>3</th>\n",
       "      <td>NOVA ALVORADA DO SUL | S712</td>\n",
       "      <td>S712</td>\n",
       "      <td>NOVA ALVORADA DO SUL</td>\n",
       "      <td>MATO GROSSO DO SUL</td>\n",
       "      <td>INMET</td>\n",
       "      <td>INMET</td>\n",
       "      <td>MS</td>\n",
       "      <td>-21.450972</td>\n",
       "      <td>-54.341972</td>\n",
       "    </tr>\n",
       "    <tr>\n",
       "      <th>4</th>\n",
       "      <td>LAGUNA CARAPA | S711</td>\n",
       "      <td>S711</td>\n",
       "      <td>LAGUNA CARAPA</td>\n",
       "      <td>MATO GROSSO DO SUL</td>\n",
       "      <td>INMET</td>\n",
       "      <td>INMET</td>\n",
       "      <td>MS</td>\n",
       "      <td>-22.575389</td>\n",
       "      <td>-55.160333</td>\n",
       "    </tr>\n",
       "    <tr>\n",
       "      <th>...</th>\n",
       "      <td>...</td>\n",
       "      <td>...</td>\n",
       "      <td>...</td>\n",
       "      <td>...</td>\n",
       "      <td>...</td>\n",
       "      <td>...</td>\n",
       "      <td>...</td>\n",
       "      <td>...</td>\n",
       "      <td>...</td>\n",
       "    </tr>\n",
       "    <tr>\n",
       "      <th>17183</th>\n",
       "      <td>MARUDA</td>\n",
       "      <td>00047005</td>\n",
       "      <td>MARAPANIM</td>\n",
       "      <td>PARÁ</td>\n",
       "      <td>ANA</td>\n",
       "      <td>HIDROWEB</td>\n",
       "      <td>PA</td>\n",
       "      <td>-0.633600</td>\n",
       "      <td>-47.658300</td>\n",
       "    </tr>\n",
       "    <tr>\n",
       "      <th>17184</th>\n",
       "      <td>PRIMAVERA</td>\n",
       "      <td>00047004</td>\n",
       "      <td>PRIMAVERA</td>\n",
       "      <td>PARÁ</td>\n",
       "      <td>ANA</td>\n",
       "      <td>HIDROWEB</td>\n",
       "      <td>PA</td>\n",
       "      <td>-0.929400</td>\n",
       "      <td>-47.099400</td>\n",
       "    </tr>\n",
       "    <tr>\n",
       "      <th>17185</th>\n",
       "      <td>CURUÇA</td>\n",
       "      <td>00047003</td>\n",
       "      <td>CURUÇA</td>\n",
       "      <td>PARÁ</td>\n",
       "      <td>ANA</td>\n",
       "      <td>HIDROWEB</td>\n",
       "      <td>PA</td>\n",
       "      <td>-0.737500</td>\n",
       "      <td>-47.853600</td>\n",
       "    </tr>\n",
       "    <tr>\n",
       "      <th>17186</th>\n",
       "      <td>SALINÓPOLIS</td>\n",
       "      <td>00047002</td>\n",
       "      <td>SALINÓPOLIS</td>\n",
       "      <td>PARÁ</td>\n",
       "      <td>ANA</td>\n",
       "      <td>HIDROWEB</td>\n",
       "      <td>PA</td>\n",
       "      <td>-0.623100</td>\n",
       "      <td>-47.353600</td>\n",
       "    </tr>\n",
       "    <tr>\n",
       "      <th>17187</th>\n",
       "      <td>SALINÓPOLIS</td>\n",
       "      <td>00047000</td>\n",
       "      <td>SALINÓPOLIS</td>\n",
       "      <td>PARÁ</td>\n",
       "      <td>INMET</td>\n",
       "      <td>HIDROWEB</td>\n",
       "      <td>PA</td>\n",
       "      <td>-0.650000</td>\n",
       "      <td>-47.550000</td>\n",
       "    </tr>\n",
       "  </tbody>\n",
       "</table>\n",
       "<p>17188 rows × 9 columns</p>\n",
       "</div>"
      ],
      "text/plain": [
       "                      name_station gauge_code                  city  \\\n",
       "0       SANTA RITA DO PARDO | S716       S716   SANTA RITA DO PARDO   \n",
       "1        RIBAS DO RIO PARDO | S715       S715    RIBAS DO RIO PARDO   \n",
       "2               PEDRO GOMES | S714       S714           PEDRO GOMES   \n",
       "3      NOVA ALVORADA DO SUL | S712       S712  NOVA ALVORADA DO SUL   \n",
       "4             LAGUNA CARAPA | S711       S711         LAGUNA CARAPA   \n",
       "...                            ...        ...                   ...   \n",
       "17183                       MARUDA   00047005             MARAPANIM   \n",
       "17184                    PRIMAVERA   00047004             PRIMAVERA   \n",
       "17185                       CURUÇA   00047003                CURUÇA   \n",
       "17186                  SALINÓPOLIS   00047002           SALINÓPOLIS   \n",
       "17187                  SALINÓPOLIS   00047000           SALINÓPOLIS   \n",
       "\n",
       "                    state responsible    source state_abbreviation        lat  \\\n",
       "0      MATO GROSSO DO SUL       INMET     INMET                 MS -21.305889   \n",
       "1      MATO GROSSO DO SUL       INMET     INMET                 MS -20.466694   \n",
       "2      MATO GROSSO DO SUL       INMET     INMET                 MS -18.072778   \n",
       "3      MATO GROSSO DO SUL       INMET     INMET                 MS -21.450972   \n",
       "4      MATO GROSSO DO SUL       INMET     INMET                 MS -22.575389   \n",
       "...                   ...         ...       ...                ...        ...   \n",
       "17183                PARÁ         ANA  HIDROWEB                 PA  -0.633600   \n",
       "17184                PARÁ         ANA  HIDROWEB                 PA  -0.929400   \n",
       "17185                PARÁ         ANA  HIDROWEB                 PA  -0.737500   \n",
       "17186                PARÁ         ANA  HIDROWEB                 PA  -0.623100   \n",
       "17187                PARÁ       INMET  HIDROWEB                 PA  -0.650000   \n",
       "\n",
       "            long  \n",
       "0     -52.820375  \n",
       "1     -53.763028  \n",
       "2     -54.548889  \n",
       "3     -54.341972  \n",
       "4     -55.160333  \n",
       "...          ...  \n",
       "17183 -47.658300  \n",
       "17184 -47.099400  \n",
       "17185 -47.853600  \n",
       "17186 -47.353600  \n",
       "17187 -47.550000  \n",
       "\n",
       "[17188 rows x 9 columns]"
      ]
     },
     "execution_count": 12,
     "metadata": {},
     "output_type": "execute_result"
    }
   ],
   "source": [
    "df_info = pd.read_hdf(filepath, key='table_info').reset_index(drop = True)\n",
    "df_info"
   ]
  },
  {
   "cell_type": "code",
   "execution_count": 5,
   "id": "1b29556f",
   "metadata": {},
   "outputs": [
    {
     "data": {
      "application/vnd.microsoft.datawrangler.viewer.v0+json": {
       "columns": [
        {
         "name": "index",
         "rawType": "int64",
         "type": "integer"
        },
        {
         "name": "gauge_code",
         "rawType": "object",
         "type": "string"
        },
        {
         "name": "datetime",
         "rawType": "datetime64[ns]",
         "type": "datetime"
        },
        {
         "name": "rain_mm",
         "rawType": "float64",
         "type": "float"
        },
        {
         "name": "year",
         "rawType": "int32",
         "type": "integer"
        },
        {
         "name": "final_classif",
         "rawType": "object",
         "type": "string"
        }
       ],
       "conversionMethod": "pd.DataFrame",
       "ref": "aaa867dc-137c-4766-8342-d55cfb79b1cd",
       "rows": [
        [
         "0",
         "00047000",
         "1962-01-01 00:00:00",
         "0.0",
         "1962",
         "HQ"
        ],
        [
         "1",
         "00047000",
         "1962-01-02 00:00:00",
         "0.0",
         "1962",
         "HQ"
        ],
        [
         "2",
         "00047000",
         "1962-01-03 00:00:00",
         "0.0",
         "1962",
         "HQ"
        ],
        [
         "3",
         "00047000",
         "1962-01-04 00:00:00",
         "0.0",
         "1962",
         "HQ"
        ],
        [
         "4",
         "00047000",
         "1962-01-05 00:00:00",
         "0.0",
         "1962",
         "HQ"
        ],
        [
         "5",
         "00047000",
         "1962-01-06 00:00:00",
         "0.0",
         "1962",
         "HQ"
        ],
        [
         "6",
         "00047000",
         "1962-01-07 00:00:00",
         "0.0",
         "1962",
         "HQ"
        ],
        [
         "7",
         "00047000",
         "1962-01-08 00:00:00",
         "0.0",
         "1962",
         "HQ"
        ],
        [
         "8",
         "00047000",
         "1962-01-09 00:00:00",
         "0.0",
         "1962",
         "HQ"
        ],
        [
         "9",
         "00047000",
         "1962-01-10 00:00:00",
         "0.0",
         "1962",
         "HQ"
        ],
        [
         "10",
         "00047000",
         "1962-01-11 00:00:00",
         "0.0",
         "1962",
         "HQ"
        ],
        [
         "11",
         "00047000",
         "1962-01-12 00:00:00",
         "0.0",
         "1962",
         "HQ"
        ],
        [
         "12",
         "00047000",
         "1962-01-13 00:00:00",
         "0.0",
         "1962",
         "HQ"
        ],
        [
         "13",
         "00047000",
         "1962-01-14 00:00:00",
         "0.0",
         "1962",
         "HQ"
        ],
        [
         "14",
         "00047000",
         "1962-01-15 00:00:00",
         "0.0",
         "1962",
         "HQ"
        ],
        [
         "15",
         "00047000",
         "1962-01-16 00:00:00",
         "0.0",
         "1962",
         "HQ"
        ],
        [
         "16",
         "00047000",
         "1962-01-17 00:00:00",
         "0.0",
         "1962",
         "HQ"
        ],
        [
         "17",
         "00047000",
         "1962-01-18 00:00:00",
         "0.0",
         "1962",
         "HQ"
        ],
        [
         "18",
         "00047000",
         "1962-01-19 00:00:00",
         "0.0",
         "1962",
         "HQ"
        ],
        [
         "19",
         "00047000",
         "1962-01-20 00:00:00",
         "0.0",
         "1962",
         "HQ"
        ],
        [
         "20",
         "00047000",
         "1962-01-21 00:00:00",
         "0.0",
         "1962",
         "HQ"
        ],
        [
         "21",
         "00047000",
         "1962-01-22 00:00:00",
         "0.0",
         "1962",
         "HQ"
        ],
        [
         "22",
         "00047000",
         "1962-01-23 00:00:00",
         "0.0",
         "1962",
         "HQ"
        ],
        [
         "23",
         "00047000",
         "1962-01-24 00:00:00",
         "0.0",
         "1962",
         "HQ"
        ],
        [
         "24",
         "00047000",
         "1962-01-25 00:00:00",
         "0.0",
         "1962",
         "HQ"
        ],
        [
         "25",
         "00047000",
         "1962-01-26 00:00:00",
         "0.0",
         "1962",
         "HQ"
        ],
        [
         "26",
         "00047000",
         "1962-01-27 00:00:00",
         "0.0",
         "1962",
         "HQ"
        ],
        [
         "27",
         "00047000",
         "1962-01-28 00:00:00",
         "0.0",
         "1962",
         "HQ"
        ],
        [
         "28",
         "00047000",
         "1962-01-29 00:00:00",
         "0.0",
         "1962",
         "HQ"
        ],
        [
         "29",
         "00047000",
         "1962-01-30 00:00:00",
         "0.0",
         "1962",
         "HQ"
        ],
        [
         "30",
         "00047000",
         "1962-01-31 00:00:00",
         "0.0",
         "1962",
         "HQ"
        ],
        [
         "31",
         "00047000",
         "1962-02-01 00:00:00",
         "0.0",
         "1962",
         "HQ"
        ],
        [
         "32",
         "00047000",
         "1962-02-02 00:00:00",
         "0.0",
         "1962",
         "HQ"
        ],
        [
         "33",
         "00047000",
         "1962-02-03 00:00:00",
         "0.0",
         "1962",
         "HQ"
        ],
        [
         "34",
         "00047000",
         "1962-02-04 00:00:00",
         "0.0",
         "1962",
         "HQ"
        ],
        [
         "35",
         "00047000",
         "1962-02-05 00:00:00",
         "0.0",
         "1962",
         "HQ"
        ],
        [
         "36",
         "00047000",
         "1962-02-06 00:00:00",
         "0.0",
         "1962",
         "HQ"
        ],
        [
         "37",
         "00047000",
         "1962-02-07 00:00:00",
         "0.0",
         "1962",
         "HQ"
        ],
        [
         "38",
         "00047000",
         "1962-02-08 00:00:00",
         "0.0",
         "1962",
         "HQ"
        ],
        [
         "39",
         "00047000",
         "1962-02-09 00:00:00",
         "0.0",
         "1962",
         "HQ"
        ],
        [
         "40",
         "00047000",
         "1962-02-10 00:00:00",
         "0.0",
         "1962",
         "HQ"
        ],
        [
         "41",
         "00047000",
         "1962-02-11 00:00:00",
         "0.0",
         "1962",
         "HQ"
        ],
        [
         "42",
         "00047000",
         "1962-02-12 00:00:00",
         "0.0",
         "1962",
         "HQ"
        ],
        [
         "43",
         "00047000",
         "1962-02-13 00:00:00",
         "0.0",
         "1962",
         "HQ"
        ],
        [
         "44",
         "00047000",
         "1962-02-14 00:00:00",
         "0.0",
         "1962",
         "HQ"
        ],
        [
         "45",
         "00047000",
         "1962-02-15 00:00:00",
         "0.0",
         "1962",
         "HQ"
        ],
        [
         "46",
         "00047000",
         "1962-02-16 00:00:00",
         "0.0",
         "1962",
         "HQ"
        ],
        [
         "47",
         "00047000",
         "1962-02-17 00:00:00",
         "0.0",
         "1962",
         "HQ"
        ],
        [
         "48",
         "00047000",
         "1962-02-18 00:00:00",
         "0.0",
         "1962",
         "HQ"
        ],
        [
         "49",
         "00047000",
         "1962-02-19 00:00:00",
         "0.0",
         "1962",
         "HQ"
        ]
       ],
       "shape": {
        "columns": 5,
        "rows": 107414668
       }
      },
      "text/html": [
       "<div>\n",
       "<style scoped>\n",
       "    .dataframe tbody tr th:only-of-type {\n",
       "        vertical-align: middle;\n",
       "    }\n",
       "\n",
       "    .dataframe tbody tr th {\n",
       "        vertical-align: top;\n",
       "    }\n",
       "\n",
       "    .dataframe thead th {\n",
       "        text-align: right;\n",
       "    }\n",
       "</style>\n",
       "<table border=\"1\" class=\"dataframe\">\n",
       "  <thead>\n",
       "    <tr style=\"text-align: right;\">\n",
       "      <th></th>\n",
       "      <th>gauge_code</th>\n",
       "      <th>datetime</th>\n",
       "      <th>rain_mm</th>\n",
       "      <th>year</th>\n",
       "      <th>final_classif</th>\n",
       "    </tr>\n",
       "  </thead>\n",
       "  <tbody>\n",
       "    <tr>\n",
       "      <th>0</th>\n",
       "      <td>00047000</td>\n",
       "      <td>1962-01-01</td>\n",
       "      <td>0.0</td>\n",
       "      <td>1962</td>\n",
       "      <td>HQ</td>\n",
       "    </tr>\n",
       "    <tr>\n",
       "      <th>1</th>\n",
       "      <td>00047000</td>\n",
       "      <td>1962-01-02</td>\n",
       "      <td>0.0</td>\n",
       "      <td>1962</td>\n",
       "      <td>HQ</td>\n",
       "    </tr>\n",
       "    <tr>\n",
       "      <th>2</th>\n",
       "      <td>00047000</td>\n",
       "      <td>1962-01-03</td>\n",
       "      <td>0.0</td>\n",
       "      <td>1962</td>\n",
       "      <td>HQ</td>\n",
       "    </tr>\n",
       "    <tr>\n",
       "      <th>3</th>\n",
       "      <td>00047000</td>\n",
       "      <td>1962-01-04</td>\n",
       "      <td>0.0</td>\n",
       "      <td>1962</td>\n",
       "      <td>HQ</td>\n",
       "    </tr>\n",
       "    <tr>\n",
       "      <th>4</th>\n",
       "      <td>00047000</td>\n",
       "      <td>1962-01-05</td>\n",
       "      <td>0.0</td>\n",
       "      <td>1962</td>\n",
       "      <td>HQ</td>\n",
       "    </tr>\n",
       "    <tr>\n",
       "      <th>...</th>\n",
       "      <td>...</td>\n",
       "      <td>...</td>\n",
       "      <td>...</td>\n",
       "      <td>...</td>\n",
       "      <td>...</td>\n",
       "    </tr>\n",
       "    <tr>\n",
       "      <th>107414663</th>\n",
       "      <td>S716</td>\n",
       "      <td>2021-12-27</td>\n",
       "      <td>0.0</td>\n",
       "      <td>2021</td>\n",
       "      <td>HQ</td>\n",
       "    </tr>\n",
       "    <tr>\n",
       "      <th>107414664</th>\n",
       "      <td>S716</td>\n",
       "      <td>2021-12-28</td>\n",
       "      <td>0.0</td>\n",
       "      <td>2021</td>\n",
       "      <td>HQ</td>\n",
       "    </tr>\n",
       "    <tr>\n",
       "      <th>107414665</th>\n",
       "      <td>S716</td>\n",
       "      <td>2021-12-29</td>\n",
       "      <td>0.0</td>\n",
       "      <td>2021</td>\n",
       "      <td>HQ</td>\n",
       "    </tr>\n",
       "    <tr>\n",
       "      <th>107414666</th>\n",
       "      <td>S716</td>\n",
       "      <td>2021-12-30</td>\n",
       "      <td>4.4</td>\n",
       "      <td>2021</td>\n",
       "      <td>HQ</td>\n",
       "    </tr>\n",
       "    <tr>\n",
       "      <th>107414667</th>\n",
       "      <td>S716</td>\n",
       "      <td>2021-12-31</td>\n",
       "      <td>3.2</td>\n",
       "      <td>2021</td>\n",
       "      <td>HQ</td>\n",
       "    </tr>\n",
       "  </tbody>\n",
       "</table>\n",
       "<p>107414668 rows × 5 columns</p>\n",
       "</div>"
      ],
      "text/plain": [
       "          gauge_code   datetime  rain_mm  year final_classif\n",
       "0           00047000 1962-01-01      0.0  1962            HQ\n",
       "1           00047000 1962-01-02      0.0  1962            HQ\n",
       "2           00047000 1962-01-03      0.0  1962            HQ\n",
       "3           00047000 1962-01-04      0.0  1962            HQ\n",
       "4           00047000 1962-01-05      0.0  1962            HQ\n",
       "...              ...        ...      ...   ...           ...\n",
       "107414663       S716 2021-12-27      0.0  2021            HQ\n",
       "107414664       S716 2021-12-28      0.0  2021            HQ\n",
       "107414665       S716 2021-12-29      0.0  2021            HQ\n",
       "107414666       S716 2021-12-30      4.4  2021            HQ\n",
       "107414667       S716 2021-12-31      3.2  2021            HQ\n",
       "\n",
       "[107414668 rows x 5 columns]"
      ]
     },
     "execution_count": 5,
     "metadata": {},
     "output_type": "execute_result"
    }
   ],
   "source": [
    "df_data = pd.read_hdf(filepath, key='table_data').reset_index(drop = True)\n",
    "df_data"
   ]
  },
  {
   "cell_type": "code",
   "execution_count": 6,
   "id": "16eb0bd0",
   "metadata": {},
   "outputs": [
    {
     "data": {
      "application/vnd.microsoft.datawrangler.viewer.v0+json": {
       "columns": [
        {
         "name": "index",
         "rawType": "int64",
         "type": "integer"
        },
        {
         "name": "gauge_code",
         "rawType": "object",
         "type": "string"
        },
        {
         "name": "datetime",
         "rawType": "datetime64[ns]",
         "type": "datetime"
        },
        {
         "name": "interpolated_rain_mm",
         "rawType": "float64",
         "type": "float"
        },
        {
         "name": "rain_mm",
         "rawType": "float64",
         "type": "float"
        }
       ],
       "conversionMethod": "pd.DataFrame",
       "ref": "e6b4b0db-d919-4980-a63b-dbed3349e5c1",
       "rows": [
        [
         "0",
         "00048000",
         "1961-01-01 00:00:00",
         "0.0",
         "0.0"
        ],
        [
         "1",
         "02150059",
         "1961-01-01 00:00:00",
         "2.5",
         "1.0"
        ],
        [
         "2",
         "02150061",
         "1961-01-01 00:00:00",
         "10.2",
         "0.0"
        ],
        [
         "3",
         "01744010",
         "1961-01-01 00:00:00",
         "6.8",
         "12.4"
        ],
        [
         "4",
         "02554001",
         "1961-01-01 00:00:00",
         "0.0",
         "0.0"
        ],
        [
         "5",
         "02150062",
         "1961-01-01 00:00:00",
         "8.9",
         "22.5"
        ],
        [
         "6",
         "01744009",
         "1961-01-01 00:00:00",
         "4.3",
         "11.4"
        ],
        [
         "7",
         "01744012",
         "1961-01-01 00:00:00",
         "8.6",
         "0.0"
        ],
        [
         "8",
         "00636013",
         "1961-01-01 00:00:00",
         "0.0",
         "0.0"
        ],
        [
         "9",
         "02554002",
         "1961-01-01 00:00:00",
         "0.0",
         "0.0"
        ],
        [
         "10",
         "01744025",
         "1961-01-01 00:00:00",
         "0.0",
         "0.0"
        ],
        [
         "11",
         "01746016",
         "1961-01-01 00:00:00",
         "75.0",
         "20.2"
        ],
        [
         "12",
         "00636018",
         "1961-01-01 00:00:00",
         "0.0",
         "0.0"
        ],
        [
         "13",
         "02150036",
         "1961-01-01 00:00:00",
         "10.0",
         "5.2"
        ],
        [
         "14",
         "02150037",
         "1961-01-01 00:00:00",
         "36.2",
         "17.8"
        ],
        [
         "15",
         "01746012",
         "1961-01-01 00:00:00",
         "50.5",
         "50.6"
        ],
        [
         "16",
         "02150038",
         "1961-01-01 00:00:00",
         "21.4",
         "40.2"
        ],
        [
         "17",
         "00737022",
         "1961-01-01 00:00:00",
         "0.0",
         "0.0"
        ],
        [
         "18",
         "01746009",
         "1961-01-01 00:00:00",
         "31.1",
         "40.2"
        ],
        [
         "19",
         "02150039",
         "1961-01-01 00:00:00",
         "31.0",
         "0.0"
        ],
        [
         "20",
         "02150058",
         "1961-01-01 00:00:00",
         "15.4",
         "3.9"
        ],
        [
         "21",
         "02852017",
         "1961-01-01 00:00:00",
         "20.3",
         "50.3"
        ],
        [
         "22",
         "00341016",
         "1961-01-01 00:00:00",
         "0.0",
         "0.0"
        ],
        [
         "23",
         "02852019",
         "1961-01-01 00:00:00",
         "8.1",
         "0.0"
        ],
        [
         "24",
         "02241023",
         "1961-01-01 00:00:00",
         "0.7",
         "0.0"
        ],
        [
         "25",
         "01739005",
         "1961-01-01 00:00:00",
         "3.1",
         "0.0"
        ],
        [
         "26",
         "02550024",
         "1961-01-01 00:00:00",
         "9.5",
         "0.0"
        ],
        [
         "27",
         "01739001",
         "1961-01-01 00:00:00",
         "6.4",
         "0.0"
        ],
        [
         "28",
         "00635044",
         "1961-01-01 00:00:00",
         "0.0",
         "0.0"
        ],
        [
         "29",
         "02242003",
         "1961-01-01 00:00:00",
         "3.1",
         "2.9"
        ],
        [
         "30",
         "02242004",
         "1961-01-01 00:00:00",
         "3.5",
         "3.5"
        ],
        [
         "31",
         "01657000",
         "1961-01-01 00:00:00",
         "15.9",
         "5.2"
        ],
        [
         "32",
         "02852031",
         "1961-01-01 00:00:00",
         "27.9",
         "34.4"
        ],
        [
         "33",
         "02242015",
         "1961-01-01 00:00:00",
         "5.7",
         "0.0"
        ],
        [
         "34",
         "02550015",
         "1961-01-01 00:00:00",
         "2.7",
         "5.0"
        ],
        [
         "35",
         "02551007",
         "1961-01-01 00:00:00",
         "4.1",
         "0.0"
        ],
        [
         "36",
         "02649007",
         "1961-01-01 00:00:00",
         "39.1",
         "35.5"
        ],
        [
         "37",
         "02852027",
         "1961-01-01 00:00:00",
         "20.3",
         "59.3"
        ],
        [
         "38",
         "02151029",
         "1961-01-01 00:00:00",
         "31.0",
         "31.0"
        ],
        [
         "39",
         "00636016",
         "1961-01-01 00:00:00",
         "0.0",
         "0.0"
        ],
        [
         "40",
         "02150049",
         "1961-01-01 00:00:00",
         "3.0",
         "0.0"
        ],
        [
         "41",
         "01744014",
         "1961-01-01 00:00:00",
         "0.0",
         "0.0"
        ],
        [
         "42",
         "02150054",
         "1961-01-01 00:00:00",
         "34.6",
         "30.0"
        ],
        [
         "43",
         "02150057",
         "1961-01-01 00:00:00",
         "7.9",
         "12.0"
        ],
        [
         "44",
         "02241020",
         "1961-01-01 00:00:00",
         "0.0",
         "0.0"
        ],
        [
         "45",
         "02150040",
         "1961-01-01 00:00:00",
         "74.8",
         "41.3"
        ],
        [
         "46",
         "01746000",
         "1961-01-01 00:00:00",
         "20.1",
         "79.9"
        ],
        [
         "47",
         "02554000",
         "1961-01-01 00:00:00",
         "0.0",
         "0.0"
        ],
        [
         "48",
         "02150065",
         "1961-01-01 00:00:00",
         "9.4",
         "24.5"
        ],
        [
         "49",
         "02150067",
         "1961-01-01 00:00:00",
         "29.5",
         "20.3"
        ]
       ],
       "shape": {
        "columns": 4,
        "rows": 107414668
       }
      },
      "text/html": [
       "<div>\n",
       "<style scoped>\n",
       "    .dataframe tbody tr th:only-of-type {\n",
       "        vertical-align: middle;\n",
       "    }\n",
       "\n",
       "    .dataframe tbody tr th {\n",
       "        vertical-align: top;\n",
       "    }\n",
       "\n",
       "    .dataframe thead th {\n",
       "        text-align: right;\n",
       "    }\n",
       "</style>\n",
       "<table border=\"1\" class=\"dataframe\">\n",
       "  <thead>\n",
       "    <tr style=\"text-align: right;\">\n",
       "      <th></th>\n",
       "      <th>gauge_code</th>\n",
       "      <th>datetime</th>\n",
       "      <th>interpolated_rain_mm</th>\n",
       "      <th>rain_mm</th>\n",
       "    </tr>\n",
       "  </thead>\n",
       "  <tbody>\n",
       "    <tr>\n",
       "      <th>0</th>\n",
       "      <td>00048000</td>\n",
       "      <td>1961-01-01</td>\n",
       "      <td>0.0</td>\n",
       "      <td>0.0</td>\n",
       "    </tr>\n",
       "    <tr>\n",
       "      <th>1</th>\n",
       "      <td>02150059</td>\n",
       "      <td>1961-01-01</td>\n",
       "      <td>2.5</td>\n",
       "      <td>1.0</td>\n",
       "    </tr>\n",
       "    <tr>\n",
       "      <th>2</th>\n",
       "      <td>02150061</td>\n",
       "      <td>1961-01-01</td>\n",
       "      <td>10.2</td>\n",
       "      <td>0.0</td>\n",
       "    </tr>\n",
       "    <tr>\n",
       "      <th>3</th>\n",
       "      <td>01744010</td>\n",
       "      <td>1961-01-01</td>\n",
       "      <td>6.8</td>\n",
       "      <td>12.4</td>\n",
       "    </tr>\n",
       "    <tr>\n",
       "      <th>4</th>\n",
       "      <td>02554001</td>\n",
       "      <td>1961-01-01</td>\n",
       "      <td>0.0</td>\n",
       "      <td>0.0</td>\n",
       "    </tr>\n",
       "    <tr>\n",
       "      <th>...</th>\n",
       "      <td>...</td>\n",
       "      <td>...</td>\n",
       "      <td>...</td>\n",
       "      <td>...</td>\n",
       "    </tr>\n",
       "    <tr>\n",
       "      <th>4624</th>\n",
       "      <td>A563</td>\n",
       "      <td>2024-12-31</td>\n",
       "      <td>15.9</td>\n",
       "      <td>7.8</td>\n",
       "    </tr>\n",
       "    <tr>\n",
       "      <th>4625</th>\n",
       "      <td>75900000</td>\n",
       "      <td>2024-12-31</td>\n",
       "      <td>0.0</td>\n",
       "      <td>0.0</td>\n",
       "    </tr>\n",
       "    <tr>\n",
       "      <th>4626</th>\n",
       "      <td>14530000</td>\n",
       "      <td>2024-12-31</td>\n",
       "      <td>0.0</td>\n",
       "      <td>0.0</td>\n",
       "    </tr>\n",
       "    <tr>\n",
       "      <th>4627</th>\n",
       "      <td>314530701A</td>\n",
       "      <td>2024-12-31</td>\n",
       "      <td>1.1</td>\n",
       "      <td>1.6</td>\n",
       "    </tr>\n",
       "    <tr>\n",
       "      <th>4628</th>\n",
       "      <td>66420000</td>\n",
       "      <td>2024-12-31</td>\n",
       "      <td>0.2</td>\n",
       "      <td>0.2</td>\n",
       "    </tr>\n",
       "  </tbody>\n",
       "</table>\n",
       "<p>107414668 rows × 4 columns</p>\n",
       "</div>"
      ],
      "text/plain": [
       "      gauge_code   datetime  interpolated_rain_mm  rain_mm\n",
       "0       00048000 1961-01-01                   0.0      0.0\n",
       "1       02150059 1961-01-01                   2.5      1.0\n",
       "2       02150061 1961-01-01                  10.2      0.0\n",
       "3       01744010 1961-01-01                   6.8     12.4\n",
       "4       02554001 1961-01-01                   0.0      0.0\n",
       "...          ...        ...                   ...      ...\n",
       "4624        A563 2024-12-31                  15.9      7.8\n",
       "4625    75900000 2024-12-31                   0.0      0.0\n",
       "4626    14530000 2024-12-31                   0.0      0.0\n",
       "4627  314530701A 2024-12-31                   1.1      1.6\n",
       "4628    66420000 2024-12-31                   0.2      0.2\n",
       "\n",
       "[107414668 rows x 4 columns]"
      ]
     },
     "execution_count": 6,
     "metadata": {},
     "output_type": "execute_result"
    }
   ],
   "source": [
    "df_cv = pd.read_hdf(filepath, key='table_crossvalidation')\n",
    "df_cv"
   ]
  },
  {
   "cell_type": "code",
   "execution_count": 7,
   "id": "db7eed04",
   "metadata": {},
   "outputs": [
    {
     "data": {
      "application/vnd.microsoft.datawrangler.viewer.v0+json": {
       "columns": [
        {
         "name": "index",
         "rawType": "int64",
         "type": "integer"
        },
        {
         "name": "lat",
         "rawType": "float64",
         "type": "float"
        },
        {
         "name": "long",
         "rawType": "float64",
         "type": "float"
        }
       ],
       "conversionMethod": "pd.DataFrame",
       "ref": "3d3fd286-0671-47ea-b48d-65652976c4a6",
       "rows": [
        [
         "0",
         "-33.65",
         "-53.45"
        ],
        [
         "1",
         "-33.65",
         "-53.35"
        ],
        [
         "2",
         "-33.65",
         "-53.25"
        ],
        [
         "3",
         "-33.55",
         "-53.45"
        ],
        [
         "4",
         "-33.55",
         "-53.35"
        ],
        [
         "5",
         "-33.55",
         "-53.25"
        ],
        [
         "6",
         "-33.55",
         "-53.15"
        ],
        [
         "7",
         "-33.45",
         "-53.35"
        ],
        [
         "8",
         "-33.45",
         "-53.25"
        ],
        [
         "9",
         "-33.45",
         "-53.15"
        ],
        [
         "10",
         "-33.45",
         "-53.05"
        ],
        [
         "11",
         "-33.35",
         "-53.35"
        ],
        [
         "12",
         "-33.35",
         "-53.25"
        ],
        [
         "13",
         "-33.35",
         "-53.15"
        ],
        [
         "14",
         "-33.35",
         "-53.05"
        ],
        [
         "15",
         "-33.35",
         "-52.95"
        ],
        [
         "16",
         "-33.25",
         "-53.45"
        ],
        [
         "17",
         "-33.25",
         "-53.35"
        ],
        [
         "18",
         "-33.25",
         "-53.25"
        ],
        [
         "19",
         "-33.25",
         "-53.15"
        ],
        [
         "20",
         "-33.25",
         "-53.05"
        ],
        [
         "21",
         "-33.25",
         "-52.95"
        ],
        [
         "22",
         "-33.25",
         "-52.85"
        ],
        [
         "23",
         "-33.25",
         "-52.75"
        ],
        [
         "24",
         "-33.15",
         "-53.35"
        ],
        [
         "25",
         "-33.15",
         "-53.25"
        ],
        [
         "26",
         "-33.15",
         "-53.15"
        ],
        [
         "27",
         "-33.15",
         "-53.05"
        ],
        [
         "28",
         "-33.15",
         "-52.95"
        ],
        [
         "29",
         "-33.15",
         "-52.85"
        ],
        [
         "30",
         "-33.15",
         "-52.75"
        ],
        [
         "31",
         "-33.05",
         "-53.15"
        ],
        [
         "32",
         "-33.05",
         "-53.05"
        ],
        [
         "33",
         "-33.05",
         "-52.95"
        ],
        [
         "34",
         "-33.05",
         "-52.85"
        ],
        [
         "35",
         "-33.05",
         "-52.75"
        ],
        [
         "36",
         "-33.05",
         "-52.65"
        ],
        [
         "37",
         "-32.95",
         "-53.15"
        ],
        [
         "38",
         "-32.95",
         "-53.05"
        ],
        [
         "39",
         "-32.95",
         "-52.95"
        ],
        [
         "40",
         "-32.95",
         "-52.85"
        ],
        [
         "41",
         "-32.95",
         "-52.75"
        ],
        [
         "42",
         "-32.95",
         "-52.65"
        ],
        [
         "43",
         "-32.95",
         "-52.55"
        ],
        [
         "44",
         "-32.85",
         "-53.15"
        ],
        [
         "45",
         "-32.85",
         "-53.05"
        ],
        [
         "46",
         "-32.85",
         "-52.65"
        ],
        [
         "47",
         "-32.85",
         "-52.55"
        ],
        [
         "48",
         "-32.75",
         "-52.65"
        ],
        [
         "49",
         "-32.75",
         "-52.55"
        ]
       ],
       "shape": {
        "columns": 2,
        "rows": 169216
       }
      },
      "text/html": [
       "<div>\n",
       "<style scoped>\n",
       "    .dataframe tbody tr th:only-of-type {\n",
       "        vertical-align: middle;\n",
       "    }\n",
       "\n",
       "    .dataframe tbody tr th {\n",
       "        vertical-align: top;\n",
       "    }\n",
       "\n",
       "    .dataframe thead th {\n",
       "        text-align: right;\n",
       "    }\n",
       "</style>\n",
       "<table border=\"1\" class=\"dataframe\">\n",
       "  <thead>\n",
       "    <tr style=\"text-align: right;\">\n",
       "      <th></th>\n",
       "      <th>lat</th>\n",
       "      <th>long</th>\n",
       "    </tr>\n",
       "  </thead>\n",
       "  <tbody>\n",
       "    <tr>\n",
       "      <th>0</th>\n",
       "      <td>-33.65</td>\n",
       "      <td>-53.45</td>\n",
       "    </tr>\n",
       "    <tr>\n",
       "      <th>1</th>\n",
       "      <td>-33.65</td>\n",
       "      <td>-53.35</td>\n",
       "    </tr>\n",
       "    <tr>\n",
       "      <th>2</th>\n",
       "      <td>-33.65</td>\n",
       "      <td>-53.25</td>\n",
       "    </tr>\n",
       "    <tr>\n",
       "      <th>3</th>\n",
       "      <td>-33.55</td>\n",
       "      <td>-53.45</td>\n",
       "    </tr>\n",
       "    <tr>\n",
       "      <th>4</th>\n",
       "      <td>-33.55</td>\n",
       "      <td>-53.35</td>\n",
       "    </tr>\n",
       "    <tr>\n",
       "      <th>...</th>\n",
       "      <td>...</td>\n",
       "      <td>...</td>\n",
       "    </tr>\n",
       "    <tr>\n",
       "      <th>169211</th>\n",
       "      <td>5.05</td>\n",
       "      <td>-60.05</td>\n",
       "    </tr>\n",
       "    <tr>\n",
       "      <th>169212</th>\n",
       "      <td>5.15</td>\n",
       "      <td>-60.05</td>\n",
       "    </tr>\n",
       "    <tr>\n",
       "      <th>169213</th>\n",
       "      <td>5.35</td>\n",
       "      <td>-60.15</td>\n",
       "    </tr>\n",
       "    <tr>\n",
       "      <th>169214</th>\n",
       "      <td>5.35</td>\n",
       "      <td>-60.35</td>\n",
       "    </tr>\n",
       "    <tr>\n",
       "      <th>169215</th>\n",
       "      <td>5.35</td>\n",
       "      <td>-60.25</td>\n",
       "    </tr>\n",
       "  </tbody>\n",
       "</table>\n",
       "<p>169216 rows × 2 columns</p>\n",
       "</div>"
      ],
      "text/plain": [
       "          lat   long\n",
       "0      -33.65 -53.45\n",
       "1      -33.65 -53.35\n",
       "2      -33.65 -53.25\n",
       "3      -33.55 -53.45\n",
       "4      -33.55 -53.35\n",
       "...       ...    ...\n",
       "169211   5.05 -60.05\n",
       "169212   5.15 -60.05\n",
       "169213   5.35 -60.15\n",
       "169214   5.35 -60.35\n",
       "169215   5.35 -60.25\n",
       "\n",
       "[169216 rows x 2 columns]"
      ]
     },
     "execution_count": 7,
     "metadata": {},
     "output_type": "execute_result"
    }
   ],
   "source": [
    "df_grid = pd.read_hdf(filepath, key='table_grid')\n",
    "df_grid"
   ]
  }
 ],
 "metadata": {
  "kernelspec": {
   "display_name": "base",
   "language": "python",
   "name": "python3"
  },
  "language_info": {
   "codemirror_mode": {
    "name": "ipython",
    "version": 3
   },
   "file_extension": ".py",
   "mimetype": "text/x-python",
   "name": "python",
   "nbconvert_exporter": "python",
   "pygments_lexer": "ipython3",
   "version": "3.11.10"
  }
 },
 "nbformat": 4,
 "nbformat_minor": 5
}
